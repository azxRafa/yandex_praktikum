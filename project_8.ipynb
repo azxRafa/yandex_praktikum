{
 "cells": [
  {
   "cell_type": "markdown",
   "metadata": {},
   "source": [
    "# Выбор локации для скважины"
   ]
  },
  {
   "cell_type": "markdown",
   "metadata": {},
   "source": [
    "Допустим, вы работаете в добывающей компании «ГлавРосГосНефть». Нужно решить, где бурить новую скважину.\n",
    "\n",
    "Вам предоставлены пробы нефти в трёх регионах: в каждом 10 000 месторождений, где измерили качество нефти и объём её запасов. Постройте модель машинного обучения, которая поможет определить регион, где добыча принесёт наибольшую прибыль. Проанализируйте возможную прибыль и риски техникой *Bootstrap.*\n",
    "\n",
    "Шаги для выбора локации:\n",
    "\n",
    "- В избранном регионе ищут месторождения, для каждого определяют значения признаков;\n",
    "- Строят модель и оценивают объём запасов;\n",
    "- Выбирают месторождения с самым высокими оценками значений. Количество месторождений зависит от бюджета компании и стоимости разработки одной скважины;\n",
    "- Прибыль равна суммарной прибыли отобранных месторождений."
   ]
  },
  {
   "cell_type": "markdown",
   "metadata": {},
   "source": [
    "## Загрузка и подготовка данных"
   ]
  },
  {
   "cell_type": "code",
   "execution_count": 1,
   "metadata": {},
   "outputs": [],
   "source": [
    "import pandas as pd\n",
    "import numpy as np\n",
    "from sklearn.model_selection import train_test_split\n",
    "from sklearn.linear_model import LinearRegression\n",
    "from sklearn.metrics import mean_squared_error"
   ]
  },
  {
   "cell_type": "code",
   "execution_count": 2,
   "metadata": {},
   "outputs": [],
   "source": [
    "geo_data_0 = pd.read_csv(url)\n",
    "geo_data_1 = pd.read_csv(url)\n",
    "geo_data_2 = pd.read_csv(url)"
   ]
  },
  {
   "cell_type": "code",
   "execution_count": 3,
   "metadata": {},
   "outputs": [
    {
     "data": {
      "text/html": [
       "<div>\n",
       "<style scoped>\n",
       "    .dataframe tbody tr th:only-of-type {\n",
       "        vertical-align: middle;\n",
       "    }\n",
       "\n",
       "    .dataframe tbody tr th {\n",
       "        vertical-align: top;\n",
       "    }\n",
       "\n",
       "    .dataframe thead th {\n",
       "        text-align: right;\n",
       "    }\n",
       "</style>\n",
       "<table border=\"1\" class=\"dataframe\">\n",
       "  <thead>\n",
       "    <tr style=\"text-align: right;\">\n",
       "      <th></th>\n",
       "      <th>id</th>\n",
       "      <th>f0</th>\n",
       "      <th>f1</th>\n",
       "      <th>f2</th>\n",
       "      <th>product</th>\n",
       "    </tr>\n",
       "  </thead>\n",
       "  <tbody>\n",
       "    <tr>\n",
       "      <td>0</td>\n",
       "      <td>txEyH</td>\n",
       "      <td>0.705745</td>\n",
       "      <td>-0.497823</td>\n",
       "      <td>1.221170</td>\n",
       "      <td>105.280062</td>\n",
       "    </tr>\n",
       "    <tr>\n",
       "      <td>1</td>\n",
       "      <td>2acmU</td>\n",
       "      <td>1.334711</td>\n",
       "      <td>-0.340164</td>\n",
       "      <td>4.365080</td>\n",
       "      <td>73.037750</td>\n",
       "    </tr>\n",
       "    <tr>\n",
       "      <td>2</td>\n",
       "      <td>409Wp</td>\n",
       "      <td>1.022732</td>\n",
       "      <td>0.151990</td>\n",
       "      <td>1.419926</td>\n",
       "      <td>85.265647</td>\n",
       "    </tr>\n",
       "    <tr>\n",
       "      <td>3</td>\n",
       "      <td>iJLyR</td>\n",
       "      <td>-0.032172</td>\n",
       "      <td>0.139033</td>\n",
       "      <td>2.978566</td>\n",
       "      <td>168.620776</td>\n",
       "    </tr>\n",
       "    <tr>\n",
       "      <td>4</td>\n",
       "      <td>Xdl7t</td>\n",
       "      <td>1.988431</td>\n",
       "      <td>0.155413</td>\n",
       "      <td>4.751769</td>\n",
       "      <td>154.036647</td>\n",
       "    </tr>\n",
       "    <tr>\n",
       "      <td>...</td>\n",
       "      <td>...</td>\n",
       "      <td>...</td>\n",
       "      <td>...</td>\n",
       "      <td>...</td>\n",
       "      <td>...</td>\n",
       "    </tr>\n",
       "    <tr>\n",
       "      <td>99995</td>\n",
       "      <td>DLsed</td>\n",
       "      <td>0.971957</td>\n",
       "      <td>0.370953</td>\n",
       "      <td>6.075346</td>\n",
       "      <td>110.744026</td>\n",
       "    </tr>\n",
       "    <tr>\n",
       "      <td>99996</td>\n",
       "      <td>QKivN</td>\n",
       "      <td>1.392429</td>\n",
       "      <td>-0.382606</td>\n",
       "      <td>1.273912</td>\n",
       "      <td>122.346843</td>\n",
       "    </tr>\n",
       "    <tr>\n",
       "      <td>99997</td>\n",
       "      <td>3rnvd</td>\n",
       "      <td>1.029585</td>\n",
       "      <td>0.018787</td>\n",
       "      <td>-1.348308</td>\n",
       "      <td>64.375443</td>\n",
       "    </tr>\n",
       "    <tr>\n",
       "      <td>99998</td>\n",
       "      <td>7kl59</td>\n",
       "      <td>0.998163</td>\n",
       "      <td>-0.528582</td>\n",
       "      <td>1.583869</td>\n",
       "      <td>74.040764</td>\n",
       "    </tr>\n",
       "    <tr>\n",
       "      <td>99999</td>\n",
       "      <td>1CWhH</td>\n",
       "      <td>1.764754</td>\n",
       "      <td>-0.266417</td>\n",
       "      <td>5.722849</td>\n",
       "      <td>149.633246</td>\n",
       "    </tr>\n",
       "  </tbody>\n",
       "</table>\n",
       "<p>100000 rows × 5 columns</p>\n",
       "</div>"
      ],
      "text/plain": [
       "          id        f0        f1        f2     product\n",
       "0      txEyH  0.705745 -0.497823  1.221170  105.280062\n",
       "1      2acmU  1.334711 -0.340164  4.365080   73.037750\n",
       "2      409Wp  1.022732  0.151990  1.419926   85.265647\n",
       "3      iJLyR -0.032172  0.139033  2.978566  168.620776\n",
       "4      Xdl7t  1.988431  0.155413  4.751769  154.036647\n",
       "...      ...       ...       ...       ...         ...\n",
       "99995  DLsed  0.971957  0.370953  6.075346  110.744026\n",
       "99996  QKivN  1.392429 -0.382606  1.273912  122.346843\n",
       "99997  3rnvd  1.029585  0.018787 -1.348308   64.375443\n",
       "99998  7kl59  0.998163 -0.528582  1.583869   74.040764\n",
       "99999  1CWhH  1.764754 -0.266417  5.722849  149.633246\n",
       "\n",
       "[100000 rows x 5 columns]"
      ]
     },
     "execution_count": 3,
     "metadata": {},
     "output_type": "execute_result"
    }
   ],
   "source": [
    "geo_data_0"
   ]
  },
  {
   "cell_type": "code",
   "execution_count": 4,
   "metadata": {},
   "outputs": [
    {
     "name": "stdout",
     "output_type": "stream",
     "text": [
      "<class 'pandas.core.frame.DataFrame'>\n",
      "RangeIndex: 100000 entries, 0 to 99999\n",
      "Data columns (total 5 columns):\n",
      "id         100000 non-null object\n",
      "f0         100000 non-null float64\n",
      "f1         100000 non-null float64\n",
      "f2         100000 non-null float64\n",
      "product    100000 non-null float64\n",
      "dtypes: float64(4), object(1)\n",
      "memory usage: 3.8+ MB\n"
     ]
    }
   ],
   "source": [
    "geo_data_0.info()"
   ]
  },
  {
   "cell_type": "code",
   "execution_count": 5,
   "metadata": {},
   "outputs": [
    {
     "data": {
      "text/html": [
       "<div>\n",
       "<style scoped>\n",
       "    .dataframe tbody tr th:only-of-type {\n",
       "        vertical-align: middle;\n",
       "    }\n",
       "\n",
       "    .dataframe tbody tr th {\n",
       "        vertical-align: top;\n",
       "    }\n",
       "\n",
       "    .dataframe thead th {\n",
       "        text-align: right;\n",
       "    }\n",
       "</style>\n",
       "<table border=\"1\" class=\"dataframe\">\n",
       "  <thead>\n",
       "    <tr style=\"text-align: right;\">\n",
       "      <th></th>\n",
       "      <th>f0</th>\n",
       "      <th>f1</th>\n",
       "      <th>f2</th>\n",
       "      <th>product</th>\n",
       "    </tr>\n",
       "  </thead>\n",
       "  <tbody>\n",
       "    <tr>\n",
       "      <td>count</td>\n",
       "      <td>100000.000000</td>\n",
       "      <td>100000.000000</td>\n",
       "      <td>100000.000000</td>\n",
       "      <td>100000.000000</td>\n",
       "    </tr>\n",
       "    <tr>\n",
       "      <td>mean</td>\n",
       "      <td>0.500419</td>\n",
       "      <td>0.250143</td>\n",
       "      <td>2.502647</td>\n",
       "      <td>92.500000</td>\n",
       "    </tr>\n",
       "    <tr>\n",
       "      <td>std</td>\n",
       "      <td>0.871832</td>\n",
       "      <td>0.504433</td>\n",
       "      <td>3.248248</td>\n",
       "      <td>44.288691</td>\n",
       "    </tr>\n",
       "    <tr>\n",
       "      <td>min</td>\n",
       "      <td>-1.408605</td>\n",
       "      <td>-0.848218</td>\n",
       "      <td>-12.088328</td>\n",
       "      <td>0.000000</td>\n",
       "    </tr>\n",
       "    <tr>\n",
       "      <td>25%</td>\n",
       "      <td>-0.072580</td>\n",
       "      <td>-0.200881</td>\n",
       "      <td>0.287748</td>\n",
       "      <td>56.497507</td>\n",
       "    </tr>\n",
       "    <tr>\n",
       "      <td>50%</td>\n",
       "      <td>0.502360</td>\n",
       "      <td>0.250252</td>\n",
       "      <td>2.515969</td>\n",
       "      <td>91.849972</td>\n",
       "    </tr>\n",
       "    <tr>\n",
       "      <td>75%</td>\n",
       "      <td>1.073581</td>\n",
       "      <td>0.700646</td>\n",
       "      <td>4.715088</td>\n",
       "      <td>128.564089</td>\n",
       "    </tr>\n",
       "    <tr>\n",
       "      <td>max</td>\n",
       "      <td>2.362331</td>\n",
       "      <td>1.343769</td>\n",
       "      <td>16.003790</td>\n",
       "      <td>185.364347</td>\n",
       "    </tr>\n",
       "  </tbody>\n",
       "</table>\n",
       "</div>"
      ],
      "text/plain": [
       "                  f0             f1             f2        product\n",
       "count  100000.000000  100000.000000  100000.000000  100000.000000\n",
       "mean        0.500419       0.250143       2.502647      92.500000\n",
       "std         0.871832       0.504433       3.248248      44.288691\n",
       "min        -1.408605      -0.848218     -12.088328       0.000000\n",
       "25%        -0.072580      -0.200881       0.287748      56.497507\n",
       "50%         0.502360       0.250252       2.515969      91.849972\n",
       "75%         1.073581       0.700646       4.715088     128.564089\n",
       "max         2.362331       1.343769      16.003790     185.364347"
      ]
     },
     "execution_count": 5,
     "metadata": {},
     "output_type": "execute_result"
    }
   ],
   "source": [
    "geo_data_0.describe()"
   ]
  },
  {
   "cell_type": "code",
   "execution_count": 6,
   "metadata": {},
   "outputs": [
    {
     "data": {
      "text/html": [
       "<div>\n",
       "<style scoped>\n",
       "    .dataframe tbody tr th:only-of-type {\n",
       "        vertical-align: middle;\n",
       "    }\n",
       "\n",
       "    .dataframe tbody tr th {\n",
       "        vertical-align: top;\n",
       "    }\n",
       "\n",
       "    .dataframe thead th {\n",
       "        text-align: right;\n",
       "    }\n",
       "</style>\n",
       "<table border=\"1\" class=\"dataframe\">\n",
       "  <thead>\n",
       "    <tr style=\"text-align: right;\">\n",
       "      <th></th>\n",
       "      <th>id</th>\n",
       "      <th>f0</th>\n",
       "      <th>f1</th>\n",
       "      <th>f2</th>\n",
       "      <th>product</th>\n",
       "    </tr>\n",
       "  </thead>\n",
       "  <tbody>\n",
       "    <tr>\n",
       "      <td>0</td>\n",
       "      <td>kBEdx</td>\n",
       "      <td>-15.001348</td>\n",
       "      <td>-8.276000</td>\n",
       "      <td>-0.005876</td>\n",
       "      <td>3.179103</td>\n",
       "    </tr>\n",
       "    <tr>\n",
       "      <td>1</td>\n",
       "      <td>62mP7</td>\n",
       "      <td>14.272088</td>\n",
       "      <td>-3.475083</td>\n",
       "      <td>0.999183</td>\n",
       "      <td>26.953261</td>\n",
       "    </tr>\n",
       "    <tr>\n",
       "      <td>2</td>\n",
       "      <td>vyE1P</td>\n",
       "      <td>6.263187</td>\n",
       "      <td>-5.948386</td>\n",
       "      <td>5.001160</td>\n",
       "      <td>134.766305</td>\n",
       "    </tr>\n",
       "    <tr>\n",
       "      <td>3</td>\n",
       "      <td>KcrkZ</td>\n",
       "      <td>-13.081196</td>\n",
       "      <td>-11.506057</td>\n",
       "      <td>4.999415</td>\n",
       "      <td>137.945408</td>\n",
       "    </tr>\n",
       "    <tr>\n",
       "      <td>4</td>\n",
       "      <td>AHL4O</td>\n",
       "      <td>12.702195</td>\n",
       "      <td>-8.147433</td>\n",
       "      <td>5.004363</td>\n",
       "      <td>134.766305</td>\n",
       "    </tr>\n",
       "    <tr>\n",
       "      <td>...</td>\n",
       "      <td>...</td>\n",
       "      <td>...</td>\n",
       "      <td>...</td>\n",
       "      <td>...</td>\n",
       "      <td>...</td>\n",
       "    </tr>\n",
       "    <tr>\n",
       "      <td>99995</td>\n",
       "      <td>QywKC</td>\n",
       "      <td>9.535637</td>\n",
       "      <td>-6.878139</td>\n",
       "      <td>1.998296</td>\n",
       "      <td>53.906522</td>\n",
       "    </tr>\n",
       "    <tr>\n",
       "      <td>99996</td>\n",
       "      <td>ptvty</td>\n",
       "      <td>-10.160631</td>\n",
       "      <td>-12.558096</td>\n",
       "      <td>5.005581</td>\n",
       "      <td>137.945408</td>\n",
       "    </tr>\n",
       "    <tr>\n",
       "      <td>99997</td>\n",
       "      <td>09gWa</td>\n",
       "      <td>-7.378891</td>\n",
       "      <td>-3.084104</td>\n",
       "      <td>4.998651</td>\n",
       "      <td>137.945408</td>\n",
       "    </tr>\n",
       "    <tr>\n",
       "      <td>99998</td>\n",
       "      <td>rqwUm</td>\n",
       "      <td>0.665714</td>\n",
       "      <td>-6.152593</td>\n",
       "      <td>1.000146</td>\n",
       "      <td>30.132364</td>\n",
       "    </tr>\n",
       "    <tr>\n",
       "      <td>99999</td>\n",
       "      <td>relB0</td>\n",
       "      <td>-3.426139</td>\n",
       "      <td>-7.794274</td>\n",
       "      <td>-0.003299</td>\n",
       "      <td>3.179103</td>\n",
       "    </tr>\n",
       "  </tbody>\n",
       "</table>\n",
       "<p>100000 rows × 5 columns</p>\n",
       "</div>"
      ],
      "text/plain": [
       "          id         f0         f1        f2     product\n",
       "0      kBEdx -15.001348  -8.276000 -0.005876    3.179103\n",
       "1      62mP7  14.272088  -3.475083  0.999183   26.953261\n",
       "2      vyE1P   6.263187  -5.948386  5.001160  134.766305\n",
       "3      KcrkZ -13.081196 -11.506057  4.999415  137.945408\n",
       "4      AHL4O  12.702195  -8.147433  5.004363  134.766305\n",
       "...      ...        ...        ...       ...         ...\n",
       "99995  QywKC   9.535637  -6.878139  1.998296   53.906522\n",
       "99996  ptvty -10.160631 -12.558096  5.005581  137.945408\n",
       "99997  09gWa  -7.378891  -3.084104  4.998651  137.945408\n",
       "99998  rqwUm   0.665714  -6.152593  1.000146   30.132364\n",
       "99999  relB0  -3.426139  -7.794274 -0.003299    3.179103\n",
       "\n",
       "[100000 rows x 5 columns]"
      ]
     },
     "execution_count": 6,
     "metadata": {},
     "output_type": "execute_result"
    }
   ],
   "source": [
    "geo_data_1"
   ]
  },
  {
   "cell_type": "code",
   "execution_count": 7,
   "metadata": {},
   "outputs": [
    {
     "name": "stdout",
     "output_type": "stream",
     "text": [
      "<class 'pandas.core.frame.DataFrame'>\n",
      "RangeIndex: 100000 entries, 0 to 99999\n",
      "Data columns (total 5 columns):\n",
      "id         100000 non-null object\n",
      "f0         100000 non-null float64\n",
      "f1         100000 non-null float64\n",
      "f2         100000 non-null float64\n",
      "product    100000 non-null float64\n",
      "dtypes: float64(4), object(1)\n",
      "memory usage: 3.8+ MB\n"
     ]
    }
   ],
   "source": [
    "geo_data_1.info()"
   ]
  },
  {
   "cell_type": "code",
   "execution_count": 8,
   "metadata": {},
   "outputs": [
    {
     "data": {
      "text/html": [
       "<div>\n",
       "<style scoped>\n",
       "    .dataframe tbody tr th:only-of-type {\n",
       "        vertical-align: middle;\n",
       "    }\n",
       "\n",
       "    .dataframe tbody tr th {\n",
       "        vertical-align: top;\n",
       "    }\n",
       "\n",
       "    .dataframe thead th {\n",
       "        text-align: right;\n",
       "    }\n",
       "</style>\n",
       "<table border=\"1\" class=\"dataframe\">\n",
       "  <thead>\n",
       "    <tr style=\"text-align: right;\">\n",
       "      <th></th>\n",
       "      <th>f0</th>\n",
       "      <th>f1</th>\n",
       "      <th>f2</th>\n",
       "      <th>product</th>\n",
       "    </tr>\n",
       "  </thead>\n",
       "  <tbody>\n",
       "    <tr>\n",
       "      <td>count</td>\n",
       "      <td>100000.000000</td>\n",
       "      <td>100000.000000</td>\n",
       "      <td>100000.000000</td>\n",
       "      <td>100000.000000</td>\n",
       "    </tr>\n",
       "    <tr>\n",
       "      <td>mean</td>\n",
       "      <td>1.141296</td>\n",
       "      <td>-4.796579</td>\n",
       "      <td>2.494541</td>\n",
       "      <td>68.825000</td>\n",
       "    </tr>\n",
       "    <tr>\n",
       "      <td>std</td>\n",
       "      <td>8.965932</td>\n",
       "      <td>5.119872</td>\n",
       "      <td>1.703572</td>\n",
       "      <td>45.944423</td>\n",
       "    </tr>\n",
       "    <tr>\n",
       "      <td>min</td>\n",
       "      <td>-31.609576</td>\n",
       "      <td>-26.358598</td>\n",
       "      <td>-0.018144</td>\n",
       "      <td>0.000000</td>\n",
       "    </tr>\n",
       "    <tr>\n",
       "      <td>25%</td>\n",
       "      <td>-6.298551</td>\n",
       "      <td>-8.267985</td>\n",
       "      <td>1.000021</td>\n",
       "      <td>26.953261</td>\n",
       "    </tr>\n",
       "    <tr>\n",
       "      <td>50%</td>\n",
       "      <td>1.153055</td>\n",
       "      <td>-4.813172</td>\n",
       "      <td>2.011479</td>\n",
       "      <td>57.085625</td>\n",
       "    </tr>\n",
       "    <tr>\n",
       "      <td>75%</td>\n",
       "      <td>8.621015</td>\n",
       "      <td>-1.332816</td>\n",
       "      <td>3.999904</td>\n",
       "      <td>107.813044</td>\n",
       "    </tr>\n",
       "    <tr>\n",
       "      <td>max</td>\n",
       "      <td>29.421755</td>\n",
       "      <td>18.734063</td>\n",
       "      <td>5.019721</td>\n",
       "      <td>137.945408</td>\n",
       "    </tr>\n",
       "  </tbody>\n",
       "</table>\n",
       "</div>"
      ],
      "text/plain": [
       "                  f0             f1             f2        product\n",
       "count  100000.000000  100000.000000  100000.000000  100000.000000\n",
       "mean        1.141296      -4.796579       2.494541      68.825000\n",
       "std         8.965932       5.119872       1.703572      45.944423\n",
       "min       -31.609576     -26.358598      -0.018144       0.000000\n",
       "25%        -6.298551      -8.267985       1.000021      26.953261\n",
       "50%         1.153055      -4.813172       2.011479      57.085625\n",
       "75%         8.621015      -1.332816       3.999904     107.813044\n",
       "max        29.421755      18.734063       5.019721     137.945408"
      ]
     },
     "execution_count": 8,
     "metadata": {},
     "output_type": "execute_result"
    }
   ],
   "source": [
    "geo_data_1.describe()"
   ]
  },
  {
   "cell_type": "code",
   "execution_count": 9,
   "metadata": {},
   "outputs": [
    {
     "data": {
      "text/html": [
       "<div>\n",
       "<style scoped>\n",
       "    .dataframe tbody tr th:only-of-type {\n",
       "        vertical-align: middle;\n",
       "    }\n",
       "\n",
       "    .dataframe tbody tr th {\n",
       "        vertical-align: top;\n",
       "    }\n",
       "\n",
       "    .dataframe thead th {\n",
       "        text-align: right;\n",
       "    }\n",
       "</style>\n",
       "<table border=\"1\" class=\"dataframe\">\n",
       "  <thead>\n",
       "    <tr style=\"text-align: right;\">\n",
       "      <th></th>\n",
       "      <th>id</th>\n",
       "      <th>f0</th>\n",
       "      <th>f1</th>\n",
       "      <th>f2</th>\n",
       "      <th>product</th>\n",
       "    </tr>\n",
       "  </thead>\n",
       "  <tbody>\n",
       "    <tr>\n",
       "      <td>0</td>\n",
       "      <td>fwXo0</td>\n",
       "      <td>-1.146987</td>\n",
       "      <td>0.963328</td>\n",
       "      <td>-0.828965</td>\n",
       "      <td>27.758673</td>\n",
       "    </tr>\n",
       "    <tr>\n",
       "      <td>1</td>\n",
       "      <td>WJtFt</td>\n",
       "      <td>0.262778</td>\n",
       "      <td>0.269839</td>\n",
       "      <td>-2.530187</td>\n",
       "      <td>56.069697</td>\n",
       "    </tr>\n",
       "    <tr>\n",
       "      <td>2</td>\n",
       "      <td>ovLUW</td>\n",
       "      <td>0.194587</td>\n",
       "      <td>0.289035</td>\n",
       "      <td>-5.586433</td>\n",
       "      <td>62.871910</td>\n",
       "    </tr>\n",
       "    <tr>\n",
       "      <td>3</td>\n",
       "      <td>q6cA6</td>\n",
       "      <td>2.236060</td>\n",
       "      <td>-0.553760</td>\n",
       "      <td>0.930038</td>\n",
       "      <td>114.572842</td>\n",
       "    </tr>\n",
       "    <tr>\n",
       "      <td>4</td>\n",
       "      <td>WPMUX</td>\n",
       "      <td>-0.515993</td>\n",
       "      <td>1.716266</td>\n",
       "      <td>5.899011</td>\n",
       "      <td>149.600746</td>\n",
       "    </tr>\n",
       "    <tr>\n",
       "      <td>...</td>\n",
       "      <td>...</td>\n",
       "      <td>...</td>\n",
       "      <td>...</td>\n",
       "      <td>...</td>\n",
       "      <td>...</td>\n",
       "    </tr>\n",
       "    <tr>\n",
       "      <td>99995</td>\n",
       "      <td>4GxBu</td>\n",
       "      <td>-1.777037</td>\n",
       "      <td>1.125220</td>\n",
       "      <td>6.263374</td>\n",
       "      <td>172.327046</td>\n",
       "    </tr>\n",
       "    <tr>\n",
       "      <td>99996</td>\n",
       "      <td>YKFjq</td>\n",
       "      <td>-1.261523</td>\n",
       "      <td>-0.894828</td>\n",
       "      <td>2.524545</td>\n",
       "      <td>138.748846</td>\n",
       "    </tr>\n",
       "    <tr>\n",
       "      <td>99997</td>\n",
       "      <td>tKPY3</td>\n",
       "      <td>-1.199934</td>\n",
       "      <td>-2.957637</td>\n",
       "      <td>5.219411</td>\n",
       "      <td>157.080080</td>\n",
       "    </tr>\n",
       "    <tr>\n",
       "      <td>99998</td>\n",
       "      <td>nmxp2</td>\n",
       "      <td>-2.419896</td>\n",
       "      <td>2.417221</td>\n",
       "      <td>-5.548444</td>\n",
       "      <td>51.795253</td>\n",
       "    </tr>\n",
       "    <tr>\n",
       "      <td>99999</td>\n",
       "      <td>V9kWn</td>\n",
       "      <td>-2.551421</td>\n",
       "      <td>-2.025625</td>\n",
       "      <td>6.090891</td>\n",
       "      <td>102.775767</td>\n",
       "    </tr>\n",
       "  </tbody>\n",
       "</table>\n",
       "<p>100000 rows × 5 columns</p>\n",
       "</div>"
      ],
      "text/plain": [
       "          id        f0        f1        f2     product\n",
       "0      fwXo0 -1.146987  0.963328 -0.828965   27.758673\n",
       "1      WJtFt  0.262778  0.269839 -2.530187   56.069697\n",
       "2      ovLUW  0.194587  0.289035 -5.586433   62.871910\n",
       "3      q6cA6  2.236060 -0.553760  0.930038  114.572842\n",
       "4      WPMUX -0.515993  1.716266  5.899011  149.600746\n",
       "...      ...       ...       ...       ...         ...\n",
       "99995  4GxBu -1.777037  1.125220  6.263374  172.327046\n",
       "99996  YKFjq -1.261523 -0.894828  2.524545  138.748846\n",
       "99997  tKPY3 -1.199934 -2.957637  5.219411  157.080080\n",
       "99998  nmxp2 -2.419896  2.417221 -5.548444   51.795253\n",
       "99999  V9kWn -2.551421 -2.025625  6.090891  102.775767\n",
       "\n",
       "[100000 rows x 5 columns]"
      ]
     },
     "execution_count": 9,
     "metadata": {},
     "output_type": "execute_result"
    }
   ],
   "source": [
    "geo_data_2"
   ]
  },
  {
   "cell_type": "code",
   "execution_count": 10,
   "metadata": {},
   "outputs": [
    {
     "name": "stdout",
     "output_type": "stream",
     "text": [
      "<class 'pandas.core.frame.DataFrame'>\n",
      "RangeIndex: 100000 entries, 0 to 99999\n",
      "Data columns (total 5 columns):\n",
      "id         100000 non-null object\n",
      "f0         100000 non-null float64\n",
      "f1         100000 non-null float64\n",
      "f2         100000 non-null float64\n",
      "product    100000 non-null float64\n",
      "dtypes: float64(4), object(1)\n",
      "memory usage: 3.8+ MB\n"
     ]
    }
   ],
   "source": [
    "geo_data_2.info()"
   ]
  },
  {
   "cell_type": "code",
   "execution_count": 11,
   "metadata": {},
   "outputs": [
    {
     "data": {
      "text/html": [
       "<div>\n",
       "<style scoped>\n",
       "    .dataframe tbody tr th:only-of-type {\n",
       "        vertical-align: middle;\n",
       "    }\n",
       "\n",
       "    .dataframe tbody tr th {\n",
       "        vertical-align: top;\n",
       "    }\n",
       "\n",
       "    .dataframe thead th {\n",
       "        text-align: right;\n",
       "    }\n",
       "</style>\n",
       "<table border=\"1\" class=\"dataframe\">\n",
       "  <thead>\n",
       "    <tr style=\"text-align: right;\">\n",
       "      <th></th>\n",
       "      <th>f0</th>\n",
       "      <th>f1</th>\n",
       "      <th>f2</th>\n",
       "      <th>product</th>\n",
       "    </tr>\n",
       "  </thead>\n",
       "  <tbody>\n",
       "    <tr>\n",
       "      <td>count</td>\n",
       "      <td>100000.000000</td>\n",
       "      <td>100000.000000</td>\n",
       "      <td>100000.000000</td>\n",
       "      <td>100000.000000</td>\n",
       "    </tr>\n",
       "    <tr>\n",
       "      <td>mean</td>\n",
       "      <td>0.002023</td>\n",
       "      <td>-0.002081</td>\n",
       "      <td>2.495128</td>\n",
       "      <td>95.000000</td>\n",
       "    </tr>\n",
       "    <tr>\n",
       "      <td>std</td>\n",
       "      <td>1.732045</td>\n",
       "      <td>1.730417</td>\n",
       "      <td>3.473445</td>\n",
       "      <td>44.749921</td>\n",
       "    </tr>\n",
       "    <tr>\n",
       "      <td>min</td>\n",
       "      <td>-8.760004</td>\n",
       "      <td>-7.084020</td>\n",
       "      <td>-11.970335</td>\n",
       "      <td>0.000000</td>\n",
       "    </tr>\n",
       "    <tr>\n",
       "      <td>25%</td>\n",
       "      <td>-1.162288</td>\n",
       "      <td>-1.174820</td>\n",
       "      <td>0.130359</td>\n",
       "      <td>59.450441</td>\n",
       "    </tr>\n",
       "    <tr>\n",
       "      <td>50%</td>\n",
       "      <td>0.009424</td>\n",
       "      <td>-0.009482</td>\n",
       "      <td>2.484236</td>\n",
       "      <td>94.925613</td>\n",
       "    </tr>\n",
       "    <tr>\n",
       "      <td>75%</td>\n",
       "      <td>1.158535</td>\n",
       "      <td>1.163678</td>\n",
       "      <td>4.858794</td>\n",
       "      <td>130.595027</td>\n",
       "    </tr>\n",
       "    <tr>\n",
       "      <td>max</td>\n",
       "      <td>7.238262</td>\n",
       "      <td>7.844801</td>\n",
       "      <td>16.739402</td>\n",
       "      <td>190.029838</td>\n",
       "    </tr>\n",
       "  </tbody>\n",
       "</table>\n",
       "</div>"
      ],
      "text/plain": [
       "                  f0             f1             f2        product\n",
       "count  100000.000000  100000.000000  100000.000000  100000.000000\n",
       "mean        0.002023      -0.002081       2.495128      95.000000\n",
       "std         1.732045       1.730417       3.473445      44.749921\n",
       "min        -8.760004      -7.084020     -11.970335       0.000000\n",
       "25%        -1.162288      -1.174820       0.130359      59.450441\n",
       "50%         0.009424      -0.009482       2.484236      94.925613\n",
       "75%         1.158535       1.163678       4.858794     130.595027\n",
       "max         7.238262       7.844801      16.739402     190.029838"
      ]
     },
     "execution_count": 11,
     "metadata": {},
     "output_type": "execute_result"
    }
   ],
   "source": [
    "geo_data_2.describe()"
   ]
  },
  {
   "cell_type": "markdown",
   "metadata": {},
   "source": [
    "- id — уникальный идентификатор скважины;\n",
    "- f0, f1, f2 — три признака точек (неважно, что они означают, но сами признаки значимы);\n",
    "- product — объём запасов в скважине (тыс. баррелей)."
   ]
  },
  {
   "cell_type": "markdown",
   "metadata": {},
   "source": [
    "### Вывод"
   ]
  },
  {
   "cell_type": "markdown",
   "metadata": {},
   "source": [
    "- Есть 3 датасета геологоразведки трёх регионов по 100000 строк.\n",
    "- Пропусков в данных нет.\n",
    "- Типы данных менять не надо."
   ]
  },
  {
   "cell_type": "markdown",
   "metadata": {},
   "source": [
    "## Обучение и проверка модели"
   ]
  },
  {
   "cell_type": "markdown",
   "metadata": {},
   "source": [
    "### 1 регион"
   ]
  },
  {
   "cell_type": "markdown",
   "metadata": {},
   "source": [
    "####  Разбейте данные на обучающую и валидационную выборки в соотношении 75:25."
   ]
  },
  {
   "cell_type": "code",
   "execution_count": 12,
   "metadata": {},
   "outputs": [],
   "source": [
    "features_valid, features_test, target_valid, target_test = train_test_split(geo_data_0[['f0', 'f1', 'f2']],\n",
    "                                                                            geo_data_0['product'], \n",
    "                                                                            test_size=0.25, random_state=12345)"
   ]
  },
  {
   "cell_type": "code",
   "execution_count": 13,
   "metadata": {
    "scrolled": true
   },
   "outputs": [
    {
     "data": {
      "text/plain": [
       "((75000, 3), (25000, 3), (75000,), (25000,))"
      ]
     },
     "execution_count": 13,
     "metadata": {},
     "output_type": "execute_result"
    }
   ],
   "source": [
    "features_valid.shape, features_test.shape, target_valid.shape, target_test.shape"
   ]
  },
  {
   "cell_type": "markdown",
   "metadata": {},
   "source": [
    "#### Обучите модель и сделайте предсказания на валидационной выборке."
   ]
  },
  {
   "cell_type": "code",
   "execution_count": 14,
   "metadata": {},
   "outputs": [],
   "source": [
    "model = LinearRegression()"
   ]
  },
  {
   "cell_type": "code",
   "execution_count": 15,
   "metadata": {},
   "outputs": [
    {
     "data": {
      "text/plain": [
       "LinearRegression(copy_X=True, fit_intercept=True, n_jobs=None, normalize=False)"
      ]
     },
     "execution_count": 15,
     "metadata": {},
     "output_type": "execute_result"
    }
   ],
   "source": [
    "model.fit(features_valid, target_valid)"
   ]
  },
  {
   "cell_type": "code",
   "execution_count": 16,
   "metadata": {},
   "outputs": [],
   "source": [
    "predicted = model.predict(features_test)"
   ]
  },
  {
   "cell_type": "markdown",
   "metadata": {},
   "source": [
    "#### Сохраните предсказания и правильные ответы на валидационной выборке."
   ]
  },
  {
   "cell_type": "code",
   "execution_count": 17,
   "metadata": {},
   "outputs": [],
   "source": [
    "region1 = pd.DataFrame(target_test)\n",
    "region1['predicted'] = predicted\n",
    "region1['region'] = 1"
   ]
  },
  {
   "cell_type": "code",
   "execution_count": 18,
   "metadata": {},
   "outputs": [
    {
     "data": {
      "text/html": [
       "<div>\n",
       "<style scoped>\n",
       "    .dataframe tbody tr th:only-of-type {\n",
       "        vertical-align: middle;\n",
       "    }\n",
       "\n",
       "    .dataframe tbody tr th {\n",
       "        vertical-align: top;\n",
       "    }\n",
       "\n",
       "    .dataframe thead th {\n",
       "        text-align: right;\n",
       "    }\n",
       "</style>\n",
       "<table border=\"1\" class=\"dataframe\">\n",
       "  <thead>\n",
       "    <tr style=\"text-align: right;\">\n",
       "      <th></th>\n",
       "      <th>product</th>\n",
       "      <th>predicted</th>\n",
       "      <th>region</th>\n",
       "    </tr>\n",
       "  </thead>\n",
       "  <tbody>\n",
       "    <tr>\n",
       "      <td>71751</td>\n",
       "      <td>10.038645</td>\n",
       "      <td>95.894952</td>\n",
       "      <td>1</td>\n",
       "    </tr>\n",
       "    <tr>\n",
       "      <td>80493</td>\n",
       "      <td>114.551489</td>\n",
       "      <td>77.572583</td>\n",
       "      <td>1</td>\n",
       "    </tr>\n",
       "    <tr>\n",
       "      <td>2655</td>\n",
       "      <td>132.603635</td>\n",
       "      <td>77.892640</td>\n",
       "      <td>1</td>\n",
       "    </tr>\n",
       "    <tr>\n",
       "      <td>53233</td>\n",
       "      <td>169.072125</td>\n",
       "      <td>90.175134</td>\n",
       "      <td>1</td>\n",
       "    </tr>\n",
       "    <tr>\n",
       "      <td>91141</td>\n",
       "      <td>122.325180</td>\n",
       "      <td>70.510088</td>\n",
       "      <td>1</td>\n",
       "    </tr>\n",
       "    <tr>\n",
       "      <td>...</td>\n",
       "      <td>...</td>\n",
       "      <td>...</td>\n",
       "      <td>...</td>\n",
       "    </tr>\n",
       "    <tr>\n",
       "      <td>12581</td>\n",
       "      <td>170.116726</td>\n",
       "      <td>103.037104</td>\n",
       "      <td>1</td>\n",
       "    </tr>\n",
       "    <tr>\n",
       "      <td>18456</td>\n",
       "      <td>93.632175</td>\n",
       "      <td>85.403255</td>\n",
       "      <td>1</td>\n",
       "    </tr>\n",
       "    <tr>\n",
       "      <td>73035</td>\n",
       "      <td>127.352259</td>\n",
       "      <td>61.509833</td>\n",
       "      <td>1</td>\n",
       "    </tr>\n",
       "    <tr>\n",
       "      <td>63834</td>\n",
       "      <td>99.782700</td>\n",
       "      <td>118.180397</td>\n",
       "      <td>1</td>\n",
       "    </tr>\n",
       "    <tr>\n",
       "      <td>43558</td>\n",
       "      <td>177.821022</td>\n",
       "      <td>118.169392</td>\n",
       "      <td>1</td>\n",
       "    </tr>\n",
       "  </tbody>\n",
       "</table>\n",
       "<p>25000 rows × 3 columns</p>\n",
       "</div>"
      ],
      "text/plain": [
       "          product   predicted  region\n",
       "71751   10.038645   95.894952       1\n",
       "80493  114.551489   77.572583       1\n",
       "2655   132.603635   77.892640       1\n",
       "53233  169.072125   90.175134       1\n",
       "91141  122.325180   70.510088       1\n",
       "...           ...         ...     ...\n",
       "12581  170.116726  103.037104       1\n",
       "18456   93.632175   85.403255       1\n",
       "73035  127.352259   61.509833       1\n",
       "63834   99.782700  118.180397       1\n",
       "43558  177.821022  118.169392       1\n",
       "\n",
       "[25000 rows x 3 columns]"
      ]
     },
     "execution_count": 18,
     "metadata": {},
     "output_type": "execute_result"
    }
   ],
   "source": [
    "region1"
   ]
  },
  {
   "cell_type": "markdown",
   "metadata": {},
   "source": [
    "#### Напечатайте на экране средний запас предсказанного сырья и RMSE модели."
   ]
  },
  {
   "cell_type": "code",
   "execution_count": 19,
   "metadata": {},
   "outputs": [
    {
     "data": {
      "text/plain": [
       "product      92.078597\n",
       "predicted    92.592568\n",
       "dtype: float64"
      ]
     },
     "execution_count": 19,
     "metadata": {},
     "output_type": "execute_result"
    }
   ],
   "source": [
    "region1[['product', 'predicted']].mean()"
   ]
  },
  {
   "cell_type": "code",
   "execution_count": 20,
   "metadata": {},
   "outputs": [
    {
     "data": {
      "text/plain": [
       "37.5794217150813"
      ]
     },
     "execution_count": 20,
     "metadata": {},
     "output_type": "execute_result"
    }
   ],
   "source": [
    "mse = mean_squared_error(target_test, predicted)\n",
    "rmse = np.sqrt(mse)\n",
    "rmse"
   ]
  },
  {
   "cell_type": "markdown",
   "metadata": {},
   "source": [
    "### 2 регион"
   ]
  },
  {
   "cell_type": "markdown",
   "metadata": {},
   "source": [
    "####  Разбейте данные на обучающую и валидационную выборки в соотношении 75:25."
   ]
  },
  {
   "cell_type": "code",
   "execution_count": 21,
   "metadata": {},
   "outputs": [],
   "source": [
    "features_valid, features_test, target_valid, target_test = train_test_split(geo_data_1[['f0', 'f1', 'f2']],\n",
    "                                                                            geo_data_1['product'], \n",
    "                                                                            test_size=0.25, random_state=12345)"
   ]
  },
  {
   "cell_type": "code",
   "execution_count": 22,
   "metadata": {},
   "outputs": [
    {
     "data": {
      "text/plain": [
       "((75000, 3), (25000, 3), (75000,), (25000,))"
      ]
     },
     "execution_count": 22,
     "metadata": {},
     "output_type": "execute_result"
    }
   ],
   "source": [
    "features_valid.shape, features_test.shape, target_valid.shape, target_test.shape"
   ]
  },
  {
   "cell_type": "markdown",
   "metadata": {},
   "source": [
    "#### Обучите модель и сделайте предсказания на валидационной выборке."
   ]
  },
  {
   "cell_type": "code",
   "execution_count": 23,
   "metadata": {},
   "outputs": [
    {
     "data": {
      "text/plain": [
       "LinearRegression(copy_X=True, fit_intercept=True, n_jobs=None, normalize=False)"
      ]
     },
     "execution_count": 23,
     "metadata": {},
     "output_type": "execute_result"
    }
   ],
   "source": [
    "model.fit(features_valid, target_valid)"
   ]
  },
  {
   "cell_type": "code",
   "execution_count": 24,
   "metadata": {},
   "outputs": [],
   "source": [
    "predicted = model.predict(features_test)"
   ]
  },
  {
   "cell_type": "markdown",
   "metadata": {},
   "source": [
    "#### Сохраните предсказания и правильные ответы на валидационной выборке."
   ]
  },
  {
   "cell_type": "code",
   "execution_count": 25,
   "metadata": {},
   "outputs": [],
   "source": [
    "region2 = pd.DataFrame(target_test)\n",
    "region2['predicted'] = predicted\n",
    "region2['region'] = 2"
   ]
  },
  {
   "cell_type": "code",
   "execution_count": 26,
   "metadata": {},
   "outputs": [
    {
     "data": {
      "text/html": [
       "<div>\n",
       "<style scoped>\n",
       "    .dataframe tbody tr th:only-of-type {\n",
       "        vertical-align: middle;\n",
       "    }\n",
       "\n",
       "    .dataframe tbody tr th {\n",
       "        vertical-align: top;\n",
       "    }\n",
       "\n",
       "    .dataframe thead th {\n",
       "        text-align: right;\n",
       "    }\n",
       "</style>\n",
       "<table border=\"1\" class=\"dataframe\">\n",
       "  <thead>\n",
       "    <tr style=\"text-align: right;\">\n",
       "      <th></th>\n",
       "      <th>product</th>\n",
       "      <th>predicted</th>\n",
       "      <th>region</th>\n",
       "    </tr>\n",
       "  </thead>\n",
       "  <tbody>\n",
       "    <tr>\n",
       "      <td>71751</td>\n",
       "      <td>80.859783</td>\n",
       "      <td>82.663314</td>\n",
       "      <td>2</td>\n",
       "    </tr>\n",
       "    <tr>\n",
       "      <td>80493</td>\n",
       "      <td>53.906522</td>\n",
       "      <td>54.431786</td>\n",
       "      <td>2</td>\n",
       "    </tr>\n",
       "    <tr>\n",
       "      <td>2655</td>\n",
       "      <td>30.132364</td>\n",
       "      <td>29.748760</td>\n",
       "      <td>2</td>\n",
       "    </tr>\n",
       "    <tr>\n",
       "      <td>53233</td>\n",
       "      <td>53.906522</td>\n",
       "      <td>53.552133</td>\n",
       "      <td>2</td>\n",
       "    </tr>\n",
       "    <tr>\n",
       "      <td>91141</td>\n",
       "      <td>0.000000</td>\n",
       "      <td>1.243856</td>\n",
       "      <td>2</td>\n",
       "    </tr>\n",
       "    <tr>\n",
       "      <td>...</td>\n",
       "      <td>...</td>\n",
       "      <td>...</td>\n",
       "      <td>...</td>\n",
       "    </tr>\n",
       "    <tr>\n",
       "      <td>12581</td>\n",
       "      <td>137.945408</td>\n",
       "      <td>136.869211</td>\n",
       "      <td>2</td>\n",
       "    </tr>\n",
       "    <tr>\n",
       "      <td>18456</td>\n",
       "      <td>110.992147</td>\n",
       "      <td>110.693465</td>\n",
       "      <td>2</td>\n",
       "    </tr>\n",
       "    <tr>\n",
       "      <td>73035</td>\n",
       "      <td>137.945408</td>\n",
       "      <td>137.879341</td>\n",
       "      <td>2</td>\n",
       "    </tr>\n",
       "    <tr>\n",
       "      <td>63834</td>\n",
       "      <td>84.038886</td>\n",
       "      <td>83.761966</td>\n",
       "      <td>2</td>\n",
       "    </tr>\n",
       "    <tr>\n",
       "      <td>43558</td>\n",
       "      <td>53.906522</td>\n",
       "      <td>53.958466</td>\n",
       "      <td>2</td>\n",
       "    </tr>\n",
       "  </tbody>\n",
       "</table>\n",
       "<p>25000 rows × 3 columns</p>\n",
       "</div>"
      ],
      "text/plain": [
       "          product   predicted  region\n",
       "71751   80.859783   82.663314       2\n",
       "80493   53.906522   54.431786       2\n",
       "2655    30.132364   29.748760       2\n",
       "53233   53.906522   53.552133       2\n",
       "91141    0.000000    1.243856       2\n",
       "...           ...         ...     ...\n",
       "12581  137.945408  136.869211       2\n",
       "18456  110.992147  110.693465       2\n",
       "73035  137.945408  137.879341       2\n",
       "63834   84.038886   83.761966       2\n",
       "43558   53.906522   53.958466       2\n",
       "\n",
       "[25000 rows x 3 columns]"
      ]
     },
     "execution_count": 26,
     "metadata": {},
     "output_type": "execute_result"
    }
   ],
   "source": [
    "region2"
   ]
  },
  {
   "cell_type": "markdown",
   "metadata": {},
   "source": [
    "#### Напечатайте на экране средний запас предсказанного сырья и RMSE модели."
   ]
  },
  {
   "cell_type": "code",
   "execution_count": 27,
   "metadata": {},
   "outputs": [
    {
     "data": {
      "text/plain": [
       "product      68.723136\n",
       "predicted    68.728547\n",
       "dtype: float64"
      ]
     },
     "execution_count": 27,
     "metadata": {},
     "output_type": "execute_result"
    }
   ],
   "source": [
    "region2[['product', 'predicted']].mean()"
   ]
  },
  {
   "cell_type": "code",
   "execution_count": 28,
   "metadata": {},
   "outputs": [
    {
     "data": {
      "text/plain": [
       "0.893099286775616"
      ]
     },
     "execution_count": 28,
     "metadata": {},
     "output_type": "execute_result"
    }
   ],
   "source": [
    "mse = mean_squared_error(target_test, predicted)\n",
    "rmse = np.sqrt(mse)\n",
    "rmse"
   ]
  },
  {
   "cell_type": "markdown",
   "metadata": {},
   "source": [
    "### 3 регион"
   ]
  },
  {
   "cell_type": "markdown",
   "metadata": {},
   "source": [
    "####  Разбейте данные на обучающую и валидационную выборки в соотношении 75:25."
   ]
  },
  {
   "cell_type": "code",
   "execution_count": 29,
   "metadata": {},
   "outputs": [],
   "source": [
    "features_valid, features_test, target_valid, target_test = train_test_split(geo_data_2[['f0', 'f1', 'f2']],\n",
    "                                                                            geo_data_2['product'], \n",
    "                                                                            test_size=0.25, random_state=12345)"
   ]
  },
  {
   "cell_type": "code",
   "execution_count": 30,
   "metadata": {
    "scrolled": true
   },
   "outputs": [
    {
     "data": {
      "text/plain": [
       "((75000, 3), (25000, 3), (75000,), (25000,))"
      ]
     },
     "execution_count": 30,
     "metadata": {},
     "output_type": "execute_result"
    }
   ],
   "source": [
    "features_valid.shape, features_test.shape, target_valid.shape, target_test.shape"
   ]
  },
  {
   "cell_type": "markdown",
   "metadata": {},
   "source": [
    "#### Обучите модель и сделайте предсказания на валидационной выборке."
   ]
  },
  {
   "cell_type": "code",
   "execution_count": 31,
   "metadata": {},
   "outputs": [
    {
     "data": {
      "text/plain": [
       "LinearRegression(copy_X=True, fit_intercept=True, n_jobs=None, normalize=False)"
      ]
     },
     "execution_count": 31,
     "metadata": {},
     "output_type": "execute_result"
    }
   ],
   "source": [
    "model.fit(features_valid, target_valid)"
   ]
  },
  {
   "cell_type": "code",
   "execution_count": 32,
   "metadata": {},
   "outputs": [],
   "source": [
    "predicted = model.predict(features_test)"
   ]
  },
  {
   "cell_type": "markdown",
   "metadata": {},
   "source": [
    "#### Сохраните предсказания и правильные ответы на валидационной выборке."
   ]
  },
  {
   "cell_type": "code",
   "execution_count": 33,
   "metadata": {},
   "outputs": [],
   "source": [
    "region3 = pd.DataFrame(target_test)\n",
    "region3['predicted'] = predicted\n",
    "region3['region'] = 3"
   ]
  },
  {
   "cell_type": "code",
   "execution_count": 34,
   "metadata": {},
   "outputs": [
    {
     "data": {
      "text/html": [
       "<div>\n",
       "<style scoped>\n",
       "    .dataframe tbody tr th:only-of-type {\n",
       "        vertical-align: middle;\n",
       "    }\n",
       "\n",
       "    .dataframe tbody tr th {\n",
       "        vertical-align: top;\n",
       "    }\n",
       "\n",
       "    .dataframe thead th {\n",
       "        text-align: right;\n",
       "    }\n",
       "</style>\n",
       "<table border=\"1\" class=\"dataframe\">\n",
       "  <thead>\n",
       "    <tr style=\"text-align: right;\">\n",
       "      <th></th>\n",
       "      <th>product</th>\n",
       "      <th>predicted</th>\n",
       "      <th>region</th>\n",
       "    </tr>\n",
       "  </thead>\n",
       "  <tbody>\n",
       "    <tr>\n",
       "      <td>71751</td>\n",
       "      <td>61.212375</td>\n",
       "      <td>93.599633</td>\n",
       "      <td>3</td>\n",
       "    </tr>\n",
       "    <tr>\n",
       "      <td>80493</td>\n",
       "      <td>41.850118</td>\n",
       "      <td>75.105159</td>\n",
       "      <td>3</td>\n",
       "    </tr>\n",
       "    <tr>\n",
       "      <td>2655</td>\n",
       "      <td>57.776581</td>\n",
       "      <td>90.066809</td>\n",
       "      <td>3</td>\n",
       "    </tr>\n",
       "    <tr>\n",
       "      <td>53233</td>\n",
       "      <td>100.053761</td>\n",
       "      <td>105.162375</td>\n",
       "      <td>3</td>\n",
       "    </tr>\n",
       "    <tr>\n",
       "      <td>91141</td>\n",
       "      <td>109.897122</td>\n",
       "      <td>115.303310</td>\n",
       "      <td>3</td>\n",
       "    </tr>\n",
       "    <tr>\n",
       "      <td>...</td>\n",
       "      <td>...</td>\n",
       "      <td>...</td>\n",
       "      <td>...</td>\n",
       "    </tr>\n",
       "    <tr>\n",
       "      <td>12581</td>\n",
       "      <td>28.492402</td>\n",
       "      <td>78.765887</td>\n",
       "      <td>3</td>\n",
       "    </tr>\n",
       "    <tr>\n",
       "      <td>18456</td>\n",
       "      <td>21.431303</td>\n",
       "      <td>95.603394</td>\n",
       "      <td>3</td>\n",
       "    </tr>\n",
       "    <tr>\n",
       "      <td>73035</td>\n",
       "      <td>125.487229</td>\n",
       "      <td>99.407281</td>\n",
       "      <td>3</td>\n",
       "    </tr>\n",
       "    <tr>\n",
       "      <td>63834</td>\n",
       "      <td>99.422903</td>\n",
       "      <td>77.779912</td>\n",
       "      <td>3</td>\n",
       "    </tr>\n",
       "    <tr>\n",
       "      <td>43558</td>\n",
       "      <td>127.445075</td>\n",
       "      <td>129.032417</td>\n",
       "      <td>3</td>\n",
       "    </tr>\n",
       "  </tbody>\n",
       "</table>\n",
       "<p>25000 rows × 3 columns</p>\n",
       "</div>"
      ],
      "text/plain": [
       "          product   predicted  region\n",
       "71751   61.212375   93.599633       3\n",
       "80493   41.850118   75.105159       3\n",
       "2655    57.776581   90.066809       3\n",
       "53233  100.053761  105.162375       3\n",
       "91141  109.897122  115.303310       3\n",
       "...           ...         ...     ...\n",
       "12581   28.492402   78.765887       3\n",
       "18456   21.431303   95.603394       3\n",
       "73035  125.487229   99.407281       3\n",
       "63834   99.422903   77.779912       3\n",
       "43558  127.445075  129.032417       3\n",
       "\n",
       "[25000 rows x 3 columns]"
      ]
     },
     "execution_count": 34,
     "metadata": {},
     "output_type": "execute_result"
    }
   ],
   "source": [
    "region3"
   ]
  },
  {
   "cell_type": "markdown",
   "metadata": {},
   "source": [
    "#### Напечатайте на экране средний запас предсказанного сырья и RMSE модели."
   ]
  },
  {
   "cell_type": "code",
   "execution_count": 35,
   "metadata": {},
   "outputs": [
    {
     "data": {
      "text/plain": [
       "product      94.884233\n",
       "predicted    94.965046\n",
       "dtype: float64"
      ]
     },
     "execution_count": 35,
     "metadata": {},
     "output_type": "execute_result"
    }
   ],
   "source": [
    "region3[['product', 'predicted']].mean()"
   ]
  },
  {
   "cell_type": "code",
   "execution_count": 36,
   "metadata": {},
   "outputs": [
    {
     "data": {
      "text/plain": [
       "40.02970873393434"
      ]
     },
     "execution_count": 36,
     "metadata": {},
     "output_type": "execute_result"
    }
   ],
   "source": [
    "mse = mean_squared_error(target_test, predicted)\n",
    "rmse = np.sqrt(mse)\n",
    "rmse"
   ]
  },
  {
   "cell_type": "markdown",
   "metadata": {},
   "source": [
    "### Вывод"
   ]
  },
  {
   "cell_type": "markdown",
   "metadata": {},
   "source": [
    "1. Cредний запас сырья:\n",
    "- первый регион предсказано - 92.59, правильный - 92.08\n",
    "- второй регион предсказано - 68.73, правильный - 68.72\n",
    "- третий регион предсказано - 94.97, правильный - 94.88\n",
    "2. RMSE модели:\n",
    "- в первом регионе равен 37.57\n",
    "- во втором регионе равен 0.89\n",
    "- в третьем регионе равен 40.03\n",
    "3. Больше всего запасов сырья в третьем регионе, но у него и RMSE самый большой, во втором регионе меньше всего запасов и очень маленький RMSE."
   ]
  },
  {
   "cell_type": "markdown",
   "metadata": {},
   "source": [
    "## Подготовка к расчёту прибыли"
   ]
  },
  {
   "cell_type": "markdown",
   "metadata": {},
   "source": [
    "### Все ключевые значения для расчётов сохраните в отдельных переменных."
   ]
  },
  {
   "cell_type": "markdown",
   "metadata": {},
   "source": [
    "Бюджет на разработку скважин в регионе — 10 млрд рублей."
   ]
  },
  {
   "cell_type": "code",
   "execution_count": 37,
   "metadata": {},
   "outputs": [],
   "source": [
    "BUDGET = 10000000000"
   ]
  },
  {
   "cell_type": "markdown",
   "metadata": {},
   "source": [
    "выбирают 200 лучших точек для разработки, тогда бюджет одной скважины равен:"
   ]
  },
  {
   "cell_type": "code",
   "execution_count": 38,
   "metadata": {},
   "outputs": [
    {
     "data": {
      "text/plain": [
       "50000000.0"
      ]
     },
     "execution_count": 38,
     "metadata": {},
     "output_type": "execute_result"
    }
   ],
   "source": [
    "WELL_BUDGET = BUDGET / 200\n",
    "WELL_BUDGET"
   ]
  },
  {
   "cell_type": "markdown",
   "metadata": {},
   "source": [
    "При нынешних ценах один баррель сырья приносит 450 рублей дохода. Доход с каждой единицы продукта составляет 450 тыс. рублей, поскольку объём указан в тысячах баррелей."
   ]
  },
  {
   "cell_type": "code",
   "execution_count": 39,
   "metadata": {},
   "outputs": [],
   "source": [
    "BARREL_INCOME = 450000"
   ]
  },
  {
   "cell_type": "markdown",
   "metadata": {},
   "source": [
    "### Рассчитайте достаточный объём сырья для безубыточной разработки новой скважины. Сравните полученный объём сырья со средним запасом в каждом регионе."
   ]
  },
  {
   "cell_type": "code",
   "execution_count": 40,
   "metadata": {
    "scrolled": true
   },
   "outputs": [
    {
     "data": {
      "text/plain": [
       "111.11111111111111"
      ]
     },
     "execution_count": 40,
     "metadata": {},
     "output_type": "execute_result"
    }
   ],
   "source": [
    "break_even_volume = WELL_BUDGET / BARREL_INCOME\n",
    "break_even_volume"
   ]
  },
  {
   "cell_type": "code",
   "execution_count": 41,
   "metadata": {
    "scrolled": true
   },
   "outputs": [
    {
     "data": {
      "text/plain": [
       "(94.96504596800489, 68.728546895446, 92.59256778438038)"
      ]
     },
     "execution_count": 41,
     "metadata": {},
     "output_type": "execute_result"
    }
   ],
   "source": [
    "region3['predicted'].mean(), region2['predicted'].mean(), region1['predicted'].mean()"
   ]
  },
  {
   "cell_type": "markdown",
   "metadata": {},
   "source": [
    "### Напишите выводы по этапу подготовки расчёта прибыли."
   ]
  },
  {
   "cell_type": "markdown",
   "metadata": {},
   "source": [
    "Ни один регион в среднем не имеет достаточный объём сырья для безубыточной разработки новых скважин."
   ]
  },
  {
   "cell_type": "markdown",
   "metadata": {},
   "source": [
    "### Напишите функцию для расчёта прибыли по выбранным скважинам и предсказаниям модели:\n",
    "1. Выберите скважины с максимальными значениями предсказаний.\n",
    "2. Просуммируйте целевое значение объёма сырья, соответствующее этим предсказаниям.\n",
    "3. Рассчитайте прибыль для полученного объёма сырья."
   ]
  },
  {
   "cell_type": "code",
   "execution_count": 42,
   "metadata": {},
   "outputs": [],
   "source": [
    "def profit(region):\n",
    "    return sum(region.sort_values(by='predicted', ascending=False)['product'].head(200)) * BARREL_INCOME"
   ]
  },
  {
   "cell_type": "markdown",
   "metadata": {},
   "source": [
    "## Расчёт прибыли и рисков "
   ]
  },
  {
   "cell_type": "markdown",
   "metadata": {},
   "source": [
    "- Примените технику Bootstrap с 1000 выборок, чтобы найти распределение прибыли.\n",
    "- Найдите среднюю прибыль, 95%-й доверительный интервал и риск убытков. Убыток — это отрицательная прибыль."
   ]
  },
  {
   "cell_type": "code",
   "execution_count": 51,
   "metadata": {},
   "outputs": [],
   "source": [
    "data_region = {}\n",
    "for region in [region1, region2, region3]:\n",
    "    values = []\n",
    "    for i in range(1000):\n",
    "        region_subsample = region.sample(n=500, replace=False) \n",
    "        values.append(profit(region_subsample))\n",
    "    values = pd.Series(values)\n",
    "    data_region['region'+str(region['region'][1])] = [sum(values) / 1000 - BUDGET, values.quantile(0.025) - BUDGET, values.quantile(0.975) - BUDGET, (values - BUDGET < 0).mean()]"
   ]
  },
  {
   "cell_type": "code",
   "execution_count": 52,
   "metadata": {
    "scrolled": true
   },
   "outputs": [
    {
     "data": {
      "text/html": [
       "<div>\n",
       "<style scoped>\n",
       "    .dataframe tbody tr th:only-of-type {\n",
       "        vertical-align: middle;\n",
       "    }\n",
       "\n",
       "    .dataframe tbody tr th {\n",
       "        vertical-align: top;\n",
       "    }\n",
       "\n",
       "    .dataframe thead th {\n",
       "        text-align: right;\n",
       "    }\n",
       "</style>\n",
       "<table border=\"1\" class=\"dataframe\">\n",
       "  <thead>\n",
       "    <tr style=\"text-align: right;\">\n",
       "      <th></th>\n",
       "      <th>mean_profit</th>\n",
       "      <th>2.5%_quantile</th>\n",
       "      <th>97.5%_quantile</th>\n",
       "      <th>risk</th>\n",
       "    </tr>\n",
       "  </thead>\n",
       "  <tbody>\n",
       "    <tr>\n",
       "      <td>region1</td>\n",
       "      <td>3.787134e+08</td>\n",
       "      <td>-1.635807e+08</td>\n",
       "      <td>8.661495e+08</td>\n",
       "      <td>0.074</td>\n",
       "    </tr>\n",
       "    <tr>\n",
       "      <td>region2</td>\n",
       "      <td>4.513089e+08</td>\n",
       "      <td>7.524404e+07</td>\n",
       "      <td>8.387828e+08</td>\n",
       "      <td>0.014</td>\n",
       "    </tr>\n",
       "    <tr>\n",
       "      <td>region3</td>\n",
       "      <td>3.949220e+08</td>\n",
       "      <td>-1.368253e+08</td>\n",
       "      <td>8.917989e+08</td>\n",
       "      <td>0.070</td>\n",
       "    </tr>\n",
       "  </tbody>\n",
       "</table>\n",
       "</div>"
      ],
      "text/plain": [
       "          mean_profit  2.5%_quantile  97.5%_quantile   risk\n",
       "region1  3.787134e+08  -1.635807e+08    8.661495e+08  0.074\n",
       "region2  4.513089e+08   7.524404e+07    8.387828e+08  0.014\n",
       "region3  3.949220e+08  -1.368253e+08    8.917989e+08  0.070"
      ]
     },
     "execution_count": 52,
     "metadata": {},
     "output_type": "execute_result"
    }
   ],
   "source": [
    "pd.DataFrame.from_dict(data_region).T.rename(columns={0:'mean_profit', 1:'2.5%_quantile', 2:'97.5%_quantile', 3:'risk'})"
   ]
  },
  {
   "cell_type": "markdown",
   "metadata": {},
   "source": [
    "- Учитывая 2.5%_quantile лучше выбрать второй регион, так как в случаи риска он остаётся прибыльным, в отличие от остальных регионов.\n",
    "- Также самый маленький риск убытков во втором регионе состовляет 1.4%, в первом равен 7.4% и в третьем 7%."
   ]
  },
  {
   "cell_type": "markdown",
   "metadata": {},
   "source": [
    "## Вывод"
   ]
  },
  {
   "cell_type": "markdown",
   "metadata": {},
   "source": [
    "1. Cредний запас сырья:\n",
    "- первый регион предсказано - 92.59, правильный - 92.08\n",
    "- второй регион предсказано - 68.73, правильный - 68.72\n",
    "- третий регион предсказано - 94.97, правильный - 94.88\n",
    "2. RMSE модели:\n",
    "- в первом регионе равен 37.57\n",
    "- во втором регионе равен 0.89\n",
    "- в третьем регионе равен 40.03\n",
    "3. Больше всего запасов сырья в третьем регионе, но у него и RMSE самый большой, во втором регионе меньше всего запасов и очень маленький RMSE.\n",
    "4. Ни один регион в среднем не имеет достаточный объём сырья для безубыточной разработки новых скважин.\n",
    "5. Учитывая 2.5%_quantile лучше выбрать второй регион, так как в случаи риска он остаётся прибыльным, в отличие от остальных регионов.\n",
    "6. Также самый маленький риск убытков во втором регионе состовляет 1.4%, в первом равен 7.4% и в третьем 7%."
   ]
  }
 ],
 "metadata": {
  "ExecuteTimeLog": [
   {
    "duration": 615,
    "start_time": "2021-10-17T07:06:45.646Z"
   },
   {
    "duration": 1162,
    "start_time": "2021-10-17T07:07:40.213Z"
   },
   {
    "duration": 19,
    "start_time": "2021-10-17T07:07:48.770Z"
   },
   {
    "duration": 11,
    "start_time": "2021-10-17T07:07:57.506Z"
   },
   {
    "duration": 9,
    "start_time": "2021-10-17T07:10:39.238Z"
   },
   {
    "duration": 10,
    "start_time": "2021-10-17T07:10:52.390Z"
   },
   {
    "duration": 9,
    "start_time": "2021-10-17T07:11:04.543Z"
   },
   {
    "duration": 294,
    "start_time": "2021-10-17T07:11:52.113Z"
   },
   {
    "duration": 240,
    "start_time": "2021-10-17T07:12:00.066Z"
   },
   {
    "duration": 22,
    "start_time": "2021-10-17T07:12:45.917Z"
   },
   {
    "duration": 9,
    "start_time": "2021-10-17T07:13:22.439Z"
   },
   {
    "duration": 10,
    "start_time": "2021-10-17T07:13:22.942Z"
   },
   {
    "duration": 12,
    "start_time": "2021-10-17T07:13:29.065Z"
   },
   {
    "duration": 21,
    "start_time": "2021-10-17T07:13:48.449Z"
   },
   {
    "duration": 73,
    "start_time": "2021-10-17T07:14:05.018Z"
   },
   {
    "duration": 22,
    "start_time": "2021-10-17T07:22:16.553Z"
   },
   {
    "duration": 12,
    "start_time": "2021-10-17T07:22:55.722Z"
   },
   {
    "duration": 13,
    "start_time": "2021-10-17T07:23:00.979Z"
   },
   {
    "duration": 13,
    "start_time": "2021-10-17T07:23:05.563Z"
   },
   {
    "duration": 3,
    "start_time": "2021-10-17T15:42:50.426Z"
   },
   {
    "duration": 536,
    "start_time": "2021-10-17T19:03:08.484Z"
   },
   {
    "duration": 961,
    "start_time": "2021-10-17T19:03:10.004Z"
   },
   {
    "duration": 17,
    "start_time": "2021-10-17T19:03:11.688Z"
   },
   {
    "duration": 11,
    "start_time": "2021-10-17T19:03:26.873Z"
   },
   {
    "duration": 36,
    "start_time": "2021-10-17T19:03:45.570Z"
   },
   {
    "duration": 10,
    "start_time": "2021-10-17T19:04:06.244Z"
   },
   {
    "duration": 32,
    "start_time": "2021-10-17T19:04:13.924Z"
   },
   {
    "duration": 10,
    "start_time": "2021-10-17T19:04:24.221Z"
   },
   {
    "duration": 35,
    "start_time": "2021-10-17T19:04:36.334Z"
   },
   {
    "duration": 831,
    "start_time": "2021-10-18T12:06:37.835Z"
   },
   {
    "duration": 713,
    "start_time": "2021-10-18T12:06:45.207Z"
   },
   {
    "duration": 3276,
    "start_time": "2021-10-18T12:06:45.923Z"
   },
   {
    "duration": 25,
    "start_time": "2021-10-18T12:06:49.202Z"
   },
   {
    "duration": 34,
    "start_time": "2021-10-18T12:06:49.230Z"
   },
   {
    "duration": 49,
    "start_time": "2021-10-18T12:06:49.267Z"
   },
   {
    "duration": 41,
    "start_time": "2021-10-18T12:06:49.319Z"
   },
   {
    "duration": 18,
    "start_time": "2021-10-18T12:06:49.363Z"
   },
   {
    "duration": 81,
    "start_time": "2021-10-18T12:06:49.385Z"
   },
   {
    "duration": 17,
    "start_time": "2021-10-18T12:06:49.469Z"
   },
   {
    "duration": 20,
    "start_time": "2021-10-18T12:06:49.488Z"
   },
   {
    "duration": 71,
    "start_time": "2021-10-18T12:06:49.510Z"
   },
   {
    "duration": 16,
    "start_time": "2021-10-18T12:06:49.583Z"
   },
   {
    "duration": 579,
    "start_time": "2021-10-18T12:07:39.260Z"
   },
   {
    "duration": 718,
    "start_time": "2021-10-18T12:10:09.156Z"
   },
   {
    "duration": 338,
    "start_time": "2021-10-18T12:10:15.877Z"
   },
   {
    "duration": 18,
    "start_time": "2021-10-18T12:10:28.198Z"
   },
   {
    "duration": 403,
    "start_time": "2021-10-18T12:12:10.060Z"
   },
   {
    "duration": 438,
    "start_time": "2021-10-18T12:12:57.384Z"
   },
   {
    "duration": 20,
    "start_time": "2021-10-18T12:13:37.969Z"
   },
   {
    "duration": 6,
    "start_time": "2021-10-18T12:14:30.748Z"
   },
   {
    "duration": 19,
    "start_time": "2021-10-18T12:14:35.821Z"
   },
   {
    "duration": 6,
    "start_time": "2021-10-18T12:14:36.036Z"
   },
   {
    "duration": 18,
    "start_time": "2021-10-18T12:20:22.727Z"
   },
   {
    "duration": 5,
    "start_time": "2021-10-18T12:20:22.748Z"
   },
   {
    "duration": 21,
    "start_time": "2021-10-18T12:21:28.311Z"
   },
   {
    "duration": 3,
    "start_time": "2021-10-18T12:21:41.719Z"
   },
   {
    "duration": 15,
    "start_time": "2021-10-18T13:49:23.693Z"
   },
   {
    "duration": 9,
    "start_time": "2021-10-18T13:49:55.569Z"
   },
   {
    "duration": 10,
    "start_time": "2021-10-18T13:50:52.812Z"
   },
   {
    "duration": 7,
    "start_time": "2021-10-18T13:53:03.780Z"
   },
   {
    "duration": 15,
    "start_time": "2021-10-18T13:53:07.581Z"
   },
   {
    "duration": 4,
    "start_time": "2021-10-18T13:54:19.409Z"
   },
   {
    "duration": 4,
    "start_time": "2021-10-18T13:55:30.630Z"
   },
   {
    "duration": 4,
    "start_time": "2021-10-18T13:55:35.966Z"
   },
   {
    "duration": 7,
    "start_time": "2021-10-18T13:57:33.733Z"
   },
   {
    "duration": 7,
    "start_time": "2021-10-18T13:58:25.856Z"
   },
   {
    "duration": 19,
    "start_time": "2021-10-18T14:33:42.822Z"
   },
   {
    "duration": 6,
    "start_time": "2021-10-18T14:33:43.476Z"
   },
   {
    "duration": 3,
    "start_time": "2021-10-18T14:33:43.845Z"
   },
   {
    "duration": 15,
    "start_time": "2021-10-18T14:33:44.180Z"
   },
   {
    "duration": 5,
    "start_time": "2021-10-18T14:33:44.517Z"
   },
   {
    "duration": 7,
    "start_time": "2021-10-18T14:33:44.853Z"
   },
   {
    "duration": 15,
    "start_time": "2021-10-18T14:33:45.205Z"
   },
   {
    "duration": 6,
    "start_time": "2021-10-18T14:33:46.189Z"
   },
   {
    "duration": 7,
    "start_time": "2021-10-18T14:33:47.077Z"
   },
   {
    "duration": 19,
    "start_time": "2021-10-18T14:34:29.480Z"
   },
   {
    "duration": 6,
    "start_time": "2021-10-18T14:34:29.879Z"
   },
   {
    "duration": 3,
    "start_time": "2021-10-18T14:34:30.272Z"
   },
   {
    "duration": 12,
    "start_time": "2021-10-18T14:34:30.544Z"
   },
   {
    "duration": 10,
    "start_time": "2021-10-18T14:34:30.791Z"
   },
   {
    "duration": 7,
    "start_time": "2021-10-18T14:34:31.074Z"
   },
   {
    "duration": 26,
    "start_time": "2021-10-18T14:34:31.368Z"
   },
   {
    "duration": 7,
    "start_time": "2021-10-18T14:34:31.904Z"
   },
   {
    "duration": 6,
    "start_time": "2021-10-18T14:34:32.583Z"
   },
   {
    "duration": 10,
    "start_time": "2021-10-18T14:35:49.327Z"
   },
   {
    "duration": 10,
    "start_time": "2021-10-18T14:36:11.894Z"
   },
   {
    "duration": 9,
    "start_time": "2021-10-18T14:36:21.966Z"
   },
   {
    "duration": 1156,
    "start_time": "2021-10-18T19:40:51.014Z"
   },
   {
    "duration": 986,
    "start_time": "2021-10-18T19:40:52.172Z"
   },
   {
    "duration": 17,
    "start_time": "2021-10-18T19:40:53.161Z"
   },
   {
    "duration": 13,
    "start_time": "2021-10-18T19:40:53.180Z"
   },
   {
    "duration": 51,
    "start_time": "2021-10-18T19:40:53.195Z"
   },
   {
    "duration": 12,
    "start_time": "2021-10-18T19:40:53.248Z"
   },
   {
    "duration": 12,
    "start_time": "2021-10-18T19:40:53.261Z"
   },
   {
    "duration": 34,
    "start_time": "2021-10-18T19:40:53.275Z"
   },
   {
    "duration": 40,
    "start_time": "2021-10-18T19:40:53.312Z"
   },
   {
    "duration": 10,
    "start_time": "2021-10-18T19:40:53.354Z"
   },
   {
    "duration": 34,
    "start_time": "2021-10-18T19:40:53.365Z"
   },
   {
    "duration": 14,
    "start_time": "2021-10-18T19:40:53.401Z"
   },
   {
    "duration": 31,
    "start_time": "2021-10-18T19:40:53.417Z"
   },
   {
    "duration": 3,
    "start_time": "2021-10-18T19:40:53.450Z"
   },
   {
    "duration": 13,
    "start_time": "2021-10-18T19:40:53.454Z"
   },
   {
    "duration": 76,
    "start_time": "2021-10-18T19:40:53.469Z"
   },
   {
    "duration": 11,
    "start_time": "2021-10-18T19:40:53.548Z"
   },
   {
    "duration": 99,
    "start_time": "2021-10-18T19:40:53.561Z"
   },
   {
    "duration": 9,
    "start_time": "2021-10-18T19:40:53.662Z"
   },
   {
    "duration": 8,
    "start_time": "2021-10-18T19:40:53.673Z"
   },
   {
    "duration": 26,
    "start_time": "2021-10-18T19:40:53.683Z"
   },
   {
    "duration": 5,
    "start_time": "2021-10-18T19:40:53.711Z"
   },
   {
    "duration": 32,
    "start_time": "2021-10-18T19:40:53.718Z"
   },
   {
    "duration": 13,
    "start_time": "2021-10-18T19:40:53.752Z"
   },
   {
    "duration": 84,
    "start_time": "2021-10-18T19:40:53.767Z"
   },
   {
    "duration": 97,
    "start_time": "2021-10-18T19:40:53.854Z"
   },
   {
    "duration": 13,
    "start_time": "2021-10-18T19:40:53.955Z"
   },
   {
    "duration": 11,
    "start_time": "2021-10-18T19:40:53.970Z"
   },
   {
    "duration": 13,
    "start_time": "2021-10-18T19:40:53.983Z"
   },
   {
    "duration": 4,
    "start_time": "2021-10-18T19:40:53.998Z"
   },
   {
    "duration": 47,
    "start_time": "2021-10-18T19:40:54.003Z"
   },
   {
    "duration": 5,
    "start_time": "2021-10-18T19:40:54.051Z"
   },
   {
    "duration": 91,
    "start_time": "2021-10-18T19:40:54.059Z"
   },
   {
    "duration": 103,
    "start_time": "2021-10-18T19:40:54.152Z"
   },
   {
    "duration": 16,
    "start_time": "2021-10-18T19:40:54.257Z"
   },
   {
    "duration": 5,
    "start_time": "2021-10-18T19:40:54.275Z"
   },
   {
    "duration": 11,
    "start_time": "2021-10-18T19:40:54.282Z"
   },
   {
    "duration": 5,
    "start_time": "2021-10-19T12:28:58.602Z"
   },
   {
    "duration": 1434,
    "start_time": "2021-10-19T12:29:07.096Z"
   },
   {
    "duration": 1152,
    "start_time": "2021-10-19T12:29:08.533Z"
   },
   {
    "duration": 38,
    "start_time": "2021-10-19T12:29:09.688Z"
   },
   {
    "duration": 15,
    "start_time": "2021-10-19T12:29:09.729Z"
   },
   {
    "duration": 46,
    "start_time": "2021-10-19T12:29:09.747Z"
   },
   {
    "duration": 16,
    "start_time": "2021-10-19T12:29:09.822Z"
   },
   {
    "duration": 16,
    "start_time": "2021-10-19T12:29:09.841Z"
   },
   {
    "duration": 72,
    "start_time": "2021-10-19T12:29:09.860Z"
   },
   {
    "duration": 16,
    "start_time": "2021-10-19T12:29:09.936Z"
   },
   {
    "duration": 16,
    "start_time": "2021-10-19T12:29:09.955Z"
   },
   {
    "duration": 81,
    "start_time": "2021-10-19T12:29:09.974Z"
   },
   {
    "duration": 20,
    "start_time": "2021-10-19T12:29:10.058Z"
   },
   {
    "duration": 9,
    "start_time": "2021-10-19T12:29:10.081Z"
   },
   {
    "duration": 4,
    "start_time": "2021-10-19T12:29:10.124Z"
   },
   {
    "duration": 19,
    "start_time": "2021-10-19T12:29:10.131Z"
   },
   {
    "duration": 5,
    "start_time": "2021-10-19T12:29:10.152Z"
   },
   {
    "duration": 70,
    "start_time": "2021-10-19T12:29:10.161Z"
   },
   {
    "duration": 105,
    "start_time": "2021-10-19T12:29:10.235Z"
   },
   {
    "duration": 13,
    "start_time": "2021-10-19T12:29:10.342Z"
   },
   {
    "duration": 10,
    "start_time": "2021-10-19T12:29:10.357Z"
   },
   {
    "duration": 53,
    "start_time": "2021-10-19T12:29:10.369Z"
   },
   {
    "duration": 5,
    "start_time": "2021-10-19T12:29:10.425Z"
   },
   {
    "duration": 21,
    "start_time": "2021-10-19T12:29:10.432Z"
   },
   {
    "duration": 9,
    "start_time": "2021-10-19T12:29:10.456Z"
   },
   {
    "duration": 99,
    "start_time": "2021-10-19T12:29:10.525Z"
   },
   {
    "duration": 21,
    "start_time": "2021-10-19T12:29:10.627Z"
   },
   {
    "duration": 15,
    "start_time": "2021-10-19T12:29:10.652Z"
   },
   {
    "duration": 10,
    "start_time": "2021-10-19T12:29:10.669Z"
   },
   {
    "duration": 50,
    "start_time": "2021-10-19T12:29:10.682Z"
   },
   {
    "duration": 7,
    "start_time": "2021-10-19T12:29:10.734Z"
   },
   {
    "duration": 13,
    "start_time": "2021-10-19T12:29:10.743Z"
   },
   {
    "duration": 7,
    "start_time": "2021-10-19T12:29:10.759Z"
   },
   {
    "duration": 97,
    "start_time": "2021-10-19T12:29:10.828Z"
   },
   {
    "duration": 20,
    "start_time": "2021-10-19T12:29:10.927Z"
   },
   {
    "duration": 13,
    "start_time": "2021-10-19T12:29:10.950Z"
   },
   {
    "duration": 9,
    "start_time": "2021-10-19T12:29:10.966Z"
   },
   {
    "duration": 46,
    "start_time": "2021-10-19T12:29:10.978Z"
   },
   {
    "duration": 5,
    "start_time": "2021-10-19T12:31:48.469Z"
   },
   {
    "duration": 3,
    "start_time": "2021-10-19T12:34:39.256Z"
   },
   {
    "duration": 4,
    "start_time": "2021-10-19T18:11:44.936Z"
   },
   {
    "duration": 4,
    "start_time": "2021-10-19T18:32:12.948Z"
   },
   {
    "duration": 6,
    "start_time": "2021-10-19T18:35:26.632Z"
   },
   {
    "duration": 7,
    "start_time": "2021-10-19T18:35:50.929Z"
   },
   {
    "duration": 8,
    "start_time": "2021-10-19T18:36:01.450Z"
   },
   {
    "duration": 392,
    "start_time": "2021-10-19T18:42:01.057Z"
   },
   {
    "duration": 7,
    "start_time": "2021-10-19T18:42:08.311Z"
   },
   {
    "duration": 11,
    "start_time": "2021-10-19T18:42:18.275Z"
   },
   {
    "duration": 13,
    "start_time": "2021-10-19T18:42:49.843Z"
   },
   {
    "duration": 12,
    "start_time": "2021-10-19T18:42:53.428Z"
   },
   {
    "duration": 12,
    "start_time": "2021-10-19T18:42:57.340Z"
   },
   {
    "duration": 15,
    "start_time": "2021-10-19T18:44:07.473Z"
   },
   {
    "duration": 10,
    "start_time": "2021-10-19T18:44:16.217Z"
   },
   {
    "duration": 4,
    "start_time": "2021-10-19T18:44:51.780Z"
   },
   {
    "duration": 248,
    "start_time": "2021-10-19T19:05:38.568Z"
   },
   {
    "duration": 88,
    "start_time": "2021-10-19T19:07:21.247Z"
   },
   {
    "duration": 99,
    "start_time": "2021-10-19T19:07:27.415Z"
   },
   {
    "duration": 327,
    "start_time": "2021-10-19T19:08:09.753Z"
   },
   {
    "duration": 258,
    "start_time": "2021-10-19T19:08:17.019Z"
   },
   {
    "duration": 250,
    "start_time": "2021-10-19T19:08:56.805Z"
   },
   {
    "duration": 13,
    "start_time": "2021-10-19T19:09:05.989Z"
   },
   {
    "duration": 4473,
    "start_time": "2021-10-19T19:09:48.193Z"
   },
   {
    "duration": 4459,
    "start_time": "2021-10-19T19:09:59.695Z"
   },
   {
    "duration": 8,
    "start_time": "2021-10-19T19:10:05.458Z"
   },
   {
    "duration": 7,
    "start_time": "2021-10-19T19:10:32.963Z"
   },
   {
    "duration": 254,
    "start_time": "2021-10-19T19:10:49.332Z"
   },
   {
    "duration": 84,
    "start_time": "2021-10-19T19:10:57.980Z"
   },
   {
    "duration": 10,
    "start_time": "2021-10-19T19:11:03.709Z"
   },
   {
    "duration": 263,
    "start_time": "2021-10-19T19:11:25.871Z"
   },
   {
    "duration": 6,
    "start_time": "2021-10-19T19:11:50.641Z"
   },
   {
    "duration": 6,
    "start_time": "2021-10-19T19:11:56.696Z"
   },
   {
    "duration": 11,
    "start_time": "2021-10-19T19:12:02.449Z"
   },
   {
    "duration": 335,
    "start_time": "2021-10-19T19:12:11.938Z"
   },
   {
    "duration": 353,
    "start_time": "2021-10-19T19:12:19.210Z"
   },
   {
    "duration": 259,
    "start_time": "2021-10-19T19:12:24.442Z"
   },
   {
    "duration": 253,
    "start_time": "2021-10-19T19:12:31.407Z"
   },
   {
    "duration": 5,
    "start_time": "2021-10-19T19:12:36.387Z"
   },
   {
    "duration": 240,
    "start_time": "2021-10-19T19:12:48.324Z"
   },
   {
    "duration": 8,
    "start_time": "2021-10-19T19:12:57.324Z"
   },
   {
    "duration": 9,
    "start_time": "2021-10-19T19:13:23.822Z"
   },
   {
    "duration": 9,
    "start_time": "2021-10-19T19:13:30.046Z"
   },
   {
    "duration": 9,
    "start_time": "2021-10-19T19:13:34.246Z"
   },
   {
    "duration": 257,
    "start_time": "2021-10-19T19:14:09.336Z"
   },
   {
    "duration": 341,
    "start_time": "2021-10-19T19:14:32.460Z"
   },
   {
    "duration": 265,
    "start_time": "2021-10-19T19:14:56.748Z"
   },
   {
    "duration": 12,
    "start_time": "2021-10-19T19:15:08.252Z"
   },
   {
    "duration": 16,
    "start_time": "2021-10-19T19:15:57.528Z"
   },
   {
    "duration": 23243,
    "start_time": "2021-10-19T19:16:10.304Z"
   },
   {
    "duration": 18119,
    "start_time": "2021-10-19T19:17:03.822Z"
   },
   {
    "duration": 7,
    "start_time": "2021-10-19T19:17:26.821Z"
   },
   {
    "duration": 6,
    "start_time": "2021-10-19T19:17:31.621Z"
   },
   {
    "duration": 5186,
    "start_time": "2021-10-19T19:22:23.000Z"
   },
   {
    "duration": 21176,
    "start_time": "2021-10-19T19:22:43.914Z"
   },
   {
    "duration": 9,
    "start_time": "2021-10-19T19:23:06.576Z"
   },
   {
    "duration": 23,
    "start_time": "2021-10-19T19:23:15.707Z"
   },
   {
    "duration": 18,
    "start_time": "2021-10-19T19:23:25.217Z"
   },
   {
    "duration": 17,
    "start_time": "2021-10-19T19:23:51.733Z"
   },
   {
    "duration": 22160,
    "start_time": "2021-10-19T19:24:20.305Z"
   },
   {
    "duration": 26,
    "start_time": "2021-10-19T19:24:44.593Z"
   },
   {
    "duration": 14,
    "start_time": "2021-10-19T19:25:01.978Z"
   },
   {
    "duration": 18,
    "start_time": "2021-10-19T19:25:17.451Z"
   },
   {
    "duration": 22,
    "start_time": "2021-10-19T19:25:25.411Z"
   },
   {
    "duration": 24,
    "start_time": "2021-10-19T19:25:27.356Z"
   },
   {
    "duration": 9,
    "start_time": "2021-10-19T19:25:52.852Z"
   },
   {
    "duration": 8,
    "start_time": "2021-10-19T19:25:56.331Z"
   },
   {
    "duration": 9,
    "start_time": "2021-10-19T19:25:57.332Z"
   },
   {
    "duration": 8,
    "start_time": "2021-10-19T19:25:58.564Z"
   },
   {
    "duration": 10,
    "start_time": "2021-10-19T19:25:59.709Z"
   },
   {
    "duration": 6749,
    "start_time": "2021-10-19T19:26:35.704Z"
   },
   {
    "duration": 17,
    "start_time": "2021-10-19T19:26:48.879Z"
   },
   {
    "duration": 7,
    "start_time": "2021-10-19T19:26:58.177Z"
   },
   {
    "duration": 4,
    "start_time": "2021-10-19T19:27:11.578Z"
   },
   {
    "duration": 11,
    "start_time": "2021-10-19T19:27:53.548Z"
   },
   {
    "duration": 11,
    "start_time": "2021-10-19T19:28:09.701Z"
   },
   {
    "duration": 13,
    "start_time": "2021-10-19T19:28:17.871Z"
   },
   {
    "duration": 9,
    "start_time": "2021-10-19T19:28:27.407Z"
   },
   {
    "duration": 12,
    "start_time": "2021-10-19T19:28:38.656Z"
   },
   {
    "duration": 6566,
    "start_time": "2021-10-19T19:28:48.312Z"
   },
   {
    "duration": 10,
    "start_time": "2021-10-19T19:28:59.896Z"
   },
   {
    "duration": 3683,
    "start_time": "2021-10-19T19:29:14.658Z"
   },
   {
    "duration": 7,
    "start_time": "2021-10-19T19:29:54.548Z"
   },
   {
    "duration": 89,
    "start_time": "2021-10-19T19:30:13.277Z"
   },
   {
    "duration": 112,
    "start_time": "2021-10-19T19:30:24.606Z"
   },
   {
    "duration": 24,
    "start_time": "2021-10-19T19:30:30.221Z"
   },
   {
    "duration": 273,
    "start_time": "2021-10-19T19:30:43.519Z"
   },
   {
    "duration": 810,
    "start_time": "2021-10-19T19:31:44.980Z"
   },
   {
    "duration": 84,
    "start_time": "2021-10-19T19:32:05.564Z"
   },
   {
    "duration": 315,
    "start_time": "2021-10-19T19:32:32.333Z"
   },
   {
    "duration": 21,
    "start_time": "2021-10-19T19:33:30.906Z"
   },
   {
    "duration": 24,
    "start_time": "2021-10-19T19:33:38.576Z"
   },
   {
    "duration": 24,
    "start_time": "2021-10-19T19:34:04.796Z"
   },
   {
    "duration": 98,
    "start_time": "2021-10-19T19:38:31.461Z"
   },
   {
    "duration": 6693,
    "start_time": "2021-10-19T19:38:43.429Z"
   },
   {
    "duration": 6,
    "start_time": "2021-10-19T19:38:53.118Z"
   },
   {
    "duration": 258,
    "start_time": "2021-10-19T19:41:06.758Z"
   },
   {
    "duration": 722,
    "start_time": "2021-10-19T19:41:43.344Z"
   },
   {
    "duration": 6,
    "start_time": "2021-10-19T19:41:56.393Z"
   },
   {
    "duration": 6794,
    "start_time": "2021-10-19T19:42:53.445Z"
   },
   {
    "duration": 6,
    "start_time": "2021-10-19T19:43:00.838Z"
   },
   {
    "duration": 12,
    "start_time": "2021-10-19T19:43:05.621Z"
   },
   {
    "duration": 19,
    "start_time": "2021-10-19T19:43:53.848Z"
   },
   {
    "duration": 253,
    "start_time": "2021-10-19T19:49:57.727Z"
   },
   {
    "duration": 8,
    "start_time": "2021-10-19T19:50:38.169Z"
   },
   {
    "duration": 8,
    "start_time": "2021-10-19T19:50:42.897Z"
   },
   {
    "duration": 6550,
    "start_time": "2021-10-19T19:51:06.755Z"
   },
   {
    "duration": 12,
    "start_time": "2021-10-19T19:51:14.253Z"
   },
   {
    "duration": 11,
    "start_time": "2021-10-19T19:52:38.241Z"
   },
   {
    "duration": 13,
    "start_time": "2021-10-19T19:53:17.147Z"
   },
   {
    "duration": 6482,
    "start_time": "2021-10-19T20:03:14.160Z"
   },
   {
    "duration": 12,
    "start_time": "2021-10-19T20:03:20.645Z"
   },
   {
    "duration": 7312,
    "start_time": "2021-10-19T20:03:42.835Z"
   },
   {
    "duration": 15,
    "start_time": "2021-10-19T20:03:50.149Z"
   },
   {
    "duration": 8,
    "start_time": "2021-10-19T20:04:38.262Z"
   },
   {
    "duration": 6877,
    "start_time": "2021-10-19T20:05:41.778Z"
   },
   {
    "duration": 13,
    "start_time": "2021-10-19T20:05:48.657Z"
   },
   {
    "duration": 7,
    "start_time": "2021-10-19T20:05:48.673Z"
   },
   {
    "duration": 1291,
    "start_time": "2021-10-19T20:09:49.534Z"
   },
   {
    "duration": 1508,
    "start_time": "2021-10-19T20:09:50.827Z"
   },
   {
    "duration": 26,
    "start_time": "2021-10-19T20:09:52.338Z"
   },
   {
    "duration": 15,
    "start_time": "2021-10-19T20:09:52.366Z"
   },
   {
    "duration": 78,
    "start_time": "2021-10-19T20:09:52.383Z"
   },
   {
    "duration": 24,
    "start_time": "2021-10-19T20:09:52.463Z"
   },
   {
    "duration": 36,
    "start_time": "2021-10-19T20:09:52.491Z"
   },
   {
    "duration": 53,
    "start_time": "2021-10-19T20:09:52.531Z"
   },
   {
    "duration": 37,
    "start_time": "2021-10-19T20:09:52.587Z"
   },
   {
    "duration": 20,
    "start_time": "2021-10-19T20:09:52.627Z"
   },
   {
    "duration": 48,
    "start_time": "2021-10-19T20:09:52.649Z"
   },
   {
    "duration": 20,
    "start_time": "2021-10-19T20:09:52.723Z"
   },
   {
    "duration": 6,
    "start_time": "2021-10-19T20:09:52.746Z"
   },
   {
    "duration": 9,
    "start_time": "2021-10-19T20:09:52.754Z"
   },
   {
    "duration": 14,
    "start_time": "2021-10-19T20:09:52.767Z"
   },
   {
    "duration": 139,
    "start_time": "2021-10-19T20:09:52.784Z"
   },
   {
    "duration": 10,
    "start_time": "2021-10-19T20:09:52.926Z"
   },
   {
    "duration": 98,
    "start_time": "2021-10-19T20:09:52.939Z"
   },
   {
    "duration": 17,
    "start_time": "2021-10-19T20:09:53.040Z"
   },
   {
    "duration": 8,
    "start_time": "2021-10-19T20:09:53.060Z"
   },
   {
    "duration": 55,
    "start_time": "2021-10-19T20:09:53.072Z"
   },
   {
    "duration": 5,
    "start_time": "2021-10-19T20:09:53.130Z"
   },
   {
    "duration": 16,
    "start_time": "2021-10-19T20:09:53.139Z"
   },
   {
    "duration": 68,
    "start_time": "2021-10-19T20:09:53.158Z"
   },
   {
    "duration": 93,
    "start_time": "2021-10-19T20:09:53.230Z"
   },
   {
    "duration": 25,
    "start_time": "2021-10-19T20:09:53.326Z"
   },
   {
    "duration": 12,
    "start_time": "2021-10-19T20:09:53.354Z"
   },
   {
    "duration": 7,
    "start_time": "2021-10-19T20:09:53.369Z"
   },
   {
    "duration": 61,
    "start_time": "2021-10-19T20:09:53.378Z"
   },
   {
    "duration": 5,
    "start_time": "2021-10-19T20:09:53.442Z"
   },
   {
    "duration": 14,
    "start_time": "2021-10-19T20:09:53.449Z"
   },
   {
    "duration": 58,
    "start_time": "2021-10-19T20:09:53.466Z"
   },
   {
    "duration": 8,
    "start_time": "2021-10-19T20:09:53.528Z"
   },
   {
    "duration": 23,
    "start_time": "2021-10-19T20:09:53.623Z"
   },
   {
    "duration": 13,
    "start_time": "2021-10-19T20:09:53.649Z"
   },
   {
    "duration": 6,
    "start_time": "2021-10-19T20:09:53.723Z"
   },
   {
    "duration": 7,
    "start_time": "2021-10-19T20:09:53.732Z"
   },
   {
    "duration": 6,
    "start_time": "2021-10-19T20:09:53.742Z"
   },
   {
    "duration": 4,
    "start_time": "2021-10-19T20:09:53.751Z"
   },
   {
    "duration": 7,
    "start_time": "2021-10-19T20:09:53.757Z"
   },
   {
    "duration": 8,
    "start_time": "2021-10-19T20:09:53.766Z"
   },
   {
    "duration": 49,
    "start_time": "2021-10-19T20:09:53.776Z"
   },
   {
    "duration": 6630,
    "start_time": "2021-10-19T20:09:53.827Z"
   },
   {
    "duration": 12,
    "start_time": "2021-10-19T20:10:00.460Z"
   },
   {
    "duration": 1253,
    "start_time": "2021-10-19T20:10:56.372Z"
   },
   {
    "duration": 1232,
    "start_time": "2021-10-19T20:10:57.628Z"
   },
   {
    "duration": 25,
    "start_time": "2021-10-19T20:10:58.863Z"
   },
   {
    "duration": 36,
    "start_time": "2021-10-19T20:10:58.891Z"
   },
   {
    "duration": 48,
    "start_time": "2021-10-19T20:10:58.930Z"
   },
   {
    "duration": 16,
    "start_time": "2021-10-19T20:10:58.981Z"
   },
   {
    "duration": 14,
    "start_time": "2021-10-19T20:10:59.022Z"
   },
   {
    "duration": 48,
    "start_time": "2021-10-19T20:10:59.041Z"
   },
   {
    "duration": 44,
    "start_time": "2021-10-19T20:10:59.092Z"
   },
   {
    "duration": 17,
    "start_time": "2021-10-19T20:10:59.138Z"
   },
   {
    "duration": 68,
    "start_time": "2021-10-19T20:10:59.157Z"
   },
   {
    "duration": 19,
    "start_time": "2021-10-19T20:10:59.227Z"
   },
   {
    "duration": 7,
    "start_time": "2021-10-19T20:10:59.248Z"
   },
   {
    "duration": 6,
    "start_time": "2021-10-19T20:10:59.257Z"
   },
   {
    "duration": 24,
    "start_time": "2021-10-19T20:10:59.265Z"
   },
   {
    "duration": 33,
    "start_time": "2021-10-19T20:10:59.292Z"
   },
   {
    "duration": 103,
    "start_time": "2021-10-19T20:10:59.329Z"
   },
   {
    "duration": 14,
    "start_time": "2021-10-19T20:10:59.524Z"
   },
   {
    "duration": 13,
    "start_time": "2021-10-19T20:10:59.541Z"
   },
   {
    "duration": 7,
    "start_time": "2021-10-19T20:10:59.556Z"
   },
   {
    "duration": 56,
    "start_time": "2021-10-19T20:10:59.566Z"
   },
   {
    "duration": 6,
    "start_time": "2021-10-19T20:10:59.624Z"
   },
   {
    "duration": 12,
    "start_time": "2021-10-19T20:10:59.635Z"
   },
   {
    "duration": 74,
    "start_time": "2021-10-19T20:10:59.650Z"
   },
   {
    "duration": 96,
    "start_time": "2021-10-19T20:10:59.727Z"
   },
   {
    "duration": 17,
    "start_time": "2021-10-19T20:10:59.826Z"
   },
   {
    "duration": 10,
    "start_time": "2021-10-19T20:10:59.845Z"
   },
   {
    "duration": 6,
    "start_time": "2021-10-19T20:10:59.858Z"
   },
   {
    "duration": 65,
    "start_time": "2021-10-19T20:10:59.868Z"
   },
   {
    "duration": 6,
    "start_time": "2021-10-19T20:10:59.935Z"
   },
   {
    "duration": 16,
    "start_time": "2021-10-19T20:10:59.943Z"
   },
   {
    "duration": 8,
    "start_time": "2021-10-19T20:10:59.961Z"
   },
   {
    "duration": 7,
    "start_time": "2021-10-19T20:11:00.026Z"
   },
   {
    "duration": 17,
    "start_time": "2021-10-19T20:11:00.123Z"
   },
   {
    "duration": 11,
    "start_time": "2021-10-19T20:11:00.142Z"
   },
   {
    "duration": 10,
    "start_time": "2021-10-19T20:11:00.156Z"
   },
   {
    "duration": 8,
    "start_time": "2021-10-19T20:11:00.168Z"
   },
   {
    "duration": 45,
    "start_time": "2021-10-19T20:11:00.179Z"
   },
   {
    "duration": 5,
    "start_time": "2021-10-19T20:11:00.227Z"
   },
   {
    "duration": 14,
    "start_time": "2021-10-19T20:11:00.235Z"
   },
   {
    "duration": 12,
    "start_time": "2021-10-19T20:11:00.252Z"
   },
   {
    "duration": 12,
    "start_time": "2021-10-19T20:11:00.266Z"
   },
   {
    "duration": 6441,
    "start_time": "2021-10-19T20:11:00.281Z"
   },
   {
    "duration": 13,
    "start_time": "2021-10-19T20:11:06.725Z"
   },
   {
    "duration": 1108,
    "start_time": "2021-10-20T08:25:59.974Z"
   },
   {
    "duration": 2492,
    "start_time": "2021-10-20T08:26:01.084Z"
   },
   {
    "duration": 17,
    "start_time": "2021-10-20T08:26:03.578Z"
   },
   {
    "duration": 9,
    "start_time": "2021-10-20T08:26:03.597Z"
   },
   {
    "duration": 34,
    "start_time": "2021-10-20T08:26:03.608Z"
   },
   {
    "duration": 35,
    "start_time": "2021-10-20T08:26:03.643Z"
   },
   {
    "duration": 17,
    "start_time": "2021-10-20T08:26:03.679Z"
   },
   {
    "duration": 39,
    "start_time": "2021-10-20T08:26:03.698Z"
   },
   {
    "duration": 11,
    "start_time": "2021-10-20T08:26:03.740Z"
   },
   {
    "duration": 27,
    "start_time": "2021-10-20T08:26:03.754Z"
   },
   {
    "duration": 32,
    "start_time": "2021-10-20T08:26:03.783Z"
   },
   {
    "duration": 13,
    "start_time": "2021-10-20T08:26:03.817Z"
   },
   {
    "duration": 5,
    "start_time": "2021-10-20T08:26:03.832Z"
   },
   {
    "duration": 5,
    "start_time": "2021-10-20T08:26:03.838Z"
   },
   {
    "duration": 38,
    "start_time": "2021-10-20T08:26:03.844Z"
   },
   {
    "duration": 12,
    "start_time": "2021-10-20T08:26:03.884Z"
   },
   {
    "duration": 83,
    "start_time": "2021-10-20T08:26:03.898Z"
   },
   {
    "duration": 102,
    "start_time": "2021-10-20T08:26:03.984Z"
   },
   {
    "duration": 11,
    "start_time": "2021-10-20T08:26:04.088Z"
   },
   {
    "duration": 4,
    "start_time": "2021-10-20T08:26:04.101Z"
   },
   {
    "duration": 15,
    "start_time": "2021-10-20T08:26:04.106Z"
   },
   {
    "duration": 3,
    "start_time": "2021-10-20T08:26:04.122Z"
   },
   {
    "duration": 10,
    "start_time": "2021-10-20T08:26:04.127Z"
   },
   {
    "duration": 40,
    "start_time": "2021-10-20T08:26:04.139Z"
   },
   {
    "duration": 95,
    "start_time": "2021-10-20T08:26:04.182Z"
   },
   {
    "duration": 16,
    "start_time": "2021-10-20T08:26:04.279Z"
   },
   {
    "duration": 78,
    "start_time": "2021-10-20T08:26:04.300Z"
   },
   {
    "duration": 4,
    "start_time": "2021-10-20T08:26:04.380Z"
   },
   {
    "duration": 15,
    "start_time": "2021-10-20T08:26:04.385Z"
   },
   {
    "duration": 4,
    "start_time": "2021-10-20T08:26:04.402Z"
   },
   {
    "duration": 11,
    "start_time": "2021-10-20T08:26:04.407Z"
   },
   {
    "duration": 59,
    "start_time": "2021-10-20T08:26:04.420Z"
   },
   {
    "duration": 96,
    "start_time": "2021-10-20T08:26:04.481Z"
   },
   {
    "duration": 10,
    "start_time": "2021-10-20T08:26:04.578Z"
   },
   {
    "duration": 8,
    "start_time": "2021-10-20T08:26:04.590Z"
   },
   {
    "duration": 4,
    "start_time": "2021-10-20T08:26:04.600Z"
   },
   {
    "duration": 3,
    "start_time": "2021-10-20T08:26:04.605Z"
   },
   {
    "duration": 5,
    "start_time": "2021-10-20T08:26:04.609Z"
   },
   {
    "duration": 4,
    "start_time": "2021-10-20T08:26:04.615Z"
   },
   {
    "duration": 6,
    "start_time": "2021-10-20T08:26:04.620Z"
   },
   {
    "duration": 6,
    "start_time": "2021-10-20T08:26:04.627Z"
   },
   {
    "duration": 44,
    "start_time": "2021-10-20T08:26:04.634Z"
   },
   {
    "duration": 736,
    "start_time": "2021-10-20T08:26:04.680Z"
   },
   {
    "duration": 765,
    "start_time": "2021-10-20T08:26:04.653Z"
   },
   {
    "duration": 340,
    "start_time": "2021-10-20T08:26:57.408Z"
   },
   {
    "duration": 5,
    "start_time": "2021-10-20T08:27:17.500Z"
   },
   {
    "duration": 3,
    "start_time": "2021-10-20T08:28:33.192Z"
   },
   {
    "duration": 4059,
    "start_time": "2021-10-20T08:28:34.688Z"
   },
   {
    "duration": 6,
    "start_time": "2021-10-20T08:28:45.257Z"
   },
   {
    "duration": 9,
    "start_time": "2021-10-20T08:28:57.626Z"
   },
   {
    "duration": 10,
    "start_time": "2021-10-20T08:29:04.913Z"
   },
   {
    "duration": 15,
    "start_time": "2021-10-20T08:33:04.738Z"
   },
   {
    "duration": 13,
    "start_time": "2021-10-20T08:36:43.040Z"
   },
   {
    "duration": 1079,
    "start_time": "2021-10-20T09:23:00.818Z"
   },
   {
    "duration": 2607,
    "start_time": "2021-10-20T09:23:01.899Z"
   },
   {
    "duration": 19,
    "start_time": "2021-10-20T09:23:04.509Z"
   },
   {
    "duration": 12,
    "start_time": "2021-10-20T09:23:04.530Z"
   },
   {
    "duration": 57,
    "start_time": "2021-10-20T09:23:04.544Z"
   },
   {
    "duration": 12,
    "start_time": "2021-10-20T09:23:04.603Z"
   },
   {
    "duration": 25,
    "start_time": "2021-10-20T09:23:04.617Z"
   },
   {
    "duration": 43,
    "start_time": "2021-10-20T09:23:04.644Z"
   },
   {
    "duration": 12,
    "start_time": "2021-10-20T09:23:04.691Z"
   },
   {
    "duration": 20,
    "start_time": "2021-10-20T09:23:04.706Z"
   },
   {
    "duration": 53,
    "start_time": "2021-10-20T09:23:04.728Z"
   },
   {
    "duration": 16,
    "start_time": "2021-10-20T09:23:04.783Z"
   },
   {
    "duration": 24,
    "start_time": "2021-10-20T09:23:04.800Z"
   },
   {
    "duration": 16,
    "start_time": "2021-10-20T09:23:04.826Z"
   },
   {
    "duration": 15,
    "start_time": "2021-10-20T09:23:04.844Z"
   },
   {
    "duration": 4,
    "start_time": "2021-10-20T09:23:04.860Z"
   },
   {
    "duration": 5,
    "start_time": "2021-10-20T09:23:04.877Z"
   },
   {
    "duration": 104,
    "start_time": "2021-10-20T09:23:04.884Z"
   },
   {
    "duration": 90,
    "start_time": "2021-10-20T09:23:04.990Z"
   },
   {
    "duration": 10,
    "start_time": "2021-10-20T09:23:05.082Z"
   },
   {
    "duration": 17,
    "start_time": "2021-10-20T09:23:05.094Z"
   },
   {
    "duration": 4,
    "start_time": "2021-10-20T09:23:05.112Z"
   },
   {
    "duration": 20,
    "start_time": "2021-10-20T09:23:05.117Z"
   },
   {
    "duration": 43,
    "start_time": "2021-10-20T09:23:05.139Z"
   },
   {
    "duration": 97,
    "start_time": "2021-10-20T09:23:05.185Z"
   },
   {
    "duration": 98,
    "start_time": "2021-10-20T09:23:05.285Z"
   },
   {
    "duration": 11,
    "start_time": "2021-10-20T09:23:05.386Z"
   },
   {
    "duration": 4,
    "start_time": "2021-10-20T09:23:05.399Z"
   },
   {
    "duration": 19,
    "start_time": "2021-10-20T09:23:05.405Z"
   },
   {
    "duration": 4,
    "start_time": "2021-10-20T09:23:05.426Z"
   },
   {
    "duration": 16,
    "start_time": "2021-10-20T09:23:05.431Z"
   },
   {
    "duration": 30,
    "start_time": "2021-10-20T09:23:05.448Z"
   },
   {
    "duration": 8,
    "start_time": "2021-10-20T09:23:05.481Z"
   },
   {
    "duration": 193,
    "start_time": "2021-10-20T09:23:05.490Z"
   },
   {
    "duration": 8,
    "start_time": "2021-10-20T09:23:05.684Z"
   },
   {
    "duration": 9,
    "start_time": "2021-10-20T09:23:05.694Z"
   },
   {
    "duration": 5,
    "start_time": "2021-10-20T09:23:05.704Z"
   },
   {
    "duration": 6,
    "start_time": "2021-10-20T09:23:05.711Z"
   },
   {
    "duration": 5,
    "start_time": "2021-10-20T09:23:05.719Z"
   },
   {
    "duration": 6,
    "start_time": "2021-10-20T09:23:05.725Z"
   },
   {
    "duration": 5,
    "start_time": "2021-10-20T09:23:05.733Z"
   },
   {
    "duration": 9,
    "start_time": "2021-10-20T09:23:05.739Z"
   },
   {
    "duration": 3774,
    "start_time": "2021-10-20T09:23:05.750Z"
   },
   {
    "duration": 16,
    "start_time": "2021-10-20T09:23:09.525Z"
   },
   {
    "duration": 995,
    "start_time": "2021-10-21T08:42:40.861Z"
   },
   {
    "duration": 1098,
    "start_time": "2021-10-21T08:42:41.858Z"
   },
   {
    "duration": 17,
    "start_time": "2021-10-21T08:42:42.958Z"
   },
   {
    "duration": 20,
    "start_time": "2021-10-21T08:42:42.976Z"
   },
   {
    "duration": 34,
    "start_time": "2021-10-21T08:42:42.997Z"
   },
   {
    "duration": 10,
    "start_time": "2021-10-21T08:42:43.032Z"
   },
   {
    "duration": 21,
    "start_time": "2021-10-21T08:42:43.044Z"
   },
   {
    "duration": 52,
    "start_time": "2021-10-21T08:42:43.067Z"
   },
   {
    "duration": 11,
    "start_time": "2021-10-21T08:42:43.120Z"
   },
   {
    "duration": 16,
    "start_time": "2021-10-21T08:42:43.133Z"
   },
   {
    "duration": 57,
    "start_time": "2021-10-21T08:42:43.151Z"
   },
   {
    "duration": 14,
    "start_time": "2021-10-21T08:42:43.210Z"
   },
   {
    "duration": 10,
    "start_time": "2021-10-21T08:42:43.226Z"
   },
   {
    "duration": 12,
    "start_time": "2021-10-21T08:42:43.238Z"
   },
   {
    "duration": 25,
    "start_time": "2021-10-21T08:42:43.251Z"
   },
   {
    "duration": 18,
    "start_time": "2021-10-21T08:42:43.278Z"
   },
   {
    "duration": 104,
    "start_time": "2021-10-21T08:42:43.297Z"
   },
   {
    "duration": 17,
    "start_time": "2021-10-21T08:42:43.490Z"
   },
   {
    "duration": 18,
    "start_time": "2021-10-21T08:42:43.509Z"
   },
   {
    "duration": 24,
    "start_time": "2021-10-21T08:42:43.529Z"
   },
   {
    "duration": 44,
    "start_time": "2021-10-21T08:42:43.555Z"
   },
   {
    "duration": 12,
    "start_time": "2021-10-21T08:42:43.603Z"
   },
   {
    "duration": 24,
    "start_time": "2021-10-21T08:42:43.617Z"
   },
   {
    "duration": 50,
    "start_time": "2021-10-21T08:42:43.643Z"
   },
   {
    "duration": 96,
    "start_time": "2021-10-21T08:42:43.696Z"
   },
   {
    "duration": 22,
    "start_time": "2021-10-21T08:42:43.794Z"
   },
   {
    "duration": 24,
    "start_time": "2021-10-21T08:42:43.818Z"
   },
   {
    "duration": 22,
    "start_time": "2021-10-21T08:42:43.844Z"
   },
   {
    "duration": 26,
    "start_time": "2021-10-21T08:42:43.868Z"
   },
   {
    "duration": 13,
    "start_time": "2021-10-21T08:42:43.895Z"
   },
   {
    "duration": 15,
    "start_time": "2021-10-21T08:42:43.910Z"
   },
   {
    "duration": 18,
    "start_time": "2021-10-21T08:42:43.927Z"
   },
   {
    "duration": 49,
    "start_time": "2021-10-21T08:42:43.947Z"
   },
   {
    "duration": 102,
    "start_time": "2021-10-21T08:42:43.998Z"
   },
   {
    "duration": 21,
    "start_time": "2021-10-21T08:42:44.101Z"
   },
   {
    "duration": 13,
    "start_time": "2021-10-21T08:42:44.123Z"
   },
   {
    "duration": 11,
    "start_time": "2021-10-21T08:42:44.138Z"
   },
   {
    "duration": 18,
    "start_time": "2021-10-21T08:42:44.150Z"
   },
   {
    "duration": 17,
    "start_time": "2021-10-21T08:42:44.169Z"
   },
   {
    "duration": 19,
    "start_time": "2021-10-21T08:42:44.187Z"
   },
   {
    "duration": 19,
    "start_time": "2021-10-21T08:42:44.207Z"
   },
   {
    "duration": 12,
    "start_time": "2021-10-21T08:42:44.228Z"
   },
   {
    "duration": 3797,
    "start_time": "2021-10-21T08:42:44.242Z"
   },
   {
    "duration": 10,
    "start_time": "2021-10-21T08:42:48.040Z"
   },
   {
    "duration": 1270,
    "start_time": "2021-10-22T07:32:48.456Z"
   },
   {
    "duration": 1388,
    "start_time": "2021-10-22T07:32:49.728Z"
   },
   {
    "duration": 19,
    "start_time": "2021-10-22T07:32:51.119Z"
   },
   {
    "duration": 24,
    "start_time": "2021-10-22T07:32:51.140Z"
   },
   {
    "duration": 39,
    "start_time": "2021-10-22T07:32:51.167Z"
   },
   {
    "duration": 17,
    "start_time": "2021-10-22T07:32:51.208Z"
   },
   {
    "duration": 39,
    "start_time": "2021-10-22T07:32:51.228Z"
   },
   {
    "duration": 54,
    "start_time": "2021-10-22T07:32:51.272Z"
   },
   {
    "duration": 34,
    "start_time": "2021-10-22T07:32:51.329Z"
   },
   {
    "duration": 17,
    "start_time": "2021-10-22T07:32:51.366Z"
   },
   {
    "duration": 53,
    "start_time": "2021-10-22T07:32:51.386Z"
   },
   {
    "duration": 44,
    "start_time": "2021-10-22T07:32:51.441Z"
   },
   {
    "duration": 7,
    "start_time": "2021-10-22T07:32:51.488Z"
   },
   {
    "duration": 6,
    "start_time": "2021-10-22T07:32:51.496Z"
   },
   {
    "duration": 15,
    "start_time": "2021-10-22T07:32:51.504Z"
   },
   {
    "duration": 51,
    "start_time": "2021-10-22T07:32:51.521Z"
   },
   {
    "duration": 96,
    "start_time": "2021-10-22T07:32:51.575Z"
   },
   {
    "duration": 18,
    "start_time": "2021-10-22T07:32:51.674Z"
   },
   {
    "duration": 9,
    "start_time": "2021-10-22T07:32:51.694Z"
   },
   {
    "duration": 7,
    "start_time": "2021-10-22T07:32:51.764Z"
   },
   {
    "duration": 21,
    "start_time": "2021-10-22T07:32:51.773Z"
   },
   {
    "duration": 5,
    "start_time": "2021-10-22T07:32:51.796Z"
   },
   {
    "duration": 13,
    "start_time": "2021-10-22T07:32:51.806Z"
   },
   {
    "duration": 42,
    "start_time": "2021-10-22T07:32:51.822Z"
   },
   {
    "duration": 104,
    "start_time": "2021-10-22T07:32:51.866Z"
   },
   {
    "duration": 14,
    "start_time": "2021-10-22T07:32:51.972Z"
   },
   {
    "duration": 19,
    "start_time": "2021-10-22T07:32:51.988Z"
   },
   {
    "duration": 56,
    "start_time": "2021-10-22T07:32:52.009Z"
   },
   {
    "duration": 17,
    "start_time": "2021-10-22T07:32:52.067Z"
   },
   {
    "duration": 7,
    "start_time": "2021-10-22T07:32:52.086Z"
   },
   {
    "duration": 14,
    "start_time": "2021-10-22T07:32:52.095Z"
   },
   {
    "duration": 56,
    "start_time": "2021-10-22T07:32:52.111Z"
   },
   {
    "duration": 96,
    "start_time": "2021-10-22T07:32:52.172Z"
   },
   {
    "duration": 21,
    "start_time": "2021-10-22T07:32:52.270Z"
   },
   {
    "duration": 11,
    "start_time": "2021-10-22T07:32:52.293Z"
   },
   {
    "duration": 5,
    "start_time": "2021-10-22T07:32:52.305Z"
   },
   {
    "duration": 4,
    "start_time": "2021-10-22T07:32:52.312Z"
   },
   {
    "duration": 7,
    "start_time": "2021-10-22T07:32:52.318Z"
   },
   {
    "duration": 37,
    "start_time": "2021-10-22T07:32:52.326Z"
   },
   {
    "duration": 5,
    "start_time": "2021-10-22T07:32:52.366Z"
   },
   {
    "duration": 7,
    "start_time": "2021-10-22T07:32:52.373Z"
   },
   {
    "duration": 6,
    "start_time": "2021-10-22T07:32:52.382Z"
   },
   {
    "duration": 4496,
    "start_time": "2021-10-22T07:32:52.390Z"
   },
   {
    "duration": 11,
    "start_time": "2021-10-22T07:32:56.888Z"
   },
   {
    "duration": 6,
    "start_time": "2021-10-22T07:33:07.991Z"
   },
   {
    "duration": 10,
    "start_time": "2021-10-22T07:33:23.240Z"
   },
   {
    "duration": 7,
    "start_time": "2021-10-22T07:33:31.073Z"
   },
   {
    "duration": 5,
    "start_time": "2021-10-22T07:33:43.882Z"
   },
   {
    "duration": 90,
    "start_time": "2021-10-22T07:33:50.962Z"
   },
   {
    "duration": 5,
    "start_time": "2021-10-22T07:33:55.442Z"
   },
   {
    "duration": 4786,
    "start_time": "2021-10-22T07:34:47.677Z"
   },
   {
    "duration": 18,
    "start_time": "2021-10-22T07:34:52.466Z"
   }
  ],
  "kernelspec": {
   "display_name": "Python 3 (ipykernel)",
   "language": "python",
   "name": "python3"
  },
  "language_info": {
   "codemirror_mode": {
    "name": "ipython",
    "version": 3
   },
   "file_extension": ".py",
   "mimetype": "text/x-python",
   "name": "python",
   "nbconvert_exporter": "python",
   "pygments_lexer": "ipython3",
   "version": "3.8.12"
  },
  "toc": {
   "base_numbering": 1,
   "nav_menu": {},
   "number_sections": true,
   "sideBar": true,
   "skip_h1_title": true,
   "title_cell": "Table of Contents",
   "title_sidebar": "Contents",
   "toc_cell": false,
   "toc_position": {},
   "toc_section_display": true,
   "toc_window_display": false
  }
 },
 "nbformat": 4,
 "nbformat_minor": 4
}