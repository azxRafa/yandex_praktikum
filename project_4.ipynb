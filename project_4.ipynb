{
 "cells": [
  {
   "cell_type": "markdown",
   "metadata": {
    "id": "sIfNaMOxgFyK"
   },
   "source": [
    "# Исследование данных о российском кинопрокате\n",
    "\n"
   ]
  },
  {
   "cell_type": "markdown",
   "metadata": {},
   "source": [
    "Заказчик этого исследования — Министерство культуры Российской Федерации.\n",
    "Нужно изучить рынок российского кинопроката и выявить текущие тренды."
   ]
  },
  {
   "cell_type": "markdown",
   "metadata": {
    "id": "3bSlkCsbgFyL"
   },
   "source": [
    "## Шаг 1. Откройте файлы с данными и объедините их в один датафрейм. \n",
    "\n",
    "Объедините данные таким образом, чтобы все объекты из датасета `mkrf_movies` обязательно вошли в получившийся датафрейм. \n",
    "\n",
    "<div id=\"accordion\">\n",
    "    <div class=\"card\">\n",
    "        <div class=\"card-header\" id=\"headingThree\">\n",
    "            <button class=\"btn btn-link collapsed\" data-toggle=\"collapse\" data-target=\"#collapseHint_0\" aria-expanded=\"false\" aria-controls=\"collapseHint_0\">Подсказка</button>\n",
    "        </div>\n",
    "        <div id=\"collapseHint_0\" class=\"collapse\" aria-labelledby=\"headingThree\" data-parent=\"#accordion\">\n",
    "            <div class=\"card-body\">\n",
    "Обратите внимание на тип данных столбца, по которому будете соединять датафреймы. Тип данных этих столбцов должен быть одинаковым в обоих датафреймах.\n",
    "            </div>\n",
    "        </div>\n",
    "    </div>\n",
    "</div>"
   ]
  },
  {
   "cell_type": "code",
   "execution_count": 89,
   "metadata": {},
   "outputs": [],
   "source": [
    "import pandas as pd\n",
    "import numpy as np\n",
    "import matplotlib.pyplot as plt\n",
    "import warnings\n",
    "warnings.simplefilter('ignore')"
   ]
  },
  {
   "cell_type": "code",
   "execution_count": 2,
   "metadata": {
    "id": "dw87FlzMgFyM"
   },
   "outputs": [],
   "source": [
    "data_mkrf_movies = pd.read_csv(url)\n",
    "data_mkrf_shows = pd.read_csv(url)"
   ]
  },
  {
   "cell_type": "markdown",
   "metadata": {},
   "source": [
    "Для объединения данных нужно привести столбец `puNumber` к типу int, мешает одна строчка со значением \"нет\" удалим её."
   ]
  },
  {
   "cell_type": "code",
   "execution_count": 3,
   "metadata": {},
   "outputs": [],
   "source": [
    "data_mkrf_movies = data_mkrf_movies.drop(data_mkrf_movies.query('puNumber == \"нет\"').index)\n",
    "data_mkrf_movies.puNumber = data_mkrf_movies.puNumber.astype('int64')"
   ]
  },
  {
   "cell_type": "code",
   "execution_count": 4,
   "metadata": {},
   "outputs": [],
   "source": [
    "data_mkrf_movies = data_mkrf_movies.merge(data_mkrf_shows, how='left')"
   ]
  },
  {
   "cell_type": "code",
   "execution_count": 5,
   "metadata": {},
   "outputs": [
    {
     "data": {
      "text/html": [
       "<div>\n",
       "<style scoped>\n",
       "    .dataframe tbody tr th:only-of-type {\n",
       "        vertical-align: middle;\n",
       "    }\n",
       "\n",
       "    .dataframe tbody tr th {\n",
       "        vertical-align: top;\n",
       "    }\n",
       "\n",
       "    .dataframe thead th {\n",
       "        text-align: right;\n",
       "    }\n",
       "</style>\n",
       "<table border=\"1\" class=\"dataframe\">\n",
       "  <thead>\n",
       "    <tr style=\"text-align: right;\">\n",
       "      <th></th>\n",
       "      <th>title</th>\n",
       "      <th>puNumber</th>\n",
       "      <th>show_start_date</th>\n",
       "      <th>type</th>\n",
       "      <th>film_studio</th>\n",
       "      <th>production_country</th>\n",
       "      <th>director</th>\n",
       "      <th>producer</th>\n",
       "      <th>age_restriction</th>\n",
       "      <th>refundable_support</th>\n",
       "      <th>nonrefundable_support</th>\n",
       "      <th>budget</th>\n",
       "      <th>financing_source</th>\n",
       "      <th>ratings</th>\n",
       "      <th>genres</th>\n",
       "      <th>box_office</th>\n",
       "    </tr>\n",
       "  </thead>\n",
       "  <tbody>\n",
       "    <tr>\n",
       "      <td>0</td>\n",
       "      <td>Открытый простор</td>\n",
       "      <td>221048915</td>\n",
       "      <td>2015-11-27T12:00:00.000Z</td>\n",
       "      <td>Художественный</td>\n",
       "      <td>Тачстоун Пикчерз, Кобальт Пикчерз, Бикон Пикче...</td>\n",
       "      <td>США</td>\n",
       "      <td>Кевин Костнер</td>\n",
       "      <td>Дэвид Валдес, Кевин Костнер, Джейк Эбертс</td>\n",
       "      <td>«18+» - запрещено для детей</td>\n",
       "      <td>NaN</td>\n",
       "      <td>NaN</td>\n",
       "      <td>NaN</td>\n",
       "      <td>NaN</td>\n",
       "      <td>7.2</td>\n",
       "      <td>боевик,драма,мелодрама</td>\n",
       "      <td>NaN</td>\n",
       "    </tr>\n",
       "    <tr>\n",
       "      <td>1</td>\n",
       "      <td>Особо важное задание</td>\n",
       "      <td>111013716</td>\n",
       "      <td>2016-09-13T12:00:00.000Z</td>\n",
       "      <td>Художественный</td>\n",
       "      <td>Киностудия \"Мосфильм\"</td>\n",
       "      <td>СССР</td>\n",
       "      <td>Е.Матвеев</td>\n",
       "      <td>NaN</td>\n",
       "      <td>«6+» - для детей старше 6 лет</td>\n",
       "      <td>NaN</td>\n",
       "      <td>NaN</td>\n",
       "      <td>NaN</td>\n",
       "      <td>NaN</td>\n",
       "      <td>6.6</td>\n",
       "      <td>драма,военный</td>\n",
       "      <td>NaN</td>\n",
       "    </tr>\n",
       "    <tr>\n",
       "      <td>2</td>\n",
       "      <td>Особо опасен</td>\n",
       "      <td>221038416</td>\n",
       "      <td>2016-10-10T12:00:00.000Z</td>\n",
       "      <td>Художественный</td>\n",
       "      <td>Юниверсал Пикчерз, Кикстарт Продакшнз, Марк Пл...</td>\n",
       "      <td>США</td>\n",
       "      <td>Тимур Бекмамбетов</td>\n",
       "      <td>Джим Лемли, Джейсон Нетер, Марк Е.Платт, Яйн Смит</td>\n",
       "      <td>«18+» - запрещено для детей</td>\n",
       "      <td>NaN</td>\n",
       "      <td>NaN</td>\n",
       "      <td>NaN</td>\n",
       "      <td>NaN</td>\n",
       "      <td>6.8</td>\n",
       "      <td>фантастика,боевик,триллер</td>\n",
       "      <td>NaN</td>\n",
       "    </tr>\n",
       "    <tr>\n",
       "      <td>3</td>\n",
       "      <td>Особо опасен</td>\n",
       "      <td>221026916</td>\n",
       "      <td>2016-06-10T12:00:00.000Z</td>\n",
       "      <td>Художественный</td>\n",
       "      <td>Юниверсал Пикчерз, Кикстарт Продакшнз, Марк Пл...</td>\n",
       "      <td>США</td>\n",
       "      <td>Тимур Бекмамбетов</td>\n",
       "      <td>Джим Лемли, Джейсон Нетер, Марк Е.Платт, Яйн Смит</td>\n",
       "      <td>«18+» - запрещено для детей</td>\n",
       "      <td>NaN</td>\n",
       "      <td>NaN</td>\n",
       "      <td>NaN</td>\n",
       "      <td>NaN</td>\n",
       "      <td>6.8</td>\n",
       "      <td>фантастика,боевик,триллер</td>\n",
       "      <td>NaN</td>\n",
       "    </tr>\n",
       "    <tr>\n",
       "      <td>4</td>\n",
       "      <td>Особо опасен</td>\n",
       "      <td>221030815</td>\n",
       "      <td>2015-07-29T12:00:00.000Z</td>\n",
       "      <td>Художественный</td>\n",
       "      <td>Юниверсал Пикчерз, Кикстарт Продакшнз, Марк Пл...</td>\n",
       "      <td>США</td>\n",
       "      <td>Тимур Бекмамбетов</td>\n",
       "      <td>Джим Лемли, Джейсон Нетер, Марк Е.Платт, Яйн Смит</td>\n",
       "      <td>«18+» - запрещено для детей</td>\n",
       "      <td>NaN</td>\n",
       "      <td>NaN</td>\n",
       "      <td>NaN</td>\n",
       "      <td>NaN</td>\n",
       "      <td>6.8</td>\n",
       "      <td>фантастика,боевик,триллер</td>\n",
       "      <td>NaN</td>\n",
       "    </tr>\n",
       "  </tbody>\n",
       "</table>\n",
       "</div>"
      ],
      "text/plain": [
       "                  title   puNumber           show_start_date            type  \\\n",
       "0      Открытый простор  221048915  2015-11-27T12:00:00.000Z  Художественный   \n",
       "1  Особо важное задание  111013716  2016-09-13T12:00:00.000Z  Художественный   \n",
       "2          Особо опасен  221038416  2016-10-10T12:00:00.000Z  Художественный   \n",
       "3          Особо опасен  221026916  2016-06-10T12:00:00.000Z  Художественный   \n",
       "4          Особо опасен  221030815  2015-07-29T12:00:00.000Z  Художественный   \n",
       "\n",
       "                                         film_studio production_country  \\\n",
       "0  Тачстоун Пикчерз, Кобальт Пикчерз, Бикон Пикче...                США   \n",
       "1                              Киностудия \"Мосфильм\"               СССР   \n",
       "2  Юниверсал Пикчерз, Кикстарт Продакшнз, Марк Пл...                США   \n",
       "3  Юниверсал Пикчерз, Кикстарт Продакшнз, Марк Пл...                США   \n",
       "4  Юниверсал Пикчерз, Кикстарт Продакшнз, Марк Пл...                США   \n",
       "\n",
       "            director                                           producer  \\\n",
       "0      Кевин Костнер          Дэвид Валдес, Кевин Костнер, Джейк Эбертс   \n",
       "1          Е.Матвеев                                                NaN   \n",
       "2  Тимур Бекмамбетов  Джим Лемли, Джейсон Нетер, Марк Е.Платт, Яйн Смит   \n",
       "3  Тимур Бекмамбетов  Джим Лемли, Джейсон Нетер, Марк Е.Платт, Яйн Смит   \n",
       "4  Тимур Бекмамбетов  Джим Лемли, Джейсон Нетер, Марк Е.Платт, Яйн Смит   \n",
       "\n",
       "                 age_restriction  refundable_support  nonrefundable_support  \\\n",
       "0    «18+» - запрещено для детей                 NaN                    NaN   \n",
       "1  «6+» - для детей старше 6 лет                 NaN                    NaN   \n",
       "2    «18+» - запрещено для детей                 NaN                    NaN   \n",
       "3    «18+» - запрещено для детей                 NaN                    NaN   \n",
       "4    «18+» - запрещено для детей                 NaN                    NaN   \n",
       "\n",
       "   budget financing_source ratings                     genres  box_office  \n",
       "0     NaN              NaN     7.2     боевик,драма,мелодрама         NaN  \n",
       "1     NaN              NaN     6.6              драма,военный         NaN  \n",
       "2     NaN              NaN     6.8  фантастика,боевик,триллер         NaN  \n",
       "3     NaN              NaN     6.8  фантастика,боевик,триллер         NaN  \n",
       "4     NaN              NaN     6.8  фантастика,боевик,триллер         NaN  "
      ]
     },
     "execution_count": 5,
     "metadata": {},
     "output_type": "execute_result"
    }
   ],
   "source": [
    "data_mkrf_movies.head()"
   ]
  },
  {
   "cell_type": "code",
   "execution_count": 6,
   "metadata": {},
   "outputs": [
    {
     "name": "stdout",
     "output_type": "stream",
     "text": [
      "<class 'pandas.core.frame.DataFrame'>\n",
      "Int64Index: 7485 entries, 0 to 7484\n",
      "Data columns (total 16 columns):\n",
      "title                    7485 non-null object\n",
      "puNumber                 7485 non-null int64\n",
      "show_start_date          7485 non-null object\n",
      "type                     7485 non-null object\n",
      "film_studio              7467 non-null object\n",
      "production_country       7483 non-null object\n",
      "director                 7476 non-null object\n",
      "producer                 6917 non-null object\n",
      "age_restriction          7485 non-null object\n",
      "refundable_support       332 non-null float64\n",
      "nonrefundable_support    332 non-null float64\n",
      "budget                   332 non-null float64\n",
      "financing_source         332 non-null object\n",
      "ratings                  6519 non-null object\n",
      "genres                   6510 non-null object\n",
      "box_office               3158 non-null float64\n",
      "dtypes: float64(4), int64(1), object(11)\n",
      "memory usage: 994.1+ KB\n"
     ]
    }
   ],
   "source": [
    "data_mkrf_movies.info()"
   ]
  },
  {
   "cell_type": "markdown",
   "metadata": {},
   "source": [
    "- title — название фильма;\n",
    "- puNumber — номер прокатного удостоверения;\n",
    "- show_start_date — дата премьеры фильма;\n",
    "- type — тип фильма;\n",
    "- film_studio — студия-производитель;\n",
    "- production_country — страна-производитель;\n",
    "- director — режиссёр;\n",
    "- producer — продюсер;\n",
    "- age_restriction — возрастная категория;\n",
    "- refundable_support — объём возвратных средств государственной поддержки;\n",
    "- nonrefundable_support — объём невозвратных средств государственной поддержки;\n",
    "- financing_source — источник государственного финансирования;\n",
    "- budget — общий бюджет фильма;\n",
    "- ratings — рейтинг фильма на КиноПоиске;\n",
    "- genres — жанр фильма;\n",
    "- box_office — сборы в рублях."
   ]
  },
  {
   "cell_type": "markdown",
   "metadata": {},
   "source": [
    "### Вывод"
   ]
  },
  {
   "cell_type": "markdown",
   "metadata": {},
   "source": [
    "- Для объединения данных изменили тип данных в столбеце puNumber на int, а строку со значением \"нет\" удалили.\n",
    "- В 11 столбцах есть пропуски в данных"
   ]
  },
  {
   "cell_type": "markdown",
   "metadata": {
    "id": "KLDGpPG0gFyM"
   },
   "source": [
    "## Шаг 2. Предобработка данных"
   ]
  },
  {
   "cell_type": "markdown",
   "metadata": {
    "id": "ssWwKXsxgFyO"
   },
   "source": [
    "### Шаг 2.1. Проверьте типы данных\n",
    "\n",
    "- Проверьте типы данных в датафрейме и преобразуйте их там, где это необходимо."
   ]
  },
  {
   "cell_type": "code",
   "execution_count": 7,
   "metadata": {},
   "outputs": [
    {
     "data": {
      "text/plain": [
       "0   2015-11-27 12:00:00+00:00\n",
       "1   2016-09-13 12:00:00+00:00\n",
       "2   2016-10-10 12:00:00+00:00\n",
       "3   2016-06-10 12:00:00+00:00\n",
       "4   2015-07-29 12:00:00+00:00\n",
       "Name: show_start_date, dtype: datetime64[ns, UTC]"
      ]
     },
     "execution_count": 7,
     "metadata": {},
     "output_type": "execute_result"
    }
   ],
   "source": [
    "data_mkrf_movies['show_start_date'] = pd.to_datetime(data_mkrf_movies['show_start_date'], format='%Y-%m-%dT%H:%M:%S')\n",
    "data_mkrf_movies['show_start_date'].head()"
   ]
  },
  {
   "cell_type": "code",
   "execution_count": 8,
   "metadata": {},
   "outputs": [],
   "source": [
    "data_mkrf_movies.ratings = pd.to_numeric(data_mkrf_movies.ratings, errors='coerce')"
   ]
  },
  {
   "cell_type": "markdown",
   "metadata": {
    "id": "i0MOLbF-gFyP"
   },
   "source": [
    "### Шаг 2.2. Изучите пропуски в датафрейме\n",
    "\n",
    "- Объясните, почему заполнили пропуски определённым образом или почему не стали этого делать."
   ]
  },
  {
   "cell_type": "code",
   "execution_count": 9,
   "metadata": {},
   "outputs": [
    {
     "data": {
      "text/plain": [
       "title                    0.000000\n",
       "puNumber                 0.000000\n",
       "show_start_date          0.000000\n",
       "type                     0.000000\n",
       "film_studio              0.002405\n",
       "production_country       0.000267\n",
       "director                 0.001202\n",
       "producer                 0.075885\n",
       "age_restriction          0.000000\n",
       "refundable_support       0.955645\n",
       "nonrefundable_support    0.955645\n",
       "budget                   0.955645\n",
       "financing_source         0.955645\n",
       "ratings                  0.132933\n",
       "genres                   0.130261\n",
       "box_office               0.578090\n",
       "dtype: float64"
      ]
     },
     "execution_count": 9,
     "metadata": {},
     "output_type": "execute_result"
    }
   ],
   "source": [
    "data_mkrf_movies.isna().sum() / data_mkrf_movies.shape[0]"
   ]
  },
  {
   "cell_type": "markdown",
   "metadata": {},
   "source": [
    "В столбцах  `refundable_support`, `nonrefundable_support`, `budget`, `financing_source` больше 95% данных пропуски, а в столбце `box_office` больше 57%."
   ]
  },
  {
   "cell_type": "markdown",
   "metadata": {},
   "source": [
    "Заменим пропуски в столбцах `film_studio`, `production_country`, `director`, `producer`, `age_restriction` и `genres` на значение \"unknown\""
   ]
  },
  {
   "cell_type": "code",
   "execution_count": 10,
   "metadata": {
    "id": "8MJD_lkngFyP"
   },
   "outputs": [],
   "source": [
    "data_mkrf_movies[['film_studio', 'production_country', 'director', 'producer', 'age_restriction',  'genres']] = \\\n",
    "data_mkrf_movies[['film_studio', 'production_country', 'director', 'producer', 'age_restriction', 'genres']] \\\n",
    ".fillna('unknown')"
   ]
  },
  {
   "cell_type": "code",
   "execution_count": 11,
   "metadata": {},
   "outputs": [
    {
     "data": {
      "text/html": [
       "<div>\n",
       "<style scoped>\n",
       "    .dataframe tbody tr th:only-of-type {\n",
       "        vertical-align: middle;\n",
       "    }\n",
       "\n",
       "    .dataframe tbody tr th {\n",
       "        vertical-align: top;\n",
       "    }\n",
       "\n",
       "    .dataframe thead th {\n",
       "        text-align: right;\n",
       "    }\n",
       "</style>\n",
       "<table border=\"1\" class=\"dataframe\">\n",
       "  <thead>\n",
       "    <tr style=\"text-align: right;\">\n",
       "      <th></th>\n",
       "      <th>title</th>\n",
       "      <th>puNumber</th>\n",
       "      <th>show_start_date</th>\n",
       "      <th>type</th>\n",
       "      <th>film_studio</th>\n",
       "      <th>production_country</th>\n",
       "      <th>director</th>\n",
       "      <th>producer</th>\n",
       "      <th>age_restriction</th>\n",
       "      <th>refundable_support</th>\n",
       "      <th>nonrefundable_support</th>\n",
       "      <th>budget</th>\n",
       "      <th>financing_source</th>\n",
       "      <th>ratings</th>\n",
       "      <th>genres</th>\n",
       "      <th>box_office</th>\n",
       "    </tr>\n",
       "  </thead>\n",
       "  <tbody>\n",
       "    <tr>\n",
       "      <td>1281</td>\n",
       "      <td>Пока еще жива</td>\n",
       "      <td>111005313</td>\n",
       "      <td>2013-10-11 12:00:00+00:00</td>\n",
       "      <td>Художественный</td>\n",
       "      <td>АНО содействия развитию кинематографии \"Ангел-...</td>\n",
       "      <td>Россия</td>\n",
       "      <td>А.Атанесян</td>\n",
       "      <td>А.Атанесян, М.Бабаханов, Р.Бутко</td>\n",
       "      <td>«16+» - для детей старше 16 лет</td>\n",
       "      <td>0.0</td>\n",
       "      <td>26500000.0</td>\n",
       "      <td>79411900.0</td>\n",
       "      <td>Министерство культуры</td>\n",
       "      <td>8.1</td>\n",
       "      <td>драма,мелодрама</td>\n",
       "      <td>3.653536e+05</td>\n",
       "    </tr>\n",
       "    <tr>\n",
       "      <td>1448</td>\n",
       "      <td>Бесславные придурки</td>\n",
       "      <td>111003314</td>\n",
       "      <td>2014-03-28 12:00:00+00:00</td>\n",
       "      <td>Художественный</td>\n",
       "      <td>ООО \"Компания \"АТК-Студио\"</td>\n",
       "      <td>Россия</td>\n",
       "      <td>А.Якимчук</td>\n",
       "      <td>А.Тютрюмов</td>\n",
       "      <td>«12+» - для детей старше 12 лет</td>\n",
       "      <td>0.0</td>\n",
       "      <td>26000000.0</td>\n",
       "      <td>37142857.0</td>\n",
       "      <td>Министерство культуры</td>\n",
       "      <td>NaN</td>\n",
       "      <td>unknown</td>\n",
       "      <td>2.814000e+04</td>\n",
       "    </tr>\n",
       "    <tr>\n",
       "      <td>1498</td>\n",
       "      <td>Невидимки</td>\n",
       "      <td>111004213</td>\n",
       "      <td>2013-09-10 12:00:00+00:00</td>\n",
       "      <td>Художественный</td>\n",
       "      <td>ООО \"Компания \"РЕАЛ-ДАКОТА\"</td>\n",
       "      <td>Россия</td>\n",
       "      <td>Р.Давлетьяров, С.Комаров</td>\n",
       "      <td>Р.Давлетьяров, А.Котелевский, А.Олейников</td>\n",
       "      <td>«12+» - для детей старше 12 лет</td>\n",
       "      <td>0.0</td>\n",
       "      <td>107847945.0</td>\n",
       "      <td>176023490.0</td>\n",
       "      <td>Фонд кино</td>\n",
       "      <td>5.3</td>\n",
       "      <td>комедия,фантастика</td>\n",
       "      <td>1.995703e+07</td>\n",
       "    </tr>\n",
       "    <tr>\n",
       "      <td>1524</td>\n",
       "      <td>БЕРЦЫ</td>\n",
       "      <td>111004314</td>\n",
       "      <td>2014-05-05 12:00:00+00:00</td>\n",
       "      <td>Художественный</td>\n",
       "      <td>ООО \"Студия \"Пассажир\"</td>\n",
       "      <td>Россия</td>\n",
       "      <td>Е.Миндадзе (псевдоним Катя Шагалова)</td>\n",
       "      <td>Л.Антонова</td>\n",
       "      <td>«16+» - для детей старше 16 лет</td>\n",
       "      <td>0.0</td>\n",
       "      <td>28000000.0</td>\n",
       "      <td>40574140.0</td>\n",
       "      <td>Министерство культуры</td>\n",
       "      <td>4.2</td>\n",
       "      <td>драма</td>\n",
       "      <td>5.591750e+04</td>\n",
       "    </tr>\n",
       "    <tr>\n",
       "      <td>1792</td>\n",
       "      <td>Братья Ч</td>\n",
       "      <td>111004414</td>\n",
       "      <td>2014-04-23 12:00:00+00:00</td>\n",
       "      <td>Художественный</td>\n",
       "      <td>ООО \"Студия \"Пассажир\"</td>\n",
       "      <td>Россия</td>\n",
       "      <td>М.Угаров</td>\n",
       "      <td>А.Миндадзе, Л.Антонова</td>\n",
       "      <td>«16+» - для детей старше 16 лет</td>\n",
       "      <td>0.0</td>\n",
       "      <td>25000000.0</td>\n",
       "      <td>40015122.0</td>\n",
       "      <td>Министерство культуры</td>\n",
       "      <td>6.4</td>\n",
       "      <td>драма</td>\n",
       "      <td>2.321000e+05</td>\n",
       "    </tr>\n",
       "    <tr>\n",
       "      <td>...</td>\n",
       "      <td>...</td>\n",
       "      <td>...</td>\n",
       "      <td>...</td>\n",
       "      <td>...</td>\n",
       "      <td>...</td>\n",
       "      <td>...</td>\n",
       "      <td>...</td>\n",
       "      <td>...</td>\n",
       "      <td>...</td>\n",
       "      <td>...</td>\n",
       "      <td>...</td>\n",
       "      <td>...</td>\n",
       "      <td>...</td>\n",
       "      <td>...</td>\n",
       "      <td>...</td>\n",
       "      <td>...</td>\n",
       "    </tr>\n",
       "    <tr>\n",
       "      <td>7463</td>\n",
       "      <td>Союз спасения</td>\n",
       "      <td>111022019</td>\n",
       "      <td>2019-12-26 12:00:00+00:00</td>\n",
       "      <td>Художественный</td>\n",
       "      <td>ЗАО \"Дирекция кино\"</td>\n",
       "      <td>Россия</td>\n",
       "      <td>А.Кравчук</td>\n",
       "      <td>А.Максимов, К.Эрнст</td>\n",
       "      <td>«12+» - для детей старше 12 лет</td>\n",
       "      <td>100000000.0</td>\n",
       "      <td>400000000.0</td>\n",
       "      <td>980000000.0</td>\n",
       "      <td>Фонд кино</td>\n",
       "      <td>6.0</td>\n",
       "      <td>история,биография,драма</td>\n",
       "      <td>7.177032e+08</td>\n",
       "    </tr>\n",
       "    <tr>\n",
       "      <td>7465</td>\n",
       "      <td>Иван Царевич и Серый Волк 4</td>\n",
       "      <td>114005019</td>\n",
       "      <td>2019-12-20 12:00:00+00:00</td>\n",
       "      <td>Анимационный</td>\n",
       "      <td>ООО \"Студия анимационного кино \"Мельница\"</td>\n",
       "      <td>Россия</td>\n",
       "      <td>Д.Шмидт, К.Феоктистов</td>\n",
       "      <td>С.Сельянов, А.Боярский</td>\n",
       "      <td>«6+» - для детей старше 6 лет</td>\n",
       "      <td>100000000.0</td>\n",
       "      <td>0.0</td>\n",
       "      <td>190000000.0</td>\n",
       "      <td>Фонд кино</td>\n",
       "      <td>6.7</td>\n",
       "      <td>мультфильм,приключения,семейный</td>\n",
       "      <td>5.010692e+08</td>\n",
       "    </tr>\n",
       "    <tr>\n",
       "      <td>7473</td>\n",
       "      <td>Вторжение</td>\n",
       "      <td>111022519</td>\n",
       "      <td>2019-12-23 12:00:00+00:00</td>\n",
       "      <td>Художественный</td>\n",
       "      <td>ООО \"Арт Пикчерс Студия\", ООО \"Водород 2011\"</td>\n",
       "      <td>Россия</td>\n",
       "      <td>Ф.Бондарчук</td>\n",
       "      <td>Ф.Бондарчук, М.Врубель, А.Андрющенко, Д.Рудовский</td>\n",
       "      <td>«12+» - для детей старше 12 лет</td>\n",
       "      <td>100000000.0</td>\n",
       "      <td>400000000.0</td>\n",
       "      <td>944000000.0</td>\n",
       "      <td>Фонд кино</td>\n",
       "      <td>5.7</td>\n",
       "      <td>фантастика,боевик</td>\n",
       "      <td>NaN</td>\n",
       "    </tr>\n",
       "    <tr>\n",
       "      <td>7475</td>\n",
       "      <td>Я свободен</td>\n",
       "      <td>111023019</td>\n",
       "      <td>2019-12-26 12:00:00+00:00</td>\n",
       "      <td>Художественный</td>\n",
       "      <td>АО \"ТПО \"Киностудия им. М.Горького\"</td>\n",
       "      <td>Россия</td>\n",
       "      <td>И.Северов</td>\n",
       "      <td>С.Зернов</td>\n",
       "      <td>«12+» - для детей старше 12 лет</td>\n",
       "      <td>0.0</td>\n",
       "      <td>30000000.0</td>\n",
       "      <td>46154000.0</td>\n",
       "      <td>Министерство культуры</td>\n",
       "      <td>5.9</td>\n",
       "      <td>драма</td>\n",
       "      <td>NaN</td>\n",
       "    </tr>\n",
       "    <tr>\n",
       "      <td>7477</td>\n",
       "      <td>(Не)идеальный мужчина</td>\n",
       "      <td>111023119</td>\n",
       "      <td>2019-12-24 12:00:00+00:00</td>\n",
       "      <td>Художественный</td>\n",
       "      <td>ООО \"Нон-Стоп Продакшн\"</td>\n",
       "      <td>Россия</td>\n",
       "      <td>М.Бальчюнас (псевдоним М.Вайсберг)</td>\n",
       "      <td>С.Мелькумов, А.Роднянский, М.Вайсберг, Р.Минас...</td>\n",
       "      <td>«12+» - для детей старше 12 лет</td>\n",
       "      <td>40000000.0</td>\n",
       "      <td>60000000.0</td>\n",
       "      <td>150147502.0</td>\n",
       "      <td>Фонд кино</td>\n",
       "      <td>4.5</td>\n",
       "      <td>комедия,фантастика,мелодрама</td>\n",
       "      <td>NaN</td>\n",
       "    </tr>\n",
       "  </tbody>\n",
       "</table>\n",
       "<p>332 rows × 16 columns</p>\n",
       "</div>"
      ],
      "text/plain": [
       "                            title   puNumber           show_start_date  \\\n",
       "1281                Пока еще жива  111005313 2013-10-11 12:00:00+00:00   \n",
       "1448          Бесславные придурки  111003314 2014-03-28 12:00:00+00:00   \n",
       "1498                    Невидимки  111004213 2013-09-10 12:00:00+00:00   \n",
       "1524                        БЕРЦЫ  111004314 2014-05-05 12:00:00+00:00   \n",
       "1792                     Братья Ч  111004414 2014-04-23 12:00:00+00:00   \n",
       "...                           ...        ...                       ...   \n",
       "7463                Союз спасения  111022019 2019-12-26 12:00:00+00:00   \n",
       "7465  Иван Царевич и Серый Волк 4  114005019 2019-12-20 12:00:00+00:00   \n",
       "7473                    Вторжение  111022519 2019-12-23 12:00:00+00:00   \n",
       "7475                   Я свободен  111023019 2019-12-26 12:00:00+00:00   \n",
       "7477        (Не)идеальный мужчина  111023119 2019-12-24 12:00:00+00:00   \n",
       "\n",
       "                 type                                        film_studio  \\\n",
       "1281   Художественный  АНО содействия развитию кинематографии \"Ангел-...   \n",
       "1448   Художественный                         ООО \"Компания \"АТК-Студио\"   \n",
       "1498   Художественный                        ООО \"Компания \"РЕАЛ-ДАКОТА\"   \n",
       "1524   Художественный                             ООО \"Студия \"Пассажир\"   \n",
       "1792   Художественный                             ООО \"Студия \"Пассажир\"   \n",
       "...               ...                                                ...   \n",
       "7463   Художественный                                ЗАО \"Дирекция кино\"   \n",
       "7465     Анимационный          ООО \"Студия анимационного кино \"Мельница\"   \n",
       "7473   Художественный       ООО \"Арт Пикчерс Студия\", ООО \"Водород 2011\"   \n",
       "7475   Художественный                АО \"ТПО \"Киностудия им. М.Горького\"   \n",
       "7477   Художественный                           ООО \"Нон-Стоп Продакшн\"    \n",
       "\n",
       "     production_country                              director  \\\n",
       "1281             Россия                            А.Атанесян   \n",
       "1448             Россия                             А.Якимчук   \n",
       "1498             Россия              Р.Давлетьяров, С.Комаров   \n",
       "1524             Россия  Е.Миндадзе (псевдоним Катя Шагалова)   \n",
       "1792             Россия                              М.Угаров   \n",
       "...                 ...                                   ...   \n",
       "7463             Россия                             А.Кравчук   \n",
       "7465             Россия                 Д.Шмидт, К.Феоктистов   \n",
       "7473             Россия                           Ф.Бондарчук   \n",
       "7475             Россия                             И.Северов   \n",
       "7477             Россия    М.Бальчюнас (псевдоним М.Вайсберг)   \n",
       "\n",
       "                                               producer  \\\n",
       "1281                   А.Атанесян, М.Бабаханов, Р.Бутко   \n",
       "1448                                         А.Тютрюмов   \n",
       "1498          Р.Давлетьяров, А.Котелевский, А.Олейников   \n",
       "1524                                         Л.Антонова   \n",
       "1792                             А.Миндадзе, Л.Антонова   \n",
       "...                                                 ...   \n",
       "7463                                А.Максимов, К.Эрнст   \n",
       "7465                             С.Сельянов, А.Боярский   \n",
       "7473  Ф.Бондарчук, М.Врубель, А.Андрющенко, Д.Рудовский   \n",
       "7475                                           С.Зернов   \n",
       "7477  С.Мелькумов, А.Роднянский, М.Вайсберг, Р.Минас...   \n",
       "\n",
       "                      age_restriction  refundable_support  \\\n",
       "1281  «16+» - для детей старше 16 лет                 0.0   \n",
       "1448  «12+» - для детей старше 12 лет                 0.0   \n",
       "1498  «12+» - для детей старше 12 лет                 0.0   \n",
       "1524  «16+» - для детей старше 16 лет                 0.0   \n",
       "1792  «16+» - для детей старше 16 лет                 0.0   \n",
       "...                               ...                 ...   \n",
       "7463  «12+» - для детей старше 12 лет         100000000.0   \n",
       "7465    «6+» - для детей старше 6 лет         100000000.0   \n",
       "7473  «12+» - для детей старше 12 лет         100000000.0   \n",
       "7475  «12+» - для детей старше 12 лет                 0.0   \n",
       "7477  «12+» - для детей старше 12 лет          40000000.0   \n",
       "\n",
       "      nonrefundable_support       budget       financing_source  ratings  \\\n",
       "1281             26500000.0   79411900.0  Министерство культуры      8.1   \n",
       "1448             26000000.0   37142857.0  Министерство культуры      NaN   \n",
       "1498            107847945.0  176023490.0              Фонд кино      5.3   \n",
       "1524             28000000.0   40574140.0  Министерство культуры      4.2   \n",
       "1792             25000000.0   40015122.0  Министерство культуры      6.4   \n",
       "...                     ...          ...                    ...      ...   \n",
       "7463            400000000.0  980000000.0              Фонд кино      6.0   \n",
       "7465                    0.0  190000000.0              Фонд кино      6.7   \n",
       "7473            400000000.0  944000000.0              Фонд кино      5.7   \n",
       "7475             30000000.0   46154000.0  Министерство культуры      5.9   \n",
       "7477             60000000.0  150147502.0              Фонд кино      4.5   \n",
       "\n",
       "                               genres    box_office  \n",
       "1281                  драма,мелодрама  3.653536e+05  \n",
       "1448                          unknown  2.814000e+04  \n",
       "1498               комедия,фантастика  1.995703e+07  \n",
       "1524                            драма  5.591750e+04  \n",
       "1792                            драма  2.321000e+05  \n",
       "...                               ...           ...  \n",
       "7463          история,биография,драма  7.177032e+08  \n",
       "7465  мультфильм,приключения,семейный  5.010692e+08  \n",
       "7473                фантастика,боевик           NaN  \n",
       "7475                            драма           NaN  \n",
       "7477     комедия,фантастика,мелодрама           NaN  \n",
       "\n",
       "[332 rows x 16 columns]"
      ]
     },
     "execution_count": 11,
     "metadata": {},
     "output_type": "execute_result"
    }
   ],
   "source": [
    "data_mkrf_movies[~data_mkrf_movies.financing_source.isna()]"
   ]
  },
  {
   "cell_type": "markdown",
   "metadata": {},
   "source": [
    "Данные в столбцах `refundable_support`, `nonrefundable_support`, `budget`, `financing_source` связаны и находятся в одних и тех же строках, оставим пропуски чтобы не портить общую статистику по данным."
   ]
  },
  {
   "cell_type": "markdown",
   "metadata": {
    "id": "4c6k1t9ygFyQ"
   },
   "source": [
    "### Шаг 2.3. Изучите дубликаты в датафрейме\n",
    "- Проверьте, есть ли в данных дубликаты. Опишите причины, которые могли повлиять на появление дублей."
   ]
  },
  {
   "cell_type": "code",
   "execution_count": 12,
   "metadata": {},
   "outputs": [
    {
     "data": {
      "text/plain": [
       "0"
      ]
     },
     "execution_count": 12,
     "metadata": {},
     "output_type": "execute_result"
    }
   ],
   "source": [
    "data_mkrf_movies.duplicated().sum()"
   ]
  },
  {
   "cell_type": "markdown",
   "metadata": {},
   "source": [
    "Дублей нет"
   ]
  },
  {
   "cell_type": "code",
   "execution_count": 13,
   "metadata": {},
   "outputs": [
    {
     "data": {
      "text/plain": [
       "221054410    2\n",
       "221154310    2\n",
       "114001919    1\n",
       "124001617    1\n",
       "111005011    1\n",
       "Name: puNumber, dtype: int64"
      ]
     },
     "execution_count": 13,
     "metadata": {},
     "output_type": "execute_result"
    }
   ],
   "source": [
    "data_mkrf_movies.puNumber.value_counts().head()"
   ]
  },
  {
   "cell_type": "code",
   "execution_count": 14,
   "metadata": {},
   "outputs": [
    {
     "data": {
      "text/html": [
       "<div>\n",
       "<style scoped>\n",
       "    .dataframe tbody tr th:only-of-type {\n",
       "        vertical-align: middle;\n",
       "    }\n",
       "\n",
       "    .dataframe tbody tr th {\n",
       "        vertical-align: top;\n",
       "    }\n",
       "\n",
       "    .dataframe thead th {\n",
       "        text-align: right;\n",
       "    }\n",
       "</style>\n",
       "<table border=\"1\" class=\"dataframe\">\n",
       "  <thead>\n",
       "    <tr style=\"text-align: right;\">\n",
       "      <th></th>\n",
       "      <th>title</th>\n",
       "      <th>puNumber</th>\n",
       "      <th>show_start_date</th>\n",
       "      <th>type</th>\n",
       "      <th>film_studio</th>\n",
       "      <th>production_country</th>\n",
       "      <th>director</th>\n",
       "      <th>producer</th>\n",
       "      <th>age_restriction</th>\n",
       "      <th>refundable_support</th>\n",
       "      <th>nonrefundable_support</th>\n",
       "      <th>budget</th>\n",
       "      <th>financing_source</th>\n",
       "      <th>ratings</th>\n",
       "      <th>genres</th>\n",
       "      <th>box_office</th>\n",
       "    </tr>\n",
       "  </thead>\n",
       "  <tbody>\n",
       "    <tr>\n",
       "      <td>4637</td>\n",
       "      <td>Как жениться и остаться холостым</td>\n",
       "      <td>221154310</td>\n",
       "      <td>2010-12-17 12:00:00+00:00</td>\n",
       "      <td>Художественный</td>\n",
       "      <td>Ше Вам, Скрипт Ассосье, Тэ Фэ 1 Фильм Продюксь...</td>\n",
       "      <td>Франция</td>\n",
       "      <td>Эрик Лартиго</td>\n",
       "      <td>Амандин Било, Алан Шаба</td>\n",
       "      <td>«16+» - для детей старше 16 лет</td>\n",
       "      <td>NaN</td>\n",
       "      <td>NaN</td>\n",
       "      <td>NaN</td>\n",
       "      <td>NaN</td>\n",
       "      <td>7.0</td>\n",
       "      <td>мелодрама,комедия</td>\n",
       "      <td>NaN</td>\n",
       "    </tr>\n",
       "    <tr>\n",
       "      <td>4638</td>\n",
       "      <td>Иоанна - женщина на папском престоле /По роман...</td>\n",
       "      <td>221154310</td>\n",
       "      <td>2010-12-17 12:00:00+00:00</td>\n",
       "      <td>Художественный</td>\n",
       "      <td>Константин Фильм, А Эр Ди Дегето Фильм, Дюне ...</td>\n",
       "      <td>Германия - Великобритания - Италия - Испания</td>\n",
       "      <td>Зенке Вортманн</td>\n",
       "      <td>Оливер Бербен, Дорис Д.Хайнце, Фарук Элтан</td>\n",
       "      <td>«16+» - для детей старше 16 лет</td>\n",
       "      <td>NaN</td>\n",
       "      <td>NaN</td>\n",
       "      <td>NaN</td>\n",
       "      <td>NaN</td>\n",
       "      <td>7.6</td>\n",
       "      <td>драма,мелодрама,история</td>\n",
       "      <td>NaN</td>\n",
       "    </tr>\n",
       "    <tr>\n",
       "      <td>5066</td>\n",
       "      <td>Анализируй это!</td>\n",
       "      <td>221054410</td>\n",
       "      <td>2010-05-25 12:00:00+00:00</td>\n",
       "      <td>Художественный</td>\n",
       "      <td>Уорнер Бразерс, Вилладж Роудшоу Филмз ЛТД</td>\n",
       "      <td>США-Австралия</td>\n",
       "      <td>ХЭрольд Рэмис</td>\n",
       "      <td>Джейн Розенталь, Пола Уейнстейн</td>\n",
       "      <td>«16+» - для детей старше 16 лет</td>\n",
       "      <td>NaN</td>\n",
       "      <td>NaN</td>\n",
       "      <td>NaN</td>\n",
       "      <td>NaN</td>\n",
       "      <td>7.4</td>\n",
       "      <td>комедия,криминал</td>\n",
       "      <td>NaN</td>\n",
       "    </tr>\n",
       "    <tr>\n",
       "      <td>5067</td>\n",
       "      <td>Анализируй то!</td>\n",
       "      <td>221054410</td>\n",
       "      <td>2010-05-25 12:00:00+00:00</td>\n",
       "      <td>Художественный</td>\n",
       "      <td>Уорнер Бразерс, Виллидж Роадшоу Пикчерз, Эн-Пи...</td>\n",
       "      <td>США</td>\n",
       "      <td>Гарольд Реймис</td>\n",
       "      <td>Джейн Розенталь, Паул Уэйнстейн</td>\n",
       "      <td>«12+» - для детей старше 12 лет</td>\n",
       "      <td>NaN</td>\n",
       "      <td>NaN</td>\n",
       "      <td>NaN</td>\n",
       "      <td>NaN</td>\n",
       "      <td>6.8</td>\n",
       "      <td>комедия,криминал</td>\n",
       "      <td>NaN</td>\n",
       "    </tr>\n",
       "  </tbody>\n",
       "</table>\n",
       "</div>"
      ],
      "text/plain": [
       "                                                  title   puNumber  \\\n",
       "4637                   Как жениться и остаться холостым  221154310   \n",
       "4638  Иоанна - женщина на папском престоле /По роман...  221154310   \n",
       "5066                                    Анализируй это!  221054410   \n",
       "5067                                     Анализируй то!  221054410   \n",
       "\n",
       "               show_start_date            type  \\\n",
       "4637 2010-12-17 12:00:00+00:00  Художественный   \n",
       "4638 2010-12-17 12:00:00+00:00  Художественный   \n",
       "5066 2010-05-25 12:00:00+00:00  Художественный   \n",
       "5067 2010-05-25 12:00:00+00:00  Художественный   \n",
       "\n",
       "                                            film_studio  \\\n",
       "4637  Ше Вам, Скрипт Ассосье, Тэ Фэ 1 Фильм Продюксь...   \n",
       "4638   Константин Фильм, А Эр Ди Дегето Фильм, Дюне ...   \n",
       "5066          Уорнер Бразерс, Вилладж Роудшоу Филмз ЛТД   \n",
       "5067  Уорнер Бразерс, Виллидж Роадшоу Пикчерз, Эн-Пи...   \n",
       "\n",
       "                                production_country        director  \\\n",
       "4637                                       Франция    Эрик Лартиго   \n",
       "4638  Германия - Великобритания - Италия - Испания  Зенке Вортманн   \n",
       "5066                                 США-Австралия   ХЭрольд Рэмис   \n",
       "5067                                           США  Гарольд Реймис   \n",
       "\n",
       "                                        producer  \\\n",
       "4637                     Амандин Било, Алан Шаба   \n",
       "4638  Оливер Бербен, Дорис Д.Хайнце, Фарук Элтан   \n",
       "5066             Джейн Розенталь, Пола Уейнстейн   \n",
       "5067             Джейн Розенталь, Паул Уэйнстейн   \n",
       "\n",
       "                      age_restriction  refundable_support  \\\n",
       "4637  «16+» - для детей старше 16 лет                 NaN   \n",
       "4638  «16+» - для детей старше 16 лет                 NaN   \n",
       "5066  «16+» - для детей старше 16 лет                 NaN   \n",
       "5067  «12+» - для детей старше 12 лет                 NaN   \n",
       "\n",
       "      nonrefundable_support  budget financing_source  ratings  \\\n",
       "4637                    NaN     NaN              NaN      7.0   \n",
       "4638                    NaN     NaN              NaN      7.6   \n",
       "5066                    NaN     NaN              NaN      7.4   \n",
       "5067                    NaN     NaN              NaN      6.8   \n",
       "\n",
       "                       genres  box_office  \n",
       "4637        мелодрама,комедия         NaN  \n",
       "4638  драма,мелодрама,история         NaN  \n",
       "5066         комедия,криминал         NaN  \n",
       "5067         комедия,криминал         NaN  "
      ]
     },
     "execution_count": 14,
     "metadata": {},
     "output_type": "execute_result"
    }
   ],
   "source": [
    "data_mkrf_movies.query('(puNumber == 221054410) or (puNumber == 221154310)')"
   ]
  },
  {
   "cell_type": "markdown",
   "metadata": {},
   "source": [
    "Есть два дубля по столбцу `puNumber`, но название фильмов разное, возможно они появились из-за опечаток. Так как они нам не мешают и в них есть нужная информация в столбцах `age_restriction` и `ratings`, оставим их."
   ]
  },
  {
   "cell_type": "code",
   "execution_count": 15,
   "metadata": {},
   "outputs": [
    {
     "data": {
      "text/plain": [
       "День святого Валентина_                 5\n",
       "Кошмар на улице Вязов /Фильм ужасов/    4\n",
       "Красавчик-2                             4\n",
       "Рапунцель: Запутанная история           4\n",
       "Химера                                  4\n",
       "                                       ..\n",
       "Далеко на север                         1\n",
       "Дед Мороз. Битва Магов                  1\n",
       "Джон Уик 2                              1\n",
       "Попугай Club                            1\n",
       "Бэтмэн: Начало                          1\n",
       "Name: title, Length: 6771, dtype: int64"
      ]
     },
     "execution_count": 15,
     "metadata": {},
     "output_type": "execute_result"
    }
   ],
   "source": [
    "data_mkrf_movies.title.value_counts()"
   ]
  },
  {
   "cell_type": "code",
   "execution_count": 16,
   "metadata": {},
   "outputs": [
    {
     "data": {
      "text/html": [
       "<div>\n",
       "<style scoped>\n",
       "    .dataframe tbody tr th:only-of-type {\n",
       "        vertical-align: middle;\n",
       "    }\n",
       "\n",
       "    .dataframe tbody tr th {\n",
       "        vertical-align: top;\n",
       "    }\n",
       "\n",
       "    .dataframe thead th {\n",
       "        text-align: right;\n",
       "    }\n",
       "</style>\n",
       "<table border=\"1\" class=\"dataframe\">\n",
       "  <thead>\n",
       "    <tr style=\"text-align: right;\">\n",
       "      <th></th>\n",
       "      <th>title</th>\n",
       "      <th>puNumber</th>\n",
       "      <th>show_start_date</th>\n",
       "      <th>type</th>\n",
       "      <th>film_studio</th>\n",
       "      <th>production_country</th>\n",
       "      <th>director</th>\n",
       "      <th>producer</th>\n",
       "      <th>age_restriction</th>\n",
       "      <th>refundable_support</th>\n",
       "      <th>nonrefundable_support</th>\n",
       "      <th>budget</th>\n",
       "      <th>financing_source</th>\n",
       "      <th>ratings</th>\n",
       "      <th>genres</th>\n",
       "      <th>box_office</th>\n",
       "    </tr>\n",
       "  </thead>\n",
       "  <tbody>\n",
       "    <tr>\n",
       "      <td>3901</td>\n",
       "      <td>День святого Валентина_</td>\n",
       "      <td>221083810</td>\n",
       "      <td>2010-07-15 12:00:00+00:00</td>\n",
       "      <td>Художественный</td>\n",
       "      <td>Уорнер Бразерс, Нью Лайн Синема, Уэйн Райс, Ка...</td>\n",
       "      <td>США</td>\n",
       "      <td>Гарри Маршалл</td>\n",
       "      <td>Сэмюэл Дж.Браун</td>\n",
       "      <td>«16+» - для детей старше 16 лет</td>\n",
       "      <td>NaN</td>\n",
       "      <td>NaN</td>\n",
       "      <td>NaN</td>\n",
       "      <td>NaN</td>\n",
       "      <td>6.7</td>\n",
       "      <td>мелодрама,комедия</td>\n",
       "      <td>NaN</td>\n",
       "    </tr>\n",
       "    <tr>\n",
       "      <td>3990</td>\n",
       "      <td>День святого Валентина_</td>\n",
       "      <td>221068010</td>\n",
       "      <td>2010-05-14 12:00:00+00:00</td>\n",
       "      <td>Художественный</td>\n",
       "      <td>Уорнер Бразерс, Нью Лайн Синема, Уэйн Райс, Ка...</td>\n",
       "      <td>США</td>\n",
       "      <td>Гарри Маршалл</td>\n",
       "      <td>Сэмюэл Дж.Браун</td>\n",
       "      <td>«16+» - для детей старше 16 лет</td>\n",
       "      <td>NaN</td>\n",
       "      <td>NaN</td>\n",
       "      <td>NaN</td>\n",
       "      <td>NaN</td>\n",
       "      <td>6.7</td>\n",
       "      <td>мелодрама,комедия</td>\n",
       "      <td>NaN</td>\n",
       "    </tr>\n",
       "    <tr>\n",
       "      <td>4069</td>\n",
       "      <td>День святого Валентина_</td>\n",
       "      <td>121002210</td>\n",
       "      <td>2010-02-03 12:00:00+00:00</td>\n",
       "      <td>Художественный</td>\n",
       "      <td>Уорнер Бразерс, Нью Лайн Синема, Уэйн Райс, Ка...</td>\n",
       "      <td>США</td>\n",
       "      <td>Гарри Маршалл</td>\n",
       "      <td>Сэмюэл Дж.Браун</td>\n",
       "      <td>«16+» - для детей старше 16 лет</td>\n",
       "      <td>NaN</td>\n",
       "      <td>NaN</td>\n",
       "      <td>NaN</td>\n",
       "      <td>NaN</td>\n",
       "      <td>6.7</td>\n",
       "      <td>мелодрама,комедия</td>\n",
       "      <td>NaN</td>\n",
       "    </tr>\n",
       "    <tr>\n",
       "      <td>4195</td>\n",
       "      <td>День святого Валентина_</td>\n",
       "      <td>221136210</td>\n",
       "      <td>2010-11-30 12:00:00+00:00</td>\n",
       "      <td>Художественный</td>\n",
       "      <td>Уорнер Бразерс, Нью Лайн Синема, Уэйн Райс, Ка...</td>\n",
       "      <td>США</td>\n",
       "      <td>Гарри Маршалл</td>\n",
       "      <td>Сэмюэл Дж.Браун</td>\n",
       "      <td>«16+» - для детей старше 16 лет</td>\n",
       "      <td>NaN</td>\n",
       "      <td>NaN</td>\n",
       "      <td>NaN</td>\n",
       "      <td>NaN</td>\n",
       "      <td>6.7</td>\n",
       "      <td>мелодрама,комедия</td>\n",
       "      <td>NaN</td>\n",
       "    </tr>\n",
       "    <tr>\n",
       "      <td>5069</td>\n",
       "      <td>День святого Валентина_</td>\n",
       "      <td>221066410</td>\n",
       "      <td>2010-06-01 12:00:00+00:00</td>\n",
       "      <td>Художественный</td>\n",
       "      <td>Уорнер Бразерс, Нью Лайн Синема, Уэйн Райс, Ка...</td>\n",
       "      <td>США</td>\n",
       "      <td>Гарри Маршалл</td>\n",
       "      <td>Сэмюэл Дж.Браун</td>\n",
       "      <td>«16+» - для детей старше 16 лет</td>\n",
       "      <td>NaN</td>\n",
       "      <td>NaN</td>\n",
       "      <td>NaN</td>\n",
       "      <td>NaN</td>\n",
       "      <td>6.7</td>\n",
       "      <td>мелодрама,комедия</td>\n",
       "      <td>NaN</td>\n",
       "    </tr>\n",
       "  </tbody>\n",
       "</table>\n",
       "</div>"
      ],
      "text/plain": [
       "                        title   puNumber           show_start_date  \\\n",
       "3901  День святого Валентина_  221083810 2010-07-15 12:00:00+00:00   \n",
       "3990  День святого Валентина_  221068010 2010-05-14 12:00:00+00:00   \n",
       "4069  День святого Валентина_  121002210 2010-02-03 12:00:00+00:00   \n",
       "4195  День святого Валентина_  221136210 2010-11-30 12:00:00+00:00   \n",
       "5069  День святого Валентина_  221066410 2010-06-01 12:00:00+00:00   \n",
       "\n",
       "                type                                        film_studio  \\\n",
       "3901  Художественный  Уорнер Бразерс, Нью Лайн Синема, Уэйн Райс, Ка...   \n",
       "3990  Художественный  Уорнер Бразерс, Нью Лайн Синема, Уэйн Райс, Ка...   \n",
       "4069  Художественный  Уорнер Бразерс, Нью Лайн Синема, Уэйн Райс, Ка...   \n",
       "4195  Художественный  Уорнер Бразерс, Нью Лайн Синема, Уэйн Райс, Ка...   \n",
       "5069  Художественный  Уорнер Бразерс, Нью Лайн Синема, Уэйн Райс, Ка...   \n",
       "\n",
       "     production_country       director         producer  \\\n",
       "3901                США  Гарри Маршалл  Сэмюэл Дж.Браун   \n",
       "3990                США  Гарри Маршалл  Сэмюэл Дж.Браун   \n",
       "4069                США  Гарри Маршалл  Сэмюэл Дж.Браун   \n",
       "4195                США  Гарри Маршалл  Сэмюэл Дж.Браун   \n",
       "5069                США  Гарри Маршалл  Сэмюэл Дж.Браун   \n",
       "\n",
       "                      age_restriction  refundable_support  \\\n",
       "3901  «16+» - для детей старше 16 лет                 NaN   \n",
       "3990  «16+» - для детей старше 16 лет                 NaN   \n",
       "4069  «16+» - для детей старше 16 лет                 NaN   \n",
       "4195  «16+» - для детей старше 16 лет                 NaN   \n",
       "5069  «16+» - для детей старше 16 лет                 NaN   \n",
       "\n",
       "      nonrefundable_support  budget financing_source  ratings  \\\n",
       "3901                    NaN     NaN              NaN      6.7   \n",
       "3990                    NaN     NaN              NaN      6.7   \n",
       "4069                    NaN     NaN              NaN      6.7   \n",
       "4195                    NaN     NaN              NaN      6.7   \n",
       "5069                    NaN     NaN              NaN      6.7   \n",
       "\n",
       "                 genres  box_office  \n",
       "3901  мелодрама,комедия         NaN  \n",
       "3990  мелодрама,комедия         NaN  \n",
       "4069  мелодрама,комедия         NaN  \n",
       "4195  мелодрама,комедия         NaN  \n",
       "5069  мелодрама,комедия         NaN  "
      ]
     },
     "execution_count": 16,
     "metadata": {},
     "output_type": "execute_result"
    }
   ],
   "source": [
    "data_mkrf_movies.query('title == \"День святого Валентина_\"')"
   ]
  },
  {
   "cell_type": "markdown",
   "metadata": {},
   "source": [
    "Есть дубли по названию фильмов, дата выхода везде разная, скорее всего фильмы выходили не только в кинотеатрах, но и на разных платформах, если удалить эти дубли, то можем сломать статистику прибыльности по дате."
   ]
  },
  {
   "cell_type": "markdown",
   "metadata": {
    "id": "52fOPrEBgFyQ"
   },
   "source": [
    "### Шаг 2.4. Изучите категориальные значения\n",
    "\n",
    "- Посмотрите, какая общая проблема встречается почти во всех категориальных столбцах;\n",
    "- Исправьте проблемные значения в поле `type`.\n",
    "\n",
    "<div id=\"accordion\">\n",
    "    <div class=\"card\">\n",
    "        <div class=\"card-header\" id=\"headingThree\">\n",
    "            <button class=\"btn btn-link collapsed\" data-toggle=\"collapse\" data-target=\"#collapseHint_1\" aria-expanded=\"false\" aria-controls=\"collapseHint_1\">Подсказка</button>\n",
    "        </div>\n",
    "        <div id=\"collapseHint_1\" class=\"collapse\" aria-labelledby=\"headingThree\" data-parent=\"#accordion\">\n",
    "            <div class=\"card-body\">\n",
    "В поле <code>type</code> есть несколько значений, у которых появился пробел в начале строки. Самый простой способ их «починить» -- использовать метод <a href=\"https://pandas.pydata.org/docs/reference/api/pandas.Series.str.strip.html#pandas.Series.str.strip\">.str.strip</a>. Этот метод удаляет все пробелы, которые встречаются в начале и в конце строки. Применяют его таким образом:<br>\n",
    "<code>df['type'].str.strip()</code>\n",
    "            </div>\n",
    "        </div>\n",
    "    </div>\n",
    "</div>"
   ]
  },
  {
   "cell_type": "code",
   "execution_count": 17,
   "metadata": {
    "id": "aKck8RIdgFyQ"
   },
   "outputs": [
    {
     "data": {
      "text/plain": [
       "Художественный                4519\n",
       " Художественный               1389\n",
       "Анимационный                   828\n",
       "Прочие                         406\n",
       "Документальный                 288\n",
       "Научно-популярный               53\n",
       " Анимационный                    1\n",
       "Музыкально-развлекательный       1\n",
       "Name: type, dtype: int64"
      ]
     },
     "execution_count": 17,
     "metadata": {},
     "output_type": "execute_result"
    }
   ],
   "source": [
    "data_mkrf_movies.type.value_counts()"
   ]
  },
  {
   "cell_type": "code",
   "execution_count": 18,
   "metadata": {
    "scrolled": true
   },
   "outputs": [
    {
     "data": {
      "text/plain": [
       "Художественный                5908\n",
       "Анимационный                   829\n",
       "Прочие                         406\n",
       "Документальный                 288\n",
       "Научно-популярный               53\n",
       "Музыкально-развлекательный       1\n",
       "Name: type, dtype: int64"
      ]
     },
     "execution_count": 18,
     "metadata": {},
     "output_type": "execute_result"
    }
   ],
   "source": [
    "data_mkrf_movies.type = data_mkrf_movies.type.str.strip()\n",
    "data_mkrf_movies.type.value_counts()"
   ]
  },
  {
   "cell_type": "code",
   "execution_count": 19,
   "metadata": {},
   "outputs": [
    {
     "data": {
      "text/plain": [
       "США                     2172\n",
       "Россия                  1820\n",
       "СССР                     347\n",
       "Франция                  301\n",
       "Великобритания           257\n",
       "Италия                   129\n",
       "Германия                 110\n",
       "США - Великобритания      88\n",
       "Япония                    77\n",
       "Испания                   74\n",
       "Name: production_country, dtype: int64"
      ]
     },
     "execution_count": 19,
     "metadata": {},
     "output_type": "execute_result"
    }
   ],
   "source": [
    "data_mkrf_movies.production_country.value_counts().head(10)"
   ]
  },
  {
   "cell_type": "code",
   "execution_count": 20,
   "metadata": {},
   "outputs": [],
   "source": [
    "data_mkrf_movies.production_country = data_mkrf_movies.production_country.apply(lambda x: [i.strip() for i in x.split('-')])"
   ]
  },
  {
   "cell_type": "code",
   "execution_count": 21,
   "metadata": {},
   "outputs": [
    {
     "data": {
      "text/plain": [
       "[США]                    2175\n",
       "[Россия]                 1820\n",
       "[СССР]                    377\n",
       "[Франция]                 302\n",
       "[Великобритания]          259\n",
       "[Италия]                  131\n",
       "[Германия]                110\n",
       "[США, Великобритания]     104\n",
       "[Япония]                   77\n",
       "[Испания]                  74\n",
       "Name: production_country, dtype: int64"
      ]
     },
     "execution_count": 21,
     "metadata": {},
     "output_type": "execute_result"
    }
   ],
   "source": [
    "data_mkrf_movies.production_country.value_counts().head(10)"
   ]
  },
  {
   "cell_type": "markdown",
   "metadata": {},
   "source": [
    "После преобразования значений в список и удаления пробелов количество одинаковых значений в столбце `production_country` выросло."
   ]
  },
  {
   "cell_type": "code",
   "execution_count": 22,
   "metadata": {},
   "outputs": [
    {
     "data": {
      "text/plain": [
       "О.Семёнова          47\n",
       "Д.Червяцов          17\n",
       "Стивен Содерберг    17\n",
       "Ридли Скотт         16\n",
       "Тиль Швайгер        14\n",
       "Name: director, dtype: int64"
      ]
     },
     "execution_count": 22,
     "metadata": {},
     "output_type": "execute_result"
    }
   ],
   "source": [
    "data_mkrf_movies['director'].value_counts().head()"
   ]
  },
  {
   "cell_type": "code",
   "execution_count": 23,
   "metadata": {},
   "outputs": [],
   "source": [
    "data_mkrf_movies['director'] = data_mkrf_movies['director'].apply(lambda x: [i.strip() for i in x.split(',')])"
   ]
  },
  {
   "cell_type": "code",
   "execution_count": 24,
   "metadata": {},
   "outputs": [
    {
     "data": {
      "text/plain": [
       "[О.Семёнова]          60\n",
       "[Стивен Содерберг]    17\n",
       "[Д.Червяцов]          17\n",
       "[Ридли Скотт]         16\n",
       "[Тиль Швайгер]        14\n",
       "Name: director, dtype: int64"
      ]
     },
     "execution_count": 24,
     "metadata": {},
     "output_type": "execute_result"
    }
   ],
   "source": [
    "data_mkrf_movies['director'].value_counts().head()"
   ]
  },
  {
   "cell_type": "code",
   "execution_count": 25,
   "metadata": {
    "scrolled": true
   },
   "outputs": [
    {
     "data": {
      "text/plain": [
       "unknown                    975\n",
       "драма                      476\n",
       "комедия                    352\n",
       "мелодрама,комедия          222\n",
       "драма,мелодрама,комедия    189\n",
       "Name: genres, dtype: int64"
      ]
     },
     "execution_count": 25,
     "metadata": {},
     "output_type": "execute_result"
    }
   ],
   "source": [
    "data_mkrf_movies['genres'].value_counts().head()"
   ]
  },
  {
   "cell_type": "markdown",
   "metadata": {},
   "source": [
    "После преобразования значений в список и удаления пробелов количество одинаковых значений в столбце `director` выросло."
   ]
  },
  {
   "cell_type": "code",
   "execution_count": 26,
   "metadata": {},
   "outputs": [],
   "source": [
    "data_mkrf_movies['genres'] = data_mkrf_movies['genres'].apply(lambda x: [i.strip() for i in x.split(',')])"
   ]
  },
  {
   "cell_type": "code",
   "execution_count": 27,
   "metadata": {},
   "outputs": [
    {
     "data": {
      "text/plain": [
       "[unknown]                      975\n",
       "[драма]                        476\n",
       "[комедия]                      352\n",
       "[мелодрама, комедия]           222\n",
       "[драма, мелодрама, комедия]    189\n",
       "Name: genres, dtype: int64"
      ]
     },
     "execution_count": 27,
     "metadata": {},
     "output_type": "execute_result"
    }
   ],
   "source": [
    "data_mkrf_movies['genres'].value_counts().head()"
   ]
  },
  {
   "cell_type": "markdown",
   "metadata": {},
   "source": [
    "После преобразования значений в список и удаления пробелов количество одинаковых значений в столбце `genres` неизменилось."
   ]
  },
  {
   "cell_type": "code",
   "execution_count": 52,
   "metadata": {},
   "outputs": [],
   "source": [
    "data_mkrf_movies.age_restriction = data_mkrf_movies.age_restriction.apply(lambda x: x.split()[0])"
   ]
  },
  {
   "cell_type": "markdown",
   "metadata": {
    "id": "XFSN5lrEgFyR"
   },
   "source": [
    "### Шаг 2.5. Проверьте количественные значения\n",
    "\n",
    "- Проверьте, обнаружились ли в таких столбцах подозрительные данные. Как с такими данными лучше поступить?\n",
    "\n",
    "<div id=\"accordion\">\n",
    "    <div class=\"card\">\n",
    "        <div class=\"card-header\" id=\"headingThree\">\n",
    "            <button class=\"btn btn-link collapsed\" data-toggle=\"collapse\" data-target=\"#collapseHint_budget\" aria-expanded=\"false\" aria-controls=\"collapseHint_budget\">Подсказка</button>\n",
    "        </div>\n",
    "        <div id=\"collapseHint_budget\" class=\"collapse\" aria-labelledby=\"headingThree\" data-parent=\"#accordion\">\n",
    "            <div class=\"card-body\">\n",
    "Обратите внимание на описание столбца <code>budget</code>. Как этот столбец соотносится с двумя другими: <code>refundable_support</code> и <code>nonrefundable_support</code>?\n",
    "            </div>\n",
    "        </div>\n",
    "    </div>\n",
    "</div>"
   ]
  },
  {
   "cell_type": "code",
   "execution_count": 28,
   "metadata": {},
   "outputs": [
    {
     "data": {
      "text/html": [
       "<div>\n",
       "<style scoped>\n",
       "    .dataframe tbody tr th:only-of-type {\n",
       "        vertical-align: middle;\n",
       "    }\n",
       "\n",
       "    .dataframe tbody tr th {\n",
       "        vertical-align: top;\n",
       "    }\n",
       "\n",
       "    .dataframe thead th {\n",
       "        text-align: right;\n",
       "    }\n",
       "</style>\n",
       "<table border=\"1\" class=\"dataframe\">\n",
       "  <thead>\n",
       "    <tr style=\"text-align: right;\">\n",
       "      <th></th>\n",
       "      <th>refundable_support</th>\n",
       "      <th>nonrefundable_support</th>\n",
       "      <th>budget</th>\n",
       "    </tr>\n",
       "  </thead>\n",
       "  <tbody>\n",
       "    <tr>\n",
       "      <td>2052</td>\n",
       "      <td>0.0</td>\n",
       "      <td>23000000.0</td>\n",
       "      <td>0.0</td>\n",
       "    </tr>\n",
       "    <tr>\n",
       "      <td>2057</td>\n",
       "      <td>0.0</td>\n",
       "      <td>75000000.0</td>\n",
       "      <td>0.0</td>\n",
       "    </tr>\n",
       "    <tr>\n",
       "      <td>2471</td>\n",
       "      <td>10000000.0</td>\n",
       "      <td>70000000.0</td>\n",
       "      <td>0.0</td>\n",
       "    </tr>\n",
       "    <tr>\n",
       "      <td>2531</td>\n",
       "      <td>20000000.0</td>\n",
       "      <td>0.0</td>\n",
       "      <td>0.0</td>\n",
       "    </tr>\n",
       "    <tr>\n",
       "      <td>2614</td>\n",
       "      <td>60000000.0</td>\n",
       "      <td>100000000.0</td>\n",
       "      <td>0.0</td>\n",
       "    </tr>\n",
       "    <tr>\n",
       "      <td>2683</td>\n",
       "      <td>0.0</td>\n",
       "      <td>59000000.0</td>\n",
       "      <td>0.0</td>\n",
       "    </tr>\n",
       "    <tr>\n",
       "      <td>2787</td>\n",
       "      <td>0.0</td>\n",
       "      <td>35000000.0</td>\n",
       "      <td>0.0</td>\n",
       "    </tr>\n",
       "    <tr>\n",
       "      <td>2873</td>\n",
       "      <td>0.0</td>\n",
       "      <td>6000000.0</td>\n",
       "      <td>0.0</td>\n",
       "    </tr>\n",
       "    <tr>\n",
       "      <td>3046</td>\n",
       "      <td>19000000.0</td>\n",
       "      <td>51000000.0</td>\n",
       "      <td>0.0</td>\n",
       "    </tr>\n",
       "    <tr>\n",
       "      <td>3564</td>\n",
       "      <td>0.0</td>\n",
       "      <td>250000000.0</td>\n",
       "      <td>0.0</td>\n",
       "    </tr>\n",
       "    <tr>\n",
       "      <td>3674</td>\n",
       "      <td>20000000.0</td>\n",
       "      <td>20000000.0</td>\n",
       "      <td>0.0</td>\n",
       "    </tr>\n",
       "    <tr>\n",
       "      <td>3738</td>\n",
       "      <td>25000000.0</td>\n",
       "      <td>20000000.0</td>\n",
       "      <td>0.0</td>\n",
       "    </tr>\n",
       "    <tr>\n",
       "      <td>5672</td>\n",
       "      <td>20000000.0</td>\n",
       "      <td>40000000.0</td>\n",
       "      <td>0.0</td>\n",
       "    </tr>\n",
       "    <tr>\n",
       "      <td>5805</td>\n",
       "      <td>10000000.0</td>\n",
       "      <td>60000000.0</td>\n",
       "      <td>0.0</td>\n",
       "    </tr>\n",
       "    <tr>\n",
       "      <td>6007</td>\n",
       "      <td>40000000.0</td>\n",
       "      <td>40000000.0</td>\n",
       "      <td>0.0</td>\n",
       "    </tr>\n",
       "    <tr>\n",
       "      <td>6322</td>\n",
       "      <td>0.0</td>\n",
       "      <td>138969465.0</td>\n",
       "      <td>0.0</td>\n",
       "    </tr>\n",
       "    <tr>\n",
       "      <td>6822</td>\n",
       "      <td>60000000.0</td>\n",
       "      <td>120000000.0</td>\n",
       "      <td>0.0</td>\n",
       "    </tr>\n",
       "  </tbody>\n",
       "</table>\n",
       "</div>"
      ],
      "text/plain": [
       "      refundable_support  nonrefundable_support  budget\n",
       "2052                 0.0             23000000.0     0.0\n",
       "2057                 0.0             75000000.0     0.0\n",
       "2471          10000000.0             70000000.0     0.0\n",
       "2531          20000000.0                    0.0     0.0\n",
       "2614          60000000.0            100000000.0     0.0\n",
       "2683                 0.0             59000000.0     0.0\n",
       "2787                 0.0             35000000.0     0.0\n",
       "2873                 0.0              6000000.0     0.0\n",
       "3046          19000000.0             51000000.0     0.0\n",
       "3564                 0.0            250000000.0     0.0\n",
       "3674          20000000.0             20000000.0     0.0\n",
       "3738          25000000.0             20000000.0     0.0\n",
       "5672          20000000.0             40000000.0     0.0\n",
       "5805          10000000.0             60000000.0     0.0\n",
       "6007          40000000.0             40000000.0     0.0\n",
       "6322                 0.0            138969465.0     0.0\n",
       "6822          60000000.0            120000000.0     0.0"
      ]
     },
     "execution_count": 28,
     "metadata": {},
     "output_type": "execute_result"
    }
   ],
   "source": [
    "data_mkrf_movies[~data_mkrf_movies['budget'].isna()][['refundable_support', 'nonrefundable_support', 'budget']] \\\n",
    ".query('refundable_support + nonrefundable_support > budget')"
   ]
  },
  {
   "cell_type": "markdown",
   "metadata": {},
   "source": [
    "Так как есть государственная поддержка, `budget` не может быть равен нулю, приравняем его к пропуску чтобы не учитывать в будущем."
   ]
  },
  {
   "cell_type": "code",
   "execution_count": 29,
   "metadata": {},
   "outputs": [],
   "source": [
    "data_mkrf_movies.budget = np.where(data_mkrf_movies.budget == 0, \n",
    "                                   np.nan,\n",
    "                                   data_mkrf_movies.budget)"
   ]
  },
  {
   "cell_type": "markdown",
   "metadata": {
    "id": "Eu6oWp2CgFyS"
   },
   "source": [
    "### Шаг 2.6. Добавьте новые столбцы\n",
    "\n",
    "\n",
    "\n"
   ]
  },
  {
   "cell_type": "markdown",
   "metadata": {
    "id": "7GgW-UpAgFyS"
   },
   "source": [
    "- Создайте столбец с информацией о годе проката. Выделите год из даты премьеры фильма."
   ]
  },
  {
   "cell_type": "code",
   "execution_count": 30,
   "metadata": {
    "id": "I-yd1DkWgFyT"
   },
   "outputs": [],
   "source": [
    "data_mkrf_movies['year'] = data_mkrf_movies['show_start_date'].dt.year"
   ]
  },
  {
   "cell_type": "code",
   "execution_count": 31,
   "metadata": {},
   "outputs": [
    {
     "data": {
      "text/plain": [
       "0    2015\n",
       "1    2016\n",
       "2    2016\n",
       "3    2016\n",
       "4    2015\n",
       "Name: year, dtype: int64"
      ]
     },
     "execution_count": 31,
     "metadata": {},
     "output_type": "execute_result"
    }
   ],
   "source": [
    "data_mkrf_movies['year'].head()"
   ]
  },
  {
   "cell_type": "markdown",
   "metadata": {
    "id": "nFTDLDYOgFyT"
   },
   "source": [
    "- Создайте два столбца: с именем и фамилией главного режиссёра и основным жанром фильма. В столбцы войдут первые значения из списка режиссёров и жанров соответственно.\n",
    "\n",
    "<div id=\"accordion\">\n",
    "    <div class=\"card\">\n",
    "        <div class=\"card-header\" id=\"headingThree\">\n",
    "            <button class=\"btn btn-link collapsed\" data-toggle=\"collapse\" data-target=\"#collapseHint_2\" aria-expanded=\"false\" aria-controls=\"collapseHint_2\">Подсказка</button>\n",
    "        </div>\n",
    "        <div id=\"collapseHint_2\" class=\"collapse\" aria-labelledby=\"headingThree\" data-parent=\"#accordion\">\n",
    "            <div class=\"card-body\">\n",
    "Чтобы создать такие столбцы, лучше всего использовать собственную функцию. Эту функцию можно применить к двум столбцам сразу. \n",
    "            </div>\n",
    "        </div>\n",
    "    </div>\n",
    "</div>"
   ]
  },
  {
   "cell_type": "code",
   "execution_count": 32,
   "metadata": {},
   "outputs": [],
   "source": [
    "data_mkrf_movies['chief_director'] = data_mkrf_movies['director'].apply(lambda x: x[0])"
   ]
  },
  {
   "cell_type": "code",
   "execution_count": 33,
   "metadata": {},
   "outputs": [],
   "source": [
    "data_mkrf_movies['main_genre'] = data_mkrf_movies['genres'].apply(lambda x: x[0])"
   ]
  },
  {
   "cell_type": "code",
   "execution_count": 34,
   "metadata": {
    "id": "LSbRZKbMgFyU"
   },
   "outputs": [
    {
     "data": {
      "text/html": [
       "<div>\n",
       "<style scoped>\n",
       "    .dataframe tbody tr th:only-of-type {\n",
       "        vertical-align: middle;\n",
       "    }\n",
       "\n",
       "    .dataframe tbody tr th {\n",
       "        vertical-align: top;\n",
       "    }\n",
       "\n",
       "    .dataframe thead th {\n",
       "        text-align: right;\n",
       "    }\n",
       "</style>\n",
       "<table border=\"1\" class=\"dataframe\">\n",
       "  <thead>\n",
       "    <tr style=\"text-align: right;\">\n",
       "      <th></th>\n",
       "      <th>chief_director</th>\n",
       "      <th>main_genre</th>\n",
       "    </tr>\n",
       "  </thead>\n",
       "  <tbody>\n",
       "    <tr>\n",
       "      <td>0</td>\n",
       "      <td>Кевин Костнер</td>\n",
       "      <td>боевик</td>\n",
       "    </tr>\n",
       "    <tr>\n",
       "      <td>1</td>\n",
       "      <td>Е.Матвеев</td>\n",
       "      <td>драма</td>\n",
       "    </tr>\n",
       "    <tr>\n",
       "      <td>2</td>\n",
       "      <td>Тимур Бекмамбетов</td>\n",
       "      <td>фантастика</td>\n",
       "    </tr>\n",
       "    <tr>\n",
       "      <td>3</td>\n",
       "      <td>Тимур Бекмамбетов</td>\n",
       "      <td>фантастика</td>\n",
       "    </tr>\n",
       "    <tr>\n",
       "      <td>4</td>\n",
       "      <td>Тимур Бекмамбетов</td>\n",
       "      <td>фантастика</td>\n",
       "    </tr>\n",
       "  </tbody>\n",
       "</table>\n",
       "</div>"
      ],
      "text/plain": [
       "      chief_director  main_genre\n",
       "0      Кевин Костнер      боевик\n",
       "1          Е.Матвеев       драма\n",
       "2  Тимур Бекмамбетов  фантастика\n",
       "3  Тимур Бекмамбетов  фантастика\n",
       "4  Тимур Бекмамбетов  фантастика"
      ]
     },
     "execution_count": 34,
     "metadata": {},
     "output_type": "execute_result"
    }
   ],
   "source": [
    "data_mkrf_movies[['chief_director', 'main_genre']].head()"
   ]
  },
  {
   "cell_type": "markdown",
   "metadata": {
    "id": "1FsCXHwdgFyU"
   },
   "source": [
    "- Посчитайте, какую долю от общего бюджета фильма составляет государственная поддержка."
   ]
  },
  {
   "cell_type": "code",
   "execution_count": 35,
   "metadata": {
    "id": "LV6qFuZLgFyV"
   },
   "outputs": [],
   "source": [
    "data_mkrf_movies['share'] = (data_mkrf_movies.refundable_support +\n",
    "                             data_mkrf_movies.nonrefundable_support) / data_mkrf_movies.budget"
   ]
  },
  {
   "cell_type": "code",
   "execution_count": 36,
   "metadata": {},
   "outputs": [
    {
     "data": {
      "text/plain": [
       "1281    0.333703\n",
       "1448    0.700000\n",
       "1498    0.612691\n",
       "1524    0.690095\n",
       "1792    0.624764\n",
       "          ...   \n",
       "7463    0.510204\n",
       "7465    0.526316\n",
       "7473    0.529661\n",
       "7475    0.649998\n",
       "7477    0.666012\n",
       "Name: share, Length: 315, dtype: float64"
      ]
     },
     "execution_count": 36,
     "metadata": {},
     "output_type": "execute_result"
    }
   ],
   "source": [
    "data_mkrf_movies[~data_mkrf_movies['budget'].isna()]['share']"
   ]
  },
  {
   "cell_type": "markdown",
   "metadata": {
    "id": "6t4EukPLgFyV"
   },
   "source": [
    "## Шаг 3. Проведите исследовательский анализ данных\n"
   ]
  },
  {
   "cell_type": "markdown",
   "metadata": {
    "id": "vAH8WCzugFyV"
   },
   "source": [
    "- Посмотрите, сколько фильмов выходило в прокат каждый год. Обратите внимание, что данные о прокате в кинотеатрах известны не для всех фильмов. Посчитайте, какую долю составляют фильмы с указанной информацией о прокате в кинотеатрах."
   ]
  },
  {
   "cell_type": "code",
   "execution_count": 37,
   "metadata": {
    "id": "ABeV47y7gFyW",
    "scrolled": true
   },
   "outputs": [
    {
     "data": {
      "image/png": "[encoded data removed]",
      "text/plain": [
       "<Figure size 432x288 with 1 Axes>"
      ]
     },
     "metadata": {
      "needs_background": "light"
     },
     "output_type": "display_data"
    }
   ],
   "source": [
    "data_mkrf_movies.year.hist()\n",
    "plt.title('количество фильмов в год')\n",
    "plt.show()"
   ]
  },
  {
   "cell_type": "markdown",
   "metadata": {},
   "source": [
    "Если данные о прокате в кинотеатрах это `box_office` то их доля"
   ]
  },
  {
   "cell_type": "code",
   "execution_count": 38,
   "metadata": {},
   "outputs": [
    {
     "data": {
      "text/plain": [
       "0.4219104876419506"
      ]
     },
     "execution_count": 38,
     "metadata": {},
     "output_type": "execute_result"
    }
   ],
   "source": [
    "1 - (data_mkrf_movies.box_office.isna().sum() / data_mkrf_movies.shape[0])"
   ]
  },
  {
   "cell_type": "markdown",
   "metadata": {},
   "source": [
    "Доля проката в кинотеатрах составляет 42%, отсюда следует что некоторые фильмы могут снимать сразу для телевидения или стриминговых сервисов."
   ]
  },
  {
   "cell_type": "code",
   "execution_count": 39,
   "metadata": {},
   "outputs": [
    {
     "data": {
      "image/png": "[encoded data removed]",
      "text/plain": [
       "<Figure size 432x288 with 1 Axes>"
      ]
     },
     "metadata": {
      "needs_background": "light"
     },
     "output_type": "display_data"
    }
   ],
   "source": [
    "df = data_mkrf_movies.groupby('year').agg({'box_office':'count', 'title':'count'})\n",
    "df['share'] = df.box_office / df.title\n",
    "df.share.plot(kind='bar', grid=True)\n",
    "plt.title('доля прокатных фильмов по годам')\n",
    "plt.show()"
   ]
  },
  {
   "cell_type": "markdown",
   "metadata": {},
   "source": [
    "Доля прокатных фильмов растет до 2017, а потом начинает падать."
   ]
  },
  {
   "cell_type": "markdown",
   "metadata": {
    "id": "BEOdcIrIgFyW"
   },
   "source": [
    "- Изучите, как менялась динамика проката по годам. В каком году сумма сборов была минимальной? А максимальной?"
   ]
  },
  {
   "cell_type": "code",
   "execution_count": 40,
   "metadata": {
    "scrolled": true
   },
   "outputs": [
    {
     "data": {
      "image/png": "[encoded data removed]",
      "text/plain": [
       "<Figure size 432x288 with 1 Axes>"
      ]
     },
     "metadata": {
      "needs_background": "light"
     },
     "output_type": "display_data"
    }
   ],
   "source": [
    "data_mkrf_movies.groupby('year').agg({'box_office': 'sum'}).plot(kind='bar', grid=True)\n",
    "plt.title('сумма сборов в год')\n",
    "plt.show()"
   ]
  },
  {
   "cell_type": "markdown",
   "metadata": {},
   "source": [
    "- Данных по сборам в кинотеатрах практически нет до 2015 года, можно считать что данные до 2015 года недостоверны, возможно они не выгрузились из-за технической ошибки.\n",
    "- Показатель растет начиная с 2015 года — это может говорить о том, что российский кинопрокат становится популярнее с каждым годом."
   ]
  },
  {
   "cell_type": "code",
   "execution_count": 41,
   "metadata": {
    "id": "tfEhofYvgFyX"
   },
   "outputs": [],
   "source": [
    "min_year = data_mkrf_movies.groupby('year').agg({'box_office': 'sum'}).min()[0]\n",
    "max_year = data_mkrf_movies.groupby('year').agg({'box_office': 'sum'}).max()[0]"
   ]
  },
  {
   "cell_type": "code",
   "execution_count": 42,
   "metadata": {},
   "outputs": [
    {
     "data": {
      "text/html": [
       "<div>\n",
       "<style scoped>\n",
       "    .dataframe tbody tr th:only-of-type {\n",
       "        vertical-align: middle;\n",
       "    }\n",
       "\n",
       "    .dataframe tbody tr th {\n",
       "        vertical-align: top;\n",
       "    }\n",
       "\n",
       "    .dataframe thead th {\n",
       "        text-align: right;\n",
       "    }\n",
       "</style>\n",
       "<table border=\"1\" class=\"dataframe\">\n",
       "  <thead>\n",
       "    <tr style=\"text-align: right;\">\n",
       "      <th></th>\n",
       "      <th>box_office</th>\n",
       "    </tr>\n",
       "    <tr>\n",
       "      <th>year</th>\n",
       "      <th></th>\n",
       "    </tr>\n",
       "  </thead>\n",
       "  <tbody>\n",
       "    <tr>\n",
       "      <td>2010</td>\n",
       "      <td>2.428654e+06</td>\n",
       "    </tr>\n",
       "    <tr>\n",
       "      <td>2018</td>\n",
       "      <td>4.966840e+10</td>\n",
       "    </tr>\n",
       "  </tbody>\n",
       "</table>\n",
       "</div>"
      ],
      "text/plain": [
       "        box_office\n",
       "year              \n",
       "2010  2.428654e+06\n",
       "2018  4.966840e+10"
      ]
     },
     "execution_count": 42,
     "metadata": {},
     "output_type": "execute_result"
    }
   ],
   "source": [
    "data_mkrf_movies.groupby('year').agg({'box_office': 'sum'}).query('box_office == @min_year or box_office == @max_year')"
   ]
  },
  {
   "cell_type": "markdown",
   "metadata": {
    "id": "G-7qS-N-gFyY"
   },
   "source": [
    "- С помощью сводной таблицы посчитайте среднюю и медианную сумму сборов для каждого года."
   ]
  },
  {
   "cell_type": "code",
   "execution_count": 43,
   "metadata": {
    "id": "jmp-rgg9gFyY"
   },
   "outputs": [
    {
     "data": {
      "text/html": [
       "<div>\n",
       "<style scoped>\n",
       "    .dataframe tbody tr th:only-of-type {\n",
       "        vertical-align: middle;\n",
       "    }\n",
       "\n",
       "    .dataframe tbody tr th {\n",
       "        vertical-align: top;\n",
       "    }\n",
       "\n",
       "    .dataframe thead tr th {\n",
       "        text-align: left;\n",
       "    }\n",
       "\n",
       "    .dataframe thead tr:last-of-type th {\n",
       "        text-align: right;\n",
       "    }\n",
       "</style>\n",
       "<table border=\"1\" class=\"dataframe\">\n",
       "  <thead>\n",
       "    <tr>\n",
       "      <th></th>\n",
       "      <th>mean</th>\n",
       "      <th>median</th>\n",
       "    </tr>\n",
       "    <tr>\n",
       "      <th></th>\n",
       "      <th>box_office</th>\n",
       "      <th>box_office</th>\n",
       "    </tr>\n",
       "    <tr>\n",
       "      <th>year</th>\n",
       "      <th></th>\n",
       "      <th></th>\n",
       "    </tr>\n",
       "  </thead>\n",
       "  <tbody>\n",
       "    <tr>\n",
       "      <td>2010</td>\n",
       "      <td>2.313004e+04</td>\n",
       "      <td>1700.000</td>\n",
       "    </tr>\n",
       "    <tr>\n",
       "      <td>2011</td>\n",
       "      <td>1.293832e+05</td>\n",
       "      <td>3000.000</td>\n",
       "    </tr>\n",
       "    <tr>\n",
       "      <td>2012</td>\n",
       "      <td>5.433924e+04</td>\n",
       "      <td>5660.000</td>\n",
       "    </tr>\n",
       "    <tr>\n",
       "      <td>2013</td>\n",
       "      <td>1.619549e+05</td>\n",
       "      <td>3522.500</td>\n",
       "    </tr>\n",
       "    <tr>\n",
       "      <td>2014</td>\n",
       "      <td>2.668442e+07</td>\n",
       "      <td>18160.000</td>\n",
       "    </tr>\n",
       "    <tr>\n",
       "      <td>2015</td>\n",
       "      <td>8.494057e+07</td>\n",
       "      <td>4920933.000</td>\n",
       "    </tr>\n",
       "    <tr>\n",
       "      <td>2016</td>\n",
       "      <td>9.100057e+07</td>\n",
       "      <td>3846679.410</td>\n",
       "    </tr>\n",
       "    <tr>\n",
       "      <td>2017</td>\n",
       "      <td>1.360328e+08</td>\n",
       "      <td>9968340.000</td>\n",
       "    </tr>\n",
       "    <tr>\n",
       "      <td>2018</td>\n",
       "      <td>1.045651e+08</td>\n",
       "      <td>8891102.210</td>\n",
       "    </tr>\n",
       "    <tr>\n",
       "      <td>2019</td>\n",
       "      <td>9.136926e+07</td>\n",
       "      <td>4627798.345</td>\n",
       "    </tr>\n",
       "  </tbody>\n",
       "</table>\n",
       "</div>"
      ],
      "text/plain": [
       "              mean       median\n",
       "        box_office   box_office\n",
       "year                           \n",
       "2010  2.313004e+04     1700.000\n",
       "2011  1.293832e+05     3000.000\n",
       "2012  5.433924e+04     5660.000\n",
       "2013  1.619549e+05     3522.500\n",
       "2014  2.668442e+07    18160.000\n",
       "2015  8.494057e+07  4920933.000\n",
       "2016  9.100057e+07  3846679.410\n",
       "2017  1.360328e+08  9968340.000\n",
       "2018  1.045651e+08  8891102.210\n",
       "2019  9.136926e+07  4627798.345"
      ]
     },
     "execution_count": 43,
     "metadata": {},
     "output_type": "execute_result"
    }
   ],
   "source": [
    "data_mkrf_movies.pivot_table(index='year', values='box_office', aggfunc=['mean', 'median'])"
   ]
  },
  {
   "cell_type": "markdown",
   "metadata": {
    "id": "Ok89WFwJgFyZ"
   },
   "source": [
    "- Определите, влияет ли возрастное ограничение аудитории («6+», «12+», «16+», «18+» и т. д.) на сборы фильма в прокате в период с 2015 по 2019 год? Фильмы с каким возрастным ограничением собрали больше всего денег в прокате? Меняется ли картина в зависимости от года? Если да, предположите, с чем это может быть связано."
   ]
  },
  {
   "cell_type": "code",
   "execution_count": 63,
   "metadata": {
    "id": "jsSbEqfjgFya"
   },
   "outputs": [
    {
     "data": {
      "image/png": "[encoded data removed]",
      "text/plain": [
       "<Figure size 864x576 with 1 Axes>"
      ]
     },
     "metadata": {
      "needs_background": "light"
     },
     "output_type": "display_data"
    }
   ],
   "source": [
    "data_mkrf_movies.query('2019 >= year >= 2015') \\\n",
    "                .pivot_table(index=['year'], columns='age_restriction', values='box_office', aggfunc='mean') \\\n",
    "                .plot(kind='bar', grid=True, figsize=(12,8))\n",
    "plt.title('средняя сумма сборов по возрастным ограничениям аудитории в год')\n",
    "plt.show()"
   ]
  },
  {
   "cell_type": "markdown",
   "metadata": {},
   "source": [
    "В 2017 году доля прокатынх фильмов была самой большой, а фильмы с возрастным ограничением «6+» заработали больше денег чем обычно."
   ]
  },
  {
   "cell_type": "code",
   "execution_count": 93,
   "metadata": {},
   "outputs": [
    {
     "data": {
      "image/png": "[encoded data removed]",
      "text/plain": [
       "<Figure size 720x576 with 1 Axes>"
      ]
     },
     "metadata": {
      "needs_background": "light"
     },
     "output_type": "display_data"
    }
   ],
   "source": [
    "age_restriction = data_mkrf_movies.age_restriction.unique()\n",
    "df = pd.DataFrame(data_mkrf_movies.title)\n",
    "for i in age_restriction:\n",
    "    df[i] = data_mkrf_movies.query('(2019 >= year >= 2015) and (age_restriction == @i)').box_office\n",
    "plt.figure(figsize=(10,8))\n",
    "df.drop('title', axis=1).boxplot()\n",
    "plt.title('сборы по возрастным ограничениям аудитории')\n",
    "plt.show()"
   ]
  },
  {
   "cell_type": "markdown",
   "metadata": {},
   "source": [
    "В среднем, если убрать выбросы, больше всего сборов в прокате получают фильмы с возрастным ограничением «12+» и «6+»."
   ]
  },
  {
   "cell_type": "code",
   "execution_count": 78,
   "metadata": {},
   "outputs": [
    {
     "data": {
      "text/plain": [
       "0       7.2\n",
       "2       6.8\n",
       "3       6.8\n",
       "4       6.8\n",
       "8       8.0\n",
       "       ... \n",
       "7457    8.0\n",
       "7459    4.9\n",
       "7471    3.9\n",
       "7474    8.2\n",
       "7478    NaN\n",
       "Name: ratings, Length: 1086, dtype: float64"
      ]
     },
     "execution_count": 78,
     "metadata": {},
     "output_type": "execute_result"
    }
   ],
   "source": [
    "data_mkrf_movies.query('(2019 >= year >= 2015) and (age_restriction == \"«18+»\")').ratings"
   ]
  },
  {
   "cell_type": "code",
   "execution_count": 66,
   "metadata": {},
   "outputs": [
    {
     "data": {
      "text/plain": [
       "array(['«18+»', '«6+»', '«12+»', '«16+»', '«0+»'], dtype=object)"
      ]
     },
     "execution_count": 66,
     "metadata": {},
     "output_type": "execute_result"
    }
   ],
   "source": [
    "data_mkrf_movies.age_restriction.unique()"
   ]
  },
  {
   "cell_type": "markdown",
   "metadata": {},
   "source": [
    "### Вывод"
   ]
  },
  {
   "cell_type": "markdown",
   "metadata": {},
   "source": [
    "- Больше всего фильмов вышло в 2010, а меньше в 2017.\n",
    "- Больше всего сборов было в 2018, а меньше в 2010.\n",
    "- Возрастное ограничение аудитории влияет на сборы фильмов.\n",
    "- В среднем, если убрать выбросы, больше всего сборов в прокате получают фильмы с возрастным ограничением «12+» и «6+».\n",
    "- В 2017 году доля прокатынх фильмов была самой большой, а фильмы с возрастным ограничением «6+» заработали больше денег чем обычно."
   ]
  },
  {
   "cell_type": "markdown",
   "metadata": {
    "id": "l_Kg6Ku4gFya"
   },
   "source": [
    "### Шаг 4. Исследуйте фильмы, которые получили государственную поддержку\n",
    "\n",
    "На этом этапе нет конкретных инструкций и заданий — поищите интересные закономерности в данных. Посмотрите, сколько выделяют средств на поддержку кино. Проверьте, хорошо ли окупаются такие фильмы, какой у них рейтинг."
   ]
  },
  {
   "cell_type": "code",
   "execution_count": 46,
   "metadata": {},
   "outputs": [
    {
     "data": {
      "image/png": "[encoded data removed]",
      "text/plain": [
       "<Figure size 432x288 with 1 Axes>"
      ]
     },
     "metadata": {
      "needs_background": "light"
     },
     "output_type": "display_data"
    }
   ],
   "source": [
    "(data_mkrf_movies[~data_mkrf_movies['budget'].isna()]['refundable_support'] + \n",
    " data_mkrf_movies[~data_mkrf_movies['budget'].isna()]['nonrefundable_support']).hist()\n",
    "plt.title('сумма средств на поддержку кино')\n",
    "plt.show()"
   ]
  },
  {
   "cell_type": "markdown",
   "metadata": {},
   "source": [
    "Сумма государственной поддержки кино обычно не превышает 100000000."
   ]
  },
  {
   "cell_type": "code",
   "execution_count": 99,
   "metadata": {},
   "outputs": [
    {
     "data": {
      "image/png": "[encoded data removed]",
      "text/plain": [
       "<Figure size 432x288 with 1 Axes>"
      ]
     },
     "metadata": {
      "needs_background": "light"
     },
     "output_type": "display_data"
    }
   ],
   "source": [
    "data_mkrf_movies.groupby('year').agg({'budget':'sum'}).plot(kind='bar', grid=True)\n",
    "plt.title('сумма средств на поддержку кино по годам')\n",
    "plt.show()"
   ]
  },
  {
   "cell_type": "markdown",
   "metadata": {},
   "source": [
    "С 2015 года до 2018 года сумма средств на поддержку кино понемногу уменшалась, а в 2019 году выросла в почти два раза."
   ]
  },
  {
   "cell_type": "code",
   "execution_count": 47,
   "metadata": {},
   "outputs": [],
   "source": [
    "data_mkrf_movies['profit'] = data_mkrf_movies['box_office'] - data_mkrf_movies['budget']"
   ]
  },
  {
   "cell_type": "code",
   "execution_count": 48,
   "metadata": {
    "id": "W9QKpjUdgFyb"
   },
   "outputs": [
    {
     "data": {
      "text/html": [
       "<div>\n",
       "<style scoped>\n",
       "    .dataframe tbody tr th:only-of-type {\n",
       "        vertical-align: middle;\n",
       "    }\n",
       "\n",
       "    .dataframe tbody tr th {\n",
       "        vertical-align: top;\n",
       "    }\n",
       "\n",
       "    .dataframe thead th {\n",
       "        text-align: right;\n",
       "    }\n",
       "</style>\n",
       "<table border=\"1\" class=\"dataframe\">\n",
       "  <thead>\n",
       "    <tr style=\"text-align: right;\">\n",
       "      <th></th>\n",
       "      <th>budget</th>\n",
       "      <th>box_office</th>\n",
       "      <th>profit</th>\n",
       "    </tr>\n",
       "  </thead>\n",
       "  <tbody>\n",
       "    <tr>\n",
       "      <td>1281</td>\n",
       "      <td>79411900.0</td>\n",
       "      <td>3.653536e+05</td>\n",
       "      <td>-7.904655e+07</td>\n",
       "    </tr>\n",
       "    <tr>\n",
       "      <td>1448</td>\n",
       "      <td>37142857.0</td>\n",
       "      <td>2.814000e+04</td>\n",
       "      <td>-3.711472e+07</td>\n",
       "    </tr>\n",
       "    <tr>\n",
       "      <td>1498</td>\n",
       "      <td>176023490.0</td>\n",
       "      <td>1.995703e+07</td>\n",
       "      <td>-1.560665e+08</td>\n",
       "    </tr>\n",
       "    <tr>\n",
       "      <td>1524</td>\n",
       "      <td>40574140.0</td>\n",
       "      <td>5.591750e+04</td>\n",
       "      <td>-4.051822e+07</td>\n",
       "    </tr>\n",
       "    <tr>\n",
       "      <td>1792</td>\n",
       "      <td>40015122.0</td>\n",
       "      <td>2.321000e+05</td>\n",
       "      <td>-3.978302e+07</td>\n",
       "    </tr>\n",
       "    <tr>\n",
       "      <td>...</td>\n",
       "      <td>...</td>\n",
       "      <td>...</td>\n",
       "      <td>...</td>\n",
       "    </tr>\n",
       "    <tr>\n",
       "      <td>7463</td>\n",
       "      <td>980000000.0</td>\n",
       "      <td>7.177032e+08</td>\n",
       "      <td>-2.622968e+08</td>\n",
       "    </tr>\n",
       "    <tr>\n",
       "      <td>7465</td>\n",
       "      <td>190000000.0</td>\n",
       "      <td>5.010692e+08</td>\n",
       "      <td>3.110692e+08</td>\n",
       "    </tr>\n",
       "    <tr>\n",
       "      <td>7473</td>\n",
       "      <td>944000000.0</td>\n",
       "      <td>NaN</td>\n",
       "      <td>NaN</td>\n",
       "    </tr>\n",
       "    <tr>\n",
       "      <td>7475</td>\n",
       "      <td>46154000.0</td>\n",
       "      <td>NaN</td>\n",
       "      <td>NaN</td>\n",
       "    </tr>\n",
       "    <tr>\n",
       "      <td>7477</td>\n",
       "      <td>150147502.0</td>\n",
       "      <td>NaN</td>\n",
       "      <td>NaN</td>\n",
       "    </tr>\n",
       "  </tbody>\n",
       "</table>\n",
       "<p>315 rows × 3 columns</p>\n",
       "</div>"
      ],
      "text/plain": [
       "           budget    box_office        profit\n",
       "1281   79411900.0  3.653536e+05 -7.904655e+07\n",
       "1448   37142857.0  2.814000e+04 -3.711472e+07\n",
       "1498  176023490.0  1.995703e+07 -1.560665e+08\n",
       "1524   40574140.0  5.591750e+04 -4.051822e+07\n",
       "1792   40015122.0  2.321000e+05 -3.978302e+07\n",
       "...           ...           ...           ...\n",
       "7463  980000000.0  7.177032e+08 -2.622968e+08\n",
       "7465  190000000.0  5.010692e+08  3.110692e+08\n",
       "7473  944000000.0           NaN           NaN\n",
       "7475   46154000.0           NaN           NaN\n",
       "7477  150147502.0           NaN           NaN\n",
       "\n",
       "[315 rows x 3 columns]"
      ]
     },
     "execution_count": 48,
     "metadata": {},
     "output_type": "execute_result"
    }
   ],
   "source": [
    "data_mkrf_movies[~data_mkrf_movies['budget'].isna()][['budget', 'box_office', 'profit']]"
   ]
  },
  {
   "cell_type": "code",
   "execution_count": 49,
   "metadata": {},
   "outputs": [
    {
     "data": {
      "image/png": "[encoded data removed]",
      "text/plain": [
       "<Figure size 432x288 with 1 Axes>"
      ]
     },
     "metadata": {
      "needs_background": "light"
     },
     "output_type": "display_data"
    }
   ],
   "source": [
    "data_mkrf_movies[~data_mkrf_movies['budget'].isna()].profit.hist()\n",
    "plt.title('прибыльность фильмов с государственной поддержкой')\n",
    "plt.show()"
   ]
  },
  {
   "cell_type": "code",
   "execution_count": 111,
   "metadata": {},
   "outputs": [
    {
     "data": {
      "text/plain": [
       "0.746031746031746"
      ]
     },
     "execution_count": 111,
     "metadata": {},
     "output_type": "execute_result"
    }
   ],
   "source": [
    "(sum(data_mkrf_movies[~data_mkrf_movies['budget'].isna()].profit < 0) / \n",
    " len(data_mkrf_movies[~data_mkrf_movies['budget'].isna()].profit))"
   ]
  },
  {
   "cell_type": "markdown",
   "metadata": {},
   "source": [
    "Доля неокупившихся фильмов с государственной поддержкой равна 74%."
   ]
  },
  {
   "cell_type": "code",
   "execution_count": 50,
   "metadata": {},
   "outputs": [
    {
     "data": {
      "image/png": "[encoded data removed]",
      "text/plain": [
       "<Figure size 432x288 with 1 Axes>"
      ]
     },
     "metadata": {
      "needs_background": "light"
     },
     "output_type": "display_data"
    },
    {
     "data": {
      "image/png": "[encoded data removed]",
      "text/plain": [
       "<Figure size 432x288 with 1 Axes>"
      ]
     },
     "metadata": {
      "needs_background": "light"
     },
     "output_type": "display_data"
    }
   ],
   "source": [
    "data_mkrf_movies[~data_mkrf_movies['budget'].isna()].ratings.hist()\n",
    "plt.title('рейтинг фильмов с государственной поддержкой')\n",
    "plt.show()\n",
    "data_mkrf_movies[data_mkrf_movies['budget'].isna()].ratings.hist()\n",
    "plt.title('рейтинг фильмов без государственной поддержки')\n",
    "plt.show()"
   ]
  },
  {
   "cell_type": "markdown",
   "metadata": {},
   "source": [
    "Рейтинг фильмов без государственной поддержки выше чем фильмов с поддержкой."
   ]
  },
  {
   "cell_type": "code",
   "execution_count": 51,
   "metadata": {},
   "outputs": [
    {
     "data": {
      "text/html": [
       "<div>\n",
       "<style scoped>\n",
       "    .dataframe tbody tr th:only-of-type {\n",
       "        vertical-align: middle;\n",
       "    }\n",
       "\n",
       "    .dataframe tbody tr th {\n",
       "        vertical-align: top;\n",
       "    }\n",
       "\n",
       "    .dataframe thead th {\n",
       "        text-align: right;\n",
       "    }\n",
       "</style>\n",
       "<table border=\"1\" class=\"dataframe\">\n",
       "  <thead>\n",
       "    <tr style=\"text-align: right;\">\n",
       "      <th></th>\n",
       "      <th>без поддержки</th>\n",
       "      <th>с поддержкой</th>\n",
       "    </tr>\n",
       "  </thead>\n",
       "  <tbody>\n",
       "    <tr>\n",
       "      <td>mean</td>\n",
       "      <td>6.501567</td>\n",
       "      <td>6.015436</td>\n",
       "    </tr>\n",
       "    <tr>\n",
       "      <td>median</td>\n",
       "      <td>6.600000</td>\n",
       "      <td>6.200000</td>\n",
       "    </tr>\n",
       "  </tbody>\n",
       "</table>\n",
       "</div>"
      ],
      "text/plain": [
       "        без поддержки  с поддержкой\n",
       "mean         6.501567      6.015436\n",
       "median       6.600000      6.200000"
      ]
     },
     "execution_count": 51,
     "metadata": {},
     "output_type": "execute_result"
    }
   ],
   "source": [
    "df = pd.DataFrame([data_mkrf_movies[data_mkrf_movies['budget'].isna()].ratings.agg(['mean', 'median']), \n",
    "                   data_mkrf_movies[~data_mkrf_movies['budget'].isna()].ratings.agg(['mean', 'median'])]).T\n",
    "df.columns = ['без поддержки', 'с поддержкой']\n",
    "df"
   ]
  },
  {
   "cell_type": "markdown",
   "metadata": {
    "id": "V2gYwMcPgFyd"
   },
   "source": [
    "### Шаг 5. Напишите общий вывод"
   ]
  },
  {
   "cell_type": "markdown",
   "metadata": {
    "id": "AYRg3dzXgFye"
   },
   "source": [
    "- Больше всего фильмов вышло в 2010, а меньше в 2017.\n",
    "- Больше всего сборов было в 2018, а меньше в 2010.\n",
    "- Возрастное ограничение аудитории влияет на сборы фильмов.\n",
    "- Больше всего сборов собрали фильмы с возрастным ограничением аудитории «16+».\n",
    "- В 2015 году фильмы «12+» заработали больше чем «16+», но количество фильмов «16+» в этом году больше, возможно это из-за того что информация о сборах в этом году неполная.\n",
    "- Сумма государственной поддержки кино обычно не превышает 100000000.\n",
    "- С 2015 года до 2018 года сумма средств на поддержку кино понемногу уменшалась, а в 2019 году выросла в почти два раза.\n",
    "- Фильмы с государственной поддержкой в большенстве случаях неокупаются.\n",
    "- Доля неокупившихся фильмов с государственной поддержкой равна 74%.\n",
    "- Рейтинг фильмов с государственной поддержкой в большенстве случаях от 5 до 7.\n",
    "- Рейтинг фильмов без государственной поддержки в среднем на полбалла выше чем с поддержкой."
   ]
  }
 ],
 "metadata": {
  "ExecuteTimeLog": [
   {
    "duration": 537,
    "start_time": "2021-07-07T10:12:08.634Z"
   },
   {
    "duration": 206,
    "start_time": "2021-07-07T10:12:30.191Z"
   },
   {
    "duration": 227,
    "start_time": "2021-07-07T10:12:33.078Z"
   },
   {
    "duration": 153,
    "start_time": "2021-07-07T10:13:42.146Z"
   },
   {
    "duration": 233,
    "start_time": "2021-07-07T10:30:09.252Z"
   },
   {
    "duration": 19,
    "start_time": "2021-07-07T10:30:15.577Z"
   },
   {
    "duration": 18,
    "start_time": "2021-07-07T10:30:57.348Z"
   },
   {
    "duration": 19,
    "start_time": "2021-07-07T10:31:17.452Z"
   },
   {
    "duration": 21,
    "start_time": "2021-07-07T10:31:32.227Z"
   },
   {
    "duration": 27,
    "start_time": "2021-07-07T10:32:06.588Z"
   },
   {
    "duration": 23,
    "start_time": "2021-07-07T10:32:43.645Z"
   },
   {
    "duration": 24,
    "start_time": "2021-07-07T10:33:06.948Z"
   },
   {
    "duration": 7,
    "start_time": "2021-07-07T10:33:28.558Z"
   },
   {
    "duration": 23,
    "start_time": "2021-07-07T10:33:43.761Z"
   },
   {
    "duration": 28,
    "start_time": "2021-07-07T10:34:13.466Z"
   },
   {
    "duration": 23,
    "start_time": "2021-07-07T10:35:56.187Z"
   },
   {
    "duration": 6,
    "start_time": "2021-07-07T10:36:48.182Z"
   },
   {
    "duration": 14,
    "start_time": "2021-07-07T10:37:49.641Z"
   },
   {
    "duration": 6,
    "start_time": "2021-07-07T10:38:06.694Z"
   },
   {
    "duration": 6,
    "start_time": "2021-07-07T10:38:13.493Z"
   },
   {
    "duration": 19,
    "start_time": "2021-07-07T10:38:44.056Z"
   },
   {
    "duration": 186,
    "start_time": "2021-07-07T10:48:35.618Z"
   },
   {
    "duration": 24,
    "start_time": "2021-07-07T10:48:51.498Z"
   },
   {
    "duration": 20,
    "start_time": "2021-07-07T10:48:59.415Z"
   },
   {
    "duration": 20,
    "start_time": "2021-07-07T10:53:02.195Z"
   },
   {
    "duration": 188,
    "start_time": "2021-07-07T10:54:40.486Z"
   },
   {
    "duration": 115,
    "start_time": "2021-07-07T10:54:52.552Z"
   },
   {
    "duration": 214,
    "start_time": "2021-07-07T10:54:56.354Z"
   },
   {
    "duration": 47,
    "start_time": "2021-07-07T10:54:58.282Z"
   },
   {
    "duration": 217,
    "start_time": "2021-07-07T10:59:16.075Z"
   },
   {
    "duration": 51,
    "start_time": "2021-07-07T10:59:16.243Z"
   },
   {
    "duration": 578,
    "start_time": "2021-07-07T10:59:18.774Z"
   },
   {
    "duration": 161,
    "start_time": "2021-07-07T10:59:21.238Z"
   },
   {
    "duration": 59,
    "start_time": "2021-07-07T10:59:21.453Z"
   },
   {
    "duration": 3,
    "start_time": "2021-07-07T11:02:10.786Z"
   },
   {
    "duration": 13,
    "start_time": "2021-07-07T11:07:07.722Z"
   },
   {
    "duration": 26,
    "start_time": "2021-07-07T11:07:17.958Z"
   },
   {
    "duration": 22,
    "start_time": "2021-07-07T11:08:17.939Z"
   },
   {
    "duration": 212,
    "start_time": "2021-07-07T11:08:19.665Z"
   },
   {
    "duration": 21,
    "start_time": "2021-07-07T11:08:29.945Z"
   },
   {
    "duration": 31,
    "start_time": "2021-07-07T11:08:38.899Z"
   },
   {
    "duration": 23,
    "start_time": "2021-07-07T11:08:54.527Z"
   },
   {
    "duration": 8,
    "start_time": "2021-07-07T11:18:55.974Z"
   },
   {
    "duration": 7,
    "start_time": "2021-07-07T11:19:03.639Z"
   },
   {
    "duration": 7,
    "start_time": "2021-07-07T11:19:06.444Z"
   },
   {
    "duration": 578,
    "start_time": "2021-07-07T12:09:59.576Z"
   },
   {
    "duration": 195,
    "start_time": "2021-07-07T12:10:00.156Z"
   },
   {
    "duration": 115,
    "start_time": "2021-07-07T12:10:00.353Z"
   },
   {
    "duration": 3,
    "start_time": "2021-07-07T12:10:00.470Z"
   },
   {
    "duration": 32,
    "start_time": "2021-07-07T12:10:00.474Z"
   },
   {
    "duration": 23,
    "start_time": "2021-07-07T12:10:00.508Z"
   },
   {
    "duration": 19,
    "start_time": "2021-07-07T12:10:00.533Z"
   },
   {
    "duration": 44,
    "start_time": "2021-07-07T12:10:00.553Z"
   },
   {
    "duration": 7,
    "start_time": "2021-07-07T12:10:00.600Z"
   },
   {
    "duration": 7,
    "start_time": "2021-07-07T12:19:45.761Z"
   },
   {
    "duration": 21,
    "start_time": "2021-07-07T12:21:35.482Z"
   },
   {
    "duration": 21,
    "start_time": "2021-07-07T12:29:23.569Z"
   },
   {
    "duration": 525,
    "start_time": "2021-07-07T12:29:44.542Z"
   },
   {
    "duration": 214,
    "start_time": "2021-07-07T12:29:45.069Z"
   },
   {
    "duration": 92,
    "start_time": "2021-07-07T12:29:45.285Z"
   },
   {
    "duration": 3,
    "start_time": "2021-07-07T12:29:45.379Z"
   },
   {
    "duration": 28,
    "start_time": "2021-07-07T12:29:45.384Z"
   },
   {
    "duration": 23,
    "start_time": "2021-07-07T12:29:45.413Z"
   },
   {
    "duration": 21,
    "start_time": "2021-07-07T12:29:45.437Z"
   },
   {
    "duration": 41,
    "start_time": "2021-07-07T12:29:45.460Z"
   },
   {
    "duration": 7,
    "start_time": "2021-07-07T12:29:45.502Z"
   },
   {
    "duration": 20,
    "start_time": "2021-07-07T12:29:45.511Z"
   },
   {
    "duration": 12,
    "start_time": "2021-07-07T12:34:02.800Z"
   },
   {
    "duration": 7,
    "start_time": "2021-07-07T12:35:10.479Z"
   },
   {
    "duration": 8,
    "start_time": "2021-07-07T12:35:22.440Z"
   },
   {
    "duration": 6,
    "start_time": "2021-07-07T12:35:35.649Z"
   },
   {
    "duration": 6,
    "start_time": "2021-07-07T12:35:43.107Z"
   },
   {
    "duration": 22,
    "start_time": "2021-07-07T12:38:03.029Z"
   },
   {
    "duration": 10,
    "start_time": "2021-07-07T12:38:06.592Z"
   },
   {
    "duration": 563,
    "start_time": "2021-07-07T12:38:46.493Z"
   },
   {
    "duration": 265,
    "start_time": "2021-07-07T12:38:47.058Z"
   },
   {
    "duration": 94,
    "start_time": "2021-07-07T12:38:47.325Z"
   },
   {
    "duration": 3,
    "start_time": "2021-07-07T12:38:47.422Z"
   },
   {
    "duration": 30,
    "start_time": "2021-07-07T12:38:47.427Z"
   },
   {
    "duration": 16,
    "start_time": "2021-07-07T12:38:53.305Z"
   },
   {
    "duration": 10,
    "start_time": "2021-07-07T12:38:53.499Z"
   },
   {
    "duration": 8,
    "start_time": "2021-07-07T12:39:48.161Z"
   },
   {
    "duration": 27,
    "start_time": "2021-07-07T12:41:17.629Z"
   },
   {
    "duration": 17,
    "start_time": "2021-07-07T12:41:17.867Z"
   },
   {
    "duration": 21,
    "start_time": "2021-07-07T12:41:19.310Z"
   },
   {
    "duration": 7,
    "start_time": "2021-07-07T12:41:19.544Z"
   },
   {
    "duration": 20,
    "start_time": "2021-07-07T12:41:20.504Z"
   },
   {
    "duration": 554,
    "start_time": "2021-07-07T12:56:23.696Z"
   },
   {
    "duration": 200,
    "start_time": "2021-07-07T12:56:25.234Z"
   },
   {
    "duration": 119,
    "start_time": "2021-07-07T12:56:25.480Z"
   },
   {
    "duration": 4,
    "start_time": "2021-07-07T12:56:25.762Z"
   },
   {
    "duration": 26,
    "start_time": "2021-07-07T12:56:27.172Z"
   },
   {
    "duration": 12,
    "start_time": "2021-07-07T12:56:29.051Z"
   },
   {
    "duration": 10,
    "start_time": "2021-07-07T12:56:29.291Z"
   },
   {
    "duration": 8,
    "start_time": "2021-07-07T12:56:29.623Z"
   },
   {
    "duration": 28,
    "start_time": "2021-07-07T12:56:32.137Z"
   },
   {
    "duration": 19,
    "start_time": "2021-07-07T12:56:39.785Z"
   },
   {
    "duration": 20,
    "start_time": "2021-07-07T12:56:44.297Z"
   },
   {
    "duration": 7,
    "start_time": "2021-07-07T12:56:45.392Z"
   },
   {
    "duration": 23,
    "start_time": "2021-07-07T12:56:46.615Z"
   },
   {
    "duration": 4,
    "start_time": "2021-07-07T12:57:06.625Z"
   },
   {
    "duration": 32,
    "start_time": "2021-07-07T12:57:36.690Z"
   },
   {
    "duration": 18,
    "start_time": "2021-07-07T12:58:00.149Z"
   },
   {
    "duration": 15,
    "start_time": "2021-07-07T12:59:16.793Z"
   },
   {
    "duration": 7,
    "start_time": "2021-07-07T13:19:22.624Z"
   },
   {
    "duration": 6,
    "start_time": "2021-07-07T14:17:33.527Z"
   },
   {
    "duration": 9,
    "start_time": "2021-07-07T14:17:48.409Z"
   },
   {
    "duration": 8,
    "start_time": "2021-07-07T14:20:13.060Z"
   },
   {
    "duration": 8,
    "start_time": "2021-07-07T14:20:37.957Z"
   },
   {
    "duration": 8,
    "start_time": "2021-07-07T14:20:47.470Z"
   },
   {
    "duration": 9,
    "start_time": "2021-07-07T14:20:54.503Z"
   },
   {
    "duration": 10,
    "start_time": "2021-07-07T14:28:57.763Z"
   },
   {
    "duration": 3,
    "start_time": "2021-07-07T14:30:23.377Z"
   },
   {
    "duration": 3,
    "start_time": "2021-07-07T14:30:36.489Z"
   },
   {
    "duration": 103,
    "start_time": "2021-07-07T14:30:52.351Z"
   },
   {
    "duration": 8,
    "start_time": "2021-07-07T14:30:54.763Z"
   },
   {
    "duration": 8,
    "start_time": "2021-07-07T14:31:29.301Z"
   },
   {
    "duration": 13,
    "start_time": "2021-07-07T14:31:44.516Z"
   },
   {
    "duration": 7,
    "start_time": "2021-07-07T14:33:10.972Z"
   },
   {
    "duration": 11,
    "start_time": "2021-07-07T14:33:27.780Z"
   },
   {
    "duration": 8,
    "start_time": "2021-07-07T14:34:44.588Z"
   },
   {
    "duration": 57,
    "start_time": "2021-07-07T14:35:59.042Z"
   },
   {
    "duration": 3,
    "start_time": "2021-07-07T14:36:28.168Z"
   },
   {
    "duration": 5,
    "start_time": "2021-07-07T14:36:46.254Z"
   },
   {
    "duration": 4,
    "start_time": "2021-07-07T14:36:52.714Z"
   },
   {
    "duration": 3,
    "start_time": "2021-07-07T14:36:56.612Z"
   },
   {
    "duration": 4,
    "start_time": "2021-07-07T14:36:57.049Z"
   },
   {
    "duration": 3,
    "start_time": "2021-07-07T14:39:21.214Z"
   },
   {
    "duration": 7,
    "start_time": "2021-07-07T14:39:52.406Z"
   },
   {
    "duration": 11,
    "start_time": "2021-07-07T14:39:58.576Z"
   },
   {
    "duration": 9,
    "start_time": "2021-07-07T14:40:26.301Z"
   },
   {
    "duration": 10,
    "start_time": "2021-07-07T14:40:31.704Z"
   },
   {
    "duration": 11,
    "start_time": "2021-07-07T14:40:36.249Z"
   },
   {
    "duration": 10,
    "start_time": "2021-07-07T14:40:39.783Z"
   },
   {
    "duration": 9,
    "start_time": "2021-07-07T14:40:48.558Z"
   },
   {
    "duration": 10,
    "start_time": "2021-07-07T14:40:57.143Z"
   },
   {
    "duration": 9,
    "start_time": "2021-07-07T14:41:06.074Z"
   },
   {
    "duration": 4324,
    "start_time": "2021-07-07T14:41:22.004Z"
   },
   {
    "duration": 11,
    "start_time": "2021-07-07T14:41:33.392Z"
   },
   {
    "duration": 9,
    "start_time": "2021-07-07T14:41:39.288Z"
   },
   {
    "duration": 569,
    "start_time": "2021-07-07T14:42:14.387Z"
   },
   {
    "duration": 197,
    "start_time": "2021-07-07T14:42:14.959Z"
   },
   {
    "duration": 84,
    "start_time": "2021-07-07T14:42:16.052Z"
   },
   {
    "duration": 4,
    "start_time": "2021-07-07T14:42:16.900Z"
   },
   {
    "duration": 27,
    "start_time": "2021-07-07T14:42:19.898Z"
   },
   {
    "duration": 12,
    "start_time": "2021-07-07T14:42:21.577Z"
   },
   {
    "duration": 9,
    "start_time": "2021-07-07T14:42:21.813Z"
   },
   {
    "duration": 9,
    "start_time": "2021-07-07T14:42:22.569Z"
   },
   {
    "duration": 29,
    "start_time": "2021-07-07T14:42:25.837Z"
   },
   {
    "duration": 20,
    "start_time": "2021-07-07T14:42:27.003Z"
   },
   {
    "duration": 21,
    "start_time": "2021-07-07T14:42:28.767Z"
   },
   {
    "duration": 7,
    "start_time": "2021-07-07T14:42:29.838Z"
   },
   {
    "duration": 4,
    "start_time": "2021-07-07T14:43:25.493Z"
   },
   {
    "duration": 7,
    "start_time": "2021-07-07T14:43:26.573Z"
   },
   {
    "duration": 10,
    "start_time": "2021-07-07T14:43:31.639Z"
   },
   {
    "duration": 9,
    "start_time": "2021-07-07T14:43:32.046Z"
   },
   {
    "duration": 10,
    "start_time": "2021-07-07T14:43:33.301Z"
   },
   {
    "duration": 12,
    "start_time": "2021-07-07T14:43:33.658Z"
   },
   {
    "duration": 8,
    "start_time": "2021-07-07T14:43:34.552Z"
   },
   {
    "duration": 9,
    "start_time": "2021-07-07T14:43:35.058Z"
   },
   {
    "duration": 12,
    "start_time": "2021-07-07T14:43:35.914Z"
   },
   {
    "duration": 17,
    "start_time": "2021-07-07T14:45:34.368Z"
   },
   {
    "duration": 512,
    "start_time": "2021-07-07T14:51:58.236Z"
   },
   {
    "duration": 223,
    "start_time": "2021-07-07T14:51:58.750Z"
   },
   {
    "duration": 93,
    "start_time": "2021-07-07T14:51:58.977Z"
   },
   {
    "duration": 4,
    "start_time": "2021-07-07T14:51:59.071Z"
   },
   {
    "duration": 37,
    "start_time": "2021-07-07T14:51:59.077Z"
   },
   {
    "duration": 18,
    "start_time": "2021-07-07T14:51:59.116Z"
   },
   {
    "duration": 10,
    "start_time": "2021-07-07T14:51:59.137Z"
   },
   {
    "duration": 8,
    "start_time": "2021-07-07T14:51:59.149Z"
   },
   {
    "duration": 54,
    "start_time": "2021-07-07T14:51:59.158Z"
   },
   {
    "duration": 18,
    "start_time": "2021-07-07T14:51:59.213Z"
   },
   {
    "duration": 22,
    "start_time": "2021-07-07T14:51:59.232Z"
   },
   {
    "duration": 36,
    "start_time": "2021-07-07T14:51:59.255Z"
   },
   {
    "duration": 7,
    "start_time": "2021-07-07T14:51:59.293Z"
   },
   {
    "duration": 10,
    "start_time": "2021-07-07T14:51:59.302Z"
   },
   {
    "duration": 9,
    "start_time": "2021-07-07T14:51:59.313Z"
   },
   {
    "duration": 11,
    "start_time": "2021-07-07T14:51:59.324Z"
   },
   {
    "duration": 8,
    "start_time": "2021-07-07T14:51:59.337Z"
   },
   {
    "duration": 46,
    "start_time": "2021-07-07T14:51:59.347Z"
   },
   {
    "duration": 22,
    "start_time": "2021-07-07T14:51:59.395Z"
   },
   {
    "duration": 24,
    "start_time": "2021-07-07T14:57:32.911Z"
   },
   {
    "duration": 7,
    "start_time": "2021-07-07T14:58:22.070Z"
   },
   {
    "duration": 4,
    "start_time": "2021-07-07T14:59:11.239Z"
   },
   {
    "duration": 25,
    "start_time": "2021-07-07T15:07:22.208Z"
   },
   {
    "duration": 16,
    "start_time": "2021-07-07T15:08:25.560Z"
   },
   {
    "duration": 15,
    "start_time": "2021-07-07T15:08:40.647Z"
   },
   {
    "duration": 14,
    "start_time": "2021-07-07T15:08:46.669Z"
   },
   {
    "duration": 533,
    "start_time": "2021-07-07T15:18:07.440Z"
   },
   {
    "duration": 173,
    "start_time": "2021-07-07T15:18:07.974Z"
   },
   {
    "duration": 84,
    "start_time": "2021-07-07T15:18:08.149Z"
   },
   {
    "duration": 3,
    "start_time": "2021-07-07T15:18:08.235Z"
   },
   {
    "duration": 30,
    "start_time": "2021-07-07T15:18:08.240Z"
   },
   {
    "duration": 22,
    "start_time": "2021-07-07T15:18:08.272Z"
   },
   {
    "duration": 11,
    "start_time": "2021-07-07T15:18:08.295Z"
   },
   {
    "duration": 11,
    "start_time": "2021-07-07T15:18:08.309Z"
   },
   {
    "duration": 40,
    "start_time": "2021-07-07T15:18:08.322Z"
   },
   {
    "duration": 42,
    "start_time": "2021-07-07T15:18:08.364Z"
   },
   {
    "duration": 22,
    "start_time": "2021-07-07T15:18:08.408Z"
   },
   {
    "duration": 5,
    "start_time": "2021-07-07T15:18:08.432Z"
   },
   {
    "duration": 13,
    "start_time": "2021-07-07T15:18:08.439Z"
   },
   {
    "duration": 9,
    "start_time": "2021-07-07T15:18:08.454Z"
   },
   {
    "duration": 32,
    "start_time": "2021-07-07T15:18:08.465Z"
   },
   {
    "duration": 10,
    "start_time": "2021-07-07T15:18:08.501Z"
   },
   {
    "duration": 7,
    "start_time": "2021-07-07T15:18:08.513Z"
   },
   {
    "duration": 11,
    "start_time": "2021-07-07T15:18:08.521Z"
   },
   {
    "duration": 17,
    "start_time": "2021-07-07T15:18:08.534Z"
   },
   {
    "duration": 44,
    "start_time": "2021-07-07T15:18:08.553Z"
   },
   {
    "duration": 22,
    "start_time": "2021-07-07T15:18:08.599Z"
   },
   {
    "duration": 61,
    "start_time": "2021-07-07T15:18:08.622Z"
   },
   {
    "duration": 7,
    "start_time": "2021-07-07T15:18:39.457Z"
   },
   {
    "duration": 5,
    "start_time": "2021-07-07T16:05:17.020Z"
   },
   {
    "duration": 5,
    "start_time": "2021-07-07T16:51:28.794Z"
   },
   {
    "duration": 546,
    "start_time": "2021-07-07T16:52:26.306Z"
   },
   {
    "duration": 203,
    "start_time": "2021-07-07T16:52:27.523Z"
   },
   {
    "duration": 85,
    "start_time": "2021-07-07T16:52:27.736Z"
   },
   {
    "duration": 4,
    "start_time": "2021-07-07T16:52:27.899Z"
   },
   {
    "duration": 25,
    "start_time": "2021-07-07T16:52:28.674Z"
   },
   {
    "duration": 8,
    "start_time": "2021-07-07T16:52:32.956Z"
   },
   {
    "duration": 18,
    "start_time": "2021-07-07T16:52:35.616Z"
   },
   {
    "duration": 6,
    "start_time": "2021-07-07T16:52:36.913Z"
   },
   {
    "duration": 11,
    "start_time": "2021-07-07T16:52:40.258Z"
   },
   {
    "duration": 10,
    "start_time": "2021-07-07T16:52:46.251Z"
   },
   {
    "duration": 8,
    "start_time": "2021-07-07T16:52:47.182Z"
   },
   {
    "duration": 27,
    "start_time": "2021-07-07T16:53:20.391Z"
   },
   {
    "duration": 20,
    "start_time": "2021-07-07T16:53:22.022Z"
   },
   {
    "duration": 23,
    "start_time": "2021-07-07T16:53:23.690Z"
   },
   {
    "duration": 8,
    "start_time": "2021-07-07T16:53:24.261Z"
   },
   {
    "duration": 4,
    "start_time": "2021-07-07T16:53:38.733Z"
   },
   {
    "duration": 7,
    "start_time": "2021-07-07T16:53:40.445Z"
   },
   {
    "duration": 11,
    "start_time": "2021-07-07T16:53:41.348Z"
   },
   {
    "duration": 13,
    "start_time": "2021-07-07T16:53:45.250Z"
   },
   {
    "duration": 12,
    "start_time": "2021-07-07T16:53:45.467Z"
   },
   {
    "duration": 4,
    "start_time": "2021-07-07T16:55:32.704Z"
   },
   {
    "duration": 12,
    "start_time": "2021-07-07T16:55:49.012Z"
   },
   {
    "duration": 18,
    "start_time": "2021-07-07T16:55:49.547Z"
   },
   {
    "duration": 611,
    "start_time": "2021-07-07T16:58:35.156Z"
   },
   {
    "duration": 200,
    "start_time": "2021-07-07T16:58:35.770Z"
   },
   {
    "duration": 86,
    "start_time": "2021-07-07T16:58:35.972Z"
   },
   {
    "duration": 3,
    "start_time": "2021-07-07T16:58:36.060Z"
   },
   {
    "duration": 27,
    "start_time": "2021-07-07T16:58:36.065Z"
   },
   {
    "duration": 8,
    "start_time": "2021-07-07T16:58:36.094Z"
   },
   {
    "duration": 17,
    "start_time": "2021-07-07T16:58:36.103Z"
   },
   {
    "duration": 5,
    "start_time": "2021-07-07T16:58:36.123Z"
   },
   {
    "duration": 11,
    "start_time": "2021-07-07T16:58:36.130Z"
   },
   {
    "duration": 7,
    "start_time": "2021-07-07T16:58:36.143Z"
   },
   {
    "duration": 37,
    "start_time": "2021-07-07T16:58:36.152Z"
   },
   {
    "duration": 27,
    "start_time": "2021-07-07T16:58:36.191Z"
   },
   {
    "duration": 19,
    "start_time": "2021-07-07T16:58:36.219Z"
   },
   {
    "duration": 49,
    "start_time": "2021-07-07T16:58:36.240Z"
   },
   {
    "duration": 6,
    "start_time": "2021-07-07T16:58:36.291Z"
   },
   {
    "duration": 3,
    "start_time": "2021-07-07T16:58:36.299Z"
   },
   {
    "duration": 13,
    "start_time": "2021-07-07T16:58:36.304Z"
   },
   {
    "duration": 10,
    "start_time": "2021-07-07T16:58:36.319Z"
   },
   {
    "duration": 10,
    "start_time": "2021-07-07T16:58:36.331Z"
   },
   {
    "duration": 44,
    "start_time": "2021-07-07T16:58:36.343Z"
   },
   {
    "duration": 4,
    "start_time": "2021-07-07T16:58:36.388Z"
   },
   {
    "duration": 13,
    "start_time": "2021-07-07T16:58:36.394Z"
   },
   {
    "duration": 16,
    "start_time": "2021-07-07T16:58:36.410Z"
   },
   {
    "duration": 8,
    "start_time": "2021-07-07T17:02:31.629Z"
   },
   {
    "duration": 8,
    "start_time": "2021-07-07T17:02:34.308Z"
   },
   {
    "duration": 6,
    "start_time": "2021-07-07T17:05:13.483Z"
   },
   {
    "duration": 17,
    "start_time": "2021-07-07T17:05:20.606Z"
   },
   {
    "duration": 7,
    "start_time": "2021-07-07T17:05:34.638Z"
   },
   {
    "duration": 3,
    "start_time": "2021-07-07T17:06:31.883Z"
   },
   {
    "duration": 570,
    "start_time": "2021-07-07T17:06:37.165Z"
   },
   {
    "duration": 174,
    "start_time": "2021-07-07T17:06:37.737Z"
   },
   {
    "duration": 47,
    "start_time": "2021-07-07T17:06:37.913Z"
   },
   {
    "duration": 3,
    "start_time": "2021-07-07T17:06:37.962Z"
   },
   {
    "duration": 27,
    "start_time": "2021-07-07T17:06:37.967Z"
   },
   {
    "duration": 7,
    "start_time": "2021-07-07T17:06:37.996Z"
   },
   {
    "duration": 16,
    "start_time": "2021-07-07T17:06:38.005Z"
   },
   {
    "duration": 6,
    "start_time": "2021-07-07T17:06:38.024Z"
   },
   {
    "duration": 12,
    "start_time": "2021-07-07T17:06:38.031Z"
   },
   {
    "duration": 41,
    "start_time": "2021-07-07T17:06:38.045Z"
   },
   {
    "duration": 8,
    "start_time": "2021-07-07T17:06:38.088Z"
   },
   {
    "duration": 26,
    "start_time": "2021-07-07T17:06:38.098Z"
   },
   {
    "duration": 17,
    "start_time": "2021-07-07T17:06:38.126Z"
   },
   {
    "duration": 43,
    "start_time": "2021-07-07T17:06:38.144Z"
   },
   {
    "duration": 6,
    "start_time": "2021-07-07T17:06:38.188Z"
   },
   {
    "duration": 5,
    "start_time": "2021-07-07T17:06:38.195Z"
   },
   {
    "duration": 9,
    "start_time": "2021-07-07T17:06:38.201Z"
   },
   {
    "duration": 12,
    "start_time": "2021-07-07T17:06:38.212Z"
   },
   {
    "duration": 11,
    "start_time": "2021-07-07T17:06:38.226Z"
   },
   {
    "duration": 47,
    "start_time": "2021-07-07T17:06:38.239Z"
   },
   {
    "duration": 4,
    "start_time": "2021-07-07T17:06:38.288Z"
   },
   {
    "duration": 13,
    "start_time": "2021-07-07T17:06:38.293Z"
   },
   {
    "duration": 5,
    "start_time": "2021-07-07T17:06:38.309Z"
   },
   {
    "duration": 18,
    "start_time": "2021-07-07T17:06:38.325Z"
   },
   {
    "duration": 20,
    "start_time": "2021-07-07T17:07:02.805Z"
   },
   {
    "duration": 19,
    "start_time": "2021-07-07T17:07:08.527Z"
   },
   {
    "duration": 19,
    "start_time": "2021-07-07T17:07:12.758Z"
   },
   {
    "duration": 22,
    "start_time": "2021-07-07T17:07:17.497Z"
   },
   {
    "duration": 19,
    "start_time": "2021-07-07T17:07:19.645Z"
   },
   {
    "duration": 10,
    "start_time": "2021-07-07T17:07:34.239Z"
   },
   {
    "duration": 17,
    "start_time": "2021-07-07T17:07:54.144Z"
   },
   {
    "duration": 14,
    "start_time": "2021-07-07T17:08:14.357Z"
   },
   {
    "duration": 616,
    "start_time": "2021-07-07T17:08:45.254Z"
   },
   {
    "duration": 178,
    "start_time": "2021-07-07T17:08:45.872Z"
   },
   {
    "duration": 60,
    "start_time": "2021-07-07T17:08:46.054Z"
   },
   {
    "duration": 3,
    "start_time": "2021-07-07T17:08:46.116Z"
   },
   {
    "duration": 26,
    "start_time": "2021-07-07T17:08:46.121Z"
   },
   {
    "duration": 7,
    "start_time": "2021-07-07T17:08:46.149Z"
   },
   {
    "duration": 17,
    "start_time": "2021-07-07T17:08:46.158Z"
   },
   {
    "duration": 14,
    "start_time": "2021-07-07T17:08:46.176Z"
   },
   {
    "duration": 17,
    "start_time": "2021-07-07T17:08:46.193Z"
   },
   {
    "duration": 9,
    "start_time": "2021-07-07T17:08:46.211Z"
   },
   {
    "duration": 21,
    "start_time": "2021-07-07T17:08:46.221Z"
   },
   {
    "duration": 49,
    "start_time": "2021-07-07T17:08:46.244Z"
   },
   {
    "duration": 24,
    "start_time": "2021-07-07T17:08:46.295Z"
   },
   {
    "duration": 22,
    "start_time": "2021-07-07T17:08:46.321Z"
   },
   {
    "duration": 6,
    "start_time": "2021-07-07T17:08:46.345Z"
   },
   {
    "duration": 5,
    "start_time": "2021-07-07T17:08:46.353Z"
   },
   {
    "duration": 13,
    "start_time": "2021-07-07T17:08:46.386Z"
   },
   {
    "duration": 12,
    "start_time": "2021-07-07T17:08:46.402Z"
   },
   {
    "duration": 10,
    "start_time": "2021-07-07T17:08:46.415Z"
   },
   {
    "duration": 7,
    "start_time": "2021-07-07T17:08:46.427Z"
   },
   {
    "duration": 8,
    "start_time": "2021-07-07T17:08:46.435Z"
   },
   {
    "duration": 68,
    "start_time": "2021-07-07T17:08:46.446Z"
   },
   {
    "duration": 13,
    "start_time": "2021-07-07T17:08:46.516Z"
   },
   {
    "duration": 78,
    "start_time": "2021-07-07T17:08:46.530Z"
   },
   {
    "duration": 40,
    "start_time": "2021-07-07T17:09:08.185Z"
   },
   {
    "duration": 16,
    "start_time": "2021-07-07T17:09:19.324Z"
   },
   {
    "duration": 21,
    "start_time": "2021-07-07T17:09:23.290Z"
   },
   {
    "duration": 13,
    "start_time": "2021-07-07T17:09:54.812Z"
   },
   {
    "duration": 13,
    "start_time": "2021-07-07T17:10:02.039Z"
   },
   {
    "duration": 10,
    "start_time": "2021-07-07T17:10:29.632Z"
   },
   {
    "duration": 13,
    "start_time": "2021-07-07T17:10:52.372Z"
   },
   {
    "duration": 13,
    "start_time": "2021-07-07T17:11:17.270Z"
   },
   {
    "duration": 13,
    "start_time": "2021-07-07T17:14:59.284Z"
   },
   {
    "duration": 547,
    "start_time": "2021-07-07T17:18:52.403Z"
   },
   {
    "duration": 163,
    "start_time": "2021-07-07T17:18:52.952Z"
   },
   {
    "duration": 44,
    "start_time": "2021-07-07T17:18:53.117Z"
   },
   {
    "duration": 3,
    "start_time": "2021-07-07T17:18:53.162Z"
   },
   {
    "duration": 26,
    "start_time": "2021-07-07T17:18:53.167Z"
   },
   {
    "duration": 6,
    "start_time": "2021-07-07T17:18:53.195Z"
   },
   {
    "duration": 15,
    "start_time": "2021-07-07T17:18:53.203Z"
   },
   {
    "duration": 5,
    "start_time": "2021-07-07T17:18:53.220Z"
   },
   {
    "duration": 11,
    "start_time": "2021-07-07T17:18:53.228Z"
   },
   {
    "duration": 9,
    "start_time": "2021-07-07T17:18:53.241Z"
   },
   {
    "duration": 41,
    "start_time": "2021-07-07T17:18:53.252Z"
   },
   {
    "duration": 33,
    "start_time": "2021-07-07T17:18:53.295Z"
   },
   {
    "duration": 19,
    "start_time": "2021-07-07T17:18:53.330Z"
   },
   {
    "duration": 49,
    "start_time": "2021-07-07T17:18:53.350Z"
   },
   {
    "duration": 5,
    "start_time": "2021-07-07T17:18:53.401Z"
   },
   {
    "duration": 5,
    "start_time": "2021-07-07T17:18:53.408Z"
   },
   {
    "duration": 11,
    "start_time": "2021-07-07T17:18:53.414Z"
   },
   {
    "duration": 9,
    "start_time": "2021-07-07T17:18:53.427Z"
   },
   {
    "duration": 10,
    "start_time": "2021-07-07T17:18:53.437Z"
   },
   {
    "duration": 39,
    "start_time": "2021-07-07T17:18:53.448Z"
   },
   {
    "duration": 26,
    "start_time": "2021-07-07T17:18:55.799Z"
   },
   {
    "duration": 598,
    "start_time": "2021-07-07T17:20:17.862Z"
   },
   {
    "duration": 161,
    "start_time": "2021-07-07T17:20:18.462Z"
   },
   {
    "duration": 45,
    "start_time": "2021-07-07T17:20:18.626Z"
   },
   {
    "duration": 4,
    "start_time": "2021-07-07T17:20:18.673Z"
   },
   {
    "duration": 38,
    "start_time": "2021-07-07T17:20:26.877Z"
   },
   {
    "duration": 7,
    "start_time": "2021-07-07T17:20:37.405Z"
   },
   {
    "duration": 19,
    "start_time": "2021-07-07T17:20:51.534Z"
   },
   {
    "duration": 5,
    "start_time": "2021-07-07T17:20:57.228Z"
   },
   {
    "duration": 7,
    "start_time": "2021-07-07T17:21:08.235Z"
   },
   {
    "duration": 19,
    "start_time": "2021-07-07T17:21:42.158Z"
   },
   {
    "duration": 14,
    "start_time": "2021-07-07T17:21:50.225Z"
   },
   {
    "duration": 22,
    "start_time": "2021-07-07T17:22:54.104Z"
   },
   {
    "duration": 5,
    "start_time": "2021-07-07T17:22:56.371Z"
   },
   {
    "duration": 14,
    "start_time": "2021-07-07T17:22:58.316Z"
   },
   {
    "duration": 5,
    "start_time": "2021-07-07T17:22:58.493Z"
   },
   {
    "duration": 35,
    "start_time": "2021-07-07T17:22:59.666Z"
   },
   {
    "duration": 6,
    "start_time": "2021-07-07T17:23:02.410Z"
   },
   {
    "duration": 611,
    "start_time": "2021-07-07T17:24:59.664Z"
   },
   {
    "duration": 178,
    "start_time": "2021-07-07T17:25:01.945Z"
   },
   {
    "duration": 47,
    "start_time": "2021-07-07T17:25:02.125Z"
   },
   {
    "duration": 2,
    "start_time": "2021-07-07T17:25:07.903Z"
   },
   {
    "duration": 254,
    "start_time": "2021-07-07T17:25:08.232Z"
   },
   {
    "duration": 182,
    "start_time": "2021-07-07T17:25:08.671Z"
   },
   {
    "duration": 6,
    "start_time": "2021-07-07T17:25:13.104Z"
   },
   {
    "duration": 36,
    "start_time": "2021-07-07T17:25:13.662Z"
   },
   {
    "duration": 7,
    "start_time": "2021-07-07T17:25:14.528Z"
   },
   {
    "duration": 24,
    "start_time": "2021-07-07T17:25:27.982Z"
   },
   {
    "duration": 3,
    "start_time": "2021-07-07T17:25:48.982Z"
   },
   {
    "duration": 165,
    "start_time": "2021-07-07T17:25:48.987Z"
   },
   {
    "duration": 50,
    "start_time": "2021-07-07T17:25:49.154Z"
   },
   {
    "duration": 4,
    "start_time": "2021-07-07T17:25:49.206Z"
   },
   {
    "duration": 26,
    "start_time": "2021-07-07T17:25:49.212Z"
   },
   {
    "duration": 7,
    "start_time": "2021-07-07T17:25:49.240Z"
   },
   {
    "duration": 16,
    "start_time": "2021-07-07T17:25:49.249Z"
   },
   {
    "duration": 22,
    "start_time": "2021-07-07T17:25:49.266Z"
   },
   {
    "duration": 16,
    "start_time": "2021-07-07T17:25:49.291Z"
   },
   {
    "duration": 9,
    "start_time": "2021-07-07T17:25:49.309Z"
   },
   {
    "duration": 7,
    "start_time": "2021-07-07T17:25:49.319Z"
   },
   {
    "duration": 28,
    "start_time": "2021-07-07T17:25:49.328Z"
   },
   {
    "duration": 44,
    "start_time": "2021-07-07T17:25:49.357Z"
   },
   {
    "duration": 22,
    "start_time": "2021-07-07T17:25:49.403Z"
   },
   {
    "duration": 7,
    "start_time": "2021-07-07T17:25:49.427Z"
   },
   {
    "duration": 3,
    "start_time": "2021-07-07T17:25:49.436Z"
   },
   {
    "duration": 44,
    "start_time": "2021-07-07T17:25:49.441Z"
   },
   {
    "duration": 12,
    "start_time": "2021-07-07T17:25:49.488Z"
   },
   {
    "duration": 13,
    "start_time": "2021-07-07T17:25:49.502Z"
   },
   {
    "duration": 10,
    "start_time": "2021-07-07T17:25:49.516Z"
   },
   {
    "duration": 62,
    "start_time": "2021-07-07T17:25:49.527Z"
   },
   {
    "duration": 26,
    "start_time": "2021-07-07T17:26:51.809Z"
   },
   {
    "duration": 26,
    "start_time": "2021-07-07T17:26:55.759Z"
   },
   {
    "duration": 26,
    "start_time": "2021-07-07T17:27:04.501Z"
   },
   {
    "duration": 25,
    "start_time": "2021-07-07T17:28:24.859Z"
   },
   {
    "duration": 21,
    "start_time": "2021-07-07T17:28:55.250Z"
   },
   {
    "duration": 21,
    "start_time": "2021-07-07T17:28:58.885Z"
   },
   {
    "duration": 7,
    "start_time": "2021-07-07T17:45:40.972Z"
   },
   {
    "duration": 13,
    "start_time": "2021-07-07T17:45:42.529Z"
   },
   {
    "duration": 27,
    "start_time": "2021-07-07T17:45:51.026Z"
   },
   {
    "duration": 518,
    "start_time": "2021-07-07T17:46:15.532Z"
   },
   {
    "duration": 235,
    "start_time": "2021-07-07T17:46:16.053Z"
   },
   {
    "duration": 80,
    "start_time": "2021-07-07T17:46:16.292Z"
   },
   {
    "duration": 5,
    "start_time": "2021-07-07T17:46:16.373Z"
   },
   {
    "duration": 26,
    "start_time": "2021-07-07T17:46:16.380Z"
   },
   {
    "duration": 7,
    "start_time": "2021-07-07T17:46:16.408Z"
   },
   {
    "duration": 16,
    "start_time": "2021-07-07T17:46:16.418Z"
   },
   {
    "duration": 5,
    "start_time": "2021-07-07T17:46:16.436Z"
   },
   {
    "duration": 13,
    "start_time": "2021-07-07T17:46:16.442Z"
   },
   {
    "duration": 35,
    "start_time": "2021-07-07T17:46:16.456Z"
   },
   {
    "duration": 8,
    "start_time": "2021-07-07T17:46:16.493Z"
   },
   {
    "duration": 28,
    "start_time": "2021-07-07T17:46:16.502Z"
   },
   {
    "duration": 17,
    "start_time": "2021-07-07T17:46:16.532Z"
   },
   {
    "duration": 44,
    "start_time": "2021-07-07T17:46:16.551Z"
   },
   {
    "duration": 6,
    "start_time": "2021-07-07T17:46:16.597Z"
   },
   {
    "duration": 4,
    "start_time": "2021-07-07T17:46:16.605Z"
   },
   {
    "duration": 9,
    "start_time": "2021-07-07T17:46:16.610Z"
   },
   {
    "duration": 9,
    "start_time": "2021-07-07T17:46:16.621Z"
   },
   {
    "duration": 10,
    "start_time": "2021-07-07T17:46:16.632Z"
   },
   {
    "duration": 43,
    "start_time": "2021-07-07T17:46:16.644Z"
   },
   {
    "duration": 26,
    "start_time": "2021-07-07T17:46:16.689Z"
   },
   {
    "duration": 19,
    "start_time": "2021-07-07T17:46:16.718Z"
   },
   {
    "duration": 8,
    "start_time": "2021-07-07T17:46:16.738Z"
   },
   {
    "duration": 43,
    "start_time": "2021-07-07T17:46:16.747Z"
   },
   {
    "duration": 19,
    "start_time": "2021-07-07T17:46:16.791Z"
   },
   {
    "duration": 9,
    "start_time": "2021-07-07T17:46:16.812Z"
   },
   {
    "duration": 60,
    "start_time": "2021-07-07T17:46:16.822Z"
   },
   {
    "duration": -8,
    "start_time": "2021-07-07T17:46:16.892Z"
   },
   {
    "duration": 12,
    "start_time": "2021-07-07T17:48:47.707Z"
   },
   {
    "duration": 553,
    "start_time": "2021-07-07T18:10:09.350Z"
   },
   {
    "duration": 230,
    "start_time": "2021-07-07T18:10:09.905Z"
   },
   {
    "duration": 97,
    "start_time": "2021-07-07T18:10:10.137Z"
   },
   {
    "duration": 5,
    "start_time": "2021-07-07T18:10:10.236Z"
   },
   {
    "duration": 29,
    "start_time": "2021-07-07T18:10:10.242Z"
   },
   {
    "duration": 7,
    "start_time": "2021-07-07T18:10:10.272Z"
   },
   {
    "duration": 15,
    "start_time": "2021-07-07T18:10:10.281Z"
   },
   {
    "duration": 4,
    "start_time": "2021-07-07T18:10:10.299Z"
   },
   {
    "duration": 14,
    "start_time": "2021-07-07T18:10:10.305Z"
   },
   {
    "duration": 8,
    "start_time": "2021-07-07T18:10:10.321Z"
   },
   {
    "duration": 8,
    "start_time": "2021-07-07T18:10:10.331Z"
   },
   {
    "duration": 56,
    "start_time": "2021-07-07T18:10:10.341Z"
   },
   {
    "duration": 19,
    "start_time": "2021-07-07T18:10:10.399Z"
   },
   {
    "duration": 23,
    "start_time": "2021-07-07T18:10:10.419Z"
   },
   {
    "duration": 6,
    "start_time": "2021-07-07T18:10:10.444Z"
   },
   {
    "duration": 9,
    "start_time": "2021-07-07T18:10:10.451Z"
   },
   {
    "duration": 30,
    "start_time": "2021-07-07T18:10:10.462Z"
   },
   {
    "duration": 9,
    "start_time": "2021-07-07T18:10:10.494Z"
   },
   {
    "duration": 14,
    "start_time": "2021-07-07T18:10:10.505Z"
   },
   {
    "duration": 7,
    "start_time": "2021-07-07T18:10:10.521Z"
   },
   {
    "duration": 26,
    "start_time": "2021-07-07T18:10:10.530Z"
   },
   {
    "duration": 44,
    "start_time": "2021-07-07T18:10:10.558Z"
   },
   {
    "duration": 7,
    "start_time": "2021-07-07T18:10:10.605Z"
   },
   {
    "duration": 11,
    "start_time": "2021-07-07T18:10:10.614Z"
   },
   {
    "duration": 19,
    "start_time": "2021-07-07T18:10:10.626Z"
   },
   {
    "duration": 44,
    "start_time": "2021-07-07T18:10:10.646Z"
   },
   {
    "duration": 516,
    "start_time": "2021-07-07T18:14:00.826Z"
   },
   {
    "duration": 230,
    "start_time": "2021-07-07T18:14:01.344Z"
   },
   {
    "duration": 105,
    "start_time": "2021-07-07T18:14:01.576Z"
   },
   {
    "duration": 5,
    "start_time": "2021-07-07T18:14:01.683Z"
   },
   {
    "duration": 46,
    "start_time": "2021-07-07T18:14:01.690Z"
   },
   {
    "duration": 7,
    "start_time": "2021-07-07T18:14:01.738Z"
   },
   {
    "duration": 20,
    "start_time": "2021-07-07T18:14:01.747Z"
   },
   {
    "duration": 16,
    "start_time": "2021-07-07T18:14:01.769Z"
   },
   {
    "duration": 14,
    "start_time": "2021-07-07T18:14:01.787Z"
   },
   {
    "duration": 15,
    "start_time": "2021-07-07T18:14:01.803Z"
   },
   {
    "duration": 12,
    "start_time": "2021-07-07T18:14:01.820Z"
   },
   {
    "duration": 35,
    "start_time": "2021-07-07T18:14:01.833Z"
   },
   {
    "duration": 31,
    "start_time": "2021-07-07T18:14:01.869Z"
   },
   {
    "duration": 37,
    "start_time": "2021-07-07T18:14:01.902Z"
   },
   {
    "duration": 8,
    "start_time": "2021-07-07T18:14:01.942Z"
   },
   {
    "duration": 16,
    "start_time": "2021-07-07T18:14:01.952Z"
   },
   {
    "duration": 13,
    "start_time": "2021-07-07T18:14:01.970Z"
   },
   {
    "duration": 32,
    "start_time": "2021-07-07T18:14:01.985Z"
   },
   {
    "duration": 11,
    "start_time": "2021-07-07T18:14:02.019Z"
   },
   {
    "duration": 22,
    "start_time": "2021-07-07T18:14:02.031Z"
   },
   {
    "duration": 27,
    "start_time": "2021-07-07T18:14:02.055Z"
   },
   {
    "duration": 18,
    "start_time": "2021-07-07T18:14:02.084Z"
   },
   {
    "duration": 18,
    "start_time": "2021-07-07T18:14:02.106Z"
   },
   {
    "duration": 11,
    "start_time": "2021-07-07T18:14:02.126Z"
   },
   {
    "duration": 21,
    "start_time": "2021-07-07T18:14:02.138Z"
   },
   {
    "duration": 32,
    "start_time": "2021-07-07T18:14:02.161Z"
   },
   {
    "duration": 28,
    "start_time": "2021-07-07T18:14:44.295Z"
   },
   {
    "duration": 6,
    "start_time": "2021-07-07T18:15:05.834Z"
   },
   {
    "duration": 511,
    "start_time": "2021-07-07T18:15:41.541Z"
   },
   {
    "duration": 183,
    "start_time": "2021-07-07T18:15:42.054Z"
   },
   {
    "duration": 50,
    "start_time": "2021-07-07T18:15:42.239Z"
   },
   {
    "duration": 5,
    "start_time": "2021-07-07T18:15:42.291Z"
   },
   {
    "duration": 48,
    "start_time": "2021-07-07T18:15:42.297Z"
   },
   {
    "duration": 8,
    "start_time": "2021-07-07T18:15:42.346Z"
   },
   {
    "duration": 17,
    "start_time": "2021-07-07T18:15:42.356Z"
   },
   {
    "duration": 15,
    "start_time": "2021-07-07T18:15:42.375Z"
   },
   {
    "duration": 12,
    "start_time": "2021-07-07T18:15:42.392Z"
   },
   {
    "duration": 7,
    "start_time": "2021-07-07T18:15:42.406Z"
   },
   {
    "duration": 7,
    "start_time": "2021-07-07T18:15:42.415Z"
   },
   {
    "duration": 29,
    "start_time": "2021-07-07T18:15:42.423Z"
   },
   {
    "duration": 43,
    "start_time": "2021-07-07T18:15:42.453Z"
   },
   {
    "duration": 18,
    "start_time": "2021-07-07T18:15:42.497Z"
   },
   {
    "duration": 6,
    "start_time": "2021-07-07T18:15:42.516Z"
   },
   {
    "duration": 3,
    "start_time": "2021-07-07T18:15:42.523Z"
   },
   {
    "duration": 18,
    "start_time": "2021-07-07T18:15:42.528Z"
   },
   {
    "duration": 10,
    "start_time": "2021-07-07T18:15:42.547Z"
   },
   {
    "duration": 36,
    "start_time": "2021-07-07T18:15:42.559Z"
   },
   {
    "duration": 8,
    "start_time": "2021-07-07T18:15:42.597Z"
   },
   {
    "duration": 28,
    "start_time": "2021-07-07T18:15:42.606Z"
   },
   {
    "duration": 52,
    "start_time": "2021-07-07T18:15:42.635Z"
   },
   {
    "duration": 7,
    "start_time": "2021-07-07T18:15:42.690Z"
   },
   {
    "duration": 10,
    "start_time": "2021-07-07T18:15:42.699Z"
   },
   {
    "duration": 19,
    "start_time": "2021-07-07T18:15:42.711Z"
   },
   {
    "duration": 9,
    "start_time": "2021-07-07T18:15:42.732Z"
   },
   {
    "duration": 5,
    "start_time": "2021-07-07T18:15:42.743Z"
   },
   {
    "duration": 1450,
    "start_time": "2021-07-07T18:15:51.984Z"
   },
   {
    "duration": 161,
    "start_time": "2021-07-07T18:15:53.435Z"
   },
   {
    "duration": 124,
    "start_time": "2021-07-07T18:15:53.598Z"
   },
   {
    "duration": 5,
    "start_time": "2021-07-07T18:15:53.724Z"
   },
   {
    "duration": 34,
    "start_time": "2021-07-07T18:15:53.730Z"
   },
   {
    "duration": 7,
    "start_time": "2021-07-07T18:15:53.765Z"
   },
   {
    "duration": 15,
    "start_time": "2021-07-07T18:15:53.773Z"
   },
   {
    "duration": 5,
    "start_time": "2021-07-07T18:15:53.791Z"
   },
   {
    "duration": 19,
    "start_time": "2021-07-07T18:15:53.798Z"
   },
   {
    "duration": 9,
    "start_time": "2021-07-07T18:15:53.818Z"
   },
   {
    "duration": 19,
    "start_time": "2021-07-07T18:15:53.828Z"
   },
   {
    "duration": 27,
    "start_time": "2021-07-07T18:15:53.848Z"
   },
   {
    "duration": 16,
    "start_time": "2021-07-07T18:15:53.884Z"
   },
   {
    "duration": 29,
    "start_time": "2021-07-07T18:15:53.901Z"
   },
   {
    "duration": 5,
    "start_time": "2021-07-07T18:15:53.932Z"
   },
   {
    "duration": 15,
    "start_time": "2021-07-07T18:15:53.939Z"
   },
   {
    "duration": 13,
    "start_time": "2021-07-07T18:15:53.956Z"
   },
   {
    "duration": 20,
    "start_time": "2021-07-07T18:15:53.971Z"
   },
   {
    "duration": 14,
    "start_time": "2021-07-07T18:15:53.992Z"
   },
   {
    "duration": 9,
    "start_time": "2021-07-07T18:15:54.009Z"
   },
   {
    "duration": 28,
    "start_time": "2021-07-07T18:15:54.020Z"
   },
   {
    "duration": 50,
    "start_time": "2021-07-07T18:15:54.051Z"
   },
   {
    "duration": 8,
    "start_time": "2021-07-07T18:15:54.105Z"
   },
   {
    "duration": 11,
    "start_time": "2021-07-07T18:15:54.115Z"
   },
   {
    "duration": 20,
    "start_time": "2021-07-07T18:15:54.128Z"
   },
   {
    "duration": 13,
    "start_time": "2021-07-07T18:15:54.184Z"
   },
   {
    "duration": 7,
    "start_time": "2021-07-07T18:15:54.199Z"
   },
   {
    "duration": 7,
    "start_time": "2021-07-07T18:17:08.042Z"
   },
   {
    "duration": 8,
    "start_time": "2021-07-07T18:17:21.008Z"
   },
   {
    "duration": 7,
    "start_time": "2021-07-07T18:17:29.003Z"
   },
   {
    "duration": 8,
    "start_time": "2021-07-07T18:17:32.492Z"
   },
   {
    "duration": 9,
    "start_time": "2021-07-07T18:17:41.758Z"
   },
   {
    "duration": 255,
    "start_time": "2021-07-07T18:20:20.897Z"
   },
   {
    "duration": 173,
    "start_time": "2021-07-07T18:20:26.636Z"
   },
   {
    "duration": 7,
    "start_time": "2021-07-07T18:21:47.164Z"
   },
   {
    "duration": 254,
    "start_time": "2021-07-07T18:23:08.703Z"
   },
   {
    "duration": 21,
    "start_time": "2021-07-07T18:23:22.506Z"
   },
   {
    "duration": 315,
    "start_time": "2021-07-07T18:25:54.801Z"
   },
   {
    "duration": 34,
    "start_time": "2021-07-07T18:26:51.817Z"
   },
   {
    "duration": 327,
    "start_time": "2021-07-07T18:26:56.147Z"
   },
   {
    "duration": 342,
    "start_time": "2021-07-07T18:27:15.887Z"
   },
   {
    "duration": 302,
    "start_time": "2021-07-07T18:28:18.569Z"
   },
   {
    "duration": 226,
    "start_time": "2021-07-07T18:29:20.879Z"
   },
   {
    "duration": 207,
    "start_time": "2021-07-07T18:29:58.114Z"
   },
   {
    "duration": 140,
    "start_time": "2021-07-07T18:32:04.372Z"
   },
   {
    "duration": 158,
    "start_time": "2021-07-07T18:32:32.508Z"
   },
   {
    "duration": 145,
    "start_time": "2021-07-07T18:32:41.365Z"
   },
   {
    "duration": 132,
    "start_time": "2021-07-07T18:32:45.199Z"
   },
   {
    "duration": 11,
    "start_time": "2021-07-07T18:35:24.679Z"
   },
   {
    "duration": 268,
    "start_time": "2021-07-07T18:36:16.145Z"
   },
   {
    "duration": 227,
    "start_time": "2021-07-07T18:37:04.918Z"
   },
   {
    "duration": 3,
    "start_time": "2021-07-07T18:37:33.012Z"
   },
   {
    "duration": 671,
    "start_time": "2021-07-07T18:37:38.295Z"
   },
   {
    "duration": 54,
    "start_time": "2021-07-07T18:37:53.406Z"
   },
   {
    "duration": 631,
    "start_time": "2021-07-07T18:37:56.463Z"
   },
   {
    "duration": 19,
    "start_time": "2021-07-07T18:39:40.535Z"
   },
   {
    "duration": 20,
    "start_time": "2021-07-07T18:40:12.236Z"
   },
   {
    "duration": 633,
    "start_time": "2021-07-07T18:42:00.398Z"
   },
   {
    "duration": 218,
    "start_time": "2021-07-07T18:42:01.033Z"
   },
   {
    "duration": 49,
    "start_time": "2021-07-07T18:42:01.253Z"
   },
   {
    "duration": 5,
    "start_time": "2021-07-07T18:42:01.303Z"
   },
   {
    "duration": 27,
    "start_time": "2021-07-07T18:42:01.310Z"
   },
   {
    "duration": 8,
    "start_time": "2021-07-07T18:42:01.339Z"
   },
   {
    "duration": 20,
    "start_time": "2021-07-07T18:42:01.348Z"
   },
   {
    "duration": 6,
    "start_time": "2021-07-07T18:42:01.386Z"
   },
   {
    "duration": 16,
    "start_time": "2021-07-07T18:42:01.394Z"
   },
   {
    "duration": 9,
    "start_time": "2021-07-07T18:42:01.411Z"
   },
   {
    "duration": 11,
    "start_time": "2021-07-07T18:42:01.421Z"
   },
   {
    "duration": 31,
    "start_time": "2021-07-07T18:42:01.434Z"
   },
   {
    "duration": 18,
    "start_time": "2021-07-07T18:42:01.485Z"
   },
   {
    "duration": 23,
    "start_time": "2021-07-07T18:42:01.505Z"
   },
   {
    "duration": 6,
    "start_time": "2021-07-07T18:42:01.530Z"
   },
   {
    "duration": 10,
    "start_time": "2021-07-07T18:42:01.538Z"
   },
   {
    "duration": 13,
    "start_time": "2021-07-07T18:42:01.550Z"
   },
   {
    "duration": 24,
    "start_time": "2021-07-07T18:42:01.564Z"
   },
   {
    "duration": 20,
    "start_time": "2021-07-07T18:42:01.590Z"
   },
   {
    "duration": 8,
    "start_time": "2021-07-07T18:42:01.611Z"
   },
   {
    "duration": 31,
    "start_time": "2021-07-07T18:42:01.620Z"
   },
   {
    "duration": 39,
    "start_time": "2021-07-07T18:42:01.653Z"
   },
   {
    "duration": 8,
    "start_time": "2021-07-07T18:42:01.696Z"
   },
   {
    "duration": 13,
    "start_time": "2021-07-07T18:42:01.705Z"
   },
   {
    "duration": 20,
    "start_time": "2021-07-07T18:42:01.720Z"
   },
   {
    "duration": 12,
    "start_time": "2021-07-07T18:42:01.741Z"
   },
   {
    "duration": 35,
    "start_time": "2021-07-07T18:42:01.755Z"
   },
   {
    "duration": 14,
    "start_time": "2021-07-07T18:42:01.792Z"
   },
   {
    "duration": 188,
    "start_time": "2021-07-07T18:42:01.808Z"
   },
   {
    "duration": 19,
    "start_time": "2021-07-07T18:42:01.998Z"
   },
   {
    "duration": 175,
    "start_time": "2021-07-07T18:42:02.019Z"
   },
   {
    "duration": 134,
    "start_time": "2021-07-07T18:42:02.196Z"
   },
   {
    "duration": 10,
    "start_time": "2021-07-07T18:42:02.331Z"
   },
   {
    "duration": 19,
    "start_time": "2021-07-07T18:42:02.343Z"
   },
   {
    "duration": 628,
    "start_time": "2021-07-07T18:46:30.701Z"
   },
   {
    "duration": 183,
    "start_time": "2021-07-07T18:46:31.331Z"
   },
   {
    "duration": 48,
    "start_time": "2021-07-07T18:46:31.516Z"
   },
   {
    "duration": 5,
    "start_time": "2021-07-07T18:46:31.566Z"
   },
   {
    "duration": 28,
    "start_time": "2021-07-07T18:46:31.572Z"
   },
   {
    "duration": 8,
    "start_time": "2021-07-07T18:46:31.602Z"
   },
   {
    "duration": 19,
    "start_time": "2021-07-07T18:46:31.611Z"
   },
   {
    "duration": 6,
    "start_time": "2021-07-07T18:46:31.633Z"
   },
   {
    "duration": 17,
    "start_time": "2021-07-07T18:46:31.642Z"
   },
   {
    "duration": 10,
    "start_time": "2021-07-07T18:46:31.684Z"
   },
   {
    "duration": 9,
    "start_time": "2021-07-07T18:46:31.695Z"
   },
   {
    "duration": 28,
    "start_time": "2021-07-07T18:46:31.705Z"
   },
   {
    "duration": 18,
    "start_time": "2021-07-07T18:46:31.735Z"
   },
   {
    "duration": 48,
    "start_time": "2021-07-07T18:46:31.755Z"
   },
   {
    "duration": 6,
    "start_time": "2021-07-07T18:46:31.804Z"
   },
   {
    "duration": 4,
    "start_time": "2021-07-07T18:46:31.812Z"
   },
   {
    "duration": 9,
    "start_time": "2021-07-07T18:46:31.817Z"
   },
   {
    "duration": 10,
    "start_time": "2021-07-07T18:46:31.827Z"
   },
   {
    "duration": 12,
    "start_time": "2021-07-07T18:46:31.838Z"
   },
   {
    "duration": 39,
    "start_time": "2021-07-07T18:46:31.851Z"
   },
   {
    "duration": 24,
    "start_time": "2021-07-07T18:46:31.892Z"
   },
   {
    "duration": 15,
    "start_time": "2021-07-07T18:46:31.918Z"
   },
   {
    "duration": 7,
    "start_time": "2021-07-07T18:46:31.936Z"
   },
   {
    "duration": 8,
    "start_time": "2021-07-07T18:46:31.944Z"
   },
   {
    "duration": 19,
    "start_time": "2021-07-07T18:46:31.984Z"
   },
   {
    "duration": 10,
    "start_time": "2021-07-07T18:46:32.004Z"
   },
   {
    "duration": 5,
    "start_time": "2021-07-07T18:46:32.016Z"
   },
   {
    "duration": 9,
    "start_time": "2021-07-07T18:46:32.023Z"
   },
   {
    "duration": 199,
    "start_time": "2021-07-07T18:46:32.033Z"
   },
   {
    "duration": 19,
    "start_time": "2021-07-07T18:46:32.234Z"
   },
   {
    "duration": 159,
    "start_time": "2021-07-07T18:46:32.255Z"
   },
   {
    "duration": 134,
    "start_time": "2021-07-07T18:46:32.416Z"
   },
   {
    "duration": 10,
    "start_time": "2021-07-07T18:46:32.552Z"
   },
   {
    "duration": 34,
    "start_time": "2021-07-07T18:46:32.563Z"
   },
   {
    "duration": 1039,
    "start_time": "2021-07-08T08:41:09.419Z"
   },
   {
    "duration": 333,
    "start_time": "2021-07-08T08:41:10.459Z"
   },
   {
    "duration": 173,
    "start_time": "2021-07-08T08:41:10.794Z"
   },
   {
    "duration": 5,
    "start_time": "2021-07-08T08:41:10.968Z"
   },
   {
    "duration": 25,
    "start_time": "2021-07-08T08:41:10.975Z"
   },
   {
    "duration": 9,
    "start_time": "2021-07-08T08:41:11.002Z"
   },
   {
    "duration": 18,
    "start_time": "2021-07-08T08:41:11.013Z"
   },
   {
    "duration": 6,
    "start_time": "2021-07-08T08:41:11.033Z"
   },
   {
    "duration": 44,
    "start_time": "2021-07-08T08:41:11.042Z"
   },
   {
    "duration": 10,
    "start_time": "2021-07-08T08:41:11.088Z"
   },
   {
    "duration": 9,
    "start_time": "2021-07-08T08:41:11.100Z"
   },
   {
    "duration": 27,
    "start_time": "2021-07-08T08:41:11.111Z"
   },
   {
    "duration": 46,
    "start_time": "2021-07-08T08:41:11.140Z"
   },
   {
    "duration": 17,
    "start_time": "2021-07-08T08:41:11.187Z"
   },
   {
    "duration": 6,
    "start_time": "2021-07-08T08:41:11.206Z"
   },
   {
    "duration": 5,
    "start_time": "2021-07-08T08:41:11.213Z"
   },
   {
    "duration": 10,
    "start_time": "2021-07-08T08:41:11.219Z"
   },
   {
    "duration": 9,
    "start_time": "2021-07-08T08:41:11.230Z"
   },
   {
    "duration": 45,
    "start_time": "2021-07-08T08:41:11.241Z"
   },
   {
    "duration": 7,
    "start_time": "2021-07-08T08:41:11.287Z"
   },
   {
    "duration": 24,
    "start_time": "2021-07-08T08:41:11.296Z"
   },
   {
    "duration": 16,
    "start_time": "2021-07-08T08:41:11.322Z"
   },
   {
    "duration": 7,
    "start_time": "2021-07-08T08:41:11.341Z"
   },
   {
    "duration": 41,
    "start_time": "2021-07-08T08:41:11.349Z"
   },
   {
    "duration": 17,
    "start_time": "2021-07-08T08:41:11.391Z"
   },
   {
    "duration": 9,
    "start_time": "2021-07-08T08:41:11.410Z"
   },
   {
    "duration": 5,
    "start_time": "2021-07-08T08:41:11.421Z"
   },
   {
    "duration": 6,
    "start_time": "2021-07-08T08:41:11.428Z"
   },
   {
    "duration": 198,
    "start_time": "2021-07-08T08:41:11.435Z"
   },
   {
    "duration": 18,
    "start_time": "2021-07-08T08:41:11.635Z"
   },
   {
    "duration": 155,
    "start_time": "2021-07-08T08:41:11.655Z"
   },
   {
    "duration": 138,
    "start_time": "2021-07-08T08:41:11.811Z"
   },
   {
    "duration": 10,
    "start_time": "2021-07-08T08:41:11.950Z"
   },
   {
    "duration": 29,
    "start_time": "2021-07-08T08:41:11.961Z"
   },
   {
    "duration": 171,
    "start_time": "2021-07-08T08:47:44.522Z"
   },
   {
    "duration": 124,
    "start_time": "2021-07-08T08:47:46.872Z"
   },
   {
    "duration": 191,
    "start_time": "2021-07-08T08:47:58.148Z"
   },
   {
    "duration": 191,
    "start_time": "2021-07-08T08:48:07.412Z"
   },
   {
    "duration": 261,
    "start_time": "2021-07-08T08:48:10.385Z"
   },
   {
    "duration": 255,
    "start_time": "2021-07-08T08:48:14.494Z"
   },
   {
    "duration": 219,
    "start_time": "2021-07-08T08:48:22.752Z"
   },
   {
    "duration": 173,
    "start_time": "2021-07-08T08:49:06.395Z"
   },
   {
    "duration": 180,
    "start_time": "2021-07-08T08:49:21.011Z"
   },
   {
    "duration": 6,
    "start_time": "2021-07-08T08:50:31.697Z"
   },
   {
    "duration": 10,
    "start_time": "2021-07-08T08:50:47.394Z"
   },
   {
    "duration": 11,
    "start_time": "2021-07-08T08:53:49.332Z"
   },
   {
    "duration": 171,
    "start_time": "2021-07-08T08:54:28.408Z"
   },
   {
    "duration": 636,
    "start_time": "2021-07-08T09:02:48.385Z"
   },
   {
    "duration": 227,
    "start_time": "2021-07-08T09:02:49.023Z"
   },
   {
    "duration": 104,
    "start_time": "2021-07-08T09:02:49.252Z"
   },
   {
    "duration": 5,
    "start_time": "2021-07-08T09:02:49.358Z"
   },
   {
    "duration": 27,
    "start_time": "2021-07-08T09:02:49.365Z"
   },
   {
    "duration": 8,
    "start_time": "2021-07-08T09:02:49.394Z"
   },
   {
    "duration": 18,
    "start_time": "2021-07-08T09:02:49.404Z"
   },
   {
    "duration": 6,
    "start_time": "2021-07-08T09:02:49.424Z"
   },
   {
    "duration": 11,
    "start_time": "2021-07-08T09:02:49.433Z"
   },
   {
    "duration": 13,
    "start_time": "2021-07-08T09:02:49.485Z"
   },
   {
    "duration": 9,
    "start_time": "2021-07-08T09:02:49.500Z"
   },
   {
    "duration": 38,
    "start_time": "2021-07-08T09:02:49.511Z"
   },
   {
    "duration": 42,
    "start_time": "2021-07-08T09:02:49.551Z"
   },
   {
    "duration": 21,
    "start_time": "2021-07-08T09:02:49.594Z"
   },
   {
    "duration": 6,
    "start_time": "2021-07-08T09:02:49.616Z"
   },
   {
    "duration": 3,
    "start_time": "2021-07-08T09:02:49.623Z"
   },
   {
    "duration": 9,
    "start_time": "2021-07-08T09:02:49.628Z"
   },
   {
    "duration": 52,
    "start_time": "2021-07-08T09:02:49.638Z"
   },
   {
    "duration": 11,
    "start_time": "2021-07-08T09:02:49.692Z"
   },
   {
    "duration": 8,
    "start_time": "2021-07-08T09:02:49.704Z"
   },
   {
    "duration": 27,
    "start_time": "2021-07-08T09:02:49.713Z"
   },
   {
    "duration": 59,
    "start_time": "2021-07-08T09:02:49.741Z"
   },
   {
    "duration": 8,
    "start_time": "2021-07-08T09:02:49.803Z"
   },
   {
    "duration": 14,
    "start_time": "2021-07-08T09:02:49.813Z"
   },
   {
    "duration": 20,
    "start_time": "2021-07-08T09:02:49.829Z"
   },
   {
    "duration": 44,
    "start_time": "2021-07-08T09:02:49.851Z"
   },
   {
    "duration": 14,
    "start_time": "2021-07-08T09:02:49.896Z"
   },
   {
    "duration": 221,
    "start_time": "2021-07-08T09:02:49.912Z"
   },
   {
    "duration": 6,
    "start_time": "2021-07-08T09:02:50.134Z"
   },
   {
    "duration": 206,
    "start_time": "2021-07-08T09:02:50.142Z"
   },
   {
    "duration": 19,
    "start_time": "2021-07-08T09:02:50.350Z"
   },
   {
    "duration": 21,
    "start_time": "2021-07-08T09:02:50.370Z"
   },
   {
    "duration": 20,
    "start_time": "2021-07-08T09:02:50.393Z"
   },
   {
    "duration": 5,
    "start_time": "2021-07-08T09:02:50.414Z"
   },
   {
    "duration": 5,
    "start_time": "2021-07-08T09:03:34.173Z"
   },
   {
    "duration": 6,
    "start_time": "2021-07-08T09:04:49.062Z"
   },
   {
    "duration": 9,
    "start_time": "2021-07-08T09:04:50.118Z"
   },
   {
    "duration": 14,
    "start_time": "2021-07-08T09:04:58.512Z"
   },
   {
    "duration": 9,
    "start_time": "2021-07-08T09:05:10.988Z"
   },
   {
    "duration": 11,
    "start_time": "2021-07-08T09:05:11.743Z"
   },
   {
    "duration": 7,
    "start_time": "2021-07-08T09:05:25.677Z"
   },
   {
    "duration": 13,
    "start_time": "2021-07-08T09:05:47.189Z"
   },
   {
    "duration": 13,
    "start_time": "2021-07-08T09:05:54.755Z"
   },
   {
    "duration": 4,
    "start_time": "2021-07-08T09:06:29.189Z"
   },
   {
    "duration": 244,
    "start_time": "2021-07-08T09:06:29.195Z"
   },
   {
    "duration": 91,
    "start_time": "2021-07-08T09:06:29.441Z"
   },
   {
    "duration": 4,
    "start_time": "2021-07-08T09:06:29.534Z"
   },
   {
    "duration": 28,
    "start_time": "2021-07-08T09:06:29.540Z"
   },
   {
    "duration": 6,
    "start_time": "2021-07-08T09:06:29.570Z"
   },
   {
    "duration": 18,
    "start_time": "2021-07-08T09:06:29.578Z"
   },
   {
    "duration": 5,
    "start_time": "2021-07-08T09:06:29.597Z"
   },
   {
    "duration": 13,
    "start_time": "2021-07-08T09:06:29.605Z"
   },
   {
    "duration": 8,
    "start_time": "2021-07-08T09:06:29.620Z"
   },
   {
    "duration": 7,
    "start_time": "2021-07-08T09:06:29.630Z"
   },
   {
    "duration": 63,
    "start_time": "2021-07-08T09:06:29.639Z"
   },
   {
    "duration": 17,
    "start_time": "2021-07-08T09:06:29.704Z"
   },
   {
    "duration": 20,
    "start_time": "2021-07-08T09:06:29.723Z"
   },
   {
    "duration": 6,
    "start_time": "2021-07-08T09:06:29.745Z"
   },
   {
    "duration": 3,
    "start_time": "2021-07-08T09:06:29.752Z"
   },
   {
    "duration": 7,
    "start_time": "2021-07-08T09:06:29.785Z"
   },
   {
    "duration": 11,
    "start_time": "2021-07-08T09:06:29.794Z"
   },
   {
    "duration": 15,
    "start_time": "2021-07-08T09:06:29.807Z"
   },
   {
    "duration": 8,
    "start_time": "2021-07-08T09:06:29.823Z"
   },
   {
    "duration": 70,
    "start_time": "2021-07-08T09:06:29.832Z"
   },
   {
    "duration": 17,
    "start_time": "2021-07-08T09:06:29.903Z"
   },
   {
    "duration": 9,
    "start_time": "2021-07-08T09:06:29.921Z"
   },
   {
    "duration": 9,
    "start_time": "2021-07-08T09:06:29.932Z"
   },
   {
    "duration": 57,
    "start_time": "2021-07-08T09:06:29.942Z"
   },
   {
    "duration": 11,
    "start_time": "2021-07-08T09:06:30.001Z"
   },
   {
    "duration": 19,
    "start_time": "2021-07-08T09:06:30.016Z"
   },
   {
    "duration": 217,
    "start_time": "2021-07-08T09:06:30.037Z"
   },
   {
    "duration": 6,
    "start_time": "2021-07-08T09:06:30.255Z"
   },
   {
    "duration": 205,
    "start_time": "2021-07-08T09:06:30.263Z"
   },
   {
    "duration": 27,
    "start_time": "2021-07-08T09:06:30.470Z"
   },
   {
    "duration": 11,
    "start_time": "2021-07-08T09:06:30.500Z"
   },
   {
    "duration": 31,
    "start_time": "2021-07-08T09:06:30.513Z"
   },
   {
    "duration": 18,
    "start_time": "2021-07-08T09:06:30.546Z"
   },
   {
    "duration": 11,
    "start_time": "2021-07-08T09:06:30.566Z"
   },
   {
    "duration": 19,
    "start_time": "2021-07-08T09:06:30.579Z"
   },
   {
    "duration": 20,
    "start_time": "2021-07-08T09:06:49.466Z"
   },
   {
    "duration": 9,
    "start_time": "2021-07-08T09:06:51.994Z"
   },
   {
    "duration": 20,
    "start_time": "2021-07-08T09:06:52.273Z"
   },
   {
    "duration": 246,
    "start_time": "2021-07-08T09:10:21.272Z"
   },
   {
    "duration": 84,
    "start_time": "2021-07-08T09:10:21.436Z"
   },
   {
    "duration": 7,
    "start_time": "2021-07-08T09:10:37.608Z"
   },
   {
    "duration": 189,
    "start_time": "2021-07-08T09:10:38.573Z"
   },
   {
    "duration": 185,
    "start_time": "2021-07-08T09:10:53.181Z"
   },
   {
    "duration": 11,
    "start_time": "2021-07-08T09:10:59.549Z"
   },
   {
    "duration": 42,
    "start_time": "2021-07-08T09:10:59.709Z"
   },
   {
    "duration": 12,
    "start_time": "2021-07-08T09:11:02.857Z"
   },
   {
    "duration": 28,
    "start_time": "2021-07-08T09:11:10.062Z"
   },
   {
    "duration": 249,
    "start_time": "2021-07-08T09:11:37.388Z"
   },
   {
    "duration": 232,
    "start_time": "2021-07-08T09:11:49.485Z"
   },
   {
    "duration": 453,
    "start_time": "2021-07-08T09:12:01.546Z"
   },
   {
    "duration": 440,
    "start_time": "2021-07-08T09:12:12.347Z"
   },
   {
    "duration": 213,
    "start_time": "2021-07-08T09:13:32.196Z"
   },
   {
    "duration": 172,
    "start_time": "2021-07-08T09:14:07.400Z"
   },
   {
    "duration": 185,
    "start_time": "2021-07-08T09:14:14.905Z"
   },
   {
    "duration": 209,
    "start_time": "2021-07-08T09:14:40.109Z"
   },
   {
    "duration": 201,
    "start_time": "2021-07-08T09:14:54.506Z"
   },
   {
    "duration": 622,
    "start_time": "2021-07-08T09:18:14.497Z"
   },
   {
    "duration": 220,
    "start_time": "2021-07-08T09:18:15.121Z"
   },
   {
    "duration": 79,
    "start_time": "2021-07-08T09:18:15.343Z"
   },
   {
    "duration": 4,
    "start_time": "2021-07-08T09:18:15.425Z"
   },
   {
    "duration": 24,
    "start_time": "2021-07-08T09:18:15.431Z"
   },
   {
    "duration": 8,
    "start_time": "2021-07-08T09:18:15.457Z"
   },
   {
    "duration": 16,
    "start_time": "2021-07-08T09:18:15.466Z"
   },
   {
    "duration": 5,
    "start_time": "2021-07-08T09:18:15.484Z"
   },
   {
    "duration": 10,
    "start_time": "2021-07-08T09:18:15.493Z"
   },
   {
    "duration": 8,
    "start_time": "2021-07-08T09:18:15.504Z"
   },
   {
    "duration": 7,
    "start_time": "2021-07-08T09:18:15.513Z"
   },
   {
    "duration": 26,
    "start_time": "2021-07-08T09:18:15.522Z"
   },
   {
    "duration": 49,
    "start_time": "2021-07-08T09:18:15.550Z"
   },
   {
    "duration": 21,
    "start_time": "2021-07-08T09:18:15.601Z"
   },
   {
    "duration": 8,
    "start_time": "2021-07-08T09:18:15.624Z"
   },
   {
    "duration": 3,
    "start_time": "2021-07-08T09:18:15.634Z"
   },
   {
    "duration": 8,
    "start_time": "2021-07-08T09:18:15.639Z"
   },
   {
    "duration": 45,
    "start_time": "2021-07-08T09:18:15.649Z"
   },
   {
    "duration": 13,
    "start_time": "2021-07-08T09:18:15.696Z"
   },
   {
    "duration": 10,
    "start_time": "2021-07-08T09:18:15.711Z"
   },
   {
    "duration": 64,
    "start_time": "2021-07-08T09:18:15.722Z"
   },
   {
    "duration": 19,
    "start_time": "2021-07-08T09:18:15.788Z"
   },
   {
    "duration": 9,
    "start_time": "2021-07-08T09:18:15.809Z"
   },
   {
    "duration": 9,
    "start_time": "2021-07-08T09:18:15.820Z"
   },
   {
    "duration": 18,
    "start_time": "2021-07-08T09:18:15.831Z"
   },
   {
    "duration": 43,
    "start_time": "2021-07-08T09:18:15.851Z"
   },
   {
    "duration": 12,
    "start_time": "2021-07-08T09:18:15.897Z"
   },
   {
    "duration": 219,
    "start_time": "2021-07-08T09:18:15.911Z"
   },
   {
    "duration": 8,
    "start_time": "2021-07-08T09:18:16.132Z"
   },
   {
    "duration": 199,
    "start_time": "2021-07-08T09:18:16.141Z"
   },
   {
    "duration": 18,
    "start_time": "2021-07-08T09:18:16.341Z"
   },
   {
    "duration": 24,
    "start_time": "2021-07-08T09:18:16.361Z"
   },
   {
    "duration": 24,
    "start_time": "2021-07-08T09:18:16.387Z"
   },
   {
    "duration": 211,
    "start_time": "2021-07-08T09:18:16.413Z"
   },
   {
    "duration": 18,
    "start_time": "2021-07-08T09:18:16.626Z"
   },
   {
    "duration": 596,
    "start_time": "2021-07-08T10:06:33.623Z"
   },
   {
    "duration": 181,
    "start_time": "2021-07-08T10:06:34.221Z"
   },
   {
    "duration": 176,
    "start_time": "2021-07-08T10:06:34.635Z"
   },
   {
    "duration": 239,
    "start_time": "2021-07-08T10:06:55.572Z"
   },
   {
    "duration": 6,
    "start_time": "2021-07-08T10:06:57.687Z"
   },
   {
    "duration": 4,
    "start_time": "2021-07-08T10:07:03.956Z"
   },
   {
    "duration": 4,
    "start_time": "2021-07-08T10:07:10.376Z"
   },
   {
    "duration": 4,
    "start_time": "2021-07-08T10:17:19.889Z"
   },
   {
    "duration": 3,
    "start_time": "2021-07-08T10:19:19.407Z"
   },
   {
    "duration": 197,
    "start_time": "2021-07-08T10:19:19.412Z"
   },
   {
    "duration": 127,
    "start_time": "2021-07-08T10:19:19.611Z"
   },
   {
    "duration": 4,
    "start_time": "2021-07-08T10:19:19.740Z"
   },
   {
    "duration": 27,
    "start_time": "2021-07-08T10:19:19.746Z"
   },
   {
    "duration": 7,
    "start_time": "2021-07-08T10:19:19.775Z"
   },
   {
    "duration": 30,
    "start_time": "2021-07-08T10:19:19.784Z"
   },
   {
    "duration": 7,
    "start_time": "2021-07-08T10:19:19.817Z"
   },
   {
    "duration": 26,
    "start_time": "2021-07-08T10:19:19.826Z"
   },
   {
    "duration": 18,
    "start_time": "2021-07-08T10:19:19.854Z"
   },
   {
    "duration": 14,
    "start_time": "2021-07-08T10:19:19.874Z"
   },
   {
    "duration": 48,
    "start_time": "2021-07-08T10:19:19.890Z"
   },
   {
    "duration": 17,
    "start_time": "2021-07-08T10:19:19.940Z"
   },
   {
    "duration": 38,
    "start_time": "2021-07-08T10:19:19.959Z"
   },
   {
    "duration": 8,
    "start_time": "2021-07-08T10:19:19.999Z"
   },
   {
    "duration": 15,
    "start_time": "2021-07-08T10:19:20.009Z"
   },
   {
    "duration": 22,
    "start_time": "2021-07-08T10:19:20.026Z"
   },
   {
    "duration": 10,
    "start_time": "2021-07-08T10:19:20.050Z"
   },
   {
    "duration": 10,
    "start_time": "2021-07-08T10:19:20.062Z"
   },
   {
    "duration": 20,
    "start_time": "2021-07-08T10:19:20.073Z"
   },
   {
    "duration": 29,
    "start_time": "2021-07-08T10:19:20.095Z"
   },
   {
    "duration": 17,
    "start_time": "2021-07-08T10:19:20.126Z"
   },
   {
    "duration": 40,
    "start_time": "2021-07-08T10:19:20.146Z"
   },
   {
    "duration": 15,
    "start_time": "2021-07-08T10:19:20.189Z"
   },
   {
    "duration": 19,
    "start_time": "2021-07-08T10:19:20.206Z"
   },
   {
    "duration": 10,
    "start_time": "2021-07-08T10:19:20.226Z"
   },
   {
    "duration": 11,
    "start_time": "2021-07-08T10:19:20.238Z"
   },
   {
    "duration": 297,
    "start_time": "2021-07-08T10:19:20.250Z"
   },
   {
    "duration": 6,
    "start_time": "2021-07-08T10:19:20.549Z"
   },
   {
    "duration": 191,
    "start_time": "2021-07-08T10:19:20.557Z"
   },
   {
    "duration": 19,
    "start_time": "2021-07-08T10:19:20.750Z"
   },
   {
    "duration": 20,
    "start_time": "2021-07-08T10:19:20.771Z"
   },
   {
    "duration": 15,
    "start_time": "2021-07-08T10:19:20.793Z"
   },
   {
    "duration": 222,
    "start_time": "2021-07-08T10:19:20.809Z"
   },
   {
    "duration": 20,
    "start_time": "2021-07-08T10:19:21.033Z"
   },
   {
    "duration": 27,
    "start_time": "2021-07-08T10:45:04.055Z"
   },
   {
    "duration": 8,
    "start_time": "2021-07-08T10:45:08.478Z"
   },
   {
    "duration": 8,
    "start_time": "2021-07-08T10:45:31.982Z"
   },
   {
    "duration": 10,
    "start_time": "2021-07-08T10:46:01.221Z"
   },
   {
    "duration": 17,
    "start_time": "2021-07-08T10:46:40.011Z"
   },
   {
    "duration": 193,
    "start_time": "2021-07-08T10:48:19.471Z"
   },
   {
    "duration": 225,
    "start_time": "2021-07-08T10:49:26.480Z"
   },
   {
    "duration": 204,
    "start_time": "2021-07-08T10:49:59.992Z"
   },
   {
    "duration": 435,
    "start_time": "2021-07-08T10:50:06.779Z"
   },
   {
    "duration": 199,
    "start_time": "2021-07-08T10:50:14.891Z"
   },
   {
    "duration": 204,
    "start_time": "2021-07-08T10:50:18.501Z"
   },
   {
    "duration": 244,
    "start_time": "2021-07-08T10:50:23.359Z"
   },
   {
    "duration": 192,
    "start_time": "2021-07-08T10:50:29.135Z"
   },
   {
    "duration": 218,
    "start_time": "2021-07-08T10:50:33.092Z"
   },
   {
    "duration": 207,
    "start_time": "2021-07-08T10:52:45.381Z"
   },
   {
    "duration": 5,
    "start_time": "2021-07-08T10:53:34.641Z"
   },
   {
    "duration": 196,
    "start_time": "2021-07-08T10:53:41.478Z"
   },
   {
    "duration": 43,
    "start_time": "2021-07-08T10:53:50.335Z"
   },
   {
    "duration": 32,
    "start_time": "2021-07-08T10:53:55.294Z"
   },
   {
    "duration": 55,
    "start_time": "2021-07-08T10:54:09.675Z"
   },
   {
    "duration": 16,
    "start_time": "2021-07-08T10:54:12.260Z"
   },
   {
    "duration": 15,
    "start_time": "2021-07-08T10:54:49.150Z"
   },
   {
    "duration": 20,
    "start_time": "2021-07-08T10:56:07.596Z"
   },
   {
    "duration": 16,
    "start_time": "2021-07-08T10:58:26.276Z"
   },
   {
    "duration": 22,
    "start_time": "2021-07-08T10:59:00.486Z"
   },
   {
    "duration": 18,
    "start_time": "2021-07-08T11:02:09.653Z"
   },
   {
    "duration": 10,
    "start_time": "2021-07-08T11:03:44.331Z"
   },
   {
    "duration": 10,
    "start_time": "2021-07-08T11:03:54.055Z"
   },
   {
    "duration": 12,
    "start_time": "2021-07-08T11:04:41.967Z"
   },
   {
    "duration": 24,
    "start_time": "2021-07-08T11:07:30.732Z"
   },
   {
    "duration": 6,
    "start_time": "2021-07-08T11:07:37.364Z"
   },
   {
    "duration": 16,
    "start_time": "2021-07-08T11:08:01.819Z"
   },
   {
    "duration": 17,
    "start_time": "2021-07-08T11:09:47.488Z"
   },
   {
    "duration": 246,
    "start_time": "2021-07-08T11:10:00.830Z"
   },
   {
    "duration": 18,
    "start_time": "2021-07-08T11:13:55.195Z"
   },
   {
    "duration": 204,
    "start_time": "2021-07-08T11:14:04.951Z"
   },
   {
    "duration": 19,
    "start_time": "2021-07-08T11:15:10.613Z"
   },
   {
    "duration": 680,
    "start_time": "2021-07-08T11:16:25.793Z"
   },
   {
    "duration": 451,
    "start_time": "2021-07-08T11:16:40.313Z"
   },
   {
    "duration": 469,
    "start_time": "2021-07-08T11:17:21.286Z"
   },
   {
    "duration": 20,
    "start_time": "2021-07-08T11:19:12.554Z"
   },
   {
    "duration": 35,
    "start_time": "2021-07-08T11:20:05.484Z"
   },
   {
    "duration": 53,
    "start_time": "2021-07-08T11:21:40.050Z"
   },
   {
    "duration": 13,
    "start_time": "2021-07-08T11:22:26.059Z"
   },
   {
    "duration": 19,
    "start_time": "2021-07-08T11:22:47.419Z"
   },
   {
    "duration": 25,
    "start_time": "2021-07-08T11:23:19.958Z"
   },
   {
    "duration": 29,
    "start_time": "2021-07-08T11:23:25.415Z"
   },
   {
    "duration": 10,
    "start_time": "2021-07-08T11:24:45.138Z"
   },
   {
    "duration": 19,
    "start_time": "2021-07-08T11:24:54.498Z"
   },
   {
    "duration": 12,
    "start_time": "2021-07-08T11:25:32.225Z"
   },
   {
    "duration": 19,
    "start_time": "2021-07-08T11:25:37.092Z"
   },
   {
    "duration": 17,
    "start_time": "2021-07-08T11:25:58.116Z"
   },
   {
    "duration": 15,
    "start_time": "2021-07-08T11:26:02.258Z"
   },
   {
    "duration": 8,
    "start_time": "2021-07-08T11:26:59.682Z"
   },
   {
    "duration": 184,
    "start_time": "2021-07-08T11:27:21.894Z"
   },
   {
    "duration": 8,
    "start_time": "2021-07-08T11:27:23.824Z"
   },
   {
    "duration": 202,
    "start_time": "2021-07-08T11:27:23.962Z"
   },
   {
    "duration": 360,
    "start_time": "2021-07-08T11:28:33.215Z"
   },
   {
    "duration": 231,
    "start_time": "2021-07-08T11:32:05.542Z"
   },
   {
    "duration": 607,
    "start_time": "2021-07-08T11:36:27.854Z"
   },
   {
    "duration": 241,
    "start_time": "2021-07-08T11:36:28.463Z"
   },
   {
    "duration": 67,
    "start_time": "2021-07-08T11:36:28.709Z"
   },
   {
    "duration": 5,
    "start_time": "2021-07-08T11:36:28.778Z"
   },
   {
    "duration": 32,
    "start_time": "2021-07-08T11:36:28.784Z"
   },
   {
    "duration": 11,
    "start_time": "2021-07-08T11:36:28.819Z"
   },
   {
    "duration": 20,
    "start_time": "2021-07-08T11:36:28.834Z"
   },
   {
    "duration": 36,
    "start_time": "2021-07-08T11:36:28.857Z"
   },
   {
    "duration": 16,
    "start_time": "2021-07-08T11:36:28.895Z"
   },
   {
    "duration": 14,
    "start_time": "2021-07-08T11:36:28.913Z"
   },
   {
    "duration": 9,
    "start_time": "2021-07-08T11:36:28.930Z"
   },
   {
    "duration": 55,
    "start_time": "2021-07-08T11:36:28.941Z"
   },
   {
    "duration": 27,
    "start_time": "2021-07-08T11:36:28.999Z"
   },
   {
    "duration": 30,
    "start_time": "2021-07-08T11:36:29.028Z"
   },
   {
    "duration": 31,
    "start_time": "2021-07-08T11:36:29.060Z"
   },
   {
    "duration": 3,
    "start_time": "2021-07-08T11:36:29.093Z"
   },
   {
    "duration": 12,
    "start_time": "2021-07-08T11:36:29.099Z"
   },
   {
    "duration": 11,
    "start_time": "2021-07-08T11:36:29.112Z"
   },
   {
    "duration": 12,
    "start_time": "2021-07-08T11:36:29.125Z"
   },
   {
    "duration": 9,
    "start_time": "2021-07-08T11:36:29.139Z"
   },
   {
    "duration": 31,
    "start_time": "2021-07-08T11:36:29.191Z"
   },
   {
    "duration": 17,
    "start_time": "2021-07-08T11:36:29.226Z"
   },
   {
    "duration": 7,
    "start_time": "2021-07-08T11:36:29.245Z"
   },
   {
    "duration": 10,
    "start_time": "2021-07-08T11:36:29.254Z"
   },
   {
    "duration": 30,
    "start_time": "2021-07-08T11:36:29.292Z"
   },
   {
    "duration": 11,
    "start_time": "2021-07-08T11:36:29.324Z"
   },
   {
    "duration": 11,
    "start_time": "2021-07-08T11:36:29.337Z"
   },
   {
    "duration": 230,
    "start_time": "2021-07-08T11:36:29.349Z"
   },
   {
    "duration": 13,
    "start_time": "2021-07-08T11:36:29.588Z"
   },
   {
    "duration": 205,
    "start_time": "2021-07-08T11:36:29.603Z"
   },
   {
    "duration": 20,
    "start_time": "2021-07-08T11:36:29.810Z"
   },
   {
    "duration": 9,
    "start_time": "2021-07-08T11:36:29.832Z"
   },
   {
    "duration": 16,
    "start_time": "2021-07-08T11:36:29.843Z"
   },
   {
    "duration": 283,
    "start_time": "2021-07-08T11:36:29.861Z"
   },
   {
    "duration": 50,
    "start_time": "2021-07-08T11:36:30.146Z"
   },
   {
    "duration": 14,
    "start_time": "2021-07-08T11:36:30.198Z"
   },
   {
    "duration": 11,
    "start_time": "2021-07-08T11:36:30.214Z"
   },
   {
    "duration": 245,
    "start_time": "2021-07-08T11:36:30.227Z"
   },
   {
    "duration": 439,
    "start_time": "2021-07-08T11:36:30.474Z"
   },
   {
    "duration": 210,
    "start_time": "2021-07-08T11:36:30.915Z"
   },
   {
    "duration": 15,
    "start_time": "2021-07-08T11:36:31.127Z"
   },
   {
    "duration": 17,
    "start_time": "2021-07-08T11:38:20.451Z"
   },
   {
    "duration": 642,
    "start_time": "2021-07-08T11:46:17.881Z"
   },
   {
    "duration": 210,
    "start_time": "2021-07-08T11:46:18.525Z"
   },
   {
    "duration": 104,
    "start_time": "2021-07-08T11:46:18.741Z"
   },
   {
    "duration": 8,
    "start_time": "2021-07-08T11:46:18.847Z"
   },
   {
    "duration": 25,
    "start_time": "2021-07-08T11:46:18.857Z"
   },
   {
    "duration": 14,
    "start_time": "2021-07-08T11:46:18.884Z"
   },
   {
    "duration": 22,
    "start_time": "2021-07-08T11:46:18.900Z"
   },
   {
    "duration": 5,
    "start_time": "2021-07-08T11:46:18.924Z"
   },
   {
    "duration": 13,
    "start_time": "2021-07-08T11:46:18.931Z"
   },
   {
    "duration": 45,
    "start_time": "2021-07-08T11:46:18.946Z"
   },
   {
    "duration": 12,
    "start_time": "2021-07-08T11:46:18.993Z"
   },
   {
    "duration": 38,
    "start_time": "2021-07-08T11:46:19.006Z"
   },
   {
    "duration": 50,
    "start_time": "2021-07-08T11:46:19.046Z"
   },
   {
    "duration": 29,
    "start_time": "2021-07-08T11:46:19.099Z"
   },
   {
    "duration": 7,
    "start_time": "2021-07-08T11:46:19.130Z"
   },
   {
    "duration": 3,
    "start_time": "2021-07-08T11:46:19.139Z"
   },
   {
    "duration": 11,
    "start_time": "2021-07-08T11:46:19.144Z"
   },
   {
    "duration": 40,
    "start_time": "2021-07-08T11:46:19.157Z"
   },
   {
    "duration": 15,
    "start_time": "2021-07-08T11:46:19.199Z"
   },
   {
    "duration": 10,
    "start_time": "2021-07-08T11:46:19.217Z"
   },
   {
    "duration": 68,
    "start_time": "2021-07-08T11:46:19.230Z"
   },
   {
    "duration": 17,
    "start_time": "2021-07-08T11:46:19.301Z"
   },
   {
    "duration": 7,
    "start_time": "2021-07-08T11:46:19.321Z"
   },
   {
    "duration": 11,
    "start_time": "2021-07-08T11:46:19.330Z"
   },
   {
    "duration": 59,
    "start_time": "2021-07-08T11:46:19.343Z"
   },
   {
    "duration": 17,
    "start_time": "2021-07-08T11:46:19.405Z"
   },
   {
    "duration": 16,
    "start_time": "2021-07-08T11:46:19.424Z"
   },
   {
    "duration": 252,
    "start_time": "2021-07-08T11:46:19.443Z"
   },
   {
    "duration": 9,
    "start_time": "2021-07-08T11:46:19.697Z"
   },
   {
    "duration": 224,
    "start_time": "2021-07-08T11:46:19.708Z"
   },
   {
    "duration": 21,
    "start_time": "2021-07-08T11:46:19.934Z"
   },
   {
    "duration": 9,
    "start_time": "2021-07-08T11:46:19.956Z"
   },
   {
    "duration": 32,
    "start_time": "2021-07-08T11:46:19.967Z"
   },
   {
    "duration": 288,
    "start_time": "2021-07-08T11:46:20.004Z"
   },
   {
    "duration": 23,
    "start_time": "2021-07-08T11:46:20.300Z"
   },
   {
    "duration": 11,
    "start_time": "2021-07-08T11:46:20.325Z"
   },
   {
    "duration": 11,
    "start_time": "2021-07-08T11:46:20.339Z"
   },
   {
    "duration": 259,
    "start_time": "2021-07-08T11:46:20.352Z"
   },
   {
    "duration": 438,
    "start_time": "2021-07-08T11:46:20.613Z"
   },
   {
    "duration": 207,
    "start_time": "2021-07-08T11:46:21.054Z"
   },
   {
    "duration": 27,
    "start_time": "2021-07-08T11:46:21.262Z"
   },
   {
    "duration": 19,
    "start_time": "2021-07-08T11:46:21.291Z"
   },
   {
    "duration": 820,
    "start_time": "2021-07-08T11:49:01.655Z"
   },
   {
    "duration": 372,
    "start_time": "2021-07-08T11:49:02.478Z"
   },
   {
    "duration": 98,
    "start_time": "2021-07-08T11:49:02.853Z"
   },
   {
    "duration": 6,
    "start_time": "2021-07-08T11:49:02.953Z"
   },
   {
    "duration": 39,
    "start_time": "2021-07-08T11:49:02.960Z"
   },
   {
    "duration": 9,
    "start_time": "2021-07-08T11:49:03.003Z"
   },
   {
    "duration": 23,
    "start_time": "2021-07-08T11:49:03.014Z"
   },
   {
    "duration": 6,
    "start_time": "2021-07-08T11:49:03.041Z"
   },
   {
    "duration": 20,
    "start_time": "2021-07-08T11:49:03.049Z"
   },
   {
    "duration": 18,
    "start_time": "2021-07-08T11:49:03.084Z"
   },
   {
    "duration": 14,
    "start_time": "2021-07-08T11:49:03.104Z"
   },
   {
    "duration": 39,
    "start_time": "2021-07-08T11:49:03.119Z"
   },
   {
    "duration": 38,
    "start_time": "2021-07-08T11:49:03.160Z"
   },
   {
    "duration": 26,
    "start_time": "2021-07-08T11:49:03.200Z"
   },
   {
    "duration": 7,
    "start_time": "2021-07-08T11:49:03.227Z"
   },
   {
    "duration": 4,
    "start_time": "2021-07-08T11:49:03.236Z"
   },
   {
    "duration": 15,
    "start_time": "2021-07-08T11:49:03.243Z"
   },
   {
    "duration": 21,
    "start_time": "2021-07-08T11:49:03.285Z"
   },
   {
    "duration": 17,
    "start_time": "2021-07-08T11:49:03.309Z"
   },
   {
    "duration": 10,
    "start_time": "2021-07-08T11:49:03.328Z"
   },
   {
    "duration": 65,
    "start_time": "2021-07-08T11:49:03.340Z"
   },
   {
    "duration": 18,
    "start_time": "2021-07-08T11:49:03.407Z"
   },
   {
    "duration": 8,
    "start_time": "2021-07-08T11:49:03.428Z"
   },
   {
    "duration": 15,
    "start_time": "2021-07-08T11:49:03.438Z"
   },
   {
    "duration": 40,
    "start_time": "2021-07-08T11:49:03.455Z"
   },
   {
    "duration": 12,
    "start_time": "2021-07-08T11:49:03.497Z"
   },
   {
    "duration": 29,
    "start_time": "2021-07-08T11:49:03.511Z"
   },
   {
    "duration": 285,
    "start_time": "2021-07-08T11:49:03.542Z"
   },
   {
    "duration": 8,
    "start_time": "2021-07-08T11:49:03.829Z"
   },
   {
    "duration": 227,
    "start_time": "2021-07-08T11:49:03.838Z"
   },
   {
    "duration": 40,
    "start_time": "2021-07-08T11:49:04.066Z"
   },
   {
    "duration": 10,
    "start_time": "2021-07-08T11:49:04.108Z"
   },
   {
    "duration": 26,
    "start_time": "2021-07-08T11:49:04.121Z"
   },
   {
    "duration": 290,
    "start_time": "2021-07-08T11:49:04.149Z"
   },
   {
    "duration": 26,
    "start_time": "2021-07-08T11:49:04.441Z"
   },
   {
    "duration": 31,
    "start_time": "2021-07-08T11:49:04.470Z"
   },
   {
    "duration": 14,
    "start_time": "2021-07-08T11:49:04.503Z"
   },
   {
    "duration": 259,
    "start_time": "2021-07-08T11:49:04.521Z"
   },
   {
    "duration": 480,
    "start_time": "2021-07-08T11:49:04.782Z"
   },
   {
    "duration": 225,
    "start_time": "2021-07-08T11:49:05.264Z"
   },
   {
    "duration": 22,
    "start_time": "2021-07-08T11:49:05.491Z"
   },
   {
    "duration": 24,
    "start_time": "2021-07-08T11:49:05.515Z"
   },
   {
    "duration": 634,
    "start_time": "2021-07-08T11:52:24.960Z"
   },
   {
    "duration": 199,
    "start_time": "2021-07-08T11:52:25.599Z"
   },
   {
    "duration": 106,
    "start_time": "2021-07-08T11:52:25.803Z"
   },
   {
    "duration": 7,
    "start_time": "2021-07-08T11:52:25.911Z"
   },
   {
    "duration": 29,
    "start_time": "2021-07-08T11:52:25.920Z"
   },
   {
    "duration": 7,
    "start_time": "2021-07-08T11:52:25.951Z"
   },
   {
    "duration": 26,
    "start_time": "2021-07-08T11:52:25.961Z"
   },
   {
    "duration": 11,
    "start_time": "2021-07-08T11:52:25.990Z"
   },
   {
    "duration": 29,
    "start_time": "2021-07-08T11:52:26.005Z"
   },
   {
    "duration": 9,
    "start_time": "2021-07-08T11:52:26.036Z"
   },
   {
    "duration": 8,
    "start_time": "2021-07-08T11:52:26.047Z"
   },
   {
    "duration": 63,
    "start_time": "2021-07-08T11:52:26.057Z"
   },
   {
    "duration": 17,
    "start_time": "2021-07-08T11:52:26.122Z"
   },
   {
    "duration": 43,
    "start_time": "2021-07-08T11:52:26.142Z"
   },
   {
    "duration": 17,
    "start_time": "2021-07-08T11:52:26.187Z"
   },
   {
    "duration": 5,
    "start_time": "2021-07-08T11:52:26.206Z"
   },
   {
    "duration": 12,
    "start_time": "2021-07-08T11:52:26.212Z"
   },
   {
    "duration": 11,
    "start_time": "2021-07-08T11:52:26.226Z"
   },
   {
    "duration": 12,
    "start_time": "2021-07-08T11:52:26.238Z"
   },
   {
    "duration": 38,
    "start_time": "2021-07-08T11:52:26.252Z"
   },
   {
    "duration": 40,
    "start_time": "2021-07-08T11:52:26.292Z"
   },
   {
    "duration": 17,
    "start_time": "2021-07-08T11:52:26.336Z"
   },
   {
    "duration": 39,
    "start_time": "2021-07-08T11:52:26.355Z"
   },
   {
    "duration": 11,
    "start_time": "2021-07-08T11:52:26.395Z"
   },
   {
    "duration": 23,
    "start_time": "2021-07-08T11:52:26.408Z"
   },
   {
    "duration": 12,
    "start_time": "2021-07-08T11:52:26.432Z"
   },
   {
    "duration": 41,
    "start_time": "2021-07-08T11:52:26.446Z"
   },
   {
    "duration": 215,
    "start_time": "2021-07-08T11:52:26.493Z"
   },
   {
    "duration": 8,
    "start_time": "2021-07-08T11:52:26.710Z"
   },
   {
    "duration": 228,
    "start_time": "2021-07-08T11:52:26.720Z"
   },
   {
    "duration": 18,
    "start_time": "2021-07-08T11:52:26.950Z"
   },
   {
    "duration": 35,
    "start_time": "2021-07-08T11:52:26.969Z"
   },
   {
    "duration": 23,
    "start_time": "2021-07-08T11:52:27.006Z"
   },
   {
    "duration": 258,
    "start_time": "2021-07-08T11:52:27.030Z"
   },
   {
    "duration": 24,
    "start_time": "2021-07-08T11:52:27.290Z"
   },
   {
    "duration": 12,
    "start_time": "2021-07-08T11:52:27.316Z"
   },
   {
    "duration": 10,
    "start_time": "2021-07-08T11:52:27.329Z"
   },
   {
    "duration": 298,
    "start_time": "2021-07-08T11:52:27.341Z"
   },
   {
    "duration": 436,
    "start_time": "2021-07-08T11:52:27.641Z"
   },
   {
    "duration": 216,
    "start_time": "2021-07-08T11:52:28.079Z"
   },
   {
    "duration": 20,
    "start_time": "2021-07-08T11:52:28.297Z"
   },
   {
    "duration": 17,
    "start_time": "2021-07-08T11:52:28.319Z"
   },
   {
    "duration": 846,
    "start_time": "2021-07-15T13:50:04.553Z"
   },
   {
    "duration": 254,
    "start_time": "2021-07-15T13:50:05.403Z"
   },
   {
    "duration": 18,
    "start_time": "2021-07-15T13:50:17.332Z"
   },
   {
    "duration": 336,
    "start_time": "2021-07-15T13:50:26.277Z"
   },
   {
    "duration": 21,
    "start_time": "2021-07-15T13:50:26.788Z"
   },
   {
    "duration": 15,
    "start_time": "2021-07-15T13:53:23.185Z"
   },
   {
    "duration": 372,
    "start_time": "2021-07-15T13:55:31.513Z"
   },
   {
    "duration": 34,
    "start_time": "2021-07-15T13:55:35.856Z"
   },
   {
    "duration": 20,
    "start_time": "2021-07-15T13:55:54.547Z"
   },
   {
    "duration": 10,
    "start_time": "2021-07-15T13:55:57.098Z"
   },
   {
    "duration": 11,
    "start_time": "2021-07-15T13:56:00.826Z"
   },
   {
    "duration": 14,
    "start_time": "2021-07-15T13:56:25.420Z"
   },
   {
    "duration": 7,
    "start_time": "2021-07-15T13:56:39.277Z"
   },
   {
    "duration": 1344,
    "start_time": "2021-07-15T14:19:18.225Z"
   },
   {
    "duration": 1445,
    "start_time": "2021-07-15T14:19:26.912Z"
   },
   {
    "duration": 881,
    "start_time": "2021-07-15T14:20:23.678Z"
   },
   {
    "duration": 16,
    "start_time": "2021-07-15T14:20:52.095Z"
   },
   {
    "duration": 18,
    "start_time": "2021-07-15T14:21:55.307Z"
   },
   {
    "duration": 25,
    "start_time": "2021-07-15T14:22:00.492Z"
   },
   {
    "duration": 8,
    "start_time": "2021-07-15T14:23:40.386Z"
   },
   {
    "duration": 10,
    "start_time": "2021-07-15T14:23:59.475Z"
   },
   {
    "duration": 8,
    "start_time": "2021-07-15T14:24:33.661Z"
   },
   {
    "duration": 19,
    "start_time": "2021-07-15T14:25:36.257Z"
   },
   {
    "duration": 9,
    "start_time": "2021-07-15T14:27:14.447Z"
   },
   {
    "duration": 336,
    "start_time": "2021-07-15T14:37:10.979Z"
   },
   {
    "duration": 17,
    "start_time": "2021-07-15T14:37:46.303Z"
   },
   {
    "duration": 7,
    "start_time": "2021-07-15T14:39:55.143Z"
   },
   {
    "duration": 38,
    "start_time": "2021-07-15T14:40:14.906Z"
   },
   {
    "duration": 375,
    "start_time": "2021-07-16T11:09:35.375Z"
   },
   {
    "duration": 746,
    "start_time": "2021-07-16T11:09:40.832Z"
   },
   {
    "duration": 571,
    "start_time": "2021-07-16T11:09:41.581Z"
   },
   {
    "duration": 29,
    "start_time": "2021-07-16T11:09:42.155Z"
   },
   {
    "duration": 9,
    "start_time": "2021-07-16T11:09:42.187Z"
   },
   {
    "duration": 16,
    "start_time": "2021-07-16T11:09:42.198Z"
   },
   {
    "duration": 41,
    "start_time": "2021-07-16T11:09:42.217Z"
   },
   {
    "duration": 19,
    "start_time": "2021-07-16T11:09:42.260Z"
   },
   {
    "duration": 5,
    "start_time": "2021-07-16T11:09:42.283Z"
   },
   {
    "duration": 356,
    "start_time": "2021-07-16T11:09:42.291Z"
   },
   {
    "duration": 1489,
    "start_time": "2021-07-16T11:09:41.161Z"
   },
   {
    "duration": 1487,
    "start_time": "2021-07-16T11:09:41.164Z"
   },
   {
    "duration": 1486,
    "start_time": "2021-07-16T11:09:41.167Z"
   },
   {
    "duration": 15,
    "start_time": "2021-07-16T11:10:13.106Z"
   },
   {
    "duration": 16,
    "start_time": "2021-07-16T11:10:14.995Z"
   },
   {
    "duration": 38,
    "start_time": "2021-07-16T11:10:15.426Z"
   },
   {
    "duration": 9,
    "start_time": "2021-07-16T11:10:20.435Z"
   },
   {
    "duration": 34,
    "start_time": "2021-07-16T11:11:45.529Z"
   },
   {
    "duration": 12,
    "start_time": "2021-07-16T11:12:39.484Z"
   },
   {
    "duration": 9,
    "start_time": "2021-07-16T11:13:12.163Z"
   },
   {
    "duration": 10,
    "start_time": "2021-07-16T11:13:18.406Z"
   },
   {
    "duration": 7,
    "start_time": "2021-07-16T11:19:46.529Z"
   },
   {
    "duration": 10,
    "start_time": "2021-07-16T11:19:47.623Z"
   },
   {
    "duration": 27,
    "start_time": "2021-07-16T11:19:59.856Z"
   },
   {
    "duration": 9,
    "start_time": "2021-07-16T11:20:42.514Z"
   },
   {
    "duration": 13,
    "start_time": "2021-07-16T11:21:12.175Z"
   },
   {
    "duration": 269,
    "start_time": "2021-07-16T11:52:09.976Z"
   },
   {
    "duration": 22,
    "start_time": "2021-07-16T11:52:17.705Z"
   },
   {
    "duration": 13,
    "start_time": "2021-07-16T11:52:38.155Z"
   },
   {
    "duration": 13,
    "start_time": "2021-07-16T11:52:52.819Z"
   },
   {
    "duration": 13,
    "start_time": "2021-07-16T11:53:12.608Z"
   },
   {
    "duration": 12,
    "start_time": "2021-07-16T11:54:13.512Z"
   },
   {
    "duration": 26,
    "start_time": "2021-07-16T11:54:39.450Z"
   },
   {
    "duration": 25,
    "start_time": "2021-07-16T11:57:58.040Z"
   },
   {
    "duration": 7,
    "start_time": "2021-07-16T14:22:14.680Z"
   },
   {
    "duration": 7,
    "start_time": "2021-07-16T14:22:25.963Z"
   },
   {
    "duration": 6,
    "start_time": "2021-07-16T14:22:29.716Z"
   },
   {
    "duration": 90,
    "start_time": "2021-07-16T14:23:04.117Z"
   },
   {
    "duration": 9,
    "start_time": "2021-07-16T14:23:07.638Z"
   },
   {
    "duration": 25,
    "start_time": "2021-07-16T14:24:34.372Z"
   },
   {
    "duration": 23,
    "start_time": "2021-07-16T14:25:02.767Z"
   },
   {
    "duration": 23,
    "start_time": "2021-07-16T14:27:07.126Z"
   },
   {
    "duration": 923,
    "start_time": "2021-07-16T14:28:16.642Z"
   },
   {
    "duration": 504,
    "start_time": "2021-07-16T14:28:17.567Z"
   },
   {
    "duration": 28,
    "start_time": "2021-07-16T14:28:18.074Z"
   },
   {
    "duration": 11,
    "start_time": "2021-07-16T14:28:18.105Z"
   },
   {
    "duration": 15,
    "start_time": "2021-07-16T14:28:18.118Z"
   },
   {
    "duration": 23,
    "start_time": "2021-07-16T14:28:18.136Z"
   },
   {
    "duration": 16,
    "start_time": "2021-07-16T14:28:18.161Z"
   },
   {
    "duration": 6,
    "start_time": "2021-07-16T14:28:18.180Z"
   },
   {
    "duration": 15,
    "start_time": "2021-07-16T14:28:18.189Z"
   },
   {
    "duration": 50,
    "start_time": "2021-07-16T14:28:18.206Z"
   },
   {
    "duration": 37,
    "start_time": "2021-07-16T14:28:18.258Z"
   },
   {
    "duration": 9,
    "start_time": "2021-07-16T14:28:18.298Z"
   },
   {
    "duration": 13,
    "start_time": "2021-07-16T14:28:18.310Z"
   },
   {
    "duration": 35,
    "start_time": "2021-07-16T14:28:18.356Z"
   },
   {
    "duration": 9,
    "start_time": "2021-07-16T14:28:18.393Z"
   },
   {
    "duration": 15,
    "start_time": "2021-07-16T14:28:18.405Z"
   },
   {
    "duration": 24,
    "start_time": "2021-07-16T14:28:18.455Z"
   },
   {
    "duration": 24,
    "start_time": "2021-07-16T14:28:18.482Z"
   },
   {
    "duration": 10,
    "start_time": "2021-07-16T14:28:18.509Z"
   },
   {
    "duration": 53,
    "start_time": "2021-07-16T14:28:18.521Z"
   },
   {
    "duration": 405,
    "start_time": "2021-07-16T14:42:58.808Z"
   },
   {
    "duration": 23,
    "start_time": "2021-07-16T14:43:05.168Z"
   },
   {
    "duration": 9,
    "start_time": "2021-07-16T14:46:27.483Z"
   },
   {
    "duration": 13,
    "start_time": "2021-07-16T14:46:40.613Z"
   },
   {
    "duration": 27,
    "start_time": "2021-07-16T14:48:20.179Z"
   },
   {
    "duration": 25,
    "start_time": "2021-07-16T14:48:25.420Z"
   },
   {
    "duration": 10,
    "start_time": "2021-07-16T14:49:26.192Z"
   },
   {
    "duration": 341,
    "start_time": "2021-07-16T14:49:58.273Z"
   },
   {
    "duration": 274,
    "start_time": "2021-07-16T14:50:03.161Z"
   },
   {
    "duration": 282,
    "start_time": "2021-07-16T14:50:42.972Z"
   },
   {
    "duration": 30,
    "start_time": "2021-07-16T14:51:07.957Z"
   },
   {
    "duration": 38,
    "start_time": "2021-07-16T14:51:31.296Z"
   },
   {
    "duration": 25,
    "start_time": "2021-07-16T15:02:35.425Z"
   },
   {
    "duration": 781,
    "start_time": "2021-07-17T17:23:17.771Z"
   },
   {
    "duration": 274,
    "start_time": "2021-07-17T17:23:18.555Z"
   },
   {
    "duration": 30,
    "start_time": "2021-07-17T17:23:18.831Z"
   },
   {
    "duration": 9,
    "start_time": "2021-07-17T17:23:18.863Z"
   },
   {
    "duration": 27,
    "start_time": "2021-07-17T17:23:18.875Z"
   },
   {
    "duration": 8,
    "start_time": "2021-07-17T17:23:18.905Z"
   },
   {
    "duration": 18,
    "start_time": "2021-07-17T17:23:18.917Z"
   },
   {
    "duration": 8,
    "start_time": "2021-07-17T17:23:18.938Z"
   },
   {
    "duration": 51,
    "start_time": "2021-07-17T17:23:18.948Z"
   },
   {
    "duration": 14,
    "start_time": "2021-07-17T17:23:19.001Z"
   },
   {
    "duration": 34,
    "start_time": "2021-07-17T17:23:19.018Z"
   },
   {
    "duration": 61,
    "start_time": "2021-07-17T17:23:19.054Z"
   },
   {
    "duration": 8,
    "start_time": "2021-07-17T17:23:19.118Z"
   },
   {
    "duration": 14,
    "start_time": "2021-07-17T17:23:19.128Z"
   },
   {
    "duration": 7,
    "start_time": "2021-07-17T17:23:37.353Z"
   },
   {
    "duration": 32,
    "start_time": "2021-07-17T17:23:49.104Z"
   },
   {
    "duration": 18,
    "start_time": "2021-07-17T17:24:45.006Z"
   },
   {
    "duration": 18,
    "start_time": "2021-07-17T17:26:39.267Z"
   },
   {
    "duration": 19,
    "start_time": "2021-07-17T17:26:44.228Z"
   },
   {
    "duration": 23,
    "start_time": "2021-07-17T18:46:59.287Z"
   },
   {
    "duration": 19,
    "start_time": "2021-07-17T18:47:24.127Z"
   },
   {
    "duration": 27,
    "start_time": "2021-07-17T20:36:04.598Z"
   },
   {
    "duration": 17,
    "start_time": "2021-07-17T20:37:29.787Z"
   },
   {
    "duration": 22,
    "start_time": "2021-07-17T20:38:39.047Z"
   },
   {
    "duration": 20,
    "start_time": "2021-07-17T20:38:42.840Z"
   },
   {
    "duration": 19,
    "start_time": "2021-07-17T20:38:53.241Z"
   },
   {
    "duration": 122,
    "start_time": "2021-07-17T20:39:36.859Z"
   },
   {
    "duration": 13,
    "start_time": "2021-07-17T20:39:39.772Z"
   },
   {
    "duration": 21,
    "start_time": "2021-07-17T20:40:25.054Z"
   },
   {
    "duration": 20,
    "start_time": "2021-07-17T20:40:26.958Z"
   },
   {
    "duration": 13,
    "start_time": "2021-07-17T20:40:34.527Z"
   },
   {
    "duration": 18,
    "start_time": "2021-07-17T20:40:45.463Z"
   },
   {
    "duration": 19,
    "start_time": "2021-07-17T20:41:30.546Z"
   },
   {
    "duration": 24,
    "start_time": "2021-07-17T20:41:39.387Z"
   },
   {
    "duration": 28,
    "start_time": "2021-07-17T20:42:41.735Z"
   },
   {
    "duration": 19,
    "start_time": "2021-07-17T20:42:44.718Z"
   },
   {
    "duration": 20,
    "start_time": "2021-07-17T20:42:49.431Z"
   },
   {
    "duration": 157,
    "start_time": "2021-07-17T20:43:20.593Z"
   },
   {
    "duration": 14,
    "start_time": "2021-07-17T20:44:19.405Z"
   },
   {
    "duration": 30,
    "start_time": "2021-07-17T20:44:47.783Z"
   },
   {
    "duration": 18,
    "start_time": "2021-07-17T20:44:53.502Z"
   },
   {
    "duration": 10,
    "start_time": "2021-07-17T20:45:42.842Z"
   },
   {
    "duration": 9,
    "start_time": "2021-07-17T20:45:46.210Z"
   },
   {
    "duration": 19,
    "start_time": "2021-07-17T20:45:53.899Z"
   },
   {
    "duration": 13,
    "start_time": "2021-07-17T20:46:06.171Z"
   },
   {
    "duration": 9,
    "start_time": "2021-07-17T20:46:10.612Z"
   },
   {
    "duration": 11,
    "start_time": "2021-07-17T20:46:11.731Z"
   },
   {
    "duration": 110,
    "start_time": "2021-07-17T20:46:22.220Z"
   },
   {
    "duration": 8,
    "start_time": "2021-07-17T20:46:26.028Z"
   },
   {
    "duration": 13,
    "start_time": "2021-07-17T20:46:27.501Z"
   },
   {
    "duration": 4,
    "start_time": "2021-07-17T20:47:12.696Z"
   },
   {
    "duration": 394,
    "start_time": "2021-07-17T20:47:38.737Z"
   },
   {
    "duration": 4,
    "start_time": "2021-07-17T20:47:44.577Z"
   },
   {
    "duration": 282,
    "start_time": "2021-07-17T20:47:44.833Z"
   },
   {
    "duration": 19,
    "start_time": "2021-07-17T20:47:45.118Z"
   },
   {
    "duration": 336,
    "start_time": "2021-07-17T20:47:50.987Z"
   },
   {
    "duration": 6,
    "start_time": "2021-07-17T20:51:01.503Z"
   },
   {
    "duration": 10,
    "start_time": "2021-07-17T20:51:05.591Z"
   },
   {
    "duration": 14,
    "start_time": "2021-07-17T20:51:13.959Z"
   },
   {
    "duration": 360,
    "start_time": "2021-07-17T20:54:09.946Z"
   },
   {
    "duration": 318,
    "start_time": "2021-07-17T20:54:15.634Z"
   },
   {
    "duration": 330,
    "start_time": "2021-07-17T20:55:41.136Z"
   },
   {
    "duration": 5,
    "start_time": "2021-07-17T20:55:55.337Z"
   },
   {
    "duration": 351,
    "start_time": "2021-07-17T20:56:00.000Z"
   },
   {
    "duration": 6,
    "start_time": "2021-07-17T20:56:03.617Z"
   },
   {
    "duration": 20,
    "start_time": "2021-07-17T20:56:17.059Z"
   },
   {
    "duration": 13,
    "start_time": "2021-07-17T20:56:20.930Z"
   },
   {
    "duration": 13,
    "start_time": "2021-07-17T20:56:25.946Z"
   },
   {
    "duration": 6,
    "start_time": "2021-07-17T20:56:31.003Z"
   },
   {
    "duration": 337,
    "start_time": "2021-07-17T20:56:35.170Z"
   },
   {
    "duration": 7,
    "start_time": "2021-07-17T20:56:40.427Z"
   },
   {
    "duration": 311,
    "start_time": "2021-07-17T21:00:34.114Z"
   },
   {
    "duration": 372,
    "start_time": "2021-07-17T21:00:43.818Z"
   },
   {
    "duration": 5,
    "start_time": "2021-07-17T21:00:53.811Z"
   },
   {
    "duration": 6,
    "start_time": "2021-07-17T21:01:03.363Z"
   },
   {
    "duration": 311,
    "start_time": "2021-07-17T21:01:09.532Z"
   },
   {
    "duration": 1516,
    "start_time": "2021-07-17T21:02:01.039Z"
   },
   {
    "duration": 7,
    "start_time": "2021-07-17T21:03:30.821Z"
   },
   {
    "duration": 329,
    "start_time": "2021-07-17T21:03:48.014Z"
   },
   {
    "duration": 4882,
    "start_time": "2021-07-17T21:04:38.322Z"
   },
   {
    "duration": 5508,
    "start_time": "2021-07-17T21:05:39.965Z"
   },
   {
    "duration": 4575,
    "start_time": "2021-07-17T21:06:15.760Z"
   },
   {
    "duration": 6,
    "start_time": "2021-07-17T21:06:44.361Z"
   },
   {
    "duration": 4415,
    "start_time": "2021-07-17T21:07:14.300Z"
   },
   {
    "duration": 1487,
    "start_time": "2021-07-17T21:08:12.968Z"
   },
   {
    "duration": 326,
    "start_time": "2021-07-17T21:09:03.642Z"
   },
   {
    "duration": 368,
    "start_time": "2021-07-17T21:09:06.666Z"
   },
   {
    "duration": 15,
    "start_time": "2021-07-17T21:09:13.731Z"
   },
   {
    "duration": 764,
    "start_time": "2021-07-17T21:09:28.598Z"
   },
   {
    "duration": 298,
    "start_time": "2021-07-17T21:09:29.365Z"
   },
   {
    "duration": 34,
    "start_time": "2021-07-17T21:09:29.666Z"
   },
   {
    "duration": 10,
    "start_time": "2021-07-17T21:09:29.703Z"
   },
   {
    "duration": 18,
    "start_time": "2021-07-17T21:09:29.715Z"
   },
   {
    "duration": 9,
    "start_time": "2021-07-17T21:09:29.735Z"
   },
   {
    "duration": 55,
    "start_time": "2021-07-17T21:09:29.747Z"
   },
   {
    "duration": 7,
    "start_time": "2021-07-17T21:09:29.805Z"
   },
   {
    "duration": 19,
    "start_time": "2021-07-17T21:09:29.815Z"
   },
   {
    "duration": 14,
    "start_time": "2021-07-17T21:09:29.836Z"
   },
   {
    "duration": 69,
    "start_time": "2021-07-17T21:09:29.852Z"
   },
   {
    "duration": 33,
    "start_time": "2021-07-17T21:09:29.923Z"
   },
   {
    "duration": 33,
    "start_time": "2021-07-17T21:09:29.958Z"
   },
   {
    "duration": 18,
    "start_time": "2021-07-17T21:09:29.994Z"
   },
   {
    "duration": 22,
    "start_time": "2021-07-17T21:09:30.015Z"
   },
   {
    "duration": 46,
    "start_time": "2021-07-17T21:09:30.039Z"
   },
   {
    "duration": 6,
    "start_time": "2021-07-17T21:09:30.088Z"
   },
   {
    "duration": 18,
    "start_time": "2021-07-17T21:09:30.097Z"
   },
   {
    "duration": 11,
    "start_time": "2021-07-17T21:09:30.118Z"
   },
   {
    "duration": 23,
    "start_time": "2021-07-17T21:09:30.131Z"
   },
   {
    "duration": 9,
    "start_time": "2021-07-17T21:09:46.466Z"
   },
   {
    "duration": 11,
    "start_time": "2021-07-17T21:09:53.131Z"
   },
   {
    "duration": 7,
    "start_time": "2021-07-17T21:09:56.011Z"
   },
   {
    "duration": 8,
    "start_time": "2021-07-17T21:10:55.158Z"
   },
   {
    "duration": 19,
    "start_time": "2021-07-17T21:11:10.695Z"
   },
   {
    "duration": 9,
    "start_time": "2021-07-17T21:11:20.256Z"
   },
   {
    "duration": 16,
    "start_time": "2021-07-17T21:11:20.649Z"
   },
   {
    "duration": 12,
    "start_time": "2021-07-17T21:11:39.617Z"
   },
   {
    "duration": 24,
    "start_time": "2021-07-17T21:12:03.003Z"
   },
   {
    "duration": 9,
    "start_time": "2021-07-17T21:13:15.575Z"
   },
   {
    "duration": 5,
    "start_time": "2021-07-17T21:23:00.132Z"
   },
   {
    "duration": 7,
    "start_time": "2021-07-17T21:23:09.099Z"
   },
   {
    "duration": 449,
    "start_time": "2021-07-17T21:23:56.727Z"
   },
   {
    "duration": 10,
    "start_time": "2021-07-17T21:24:04.054Z"
   },
   {
    "duration": 6,
    "start_time": "2021-07-17T21:25:01.475Z"
   },
   {
    "duration": 10,
    "start_time": "2021-07-17T21:25:01.963Z"
   },
   {
    "duration": 628,
    "start_time": "2021-07-17T21:28:06.910Z"
   },
   {
    "duration": 277,
    "start_time": "2021-07-17T21:28:17.400Z"
   },
   {
    "duration": 538,
    "start_time": "2021-07-17T21:28:29.728Z"
   },
   {
    "duration": 18,
    "start_time": "2021-07-17T21:28:35.690Z"
   },
   {
    "duration": 20,
    "start_time": "2021-07-17T21:41:09.585Z"
   },
   {
    "duration": 26,
    "start_time": "2021-07-17T21:41:12.912Z"
   },
   {
    "duration": 785,
    "start_time": "2021-07-17T21:41:26.083Z"
   },
   {
    "duration": 260,
    "start_time": "2021-07-17T21:41:26.872Z"
   },
   {
    "duration": 529,
    "start_time": "2021-07-17T21:41:27.135Z"
   },
   {
    "duration": 688,
    "start_time": "2021-07-17T21:41:26.981Z"
   },
   {
    "duration": 685,
    "start_time": "2021-07-17T21:41:26.986Z"
   },
   {
    "duration": 686,
    "start_time": "2021-07-17T21:41:26.987Z"
   },
   {
    "duration": 687,
    "start_time": "2021-07-17T21:41:26.988Z"
   },
   {
    "duration": 687,
    "start_time": "2021-07-17T21:41:26.990Z"
   },
   {
    "duration": 688,
    "start_time": "2021-07-17T21:41:26.991Z"
   },
   {
    "duration": 688,
    "start_time": "2021-07-17T21:41:26.993Z"
   },
   {
    "duration": 689,
    "start_time": "2021-07-17T21:41:26.994Z"
   },
   {
    "duration": 690,
    "start_time": "2021-07-17T21:41:26.995Z"
   },
   {
    "duration": 690,
    "start_time": "2021-07-17T21:41:26.997Z"
   },
   {
    "duration": 691,
    "start_time": "2021-07-17T21:41:26.998Z"
   },
   {
    "duration": 691,
    "start_time": "2021-07-17T21:41:26.999Z"
   },
   {
    "duration": 692,
    "start_time": "2021-07-17T21:41:27.000Z"
   },
   {
    "duration": 695,
    "start_time": "2021-07-17T21:41:27.002Z"
   },
   {
    "duration": 696,
    "start_time": "2021-07-17T21:41:27.003Z"
   },
   {
    "duration": 694,
    "start_time": "2021-07-17T21:41:27.008Z"
   },
   {
    "duration": 694,
    "start_time": "2021-07-17T21:41:27.010Z"
   },
   {
    "duration": 695,
    "start_time": "2021-07-17T21:41:27.012Z"
   },
   {
    "duration": 695,
    "start_time": "2021-07-17T21:41:27.014Z"
   },
   {
    "duration": 696,
    "start_time": "2021-07-17T21:41:27.015Z"
   },
   {
    "duration": 697,
    "start_time": "2021-07-17T21:41:27.016Z"
   },
   {
    "duration": 694,
    "start_time": "2021-07-17T21:41:27.021Z"
   },
   {
    "duration": 695,
    "start_time": "2021-07-17T21:41:27.022Z"
   },
   {
    "duration": 1354,
    "start_time": "2021-07-17T21:42:26.209Z"
   },
   {
    "duration": 672,
    "start_time": "2021-07-17T21:42:26.895Z"
   },
   {
    "duration": 21,
    "start_time": "2021-07-17T21:42:41.363Z"
   },
   {
    "duration": 15,
    "start_time": "2021-07-17T21:42:42.938Z"
   },
   {
    "duration": 34,
    "start_time": "2021-07-17T21:42:47.330Z"
   },
   {
    "duration": 16,
    "start_time": "2021-07-17T21:42:55.442Z"
   },
   {
    "duration": 16,
    "start_time": "2021-07-17T21:43:42.703Z"
   },
   {
    "duration": 24,
    "start_time": "2021-07-17T21:43:44.063Z"
   },
   {
    "duration": 15,
    "start_time": "2021-07-17T21:43:45.918Z"
   },
   {
    "duration": 270,
    "start_time": "2021-07-17T21:43:50.087Z"
   },
   {
    "duration": 17,
    "start_time": "2021-07-17T21:43:50.360Z"
   },
   {
    "duration": 21,
    "start_time": "2021-07-17T21:43:50.591Z"
   },
   {
    "duration": 24,
    "start_time": "2021-07-17T21:43:51.143Z"
   },
   {
    "duration": 18,
    "start_time": "2021-07-17T21:43:55.592Z"
   },
   {
    "duration": 715,
    "start_time": "2021-07-17T21:44:07.717Z"
   },
   {
    "duration": 203,
    "start_time": "2021-07-17T21:44:08.435Z"
   },
   {
    "duration": 30,
    "start_time": "2021-07-17T21:44:08.640Z"
   },
   {
    "duration": 23,
    "start_time": "2021-07-17T21:44:08.673Z"
   },
   {
    "duration": 32,
    "start_time": "2021-07-17T21:44:08.698Z"
   },
   {
    "duration": 15,
    "start_time": "2021-07-17T21:44:08.733Z"
   },
   {
    "duration": 9,
    "start_time": "2021-07-17T21:44:08.750Z"
   },
   {
    "duration": 27,
    "start_time": "2021-07-17T21:44:08.763Z"
   },
   {
    "duration": 20,
    "start_time": "2021-07-17T21:44:08.793Z"
   },
   {
    "duration": 43,
    "start_time": "2021-07-17T21:44:08.816Z"
   },
   {
    "duration": 44,
    "start_time": "2021-07-17T21:44:08.861Z"
   },
   {
    "duration": 8,
    "start_time": "2021-07-17T21:44:08.907Z"
   },
   {
    "duration": 17,
    "start_time": "2021-07-17T21:44:08.917Z"
   },
   {
    "duration": 21,
    "start_time": "2021-07-17T21:44:08.937Z"
   },
   {
    "duration": 6,
    "start_time": "2021-07-17T21:44:08.960Z"
   },
   {
    "duration": 10,
    "start_time": "2021-07-17T21:44:08.968Z"
   },
   {
    "duration": 19,
    "start_time": "2021-07-17T21:44:08.980Z"
   },
   {
    "duration": 11,
    "start_time": "2021-07-17T21:44:09.002Z"
   },
   {
    "duration": 19,
    "start_time": "2021-07-17T21:44:09.016Z"
   },
   {
    "duration": 19,
    "start_time": "2021-07-17T21:44:09.037Z"
   },
   {
    "duration": 5,
    "start_time": "2021-07-17T21:44:09.058Z"
   },
   {
    "duration": 12,
    "start_time": "2021-07-17T21:44:09.065Z"
   },
   {
    "duration": 394,
    "start_time": "2021-07-17T21:44:09.081Z"
   },
   {
    "duration": 23,
    "start_time": "2021-07-17T21:44:09.478Z"
   },
   {
    "duration": 285,
    "start_time": "2021-07-18T08:55:54.761Z"
   },
   {
    "duration": 578,
    "start_time": "2021-07-18T08:56:02.603Z"
   },
   {
    "duration": 297,
    "start_time": "2021-07-18T08:56:03.183Z"
   },
   {
    "duration": 12,
    "start_time": "2021-07-18T08:56:03.482Z"
   },
   {
    "duration": 16,
    "start_time": "2021-07-18T08:56:03.495Z"
   },
   {
    "duration": 30,
    "start_time": "2021-07-18T08:56:03.513Z"
   },
   {
    "duration": 11,
    "start_time": "2021-07-18T08:56:03.545Z"
   },
   {
    "duration": 13,
    "start_time": "2021-07-18T08:56:03.557Z"
   },
   {
    "duration": 15,
    "start_time": "2021-07-18T08:56:03.573Z"
   },
   {
    "duration": 29,
    "start_time": "2021-07-18T08:56:03.590Z"
   },
   {
    "duration": 36,
    "start_time": "2021-07-18T08:56:03.621Z"
   },
   {
    "duration": 6,
    "start_time": "2021-07-18T08:56:03.659Z"
   },
   {
    "duration": 26,
    "start_time": "2021-07-18T08:56:03.667Z"
   },
   {
    "duration": 21,
    "start_time": "2021-07-18T08:56:03.695Z"
   },
   {
    "duration": 7,
    "start_time": "2021-07-18T08:56:03.718Z"
   },
   {
    "duration": 27,
    "start_time": "2021-07-18T08:56:03.726Z"
   },
   {
    "duration": 21,
    "start_time": "2021-07-18T08:56:03.755Z"
   },
   {
    "duration": 21,
    "start_time": "2021-07-18T08:56:03.778Z"
   },
   {
    "duration": 11,
    "start_time": "2021-07-18T08:56:03.800Z"
   },
   {
    "duration": 32,
    "start_time": "2021-07-18T08:56:03.813Z"
   },
   {
    "duration": 11,
    "start_time": "2021-07-18T08:56:03.847Z"
   },
   {
    "duration": 16,
    "start_time": "2021-07-18T08:56:03.859Z"
   },
   {
    "duration": 226,
    "start_time": "2021-07-18T08:56:03.877Z"
   },
   {
    "duration": 3,
    "start_time": "2021-07-18T08:56:04.106Z"
   },
   {
    "duration": 4,
    "start_time": "2021-07-18T08:56:59.465Z"
   },
   {
    "duration": 4,
    "start_time": "2021-07-18T08:57:24.298Z"
   },
   {
    "duration": 6,
    "start_time": "2021-07-18T08:57:34.779Z"
   },
   {
    "duration": 5,
    "start_time": "2021-07-18T08:57:44.812Z"
   },
   {
    "duration": 5,
    "start_time": "2021-07-18T08:57:57.661Z"
   },
   {
    "duration": 4,
    "start_time": "2021-07-18T08:59:19.818Z"
   },
   {
    "duration": 5,
    "start_time": "2021-07-18T08:59:54.196Z"
   },
   {
    "duration": 7,
    "start_time": "2021-07-18T09:00:01.765Z"
   },
   {
    "duration": 359,
    "start_time": "2021-07-18T09:06:28.708Z"
   },
   {
    "duration": 9,
    "start_time": "2021-07-18T09:06:33.525Z"
   },
   {
    "duration": 171,
    "start_time": "2021-07-18T09:06:42.083Z"
   },
   {
    "duration": 258,
    "start_time": "2021-07-18T09:06:53.798Z"
   },
   {
    "duration": 214,
    "start_time": "2021-07-18T09:07:47.129Z"
   },
   {
    "duration": 248,
    "start_time": "2021-07-18T09:08:04.522Z"
   },
   {
    "duration": 9,
    "start_time": "2021-07-18T09:15:28.558Z"
   },
   {
    "duration": 7,
    "start_time": "2021-07-18T10:32:23.598Z"
   },
   {
    "duration": 8,
    "start_time": "2021-07-18T10:32:51.217Z"
   },
   {
    "duration": 6,
    "start_time": "2021-07-18T10:33:02.537Z"
   },
   {
    "duration": 7,
    "start_time": "2021-07-18T10:33:13.314Z"
   },
   {
    "duration": 8,
    "start_time": "2021-07-18T10:34:33.454Z"
   },
   {
    "duration": 9,
    "start_time": "2021-07-18T10:34:46.552Z"
   },
   {
    "duration": 274,
    "start_time": "2021-07-18T10:35:26.114Z"
   },
   {
    "duration": 269,
    "start_time": "2021-07-18T10:35:46.892Z"
   },
   {
    "duration": 341,
    "start_time": "2021-07-18T10:35:52.684Z"
   },
   {
    "duration": 435,
    "start_time": "2021-07-18T10:35:56.541Z"
   },
   {
    "duration": 275,
    "start_time": "2021-07-18T10:35:59.692Z"
   },
   {
    "duration": 12,
    "start_time": "2021-07-18T10:36:12.517Z"
   },
   {
    "duration": 10,
    "start_time": "2021-07-18T10:36:17.926Z"
   },
   {
    "duration": 7,
    "start_time": "2021-07-18T10:38:55.520Z"
   },
   {
    "duration": 15,
    "start_time": "2021-07-18T10:39:20.865Z"
   },
   {
    "duration": 309,
    "start_time": "2021-07-18T10:39:30.937Z"
   },
   {
    "duration": 94,
    "start_time": "2021-07-18T10:39:58.906Z"
   },
   {
    "duration": 347,
    "start_time": "2021-07-18T10:40:03.675Z"
   },
   {
    "duration": 327,
    "start_time": "2021-07-18T10:40:09.852Z"
   },
   {
    "duration": 262,
    "start_time": "2021-07-18T10:40:57.983Z"
   },
   {
    "duration": 9,
    "start_time": "2021-07-18T10:41:02.368Z"
   },
   {
    "duration": 297,
    "start_time": "2021-07-18T10:41:15.487Z"
   },
   {
    "duration": 286,
    "start_time": "2021-07-18T10:41:20.769Z"
   },
   {
    "duration": 10,
    "start_time": "2021-07-18T10:41:25.736Z"
   },
   {
    "duration": 10,
    "start_time": "2021-07-18T10:41:34.393Z"
   },
   {
    "duration": 8,
    "start_time": "2021-07-18T10:42:25.444Z"
   },
   {
    "duration": 285,
    "start_time": "2021-07-18T10:42:35.629Z"
   },
   {
    "duration": 556,
    "start_time": "2021-07-18T10:43:00.518Z"
   },
   {
    "duration": 8,
    "start_time": "2021-07-18T10:43:11.310Z"
   },
   {
    "duration": 11,
    "start_time": "2021-07-18T10:43:18.175Z"
   },
   {
    "duration": 162,
    "start_time": "2021-07-18T10:44:22.331Z"
   },
   {
    "duration": 159,
    "start_time": "2021-07-18T10:44:27.230Z"
   },
   {
    "duration": 161,
    "start_time": "2021-07-18T10:44:53.869Z"
   },
   {
    "duration": 600,
    "start_time": "2021-07-18T10:45:59.870Z"
   },
   {
    "duration": 418,
    "start_time": "2021-07-18T10:46:00.473Z"
   },
   {
    "duration": 12,
    "start_time": "2021-07-18T10:46:00.893Z"
   },
   {
    "duration": 11,
    "start_time": "2021-07-18T10:46:00.907Z"
   },
   {
    "duration": 22,
    "start_time": "2021-07-18T10:46:00.919Z"
   },
   {
    "duration": 17,
    "start_time": "2021-07-18T10:46:00.943Z"
   },
   {
    "duration": 16,
    "start_time": "2021-07-18T10:46:00.962Z"
   },
   {
    "duration": 21,
    "start_time": "2021-07-18T10:46:00.981Z"
   },
   {
    "duration": 41,
    "start_time": "2021-07-18T10:46:01.005Z"
   },
   {
    "duration": 33,
    "start_time": "2021-07-18T10:46:01.048Z"
   },
   {
    "duration": 5,
    "start_time": "2021-07-18T10:46:01.083Z"
   },
   {
    "duration": 18,
    "start_time": "2021-07-18T10:46:01.089Z"
   },
   {
    "duration": 24,
    "start_time": "2021-07-18T10:46:01.109Z"
   },
   {
    "duration": 8,
    "start_time": "2021-07-18T10:46:01.135Z"
   },
   {
    "duration": 15,
    "start_time": "2021-07-18T10:46:01.144Z"
   },
   {
    "duration": 14,
    "start_time": "2021-07-18T10:46:01.160Z"
   },
   {
    "duration": 8,
    "start_time": "2021-07-18T10:46:01.176Z"
   },
   {
    "duration": 14,
    "start_time": "2021-07-18T10:46:01.186Z"
   },
   {
    "duration": 21,
    "start_time": "2021-07-18T10:46:01.202Z"
   },
   {
    "duration": 4,
    "start_time": "2021-07-18T10:46:01.224Z"
   },
   {
    "duration": 16,
    "start_time": "2021-07-18T10:46:01.229Z"
   },
   {
    "duration": 626,
    "start_time": "2021-07-18T10:46:47.787Z"
   },
   {
    "duration": 272,
    "start_time": "2021-07-18T10:46:48.414Z"
   },
   {
    "duration": 11,
    "start_time": "2021-07-18T10:46:48.688Z"
   },
   {
    "duration": 12,
    "start_time": "2021-07-18T10:46:48.701Z"
   },
   {
    "duration": 21,
    "start_time": "2021-07-18T10:46:48.715Z"
   },
   {
    "duration": 15,
    "start_time": "2021-07-18T10:46:48.738Z"
   },
   {
    "duration": 12,
    "start_time": "2021-07-18T10:46:48.755Z"
   },
   {
    "duration": 11,
    "start_time": "2021-07-18T10:46:48.769Z"
   },
   {
    "duration": 24,
    "start_time": "2021-07-18T10:46:48.784Z"
   },
   {
    "duration": 47,
    "start_time": "2021-07-18T10:46:48.811Z"
   },
   {
    "duration": 6,
    "start_time": "2021-07-18T10:46:48.860Z"
   },
   {
    "duration": 11,
    "start_time": "2021-07-18T10:46:48.867Z"
   },
   {
    "duration": 14,
    "start_time": "2021-07-18T10:46:48.879Z"
   },
   {
    "duration": 5,
    "start_time": "2021-07-18T10:46:48.895Z"
   },
   {
    "duration": 39,
    "start_time": "2021-07-18T10:46:48.902Z"
   },
   {
    "duration": 11,
    "start_time": "2021-07-18T10:46:48.943Z"
   },
   {
    "duration": 11,
    "start_time": "2021-07-18T10:46:48.956Z"
   },
   {
    "duration": 9,
    "start_time": "2021-07-18T10:46:48.969Z"
   },
   {
    "duration": 23,
    "start_time": "2021-07-18T10:46:48.980Z"
   },
   {
    "duration": 5,
    "start_time": "2021-07-18T10:46:49.005Z"
   },
   {
    "duration": 30,
    "start_time": "2021-07-18T10:46:49.012Z"
   },
   {
    "duration": 359,
    "start_time": "2021-07-18T10:46:49.044Z"
   },
   {
    "duration": 7,
    "start_time": "2021-07-18T10:46:49.405Z"
   },
   {
    "duration": 292,
    "start_time": "2021-07-18T10:46:49.414Z"
   },
   {
    "duration": 11,
    "start_time": "2021-07-18T10:46:49.708Z"
   },
   {
    "duration": 23,
    "start_time": "2021-07-18T10:46:49.720Z"
   },
   {
    "duration": 10,
    "start_time": "2021-07-18T10:47:39.031Z"
   },
   {
    "duration": 321,
    "start_time": "2021-07-18T10:49:43.638Z"
   },
   {
    "duration": 275,
    "start_time": "2021-07-18T10:50:44.363Z"
   },
   {
    "duration": 280,
    "start_time": "2021-07-18T10:51:45.223Z"
   },
   {
    "duration": 278,
    "start_time": "2021-07-18T10:51:56.839Z"
   },
   {
    "duration": 43,
    "start_time": "2021-07-18T10:52:23.177Z"
   },
   {
    "duration": 46,
    "start_time": "2021-07-18T10:53:01.651Z"
   },
   {
    "duration": 19,
    "start_time": "2021-07-18T10:55:55.222Z"
   },
   {
    "duration": 19,
    "start_time": "2021-07-18T10:56:08.287Z"
   },
   {
    "duration": 200,
    "start_time": "2021-07-18T10:56:51.122Z"
   },
   {
    "duration": 20,
    "start_time": "2021-07-18T10:57:10.770Z"
   },
   {
    "duration": 31,
    "start_time": "2021-07-18T11:59:23.619Z"
   },
   {
    "duration": 82,
    "start_time": "2021-07-18T12:00:38.930Z"
   },
   {
    "duration": 92,
    "start_time": "2021-07-18T12:00:55.049Z"
   },
   {
    "duration": 22,
    "start_time": "2021-07-18T12:01:07.322Z"
   },
   {
    "duration": 224,
    "start_time": "2021-07-18T12:06:53.896Z"
   },
   {
    "duration": 282,
    "start_time": "2021-07-18T12:08:01.419Z"
   },
   {
    "duration": 310,
    "start_time": "2021-07-18T12:09:44.978Z"
   },
   {
    "duration": 87,
    "start_time": "2021-07-18T12:10:06.427Z"
   },
   {
    "duration": 88,
    "start_time": "2021-07-18T12:10:09.836Z"
   },
   {
    "duration": 291,
    "start_time": "2021-07-18T12:10:16.748Z"
   },
   {
    "duration": 679,
    "start_time": "2021-07-18T12:11:02.559Z"
   },
   {
    "duration": 351,
    "start_time": "2021-07-18T15:13:08.147Z"
   },
   {
    "duration": 305,
    "start_time": "2021-07-18T15:13:18.571Z"
   },
   {
    "duration": 28,
    "start_time": "2021-07-18T15:18:09.364Z"
   },
   {
    "duration": 11,
    "start_time": "2021-07-18T15:19:32.788Z"
   },
   {
    "duration": 4,
    "start_time": "2021-07-18T15:21:24.266Z"
   },
   {
    "duration": 14,
    "start_time": "2021-07-18T15:21:34.347Z"
   },
   {
    "duration": 4,
    "start_time": "2021-07-18T15:21:59.275Z"
   },
   {
    "duration": 13,
    "start_time": "2021-07-18T15:22:00.243Z"
   },
   {
    "duration": 4,
    "start_time": "2021-07-18T15:22:22.996Z"
   },
   {
    "duration": 13,
    "start_time": "2021-07-18T15:22:23.662Z"
   },
   {
    "duration": 6,
    "start_time": "2021-07-18T15:22:54.943Z"
   },
   {
    "duration": 169,
    "start_time": "2021-07-18T15:22:58.055Z"
   },
   {
    "duration": 4778,
    "start_time": "2021-07-18T15:23:09.920Z"
   },
   {
    "duration": 175,
    "start_time": "2021-07-18T15:23:23.648Z"
   },
   {
    "duration": 12,
    "start_time": "2021-07-18T15:24:22.701Z"
   },
   {
    "duration": 82,
    "start_time": "2021-07-18T15:24:40.150Z"
   },
   {
    "duration": 144,
    "start_time": "2021-07-18T15:24:51.526Z"
   },
   {
    "duration": 3335,
    "start_time": "2021-07-18T15:25:19.041Z"
   },
   {
    "duration": 158,
    "start_time": "2021-07-18T15:25:39.993Z"
   },
   {
    "duration": 149,
    "start_time": "2021-07-18T15:25:59.258Z"
   },
   {
    "duration": 280,
    "start_time": "2021-07-18T15:27:22.623Z"
   },
   {
    "duration": 5809,
    "start_time": "2021-07-18T15:27:39.616Z"
   },
   {
    "duration": 7,
    "start_time": "2021-07-18T15:28:02.970Z"
   },
   {
    "duration": 276,
    "start_time": "2021-07-18T15:28:27.782Z"
   },
   {
    "duration": 2092,
    "start_time": "2021-07-18T15:30:15.674Z"
   },
   {
    "duration": 6,
    "start_time": "2021-07-18T15:31:05.766Z"
   },
   {
    "duration": 662,
    "start_time": "2021-07-18T15:31:11.974Z"
   },
   {
    "duration": 164,
    "start_time": "2021-07-18T15:31:21.975Z"
   },
   {
    "duration": 152,
    "start_time": "2021-07-18T15:31:26.231Z"
   },
   {
    "duration": 95,
    "start_time": "2021-07-18T15:31:55.569Z"
   },
   {
    "duration": 85,
    "start_time": "2021-07-18T15:31:59.153Z"
   },
   {
    "duration": 2860,
    "start_time": "2021-07-18T15:32:10.873Z"
   },
   {
    "duration": 156,
    "start_time": "2021-07-18T15:32:25.162Z"
   },
   {
    "duration": 3,
    "start_time": "2021-07-18T15:38:57.442Z"
   },
   {
    "duration": 159,
    "start_time": "2021-07-18T15:40:44.810Z"
   },
   {
    "duration": 157,
    "start_time": "2021-07-18T15:40:50.794Z"
   },
   {
    "duration": 165,
    "start_time": "2021-07-18T15:43:34.165Z"
   },
   {
    "duration": 312,
    "start_time": "2021-07-18T15:44:54.450Z"
   },
   {
    "duration": 157,
    "start_time": "2021-07-18T15:50:11.301Z"
   },
   {
    "duration": 163,
    "start_time": "2021-07-18T15:50:31.518Z"
   },
   {
    "duration": 36,
    "start_time": "2021-07-18T16:01:00.069Z"
   },
   {
    "duration": 9,
    "start_time": "2021-07-18T16:02:05.738Z"
   },
   {
    "duration": 164,
    "start_time": "2021-07-18T16:02:19.842Z"
   },
   {
    "duration": 155,
    "start_time": "2021-07-18T16:03:46.304Z"
   },
   {
    "duration": 160,
    "start_time": "2021-07-18T16:04:33.363Z"
   },
   {
    "duration": 172,
    "start_time": "2021-07-18T16:05:09.205Z"
   },
   {
    "duration": 157,
    "start_time": "2021-07-18T16:08:25.418Z"
   },
   {
    "duration": 153,
    "start_time": "2021-07-18T16:08:29.010Z"
   },
   {
    "duration": 158,
    "start_time": "2021-07-18T16:08:32.682Z"
   },
   {
    "duration": 156,
    "start_time": "2021-07-18T16:08:41.571Z"
   },
   {
    "duration": 154,
    "start_time": "2021-07-18T16:08:59.916Z"
   },
   {
    "duration": 35,
    "start_time": "2021-07-18T16:32:12.523Z"
   },
   {
    "duration": 9,
    "start_time": "2021-07-18T16:32:28.165Z"
   },
   {
    "duration": 56,
    "start_time": "2021-07-18T16:33:24.888Z"
   },
   {
    "duration": 62,
    "start_time": "2021-07-18T16:33:51.956Z"
   },
   {
    "duration": 13,
    "start_time": "2021-07-18T16:34:11.925Z"
   },
   {
    "duration": 10,
    "start_time": "2021-07-18T16:34:25.588Z"
   },
   {
    "duration": 11,
    "start_time": "2021-07-18T16:34:28.396Z"
   },
   {
    "duration": 17,
    "start_time": "2021-07-18T16:34:39.429Z"
   },
   {
    "duration": 12,
    "start_time": "2021-07-18T16:35:11.023Z"
   },
   {
    "duration": 12,
    "start_time": "2021-07-18T16:36:03.427Z"
   },
   {
    "duration": 10,
    "start_time": "2021-07-18T16:44:06.943Z"
   },
   {
    "duration": 159,
    "start_time": "2021-07-18T16:44:18.386Z"
   },
   {
    "duration": 152,
    "start_time": "2021-07-18T16:44:29.465Z"
   },
   {
    "duration": 154,
    "start_time": "2021-07-18T16:45:01.155Z"
   },
   {
    "duration": 151,
    "start_time": "2021-07-18T16:45:06.883Z"
   },
   {
    "duration": 784,
    "start_time": "2021-07-18T16:45:14.332Z"
   },
   {
    "duration": 169,
    "start_time": "2021-07-18T16:45:38.158Z"
   },
   {
    "duration": 267,
    "start_time": "2021-07-18T16:45:42.678Z"
   },
   {
    "duration": 160,
    "start_time": "2021-07-18T16:45:52.982Z"
   },
   {
    "duration": 149,
    "start_time": "2021-07-18T16:46:37.078Z"
   },
   {
    "duration": 219,
    "start_time": "2021-07-18T16:46:53.795Z"
   },
   {
    "duration": 155,
    "start_time": "2021-07-18T16:47:22.596Z"
   },
   {
    "duration": 142,
    "start_time": "2021-07-18T16:47:31.189Z"
   },
   {
    "duration": 1367,
    "start_time": "2021-07-18T16:47:45.166Z"
   },
   {
    "duration": 164,
    "start_time": "2021-07-18T16:47:55.542Z"
   },
   {
    "duration": 162,
    "start_time": "2021-07-18T16:48:01.688Z"
   },
   {
    "duration": 145,
    "start_time": "2021-07-18T16:49:25.588Z"
   },
   {
    "duration": 154,
    "start_time": "2021-07-18T16:49:48.301Z"
   },
   {
    "duration": 143,
    "start_time": "2021-07-18T16:49:58.166Z"
   },
   {
    "duration": 137,
    "start_time": "2021-07-18T16:50:21.384Z"
   },
   {
    "duration": 197,
    "start_time": "2021-07-18T16:50:39.552Z"
   },
   {
    "duration": 649,
    "start_time": "2021-07-19T02:07:55.976Z"
   },
   {
    "duration": 317,
    "start_time": "2021-07-19T02:07:56.626Z"
   },
   {
    "duration": 11,
    "start_time": "2021-07-19T02:07:56.945Z"
   },
   {
    "duration": 10,
    "start_time": "2021-07-19T02:07:56.958Z"
   },
   {
    "duration": 16,
    "start_time": "2021-07-19T02:07:56.970Z"
   },
   {
    "duration": 12,
    "start_time": "2021-07-19T02:07:56.987Z"
   },
   {
    "duration": 10,
    "start_time": "2021-07-19T02:07:57.001Z"
   },
   {
    "duration": 6,
    "start_time": "2021-07-19T02:07:57.042Z"
   },
   {
    "duration": 15,
    "start_time": "2021-07-19T02:07:57.050Z"
   },
   {
    "duration": 24,
    "start_time": "2021-07-19T02:07:57.066Z"
   },
   {
    "duration": 24,
    "start_time": "2021-07-19T02:07:57.091Z"
   },
   {
    "duration": 27,
    "start_time": "2021-07-19T02:07:57.117Z"
   },
   {
    "duration": 12,
    "start_time": "2021-07-19T02:07:57.146Z"
   },
   {
    "duration": 20,
    "start_time": "2021-07-19T02:07:57.159Z"
   },
   {
    "duration": 3,
    "start_time": "2021-07-19T02:07:57.181Z"
   },
   {
    "duration": 12,
    "start_time": "2021-07-19T02:07:57.186Z"
   },
   {
    "duration": 10,
    "start_time": "2021-07-19T02:07:57.200Z"
   },
   {
    "duration": 8,
    "start_time": "2021-07-19T02:07:57.211Z"
   },
   {
    "duration": 7,
    "start_time": "2021-07-19T02:07:57.220Z"
   },
   {
    "duration": 10,
    "start_time": "2021-07-19T02:07:57.241Z"
   },
   {
    "duration": 4,
    "start_time": "2021-07-19T02:07:57.252Z"
   },
   {
    "duration": 9,
    "start_time": "2021-07-19T02:07:57.257Z"
   },
   {
    "duration": 174,
    "start_time": "2021-07-19T02:07:57.268Z"
   },
   {
    "duration": 5,
    "start_time": "2021-07-19T02:07:57.444Z"
   },
   {
    "duration": 175,
    "start_time": "2021-07-19T02:07:57.450Z"
   },
   {
    "duration": 8,
    "start_time": "2021-07-19T02:07:57.626Z"
   },
   {
    "duration": 10,
    "start_time": "2021-07-19T02:07:57.640Z"
   },
   {
    "duration": 20,
    "start_time": "2021-07-19T02:07:57.652Z"
   },
   {
    "duration": 329,
    "start_time": "2021-07-19T02:07:57.674Z"
   },
   {
    "duration": 8,
    "start_time": "2021-07-19T02:07:58.005Z"
   },
   {
    "duration": 211,
    "start_time": "2021-07-19T02:07:58.015Z"
   },
   {
    "duration": 4,
    "start_time": "2021-07-19T02:07:58.227Z"
   },
   {
    "duration": 12,
    "start_time": "2021-07-19T02:07:58.241Z"
   },
   {
    "duration": 175,
    "start_time": "2021-07-19T02:07:58.255Z"
   },
   {
    "duration": 824,
    "start_time": "2021-07-19T02:07:58.432Z"
   },
   {
    "duration": 748,
    "start_time": "2021-07-19T02:08:32.360Z"
   },
   {
    "duration": 648,
    "start_time": "2021-07-19T02:08:39.340Z"
   },
   {
    "duration": 283,
    "start_time": "2021-07-19T02:08:39.990Z"
   },
   {
    "duration": 11,
    "start_time": "2021-07-19T02:08:40.275Z"
   },
   {
    "duration": 11,
    "start_time": "2021-07-19T02:08:40.288Z"
   },
   {
    "duration": 16,
    "start_time": "2021-07-19T02:08:40.301Z"
   },
   {
    "duration": 11,
    "start_time": "2021-07-19T02:08:40.319Z"
   },
   {
    "duration": 10,
    "start_time": "2021-07-19T02:08:40.331Z"
   },
   {
    "duration": 6,
    "start_time": "2021-07-19T02:08:40.343Z"
   },
   {
    "duration": 18,
    "start_time": "2021-07-19T02:08:40.351Z"
   },
   {
    "duration": 26,
    "start_time": "2021-07-19T02:08:40.371Z"
   },
   {
    "duration": 24,
    "start_time": "2021-07-19T02:08:40.398Z"
   },
   {
    "duration": 6,
    "start_time": "2021-07-19T02:08:40.441Z"
   },
   {
    "duration": 18,
    "start_time": "2021-07-19T02:08:40.449Z"
   },
   {
    "duration": 12,
    "start_time": "2021-07-19T02:08:40.469Z"
   },
   {
    "duration": 7,
    "start_time": "2021-07-19T02:08:40.483Z"
   },
   {
    "duration": 6,
    "start_time": "2021-07-19T02:08:40.491Z"
   },
   {
    "duration": 9,
    "start_time": "2021-07-19T02:08:40.498Z"
   },
   {
    "duration": 8,
    "start_time": "2021-07-19T02:08:40.508Z"
   },
   {
    "duration": 25,
    "start_time": "2021-07-19T02:08:40.517Z"
   },
   {
    "duration": 9,
    "start_time": "2021-07-19T02:08:40.544Z"
   },
   {
    "duration": 3,
    "start_time": "2021-07-19T02:08:40.555Z"
   },
   {
    "duration": 10,
    "start_time": "2021-07-19T02:08:40.560Z"
   },
   {
    "duration": 178,
    "start_time": "2021-07-19T02:08:40.573Z"
   },
   {
    "duration": 5,
    "start_time": "2021-07-19T02:08:40.753Z"
   },
   {
    "duration": 187,
    "start_time": "2021-07-19T02:08:40.760Z"
   },
   {
    "duration": 8,
    "start_time": "2021-07-19T02:08:40.950Z"
   },
   {
    "duration": 11,
    "start_time": "2021-07-19T02:08:40.960Z"
   },
   {
    "duration": 19,
    "start_time": "2021-07-19T02:08:40.973Z"
   },
   {
    "duration": 338,
    "start_time": "2021-07-19T02:08:40.994Z"
   },
   {
    "duration": 13,
    "start_time": "2021-07-19T02:08:41.333Z"
   },
   {
    "duration": 207,
    "start_time": "2021-07-19T02:08:41.347Z"
   },
   {
    "duration": 4,
    "start_time": "2021-07-19T02:08:41.556Z"
   },
   {
    "duration": 14,
    "start_time": "2021-07-19T02:08:41.561Z"
   },
   {
    "duration": 179,
    "start_time": "2021-07-19T02:08:41.577Z"
   },
   {
    "duration": 783,
    "start_time": "2021-07-19T02:08:41.758Z"
   },
   {
    "duration": 4,
    "start_time": "2021-07-19T02:34:01.211Z"
   },
   {
    "duration": 7,
    "start_time": "2021-07-19T02:34:11.111Z"
   },
   {
    "duration": 337,
    "start_time": "2021-07-19T05:07:15.475Z"
   },
   {
    "duration": 820,
    "start_time": "2021-07-19T05:07:22.101Z"
   },
   {
    "duration": 463,
    "start_time": "2021-07-19T05:07:22.923Z"
   },
   {
    "duration": 19,
    "start_time": "2021-07-19T05:07:23.389Z"
   },
   {
    "duration": 16,
    "start_time": "2021-07-19T05:07:23.410Z"
   },
   {
    "duration": 26,
    "start_time": "2021-07-19T05:07:23.429Z"
   },
   {
    "duration": 43,
    "start_time": "2021-07-19T05:07:23.457Z"
   },
   {
    "duration": 14,
    "start_time": "2021-07-19T05:07:23.503Z"
   },
   {
    "duration": 7,
    "start_time": "2021-07-19T05:07:23.521Z"
   },
   {
    "duration": 16,
    "start_time": "2021-07-19T05:07:23.531Z"
   },
   {
    "duration": 72,
    "start_time": "2021-07-19T05:07:23.549Z"
   },
   {
    "duration": 35,
    "start_time": "2021-07-19T05:07:23.624Z"
   },
   {
    "duration": 7,
    "start_time": "2021-07-19T05:07:23.662Z"
   },
   {
    "duration": 39,
    "start_time": "2021-07-19T05:07:23.672Z"
   },
   {
    "duration": 23,
    "start_time": "2021-07-19T05:07:23.713Z"
   },
   {
    "duration": 5,
    "start_time": "2021-07-19T05:07:23.738Z"
   },
   {
    "duration": 7,
    "start_time": "2021-07-19T05:07:23.746Z"
   },
   {
    "duration": 8,
    "start_time": "2021-07-19T05:07:23.755Z"
   },
   {
    "duration": 10,
    "start_time": "2021-07-19T05:07:23.801Z"
   },
   {
    "duration": 15,
    "start_time": "2021-07-19T05:07:23.813Z"
   },
   {
    "duration": 17,
    "start_time": "2021-07-19T05:07:23.830Z"
   },
   {
    "duration": 5,
    "start_time": "2021-07-19T05:07:23.849Z"
   },
   {
    "duration": 43,
    "start_time": "2021-07-19T05:07:23.856Z"
   },
   {
    "duration": 289,
    "start_time": "2021-07-19T05:07:23.904Z"
   },
   {
    "duration": 6,
    "start_time": "2021-07-19T05:07:24.200Z"
   },
   {
    "duration": 295,
    "start_time": "2021-07-19T05:07:24.209Z"
   },
   {
    "duration": 11,
    "start_time": "2021-07-19T05:07:24.507Z"
   },
   {
    "duration": 15,
    "start_time": "2021-07-19T05:07:24.520Z"
   },
   {
    "duration": 63,
    "start_time": "2021-07-19T05:07:24.538Z"
   },
   {
    "duration": 536,
    "start_time": "2021-07-19T05:07:24.604Z"
   },
   {
    "duration": 12,
    "start_time": "2021-07-19T05:07:25.142Z"
   },
   {
    "duration": 359,
    "start_time": "2021-07-19T05:07:25.157Z"
   },
   {
    "duration": 5,
    "start_time": "2021-07-19T05:07:25.519Z"
   },
   {
    "duration": 21,
    "start_time": "2021-07-19T05:07:25.527Z"
   },
   {
    "duration": 299,
    "start_time": "2021-07-19T05:07:25.550Z"
   },
   {
    "duration": 9,
    "start_time": "2021-07-19T05:07:25.852Z"
   },
   {
    "duration": 953,
    "start_time": "2021-07-19T05:07:40.104Z"
   },
   {
    "duration": 9,
    "start_time": "2021-07-19T05:08:08.571Z"
   },
   {
    "duration": 9,
    "start_time": "2021-07-19T05:08:24.235Z"
   },
   {
    "duration": 999,
    "start_time": "2021-07-19T05:08:29.579Z"
   },
   {
    "duration": 274,
    "start_time": "2021-07-19T05:08:37.453Z"
   },
   {
    "duration": 14,
    "start_time": "2021-07-19T05:09:33.103Z"
   },
   {
    "duration": 762,
    "start_time": "2021-07-19T05:09:49.949Z"
   },
   {
    "duration": 330,
    "start_time": "2021-07-19T05:09:50.713Z"
   },
   {
    "duration": 19,
    "start_time": "2021-07-19T05:09:51.046Z"
   },
   {
    "duration": 17,
    "start_time": "2021-07-19T05:09:51.068Z"
   },
   {
    "duration": 25,
    "start_time": "2021-07-19T05:09:51.087Z"
   },
   {
    "duration": 15,
    "start_time": "2021-07-19T05:09:51.115Z"
   },
   {
    "duration": 15,
    "start_time": "2021-07-19T05:09:51.133Z"
   },
   {
    "duration": 7,
    "start_time": "2021-07-19T05:09:51.153Z"
   },
   {
    "duration": 46,
    "start_time": "2021-07-19T05:09:51.163Z"
   },
   {
    "duration": 52,
    "start_time": "2021-07-19T05:09:51.212Z"
   },
   {
    "duration": 48,
    "start_time": "2021-07-19T05:09:51.267Z"
   },
   {
    "duration": 9,
    "start_time": "2021-07-19T05:09:51.318Z"
   },
   {
    "duration": 23,
    "start_time": "2021-07-19T05:09:51.329Z"
   },
   {
    "duration": 26,
    "start_time": "2021-07-19T05:09:51.355Z"
   },
   {
    "duration": 6,
    "start_time": "2021-07-19T05:09:51.400Z"
   },
   {
    "duration": 11,
    "start_time": "2021-07-19T05:09:51.408Z"
   },
   {
    "duration": 6,
    "start_time": "2021-07-19T05:09:51.421Z"
   },
   {
    "duration": 11,
    "start_time": "2021-07-19T05:09:51.430Z"
   },
   {
    "duration": 15,
    "start_time": "2021-07-19T05:09:51.444Z"
   },
   {
    "duration": 41,
    "start_time": "2021-07-19T05:09:51.461Z"
   },
   {
    "duration": 5,
    "start_time": "2021-07-19T05:09:51.504Z"
   },
   {
    "duration": 20,
    "start_time": "2021-07-19T05:09:51.512Z"
   },
   {
    "duration": 285,
    "start_time": "2021-07-19T05:09:51.537Z"
   },
   {
    "duration": 7,
    "start_time": "2021-07-19T05:09:51.825Z"
   },
   {
    "duration": 303,
    "start_time": "2021-07-19T05:09:51.835Z"
   },
   {
    "duration": 11,
    "start_time": "2021-07-19T05:09:52.141Z"
   },
   {
    "duration": 19,
    "start_time": "2021-07-19T05:09:52.154Z"
   },
   {
    "duration": 49,
    "start_time": "2021-07-19T05:09:52.175Z"
   },
   {
    "duration": 538,
    "start_time": "2021-07-19T05:09:52.227Z"
   },
   {
    "duration": 13,
    "start_time": "2021-07-19T05:09:52.768Z"
   },
   {
    "duration": 327,
    "start_time": "2021-07-19T05:09:52.800Z"
   },
   {
    "duration": 5,
    "start_time": "2021-07-19T05:09:53.130Z"
   },
   {
    "duration": 24,
    "start_time": "2021-07-19T05:09:53.137Z"
   },
   {
    "duration": 301,
    "start_time": "2021-07-19T05:09:53.163Z"
   },
   {
    "duration": 295,
    "start_time": "2021-07-19T05:09:53.466Z"
   },
   {
    "duration": 406,
    "start_time": "2021-07-19T05:10:25.753Z"
   },
   {
    "duration": 546,
    "start_time": "2021-07-19T05:10:43.434Z"
   },
   {
    "duration": 276,
    "start_time": "2021-07-19T05:11:00.724Z"
   },
   {
    "duration": 594,
    "start_time": "2021-07-19T05:12:38.690Z"
   },
   {
    "duration": 589,
    "start_time": "2021-07-19T05:14:19.770Z"
   },
   {
    "duration": 641,
    "start_time": "2021-07-19T05:14:33.481Z"
   },
   {
    "duration": 567,
    "start_time": "2021-07-19T05:15:09.308Z"
   },
   {
    "duration": 636,
    "start_time": "2021-07-19T05:15:15.668Z"
   },
   {
    "duration": 603,
    "start_time": "2021-07-19T05:15:20.844Z"
   },
   {
    "duration": 561,
    "start_time": "2021-07-19T05:15:40.350Z"
   },
   {
    "duration": 13,
    "start_time": "2021-07-19T05:57:16.649Z"
   },
   {
    "duration": 408,
    "start_time": "2021-07-19T05:57:44.850Z"
   },
   {
    "duration": 13,
    "start_time": "2021-07-19T05:57:50.964Z"
   },
   {
    "duration": 14,
    "start_time": "2021-07-19T05:58:19.661Z"
   },
   {
    "duration": 782,
    "start_time": "2021-07-19T06:04:16.529Z"
   },
   {
    "duration": 510,
    "start_time": "2021-07-19T06:04:17.314Z"
   },
   {
    "duration": 18,
    "start_time": "2021-07-19T06:04:17.827Z"
   },
   {
    "duration": 18,
    "start_time": "2021-07-19T06:04:17.848Z"
   },
   {
    "duration": 27,
    "start_time": "2021-07-19T06:04:17.869Z"
   },
   {
    "duration": 19,
    "start_time": "2021-07-19T06:04:17.901Z"
   },
   {
    "duration": 15,
    "start_time": "2021-07-19T06:04:17.922Z"
   },
   {
    "duration": 7,
    "start_time": "2021-07-19T06:04:17.940Z"
   },
   {
    "duration": 51,
    "start_time": "2021-07-19T06:04:17.951Z"
   },
   {
    "duration": 15,
    "start_time": "2021-07-19T06:04:18.006Z"
   },
   {
    "duration": 41,
    "start_time": "2021-07-19T06:04:18.024Z"
   },
   {
    "duration": 61,
    "start_time": "2021-07-19T06:04:18.067Z"
   },
   {
    "duration": 9,
    "start_time": "2021-07-19T06:04:18.130Z"
   },
   {
    "duration": 13,
    "start_time": "2021-07-19T06:04:18.141Z"
   },
   {
    "duration": 48,
    "start_time": "2021-07-19T06:04:18.157Z"
   },
   {
    "duration": 7,
    "start_time": "2021-07-19T06:04:18.208Z"
   },
   {
    "duration": 10,
    "start_time": "2021-07-19T06:04:18.217Z"
   },
   {
    "duration": 11,
    "start_time": "2021-07-19T06:04:18.229Z"
   },
   {
    "duration": 14,
    "start_time": "2021-07-19T06:04:18.242Z"
   },
   {
    "duration": 42,
    "start_time": "2021-07-19T06:04:18.259Z"
   },
   {
    "duration": 22,
    "start_time": "2021-07-19T06:04:18.303Z"
   },
   {
    "duration": 5,
    "start_time": "2021-07-19T06:04:18.328Z"
   },
   {
    "duration": 13,
    "start_time": "2021-07-19T06:04:18.335Z"
   },
   {
    "duration": 422,
    "start_time": "2021-07-19T06:04:18.350Z"
   },
   {
    "duration": 9,
    "start_time": "2021-07-19T06:04:18.776Z"
   },
   {
    "duration": 320,
    "start_time": "2021-07-19T06:04:18.788Z"
   },
   {
    "duration": 10,
    "start_time": "2021-07-19T06:04:19.113Z"
   },
   {
    "duration": 16,
    "start_time": "2021-07-19T06:04:19.126Z"
   },
   {
    "duration": 62,
    "start_time": "2021-07-19T06:04:19.145Z"
   },
   {
    "duration": 529,
    "start_time": "2021-07-19T06:04:19.210Z"
   },
   {
    "duration": 12,
    "start_time": "2021-07-19T06:04:19.741Z"
   },
   {
    "duration": 338,
    "start_time": "2021-07-19T06:04:19.756Z"
   },
   {
    "duration": 5,
    "start_time": "2021-07-19T06:04:20.096Z"
   },
   {
    "duration": 23,
    "start_time": "2021-07-19T06:04:20.103Z"
   },
   {
    "duration": 294,
    "start_time": "2021-07-19T06:04:20.128Z"
   },
   {
    "duration": 595,
    "start_time": "2021-07-19T06:04:20.425Z"
   },
   {
    "duration": 11,
    "start_time": "2021-07-19T10:32:50.308Z"
   },
   {
    "duration": 10,
    "start_time": "2021-07-19T10:33:12.902Z"
   },
   {
    "duration": 11,
    "start_time": "2021-07-19T10:33:23.887Z"
   },
   {
    "duration": 10,
    "start_time": "2021-07-19T10:33:24.647Z"
   },
   {
    "duration": 12,
    "start_time": "2021-07-19T10:34:18.562Z"
   },
   {
    "duration": 11,
    "start_time": "2021-07-19T10:34:26.060Z"
   },
   {
    "duration": 20,
    "start_time": "2021-07-19T10:35:39.712Z"
   },
   {
    "duration": 20,
    "start_time": "2021-07-19T10:36:04.929Z"
   },
   {
    "duration": 20,
    "start_time": "2021-07-19T10:36:09.433Z"
   },
   {
    "duration": 109,
    "start_time": "2021-07-19T10:37:50.876Z"
   },
   {
    "duration": 12,
    "start_time": "2021-07-19T10:37:55.520Z"
   },
   {
    "duration": 16,
    "start_time": "2021-07-19T10:38:52.436Z"
   },
   {
    "duration": 21,
    "start_time": "2021-07-19T10:40:11.449Z"
   },
   {
    "duration": 21,
    "start_time": "2021-07-19T10:40:41.091Z"
   },
   {
    "duration": 799,
    "start_time": "2021-07-19T10:42:07.744Z"
   },
   {
    "duration": 21,
    "start_time": "2021-07-19T10:42:51.107Z"
   },
   {
    "duration": 14,
    "start_time": "2021-07-19T10:43:35.374Z"
   },
   {
    "duration": 22,
    "start_time": "2021-07-19T10:43:41.566Z"
   },
   {
    "duration": 848,
    "start_time": "2021-07-19T10:47:19.690Z"
   },
   {
    "duration": 500,
    "start_time": "2021-07-19T10:47:20.540Z"
   },
   {
    "duration": 20,
    "start_time": "2021-07-19T10:47:21.043Z"
   },
   {
    "duration": 20,
    "start_time": "2021-07-19T10:47:21.066Z"
   },
   {
    "duration": 28,
    "start_time": "2021-07-19T10:47:21.088Z"
   },
   {
    "duration": 16,
    "start_time": "2021-07-19T10:47:21.118Z"
   },
   {
    "duration": 15,
    "start_time": "2021-07-19T10:47:21.137Z"
   },
   {
    "duration": 8,
    "start_time": "2021-07-19T10:47:21.157Z"
   },
   {
    "duration": 46,
    "start_time": "2021-07-19T10:47:21.169Z"
   },
   {
    "duration": 14,
    "start_time": "2021-07-19T10:47:21.217Z"
   },
   {
    "duration": 82,
    "start_time": "2021-07-19T10:47:21.234Z"
   },
   {
    "duration": 34,
    "start_time": "2021-07-19T10:47:21.318Z"
   },
   {
    "duration": 9,
    "start_time": "2021-07-19T10:47:21.355Z"
   },
   {
    "duration": 40,
    "start_time": "2021-07-19T10:47:21.366Z"
   },
   {
    "duration": 20,
    "start_time": "2021-07-19T10:47:21.408Z"
   },
   {
    "duration": 19,
    "start_time": "2021-07-19T10:47:21.431Z"
   },
   {
    "duration": 25,
    "start_time": "2021-07-19T10:47:21.453Z"
   },
   {
    "duration": 16,
    "start_time": "2021-07-19T10:47:21.481Z"
   },
   {
    "duration": 29,
    "start_time": "2021-07-19T10:47:21.501Z"
   },
   {
    "duration": 26,
    "start_time": "2021-07-19T10:47:21.532Z"
   },
   {
    "duration": 33,
    "start_time": "2021-07-19T10:47:21.560Z"
   },
   {
    "duration": 6,
    "start_time": "2021-07-19T10:47:21.596Z"
   },
   {
    "duration": 30,
    "start_time": "2021-07-19T10:47:21.606Z"
   },
   {
    "duration": 274,
    "start_time": "2021-07-19T10:47:21.640Z"
   },
   {
    "duration": 7,
    "start_time": "2021-07-19T10:47:21.916Z"
   },
   {
    "duration": 308,
    "start_time": "2021-07-19T10:47:21.925Z"
   },
   {
    "duration": 11,
    "start_time": "2021-07-19T10:47:22.235Z"
   },
   {
    "duration": 16,
    "start_time": "2021-07-19T10:47:22.249Z"
   },
   {
    "duration": 55,
    "start_time": "2021-07-19T10:47:22.268Z"
   },
   {
    "duration": 555,
    "start_time": "2021-07-19T10:47:22.326Z"
   },
   {
    "duration": 22,
    "start_time": "2021-07-19T10:47:22.884Z"
   },
   {
    "duration": 336,
    "start_time": "2021-07-19T10:47:22.908Z"
   },
   {
    "duration": 5,
    "start_time": "2021-07-19T10:47:23.246Z"
   },
   {
    "duration": 21,
    "start_time": "2021-07-19T10:47:23.254Z"
   },
   {
    "duration": 295,
    "start_time": "2021-07-19T10:47:23.278Z"
   },
   {
    "duration": 590,
    "start_time": "2021-07-19T10:47:23.576Z"
   },
   {
    "duration": 38,
    "start_time": "2021-07-19T10:47:24.169Z"
   },
   {
    "duration": 863,
    "start_time": "2021-07-19T14:23:05.386Z"
   },
   {
    "duration": 320,
    "start_time": "2021-07-19T14:23:06.251Z"
   },
   {
    "duration": 18,
    "start_time": "2021-07-19T14:23:06.575Z"
   },
   {
    "duration": 20,
    "start_time": "2021-07-19T14:23:06.596Z"
   },
   {
    "duration": 45,
    "start_time": "2021-07-19T14:23:06.619Z"
   },
   {
    "duration": 18,
    "start_time": "2021-07-19T14:23:06.666Z"
   },
   {
    "duration": 17,
    "start_time": "2021-07-19T14:23:06.686Z"
   },
   {
    "duration": 7,
    "start_time": "2021-07-19T14:23:06.707Z"
   },
   {
    "duration": 15,
    "start_time": "2021-07-19T14:23:06.755Z"
   },
   {
    "duration": 16,
    "start_time": "2021-07-19T14:23:06.773Z"
   },
   {
    "duration": 74,
    "start_time": "2021-07-19T14:23:06.792Z"
   },
   {
    "duration": 33,
    "start_time": "2021-07-19T14:23:06.869Z"
   },
   {
    "duration": 9,
    "start_time": "2021-07-19T14:23:06.904Z"
   },
   {
    "duration": 47,
    "start_time": "2021-07-19T14:23:06.915Z"
   },
   {
    "duration": 27,
    "start_time": "2021-07-19T14:23:06.964Z"
   },
   {
    "duration": 7,
    "start_time": "2021-07-19T14:23:06.993Z"
   },
   {
    "duration": 7,
    "start_time": "2021-07-19T14:23:07.002Z"
   },
   {
    "duration": 10,
    "start_time": "2021-07-19T14:23:07.012Z"
   },
   {
    "duration": 11,
    "start_time": "2021-07-19T14:23:07.054Z"
   },
   {
    "duration": 14,
    "start_time": "2021-07-19T14:23:07.068Z"
   },
   {
    "duration": 15,
    "start_time": "2021-07-19T14:23:07.085Z"
   },
   {
    "duration": 5,
    "start_time": "2021-07-19T14:23:07.102Z"
   },
   {
    "duration": 44,
    "start_time": "2021-07-19T14:23:07.112Z"
   },
   {
    "duration": 302,
    "start_time": "2021-07-19T14:23:07.158Z"
   },
   {
    "duration": 7,
    "start_time": "2021-07-19T14:23:07.462Z"
   },
   {
    "duration": 324,
    "start_time": "2021-07-19T14:23:07.472Z"
   },
   {
    "duration": 11,
    "start_time": "2021-07-19T14:23:07.798Z"
   },
   {
    "duration": 17,
    "start_time": "2021-07-19T14:23:07.811Z"
   },
   {
    "duration": 33,
    "start_time": "2021-07-19T14:23:07.854Z"
   },
   {
    "duration": 680,
    "start_time": "2021-07-19T14:23:07.889Z"
   },
   {
    "duration": 11,
    "start_time": "2021-07-19T14:23:08.571Z"
   },
   {
    "duration": 347,
    "start_time": "2021-07-19T14:23:08.585Z"
   },
   {
    "duration": 5,
    "start_time": "2021-07-19T14:23:08.934Z"
   },
   {
    "duration": 30,
    "start_time": "2021-07-19T14:23:08.941Z"
   },
   {
    "duration": 370,
    "start_time": "2021-07-19T14:23:08.973Z"
   },
   {
    "duration": 665,
    "start_time": "2021-07-19T14:23:09.346Z"
   },
   {
    "duration": 40,
    "start_time": "2021-07-19T14:23:10.014Z"
   },
   {
    "duration": 926,
    "start_time": "2021-07-19T14:55:08.970Z"
   },
   {
    "duration": 259,
    "start_time": "2021-07-19T14:55:09.898Z"
   },
   {
    "duration": 16,
    "start_time": "2021-07-19T14:55:10.160Z"
   },
   {
    "duration": 18,
    "start_time": "2021-07-19T14:55:10.179Z"
   },
   {
    "duration": 55,
    "start_time": "2021-07-19T14:55:10.200Z"
   },
   {
    "duration": 25,
    "start_time": "2021-07-19T14:55:10.258Z"
   },
   {
    "duration": 17,
    "start_time": "2021-07-19T14:55:10.285Z"
   },
   {
    "duration": 8,
    "start_time": "2021-07-19T14:55:10.305Z"
   },
   {
    "duration": 38,
    "start_time": "2021-07-19T14:55:10.317Z"
   },
   {
    "duration": 13,
    "start_time": "2021-07-19T14:55:10.359Z"
   },
   {
    "duration": 63,
    "start_time": "2021-07-19T14:55:10.374Z"
   },
   {
    "duration": 40,
    "start_time": "2021-07-19T14:55:10.439Z"
   },
   {
    "duration": 9,
    "start_time": "2021-07-19T14:55:10.482Z"
   },
   {
    "duration": 20,
    "start_time": "2021-07-19T14:55:10.493Z"
   },
   {
    "duration": 52,
    "start_time": "2021-07-19T14:55:10.516Z"
   },
   {
    "duration": 23,
    "start_time": "2021-07-19T14:55:10.571Z"
   },
   {
    "duration": 20,
    "start_time": "2021-07-19T14:55:10.597Z"
   },
   {
    "duration": 15,
    "start_time": "2021-07-19T14:55:10.619Z"
   },
   {
    "duration": 21,
    "start_time": "2021-07-19T14:55:10.636Z"
   },
   {
    "duration": 23,
    "start_time": "2021-07-19T14:55:10.660Z"
   },
   {
    "duration": 34,
    "start_time": "2021-07-19T14:55:10.685Z"
   },
   {
    "duration": 9,
    "start_time": "2021-07-19T14:55:10.721Z"
   },
   {
    "duration": 26,
    "start_time": "2021-07-19T14:55:10.732Z"
   },
   {
    "duration": 293,
    "start_time": "2021-07-19T14:55:10.761Z"
   },
   {
    "duration": 6,
    "start_time": "2021-07-19T14:55:11.057Z"
   },
   {
    "duration": 332,
    "start_time": "2021-07-19T14:55:11.066Z"
   },
   {
    "duration": 11,
    "start_time": "2021-07-19T14:55:11.403Z"
   },
   {
    "duration": 37,
    "start_time": "2021-07-19T14:55:11.417Z"
   },
   {
    "duration": 30,
    "start_time": "2021-07-19T14:55:11.457Z"
   },
   {
    "duration": 580,
    "start_time": "2021-07-19T14:55:11.490Z"
   },
   {
    "duration": 14,
    "start_time": "2021-07-19T14:55:12.073Z"
   },
   {
    "duration": 357,
    "start_time": "2021-07-19T14:55:12.089Z"
   },
   {
    "duration": 10,
    "start_time": "2021-07-19T14:55:12.449Z"
   },
   {
    "duration": 42,
    "start_time": "2021-07-19T14:55:12.462Z"
   },
   {
    "duration": 317,
    "start_time": "2021-07-19T14:55:12.507Z"
   },
   {
    "duration": 639,
    "start_time": "2021-07-19T14:55:12.826Z"
   },
   {
    "duration": 23,
    "start_time": "2021-07-19T14:55:13.468Z"
   },
   {
    "duration": 907,
    "start_time": "2021-07-19T22:05:34.125Z"
   },
   {
    "duration": 283,
    "start_time": "2021-07-19T22:05:35.034Z"
   },
   {
    "duration": 21,
    "start_time": "2021-07-19T22:05:35.320Z"
   },
   {
    "duration": 23,
    "start_time": "2021-07-19T22:05:35.344Z"
   },
   {
    "duration": 32,
    "start_time": "2021-07-19T22:05:35.370Z"
   },
   {
    "duration": 22,
    "start_time": "2021-07-19T22:05:35.405Z"
   },
   {
    "duration": 47,
    "start_time": "2021-07-19T22:05:35.430Z"
   },
   {
    "duration": 10,
    "start_time": "2021-07-19T22:05:35.482Z"
   },
   {
    "duration": 11,
    "start_time": "2021-07-19T22:05:35.495Z"
   },
   {
    "duration": 17,
    "start_time": "2021-07-19T22:05:35.508Z"
   },
   {
    "duration": 52,
    "start_time": "2021-07-19T22:05:35.528Z"
   },
   {
    "duration": 47,
    "start_time": "2021-07-19T22:05:35.583Z"
   },
   {
    "duration": 58,
    "start_time": "2021-07-19T22:05:35.632Z"
   },
   {
    "duration": 9,
    "start_time": "2021-07-19T22:05:35.692Z"
   },
   {
    "duration": 15,
    "start_time": "2021-07-19T22:05:35.704Z"
   },
   {
    "duration": 53,
    "start_time": "2021-07-19T22:05:35.722Z"
   },
   {
    "duration": 6,
    "start_time": "2021-07-19T22:05:35.778Z"
   },
   {
    "duration": 9,
    "start_time": "2021-07-19T22:05:35.786Z"
   },
   {
    "duration": 7,
    "start_time": "2021-07-19T22:05:35.797Z"
   },
   {
    "duration": 14,
    "start_time": "2021-07-19T22:05:35.806Z"
   },
   {
    "duration": 44,
    "start_time": "2021-07-19T22:05:35.823Z"
   },
   {
    "duration": 18,
    "start_time": "2021-07-19T22:05:35.870Z"
   },
   {
    "duration": 6,
    "start_time": "2021-07-19T22:05:35.894Z"
   },
   {
    "duration": 13,
    "start_time": "2021-07-19T22:05:35.903Z"
   },
   {
    "duration": 415,
    "start_time": "2021-07-19T22:05:35.918Z"
   },
   {
    "duration": 7,
    "start_time": "2021-07-19T22:05:36.335Z"
   },
   {
    "duration": 323,
    "start_time": "2021-07-19T22:05:36.344Z"
   },
   {
    "duration": 11,
    "start_time": "2021-07-19T22:05:36.669Z"
   },
   {
    "duration": 15,
    "start_time": "2021-07-19T22:05:36.683Z"
   },
   {
    "duration": 33,
    "start_time": "2021-07-19T22:05:36.701Z"
   },
   {
    "duration": 570,
    "start_time": "2021-07-19T22:05:36.768Z"
   },
   {
    "duration": 13,
    "start_time": "2021-07-19T22:05:37.340Z"
   },
   {
    "duration": 337,
    "start_time": "2021-07-19T22:05:37.368Z"
   },
   {
    "duration": 5,
    "start_time": "2021-07-19T22:05:37.708Z"
   },
   {
    "duration": 23,
    "start_time": "2021-07-19T22:05:37.715Z"
   },
   {
    "duration": 342,
    "start_time": "2021-07-19T22:05:37.741Z"
   },
   {
    "duration": 635,
    "start_time": "2021-07-19T22:05:38.085Z"
   },
   {
    "duration": 21,
    "start_time": "2021-07-19T22:05:38.722Z"
   },
   {
    "duration": 290,
    "start_time": "2021-07-19T22:07:16.660Z"
   },
   {
    "duration": 883,
    "start_time": "2021-07-19T22:07:22.279Z"
   },
   {
    "duration": 266,
    "start_time": "2021-07-19T22:07:23.167Z"
   },
   {
    "duration": 21,
    "start_time": "2021-07-19T22:07:23.436Z"
   },
   {
    "duration": 18,
    "start_time": "2021-07-19T22:07:23.461Z"
   },
   {
    "duration": 28,
    "start_time": "2021-07-19T22:07:23.482Z"
   },
   {
    "duration": 29,
    "start_time": "2021-07-19T22:07:23.512Z"
   },
   {
    "duration": 15,
    "start_time": "2021-07-19T22:07:23.567Z"
   },
   {
    "duration": 202483,
    "start_time": "2021-07-19T22:07:23.586Z"
   },
   {
    "duration": 8,
    "start_time": "2021-07-19T22:10:46.072Z"
   },
   {
    "duration": 28,
    "start_time": "2021-07-19T22:10:46.083Z"
   },
   {
    "duration": 21,
    "start_time": "2021-07-19T22:10:46.115Z"
   },
   {
    "duration": 67,
    "start_time": "2021-07-19T22:10:46.140Z"
   },
   {
    "duration": 36,
    "start_time": "2021-07-19T22:10:46.209Z"
   },
   {
    "duration": 9,
    "start_time": "2021-07-19T22:10:46.268Z"
   },
   {
    "duration": 17,
    "start_time": "2021-07-19T22:10:46.279Z"
   },
   {
    "duration": 24,
    "start_time": "2021-07-19T22:10:46.299Z"
   },
   {
    "duration": 6,
    "start_time": "2021-07-19T22:10:46.325Z"
   },
   {
    "duration": 6,
    "start_time": "2021-07-19T22:10:46.367Z"
   },
   {
    "duration": 6,
    "start_time": "2021-07-19T22:10:46.376Z"
   },
   {
    "duration": 14,
    "start_time": "2021-07-19T22:10:46.384Z"
   },
   {
    "duration": 12,
    "start_time": "2021-07-19T22:10:46.400Z"
   },
   {
    "duration": 57,
    "start_time": "2021-07-19T22:10:46.414Z"
   },
   {
    "duration": 5,
    "start_time": "2021-07-19T22:10:46.476Z"
   },
   {
    "duration": 13,
    "start_time": "2021-07-19T22:10:46.484Z"
   },
   {
    "duration": 315,
    "start_time": "2021-07-19T22:10:46.500Z"
   },
   {
    "duration": 7,
    "start_time": "2021-07-19T22:10:46.818Z"
   },
   {
    "duration": 339,
    "start_time": "2021-07-19T22:10:46.828Z"
   },
   {
    "duration": 14,
    "start_time": "2021-07-19T22:10:47.170Z"
   },
   {
    "duration": 19,
    "start_time": "2021-07-19T22:10:47.187Z"
   },
   {
    "duration": 74,
    "start_time": "2021-07-19T22:10:47.209Z"
   },
   {
    "duration": 583,
    "start_time": "2021-07-19T22:10:47.286Z"
   },
   {
    "duration": 13,
    "start_time": "2021-07-19T22:10:47.872Z"
   },
   {
    "duration": 313,
    "start_time": "2021-07-19T22:10:47.888Z"
   },
   {
    "duration": 5,
    "start_time": "2021-07-19T22:10:48.203Z"
   },
   {
    "duration": 22,
    "start_time": "2021-07-19T22:10:48.211Z"
   },
   {
    "duration": 318,
    "start_time": "2021-07-19T22:10:48.236Z"
   },
   {
    "duration": 651,
    "start_time": "2021-07-19T22:10:48.557Z"
   },
   {
    "duration": 23,
    "start_time": "2021-07-19T22:10:49.211Z"
   },
   {
    "duration": 951,
    "start_time": "2021-07-19T22:16:35.697Z"
   },
   {
    "duration": 316,
    "start_time": "2021-07-19T22:16:36.650Z"
   },
   {
    "duration": 16,
    "start_time": "2021-07-19T22:16:36.969Z"
   },
   {
    "duration": 18,
    "start_time": "2021-07-19T22:16:36.988Z"
   },
   {
    "duration": 62,
    "start_time": "2021-07-19T22:16:37.009Z"
   },
   {
    "duration": 17,
    "start_time": "2021-07-19T22:16:37.074Z"
   },
   {
    "duration": 17,
    "start_time": "2021-07-19T22:16:37.093Z"
   },
   {
    "duration": 3542,
    "start_time": "2021-07-19T22:16:37.113Z"
   },
   {
    "duration": 1920,
    "start_time": "2021-07-19T22:16:38.739Z"
   },
   {
    "duration": 1919,
    "start_time": "2021-07-19T22:16:38.741Z"
   },
   {
    "duration": 1918,
    "start_time": "2021-07-19T22:16:38.743Z"
   },
   {
    "duration": 1913,
    "start_time": "2021-07-19T22:16:38.750Z"
   },
   {
    "duration": 1911,
    "start_time": "2021-07-19T22:16:38.753Z"
   },
   {
    "duration": 1900,
    "start_time": "2021-07-19T22:16:38.765Z"
   },
   {
    "duration": 1898,
    "start_time": "2021-07-19T22:16:38.768Z"
   },
   {
    "duration": 1898,
    "start_time": "2021-07-19T22:16:38.769Z"
   },
   {
    "duration": 1898,
    "start_time": "2021-07-19T22:16:38.771Z"
   },
   {
    "duration": 1897,
    "start_time": "2021-07-19T22:16:38.773Z"
   },
   {
    "duration": 1896,
    "start_time": "2021-07-19T22:16:38.775Z"
   },
   {
    "duration": 1890,
    "start_time": "2021-07-19T22:16:38.782Z"
   },
   {
    "duration": 1888,
    "start_time": "2021-07-19T22:16:38.785Z"
   },
   {
    "duration": 1888,
    "start_time": "2021-07-19T22:16:38.787Z"
   },
   {
    "duration": 1886,
    "start_time": "2021-07-19T22:16:38.790Z"
   },
   {
    "duration": 1879,
    "start_time": "2021-07-19T22:16:38.798Z"
   },
   {
    "duration": 1877,
    "start_time": "2021-07-19T22:16:38.801Z"
   },
   {
    "duration": 1876,
    "start_time": "2021-07-19T22:16:38.803Z"
   },
   {
    "duration": 1876,
    "start_time": "2021-07-19T22:16:38.805Z"
   },
   {
    "duration": 1872,
    "start_time": "2021-07-19T22:16:38.810Z"
   },
   {
    "duration": 1866,
    "start_time": "2021-07-19T22:16:38.817Z"
   },
   {
    "duration": 1865,
    "start_time": "2021-07-19T22:16:38.819Z"
   },
   {
    "duration": 1865,
    "start_time": "2021-07-19T22:16:38.821Z"
   },
   {
    "duration": 1862,
    "start_time": "2021-07-19T22:16:38.825Z"
   },
   {
    "duration": 1856,
    "start_time": "2021-07-19T22:16:38.832Z"
   },
   {
    "duration": 1855,
    "start_time": "2021-07-19T22:16:38.834Z"
   },
   {
    "duration": 1854,
    "start_time": "2021-07-19T22:16:38.836Z"
   },
   {
    "duration": 1842,
    "start_time": "2021-07-19T22:16:38.850Z"
   },
   {
    "duration": 1841,
    "start_time": "2021-07-19T22:16:38.852Z"
   },
   {
    "duration": 1839,
    "start_time": "2021-07-19T22:16:38.855Z"
   },
   {
    "duration": 417,
    "start_time": "2021-07-19T22:16:54.539Z"
   },
   {
    "duration": 871,
    "start_time": "2021-07-20T07:18:45.720Z"
   },
   {
    "duration": 345,
    "start_time": "2021-07-20T07:18:46.594Z"
   },
   {
    "duration": 20,
    "start_time": "2021-07-20T07:18:46.942Z"
   },
   {
    "duration": 18,
    "start_time": "2021-07-20T07:18:46.965Z"
   },
   {
    "duration": 29,
    "start_time": "2021-07-20T07:18:46.985Z"
   },
   {
    "duration": 49,
    "start_time": "2021-07-20T07:18:47.016Z"
   },
   {
    "duration": 14,
    "start_time": "2021-07-20T07:18:47.068Z"
   },
   {
    "duration": 7,
    "start_time": "2021-07-20T07:18:47.086Z"
   },
   {
    "duration": 18,
    "start_time": "2021-07-20T07:18:47.096Z"
   },
   {
    "duration": 43,
    "start_time": "2021-07-20T07:18:47.117Z"
   },
   {
    "duration": 45,
    "start_time": "2021-07-20T07:18:47.162Z"
   },
   {
    "duration": 58,
    "start_time": "2021-07-20T07:18:47.210Z"
   },
   {
    "duration": 8,
    "start_time": "2021-07-20T07:18:47.271Z"
   },
   {
    "duration": 15,
    "start_time": "2021-07-20T07:18:47.281Z"
   },
   {
    "duration": 22,
    "start_time": "2021-07-20T07:18:47.298Z"
   },
   {
    "duration": 34,
    "start_time": "2021-07-20T07:18:47.322Z"
   },
   {
    "duration": 12,
    "start_time": "2021-07-20T07:18:47.359Z"
   },
   {
    "duration": 14,
    "start_time": "2021-07-20T07:18:47.373Z"
   },
   {
    "duration": 10,
    "start_time": "2021-07-20T07:18:47.390Z"
   },
   {
    "duration": 17,
    "start_time": "2021-07-20T07:18:47.403Z"
   },
   {
    "duration": 37,
    "start_time": "2021-07-20T07:18:47.423Z"
   },
   {
    "duration": 5,
    "start_time": "2021-07-20T07:18:47.462Z"
   },
   {
    "duration": 17,
    "start_time": "2021-07-20T07:18:47.471Z"
   },
   {
    "duration": 295,
    "start_time": "2021-07-20T07:18:47.491Z"
   },
   {
    "duration": 6,
    "start_time": "2021-07-20T07:18:47.789Z"
   },
   {
    "duration": 407,
    "start_time": "2021-07-20T07:18:47.797Z"
   },
   {
    "duration": 11,
    "start_time": "2021-07-20T07:18:48.206Z"
   },
   {
    "duration": 37,
    "start_time": "2021-07-20T07:18:48.219Z"
   },
   {
    "duration": 30,
    "start_time": "2021-07-20T07:18:48.258Z"
   },
   {
    "duration": 559,
    "start_time": "2021-07-20T07:18:48.291Z"
   },
   {
    "duration": 11,
    "start_time": "2021-07-20T07:18:48.855Z"
   },
   {
    "duration": 345,
    "start_time": "2021-07-20T07:18:48.868Z"
   },
   {
    "duration": 5,
    "start_time": "2021-07-20T07:18:49.215Z"
   },
   {
    "duration": 33,
    "start_time": "2021-07-20T07:18:49.222Z"
   },
   {
    "duration": 299,
    "start_time": "2021-07-20T07:18:49.258Z"
   },
   {
    "duration": 708,
    "start_time": "2021-07-20T07:18:49.559Z"
   },
   {
    "duration": 21,
    "start_time": "2021-07-20T07:18:50.269Z"
   },
   {
    "duration": 387,
    "start_time": "2021-07-20T07:19:37.496Z"
   },
   {
    "duration": 13,
    "start_time": "2021-07-20T07:19:40.648Z"
   },
   {
    "duration": 16,
    "start_time": "2021-07-20T07:19:53.680Z"
   },
   {
    "duration": 4,
    "start_time": "2021-07-20T07:22:13.226Z"
   },
   {
    "duration": 17,
    "start_time": "2021-07-20T07:22:22.051Z"
   },
   {
    "duration": 31,
    "start_time": "2021-07-20T07:22:32.218Z"
   },
   {
    "duration": 9,
    "start_time": "2021-07-20T07:23:42.511Z"
   },
   {
    "duration": 9,
    "start_time": "2021-07-20T07:24:01.472Z"
   },
   {
    "duration": 271,
    "start_time": "2021-07-20T07:24:53.026Z"
   },
   {
    "duration": 281,
    "start_time": "2021-07-20T07:24:58.492Z"
   },
   {
    "duration": 271,
    "start_time": "2021-07-20T07:25:03.612Z"
   },
   {
    "duration": 275,
    "start_time": "2021-07-20T07:25:15.381Z"
   },
   {
    "duration": 28,
    "start_time": "2021-07-20T07:25:24.550Z"
   },
   {
    "duration": 125,
    "start_time": "2021-07-20T07:25:29.653Z"
   },
   {
    "duration": 40,
    "start_time": "2021-07-20T07:25:32.750Z"
   },
   {
    "duration": 14,
    "start_time": "2021-07-20T08:07:16.904Z"
   },
   {
    "duration": 37,
    "start_time": "2021-07-20T08:08:58.231Z"
   },
   {
    "duration": 14,
    "start_time": "2021-07-20T08:10:33.061Z"
   },
   {
    "duration": 14,
    "start_time": "2021-07-20T08:10:37.788Z"
   },
   {
    "duration": 17,
    "start_time": "2021-07-20T08:10:57.170Z"
   },
   {
    "duration": 14,
    "start_time": "2021-07-20T08:11:00.635Z"
   },
   {
    "duration": 13,
    "start_time": "2021-07-20T08:11:05.812Z"
   },
   {
    "duration": 13,
    "start_time": "2021-07-20T08:11:11.483Z"
   },
   {
    "duration": 16,
    "start_time": "2021-07-20T08:11:15.716Z"
   },
   {
    "duration": 18,
    "start_time": "2021-07-20T08:11:23.157Z"
   },
   {
    "duration": 21,
    "start_time": "2021-07-20T08:42:07.249Z"
   },
   {
    "duration": 23,
    "start_time": "2021-07-20T08:44:11.623Z"
   },
   {
    "duration": 296,
    "start_time": "2021-07-20T08:44:55.532Z"
   },
   {
    "duration": 73,
    "start_time": "2021-07-20T08:48:25.538Z"
   },
   {
    "duration": 23,
    "start_time": "2021-07-20T08:48:51.668Z"
   },
   {
    "duration": 526,
    "start_time": "2021-07-20T08:49:28.005Z"
   },
   {
    "duration": 60,
    "start_time": "2021-07-20T08:49:42.214Z"
   },
   {
    "duration": 309,
    "start_time": "2021-07-20T08:50:00.489Z"
   },
   {
    "duration": 305,
    "start_time": "2021-07-20T08:50:31.162Z"
   },
   {
    "duration": 108,
    "start_time": "2021-07-20T08:51:23.055Z"
   },
   {
    "duration": 44,
    "start_time": "2021-07-20T08:51:46.743Z"
   },
   {
    "duration": 889,
    "start_time": "2021-07-20T08:51:55.016Z"
   },
   {
    "duration": 271,
    "start_time": "2021-07-20T08:51:55.907Z"
   },
   {
    "duration": 15,
    "start_time": "2021-07-20T08:51:56.181Z"
   },
   {
    "duration": 30,
    "start_time": "2021-07-20T08:51:56.199Z"
   },
   {
    "duration": 36,
    "start_time": "2021-07-20T08:51:56.232Z"
   },
   {
    "duration": 17,
    "start_time": "2021-07-20T08:51:56.271Z"
   },
   {
    "duration": 18,
    "start_time": "2021-07-20T08:51:56.291Z"
   },
   {
    "duration": 20,
    "start_time": "2021-07-20T08:51:56.312Z"
   },
   {
    "duration": 28,
    "start_time": "2021-07-20T08:51:56.336Z"
   },
   {
    "duration": 18,
    "start_time": "2021-07-20T08:51:56.368Z"
   },
   {
    "duration": 63,
    "start_time": "2021-07-20T08:51:56.389Z"
   },
   {
    "duration": 36,
    "start_time": "2021-07-20T08:51:56.454Z"
   },
   {
    "duration": 8,
    "start_time": "2021-07-20T08:51:56.492Z"
   },
   {
    "duration": 56,
    "start_time": "2021-07-20T08:51:56.503Z"
   },
   {
    "duration": 37,
    "start_time": "2021-07-20T08:51:56.561Z"
   },
   {
    "duration": 41,
    "start_time": "2021-07-20T08:51:56.601Z"
   },
   {
    "duration": 51,
    "start_time": "2021-07-20T08:51:56.645Z"
   },
   {
    "duration": 8,
    "start_time": "2021-07-20T08:51:56.698Z"
   },
   {
    "duration": 33,
    "start_time": "2021-07-20T08:51:56.709Z"
   },
   {
    "duration": 40,
    "start_time": "2021-07-20T08:51:56.744Z"
   },
   {
    "duration": 7,
    "start_time": "2021-07-20T08:51:56.786Z"
   },
   {
    "duration": 28,
    "start_time": "2021-07-20T08:51:56.795Z"
   },
   {
    "duration": 16,
    "start_time": "2021-07-20T08:51:56.825Z"
   },
   {
    "duration": 23,
    "start_time": "2021-07-20T08:51:56.843Z"
   },
   {
    "duration": 27,
    "start_time": "2021-07-20T08:51:56.868Z"
   },
   {
    "duration": 32,
    "start_time": "2021-07-20T08:51:56.898Z"
   },
   {
    "duration": 7,
    "start_time": "2021-07-20T08:51:56.936Z"
   },
   {
    "duration": 32,
    "start_time": "2021-07-20T08:51:56.946Z"
   },
   {
    "duration": 292,
    "start_time": "2021-07-20T08:51:56.981Z"
   },
   {
    "duration": 6,
    "start_time": "2021-07-20T08:51:57.276Z"
   },
   {
    "duration": 315,
    "start_time": "2021-07-20T08:51:57.284Z"
   },
   {
    "duration": 11,
    "start_time": "2021-07-20T08:51:57.601Z"
   },
   {
    "duration": 41,
    "start_time": "2021-07-20T08:51:57.615Z"
   },
   {
    "duration": 49,
    "start_time": "2021-07-20T08:51:57.659Z"
   },
   {
    "duration": 562,
    "start_time": "2021-07-20T08:51:57.711Z"
   },
   {
    "duration": 15,
    "start_time": "2021-07-20T08:51:58.276Z"
   },
   {
    "duration": 355,
    "start_time": "2021-07-20T08:51:58.293Z"
   },
   {
    "duration": 7,
    "start_time": "2021-07-20T08:51:58.655Z"
   },
   {
    "duration": 48,
    "start_time": "2021-07-20T08:51:58.666Z"
   },
   {
    "duration": 312,
    "start_time": "2021-07-20T08:51:58.716Z"
   },
   {
    "duration": 618,
    "start_time": "2021-07-20T08:51:59.031Z"
   },
   {
    "duration": 21,
    "start_time": "2021-07-20T08:51:59.655Z"
   },
   {
    "duration": 69,
    "start_time": "2021-07-20T09:05:40.755Z"
   },
   {
    "duration": 8,
    "start_time": "2021-07-20T09:05:56.143Z"
   },
   {
    "duration": 11,
    "start_time": "2021-07-20T09:06:09.334Z"
   },
   {
    "duration": 10,
    "start_time": "2021-07-20T09:06:17.910Z"
   },
   {
    "duration": 11,
    "start_time": "2021-07-20T09:06:22.502Z"
   },
   {
    "duration": 16,
    "start_time": "2021-07-20T09:09:04.354Z"
   },
   {
    "duration": 1563,
    "start_time": "2021-07-20T09:09:50.515Z"
   },
   {
    "duration": 1325,
    "start_time": "2021-07-20T09:09:58.125Z"
   },
   {
    "duration": 16,
    "start_time": "2021-07-20T09:10:03.757Z"
   },
   {
    "duration": 10,
    "start_time": "2021-07-20T09:10:56.600Z"
   },
   {
    "duration": 1375,
    "start_time": "2021-07-20T09:11:16.985Z"
   },
   {
    "duration": 1293,
    "start_time": "2021-07-20T09:11:37.195Z"
   },
   {
    "duration": 2485,
    "start_time": "2021-07-20T09:11:43.651Z"
   },
   {
    "duration": 9,
    "start_time": "2021-07-20T09:11:55.924Z"
   },
   {
    "duration": 277,
    "start_time": "2021-07-20T09:13:45.218Z"
   },
   {
    "duration": 16,
    "start_time": "2021-07-20T09:14:52.496Z"
   },
   {
    "duration": 1762,
    "start_time": "2021-07-20T09:15:13.888Z"
   },
   {
    "duration": 17,
    "start_time": "2021-07-20T09:18:28.421Z"
   },
   {
    "duration": 18,
    "start_time": "2021-07-20T09:18:41.053Z"
   },
   {
    "duration": 4738,
    "start_time": "2021-07-20T09:22:25.453Z"
   },
   {
    "duration": -559,
    "start_time": "2021-07-20T09:22:30.752Z"
   },
   {
    "duration": 9,
    "start_time": "2021-07-20T09:22:34.932Z"
   },
   {
    "duration": 265,
    "start_time": "2021-07-20T09:23:55.761Z"
   },
   {
    "duration": 290,
    "start_time": "2021-07-20T09:24:13.274Z"
   },
   {
    "duration": 3740,
    "start_time": "2021-07-20T09:24:48.612Z"
   },
   {
    "duration": 12,
    "start_time": "2021-07-20T09:25:06.310Z"
   },
   {
    "duration": 94,
    "start_time": "2021-07-20T09:25:14.550Z"
   },
   {
    "duration": 272,
    "start_time": "2021-07-20T09:25:20.679Z"
   },
   {
    "duration": 20,
    "start_time": "2021-07-20T09:27:50.168Z"
   },
   {
    "duration": 95,
    "start_time": "2021-07-20T09:28:11.338Z"
   },
   {
    "duration": 19,
    "start_time": "2021-07-20T09:28:14.929Z"
   },
   {
    "duration": 191,
    "start_time": "2021-07-20T09:28:22.730Z"
   },
   {
    "duration": 33,
    "start_time": "2021-07-20T09:28:29.651Z"
   },
   {
    "duration": 1533,
    "start_time": "2021-07-20T09:28:35.659Z"
   },
   {
    "duration": 25,
    "start_time": "2021-07-20T09:28:49.532Z"
   },
   {
    "duration": 895,
    "start_time": "2021-07-20T09:30:09.337Z"
   },
   {
    "duration": 300,
    "start_time": "2021-07-20T09:30:10.234Z"
   },
   {
    "duration": 16,
    "start_time": "2021-07-20T09:30:10.537Z"
   },
   {
    "duration": 26,
    "start_time": "2021-07-20T09:30:10.556Z"
   },
   {
    "duration": 38,
    "start_time": "2021-07-20T09:30:10.585Z"
   },
   {
    "duration": 16,
    "start_time": "2021-07-20T09:30:10.626Z"
   },
   {
    "duration": 16,
    "start_time": "2021-07-20T09:30:10.653Z"
   },
   {
    "duration": 19,
    "start_time": "2021-07-20T09:30:10.674Z"
   },
   {
    "duration": 35,
    "start_time": "2021-07-20T09:30:10.696Z"
   },
   {
    "duration": 24,
    "start_time": "2021-07-20T09:30:10.734Z"
   },
   {
    "duration": 72,
    "start_time": "2021-07-20T09:30:10.760Z"
   },
   {
    "duration": 34,
    "start_time": "2021-07-20T09:30:10.835Z"
   },
   {
    "duration": 7,
    "start_time": "2021-07-20T09:30:10.872Z"
   },
   {
    "duration": 37,
    "start_time": "2021-07-20T09:30:10.882Z"
   },
   {
    "duration": 41,
    "start_time": "2021-07-20T09:30:10.921Z"
   },
   {
    "duration": 29,
    "start_time": "2021-07-20T09:30:10.965Z"
   },
   {
    "duration": 9,
    "start_time": "2021-07-20T09:30:10.997Z"
   },
   {
    "duration": 46,
    "start_time": "2021-07-20T09:30:11.008Z"
   },
   {
    "duration": 14,
    "start_time": "2021-07-20T09:30:11.057Z"
   },
   {
    "duration": 38,
    "start_time": "2021-07-20T09:30:11.074Z"
   },
   {
    "duration": 15,
    "start_time": "2021-07-20T09:30:11.114Z"
   },
   {
    "duration": 27,
    "start_time": "2021-07-20T09:30:11.132Z"
   },
   {
    "duration": 22,
    "start_time": "2021-07-20T09:30:11.164Z"
   },
   {
    "duration": 33,
    "start_time": "2021-07-20T09:30:11.189Z"
   },
   {
    "duration": 23,
    "start_time": "2021-07-20T09:30:11.225Z"
   },
   {
    "duration": 37,
    "start_time": "2021-07-20T09:30:11.251Z"
   },
   {
    "duration": 30,
    "start_time": "2021-07-20T09:30:11.291Z"
   },
   {
    "duration": 41,
    "start_time": "2021-07-20T09:30:11.323Z"
   },
   {
    "duration": 305,
    "start_time": "2021-07-20T09:30:11.367Z"
   },
   {
    "duration": 6,
    "start_time": "2021-07-20T09:30:11.675Z"
   },
   {
    "duration": 320,
    "start_time": "2021-07-20T09:30:11.684Z"
   },
   {
    "duration": 11,
    "start_time": "2021-07-20T09:30:12.006Z"
   },
   {
    "duration": 34,
    "start_time": "2021-07-20T09:30:12.020Z"
   },
   {
    "duration": 43,
    "start_time": "2021-07-20T09:30:12.057Z"
   },
   {
    "duration": 612,
    "start_time": "2021-07-20T09:30:12.103Z"
   },
   {
    "duration": 12,
    "start_time": "2021-07-20T09:30:12.718Z"
   },
   {
    "duration": 308,
    "start_time": "2021-07-20T09:30:12.732Z"
   },
   {
    "duration": 12,
    "start_time": "2021-07-20T09:30:13.042Z"
   },
   {
    "duration": 28,
    "start_time": "2021-07-20T09:30:13.057Z"
   },
   {
    "duration": 308,
    "start_time": "2021-07-20T09:30:13.087Z"
   },
   {
    "duration": 640,
    "start_time": "2021-07-20T09:30:13.397Z"
   },
   {
    "duration": 31,
    "start_time": "2021-07-20T09:30:14.041Z"
   },
   {
    "duration": 1861,
    "start_time": "2021-07-20T09:30:28.460Z"
   },
   {
    "duration": 9,
    "start_time": "2021-07-20T09:30:35.748Z"
   },
   {
    "duration": 48,
    "start_time": "2021-07-20T09:31:05.822Z"
   },
   {
    "duration": 49,
    "start_time": "2021-07-20T09:31:18.343Z"
   },
   {
    "duration": 54,
    "start_time": "2021-07-20T09:31:27.184Z"
   },
   {
    "duration": 52,
    "start_time": "2021-07-20T09:33:09.894Z"
   },
   {
    "duration": 899,
    "start_time": "2021-07-20T09:33:15.723Z"
   },
   {
    "duration": 252,
    "start_time": "2021-07-20T09:33:16.625Z"
   },
   {
    "duration": 20,
    "start_time": "2021-07-20T09:33:16.881Z"
   },
   {
    "duration": 18,
    "start_time": "2021-07-20T09:33:16.905Z"
   },
   {
    "duration": 34,
    "start_time": "2021-07-20T09:33:16.925Z"
   },
   {
    "duration": 21,
    "start_time": "2021-07-20T09:33:16.961Z"
   },
   {
    "duration": 15,
    "start_time": "2021-07-20T09:33:16.984Z"
   },
   {
    "duration": 8,
    "start_time": "2021-07-20T09:33:17.003Z"
   },
   {
    "duration": 50,
    "start_time": "2021-07-20T09:33:17.013Z"
   },
   {
    "duration": 19,
    "start_time": "2021-07-20T09:33:17.065Z"
   },
   {
    "duration": 51,
    "start_time": "2021-07-20T09:33:17.086Z"
   },
   {
    "duration": 44,
    "start_time": "2021-07-20T09:33:17.139Z"
   },
   {
    "duration": 13,
    "start_time": "2021-07-20T09:33:17.185Z"
   },
   {
    "duration": 55,
    "start_time": "2021-07-20T09:33:17.201Z"
   },
   {
    "duration": 19,
    "start_time": "2021-07-20T09:33:17.259Z"
   },
   {
    "duration": 36,
    "start_time": "2021-07-20T09:33:17.281Z"
   },
   {
    "duration": 10,
    "start_time": "2021-07-20T09:33:17.320Z"
   },
   {
    "duration": 35,
    "start_time": "2021-07-20T09:33:17.332Z"
   },
   {
    "duration": 16,
    "start_time": "2021-07-20T09:33:17.369Z"
   },
   {
    "duration": 19,
    "start_time": "2021-07-20T09:33:17.388Z"
   },
   {
    "duration": 75,
    "start_time": "2021-07-20T09:33:17.409Z"
   },
   {
    "duration": 22,
    "start_time": "2021-07-20T09:33:17.487Z"
   },
   {
    "duration": 6,
    "start_time": "2021-07-20T09:33:17.514Z"
   },
   {
    "duration": 33,
    "start_time": "2021-07-20T09:33:17.523Z"
   },
   {
    "duration": 7,
    "start_time": "2021-07-20T09:33:17.558Z"
   },
   {
    "duration": 14,
    "start_time": "2021-07-20T09:33:17.568Z"
   },
   {
    "duration": 13,
    "start_time": "2021-07-20T09:33:17.585Z"
   },
   {
    "duration": 18,
    "start_time": "2021-07-20T09:33:17.601Z"
   },
   {
    "duration": 33,
    "start_time": "2021-07-20T09:33:17.622Z"
   },
   {
    "duration": 17,
    "start_time": "2021-07-20T09:33:17.657Z"
   },
   {
    "duration": 297,
    "start_time": "2021-07-20T09:33:17.677Z"
   },
   {
    "duration": 6,
    "start_time": "2021-07-20T09:33:17.977Z"
   },
   {
    "duration": 320,
    "start_time": "2021-07-20T09:33:17.986Z"
   },
   {
    "duration": 11,
    "start_time": "2021-07-20T09:33:18.308Z"
   },
   {
    "duration": 37,
    "start_time": "2021-07-20T09:33:18.321Z"
   },
   {
    "duration": 32,
    "start_time": "2021-07-20T09:33:18.360Z"
   },
   {
    "duration": 620,
    "start_time": "2021-07-20T09:33:18.395Z"
   },
   {
    "duration": 13,
    "start_time": "2021-07-20T09:33:19.018Z"
   },
   {
    "duration": 327,
    "start_time": "2021-07-20T09:33:19.033Z"
   },
   {
    "duration": 5,
    "start_time": "2021-07-20T09:33:19.363Z"
   },
   {
    "duration": 22,
    "start_time": "2021-07-20T09:33:19.371Z"
   },
   {
    "duration": 501,
    "start_time": "2021-07-20T09:33:19.396Z"
   },
   {
    "duration": 625,
    "start_time": "2021-07-20T09:33:19.899Z"
   },
   {
    "duration": 34,
    "start_time": "2021-07-20T09:33:20.527Z"
   },
   {
    "duration": 13,
    "start_time": "2021-07-20T10:03:16.148Z"
   },
   {
    "duration": 1130,
    "start_time": "2021-07-20T10:04:13.704Z"
   },
   {
    "duration": 1158,
    "start_time": "2021-07-20T10:04:41.305Z"
   },
   {
    "duration": 1027,
    "start_time": "2021-07-20T10:05:03.752Z"
   },
   {
    "duration": 393,
    "start_time": "2021-07-20T10:05:04.782Z"
   },
   {
    "duration": 16,
    "start_time": "2021-07-20T10:05:05.178Z"
   },
   {
    "duration": 21,
    "start_time": "2021-07-20T10:05:05.196Z"
   },
   {
    "duration": 35,
    "start_time": "2021-07-20T10:05:05.219Z"
   },
   {
    "duration": 16,
    "start_time": "2021-07-20T10:05:05.257Z"
   },
   {
    "duration": 16,
    "start_time": "2021-07-20T10:05:05.275Z"
   },
   {
    "duration": 8,
    "start_time": "2021-07-20T10:05:05.295Z"
   },
   {
    "duration": 52,
    "start_time": "2021-07-20T10:05:05.306Z"
   },
   {
    "duration": 13,
    "start_time": "2021-07-20T10:05:05.361Z"
   },
   {
    "duration": 43,
    "start_time": "2021-07-20T10:05:05.377Z"
   },
   {
    "duration": 60,
    "start_time": "2021-07-20T10:05:05.422Z"
   },
   {
    "duration": 11,
    "start_time": "2021-07-20T10:05:05.485Z"
   },
   {
    "duration": 57,
    "start_time": "2021-07-20T10:05:05.499Z"
   },
   {
    "duration": 14,
    "start_time": "2021-07-20T10:05:05.559Z"
   },
   {
    "duration": 34,
    "start_time": "2021-07-20T10:05:05.575Z"
   },
   {
    "duration": 45,
    "start_time": "2021-07-20T10:05:05.611Z"
   },
   {
    "duration": 25,
    "start_time": "2021-07-20T10:05:05.659Z"
   },
   {
    "duration": 17,
    "start_time": "2021-07-20T10:05:05.687Z"
   },
   {
    "duration": 26,
    "start_time": "2021-07-20T10:05:05.707Z"
   },
   {
    "duration": 59,
    "start_time": "2021-07-20T10:05:05.735Z"
   },
   {
    "duration": 32,
    "start_time": "2021-07-20T10:05:05.796Z"
   },
   {
    "duration": 16,
    "start_time": "2021-07-20T10:05:05.836Z"
   },
   {
    "duration": 1142,
    "start_time": "2021-07-20T10:05:05.855Z"
   },
   {
    "duration": 27,
    "start_time": "2021-07-20T10:05:07.000Z"
   },
   {
    "duration": 20,
    "start_time": "2021-07-20T10:05:07.030Z"
   },
   {
    "duration": 31,
    "start_time": "2021-07-20T10:05:07.052Z"
   },
   {
    "duration": 23,
    "start_time": "2021-07-20T10:05:07.086Z"
   },
   {
    "duration": 2524,
    "start_time": "2021-07-20T10:05:07.112Z"
   },
   {
    "duration": -382,
    "start_time": "2021-07-20T10:05:10.020Z"
   },
   {
    "duration": -393,
    "start_time": "2021-07-20T10:05:10.033Z"
   },
   {
    "duration": -394,
    "start_time": "2021-07-20T10:05:10.035Z"
   },
   {
    "duration": -395,
    "start_time": "2021-07-20T10:05:10.038Z"
   },
   {
    "duration": -397,
    "start_time": "2021-07-20T10:05:10.041Z"
   },
   {
    "duration": -398,
    "start_time": "2021-07-20T10:05:10.043Z"
   },
   {
    "duration": -398,
    "start_time": "2021-07-20T10:05:10.045Z"
   },
   {
    "duration": -399,
    "start_time": "2021-07-20T10:05:10.047Z"
   },
   {
    "duration": -400,
    "start_time": "2021-07-20T10:05:10.050Z"
   },
   {
    "duration": -401,
    "start_time": "2021-07-20T10:05:10.052Z"
   },
   {
    "duration": -402,
    "start_time": "2021-07-20T10:05:10.054Z"
   },
   {
    "duration": -403,
    "start_time": "2021-07-20T10:05:10.056Z"
   },
   {
    "duration": -405,
    "start_time": "2021-07-20T10:05:10.060Z"
   },
   {
    "duration": -410,
    "start_time": "2021-07-20T10:05:10.066Z"
   },
   {
    "duration": -412,
    "start_time": "2021-07-20T10:05:10.069Z"
   },
   {
    "duration": -416,
    "start_time": "2021-07-20T10:05:10.075Z"
   },
   {
    "duration": -417,
    "start_time": "2021-07-20T10:05:10.077Z"
   },
   {
    "duration": -418,
    "start_time": "2021-07-20T10:05:10.079Z"
   },
   {
    "duration": 1460,
    "start_time": "2021-07-20T10:06:07.785Z"
   },
   {
    "duration": 1534,
    "start_time": "2021-07-20T10:06:14.733Z"
   },
   {
    "duration": 244,
    "start_time": "2021-07-20T10:06:16.269Z"
   },
   {
    "duration": 16,
    "start_time": "2021-07-20T10:06:16.516Z"
   },
   {
    "duration": 18,
    "start_time": "2021-07-20T10:06:16.535Z"
   },
   {
    "duration": 29,
    "start_time": "2021-07-20T10:06:16.555Z"
   },
   {
    "duration": 18,
    "start_time": "2021-07-20T10:06:16.586Z"
   },
   {
    "duration": 15,
    "start_time": "2021-07-20T10:06:16.607Z"
   },
   {
    "duration": 9,
    "start_time": "2021-07-20T10:06:16.655Z"
   },
   {
    "duration": 17,
    "start_time": "2021-07-20T10:06:16.667Z"
   },
   {
    "duration": 14,
    "start_time": "2021-07-20T10:06:16.686Z"
   },
   {
    "duration": 77,
    "start_time": "2021-07-20T10:06:16.702Z"
   },
   {
    "duration": 46,
    "start_time": "2021-07-20T10:06:16.781Z"
   },
   {
    "duration": 29,
    "start_time": "2021-07-20T10:06:16.830Z"
   },
   {
    "duration": 31,
    "start_time": "2021-07-20T10:06:16.862Z"
   },
   {
    "duration": 14,
    "start_time": "2021-07-20T10:06:16.895Z"
   },
   {
    "duration": 61,
    "start_time": "2021-07-20T10:06:16.911Z"
   },
   {
    "duration": 15,
    "start_time": "2021-07-20T10:06:16.974Z"
   },
   {
    "duration": 16,
    "start_time": "2021-07-20T10:06:16.992Z"
   },
   {
    "duration": 12,
    "start_time": "2021-07-20T10:06:17.011Z"
   },
   {
    "duration": 43,
    "start_time": "2021-07-20T10:06:17.025Z"
   },
   {
    "duration": 51,
    "start_time": "2021-07-20T10:06:17.071Z"
   },
   {
    "duration": 35,
    "start_time": "2021-07-20T10:06:17.125Z"
   },
   {
    "duration": 16,
    "start_time": "2021-07-20T10:06:17.165Z"
   },
   {
    "duration": 1449,
    "start_time": "2021-07-20T10:06:17.185Z"
   },
   {
    "duration": 34,
    "start_time": "2021-07-20T10:06:18.636Z"
   },
   {
    "duration": 7,
    "start_time": "2021-07-20T10:06:18.672Z"
   },
   {
    "duration": 11,
    "start_time": "2021-07-20T10:06:18.681Z"
   },
   {
    "duration": 14,
    "start_time": "2021-07-20T10:06:18.694Z"
   },
   {
    "duration": 1440,
    "start_time": "2021-07-20T10:06:18.710Z"
   },
   {
    "duration": -397,
    "start_time": "2021-07-20T10:06:20.549Z"
   },
   {
    "duration": -401,
    "start_time": "2021-07-20T10:06:20.555Z"
   },
   {
    "duration": -402,
    "start_time": "2021-07-20T10:06:20.557Z"
   },
   {
    "duration": -404,
    "start_time": "2021-07-20T10:06:20.560Z"
   },
   {
    "duration": -404,
    "start_time": "2021-07-20T10:06:20.562Z"
   },
   {
    "duration": -405,
    "start_time": "2021-07-20T10:06:20.564Z"
   },
   {
    "duration": -408,
    "start_time": "2021-07-20T10:06:20.569Z"
   },
   {
    "duration": -412,
    "start_time": "2021-07-20T10:06:20.574Z"
   },
   {
    "duration": -416,
    "start_time": "2021-07-20T10:06:20.579Z"
   },
   {
    "duration": -419,
    "start_time": "2021-07-20T10:06:20.583Z"
   },
   {
    "duration": -424,
    "start_time": "2021-07-20T10:06:20.590Z"
   },
   {
    "duration": -425,
    "start_time": "2021-07-20T10:06:20.592Z"
   },
   {
    "duration": -426,
    "start_time": "2021-07-20T10:06:20.595Z"
   },
   {
    "duration": -428,
    "start_time": "2021-07-20T10:06:20.598Z"
   },
   {
    "duration": -430,
    "start_time": "2021-07-20T10:06:20.601Z"
   },
   {
    "duration": -430,
    "start_time": "2021-07-20T10:06:20.603Z"
   },
   {
    "duration": -432,
    "start_time": "2021-07-20T10:06:20.606Z"
   },
   {
    "duration": -434,
    "start_time": "2021-07-20T10:06:20.609Z"
   },
   {
    "duration": 1873,
    "start_time": "2021-07-20T10:07:29.674Z"
   },
   {
    "duration": 890,
    "start_time": "2021-07-20T10:07:34.939Z"
   },
   {
    "duration": 272,
    "start_time": "2021-07-20T10:07:35.832Z"
   },
   {
    "duration": 21,
    "start_time": "2021-07-20T10:07:36.107Z"
   },
   {
    "duration": 18,
    "start_time": "2021-07-20T10:07:36.131Z"
   },
   {
    "duration": 30,
    "start_time": "2021-07-20T10:07:36.152Z"
   },
   {
    "duration": 23,
    "start_time": "2021-07-20T10:07:36.184Z"
   },
   {
    "duration": 15,
    "start_time": "2021-07-20T10:07:36.210Z"
   },
   {
    "duration": 28,
    "start_time": "2021-07-20T10:07:36.228Z"
   },
   {
    "duration": 29,
    "start_time": "2021-07-20T10:07:36.260Z"
   },
   {
    "duration": 14,
    "start_time": "2021-07-20T10:07:36.291Z"
   },
   {
    "duration": 54,
    "start_time": "2021-07-20T10:07:36.308Z"
   },
   {
    "duration": 37,
    "start_time": "2021-07-20T10:07:36.365Z"
   },
   {
    "duration": 11,
    "start_time": "2021-07-20T10:07:36.405Z"
   },
   {
    "duration": 61,
    "start_time": "2021-07-20T10:07:36.419Z"
   },
   {
    "duration": 24,
    "start_time": "2021-07-20T10:07:36.482Z"
   },
   {
    "duration": 46,
    "start_time": "2021-07-20T10:07:36.508Z"
   },
   {
    "duration": 9,
    "start_time": "2021-07-20T10:07:36.557Z"
   },
   {
    "duration": 17,
    "start_time": "2021-07-20T10:07:36.568Z"
   },
   {
    "duration": 12,
    "start_time": "2021-07-20T10:07:36.587Z"
   },
   {
    "duration": 15,
    "start_time": "2021-07-20T10:07:36.602Z"
   },
   {
    "duration": 80,
    "start_time": "2021-07-20T10:07:36.620Z"
   },
   {
    "duration": 12,
    "start_time": "2021-07-20T10:07:36.702Z"
   },
   {
    "duration": 44,
    "start_time": "2021-07-20T10:07:36.719Z"
   },
   {
    "duration": 1260,
    "start_time": "2021-07-20T10:07:36.767Z"
   },
   {
    "duration": 31,
    "start_time": "2021-07-20T10:07:38.029Z"
   },
   {
    "duration": 27,
    "start_time": "2021-07-20T10:07:38.062Z"
   },
   {
    "duration": 26,
    "start_time": "2021-07-20T10:07:38.091Z"
   },
   {
    "duration": 21,
    "start_time": "2021-07-20T10:07:38.120Z"
   },
   {
    "duration": 2305,
    "start_time": "2021-07-20T10:07:38.143Z"
   },
   {
    "duration": -396,
    "start_time": "2021-07-20T10:07:40.847Z"
   },
   {
    "duration": -400,
    "start_time": "2021-07-20T10:07:40.853Z"
   },
   {
    "duration": -404,
    "start_time": "2021-07-20T10:07:40.858Z"
   },
   {
    "duration": -405,
    "start_time": "2021-07-20T10:07:40.861Z"
   },
   {
    "duration": -405,
    "start_time": "2021-07-20T10:07:40.863Z"
   },
   {
    "duration": -406,
    "start_time": "2021-07-20T10:07:40.865Z"
   },
   {
    "duration": -406,
    "start_time": "2021-07-20T10:07:40.867Z"
   },
   {
    "duration": -411,
    "start_time": "2021-07-20T10:07:40.874Z"
   },
   {
    "duration": -420,
    "start_time": "2021-07-20T10:07:40.884Z"
   },
   {
    "duration": -424,
    "start_time": "2021-07-20T10:07:40.890Z"
   },
   {
    "duration": -425,
    "start_time": "2021-07-20T10:07:40.892Z"
   },
   {
    "duration": -425,
    "start_time": "2021-07-20T10:07:40.894Z"
   },
   {
    "duration": -430,
    "start_time": "2021-07-20T10:07:40.900Z"
   },
   {
    "duration": -431,
    "start_time": "2021-07-20T10:07:40.903Z"
   },
   {
    "duration": -432,
    "start_time": "2021-07-20T10:07:40.905Z"
   },
   {
    "duration": -433,
    "start_time": "2021-07-20T10:07:40.908Z"
   },
   {
    "duration": -435,
    "start_time": "2021-07-20T10:07:40.911Z"
   },
   {
    "duration": -441,
    "start_time": "2021-07-20T10:07:40.919Z"
   },
   {
    "duration": 862,
    "start_time": "2021-07-20T10:08:21.095Z"
   },
   {
    "duration": 234,
    "start_time": "2021-07-20T10:08:21.960Z"
   },
   {
    "duration": 20,
    "start_time": "2021-07-20T10:08:22.197Z"
   },
   {
    "duration": 22,
    "start_time": "2021-07-20T10:08:22.220Z"
   },
   {
    "duration": 40,
    "start_time": "2021-07-20T10:08:22.244Z"
   },
   {
    "duration": 17,
    "start_time": "2021-07-20T10:08:22.286Z"
   },
   {
    "duration": 25,
    "start_time": "2021-07-20T10:08:22.306Z"
   },
   {
    "duration": 23,
    "start_time": "2021-07-20T10:08:22.334Z"
   },
   {
    "duration": 29,
    "start_time": "2021-07-20T10:08:22.360Z"
   },
   {
    "duration": 13,
    "start_time": "2021-07-20T10:08:22.392Z"
   },
   {
    "duration": 54,
    "start_time": "2021-07-20T10:08:22.407Z"
   },
   {
    "duration": 35,
    "start_time": "2021-07-20T10:08:22.464Z"
   },
   {
    "duration": 8,
    "start_time": "2021-07-20T10:08:22.502Z"
   },
   {
    "duration": 57,
    "start_time": "2021-07-20T10:08:22.513Z"
   },
   {
    "duration": 33,
    "start_time": "2021-07-20T10:08:22.573Z"
   },
   {
    "duration": 36,
    "start_time": "2021-07-20T10:08:22.608Z"
   },
   {
    "duration": 32,
    "start_time": "2021-07-20T10:08:22.647Z"
   },
   {
    "duration": 27,
    "start_time": "2021-07-20T10:08:22.682Z"
   },
   {
    "duration": 31,
    "start_time": "2021-07-20T10:08:22.711Z"
   },
   {
    "duration": 20,
    "start_time": "2021-07-20T10:08:22.745Z"
   },
   {
    "duration": 71,
    "start_time": "2021-07-20T10:08:22.767Z"
   },
   {
    "duration": 25,
    "start_time": "2021-07-20T10:08:22.841Z"
   },
   {
    "duration": 20,
    "start_time": "2021-07-20T10:08:22.871Z"
   },
   {
    "duration": 1236,
    "start_time": "2021-07-20T10:08:22.894Z"
   },
   {
    "duration": 27,
    "start_time": "2021-07-20T10:08:24.133Z"
   },
   {
    "duration": 5,
    "start_time": "2021-07-20T10:08:24.163Z"
   },
   {
    "duration": 12,
    "start_time": "2021-07-20T10:08:24.171Z"
   },
   {
    "duration": 21,
    "start_time": "2021-07-20T10:08:24.189Z"
   },
   {
    "duration": 2352,
    "start_time": "2021-07-20T10:08:24.213Z"
   },
   {
    "duration": -772,
    "start_time": "2021-07-20T10:08:27.341Z"
   },
   {
    "duration": -777,
    "start_time": "2021-07-20T10:08:27.348Z"
   },
   {
    "duration": -777,
    "start_time": "2021-07-20T10:08:27.351Z"
   },
   {
    "duration": -777,
    "start_time": "2021-07-20T10:08:27.353Z"
   },
   {
    "duration": -778,
    "start_time": "2021-07-20T10:08:27.356Z"
   },
   {
    "duration": -778,
    "start_time": "2021-07-20T10:08:27.358Z"
   },
   {
    "duration": -784,
    "start_time": "2021-07-20T10:08:27.366Z"
   },
   {
    "duration": -785,
    "start_time": "2021-07-20T10:08:27.369Z"
   },
   {
    "duration": -785,
    "start_time": "2021-07-20T10:08:27.371Z"
   },
   {
    "duration": -785,
    "start_time": "2021-07-20T10:08:27.373Z"
   },
   {
    "duration": -787,
    "start_time": "2021-07-20T10:08:27.377Z"
   },
   {
    "duration": -792,
    "start_time": "2021-07-20T10:08:27.384Z"
   },
   {
    "duration": -793,
    "start_time": "2021-07-20T10:08:27.387Z"
   },
   {
    "duration": -792,
    "start_time": "2021-07-20T10:08:27.389Z"
   },
   {
    "duration": -793,
    "start_time": "2021-07-20T10:08:27.392Z"
   },
   {
    "duration": -798,
    "start_time": "2021-07-20T10:08:27.399Z"
   },
   {
    "duration": -746,
    "start_time": "2021-07-20T10:08:27.402Z"
   },
   {
    "duration": -746,
    "start_time": "2021-07-20T10:08:27.404Z"
   },
   {
    "duration": 917,
    "start_time": "2021-07-20T10:10:00.550Z"
   },
   {
    "duration": 255,
    "start_time": "2021-07-20T10:10:01.470Z"
   },
   {
    "duration": 16,
    "start_time": "2021-07-20T10:10:01.728Z"
   },
   {
    "duration": 38,
    "start_time": "2021-07-20T10:10:01.748Z"
   },
   {
    "duration": 38,
    "start_time": "2021-07-20T10:10:01.789Z"
   },
   {
    "duration": 34,
    "start_time": "2021-07-20T10:10:01.830Z"
   },
   {
    "duration": 35,
    "start_time": "2021-07-20T10:10:01.867Z"
   },
   {
    "duration": 63,
    "start_time": "2021-07-20T10:10:01.906Z"
   },
   {
    "duration": 21,
    "start_time": "2021-07-20T10:10:01.973Z"
   },
   {
    "duration": 61,
    "start_time": "2021-07-20T10:10:01.997Z"
   },
   {
    "duration": 73,
    "start_time": "2021-07-20T10:10:02.062Z"
   },
   {
    "duration": 43,
    "start_time": "2021-07-20T10:10:02.138Z"
   },
   {
    "duration": 10,
    "start_time": "2021-07-20T10:10:02.184Z"
   },
   {
    "duration": 51,
    "start_time": "2021-07-20T10:10:02.197Z"
   },
   {
    "duration": 31,
    "start_time": "2021-07-20T10:10:02.251Z"
   },
   {
    "duration": 79,
    "start_time": "2021-07-20T10:10:02.285Z"
   },
   {
    "duration": 43,
    "start_time": "2021-07-20T10:10:02.367Z"
   },
   {
    "duration": 32,
    "start_time": "2021-07-20T10:10:02.413Z"
   },
   {
    "duration": 36,
    "start_time": "2021-07-20T10:10:02.448Z"
   },
   {
    "duration": 36,
    "start_time": "2021-07-20T10:10:02.487Z"
   },
   {
    "duration": 81,
    "start_time": "2021-07-20T10:10:02.526Z"
   },
   {
    "duration": 21,
    "start_time": "2021-07-20T10:10:02.610Z"
   },
   {
    "duration": 44,
    "start_time": "2021-07-20T10:10:02.637Z"
   },
   {
    "duration": 1314,
    "start_time": "2021-07-20T10:10:02.684Z"
   },
   {
    "duration": 44,
    "start_time": "2021-07-20T10:10:04.000Z"
   },
   {
    "duration": 35,
    "start_time": "2021-07-20T10:10:04.047Z"
   },
   {
    "duration": 24,
    "start_time": "2021-07-20T10:10:04.084Z"
   },
   {
    "duration": 25,
    "start_time": "2021-07-20T10:10:04.111Z"
   },
   {
    "duration": 1595,
    "start_time": "2021-07-20T10:10:04.139Z"
   },
   {
    "duration": -385,
    "start_time": "2021-07-20T10:10:06.121Z"
   },
   {
    "duration": -385,
    "start_time": "2021-07-20T10:10:06.123Z"
   },
   {
    "duration": -386,
    "start_time": "2021-07-20T10:10:06.125Z"
   },
   {
    "duration": -388,
    "start_time": "2021-07-20T10:10:06.128Z"
   },
   {
    "duration": -392,
    "start_time": "2021-07-20T10:10:06.134Z"
   },
   {
    "duration": -394,
    "start_time": "2021-07-20T10:10:06.137Z"
   },
   {
    "duration": -394,
    "start_time": "2021-07-20T10:10:06.139Z"
   },
   {
    "duration": -395,
    "start_time": "2021-07-20T10:10:06.141Z"
   },
   {
    "duration": -396,
    "start_time": "2021-07-20T10:10:06.143Z"
   },
   {
    "duration": -397,
    "start_time": "2021-07-20T10:10:06.145Z"
   },
   {
    "duration": -411,
    "start_time": "2021-07-20T10:10:06.161Z"
   },
   {
    "duration": -416,
    "start_time": "2021-07-20T10:10:06.167Z"
   },
   {
    "duration": -417,
    "start_time": "2021-07-20T10:10:06.169Z"
   },
   {
    "duration": -407,
    "start_time": "2021-07-20T10:10:06.172Z"
   },
   {
    "duration": -407,
    "start_time": "2021-07-20T10:10:06.174Z"
   },
   {
    "duration": -408,
    "start_time": "2021-07-20T10:10:06.176Z"
   },
   {
    "duration": -408,
    "start_time": "2021-07-20T10:10:06.178Z"
   },
   {
    "duration": -411,
    "start_time": "2021-07-20T10:10:06.182Z"
   },
   {
    "duration": 10,
    "start_time": "2021-07-20T10:11:22.306Z"
   },
   {
    "duration": 13,
    "start_time": "2021-07-20T10:11:46.594Z"
   },
   {
    "duration": 65,
    "start_time": "2021-07-20T10:11:50.371Z"
   },
   {
    "duration": 73,
    "start_time": "2021-07-20T10:11:57.012Z"
   },
   {
    "duration": 74,
    "start_time": "2021-07-20T10:12:23.029Z"
   },
   {
    "duration": 869,
    "start_time": "2021-07-20T10:12:42.707Z"
   },
   {
    "duration": 272,
    "start_time": "2021-07-20T10:12:43.580Z"
   },
   {
    "duration": 24,
    "start_time": "2021-07-20T10:12:43.856Z"
   },
   {
    "duration": 19,
    "start_time": "2021-07-20T10:12:43.883Z"
   },
   {
    "duration": 56,
    "start_time": "2021-07-20T10:12:43.904Z"
   },
   {
    "duration": 18,
    "start_time": "2021-07-20T10:12:43.964Z"
   },
   {
    "duration": 17,
    "start_time": "2021-07-20T10:12:43.984Z"
   },
   {
    "duration": 51,
    "start_time": "2021-07-20T10:12:44.008Z"
   },
   {
    "duration": 16,
    "start_time": "2021-07-20T10:12:44.063Z"
   },
   {
    "duration": 15,
    "start_time": "2021-07-20T10:12:44.082Z"
   },
   {
    "duration": 78,
    "start_time": "2021-07-20T10:12:44.099Z"
   },
   {
    "duration": 35,
    "start_time": "2021-07-20T10:12:44.180Z"
   },
   {
    "duration": 8,
    "start_time": "2021-07-20T10:12:44.217Z"
   },
   {
    "duration": 58,
    "start_time": "2021-07-20T10:12:44.227Z"
   },
   {
    "duration": 14,
    "start_time": "2021-07-20T10:12:44.287Z"
   },
   {
    "duration": 52,
    "start_time": "2021-07-20T10:12:44.303Z"
   },
   {
    "duration": 19,
    "start_time": "2021-07-20T10:12:44.358Z"
   },
   {
    "duration": 14,
    "start_time": "2021-07-20T10:12:44.380Z"
   },
   {
    "duration": 14,
    "start_time": "2021-07-20T10:12:44.396Z"
   },
   {
    "duration": 48,
    "start_time": "2021-07-20T10:12:44.413Z"
   },
   {
    "duration": 66,
    "start_time": "2021-07-20T10:12:44.464Z"
   },
   {
    "duration": 26,
    "start_time": "2021-07-20T10:12:44.532Z"
   },
   {
    "duration": 20,
    "start_time": "2021-07-20T10:12:44.566Z"
   },
   {
    "duration": 1397,
    "start_time": "2021-07-20T10:12:44.588Z"
   },
   {
    "duration": 24,
    "start_time": "2021-07-20T10:12:45.987Z"
   },
   {
    "duration": 18,
    "start_time": "2021-07-20T10:12:46.014Z"
   },
   {
    "duration": 94,
    "start_time": "2021-07-20T10:12:46.035Z"
   },
   {
    "duration": 36,
    "start_time": "2021-07-20T10:12:46.132Z"
   },
   {
    "duration": 17,
    "start_time": "2021-07-20T10:12:46.171Z"
   },
   {
    "duration": 22,
    "start_time": "2021-07-20T10:12:46.190Z"
   },
   {
    "duration": 14,
    "start_time": "2021-07-20T10:12:46.215Z"
   },
   {
    "duration": 1661,
    "start_time": "2021-07-20T10:12:46.232Z"
   },
   {
    "duration": -372,
    "start_time": "2021-07-20T10:12:48.268Z"
   },
   {
    "duration": -376,
    "start_time": "2021-07-20T10:12:48.274Z"
   },
   {
    "duration": -377,
    "start_time": "2021-07-20T10:12:48.277Z"
   },
   {
    "duration": -379,
    "start_time": "2021-07-20T10:12:48.281Z"
   },
   {
    "duration": -379,
    "start_time": "2021-07-20T10:12:48.283Z"
   },
   {
    "duration": -379,
    "start_time": "2021-07-20T10:12:48.286Z"
   },
   {
    "duration": -379,
    "start_time": "2021-07-20T10:12:48.288Z"
   },
   {
    "duration": -380,
    "start_time": "2021-07-20T10:12:48.291Z"
   },
   {
    "duration": -380,
    "start_time": "2021-07-20T10:12:48.293Z"
   },
   {
    "duration": -380,
    "start_time": "2021-07-20T10:12:48.295Z"
   },
   {
    "duration": -385,
    "start_time": "2021-07-20T10:12:48.302Z"
   },
   {
    "duration": -386,
    "start_time": "2021-07-20T10:12:48.305Z"
   },
   {
    "duration": -385,
    "start_time": "2021-07-20T10:12:48.307Z"
   },
   {
    "duration": -385,
    "start_time": "2021-07-20T10:12:48.310Z"
   },
   {
    "duration": -385,
    "start_time": "2021-07-20T10:12:48.312Z"
   },
   {
    "duration": -386,
    "start_time": "2021-07-20T10:12:48.315Z"
   },
   {
    "duration": -387,
    "start_time": "2021-07-20T10:12:48.318Z"
   },
   {
    "duration": -402,
    "start_time": "2021-07-20T10:12:48.335Z"
   },
   {
    "duration": 66,
    "start_time": "2021-07-20T10:14:09.080Z"
   },
   {
    "duration": 916,
    "start_time": "2021-07-20T10:14:14.865Z"
   },
   {
    "duration": 382,
    "start_time": "2021-07-20T10:14:15.784Z"
   },
   {
    "duration": 21,
    "start_time": "2021-07-20T10:14:16.170Z"
   },
   {
    "duration": 26,
    "start_time": "2021-07-20T10:14:16.194Z"
   },
   {
    "duration": 47,
    "start_time": "2021-07-20T10:14:16.223Z"
   },
   {
    "duration": 17,
    "start_time": "2021-07-20T10:14:16.272Z"
   },
   {
    "duration": 20,
    "start_time": "2021-07-20T10:14:16.291Z"
   },
   {
    "duration": 42,
    "start_time": "2021-07-20T10:14:16.315Z"
   },
   {
    "duration": 40,
    "start_time": "2021-07-20T10:14:16.361Z"
   },
   {
    "duration": 28,
    "start_time": "2021-07-20T10:14:16.403Z"
   },
   {
    "duration": 74,
    "start_time": "2021-07-20T10:14:16.433Z"
   },
   {
    "duration": 49,
    "start_time": "2021-07-20T10:14:16.511Z"
   },
   {
    "duration": 9,
    "start_time": "2021-07-20T10:14:16.565Z"
   },
   {
    "duration": 42,
    "start_time": "2021-07-20T10:14:16.576Z"
   },
   {
    "duration": 14,
    "start_time": "2021-07-20T10:14:16.621Z"
   },
   {
    "duration": 59,
    "start_time": "2021-07-20T10:14:16.637Z"
   },
   {
    "duration": 45,
    "start_time": "2021-07-20T10:14:16.698Z"
   },
   {
    "duration": 36,
    "start_time": "2021-07-20T10:14:16.745Z"
   },
   {
    "duration": 37,
    "start_time": "2021-07-20T10:14:16.783Z"
   },
   {
    "duration": 21,
    "start_time": "2021-07-20T10:14:16.822Z"
   },
   {
    "duration": 75,
    "start_time": "2021-07-20T10:14:16.846Z"
   },
   {
    "duration": 24,
    "start_time": "2021-07-20T10:14:16.924Z"
   },
   {
    "duration": 33,
    "start_time": "2021-07-20T10:14:16.955Z"
   },
   {
    "duration": 1283,
    "start_time": "2021-07-20T10:14:16.991Z"
   },
   {
    "duration": 28,
    "start_time": "2021-07-20T10:14:18.276Z"
   },
   {
    "duration": 28,
    "start_time": "2021-07-20T10:14:18.306Z"
   },
   {
    "duration": 87,
    "start_time": "2021-07-20T10:14:18.337Z"
   },
   {
    "duration": 37,
    "start_time": "2021-07-20T10:14:18.427Z"
   },
   {
    "duration": 20,
    "start_time": "2021-07-20T10:14:18.468Z"
   },
   {
    "duration": 39,
    "start_time": "2021-07-20T10:14:18.491Z"
   },
   {
    "duration": 29,
    "start_time": "2021-07-20T10:14:18.532Z"
   },
   {
    "duration": 1512,
    "start_time": "2021-07-20T10:14:18.564Z"
   },
   {
    "duration": -354,
    "start_time": "2021-07-20T10:14:20.434Z"
   },
   {
    "duration": -376,
    "start_time": "2021-07-20T10:14:20.457Z"
   },
   {
    "duration": -381,
    "start_time": "2021-07-20T10:14:20.464Z"
   },
   {
    "duration": -382,
    "start_time": "2021-07-20T10:14:20.466Z"
   },
   {
    "duration": -384,
    "start_time": "2021-07-20T10:14:20.469Z"
   },
   {
    "duration": -385,
    "start_time": "2021-07-20T10:14:20.472Z"
   },
   {
    "duration": -386,
    "start_time": "2021-07-20T10:14:20.474Z"
   },
   {
    "duration": -388,
    "start_time": "2021-07-20T10:14:20.477Z"
   },
   {
    "duration": -389,
    "start_time": "2021-07-20T10:14:20.479Z"
   },
   {
    "duration": -389,
    "start_time": "2021-07-20T10:14:20.481Z"
   },
   {
    "duration": -391,
    "start_time": "2021-07-20T10:14:20.484Z"
   },
   {
    "duration": -392,
    "start_time": "2021-07-20T10:14:20.486Z"
   },
   {
    "duration": -394,
    "start_time": "2021-07-20T10:14:20.489Z"
   },
   {
    "duration": -394,
    "start_time": "2021-07-20T10:14:20.491Z"
   },
   {
    "duration": -396,
    "start_time": "2021-07-20T10:14:20.494Z"
   },
   {
    "duration": -397,
    "start_time": "2021-07-20T10:14:20.496Z"
   },
   {
    "duration": -399,
    "start_time": "2021-07-20T10:14:20.499Z"
   },
   {
    "duration": -400,
    "start_time": "2021-07-20T10:14:20.501Z"
   },
   {
    "duration": 118,
    "start_time": "2021-07-20T10:15:12.039Z"
   },
   {
    "duration": 307,
    "start_time": "2021-07-20T10:15:17.703Z"
   },
   {
    "duration": 304,
    "start_time": "2021-07-20T10:15:26.247Z"
   },
   {
    "duration": 7,
    "start_time": "2021-07-20T10:15:45.937Z"
   },
   {
    "duration": 7,
    "start_time": "2021-07-20T10:15:57.442Z"
   },
   {
    "duration": 15,
    "start_time": "2021-07-20T10:15:58.106Z"
   },
   {
    "duration": 5,
    "start_time": "2021-07-20T10:19:15.486Z"
   },
   {
    "duration": 14,
    "start_time": "2021-07-20T10:19:18.726Z"
   },
   {
    "duration": 881,
    "start_time": "2021-07-20T10:21:03.580Z"
   },
   {
    "duration": 351,
    "start_time": "2021-07-20T10:21:04.468Z"
   },
   {
    "duration": 23,
    "start_time": "2021-07-20T10:21:04.822Z"
   },
   {
    "duration": 30,
    "start_time": "2021-07-20T10:21:04.848Z"
   },
   {
    "duration": 31,
    "start_time": "2021-07-20T10:21:04.881Z"
   },
   {
    "duration": 43,
    "start_time": "2021-07-20T10:21:04.915Z"
   },
   {
    "duration": 18,
    "start_time": "2021-07-20T10:21:04.962Z"
   },
   {
    "duration": 19,
    "start_time": "2021-07-20T10:21:04.984Z"
   },
   {
    "duration": 25,
    "start_time": "2021-07-20T10:21:05.006Z"
   },
   {
    "duration": 32,
    "start_time": "2021-07-20T10:21:05.034Z"
   },
   {
    "duration": 44,
    "start_time": "2021-07-20T10:21:05.070Z"
   },
   {
    "duration": 73,
    "start_time": "2021-07-20T10:21:05.116Z"
   },
   {
    "duration": 8,
    "start_time": "2021-07-20T10:21:05.192Z"
   },
   {
    "duration": 57,
    "start_time": "2021-07-20T10:21:05.202Z"
   },
   {
    "duration": 22,
    "start_time": "2021-07-20T10:21:05.262Z"
   },
   {
    "duration": 38,
    "start_time": "2021-07-20T10:21:05.286Z"
   },
   {
    "duration": 20,
    "start_time": "2021-07-20T10:21:05.327Z"
   },
   {
    "duration": 30,
    "start_time": "2021-07-20T10:21:05.349Z"
   },
   {
    "duration": 20,
    "start_time": "2021-07-20T10:21:05.382Z"
   },
   {
    "duration": 30,
    "start_time": "2021-07-20T10:21:05.405Z"
   },
   {
    "duration": 69,
    "start_time": "2021-07-20T10:21:05.438Z"
   },
   {
    "duration": 22,
    "start_time": "2021-07-20T10:21:05.510Z"
   },
   {
    "duration": 26,
    "start_time": "2021-07-20T10:21:05.538Z"
   },
   {
    "duration": 1294,
    "start_time": "2021-07-20T10:21:05.568Z"
   },
   {
    "duration": 14,
    "start_time": "2021-07-20T10:21:06.865Z"
   },
   {
    "duration": 30,
    "start_time": "2021-07-20T10:21:06.881Z"
   },
   {
    "duration": 86,
    "start_time": "2021-07-20T10:21:06.913Z"
   },
   {
    "duration": 25,
    "start_time": "2021-07-20T10:21:07.002Z"
   },
   {
    "duration": 17,
    "start_time": "2021-07-20T10:21:07.030Z"
   },
   {
    "duration": 26,
    "start_time": "2021-07-20T10:21:07.050Z"
   },
   {
    "duration": 26,
    "start_time": "2021-07-20T10:21:07.078Z"
   },
   {
    "duration": 18,
    "start_time": "2021-07-20T10:21:07.106Z"
   },
   {
    "duration": 22,
    "start_time": "2021-07-20T10:21:07.126Z"
   },
   {
    "duration": 36,
    "start_time": "2021-07-20T10:21:07.151Z"
   },
   {
    "duration": 8,
    "start_time": "2021-07-20T10:21:07.189Z"
   },
   {
    "duration": 20,
    "start_time": "2021-07-20T10:21:07.199Z"
   },
   {
    "duration": 309,
    "start_time": "2021-07-20T10:21:07.221Z"
   },
   {
    "duration": 22,
    "start_time": "2021-07-20T10:21:07.532Z"
   },
   {
    "duration": 383,
    "start_time": "2021-07-20T10:21:07.557Z"
   },
   {
    "duration": 21,
    "start_time": "2021-07-20T10:21:07.942Z"
   },
   {
    "duration": 20,
    "start_time": "2021-07-20T10:21:07.968Z"
   },
   {
    "duration": 31,
    "start_time": "2021-07-20T10:21:07.991Z"
   },
   {
    "duration": 613,
    "start_time": "2021-07-20T10:21:08.025Z"
   },
   {
    "duration": 22,
    "start_time": "2021-07-20T10:21:08.641Z"
   },
   {
    "duration": 313,
    "start_time": "2021-07-20T10:21:08.666Z"
   },
   {
    "duration": 6,
    "start_time": "2021-07-20T10:21:08.981Z"
   },
   {
    "duration": 28,
    "start_time": "2021-07-20T10:21:08.989Z"
   },
   {
    "duration": 347,
    "start_time": "2021-07-20T10:21:09.020Z"
   },
   {
    "duration": 699,
    "start_time": "2021-07-20T10:21:09.371Z"
   },
   {
    "duration": 22,
    "start_time": "2021-07-20T10:21:10.073Z"
   },
   {
    "duration": 13,
    "start_time": "2021-07-20T10:56:52.032Z"
   },
   {
    "duration": 12,
    "start_time": "2021-07-20T10:57:05.708Z"
   },
   {
    "duration": 494,
    "start_time": "2021-07-20T10:57:10.064Z"
   },
   {
    "duration": 13,
    "start_time": "2021-07-20T10:57:18.681Z"
   },
   {
    "duration": 16,
    "start_time": "2021-07-20T10:58:06.228Z"
   },
   {
    "duration": 14,
    "start_time": "2021-07-20T10:58:11.964Z"
   },
   {
    "duration": 479,
    "start_time": "2021-07-20T10:58:16.004Z"
   },
   {
    "duration": 331,
    "start_time": "2021-07-20T10:58:23.964Z"
   },
   {
    "duration": 288,
    "start_time": "2021-07-20T10:58:42.390Z"
   },
   {
    "duration": 280,
    "start_time": "2021-07-20T11:00:22.381Z"
   },
   {
    "duration": 297,
    "start_time": "2021-07-20T11:02:13.860Z"
   },
   {
    "duration": 15,
    "start_time": "2021-07-20T11:05:17.720Z"
   },
   {
    "duration": 908,
    "start_time": "2021-07-20T11:05:29.982Z"
   },
   {
    "duration": 307,
    "start_time": "2021-07-20T11:05:30.893Z"
   },
   {
    "duration": 21,
    "start_time": "2021-07-20T11:05:31.203Z"
   },
   {
    "duration": 19,
    "start_time": "2021-07-20T11:05:31.227Z"
   },
   {
    "duration": 37,
    "start_time": "2021-07-20T11:05:31.248Z"
   },
   {
    "duration": 19,
    "start_time": "2021-07-20T11:05:31.288Z"
   },
   {
    "duration": 20,
    "start_time": "2021-07-20T11:05:31.310Z"
   },
   {
    "duration": 11,
    "start_time": "2021-07-20T11:05:31.356Z"
   },
   {
    "duration": 28,
    "start_time": "2021-07-20T11:05:31.370Z"
   },
   {
    "duration": 17,
    "start_time": "2021-07-20T11:05:31.400Z"
   },
   {
    "duration": 63,
    "start_time": "2021-07-20T11:05:31.419Z"
   },
   {
    "duration": 35,
    "start_time": "2021-07-20T11:05:31.485Z"
   },
   {
    "duration": 34,
    "start_time": "2021-07-20T11:05:31.522Z"
   },
   {
    "duration": 29,
    "start_time": "2021-07-20T11:05:31.558Z"
   },
   {
    "duration": 17,
    "start_time": "2021-07-20T11:05:31.591Z"
   },
   {
    "duration": 61,
    "start_time": "2021-07-20T11:05:31.611Z"
   },
   {
    "duration": 15,
    "start_time": "2021-07-20T11:05:31.676Z"
   },
   {
    "duration": 19,
    "start_time": "2021-07-20T11:05:31.694Z"
   },
   {
    "duration": 44,
    "start_time": "2021-07-20T11:05:31.717Z"
   },
   {
    "duration": 23,
    "start_time": "2021-07-20T11:05:31.765Z"
   },
   {
    "duration": 104,
    "start_time": "2021-07-20T11:05:31.791Z"
   },
   {
    "duration": 17,
    "start_time": "2021-07-20T11:05:31.898Z"
   },
   {
    "duration": 46,
    "start_time": "2021-07-20T11:05:31.925Z"
   },
   {
    "duration": 2133,
    "start_time": "2021-07-20T11:05:31.976Z"
   },
   {
    "duration": 14,
    "start_time": "2021-07-20T11:05:34.112Z"
   },
   {
    "duration": 46,
    "start_time": "2021-07-20T11:05:34.129Z"
   },
   {
    "duration": 125,
    "start_time": "2021-07-20T11:05:34.178Z"
   },
   {
    "duration": 48,
    "start_time": "2021-07-20T11:05:34.306Z"
   },
   {
    "duration": 5,
    "start_time": "2021-07-20T11:05:34.357Z"
   },
   {
    "duration": 10,
    "start_time": "2021-07-20T11:05:34.364Z"
   },
   {
    "duration": 12,
    "start_time": "2021-07-20T11:05:34.377Z"
   },
   {
    "duration": 9,
    "start_time": "2021-07-20T11:05:34.392Z"
   },
   {
    "duration": 53,
    "start_time": "2021-07-20T11:05:34.404Z"
   },
   {
    "duration": 26,
    "start_time": "2021-07-20T11:05:34.460Z"
   },
   {
    "duration": 6,
    "start_time": "2021-07-20T11:05:34.488Z"
   },
   {
    "duration": 17,
    "start_time": "2021-07-20T11:05:34.497Z"
   },
   {
    "duration": 323,
    "start_time": "2021-07-20T11:05:34.517Z"
   },
   {
    "duration": 17,
    "start_time": "2021-07-20T11:05:34.843Z"
   },
   {
    "duration": 577,
    "start_time": "2021-07-20T11:05:34.863Z"
   },
   {
    "duration": 510,
    "start_time": "2021-07-20T11:05:35.444Z"
   },
   {
    "duration": 16,
    "start_time": "2021-07-20T11:05:35.958Z"
   },
   {
    "duration": 23,
    "start_time": "2021-07-20T11:05:35.977Z"
   },
   {
    "duration": 77,
    "start_time": "2021-07-20T11:05:36.004Z"
   },
   {
    "duration": 809,
    "start_time": "2021-07-20T11:05:36.084Z"
   },
   {
    "duration": 17,
    "start_time": "2021-07-20T11:05:36.896Z"
   },
   {
    "duration": 309,
    "start_time": "2021-07-20T11:05:36.916Z"
   },
   {
    "duration": 5,
    "start_time": "2021-07-20T11:05:37.228Z"
   },
   {
    "duration": 31,
    "start_time": "2021-07-20T11:05:37.236Z"
   },
   {
    "duration": 312,
    "start_time": "2021-07-20T11:05:37.270Z"
   },
   {
    "duration": 768,
    "start_time": "2021-07-20T11:05:37.585Z"
   },
   {
    "duration": 21,
    "start_time": "2021-07-20T11:05:38.356Z"
   },
   {
    "duration": 18,
    "start_time": "2021-07-20T11:14:39.405Z"
   },
   {
    "duration": 878,
    "start_time": "2021-07-20T11:14:45.030Z"
   },
   {
    "duration": 273,
    "start_time": "2021-07-20T11:14:45.911Z"
   },
   {
    "duration": 20,
    "start_time": "2021-07-20T11:14:46.187Z"
   },
   {
    "duration": 18,
    "start_time": "2021-07-20T11:14:46.210Z"
   },
   {
    "duration": 28,
    "start_time": "2021-07-20T11:14:46.231Z"
   },
   {
    "duration": 19,
    "start_time": "2021-07-20T11:14:46.262Z"
   },
   {
    "duration": 16,
    "start_time": "2021-07-20T11:14:46.283Z"
   },
   {
    "duration": 28,
    "start_time": "2021-07-20T11:14:46.302Z"
   },
   {
    "duration": 34,
    "start_time": "2021-07-20T11:14:46.333Z"
   },
   {
    "duration": 23,
    "start_time": "2021-07-20T11:14:46.369Z"
   },
   {
    "duration": 60,
    "start_time": "2021-07-20T11:14:46.394Z"
   },
   {
    "duration": 36,
    "start_time": "2021-07-20T11:14:46.457Z"
   },
   {
    "duration": 11,
    "start_time": "2021-07-20T11:14:46.496Z"
   },
   {
    "duration": 63,
    "start_time": "2021-07-20T11:14:46.509Z"
   },
   {
    "duration": 17,
    "start_time": "2021-07-20T11:14:46.575Z"
   },
   {
    "duration": 27,
    "start_time": "2021-07-20T11:14:46.596Z"
   },
   {
    "duration": 10,
    "start_time": "2021-07-20T11:14:46.656Z"
   },
   {
    "duration": 17,
    "start_time": "2021-07-20T11:14:46.669Z"
   },
   {
    "duration": 18,
    "start_time": "2021-07-20T11:14:46.689Z"
   },
   {
    "duration": 44,
    "start_time": "2021-07-20T11:14:46.710Z"
   },
   {
    "duration": 53,
    "start_time": "2021-07-20T11:14:46.757Z"
   },
   {
    "duration": 19,
    "start_time": "2021-07-20T11:14:46.812Z"
   },
   {
    "duration": 15,
    "start_time": "2021-07-20T11:14:46.860Z"
   },
   {
    "duration": 1246,
    "start_time": "2021-07-20T11:14:46.879Z"
   },
   {
    "duration": 12,
    "start_time": "2021-07-20T11:14:48.129Z"
   },
   {
    "duration": 17,
    "start_time": "2021-07-20T11:14:48.156Z"
   },
   {
    "duration": 85,
    "start_time": "2021-07-20T11:14:48.177Z"
   },
   {
    "duration": 22,
    "start_time": "2021-07-20T11:14:48.265Z"
   },
   {
    "duration": 11,
    "start_time": "2021-07-20T11:14:48.290Z"
   },
   {
    "duration": 17,
    "start_time": "2021-07-20T11:14:48.304Z"
   },
   {
    "duration": 32,
    "start_time": "2021-07-20T11:14:48.324Z"
   },
   {
    "duration": 9,
    "start_time": "2021-07-20T11:14:48.359Z"
   },
   {
    "duration": 14,
    "start_time": "2021-07-20T11:14:48.370Z"
   },
   {
    "duration": 25,
    "start_time": "2021-07-20T11:14:48.386Z"
   },
   {
    "duration": 9,
    "start_time": "2021-07-20T11:14:48.413Z"
   },
   {
    "duration": 31,
    "start_time": "2021-07-20T11:14:48.424Z"
   },
   {
    "duration": 296,
    "start_time": "2021-07-20T11:14:48.458Z"
   },
   {
    "duration": 7,
    "start_time": "2021-07-20T11:14:48.756Z"
   },
   {
    "duration": 353,
    "start_time": "2021-07-20T11:14:48.765Z"
   },
   {
    "duration": 308,
    "start_time": "2021-07-20T11:14:49.120Z"
   },
   {
    "duration": 11,
    "start_time": "2021-07-20T11:14:49.430Z"
   },
   {
    "duration": 26,
    "start_time": "2021-07-20T11:14:49.443Z"
   },
   {
    "duration": 32,
    "start_time": "2021-07-20T11:14:49.472Z"
   },
   {
    "duration": 586,
    "start_time": "2021-07-20T11:14:49.507Z"
   },
   {
    "duration": 12,
    "start_time": "2021-07-20T11:14:50.096Z"
   },
   {
    "duration": 309,
    "start_time": "2021-07-20T11:14:50.110Z"
   },
   {
    "duration": 5,
    "start_time": "2021-07-20T11:14:50.422Z"
   },
   {
    "duration": 33,
    "start_time": "2021-07-20T11:14:50.429Z"
   },
   {
    "duration": 297,
    "start_time": "2021-07-20T11:14:50.464Z"
   },
   {
    "duration": 656,
    "start_time": "2021-07-20T11:14:50.763Z"
   },
   {
    "duration": 35,
    "start_time": "2021-07-20T11:14:51.421Z"
   },
   {
    "duration": 17,
    "start_time": "2021-07-20T11:47:18.126Z"
   },
   {
    "duration": 520,
    "start_time": "2021-07-20T11:47:23.342Z"
   },
   {
    "duration": 507,
    "start_time": "2021-07-20T11:48:13.154Z"
   },
   {
    "duration": 602,
    "start_time": "2021-07-20T11:49:22.831Z"
   },
   {
    "duration": 505,
    "start_time": "2021-07-20T11:49:37.815Z"
   },
   {
    "duration": 14,
    "start_time": "2021-07-20T12:01:16.189Z"
   },
   {
    "duration": 452,
    "start_time": "2021-07-20T12:29:31.675Z"
   },
   {
    "duration": 300,
    "start_time": "2021-07-20T12:29:38.376Z"
   },
   {
    "duration": 501,
    "start_time": "2021-07-20T12:30:29.666Z"
   },
   {
    "duration": 286,
    "start_time": "2021-07-20T12:31:45.431Z"
   },
   {
    "duration": 227,
    "start_time": "2021-07-20T12:31:55.711Z"
   },
   {
    "duration": 532,
    "start_time": "2021-07-20T12:32:45.290Z"
   },
   {
    "duration": 9,
    "start_time": "2021-07-20T12:36:13.887Z"
   },
   {
    "duration": 8,
    "start_time": "2021-07-20T12:36:18.415Z"
   },
   {
    "duration": 8,
    "start_time": "2021-07-20T12:36:21.383Z"
   },
   {
    "duration": 529,
    "start_time": "2021-07-20T12:37:52.943Z"
   },
   {
    "duration": 1149,
    "start_time": "2021-07-20T12:38:23.111Z"
   },
   {
    "duration": 288,
    "start_time": "2021-07-20T12:45:44.908Z"
   },
   {
    "duration": 284,
    "start_time": "2021-07-20T12:46:07.621Z"
   },
   {
    "duration": 42,
    "start_time": "2021-07-20T12:46:13.165Z"
   },
   {
    "duration": 55,
    "start_time": "2021-07-20T12:46:20.461Z"
   },
   {
    "duration": 389,
    "start_time": "2021-07-20T12:46:35.803Z"
   },
   {
    "duration": 2109,
    "start_time": "2021-07-20T12:52:27.478Z"
   },
   {
    "duration": 356,
    "start_time": "2021-07-20T12:52:38.895Z"
   },
   {
    "duration": 150,
    "start_time": "2021-07-20T12:53:20.744Z"
   },
   {
    "duration": 79,
    "start_time": "2021-07-20T12:53:37.898Z"
   },
   {
    "duration": 15,
    "start_time": "2021-07-20T12:53:46.331Z"
   },
   {
    "duration": 292,
    "start_time": "2021-07-20T12:55:54.418Z"
   },
   {
    "duration": 363,
    "start_time": "2021-07-20T12:56:04.730Z"
   },
   {
    "duration": 62,
    "start_time": "2021-07-20T12:56:14.795Z"
   },
   {
    "duration": 99,
    "start_time": "2021-07-20T13:00:43.948Z"
   },
   {
    "duration": 325,
    "start_time": "2021-07-20T13:01:07.813Z"
   },
   {
    "duration": 333,
    "start_time": "2021-07-20T13:01:15.310Z"
   },
   {
    "duration": 1005,
    "start_time": "2021-07-20T13:01:30.974Z"
   },
   {
    "duration": 390,
    "start_time": "2021-07-20T13:19:20.954Z"
   },
   {
    "duration": 331,
    "start_time": "2021-07-20T13:19:38.067Z"
   },
   {
    "duration": 471,
    "start_time": "2021-07-20T13:20:04.037Z"
   },
   {
    "duration": 4,
    "start_time": "2021-07-20T13:21:28.883Z"
   },
   {
    "duration": 460,
    "start_time": "2021-07-20T13:21:43.075Z"
   },
   {
    "duration": 617,
    "start_time": "2021-07-20T13:26:18.004Z"
   },
   {
    "duration": 457,
    "start_time": "2021-07-20T13:36:18.090Z"
   },
   {
    "duration": 479,
    "start_time": "2021-07-20T13:37:59.936Z"
   },
   {
    "duration": 221,
    "start_time": "2021-07-20T14:05:50.005Z"
   },
   {
    "duration": 13,
    "start_time": "2021-07-20T14:05:57.035Z"
   },
   {
    "duration": 346,
    "start_time": "2021-07-20T14:06:06.883Z"
   },
   {
    "duration": 361,
    "start_time": "2021-07-20T14:06:20.916Z"
   },
   {
    "duration": 355,
    "start_time": "2021-07-20T14:06:41.030Z"
   },
   {
    "duration": 329,
    "start_time": "2021-07-20T14:07:28.520Z"
   },
   {
    "duration": 355,
    "start_time": "2021-07-20T14:19:48.831Z"
   },
   {
    "duration": 11,
    "start_time": "2021-07-20T14:19:56.151Z"
   },
   {
    "duration": 11,
    "start_time": "2021-07-20T14:20:09.688Z"
   },
   {
    "duration": 10,
    "start_time": "2021-07-20T14:21:07.884Z"
   },
   {
    "duration": 10,
    "start_time": "2021-07-20T14:21:15.964Z"
   },
   {
    "duration": 13,
    "start_time": "2021-07-20T14:21:58.727Z"
   },
   {
    "duration": 142,
    "start_time": "2021-07-20T14:22:05.104Z"
   },
   {
    "duration": 236,
    "start_time": "2021-07-20T14:22:11.264Z"
   },
   {
    "duration": 93,
    "start_time": "2021-07-20T14:22:14.960Z"
   },
   {
    "duration": 114,
    "start_time": "2021-07-20T14:22:28.361Z"
   },
   {
    "duration": 12,
    "start_time": "2021-07-20T14:22:37.441Z"
   },
   {
    "duration": 13,
    "start_time": "2021-07-20T14:22:50.763Z"
   }
  ],
  "colab": {
   "name": "DA+. Сборный проект 1. Шаблон (1).ipynb",
   "provenance": []
  },
  "kernelspec": {
   "display_name": "Python 3 (ipykernel)",
   "language": "python",
   "name": "python3"
  },
  "language_info": {
   "codemirror_mode": {
    "name": "ipython",
    "version": 3
   },
   "file_extension": ".py",
   "mimetype": "text/x-python",
   "name": "python",
   "nbconvert_exporter": "python",
   "pygments_lexer": "ipython3",
   "version": "3.8.12"
  },
  "toc": {
   "base_numbering": 1,
   "nav_menu": {},
   "number_sections": true,
   "sideBar": true,
   "skip_h1_title": true,
   "title_cell": "Table of Contents",
   "title_sidebar": "Contents",
   "toc_cell": false,
   "toc_position": {
    "height": "calc(100% - 180px)",
    "left": "10px",
    "top": "150px",
    "width": "375.391px"
   },
   "toc_section_display": true,
   "toc_window_display": false
  }
 },
 "nbformat": 4,
 "nbformat_minor": 4
}