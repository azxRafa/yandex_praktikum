{
 "cells": [
  {
   "cell_type": "markdown",
   "metadata": {},
   "source": [
    "# Определение перспективного тарифа для телеком компании"
   ]
  },
  {
   "cell_type": "markdown",
   "metadata": {},
   "source": [
    " «Мегалайн» — федерального оператора сотовой связи. Клиентам предлагают два тарифных плана: «Смарт» и «Ультра». Чтобы скорректировать рекламный бюджет, коммерческий департамент хочет понять, какой тариф приносит больше денег."
   ]
  },
  {
   "cell_type": "markdown",
   "metadata": {},
   "source": [
    "## Шаг 1. Открытие файлов с данными и объединение их. "
   ]
  },
  {
   "cell_type": "code",
   "execution_count": 1,
   "metadata": {},
   "outputs": [],
   "source": [
    "import pandas as pd\n",
    "import numpy as np\n",
    "from scipy import stats as st\n",
    "import matplotlib.pyplot as plt\n",
    "import datetime\n",
    "from warnings import simplefilter\n",
    "# ignore all future warnings\n",
    "simplefilter(action='ignore', category=FutureWarning)\n",
    "pd.options.mode.chained_assignment = None"
   ]
  },
  {
   "cell_type": "code",
   "execution_count": 2,
   "metadata": {},
   "outputs": [],
   "source": [
    "data_calls = pd.read_csv(url)\n",
    "data_internet = pd.read_csv(url, index_col=0)\n",
    "data_messages = pd.read_csv(url)\n",
    "data_tariffs = pd.read_csv(url)\n",
    "data_users = pd.read_csv(url)"
   ]
  },
  {
   "cell_type": "code",
   "execution_count": 3,
   "metadata": {},
   "outputs": [
    {
     "name": "stdout",
     "output_type": "stream",
     "text": [
      "<class 'pandas.core.frame.DataFrame'>\n",
      "RangeIndex: 202607 entries, 0 to 202606\n",
      "Data columns (total 4 columns):\n",
      " #   Column     Non-Null Count   Dtype  \n",
      "---  ------     --------------   -----  \n",
      " 0   id         202607 non-null  object \n",
      " 1   call_date  202607 non-null  object \n",
      " 2   duration   202607 non-null  float64\n",
      " 3   user_id    202607 non-null  int64  \n",
      "dtypes: float64(1), int64(1), object(2)\n",
      "memory usage: 6.2+ MB\n"
     ]
    },
    {
     "data": {
      "text/plain": [
       "(       id   call_date  duration  user_id\n",
       " 0  1000_0  2018-07-25      0.00     1000\n",
       " 1  1000_1  2018-08-17      0.00     1000\n",
       " 2  1000_2  2018-06-11      2.85     1000\n",
       " 3  1000_3  2018-09-21     13.80     1000\n",
       " 4  1000_4  2018-12-15      5.18     1000,\n",
       " None)"
      ]
     },
     "execution_count": 3,
     "metadata": {},
     "output_type": "execute_result"
    }
   ],
   "source": [
    "data_calls.head(), data_calls.info()"
   ]
  },
  {
   "cell_type": "code",
   "execution_count": 4,
   "metadata": {},
   "outputs": [
    {
     "data": {
      "text/plain": [
       "('2018-01-01', '2018-12-31')"
      ]
     },
     "execution_count": 4,
     "metadata": {},
     "output_type": "execute_result"
    }
   ],
   "source": [
    "data_calls.call_date.min(),data_calls.call_date.max()"
   ]
  },
  {
   "cell_type": "code",
   "execution_count": 5,
   "metadata": {},
   "outputs": [
    {
     "name": "stdout",
     "output_type": "stream",
     "text": [
      "<class 'pandas.core.frame.DataFrame'>\n",
      "Int64Index: 149396 entries, 0 to 149395\n",
      "Data columns (total 4 columns):\n",
      " #   Column        Non-Null Count   Dtype  \n",
      "---  ------        --------------   -----  \n",
      " 0   id            149396 non-null  object \n",
      " 1   mb_used       149396 non-null  float64\n",
      " 2   session_date  149396 non-null  object \n",
      " 3   user_id       149396 non-null  int64  \n",
      "dtypes: float64(1), int64(1), object(2)\n",
      "memory usage: 5.7+ MB\n"
     ]
    },
    {
     "data": {
      "text/plain": [
       "(       id  mb_used session_date  user_id\n",
       " 0  1000_0   112.95   2018-11-25     1000\n",
       " 1  1000_1  1052.81   2018-09-07     1000\n",
       " 2  1000_2  1197.26   2018-06-25     1000\n",
       " 3  1000_3   550.27   2018-08-22     1000\n",
       " 4  1000_4   302.56   2018-09-24     1000,\n",
       " None)"
      ]
     },
     "execution_count": 5,
     "metadata": {},
     "output_type": "execute_result"
    }
   ],
   "source": [
    "data_internet.head(), data_internet.info()"
   ]
  },
  {
   "cell_type": "code",
   "execution_count": 6,
   "metadata": {},
   "outputs": [
    {
     "data": {
      "text/plain": [
       "('2018-01-01', '2018-12-31')"
      ]
     },
     "execution_count": 6,
     "metadata": {},
     "output_type": "execute_result"
    }
   ],
   "source": [
    "data_internet.session_date.min(),data_internet.session_date.max()"
   ]
  },
  {
   "cell_type": "code",
   "execution_count": 7,
   "metadata": {},
   "outputs": [
    {
     "name": "stdout",
     "output_type": "stream",
     "text": [
      "<class 'pandas.core.frame.DataFrame'>\n",
      "RangeIndex: 123036 entries, 0 to 123035\n",
      "Data columns (total 3 columns):\n",
      " #   Column        Non-Null Count   Dtype \n",
      "---  ------        --------------   ----- \n",
      " 0   id            123036 non-null  object\n",
      " 1   message_date  123036 non-null  object\n",
      " 2   user_id       123036 non-null  int64 \n",
      "dtypes: int64(1), object(2)\n",
      "memory usage: 2.8+ MB\n"
     ]
    },
    {
     "data": {
      "text/plain": [
       "(       id message_date  user_id\n",
       " 0  1000_0   2018-06-27     1000\n",
       " 1  1000_1   2018-10-08     1000\n",
       " 2  1000_2   2018-08-04     1000\n",
       " 3  1000_3   2018-06-16     1000\n",
       " 4  1000_4   2018-12-05     1000,\n",
       " None)"
      ]
     },
     "execution_count": 7,
     "metadata": {},
     "output_type": "execute_result"
    }
   ],
   "source": [
    "data_messages.head(), data_messages.info()"
   ]
  },
  {
   "cell_type": "code",
   "execution_count": 8,
   "metadata": {},
   "outputs": [
    {
     "data": {
      "text/plain": [
       "('2018-01-02', '2018-12-31')"
      ]
     },
     "execution_count": 8,
     "metadata": {},
     "output_type": "execute_result"
    }
   ],
   "source": [
    "data_messages.message_date.min(),data_messages.message_date.max()"
   ]
  },
  {
   "cell_type": "code",
   "execution_count": 9,
   "metadata": {},
   "outputs": [
    {
     "data": {
      "text/html": [
       "<div>\n",
       "<style scoped>\n",
       "    .dataframe tbody tr th:only-of-type {\n",
       "        vertical-align: middle;\n",
       "    }\n",
       "\n",
       "    .dataframe tbody tr th {\n",
       "        vertical-align: top;\n",
       "    }\n",
       "\n",
       "    .dataframe thead th {\n",
       "        text-align: right;\n",
       "    }\n",
       "</style>\n",
       "<table border=\"1\" class=\"dataframe\">\n",
       "  <thead>\n",
       "    <tr style=\"text-align: right;\">\n",
       "      <th></th>\n",
       "      <th>messages_included</th>\n",
       "      <th>mb_per_month_included</th>\n",
       "      <th>minutes_included</th>\n",
       "      <th>rub_monthly_fee</th>\n",
       "      <th>rub_per_gb</th>\n",
       "      <th>rub_per_message</th>\n",
       "      <th>rub_per_minute</th>\n",
       "      <th>tariff_name</th>\n",
       "    </tr>\n",
       "  </thead>\n",
       "  <tbody>\n",
       "    <tr>\n",
       "      <th>0</th>\n",
       "      <td>50</td>\n",
       "      <td>15360</td>\n",
       "      <td>500</td>\n",
       "      <td>550</td>\n",
       "      <td>200</td>\n",
       "      <td>3</td>\n",
       "      <td>3</td>\n",
       "      <td>smart</td>\n",
       "    </tr>\n",
       "    <tr>\n",
       "      <th>1</th>\n",
       "      <td>1000</td>\n",
       "      <td>30720</td>\n",
       "      <td>3000</td>\n",
       "      <td>1950</td>\n",
       "      <td>150</td>\n",
       "      <td>1</td>\n",
       "      <td>1</td>\n",
       "      <td>ultra</td>\n",
       "    </tr>\n",
       "  </tbody>\n",
       "</table>\n",
       "</div>"
      ],
      "text/plain": [
       "   messages_included  mb_per_month_included  minutes_included  \\\n",
       "0                 50                  15360               500   \n",
       "1               1000                  30720              3000   \n",
       "\n",
       "   rub_monthly_fee  rub_per_gb  rub_per_message  rub_per_minute tariff_name  \n",
       "0              550         200                3               3       smart  \n",
       "1             1950         150                1               1       ultra  "
      ]
     },
     "execution_count": 9,
     "metadata": {},
     "output_type": "execute_result"
    }
   ],
   "source": [
    "data_tariffs.head()"
   ]
  },
  {
   "cell_type": "code",
   "execution_count": 10,
   "metadata": {},
   "outputs": [
    {
     "name": "stdout",
     "output_type": "stream",
     "text": [
      "<class 'pandas.core.frame.DataFrame'>\n",
      "RangeIndex: 500 entries, 0 to 499\n",
      "Data columns (total 8 columns):\n",
      " #   Column      Non-Null Count  Dtype \n",
      "---  ------      --------------  ----- \n",
      " 0   user_id     500 non-null    int64 \n",
      " 1   age         500 non-null    int64 \n",
      " 2   churn_date  38 non-null     object\n",
      " 3   city        500 non-null    object\n",
      " 4   first_name  500 non-null    object\n",
      " 5   last_name   500 non-null    object\n",
      " 6   reg_date    500 non-null    object\n",
      " 7   tariff      500 non-null    object\n",
      "dtypes: int64(2), object(6)\n",
      "memory usage: 31.4+ KB\n"
     ]
    },
    {
     "data": {
      "text/plain": [
       "(   user_id  age churn_date         city first_name  last_name    reg_date  \\\n",
       " 0     1000   52        NaN    Краснодар     Рафаил  Верещагин  2018-05-25   \n",
       " 1     1001   41        NaN       Москва       Иван       Ежов  2018-11-01   \n",
       " 2     1002   59        NaN  Стерлитамак    Евгений  Абрамович  2018-06-17   \n",
       " 3     1003   23        NaN       Москва      Белла   Белякова  2018-08-17   \n",
       " 4     1004   68        NaN  Новокузнецк    Татьяна   Авдеенко  2018-05-14   \n",
       " \n",
       "   tariff  \n",
       " 0  ultra  \n",
       " 1  smart  \n",
       " 2  smart  \n",
       " 3  ultra  \n",
       " 4  ultra  ,\n",
       " None)"
      ]
     },
     "execution_count": 10,
     "metadata": {},
     "output_type": "execute_result"
    }
   ],
   "source": [
    "data_users.head(), data_users.info()"
   ]
  },
  {
   "cell_type": "markdown",
   "metadata": {},
   "source": [
    "Создадим датафрем с первым число месяца, для объядинения всех таблиц по этим значениям"
   ]
  },
  {
   "cell_type": "code",
   "execution_count": 11,
   "metadata": {},
   "outputs": [
    {
     "data": {
      "text/html": [
       "<div>\n",
       "<style scoped>\n",
       "    .dataframe tbody tr th:only-of-type {\n",
       "        vertical-align: middle;\n",
       "    }\n",
       "\n",
       "    .dataframe tbody tr th {\n",
       "        vertical-align: top;\n",
       "    }\n",
       "\n",
       "    .dataframe thead th {\n",
       "        text-align: right;\n",
       "    }\n",
       "</style>\n",
       "<table border=\"1\" class=\"dataframe\">\n",
       "  <thead>\n",
       "    <tr style=\"text-align: right;\">\n",
       "      <th></th>\n",
       "      <th>month</th>\n",
       "    </tr>\n",
       "  </thead>\n",
       "  <tbody>\n",
       "    <tr>\n",
       "      <th>0</th>\n",
       "      <td>2018-01-01</td>\n",
       "    </tr>\n",
       "    <tr>\n",
       "      <th>1</th>\n",
       "      <td>2018-02-01</td>\n",
       "    </tr>\n",
       "    <tr>\n",
       "      <th>2</th>\n",
       "      <td>2018-03-01</td>\n",
       "    </tr>\n",
       "    <tr>\n",
       "      <th>3</th>\n",
       "      <td>2018-04-01</td>\n",
       "    </tr>\n",
       "    <tr>\n",
       "      <th>4</th>\n",
       "      <td>2018-05-01</td>\n",
       "    </tr>\n",
       "    <tr>\n",
       "      <th>5</th>\n",
       "      <td>2018-06-01</td>\n",
       "    </tr>\n",
       "    <tr>\n",
       "      <th>6</th>\n",
       "      <td>2018-07-01</td>\n",
       "    </tr>\n",
       "    <tr>\n",
       "      <th>7</th>\n",
       "      <td>2018-08-01</td>\n",
       "    </tr>\n",
       "    <tr>\n",
       "      <th>8</th>\n",
       "      <td>2018-09-01</td>\n",
       "    </tr>\n",
       "    <tr>\n",
       "      <th>9</th>\n",
       "      <td>2018-10-01</td>\n",
       "    </tr>\n",
       "    <tr>\n",
       "      <th>10</th>\n",
       "      <td>2018-11-01</td>\n",
       "    </tr>\n",
       "    <tr>\n",
       "      <th>11</th>\n",
       "      <td>2018-12-01</td>\n",
       "    </tr>\n",
       "  </tbody>\n",
       "</table>\n",
       "</div>"
      ],
      "text/plain": [
       "        month\n",
       "0  2018-01-01\n",
       "1  2018-02-01\n",
       "2  2018-03-01\n",
       "3  2018-04-01\n",
       "4  2018-05-01\n",
       "5  2018-06-01\n",
       "6  2018-07-01\n",
       "7  2018-08-01\n",
       "8  2018-09-01\n",
       "9  2018-10-01\n",
       "10 2018-11-01\n",
       "11 2018-12-01"
      ]
     },
     "execution_count": 11,
     "metadata": {},
     "output_type": "execute_result"
    }
   ],
   "source": [
    "month =  pd.DataFrame({'month':pd.date_range(start='2018-01-01', end='2018-12-01',freq='MS')})\n",
    "month"
   ]
  },
  {
   "cell_type": "code",
   "execution_count": 12,
   "metadata": {},
   "outputs": [],
   "source": [
    "data_users['key'] = 1\n",
    "month['key'] = 1"
   ]
  },
  {
   "cell_type": "code",
   "execution_count": 13,
   "metadata": {},
   "outputs": [],
   "source": [
    "template = data_users.merge(month, on='key')"
   ]
  },
  {
   "cell_type": "code",
   "execution_count": 14,
   "metadata": {},
   "outputs": [],
   "source": [
    "template['reg_month'] = template['reg_date'].to_numpy().astype('datetime64[M]')"
   ]
  },
  {
   "cell_type": "code",
   "execution_count": 15,
   "metadata": {},
   "outputs": [
    {
     "data": {
      "text/html": [
       "<div>\n",
       "<style scoped>\n",
       "    .dataframe tbody tr th:only-of-type {\n",
       "        vertical-align: middle;\n",
       "    }\n",
       "\n",
       "    .dataframe tbody tr th {\n",
       "        vertical-align: top;\n",
       "    }\n",
       "\n",
       "    .dataframe thead th {\n",
       "        text-align: right;\n",
       "    }\n",
       "</style>\n",
       "<table border=\"1\" class=\"dataframe\">\n",
       "  <thead>\n",
       "    <tr style=\"text-align: right;\">\n",
       "      <th></th>\n",
       "      <th>user_id</th>\n",
       "      <th>age</th>\n",
       "      <th>churn_date</th>\n",
       "      <th>city</th>\n",
       "      <th>first_name</th>\n",
       "      <th>last_name</th>\n",
       "      <th>reg_date</th>\n",
       "      <th>tariff</th>\n",
       "      <th>key</th>\n",
       "      <th>month</th>\n",
       "      <th>reg_month</th>\n",
       "    </tr>\n",
       "  </thead>\n",
       "  <tbody>\n",
       "    <tr>\n",
       "      <th>0</th>\n",
       "      <td>1000</td>\n",
       "      <td>52</td>\n",
       "      <td>NaN</td>\n",
       "      <td>Краснодар</td>\n",
       "      <td>Рафаил</td>\n",
       "      <td>Верещагин</td>\n",
       "      <td>2018-05-25</td>\n",
       "      <td>ultra</td>\n",
       "      <td>1</td>\n",
       "      <td>2018-01-01</td>\n",
       "      <td>2018-05-01</td>\n",
       "    </tr>\n",
       "    <tr>\n",
       "      <th>1</th>\n",
       "      <td>1000</td>\n",
       "      <td>52</td>\n",
       "      <td>NaN</td>\n",
       "      <td>Краснодар</td>\n",
       "      <td>Рафаил</td>\n",
       "      <td>Верещагин</td>\n",
       "      <td>2018-05-25</td>\n",
       "      <td>ultra</td>\n",
       "      <td>1</td>\n",
       "      <td>2018-02-01</td>\n",
       "      <td>2018-05-01</td>\n",
       "    </tr>\n",
       "    <tr>\n",
       "      <th>2</th>\n",
       "      <td>1000</td>\n",
       "      <td>52</td>\n",
       "      <td>NaN</td>\n",
       "      <td>Краснодар</td>\n",
       "      <td>Рафаил</td>\n",
       "      <td>Верещагин</td>\n",
       "      <td>2018-05-25</td>\n",
       "      <td>ultra</td>\n",
       "      <td>1</td>\n",
       "      <td>2018-03-01</td>\n",
       "      <td>2018-05-01</td>\n",
       "    </tr>\n",
       "    <tr>\n",
       "      <th>3</th>\n",
       "      <td>1000</td>\n",
       "      <td>52</td>\n",
       "      <td>NaN</td>\n",
       "      <td>Краснодар</td>\n",
       "      <td>Рафаил</td>\n",
       "      <td>Верещагин</td>\n",
       "      <td>2018-05-25</td>\n",
       "      <td>ultra</td>\n",
       "      <td>1</td>\n",
       "      <td>2018-04-01</td>\n",
       "      <td>2018-05-01</td>\n",
       "    </tr>\n",
       "    <tr>\n",
       "      <th>4</th>\n",
       "      <td>1000</td>\n",
       "      <td>52</td>\n",
       "      <td>NaN</td>\n",
       "      <td>Краснодар</td>\n",
       "      <td>Рафаил</td>\n",
       "      <td>Верещагин</td>\n",
       "      <td>2018-05-25</td>\n",
       "      <td>ultra</td>\n",
       "      <td>1</td>\n",
       "      <td>2018-05-01</td>\n",
       "      <td>2018-05-01</td>\n",
       "    </tr>\n",
       "    <tr>\n",
       "      <th>...</th>\n",
       "      <td>...</td>\n",
       "      <td>...</td>\n",
       "      <td>...</td>\n",
       "      <td>...</td>\n",
       "      <td>...</td>\n",
       "      <td>...</td>\n",
       "      <td>...</td>\n",
       "      <td>...</td>\n",
       "      <td>...</td>\n",
       "      <td>...</td>\n",
       "      <td>...</td>\n",
       "    </tr>\n",
       "    <tr>\n",
       "      <th>5995</th>\n",
       "      <td>1499</td>\n",
       "      <td>35</td>\n",
       "      <td>NaN</td>\n",
       "      <td>Пермь</td>\n",
       "      <td>Гектор</td>\n",
       "      <td>Корнилов</td>\n",
       "      <td>2018-09-27</td>\n",
       "      <td>smart</td>\n",
       "      <td>1</td>\n",
       "      <td>2018-08-01</td>\n",
       "      <td>2018-09-01</td>\n",
       "    </tr>\n",
       "    <tr>\n",
       "      <th>5996</th>\n",
       "      <td>1499</td>\n",
       "      <td>35</td>\n",
       "      <td>NaN</td>\n",
       "      <td>Пермь</td>\n",
       "      <td>Гектор</td>\n",
       "      <td>Корнилов</td>\n",
       "      <td>2018-09-27</td>\n",
       "      <td>smart</td>\n",
       "      <td>1</td>\n",
       "      <td>2018-09-01</td>\n",
       "      <td>2018-09-01</td>\n",
       "    </tr>\n",
       "    <tr>\n",
       "      <th>5997</th>\n",
       "      <td>1499</td>\n",
       "      <td>35</td>\n",
       "      <td>NaN</td>\n",
       "      <td>Пермь</td>\n",
       "      <td>Гектор</td>\n",
       "      <td>Корнилов</td>\n",
       "      <td>2018-09-27</td>\n",
       "      <td>smart</td>\n",
       "      <td>1</td>\n",
       "      <td>2018-10-01</td>\n",
       "      <td>2018-09-01</td>\n",
       "    </tr>\n",
       "    <tr>\n",
       "      <th>5998</th>\n",
       "      <td>1499</td>\n",
       "      <td>35</td>\n",
       "      <td>NaN</td>\n",
       "      <td>Пермь</td>\n",
       "      <td>Гектор</td>\n",
       "      <td>Корнилов</td>\n",
       "      <td>2018-09-27</td>\n",
       "      <td>smart</td>\n",
       "      <td>1</td>\n",
       "      <td>2018-11-01</td>\n",
       "      <td>2018-09-01</td>\n",
       "    </tr>\n",
       "    <tr>\n",
       "      <th>5999</th>\n",
       "      <td>1499</td>\n",
       "      <td>35</td>\n",
       "      <td>NaN</td>\n",
       "      <td>Пермь</td>\n",
       "      <td>Гектор</td>\n",
       "      <td>Корнилов</td>\n",
       "      <td>2018-09-27</td>\n",
       "      <td>smart</td>\n",
       "      <td>1</td>\n",
       "      <td>2018-12-01</td>\n",
       "      <td>2018-09-01</td>\n",
       "    </tr>\n",
       "  </tbody>\n",
       "</table>\n",
       "<p>6000 rows × 11 columns</p>\n",
       "</div>"
      ],
      "text/plain": [
       "      user_id  age churn_date       city first_name  last_name    reg_date  \\\n",
       "0        1000   52        NaN  Краснодар     Рафаил  Верещагин  2018-05-25   \n",
       "1        1000   52        NaN  Краснодар     Рафаил  Верещагин  2018-05-25   \n",
       "2        1000   52        NaN  Краснодар     Рафаил  Верещагин  2018-05-25   \n",
       "3        1000   52        NaN  Краснодар     Рафаил  Верещагин  2018-05-25   \n",
       "4        1000   52        NaN  Краснодар     Рафаил  Верещагин  2018-05-25   \n",
       "...       ...  ...        ...        ...        ...        ...         ...   \n",
       "5995     1499   35        NaN      Пермь     Гектор   Корнилов  2018-09-27   \n",
       "5996     1499   35        NaN      Пермь     Гектор   Корнилов  2018-09-27   \n",
       "5997     1499   35        NaN      Пермь     Гектор   Корнилов  2018-09-27   \n",
       "5998     1499   35        NaN      Пермь     Гектор   Корнилов  2018-09-27   \n",
       "5999     1499   35        NaN      Пермь     Гектор   Корнилов  2018-09-27   \n",
       "\n",
       "     tariff  key      month  reg_month  \n",
       "0     ultra    1 2018-01-01 2018-05-01  \n",
       "1     ultra    1 2018-02-01 2018-05-01  \n",
       "2     ultra    1 2018-03-01 2018-05-01  \n",
       "3     ultra    1 2018-04-01 2018-05-01  \n",
       "4     ultra    1 2018-05-01 2018-05-01  \n",
       "...     ...  ...        ...        ...  \n",
       "5995  smart    1 2018-08-01 2018-09-01  \n",
       "5996  smart    1 2018-09-01 2018-09-01  \n",
       "5997  smart    1 2018-10-01 2018-09-01  \n",
       "5998  smart    1 2018-11-01 2018-09-01  \n",
       "5999  smart    1 2018-12-01 2018-09-01  \n",
       "\n",
       "[6000 rows x 11 columns]"
      ]
     },
     "execution_count": 15,
     "metadata": {},
     "output_type": "execute_result"
    }
   ],
   "source": [
    "template"
   ]
  },
  {
   "cell_type": "markdown",
   "metadata": {},
   "source": [
    "Отфильтруем всех, нам нужны строчки где дата регистрации меньше месяца"
   ]
  },
  {
   "cell_type": "code",
   "execution_count": 16,
   "metadata": {},
   "outputs": [],
   "source": [
    "template = template[template['month'] >= template['reg_month']]"
   ]
  },
  {
   "cell_type": "code",
   "execution_count": 17,
   "metadata": {},
   "outputs": [
    {
     "data": {
      "text/html": [
       "<div>\n",
       "<style scoped>\n",
       "    .dataframe tbody tr th:only-of-type {\n",
       "        vertical-align: middle;\n",
       "    }\n",
       "\n",
       "    .dataframe tbody tr th {\n",
       "        vertical-align: top;\n",
       "    }\n",
       "\n",
       "    .dataframe thead th {\n",
       "        text-align: right;\n",
       "    }\n",
       "</style>\n",
       "<table border=\"1\" class=\"dataframe\">\n",
       "  <thead>\n",
       "    <tr style=\"text-align: right;\">\n",
       "      <th></th>\n",
       "      <th>user_id</th>\n",
       "      <th>age</th>\n",
       "      <th>churn_date</th>\n",
       "      <th>city</th>\n",
       "      <th>first_name</th>\n",
       "      <th>last_name</th>\n",
       "      <th>reg_date</th>\n",
       "      <th>tariff</th>\n",
       "      <th>key</th>\n",
       "      <th>month</th>\n",
       "      <th>reg_month</th>\n",
       "    </tr>\n",
       "  </thead>\n",
       "  <tbody>\n",
       "    <tr>\n",
       "      <th>5982</th>\n",
       "      <td>1498</td>\n",
       "      <td>68</td>\n",
       "      <td>2018-10-25</td>\n",
       "      <td>Владикавказ</td>\n",
       "      <td>Всеволод</td>\n",
       "      <td>Акимчин</td>\n",
       "      <td>2018-07-19</td>\n",
       "      <td>smart</td>\n",
       "      <td>1</td>\n",
       "      <td>2018-07-01</td>\n",
       "      <td>2018-07-01</td>\n",
       "    </tr>\n",
       "    <tr>\n",
       "      <th>5983</th>\n",
       "      <td>1498</td>\n",
       "      <td>68</td>\n",
       "      <td>2018-10-25</td>\n",
       "      <td>Владикавказ</td>\n",
       "      <td>Всеволод</td>\n",
       "      <td>Акимчин</td>\n",
       "      <td>2018-07-19</td>\n",
       "      <td>smart</td>\n",
       "      <td>1</td>\n",
       "      <td>2018-08-01</td>\n",
       "      <td>2018-07-01</td>\n",
       "    </tr>\n",
       "    <tr>\n",
       "      <th>5984</th>\n",
       "      <td>1498</td>\n",
       "      <td>68</td>\n",
       "      <td>2018-10-25</td>\n",
       "      <td>Владикавказ</td>\n",
       "      <td>Всеволод</td>\n",
       "      <td>Акимчин</td>\n",
       "      <td>2018-07-19</td>\n",
       "      <td>smart</td>\n",
       "      <td>1</td>\n",
       "      <td>2018-09-01</td>\n",
       "      <td>2018-07-01</td>\n",
       "    </tr>\n",
       "    <tr>\n",
       "      <th>5985</th>\n",
       "      <td>1498</td>\n",
       "      <td>68</td>\n",
       "      <td>2018-10-25</td>\n",
       "      <td>Владикавказ</td>\n",
       "      <td>Всеволод</td>\n",
       "      <td>Акимчин</td>\n",
       "      <td>2018-07-19</td>\n",
       "      <td>smart</td>\n",
       "      <td>1</td>\n",
       "      <td>2018-10-01</td>\n",
       "      <td>2018-07-01</td>\n",
       "    </tr>\n",
       "    <tr>\n",
       "      <th>5986</th>\n",
       "      <td>1498</td>\n",
       "      <td>68</td>\n",
       "      <td>2018-10-25</td>\n",
       "      <td>Владикавказ</td>\n",
       "      <td>Всеволод</td>\n",
       "      <td>Акимчин</td>\n",
       "      <td>2018-07-19</td>\n",
       "      <td>smart</td>\n",
       "      <td>1</td>\n",
       "      <td>2018-11-01</td>\n",
       "      <td>2018-07-01</td>\n",
       "    </tr>\n",
       "    <tr>\n",
       "      <th>5987</th>\n",
       "      <td>1498</td>\n",
       "      <td>68</td>\n",
       "      <td>2018-10-25</td>\n",
       "      <td>Владикавказ</td>\n",
       "      <td>Всеволод</td>\n",
       "      <td>Акимчин</td>\n",
       "      <td>2018-07-19</td>\n",
       "      <td>smart</td>\n",
       "      <td>1</td>\n",
       "      <td>2018-12-01</td>\n",
       "      <td>2018-07-01</td>\n",
       "    </tr>\n",
       "  </tbody>\n",
       "</table>\n",
       "</div>"
      ],
      "text/plain": [
       "      user_id  age  churn_date         city first_name last_name    reg_date  \\\n",
       "5982     1498   68  2018-10-25  Владикавказ   Всеволод   Акимчин  2018-07-19   \n",
       "5983     1498   68  2018-10-25  Владикавказ   Всеволод   Акимчин  2018-07-19   \n",
       "5984     1498   68  2018-10-25  Владикавказ   Всеволод   Акимчин  2018-07-19   \n",
       "5985     1498   68  2018-10-25  Владикавказ   Всеволод   Акимчин  2018-07-19   \n",
       "5986     1498   68  2018-10-25  Владикавказ   Всеволод   Акимчин  2018-07-19   \n",
       "5987     1498   68  2018-10-25  Владикавказ   Всеволод   Акимчин  2018-07-19   \n",
       "\n",
       "     tariff  key      month  reg_month  \n",
       "5982  smart    1 2018-07-01 2018-07-01  \n",
       "5983  smart    1 2018-08-01 2018-07-01  \n",
       "5984  smart    1 2018-09-01 2018-07-01  \n",
       "5985  smart    1 2018-10-01 2018-07-01  \n",
       "5986  smart    1 2018-11-01 2018-07-01  \n",
       "5987  smart    1 2018-12-01 2018-07-01  "
      ]
     },
     "execution_count": 17,
     "metadata": {},
     "output_type": "execute_result"
    }
   ],
   "source": [
    "template[template['user_id'] == 1498]"
   ]
  },
  {
   "cell_type": "markdown",
   "metadata": {},
   "source": [
    "Заменим пропуски в `churn_date` на первый день последнего месяца в выборке"
   ]
  },
  {
   "cell_type": "code",
   "execution_count": 18,
   "metadata": {},
   "outputs": [],
   "source": [
    "template['churn_date'] = np.where(template['churn_date'].isna(), '2018-12-01',template['churn_date'])"
   ]
  },
  {
   "cell_type": "markdown",
   "metadata": {},
   "source": [
    "Ещё раз отфильтруем всех, теперь нам нужны строчки где дата прекращения пользования тарифом больше месяца"
   ]
  },
  {
   "cell_type": "code",
   "execution_count": 19,
   "metadata": {},
   "outputs": [
    {
     "data": {
      "text/html": [
       "<div>\n",
       "<style scoped>\n",
       "    .dataframe tbody tr th:only-of-type {\n",
       "        vertical-align: middle;\n",
       "    }\n",
       "\n",
       "    .dataframe tbody tr th {\n",
       "        vertical-align: top;\n",
       "    }\n",
       "\n",
       "    .dataframe thead th {\n",
       "        text-align: right;\n",
       "    }\n",
       "</style>\n",
       "<table border=\"1\" class=\"dataframe\">\n",
       "  <thead>\n",
       "    <tr style=\"text-align: right;\">\n",
       "      <th></th>\n",
       "      <th>user_id</th>\n",
       "      <th>age</th>\n",
       "      <th>churn_date</th>\n",
       "      <th>city</th>\n",
       "      <th>first_name</th>\n",
       "      <th>last_name</th>\n",
       "      <th>reg_date</th>\n",
       "      <th>tariff</th>\n",
       "      <th>key</th>\n",
       "      <th>month</th>\n",
       "      <th>reg_month</th>\n",
       "    </tr>\n",
       "  </thead>\n",
       "  <tbody>\n",
       "    <tr>\n",
       "      <th>4</th>\n",
       "      <td>1000</td>\n",
       "      <td>52</td>\n",
       "      <td>2018-12-01</td>\n",
       "      <td>Краснодар</td>\n",
       "      <td>Рафаил</td>\n",
       "      <td>Верещагин</td>\n",
       "      <td>2018-05-25</td>\n",
       "      <td>ultra</td>\n",
       "      <td>1</td>\n",
       "      <td>2018-05-01</td>\n",
       "      <td>2018-05-01</td>\n",
       "    </tr>\n",
       "    <tr>\n",
       "      <th>5</th>\n",
       "      <td>1000</td>\n",
       "      <td>52</td>\n",
       "      <td>2018-12-01</td>\n",
       "      <td>Краснодар</td>\n",
       "      <td>Рафаил</td>\n",
       "      <td>Верещагин</td>\n",
       "      <td>2018-05-25</td>\n",
       "      <td>ultra</td>\n",
       "      <td>1</td>\n",
       "      <td>2018-06-01</td>\n",
       "      <td>2018-05-01</td>\n",
       "    </tr>\n",
       "    <tr>\n",
       "      <th>6</th>\n",
       "      <td>1000</td>\n",
       "      <td>52</td>\n",
       "      <td>2018-12-01</td>\n",
       "      <td>Краснодар</td>\n",
       "      <td>Рафаил</td>\n",
       "      <td>Верещагин</td>\n",
       "      <td>2018-05-25</td>\n",
       "      <td>ultra</td>\n",
       "      <td>1</td>\n",
       "      <td>2018-07-01</td>\n",
       "      <td>2018-05-01</td>\n",
       "    </tr>\n",
       "    <tr>\n",
       "      <th>7</th>\n",
       "      <td>1000</td>\n",
       "      <td>52</td>\n",
       "      <td>2018-12-01</td>\n",
       "      <td>Краснодар</td>\n",
       "      <td>Рафаил</td>\n",
       "      <td>Верещагин</td>\n",
       "      <td>2018-05-25</td>\n",
       "      <td>ultra</td>\n",
       "      <td>1</td>\n",
       "      <td>2018-08-01</td>\n",
       "      <td>2018-05-01</td>\n",
       "    </tr>\n",
       "    <tr>\n",
       "      <th>8</th>\n",
       "      <td>1000</td>\n",
       "      <td>52</td>\n",
       "      <td>2018-12-01</td>\n",
       "      <td>Краснодар</td>\n",
       "      <td>Рафаил</td>\n",
       "      <td>Верещагин</td>\n",
       "      <td>2018-05-25</td>\n",
       "      <td>ultra</td>\n",
       "      <td>1</td>\n",
       "      <td>2018-09-01</td>\n",
       "      <td>2018-05-01</td>\n",
       "    </tr>\n",
       "    <tr>\n",
       "      <th>...</th>\n",
       "      <td>...</td>\n",
       "      <td>...</td>\n",
       "      <td>...</td>\n",
       "      <td>...</td>\n",
       "      <td>...</td>\n",
       "      <td>...</td>\n",
       "      <td>...</td>\n",
       "      <td>...</td>\n",
       "      <td>...</td>\n",
       "      <td>...</td>\n",
       "      <td>...</td>\n",
       "    </tr>\n",
       "    <tr>\n",
       "      <th>5985</th>\n",
       "      <td>1498</td>\n",
       "      <td>68</td>\n",
       "      <td>2018-10-25</td>\n",
       "      <td>Владикавказ</td>\n",
       "      <td>Всеволод</td>\n",
       "      <td>Акимчин</td>\n",
       "      <td>2018-07-19</td>\n",
       "      <td>smart</td>\n",
       "      <td>1</td>\n",
       "      <td>2018-10-01</td>\n",
       "      <td>2018-07-01</td>\n",
       "    </tr>\n",
       "    <tr>\n",
       "      <th>5996</th>\n",
       "      <td>1499</td>\n",
       "      <td>35</td>\n",
       "      <td>2018-12-01</td>\n",
       "      <td>Пермь</td>\n",
       "      <td>Гектор</td>\n",
       "      <td>Корнилов</td>\n",
       "      <td>2018-09-27</td>\n",
       "      <td>smart</td>\n",
       "      <td>1</td>\n",
       "      <td>2018-09-01</td>\n",
       "      <td>2018-09-01</td>\n",
       "    </tr>\n",
       "    <tr>\n",
       "      <th>5997</th>\n",
       "      <td>1499</td>\n",
       "      <td>35</td>\n",
       "      <td>2018-12-01</td>\n",
       "      <td>Пермь</td>\n",
       "      <td>Гектор</td>\n",
       "      <td>Корнилов</td>\n",
       "      <td>2018-09-27</td>\n",
       "      <td>smart</td>\n",
       "      <td>1</td>\n",
       "      <td>2018-10-01</td>\n",
       "      <td>2018-09-01</td>\n",
       "    </tr>\n",
       "    <tr>\n",
       "      <th>5998</th>\n",
       "      <td>1499</td>\n",
       "      <td>35</td>\n",
       "      <td>2018-12-01</td>\n",
       "      <td>Пермь</td>\n",
       "      <td>Гектор</td>\n",
       "      <td>Корнилов</td>\n",
       "      <td>2018-09-27</td>\n",
       "      <td>smart</td>\n",
       "      <td>1</td>\n",
       "      <td>2018-11-01</td>\n",
       "      <td>2018-09-01</td>\n",
       "    </tr>\n",
       "    <tr>\n",
       "      <th>5999</th>\n",
       "      <td>1499</td>\n",
       "      <td>35</td>\n",
       "      <td>2018-12-01</td>\n",
       "      <td>Пермь</td>\n",
       "      <td>Гектор</td>\n",
       "      <td>Корнилов</td>\n",
       "      <td>2018-09-27</td>\n",
       "      <td>smart</td>\n",
       "      <td>1</td>\n",
       "      <td>2018-12-01</td>\n",
       "      <td>2018-09-01</td>\n",
       "    </tr>\n",
       "  </tbody>\n",
       "</table>\n",
       "<p>3216 rows × 11 columns</p>\n",
       "</div>"
      ],
      "text/plain": [
       "      user_id  age  churn_date         city first_name  last_name    reg_date  \\\n",
       "4        1000   52  2018-12-01    Краснодар     Рафаил  Верещагин  2018-05-25   \n",
       "5        1000   52  2018-12-01    Краснодар     Рафаил  Верещагин  2018-05-25   \n",
       "6        1000   52  2018-12-01    Краснодар     Рафаил  Верещагин  2018-05-25   \n",
       "7        1000   52  2018-12-01    Краснодар     Рафаил  Верещагин  2018-05-25   \n",
       "8        1000   52  2018-12-01    Краснодар     Рафаил  Верещагин  2018-05-25   \n",
       "...       ...  ...         ...          ...        ...        ...         ...   \n",
       "5985     1498   68  2018-10-25  Владикавказ   Всеволод    Акимчин  2018-07-19   \n",
       "5996     1499   35  2018-12-01        Пермь     Гектор   Корнилов  2018-09-27   \n",
       "5997     1499   35  2018-12-01        Пермь     Гектор   Корнилов  2018-09-27   \n",
       "5998     1499   35  2018-12-01        Пермь     Гектор   Корнилов  2018-09-27   \n",
       "5999     1499   35  2018-12-01        Пермь     Гектор   Корнилов  2018-09-27   \n",
       "\n",
       "     tariff  key      month  reg_month  \n",
       "4     ultra    1 2018-05-01 2018-05-01  \n",
       "5     ultra    1 2018-06-01 2018-05-01  \n",
       "6     ultra    1 2018-07-01 2018-05-01  \n",
       "7     ultra    1 2018-08-01 2018-05-01  \n",
       "8     ultra    1 2018-09-01 2018-05-01  \n",
       "...     ...  ...        ...        ...  \n",
       "5985  smart    1 2018-10-01 2018-07-01  \n",
       "5996  smart    1 2018-09-01 2018-09-01  \n",
       "5997  smart    1 2018-10-01 2018-09-01  \n",
       "5998  smart    1 2018-11-01 2018-09-01  \n",
       "5999  smart    1 2018-12-01 2018-09-01  \n",
       "\n",
       "[3216 rows x 11 columns]"
      ]
     },
     "execution_count": 19,
     "metadata": {},
     "output_type": "execute_result"
    }
   ],
   "source": [
    "template = template[template['month'] <= template['churn_date']]\n",
    "template"
   ]
  },
  {
   "cell_type": "code",
   "execution_count": 20,
   "metadata": {},
   "outputs": [
    {
     "data": {
      "text/html": [
       "<div>\n",
       "<style scoped>\n",
       "    .dataframe tbody tr th:only-of-type {\n",
       "        vertical-align: middle;\n",
       "    }\n",
       "\n",
       "    .dataframe tbody tr th {\n",
       "        vertical-align: top;\n",
       "    }\n",
       "\n",
       "    .dataframe thead th {\n",
       "        text-align: right;\n",
       "    }\n",
       "</style>\n",
       "<table border=\"1\" class=\"dataframe\">\n",
       "  <thead>\n",
       "    <tr style=\"text-align: right;\">\n",
       "      <th></th>\n",
       "      <th>user_id</th>\n",
       "      <th>age</th>\n",
       "      <th>churn_date</th>\n",
       "      <th>city</th>\n",
       "      <th>first_name</th>\n",
       "      <th>last_name</th>\n",
       "      <th>reg_date</th>\n",
       "      <th>tariff</th>\n",
       "      <th>key</th>\n",
       "      <th>month</th>\n",
       "      <th>reg_month</th>\n",
       "    </tr>\n",
       "  </thead>\n",
       "  <tbody>\n",
       "    <tr>\n",
       "      <th>5982</th>\n",
       "      <td>1498</td>\n",
       "      <td>68</td>\n",
       "      <td>2018-10-25</td>\n",
       "      <td>Владикавказ</td>\n",
       "      <td>Всеволод</td>\n",
       "      <td>Акимчин</td>\n",
       "      <td>2018-07-19</td>\n",
       "      <td>smart</td>\n",
       "      <td>1</td>\n",
       "      <td>2018-07-01</td>\n",
       "      <td>2018-07-01</td>\n",
       "    </tr>\n",
       "    <tr>\n",
       "      <th>5983</th>\n",
       "      <td>1498</td>\n",
       "      <td>68</td>\n",
       "      <td>2018-10-25</td>\n",
       "      <td>Владикавказ</td>\n",
       "      <td>Всеволод</td>\n",
       "      <td>Акимчин</td>\n",
       "      <td>2018-07-19</td>\n",
       "      <td>smart</td>\n",
       "      <td>1</td>\n",
       "      <td>2018-08-01</td>\n",
       "      <td>2018-07-01</td>\n",
       "    </tr>\n",
       "    <tr>\n",
       "      <th>5984</th>\n",
       "      <td>1498</td>\n",
       "      <td>68</td>\n",
       "      <td>2018-10-25</td>\n",
       "      <td>Владикавказ</td>\n",
       "      <td>Всеволод</td>\n",
       "      <td>Акимчин</td>\n",
       "      <td>2018-07-19</td>\n",
       "      <td>smart</td>\n",
       "      <td>1</td>\n",
       "      <td>2018-09-01</td>\n",
       "      <td>2018-07-01</td>\n",
       "    </tr>\n",
       "    <tr>\n",
       "      <th>5985</th>\n",
       "      <td>1498</td>\n",
       "      <td>68</td>\n",
       "      <td>2018-10-25</td>\n",
       "      <td>Владикавказ</td>\n",
       "      <td>Всеволод</td>\n",
       "      <td>Акимчин</td>\n",
       "      <td>2018-07-19</td>\n",
       "      <td>smart</td>\n",
       "      <td>1</td>\n",
       "      <td>2018-10-01</td>\n",
       "      <td>2018-07-01</td>\n",
       "    </tr>\n",
       "  </tbody>\n",
       "</table>\n",
       "</div>"
      ],
      "text/plain": [
       "      user_id  age  churn_date         city first_name last_name    reg_date  \\\n",
       "5982     1498   68  2018-10-25  Владикавказ   Всеволод   Акимчин  2018-07-19   \n",
       "5983     1498   68  2018-10-25  Владикавказ   Всеволод   Акимчин  2018-07-19   \n",
       "5984     1498   68  2018-10-25  Владикавказ   Всеволод   Акимчин  2018-07-19   \n",
       "5985     1498   68  2018-10-25  Владикавказ   Всеволод   Акимчин  2018-07-19   \n",
       "\n",
       "     tariff  key      month  reg_month  \n",
       "5982  smart    1 2018-07-01 2018-07-01  \n",
       "5983  smart    1 2018-08-01 2018-07-01  \n",
       "5984  smart    1 2018-09-01 2018-07-01  \n",
       "5985  smart    1 2018-10-01 2018-07-01  "
      ]
     },
     "execution_count": 20,
     "metadata": {},
     "output_type": "execute_result"
    }
   ],
   "source": [
    "template[template['user_id'] == 1498]"
   ]
  },
  {
   "cell_type": "markdown",
   "metadata": {},
   "source": [
    "- user_id — уникальный идентификатор пользователя\n",
    "- first_name — имя пользователя\n",
    "- last_name — фамилия пользователя\n",
    "- age — возраст пользователя (годы)\n",
    "- reg_date — дата подключения тарифа (день, месяц, год)\n",
    "- churn_date — дата прекращения пользования тарифом (если значение пропущено, то тариф ещё действовал на момент выгрузки данных)\n",
    "- city — город проживания пользователя\n",
    "- tarif — название тарифного плана\n",
    "- call_date — дата звонка\n",
    "- duration — длительность звонка в минутах\n",
    "- message_date — дата сообщения\n",
    "- user_id — идентификатор пользователя, отправившего сообщение\n",
    "- mb_used — объём потраченного за сессию интернет-трафика (в мегабайтах)\n",
    "- session_date — дата интернет-сессии\n",
    "- tariff_name — название тарифа\n",
    "- rub_monthly_fee — ежемесячная абонентская плата в рублях\n",
    "- minutes_included — количество минут разговора в месяц, включённых в абонентскую плату\n",
    "- messages_included — количество сообщений в месяц, включённых в абонентскую плату\n",
    "- mb_per_month_included — объём интернет-трафика, включённого в абонентскую плату (в мегабайтах)\n",
    "- rub_per_minute — стоимость минуты разговора сверх тарифного пакета (например, если в тарифе 100 минут разговора в месяц, то со - 101 минуты будет взиматься плата)\n",
    "- rub_per_message — стоимость отправки сообщения сверх тарифного пакета\n",
    "- rub_per_gb — стоимость дополнительного гигабайта интернет-трафика сверх тарифного пакета (1 гигабайт = 1024 мегабайта)"
   ]
  },
  {
   "cell_type": "markdown",
   "metadata": {},
   "source": [
    "### Вывод"
   ]
  },
  {
   "cell_type": "markdown",
   "metadata": {},
   "source": [
    "- Есть пропуски в столбце `churn_date`, заменили на первый день последнего месяца в выборке.\n",
    "- Нужно поменять тип данных на дату в столбцах `churn_date`, `reg_date`, `message_date`, `session_date` и `call_date`."
   ]
  },
  {
   "cell_type": "markdown",
   "metadata": {},
   "source": [
    "## Шаг 2. Подготовьте данные"
   ]
  },
  {
   "cell_type": "markdown",
   "metadata": {},
   "source": [
    "### Приведите данные к нужным типам"
   ]
  },
  {
   "cell_type": "code",
   "execution_count": 21,
   "metadata": {},
   "outputs": [],
   "source": [
    "data_calls['call_date'] = data_calls['call_date'].apply(pd.to_datetime)"
   ]
  },
  {
   "cell_type": "code",
   "execution_count": 22,
   "metadata": {},
   "outputs": [],
   "source": [
    "data_messages['message_date'] = data_messages['message_date'].apply(pd.to_datetime)"
   ]
  },
  {
   "cell_type": "code",
   "execution_count": 23,
   "metadata": {},
   "outputs": [],
   "source": [
    "data_internet['session_date'] = data_internet['session_date'].apply(pd.to_datetime)"
   ]
  },
  {
   "cell_type": "code",
   "execution_count": 24,
   "metadata": {},
   "outputs": [],
   "source": [
    "template[['churn_date', 'reg_date']] = template[['churn_date', 'reg_date']].apply(pd.to_datetime)"
   ]
  },
  {
   "cell_type": "code",
   "execution_count": 25,
   "metadata": {},
   "outputs": [
    {
     "name": "stdout",
     "output_type": "stream",
     "text": [
      "<class 'pandas.core.frame.DataFrame'>\n",
      "RangeIndex: 202607 entries, 0 to 202606\n",
      "Data columns (total 4 columns):\n",
      " #   Column     Non-Null Count   Dtype         \n",
      "---  ------     --------------   -----         \n",
      " 0   id         202607 non-null  object        \n",
      " 1   call_date  202607 non-null  datetime64[ns]\n",
      " 2   duration   202607 non-null  float64       \n",
      " 3   user_id    202607 non-null  int64         \n",
      "dtypes: datetime64[ns](1), float64(1), int64(1), object(1)\n",
      "memory usage: 6.2+ MB\n",
      "<class 'pandas.core.frame.DataFrame'>\n",
      "RangeIndex: 123036 entries, 0 to 123035\n",
      "Data columns (total 3 columns):\n",
      " #   Column        Non-Null Count   Dtype         \n",
      "---  ------        --------------   -----         \n",
      " 0   id            123036 non-null  object        \n",
      " 1   message_date  123036 non-null  datetime64[ns]\n",
      " 2   user_id       123036 non-null  int64         \n",
      "dtypes: datetime64[ns](1), int64(1), object(1)\n",
      "memory usage: 2.8+ MB\n",
      "<class 'pandas.core.frame.DataFrame'>\n",
      "Int64Index: 149396 entries, 0 to 149395\n",
      "Data columns (total 4 columns):\n",
      " #   Column        Non-Null Count   Dtype         \n",
      "---  ------        --------------   -----         \n",
      " 0   id            149396 non-null  object        \n",
      " 1   mb_used       149396 non-null  float64       \n",
      " 2   session_date  149396 non-null  datetime64[ns]\n",
      " 3   user_id       149396 non-null  int64         \n",
      "dtypes: datetime64[ns](1), float64(1), int64(1), object(1)\n",
      "memory usage: 5.7+ MB\n",
      "<class 'pandas.core.frame.DataFrame'>\n",
      "Int64Index: 3216 entries, 4 to 5999\n",
      "Data columns (total 11 columns):\n",
      " #   Column      Non-Null Count  Dtype         \n",
      "---  ------      --------------  -----         \n",
      " 0   user_id     3216 non-null   int64         \n",
      " 1   age         3216 non-null   int64         \n",
      " 2   churn_date  3216 non-null   datetime64[ns]\n",
      " 3   city        3216 non-null   object        \n",
      " 4   first_name  3216 non-null   object        \n",
      " 5   last_name   3216 non-null   object        \n",
      " 6   reg_date    3216 non-null   datetime64[ns]\n",
      " 7   tariff      3216 non-null   object        \n",
      " 8   key         3216 non-null   int64         \n",
      " 9   month       3216 non-null   datetime64[ns]\n",
      " 10  reg_month   3216 non-null   datetime64[ns]\n",
      "dtypes: datetime64[ns](4), int64(3), object(4)\n",
      "memory usage: 301.5+ KB\n"
     ]
    },
    {
     "data": {
      "text/plain": [
       "(None, None, None, None)"
      ]
     },
     "execution_count": 25,
     "metadata": {},
     "output_type": "execute_result"
    }
   ],
   "source": [
    "data_calls.info(),data_messages.info(),data_internet.info(),template.info()"
   ]
  },
  {
   "cell_type": "markdown",
   "metadata": {},
   "source": [
    "### Найдите и исправьте ошибки в данных, если они есть."
   ]
  },
  {
   "cell_type": "markdown",
   "metadata": {},
   "source": [
    "Так как даже если звонок длился всего 1 секунду, будет засчитан как 1 минута, округлим длительность звонков в большую сторону."
   ]
  },
  {
   "cell_type": "code",
   "execution_count": 26,
   "metadata": {},
   "outputs": [
    {
     "data": {
      "text/html": [
       "<div>\n",
       "<style scoped>\n",
       "    .dataframe tbody tr th:only-of-type {\n",
       "        vertical-align: middle;\n",
       "    }\n",
       "\n",
       "    .dataframe tbody tr th {\n",
       "        vertical-align: top;\n",
       "    }\n",
       "\n",
       "    .dataframe thead th {\n",
       "        text-align: right;\n",
       "    }\n",
       "</style>\n",
       "<table border=\"1\" class=\"dataframe\">\n",
       "  <thead>\n",
       "    <tr style=\"text-align: right;\">\n",
       "      <th></th>\n",
       "      <th>id</th>\n",
       "      <th>call_date</th>\n",
       "      <th>duration</th>\n",
       "      <th>user_id</th>\n",
       "    </tr>\n",
       "  </thead>\n",
       "  <tbody>\n",
       "    <tr>\n",
       "      <th>0</th>\n",
       "      <td>1000_0</td>\n",
       "      <td>2018-07-25</td>\n",
       "      <td>0.00</td>\n",
       "      <td>1000</td>\n",
       "    </tr>\n",
       "    <tr>\n",
       "      <th>1</th>\n",
       "      <td>1000_1</td>\n",
       "      <td>2018-08-17</td>\n",
       "      <td>0.00</td>\n",
       "      <td>1000</td>\n",
       "    </tr>\n",
       "    <tr>\n",
       "      <th>2</th>\n",
       "      <td>1000_2</td>\n",
       "      <td>2018-06-11</td>\n",
       "      <td>2.85</td>\n",
       "      <td>1000</td>\n",
       "    </tr>\n",
       "    <tr>\n",
       "      <th>3</th>\n",
       "      <td>1000_3</td>\n",
       "      <td>2018-09-21</td>\n",
       "      <td>13.80</td>\n",
       "      <td>1000</td>\n",
       "    </tr>\n",
       "    <tr>\n",
       "      <th>4</th>\n",
       "      <td>1000_4</td>\n",
       "      <td>2018-12-15</td>\n",
       "      <td>5.18</td>\n",
       "      <td>1000</td>\n",
       "    </tr>\n",
       "  </tbody>\n",
       "</table>\n",
       "</div>"
      ],
      "text/plain": [
       "       id  call_date  duration  user_id\n",
       "0  1000_0 2018-07-25      0.00     1000\n",
       "1  1000_1 2018-08-17      0.00     1000\n",
       "2  1000_2 2018-06-11      2.85     1000\n",
       "3  1000_3 2018-09-21     13.80     1000\n",
       "4  1000_4 2018-12-15      5.18     1000"
      ]
     },
     "execution_count": 26,
     "metadata": {},
     "output_type": "execute_result"
    }
   ],
   "source": [
    "data_calls.head()"
   ]
  },
  {
   "cell_type": "code",
   "execution_count": 27,
   "metadata": {},
   "outputs": [
    {
     "data": {
      "text/html": [
       "<div>\n",
       "<style scoped>\n",
       "    .dataframe tbody tr th:only-of-type {\n",
       "        vertical-align: middle;\n",
       "    }\n",
       "\n",
       "    .dataframe tbody tr th {\n",
       "        vertical-align: top;\n",
       "    }\n",
       "\n",
       "    .dataframe thead th {\n",
       "        text-align: right;\n",
       "    }\n",
       "</style>\n",
       "<table border=\"1\" class=\"dataframe\">\n",
       "  <thead>\n",
       "    <tr style=\"text-align: right;\">\n",
       "      <th></th>\n",
       "      <th>id</th>\n",
       "      <th>call_date</th>\n",
       "      <th>duration</th>\n",
       "      <th>user_id</th>\n",
       "    </tr>\n",
       "  </thead>\n",
       "  <tbody>\n",
       "    <tr>\n",
       "      <th>0</th>\n",
       "      <td>1000_0</td>\n",
       "      <td>2018-07-25</td>\n",
       "      <td>0.0</td>\n",
       "      <td>1000</td>\n",
       "    </tr>\n",
       "    <tr>\n",
       "      <th>1</th>\n",
       "      <td>1000_1</td>\n",
       "      <td>2018-08-17</td>\n",
       "      <td>0.0</td>\n",
       "      <td>1000</td>\n",
       "    </tr>\n",
       "    <tr>\n",
       "      <th>2</th>\n",
       "      <td>1000_2</td>\n",
       "      <td>2018-06-11</td>\n",
       "      <td>3.0</td>\n",
       "      <td>1000</td>\n",
       "    </tr>\n",
       "    <tr>\n",
       "      <th>3</th>\n",
       "      <td>1000_3</td>\n",
       "      <td>2018-09-21</td>\n",
       "      <td>14.0</td>\n",
       "      <td>1000</td>\n",
       "    </tr>\n",
       "    <tr>\n",
       "      <th>4</th>\n",
       "      <td>1000_4</td>\n",
       "      <td>2018-12-15</td>\n",
       "      <td>6.0</td>\n",
       "      <td>1000</td>\n",
       "    </tr>\n",
       "  </tbody>\n",
       "</table>\n",
       "</div>"
      ],
      "text/plain": [
       "       id  call_date  duration  user_id\n",
       "0  1000_0 2018-07-25       0.0     1000\n",
       "1  1000_1 2018-08-17       0.0     1000\n",
       "2  1000_2 2018-06-11       3.0     1000\n",
       "3  1000_3 2018-09-21      14.0     1000\n",
       "4  1000_4 2018-12-15       6.0     1000"
      ]
     },
     "execution_count": 27,
     "metadata": {},
     "output_type": "execute_result"
    }
   ],
   "source": [
    "data_calls['duration'] = np.ceil(data_calls['duration'])\n",
    "data_calls.head()"
   ]
  },
  {
   "cell_type": "markdown",
   "metadata": {},
   "source": [
    "Добавим колонку с номером месяца для сообщений, звонков и интеренета."
   ]
  },
  {
   "cell_type": "code",
   "execution_count": 28,
   "metadata": {},
   "outputs": [],
   "source": [
    "data_calls['month'] = data_calls['call_date'].astype('datetime64[M]')\n",
    "data_messages['month'] = data_messages['message_date'].astype('datetime64[M]')\n",
    "data_internet['month'] = data_internet['session_date'].astype('datetime64[M]')"
   ]
  },
  {
   "cell_type": "code",
   "execution_count": 29,
   "metadata": {},
   "outputs": [
    {
     "data": {
      "text/html": [
       "<div>\n",
       "<style scoped>\n",
       "    .dataframe tbody tr th:only-of-type {\n",
       "        vertical-align: middle;\n",
       "    }\n",
       "\n",
       "    .dataframe tbody tr th {\n",
       "        vertical-align: top;\n",
       "    }\n",
       "\n",
       "    .dataframe thead th {\n",
       "        text-align: right;\n",
       "    }\n",
       "</style>\n",
       "<table border=\"1\" class=\"dataframe\">\n",
       "  <thead>\n",
       "    <tr style=\"text-align: right;\">\n",
       "      <th></th>\n",
       "      <th>id</th>\n",
       "      <th>call_date</th>\n",
       "      <th>duration</th>\n",
       "      <th>user_id</th>\n",
       "      <th>month</th>\n",
       "    </tr>\n",
       "  </thead>\n",
       "  <tbody>\n",
       "    <tr>\n",
       "      <th>0</th>\n",
       "      <td>1000_0</td>\n",
       "      <td>2018-07-25</td>\n",
       "      <td>0.0</td>\n",
       "      <td>1000</td>\n",
       "      <td>2018-07-01</td>\n",
       "    </tr>\n",
       "  </tbody>\n",
       "</table>\n",
       "</div>"
      ],
      "text/plain": [
       "       id  call_date  duration  user_id      month\n",
       "0  1000_0 2018-07-25       0.0     1000 2018-07-01"
      ]
     },
     "execution_count": 29,
     "metadata": {},
     "output_type": "execute_result"
    }
   ],
   "source": [
    "data_calls.head(1)"
   ]
  },
  {
   "cell_type": "code",
   "execution_count": 30,
   "metadata": {},
   "outputs": [
    {
     "data": {
      "text/html": [
       "<div>\n",
       "<style scoped>\n",
       "    .dataframe tbody tr th:only-of-type {\n",
       "        vertical-align: middle;\n",
       "    }\n",
       "\n",
       "    .dataframe tbody tr th {\n",
       "        vertical-align: top;\n",
       "    }\n",
       "\n",
       "    .dataframe thead th {\n",
       "        text-align: right;\n",
       "    }\n",
       "</style>\n",
       "<table border=\"1\" class=\"dataframe\">\n",
       "  <thead>\n",
       "    <tr style=\"text-align: right;\">\n",
       "      <th></th>\n",
       "      <th>id</th>\n",
       "      <th>message_date</th>\n",
       "      <th>user_id</th>\n",
       "      <th>month</th>\n",
       "    </tr>\n",
       "  </thead>\n",
       "  <tbody>\n",
       "    <tr>\n",
       "      <th>0</th>\n",
       "      <td>1000_0</td>\n",
       "      <td>2018-06-27</td>\n",
       "      <td>1000</td>\n",
       "      <td>2018-06-01</td>\n",
       "    </tr>\n",
       "  </tbody>\n",
       "</table>\n",
       "</div>"
      ],
      "text/plain": [
       "       id message_date  user_id      month\n",
       "0  1000_0   2018-06-27     1000 2018-06-01"
      ]
     },
     "execution_count": 30,
     "metadata": {},
     "output_type": "execute_result"
    }
   ],
   "source": [
    "data_messages.head(1)"
   ]
  },
  {
   "cell_type": "code",
   "execution_count": 31,
   "metadata": {},
   "outputs": [
    {
     "data": {
      "text/html": [
       "<div>\n",
       "<style scoped>\n",
       "    .dataframe tbody tr th:only-of-type {\n",
       "        vertical-align: middle;\n",
       "    }\n",
       "\n",
       "    .dataframe tbody tr th {\n",
       "        vertical-align: top;\n",
       "    }\n",
       "\n",
       "    .dataframe thead th {\n",
       "        text-align: right;\n",
       "    }\n",
       "</style>\n",
       "<table border=\"1\" class=\"dataframe\">\n",
       "  <thead>\n",
       "    <tr style=\"text-align: right;\">\n",
       "      <th></th>\n",
       "      <th>id</th>\n",
       "      <th>mb_used</th>\n",
       "      <th>session_date</th>\n",
       "      <th>user_id</th>\n",
       "      <th>month</th>\n",
       "    </tr>\n",
       "  </thead>\n",
       "  <tbody>\n",
       "    <tr>\n",
       "      <th>0</th>\n",
       "      <td>1000_0</td>\n",
       "      <td>112.95</td>\n",
       "      <td>2018-11-25</td>\n",
       "      <td>1000</td>\n",
       "      <td>2018-11-01</td>\n",
       "    </tr>\n",
       "  </tbody>\n",
       "</table>\n",
       "</div>"
      ],
      "text/plain": [
       "       id  mb_used session_date  user_id      month\n",
       "0  1000_0   112.95   2018-11-25     1000 2018-11-01"
      ]
     },
     "execution_count": 31,
     "metadata": {},
     "output_type": "execute_result"
    }
   ],
   "source": [
    "data_internet.head(1)"
   ]
  },
  {
   "cell_type": "markdown",
   "metadata": {},
   "source": [
    "### Посчитайте для каждого пользователя:"
   ]
  },
  {
   "cell_type": "markdown",
   "metadata": {},
   "source": [
    "#### количество сделанных звонков и израсходованных минут разговора по месяцам;"
   ]
  },
  {
   "cell_type": "code",
   "execution_count": 32,
   "metadata": {},
   "outputs": [
    {
     "data": {
      "text/html": [
       "<div>\n",
       "<style scoped>\n",
       "    .dataframe tbody tr th:only-of-type {\n",
       "        vertical-align: middle;\n",
       "    }\n",
       "\n",
       "    .dataframe tbody tr th {\n",
       "        vertical-align: top;\n",
       "    }\n",
       "\n",
       "    .dataframe thead th {\n",
       "        text-align: right;\n",
       "    }\n",
       "</style>\n",
       "<table border=\"1\" class=\"dataframe\">\n",
       "  <thead>\n",
       "    <tr style=\"text-align: right;\">\n",
       "      <th></th>\n",
       "      <th>user_id</th>\n",
       "      <th>month</th>\n",
       "      <th>count_calls</th>\n",
       "      <th>duration_sum</th>\n",
       "    </tr>\n",
       "  </thead>\n",
       "  <tbody>\n",
       "    <tr>\n",
       "      <th>0</th>\n",
       "      <td>1000</td>\n",
       "      <td>2018-05-01</td>\n",
       "      <td>22</td>\n",
       "      <td>159.0</td>\n",
       "    </tr>\n",
       "    <tr>\n",
       "      <th>1</th>\n",
       "      <td>1000</td>\n",
       "      <td>2018-06-01</td>\n",
       "      <td>43</td>\n",
       "      <td>172.0</td>\n",
       "    </tr>\n",
       "    <tr>\n",
       "      <th>2</th>\n",
       "      <td>1000</td>\n",
       "      <td>2018-07-01</td>\n",
       "      <td>47</td>\n",
       "      <td>340.0</td>\n",
       "    </tr>\n",
       "    <tr>\n",
       "      <th>3</th>\n",
       "      <td>1000</td>\n",
       "      <td>2018-08-01</td>\n",
       "      <td>52</td>\n",
       "      <td>408.0</td>\n",
       "    </tr>\n",
       "    <tr>\n",
       "      <th>4</th>\n",
       "      <td>1000</td>\n",
       "      <td>2018-09-01</td>\n",
       "      <td>58</td>\n",
       "      <td>466.0</td>\n",
       "    </tr>\n",
       "  </tbody>\n",
       "</table>\n",
       "</div>"
      ],
      "text/plain": [
       "   user_id      month  count_calls  duration_sum\n",
       "0     1000 2018-05-01           22         159.0\n",
       "1     1000 2018-06-01           43         172.0\n",
       "2     1000 2018-07-01           47         340.0\n",
       "3     1000 2018-08-01           52         408.0\n",
       "4     1000 2018-09-01           58         466.0"
      ]
     },
     "execution_count": 32,
     "metadata": {},
     "output_type": "execute_result"
    }
   ],
   "source": [
    "calls_month = data_calls.groupby(['user_id', 'month']).agg({'call_date':'count', 'duration': 'sum'}).reset_index()\n",
    "calls_month = calls_month.rename(columns={\"call_date\": \"count_calls\", \"duration\": \"duration_sum\"})\n",
    "calls_month.head()"
   ]
  },
  {
   "cell_type": "markdown",
   "metadata": {},
   "source": [
    "#### количество отправленных сообщений по месяцам;"
   ]
  },
  {
   "cell_type": "code",
   "execution_count": 33,
   "metadata": {},
   "outputs": [
    {
     "data": {
      "text/html": [
       "<div>\n",
       "<style scoped>\n",
       "    .dataframe tbody tr th:only-of-type {\n",
       "        vertical-align: middle;\n",
       "    }\n",
       "\n",
       "    .dataframe tbody tr th {\n",
       "        vertical-align: top;\n",
       "    }\n",
       "\n",
       "    .dataframe thead th {\n",
       "        text-align: right;\n",
       "    }\n",
       "</style>\n",
       "<table border=\"1\" class=\"dataframe\">\n",
       "  <thead>\n",
       "    <tr style=\"text-align: right;\">\n",
       "      <th></th>\n",
       "      <th>user_id</th>\n",
       "      <th>month</th>\n",
       "      <th>count_messages</th>\n",
       "    </tr>\n",
       "  </thead>\n",
       "  <tbody>\n",
       "    <tr>\n",
       "      <th>0</th>\n",
       "      <td>1000</td>\n",
       "      <td>2018-05-01</td>\n",
       "      <td>22</td>\n",
       "    </tr>\n",
       "    <tr>\n",
       "      <th>1</th>\n",
       "      <td>1000</td>\n",
       "      <td>2018-06-01</td>\n",
       "      <td>60</td>\n",
       "    </tr>\n",
       "    <tr>\n",
       "      <th>2</th>\n",
       "      <td>1000</td>\n",
       "      <td>2018-07-01</td>\n",
       "      <td>75</td>\n",
       "    </tr>\n",
       "    <tr>\n",
       "      <th>3</th>\n",
       "      <td>1000</td>\n",
       "      <td>2018-08-01</td>\n",
       "      <td>81</td>\n",
       "    </tr>\n",
       "    <tr>\n",
       "      <th>4</th>\n",
       "      <td>1000</td>\n",
       "      <td>2018-09-01</td>\n",
       "      <td>57</td>\n",
       "    </tr>\n",
       "  </tbody>\n",
       "</table>\n",
       "</div>"
      ],
      "text/plain": [
       "   user_id      month  count_messages\n",
       "0     1000 2018-05-01              22\n",
       "1     1000 2018-06-01              60\n",
       "2     1000 2018-07-01              75\n",
       "3     1000 2018-08-01              81\n",
       "4     1000 2018-09-01              57"
      ]
     },
     "execution_count": 33,
     "metadata": {},
     "output_type": "execute_result"
    }
   ],
   "source": [
    "messages_month = data_messages.groupby(['user_id', 'month']).agg({'message_date':'count'}).reset_index()\n",
    "messages_month = messages_month.rename(columns={\"message_date\": \"count_messages\"})\n",
    "messages_month.head()"
   ]
  },
  {
   "cell_type": "markdown",
   "metadata": {},
   "source": [
    "#### объем израсходованного интернет-трафика по месяцам;"
   ]
  },
  {
   "cell_type": "code",
   "execution_count": 34,
   "metadata": {},
   "outputs": [
    {
     "data": {
      "text/html": [
       "<div>\n",
       "<style scoped>\n",
       "    .dataframe tbody tr th:only-of-type {\n",
       "        vertical-align: middle;\n",
       "    }\n",
       "\n",
       "    .dataframe tbody tr th {\n",
       "        vertical-align: top;\n",
       "    }\n",
       "\n",
       "    .dataframe thead th {\n",
       "        text-align: right;\n",
       "    }\n",
       "</style>\n",
       "<table border=\"1\" class=\"dataframe\">\n",
       "  <thead>\n",
       "    <tr style=\"text-align: right;\">\n",
       "      <th></th>\n",
       "      <th>user_id</th>\n",
       "      <th>month</th>\n",
       "      <th>mb_used_sum</th>\n",
       "    </tr>\n",
       "  </thead>\n",
       "  <tbody>\n",
       "    <tr>\n",
       "      <th>0</th>\n",
       "      <td>1000</td>\n",
       "      <td>2018-05-01</td>\n",
       "      <td>2253.49</td>\n",
       "    </tr>\n",
       "    <tr>\n",
       "      <th>1</th>\n",
       "      <td>1000</td>\n",
       "      <td>2018-06-01</td>\n",
       "      <td>23233.77</td>\n",
       "    </tr>\n",
       "    <tr>\n",
       "      <th>2</th>\n",
       "      <td>1000</td>\n",
       "      <td>2018-07-01</td>\n",
       "      <td>14003.64</td>\n",
       "    </tr>\n",
       "    <tr>\n",
       "      <th>3</th>\n",
       "      <td>1000</td>\n",
       "      <td>2018-08-01</td>\n",
       "      <td>14055.93</td>\n",
       "    </tr>\n",
       "    <tr>\n",
       "      <th>4</th>\n",
       "      <td>1000</td>\n",
       "      <td>2018-09-01</td>\n",
       "      <td>14568.91</td>\n",
       "    </tr>\n",
       "  </tbody>\n",
       "</table>\n",
       "</div>"
      ],
      "text/plain": [
       "   user_id      month  mb_used_sum\n",
       "0     1000 2018-05-01      2253.49\n",
       "1     1000 2018-06-01     23233.77\n",
       "2     1000 2018-07-01     14003.64\n",
       "3     1000 2018-08-01     14055.93\n",
       "4     1000 2018-09-01     14568.91"
      ]
     },
     "execution_count": 34,
     "metadata": {},
     "output_type": "execute_result"
    }
   ],
   "source": [
    "internet_month = data_internet.groupby(['user_id', 'month']).agg({'mb_used': 'sum'}).reset_index()\n",
    "internet_month = internet_month.rename(columns={\"mb_used\": \"mb_used_sum\"})\n",
    "internet_month.head()"
   ]
  },
  {
   "cell_type": "markdown",
   "metadata": {},
   "source": [
    "Так как если абонент использует 1025 мегабайт в этом месяце, с него возьмут плату за 2 гигабайта, добавим столбец с использоваными гигибайтами и округлим его в большую сторону."
   ]
  },
  {
   "cell_type": "code",
   "execution_count": 35,
   "metadata": {},
   "outputs": [
    {
     "data": {
      "text/html": [
       "<div>\n",
       "<style scoped>\n",
       "    .dataframe tbody tr th:only-of-type {\n",
       "        vertical-align: middle;\n",
       "    }\n",
       "\n",
       "    .dataframe tbody tr th {\n",
       "        vertical-align: top;\n",
       "    }\n",
       "\n",
       "    .dataframe thead th {\n",
       "        text-align: right;\n",
       "    }\n",
       "</style>\n",
       "<table border=\"1\" class=\"dataframe\">\n",
       "  <thead>\n",
       "    <tr style=\"text-align: right;\">\n",
       "      <th></th>\n",
       "      <th>user_id</th>\n",
       "      <th>month</th>\n",
       "      <th>mb_used_sum</th>\n",
       "      <th>gb_used</th>\n",
       "    </tr>\n",
       "  </thead>\n",
       "  <tbody>\n",
       "    <tr>\n",
       "      <th>0</th>\n",
       "      <td>1000</td>\n",
       "      <td>2018-05-01</td>\n",
       "      <td>2253.49</td>\n",
       "      <td>3.0</td>\n",
       "    </tr>\n",
       "    <tr>\n",
       "      <th>1</th>\n",
       "      <td>1000</td>\n",
       "      <td>2018-06-01</td>\n",
       "      <td>23233.77</td>\n",
       "      <td>23.0</td>\n",
       "    </tr>\n",
       "    <tr>\n",
       "      <th>2</th>\n",
       "      <td>1000</td>\n",
       "      <td>2018-07-01</td>\n",
       "      <td>14003.64</td>\n",
       "      <td>14.0</td>\n",
       "    </tr>\n",
       "    <tr>\n",
       "      <th>3</th>\n",
       "      <td>1000</td>\n",
       "      <td>2018-08-01</td>\n",
       "      <td>14055.93</td>\n",
       "      <td>14.0</td>\n",
       "    </tr>\n",
       "    <tr>\n",
       "      <th>4</th>\n",
       "      <td>1000</td>\n",
       "      <td>2018-09-01</td>\n",
       "      <td>14568.91</td>\n",
       "      <td>15.0</td>\n",
       "    </tr>\n",
       "  </tbody>\n",
       "</table>\n",
       "</div>"
      ],
      "text/plain": [
       "   user_id      month  mb_used_sum  gb_used\n",
       "0     1000 2018-05-01      2253.49      3.0\n",
       "1     1000 2018-06-01     23233.77     23.0\n",
       "2     1000 2018-07-01     14003.64     14.0\n",
       "3     1000 2018-08-01     14055.93     14.0\n",
       "4     1000 2018-09-01     14568.91     15.0"
      ]
     },
     "execution_count": 35,
     "metadata": {},
     "output_type": "execute_result"
    }
   ],
   "source": [
    "internet_month['gb_used'] = internet_month.mb_used_sum / 1024\n",
    "internet_month['gb_used'] = internet_month['gb_used'].apply(np.ceil)\n",
    "internet_month.head()"
   ]
  },
  {
   "cell_type": "markdown",
   "metadata": {},
   "source": [
    "#### помесячную выручку с каждого пользователя (вычтите бесплатный лимит из суммарного количества звонков, сообщений и интернет-трафика; остаток умножьте на значение из тарифного плана; прибавьте абонентскую плату, соответствующую тарифному плану)."
   ]
  },
  {
   "cell_type": "markdown",
   "metadata": {},
   "source": [
    "Объединим все таблицы"
   ]
  },
  {
   "cell_type": "code",
   "execution_count": 36,
   "metadata": {},
   "outputs": [
    {
     "data": {
      "text/html": [
       "<div>\n",
       "<style scoped>\n",
       "    .dataframe tbody tr th:only-of-type {\n",
       "        vertical-align: middle;\n",
       "    }\n",
       "\n",
       "    .dataframe tbody tr th {\n",
       "        vertical-align: top;\n",
       "    }\n",
       "\n",
       "    .dataframe thead th {\n",
       "        text-align: right;\n",
       "    }\n",
       "</style>\n",
       "<table border=\"1\" class=\"dataframe\">\n",
       "  <thead>\n",
       "    <tr style=\"text-align: right;\">\n",
       "      <th></th>\n",
       "      <th>user_id</th>\n",
       "      <th>age</th>\n",
       "      <th>churn_date</th>\n",
       "      <th>city</th>\n",
       "      <th>first_name</th>\n",
       "      <th>last_name</th>\n",
       "      <th>reg_date</th>\n",
       "      <th>tariff</th>\n",
       "      <th>key</th>\n",
       "      <th>month</th>\n",
       "      <th>...</th>\n",
       "      <th>mb_used_sum</th>\n",
       "      <th>gb_used</th>\n",
       "      <th>messages_included</th>\n",
       "      <th>mb_per_month_included</th>\n",
       "      <th>minutes_included</th>\n",
       "      <th>rub_monthly_fee</th>\n",
       "      <th>rub_per_gb</th>\n",
       "      <th>rub_per_message</th>\n",
       "      <th>rub_per_minute</th>\n",
       "      <th>tariff_name</th>\n",
       "    </tr>\n",
       "  </thead>\n",
       "  <tbody>\n",
       "    <tr>\n",
       "      <th>0</th>\n",
       "      <td>1000</td>\n",
       "      <td>52</td>\n",
       "      <td>2018-12-01</td>\n",
       "      <td>Краснодар</td>\n",
       "      <td>Рафаил</td>\n",
       "      <td>Верещагин</td>\n",
       "      <td>2018-05-25</td>\n",
       "      <td>ultra</td>\n",
       "      <td>1</td>\n",
       "      <td>2018-05-01</td>\n",
       "      <td>...</td>\n",
       "      <td>2253.49</td>\n",
       "      <td>3.0</td>\n",
       "      <td>1000</td>\n",
       "      <td>30720</td>\n",
       "      <td>3000</td>\n",
       "      <td>1950</td>\n",
       "      <td>150</td>\n",
       "      <td>1</td>\n",
       "      <td>1</td>\n",
       "      <td>ultra</td>\n",
       "    </tr>\n",
       "    <tr>\n",
       "      <th>1</th>\n",
       "      <td>1000</td>\n",
       "      <td>52</td>\n",
       "      <td>2018-12-01</td>\n",
       "      <td>Краснодар</td>\n",
       "      <td>Рафаил</td>\n",
       "      <td>Верещагин</td>\n",
       "      <td>2018-05-25</td>\n",
       "      <td>ultra</td>\n",
       "      <td>1</td>\n",
       "      <td>2018-06-01</td>\n",
       "      <td>...</td>\n",
       "      <td>23233.77</td>\n",
       "      <td>23.0</td>\n",
       "      <td>1000</td>\n",
       "      <td>30720</td>\n",
       "      <td>3000</td>\n",
       "      <td>1950</td>\n",
       "      <td>150</td>\n",
       "      <td>1</td>\n",
       "      <td>1</td>\n",
       "      <td>ultra</td>\n",
       "    </tr>\n",
       "    <tr>\n",
       "      <th>2</th>\n",
       "      <td>1000</td>\n",
       "      <td>52</td>\n",
       "      <td>2018-12-01</td>\n",
       "      <td>Краснодар</td>\n",
       "      <td>Рафаил</td>\n",
       "      <td>Верещагин</td>\n",
       "      <td>2018-05-25</td>\n",
       "      <td>ultra</td>\n",
       "      <td>1</td>\n",
       "      <td>2018-07-01</td>\n",
       "      <td>...</td>\n",
       "      <td>14003.64</td>\n",
       "      <td>14.0</td>\n",
       "      <td>1000</td>\n",
       "      <td>30720</td>\n",
       "      <td>3000</td>\n",
       "      <td>1950</td>\n",
       "      <td>150</td>\n",
       "      <td>1</td>\n",
       "      <td>1</td>\n",
       "      <td>ultra</td>\n",
       "    </tr>\n",
       "    <tr>\n",
       "      <th>3</th>\n",
       "      <td>1000</td>\n",
       "      <td>52</td>\n",
       "      <td>2018-12-01</td>\n",
       "      <td>Краснодар</td>\n",
       "      <td>Рафаил</td>\n",
       "      <td>Верещагин</td>\n",
       "      <td>2018-05-25</td>\n",
       "      <td>ultra</td>\n",
       "      <td>1</td>\n",
       "      <td>2018-08-01</td>\n",
       "      <td>...</td>\n",
       "      <td>14055.93</td>\n",
       "      <td>14.0</td>\n",
       "      <td>1000</td>\n",
       "      <td>30720</td>\n",
       "      <td>3000</td>\n",
       "      <td>1950</td>\n",
       "      <td>150</td>\n",
       "      <td>1</td>\n",
       "      <td>1</td>\n",
       "      <td>ultra</td>\n",
       "    </tr>\n",
       "    <tr>\n",
       "      <th>4</th>\n",
       "      <td>1000</td>\n",
       "      <td>52</td>\n",
       "      <td>2018-12-01</td>\n",
       "      <td>Краснодар</td>\n",
       "      <td>Рафаил</td>\n",
       "      <td>Верещагин</td>\n",
       "      <td>2018-05-25</td>\n",
       "      <td>ultra</td>\n",
       "      <td>1</td>\n",
       "      <td>2018-09-01</td>\n",
       "      <td>...</td>\n",
       "      <td>14568.91</td>\n",
       "      <td>15.0</td>\n",
       "      <td>1000</td>\n",
       "      <td>30720</td>\n",
       "      <td>3000</td>\n",
       "      <td>1950</td>\n",
       "      <td>150</td>\n",
       "      <td>1</td>\n",
       "      <td>1</td>\n",
       "      <td>ultra</td>\n",
       "    </tr>\n",
       "    <tr>\n",
       "      <th>...</th>\n",
       "      <td>...</td>\n",
       "      <td>...</td>\n",
       "      <td>...</td>\n",
       "      <td>...</td>\n",
       "      <td>...</td>\n",
       "      <td>...</td>\n",
       "      <td>...</td>\n",
       "      <td>...</td>\n",
       "      <td>...</td>\n",
       "      <td>...</td>\n",
       "      <td>...</td>\n",
       "      <td>...</td>\n",
       "      <td>...</td>\n",
       "      <td>...</td>\n",
       "      <td>...</td>\n",
       "      <td>...</td>\n",
       "      <td>...</td>\n",
       "      <td>...</td>\n",
       "      <td>...</td>\n",
       "      <td>...</td>\n",
       "      <td>...</td>\n",
       "    </tr>\n",
       "    <tr>\n",
       "      <th>3211</th>\n",
       "      <td>1498</td>\n",
       "      <td>68</td>\n",
       "      <td>2018-10-25</td>\n",
       "      <td>Владикавказ</td>\n",
       "      <td>Всеволод</td>\n",
       "      <td>Акимчин</td>\n",
       "      <td>2018-07-19</td>\n",
       "      <td>smart</td>\n",
       "      <td>1</td>\n",
       "      <td>2018-10-01</td>\n",
       "      <td>...</td>\n",
       "      <td>20579.36</td>\n",
       "      <td>21.0</td>\n",
       "      <td>50</td>\n",
       "      <td>15360</td>\n",
       "      <td>500</td>\n",
       "      <td>550</td>\n",
       "      <td>200</td>\n",
       "      <td>3</td>\n",
       "      <td>3</td>\n",
       "      <td>smart</td>\n",
       "    </tr>\n",
       "    <tr>\n",
       "      <th>3212</th>\n",
       "      <td>1499</td>\n",
       "      <td>35</td>\n",
       "      <td>2018-12-01</td>\n",
       "      <td>Пермь</td>\n",
       "      <td>Гектор</td>\n",
       "      <td>Корнилов</td>\n",
       "      <td>2018-09-27</td>\n",
       "      <td>smart</td>\n",
       "      <td>1</td>\n",
       "      <td>2018-09-01</td>\n",
       "      <td>...</td>\n",
       "      <td>1845.75</td>\n",
       "      <td>2.0</td>\n",
       "      <td>50</td>\n",
       "      <td>15360</td>\n",
       "      <td>500</td>\n",
       "      <td>550</td>\n",
       "      <td>200</td>\n",
       "      <td>3</td>\n",
       "      <td>3</td>\n",
       "      <td>smart</td>\n",
       "    </tr>\n",
       "    <tr>\n",
       "      <th>3213</th>\n",
       "      <td>1499</td>\n",
       "      <td>35</td>\n",
       "      <td>2018-12-01</td>\n",
       "      <td>Пермь</td>\n",
       "      <td>Гектор</td>\n",
       "      <td>Корнилов</td>\n",
       "      <td>2018-09-27</td>\n",
       "      <td>smart</td>\n",
       "      <td>1</td>\n",
       "      <td>2018-10-01</td>\n",
       "      <td>...</td>\n",
       "      <td>17788.51</td>\n",
       "      <td>18.0</td>\n",
       "      <td>50</td>\n",
       "      <td>15360</td>\n",
       "      <td>500</td>\n",
       "      <td>550</td>\n",
       "      <td>200</td>\n",
       "      <td>3</td>\n",
       "      <td>3</td>\n",
       "      <td>smart</td>\n",
       "    </tr>\n",
       "    <tr>\n",
       "      <th>3214</th>\n",
       "      <td>1499</td>\n",
       "      <td>35</td>\n",
       "      <td>2018-12-01</td>\n",
       "      <td>Пермь</td>\n",
       "      <td>Гектор</td>\n",
       "      <td>Корнилов</td>\n",
       "      <td>2018-09-27</td>\n",
       "      <td>smart</td>\n",
       "      <td>1</td>\n",
       "      <td>2018-11-01</td>\n",
       "      <td>...</td>\n",
       "      <td>17963.31</td>\n",
       "      <td>18.0</td>\n",
       "      <td>50</td>\n",
       "      <td>15360</td>\n",
       "      <td>500</td>\n",
       "      <td>550</td>\n",
       "      <td>200</td>\n",
       "      <td>3</td>\n",
       "      <td>3</td>\n",
       "      <td>smart</td>\n",
       "    </tr>\n",
       "    <tr>\n",
       "      <th>3215</th>\n",
       "      <td>1499</td>\n",
       "      <td>35</td>\n",
       "      <td>2018-12-01</td>\n",
       "      <td>Пермь</td>\n",
       "      <td>Гектор</td>\n",
       "      <td>Корнилов</td>\n",
       "      <td>2018-09-27</td>\n",
       "      <td>smart</td>\n",
       "      <td>1</td>\n",
       "      <td>2018-12-01</td>\n",
       "      <td>...</td>\n",
       "      <td>13055.58</td>\n",
       "      <td>13.0</td>\n",
       "      <td>50</td>\n",
       "      <td>15360</td>\n",
       "      <td>500</td>\n",
       "      <td>550</td>\n",
       "      <td>200</td>\n",
       "      <td>3</td>\n",
       "      <td>3</td>\n",
       "      <td>smart</td>\n",
       "    </tr>\n",
       "  </tbody>\n",
       "</table>\n",
       "<p>3216 rows × 24 columns</p>\n",
       "</div>"
      ],
      "text/plain": [
       "      user_id  age churn_date         city first_name  last_name   reg_date  \\\n",
       "0        1000   52 2018-12-01    Краснодар     Рафаил  Верещагин 2018-05-25   \n",
       "1        1000   52 2018-12-01    Краснодар     Рафаил  Верещагин 2018-05-25   \n",
       "2        1000   52 2018-12-01    Краснодар     Рафаил  Верещагин 2018-05-25   \n",
       "3        1000   52 2018-12-01    Краснодар     Рафаил  Верещагин 2018-05-25   \n",
       "4        1000   52 2018-12-01    Краснодар     Рафаил  Верещагин 2018-05-25   \n",
       "...       ...  ...        ...          ...        ...        ...        ...   \n",
       "3211     1498   68 2018-10-25  Владикавказ   Всеволод    Акимчин 2018-07-19   \n",
       "3212     1499   35 2018-12-01        Пермь     Гектор   Корнилов 2018-09-27   \n",
       "3213     1499   35 2018-12-01        Пермь     Гектор   Корнилов 2018-09-27   \n",
       "3214     1499   35 2018-12-01        Пермь     Гектор   Корнилов 2018-09-27   \n",
       "3215     1499   35 2018-12-01        Пермь     Гектор   Корнилов 2018-09-27   \n",
       "\n",
       "     tariff  key      month  ... mb_used_sum  gb_used  messages_included  \\\n",
       "0     ultra    1 2018-05-01  ...     2253.49      3.0               1000   \n",
       "1     ultra    1 2018-06-01  ...    23233.77     23.0               1000   \n",
       "2     ultra    1 2018-07-01  ...    14003.64     14.0               1000   \n",
       "3     ultra    1 2018-08-01  ...    14055.93     14.0               1000   \n",
       "4     ultra    1 2018-09-01  ...    14568.91     15.0               1000   \n",
       "...     ...  ...        ...  ...         ...      ...                ...   \n",
       "3211  smart    1 2018-10-01  ...    20579.36     21.0                 50   \n",
       "3212  smart    1 2018-09-01  ...     1845.75      2.0                 50   \n",
       "3213  smart    1 2018-10-01  ...    17788.51     18.0                 50   \n",
       "3214  smart    1 2018-11-01  ...    17963.31     18.0                 50   \n",
       "3215  smart    1 2018-12-01  ...    13055.58     13.0                 50   \n",
       "\n",
       "      mb_per_month_included  minutes_included  rub_monthly_fee  rub_per_gb  \\\n",
       "0                     30720              3000             1950         150   \n",
       "1                     30720              3000             1950         150   \n",
       "2                     30720              3000             1950         150   \n",
       "3                     30720              3000             1950         150   \n",
       "4                     30720              3000             1950         150   \n",
       "...                     ...               ...              ...         ...   \n",
       "3211                  15360               500              550         200   \n",
       "3212                  15360               500              550         200   \n",
       "3213                  15360               500              550         200   \n",
       "3214                  15360               500              550         200   \n",
       "3215                  15360               500              550         200   \n",
       "\n",
       "      rub_per_message  rub_per_minute  tariff_name  \n",
       "0                   1               1        ultra  \n",
       "1                   1               1        ultra  \n",
       "2                   1               1        ultra  \n",
       "3                   1               1        ultra  \n",
       "4                   1               1        ultra  \n",
       "...               ...             ...          ...  \n",
       "3211                3               3        smart  \n",
       "3212                3               3        smart  \n",
       "3213                3               3        smart  \n",
       "3214                3               3        smart  \n",
       "3215                3               3        smart  \n",
       "\n",
       "[3216 rows x 24 columns]"
      ]
     },
     "execution_count": 36,
     "metadata": {},
     "output_type": "execute_result"
    }
   ],
   "source": [
    "data_full_month = template.merge(calls_month, how='left', on=['month','user_id']).merge(messages_month, how='left', on=['month','user_id']).merge(internet_month, how='left', on=['month','user_id']) \\\n",
    "                          .merge(data_tariffs, how='left', left_on='tariff',right_on='tariff_name')\n",
    "data_full_month"
   ]
  },
  {
   "cell_type": "markdown",
   "metadata": {},
   "source": [
    "напишем функцию по подсчету выручки"
   ]
  },
  {
   "cell_type": "code",
   "execution_count": 37,
   "metadata": {},
   "outputs": [],
   "source": [
    "def proceeds_sum(df):\n",
    "    summ = 0\n",
    "    if df['gb_used'] * 1024 > df['mb_per_month_included']:\n",
    "        summ += (df['gb_used'] - df['mb_per_month_included'] / 1024) * df['rub_per_gb']\n",
    "    if df['count_messages'] > df['messages_included']:\n",
    "        summ += (df['count_messages'] - df['messages_included']) * df['rub_per_message']\n",
    "    if df['duration_sum'] > df['minutes_included']:\n",
    "        summ += (df['duration_sum'] - df['minutes_included']) * df['rub_per_minute']\n",
    "    return summ + df['rub_monthly_fee']"
   ]
  },
  {
   "cell_type": "code",
   "execution_count": 38,
   "metadata": {},
   "outputs": [],
   "source": [
    "data_full_month['proceeds'] = data_full_month.apply(proceeds_sum, axis=1)"
   ]
  },
  {
   "cell_type": "code",
   "execution_count": 39,
   "metadata": {},
   "outputs": [
    {
     "data": {
      "text/html": [
       "<div>\n",
       "<style scoped>\n",
       "    .dataframe tbody tr th:only-of-type {\n",
       "        vertical-align: middle;\n",
       "    }\n",
       "\n",
       "    .dataframe tbody tr th {\n",
       "        vertical-align: top;\n",
       "    }\n",
       "\n",
       "    .dataframe thead th {\n",
       "        text-align: right;\n",
       "    }\n",
       "</style>\n",
       "<table border=\"1\" class=\"dataframe\">\n",
       "  <thead>\n",
       "    <tr style=\"text-align: right;\">\n",
       "      <th></th>\n",
       "      <th>user_id</th>\n",
       "      <th>age</th>\n",
       "      <th>churn_date</th>\n",
       "      <th>city</th>\n",
       "      <th>first_name</th>\n",
       "      <th>last_name</th>\n",
       "      <th>reg_date</th>\n",
       "      <th>tariff</th>\n",
       "      <th>key</th>\n",
       "      <th>month</th>\n",
       "      <th>...</th>\n",
       "      <th>gb_used</th>\n",
       "      <th>messages_included</th>\n",
       "      <th>mb_per_month_included</th>\n",
       "      <th>minutes_included</th>\n",
       "      <th>rub_monthly_fee</th>\n",
       "      <th>rub_per_gb</th>\n",
       "      <th>rub_per_message</th>\n",
       "      <th>rub_per_minute</th>\n",
       "      <th>tariff_name</th>\n",
       "      <th>proceeds</th>\n",
       "    </tr>\n",
       "  </thead>\n",
       "  <tbody>\n",
       "    <tr>\n",
       "      <th>0</th>\n",
       "      <td>1000</td>\n",
       "      <td>52</td>\n",
       "      <td>2018-12-01</td>\n",
       "      <td>Краснодар</td>\n",
       "      <td>Рафаил</td>\n",
       "      <td>Верещагин</td>\n",
       "      <td>2018-05-25</td>\n",
       "      <td>ultra</td>\n",
       "      <td>1</td>\n",
       "      <td>2018-05-01</td>\n",
       "      <td>...</td>\n",
       "      <td>3.0</td>\n",
       "      <td>1000</td>\n",
       "      <td>30720</td>\n",
       "      <td>3000</td>\n",
       "      <td>1950</td>\n",
       "      <td>150</td>\n",
       "      <td>1</td>\n",
       "      <td>1</td>\n",
       "      <td>ultra</td>\n",
       "      <td>1950.0</td>\n",
       "    </tr>\n",
       "    <tr>\n",
       "      <th>1</th>\n",
       "      <td>1000</td>\n",
       "      <td>52</td>\n",
       "      <td>2018-12-01</td>\n",
       "      <td>Краснодар</td>\n",
       "      <td>Рафаил</td>\n",
       "      <td>Верещагин</td>\n",
       "      <td>2018-05-25</td>\n",
       "      <td>ultra</td>\n",
       "      <td>1</td>\n",
       "      <td>2018-06-01</td>\n",
       "      <td>...</td>\n",
       "      <td>23.0</td>\n",
       "      <td>1000</td>\n",
       "      <td>30720</td>\n",
       "      <td>3000</td>\n",
       "      <td>1950</td>\n",
       "      <td>150</td>\n",
       "      <td>1</td>\n",
       "      <td>1</td>\n",
       "      <td>ultra</td>\n",
       "      <td>1950.0</td>\n",
       "    </tr>\n",
       "    <tr>\n",
       "      <th>2</th>\n",
       "      <td>1000</td>\n",
       "      <td>52</td>\n",
       "      <td>2018-12-01</td>\n",
       "      <td>Краснодар</td>\n",
       "      <td>Рафаил</td>\n",
       "      <td>Верещагин</td>\n",
       "      <td>2018-05-25</td>\n",
       "      <td>ultra</td>\n",
       "      <td>1</td>\n",
       "      <td>2018-07-01</td>\n",
       "      <td>...</td>\n",
       "      <td>14.0</td>\n",
       "      <td>1000</td>\n",
       "      <td>30720</td>\n",
       "      <td>3000</td>\n",
       "      <td>1950</td>\n",
       "      <td>150</td>\n",
       "      <td>1</td>\n",
       "      <td>1</td>\n",
       "      <td>ultra</td>\n",
       "      <td>1950.0</td>\n",
       "    </tr>\n",
       "    <tr>\n",
       "      <th>3</th>\n",
       "      <td>1000</td>\n",
       "      <td>52</td>\n",
       "      <td>2018-12-01</td>\n",
       "      <td>Краснодар</td>\n",
       "      <td>Рафаил</td>\n",
       "      <td>Верещагин</td>\n",
       "      <td>2018-05-25</td>\n",
       "      <td>ultra</td>\n",
       "      <td>1</td>\n",
       "      <td>2018-08-01</td>\n",
       "      <td>...</td>\n",
       "      <td>14.0</td>\n",
       "      <td>1000</td>\n",
       "      <td>30720</td>\n",
       "      <td>3000</td>\n",
       "      <td>1950</td>\n",
       "      <td>150</td>\n",
       "      <td>1</td>\n",
       "      <td>1</td>\n",
       "      <td>ultra</td>\n",
       "      <td>1950.0</td>\n",
       "    </tr>\n",
       "    <tr>\n",
       "      <th>4</th>\n",
       "      <td>1000</td>\n",
       "      <td>52</td>\n",
       "      <td>2018-12-01</td>\n",
       "      <td>Краснодар</td>\n",
       "      <td>Рафаил</td>\n",
       "      <td>Верещагин</td>\n",
       "      <td>2018-05-25</td>\n",
       "      <td>ultra</td>\n",
       "      <td>1</td>\n",
       "      <td>2018-09-01</td>\n",
       "      <td>...</td>\n",
       "      <td>15.0</td>\n",
       "      <td>1000</td>\n",
       "      <td>30720</td>\n",
       "      <td>3000</td>\n",
       "      <td>1950</td>\n",
       "      <td>150</td>\n",
       "      <td>1</td>\n",
       "      <td>1</td>\n",
       "      <td>ultra</td>\n",
       "      <td>1950.0</td>\n",
       "    </tr>\n",
       "    <tr>\n",
       "      <th>...</th>\n",
       "      <td>...</td>\n",
       "      <td>...</td>\n",
       "      <td>...</td>\n",
       "      <td>...</td>\n",
       "      <td>...</td>\n",
       "      <td>...</td>\n",
       "      <td>...</td>\n",
       "      <td>...</td>\n",
       "      <td>...</td>\n",
       "      <td>...</td>\n",
       "      <td>...</td>\n",
       "      <td>...</td>\n",
       "      <td>...</td>\n",
       "      <td>...</td>\n",
       "      <td>...</td>\n",
       "      <td>...</td>\n",
       "      <td>...</td>\n",
       "      <td>...</td>\n",
       "      <td>...</td>\n",
       "      <td>...</td>\n",
       "      <td>...</td>\n",
       "    </tr>\n",
       "    <tr>\n",
       "      <th>3211</th>\n",
       "      <td>1498</td>\n",
       "      <td>68</td>\n",
       "      <td>2018-10-25</td>\n",
       "      <td>Владикавказ</td>\n",
       "      <td>Всеволод</td>\n",
       "      <td>Акимчин</td>\n",
       "      <td>2018-07-19</td>\n",
       "      <td>smart</td>\n",
       "      <td>1</td>\n",
       "      <td>2018-10-01</td>\n",
       "      <td>...</td>\n",
       "      <td>21.0</td>\n",
       "      <td>50</td>\n",
       "      <td>15360</td>\n",
       "      <td>500</td>\n",
       "      <td>550</td>\n",
       "      <td>200</td>\n",
       "      <td>3</td>\n",
       "      <td>3</td>\n",
       "      <td>smart</td>\n",
       "      <td>1750.0</td>\n",
       "    </tr>\n",
       "    <tr>\n",
       "      <th>3212</th>\n",
       "      <td>1499</td>\n",
       "      <td>35</td>\n",
       "      <td>2018-12-01</td>\n",
       "      <td>Пермь</td>\n",
       "      <td>Гектор</td>\n",
       "      <td>Корнилов</td>\n",
       "      <td>2018-09-27</td>\n",
       "      <td>smart</td>\n",
       "      <td>1</td>\n",
       "      <td>2018-09-01</td>\n",
       "      <td>...</td>\n",
       "      <td>2.0</td>\n",
       "      <td>50</td>\n",
       "      <td>15360</td>\n",
       "      <td>500</td>\n",
       "      <td>550</td>\n",
       "      <td>200</td>\n",
       "      <td>3</td>\n",
       "      <td>3</td>\n",
       "      <td>smart</td>\n",
       "      <td>550.0</td>\n",
       "    </tr>\n",
       "    <tr>\n",
       "      <th>3213</th>\n",
       "      <td>1499</td>\n",
       "      <td>35</td>\n",
       "      <td>2018-12-01</td>\n",
       "      <td>Пермь</td>\n",
       "      <td>Гектор</td>\n",
       "      <td>Корнилов</td>\n",
       "      <td>2018-09-27</td>\n",
       "      <td>smart</td>\n",
       "      <td>1</td>\n",
       "      <td>2018-10-01</td>\n",
       "      <td>...</td>\n",
       "      <td>18.0</td>\n",
       "      <td>50</td>\n",
       "      <td>15360</td>\n",
       "      <td>500</td>\n",
       "      <td>550</td>\n",
       "      <td>200</td>\n",
       "      <td>3</td>\n",
       "      <td>3</td>\n",
       "      <td>smart</td>\n",
       "      <td>1150.0</td>\n",
       "    </tr>\n",
       "    <tr>\n",
       "      <th>3214</th>\n",
       "      <td>1499</td>\n",
       "      <td>35</td>\n",
       "      <td>2018-12-01</td>\n",
       "      <td>Пермь</td>\n",
       "      <td>Гектор</td>\n",
       "      <td>Корнилов</td>\n",
       "      <td>2018-09-27</td>\n",
       "      <td>smart</td>\n",
       "      <td>1</td>\n",
       "      <td>2018-11-01</td>\n",
       "      <td>...</td>\n",
       "      <td>18.0</td>\n",
       "      <td>50</td>\n",
       "      <td>15360</td>\n",
       "      <td>500</td>\n",
       "      <td>550</td>\n",
       "      <td>200</td>\n",
       "      <td>3</td>\n",
       "      <td>3</td>\n",
       "      <td>smart</td>\n",
       "      <td>1513.0</td>\n",
       "    </tr>\n",
       "    <tr>\n",
       "      <th>3215</th>\n",
       "      <td>1499</td>\n",
       "      <td>35</td>\n",
       "      <td>2018-12-01</td>\n",
       "      <td>Пермь</td>\n",
       "      <td>Гектор</td>\n",
       "      <td>Корнилов</td>\n",
       "      <td>2018-09-27</td>\n",
       "      <td>smart</td>\n",
       "      <td>1</td>\n",
       "      <td>2018-12-01</td>\n",
       "      <td>...</td>\n",
       "      <td>13.0</td>\n",
       "      <td>50</td>\n",
       "      <td>15360</td>\n",
       "      <td>500</td>\n",
       "      <td>550</td>\n",
       "      <td>200</td>\n",
       "      <td>3</td>\n",
       "      <td>3</td>\n",
       "      <td>smart</td>\n",
       "      <td>598.0</td>\n",
       "    </tr>\n",
       "  </tbody>\n",
       "</table>\n",
       "<p>3216 rows × 25 columns</p>\n",
       "</div>"
      ],
      "text/plain": [
       "      user_id  age churn_date         city first_name  last_name   reg_date  \\\n",
       "0        1000   52 2018-12-01    Краснодар     Рафаил  Верещагин 2018-05-25   \n",
       "1        1000   52 2018-12-01    Краснодар     Рафаил  Верещагин 2018-05-25   \n",
       "2        1000   52 2018-12-01    Краснодар     Рафаил  Верещагин 2018-05-25   \n",
       "3        1000   52 2018-12-01    Краснодар     Рафаил  Верещагин 2018-05-25   \n",
       "4        1000   52 2018-12-01    Краснодар     Рафаил  Верещагин 2018-05-25   \n",
       "...       ...  ...        ...          ...        ...        ...        ...   \n",
       "3211     1498   68 2018-10-25  Владикавказ   Всеволод    Акимчин 2018-07-19   \n",
       "3212     1499   35 2018-12-01        Пермь     Гектор   Корнилов 2018-09-27   \n",
       "3213     1499   35 2018-12-01        Пермь     Гектор   Корнилов 2018-09-27   \n",
       "3214     1499   35 2018-12-01        Пермь     Гектор   Корнилов 2018-09-27   \n",
       "3215     1499   35 2018-12-01        Пермь     Гектор   Корнилов 2018-09-27   \n",
       "\n",
       "     tariff  key      month  ... gb_used  messages_included  \\\n",
       "0     ultra    1 2018-05-01  ...     3.0               1000   \n",
       "1     ultra    1 2018-06-01  ...    23.0               1000   \n",
       "2     ultra    1 2018-07-01  ...    14.0               1000   \n",
       "3     ultra    1 2018-08-01  ...    14.0               1000   \n",
       "4     ultra    1 2018-09-01  ...    15.0               1000   \n",
       "...     ...  ...        ...  ...     ...                ...   \n",
       "3211  smart    1 2018-10-01  ...    21.0                 50   \n",
       "3212  smart    1 2018-09-01  ...     2.0                 50   \n",
       "3213  smart    1 2018-10-01  ...    18.0                 50   \n",
       "3214  smart    1 2018-11-01  ...    18.0                 50   \n",
       "3215  smart    1 2018-12-01  ...    13.0                 50   \n",
       "\n",
       "      mb_per_month_included  minutes_included  rub_monthly_fee  rub_per_gb  \\\n",
       "0                     30720              3000             1950         150   \n",
       "1                     30720              3000             1950         150   \n",
       "2                     30720              3000             1950         150   \n",
       "3                     30720              3000             1950         150   \n",
       "4                     30720              3000             1950         150   \n",
       "...                     ...               ...              ...         ...   \n",
       "3211                  15360               500              550         200   \n",
       "3212                  15360               500              550         200   \n",
       "3213                  15360               500              550         200   \n",
       "3214                  15360               500              550         200   \n",
       "3215                  15360               500              550         200   \n",
       "\n",
       "      rub_per_message  rub_per_minute  tariff_name  proceeds  \n",
       "0                   1               1        ultra    1950.0  \n",
       "1                   1               1        ultra    1950.0  \n",
       "2                   1               1        ultra    1950.0  \n",
       "3                   1               1        ultra    1950.0  \n",
       "4                   1               1        ultra    1950.0  \n",
       "...               ...             ...          ...       ...  \n",
       "3211                3               3        smart    1750.0  \n",
       "3212                3               3        smart     550.0  \n",
       "3213                3               3        smart    1150.0  \n",
       "3214                3               3        smart    1513.0  \n",
       "3215                3               3        smart     598.0  \n",
       "\n",
       "[3216 rows x 25 columns]"
      ]
     },
     "execution_count": 39,
     "metadata": {},
     "output_type": "execute_result"
    }
   ],
   "source": [
    "data_full_month"
   ]
  },
  {
   "cell_type": "markdown",
   "metadata": {},
   "source": [
    "## Шаг 3. Проанализируйте данные\n",
    "\n",
    "Опишите поведение клиентов оператора, исходя из выборки. Сколько минут разговора, сколько сообщений и какой объём интернет-трафика требуется пользователям каждого тарифа в месяц? Посчитайте среднее количество, дисперсию и стандартное отклонение. Постройте гистограммы. Опишите распределения."
   ]
  },
  {
   "cell_type": "code",
   "execution_count": 40,
   "metadata": {},
   "outputs": [],
   "source": [
    "data_full_month['tariff'] = np.where(data_full_month['rub_monthly_fee'] == 550, 'smart', 'ultra')"
   ]
  },
  {
   "cell_type": "code",
   "execution_count": 41,
   "metadata": {},
   "outputs": [],
   "source": [
    "tariff_month = data_full_month.groupby(['tariff', 'month'], as_index=False) \\\n",
    "                              .agg({'duration_sum':'sum', 'count_messages':'sum', 'gb_used':'sum'})"
   ]
  },
  {
   "cell_type": "code",
   "execution_count": 42,
   "metadata": {},
   "outputs": [
    {
     "data": {
      "text/html": [
       "<div>\n",
       "<style scoped>\n",
       "    .dataframe tbody tr th:only-of-type {\n",
       "        vertical-align: middle;\n",
       "    }\n",
       "\n",
       "    .dataframe tbody tr th {\n",
       "        vertical-align: top;\n",
       "    }\n",
       "\n",
       "    .dataframe thead th {\n",
       "        text-align: right;\n",
       "    }\n",
       "</style>\n",
       "<table border=\"1\" class=\"dataframe\">\n",
       "  <thead>\n",
       "    <tr style=\"text-align: right;\">\n",
       "      <th></th>\n",
       "      <th>tariff</th>\n",
       "      <th>month</th>\n",
       "      <th>duration_sum</th>\n",
       "      <th>count_messages</th>\n",
       "      <th>gb_used</th>\n",
       "    </tr>\n",
       "  </thead>\n",
       "  <tbody>\n",
       "    <tr>\n",
       "      <th>0</th>\n",
       "      <td>smart</td>\n",
       "      <td>2018-01-01</td>\n",
       "      <td>6931.0</td>\n",
       "      <td>620.0</td>\n",
       "      <td>297.0</td>\n",
       "    </tr>\n",
       "    <tr>\n",
       "      <th>1</th>\n",
       "      <td>smart</td>\n",
       "      <td>2018-02-01</td>\n",
       "      <td>17324.0</td>\n",
       "      <td>1397.0</td>\n",
       "      <td>687.0</td>\n",
       "    </tr>\n",
       "    <tr>\n",
       "      <th>2</th>\n",
       "      <td>smart</td>\n",
       "      <td>2018-03-01</td>\n",
       "      <td>30034.0</td>\n",
       "      <td>2453.0</td>\n",
       "      <td>1173.0</td>\n",
       "    </tr>\n",
       "    <tr>\n",
       "      <th>3</th>\n",
       "      <td>smart</td>\n",
       "      <td>2018-04-01</td>\n",
       "      <td>41119.0</td>\n",
       "      <td>3443.0</td>\n",
       "      <td>1526.0</td>\n",
       "    </tr>\n",
       "    <tr>\n",
       "      <th>4</th>\n",
       "      <td>smart</td>\n",
       "      <td>2018-05-01</td>\n",
       "      <td>54618.0</td>\n",
       "      <td>4762.0</td>\n",
       "      <td>2243.0</td>\n",
       "    </tr>\n",
       "    <tr>\n",
       "      <th>5</th>\n",
       "      <td>smart</td>\n",
       "      <td>2018-06-01</td>\n",
       "      <td>64885.0</td>\n",
       "      <td>5478.0</td>\n",
       "      <td>2616.0</td>\n",
       "    </tr>\n",
       "    <tr>\n",
       "      <th>6</th>\n",
       "      <td>smart</td>\n",
       "      <td>2018-07-01</td>\n",
       "      <td>82079.0</td>\n",
       "      <td>6784.0</td>\n",
       "      <td>3191.0</td>\n",
       "    </tr>\n",
       "    <tr>\n",
       "      <th>7</th>\n",
       "      <td>smart</td>\n",
       "      <td>2018-08-01</td>\n",
       "      <td>99045.0</td>\n",
       "      <td>7905.0</td>\n",
       "      <td>3933.0</td>\n",
       "    </tr>\n",
       "    <tr>\n",
       "      <th>8</th>\n",
       "      <td>smart</td>\n",
       "      <td>2018-09-01</td>\n",
       "      <td>111439.0</td>\n",
       "      <td>8746.0</td>\n",
       "      <td>4262.0</td>\n",
       "    </tr>\n",
       "    <tr>\n",
       "      <th>9</th>\n",
       "      <td>smart</td>\n",
       "      <td>2018-10-01</td>\n",
       "      <td>125284.0</td>\n",
       "      <td>9927.0</td>\n",
       "      <td>4963.0</td>\n",
       "    </tr>\n",
       "    <tr>\n",
       "      <th>10</th>\n",
       "      <td>smart</td>\n",
       "      <td>2018-11-01</td>\n",
       "      <td>137544.0</td>\n",
       "      <td>10768.0</td>\n",
       "      <td>5372.0</td>\n",
       "    </tr>\n",
       "    <tr>\n",
       "      <th>11</th>\n",
       "      <td>smart</td>\n",
       "      <td>2018-12-01</td>\n",
       "      <td>161275.0</td>\n",
       "      <td>12130.0</td>\n",
       "      <td>6134.0</td>\n",
       "    </tr>\n",
       "    <tr>\n",
       "      <th>12</th>\n",
       "      <td>ultra</td>\n",
       "      <td>2018-01-01</td>\n",
       "      <td>3853.0</td>\n",
       "      <td>304.0</td>\n",
       "      <td>119.0</td>\n",
       "    </tr>\n",
       "    <tr>\n",
       "      <th>13</th>\n",
       "      <td>ultra</td>\n",
       "      <td>2018-02-01</td>\n",
       "      <td>7131.0</td>\n",
       "      <td>527.0</td>\n",
       "      <td>288.0</td>\n",
       "    </tr>\n",
       "    <tr>\n",
       "      <th>14</th>\n",
       "      <td>ultra</td>\n",
       "      <td>2018-03-01</td>\n",
       "      <td>18117.0</td>\n",
       "      <td>1195.0</td>\n",
       "      <td>653.0</td>\n",
       "    </tr>\n",
       "    <tr>\n",
       "      <th>15</th>\n",
       "      <td>ultra</td>\n",
       "      <td>2018-04-01</td>\n",
       "      <td>25191.0</td>\n",
       "      <td>1736.0</td>\n",
       "      <td>933.0</td>\n",
       "    </tr>\n",
       "    <tr>\n",
       "      <th>16</th>\n",
       "      <td>ultra</td>\n",
       "      <td>2018-05-01</td>\n",
       "      <td>34192.0</td>\n",
       "      <td>2536.0</td>\n",
       "      <td>1298.0</td>\n",
       "    </tr>\n",
       "    <tr>\n",
       "      <th>17</th>\n",
       "      <td>ultra</td>\n",
       "      <td>2018-06-01</td>\n",
       "      <td>40295.0</td>\n",
       "      <td>3505.0</td>\n",
       "      <td>1591.0</td>\n",
       "    </tr>\n",
       "    <tr>\n",
       "      <th>18</th>\n",
       "      <td>ultra</td>\n",
       "      <td>2018-07-01</td>\n",
       "      <td>49667.0</td>\n",
       "      <td>4536.0</td>\n",
       "      <td>1866.0</td>\n",
       "    </tr>\n",
       "    <tr>\n",
       "      <th>19</th>\n",
       "      <td>ultra</td>\n",
       "      <td>2018-08-01</td>\n",
       "      <td>54653.0</td>\n",
       "      <td>5183.0</td>\n",
       "      <td>2097.0</td>\n",
       "    </tr>\n",
       "    <tr>\n",
       "      <th>20</th>\n",
       "      <td>ultra</td>\n",
       "      <td>2018-09-01</td>\n",
       "      <td>62036.0</td>\n",
       "      <td>6013.0</td>\n",
       "      <td>2213.0</td>\n",
       "    </tr>\n",
       "    <tr>\n",
       "      <th>21</th>\n",
       "      <td>ultra</td>\n",
       "      <td>2018-10-01</td>\n",
       "      <td>68644.0</td>\n",
       "      <td>7187.0</td>\n",
       "      <td>2468.0</td>\n",
       "    </tr>\n",
       "    <tr>\n",
       "      <th>22</th>\n",
       "      <td>ultra</td>\n",
       "      <td>2018-11-01</td>\n",
       "      <td>72545.0</td>\n",
       "      <td>7476.0</td>\n",
       "      <td>2654.0</td>\n",
       "    </tr>\n",
       "    <tr>\n",
       "      <th>23</th>\n",
       "      <td>ultra</td>\n",
       "      <td>2018-12-01</td>\n",
       "      <td>82400.0</td>\n",
       "      <td>8425.0</td>\n",
       "      <td>3022.0</td>\n",
       "    </tr>\n",
       "  </tbody>\n",
       "</table>\n",
       "</div>"
      ],
      "text/plain": [
       "   tariff      month  duration_sum  count_messages  gb_used\n",
       "0   smart 2018-01-01        6931.0           620.0    297.0\n",
       "1   smart 2018-02-01       17324.0          1397.0    687.0\n",
       "2   smart 2018-03-01       30034.0          2453.0   1173.0\n",
       "3   smart 2018-04-01       41119.0          3443.0   1526.0\n",
       "4   smart 2018-05-01       54618.0          4762.0   2243.0\n",
       "5   smart 2018-06-01       64885.0          5478.0   2616.0\n",
       "6   smart 2018-07-01       82079.0          6784.0   3191.0\n",
       "7   smart 2018-08-01       99045.0          7905.0   3933.0\n",
       "8   smart 2018-09-01      111439.0          8746.0   4262.0\n",
       "9   smart 2018-10-01      125284.0          9927.0   4963.0\n",
       "10  smart 2018-11-01      137544.0         10768.0   5372.0\n",
       "11  smart 2018-12-01      161275.0         12130.0   6134.0\n",
       "12  ultra 2018-01-01        3853.0           304.0    119.0\n",
       "13  ultra 2018-02-01        7131.0           527.0    288.0\n",
       "14  ultra 2018-03-01       18117.0          1195.0    653.0\n",
       "15  ultra 2018-04-01       25191.0          1736.0    933.0\n",
       "16  ultra 2018-05-01       34192.0          2536.0   1298.0\n",
       "17  ultra 2018-06-01       40295.0          3505.0   1591.0\n",
       "18  ultra 2018-07-01       49667.0          4536.0   1866.0\n",
       "19  ultra 2018-08-01       54653.0          5183.0   2097.0\n",
       "20  ultra 2018-09-01       62036.0          6013.0   2213.0\n",
       "21  ultra 2018-10-01       68644.0          7187.0   2468.0\n",
       "22  ultra 2018-11-01       72545.0          7476.0   2654.0\n",
       "23  ultra 2018-12-01       82400.0          8425.0   3022.0"
      ]
     },
     "execution_count": 42,
     "metadata": {},
     "output_type": "execute_result"
    }
   ],
   "source": [
    "tariff_month"
   ]
  },
  {
   "cell_type": "code",
   "execution_count": 43,
   "metadata": {},
   "outputs": [
    {
     "data": {
      "image/png": "[encoded data removed]",
      "text/plain": [
       "<Figure size 864x576 with 1 Axes>"
      ]
     },
     "metadata": {
      "needs_background": "light"
     },
     "output_type": "display_data"
    },
    {
     "data": {
      "image/png": "[encoded data removed]",
      "text/plain": [
       "<Figure size 864x576 with 1 Axes>"
      ]
     },
     "metadata": {
      "needs_background": "light"
     },
     "output_type": "display_data"
    }
   ],
   "source": [
    "for tariff in [\"smart\", \"ultra\"]:\n",
    "    smart_month = tariff_month.query('tariff == @tariff')\n",
    "    smart_month.index = smart_month['month']\n",
    "    smart_month = smart_month.drop('month', axis=1)\n",
    "    smart_month.plot(kind='bar', grid=True, figsize=(12,8))\n",
    "    plt.xticks(rotation=25)\n",
    "    plt.title('сумма использованных услуг по тарифу ' + tariff)"
   ]
  },
  {
   "cell_type": "markdown",
   "metadata": {},
   "source": [
    " На двух тарифах с каждым месяцом количество минут разговора, количество сообщений и объём интернет-трафика используемый пользователями растет."
   ]
  },
  {
   "cell_type": "code",
   "execution_count": 44,
   "metadata": {},
   "outputs": [
    {
     "data": {
      "text/html": [
       "<div>\n",
       "<style scoped>\n",
       "    .dataframe tbody tr th:only-of-type {\n",
       "        vertical-align: middle;\n",
       "    }\n",
       "\n",
       "    .dataframe tbody tr th {\n",
       "        vertical-align: top;\n",
       "    }\n",
       "\n",
       "    .dataframe thead tr th {\n",
       "        text-align: left;\n",
       "    }\n",
       "\n",
       "    .dataframe thead tr:last-of-type th {\n",
       "        text-align: right;\n",
       "    }\n",
       "</style>\n",
       "<table border=\"1\" class=\"dataframe\">\n",
       "  <thead>\n",
       "    <tr>\n",
       "      <th></th>\n",
       "      <th colspan=\"3\" halign=\"left\">duration_sum</th>\n",
       "      <th colspan=\"3\" halign=\"left\">count_messages</th>\n",
       "      <th colspan=\"3\" halign=\"left\">gb_used</th>\n",
       "    </tr>\n",
       "    <tr>\n",
       "      <th></th>\n",
       "      <th>mean</th>\n",
       "      <th>var</th>\n",
       "      <th>std</th>\n",
       "      <th>mean</th>\n",
       "      <th>var</th>\n",
       "      <th>std</th>\n",
       "      <th>mean</th>\n",
       "      <th>var</th>\n",
       "      <th>std</th>\n",
       "    </tr>\n",
       "    <tr>\n",
       "      <th>tariff</th>\n",
       "      <th></th>\n",
       "      <th></th>\n",
       "      <th></th>\n",
       "      <th></th>\n",
       "      <th></th>\n",
       "      <th></th>\n",
       "      <th></th>\n",
       "      <th></th>\n",
       "      <th></th>\n",
       "    </tr>\n",
       "  </thead>\n",
       "  <tbody>\n",
       "    <tr>\n",
       "      <th>smart</th>\n",
       "      <td>77631.416667</td>\n",
       "      <td>2.491282e+09</td>\n",
       "      <td>49912.744923</td>\n",
       "      <td>6201.083333</td>\n",
       "      <td>1.437160e+07</td>\n",
       "      <td>3790.989687</td>\n",
       "      <td>3033.083333</td>\n",
       "      <td>3.697771e+06</td>\n",
       "      <td>1922.958821</td>\n",
       "    </tr>\n",
       "    <tr>\n",
       "      <th>ultra</th>\n",
       "      <td>43227.000000</td>\n",
       "      <td>6.786517e+08</td>\n",
       "      <td>26050.944558</td>\n",
       "      <td>4051.916667</td>\n",
       "      <td>8.057361e+06</td>\n",
       "      <td>2838.549036</td>\n",
       "      <td>1600.166667</td>\n",
       "      <td>9.025132e+05</td>\n",
       "      <td>950.006970</td>\n",
       "    </tr>\n",
       "  </tbody>\n",
       "</table>\n",
       "</div>"
      ],
      "text/plain": [
       "        duration_sum                             count_messages                \\\n",
       "                mean           var           std           mean           var   \n",
       "tariff                                                                          \n",
       "smart   77631.416667  2.491282e+09  49912.744923    6201.083333  1.437160e+07   \n",
       "ultra   43227.000000  6.786517e+08  26050.944558    4051.916667  8.057361e+06   \n",
       "\n",
       "                         gb_used                             \n",
       "                std         mean           var          std  \n",
       "tariff                                                       \n",
       "smart   3790.989687  3033.083333  3.697771e+06  1922.958821  \n",
       "ultra   2838.549036  1600.166667  9.025132e+05   950.006970  "
      ]
     },
     "execution_count": 44,
     "metadata": {},
     "output_type": "execute_result"
    }
   ],
   "source": [
    "tariff_month.groupby('tariff').agg({'duration_sum':['mean', np.var, np.std], \n",
    "                                    'count_messages':['mean', np.var, np.std], \n",
    "                                    'gb_used':['mean', np.var, np.std],})"
   ]
  },
  {
   "cell_type": "code",
   "execution_count": 45,
   "metadata": {},
   "outputs": [
    {
     "data": {
      "image/png": "[encoded data removed]",
      "text/plain": [
       "<Figure size 1080x504 with 2 Axes>"
      ]
     },
     "metadata": {
      "needs_background": "light"
     },
     "output_type": "display_data"
    },
    {
     "data": {
      "image/png": "[encoded data removed]",
      "text/plain": [
       "<Figure size 1080x504 with 2 Axes>"
      ]
     },
     "metadata": {
      "needs_background": "light"
     },
     "output_type": "display_data"
    },
    {
     "data": {
      "image/png": "[encoded data removed]",
      "text/plain": [
       "<Figure size 1080x504 with 2 Axes>"
      ]
     },
     "metadata": {
      "needs_background": "light"
     },
     "output_type": "display_data"
    }
   ],
   "source": [
    "columns = {'duration_sum': ('длительность звонков в месяц клиентов','minutes_included'),\n",
    "           'count_messages': ('количество сообщений в месяц клиентов', 'messages_included'), \n",
    "           'gb_used': ('количество гигабайт интернета в месяц клиентов','mb_per_month_included')}\n",
    "\n",
    "for column, (title,limit) in columns.items():\n",
    "    fig, ax = plt.subplots(1, 2, figsize=(15, 7))\n",
    "    ax[0].hist(data_full_month.query('tariff == \"smart\"')[column])\n",
    "    ax[0].axvline(data_tariffs[data_tariffs['tariff_name'] == 'smart'][limit].squeeze(), color='red')\n",
    "    ax[0].set_title(title + ' с тарифом smart')\n",
    "    ax[0].legend(['Лимит','Распределение'])\n",
    "    ax[1].hist(data_full_month.query('tariff == \"ultra\"')[column])\n",
    "    ax[1].axvline(data_tariffs[data_tariffs['tariff_name'] == 'ultra'][limit].squeeze(), color='red')\n",
    "    ax[1].set_title(title + ' с тарифом ultra')\n",
    "    ax[1].legend(['Лимит','Распределение'])"
   ]
  },
  {
   "cell_type": "markdown",
   "metadata": {},
   "source": [
    "Значения длительности звонков и количества гигабайт в двух тарифах распределены нормально, а количество сообщений скошены вправо."
   ]
  },
  {
   "cell_type": "code",
   "execution_count": 46,
   "metadata": {},
   "outputs": [
    {
     "data": {
      "text/plain": [
       "2070.030425963489"
      ]
     },
     "execution_count": 46,
     "metadata": {},
     "output_type": "execute_result"
    }
   ],
   "source": [
    "data_full_month.query('tariff == \"ultra\"')['proceeds'].mean()"
   ]
  },
  {
   "cell_type": "code",
   "execution_count": 47,
   "metadata": {},
   "outputs": [
    {
     "data": {
      "text/plain": [
       "1289.6417040358745"
      ]
     },
     "execution_count": 47,
     "metadata": {},
     "output_type": "execute_result"
    }
   ],
   "source": [
    "data_full_month.query('tariff == \"smart\"')['proceeds'].mean()"
   ]
  },
  {
   "cell_type": "code",
   "execution_count": 48,
   "metadata": {},
   "outputs": [
    {
     "data": {
      "text/plain": [
       "780.3887219276146"
      ]
     },
     "execution_count": 48,
     "metadata": {},
     "output_type": "execute_result"
    }
   ],
   "source": [
    "data_full_month.query('tariff == \"ultra\"')['proceeds'].mean() - data_full_month.query('tariff == \"smart\"')['proceeds'].mean()"
   ]
  },
  {
   "cell_type": "markdown",
   "metadata": {},
   "source": [
    "В среднем на клиента тариф ultra приносит на 780 рублей больше чем тариф smart."
   ]
  },
  {
   "cell_type": "markdown",
   "metadata": {},
   "source": [
    "### Вывод"
   ]
  },
  {
   "cell_type": "markdown",
   "metadata": {},
   "source": [
    "- На двух тарифах с каждым месяцом количество минут разговора, количество сообщений и объём интернет-трафика используемый пользователями растет.\n",
    "- Значения длительности звонков и количества гигабайт в двух тарифах распределены нормально, а количество сообщений скошены вправо."
   ]
  },
  {
   "cell_type": "markdown",
   "metadata": {},
   "source": [
    "## Шаг 4. Проверьте гипотезы"
   ]
  },
  {
   "cell_type": "markdown",
   "metadata": {},
   "source": [
    "### средняя выручка пользователей тарифов «Ультра» и «Смарт» различаются;"
   ]
  },
  {
   "cell_type": "code",
   "execution_count": 49,
   "metadata": {},
   "outputs": [],
   "source": [
    "tariff_smart = data_full_month.query('tariff == \"smart\"')['proceeds']\n",
    "tariff_ultra = data_full_month.query('tariff == \"ultra\"')['proceeds']\n",
    "alpha = .05"
   ]
  },
  {
   "cell_type": "code",
   "execution_count": 50,
   "metadata": {},
   "outputs": [],
   "source": [
    "results = st.ttest_ind(tariff_smart, tariff_ultra)"
   ]
  },
  {
   "cell_type": "code",
   "execution_count": 51,
   "metadata": {},
   "outputs": [
    {
     "name": "stdout",
     "output_type": "stream",
     "text": [
      "p-значение: 8.081909555489933e-161\n",
      "Отвергаем нулевую гипотезу\n"
     ]
    }
   ],
   "source": [
    "print('p-значение:', results.pvalue)\n",
    "if results.pvalue < alpha:\n",
    "    print(\"Отвергаем нулевую гипотезу\")\n",
    "else:\n",
    "    print(\"Не получилось отвергнуть нулевую гипотезу\") "
   ]
  },
  {
   "cell_type": "markdown",
   "metadata": {},
   "source": [
    "Отвергаем нулевую гипотезу о том, что выручка пользователей в месяц тарифов «Ультра» и «Смарт» равна, значит она различается."
   ]
  },
  {
   "cell_type": "markdown",
   "metadata": {},
   "source": [
    "### средняя выручка пользователи из Москвы отличается от выручки пользователей из других регионов."
   ]
  },
  {
   "cell_type": "code",
   "execution_count": 52,
   "metadata": {},
   "outputs": [],
   "source": [
    "data_full_month = data_full_month.merge(data_users[['user_id','city']])"
   ]
  },
  {
   "cell_type": "code",
   "execution_count": 53,
   "metadata": {},
   "outputs": [],
   "source": [
    "city_mosk = data_full_month.query('city == \"Москва\"')['proceeds']\n",
    "city_others = data_full_month.query('city != \"Москва\"')['proceeds']"
   ]
  },
  {
   "cell_type": "code",
   "execution_count": 54,
   "metadata": {},
   "outputs": [],
   "source": [
    "results = st.ttest_ind(city_mosk, city_others)"
   ]
  },
  {
   "cell_type": "code",
   "execution_count": 55,
   "metadata": {},
   "outputs": [
    {
     "name": "stdout",
     "output_type": "stream",
     "text": [
      "p-значение: 0.5400751614511182\n",
      "Не получилось отвергнуть нулевую гипотезу\n"
     ]
    }
   ],
   "source": [
    "print('p-значение:', results.pvalue)\n",
    "if results.pvalue < alpha:\n",
    "    print(\"Отвергаем нулевую гипотезу\")\n",
    "else:\n",
    "    print(\"Не получилось отвергнуть нулевую гипотезу\") "
   ]
  },
  {
   "cell_type": "markdown",
   "metadata": {},
   "source": [
    "Не отвергаем нулевую гипотизу о том, что выручка пользователей из Москвы равна выручке пользователей из других регионов."
   ]
  },
  {
   "cell_type": "markdown",
   "metadata": {},
   "source": [
    "### Вывод"
   ]
  },
  {
   "cell_type": "markdown",
   "metadata": {},
   "source": [
    "- Выручка пользователей тарифов «Ультра» и «Смарт» различается.\n",
    "- Выручка пользователей из Москвы равна выручке пользователей из других регионов."
   ]
  },
  {
   "cell_type": "markdown",
   "metadata": {},
   "source": [
    "## Общий вывод"
   ]
  },
  {
   "cell_type": "markdown",
   "metadata": {},
   "source": [
    "- На двух тарифах с каждым месяцом количество минут разговора, количество сообщений и объём интернет-трафика используемый пользователями растет.\n",
    "- Значения длительности звонков и количества гигабайт в двух тарифах распределены нормально, а количество сообщений скошены вправо.\n",
    "- Выручка пользователей тарифов «Ультра» и «Смарт» различается.\n",
    "- Выручка пользователей из Москвы равна выручке пользователей из других регионов.\n",
    "- Тариф ultra лучше, потому что в среднем клиенты с тарифом ultra приносят на 780 рублей больше выручке чем клиенты с тарифом smart."
   ]
  }
 ],
 "metadata": {
  "ExecuteTimeLog": [
   {
    "duration": 608,
    "start_time": "2021-08-15T10:49:38.578Z"
   },
   {
    "duration": 1047,
    "start_time": "2021-08-15T10:51:17.354Z"
   },
   {
    "duration": 12,
    "start_time": "2021-08-15T10:51:28.315Z"
   },
   {
    "duration": 9,
    "start_time": "2021-08-15T10:51:35.243Z"
   },
   {
    "duration": 8,
    "start_time": "2021-08-15T10:51:46.475Z"
   },
   {
    "duration": 7,
    "start_time": "2021-08-15T10:51:48.317Z"
   },
   {
    "duration": 7,
    "start_time": "2021-08-15T10:51:52.164Z"
   },
   {
    "duration": 8,
    "start_time": "2021-08-15T10:51:58.452Z"
   },
   {
    "duration": 8,
    "start_time": "2021-08-15T10:52:21.726Z"
   },
   {
    "duration": 8,
    "start_time": "2021-08-15T10:52:28.934Z"
   },
   {
    "duration": 8,
    "start_time": "2021-08-15T10:53:09.601Z"
   },
   {
    "duration": 9,
    "start_time": "2021-08-15T10:53:13.522Z"
   },
   {
    "duration": 13,
    "start_time": "2021-08-15T10:53:19.065Z"
   },
   {
    "duration": 9,
    "start_time": "2021-08-15T10:53:38.042Z"
   },
   {
    "duration": 12,
    "start_time": "2021-08-15T10:53:44.748Z"
   },
   {
    "duration": 11,
    "start_time": "2021-08-15T10:53:49.803Z"
   },
   {
    "duration": 81,
    "start_time": "2021-08-15T10:56:49.495Z"
   },
   {
    "duration": 21,
    "start_time": "2021-08-15T10:56:52.375Z"
   },
   {
    "duration": 5,
    "start_time": "2021-08-15T10:57:46.420Z"
   },
   {
    "duration": 27,
    "start_time": "2021-08-15T10:58:47.055Z"
   },
   {
    "duration": 19,
    "start_time": "2021-08-15T10:58:50.286Z"
   },
   {
    "duration": 295,
    "start_time": "2021-08-15T10:59:38.608Z"
   },
   {
    "duration": 4605,
    "start_time": "2021-08-15T10:59:34.300Z"
   },
   {
    "duration": 619,
    "start_time": "2021-08-15T10:59:49.858Z"
   },
   {
    "duration": 831,
    "start_time": "2021-08-15T10:59:50.479Z"
   },
   {
    "duration": 14,
    "start_time": "2021-08-15T10:59:51.312Z"
   },
   {
    "duration": 11,
    "start_time": "2021-08-15T10:59:51.635Z"
   },
   {
    "duration": 8,
    "start_time": "2021-08-15T10:59:52.277Z"
   },
   {
    "duration": 7,
    "start_time": "2021-08-15T10:59:52.942Z"
   },
   {
    "duration": 14,
    "start_time": "2021-08-15T10:59:53.818Z"
   },
   {
    "duration": 5,
    "start_time": "2021-08-15T10:59:56.004Z"
   },
   {
    "duration": 27,
    "start_time": "2021-08-15T10:59:57.107Z"
   },
   {
    "duration": 611,
    "start_time": "2021-08-15T11:02:28.764Z"
   },
   {
    "duration": 781,
    "start_time": "2021-08-15T11:02:29.797Z"
   },
   {
    "duration": 14,
    "start_time": "2021-08-15T11:02:30.580Z"
   },
   {
    "duration": 13,
    "start_time": "2021-08-15T11:02:30.708Z"
   },
   {
    "duration": 9,
    "start_time": "2021-08-15T11:02:31.147Z"
   },
   {
    "duration": 9,
    "start_time": "2021-08-15T11:02:31.695Z"
   },
   {
    "duration": 13,
    "start_time": "2021-08-15T11:02:32.544Z"
   },
   {
    "duration": 5,
    "start_time": "2021-08-15T11:02:35.271Z"
   },
   {
    "duration": 27,
    "start_time": "2021-08-15T11:02:35.757Z"
   },
   {
    "duration": 569,
    "start_time": "2021-08-15T11:02:40.277Z"
   },
   {
    "duration": 647,
    "start_time": "2021-08-15T11:05:11.719Z"
   },
   {
    "duration": 893,
    "start_time": "2021-08-15T11:05:12.367Z"
   },
   {
    "duration": 13,
    "start_time": "2021-08-15T11:05:13.262Z"
   },
   {
    "duration": 11,
    "start_time": "2021-08-15T11:05:13.277Z"
   },
   {
    "duration": 10,
    "start_time": "2021-08-15T11:05:13.290Z"
   },
   {
    "duration": 14,
    "start_time": "2021-08-15T11:05:13.301Z"
   },
   {
    "duration": 13,
    "start_time": "2021-08-15T11:05:13.316Z"
   },
   {
    "duration": 10,
    "start_time": "2021-08-15T11:05:13.331Z"
   },
   {
    "duration": 27,
    "start_time": "2021-08-15T11:05:13.343Z"
   },
   {
    "duration": 138,
    "start_time": "2021-08-15T11:05:13.372Z"
   },
   {
    "duration": 47,
    "start_time": "2021-08-15T11:05:13.512Z"
   },
   {
    "duration": 81,
    "start_time": "2021-08-15T11:05:29.184Z"
   },
   {
    "duration": 659,
    "start_time": "2021-08-15T11:05:34.132Z"
   },
   {
    "duration": 738,
    "start_time": "2021-08-15T11:05:34.793Z"
   },
   {
    "duration": 12,
    "start_time": "2021-08-15T11:05:35.533Z"
   },
   {
    "duration": 11,
    "start_time": "2021-08-15T11:05:35.547Z"
   },
   {
    "duration": 10,
    "start_time": "2021-08-15T11:05:35.560Z"
   },
   {
    "duration": 8,
    "start_time": "2021-08-15T11:05:35.571Z"
   },
   {
    "duration": 11,
    "start_time": "2021-08-15T11:05:35.580Z"
   },
   {
    "duration": 6,
    "start_time": "2021-08-15T11:05:35.593Z"
   },
   {
    "duration": 53,
    "start_time": "2021-08-15T11:05:35.601Z"
   },
   {
    "duration": 117,
    "start_time": "2021-08-15T11:05:35.655Z"
   },
   {
    "duration": 40,
    "start_time": "2021-08-15T11:05:35.774Z"
   },
   {
    "duration": 17,
    "start_time": "2021-08-15T11:05:46.308Z"
   },
   {
    "duration": 41,
    "start_time": "2021-08-15T11:06:28.464Z"
   },
   {
    "duration": 877,
    "start_time": "2021-08-15T11:21:23.807Z"
   },
   {
    "duration": 9,
    "start_time": "2021-08-15T11:21:42.864Z"
   },
   {
    "duration": 159,
    "start_time": "2021-08-15T11:22:03.954Z"
   },
   {
    "duration": 154,
    "start_time": "2021-08-15T11:22:15.939Z"
   },
   {
    "duration": 21,
    "start_time": "2021-08-15T11:22:28.804Z"
   },
   {
    "duration": 651,
    "start_time": "2021-08-15T11:28:11.475Z"
   },
   {
    "duration": 901,
    "start_time": "2021-08-15T11:28:12.128Z"
   },
   {
    "duration": 13,
    "start_time": "2021-08-15T11:28:13.031Z"
   },
   {
    "duration": 20,
    "start_time": "2021-08-15T11:28:13.046Z"
   },
   {
    "duration": 10,
    "start_time": "2021-08-15T11:28:13.067Z"
   },
   {
    "duration": 8,
    "start_time": "2021-08-15T11:28:13.079Z"
   },
   {
    "duration": 13,
    "start_time": "2021-08-15T11:28:13.089Z"
   },
   {
    "duration": 16,
    "start_time": "2021-08-15T11:28:13.104Z"
   },
   {
    "duration": 119,
    "start_time": "2021-08-15T11:28:13.122Z"
   },
   {
    "duration": 136,
    "start_time": "2021-08-15T11:28:13.242Z"
   },
   {
    "duration": 275,
    "start_time": "2021-08-15T11:28:13.380Z"
   },
   {
    "duration": 310,
    "start_time": "2021-08-15T11:42:35.853Z"
   },
   {
    "duration": 239,
    "start_time": "2021-08-15T11:42:44.085Z"
   },
   {
    "duration": 238,
    "start_time": "2021-08-15T11:42:49.236Z"
   },
   {
    "duration": 13,
    "start_time": "2021-08-15T11:42:59.782Z"
   },
   {
    "duration": 254,
    "start_time": "2021-08-15T11:43:03.477Z"
   },
   {
    "duration": 14,
    "start_time": "2021-08-15T11:43:06.245Z"
   },
   {
    "duration": 11,
    "start_time": "2021-08-15T11:50:07.160Z"
   },
   {
    "duration": 359,
    "start_time": "2021-08-15T11:50:35.690Z"
   },
   {
    "duration": 651,
    "start_time": "2021-08-15T11:50:42.010Z"
   },
   {
    "duration": 858,
    "start_time": "2021-08-15T11:50:42.665Z"
   },
   {
    "duration": 13,
    "start_time": "2021-08-15T11:50:43.525Z"
   },
   {
    "duration": 11,
    "start_time": "2021-08-15T11:50:43.540Z"
   },
   {
    "duration": 8,
    "start_time": "2021-08-15T11:50:43.553Z"
   },
   {
    "duration": 9,
    "start_time": "2021-08-15T11:50:43.563Z"
   },
   {
    "duration": 12,
    "start_time": "2021-08-15T11:50:43.573Z"
   },
   {
    "duration": 10,
    "start_time": "2021-08-15T11:50:43.587Z"
   },
   {
    "duration": 389,
    "start_time": "2021-08-15T11:50:43.599Z"
   },
   {
    "duration": -3,
    "start_time": "2021-08-15T11:50:43.993Z"
   },
   {
    "duration": -7,
    "start_time": "2021-08-15T11:50:43.998Z"
   },
   {
    "duration": 120,
    "start_time": "2021-08-15T11:51:01.263Z"
   },
   {
    "duration": 200,
    "start_time": "2021-08-15T11:51:13.407Z"
   },
   {
    "duration": 154,
    "start_time": "2021-08-15T11:51:18.585Z"
   },
   {
    "duration": 265,
    "start_time": "2021-08-15T11:52:23.275Z"
   },
   {
    "duration": 619,
    "start_time": "2021-08-15T11:52:29.768Z"
   },
   {
    "duration": 855,
    "start_time": "2021-08-15T11:52:30.394Z"
   },
   {
    "duration": 13,
    "start_time": "2021-08-15T11:52:31.250Z"
   },
   {
    "duration": 12,
    "start_time": "2021-08-15T11:52:31.265Z"
   },
   {
    "duration": 12,
    "start_time": "2021-08-15T11:52:31.279Z"
   },
   {
    "duration": 14,
    "start_time": "2021-08-15T11:52:31.292Z"
   },
   {
    "duration": 20,
    "start_time": "2021-08-15T11:52:31.307Z"
   },
   {
    "duration": 9,
    "start_time": "2021-08-15T11:52:31.341Z"
   },
   {
    "duration": 132,
    "start_time": "2021-08-15T11:52:31.352Z"
   },
   {
    "duration": 170,
    "start_time": "2021-08-15T11:52:31.485Z"
   },
   {
    "duration": 197,
    "start_time": "2021-08-15T11:52:31.657Z"
   },
   {
    "duration": 671,
    "start_time": "2021-08-15T12:01:25.906Z"
   },
   {
    "duration": 846,
    "start_time": "2021-08-15T12:01:26.579Z"
   },
   {
    "duration": 13,
    "start_time": "2021-08-15T12:01:27.429Z"
   },
   {
    "duration": 24,
    "start_time": "2021-08-15T12:01:27.443Z"
   },
   {
    "duration": 25,
    "start_time": "2021-08-15T12:01:27.468Z"
   },
   {
    "duration": 31,
    "start_time": "2021-08-15T12:01:27.494Z"
   },
   {
    "duration": 32,
    "start_time": "2021-08-15T12:01:27.526Z"
   },
   {
    "duration": 30,
    "start_time": "2021-08-15T12:01:27.561Z"
   },
   {
    "duration": 134,
    "start_time": "2021-08-15T12:01:27.593Z"
   },
   {
    "duration": 168,
    "start_time": "2021-08-15T12:01:27.729Z"
   },
   {
    "duration": 189,
    "start_time": "2021-08-15T12:01:27.899Z"
   },
   {
    "duration": 12,
    "start_time": "2021-08-15T12:01:35.911Z"
   },
   {
    "duration": 13,
    "start_time": "2021-08-15T12:01:45.799Z"
   },
   {
    "duration": 13,
    "start_time": "2021-08-15T12:02:00.185Z"
   },
   {
    "duration": 675,
    "start_time": "2021-08-15T12:02:04.615Z"
   },
   {
    "duration": 774,
    "start_time": "2021-08-15T12:02:05.292Z"
   },
   {
    "duration": 11,
    "start_time": "2021-08-15T12:02:06.068Z"
   },
   {
    "duration": 9,
    "start_time": "2021-08-15T12:02:06.081Z"
   },
   {
    "duration": 9,
    "start_time": "2021-08-15T12:02:06.092Z"
   },
   {
    "duration": 9,
    "start_time": "2021-08-15T12:02:06.102Z"
   },
   {
    "duration": 12,
    "start_time": "2021-08-15T12:02:06.112Z"
   },
   {
    "duration": 10,
    "start_time": "2021-08-15T12:02:06.125Z"
   },
   {
    "duration": 117,
    "start_time": "2021-08-15T12:02:06.137Z"
   },
   {
    "duration": 165,
    "start_time": "2021-08-15T12:02:06.255Z"
   },
   {
    "duration": 189,
    "start_time": "2021-08-15T12:02:06.422Z"
   },
   {
    "duration": 643,
    "start_time": "2021-08-15T12:03:22.682Z"
   },
   {
    "duration": 588,
    "start_time": "2021-08-15T12:03:23.327Z"
   },
   {
    "duration": 62,
    "start_time": "2021-08-15T12:03:23.855Z"
   },
   {
    "duration": 62,
    "start_time": "2021-08-15T12:03:23.856Z"
   },
   {
    "duration": 39,
    "start_time": "2021-08-15T12:03:23.880Z"
   },
   {
    "duration": 38,
    "start_time": "2021-08-15T12:03:23.882Z"
   },
   {
    "duration": 38,
    "start_time": "2021-08-15T12:03:23.883Z"
   },
   {
    "duration": 38,
    "start_time": "2021-08-15T12:03:23.884Z"
   },
   {
    "duration": 39,
    "start_time": "2021-08-15T12:03:23.884Z"
   },
   {
    "duration": 39,
    "start_time": "2021-08-15T12:03:23.885Z"
   },
   {
    "duration": 39,
    "start_time": "2021-08-15T12:03:23.886Z"
   },
   {
    "duration": 866,
    "start_time": "2021-08-15T12:03:47.039Z"
   },
   {
    "duration": 10,
    "start_time": "2021-08-15T12:03:49.455Z"
   },
   {
    "duration": 8,
    "start_time": "2021-08-15T12:03:49.727Z"
   },
   {
    "duration": 7,
    "start_time": "2021-08-15T12:03:54.278Z"
   },
   {
    "duration": 7,
    "start_time": "2021-08-15T12:03:56.832Z"
   },
   {
    "duration": 612,
    "start_time": "2021-08-15T12:04:09.487Z"
   },
   {
    "duration": 691,
    "start_time": "2021-08-15T12:04:10.101Z"
   },
   {
    "duration": 11,
    "start_time": "2021-08-15T12:04:10.797Z"
   },
   {
    "duration": 22,
    "start_time": "2021-08-15T12:04:10.809Z"
   },
   {
    "duration": 25,
    "start_time": "2021-08-15T12:04:10.833Z"
   },
   {
    "duration": 20,
    "start_time": "2021-08-15T12:04:10.860Z"
   },
   {
    "duration": 28,
    "start_time": "2021-08-15T12:04:10.881Z"
   },
   {
    "duration": 24,
    "start_time": "2021-08-15T12:04:10.911Z"
   },
   {
    "duration": 123,
    "start_time": "2021-08-15T12:04:10.936Z"
   },
   {
    "duration": 155,
    "start_time": "2021-08-15T12:04:11.061Z"
   },
   {
    "duration": 187,
    "start_time": "2021-08-15T12:04:11.218Z"
   },
   {
    "duration": 646,
    "start_time": "2021-08-15T12:06:27.614Z"
   },
   {
    "duration": 807,
    "start_time": "2021-08-15T12:06:28.261Z"
   },
   {
    "duration": 10,
    "start_time": "2021-08-15T12:06:29.070Z"
   },
   {
    "duration": 9,
    "start_time": "2021-08-15T12:06:29.082Z"
   },
   {
    "duration": 8,
    "start_time": "2021-08-15T12:06:29.093Z"
   },
   {
    "duration": 9,
    "start_time": "2021-08-15T12:06:29.102Z"
   },
   {
    "duration": 11,
    "start_time": "2021-08-15T12:06:29.112Z"
   },
   {
    "duration": 9,
    "start_time": "2021-08-15T12:06:29.124Z"
   },
   {
    "duration": 1397,
    "start_time": "2021-08-15T12:06:29.141Z"
   },
   {
    "duration": 452,
    "start_time": "2021-08-15T12:06:59.845Z"
   },
   {
    "duration": 1246,
    "start_time": "2021-08-16T17:28:00.957Z"
   },
   {
    "duration": 1284,
    "start_time": "2021-08-16T17:28:02.206Z"
   },
   {
    "duration": 15,
    "start_time": "2021-08-16T17:28:22.654Z"
   },
   {
    "duration": 33,
    "start_time": "2021-08-16T17:28:36.576Z"
   },
   {
    "duration": 102,
    "start_time": "2021-08-16T17:29:33.659Z"
   },
   {
    "duration": 68,
    "start_time": "2021-08-16T17:29:50.014Z"
   },
   {
    "duration": 819,
    "start_time": "2021-08-16T17:30:37.601Z"
   },
   {
    "duration": 1281,
    "start_time": "2021-08-16T17:30:38.422Z"
   },
   {
    "duration": 15,
    "start_time": "2021-08-16T17:30:42.851Z"
   },
   {
    "duration": 75,
    "start_time": "2021-08-16T17:30:50.028Z"
   },
   {
    "duration": 883,
    "start_time": "2021-08-16T17:31:24.424Z"
   },
   {
    "duration": 943,
    "start_time": "2021-08-16T17:31:25.310Z"
   },
   {
    "duration": 17,
    "start_time": "2021-08-16T17:31:30.644Z"
   },
   {
    "duration": 75,
    "start_time": "2021-08-16T17:31:33.420Z"
   },
   {
    "duration": 39,
    "start_time": "2021-08-16T17:31:36.292Z"
   },
   {
    "duration": 963,
    "start_time": "2021-08-16T17:33:06.735Z"
   },
   {
    "duration": 1077,
    "start_time": "2021-08-16T17:33:07.701Z"
   },
   {
    "duration": 16,
    "start_time": "2021-08-16T17:33:08.783Z"
   },
   {
    "duration": 16,
    "start_time": "2021-08-16T17:33:08.802Z"
   },
   {
    "duration": 23,
    "start_time": "2021-08-16T17:33:08.821Z"
   },
   {
    "duration": 16,
    "start_time": "2021-08-16T17:33:08.846Z"
   },
   {
    "duration": 18,
    "start_time": "2021-08-16T17:33:08.864Z"
   },
   {
    "duration": 16,
    "start_time": "2021-08-16T17:33:08.885Z"
   },
   {
    "duration": 717,
    "start_time": "2021-08-16T17:33:08.905Z"
   },
   {
    "duration": 19,
    "start_time": "2021-08-16T17:40:04.481Z"
   },
   {
    "duration": 15,
    "start_time": "2021-08-16T17:40:47.131Z"
   },
   {
    "duration": 389,
    "start_time": "2021-08-16T17:41:40.583Z"
   },
   {
    "duration": 32,
    "start_time": "2021-08-16T17:41:51.262Z"
   },
   {
    "duration": 88,
    "start_time": "2021-08-16T17:42:56.420Z"
   },
   {
    "duration": 527,
    "start_time": "2021-08-16T17:43:16.605Z"
   },
   {
    "duration": 631,
    "start_time": "2021-08-16T17:48:56.073Z"
   },
   {
    "duration": 14,
    "start_time": "2021-08-16T17:49:01.978Z"
   },
   {
    "duration": 845,
    "start_time": "2021-08-16T17:50:14.239Z"
   },
   {
    "duration": 5,
    "start_time": "2021-08-16T17:50:50.313Z"
   },
   {
    "duration": 5,
    "start_time": "2021-08-16T17:51:00.025Z"
   },
   {
    "duration": 4,
    "start_time": "2021-08-16T17:51:48.396Z"
   },
   {
    "duration": 15,
    "start_time": "2021-08-16T17:51:53.397Z"
   },
   {
    "duration": 178,
    "start_time": "2021-08-16T17:58:12.563Z"
   },
   {
    "duration": 284,
    "start_time": "2021-08-16T17:59:29.433Z"
   },
   {
    "duration": 250,
    "start_time": "2021-08-16T17:59:44.490Z"
   },
   {
    "duration": 656,
    "start_time": "2021-08-16T18:00:46.682Z"
   },
   {
    "duration": 343,
    "start_time": "2021-08-16T18:01:57.297Z"
   },
   {
    "duration": 414,
    "start_time": "2021-08-16T18:02:33.548Z"
   },
   {
    "duration": 354,
    "start_time": "2021-08-16T18:04:08.017Z"
   },
   {
    "duration": 33,
    "start_time": "2021-08-16T18:04:15.332Z"
   },
   {
    "duration": 340,
    "start_time": "2021-08-16T18:05:52.824Z"
   },
   {
    "duration": 9,
    "start_time": "2021-08-16T18:06:01.128Z"
   },
   {
    "duration": 5,
    "start_time": "2021-08-16T18:06:51.356Z"
   },
   {
    "duration": 22,
    "start_time": "2021-08-16T18:06:58.347Z"
   },
   {
    "duration": 79,
    "start_time": "2021-08-16T18:07:01.212Z"
   },
   {
    "duration": 5,
    "start_time": "2021-08-16T18:08:00.003Z"
   },
   {
    "duration": 42,
    "start_time": "2021-08-16T18:08:03.904Z"
   },
   {
    "duration": 31,
    "start_time": "2021-08-16T18:08:42.395Z"
   },
   {
    "duration": 6,
    "start_time": "2021-08-16T18:09:16.206Z"
   },
   {
    "duration": 42,
    "start_time": "2021-08-16T18:09:16.955Z"
   },
   {
    "duration": 444,
    "start_time": "2021-08-16T18:17:46.682Z"
   },
   {
    "duration": 31,
    "start_time": "2021-08-16T18:17:47.837Z"
   },
   {
    "duration": 88,
    "start_time": "2021-08-16T18:17:58.013Z"
   },
   {
    "duration": 6,
    "start_time": "2021-08-16T18:18:03.143Z"
   },
   {
    "duration": 50,
    "start_time": "2021-08-16T18:18:04.177Z"
   },
   {
    "duration": 5,
    "start_time": "2021-08-16T18:18:30.428Z"
   },
   {
    "duration": 54,
    "start_time": "2021-08-16T18:18:30.752Z"
   },
   {
    "duration": 12,
    "start_time": "2021-08-16T18:18:51.137Z"
   },
   {
    "duration": 886,
    "start_time": "2021-08-16T18:20:04.328Z"
   },
   {
    "duration": 1138,
    "start_time": "2021-08-16T18:20:05.216Z"
   },
   {
    "duration": 15,
    "start_time": "2021-08-16T18:20:06.357Z"
   },
   {
    "duration": 14,
    "start_time": "2021-08-16T18:20:06.375Z"
   },
   {
    "duration": 16,
    "start_time": "2021-08-16T18:20:06.391Z"
   },
   {
    "duration": 15,
    "start_time": "2021-08-16T18:20:06.409Z"
   },
   {
    "duration": 44,
    "start_time": "2021-08-16T18:20:06.426Z"
   },
   {
    "duration": 17,
    "start_time": "2021-08-16T18:20:06.472Z"
   },
   {
    "duration": 523,
    "start_time": "2021-08-16T18:20:06.492Z"
   },
   {
    "duration": 39,
    "start_time": "2021-08-16T18:20:07.018Z"
   },
   {
    "duration": 7,
    "start_time": "2021-08-16T18:20:07.059Z"
   },
   {
    "duration": 107,
    "start_time": "2021-08-16T18:20:07.069Z"
   },
   {
    "duration": 5,
    "start_time": "2021-08-16T18:20:07.179Z"
   },
   {
    "duration": 71,
    "start_time": "2021-08-16T18:20:07.187Z"
   },
   {
    "duration": 406,
    "start_time": "2021-08-16T18:21:57.629Z"
   },
   {
    "duration": 200,
    "start_time": "2021-08-16T18:22:02.821Z"
   },
   {
    "duration": 853,
    "start_time": "2021-08-16T18:22:31.919Z"
   },
   {
    "duration": 1199,
    "start_time": "2021-08-16T18:22:32.775Z"
   },
   {
    "duration": 16,
    "start_time": "2021-08-16T18:22:33.980Z"
   },
   {
    "duration": 28,
    "start_time": "2021-08-16T18:22:33.999Z"
   },
   {
    "duration": 26,
    "start_time": "2021-08-16T18:22:34.030Z"
   },
   {
    "duration": 31,
    "start_time": "2021-08-16T18:22:34.058Z"
   },
   {
    "duration": 39,
    "start_time": "2021-08-16T18:22:34.091Z"
   },
   {
    "duration": 33,
    "start_time": "2021-08-16T18:22:34.132Z"
   },
   {
    "duration": 484,
    "start_time": "2021-08-16T18:22:34.170Z"
   },
   {
    "duration": 30,
    "start_time": "2021-08-16T18:22:34.656Z"
   },
   {
    "duration": 22,
    "start_time": "2021-08-16T18:22:34.689Z"
   },
   {
    "duration": 97,
    "start_time": "2021-08-16T18:22:34.713Z"
   },
   {
    "duration": 4,
    "start_time": "2021-08-16T18:22:34.813Z"
   },
   {
    "duration": 78,
    "start_time": "2021-08-16T18:22:34.820Z"
   },
   {
    "duration": 451,
    "start_time": "2021-08-16T18:22:34.900Z"
   },
   {
    "duration": 219,
    "start_time": "2021-08-16T18:22:35.354Z"
   },
   {
    "duration": 126,
    "start_time": "2021-08-16T18:24:46.857Z"
   },
   {
    "duration": 791,
    "start_time": "2021-08-17T12:31:48.509Z"
   },
   {
    "duration": 1014,
    "start_time": "2021-08-17T12:31:49.302Z"
   },
   {
    "duration": 16,
    "start_time": "2021-08-17T12:31:50.319Z"
   },
   {
    "duration": 18,
    "start_time": "2021-08-17T12:31:50.338Z"
   },
   {
    "duration": 10,
    "start_time": "2021-08-17T12:31:50.359Z"
   },
   {
    "duration": 11,
    "start_time": "2021-08-17T12:31:50.372Z"
   },
   {
    "duration": 21,
    "start_time": "2021-08-17T12:31:50.386Z"
   },
   {
    "duration": 21,
    "start_time": "2021-08-17T12:31:50.412Z"
   },
   {
    "duration": 465,
    "start_time": "2021-08-17T12:31:50.437Z"
   },
   {
    "duration": 28,
    "start_time": "2021-08-17T12:31:50.905Z"
   },
   {
    "duration": 6,
    "start_time": "2021-08-17T12:31:50.935Z"
   },
   {
    "duration": 103,
    "start_time": "2021-08-17T12:31:50.943Z"
   },
   {
    "duration": 5,
    "start_time": "2021-08-17T12:31:51.049Z"
   },
   {
    "duration": 74,
    "start_time": "2021-08-17T12:31:51.056Z"
   },
   {
    "duration": 424,
    "start_time": "2021-08-17T12:31:51.133Z"
   },
   {
    "duration": 123,
    "start_time": "2021-08-17T12:31:51.559Z"
   },
   {
    "duration": 183,
    "start_time": "2021-08-17T13:19:38.456Z"
   },
   {
    "duration": 434,
    "start_time": "2021-08-17T13:21:28.696Z"
   },
   {
    "duration": 298,
    "start_time": "2021-08-17T13:23:54.595Z"
   },
   {
    "duration": 81,
    "start_time": "2021-08-17T13:24:03.635Z"
   },
   {
    "duration": 187,
    "start_time": "2021-08-17T13:24:09.866Z"
   },
   {
    "duration": 76,
    "start_time": "2021-08-17T13:24:22.399Z"
   },
   {
    "duration": 14,
    "start_time": "2021-08-17T13:24:47.842Z"
   },
   {
    "duration": 810,
    "start_time": "2021-08-18T06:55:25.396Z"
   },
   {
    "duration": 1224,
    "start_time": "2021-08-18T06:55:26.208Z"
   },
   {
    "duration": 15,
    "start_time": "2021-08-18T06:55:27.435Z"
   },
   {
    "duration": 14,
    "start_time": "2021-08-18T06:55:27.452Z"
   },
   {
    "duration": 16,
    "start_time": "2021-08-18T06:55:27.468Z"
   },
   {
    "duration": 14,
    "start_time": "2021-08-18T06:55:27.486Z"
   },
   {
    "duration": 18,
    "start_time": "2021-08-18T06:55:27.502Z"
   },
   {
    "duration": 14,
    "start_time": "2021-08-18T06:55:27.524Z"
   },
   {
    "duration": 647,
    "start_time": "2021-08-18T06:55:27.541Z"
   },
   {
    "duration": 29,
    "start_time": "2021-08-18T06:55:28.190Z"
   },
   {
    "duration": 7,
    "start_time": "2021-08-18T06:55:28.221Z"
   },
   {
    "duration": 104,
    "start_time": "2021-08-18T06:55:28.230Z"
   },
   {
    "duration": 5,
    "start_time": "2021-08-18T06:55:28.336Z"
   },
   {
    "duration": 65,
    "start_time": "2021-08-18T06:55:28.343Z"
   },
   {
    "duration": 404,
    "start_time": "2021-08-18T06:55:28.410Z"
   },
   {
    "duration": 121,
    "start_time": "2021-08-18T06:55:28.816Z"
   },
   {
    "duration": 301,
    "start_time": "2021-08-18T06:55:28.939Z"
   },
   {
    "duration": 18,
    "start_time": "2021-08-18T06:55:29.243Z"
   },
   {
    "duration": 34,
    "start_time": "2021-08-18T06:59:23.781Z"
   },
   {
    "duration": 28,
    "start_time": "2021-08-18T07:00:12.557Z"
   },
   {
    "duration": 18,
    "start_time": "2021-08-18T07:17:56.183Z"
   },
   {
    "duration": 13,
    "start_time": "2021-08-18T07:18:18.276Z"
   },
   {
    "duration": 112,
    "start_time": "2021-08-18T07:18:41.242Z"
   },
   {
    "duration": 660,
    "start_time": "2021-08-22T08:03:36.520Z"
   },
   {
    "duration": 1106,
    "start_time": "2021-08-22T08:03:37.182Z"
   },
   {
    "duration": 10,
    "start_time": "2021-08-22T08:03:38.290Z"
   },
   {
    "duration": 24,
    "start_time": "2021-08-22T08:03:38.302Z"
   },
   {
    "duration": 32,
    "start_time": "2021-08-22T08:03:38.327Z"
   },
   {
    "duration": 7,
    "start_time": "2021-08-22T08:03:38.361Z"
   },
   {
    "duration": 33,
    "start_time": "2021-08-22T08:03:38.369Z"
   },
   {
    "duration": 30,
    "start_time": "2021-08-22T08:03:38.403Z"
   },
   {
    "duration": 350,
    "start_time": "2021-08-22T08:03:38.436Z"
   },
   {
    "duration": 17,
    "start_time": "2021-08-22T08:03:38.788Z"
   },
   {
    "duration": 8,
    "start_time": "2021-08-22T08:03:38.806Z"
   },
   {
    "duration": 71,
    "start_time": "2021-08-22T08:03:38.816Z"
   },
   {
    "duration": 4,
    "start_time": "2021-08-22T08:03:38.889Z"
   },
   {
    "duration": 65,
    "start_time": "2021-08-22T08:03:38.894Z"
   },
   {
    "duration": 288,
    "start_time": "2021-08-22T08:03:38.960Z"
   },
   {
    "duration": 94,
    "start_time": "2021-08-22T08:03:39.249Z"
   },
   {
    "duration": 226,
    "start_time": "2021-08-22T08:03:39.344Z"
   },
   {
    "duration": 15,
    "start_time": "2021-08-22T08:03:39.571Z"
   },
   {
    "duration": 97,
    "start_time": "2021-08-22T08:03:39.588Z"
   },
   {
    "duration": 116,
    "start_time": "2021-08-22T08:03:58.797Z"
   },
   {
    "duration": 4,
    "start_time": "2021-08-22T08:26:37.659Z"
   },
   {
    "duration": 21,
    "start_time": "2021-08-22T08:27:10.164Z"
   },
   {
    "duration": 440,
    "start_time": "2021-08-22T08:39:37.651Z"
   },
   {
    "duration": 3,
    "start_time": "2021-08-22T08:42:19.125Z"
   },
   {
    "duration": 4,
    "start_time": "2021-08-22T08:42:23.549Z"
   },
   {
    "duration": 311,
    "start_time": "2021-08-22T08:45:43.473Z"
   },
   {
    "duration": 979,
    "start_time": "2021-08-22T08:45:52.138Z"
   },
   {
    "duration": 278,
    "start_time": "2021-08-22T08:46:12.699Z"
   },
   {
    "duration": 251,
    "start_time": "2021-08-22T08:46:20.892Z"
   },
   {
    "duration": 1346,
    "start_time": "2021-08-22T08:47:00.383Z"
   },
   {
    "duration": 4,
    "start_time": "2021-08-22T08:47:51.826Z"
   },
   {
    "duration": 1170,
    "start_time": "2021-08-22T08:48:03.522Z"
   },
   {
    "duration": 1188,
    "start_time": "2021-08-22T08:49:34.385Z"
   },
   {
    "duration": 1005,
    "start_time": "2021-08-22T08:50:13.339Z"
   },
   {
    "duration": 1273,
    "start_time": "2021-08-22T08:52:18.619Z"
   },
   {
    "duration": 1225,
    "start_time": "2021-08-22T08:53:02.365Z"
   },
   {
    "duration": 970,
    "start_time": "2021-08-22T08:53:31.903Z"
   },
   {
    "duration": 1234,
    "start_time": "2021-08-22T08:55:02.205Z"
   },
   {
    "duration": 6,
    "start_time": "2021-08-22T08:56:29.282Z"
   },
   {
    "duration": 4,
    "start_time": "2021-08-22T08:56:39.219Z"
   },
   {
    "duration": 4,
    "start_time": "2021-08-22T08:57:04.804Z"
   },
   {
    "duration": 3,
    "start_time": "2021-08-22T08:57:15.229Z"
   },
   {
    "duration": 84,
    "start_time": "2021-08-22T09:00:04.016Z"
   },
   {
    "duration": 97,
    "start_time": "2021-08-22T09:00:10.697Z"
   },
   {
    "duration": 12,
    "start_time": "2021-08-22T09:00:25.049Z"
   },
   {
    "duration": 22,
    "start_time": "2021-08-22T09:00:42.824Z"
   },
   {
    "duration": 5,
    "start_time": "2021-08-22T09:01:29.925Z"
   },
   {
    "duration": 277,
    "start_time": "2021-08-22T09:03:09.571Z"
   },
   {
    "duration": 260,
    "start_time": "2021-08-22T09:03:25.325Z"
   },
   {
    "duration": 116,
    "start_time": "2021-08-22T09:03:33.197Z"
   },
   {
    "duration": 710,
    "start_time": "2021-08-22T09:03:45.437Z"
   },
   {
    "duration": 1892,
    "start_time": "2021-08-22T09:07:06.851Z"
   },
   {
    "duration": 305,
    "start_time": "2021-08-22T09:07:30.731Z"
   },
   {
    "duration": 29,
    "start_time": "2021-08-22T09:07:46.646Z"
   },
   {
    "duration": 25,
    "start_time": "2021-08-22T09:08:42.319Z"
   },
   {
    "duration": 276,
    "start_time": "2021-08-22T09:13:32.516Z"
   },
   {
    "duration": 453,
    "start_time": "2021-08-22T09:13:54.508Z"
   },
   {
    "duration": 25,
    "start_time": "2021-08-22T09:13:59.884Z"
   },
   {
    "duration": 432,
    "start_time": "2021-08-22T09:14:03.245Z"
   },
   {
    "duration": 18,
    "start_time": "2021-08-22T09:14:22.990Z"
   },
   {
    "duration": 4,
    "start_time": "2021-08-22T09:15:33.402Z"
   },
   {
    "duration": 14,
    "start_time": "2021-08-22T09:16:53.783Z"
   },
   {
    "duration": 13,
    "start_time": "2021-08-22T09:17:10.648Z"
   },
   {
    "duration": 4,
    "start_time": "2021-08-22T09:17:16.305Z"
   },
   {
    "duration": 12,
    "start_time": "2021-08-22T09:17:18.650Z"
   },
   {
    "duration": 16,
    "start_time": "2021-08-22T09:18:55.024Z"
   },
   {
    "duration": 15,
    "start_time": "2021-08-22T09:19:43.890Z"
   },
   {
    "duration": 12,
    "start_time": "2021-08-22T09:19:48.818Z"
   },
   {
    "duration": 5,
    "start_time": "2021-08-22T09:20:08.058Z"
   },
   {
    "duration": 4,
    "start_time": "2021-08-22T09:20:35.694Z"
   },
   {
    "duration": 10,
    "start_time": "2021-08-22T09:20:39.870Z"
   },
   {
    "duration": 16,
    "start_time": "2021-08-22T09:23:27.609Z"
   },
   {
    "duration": 4,
    "start_time": "2021-08-22T09:24:00.851Z"
   },
   {
    "duration": 15,
    "start_time": "2021-08-22T09:24:25.107Z"
   },
   {
    "duration": 4,
    "start_time": "2021-08-22T09:24:26.884Z"
   },
   {
    "duration": 4,
    "start_time": "2021-08-22T09:24:48.237Z"
   },
   {
    "duration": 12,
    "start_time": "2021-08-22T09:24:51.565Z"
   },
   {
    "duration": 4,
    "start_time": "2021-08-22T09:25:48.010Z"
   },
   {
    "duration": 9,
    "start_time": "2021-08-22T09:25:48.314Z"
   },
   {
    "duration": 11,
    "start_time": "2021-08-22T09:27:07.207Z"
   },
   {
    "duration": 9,
    "start_time": "2021-08-22T09:27:29.863Z"
   },
   {
    "duration": 5,
    "start_time": "2021-08-22T09:28:05.562Z"
   },
   {
    "duration": 4,
    "start_time": "2021-08-22T09:28:49.301Z"
   },
   {
    "duration": 12,
    "start_time": "2021-08-22T09:28:58.101Z"
   },
   {
    "duration": 143,
    "start_time": "2021-08-22T09:36:54.291Z"
   },
   {
    "duration": 12,
    "start_time": "2021-08-22T09:37:29.535Z"
   },
   {
    "duration": 10,
    "start_time": "2021-08-22T09:37:42.535Z"
   },
   {
    "duration": 17,
    "start_time": "2021-08-22T09:37:58.488Z"
   },
   {
    "duration": 268,
    "start_time": "2021-08-22T09:41:28.413Z"
   },
   {
    "duration": 6,
    "start_time": "2021-08-22T09:42:01.439Z"
   },
   {
    "duration": 274,
    "start_time": "2021-08-22T09:42:11.391Z"
   },
   {
    "duration": 6,
    "start_time": "2021-08-22T09:42:31.233Z"
   },
   {
    "duration": 6,
    "start_time": "2021-08-22T09:43:16.067Z"
   },
   {
    "duration": 12,
    "start_time": "2021-08-22T09:43:19.283Z"
   },
   {
    "duration": 5,
    "start_time": "2021-08-22T09:44:39.513Z"
   },
   {
    "duration": 12,
    "start_time": "2021-08-22T09:44:41.321Z"
   },
   {
    "duration": 6780,
    "start_time": "2021-08-22T09:46:51.161Z"
   },
   {
    "duration": 252,
    "start_time": "2021-08-22T09:49:25.012Z"
   },
   {
    "duration": 8,
    "start_time": "2021-08-22T09:50:31.247Z"
   },
   {
    "duration": 13,
    "start_time": "2021-08-22T09:50:36.503Z"
   },
   {
    "duration": 7,
    "start_time": "2021-08-22T09:50:47.959Z"
   },
   {
    "duration": 15,
    "start_time": "2021-08-22T09:50:48.344Z"
   },
   {
    "duration": 249,
    "start_time": "2021-08-22T09:51:34.708Z"
   },
   {
    "duration": 5,
    "start_time": "2021-08-22T09:51:43.636Z"
   },
   {
    "duration": 329,
    "start_time": "2021-08-22T09:51:55.228Z"
   },
   {
    "duration": 245,
    "start_time": "2021-08-22T09:52:15.549Z"
   },
   {
    "duration": 255,
    "start_time": "2021-08-22T09:52:23.694Z"
   },
   {
    "duration": 5,
    "start_time": "2021-08-22T09:52:42.656Z"
   },
   {
    "duration": 4,
    "start_time": "2021-08-22T09:52:49.799Z"
   },
   {
    "duration": 627,
    "start_time": "2021-08-22T09:53:07.204Z"
   },
   {
    "duration": 1026,
    "start_time": "2021-08-22T09:53:07.833Z"
   },
   {
    "duration": 10,
    "start_time": "2021-08-22T09:53:08.861Z"
   },
   {
    "duration": 31,
    "start_time": "2021-08-22T09:53:08.873Z"
   },
   {
    "duration": 19,
    "start_time": "2021-08-22T09:53:08.906Z"
   },
   {
    "duration": 15,
    "start_time": "2021-08-22T09:53:08.927Z"
   },
   {
    "duration": 27,
    "start_time": "2021-08-22T09:53:08.944Z"
   },
   {
    "duration": 24,
    "start_time": "2021-08-22T09:53:08.973Z"
   },
   {
    "duration": 357,
    "start_time": "2021-08-22T09:53:08.999Z"
   },
   {
    "duration": 19,
    "start_time": "2021-08-22T09:53:09.358Z"
   },
   {
    "duration": 21,
    "start_time": "2021-08-22T09:53:09.378Z"
   },
   {
    "duration": 78,
    "start_time": "2021-08-22T09:53:09.401Z"
   },
   {
    "duration": 4,
    "start_time": "2021-08-22T09:53:09.481Z"
   },
   {
    "duration": 46,
    "start_time": "2021-08-22T09:53:09.486Z"
   },
   {
    "duration": 293,
    "start_time": "2021-08-22T09:53:09.534Z"
   },
   {
    "duration": 96,
    "start_time": "2021-08-22T09:53:09.829Z"
   },
   {
    "duration": 238,
    "start_time": "2021-08-22T09:53:09.927Z"
   },
   {
    "duration": 16,
    "start_time": "2021-08-22T09:53:10.167Z"
   },
   {
    "duration": 105,
    "start_time": "2021-08-22T09:53:10.185Z"
   },
   {
    "duration": 4,
    "start_time": "2021-08-22T09:53:10.291Z"
   },
   {
    "duration": 23,
    "start_time": "2021-08-22T09:53:10.297Z"
   },
   {
    "duration": 21,
    "start_time": "2021-08-22T09:53:10.321Z"
   },
   {
    "duration": 1961,
    "start_time": "2021-08-22T09:53:10.346Z"
   },
   {
    "duration": 22,
    "start_time": "2021-08-22T09:53:12.309Z"
   },
   {
    "duration": 10,
    "start_time": "2021-08-22T09:53:12.332Z"
   },
   {
    "duration": 5,
    "start_time": "2021-08-22T09:53:12.343Z"
   },
   {
    "duration": 13,
    "start_time": "2021-08-22T09:53:12.349Z"
   },
   {
    "duration": 19,
    "start_time": "2021-08-22T09:53:12.364Z"
   },
   {
    "duration": 4,
    "start_time": "2021-08-22T09:53:12.384Z"
   },
   {
    "duration": 9,
    "start_time": "2021-08-22T09:53:12.389Z"
   },
   {
    "duration": 10,
    "start_time": "2021-08-22T09:53:12.400Z"
   },
   {
    "duration": 43,
    "start_time": "2021-08-22T09:53:12.412Z"
   },
   {
    "duration": 4,
    "start_time": "2021-08-22T09:53:12.456Z"
   },
   {
    "duration": 7,
    "start_time": "2021-08-22T09:53:12.462Z"
   },
   {
    "duration": 10,
    "start_time": "2021-08-22T09:53:12.470Z"
   },
   {
    "duration": 24,
    "start_time": "2021-08-22T09:53:12.482Z"
   },
   {
    "duration": 6,
    "start_time": "2021-08-22T09:53:12.507Z"
   },
   {
    "duration": 16,
    "start_time": "2021-08-22T09:53:12.514Z"
   },
   {
    "duration": 4,
    "start_time": "2021-08-22T09:53:12.540Z"
   },
   {
    "duration": 11,
    "start_time": "2021-08-22T09:53:12.545Z"
   },
   {
    "duration": 14,
    "start_time": "2021-08-22T09:53:12.557Z"
   },
   {
    "duration": 6692,
    "start_time": "2021-08-22T09:54:32.963Z"
   },
   {
    "duration": 4,
    "start_time": "2021-08-22T09:54:54.148Z"
   },
   {
    "duration": 8,
    "start_time": "2021-08-22T09:55:14.869Z"
   },
   {
    "duration": 10,
    "start_time": "2021-08-22T09:55:18.941Z"
   },
   {
    "duration": 17,
    "start_time": "2021-08-22T09:56:04.904Z"
   },
   {
    "duration": 15,
    "start_time": "2021-08-22T09:56:25.193Z"
   },
   {
    "duration": 18,
    "start_time": "2021-08-22T09:56:39.491Z"
   },
   {
    "duration": 13,
    "start_time": "2021-08-22T10:38:27.008Z"
   },
   {
    "duration": 20,
    "start_time": "2021-08-22T10:38:30.178Z"
   },
   {
    "duration": 250,
    "start_time": "2021-08-22T10:38:59.121Z"
   },
   {
    "duration": 6,
    "start_time": "2021-08-22T10:39:10.163Z"
   },
   {
    "duration": 5,
    "start_time": "2021-08-22T10:39:15.420Z"
   },
   {
    "duration": 917,
    "start_time": "2021-08-22T10:40:14.783Z"
   },
   {
    "duration": 448,
    "start_time": "2021-08-22T10:40:25.096Z"
   },
   {
    "duration": 93,
    "start_time": "2021-08-22T10:40:51.090Z"
   },
   {
    "duration": 4,
    "start_time": "2021-08-22T10:40:55.122Z"
   },
   {
    "duration": 5,
    "start_time": "2021-08-22T10:40:59.585Z"
   },
   {
    "duration": 3,
    "start_time": "2021-08-22T10:41:20.851Z"
   },
   {
    "duration": 5,
    "start_time": "2021-08-22T10:41:25.467Z"
   },
   {
    "duration": 17,
    "start_time": "2021-08-22T10:55:30.489Z"
   },
   {
    "duration": 15,
    "start_time": "2021-08-22T10:55:45.778Z"
   },
   {
    "duration": 14,
    "start_time": "2021-08-22T10:56:00.835Z"
   },
   {
    "duration": 3,
    "start_time": "2021-08-22T11:01:59.914Z"
   },
   {
    "duration": 5,
    "start_time": "2021-08-22T11:02:09.778Z"
   },
   {
    "duration": 8,
    "start_time": "2021-08-22T11:02:25.291Z"
   },
   {
    "duration": 4,
    "start_time": "2021-08-22T11:02:59.181Z"
   },
   {
    "duration": 10,
    "start_time": "2021-08-22T11:03:45.104Z"
   },
   {
    "duration": 10,
    "start_time": "2021-08-22T11:03:57.385Z"
   },
   {
    "duration": 14,
    "start_time": "2021-08-22T11:04:02.761Z"
   },
   {
    "duration": 5,
    "start_time": "2021-08-22T11:05:23.166Z"
   },
   {
    "duration": 3,
    "start_time": "2021-08-22T11:07:57.832Z"
   },
   {
    "duration": 2,
    "start_time": "2021-08-22T11:08:05.664Z"
   },
   {
    "duration": 633,
    "start_time": "2021-08-22T11:08:14.365Z"
   },
   {
    "duration": 1043,
    "start_time": "2021-08-22T11:08:16.341Z"
   },
   {
    "duration": 12,
    "start_time": "2021-08-22T11:08:18.989Z"
   },
   {
    "duration": 8,
    "start_time": "2021-08-22T11:08:20.317Z"
   },
   {
    "duration": 14,
    "start_time": "2021-08-22T11:08:23.829Z"
   },
   {
    "duration": 8,
    "start_time": "2021-08-22T11:08:24.349Z"
   },
   {
    "duration": 12,
    "start_time": "2021-08-22T11:08:26.269Z"
   },
   {
    "duration": 14,
    "start_time": "2021-08-22T11:08:29.980Z"
   },
   {
    "duration": 319,
    "start_time": "2021-08-22T11:08:36.982Z"
   },
   {
    "duration": 19,
    "start_time": "2021-08-22T11:09:05.904Z"
   },
   {
    "duration": 5,
    "start_time": "2021-08-22T11:09:23.201Z"
   },
   {
    "duration": 5,
    "start_time": "2021-08-22T11:09:46.346Z"
   },
   {
    "duration": 57,
    "start_time": "2021-08-22T11:09:46.874Z"
   },
   {
    "duration": 6,
    "start_time": "2021-08-22T11:09:53.234Z"
   },
   {
    "duration": 5,
    "start_time": "2021-08-22T11:09:56.883Z"
   },
   {
    "duration": 41,
    "start_time": "2021-08-22T11:09:59.635Z"
   },
   {
    "duration": 6,
    "start_time": "2021-08-22T11:10:05.988Z"
   },
   {
    "duration": 9,
    "start_time": "2021-08-22T11:10:54.975Z"
   },
   {
    "duration": 10,
    "start_time": "2021-08-22T11:11:22.936Z"
   },
   {
    "duration": 315,
    "start_time": "2021-08-22T11:11:47.458Z"
   },
   {
    "duration": 8,
    "start_time": "2021-08-22T11:12:05.868Z"
   },
   {
    "duration": 256,
    "start_time": "2021-08-22T11:13:05.896Z"
   },
   {
    "duration": 13,
    "start_time": "2021-08-22T11:13:12.407Z"
   },
   {
    "duration": 5,
    "start_time": "2021-08-22T11:14:15.932Z"
   },
   {
    "duration": 7,
    "start_time": "2021-08-22T11:14:20.115Z"
   },
   {
    "duration": 5,
    "start_time": "2021-08-22T11:19:10.423Z"
   },
   {
    "duration": 7,
    "start_time": "2021-08-22T11:19:15.967Z"
   },
   {
    "duration": 7,
    "start_time": "2021-08-22T11:19:20.767Z"
   },
   {
    "duration": 7,
    "start_time": "2021-08-22T11:19:33.671Z"
   },
   {
    "duration": 17,
    "start_time": "2021-08-22T11:20:15.314Z"
   },
   {
    "duration": 6,
    "start_time": "2021-08-22T11:20:23.763Z"
   },
   {
    "duration": 100,
    "start_time": "2021-08-22T11:21:03.758Z"
   },
   {
    "duration": 253,
    "start_time": "2021-08-22T11:21:15.014Z"
   },
   {
    "duration": 269,
    "start_time": "2021-08-22T11:21:34.343Z"
   },
   {
    "duration": 25,
    "start_time": "2021-08-22T11:21:47.705Z"
   },
   {
    "duration": 11,
    "start_time": "2021-08-22T11:21:52.144Z"
   },
   {
    "duration": 6,
    "start_time": "2021-08-22T11:22:23.562Z"
   },
   {
    "duration": 241,
    "start_time": "2021-08-22T11:22:36.708Z"
   },
   {
    "duration": 5,
    "start_time": "2021-08-22T11:23:20.247Z"
   },
   {
    "duration": 257,
    "start_time": "2021-08-22T11:23:46.488Z"
   },
   {
    "duration": 20,
    "start_time": "2021-08-22T11:23:51.632Z"
   },
   {
    "duration": 13,
    "start_time": "2021-08-22T11:23:58.410Z"
   },
   {
    "duration": 7,
    "start_time": "2021-08-22T11:25:49.592Z"
   },
   {
    "duration": 8,
    "start_time": "2021-08-22T11:26:18.393Z"
   },
   {
    "duration": 5,
    "start_time": "2021-08-22T11:28:27.393Z"
   },
   {
    "duration": 14,
    "start_time": "2021-08-22T11:28:28.097Z"
   },
   {
    "duration": 22,
    "start_time": "2021-08-22T11:31:45.285Z"
   },
   {
    "duration": 24,
    "start_time": "2021-08-22T11:34:59.300Z"
   },
   {
    "duration": 10,
    "start_time": "2021-08-22T11:36:41.499Z"
   },
   {
    "duration": 263,
    "start_time": "2021-08-22T11:37:02.762Z"
   },
   {
    "duration": 10,
    "start_time": "2021-08-22T11:37:07.443Z"
   },
   {
    "duration": 9,
    "start_time": "2021-08-22T11:41:58.877Z"
   },
   {
    "duration": 15,
    "start_time": "2021-08-22T11:42:12.118Z"
   },
   {
    "duration": 10,
    "start_time": "2021-08-22T11:42:18.789Z"
   },
   {
    "duration": 11,
    "start_time": "2021-08-22T11:42:34.398Z"
   },
   {
    "duration": 10,
    "start_time": "2021-08-22T11:42:45.471Z"
   },
   {
    "duration": 659,
    "start_time": "2021-08-22T11:46:52.228Z"
   },
   {
    "duration": 901,
    "start_time": "2021-08-22T11:46:52.889Z"
   },
   {
    "duration": 10,
    "start_time": "2021-08-22T11:46:53.792Z"
   },
   {
    "duration": 17,
    "start_time": "2021-08-22T11:46:53.804Z"
   },
   {
    "duration": 26,
    "start_time": "2021-08-22T11:46:53.823Z"
   },
   {
    "duration": 8,
    "start_time": "2021-08-22T11:46:53.851Z"
   },
   {
    "duration": 17,
    "start_time": "2021-08-22T11:46:53.861Z"
   },
   {
    "duration": 11,
    "start_time": "2021-08-22T11:46:53.880Z"
   },
   {
    "duration": 348,
    "start_time": "2021-08-22T11:46:53.893Z"
   },
   {
    "duration": 17,
    "start_time": "2021-08-22T11:46:54.243Z"
   },
   {
    "duration": 4,
    "start_time": "2021-08-22T11:46:54.262Z"
   },
   {
    "duration": 5,
    "start_time": "2021-08-22T11:46:54.268Z"
   },
   {
    "duration": 8,
    "start_time": "2021-08-22T11:46:54.274Z"
   },
   {
    "duration": 4,
    "start_time": "2021-08-22T11:46:54.284Z"
   },
   {
    "duration": 5,
    "start_time": "2021-08-22T11:46:54.290Z"
   },
   {
    "duration": 320,
    "start_time": "2021-08-22T11:46:54.297Z"
   },
   {
    "duration": 5,
    "start_time": "2021-08-22T11:46:54.618Z"
   },
   {
    "duration": 18,
    "start_time": "2021-08-22T11:46:54.625Z"
   },
   {
    "duration": 9,
    "start_time": "2021-08-22T11:46:54.645Z"
   },
   {
    "duration": 8,
    "start_time": "2021-08-22T11:46:54.656Z"
   },
   {
    "duration": 8,
    "start_time": "2021-08-22T11:46:54.665Z"
   },
   {
    "duration": 112,
    "start_time": "2021-08-22T11:46:54.674Z"
   },
   {
    "duration": 218,
    "start_time": "2021-08-22T11:46:54.789Z"
   },
   {
    "duration": 15,
    "start_time": "2021-08-22T11:46:55.009Z"
   },
   {
    "duration": 92,
    "start_time": "2021-08-22T11:46:55.025Z"
   },
   {
    "duration": 4,
    "start_time": "2021-08-22T11:46:55.119Z"
   },
   {
    "duration": 36,
    "start_time": "2021-08-22T11:46:55.124Z"
   },
   {
    "duration": 4,
    "start_time": "2021-08-22T11:46:55.162Z"
   },
   {
    "duration": 1898,
    "start_time": "2021-08-22T11:46:55.168Z"
   },
   {
    "duration": 22,
    "start_time": "2021-08-22T11:46:57.068Z"
   },
   {
    "duration": 11,
    "start_time": "2021-08-22T11:46:57.092Z"
   },
   {
    "duration": 24,
    "start_time": "2021-08-22T11:46:57.104Z"
   },
   {
    "duration": 32,
    "start_time": "2021-08-22T11:46:57.130Z"
   },
   {
    "duration": 21,
    "start_time": "2021-08-22T11:46:57.163Z"
   },
   {
    "duration": 4,
    "start_time": "2021-08-22T11:46:57.186Z"
   },
   {
    "duration": 13,
    "start_time": "2021-08-22T11:46:57.191Z"
   },
   {
    "duration": 36,
    "start_time": "2021-08-22T11:46:57.206Z"
   },
   {
    "duration": 31,
    "start_time": "2021-08-22T11:46:57.243Z"
   },
   {
    "duration": 5,
    "start_time": "2021-08-22T11:46:57.276Z"
   },
   {
    "duration": 8,
    "start_time": "2021-08-22T11:46:57.282Z"
   },
   {
    "duration": 17,
    "start_time": "2021-08-22T11:46:57.292Z"
   },
   {
    "duration": 61,
    "start_time": "2021-08-22T11:46:57.311Z"
   },
   {
    "duration": 38,
    "start_time": "2021-08-22T11:46:57.378Z"
   },
   {
    "duration": 101,
    "start_time": "2021-08-22T11:46:57.417Z"
   },
   {
    "duration": 37,
    "start_time": "2021-08-22T11:46:57.519Z"
   },
   {
    "duration": 23,
    "start_time": "2021-08-22T11:46:57.558Z"
   },
   {
    "duration": 28,
    "start_time": "2021-08-22T11:46:57.584Z"
   },
   {
    "duration": 4,
    "start_time": "2021-08-22T11:46:57.614Z"
   },
   {
    "duration": 13,
    "start_time": "2021-08-22T11:46:57.620Z"
   },
   {
    "duration": 32,
    "start_time": "2021-08-22T11:46:57.640Z"
   },
   {
    "duration": 8,
    "start_time": "2021-08-22T11:46:57.675Z"
   },
   {
    "duration": 10,
    "start_time": "2021-08-22T11:46:57.684Z"
   },
   {
    "duration": 11,
    "start_time": "2021-08-22T11:46:57.696Z"
   },
   {
    "duration": 10,
    "start_time": "2021-08-22T11:46:57.709Z"
   },
   {
    "duration": 983,
    "start_time": "2021-08-22T14:59:54.671Z"
   },
   {
    "duration": 1310,
    "start_time": "2021-08-22T14:59:55.657Z"
   },
   {
    "duration": 17,
    "start_time": "2021-08-22T14:59:56.970Z"
   },
   {
    "duration": 12,
    "start_time": "2021-08-22T14:59:56.990Z"
   },
   {
    "duration": 26,
    "start_time": "2021-08-22T14:59:57.004Z"
   },
   {
    "duration": 11,
    "start_time": "2021-08-22T14:59:57.033Z"
   },
   {
    "duration": 55,
    "start_time": "2021-08-22T14:59:57.047Z"
   },
   {
    "duration": 15,
    "start_time": "2021-08-22T14:59:57.107Z"
   },
   {
    "duration": 528,
    "start_time": "2021-08-22T14:59:57.125Z"
   },
   {
    "duration": 39,
    "start_time": "2021-08-22T14:59:57.655Z"
   },
   {
    "duration": 13,
    "start_time": "2021-08-22T14:59:57.697Z"
   },
   {
    "duration": 8,
    "start_time": "2021-08-22T14:59:57.712Z"
   },
   {
    "duration": 11,
    "start_time": "2021-08-22T14:59:57.722Z"
   },
   {
    "duration": 6,
    "start_time": "2021-08-22T14:59:57.735Z"
   },
   {
    "duration": 45,
    "start_time": "2021-08-22T14:59:57.743Z"
   },
   {
    "duration": 484,
    "start_time": "2021-08-22T14:59:57.791Z"
   },
   {
    "duration": 9,
    "start_time": "2021-08-22T14:59:58.278Z"
   },
   {
    "duration": 33,
    "start_time": "2021-08-22T14:59:58.290Z"
   },
   {
    "duration": 105,
    "start_time": "2021-08-22T14:59:58.326Z"
   },
   {
    "duration": 13,
    "start_time": "2021-08-22T14:59:58.433Z"
   },
   {
    "duration": 13,
    "start_time": "2021-08-22T14:59:58.448Z"
   },
   {
    "duration": 131,
    "start_time": "2021-08-22T14:59:58.464Z"
   },
   {
    "duration": 531,
    "start_time": "2021-08-22T14:59:58.605Z"
   },
   {
    "duration": 27,
    "start_time": "2021-08-22T14:59:59.141Z"
   },
   {
    "duration": 203,
    "start_time": "2021-08-22T14:59:59.171Z"
   },
   {
    "duration": 11,
    "start_time": "2021-08-22T14:59:59.377Z"
   },
   {
    "duration": 51,
    "start_time": "2021-08-22T14:59:59.391Z"
   },
   {
    "duration": 7,
    "start_time": "2021-08-22T14:59:59.446Z"
   },
   {
    "duration": 3592,
    "start_time": "2021-08-22T14:59:59.485Z"
   },
   {
    "duration": 39,
    "start_time": "2021-08-22T15:00:03.080Z"
   },
   {
    "duration": 6,
    "start_time": "2021-08-22T15:00:03.122Z"
   },
   {
    "duration": 11,
    "start_time": "2021-08-22T15:00:03.132Z"
   },
   {
    "duration": 59,
    "start_time": "2021-08-22T15:00:03.146Z"
   },
   {
    "duration": 26,
    "start_time": "2021-08-22T15:00:03.208Z"
   },
   {
    "duration": 42,
    "start_time": "2021-08-22T15:00:03.237Z"
   },
   {
    "duration": 26,
    "start_time": "2021-08-22T15:00:03.281Z"
   },
   {
    "duration": 48,
    "start_time": "2021-08-22T15:00:03.309Z"
   },
   {
    "duration": 24,
    "start_time": "2021-08-22T15:00:03.360Z"
   },
   {
    "duration": 20,
    "start_time": "2021-08-22T15:00:03.387Z"
   },
   {
    "duration": 32,
    "start_time": "2021-08-22T15:00:03.410Z"
   },
   {
    "duration": 56,
    "start_time": "2021-08-22T15:00:03.445Z"
   },
   {
    "duration": 31,
    "start_time": "2021-08-22T15:00:03.503Z"
   },
   {
    "duration": 23,
    "start_time": "2021-08-22T15:00:03.536Z"
   },
   {
    "duration": 49,
    "start_time": "2021-08-22T15:00:03.561Z"
   },
   {
    "duration": 52,
    "start_time": "2021-08-22T15:00:03.612Z"
   },
   {
    "duration": 31,
    "start_time": "2021-08-22T15:00:03.667Z"
   },
   {
    "duration": 43,
    "start_time": "2021-08-22T15:00:03.700Z"
   },
   {
    "duration": 7,
    "start_time": "2021-08-22T15:00:03.746Z"
   },
   {
    "duration": 25,
    "start_time": "2021-08-22T15:00:03.755Z"
   },
   {
    "duration": 17,
    "start_time": "2021-08-22T15:00:03.783Z"
   },
   {
    "duration": 15,
    "start_time": "2021-08-22T15:00:03.803Z"
   },
   {
    "duration": 15,
    "start_time": "2021-08-22T15:00:03.821Z"
   },
   {
    "duration": 17,
    "start_time": "2021-08-22T15:00:03.840Z"
   },
   {
    "duration": 29,
    "start_time": "2021-08-22T15:00:03.861Z"
   },
   {
    "duration": 23,
    "start_time": "2021-08-22T15:00:53.244Z"
   },
   {
    "duration": 712,
    "start_time": "2021-08-23T12:53:24.602Z"
   },
   {
    "duration": 2228,
    "start_time": "2021-08-23T12:53:25.316Z"
   },
   {
    "duration": 11,
    "start_time": "2021-08-23T12:53:27.546Z"
   },
   {
    "duration": 10,
    "start_time": "2021-08-23T12:53:27.558Z"
   },
   {
    "duration": 16,
    "start_time": "2021-08-23T12:53:27.569Z"
   },
   {
    "duration": 7,
    "start_time": "2021-08-23T12:53:27.587Z"
   },
   {
    "duration": 15,
    "start_time": "2021-08-23T12:53:27.595Z"
   },
   {
    "duration": 11,
    "start_time": "2021-08-23T12:53:27.613Z"
   },
   {
    "duration": 337,
    "start_time": "2021-08-23T12:53:27.626Z"
   },
   {
    "duration": 27,
    "start_time": "2021-08-23T12:53:27.965Z"
   },
   {
    "duration": 5,
    "start_time": "2021-08-23T12:53:27.994Z"
   },
   {
    "duration": 5,
    "start_time": "2021-08-23T12:53:28.000Z"
   },
   {
    "duration": 6,
    "start_time": "2021-08-23T12:53:28.006Z"
   },
   {
    "duration": 4,
    "start_time": "2021-08-23T12:53:28.014Z"
   },
   {
    "duration": 6,
    "start_time": "2021-08-23T12:53:28.019Z"
   },
   {
    "duration": 330,
    "start_time": "2021-08-23T12:53:28.026Z"
   },
   {
    "duration": 4,
    "start_time": "2021-08-23T12:53:28.358Z"
   },
   {
    "duration": 24,
    "start_time": "2021-08-23T12:53:28.363Z"
   },
   {
    "duration": 9,
    "start_time": "2021-08-23T12:53:28.389Z"
   },
   {
    "duration": 8,
    "start_time": "2021-08-23T12:53:28.400Z"
   },
   {
    "duration": 8,
    "start_time": "2021-08-23T12:53:28.410Z"
   },
   {
    "duration": 115,
    "start_time": "2021-08-23T12:53:28.420Z"
   },
   {
    "duration": 241,
    "start_time": "2021-08-23T12:53:28.539Z"
   },
   {
    "duration": 14,
    "start_time": "2021-08-23T12:53:28.782Z"
   },
   {
    "duration": 101,
    "start_time": "2021-08-23T12:53:28.798Z"
   },
   {
    "duration": 4,
    "start_time": "2021-08-23T12:53:28.900Z"
   },
   {
    "duration": 30,
    "start_time": "2021-08-23T12:53:28.906Z"
   },
   {
    "duration": 6,
    "start_time": "2021-08-23T12:53:28.937Z"
   },
   {
    "duration": 1994,
    "start_time": "2021-08-23T12:53:28.945Z"
   },
   {
    "duration": 21,
    "start_time": "2021-08-23T12:53:30.941Z"
   },
   {
    "duration": 4,
    "start_time": "2021-08-23T12:53:30.964Z"
   },
   {
    "duration": 11,
    "start_time": "2021-08-23T12:53:30.985Z"
   },
   {
    "duration": 28,
    "start_time": "2021-08-23T12:53:30.997Z"
   },
   {
    "duration": 21,
    "start_time": "2021-08-23T12:53:31.026Z"
   },
   {
    "duration": 9,
    "start_time": "2021-08-23T12:53:31.048Z"
   },
   {
    "duration": 19,
    "start_time": "2021-08-23T12:53:31.059Z"
   },
   {
    "duration": 28,
    "start_time": "2021-08-23T12:53:31.080Z"
   },
   {
    "duration": 21,
    "start_time": "2021-08-23T12:53:31.110Z"
   },
   {
    "duration": 4,
    "start_time": "2021-08-23T12:53:31.133Z"
   },
   {
    "duration": 16,
    "start_time": "2021-08-23T12:53:31.138Z"
   },
   {
    "duration": 32,
    "start_time": "2021-08-23T12:53:31.156Z"
   },
   {
    "duration": 20,
    "start_time": "2021-08-23T12:53:31.190Z"
   },
   {
    "duration": 11,
    "start_time": "2021-08-23T12:53:31.212Z"
   },
   {
    "duration": 20,
    "start_time": "2021-08-23T12:53:31.224Z"
   },
   {
    "duration": 26,
    "start_time": "2021-08-23T12:53:31.246Z"
   },
   {
    "duration": 18,
    "start_time": "2021-08-23T12:53:31.274Z"
   },
   {
    "duration": 20,
    "start_time": "2021-08-23T12:53:31.293Z"
   },
   {
    "duration": 5,
    "start_time": "2021-08-23T12:53:31.314Z"
   },
   {
    "duration": 9,
    "start_time": "2021-08-23T12:53:31.321Z"
   },
   {
    "duration": 8,
    "start_time": "2021-08-23T12:53:31.331Z"
   },
   {
    "duration": 14,
    "start_time": "2021-08-23T12:53:31.341Z"
   },
   {
    "duration": 12,
    "start_time": "2021-08-23T12:53:31.356Z"
   },
   {
    "duration": 20,
    "start_time": "2021-08-23T12:53:31.369Z"
   },
   {
    "duration": 26,
    "start_time": "2021-08-23T12:53:31.391Z"
   },
   {
    "duration": 18,
    "start_time": "2021-08-23T12:54:25.983Z"
   },
   {
    "duration": 8314,
    "start_time": "2021-08-23T12:57:44.867Z"
   },
   {
    "duration": 9567,
    "start_time": "2021-08-23T12:58:01.688Z"
   },
   {
    "duration": 4,
    "start_time": "2021-08-23T12:58:39.972Z"
   },
   {
    "duration": 21,
    "start_time": "2021-08-23T12:58:49.931Z"
   },
   {
    "duration": 9,
    "start_time": "2021-08-23T13:02:26.386Z"
   },
   {
    "duration": 17,
    "start_time": "2021-08-23T13:04:35.891Z"
   },
   {
    "duration": 1146,
    "start_time": "2021-08-24T19:01:10.775Z"
   },
   {
    "duration": 1013,
    "start_time": "2021-08-24T19:01:11.924Z"
   },
   {
    "duration": 16,
    "start_time": "2021-08-24T19:01:12.940Z"
   },
   {
    "duration": 13,
    "start_time": "2021-08-24T19:01:12.958Z"
   },
   {
    "duration": 21,
    "start_time": "2021-08-24T19:01:12.973Z"
   },
   {
    "duration": 13,
    "start_time": "2021-08-24T19:01:12.996Z"
   },
   {
    "duration": 26,
    "start_time": "2021-08-24T19:01:13.011Z"
   },
   {
    "duration": 14,
    "start_time": "2021-08-24T19:01:13.041Z"
   },
   {
    "duration": 502,
    "start_time": "2021-08-24T19:01:13.082Z"
   },
   {
    "duration": 29,
    "start_time": "2021-08-24T19:01:13.586Z"
   },
   {
    "duration": 9,
    "start_time": "2021-08-24T19:01:13.617Z"
   },
   {
    "duration": 6,
    "start_time": "2021-08-24T19:01:13.629Z"
   },
   {
    "duration": 8,
    "start_time": "2021-08-24T19:01:13.637Z"
   },
   {
    "duration": 6,
    "start_time": "2021-08-24T19:01:13.683Z"
   },
   {
    "duration": 9,
    "start_time": "2021-08-24T19:01:13.692Z"
   },
   {
    "duration": 483,
    "start_time": "2021-08-24T19:01:13.703Z"
   },
   {
    "duration": 6,
    "start_time": "2021-08-24T19:01:14.188Z"
   },
   {
    "duration": 111,
    "start_time": "2021-08-24T19:01:14.196Z"
   },
   {
    "duration": 13,
    "start_time": "2021-08-24T19:01:14.309Z"
   },
   {
    "duration": 12,
    "start_time": "2021-08-24T19:01:14.324Z"
   },
   {
    "duration": 11,
    "start_time": "2021-08-24T19:01:14.339Z"
   },
   {
    "duration": 151,
    "start_time": "2021-08-24T19:01:14.352Z"
   },
   {
    "duration": 467,
    "start_time": "2021-08-24T19:01:14.510Z"
   },
   {
    "duration": 26,
    "start_time": "2021-08-24T19:01:14.985Z"
   },
   {
    "duration": 134,
    "start_time": "2021-08-24T19:01:15.014Z"
   },
   {
    "duration": 5,
    "start_time": "2021-08-24T19:01:15.150Z"
   },
   {
    "duration": 46,
    "start_time": "2021-08-24T19:01:15.158Z"
   },
   {
    "duration": 6,
    "start_time": "2021-08-24T19:01:15.206Z"
   },
   {
    "duration": 3134,
    "start_time": "2021-08-24T19:01:15.214Z"
   },
   {
    "duration": 38,
    "start_time": "2021-08-24T19:01:18.350Z"
   },
   {
    "duration": 6,
    "start_time": "2021-08-24T19:01:18.390Z"
   },
   {
    "duration": 6,
    "start_time": "2021-08-24T19:01:18.399Z"
   },
   {
    "duration": 26,
    "start_time": "2021-08-24T19:01:18.407Z"
   },
   {
    "duration": 52,
    "start_time": "2021-08-24T19:01:18.436Z"
   },
   {
    "duration": 5,
    "start_time": "2021-08-24T19:01:18.491Z"
   },
   {
    "duration": 10,
    "start_time": "2021-08-24T19:01:18.498Z"
   },
   {
    "duration": 27,
    "start_time": "2021-08-24T19:01:18.511Z"
   },
   {
    "duration": 54,
    "start_time": "2021-08-24T19:01:18.540Z"
   },
   {
    "duration": 7,
    "start_time": "2021-08-24T19:01:18.596Z"
   },
   {
    "duration": 17,
    "start_time": "2021-08-24T19:01:18.606Z"
   },
   {
    "duration": 29,
    "start_time": "2021-08-24T19:01:18.625Z"
   },
   {
    "duration": 19,
    "start_time": "2021-08-24T19:01:18.657Z"
   },
   {
    "duration": 16,
    "start_time": "2021-08-24T19:01:18.678Z"
   },
   {
    "duration": 21,
    "start_time": "2021-08-24T19:01:18.696Z"
   },
   {
    "duration": 30,
    "start_time": "2021-08-24T19:01:18.719Z"
   },
   {
    "duration": 35,
    "start_time": "2021-08-24T19:01:18.752Z"
   },
   {
    "duration": 31,
    "start_time": "2021-08-24T19:01:18.789Z"
   },
   {
    "duration": 6,
    "start_time": "2021-08-24T19:01:18.823Z"
   },
   {
    "duration": 6,
    "start_time": "2021-08-24T19:01:18.832Z"
   },
   {
    "duration": 44,
    "start_time": "2021-08-24T19:01:18.840Z"
   },
   {
    "duration": 5,
    "start_time": "2021-08-24T19:01:18.886Z"
   },
   {
    "duration": 11,
    "start_time": "2021-08-24T19:01:18.893Z"
   },
   {
    "duration": 7,
    "start_time": "2021-08-24T19:01:18.906Z"
   },
   {
    "duration": 21,
    "start_time": "2021-08-24T19:01:18.916Z"
   },
   {
    "duration": 5,
    "start_time": "2021-08-24T19:01:18.940Z"
   },
   {
    "duration": 11,
    "start_time": "2021-08-24T19:01:18.985Z"
   },
   {
    "duration": 28,
    "start_time": "2021-08-24T19:01:18.999Z"
   },
   {
    "duration": 5,
    "start_time": "2021-08-24T19:16:49.656Z"
   },
   {
    "duration": 1411,
    "start_time": "2021-08-24T19:17:05.309Z"
   },
   {
    "duration": 676,
    "start_time": "2021-08-24T19:17:08.858Z"
   },
   {
    "duration": 116,
    "start_time": "2021-08-24T19:17:29.668Z"
   },
   {
    "duration": 5425,
    "start_time": "2021-08-24T19:17:32.412Z"
   },
   {
    "duration": 4,
    "start_time": "2021-08-24T19:20:14.550Z"
   },
   {
    "duration": 5485,
    "start_time": "2021-08-24T19:20:22.455Z"
   },
   {
    "duration": 5572,
    "start_time": "2021-08-24T19:20:40.081Z"
   },
   {
    "duration": 673,
    "start_time": "2021-08-24T19:22:40.088Z"
   },
   {
    "duration": 4,
    "start_time": "2021-08-24T19:23:29.666Z"
   },
   {
    "duration": 35,
    "start_time": "2021-08-24T19:23:30.171Z"
   },
   {
    "duration": 4,
    "start_time": "2021-08-24T19:23:56.613Z"
   },
   {
    "duration": 4889,
    "start_time": "2021-08-24T19:23:58.149Z"
   },
   {
    "duration": 4,
    "start_time": "2021-08-24T19:24:19.406Z"
   },
   {
    "duration": 33,
    "start_time": "2021-08-24T19:24:23.198Z"
   },
   {
    "duration": 4,
    "start_time": "2021-08-24T19:27:00.929Z"
   },
   {
    "duration": 94,
    "start_time": "2021-08-24T19:27:02.009Z"
   },
   {
    "duration": 3,
    "start_time": "2021-08-24T19:27:17.274Z"
   },
   {
    "duration": 739,
    "start_time": "2021-08-24T19:27:17.625Z"
   },
   {
    "duration": 11256,
    "start_time": "2021-08-24T19:28:00.461Z"
   },
   {
    "duration": 4,
    "start_time": "2021-08-24T19:28:30.439Z"
   },
   {
    "duration": 4,
    "start_time": "2021-08-24T19:28:50.418Z"
   },
   {
    "duration": 180,
    "start_time": "2021-08-24T19:28:50.426Z"
   },
   {
    "duration": 6,
    "start_time": "2021-08-24T19:28:58.255Z"
   },
   {
    "duration": 414,
    "start_time": "2021-08-24T19:29:02.680Z"
   },
   {
    "duration": 6,
    "start_time": "2021-08-24T19:31:42.026Z"
   },
   {
    "duration": 10,
    "start_time": "2021-08-24T19:32:30.262Z"
   },
   {
    "duration": 972,
    "start_time": "2021-08-24T19:32:31.429Z"
   },
   {
    "duration": 306,
    "start_time": "2021-08-24T19:33:26.305Z"
   },
   {
    "duration": 7,
    "start_time": "2021-08-24T19:33:33.817Z"
   },
   {
    "duration": 9,
    "start_time": "2021-08-24T19:33:51.890Z"
   },
   {
    "duration": 32,
    "start_time": "2021-08-24T19:34:22.476Z"
   },
   {
    "duration": 33,
    "start_time": "2021-08-24T19:35:18.217Z"
   },
   {
    "duration": 5,
    "start_time": "2021-08-24T19:36:04.427Z"
   },
   {
    "duration": 29,
    "start_time": "2021-08-24T19:41:20.768Z"
   },
   {
    "duration": 905,
    "start_time": "2021-08-25T19:35:10.943Z"
   },
   {
    "duration": 2739,
    "start_time": "2021-08-25T19:35:11.851Z"
   },
   {
    "duration": 15,
    "start_time": "2021-08-25T19:35:14.592Z"
   },
   {
    "duration": 13,
    "start_time": "2021-08-25T19:35:14.610Z"
   },
   {
    "duration": 20,
    "start_time": "2021-08-25T19:35:14.625Z"
   },
   {
    "duration": 20,
    "start_time": "2021-08-25T19:35:14.647Z"
   },
   {
    "duration": 19,
    "start_time": "2021-08-25T19:35:14.669Z"
   },
   {
    "duration": 18,
    "start_time": "2021-08-25T19:35:14.691Z"
   },
   {
    "duration": 512,
    "start_time": "2021-08-25T19:35:14.712Z"
   },
   {
    "duration": 45,
    "start_time": "2021-08-25T19:35:15.227Z"
   },
   {
    "duration": 7,
    "start_time": "2021-08-25T19:35:32.544Z"
   },
   {
    "duration": 7,
    "start_time": "2021-08-25T19:35:33.074Z"
   },
   {
    "duration": 10,
    "start_time": "2021-08-25T19:35:33.905Z"
   },
   {
    "duration": 8,
    "start_time": "2021-08-25T19:35:34.360Z"
   },
   {
    "duration": 860,
    "start_time": "2021-08-25T19:41:21.721Z"
   },
   {
    "duration": 1055,
    "start_time": "2021-08-25T19:41:22.584Z"
   },
   {
    "duration": 16,
    "start_time": "2021-08-25T19:41:23.642Z"
   },
   {
    "duration": 23,
    "start_time": "2021-08-25T19:41:23.661Z"
   },
   {
    "duration": 37,
    "start_time": "2021-08-25T19:41:23.686Z"
   },
   {
    "duration": 15,
    "start_time": "2021-08-25T19:41:23.725Z"
   },
   {
    "duration": 23,
    "start_time": "2021-08-25T19:41:23.743Z"
   },
   {
    "duration": 20,
    "start_time": "2021-08-25T19:41:23.769Z"
   },
   {
    "duration": 482,
    "start_time": "2021-08-25T19:41:23.794Z"
   },
   {
    "duration": 31,
    "start_time": "2021-08-25T19:41:24.279Z"
   },
   {
    "duration": 7,
    "start_time": "2021-08-25T19:41:24.313Z"
   },
   {
    "duration": 40,
    "start_time": "2021-08-25T19:41:24.322Z"
   },
   {
    "duration": 7,
    "start_time": "2021-08-25T19:41:24.364Z"
   },
   {
    "duration": 7,
    "start_time": "2021-08-25T19:41:24.374Z"
   },
   {
    "duration": 9,
    "start_time": "2021-08-25T19:41:24.383Z"
   },
   {
    "duration": 470,
    "start_time": "2021-08-25T19:41:24.394Z"
   },
   {
    "duration": 5,
    "start_time": "2021-08-25T19:41:24.867Z"
   },
   {
    "duration": 29,
    "start_time": "2021-08-25T19:41:24.875Z"
   },
   {
    "duration": 14,
    "start_time": "2021-08-25T19:41:24.907Z"
   },
   {
    "duration": 40,
    "start_time": "2021-08-25T19:41:24.923Z"
   },
   {
    "duration": 12,
    "start_time": "2021-08-25T19:41:24.966Z"
   },
   {
    "duration": 146,
    "start_time": "2021-08-25T19:41:24.980Z"
   },
   {
    "duration": 420,
    "start_time": "2021-08-25T19:41:25.128Z"
   },
   {
    "duration": 24,
    "start_time": "2021-08-25T19:41:25.550Z"
   },
   {
    "duration": 131,
    "start_time": "2021-08-25T19:41:25.576Z"
   },
   {
    "duration": 6,
    "start_time": "2021-08-25T19:41:25.709Z"
   },
   {
    "duration": 56,
    "start_time": "2021-08-25T19:41:25.723Z"
   },
   {
    "duration": 5,
    "start_time": "2021-08-25T19:41:25.782Z"
   },
   {
    "duration": 2991,
    "start_time": "2021-08-25T19:41:25.790Z"
   },
   {
    "duration": 33,
    "start_time": "2021-08-25T19:41:28.783Z"
   },
   {
    "duration": 5,
    "start_time": "2021-08-25T19:41:28.818Z"
   },
   {
    "duration": 8,
    "start_time": "2021-08-25T19:41:28.826Z"
   },
   {
    "duration": 27,
    "start_time": "2021-08-25T19:41:28.861Z"
   },
   {
    "duration": 20,
    "start_time": "2021-08-25T19:41:28.890Z"
   },
   {
    "duration": 6,
    "start_time": "2021-08-25T19:41:28.912Z"
   },
   {
    "duration": 42,
    "start_time": "2021-08-25T19:41:28.920Z"
   },
   {
    "duration": 24,
    "start_time": "2021-08-25T19:41:28.964Z"
   },
   {
    "duration": 20,
    "start_time": "2021-08-25T19:41:28.991Z"
   },
   {
    "duration": 6,
    "start_time": "2021-08-25T19:41:29.013Z"
   },
   {
    "duration": 43,
    "start_time": "2021-08-25T19:41:29.021Z"
   },
   {
    "duration": 14,
    "start_time": "2021-08-25T19:41:29.066Z"
   },
   {
    "duration": 12,
    "start_time": "2021-08-25T19:41:29.082Z"
   },
   {
    "duration": 6,
    "start_time": "2021-08-25T19:41:29.096Z"
   },
   {
    "duration": 19,
    "start_time": "2021-08-25T19:41:29.104Z"
   },
   {
    "duration": 55,
    "start_time": "2021-08-25T19:41:29.125Z"
   },
   {
    "duration": 20,
    "start_time": "2021-08-25T19:41:29.182Z"
   },
   {
    "duration": 30,
    "start_time": "2021-08-25T19:41:29.204Z"
   },
   {
    "duration": 27,
    "start_time": "2021-08-25T19:41:29.237Z"
   },
   {
    "duration": 6,
    "start_time": "2021-08-25T19:41:29.266Z"
   },
   {
    "duration": 76,
    "start_time": "2021-08-25T19:41:29.275Z"
   },
   {
    "duration": 6,
    "start_time": "2021-08-25T19:41:29.354Z"
   },
   {
    "duration": 9,
    "start_time": "2021-08-25T19:41:29.363Z"
   },
   {
    "duration": 7,
    "start_time": "2021-08-25T19:41:29.375Z"
   },
   {
    "duration": 25,
    "start_time": "2021-08-25T19:41:29.384Z"
   },
   {
    "duration": 7,
    "start_time": "2021-08-25T19:41:29.412Z"
   },
   {
    "duration": 45,
    "start_time": "2021-08-25T19:41:29.422Z"
   },
   {
    "duration": 29,
    "start_time": "2021-08-25T19:41:29.470Z"
   },
   {
    "duration": 7,
    "start_time": "2021-08-25T19:41:29.502Z"
   },
   {
    "duration": 380,
    "start_time": "2021-08-25T19:41:29.512Z"
   },
   {
    "duration": 34,
    "start_time": "2021-08-25T19:41:29.894Z"
   },
   {
    "duration": 4,
    "start_time": "2021-08-25T19:41:47.432Z"
   },
   {
    "duration": 1985,
    "start_time": "2021-08-25T19:41:47.439Z"
   },
   {
    "duration": 12,
    "start_time": "2021-08-25T19:41:49.428Z"
   },
   {
    "duration": 26,
    "start_time": "2021-08-25T19:41:49.443Z"
   },
   {
    "duration": 28,
    "start_time": "2021-08-25T19:41:49.472Z"
   },
   {
    "duration": 12,
    "start_time": "2021-08-25T19:41:49.503Z"
   },
   {
    "duration": 47,
    "start_time": "2021-08-25T19:41:49.518Z"
   },
   {
    "duration": 26,
    "start_time": "2021-08-25T19:41:49.570Z"
   },
   {
    "duration": 462,
    "start_time": "2021-08-25T19:41:49.600Z"
   },
   {
    "duration": 32,
    "start_time": "2021-08-25T19:41:50.065Z"
   },
   {
    "duration": 13,
    "start_time": "2021-08-25T19:41:50.100Z"
   },
   {
    "duration": 6,
    "start_time": "2021-08-25T19:41:50.116Z"
   },
   {
    "duration": 41,
    "start_time": "2021-08-25T19:41:50.125Z"
   },
   {
    "duration": 5,
    "start_time": "2021-08-25T19:41:50.169Z"
   },
   {
    "duration": 9,
    "start_time": "2021-08-25T19:41:50.176Z"
   },
   {
    "duration": 426,
    "start_time": "2021-08-25T19:41:50.188Z"
   },
   {
    "duration": 5,
    "start_time": "2021-08-25T19:41:50.617Z"
   },
   {
    "duration": 39,
    "start_time": "2021-08-25T19:41:50.624Z"
   },
   {
    "duration": 13,
    "start_time": "2021-08-25T19:41:50.666Z"
   },
   {
    "duration": 13,
    "start_time": "2021-08-25T19:41:50.682Z"
   },
   {
    "duration": 11,
    "start_time": "2021-08-25T19:41:50.697Z"
   },
   {
    "duration": 157,
    "start_time": "2021-08-25T19:41:50.710Z"
   },
   {
    "duration": 336,
    "start_time": "2021-08-25T19:41:50.873Z"
   },
   {
    "duration": 21,
    "start_time": "2021-08-25T19:41:51.212Z"
   },
   {
    "duration": 139,
    "start_time": "2021-08-25T19:41:51.235Z"
   },
   {
    "duration": 6,
    "start_time": "2021-08-25T19:41:51.376Z"
   },
   {
    "duration": 33,
    "start_time": "2021-08-25T19:41:51.385Z"
   },
   {
    "duration": 5,
    "start_time": "2021-08-25T19:41:51.420Z"
   },
   {
    "duration": 3030,
    "start_time": "2021-08-25T19:41:51.463Z"
   },
   {
    "duration": 31,
    "start_time": "2021-08-25T19:41:54.495Z"
   },
   {
    "duration": 35,
    "start_time": "2021-08-25T19:41:54.528Z"
   },
   {
    "duration": 11,
    "start_time": "2021-08-25T19:41:54.565Z"
   },
   {
    "duration": 26,
    "start_time": "2021-08-25T19:41:54.579Z"
   },
   {
    "duration": 76,
    "start_time": "2021-08-25T19:41:54.607Z"
   },
   {
    "duration": 6,
    "start_time": "2021-08-25T19:41:54.685Z"
   },
   {
    "duration": 6,
    "start_time": "2021-08-25T19:41:54.693Z"
   },
   {
    "duration": 23,
    "start_time": "2021-08-25T19:41:54.702Z"
   },
   {
    "duration": 35,
    "start_time": "2021-08-25T19:41:54.727Z"
   },
   {
    "duration": 6,
    "start_time": "2021-08-25T19:41:54.765Z"
   },
   {
    "duration": 8,
    "start_time": "2021-08-25T19:41:54.774Z"
   },
   {
    "duration": 19,
    "start_time": "2021-08-25T19:41:54.785Z"
   },
   {
    "duration": 15,
    "start_time": "2021-08-25T19:41:54.806Z"
   },
   {
    "duration": 14,
    "start_time": "2021-08-25T19:41:54.824Z"
   },
   {
    "duration": 41,
    "start_time": "2021-08-25T19:41:54.841Z"
   },
   {
    "duration": 28,
    "start_time": "2021-08-25T19:41:54.885Z"
   },
   {
    "duration": 67,
    "start_time": "2021-08-25T19:41:54.915Z"
   },
   {
    "duration": 81,
    "start_time": "2021-08-25T19:41:54.985Z"
   },
   {
    "duration": 7,
    "start_time": "2021-08-25T19:41:55.068Z"
   },
   {
    "duration": 7,
    "start_time": "2021-08-25T19:41:55.077Z"
   },
   {
    "duration": 11,
    "start_time": "2021-08-25T19:41:55.087Z"
   },
   {
    "duration": 6,
    "start_time": "2021-08-25T19:41:55.161Z"
   },
   {
    "duration": 8,
    "start_time": "2021-08-25T19:41:55.170Z"
   },
   {
    "duration": 9,
    "start_time": "2021-08-25T19:41:55.180Z"
   },
   {
    "duration": 77,
    "start_time": "2021-08-25T19:41:55.191Z"
   },
   {
    "duration": 26,
    "start_time": "2021-08-25T19:42:00.419Z"
   },
   {
    "duration": 424,
    "start_time": "2021-08-25T19:43:19.500Z"
   },
   {
    "duration": 27,
    "start_time": "2021-08-25T19:43:25.532Z"
   },
   {
    "duration": 400,
    "start_time": "2021-08-25T19:43:55.887Z"
   },
   {
    "duration": 28,
    "start_time": "2021-08-25T19:44:07.534Z"
   },
   {
    "duration": 21,
    "start_time": "2021-08-25T19:46:55.441Z"
   },
   {
    "duration": 9,
    "start_time": "2021-08-25T19:47:37.829Z"
   },
   {
    "duration": 21,
    "start_time": "2021-08-25T19:47:43.204Z"
   },
   {
    "duration": 9,
    "start_time": "2021-08-25T19:48:01.566Z"
   },
   {
    "duration": 407,
    "start_time": "2021-08-25T19:48:21.319Z"
   },
   {
    "duration": 29,
    "start_time": "2021-08-25T19:49:32.043Z"
   },
   {
    "duration": 29,
    "start_time": "2021-08-25T19:49:52.941Z"
   },
   {
    "duration": 20,
    "start_time": "2021-08-25T19:50:17.582Z"
   },
   {
    "duration": 12,
    "start_time": "2021-08-25T19:51:21.602Z"
   },
   {
    "duration": 24,
    "start_time": "2021-08-25T19:51:27.130Z"
   },
   {
    "duration": 18,
    "start_time": "2021-08-25T19:52:06.342Z"
   },
   {
    "duration": 9,
    "start_time": "2021-08-25T19:52:22.086Z"
   },
   {
    "duration": 22,
    "start_time": "2021-08-25T19:52:30.983Z"
   },
   {
    "duration": 7,
    "start_time": "2021-08-25T19:52:55.425Z"
   },
   {
    "duration": 21,
    "start_time": "2021-08-25T19:52:55.977Z"
   },
   {
    "duration": 887,
    "start_time": "2021-08-25T19:53:09.928Z"
   },
   {
    "duration": 981,
    "start_time": "2021-08-25T19:53:16.626Z"
   },
   {
    "duration": 8,
    "start_time": "2021-08-25T19:53:25.106Z"
   },
   {
    "duration": 25,
    "start_time": "2021-08-25T19:53:27.091Z"
   },
   {
    "duration": 9,
    "start_time": "2021-08-25T19:53:30.587Z"
   },
   {
    "duration": 5,
    "start_time": "2021-08-25T19:55:53.116Z"
   },
   {
    "duration": 20,
    "start_time": "2021-08-25T19:55:54.913Z"
   },
   {
    "duration": 7,
    "start_time": "2021-08-25T19:59:52.123Z"
   },
   {
    "duration": 6,
    "start_time": "2021-08-25T19:59:55.715Z"
   },
   {
    "duration": 6,
    "start_time": "2021-08-25T20:00:39.270Z"
   },
   {
    "duration": 4,
    "start_time": "2021-08-25T20:01:22.569Z"
   },
   {
    "duration": 6,
    "start_time": "2021-08-25T20:01:26.976Z"
   },
   {
    "duration": 22,
    "start_time": "2021-08-25T20:01:42.290Z"
   },
   {
    "duration": 379,
    "start_time": "2021-08-25T20:02:17.461Z"
   },
   {
    "duration": 22,
    "start_time": "2021-08-25T20:02:25.453Z"
   },
   {
    "duration": 23,
    "start_time": "2021-08-25T20:03:13.848Z"
   },
   {
    "duration": 124,
    "start_time": "2021-08-25T20:03:35.001Z"
   },
   {
    "duration": 7,
    "start_time": "2021-08-25T20:03:38.921Z"
   },
   {
    "duration": 350,
    "start_time": "2021-08-25T20:05:08.359Z"
   },
   {
    "duration": 913,
    "start_time": "2021-08-25T20:05:30.691Z"
   },
   {
    "duration": 1951,
    "start_time": "2021-08-25T20:05:31.607Z"
   },
   {
    "duration": 15,
    "start_time": "2021-08-25T20:05:33.562Z"
   },
   {
    "duration": 11,
    "start_time": "2021-08-25T20:05:33.580Z"
   },
   {
    "duration": 24,
    "start_time": "2021-08-25T20:05:33.594Z"
   },
   {
    "duration": 42,
    "start_time": "2021-08-25T20:05:33.620Z"
   },
   {
    "duration": 18,
    "start_time": "2021-08-25T20:05:33.665Z"
   },
   {
    "duration": 16,
    "start_time": "2021-08-25T20:05:33.686Z"
   },
   {
    "duration": 498,
    "start_time": "2021-08-25T20:05:33.707Z"
   },
   {
    "duration": 31,
    "start_time": "2021-08-25T20:05:34.208Z"
   },
   {
    "duration": 24,
    "start_time": "2021-08-25T20:05:34.241Z"
   },
   {
    "duration": 6,
    "start_time": "2021-08-25T20:05:34.268Z"
   },
   {
    "duration": 8,
    "start_time": "2021-08-25T20:05:34.276Z"
   },
   {
    "duration": 5,
    "start_time": "2021-08-25T20:05:34.287Z"
   },
   {
    "duration": 10,
    "start_time": "2021-08-25T20:05:34.294Z"
   },
   {
    "duration": 491,
    "start_time": "2021-08-25T20:05:34.306Z"
   },
   {
    "duration": 6,
    "start_time": "2021-08-25T20:05:34.799Z"
   },
   {
    "duration": 26,
    "start_time": "2021-08-25T20:05:34.808Z"
   },
   {
    "duration": 34,
    "start_time": "2021-08-25T20:05:34.837Z"
   },
   {
    "duration": 12,
    "start_time": "2021-08-25T20:05:34.873Z"
   },
   {
    "duration": 15,
    "start_time": "2021-08-25T20:05:34.887Z"
   },
   {
    "duration": 142,
    "start_time": "2021-08-25T20:05:34.904Z"
   },
   {
    "duration": 345,
    "start_time": "2021-08-25T20:05:35.048Z"
   },
   {
    "duration": 18,
    "start_time": "2021-08-25T20:05:35.396Z"
   },
   {
    "duration": 133,
    "start_time": "2021-08-25T20:05:35.417Z"
   },
   {
    "duration": 11,
    "start_time": "2021-08-25T20:05:35.553Z"
   },
   {
    "duration": 46,
    "start_time": "2021-08-25T20:05:35.573Z"
   },
   {
    "duration": 5,
    "start_time": "2021-08-25T20:05:35.624Z"
   },
   {
    "duration": 2790,
    "start_time": "2021-08-25T20:05:35.632Z"
   },
   {
    "duration": 42,
    "start_time": "2021-08-25T20:05:38.424Z"
   },
   {
    "duration": 5,
    "start_time": "2021-08-25T20:05:38.468Z"
   },
   {
    "duration": 16,
    "start_time": "2021-08-25T20:05:38.475Z"
   },
   {
    "duration": 34,
    "start_time": "2021-08-25T20:05:38.493Z"
   },
   {
    "duration": 35,
    "start_time": "2021-08-25T20:05:38.529Z"
   },
   {
    "duration": 5,
    "start_time": "2021-08-25T20:05:38.567Z"
   },
   {
    "duration": 7,
    "start_time": "2021-08-25T20:05:38.574Z"
   },
   {
    "duration": 42,
    "start_time": "2021-08-25T20:05:38.584Z"
   },
   {
    "duration": 34,
    "start_time": "2021-08-25T20:05:38.628Z"
   },
   {
    "duration": 5,
    "start_time": "2021-08-25T20:05:38.664Z"
   },
   {
    "duration": 11,
    "start_time": "2021-08-25T20:05:38.671Z"
   },
   {
    "duration": 15,
    "start_time": "2021-08-25T20:05:38.685Z"
   },
   {
    "duration": 5,
    "start_time": "2021-08-25T20:05:38.702Z"
   },
   {
    "duration": 9,
    "start_time": "2021-08-25T20:05:38.710Z"
   },
   {
    "duration": 50,
    "start_time": "2021-08-25T20:05:38.721Z"
   },
   {
    "duration": 28,
    "start_time": "2021-08-25T20:05:38.774Z"
   },
   {
    "duration": 19,
    "start_time": "2021-08-25T20:05:38.804Z"
   },
   {
    "duration": 57,
    "start_time": "2021-08-25T20:05:38.826Z"
   },
   {
    "duration": 5,
    "start_time": "2021-08-25T20:05:38.886Z"
   },
   {
    "duration": 6,
    "start_time": "2021-08-25T20:05:38.894Z"
   },
   {
    "duration": 7,
    "start_time": "2021-08-25T20:05:38.902Z"
   },
   {
    "duration": 6,
    "start_time": "2021-08-25T20:05:38.912Z"
   },
   {
    "duration": 41,
    "start_time": "2021-08-25T20:05:38.921Z"
   },
   {
    "duration": 6,
    "start_time": "2021-08-25T20:05:38.964Z"
   },
   {
    "duration": 23,
    "start_time": "2021-08-25T20:05:38.972Z"
   },
   {
    "duration": 21,
    "start_time": "2021-08-25T20:05:38.997Z"
   },
   {
    "duration": 45,
    "start_time": "2021-08-25T20:05:39.020Z"
   },
   {
    "duration": 5,
    "start_time": "2021-08-25T20:05:39.068Z"
   },
   {
    "duration": 12,
    "start_time": "2021-08-25T20:05:39.075Z"
   },
   {
    "duration": 6,
    "start_time": "2021-08-25T20:05:39.089Z"
   },
   {
    "duration": 8,
    "start_time": "2021-08-25T20:05:39.097Z"
   },
   {
    "duration": 24,
    "start_time": "2021-08-25T20:05:39.107Z"
   },
   {
    "duration": 7,
    "start_time": "2021-08-25T20:05:39.161Z"
   },
   {
    "duration": 20,
    "start_time": "2021-08-25T20:05:39.170Z"
   },
   {
    "duration": 10,
    "start_time": "2021-08-25T20:05:39.193Z"
   },
   {
    "duration": 22,
    "start_time": "2021-08-25T20:05:39.206Z"
   },
   {
    "duration": 6,
    "start_time": "2021-08-25T20:05:39.231Z"
   },
   {
    "duration": 333,
    "start_time": "2021-08-25T20:05:39.261Z"
   },
   {
    "duration": 29,
    "start_time": "2021-08-25T20:05:39.597Z"
   },
   {
    "duration": 28,
    "start_time": "2021-08-25T20:06:53.981Z"
   },
   {
    "duration": 886,
    "start_time": "2021-08-25T20:07:04.703Z"
   },
   {
    "duration": 1986,
    "start_time": "2021-08-25T20:07:05.592Z"
   },
   {
    "duration": 16,
    "start_time": "2021-08-25T20:07:07.581Z"
   },
   {
    "duration": 15,
    "start_time": "2021-08-25T20:07:07.599Z"
   },
   {
    "duration": 20,
    "start_time": "2021-08-25T20:07:07.616Z"
   },
   {
    "duration": 28,
    "start_time": "2021-08-25T20:07:07.639Z"
   },
   {
    "duration": 31,
    "start_time": "2021-08-25T20:07:07.669Z"
   },
   {
    "duration": 15,
    "start_time": "2021-08-25T20:07:07.704Z"
   },
   {
    "duration": 559,
    "start_time": "2021-08-25T20:07:07.722Z"
   },
   {
    "duration": 29,
    "start_time": "2021-08-25T20:07:08.284Z"
   },
   {
    "duration": 13,
    "start_time": "2021-08-25T20:07:08.315Z"
   },
   {
    "duration": 31,
    "start_time": "2021-08-25T20:07:08.331Z"
   },
   {
    "duration": 11,
    "start_time": "2021-08-25T20:07:08.365Z"
   },
   {
    "duration": 6,
    "start_time": "2021-08-25T20:07:08.378Z"
   },
   {
    "duration": 8,
    "start_time": "2021-08-25T20:07:08.386Z"
   },
   {
    "duration": 466,
    "start_time": "2021-08-25T20:07:08.396Z"
   },
   {
    "duration": 6,
    "start_time": "2021-08-25T20:07:08.864Z"
   },
   {
    "duration": 26,
    "start_time": "2021-08-25T20:07:08.872Z"
   },
   {
    "duration": 12,
    "start_time": "2021-08-25T20:07:08.900Z"
   },
   {
    "duration": 11,
    "start_time": "2021-08-25T20:07:08.914Z"
   },
   {
    "duration": 45,
    "start_time": "2021-08-25T20:07:08.927Z"
   },
   {
    "duration": 130,
    "start_time": "2021-08-25T20:07:08.975Z"
   },
   {
    "duration": 323,
    "start_time": "2021-08-25T20:07:09.112Z"
   },
   {
    "duration": 27,
    "start_time": "2021-08-25T20:07:09.439Z"
   },
   {
    "duration": 133,
    "start_time": "2021-08-25T20:07:09.468Z"
   },
   {
    "duration": 5,
    "start_time": "2021-08-25T20:07:09.604Z"
   },
   {
    "duration": 52,
    "start_time": "2021-08-25T20:07:09.611Z"
   },
   {
    "duration": 7,
    "start_time": "2021-08-25T20:07:09.666Z"
   },
   {
    "duration": 2938,
    "start_time": "2021-08-25T20:07:09.675Z"
   },
   {
    "duration": 49,
    "start_time": "2021-08-25T20:07:12.616Z"
   },
   {
    "duration": 6,
    "start_time": "2021-08-25T20:07:12.668Z"
   },
   {
    "duration": 8,
    "start_time": "2021-08-25T20:07:12.678Z"
   },
   {
    "duration": 28,
    "start_time": "2021-08-25T20:07:12.688Z"
   },
   {
    "duration": 59,
    "start_time": "2021-08-25T20:07:12.719Z"
   },
   {
    "duration": 7,
    "start_time": "2021-08-25T20:07:12.780Z"
   },
   {
    "duration": 8,
    "start_time": "2021-08-25T20:07:12.789Z"
   },
   {
    "duration": 43,
    "start_time": "2021-08-25T20:07:12.799Z"
   },
   {
    "duration": 37,
    "start_time": "2021-08-25T20:07:12.844Z"
   },
   {
    "duration": 7,
    "start_time": "2021-08-25T20:07:12.884Z"
   },
   {
    "duration": 21,
    "start_time": "2021-08-25T20:07:12.894Z"
   },
   {
    "duration": 25,
    "start_time": "2021-08-25T20:07:12.918Z"
   },
   {
    "duration": 18,
    "start_time": "2021-08-25T20:07:12.946Z"
   },
   {
    "duration": 19,
    "start_time": "2021-08-25T20:07:12.967Z"
   },
   {
    "duration": 17,
    "start_time": "2021-08-25T20:07:12.988Z"
   },
   {
    "duration": 38,
    "start_time": "2021-08-25T20:07:13.008Z"
   },
   {
    "duration": 31,
    "start_time": "2021-08-25T20:07:13.048Z"
   },
   {
    "duration": 29,
    "start_time": "2021-08-25T20:07:13.081Z"
   },
   {
    "duration": 6,
    "start_time": "2021-08-25T20:07:13.113Z"
   },
   {
    "duration": 40,
    "start_time": "2021-08-25T20:07:13.121Z"
   },
   {
    "duration": 6,
    "start_time": "2021-08-25T20:07:13.163Z"
   },
   {
    "duration": 15,
    "start_time": "2021-08-25T20:07:13.171Z"
   },
   {
    "duration": 11,
    "start_time": "2021-08-25T20:07:13.189Z"
   },
   {
    "duration": 12,
    "start_time": "2021-08-25T20:07:13.202Z"
   },
   {
    "duration": 28,
    "start_time": "2021-08-25T20:07:13.216Z"
   },
   {
    "duration": 33,
    "start_time": "2021-08-25T20:07:13.246Z"
   },
   {
    "duration": 10,
    "start_time": "2021-08-25T20:07:13.282Z"
   },
   {
    "duration": 10,
    "start_time": "2021-08-25T20:07:13.295Z"
   },
   {
    "duration": 22,
    "start_time": "2021-08-25T20:07:13.307Z"
   },
   {
    "duration": 7,
    "start_time": "2021-08-25T20:07:13.331Z"
   },
   {
    "duration": 22,
    "start_time": "2021-08-25T20:07:13.341Z"
   },
   {
    "duration": 8,
    "start_time": "2021-08-25T20:07:13.365Z"
   },
   {
    "duration": 20,
    "start_time": "2021-08-25T20:07:13.375Z"
   },
   {
    "duration": 6,
    "start_time": "2021-08-25T20:07:13.397Z"
   },
   {
    "duration": 15,
    "start_time": "2021-08-25T20:07:13.406Z"
   },
   {
    "duration": 48,
    "start_time": "2021-08-25T20:07:13.424Z"
   },
   {
    "duration": 5,
    "start_time": "2021-08-25T20:07:13.475Z"
   },
   {
    "duration": 367,
    "start_time": "2021-08-25T20:07:13.483Z"
   },
   {
    "duration": 27,
    "start_time": "2021-08-25T20:07:13.861Z"
   },
   {
    "duration": 267,
    "start_time": "2021-08-26T07:34:18.703Z"
   },
   {
    "duration": 642,
    "start_time": "2021-08-26T07:34:26.232Z"
   },
   {
    "duration": 2616,
    "start_time": "2021-08-26T07:34:26.876Z"
   },
   {
    "duration": 11,
    "start_time": "2021-08-26T07:34:29.494Z"
   },
   {
    "duration": 11,
    "start_time": "2021-08-26T07:34:29.507Z"
   },
   {
    "duration": 16,
    "start_time": "2021-08-26T07:34:29.520Z"
   },
   {
    "duration": 8,
    "start_time": "2021-08-26T07:34:29.538Z"
   },
   {
    "duration": 15,
    "start_time": "2021-08-26T07:34:29.548Z"
   },
   {
    "duration": 10,
    "start_time": "2021-08-26T07:34:29.591Z"
   },
   {
    "duration": 375,
    "start_time": "2021-08-26T07:34:29.603Z"
   },
   {
    "duration": 24,
    "start_time": "2021-08-26T07:34:29.979Z"
   },
   {
    "duration": 5,
    "start_time": "2021-08-26T07:34:30.005Z"
   },
   {
    "duration": 12,
    "start_time": "2021-08-26T07:34:30.011Z"
   },
   {
    "duration": 16,
    "start_time": "2021-08-26T07:34:30.025Z"
   },
   {
    "duration": 14,
    "start_time": "2021-08-26T07:34:30.043Z"
   },
   {
    "duration": 6,
    "start_time": "2021-08-26T07:34:30.059Z"
   },
   {
    "duration": 325,
    "start_time": "2021-08-26T07:34:30.066Z"
   },
   {
    "duration": 4,
    "start_time": "2021-08-26T07:34:30.393Z"
   },
   {
    "duration": 19,
    "start_time": "2021-08-26T07:34:30.398Z"
   },
   {
    "duration": 9,
    "start_time": "2021-08-26T07:34:30.419Z"
   },
   {
    "duration": 8,
    "start_time": "2021-08-26T07:34:30.430Z"
   },
   {
    "duration": 12,
    "start_time": "2021-08-26T07:34:30.439Z"
   },
   {
    "duration": 112,
    "start_time": "2021-08-26T07:34:30.452Z"
   },
   {
    "duration": 229,
    "start_time": "2021-08-26T07:34:30.568Z"
   },
   {
    "duration": 17,
    "start_time": "2021-08-26T07:34:30.800Z"
   },
   {
    "duration": 107,
    "start_time": "2021-08-26T07:34:30.819Z"
   },
   {
    "duration": 5,
    "start_time": "2021-08-26T07:34:30.928Z"
   },
   {
    "duration": 42,
    "start_time": "2021-08-26T07:34:30.935Z"
   },
   {
    "duration": 13,
    "start_time": "2021-08-26T07:34:30.979Z"
   },
   {
    "duration": 1891,
    "start_time": "2021-08-26T07:34:30.993Z"
   },
   {
    "duration": 26,
    "start_time": "2021-08-26T07:34:32.886Z"
   },
   {
    "duration": 5,
    "start_time": "2021-08-26T07:34:32.914Z"
   },
   {
    "duration": 6,
    "start_time": "2021-08-26T07:34:32.921Z"
   },
   {
    "duration": 18,
    "start_time": "2021-08-26T07:34:32.929Z"
   },
   {
    "duration": 45,
    "start_time": "2021-08-26T07:34:32.949Z"
   },
   {
    "duration": 4,
    "start_time": "2021-08-26T07:34:32.996Z"
   },
   {
    "duration": 8,
    "start_time": "2021-08-26T07:34:33.001Z"
   },
   {
    "duration": 19,
    "start_time": "2021-08-26T07:34:33.010Z"
   },
   {
    "duration": 16,
    "start_time": "2021-08-26T07:34:33.031Z"
   },
   {
    "duration": 4,
    "start_time": "2021-08-26T07:34:33.049Z"
   },
   {
    "duration": 8,
    "start_time": "2021-08-26T07:34:33.054Z"
   },
   {
    "duration": 31,
    "start_time": "2021-08-26T07:34:33.064Z"
   },
   {
    "duration": 13,
    "start_time": "2021-08-26T07:34:33.096Z"
   },
   {
    "duration": 10,
    "start_time": "2021-08-26T07:34:33.111Z"
   },
   {
    "duration": 17,
    "start_time": "2021-08-26T07:34:33.123Z"
   },
   {
    "duration": 36,
    "start_time": "2021-08-26T07:34:33.142Z"
   },
   {
    "duration": 32,
    "start_time": "2021-08-26T07:34:33.180Z"
   },
   {
    "duration": 20,
    "start_time": "2021-08-26T07:34:33.213Z"
   },
   {
    "duration": 9,
    "start_time": "2021-08-26T07:34:33.234Z"
   },
   {
    "duration": 17,
    "start_time": "2021-08-26T07:34:33.245Z"
   },
   {
    "duration": 32,
    "start_time": "2021-08-26T07:34:33.264Z"
   },
   {
    "duration": 27,
    "start_time": "2021-08-26T07:34:33.298Z"
   },
   {
    "duration": 11,
    "start_time": "2021-08-26T07:34:33.327Z"
   },
   {
    "duration": 26,
    "start_time": "2021-08-26T07:34:33.340Z"
   },
   {
    "duration": 26,
    "start_time": "2021-08-26T07:34:33.368Z"
   },
   {
    "duration": 31,
    "start_time": "2021-08-26T07:34:33.395Z"
   },
   {
    "duration": 11,
    "start_time": "2021-08-26T07:34:33.427Z"
   },
   {
    "duration": 32,
    "start_time": "2021-08-26T07:34:33.439Z"
   },
   {
    "duration": 13,
    "start_time": "2021-08-26T07:34:33.473Z"
   },
   {
    "duration": 13,
    "start_time": "2021-08-26T07:34:33.488Z"
   },
   {
    "duration": 22,
    "start_time": "2021-08-26T07:34:33.502Z"
   },
   {
    "duration": 23,
    "start_time": "2021-08-26T07:34:33.525Z"
   },
   {
    "duration": 18,
    "start_time": "2021-08-26T07:34:33.550Z"
   },
   {
    "duration": 10,
    "start_time": "2021-08-26T07:34:33.570Z"
   },
   {
    "duration": 16,
    "start_time": "2021-08-26T07:34:33.582Z"
   },
   {
    "duration": 19,
    "start_time": "2021-08-26T07:34:33.600Z"
   },
   {
    "duration": 8,
    "start_time": "2021-08-26T07:34:33.620Z"
   },
   {
    "duration": 185,
    "start_time": "2021-08-26T07:34:33.629Z"
   },
   {
    "duration": 19,
    "start_time": "2021-08-26T07:34:33.820Z"
   },
   {
    "duration": 365,
    "start_time": "2021-08-26T07:34:33.841Z"
   },
   {
    "duration": 17,
    "start_time": "2021-08-26T07:35:59.500Z"
   },
   {
    "duration": 17,
    "start_time": "2021-08-26T07:36:27.104Z"
   },
   {
    "duration": 16,
    "start_time": "2021-08-26T07:37:06.579Z"
   },
   {
    "duration": 4,
    "start_time": "2021-08-26T07:54:16.617Z"
   },
   {
    "duration": 15,
    "start_time": "2021-08-26T07:54:24.085Z"
   },
   {
    "duration": 17,
    "start_time": "2021-08-26T07:55:07.012Z"
   },
   {
    "duration": 78,
    "start_time": "2021-08-26T07:56:47.987Z"
   },
   {
    "duration": 8,
    "start_time": "2021-08-26T07:56:52.211Z"
   },
   {
    "duration": 10,
    "start_time": "2021-08-26T07:56:55.443Z"
   },
   {
    "duration": 11,
    "start_time": "2021-08-26T07:59:09.298Z"
   },
   {
    "duration": 258,
    "start_time": "2021-08-26T13:48:34.517Z"
   },
   {
    "duration": 10,
    "start_time": "2021-08-26T13:48:59.353Z"
   },
   {
    "duration": 241,
    "start_time": "2021-08-26T13:49:21.329Z"
   },
   {
    "duration": 18,
    "start_time": "2021-08-26T13:51:23.919Z"
   },
   {
    "duration": 17,
    "start_time": "2021-08-26T13:52:46.927Z"
   },
   {
    "duration": 21,
    "start_time": "2021-08-26T13:53:18.222Z"
   },
   {
    "duration": 24,
    "start_time": "2021-08-26T13:53:40.178Z"
   },
   {
    "duration": 21,
    "start_time": "2021-08-26T13:54:15.254Z"
   },
   {
    "duration": 526,
    "start_time": "2021-08-26T13:58:05.076Z"
   },
   {
    "duration": 169,
    "start_time": "2021-08-26T13:58:50.027Z"
   },
   {
    "duration": 167,
    "start_time": "2021-08-26T14:00:15.957Z"
   },
   {
    "duration": 208,
    "start_time": "2021-08-26T14:01:55.699Z"
   },
   {
    "duration": 251,
    "start_time": "2021-08-26T14:02:04.196Z"
   },
   {
    "duration": 221,
    "start_time": "2021-08-26T14:02:21.659Z"
   },
   {
    "duration": 219,
    "start_time": "2021-08-26T14:02:37.546Z"
   },
   {
    "duration": 269,
    "start_time": "2021-08-26T14:02:58.025Z"
   },
   {
    "duration": 582,
    "start_time": "2021-08-26T14:03:14.715Z"
   },
   {
    "duration": 321,
    "start_time": "2021-08-27T11:47:24.872Z"
   },
   {
    "duration": 803,
    "start_time": "2021-08-27T11:47:31.230Z"
   },
   {
    "duration": 1468,
    "start_time": "2021-08-27T11:47:32.035Z"
   },
   {
    "duration": 13,
    "start_time": "2021-08-27T11:47:33.506Z"
   },
   {
    "duration": 12,
    "start_time": "2021-08-27T11:47:33.521Z"
   },
   {
    "duration": 22,
    "start_time": "2021-08-27T11:47:33.535Z"
   },
   {
    "duration": 18,
    "start_time": "2021-08-27T11:47:33.560Z"
   },
   {
    "duration": 20,
    "start_time": "2021-08-27T11:47:33.581Z"
   },
   {
    "duration": 16,
    "start_time": "2021-08-27T11:47:33.605Z"
   },
   {
    "duration": 459,
    "start_time": "2021-08-27T11:47:33.624Z"
   },
   {
    "duration": 25,
    "start_time": "2021-08-27T11:47:34.086Z"
   },
   {
    "duration": 8,
    "start_time": "2021-08-27T11:47:34.113Z"
   },
   {
    "duration": 7,
    "start_time": "2021-08-27T11:47:34.124Z"
   },
   {
    "duration": 47,
    "start_time": "2021-08-27T11:47:34.134Z"
   },
   {
    "duration": 7,
    "start_time": "2021-08-27T11:47:34.183Z"
   },
   {
    "duration": 7,
    "start_time": "2021-08-27T11:47:34.192Z"
   },
   {
    "duration": 352,
    "start_time": "2021-08-27T11:47:34.201Z"
   },
   {
    "duration": 7,
    "start_time": "2021-08-27T11:47:34.555Z"
   },
   {
    "duration": 29,
    "start_time": "2021-08-27T11:47:34.564Z"
   },
   {
    "duration": 11,
    "start_time": "2021-08-27T11:47:34.595Z"
   },
   {
    "duration": 10,
    "start_time": "2021-08-27T11:47:34.608Z"
   },
   {
    "duration": 10,
    "start_time": "2021-08-27T11:47:34.620Z"
   },
   {
    "duration": 165,
    "start_time": "2021-08-27T11:47:34.632Z"
   },
   {
    "duration": 286,
    "start_time": "2021-08-27T11:47:34.803Z"
   },
   {
    "duration": 19,
    "start_time": "2021-08-27T11:47:35.093Z"
   },
   {
    "duration": 153,
    "start_time": "2021-08-27T11:47:35.114Z"
   },
   {
    "duration": 10,
    "start_time": "2021-08-27T11:47:35.269Z"
   },
   {
    "duration": 35,
    "start_time": "2021-08-27T11:47:35.282Z"
   },
   {
    "duration": 6,
    "start_time": "2021-08-27T11:47:35.319Z"
   },
   {
    "duration": 2682,
    "start_time": "2021-08-27T11:47:35.327Z"
   },
   {
    "duration": 28,
    "start_time": "2021-08-27T11:47:38.011Z"
   },
   {
    "duration": 5,
    "start_time": "2021-08-27T11:47:38.041Z"
   },
   {
    "duration": 29,
    "start_time": "2021-08-27T11:47:38.048Z"
   },
   {
    "duration": 37,
    "start_time": "2021-08-27T11:47:38.080Z"
   },
   {
    "duration": 23,
    "start_time": "2021-08-27T11:47:38.121Z"
   },
   {
    "duration": 7,
    "start_time": "2021-08-27T11:47:38.146Z"
   },
   {
    "duration": 23,
    "start_time": "2021-08-27T11:47:38.156Z"
   },
   {
    "duration": 30,
    "start_time": "2021-08-27T11:47:38.182Z"
   },
   {
    "duration": 43,
    "start_time": "2021-08-27T11:47:38.215Z"
   },
   {
    "duration": 6,
    "start_time": "2021-08-27T11:47:38.260Z"
   },
   {
    "duration": 8,
    "start_time": "2021-08-27T11:47:38.268Z"
   },
   {
    "duration": 19,
    "start_time": "2021-08-27T11:47:38.279Z"
   },
   {
    "duration": 12,
    "start_time": "2021-08-27T11:47:38.300Z"
   },
   {
    "duration": 14,
    "start_time": "2021-08-27T11:47:38.314Z"
   },
   {
    "duration": 16,
    "start_time": "2021-08-27T11:47:38.330Z"
   },
   {
    "duration": 43,
    "start_time": "2021-08-27T11:47:38.348Z"
   },
   {
    "duration": 23,
    "start_time": "2021-08-27T11:47:38.393Z"
   },
   {
    "duration": 23,
    "start_time": "2021-08-27T11:47:38.418Z"
   },
   {
    "duration": 5,
    "start_time": "2021-08-27T11:47:38.444Z"
   },
   {
    "duration": 6,
    "start_time": "2021-08-27T11:47:38.478Z"
   },
   {
    "duration": 6,
    "start_time": "2021-08-27T11:47:38.487Z"
   },
   {
    "duration": 6,
    "start_time": "2021-08-27T11:47:38.495Z"
   },
   {
    "duration": 11,
    "start_time": "2021-08-27T11:47:38.503Z"
   },
   {
    "duration": 8,
    "start_time": "2021-08-27T11:47:38.516Z"
   },
   {
    "duration": 60,
    "start_time": "2021-08-27T11:47:38.526Z"
   },
   {
    "duration": 17,
    "start_time": "2021-08-27T11:47:38.588Z"
   },
   {
    "duration": 10,
    "start_time": "2021-08-27T11:47:38.607Z"
   },
   {
    "duration": 11,
    "start_time": "2021-08-27T11:47:38.619Z"
   },
   {
    "duration": 15,
    "start_time": "2021-08-27T11:47:38.633Z"
   },
   {
    "duration": 28,
    "start_time": "2021-08-27T11:47:38.651Z"
   },
   {
    "duration": 11,
    "start_time": "2021-08-27T11:47:38.681Z"
   },
   {
    "duration": 12,
    "start_time": "2021-08-27T11:47:38.694Z"
   },
   {
    "duration": 22,
    "start_time": "2021-08-27T11:47:38.708Z"
   },
   {
    "duration": 5,
    "start_time": "2021-08-27T11:47:38.732Z"
   },
   {
    "duration": 9,
    "start_time": "2021-08-27T11:47:38.739Z"
   },
   {
    "duration": 55,
    "start_time": "2021-08-27T11:47:38.751Z"
   },
   {
    "duration": 5,
    "start_time": "2021-08-27T11:47:38.809Z"
   },
   {
    "duration": 407,
    "start_time": "2021-08-27T11:47:38.817Z"
   },
   {
    "duration": 23,
    "start_time": "2021-08-27T11:47:39.232Z"
   },
   {
    "duration": 19,
    "start_time": "2021-08-27T11:47:39.259Z"
   },
   {
    "duration": 355,
    "start_time": "2021-08-27T11:47:39.281Z"
   },
   {
    "duration": -50,
    "start_time": "2021-08-27T11:47:39.688Z"
   },
   {
    "duration": -60,
    "start_time": "2021-08-27T11:47:39.700Z"
   },
   {
    "duration": -62,
    "start_time": "2021-08-27T11:47:39.704Z"
   },
   {
    "duration": 11,
    "start_time": "2021-08-27T11:47:53.151Z"
   },
   {
    "duration": 13,
    "start_time": "2021-08-27T11:47:54.614Z"
   },
   {
    "duration": 40,
    "start_time": "2021-08-27T11:47:56.727Z"
   },
   {
    "duration": 1865,
    "start_time": "2021-08-27T11:47:57.390Z"
   },
   {
    "duration": 1231,
    "start_time": "2021-08-27T11:48:52.095Z"
   },
   {
    "duration": 321,
    "start_time": "2021-08-27T16:25:18.277Z"
   },
   {
    "duration": 272,
    "start_time": "2021-08-27T16:26:04.015Z"
   },
   {
    "duration": 267,
    "start_time": "2021-08-27T16:26:24.618Z"
   },
   {
    "duration": 870,
    "start_time": "2021-08-27T16:26:37.244Z"
   },
   {
    "duration": 2725,
    "start_time": "2021-08-27T16:26:38.117Z"
   },
   {
    "duration": 15,
    "start_time": "2021-08-27T16:26:40.845Z"
   },
   {
    "duration": 12,
    "start_time": "2021-08-27T16:26:40.862Z"
   },
   {
    "duration": 30,
    "start_time": "2021-08-27T16:26:40.878Z"
   },
   {
    "duration": 11,
    "start_time": "2021-08-27T16:26:40.911Z"
   },
   {
    "duration": 49,
    "start_time": "2021-08-27T16:26:40.924Z"
   },
   {
    "duration": 14,
    "start_time": "2021-08-27T16:26:40.977Z"
   },
   {
    "duration": 501,
    "start_time": "2021-08-27T16:26:40.994Z"
   },
   {
    "duration": 30,
    "start_time": "2021-08-27T16:26:41.498Z"
   },
   {
    "duration": 27,
    "start_time": "2021-08-27T16:26:41.531Z"
   },
   {
    "duration": 6,
    "start_time": "2021-08-27T16:26:41.561Z"
   },
   {
    "duration": 9,
    "start_time": "2021-08-27T16:26:41.569Z"
   },
   {
    "duration": 7,
    "start_time": "2021-08-27T16:26:41.580Z"
   },
   {
    "duration": 9,
    "start_time": "2021-08-27T16:26:41.589Z"
   },
   {
    "duration": 498,
    "start_time": "2021-08-27T16:26:41.600Z"
   },
   {
    "duration": 5,
    "start_time": "2021-08-27T16:26:42.101Z"
   },
   {
    "duration": 28,
    "start_time": "2021-08-27T16:26:42.109Z"
   },
   {
    "duration": 14,
    "start_time": "2021-08-27T16:26:42.155Z"
   },
   {
    "duration": 12,
    "start_time": "2021-08-27T16:26:42.172Z"
   },
   {
    "duration": 12,
    "start_time": "2021-08-27T16:26:42.187Z"
   },
   {
    "duration": 171,
    "start_time": "2021-08-27T16:26:42.201Z"
   },
   {
    "duration": 337,
    "start_time": "2021-08-27T16:26:42.378Z"
   },
   {
    "duration": 20,
    "start_time": "2021-08-27T16:26:42.719Z"
   },
   {
    "duration": 135,
    "start_time": "2021-08-27T16:26:42.741Z"
   },
   {
    "duration": 6,
    "start_time": "2021-08-27T16:26:42.878Z"
   },
   {
    "duration": 35,
    "start_time": "2021-08-27T16:26:42.886Z"
   },
   {
    "duration": 34,
    "start_time": "2021-08-27T16:26:42.924Z"
   },
   {
    "duration": 3059,
    "start_time": "2021-08-27T16:26:42.960Z"
   },
   {
    "duration": 46,
    "start_time": "2021-08-27T16:26:46.022Z"
   },
   {
    "duration": 5,
    "start_time": "2021-08-27T16:26:46.071Z"
   },
   {
    "duration": 15,
    "start_time": "2021-08-27T16:26:46.079Z"
   },
   {
    "duration": 29,
    "start_time": "2021-08-27T16:26:46.097Z"
   },
   {
    "duration": 42,
    "start_time": "2021-08-27T16:26:46.129Z"
   },
   {
    "duration": 7,
    "start_time": "2021-08-27T16:26:46.174Z"
   },
   {
    "duration": 10,
    "start_time": "2021-08-27T16:26:46.184Z"
   },
   {
    "duration": 63,
    "start_time": "2021-08-27T16:26:46.196Z"
   },
   {
    "duration": 30,
    "start_time": "2021-08-27T16:26:46.262Z"
   },
   {
    "duration": 6,
    "start_time": "2021-08-27T16:26:46.295Z"
   },
   {
    "duration": 7,
    "start_time": "2021-08-27T16:26:46.304Z"
   },
   {
    "duration": 44,
    "start_time": "2021-08-27T16:26:46.314Z"
   },
   {
    "duration": 20,
    "start_time": "2021-08-27T16:26:46.360Z"
   },
   {
    "duration": 13,
    "start_time": "2021-08-27T16:26:46.383Z"
   },
   {
    "duration": 23,
    "start_time": "2021-08-27T16:26:46.398Z"
   },
   {
    "duration": 33,
    "start_time": "2021-08-27T16:26:46.424Z"
   },
   {
    "duration": 21,
    "start_time": "2021-08-27T16:26:46.460Z"
   },
   {
    "duration": 30,
    "start_time": "2021-08-27T16:26:46.483Z"
   },
   {
    "duration": 6,
    "start_time": "2021-08-27T16:26:46.516Z"
   },
   {
    "duration": 5,
    "start_time": "2021-08-27T16:26:46.555Z"
   },
   {
    "duration": 9,
    "start_time": "2021-08-27T16:26:46.563Z"
   },
   {
    "duration": 6,
    "start_time": "2021-08-27T16:26:46.574Z"
   },
   {
    "duration": 9,
    "start_time": "2021-08-27T16:26:46.582Z"
   },
   {
    "duration": 7,
    "start_time": "2021-08-27T16:26:46.594Z"
   },
   {
    "duration": 63,
    "start_time": "2021-08-27T16:26:46.603Z"
   },
   {
    "duration": 21,
    "start_time": "2021-08-27T16:26:46.668Z"
   },
   {
    "duration": 11,
    "start_time": "2021-08-27T16:26:46.691Z"
   },
   {
    "duration": 7,
    "start_time": "2021-08-27T16:26:46.705Z"
   },
   {
    "duration": 11,
    "start_time": "2021-08-27T16:26:46.714Z"
   },
   {
    "duration": 5,
    "start_time": "2021-08-27T16:26:46.757Z"
   },
   {
    "duration": 15,
    "start_time": "2021-08-27T16:26:46.764Z"
   },
   {
    "duration": 8,
    "start_time": "2021-08-27T16:26:46.781Z"
   },
   {
    "duration": 18,
    "start_time": "2021-08-27T16:26:46.792Z"
   },
   {
    "duration": 5,
    "start_time": "2021-08-27T16:26:46.813Z"
   },
   {
    "duration": 40,
    "start_time": "2021-08-27T16:26:46.820Z"
   },
   {
    "duration": 25,
    "start_time": "2021-08-27T16:26:46.863Z"
   },
   {
    "duration": 6,
    "start_time": "2021-08-27T16:26:46.890Z"
   },
   {
    "duration": 365,
    "start_time": "2021-08-27T16:26:46.898Z"
   },
   {
    "duration": 42,
    "start_time": "2021-08-27T16:26:47.274Z"
   },
   {
    "duration": 8,
    "start_time": "2021-08-27T16:26:47.319Z"
   },
   {
    "duration": 18,
    "start_time": "2021-08-27T16:26:47.357Z"
   },
   {
    "duration": 24,
    "start_time": "2021-08-27T16:26:47.379Z"
   },
   {
    "duration": 76,
    "start_time": "2021-08-27T16:26:47.406Z"
   },
   {
    "duration": 1991,
    "start_time": "2021-08-27T16:26:47.486Z"
   },
   {
    "duration": 1821,
    "start_time": "2021-08-27T16:26:59.345Z"
   },
   {
    "duration": 1861,
    "start_time": "2021-08-27T16:27:38.388Z"
   },
   {
    "duration": 3258,
    "start_time": "2021-08-27T16:45:02.819Z"
   },
   {
    "duration": 9559,
    "start_time": "2021-08-27T16:45:29.997Z"
   },
   {
    "duration": 3290,
    "start_time": "2021-08-27T16:46:07.937Z"
   },
   {
    "duration": 32,
    "start_time": "2021-08-27T16:46:15.058Z"
   },
   {
    "duration": 1704,
    "start_time": "2021-08-27T16:46:35.740Z"
   },
   {
    "duration": 89,
    "start_time": "2021-08-27T16:48:16.488Z"
   },
   {
    "duration": 606,
    "start_time": "2021-08-27T16:48:21.458Z"
   },
   {
    "duration": 895,
    "start_time": "2021-08-27T16:49:22.086Z"
   },
   {
    "duration": 585,
    "start_time": "2021-08-27T16:50:12.424Z"
   },
   {
    "duration": 1308,
    "start_time": "2021-08-27T16:51:45.414Z"
   },
   {
    "duration": 380,
    "start_time": "2021-08-27T16:52:52.154Z"
   },
   {
    "duration": 649,
    "start_time": "2021-08-27T16:53:20.756Z"
   },
   {
    "duration": 644,
    "start_time": "2021-08-27T16:54:10.929Z"
   },
   {
    "duration": 654,
    "start_time": "2021-08-27T16:57:58.550Z"
   },
   {
    "duration": 1253,
    "start_time": "2021-08-27T17:03:43.068Z"
   },
   {
    "duration": 599,
    "start_time": "2021-08-27T17:03:49.180Z"
   },
   {
    "duration": 651,
    "start_time": "2021-08-27T17:04:04.595Z"
   },
   {
    "duration": 322,
    "start_time": "2021-08-27T17:06:06.540Z"
   },
   {
    "duration": 324,
    "start_time": "2021-08-27T17:06:53.087Z"
   },
   {
    "duration": 595,
    "start_time": "2021-08-27T17:07:10.105Z"
   },
   {
    "duration": 677,
    "start_time": "2021-08-27T17:07:15.800Z"
   },
   {
    "duration": 298,
    "start_time": "2021-08-27T17:07:50.522Z"
   },
   {
    "duration": 308,
    "start_time": "2021-08-27T17:07:54.427Z"
   },
   {
    "duration": 21,
    "start_time": "2021-08-27T17:07:58.890Z"
   },
   {
    "duration": 682,
    "start_time": "2021-08-28T10:18:55.473Z"
   },
   {
    "duration": 1016,
    "start_time": "2021-08-28T10:18:56.156Z"
   },
   {
    "duration": 10,
    "start_time": "2021-08-28T10:18:57.174Z"
   },
   {
    "duration": 9,
    "start_time": "2021-08-28T10:18:57.186Z"
   },
   {
    "duration": 16,
    "start_time": "2021-08-28T10:18:57.197Z"
   },
   {
    "duration": 7,
    "start_time": "2021-08-28T10:18:57.214Z"
   },
   {
    "duration": 24,
    "start_time": "2021-08-28T10:18:57.223Z"
   },
   {
    "duration": 23,
    "start_time": "2021-08-28T10:18:57.249Z"
   },
   {
    "duration": 326,
    "start_time": "2021-08-28T10:18:57.274Z"
   },
   {
    "duration": 19,
    "start_time": "2021-08-28T10:18:57.602Z"
   },
   {
    "duration": 6,
    "start_time": "2021-08-28T10:18:57.623Z"
   },
   {
    "duration": 7,
    "start_time": "2021-08-28T10:18:57.630Z"
   },
   {
    "duration": 5,
    "start_time": "2021-08-28T10:18:57.639Z"
   },
   {
    "duration": 4,
    "start_time": "2021-08-28T10:18:57.645Z"
   },
   {
    "duration": 6,
    "start_time": "2021-08-28T10:18:57.650Z"
   },
   {
    "duration": 300,
    "start_time": "2021-08-28T10:18:57.691Z"
   },
   {
    "duration": 4,
    "start_time": "2021-08-28T10:18:57.993Z"
   },
   {
    "duration": 19,
    "start_time": "2021-08-28T10:18:57.998Z"
   },
   {
    "duration": 8,
    "start_time": "2021-08-28T10:18:58.018Z"
   },
   {
    "duration": 7,
    "start_time": "2021-08-28T10:18:58.028Z"
   },
   {
    "duration": 7,
    "start_time": "2021-08-28T10:18:58.036Z"
   },
   {
    "duration": 106,
    "start_time": "2021-08-28T10:18:58.045Z"
   },
   {
    "duration": 220,
    "start_time": "2021-08-28T10:18:58.155Z"
   },
   {
    "duration": 20,
    "start_time": "2021-08-28T10:18:58.377Z"
   },
   {
    "duration": 80,
    "start_time": "2021-08-28T10:18:58.398Z"
   },
   {
    "duration": 13,
    "start_time": "2021-08-28T10:18:58.480Z"
   },
   {
    "duration": 21,
    "start_time": "2021-08-28T10:18:58.495Z"
   },
   {
    "duration": 4,
    "start_time": "2021-08-28T10:18:58.517Z"
   },
   {
    "duration": 1858,
    "start_time": "2021-08-28T10:18:58.523Z"
   },
   {
    "duration": 26,
    "start_time": "2021-08-28T10:19:00.383Z"
   },
   {
    "duration": 3,
    "start_time": "2021-08-28T10:19:00.411Z"
   },
   {
    "duration": 7,
    "start_time": "2021-08-28T10:19:00.416Z"
   },
   {
    "duration": 34,
    "start_time": "2021-08-28T10:19:00.425Z"
   },
   {
    "duration": 30,
    "start_time": "2021-08-28T10:19:00.461Z"
   },
   {
    "duration": 9,
    "start_time": "2021-08-28T10:19:00.493Z"
   },
   {
    "duration": 24,
    "start_time": "2021-08-28T10:19:00.504Z"
   },
   {
    "duration": 37,
    "start_time": "2021-08-28T10:19:00.531Z"
   },
   {
    "duration": 31,
    "start_time": "2021-08-28T10:19:00.569Z"
   },
   {
    "duration": 26,
    "start_time": "2021-08-28T10:19:00.601Z"
   },
   {
    "duration": 20,
    "start_time": "2021-08-28T10:19:00.629Z"
   },
   {
    "duration": 16,
    "start_time": "2021-08-28T10:19:00.651Z"
   },
   {
    "duration": 13,
    "start_time": "2021-08-28T10:19:00.668Z"
   },
   {
    "duration": 7,
    "start_time": "2021-08-28T10:19:00.682Z"
   },
   {
    "duration": 17,
    "start_time": "2021-08-28T10:19:00.690Z"
   },
   {
    "duration": 18,
    "start_time": "2021-08-28T10:19:00.708Z"
   },
   {
    "duration": 12,
    "start_time": "2021-08-28T10:19:00.727Z"
   },
   {
    "duration": 25,
    "start_time": "2021-08-28T10:19:00.740Z"
   },
   {
    "duration": 11,
    "start_time": "2021-08-28T10:19:00.767Z"
   },
   {
    "duration": 17,
    "start_time": "2021-08-28T10:19:00.779Z"
   },
   {
    "duration": 12,
    "start_time": "2021-08-28T10:19:00.797Z"
   },
   {
    "duration": 16,
    "start_time": "2021-08-28T10:19:00.810Z"
   },
   {
    "duration": 16,
    "start_time": "2021-08-28T10:19:00.827Z"
   },
   {
    "duration": 16,
    "start_time": "2021-08-28T10:19:00.844Z"
   },
   {
    "duration": 22,
    "start_time": "2021-08-28T10:19:00.862Z"
   },
   {
    "duration": 18,
    "start_time": "2021-08-28T10:19:00.886Z"
   },
   {
    "duration": 12,
    "start_time": "2021-08-28T10:19:00.906Z"
   },
   {
    "duration": 19,
    "start_time": "2021-08-28T10:19:00.920Z"
   },
   {
    "duration": 16,
    "start_time": "2021-08-28T10:19:00.941Z"
   },
   {
    "duration": 13,
    "start_time": "2021-08-28T10:19:00.959Z"
   },
   {
    "duration": 19,
    "start_time": "2021-08-28T10:19:00.974Z"
   },
   {
    "duration": 18,
    "start_time": "2021-08-28T10:19:00.995Z"
   },
   {
    "duration": 20,
    "start_time": "2021-08-28T10:19:01.015Z"
   },
   {
    "duration": 11,
    "start_time": "2021-08-28T10:19:01.037Z"
   },
   {
    "duration": 21,
    "start_time": "2021-08-28T10:19:01.050Z"
   },
   {
    "duration": 22,
    "start_time": "2021-08-28T10:19:01.073Z"
   },
   {
    "duration": 12,
    "start_time": "2021-08-28T10:19:01.097Z"
   },
   {
    "duration": 206,
    "start_time": "2021-08-28T10:19:01.111Z"
   },
   {
    "duration": 19,
    "start_time": "2021-08-28T10:19:01.321Z"
   },
   {
    "duration": 4,
    "start_time": "2021-08-28T10:19:01.342Z"
   },
   {
    "duration": 15,
    "start_time": "2021-08-28T10:19:01.348Z"
   },
   {
    "duration": 14,
    "start_time": "2021-08-28T10:19:01.364Z"
   },
   {
    "duration": 12,
    "start_time": "2021-08-28T10:19:01.391Z"
   },
   {
    "duration": 26,
    "start_time": "2021-08-28T10:19:01.405Z"
   },
   {
    "duration": 1079,
    "start_time": "2021-08-28T10:19:01.432Z"
   },
   {
    "duration": 5,
    "start_time": "2021-08-28T10:20:23.136Z"
   },
   {
    "duration": 429,
    "start_time": "2021-08-28T10:20:33.664Z"
   },
   {
    "duration": 330,
    "start_time": "2021-08-28T10:21:22.466Z"
   },
   {
    "duration": 3,
    "start_time": "2021-08-28T10:22:07.775Z"
   },
   {
    "duration": 350,
    "start_time": "2021-08-28T10:22:09.446Z"
   },
   {
    "duration": 691,
    "start_time": "2021-08-28T10:24:42.448Z"
   },
   {
    "duration": 315,
    "start_time": "2021-08-28T10:25:56.533Z"
   },
   {
    "duration": 613,
    "start_time": "2021-08-28T10:26:04.197Z"
   },
   {
    "duration": 593,
    "start_time": "2021-08-28T10:27:08.122Z"
   },
   {
    "duration": 618,
    "start_time": "2021-08-28T10:28:57.528Z"
   },
   {
    "duration": 257,
    "start_time": "2021-08-28T10:31:10.337Z"
   },
   {
    "duration": 646,
    "start_time": "2021-08-28T10:31:26.586Z"
   },
   {
    "duration": 639,
    "start_time": "2021-08-28T10:37:20.712Z"
   },
   {
    "duration": 970,
    "start_time": "2021-08-28T10:37:38.482Z"
   },
   {
    "duration": 611,
    "start_time": "2021-08-28T10:38:27.116Z"
   },
   {
    "duration": 2101,
    "start_time": "2021-08-28T10:45:12.605Z"
   },
   {
    "duration": 1370,
    "start_time": "2021-08-28T10:46:45.069Z"
   },
   {
    "duration": 1408,
    "start_time": "2021-08-28T10:47:06.021Z"
   },
   {
    "duration": 1286,
    "start_time": "2021-08-28T10:48:53.245Z"
   },
   {
    "duration": 1260,
    "start_time": "2021-08-28T10:49:02.285Z"
   },
   {
    "duration": 555,
    "start_time": "2021-08-28T10:49:32.974Z"
   },
   {
    "duration": 510,
    "start_time": "2021-08-28T10:49:57.775Z"
   },
   {
    "duration": 1670,
    "start_time": "2021-08-28T10:51:07.973Z"
   },
   {
    "duration": 1029,
    "start_time": "2021-08-28T10:51:34.637Z"
   },
   {
    "duration": 868,
    "start_time": "2021-08-28T10:52:01.799Z"
   },
   {
    "duration": 239,
    "start_time": "2021-08-28T10:52:31.160Z"
   },
   {
    "duration": 19,
    "start_time": "2021-08-28T10:52:37.073Z"
   },
   {
    "duration": 8,
    "start_time": "2021-08-28T10:52:45.203Z"
   },
   {
    "duration": 755,
    "start_time": "2021-08-28T10:53:03.747Z"
   },
   {
    "duration": 1016,
    "start_time": "2021-08-28T10:53:15.732Z"
   },
   {
    "duration": 1311,
    "start_time": "2021-08-28T10:53:27.541Z"
   },
   {
    "duration": 1309,
    "start_time": "2021-08-28T10:54:21.418Z"
   },
   {
    "duration": 2148,
    "start_time": "2021-08-28T10:54:33.096Z"
   },
   {
    "duration": 1324,
    "start_time": "2021-08-28T10:54:47.882Z"
   },
   {
    "duration": 941,
    "start_time": "2021-08-28T10:54:55.978Z"
   },
   {
    "duration": 1365,
    "start_time": "2021-08-28T10:55:06.355Z"
   },
   {
    "duration": 883,
    "start_time": "2021-08-28T10:55:26.748Z"
   },
   {
    "duration": 1333,
    "start_time": "2021-08-28T10:56:01.823Z"
   },
   {
    "duration": 899,
    "start_time": "2021-08-28T10:56:08.807Z"
   },
   {
    "duration": 917,
    "start_time": "2021-08-28T10:57:18.132Z"
   },
   {
    "duration": 1110,
    "start_time": "2021-08-28T10:57:29.803Z"
   },
   {
    "duration": 1023,
    "start_time": "2021-08-28T10:57:38.173Z"
   },
   {
    "duration": 1015,
    "start_time": "2021-08-28T10:57:50.999Z"
   },
   {
    "duration": 956,
    "start_time": "2021-08-28T10:58:08.719Z"
   },
   {
    "duration": 1045,
    "start_time": "2021-08-28T10:58:32.440Z"
   },
   {
    "duration": 1237,
    "start_time": "2021-08-28T10:58:42.048Z"
   },
   {
    "duration": 622,
    "start_time": "2021-08-28T11:01:26.284Z"
   },
   {
    "duration": 1021,
    "start_time": "2021-08-28T11:01:52.245Z"
   },
   {
    "duration": 21,
    "start_time": "2021-08-28T11:04:07.660Z"
   },
   {
    "duration": 246,
    "start_time": "2021-08-28T11:06:47.169Z"
   },
   {
    "duration": 14,
    "start_time": "2021-08-28T11:06:51.720Z"
   },
   {
    "duration": 1014,
    "start_time": "2021-08-28T11:08:15.125Z"
   },
   {
    "duration": 1168,
    "start_time": "2021-08-28T11:08:24.070Z"
   },
   {
    "duration": 1064,
    "start_time": "2021-08-28T11:09:36.651Z"
   },
   {
    "duration": 1214,
    "start_time": "2021-08-28T11:09:52.395Z"
   },
   {
    "duration": 1162,
    "start_time": "2021-08-28T11:10:03.459Z"
   },
   {
    "duration": 9,
    "start_time": "2021-08-28T11:12:34.134Z"
   },
   {
    "duration": 7,
    "start_time": "2021-08-28T11:13:10.064Z"
   },
   {
    "duration": 9,
    "start_time": "2021-08-28T11:13:26.922Z"
   },
   {
    "duration": 8,
    "start_time": "2021-08-28T11:14:30.276Z"
   },
   {
    "duration": 1138,
    "start_time": "2021-08-28T11:21:53.136Z"
   },
   {
    "duration": 269,
    "start_time": "2021-08-28T11:24:05.962Z"
   },
   {
    "duration": 155,
    "start_time": "2021-08-28T11:25:26.798Z"
   },
   {
    "duration": 138,
    "start_time": "2021-08-28T11:26:00.704Z"
   },
   {
    "duration": 124,
    "start_time": "2021-08-28T11:26:31.658Z"
   },
   {
    "duration": 126,
    "start_time": "2021-08-28T11:27:58.800Z"
   },
   {
    "duration": 122,
    "start_time": "2021-08-28T13:38:50.659Z"
   },
   {
    "duration": 129,
    "start_time": "2021-08-28T13:39:21.805Z"
   },
   {
    "duration": 1166,
    "start_time": "2021-08-28T13:40:23.538Z"
   },
   {
    "duration": 1187,
    "start_time": "2021-08-28T13:40:32.706Z"
   },
   {
    "duration": 1098,
    "start_time": "2021-08-28T13:40:40.587Z"
   },
   {
    "duration": 20,
    "start_time": "2021-08-28T14:01:46.305Z"
   },
   {
    "duration": 6,
    "start_time": "2021-08-28T14:02:26.645Z"
   },
   {
    "duration": 8,
    "start_time": "2021-08-28T14:02:50.734Z"
   },
   {
    "duration": 336,
    "start_time": "2021-08-28T14:03:22.088Z"
   },
   {
    "duration": 8,
    "start_time": "2021-08-28T14:03:44.241Z"
   },
   {
    "duration": 3,
    "start_time": "2021-08-28T14:04:29.301Z"
   },
   {
    "duration": 4,
    "start_time": "2021-08-28T14:04:32.420Z"
   },
   {
    "duration": 5,
    "start_time": "2021-08-28T14:06:11.634Z"
   },
   {
    "duration": 5,
    "start_time": "2021-08-28T14:09:48.936Z"
   },
   {
    "duration": 6,
    "start_time": "2021-08-28T14:09:54.424Z"
   },
   {
    "duration": 8,
    "start_time": "2021-08-28T14:10:09.601Z"
   },
   {
    "duration": 8,
    "start_time": "2021-08-28T14:10:21.027Z"
   },
   {
    "duration": 3,
    "start_time": "2021-08-28T14:11:13.385Z"
   },
   {
    "duration": 4,
    "start_time": "2021-08-28T14:11:38.215Z"
   },
   {
    "duration": 7,
    "start_time": "2021-08-28T14:14:40.138Z"
   },
   {
    "duration": 7,
    "start_time": "2021-08-28T14:14:45.434Z"
   },
   {
    "duration": 6,
    "start_time": "2021-08-28T14:19:03.163Z"
   },
   {
    "duration": 9,
    "start_time": "2021-08-28T14:19:37.125Z"
   },
   {
    "duration": 23,
    "start_time": "2021-08-28T14:20:01.207Z"
   },
   {
    "duration": 8,
    "start_time": "2021-08-28T14:20:27.776Z"
   },
   {
    "duration": 22,
    "start_time": "2021-08-28T14:21:06.500Z"
   },
   {
    "duration": 8,
    "start_time": "2021-08-28T14:22:52.101Z"
   },
   {
    "duration": 4,
    "start_time": "2021-08-28T14:23:07.090Z"
   },
   {
    "duration": 4,
    "start_time": "2021-08-28T14:23:13.195Z"
   },
   {
    "duration": 997,
    "start_time": "2021-08-28T14:40:45.151Z"
   },
   {
    "duration": 1036,
    "start_time": "2021-08-28T14:40:46.150Z"
   },
   {
    "duration": 11,
    "start_time": "2021-08-28T14:40:47.188Z"
   },
   {
    "duration": 10,
    "start_time": "2021-08-28T14:40:47.201Z"
   },
   {
    "duration": 15,
    "start_time": "2021-08-28T14:40:47.212Z"
   },
   {
    "duration": 7,
    "start_time": "2021-08-28T14:40:47.229Z"
   },
   {
    "duration": 12,
    "start_time": "2021-08-28T14:40:47.238Z"
   },
   {
    "duration": 41,
    "start_time": "2021-08-28T14:40:47.251Z"
   },
   {
    "duration": 442,
    "start_time": "2021-08-28T14:40:47.295Z"
   },
   {
    "duration": 19,
    "start_time": "2021-08-28T14:40:47.739Z"
   },
   {
    "duration": 6,
    "start_time": "2021-08-28T14:40:47.760Z"
   },
   {
    "duration": 23,
    "start_time": "2021-08-28T14:40:47.768Z"
   },
   {
    "duration": 6,
    "start_time": "2021-08-28T14:40:47.793Z"
   },
   {
    "duration": 5,
    "start_time": "2021-08-28T14:40:47.800Z"
   },
   {
    "duration": 7,
    "start_time": "2021-08-28T14:40:47.807Z"
   },
   {
    "duration": 332,
    "start_time": "2021-08-28T14:40:47.815Z"
   },
   {
    "duration": 7,
    "start_time": "2021-08-28T14:40:48.148Z"
   },
   {
    "duration": 28,
    "start_time": "2021-08-28T14:40:48.156Z"
   },
   {
    "duration": 9,
    "start_time": "2021-08-28T14:40:48.186Z"
   },
   {
    "duration": 8,
    "start_time": "2021-08-28T14:40:48.196Z"
   },
   {
    "duration": 8,
    "start_time": "2021-08-28T14:40:48.206Z"
   },
   {
    "duration": 111,
    "start_time": "2021-08-28T14:40:48.215Z"
   },
   {
    "duration": 225,
    "start_time": "2021-08-28T14:40:48.328Z"
   },
   {
    "duration": 17,
    "start_time": "2021-08-28T14:40:48.555Z"
   },
   {
    "duration": 98,
    "start_time": "2021-08-28T14:40:48.574Z"
   },
   {
    "duration": 4,
    "start_time": "2021-08-28T14:40:48.674Z"
   },
   {
    "duration": 21,
    "start_time": "2021-08-28T14:40:48.694Z"
   },
   {
    "duration": 4,
    "start_time": "2021-08-28T14:40:48.718Z"
   },
   {
    "duration": 2061,
    "start_time": "2021-08-28T14:40:48.723Z"
   },
   {
    "duration": 27,
    "start_time": "2021-08-28T14:40:50.786Z"
   },
   {
    "duration": 5,
    "start_time": "2021-08-28T14:40:50.815Z"
   },
   {
    "duration": 6,
    "start_time": "2021-08-28T14:40:50.822Z"
   },
   {
    "duration": 26,
    "start_time": "2021-08-28T14:40:50.830Z"
   },
   {
    "duration": 40,
    "start_time": "2021-08-28T14:40:50.858Z"
   },
   {
    "duration": 5,
    "start_time": "2021-08-28T14:40:50.900Z"
   },
   {
    "duration": 8,
    "start_time": "2021-08-28T14:40:50.907Z"
   },
   {
    "duration": 18,
    "start_time": "2021-08-28T14:40:50.916Z"
   },
   {
    "duration": 20,
    "start_time": "2021-08-28T14:40:50.936Z"
   },
   {
    "duration": 5,
    "start_time": "2021-08-28T14:40:50.958Z"
   },
   {
    "duration": 5,
    "start_time": "2021-08-28T14:40:50.992Z"
   },
   {
    "duration": 13,
    "start_time": "2021-08-28T14:40:50.999Z"
   },
   {
    "duration": 5,
    "start_time": "2021-08-28T14:40:51.014Z"
   },
   {
    "duration": 12,
    "start_time": "2021-08-28T14:40:51.021Z"
   },
   {
    "duration": 15,
    "start_time": "2021-08-28T14:40:51.034Z"
   },
   {
    "duration": 29,
    "start_time": "2021-08-28T14:40:51.051Z"
   },
   {
    "duration": 14,
    "start_time": "2021-08-28T14:40:51.092Z"
   },
   {
    "duration": 19,
    "start_time": "2021-08-28T14:40:51.108Z"
   },
   {
    "duration": 5,
    "start_time": "2021-08-28T14:40:51.129Z"
   },
   {
    "duration": 7,
    "start_time": "2021-08-28T14:40:51.136Z"
   },
   {
    "duration": 12,
    "start_time": "2021-08-28T14:40:51.145Z"
   },
   {
    "duration": 35,
    "start_time": "2021-08-28T14:40:51.159Z"
   },
   {
    "duration": 10,
    "start_time": "2021-08-28T14:40:51.196Z"
   },
   {
    "duration": 11,
    "start_time": "2021-08-28T14:40:51.208Z"
   },
   {
    "duration": 18,
    "start_time": "2021-08-28T14:40:51.220Z"
   },
   {
    "duration": 16,
    "start_time": "2021-08-28T14:40:51.240Z"
   },
   {
    "duration": 10,
    "start_time": "2021-08-28T14:40:51.258Z"
   },
   {
    "duration": 7,
    "start_time": "2021-08-28T14:40:51.270Z"
   },
   {
    "duration": 17,
    "start_time": "2021-08-28T14:40:51.279Z"
   },
   {
    "duration": 9,
    "start_time": "2021-08-28T14:40:51.297Z"
   },
   {
    "duration": 8,
    "start_time": "2021-08-28T14:40:51.308Z"
   },
   {
    "duration": 11,
    "start_time": "2021-08-28T14:40:51.318Z"
   },
   {
    "duration": 20,
    "start_time": "2021-08-28T14:40:51.331Z"
   },
   {
    "duration": 7,
    "start_time": "2021-08-28T14:40:51.353Z"
   },
   {
    "duration": 12,
    "start_time": "2021-08-28T14:40:51.362Z"
   },
   {
    "duration": 21,
    "start_time": "2021-08-28T14:40:51.375Z"
   },
   {
    "duration": 10,
    "start_time": "2021-08-28T14:40:51.397Z"
   },
   {
    "duration": 197,
    "start_time": "2021-08-28T14:40:51.409Z"
   },
   {
    "duration": 17,
    "start_time": "2021-08-28T14:40:51.608Z"
   },
   {
    "duration": 4,
    "start_time": "2021-08-28T14:40:51.626Z"
   },
   {
    "duration": 22,
    "start_time": "2021-08-28T14:40:51.631Z"
   },
   {
    "duration": 13,
    "start_time": "2021-08-28T14:40:51.654Z"
   },
   {
    "duration": 5,
    "start_time": "2021-08-28T14:40:51.669Z"
   },
   {
    "duration": 660,
    "start_time": "2021-08-28T14:40:51.675Z"
   },
   {
    "duration": 22,
    "start_time": "2021-08-28T14:40:52.337Z"
   },
   {
    "duration": 1128,
    "start_time": "2021-08-28T14:40:52.360Z"
   },
   {
    "duration": 8,
    "start_time": "2021-08-28T14:40:53.491Z"
   },
   {
    "duration": 10,
    "start_time": "2021-08-28T14:40:53.501Z"
   },
   {
    "duration": 11,
    "start_time": "2021-08-28T14:40:53.512Z"
   },
   {
    "duration": 11,
    "start_time": "2021-08-28T14:40:53.525Z"
   },
   {
    "duration": 97,
    "start_time": "2021-08-28T14:40:53.538Z"
   },
   {
    "duration": 3,
    "start_time": "2021-08-28T14:40:53.640Z"
   },
   {
    "duration": 17,
    "start_time": "2021-08-28T14:40:53.645Z"
   },
   {
    "duration": 1377,
    "start_time": "2021-08-28T19:28:34.153Z"
   },
   {
    "duration": 1340,
    "start_time": "2021-08-28T19:28:35.533Z"
   },
   {
    "duration": 17,
    "start_time": "2021-08-28T19:28:36.875Z"
   },
   {
    "duration": 13,
    "start_time": "2021-08-28T19:28:36.895Z"
   },
   {
    "duration": 24,
    "start_time": "2021-08-28T19:28:36.910Z"
   },
   {
    "duration": 29,
    "start_time": "2021-08-28T19:28:36.937Z"
   },
   {
    "duration": 19,
    "start_time": "2021-08-28T19:28:36.970Z"
   },
   {
    "duration": 15,
    "start_time": "2021-08-28T19:28:36.993Z"
   },
   {
    "duration": 564,
    "start_time": "2021-08-28T19:28:37.011Z"
   },
   {
    "duration": 28,
    "start_time": "2021-08-28T19:28:37.577Z"
   },
   {
    "duration": 9,
    "start_time": "2021-08-28T19:28:37.608Z"
   },
   {
    "duration": 5,
    "start_time": "2021-08-28T19:28:37.619Z"
   },
   {
    "duration": 39,
    "start_time": "2021-08-28T19:28:37.626Z"
   },
   {
    "duration": 6,
    "start_time": "2021-08-28T19:28:37.668Z"
   },
   {
    "duration": 10,
    "start_time": "2021-08-28T19:28:37.677Z"
   },
   {
    "duration": 497,
    "start_time": "2021-08-28T19:28:37.689Z"
   },
   {
    "duration": 6,
    "start_time": "2021-08-28T19:28:38.188Z"
   },
   {
    "duration": 28,
    "start_time": "2021-08-28T19:28:38.196Z"
   },
   {
    "duration": 36,
    "start_time": "2021-08-28T19:28:38.226Z"
   },
   {
    "duration": 15,
    "start_time": "2021-08-28T19:28:38.265Z"
   },
   {
    "duration": 11,
    "start_time": "2021-08-28T19:28:38.282Z"
   },
   {
    "duration": 161,
    "start_time": "2021-08-28T19:28:38.295Z"
   },
   {
    "duration": 339,
    "start_time": "2021-08-28T19:28:38.467Z"
   },
   {
    "duration": 20,
    "start_time": "2021-08-28T19:28:38.810Z"
   },
   {
    "duration": 143,
    "start_time": "2021-08-28T19:28:38.833Z"
   },
   {
    "duration": 5,
    "start_time": "2021-08-28T19:28:38.979Z"
   },
   {
    "duration": 34,
    "start_time": "2021-08-28T19:28:38.987Z"
   },
   {
    "duration": 35,
    "start_time": "2021-08-28T19:28:39.024Z"
   },
   {
    "duration": 3429,
    "start_time": "2021-08-28T19:28:39.063Z"
   },
   {
    "duration": 32,
    "start_time": "2021-08-28T19:28:42.494Z"
   },
   {
    "duration": 5,
    "start_time": "2021-08-28T19:28:42.528Z"
   },
   {
    "duration": 22,
    "start_time": "2021-08-28T19:28:42.535Z"
   },
   {
    "duration": 29,
    "start_time": "2021-08-28T19:28:42.561Z"
   },
   {
    "duration": 22,
    "start_time": "2021-08-28T19:28:42.593Z"
   },
   {
    "duration": 38,
    "start_time": "2021-08-28T19:28:42.618Z"
   },
   {
    "duration": 9,
    "start_time": "2021-08-28T19:28:42.659Z"
   },
   {
    "duration": 27,
    "start_time": "2021-08-28T19:28:42.672Z"
   },
   {
    "duration": 66,
    "start_time": "2021-08-28T19:28:42.702Z"
   },
   {
    "duration": 5,
    "start_time": "2021-08-28T19:28:42.771Z"
   },
   {
    "duration": 10,
    "start_time": "2021-08-28T19:28:42.779Z"
   },
   {
    "duration": 15,
    "start_time": "2021-08-28T19:28:42.792Z"
   },
   {
    "duration": 6,
    "start_time": "2021-08-28T19:28:42.810Z"
   },
   {
    "duration": 38,
    "start_time": "2021-08-28T19:28:42.819Z"
   },
   {
    "duration": 36,
    "start_time": "2021-08-28T19:28:42.862Z"
   },
   {
    "duration": 29,
    "start_time": "2021-08-28T19:28:42.901Z"
   },
   {
    "duration": 42,
    "start_time": "2021-08-28T19:28:42.933Z"
   },
   {
    "duration": 30,
    "start_time": "2021-08-28T19:28:42.977Z"
   },
   {
    "duration": 13,
    "start_time": "2021-08-28T19:28:43.009Z"
   },
   {
    "duration": 31,
    "start_time": "2021-08-28T19:28:43.024Z"
   },
   {
    "duration": 16,
    "start_time": "2021-08-28T19:28:43.059Z"
   },
   {
    "duration": 11,
    "start_time": "2021-08-28T19:28:43.078Z"
   },
   {
    "duration": 11,
    "start_time": "2021-08-28T19:28:43.091Z"
   },
   {
    "duration": 10,
    "start_time": "2021-08-28T19:28:43.104Z"
   },
   {
    "duration": 29,
    "start_time": "2021-08-28T19:28:43.117Z"
   },
   {
    "duration": 25,
    "start_time": "2021-08-28T19:28:43.156Z"
   },
   {
    "duration": 10,
    "start_time": "2021-08-28T19:28:43.184Z"
   },
   {
    "duration": 5,
    "start_time": "2021-08-28T19:28:43.197Z"
   },
   {
    "duration": 7,
    "start_time": "2021-08-28T19:28:43.204Z"
   },
   {
    "duration": 7,
    "start_time": "2021-08-28T19:28:43.257Z"
   },
   {
    "duration": 15,
    "start_time": "2021-08-28T19:28:43.267Z"
   },
   {
    "duration": 8,
    "start_time": "2021-08-28T19:28:43.284Z"
   },
   {
    "duration": 20,
    "start_time": "2021-08-28T19:28:43.294Z"
   },
   {
    "duration": 40,
    "start_time": "2021-08-28T19:28:43.317Z"
   },
   {
    "duration": 12,
    "start_time": "2021-08-28T19:28:43.361Z"
   },
   {
    "duration": 24,
    "start_time": "2021-08-28T19:28:43.376Z"
   },
   {
    "duration": 6,
    "start_time": "2021-08-28T19:28:43.402Z"
   },
   {
    "duration": 382,
    "start_time": "2021-08-28T19:28:43.410Z"
   },
   {
    "duration": 30,
    "start_time": "2021-08-28T19:28:43.801Z"
   },
   {
    "duration": 30,
    "start_time": "2021-08-28T19:28:43.834Z"
   },
   {
    "duration": 18,
    "start_time": "2021-08-28T19:28:43.867Z"
   },
   {
    "duration": 17,
    "start_time": "2021-08-28T19:28:43.887Z"
   },
   {
    "duration": 9,
    "start_time": "2021-08-28T19:28:43.906Z"
   },
   {
    "duration": 1200,
    "start_time": "2021-08-28T19:28:43.918Z"
   },
   {
    "duration": 49,
    "start_time": "2021-08-28T19:28:45.120Z"
   },
   {
    "duration": 2252,
    "start_time": "2021-08-28T19:28:45.172Z"
   },
   {
    "duration": 12,
    "start_time": "2021-08-28T19:28:47.426Z"
   },
   {
    "duration": 8,
    "start_time": "2021-08-28T19:28:47.456Z"
   },
   {
    "duration": 12,
    "start_time": "2021-08-28T19:28:47.466Z"
   },
   {
    "duration": 17,
    "start_time": "2021-08-28T19:28:47.481Z"
   },
   {
    "duration": 17,
    "start_time": "2021-08-28T19:28:47.501Z"
   },
   {
    "duration": 34,
    "start_time": "2021-08-28T19:28:47.521Z"
   },
   {
    "duration": 78,
    "start_time": "2021-08-28T19:28:47.559Z"
   },
   {
    "duration": 5,
    "start_time": "2021-08-28T19:37:05.482Z"
   },
   {
    "duration": 1503,
    "start_time": "2021-08-28T19:37:11.895Z"
   },
   {
    "duration": 4079,
    "start_time": "2021-08-28T19:37:13.401Z"
   },
   {
    "duration": 15,
    "start_time": "2021-08-28T19:37:17.483Z"
   },
   {
    "duration": 16,
    "start_time": "2021-08-28T19:37:17.502Z"
   },
   {
    "duration": 26,
    "start_time": "2021-08-28T19:37:17.521Z"
   },
   {
    "duration": 22,
    "start_time": "2021-08-28T19:37:17.550Z"
   },
   {
    "duration": 24,
    "start_time": "2021-08-28T19:37:17.575Z"
   },
   {
    "duration": 28,
    "start_time": "2021-08-28T19:37:17.603Z"
   },
   {
    "duration": 563,
    "start_time": "2021-08-28T19:37:17.635Z"
   },
   {
    "duration": 31,
    "start_time": "2021-08-28T19:37:18.200Z"
   },
   {
    "duration": 24,
    "start_time": "2021-08-28T19:37:18.234Z"
   },
   {
    "duration": 8,
    "start_time": "2021-08-28T19:37:18.262Z"
   },
   {
    "duration": 7,
    "start_time": "2021-08-28T19:37:18.274Z"
   },
   {
    "duration": 9,
    "start_time": "2021-08-28T19:37:18.284Z"
   },
   {
    "duration": 8,
    "start_time": "2021-08-28T19:37:18.295Z"
   },
   {
    "duration": 513,
    "start_time": "2021-08-28T19:37:18.305Z"
   },
   {
    "duration": 6,
    "start_time": "2021-08-28T19:37:18.820Z"
   },
   {
    "duration": 44,
    "start_time": "2021-08-28T19:37:18.828Z"
   },
   {
    "duration": 13,
    "start_time": "2021-08-28T19:37:18.875Z"
   },
   {
    "duration": 17,
    "start_time": "2021-08-28T19:37:18.890Z"
   },
   {
    "duration": 14,
    "start_time": "2021-08-28T19:37:18.910Z"
   },
   {
    "duration": 164,
    "start_time": "2021-08-28T19:37:18.926Z"
   },
   {
    "duration": 355,
    "start_time": "2021-08-28T19:37:19.096Z"
   },
   {
    "duration": 29,
    "start_time": "2021-08-28T19:37:19.456Z"
   },
   {
    "duration": 152,
    "start_time": "2021-08-28T19:37:19.488Z"
   },
   {
    "duration": 15,
    "start_time": "2021-08-28T19:37:19.643Z"
   },
   {
    "duration": 34,
    "start_time": "2021-08-28T19:37:19.661Z"
   },
   {
    "duration": 8,
    "start_time": "2021-08-28T19:37:19.698Z"
   },
   {
    "duration": 3268,
    "start_time": "2021-08-28T19:37:19.709Z"
   },
   {
    "duration": 30,
    "start_time": "2021-08-28T19:37:22.979Z"
   },
   {
    "duration": 5,
    "start_time": "2021-08-28T19:37:23.012Z"
   },
   {
    "duration": 7,
    "start_time": "2021-08-28T19:37:23.020Z"
   },
   {
    "duration": 56,
    "start_time": "2021-08-28T19:37:23.030Z"
   },
   {
    "duration": 21,
    "start_time": "2021-08-28T19:37:23.088Z"
   },
   {
    "duration": 5,
    "start_time": "2021-08-28T19:37:23.111Z"
   },
   {
    "duration": 37,
    "start_time": "2021-08-28T19:37:23.119Z"
   },
   {
    "duration": 29,
    "start_time": "2021-08-28T19:37:23.158Z"
   },
   {
    "duration": 21,
    "start_time": "2021-08-28T19:37:23.189Z"
   },
   {
    "duration": 5,
    "start_time": "2021-08-28T19:37:23.212Z"
   },
   {
    "duration": 44,
    "start_time": "2021-08-28T19:37:23.219Z"
   },
   {
    "duration": 15,
    "start_time": "2021-08-28T19:37:23.268Z"
   },
   {
    "duration": 6,
    "start_time": "2021-08-28T19:37:23.286Z"
   },
   {
    "duration": 9,
    "start_time": "2021-08-28T19:37:23.294Z"
   },
   {
    "duration": 16,
    "start_time": "2021-08-28T19:37:23.306Z"
   },
   {
    "duration": 36,
    "start_time": "2021-08-28T19:37:23.357Z"
   },
   {
    "duration": 22,
    "start_time": "2021-08-28T19:37:23.396Z"
   },
   {
    "duration": 65,
    "start_time": "2021-08-28T19:37:23.421Z"
   },
   {
    "duration": 6,
    "start_time": "2021-08-28T19:37:23.489Z"
   },
   {
    "duration": 6,
    "start_time": "2021-08-28T19:37:23.497Z"
   },
   {
    "duration": 10,
    "start_time": "2021-08-28T19:37:23.505Z"
   },
   {
    "duration": 40,
    "start_time": "2021-08-28T19:37:23.517Z"
   },
   {
    "duration": 14,
    "start_time": "2021-08-28T19:37:23.561Z"
   },
   {
    "duration": 8,
    "start_time": "2021-08-28T19:37:23.578Z"
   },
   {
    "duration": 27,
    "start_time": "2021-08-28T19:37:23.589Z"
   },
   {
    "duration": 40,
    "start_time": "2021-08-28T19:37:23.619Z"
   },
   {
    "duration": 22,
    "start_time": "2021-08-28T19:37:23.662Z"
   },
   {
    "duration": 5,
    "start_time": "2021-08-28T19:37:23.687Z"
   },
   {
    "duration": 15,
    "start_time": "2021-08-28T19:37:23.694Z"
   },
   {
    "duration": 7,
    "start_time": "2021-08-28T19:37:23.711Z"
   },
   {
    "duration": 7,
    "start_time": "2021-08-28T19:37:23.721Z"
   },
   {
    "duration": 8,
    "start_time": "2021-08-28T19:37:23.757Z"
   },
   {
    "duration": 21,
    "start_time": "2021-08-28T19:37:23.768Z"
   },
   {
    "duration": 8,
    "start_time": "2021-08-28T19:37:23.791Z"
   },
   {
    "duration": 13,
    "start_time": "2021-08-28T19:37:23.801Z"
   },
   {
    "duration": 63,
    "start_time": "2021-08-28T19:37:23.816Z"
   },
   {
    "duration": 14,
    "start_time": "2021-08-28T19:37:23.881Z"
   },
   {
    "duration": 359,
    "start_time": "2021-08-28T19:37:23.897Z"
   },
   {
    "duration": 33,
    "start_time": "2021-08-28T19:37:24.267Z"
   },
   {
    "duration": 6,
    "start_time": "2021-08-28T19:37:24.303Z"
   },
   {
    "duration": 16,
    "start_time": "2021-08-28T19:37:24.311Z"
   },
   {
    "duration": 50,
    "start_time": "2021-08-28T19:37:24.329Z"
   },
   {
    "duration": 11,
    "start_time": "2021-08-28T19:37:24.382Z"
   },
   {
    "duration": 1217,
    "start_time": "2021-08-28T19:37:24.395Z"
   },
   {
    "duration": 55,
    "start_time": "2021-08-28T19:37:25.615Z"
   },
   {
    "duration": 2073,
    "start_time": "2021-08-28T19:37:25.674Z"
   },
   {
    "duration": 19,
    "start_time": "2021-08-28T19:37:27.749Z"
   },
   {
    "duration": 17,
    "start_time": "2021-08-28T19:37:27.771Z"
   },
   {
    "duration": 19,
    "start_time": "2021-08-28T19:37:27.790Z"
   },
   {
    "duration": 32,
    "start_time": "2021-08-28T19:37:27.811Z"
   },
   {
    "duration": 106,
    "start_time": "2021-08-28T19:37:27.846Z"
   },
   {
    "duration": 5,
    "start_time": "2021-08-28T19:37:27.954Z"
   },
   {
    "duration": 29,
    "start_time": "2021-08-28T19:37:27.962Z"
   },
   {
    "duration": 1438,
    "start_time": "2021-08-28T19:43:29.039Z"
   },
   {
    "duration": 1300,
    "start_time": "2021-08-28T19:43:30.480Z"
   },
   {
    "duration": 28,
    "start_time": "2021-08-28T19:43:31.785Z"
   },
   {
    "duration": 20,
    "start_time": "2021-08-28T19:43:31.817Z"
   },
   {
    "duration": 42,
    "start_time": "2021-08-28T19:43:31.840Z"
   },
   {
    "duration": 12,
    "start_time": "2021-08-28T19:43:31.884Z"
   },
   {
    "duration": 30,
    "start_time": "2021-08-28T19:43:31.898Z"
   },
   {
    "duration": 37,
    "start_time": "2021-08-28T19:43:31.932Z"
   },
   {
    "duration": 586,
    "start_time": "2021-08-28T19:43:31.973Z"
   },
   {
    "duration": 36,
    "start_time": "2021-08-28T19:43:32.562Z"
   },
   {
    "duration": 24,
    "start_time": "2021-08-28T19:43:32.600Z"
   },
   {
    "duration": 10,
    "start_time": "2021-08-28T19:43:32.627Z"
   },
   {
    "duration": 11,
    "start_time": "2021-08-28T19:43:32.660Z"
   },
   {
    "duration": 7,
    "start_time": "2021-08-28T19:43:32.675Z"
   },
   {
    "duration": 11,
    "start_time": "2021-08-28T19:43:32.684Z"
   },
   {
    "duration": 611,
    "start_time": "2021-08-28T19:43:32.698Z"
   },
   {
    "duration": 6,
    "start_time": "2021-08-28T19:43:33.311Z"
   },
   {
    "duration": 40,
    "start_time": "2021-08-28T19:43:33.319Z"
   },
   {
    "duration": 18,
    "start_time": "2021-08-28T19:43:33.362Z"
   },
   {
    "duration": 12,
    "start_time": "2021-08-28T19:43:33.383Z"
   },
   {
    "duration": 12,
    "start_time": "2021-08-28T19:43:33.398Z"
   },
   {
    "duration": 186,
    "start_time": "2021-08-28T19:43:33.412Z"
   },
   {
    "duration": 661,
    "start_time": "2021-08-28T19:43:33.611Z"
   },
   {
    "duration": 20,
    "start_time": "2021-08-28T19:43:34.276Z"
   },
   {
    "duration": 139,
    "start_time": "2021-08-28T19:43:34.299Z"
   },
   {
    "duration": 6,
    "start_time": "2021-08-28T19:43:34.440Z"
   },
   {
    "duration": 43,
    "start_time": "2021-08-28T19:43:34.449Z"
   },
   {
    "duration": 5,
    "start_time": "2021-08-28T19:43:34.494Z"
   },
   {
    "duration": 3950,
    "start_time": "2021-08-28T19:43:34.501Z"
   },
   {
    "duration": 38,
    "start_time": "2021-08-28T19:43:38.456Z"
   },
   {
    "duration": 8,
    "start_time": "2021-08-28T19:43:38.496Z"
   },
   {
    "duration": 14,
    "start_time": "2021-08-28T19:43:38.507Z"
   },
   {
    "duration": 65,
    "start_time": "2021-08-28T19:43:38.524Z"
   },
   {
    "duration": 21,
    "start_time": "2021-08-28T19:43:38.592Z"
   },
   {
    "duration": 8,
    "start_time": "2021-08-28T19:43:38.615Z"
   },
   {
    "duration": 32,
    "start_time": "2021-08-28T19:43:38.625Z"
   },
   {
    "duration": 37,
    "start_time": "2021-08-28T19:43:38.661Z"
   },
   {
    "duration": 30,
    "start_time": "2021-08-28T19:43:38.701Z"
   },
   {
    "duration": 6,
    "start_time": "2021-08-28T19:43:38.733Z"
   },
   {
    "duration": 11,
    "start_time": "2021-08-28T19:43:38.756Z"
   },
   {
    "duration": 20,
    "start_time": "2021-08-28T19:43:38.772Z"
   },
   {
    "duration": 16,
    "start_time": "2021-08-28T19:43:38.795Z"
   },
   {
    "duration": 12,
    "start_time": "2021-08-28T19:43:38.814Z"
   },
   {
    "duration": 46,
    "start_time": "2021-08-28T19:43:38.829Z"
   },
   {
    "duration": 32,
    "start_time": "2021-08-28T19:43:38.878Z"
   },
   {
    "duration": 60,
    "start_time": "2021-08-28T19:43:38.913Z"
   },
   {
    "duration": 30,
    "start_time": "2021-08-28T19:43:38.976Z"
   },
   {
    "duration": 6,
    "start_time": "2021-08-28T19:43:39.008Z"
   },
   {
    "duration": 39,
    "start_time": "2021-08-28T19:43:39.018Z"
   },
   {
    "duration": 16,
    "start_time": "2021-08-28T19:43:39.061Z"
   },
   {
    "duration": 10,
    "start_time": "2021-08-28T19:43:39.080Z"
   },
   {
    "duration": 10,
    "start_time": "2021-08-28T19:43:39.093Z"
   },
   {
    "duration": 14,
    "start_time": "2021-08-28T19:43:39.106Z"
   },
   {
    "duration": 51,
    "start_time": "2021-08-28T19:43:39.122Z"
   },
   {
    "duration": 22,
    "start_time": "2021-08-28T19:43:39.176Z"
   },
   {
    "duration": 16,
    "start_time": "2021-08-28T19:43:39.201Z"
   },
   {
    "duration": 6,
    "start_time": "2021-08-28T19:43:39.220Z"
   },
   {
    "duration": 16,
    "start_time": "2021-08-28T19:43:39.258Z"
   },
   {
    "duration": 8,
    "start_time": "2021-08-28T19:43:39.277Z"
   },
   {
    "duration": 9,
    "start_time": "2021-08-28T19:43:39.288Z"
   },
   {
    "duration": 18,
    "start_time": "2021-08-28T19:43:39.300Z"
   },
   {
    "duration": 58,
    "start_time": "2021-08-28T19:43:39.321Z"
   },
   {
    "duration": 5,
    "start_time": "2021-08-28T19:43:39.382Z"
   },
   {
    "duration": 18,
    "start_time": "2021-08-28T19:43:39.389Z"
   },
   {
    "duration": 30,
    "start_time": "2021-08-28T19:43:39.409Z"
   },
   {
    "duration": 8,
    "start_time": "2021-08-28T19:43:39.456Z"
   },
   {
    "duration": 383,
    "start_time": "2021-08-28T19:43:39.468Z"
   },
   {
    "duration": 50,
    "start_time": "2021-08-28T19:43:39.864Z"
   },
   {
    "duration": 6,
    "start_time": "2021-08-28T19:43:39.917Z"
   },
   {
    "duration": 43,
    "start_time": "2021-08-28T19:43:39.925Z"
   },
   {
    "duration": 18,
    "start_time": "2021-08-28T19:43:39.972Z"
   },
   {
    "duration": 20,
    "start_time": "2021-08-28T19:43:39.994Z"
   },
   {
    "duration": 1291,
    "start_time": "2021-08-28T19:43:40.018Z"
   },
   {
    "duration": 56,
    "start_time": "2021-08-28T19:43:41.312Z"
   },
   {
    "duration": 2400,
    "start_time": "2021-08-28T19:43:41.372Z"
   },
   {
    "duration": 13,
    "start_time": "2021-08-28T19:43:43.775Z"
   },
   {
    "duration": 21,
    "start_time": "2021-08-28T19:43:43.790Z"
   },
   {
    "duration": 21,
    "start_time": "2021-08-28T19:43:43.813Z"
   },
   {
    "duration": 40,
    "start_time": "2021-08-28T19:43:43.837Z"
   },
   {
    "duration": 26,
    "start_time": "2021-08-28T19:43:43.880Z"
   },
   {
    "duration": 11,
    "start_time": "2021-08-28T19:43:43.908Z"
   },
   {
    "duration": 21,
    "start_time": "2021-08-28T19:43:43.922Z"
   },
   {
    "duration": 1477,
    "start_time": "2021-08-28T19:52:25.479Z"
   },
   {
    "duration": 2443,
    "start_time": "2021-08-28T19:52:26.959Z"
   },
   {
    "duration": 16,
    "start_time": "2021-08-28T19:52:29.405Z"
   },
   {
    "duration": 14,
    "start_time": "2021-08-28T19:52:29.423Z"
   },
   {
    "duration": 30,
    "start_time": "2021-08-28T19:52:29.439Z"
   },
   {
    "duration": 15,
    "start_time": "2021-08-28T19:52:29.472Z"
   },
   {
    "duration": 24,
    "start_time": "2021-08-28T19:52:29.490Z"
   },
   {
    "duration": 44,
    "start_time": "2021-08-28T19:52:29.519Z"
   },
   {
    "duration": 514,
    "start_time": "2021-08-28T19:52:29.567Z"
   },
   {
    "duration": 32,
    "start_time": "2021-08-28T19:52:30.084Z"
   },
   {
    "duration": 10,
    "start_time": "2021-08-28T19:52:30.118Z"
   },
   {
    "duration": 38,
    "start_time": "2021-08-28T19:52:30.130Z"
   },
   {
    "duration": 29,
    "start_time": "2021-08-28T19:52:30.171Z"
   },
   {
    "duration": 9,
    "start_time": "2021-08-28T19:52:30.202Z"
   },
   {
    "duration": 14,
    "start_time": "2021-08-28T19:52:30.213Z"
   },
   {
    "duration": 493,
    "start_time": "2021-08-28T19:52:30.229Z"
   },
   {
    "duration": 6,
    "start_time": "2021-08-28T19:52:30.724Z"
   },
   {
    "duration": 51,
    "start_time": "2021-08-28T19:52:30.732Z"
   },
   {
    "duration": 13,
    "start_time": "2021-08-28T19:52:30.788Z"
   },
   {
    "duration": 28,
    "start_time": "2021-08-28T19:52:30.804Z"
   },
   {
    "duration": 27,
    "start_time": "2021-08-28T19:52:30.835Z"
   },
   {
    "duration": 158,
    "start_time": "2021-08-28T19:52:30.866Z"
   },
   {
    "duration": 357,
    "start_time": "2021-08-28T19:52:31.030Z"
   },
   {
    "duration": 19,
    "start_time": "2021-08-28T19:52:31.390Z"
   },
   {
    "duration": 146,
    "start_time": "2021-08-28T19:52:31.411Z"
   },
   {
    "duration": 7,
    "start_time": "2021-08-28T19:52:31.563Z"
   },
   {
    "duration": 42,
    "start_time": "2021-08-28T19:52:31.573Z"
   },
   {
    "duration": 6,
    "start_time": "2021-08-28T19:52:31.617Z"
   },
   {
    "duration": 3614,
    "start_time": "2021-08-28T19:52:31.625Z"
   },
   {
    "duration": 45,
    "start_time": "2021-08-28T19:52:35.241Z"
   },
   {
    "duration": 6,
    "start_time": "2021-08-28T19:52:35.288Z"
   },
   {
    "duration": 12,
    "start_time": "2021-08-28T19:52:35.297Z"
   },
   {
    "duration": 51,
    "start_time": "2021-08-28T19:52:35.311Z"
   },
   {
    "duration": 29,
    "start_time": "2021-08-28T19:52:35.364Z"
   },
   {
    "duration": 5,
    "start_time": "2021-08-28T19:52:35.396Z"
   },
   {
    "duration": 9,
    "start_time": "2021-08-28T19:52:35.404Z"
   },
   {
    "duration": 58,
    "start_time": "2021-08-28T19:52:35.416Z"
   },
   {
    "duration": 29,
    "start_time": "2021-08-28T19:52:35.477Z"
   },
   {
    "duration": 6,
    "start_time": "2021-08-28T19:52:35.508Z"
   },
   {
    "duration": 18,
    "start_time": "2021-08-28T19:52:35.516Z"
   },
   {
    "duration": 28,
    "start_time": "2021-08-28T19:52:35.536Z"
   },
   {
    "duration": 11,
    "start_time": "2021-08-28T19:52:35.567Z"
   },
   {
    "duration": 15,
    "start_time": "2021-08-28T19:52:35.582Z"
   },
   {
    "duration": 21,
    "start_time": "2021-08-28T19:52:35.600Z"
   },
   {
    "duration": 60,
    "start_time": "2021-08-28T19:52:35.623Z"
   },
   {
    "duration": 25,
    "start_time": "2021-08-28T19:52:35.686Z"
   },
   {
    "duration": 66,
    "start_time": "2021-08-28T19:52:35.713Z"
   },
   {
    "duration": 8,
    "start_time": "2021-08-28T19:52:35.782Z"
   },
   {
    "duration": 12,
    "start_time": "2021-08-28T19:52:35.793Z"
   },
   {
    "duration": 14,
    "start_time": "2021-08-28T19:52:35.808Z"
   },
   {
    "duration": 9,
    "start_time": "2021-08-28T19:52:35.824Z"
   },
   {
    "duration": 30,
    "start_time": "2021-08-28T19:52:35.835Z"
   },
   {
    "duration": 12,
    "start_time": "2021-08-28T19:52:35.871Z"
   },
   {
    "duration": 29,
    "start_time": "2021-08-28T19:52:35.885Z"
   },
   {
    "duration": 42,
    "start_time": "2021-08-28T19:52:35.917Z"
   },
   {
    "duration": 17,
    "start_time": "2021-08-28T19:52:35.962Z"
   },
   {
    "duration": 10,
    "start_time": "2021-08-28T19:52:35.984Z"
   },
   {
    "duration": 10,
    "start_time": "2021-08-28T19:52:35.996Z"
   },
   {
    "duration": 10,
    "start_time": "2021-08-28T19:52:36.008Z"
   },
   {
    "duration": 9,
    "start_time": "2021-08-28T19:52:36.021Z"
   },
   {
    "duration": 28,
    "start_time": "2021-08-28T19:52:36.032Z"
   },
   {
    "duration": 25,
    "start_time": "2021-08-28T19:52:36.071Z"
   },
   {
    "duration": 5,
    "start_time": "2021-08-28T19:52:36.099Z"
   },
   {
    "duration": 17,
    "start_time": "2021-08-28T19:52:36.106Z"
   },
   {
    "duration": 55,
    "start_time": "2021-08-28T19:52:36.125Z"
   },
   {
    "duration": 6,
    "start_time": "2021-08-28T19:52:36.183Z"
   },
   {
    "duration": 385,
    "start_time": "2021-08-28T19:52:36.192Z"
   },
   {
    "duration": 30,
    "start_time": "2021-08-28T19:52:36.587Z"
   },
   {
    "duration": 6,
    "start_time": "2021-08-28T19:52:36.620Z"
   },
   {
    "duration": 49,
    "start_time": "2021-08-28T19:52:36.629Z"
   },
   {
    "duration": 19,
    "start_time": "2021-08-28T19:52:36.681Z"
   },
   {
    "duration": 8,
    "start_time": "2021-08-28T19:52:36.702Z"
   },
   {
    "duration": 1216,
    "start_time": "2021-08-28T19:52:36.713Z"
   },
   {
    "duration": 50,
    "start_time": "2021-08-28T19:52:37.933Z"
   },
   {
    "duration": 2179,
    "start_time": "2021-08-28T19:52:37.986Z"
   },
   {
    "duration": 23,
    "start_time": "2021-08-28T19:52:40.168Z"
   },
   {
    "duration": 11,
    "start_time": "2021-08-28T19:52:40.194Z"
   },
   {
    "duration": 10,
    "start_time": "2021-08-28T19:52:40.207Z"
   },
   {
    "duration": 35,
    "start_time": "2021-08-28T19:52:40.220Z"
   },
   {
    "duration": 121,
    "start_time": "2021-08-28T19:52:40.258Z"
   },
   {
    "duration": 6,
    "start_time": "2021-08-28T19:52:40.382Z"
   },
   {
    "duration": 9,
    "start_time": "2021-08-28T19:52:40.393Z"
   },
   {
    "duration": 32,
    "start_time": "2021-08-28T19:55:18.009Z"
   },
   {
    "duration": 79,
    "start_time": "2021-08-28T19:56:12.893Z"
   },
   {
    "duration": 14,
    "start_time": "2021-08-28T19:56:26.398Z"
   },
   {
    "duration": 20,
    "start_time": "2021-08-28T19:56:43.390Z"
   },
   {
    "duration": 2003,
    "start_time": "2021-08-28T20:28:32.512Z"
   },
   {
    "duration": 2013,
    "start_time": "2021-08-28T20:28:57.521Z"
   },
   {
    "duration": 10,
    "start_time": "2021-08-28T20:29:29.131Z"
   },
   {
    "duration": 2119,
    "start_time": "2021-08-28T20:30:23.720Z"
   },
   {
    "duration": 36,
    "start_time": "2021-08-28T20:36:50.432Z"
   },
   {
    "duration": 13,
    "start_time": "2021-08-28T20:37:01.352Z"
   },
   {
    "duration": 11,
    "start_time": "2021-08-28T20:37:21.210Z"
   },
   {
    "duration": 32,
    "start_time": "2021-08-28T20:37:31.442Z"
   },
   {
    "duration": 11,
    "start_time": "2021-08-28T20:37:38.971Z"
   },
   {
    "duration": 19,
    "start_time": "2021-08-28T20:37:47.427Z"
   },
   {
    "duration": 11,
    "start_time": "2021-08-28T20:37:51.066Z"
   },
   {
    "duration": 17,
    "start_time": "2021-08-28T20:37:58.628Z"
   },
   {
    "duration": 13,
    "start_time": "2021-08-28T20:54:30.521Z"
   },
   {
    "duration": 256,
    "start_time": "2021-08-28T21:02:47.041Z"
   },
   {
    "duration": 7,
    "start_time": "2021-08-28T21:02:54.619Z"
   },
   {
    "duration": 19,
    "start_time": "2021-08-28T21:03:10.738Z"
   },
   {
    "duration": 9,
    "start_time": "2021-08-28T21:03:35.567Z"
   },
   {
    "duration": 403,
    "start_time": "2021-08-28T21:04:10.815Z"
   },
   {
    "duration": 8,
    "start_time": "2021-08-28T21:04:27.895Z"
   },
   {
    "duration": 36,
    "start_time": "2021-08-28T21:04:37.633Z"
   },
   {
    "duration": 33,
    "start_time": "2021-08-28T21:04:46.224Z"
   },
   {
    "duration": 47,
    "start_time": "2021-08-28T21:04:49.448Z"
   },
   {
    "duration": 56,
    "start_time": "2021-08-28T21:06:46.664Z"
   },
   {
    "duration": 45,
    "start_time": "2021-08-28T21:17:06.439Z"
   },
   {
    "duration": 60,
    "start_time": "2021-08-28T21:17:24.129Z"
   },
   {
    "duration": 57,
    "start_time": "2021-08-28T21:17:28.810Z"
   },
   {
    "duration": 251,
    "start_time": "2021-08-28T21:19:41.413Z"
   },
   {
    "duration": 33,
    "start_time": "2021-08-28T21:20:11.747Z"
   },
   {
    "duration": 10,
    "start_time": "2021-08-28T21:20:28.366Z"
   },
   {
    "duration": 7,
    "start_time": "2021-08-28T21:20:43.806Z"
   },
   {
    "duration": 9,
    "start_time": "2021-08-28T21:21:01.038Z"
   },
   {
    "duration": 8,
    "start_time": "2021-08-28T21:21:12.991Z"
   },
   {
    "duration": 15,
    "start_time": "2021-08-28T21:21:59.171Z"
   },
   {
    "duration": 34,
    "start_time": "2021-08-28T21:22:14.523Z"
   },
   {
    "duration": 23,
    "start_time": "2021-08-28T21:22:42.406Z"
   },
   {
    "duration": 8,
    "start_time": "2021-08-28T21:22:57.942Z"
   },
   {
    "duration": 15,
    "start_time": "2021-08-28T21:23:42.041Z"
   },
   {
    "duration": 24,
    "start_time": "2021-08-28T21:23:47.722Z"
   },
   {
    "duration": 28,
    "start_time": "2021-08-28T21:23:59.587Z"
   },
   {
    "duration": 6,
    "start_time": "2021-08-28T21:28:10.058Z"
   },
   {
    "duration": 1066,
    "start_time": "2021-08-29T18:37:42.009Z"
   },
   {
    "duration": 913,
    "start_time": "2021-08-29T18:37:43.077Z"
   },
   {
    "duration": 10,
    "start_time": "2021-08-29T18:37:43.991Z"
   },
   {
    "duration": 10,
    "start_time": "2021-08-29T18:37:44.002Z"
   },
   {
    "duration": 13,
    "start_time": "2021-08-29T18:37:44.014Z"
   },
   {
    "duration": 7,
    "start_time": "2021-08-29T18:37:44.029Z"
   },
   {
    "duration": 13,
    "start_time": "2021-08-29T18:37:44.037Z"
   },
   {
    "duration": 11,
    "start_time": "2021-08-29T18:37:44.052Z"
   },
   {
    "duration": 305,
    "start_time": "2021-08-29T18:37:44.065Z"
   },
   {
    "duration": 17,
    "start_time": "2021-08-29T18:37:44.372Z"
   },
   {
    "duration": 7,
    "start_time": "2021-08-29T18:37:44.390Z"
   },
   {
    "duration": 7,
    "start_time": "2021-08-29T18:37:44.398Z"
   },
   {
    "duration": 13,
    "start_time": "2021-08-29T18:37:44.407Z"
   },
   {
    "duration": 10,
    "start_time": "2021-08-29T18:37:44.421Z"
   },
   {
    "duration": 11,
    "start_time": "2021-08-29T18:37:44.433Z"
   },
   {
    "duration": 316,
    "start_time": "2021-08-29T18:37:44.446Z"
   },
   {
    "duration": 5,
    "start_time": "2021-08-29T18:37:44.764Z"
   },
   {
    "duration": 21,
    "start_time": "2021-08-29T18:37:44.771Z"
   },
   {
    "duration": 11,
    "start_time": "2021-08-29T18:37:44.794Z"
   },
   {
    "duration": 10,
    "start_time": "2021-08-29T18:37:44.807Z"
   },
   {
    "duration": 10,
    "start_time": "2021-08-29T18:37:44.840Z"
   },
   {
    "duration": 102,
    "start_time": "2021-08-29T18:37:44.852Z"
   },
   {
    "duration": 204,
    "start_time": "2021-08-29T18:37:44.957Z"
   },
   {
    "duration": 13,
    "start_time": "2021-08-29T18:37:45.163Z"
   },
   {
    "duration": 97,
    "start_time": "2021-08-29T18:37:45.178Z"
   },
   {
    "duration": 4,
    "start_time": "2021-08-29T18:37:45.277Z"
   },
   {
    "duration": 21,
    "start_time": "2021-08-29T18:37:45.282Z"
   },
   {
    "duration": 5,
    "start_time": "2021-08-29T18:37:45.305Z"
   },
   {
    "duration": 1949,
    "start_time": "2021-08-29T18:37:45.311Z"
   },
   {
    "duration": 20,
    "start_time": "2021-08-29T18:37:47.262Z"
   },
   {
    "duration": 3,
    "start_time": "2021-08-29T18:37:47.284Z"
   },
   {
    "duration": 5,
    "start_time": "2021-08-29T18:37:47.288Z"
   },
   {
    "duration": 17,
    "start_time": "2021-08-29T18:37:47.295Z"
   },
   {
    "duration": 34,
    "start_time": "2021-08-29T18:37:47.313Z"
   },
   {
    "duration": 4,
    "start_time": "2021-08-29T18:37:47.348Z"
   },
   {
    "duration": 6,
    "start_time": "2021-08-29T18:37:47.353Z"
   },
   {
    "duration": 18,
    "start_time": "2021-08-29T18:37:47.361Z"
   },
   {
    "duration": 20,
    "start_time": "2021-08-29T18:37:47.381Z"
   },
   {
    "duration": 4,
    "start_time": "2021-08-29T18:37:47.402Z"
   },
   {
    "duration": 6,
    "start_time": "2021-08-29T18:37:47.407Z"
   },
   {
    "duration": 28,
    "start_time": "2021-08-29T18:37:47.414Z"
   },
   {
    "duration": 7,
    "start_time": "2021-08-29T18:37:47.444Z"
   },
   {
    "duration": 6,
    "start_time": "2021-08-29T18:37:47.453Z"
   },
   {
    "duration": 14,
    "start_time": "2021-08-29T18:37:47.460Z"
   },
   {
    "duration": 18,
    "start_time": "2021-08-29T18:37:47.476Z"
   },
   {
    "duration": 14,
    "start_time": "2021-08-29T18:37:47.495Z"
   },
   {
    "duration": 38,
    "start_time": "2021-08-29T18:37:47.511Z"
   },
   {
    "duration": 4,
    "start_time": "2021-08-29T18:37:47.550Z"
   },
   {
    "duration": 4,
    "start_time": "2021-08-29T18:37:47.556Z"
   },
   {
    "duration": 7,
    "start_time": "2021-08-29T18:37:47.562Z"
   },
   {
    "duration": 5,
    "start_time": "2021-08-29T18:37:47.570Z"
   },
   {
    "duration": 6,
    "start_time": "2021-08-29T18:37:47.576Z"
   },
   {
    "duration": 6,
    "start_time": "2021-08-29T18:37:47.583Z"
   },
   {
    "duration": 13,
    "start_time": "2021-08-29T18:37:47.590Z"
   },
   {
    "duration": 47,
    "start_time": "2021-08-29T18:37:47.605Z"
   },
   {
    "duration": 10,
    "start_time": "2021-08-29T18:37:47.654Z"
   },
   {
    "duration": 6,
    "start_time": "2021-08-29T18:37:47.665Z"
   },
   {
    "duration": 6,
    "start_time": "2021-08-29T18:37:47.672Z"
   },
   {
    "duration": 6,
    "start_time": "2021-08-29T18:37:47.679Z"
   },
   {
    "duration": 6,
    "start_time": "2021-08-29T18:37:47.686Z"
   },
   {
    "duration": 6,
    "start_time": "2021-08-29T18:37:47.694Z"
   },
   {
    "duration": 13,
    "start_time": "2021-08-29T18:37:47.701Z"
   },
   {
    "duration": 29,
    "start_time": "2021-08-29T18:37:47.715Z"
   },
   {
    "duration": 13,
    "start_time": "2021-08-29T18:37:47.745Z"
   },
   {
    "duration": 15,
    "start_time": "2021-08-29T18:37:47.760Z"
   },
   {
    "duration": 5,
    "start_time": "2021-08-29T18:37:47.776Z"
   },
   {
    "duration": 198,
    "start_time": "2021-08-29T18:37:47.782Z"
   },
   {
    "duration": 16,
    "start_time": "2021-08-29T18:37:47.984Z"
   },
   {
    "duration": 4,
    "start_time": "2021-08-29T18:37:48.001Z"
   },
   {
    "duration": 20,
    "start_time": "2021-08-29T18:37:48.007Z"
   },
   {
    "duration": 19,
    "start_time": "2021-08-29T18:37:48.029Z"
   },
   {
    "duration": 8,
    "start_time": "2021-08-29T18:37:48.049Z"
   },
   {
    "duration": 633,
    "start_time": "2021-08-29T18:37:48.058Z"
   },
   {
    "duration": 27,
    "start_time": "2021-08-29T18:37:48.693Z"
   },
   {
    "duration": 37,
    "start_time": "2021-08-29T18:37:48.722Z"
   },
   {
    "duration": 13,
    "start_time": "2021-08-29T18:37:48.761Z"
   },
   {
    "duration": 6856,
    "start_time": "2021-08-29T18:37:48.775Z"
   },
   {
    "duration": 42541,
    "start_time": "2021-08-29T18:37:13.093Z"
   },
   {
    "duration": 42539,
    "start_time": "2021-08-29T18:37:13.096Z"
   },
   {
    "duration": 42543,
    "start_time": "2021-08-29T18:37:13.098Z"
   },
   {
    "duration": 42543,
    "start_time": "2021-08-29T18:37:13.099Z"
   },
   {
    "duration": 42542,
    "start_time": "2021-08-29T18:37:13.102Z"
   },
   {
    "duration": 42541,
    "start_time": "2021-08-29T18:37:13.104Z"
   },
   {
    "duration": 42540,
    "start_time": "2021-08-29T18:37:13.106Z"
   },
   {
    "duration": 42540,
    "start_time": "2021-08-29T18:37:13.108Z"
   },
   {
    "duration": 42538,
    "start_time": "2021-08-29T18:37:13.111Z"
   },
   {
    "duration": 42532,
    "start_time": "2021-08-29T18:37:13.119Z"
   },
   {
    "duration": 6756,
    "start_time": "2021-08-29T18:38:44.256Z"
   },
   {
    "duration": 6265,
    "start_time": "2021-08-29T18:39:04.547Z"
   },
   {
    "duration": 6,
    "start_time": "2021-08-29T18:39:22.859Z"
   },
   {
    "duration": 623,
    "start_time": "2021-08-29T18:39:33.132Z"
   },
   {
    "duration": 1428,
    "start_time": "2021-08-29T18:39:45.375Z"
   },
   {
    "duration": 1331,
    "start_time": "2021-08-29T18:39:51.354Z"
   },
   {
    "duration": 1297,
    "start_time": "2021-08-29T18:39:57.897Z"
   },
   {
    "duration": 1401,
    "start_time": "2021-08-29T18:40:39.889Z"
   },
   {
    "duration": 1371,
    "start_time": "2021-08-29T18:41:06.307Z"
   },
   {
    "duration": 1564,
    "start_time": "2021-08-29T18:41:52.224Z"
   },
   {
    "duration": 1465,
    "start_time": "2021-08-29T18:42:17.129Z"
   },
   {
    "duration": 1801,
    "start_time": "2021-08-29T19:14:29.785Z"
   },
   {
    "duration": 1465,
    "start_time": "2021-08-29T19:14:31.589Z"
   },
   {
    "duration": 16,
    "start_time": "2021-08-29T19:14:33.057Z"
   },
   {
    "duration": 27,
    "start_time": "2021-08-29T19:14:33.076Z"
   },
   {
    "duration": 36,
    "start_time": "2021-08-29T19:14:33.105Z"
   },
   {
    "duration": 12,
    "start_time": "2021-08-29T19:14:33.143Z"
   },
   {
    "duration": 34,
    "start_time": "2021-08-29T19:14:33.157Z"
   },
   {
    "duration": 23,
    "start_time": "2021-08-29T19:14:33.195Z"
   },
   {
    "duration": 470,
    "start_time": "2021-08-29T19:14:33.222Z"
   },
   {
    "duration": 40,
    "start_time": "2021-08-29T19:14:33.694Z"
   },
   {
    "duration": 7,
    "start_time": "2021-08-29T19:14:33.736Z"
   },
   {
    "duration": 6,
    "start_time": "2021-08-29T19:14:33.745Z"
   },
   {
    "duration": 9,
    "start_time": "2021-08-29T19:14:33.754Z"
   },
   {
    "duration": 6,
    "start_time": "2021-08-29T19:14:33.766Z"
   },
   {
    "duration": 12,
    "start_time": "2021-08-29T19:14:33.815Z"
   },
   {
    "duration": 561,
    "start_time": "2021-08-29T19:14:33.830Z"
   },
   {
    "duration": 8,
    "start_time": "2021-08-29T19:14:34.394Z"
   },
   {
    "duration": 37,
    "start_time": "2021-08-29T19:14:34.415Z"
   },
   {
    "duration": 20,
    "start_time": "2021-08-29T19:14:34.455Z"
   },
   {
    "duration": 46,
    "start_time": "2021-08-29T19:14:34.478Z"
   },
   {
    "duration": 15,
    "start_time": "2021-08-29T19:14:34.527Z"
   },
   {
    "duration": 148,
    "start_time": "2021-08-29T19:14:34.545Z"
   },
   {
    "duration": 340,
    "start_time": "2021-08-29T19:14:34.699Z"
   },
   {
    "duration": 20,
    "start_time": "2021-08-29T19:14:35.043Z"
   },
   {
    "duration": 142,
    "start_time": "2021-08-29T19:14:35.065Z"
   },
   {
    "duration": 10,
    "start_time": "2021-08-29T19:14:35.210Z"
   },
   {
    "duration": 45,
    "start_time": "2021-08-29T19:14:35.222Z"
   },
   {
    "duration": 5,
    "start_time": "2021-08-29T19:14:35.270Z"
   },
   {
    "duration": 3154,
    "start_time": "2021-08-29T19:14:35.277Z"
   },
   {
    "duration": 32,
    "start_time": "2021-08-29T19:14:38.434Z"
   },
   {
    "duration": 5,
    "start_time": "2021-08-29T19:14:38.468Z"
   },
   {
    "duration": 7,
    "start_time": "2021-08-29T19:14:38.475Z"
   },
   {
    "duration": 56,
    "start_time": "2021-08-29T19:14:38.484Z"
   },
   {
    "duration": 20,
    "start_time": "2021-08-29T19:14:38.543Z"
   },
   {
    "duration": 5,
    "start_time": "2021-08-29T19:14:38.565Z"
   },
   {
    "duration": 6,
    "start_time": "2021-08-29T19:14:38.573Z"
   },
   {
    "duration": 57,
    "start_time": "2021-08-29T19:14:38.581Z"
   },
   {
    "duration": 22,
    "start_time": "2021-08-29T19:14:38.640Z"
   },
   {
    "duration": 6,
    "start_time": "2021-08-29T19:14:38.664Z"
   },
   {
    "duration": 44,
    "start_time": "2021-08-29T19:14:38.672Z"
   },
   {
    "duration": 14,
    "start_time": "2021-08-29T19:14:38.719Z"
   },
   {
    "duration": 5,
    "start_time": "2021-08-29T19:14:38.736Z"
   },
   {
    "duration": 7,
    "start_time": "2021-08-29T19:14:38.743Z"
   },
   {
    "duration": 19,
    "start_time": "2021-08-29T19:14:38.752Z"
   },
   {
    "duration": 29,
    "start_time": "2021-08-29T19:14:38.817Z"
   },
   {
    "duration": 21,
    "start_time": "2021-08-29T19:14:38.849Z"
   },
   {
    "duration": 65,
    "start_time": "2021-08-29T19:14:38.873Z"
   },
   {
    "duration": 5,
    "start_time": "2021-08-29T19:14:38.941Z"
   },
   {
    "duration": 6,
    "start_time": "2021-08-29T19:14:38.949Z"
   },
   {
    "duration": 8,
    "start_time": "2021-08-29T19:14:38.957Z"
   },
   {
    "duration": 5,
    "start_time": "2021-08-29T19:14:38.967Z"
   },
   {
    "duration": 6,
    "start_time": "2021-08-29T19:14:39.017Z"
   },
   {
    "duration": 10,
    "start_time": "2021-08-29T19:14:39.025Z"
   },
   {
    "duration": 25,
    "start_time": "2021-08-29T19:14:39.037Z"
   },
   {
    "duration": 57,
    "start_time": "2021-08-29T19:14:39.064Z"
   },
   {
    "duration": 11,
    "start_time": "2021-08-29T19:14:39.124Z"
   },
   {
    "duration": 21,
    "start_time": "2021-08-29T19:14:39.137Z"
   },
   {
    "duration": 9,
    "start_time": "2021-08-29T19:14:39.161Z"
   },
   {
    "duration": 8,
    "start_time": "2021-08-29T19:14:39.172Z"
   },
   {
    "duration": 38,
    "start_time": "2021-08-29T19:14:39.182Z"
   },
   {
    "duration": 9,
    "start_time": "2021-08-29T19:14:39.222Z"
   },
   {
    "duration": 20,
    "start_time": "2021-08-29T19:14:39.233Z"
   },
   {
    "duration": 7,
    "start_time": "2021-08-29T19:14:39.256Z"
   },
   {
    "duration": 51,
    "start_time": "2021-08-29T19:14:39.266Z"
   },
   {
    "duration": 27,
    "start_time": "2021-08-29T19:14:39.320Z"
   },
   {
    "duration": 5,
    "start_time": "2021-08-29T19:14:39.350Z"
   },
   {
    "duration": 838,
    "start_time": "2021-08-29T19:14:39.358Z"
   },
   {
    "duration": 50,
    "start_time": "2021-08-29T19:14:40.209Z"
   },
   {
    "duration": 7,
    "start_time": "2021-08-29T19:14:40.264Z"
   },
   {
    "duration": 47,
    "start_time": "2021-08-29T19:14:40.275Z"
   },
   {
    "duration": 27,
    "start_time": "2021-08-29T19:14:40.326Z"
   },
   {
    "duration": 6,
    "start_time": "2021-08-29T19:14:40.357Z"
   },
   {
    "duration": 1953,
    "start_time": "2021-08-29T19:14:40.367Z"
   },
   {
    "duration": 53,
    "start_time": "2021-08-29T19:14:42.323Z"
   },
   {
    "duration": 66,
    "start_time": "2021-08-29T19:14:42.379Z"
   },
   {
    "duration": 12,
    "start_time": "2021-08-29T19:14:42.448Z"
   },
   {
    "duration": 9,
    "start_time": "2021-08-29T19:14:42.462Z"
   },
   {
    "duration": 2971,
    "start_time": "2021-08-29T19:14:42.474Z"
   },
   {
    "duration": 11,
    "start_time": "2021-08-29T19:14:45.448Z"
   },
   {
    "duration": 15,
    "start_time": "2021-08-29T19:14:45.462Z"
   },
   {
    "duration": 44,
    "start_time": "2021-08-29T19:14:45.479Z"
   },
   {
    "duration": 11,
    "start_time": "2021-08-29T19:14:45.525Z"
   },
   {
    "duration": 6,
    "start_time": "2021-08-29T19:14:45.538Z"
   },
   {
    "duration": 7,
    "start_time": "2021-08-29T19:14:45.546Z"
   },
   {
    "duration": 14,
    "start_time": "2021-08-29T19:14:45.555Z"
   },
   {
    "duration": 53,
    "start_time": "2021-08-29T19:14:45.572Z"
   },
   {
    "duration": 4,
    "start_time": "2021-08-29T19:14:45.627Z"
   },
   {
    "duration": 8,
    "start_time": "2021-08-29T19:14:45.634Z"
   }
  ],
  "kernelspec": {
   "display_name": "Python 3 (ipykernel)",
   "language": "python",
   "name": "python3"
  },
  "language_info": {
   "codemirror_mode": {
    "name": "ipython",
    "version": 3
   },
   "file_extension": ".py",
   "mimetype": "text/x-python",
   "name": "python",
   "nbconvert_exporter": "python",
   "pygments_lexer": "ipython3",
   "version": "3.8.12"
  },
  "toc": {
   "base_numbering": 1,
   "nav_menu": {},
   "number_sections": true,
   "sideBar": true,
   "skip_h1_title": true,
   "title_cell": "Table of Contents",
   "title_sidebar": "Contents",
   "toc_cell": false,
   "toc_position": {},
   "toc_section_display": true,
   "toc_window_display": false
  }
 },
 "nbformat": 4,
 "nbformat_minor": 4
}