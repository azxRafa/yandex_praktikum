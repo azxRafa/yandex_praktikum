{
 "cells": [
  {
   "cell_type": "markdown",
   "metadata": {},
   "source": [
    "# Телеком — описание задачи\n",
    "\n",
    "Оператор связи «ТелеДом» хочет научиться прогнозировать отток клиентов. Если выяснится, что пользователь планирует уйти, ему будут **предложены** промокоды и специальные условия. Команда оператора собрала персональные данные о некоторых клиентах, информацию об их тарифах и договорах.\n",
    "\n",
    "### Описание услуг\n",
    "\n",
    "Оператор предоставляет два основных типа услуг:\n",
    "\n",
    "1. Стационарную телефонную связь. Возможно подключение телефонного аппарата к нескольким линиям одновременно.\n",
    "2. Интернет. Подключение может быть двух типов: через телефонную линию DSL (от англ. *digital subscriber line —* «цифровая абонентская линия») или оптоволоконный кабель (*Fiber optic)*.\n",
    "\n",
    "Также доступны такие услуги:\n",
    "\n",
    "- Интернет-безопасность: антивирус (*DeviceProtection*) и блокировка небезопасных сайтов (*OnlineSecurity*);\n",
    "- Выделенная линия технической поддержки (*TechSupport*);\n",
    "- Облачное хранилище файлов для резервного копирования данных (*OnlineBackup*);\n",
    "- Стриминговое телевидение (*StreamingTV*) и каталог фильмов (*StreamingMovies*).\n",
    "\n",
    "За услуги клиенты могут платить каждый месяц или заключить договор на 1–2 года. Доступны различные способы расчёта и возможность получения электронного чека."
   ]
  },
  {
   "cell_type": "markdown",
   "metadata": {
    "pycharm": {
     "name": "#%% md\n"
    }
   },
   "source": [
    "### **Шаг 1. Загрузите данные и проведите исследовательский анализ данных**"
   ]
  },
  {
   "cell_type": "code",
   "execution_count": 1,
   "metadata": {},
   "outputs": [
    {
     "name": "stdout",
     "output_type": "stream",
     "text": [
      "Requirement already satisfied: skorch in /opt/conda/lib/python3.9/site-packages (0.12.0)\n",
      "Requirement already satisfied: tqdm>=4.14.0 in /opt/conda/lib/python3.9/site-packages (from skorch) (4.61.2)\n",
      "Requirement already satisfied: numpy>=1.13.3 in /opt/conda/lib/python3.9/site-packages (from skorch) (1.21.1)\n",
      "Requirement already satisfied: scipy>=1.1.0 in /opt/conda/lib/python3.9/site-packages (from skorch) (1.9.1)\n",
      "Requirement already satisfied: scikit-learn>=0.22.0 in /opt/conda/lib/python3.9/site-packages (from skorch) (1.1.2)\n",
      "Requirement already satisfied: tabulate>=0.7.7 in /opt/conda/lib/python3.9/site-packages (from skorch) (0.9.0)\n",
      "Requirement already satisfied: joblib>=1.0.0 in /opt/conda/lib/python3.9/site-packages (from scikit-learn>=0.22.0->skorch) (1.1.0)\n",
      "Requirement already satisfied: threadpoolctl>=2.0.0 in /opt/conda/lib/python3.9/site-packages (from scikit-learn>=0.22.0->skorch) (3.1.0)\n"
     ]
    }
   ],
   "source": [
    "!pip install skorch"
   ]
  },
  {
   "cell_type": "code",
   "execution_count": 2,
   "metadata": {},
   "outputs": [],
   "source": [
    "import pandas as pd\n",
    "from sqlalchemy import create_engine\n",
    "import matplotlib.pyplot as plt\n",
    "from sklearn.preprocessing import LabelEncoder\n",
    "from sklearn.metrics import confusion_matrix, accuracy_score\n",
    "from sklearn.pipeline import Pipeline\n",
    "from sklearn.model_selection import train_test_split, GridSearchCV\n",
    "from sklearn.ensemble import RandomForestClassifier\n",
    "from sklearn.preprocessing import StandardScaler\n",
    "from catboost import CatBoostClassifier\n",
    "from skorch import NeuralNetClassifier\n",
    "import torch.nn as nn\n",
    "import torch\n",
    "import torch.nn.functional as F\n",
    "import numpy as np\n",
    "import itertools\n",
    "from sklearn.metrics import PrecisionRecallDisplay\n",
    "from collections import defaultdict\n",
    "import datetime\n",
    "from sklearn.metrics import precision_recall_curve"
   ]
  },
  {
   "cell_type": "code",
   "execution_count": 3,
   "metadata": {
    "pycharm": {
     "name": "#%%\n"
    }
   },
   "outputs": [],
   "source": [
    "db_config = {\n",
    "    'user': 'user', # имя пользователя,\n",
    "    'pwd': 'pwd', # пароль,\n",
    "    'host': 'host',\n",
    "    'port': 'port', # порт подключения,\n",
    "    'db': 'db' # название базы данных,\n",
    "}\n",
    "\n",
    "connection_string = 'postgresql://{}:{}@{}:{}/{}'.format(\n",
    "    db_config['user'],\n",
    "    db_config['pwd'],\n",
    "    db_config['host'],\n",
    "    db_config['port'],\n",
    "    db_config['db'],\n",
    ")"
   ]
  },
  {
   "cell_type": "markdown",
   "metadata": {},
   "source": [
    "### Описание данных\n",
    "\n",
    "Данные хранятся в таблицах в базе данных PostgreSQL:\n",
    "\n",
    "- `contract` — информация о договоре,\n",
    "- `personal` — персональные данные клиента,\n",
    "- `internet` — информация об интернет-услугах,\n",
    "- `phone` — информация об услугах телефонии."
   ]
  },
  {
   "cell_type": "code",
   "execution_count": 4,
   "metadata": {
    "pycharm": {
     "name": "#%%\n"
    }
   },
   "outputs": [],
   "source": [
    "engine = create_engine(connection_string)"
   ]
  },
  {
   "cell_type": "code",
   "execution_count": 5,
   "metadata": {
    "pycharm": {
     "name": "#%%\n"
    }
   },
   "outputs": [],
   "source": [
    "query = '''\n",
    "SELECT *\n",
    "FROM telecom.contract\n",
    "'''\n",
    "\n",
    "contract  = pd.read_sql_query(query, con=engine)"
   ]
  },
  {
   "cell_type": "code",
   "execution_count": 6,
   "metadata": {
    "pycharm": {
     "name": "#%%\n"
    }
   },
   "outputs": [
    {
     "data": {
      "text/html": [
       "<div>\n",
       "<style scoped>\n",
       "    .dataframe tbody tr th:only-of-type {\n",
       "        vertical-align: middle;\n",
       "    }\n",
       "\n",
       "    .dataframe tbody tr th {\n",
       "        vertical-align: top;\n",
       "    }\n",
       "\n",
       "    .dataframe thead th {\n",
       "        text-align: right;\n",
       "    }\n",
       "</style>\n",
       "<table border=\"1\" class=\"dataframe\">\n",
       "  <thead>\n",
       "    <tr style=\"text-align: right;\">\n",
       "      <th></th>\n",
       "      <th>customerID</th>\n",
       "      <th>BeginDate</th>\n",
       "      <th>EndDate</th>\n",
       "      <th>Type</th>\n",
       "      <th>PaperlessBilling</th>\n",
       "      <th>PaymentMethod</th>\n",
       "      <th>MonthlyCharges</th>\n",
       "      <th>TotalCharges</th>\n",
       "    </tr>\n",
       "  </thead>\n",
       "  <tbody>\n",
       "    <tr>\n",
       "      <th>0</th>\n",
       "      <td>4472-LVYGI</td>\n",
       "      <td>2020-02-01</td>\n",
       "      <td>None</td>\n",
       "      <td>Two year</td>\n",
       "      <td>Yes</td>\n",
       "      <td>Bank transfer (automatic)</td>\n",
       "      <td>52.55</td>\n",
       "      <td>NaN</td>\n",
       "    </tr>\n",
       "    <tr>\n",
       "      <th>1</th>\n",
       "      <td>3115-CZMZD</td>\n",
       "      <td>2020-02-01</td>\n",
       "      <td>None</td>\n",
       "      <td>Two year</td>\n",
       "      <td>No</td>\n",
       "      <td>Mailed check</td>\n",
       "      <td>20.25</td>\n",
       "      <td>NaN</td>\n",
       "    </tr>\n",
       "    <tr>\n",
       "      <th>2</th>\n",
       "      <td>3668-QPYBK</td>\n",
       "      <td>2018-08-09</td>\n",
       "      <td>2019-12-01</td>\n",
       "      <td>Month-to-month</td>\n",
       "      <td>Yes</td>\n",
       "      <td>Mailed check</td>\n",
       "      <td>53.85</td>\n",
       "      <td>108.15</td>\n",
       "    </tr>\n",
       "    <tr>\n",
       "      <th>3</th>\n",
       "      <td>5709-LVOEQ</td>\n",
       "      <td>2020-02-01</td>\n",
       "      <td>None</td>\n",
       "      <td>Two year</td>\n",
       "      <td>No</td>\n",
       "      <td>Mailed check</td>\n",
       "      <td>80.85</td>\n",
       "      <td>NaN</td>\n",
       "    </tr>\n",
       "    <tr>\n",
       "      <th>4</th>\n",
       "      <td>9237-HQITU</td>\n",
       "      <td>2019-01-26</td>\n",
       "      <td>2019-11-01</td>\n",
       "      <td>Month-to-month</td>\n",
       "      <td>Yes</td>\n",
       "      <td>Electronic check</td>\n",
       "      <td>70.70</td>\n",
       "      <td>151.65</td>\n",
       "    </tr>\n",
       "    <tr>\n",
       "      <th>...</th>\n",
       "      <td>...</td>\n",
       "      <td>...</td>\n",
       "      <td>...</td>\n",
       "      <td>...</td>\n",
       "      <td>...</td>\n",
       "      <td>...</td>\n",
       "      <td>...</td>\n",
       "      <td>...</td>\n",
       "    </tr>\n",
       "    <tr>\n",
       "      <th>7038</th>\n",
       "      <td>2569-WGERO</td>\n",
       "      <td>2019-01-21</td>\n",
       "      <td>None</td>\n",
       "      <td>Two year</td>\n",
       "      <td>Yes</td>\n",
       "      <td>Bank transfer (automatic)</td>\n",
       "      <td>21.15</td>\n",
       "      <td>1419.40</td>\n",
       "    </tr>\n",
       "    <tr>\n",
       "      <th>7039</th>\n",
       "      <td>6840-RESVB</td>\n",
       "      <td>2019-02-26</td>\n",
       "      <td>None</td>\n",
       "      <td>One year</td>\n",
       "      <td>Yes</td>\n",
       "      <td>Mailed check</td>\n",
       "      <td>84.80</td>\n",
       "      <td>1990.50</td>\n",
       "    </tr>\n",
       "    <tr>\n",
       "      <th>7040</th>\n",
       "      <td>2234-XADUH</td>\n",
       "      <td>2019-09-02</td>\n",
       "      <td>None</td>\n",
       "      <td>One year</td>\n",
       "      <td>Yes</td>\n",
       "      <td>Credit card (automatic)</td>\n",
       "      <td>103.20</td>\n",
       "      <td>7362.90</td>\n",
       "    </tr>\n",
       "    <tr>\n",
       "      <th>7041</th>\n",
       "      <td>4801-JZAZL</td>\n",
       "      <td>2019-06-26</td>\n",
       "      <td>None</td>\n",
       "      <td>Month-to-month</td>\n",
       "      <td>Yes</td>\n",
       "      <td>Electronic check</td>\n",
       "      <td>29.60</td>\n",
       "      <td>346.45</td>\n",
       "    </tr>\n",
       "    <tr>\n",
       "      <th>7042</th>\n",
       "      <td>3186-AJIEK</td>\n",
       "      <td>2019-04-18</td>\n",
       "      <td>None</td>\n",
       "      <td>Two year</td>\n",
       "      <td>Yes</td>\n",
       "      <td>Bank transfer (automatic)</td>\n",
       "      <td>105.65</td>\n",
       "      <td>6844.50</td>\n",
       "    </tr>\n",
       "  </tbody>\n",
       "</table>\n",
       "<p>7043 rows × 8 columns</p>\n",
       "</div>"
      ],
      "text/plain": [
       "      customerID   BeginDate     EndDate            Type PaperlessBilling  \\\n",
       "0     4472-LVYGI  2020-02-01        None        Two year              Yes   \n",
       "1     3115-CZMZD  2020-02-01        None        Two year               No   \n",
       "2     3668-QPYBK  2018-08-09  2019-12-01  Month-to-month              Yes   \n",
       "3     5709-LVOEQ  2020-02-01        None        Two year               No   \n",
       "4     9237-HQITU  2019-01-26  2019-11-01  Month-to-month              Yes   \n",
       "...          ...         ...         ...             ...              ...   \n",
       "7038  2569-WGERO  2019-01-21        None        Two year              Yes   \n",
       "7039  6840-RESVB  2019-02-26        None        One year              Yes   \n",
       "7040  2234-XADUH  2019-09-02        None        One year              Yes   \n",
       "7041  4801-JZAZL  2019-06-26        None  Month-to-month              Yes   \n",
       "7042  3186-AJIEK  2019-04-18        None        Two year              Yes   \n",
       "\n",
       "                  PaymentMethod  MonthlyCharges  TotalCharges  \n",
       "0     Bank transfer (automatic)           52.55           NaN  \n",
       "1                  Mailed check           20.25           NaN  \n",
       "2                  Mailed check           53.85        108.15  \n",
       "3                  Mailed check           80.85           NaN  \n",
       "4              Electronic check           70.70        151.65  \n",
       "...                         ...             ...           ...  \n",
       "7038  Bank transfer (automatic)           21.15       1419.40  \n",
       "7039               Mailed check           84.80       1990.50  \n",
       "7040    Credit card (automatic)          103.20       7362.90  \n",
       "7041           Electronic check           29.60        346.45  \n",
       "7042  Bank transfer (automatic)          105.65       6844.50  \n",
       "\n",
       "[7043 rows x 8 columns]"
      ]
     },
     "execution_count": 6,
     "metadata": {},
     "output_type": "execute_result"
    }
   ],
   "source": [
    "contract"
   ]
  },
  {
   "cell_type": "markdown",
   "metadata": {},
   "source": [
    "### **Таблица telecom.contract**\n",
    "\n",
    "- `customerID` — ID пользователя,\n",
    "- `BeginDate` — дата начала действия,\n",
    "- `EndDate` — дата окончания действия,\n",
    "- `Type` — тип оплаты (раз в год или помесячно),\n",
    "- `PaperlessBilling` — безбумажный расчётный лист,\n",
    "- `PaymentMethod` — тип платежа,\n",
    "- `MonthlyCharges` — расход за месяц,\n",
    "- `TotalCharges` — общие расходы."
   ]
  },
  {
   "cell_type": "code",
   "execution_count": 7,
   "metadata": {
    "pycharm": {
     "name": "#%%\n"
    }
   },
   "outputs": [],
   "source": [
    "query = '''\n",
    "SELECT *\n",
    "FROM telecom.personal\n",
    "'''\n",
    "\n",
    "personal  = pd.read_sql_query(query, con=engine)"
   ]
  },
  {
   "cell_type": "code",
   "execution_count": 8,
   "metadata": {
    "pycharm": {
     "name": "#%%\n"
    }
   },
   "outputs": [
    {
     "data": {
      "text/html": [
       "<div>\n",
       "<style scoped>\n",
       "    .dataframe tbody tr th:only-of-type {\n",
       "        vertical-align: middle;\n",
       "    }\n",
       "\n",
       "    .dataframe tbody tr th {\n",
       "        vertical-align: top;\n",
       "    }\n",
       "\n",
       "    .dataframe thead th {\n",
       "        text-align: right;\n",
       "    }\n",
       "</style>\n",
       "<table border=\"1\" class=\"dataframe\">\n",
       "  <thead>\n",
       "    <tr style=\"text-align: right;\">\n",
       "      <th></th>\n",
       "      <th>customerID</th>\n",
       "      <th>gender</th>\n",
       "      <th>SeniorCitizen</th>\n",
       "      <th>Partner</th>\n",
       "      <th>Dependents</th>\n",
       "    </tr>\n",
       "  </thead>\n",
       "  <tbody>\n",
       "    <tr>\n",
       "      <th>0</th>\n",
       "      <td>7590-VHVEG</td>\n",
       "      <td>Female</td>\n",
       "      <td>0</td>\n",
       "      <td>Yes</td>\n",
       "      <td>No</td>\n",
       "    </tr>\n",
       "    <tr>\n",
       "      <th>1</th>\n",
       "      <td>5575-GNVDE</td>\n",
       "      <td>Male</td>\n",
       "      <td>0</td>\n",
       "      <td>No</td>\n",
       "      <td>No</td>\n",
       "    </tr>\n",
       "    <tr>\n",
       "      <th>2</th>\n",
       "      <td>3668-QPYBK</td>\n",
       "      <td>Male</td>\n",
       "      <td>0</td>\n",
       "      <td>No</td>\n",
       "      <td>No</td>\n",
       "    </tr>\n",
       "    <tr>\n",
       "      <th>3</th>\n",
       "      <td>7795-CFOCW</td>\n",
       "      <td>Male</td>\n",
       "      <td>0</td>\n",
       "      <td>No</td>\n",
       "      <td>No</td>\n",
       "    </tr>\n",
       "    <tr>\n",
       "      <th>4</th>\n",
       "      <td>9237-HQITU</td>\n",
       "      <td>Female</td>\n",
       "      <td>0</td>\n",
       "      <td>No</td>\n",
       "      <td>No</td>\n",
       "    </tr>\n",
       "    <tr>\n",
       "      <th>...</th>\n",
       "      <td>...</td>\n",
       "      <td>...</td>\n",
       "      <td>...</td>\n",
       "      <td>...</td>\n",
       "      <td>...</td>\n",
       "    </tr>\n",
       "    <tr>\n",
       "      <th>7038</th>\n",
       "      <td>6840-RESVB</td>\n",
       "      <td>Male</td>\n",
       "      <td>0</td>\n",
       "      <td>Yes</td>\n",
       "      <td>Yes</td>\n",
       "    </tr>\n",
       "    <tr>\n",
       "      <th>7039</th>\n",
       "      <td>2234-XADUH</td>\n",
       "      <td>Female</td>\n",
       "      <td>0</td>\n",
       "      <td>Yes</td>\n",
       "      <td>Yes</td>\n",
       "    </tr>\n",
       "    <tr>\n",
       "      <th>7040</th>\n",
       "      <td>4801-JZAZL</td>\n",
       "      <td>Female</td>\n",
       "      <td>0</td>\n",
       "      <td>Yes</td>\n",
       "      <td>Yes</td>\n",
       "    </tr>\n",
       "    <tr>\n",
       "      <th>7041</th>\n",
       "      <td>8361-LTMKD</td>\n",
       "      <td>Male</td>\n",
       "      <td>1</td>\n",
       "      <td>Yes</td>\n",
       "      <td>No</td>\n",
       "    </tr>\n",
       "    <tr>\n",
       "      <th>7042</th>\n",
       "      <td>3186-AJIEK</td>\n",
       "      <td>Male</td>\n",
       "      <td>0</td>\n",
       "      <td>No</td>\n",
       "      <td>No</td>\n",
       "    </tr>\n",
       "  </tbody>\n",
       "</table>\n",
       "<p>7043 rows × 5 columns</p>\n",
       "</div>"
      ],
      "text/plain": [
       "      customerID  gender  SeniorCitizen Partner Dependents\n",
       "0     7590-VHVEG  Female              0     Yes         No\n",
       "1     5575-GNVDE    Male              0      No         No\n",
       "2     3668-QPYBK    Male              0      No         No\n",
       "3     7795-CFOCW    Male              0      No         No\n",
       "4     9237-HQITU  Female              0      No         No\n",
       "...          ...     ...            ...     ...        ...\n",
       "7038  6840-RESVB    Male              0     Yes        Yes\n",
       "7039  2234-XADUH  Female              0     Yes        Yes\n",
       "7040  4801-JZAZL  Female              0     Yes        Yes\n",
       "7041  8361-LTMKD    Male              1     Yes         No\n",
       "7042  3186-AJIEK    Male              0      No         No\n",
       "\n",
       "[7043 rows x 5 columns]"
      ]
     },
     "execution_count": 8,
     "metadata": {},
     "output_type": "execute_result"
    }
   ],
   "source": [
    "personal"
   ]
  },
  {
   "cell_type": "markdown",
   "metadata": {},
   "source": [
    "### **Таблица personal**\n",
    "\n",
    "- `customerID` — ID пользователя,\n",
    "- `gender` — пол,\n",
    "- `SeniorCitizen` — является ли абонент пенсионером,\n",
    "- `Partner` — есть ли у абонента супруг/супруга,\n",
    "- `Dependents` — есть ли у абонента дети."
   ]
  },
  {
   "cell_type": "code",
   "execution_count": 9,
   "metadata": {
    "pycharm": {
     "name": "#%%\n"
    }
   },
   "outputs": [],
   "source": [
    "query = '''\n",
    "SELECT *\n",
    "FROM telecom.internet\n",
    "'''\n",
    "\n",
    "internet  = pd.read_sql_query(query, con=engine)"
   ]
  },
  {
   "cell_type": "code",
   "execution_count": 10,
   "metadata": {
    "pycharm": {
     "name": "#%%\n"
    }
   },
   "outputs": [
    {
     "data": {
      "text/html": [
       "<div>\n",
       "<style scoped>\n",
       "    .dataframe tbody tr th:only-of-type {\n",
       "        vertical-align: middle;\n",
       "    }\n",
       "\n",
       "    .dataframe tbody tr th {\n",
       "        vertical-align: top;\n",
       "    }\n",
       "\n",
       "    .dataframe thead th {\n",
       "        text-align: right;\n",
       "    }\n",
       "</style>\n",
       "<table border=\"1\" class=\"dataframe\">\n",
       "  <thead>\n",
       "    <tr style=\"text-align: right;\">\n",
       "      <th></th>\n",
       "      <th>customerID</th>\n",
       "      <th>InternetService</th>\n",
       "      <th>OnlineSecurity</th>\n",
       "      <th>OnlineBackup</th>\n",
       "      <th>DeviceProtection</th>\n",
       "      <th>TechSupport</th>\n",
       "      <th>StreamingTV</th>\n",
       "      <th>StreamingMovies</th>\n",
       "    </tr>\n",
       "  </thead>\n",
       "  <tbody>\n",
       "    <tr>\n",
       "      <th>1</th>\n",
       "      <td>7590-VHVEG</td>\n",
       "      <td>DSL</td>\n",
       "      <td>No</td>\n",
       "      <td>Yes</td>\n",
       "      <td>No</td>\n",
       "      <td>No</td>\n",
       "      <td>No</td>\n",
       "      <td>No</td>\n",
       "    </tr>\n",
       "    <tr>\n",
       "      <th>2</th>\n",
       "      <td>5575-GNVDE</td>\n",
       "      <td>DSL</td>\n",
       "      <td>Yes</td>\n",
       "      <td>No</td>\n",
       "      <td>Yes</td>\n",
       "      <td>No</td>\n",
       "      <td>No</td>\n",
       "      <td>No</td>\n",
       "    </tr>\n",
       "    <tr>\n",
       "      <th>3</th>\n",
       "      <td>3668-QPYBK</td>\n",
       "      <td>DSL</td>\n",
       "      <td>Yes</td>\n",
       "      <td>Yes</td>\n",
       "      <td>No</td>\n",
       "      <td>No</td>\n",
       "      <td>No</td>\n",
       "      <td>No</td>\n",
       "    </tr>\n",
       "    <tr>\n",
       "      <th>4</th>\n",
       "      <td>7795-CFOCW</td>\n",
       "      <td>DSL</td>\n",
       "      <td>Yes</td>\n",
       "      <td>No</td>\n",
       "      <td>Yes</td>\n",
       "      <td>Yes</td>\n",
       "      <td>No</td>\n",
       "      <td>No</td>\n",
       "    </tr>\n",
       "    <tr>\n",
       "      <th>5</th>\n",
       "      <td>9237-HQITU</td>\n",
       "      <td>Fiber optic</td>\n",
       "      <td>No</td>\n",
       "      <td>No</td>\n",
       "      <td>No</td>\n",
       "      <td>No</td>\n",
       "      <td>No</td>\n",
       "      <td>No</td>\n",
       "    </tr>\n",
       "    <tr>\n",
       "      <th>...</th>\n",
       "      <td>...</td>\n",
       "      <td>...</td>\n",
       "      <td>...</td>\n",
       "      <td>...</td>\n",
       "      <td>...</td>\n",
       "      <td>...</td>\n",
       "      <td>...</td>\n",
       "      <td>...</td>\n",
       "    </tr>\n",
       "    <tr>\n",
       "      <th>5513</th>\n",
       "      <td>6840-RESVB</td>\n",
       "      <td>DSL</td>\n",
       "      <td>Yes</td>\n",
       "      <td>No</td>\n",
       "      <td>Yes</td>\n",
       "      <td>Yes</td>\n",
       "      <td>Yes</td>\n",
       "      <td>Yes</td>\n",
       "    </tr>\n",
       "    <tr>\n",
       "      <th>5514</th>\n",
       "      <td>2234-XADUH</td>\n",
       "      <td>Fiber optic</td>\n",
       "      <td>No</td>\n",
       "      <td>Yes</td>\n",
       "      <td>Yes</td>\n",
       "      <td>No</td>\n",
       "      <td>Yes</td>\n",
       "      <td>Yes</td>\n",
       "    </tr>\n",
       "    <tr>\n",
       "      <th>5515</th>\n",
       "      <td>4801-JZAZL</td>\n",
       "      <td>DSL</td>\n",
       "      <td>Yes</td>\n",
       "      <td>No</td>\n",
       "      <td>No</td>\n",
       "      <td>No</td>\n",
       "      <td>No</td>\n",
       "      <td>No</td>\n",
       "    </tr>\n",
       "    <tr>\n",
       "      <th>5516</th>\n",
       "      <td>8361-LTMKD</td>\n",
       "      <td>Fiber optic</td>\n",
       "      <td>No</td>\n",
       "      <td>No</td>\n",
       "      <td>No</td>\n",
       "      <td>No</td>\n",
       "      <td>No</td>\n",
       "      <td>No</td>\n",
       "    </tr>\n",
       "    <tr>\n",
       "      <th>5517</th>\n",
       "      <td>3186-AJIEK</td>\n",
       "      <td>Fiber optic</td>\n",
       "      <td>Yes</td>\n",
       "      <td>No</td>\n",
       "      <td>Yes</td>\n",
       "      <td>Yes</td>\n",
       "      <td>Yes</td>\n",
       "      <td>Yes</td>\n",
       "    </tr>\n",
       "  </tbody>\n",
       "</table>\n",
       "<p>5517 rows × 8 columns</p>\n",
       "</div>"
      ],
      "text/plain": [
       "0     customerID InternetService OnlineSecurity OnlineBackup DeviceProtection  \\\n",
       "1     7590-VHVEG             DSL             No          Yes               No   \n",
       "2     5575-GNVDE             DSL            Yes           No              Yes   \n",
       "3     3668-QPYBK             DSL            Yes          Yes               No   \n",
       "4     7795-CFOCW             DSL            Yes           No              Yes   \n",
       "5     9237-HQITU     Fiber optic             No           No               No   \n",
       "...          ...             ...            ...          ...              ...   \n",
       "5513  6840-RESVB             DSL            Yes           No              Yes   \n",
       "5514  2234-XADUH     Fiber optic             No          Yes              Yes   \n",
       "5515  4801-JZAZL             DSL            Yes           No               No   \n",
       "5516  8361-LTMKD     Fiber optic             No           No               No   \n",
       "5517  3186-AJIEK     Fiber optic            Yes           No              Yes   \n",
       "\n",
       "0    TechSupport StreamingTV StreamingMovies  \n",
       "1             No          No              No  \n",
       "2             No          No              No  \n",
       "3             No          No              No  \n",
       "4            Yes          No              No  \n",
       "5             No          No              No  \n",
       "...          ...         ...             ...  \n",
       "5513         Yes         Yes             Yes  \n",
       "5514          No         Yes             Yes  \n",
       "5515          No          No              No  \n",
       "5516          No          No              No  \n",
       "5517         Yes         Yes             Yes  \n",
       "\n",
       "[5517 rows x 8 columns]"
      ]
     },
     "execution_count": 10,
     "metadata": {},
     "output_type": "execute_result"
    }
   ],
   "source": [
    "internet.columns = internet.iloc[0]\n",
    "internet = internet.drop(0)\n",
    "internet"
   ]
  },
  {
   "cell_type": "markdown",
   "metadata": {},
   "source": [
    "### **Таблица telecom.internet**\n",
    "\n",
    "- `customerID` — ID пользователя,\n",
    "- `InternetService` — тип подключения,\n",
    "- `OnlineSecurity` — блокировка небезопасных сайтов,\n",
    "- `OnlineBackup` — облачное хранилище файлов для резервного копирования данных,\n",
    "- `DeviceProtection` — антивирус,\n",
    "- `TechSupport` — выделенная линия технической поддержки,\n",
    "- `StreamingTV` — стриминговое телевидение,\n",
    "- `StreamingMovies` — каталог фильмов."
   ]
  },
  {
   "cell_type": "code",
   "execution_count": 11,
   "metadata": {
    "pycharm": {
     "name": "#%%\n"
    }
   },
   "outputs": [],
   "source": [
    "query = '''\n",
    "SELECT *\n",
    "FROM telecom.phone\n",
    "'''\n",
    "\n",
    "phone  = pd.read_sql_query(query, con=engine)"
   ]
  },
  {
   "cell_type": "code",
   "execution_count": 12,
   "metadata": {
    "pycharm": {
     "name": "#%%\n"
    }
   },
   "outputs": [
    {
     "data": {
      "text/html": [
       "<div>\n",
       "<style scoped>\n",
       "    .dataframe tbody tr th:only-of-type {\n",
       "        vertical-align: middle;\n",
       "    }\n",
       "\n",
       "    .dataframe tbody tr th {\n",
       "        vertical-align: top;\n",
       "    }\n",
       "\n",
       "    .dataframe thead th {\n",
       "        text-align: right;\n",
       "    }\n",
       "</style>\n",
       "<table border=\"1\" class=\"dataframe\">\n",
       "  <thead>\n",
       "    <tr style=\"text-align: right;\">\n",
       "      <th></th>\n",
       "      <th>customerID</th>\n",
       "      <th>MultipleLines</th>\n",
       "    </tr>\n",
       "  </thead>\n",
       "  <tbody>\n",
       "    <tr>\n",
       "      <th>1</th>\n",
       "      <td>5575-GNVDE</td>\n",
       "      <td>No</td>\n",
       "    </tr>\n",
       "    <tr>\n",
       "      <th>2</th>\n",
       "      <td>3668-QPYBK</td>\n",
       "      <td>No</td>\n",
       "    </tr>\n",
       "    <tr>\n",
       "      <th>3</th>\n",
       "      <td>9237-HQITU</td>\n",
       "      <td>No</td>\n",
       "    </tr>\n",
       "    <tr>\n",
       "      <th>4</th>\n",
       "      <td>9305-CDSKC</td>\n",
       "      <td>Yes</td>\n",
       "    </tr>\n",
       "    <tr>\n",
       "      <th>5</th>\n",
       "      <td>1452-KIOVK</td>\n",
       "      <td>Yes</td>\n",
       "    </tr>\n",
       "    <tr>\n",
       "      <th>...</th>\n",
       "      <td>...</td>\n",
       "      <td>...</td>\n",
       "    </tr>\n",
       "    <tr>\n",
       "      <th>6357</th>\n",
       "      <td>2569-WGERO</td>\n",
       "      <td>No</td>\n",
       "    </tr>\n",
       "    <tr>\n",
       "      <th>6358</th>\n",
       "      <td>6840-RESVB</td>\n",
       "      <td>Yes</td>\n",
       "    </tr>\n",
       "    <tr>\n",
       "      <th>6359</th>\n",
       "      <td>2234-XADUH</td>\n",
       "      <td>Yes</td>\n",
       "    </tr>\n",
       "    <tr>\n",
       "      <th>6360</th>\n",
       "      <td>8361-LTMKD</td>\n",
       "      <td>Yes</td>\n",
       "    </tr>\n",
       "    <tr>\n",
       "      <th>6361</th>\n",
       "      <td>3186-AJIEK</td>\n",
       "      <td>No</td>\n",
       "    </tr>\n",
       "  </tbody>\n",
       "</table>\n",
       "<p>6361 rows × 2 columns</p>\n",
       "</div>"
      ],
      "text/plain": [
       "0     customerID MultipleLines\n",
       "1     5575-GNVDE            No\n",
       "2     3668-QPYBK            No\n",
       "3     9237-HQITU            No\n",
       "4     9305-CDSKC           Yes\n",
       "5     1452-KIOVK           Yes\n",
       "...          ...           ...\n",
       "6357  2569-WGERO            No\n",
       "6358  6840-RESVB           Yes\n",
       "6359  2234-XADUH           Yes\n",
       "6360  8361-LTMKD           Yes\n",
       "6361  3186-AJIEK            No\n",
       "\n",
       "[6361 rows x 2 columns]"
      ]
     },
     "execution_count": 12,
     "metadata": {},
     "output_type": "execute_result"
    }
   ],
   "source": [
    "phone.columns = phone.iloc[0]\n",
    "phone = phone.drop(0)\n",
    "phone"
   ]
  },
  {
   "cell_type": "markdown",
   "metadata": {},
   "source": [
    "### **Таблица telecom.phone**\n",
    "\n",
    "- `customerID` — ID пользователя,\n",
    "- `MultipleLines` — подключение телефонного аппарата к нескольким линиям одновременно."
   ]
  },
  {
   "cell_type": "markdown",
   "metadata": {
    "pycharm": {
     "name": "#%% md\n"
    }
   },
   "source": [
    "### **Шаг 2. Проведите исследовательский анализ данных**"
   ]
  },
  {
   "cell_type": "markdown",
   "metadata": {
    "pycharm": {
     "name": "#%% md\n"
    }
   },
   "source": [
    "#### Проанализируйте исходные данные на входе\n",
    "\n",
    "    - Все ли таблицы имеют набор данных.\n",
    "    - Соответствует ли количество таблиц условию задачи.\n",
    "    - Имеется ли общий ключ для связи таблиц."
   ]
  },
  {
   "cell_type": "code",
   "execution_count": 13,
   "metadata": {
    "pycharm": {
     "name": "#%%\n"
    }
   },
   "outputs": [
    {
     "name": "stdout",
     "output_type": "stream",
     "text": [
      "<class 'pandas.core.frame.DataFrame'>\n",
      "RangeIndex: 7043 entries, 0 to 7042\n",
      "Data columns (total 8 columns):\n",
      " #   Column            Non-Null Count  Dtype  \n",
      "---  ------            --------------  -----  \n",
      " 0   customerID        7043 non-null   object \n",
      " 1   BeginDate         7043 non-null   object \n",
      " 2   EndDate           1869 non-null   object \n",
      " 3   Type              7043 non-null   object \n",
      " 4   PaperlessBilling  7043 non-null   object \n",
      " 5   PaymentMethod     7043 non-null   object \n",
      " 6   MonthlyCharges    7043 non-null   float64\n",
      " 7   TotalCharges      7032 non-null   float64\n",
      "dtypes: float64(2), object(6)\n",
      "memory usage: 440.3+ KB\n"
     ]
    }
   ],
   "source": [
    "contract.info()"
   ]
  },
  {
   "cell_type": "code",
   "execution_count": 14,
   "metadata": {
    "pycharm": {
     "name": "#%%\n"
    }
   },
   "outputs": [
    {
     "name": "stdout",
     "output_type": "stream",
     "text": [
      "<class 'pandas.core.frame.DataFrame'>\n",
      "RangeIndex: 7043 entries, 0 to 7042\n",
      "Data columns (total 5 columns):\n",
      " #   Column         Non-Null Count  Dtype \n",
      "---  ------         --------------  ----- \n",
      " 0   customerID     7043 non-null   object\n",
      " 1   gender         7043 non-null   object\n",
      " 2   SeniorCitizen  7043 non-null   int64 \n",
      " 3   Partner        7043 non-null   object\n",
      " 4   Dependents     7043 non-null   object\n",
      "dtypes: int64(1), object(4)\n",
      "memory usage: 275.2+ KB\n"
     ]
    }
   ],
   "source": [
    "personal.info()"
   ]
  },
  {
   "cell_type": "code",
   "execution_count": 15,
   "metadata": {
    "pycharm": {
     "name": "#%%\n"
    }
   },
   "outputs": [
    {
     "name": "stdout",
     "output_type": "stream",
     "text": [
      "<class 'pandas.core.frame.DataFrame'>\n",
      "Int64Index: 5517 entries, 1 to 5517\n",
      "Data columns (total 8 columns):\n",
      " #   Column            Non-Null Count  Dtype \n",
      "---  ------            --------------  ----- \n",
      " 0   customerID        5517 non-null   object\n",
      " 1   InternetService   5517 non-null   object\n",
      " 2   OnlineSecurity    5517 non-null   object\n",
      " 3   OnlineBackup      5517 non-null   object\n",
      " 4   DeviceProtection  5517 non-null   object\n",
      " 5   TechSupport       5517 non-null   object\n",
      " 6   StreamingTV       5517 non-null   object\n",
      " 7   StreamingMovies   5517 non-null   object\n",
      "dtypes: object(8)\n",
      "memory usage: 387.9+ KB\n"
     ]
    }
   ],
   "source": [
    "internet.info()"
   ]
  },
  {
   "cell_type": "code",
   "execution_count": 16,
   "metadata": {
    "pycharm": {
     "name": "#%%\n"
    }
   },
   "outputs": [
    {
     "name": "stdout",
     "output_type": "stream",
     "text": [
      "<class 'pandas.core.frame.DataFrame'>\n",
      "Int64Index: 6361 entries, 1 to 6361\n",
      "Data columns (total 2 columns):\n",
      " #   Column         Non-Null Count  Dtype \n",
      "---  ------         --------------  ----- \n",
      " 0   customerID     6361 non-null   object\n",
      " 1   MultipleLines  6361 non-null   object\n",
      "dtypes: object(2)\n",
      "memory usage: 149.1+ KB\n"
     ]
    }
   ],
   "source": [
    "phone.info()"
   ]
  },
  {
   "cell_type": "markdown",
   "metadata": {
    "pycharm": {
     "name": "#%% md\n"
    }
   },
   "source": [
    "- Во всех таблицах есть данные,в `contract` есть пропуски.\n",
    "- Количество таблиц соответствует условию задачи.\n",
    "- Для связи таблиц есть общий ключ."
   ]
  },
  {
   "cell_type": "code",
   "execution_count": 17,
   "metadata": {
    "pycharm": {
     "name": "#%%\n"
    }
   },
   "outputs": [],
   "source": [
    "contract.TotalCharges = contract.TotalCharges.fillna(0)"
   ]
  },
  {
   "cell_type": "markdown",
   "metadata": {
    "pycharm": {
     "name": "#%% md\n"
    }
   },
   "source": [
    "#### Выделите целевую переменную на основе поля EndDate."
   ]
  },
  {
   "cell_type": "code",
   "execution_count": 18,
   "metadata": {
    "pycharm": {
     "name": "#%%\n"
    },
    "scrolled": true
   },
   "outputs": [
    {
     "data": {
      "text/html": [
       "<div>\n",
       "<style scoped>\n",
       "    .dataframe tbody tr th:only-of-type {\n",
       "        vertical-align: middle;\n",
       "    }\n",
       "\n",
       "    .dataframe tbody tr th {\n",
       "        vertical-align: top;\n",
       "    }\n",
       "\n",
       "    .dataframe thead th {\n",
       "        text-align: right;\n",
       "    }\n",
       "</style>\n",
       "<table border=\"1\" class=\"dataframe\">\n",
       "  <thead>\n",
       "    <tr style=\"text-align: right;\">\n",
       "      <th></th>\n",
       "      <th>customerID</th>\n",
       "      <th>BeginDate</th>\n",
       "      <th>EndDate</th>\n",
       "      <th>Type</th>\n",
       "      <th>PaperlessBilling</th>\n",
       "      <th>PaymentMethod</th>\n",
       "      <th>MonthlyCharges</th>\n",
       "      <th>TotalCharges</th>\n",
       "      <th>churn</th>\n",
       "    </tr>\n",
       "  </thead>\n",
       "  <tbody>\n",
       "    <tr>\n",
       "      <th>0</th>\n",
       "      <td>4472-LVYGI</td>\n",
       "      <td>2020-02-01</td>\n",
       "      <td>None</td>\n",
       "      <td>Two year</td>\n",
       "      <td>Yes</td>\n",
       "      <td>Bank transfer (automatic)</td>\n",
       "      <td>52.55</td>\n",
       "      <td>0.00</td>\n",
       "      <td>0</td>\n",
       "    </tr>\n",
       "    <tr>\n",
       "      <th>1</th>\n",
       "      <td>3115-CZMZD</td>\n",
       "      <td>2020-02-01</td>\n",
       "      <td>None</td>\n",
       "      <td>Two year</td>\n",
       "      <td>No</td>\n",
       "      <td>Mailed check</td>\n",
       "      <td>20.25</td>\n",
       "      <td>0.00</td>\n",
       "      <td>0</td>\n",
       "    </tr>\n",
       "    <tr>\n",
       "      <th>2</th>\n",
       "      <td>3668-QPYBK</td>\n",
       "      <td>2018-08-09</td>\n",
       "      <td>2019-12-01</td>\n",
       "      <td>Month-to-month</td>\n",
       "      <td>Yes</td>\n",
       "      <td>Mailed check</td>\n",
       "      <td>53.85</td>\n",
       "      <td>108.15</td>\n",
       "      <td>1</td>\n",
       "    </tr>\n",
       "    <tr>\n",
       "      <th>3</th>\n",
       "      <td>5709-LVOEQ</td>\n",
       "      <td>2020-02-01</td>\n",
       "      <td>None</td>\n",
       "      <td>Two year</td>\n",
       "      <td>No</td>\n",
       "      <td>Mailed check</td>\n",
       "      <td>80.85</td>\n",
       "      <td>0.00</td>\n",
       "      <td>0</td>\n",
       "    </tr>\n",
       "    <tr>\n",
       "      <th>4</th>\n",
       "      <td>9237-HQITU</td>\n",
       "      <td>2019-01-26</td>\n",
       "      <td>2019-11-01</td>\n",
       "      <td>Month-to-month</td>\n",
       "      <td>Yes</td>\n",
       "      <td>Electronic check</td>\n",
       "      <td>70.70</td>\n",
       "      <td>151.65</td>\n",
       "      <td>1</td>\n",
       "    </tr>\n",
       "  </tbody>\n",
       "</table>\n",
       "</div>"
      ],
      "text/plain": [
       "   customerID   BeginDate     EndDate            Type PaperlessBilling  \\\n",
       "0  4472-LVYGI  2020-02-01        None        Two year              Yes   \n",
       "1  3115-CZMZD  2020-02-01        None        Two year               No   \n",
       "2  3668-QPYBK  2018-08-09  2019-12-01  Month-to-month              Yes   \n",
       "3  5709-LVOEQ  2020-02-01        None        Two year               No   \n",
       "4  9237-HQITU  2019-01-26  2019-11-01  Month-to-month              Yes   \n",
       "\n",
       "               PaymentMethod  MonthlyCharges  TotalCharges  churn  \n",
       "0  Bank transfer (automatic)           52.55          0.00      0  \n",
       "1               Mailed check           20.25          0.00      0  \n",
       "2               Mailed check           53.85        108.15      1  \n",
       "3               Mailed check           80.85          0.00      0  \n",
       "4           Electronic check           70.70        151.65      1  "
      ]
     },
     "execution_count": 18,
     "metadata": {},
     "output_type": "execute_result"
    }
   ],
   "source": [
    "contract['churn'] = contract.EndDate.apply(lambda x: 1 if x else 0)\n",
    "contract.head()"
   ]
  },
  {
   "cell_type": "markdown",
   "metadata": {
    "pycharm": {
     "name": "#%% md\n"
    }
   },
   "source": [
    "#### Сравните распределения величин ежемесячных платежей (MonthlyCharges) всех действующих клиентов и тех, кто ушёл. Для каждой группы посчитайте статистические показатели: средние, минимальные и максимальные значения, медиану и величины 25%- и 75%-квартилей. Постройте гистограммы распределения."
   ]
  },
  {
   "cell_type": "code",
   "execution_count": 19,
   "metadata": {
    "pycharm": {
     "name": "#%%\n"
    }
   },
   "outputs": [
    {
     "data": {
      "text/html": [
       "<div>\n",
       "<style scoped>\n",
       "    .dataframe tbody tr th:only-of-type {\n",
       "        vertical-align: middle;\n",
       "    }\n",
       "\n",
       "    .dataframe tbody tr th {\n",
       "        vertical-align: top;\n",
       "    }\n",
       "\n",
       "    .dataframe thead th {\n",
       "        text-align: right;\n",
       "    }\n",
       "</style>\n",
       "<table border=\"1\" class=\"dataframe\">\n",
       "  <thead>\n",
       "    <tr style=\"text-align: right;\">\n",
       "      <th></th>\n",
       "      <th>all</th>\n",
       "      <th>churn</th>\n",
       "    </tr>\n",
       "  </thead>\n",
       "  <tbody>\n",
       "    <tr>\n",
       "      <th>count</th>\n",
       "      <td>7043.000000</td>\n",
       "      <td>1869.000000</td>\n",
       "    </tr>\n",
       "    <tr>\n",
       "      <th>mean</th>\n",
       "      <td>64.761692</td>\n",
       "      <td>74.441332</td>\n",
       "    </tr>\n",
       "    <tr>\n",
       "      <th>std</th>\n",
       "      <td>30.090047</td>\n",
       "      <td>24.666053</td>\n",
       "    </tr>\n",
       "    <tr>\n",
       "      <th>min</th>\n",
       "      <td>18.250000</td>\n",
       "      <td>18.850000</td>\n",
       "    </tr>\n",
       "    <tr>\n",
       "      <th>25%</th>\n",
       "      <td>35.500000</td>\n",
       "      <td>56.150000</td>\n",
       "    </tr>\n",
       "    <tr>\n",
       "      <th>50%</th>\n",
       "      <td>70.350000</td>\n",
       "      <td>79.650000</td>\n",
       "    </tr>\n",
       "    <tr>\n",
       "      <th>75%</th>\n",
       "      <td>89.850000</td>\n",
       "      <td>94.200000</td>\n",
       "    </tr>\n",
       "    <tr>\n",
       "      <th>max</th>\n",
       "      <td>118.750000</td>\n",
       "      <td>118.350000</td>\n",
       "    </tr>\n",
       "  </tbody>\n",
       "</table>\n",
       "</div>"
      ],
      "text/plain": [
       "               all        churn\n",
       "count  7043.000000  1869.000000\n",
       "mean     64.761692    74.441332\n",
       "std      30.090047    24.666053\n",
       "min      18.250000    18.850000\n",
       "25%      35.500000    56.150000\n",
       "50%      70.350000    79.650000\n",
       "75%      89.850000    94.200000\n",
       "max     118.750000   118.350000"
      ]
     },
     "execution_count": 19,
     "metadata": {},
     "output_type": "execute_result"
    }
   ],
   "source": [
    "df_des = pd.DataFrame(contract.MonthlyCharges.describe()).merge(contract[contract.churn == 1].MonthlyCharges.describe(), left_index=True, right_index=True)\n",
    "df_des.columns = ['all', 'churn']\n",
    "df_des"
   ]
  },
  {
   "cell_type": "markdown",
   "metadata": {
    "pycharm": {
     "name": "#%% md\n"
    }
   },
   "source": [
    "В среднем и по квартилям у тех кто уходит ежемесячный платеж больше."
   ]
  },
  {
   "cell_type": "code",
   "execution_count": 20,
   "metadata": {
    "pycharm": {
     "name": "#%%\n"
    }
   },
   "outputs": [
    {
     "data": {
      "image/png": "[encoded data removed]",
      "text/plain": [
       "<Figure size 864x648 with 1 Axes>"
      ]
     },
     "metadata": {
      "needs_background": "light"
     },
     "output_type": "display_data"
    }
   ],
   "source": [
    "contract.MonthlyCharges.hist(bins=12)\n",
    "contract[contract.churn == 1].MonthlyCharges.hist(bins=12,figsize=(12,9)).set_title('MonthlyCharges')\n",
    "plt.xlabel('ежемесячный платеж')\n",
    "plt.ylabel('Количество клиентов')\n",
    "plt.legend(['all', 'churn']);"
   ]
  },
  {
   "cell_type": "markdown",
   "metadata": {
    "pycharm": {
     "name": "#%% md\n"
    }
   },
   "source": [
    "В основном те кто уходит платят ежемесячный платеж от 70 до 110."
   ]
  },
  {
   "cell_type": "markdown",
   "metadata": {
    "pycharm": {
     "name": "#%% md\n"
    }
   },
   "source": [
    "#### Объединение всех датафреймов"
   ]
  },
  {
   "cell_type": "code",
   "execution_count": 21,
   "metadata": {
    "pycharm": {
     "name": "#%%\n"
    }
   },
   "outputs": [
    {
     "name": "stdout",
     "output_type": "stream",
     "text": [
      "<class 'pandas.core.frame.DataFrame'>\n",
      "Int64Index: 7043 entries, 0 to 7042\n",
      "Data columns (total 21 columns):\n",
      " #   Column            Non-Null Count  Dtype  \n",
      "---  ------            --------------  -----  \n",
      " 0   customerID        7043 non-null   object \n",
      " 1   BeginDate         7043 non-null   object \n",
      " 2   EndDate           1869 non-null   object \n",
      " 3   Type              7043 non-null   object \n",
      " 4   PaperlessBilling  7043 non-null   object \n",
      " 5   PaymentMethod     7043 non-null   object \n",
      " 6   MonthlyCharges    7043 non-null   float64\n",
      " 7   TotalCharges      7043 non-null   float64\n",
      " 8   churn             7043 non-null   int64  \n",
      " 9   gender            7043 non-null   object \n",
      " 10  SeniorCitizen     7043 non-null   int64  \n",
      " 11  Partner           7043 non-null   object \n",
      " 12  Dependents        7043 non-null   object \n",
      " 13  InternetService   5517 non-null   object \n",
      " 14  OnlineSecurity    5517 non-null   object \n",
      " 15  OnlineBackup      5517 non-null   object \n",
      " 16  DeviceProtection  5517 non-null   object \n",
      " 17  TechSupport       5517 non-null   object \n",
      " 18  StreamingTV       5517 non-null   object \n",
      " 19  StreamingMovies   5517 non-null   object \n",
      " 20  MultipleLines     6361 non-null   object \n",
      "dtypes: float64(2), int64(2), object(17)\n",
      "memory usage: 1.2+ MB\n"
     ]
    }
   ],
   "source": [
    "full_df = contract.merge(personal, on='customerID').merge(internet, on='customerID', how='left').merge(phone, on='customerID', how='left')\n",
    "full_df_copy = full_df.copy()\n",
    "full_df.info()"
   ]
  },
  {
   "cell_type": "markdown",
   "metadata": {
    "pycharm": {
     "name": "#%% md\n"
    }
   },
   "source": [
    "После объединения появились пропуски заменим их на `unknown`"
   ]
  },
  {
   "cell_type": "code",
   "execution_count": 22,
   "metadata": {},
   "outputs": [],
   "source": [
    "full_df.EndDate = full_df.EndDate.fillna(datetime.datetime.strptime('2020-02-01', \"%Y-%m-%d\").date())"
   ]
  },
  {
   "cell_type": "code",
   "execution_count": 23,
   "metadata": {
    "pycharm": {
     "name": "#%%\n"
    }
   },
   "outputs": [
    {
     "data": {
      "text/html": [
       "<div>\n",
       "<style scoped>\n",
       "    .dataframe tbody tr th:only-of-type {\n",
       "        vertical-align: middle;\n",
       "    }\n",
       "\n",
       "    .dataframe tbody tr th {\n",
       "        vertical-align: top;\n",
       "    }\n",
       "\n",
       "    .dataframe thead th {\n",
       "        text-align: right;\n",
       "    }\n",
       "</style>\n",
       "<table border=\"1\" class=\"dataframe\">\n",
       "  <thead>\n",
       "    <tr style=\"text-align: right;\">\n",
       "      <th></th>\n",
       "      <th>customerID</th>\n",
       "      <th>BeginDate</th>\n",
       "      <th>EndDate</th>\n",
       "      <th>Type</th>\n",
       "      <th>PaperlessBilling</th>\n",
       "      <th>PaymentMethod</th>\n",
       "      <th>MonthlyCharges</th>\n",
       "      <th>TotalCharges</th>\n",
       "      <th>churn</th>\n",
       "      <th>gender</th>\n",
       "      <th>...</th>\n",
       "      <th>Partner</th>\n",
       "      <th>Dependents</th>\n",
       "      <th>InternetService</th>\n",
       "      <th>OnlineSecurity</th>\n",
       "      <th>OnlineBackup</th>\n",
       "      <th>DeviceProtection</th>\n",
       "      <th>TechSupport</th>\n",
       "      <th>StreamingTV</th>\n",
       "      <th>StreamingMovies</th>\n",
       "      <th>MultipleLines</th>\n",
       "    </tr>\n",
       "  </thead>\n",
       "  <tbody>\n",
       "    <tr>\n",
       "      <th>0</th>\n",
       "      <td>4472-LVYGI</td>\n",
       "      <td>2020-02-01</td>\n",
       "      <td>2020-02-01</td>\n",
       "      <td>Two year</td>\n",
       "      <td>Yes</td>\n",
       "      <td>Bank transfer (automatic)</td>\n",
       "      <td>52.55</td>\n",
       "      <td>0.00</td>\n",
       "      <td>0</td>\n",
       "      <td>Female</td>\n",
       "      <td>...</td>\n",
       "      <td>Yes</td>\n",
       "      <td>Yes</td>\n",
       "      <td>DSL</td>\n",
       "      <td>Yes</td>\n",
       "      <td>No</td>\n",
       "      <td>Yes</td>\n",
       "      <td>Yes</td>\n",
       "      <td>Yes</td>\n",
       "      <td>No</td>\n",
       "      <td>unknown</td>\n",
       "    </tr>\n",
       "    <tr>\n",
       "      <th>1</th>\n",
       "      <td>3115-CZMZD</td>\n",
       "      <td>2020-02-01</td>\n",
       "      <td>2020-02-01</td>\n",
       "      <td>Two year</td>\n",
       "      <td>No</td>\n",
       "      <td>Mailed check</td>\n",
       "      <td>20.25</td>\n",
       "      <td>0.00</td>\n",
       "      <td>0</td>\n",
       "      <td>Male</td>\n",
       "      <td>...</td>\n",
       "      <td>No</td>\n",
       "      <td>Yes</td>\n",
       "      <td>unknown</td>\n",
       "      <td>unknown</td>\n",
       "      <td>unknown</td>\n",
       "      <td>unknown</td>\n",
       "      <td>unknown</td>\n",
       "      <td>unknown</td>\n",
       "      <td>unknown</td>\n",
       "      <td>No</td>\n",
       "    </tr>\n",
       "    <tr>\n",
       "      <th>2</th>\n",
       "      <td>3668-QPYBK</td>\n",
       "      <td>2018-08-09</td>\n",
       "      <td>2019-12-01</td>\n",
       "      <td>Month-to-month</td>\n",
       "      <td>Yes</td>\n",
       "      <td>Mailed check</td>\n",
       "      <td>53.85</td>\n",
       "      <td>108.15</td>\n",
       "      <td>1</td>\n",
       "      <td>Male</td>\n",
       "      <td>...</td>\n",
       "      <td>No</td>\n",
       "      <td>No</td>\n",
       "      <td>DSL</td>\n",
       "      <td>Yes</td>\n",
       "      <td>Yes</td>\n",
       "      <td>No</td>\n",
       "      <td>No</td>\n",
       "      <td>No</td>\n",
       "      <td>No</td>\n",
       "      <td>No</td>\n",
       "    </tr>\n",
       "    <tr>\n",
       "      <th>3</th>\n",
       "      <td>5709-LVOEQ</td>\n",
       "      <td>2020-02-01</td>\n",
       "      <td>2020-02-01</td>\n",
       "      <td>Two year</td>\n",
       "      <td>No</td>\n",
       "      <td>Mailed check</td>\n",
       "      <td>80.85</td>\n",
       "      <td>0.00</td>\n",
       "      <td>0</td>\n",
       "      <td>Female</td>\n",
       "      <td>...</td>\n",
       "      <td>Yes</td>\n",
       "      <td>Yes</td>\n",
       "      <td>DSL</td>\n",
       "      <td>Yes</td>\n",
       "      <td>Yes</td>\n",
       "      <td>Yes</td>\n",
       "      <td>No</td>\n",
       "      <td>Yes</td>\n",
       "      <td>Yes</td>\n",
       "      <td>No</td>\n",
       "    </tr>\n",
       "    <tr>\n",
       "      <th>4</th>\n",
       "      <td>9237-HQITU</td>\n",
       "      <td>2019-01-26</td>\n",
       "      <td>2019-11-01</td>\n",
       "      <td>Month-to-month</td>\n",
       "      <td>Yes</td>\n",
       "      <td>Electronic check</td>\n",
       "      <td>70.70</td>\n",
       "      <td>151.65</td>\n",
       "      <td>1</td>\n",
       "      <td>Female</td>\n",
       "      <td>...</td>\n",
       "      <td>No</td>\n",
       "      <td>No</td>\n",
       "      <td>Fiber optic</td>\n",
       "      <td>No</td>\n",
       "      <td>No</td>\n",
       "      <td>No</td>\n",
       "      <td>No</td>\n",
       "      <td>No</td>\n",
       "      <td>No</td>\n",
       "      <td>No</td>\n",
       "    </tr>\n",
       "  </tbody>\n",
       "</table>\n",
       "<p>5 rows × 21 columns</p>\n",
       "</div>"
      ],
      "text/plain": [
       "   customerID   BeginDate     EndDate            Type PaperlessBilling  \\\n",
       "0  4472-LVYGI  2020-02-01  2020-02-01        Two year              Yes   \n",
       "1  3115-CZMZD  2020-02-01  2020-02-01        Two year               No   \n",
       "2  3668-QPYBK  2018-08-09  2019-12-01  Month-to-month              Yes   \n",
       "3  5709-LVOEQ  2020-02-01  2020-02-01        Two year               No   \n",
       "4  9237-HQITU  2019-01-26  2019-11-01  Month-to-month              Yes   \n",
       "\n",
       "               PaymentMethod  MonthlyCharges  TotalCharges  churn  gender  \\\n",
       "0  Bank transfer (automatic)           52.55          0.00      0  Female   \n",
       "1               Mailed check           20.25          0.00      0    Male   \n",
       "2               Mailed check           53.85        108.15      1    Male   \n",
       "3               Mailed check           80.85          0.00      0  Female   \n",
       "4           Electronic check           70.70        151.65      1  Female   \n",
       "\n",
       "   ...  Partner Dependents InternetService OnlineSecurity OnlineBackup  \\\n",
       "0  ...      Yes        Yes             DSL            Yes           No   \n",
       "1  ...       No        Yes         unknown        unknown      unknown   \n",
       "2  ...       No         No             DSL            Yes          Yes   \n",
       "3  ...      Yes        Yes             DSL            Yes          Yes   \n",
       "4  ...       No         No     Fiber optic             No           No   \n",
       "\n",
       "  DeviceProtection TechSupport StreamingTV StreamingMovies MultipleLines  \n",
       "0              Yes         Yes         Yes              No       unknown  \n",
       "1          unknown     unknown     unknown         unknown            No  \n",
       "2               No          No          No              No            No  \n",
       "3              Yes          No         Yes             Yes            No  \n",
       "4               No          No          No              No            No  \n",
       "\n",
       "[5 rows x 21 columns]"
      ]
     },
     "execution_count": 23,
     "metadata": {},
     "output_type": "execute_result"
    }
   ],
   "source": [
    "full_df = full_df.fillna('unknown')\n",
    "full_df.head()"
   ]
  },
  {
   "cell_type": "code",
   "execution_count": 24,
   "metadata": {
    "scrolled": false
   },
   "outputs": [
    {
     "data": {
      "text/html": [
       "<div>\n",
       "<style scoped>\n",
       "    .dataframe tbody tr th:only-of-type {\n",
       "        vertical-align: middle;\n",
       "    }\n",
       "\n",
       "    .dataframe tbody tr th {\n",
       "        vertical-align: top;\n",
       "    }\n",
       "\n",
       "    .dataframe thead th {\n",
       "        text-align: right;\n",
       "    }\n",
       "</style>\n",
       "<table border=\"1\" class=\"dataframe\">\n",
       "  <thead>\n",
       "    <tr style=\"text-align: right;\">\n",
       "      <th></th>\n",
       "      <th>customerID</th>\n",
       "      <th>BeginDate</th>\n",
       "      <th>EndDate</th>\n",
       "      <th>Type</th>\n",
       "      <th>PaperlessBilling</th>\n",
       "      <th>PaymentMethod</th>\n",
       "      <th>MonthlyCharges</th>\n",
       "      <th>TotalCharges</th>\n",
       "      <th>churn</th>\n",
       "      <th>gender</th>\n",
       "      <th>...</th>\n",
       "      <th>Dependents</th>\n",
       "      <th>InternetService</th>\n",
       "      <th>OnlineSecurity</th>\n",
       "      <th>OnlineBackup</th>\n",
       "      <th>DeviceProtection</th>\n",
       "      <th>TechSupport</th>\n",
       "      <th>StreamingTV</th>\n",
       "      <th>StreamingMovies</th>\n",
       "      <th>MultipleLines</th>\n",
       "      <th>ltv</th>\n",
       "    </tr>\n",
       "  </thead>\n",
       "  <tbody>\n",
       "    <tr>\n",
       "      <th>0</th>\n",
       "      <td>4472-LVYGI</td>\n",
       "      <td>2020-02-01</td>\n",
       "      <td>2020-02-01</td>\n",
       "      <td>Two year</td>\n",
       "      <td>Yes</td>\n",
       "      <td>Bank transfer (automatic)</td>\n",
       "      <td>52.55</td>\n",
       "      <td>0.00</td>\n",
       "      <td>0</td>\n",
       "      <td>Female</td>\n",
       "      <td>...</td>\n",
       "      <td>Yes</td>\n",
       "      <td>DSL</td>\n",
       "      <td>Yes</td>\n",
       "      <td>No</td>\n",
       "      <td>Yes</td>\n",
       "      <td>Yes</td>\n",
       "      <td>Yes</td>\n",
       "      <td>No</td>\n",
       "      <td>unknown</td>\n",
       "      <td>0</td>\n",
       "    </tr>\n",
       "    <tr>\n",
       "      <th>1</th>\n",
       "      <td>3115-CZMZD</td>\n",
       "      <td>2020-02-01</td>\n",
       "      <td>2020-02-01</td>\n",
       "      <td>Two year</td>\n",
       "      <td>No</td>\n",
       "      <td>Mailed check</td>\n",
       "      <td>20.25</td>\n",
       "      <td>0.00</td>\n",
       "      <td>0</td>\n",
       "      <td>Male</td>\n",
       "      <td>...</td>\n",
       "      <td>Yes</td>\n",
       "      <td>unknown</td>\n",
       "      <td>unknown</td>\n",
       "      <td>unknown</td>\n",
       "      <td>unknown</td>\n",
       "      <td>unknown</td>\n",
       "      <td>unknown</td>\n",
       "      <td>unknown</td>\n",
       "      <td>No</td>\n",
       "      <td>0</td>\n",
       "    </tr>\n",
       "    <tr>\n",
       "      <th>2</th>\n",
       "      <td>3668-QPYBK</td>\n",
       "      <td>2018-08-09</td>\n",
       "      <td>2019-12-01</td>\n",
       "      <td>Month-to-month</td>\n",
       "      <td>Yes</td>\n",
       "      <td>Mailed check</td>\n",
       "      <td>53.85</td>\n",
       "      <td>108.15</td>\n",
       "      <td>1</td>\n",
       "      <td>Male</td>\n",
       "      <td>...</td>\n",
       "      <td>No</td>\n",
       "      <td>DSL</td>\n",
       "      <td>Yes</td>\n",
       "      <td>Yes</td>\n",
       "      <td>No</td>\n",
       "      <td>No</td>\n",
       "      <td>No</td>\n",
       "      <td>No</td>\n",
       "      <td>No</td>\n",
       "      <td>479</td>\n",
       "    </tr>\n",
       "    <tr>\n",
       "      <th>3</th>\n",
       "      <td>5709-LVOEQ</td>\n",
       "      <td>2020-02-01</td>\n",
       "      <td>2020-02-01</td>\n",
       "      <td>Two year</td>\n",
       "      <td>No</td>\n",
       "      <td>Mailed check</td>\n",
       "      <td>80.85</td>\n",
       "      <td>0.00</td>\n",
       "      <td>0</td>\n",
       "      <td>Female</td>\n",
       "      <td>...</td>\n",
       "      <td>Yes</td>\n",
       "      <td>DSL</td>\n",
       "      <td>Yes</td>\n",
       "      <td>Yes</td>\n",
       "      <td>Yes</td>\n",
       "      <td>No</td>\n",
       "      <td>Yes</td>\n",
       "      <td>Yes</td>\n",
       "      <td>No</td>\n",
       "      <td>0</td>\n",
       "    </tr>\n",
       "    <tr>\n",
       "      <th>4</th>\n",
       "      <td>9237-HQITU</td>\n",
       "      <td>2019-01-26</td>\n",
       "      <td>2019-11-01</td>\n",
       "      <td>Month-to-month</td>\n",
       "      <td>Yes</td>\n",
       "      <td>Electronic check</td>\n",
       "      <td>70.70</td>\n",
       "      <td>151.65</td>\n",
       "      <td>1</td>\n",
       "      <td>Female</td>\n",
       "      <td>...</td>\n",
       "      <td>No</td>\n",
       "      <td>Fiber optic</td>\n",
       "      <td>No</td>\n",
       "      <td>No</td>\n",
       "      <td>No</td>\n",
       "      <td>No</td>\n",
       "      <td>No</td>\n",
       "      <td>No</td>\n",
       "      <td>No</td>\n",
       "      <td>279</td>\n",
       "    </tr>\n",
       "    <tr>\n",
       "      <th>...</th>\n",
       "      <td>...</td>\n",
       "      <td>...</td>\n",
       "      <td>...</td>\n",
       "      <td>...</td>\n",
       "      <td>...</td>\n",
       "      <td>...</td>\n",
       "      <td>...</td>\n",
       "      <td>...</td>\n",
       "      <td>...</td>\n",
       "      <td>...</td>\n",
       "      <td>...</td>\n",
       "      <td>...</td>\n",
       "      <td>...</td>\n",
       "      <td>...</td>\n",
       "      <td>...</td>\n",
       "      <td>...</td>\n",
       "      <td>...</td>\n",
       "      <td>...</td>\n",
       "      <td>...</td>\n",
       "      <td>...</td>\n",
       "      <td>...</td>\n",
       "    </tr>\n",
       "    <tr>\n",
       "      <th>7038</th>\n",
       "      <td>2569-WGERO</td>\n",
       "      <td>2019-01-21</td>\n",
       "      <td>2020-02-01</td>\n",
       "      <td>Two year</td>\n",
       "      <td>Yes</td>\n",
       "      <td>Bank transfer (automatic)</td>\n",
       "      <td>21.15</td>\n",
       "      <td>1419.40</td>\n",
       "      <td>0</td>\n",
       "      <td>Female</td>\n",
       "      <td>...</td>\n",
       "      <td>No</td>\n",
       "      <td>unknown</td>\n",
       "      <td>unknown</td>\n",
       "      <td>unknown</td>\n",
       "      <td>unknown</td>\n",
       "      <td>unknown</td>\n",
       "      <td>unknown</td>\n",
       "      <td>unknown</td>\n",
       "      <td>No</td>\n",
       "      <td>376</td>\n",
       "    </tr>\n",
       "    <tr>\n",
       "      <th>7039</th>\n",
       "      <td>6840-RESVB</td>\n",
       "      <td>2019-02-26</td>\n",
       "      <td>2020-02-01</td>\n",
       "      <td>One year</td>\n",
       "      <td>Yes</td>\n",
       "      <td>Mailed check</td>\n",
       "      <td>84.80</td>\n",
       "      <td>1990.50</td>\n",
       "      <td>0</td>\n",
       "      <td>Male</td>\n",
       "      <td>...</td>\n",
       "      <td>Yes</td>\n",
       "      <td>DSL</td>\n",
       "      <td>Yes</td>\n",
       "      <td>No</td>\n",
       "      <td>Yes</td>\n",
       "      <td>Yes</td>\n",
       "      <td>Yes</td>\n",
       "      <td>Yes</td>\n",
       "      <td>Yes</td>\n",
       "      <td>340</td>\n",
       "    </tr>\n",
       "    <tr>\n",
       "      <th>7040</th>\n",
       "      <td>2234-XADUH</td>\n",
       "      <td>2019-09-02</td>\n",
       "      <td>2020-02-01</td>\n",
       "      <td>One year</td>\n",
       "      <td>Yes</td>\n",
       "      <td>Credit card (automatic)</td>\n",
       "      <td>103.20</td>\n",
       "      <td>7362.90</td>\n",
       "      <td>0</td>\n",
       "      <td>Female</td>\n",
       "      <td>...</td>\n",
       "      <td>Yes</td>\n",
       "      <td>Fiber optic</td>\n",
       "      <td>No</td>\n",
       "      <td>Yes</td>\n",
       "      <td>Yes</td>\n",
       "      <td>No</td>\n",
       "      <td>Yes</td>\n",
       "      <td>Yes</td>\n",
       "      <td>Yes</td>\n",
       "      <td>152</td>\n",
       "    </tr>\n",
       "    <tr>\n",
       "      <th>7041</th>\n",
       "      <td>4801-JZAZL</td>\n",
       "      <td>2019-06-26</td>\n",
       "      <td>2020-02-01</td>\n",
       "      <td>Month-to-month</td>\n",
       "      <td>Yes</td>\n",
       "      <td>Electronic check</td>\n",
       "      <td>29.60</td>\n",
       "      <td>346.45</td>\n",
       "      <td>0</td>\n",
       "      <td>Female</td>\n",
       "      <td>...</td>\n",
       "      <td>Yes</td>\n",
       "      <td>DSL</td>\n",
       "      <td>Yes</td>\n",
       "      <td>No</td>\n",
       "      <td>No</td>\n",
       "      <td>No</td>\n",
       "      <td>No</td>\n",
       "      <td>No</td>\n",
       "      <td>unknown</td>\n",
       "      <td>220</td>\n",
       "    </tr>\n",
       "    <tr>\n",
       "      <th>7042</th>\n",
       "      <td>3186-AJIEK</td>\n",
       "      <td>2019-04-18</td>\n",
       "      <td>2020-02-01</td>\n",
       "      <td>Two year</td>\n",
       "      <td>Yes</td>\n",
       "      <td>Bank transfer (automatic)</td>\n",
       "      <td>105.65</td>\n",
       "      <td>6844.50</td>\n",
       "      <td>0</td>\n",
       "      <td>Male</td>\n",
       "      <td>...</td>\n",
       "      <td>No</td>\n",
       "      <td>Fiber optic</td>\n",
       "      <td>Yes</td>\n",
       "      <td>No</td>\n",
       "      <td>Yes</td>\n",
       "      <td>Yes</td>\n",
       "      <td>Yes</td>\n",
       "      <td>Yes</td>\n",
       "      <td>No</td>\n",
       "      <td>289</td>\n",
       "    </tr>\n",
       "  </tbody>\n",
       "</table>\n",
       "<p>7043 rows × 22 columns</p>\n",
       "</div>"
      ],
      "text/plain": [
       "      customerID   BeginDate     EndDate            Type PaperlessBilling  \\\n",
       "0     4472-LVYGI  2020-02-01  2020-02-01        Two year              Yes   \n",
       "1     3115-CZMZD  2020-02-01  2020-02-01        Two year               No   \n",
       "2     3668-QPYBK  2018-08-09  2019-12-01  Month-to-month              Yes   \n",
       "3     5709-LVOEQ  2020-02-01  2020-02-01        Two year               No   \n",
       "4     9237-HQITU  2019-01-26  2019-11-01  Month-to-month              Yes   \n",
       "...          ...         ...         ...             ...              ...   \n",
       "7038  2569-WGERO  2019-01-21  2020-02-01        Two year              Yes   \n",
       "7039  6840-RESVB  2019-02-26  2020-02-01        One year              Yes   \n",
       "7040  2234-XADUH  2019-09-02  2020-02-01        One year              Yes   \n",
       "7041  4801-JZAZL  2019-06-26  2020-02-01  Month-to-month              Yes   \n",
       "7042  3186-AJIEK  2019-04-18  2020-02-01        Two year              Yes   \n",
       "\n",
       "                  PaymentMethod  MonthlyCharges  TotalCharges  churn  gender  \\\n",
       "0     Bank transfer (automatic)           52.55          0.00      0  Female   \n",
       "1                  Mailed check           20.25          0.00      0    Male   \n",
       "2                  Mailed check           53.85        108.15      1    Male   \n",
       "3                  Mailed check           80.85          0.00      0  Female   \n",
       "4              Electronic check           70.70        151.65      1  Female   \n",
       "...                         ...             ...           ...    ...     ...   \n",
       "7038  Bank transfer (automatic)           21.15       1419.40      0  Female   \n",
       "7039               Mailed check           84.80       1990.50      0    Male   \n",
       "7040    Credit card (automatic)          103.20       7362.90      0  Female   \n",
       "7041           Electronic check           29.60        346.45      0  Female   \n",
       "7042  Bank transfer (automatic)          105.65       6844.50      0    Male   \n",
       "\n",
       "      ...  Dependents InternetService OnlineSecurity OnlineBackup  \\\n",
       "0     ...         Yes             DSL            Yes           No   \n",
       "1     ...         Yes         unknown        unknown      unknown   \n",
       "2     ...          No             DSL            Yes          Yes   \n",
       "3     ...         Yes             DSL            Yes          Yes   \n",
       "4     ...          No     Fiber optic             No           No   \n",
       "...   ...         ...             ...            ...          ...   \n",
       "7038  ...          No         unknown        unknown      unknown   \n",
       "7039  ...         Yes             DSL            Yes           No   \n",
       "7040  ...         Yes     Fiber optic             No          Yes   \n",
       "7041  ...         Yes             DSL            Yes           No   \n",
       "7042  ...          No     Fiber optic            Yes           No   \n",
       "\n",
       "     DeviceProtection TechSupport StreamingTV StreamingMovies MultipleLines  \\\n",
       "0                 Yes         Yes         Yes              No       unknown   \n",
       "1             unknown     unknown     unknown         unknown            No   \n",
       "2                  No          No          No              No            No   \n",
       "3                 Yes          No         Yes             Yes            No   \n",
       "4                  No          No          No              No            No   \n",
       "...               ...         ...         ...             ...           ...   \n",
       "7038          unknown     unknown     unknown         unknown            No   \n",
       "7039              Yes         Yes         Yes             Yes           Yes   \n",
       "7040              Yes          No         Yes             Yes           Yes   \n",
       "7041               No          No          No              No       unknown   \n",
       "7042              Yes         Yes         Yes             Yes            No   \n",
       "\n",
       "      ltv  \n",
       "0       0  \n",
       "1       0  \n",
       "2     479  \n",
       "3       0  \n",
       "4     279  \n",
       "...   ...  \n",
       "7038  376  \n",
       "7039  340  \n",
       "7040  152  \n",
       "7041  220  \n",
       "7042  289  \n",
       "\n",
       "[7043 rows x 22 columns]"
      ]
     },
     "execution_count": 24,
     "metadata": {},
     "output_type": "execute_result"
    }
   ],
   "source": [
    "full_df['ltv'] = (full_df[full_df.EndDate!='unknown'].EndDate - full_df[full_df.EndDate!='unknown'].BeginDate).apply(lambda x:x.days)\n",
    "full_df"
   ]
  },
  {
   "cell_type": "code",
   "execution_count": 25,
   "metadata": {},
   "outputs": [
    {
     "data": {
      "text/html": [
       "<div>\n",
       "<style scoped>\n",
       "    .dataframe tbody tr th:only-of-type {\n",
       "        vertical-align: middle;\n",
       "    }\n",
       "\n",
       "    .dataframe tbody tr th {\n",
       "        vertical-align: top;\n",
       "    }\n",
       "\n",
       "    .dataframe thead th {\n",
       "        text-align: right;\n",
       "    }\n",
       "</style>\n",
       "<table border=\"1\" class=\"dataframe\">\n",
       "  <thead>\n",
       "    <tr style=\"text-align: right;\">\n",
       "      <th></th>\n",
       "      <th>customerID</th>\n",
       "      <th>BeginDate</th>\n",
       "      <th>EndDate</th>\n",
       "      <th>Type</th>\n",
       "      <th>PaperlessBilling</th>\n",
       "      <th>PaymentMethod</th>\n",
       "      <th>MonthlyCharges</th>\n",
       "      <th>TotalCharges</th>\n",
       "      <th>churn</th>\n",
       "      <th>gender</th>\n",
       "      <th>...</th>\n",
       "      <th>Dependents</th>\n",
       "      <th>InternetService</th>\n",
       "      <th>OnlineSecurity</th>\n",
       "      <th>OnlineBackup</th>\n",
       "      <th>DeviceProtection</th>\n",
       "      <th>TechSupport</th>\n",
       "      <th>StreamingTV</th>\n",
       "      <th>StreamingMovies</th>\n",
       "      <th>MultipleLines</th>\n",
       "      <th>ltv</th>\n",
       "    </tr>\n",
       "  </thead>\n",
       "  <tbody>\n",
       "    <tr>\n",
       "      <th>0</th>\n",
       "      <td>4472-LVYGI</td>\n",
       "      <td>2020-02-01</td>\n",
       "      <td>2020-02-01</td>\n",
       "      <td>Two year</td>\n",
       "      <td>Yes</td>\n",
       "      <td>Bank transfer (automatic)</td>\n",
       "      <td>52.55</td>\n",
       "      <td>0.00</td>\n",
       "      <td>0</td>\n",
       "      <td>Female</td>\n",
       "      <td>...</td>\n",
       "      <td>Yes</td>\n",
       "      <td>DSL</td>\n",
       "      <td>Yes</td>\n",
       "      <td>No</td>\n",
       "      <td>Yes</td>\n",
       "      <td>Yes</td>\n",
       "      <td>Yes</td>\n",
       "      <td>No</td>\n",
       "      <td>unknown</td>\n",
       "      <td>0</td>\n",
       "    </tr>\n",
       "    <tr>\n",
       "      <th>1</th>\n",
       "      <td>3115-CZMZD</td>\n",
       "      <td>2020-02-01</td>\n",
       "      <td>2020-02-01</td>\n",
       "      <td>Two year</td>\n",
       "      <td>No</td>\n",
       "      <td>Mailed check</td>\n",
       "      <td>20.25</td>\n",
       "      <td>0.00</td>\n",
       "      <td>0</td>\n",
       "      <td>Male</td>\n",
       "      <td>...</td>\n",
       "      <td>Yes</td>\n",
       "      <td>unknown</td>\n",
       "      <td>unknown</td>\n",
       "      <td>unknown</td>\n",
       "      <td>unknown</td>\n",
       "      <td>unknown</td>\n",
       "      <td>unknown</td>\n",
       "      <td>unknown</td>\n",
       "      <td>No</td>\n",
       "      <td>0</td>\n",
       "    </tr>\n",
       "    <tr>\n",
       "      <th>2</th>\n",
       "      <td>3668-QPYBK</td>\n",
       "      <td>2018-08-09</td>\n",
       "      <td>2019-12-01</td>\n",
       "      <td>Month-to-month</td>\n",
       "      <td>Yes</td>\n",
       "      <td>Mailed check</td>\n",
       "      <td>53.85</td>\n",
       "      <td>108.15</td>\n",
       "      <td>1</td>\n",
       "      <td>Male</td>\n",
       "      <td>...</td>\n",
       "      <td>No</td>\n",
       "      <td>DSL</td>\n",
       "      <td>Yes</td>\n",
       "      <td>Yes</td>\n",
       "      <td>No</td>\n",
       "      <td>No</td>\n",
       "      <td>No</td>\n",
       "      <td>No</td>\n",
       "      <td>No</td>\n",
       "      <td>479</td>\n",
       "    </tr>\n",
       "    <tr>\n",
       "      <th>3</th>\n",
       "      <td>5709-LVOEQ</td>\n",
       "      <td>2020-02-01</td>\n",
       "      <td>2020-02-01</td>\n",
       "      <td>Two year</td>\n",
       "      <td>No</td>\n",
       "      <td>Mailed check</td>\n",
       "      <td>80.85</td>\n",
       "      <td>0.00</td>\n",
       "      <td>0</td>\n",
       "      <td>Female</td>\n",
       "      <td>...</td>\n",
       "      <td>Yes</td>\n",
       "      <td>DSL</td>\n",
       "      <td>Yes</td>\n",
       "      <td>Yes</td>\n",
       "      <td>Yes</td>\n",
       "      <td>No</td>\n",
       "      <td>Yes</td>\n",
       "      <td>Yes</td>\n",
       "      <td>No</td>\n",
       "      <td>0</td>\n",
       "    </tr>\n",
       "    <tr>\n",
       "      <th>4</th>\n",
       "      <td>9237-HQITU</td>\n",
       "      <td>2019-01-26</td>\n",
       "      <td>2019-11-01</td>\n",
       "      <td>Month-to-month</td>\n",
       "      <td>Yes</td>\n",
       "      <td>Electronic check</td>\n",
       "      <td>70.70</td>\n",
       "      <td>151.65</td>\n",
       "      <td>1</td>\n",
       "      <td>Female</td>\n",
       "      <td>...</td>\n",
       "      <td>No</td>\n",
       "      <td>Fiber optic</td>\n",
       "      <td>No</td>\n",
       "      <td>No</td>\n",
       "      <td>No</td>\n",
       "      <td>No</td>\n",
       "      <td>No</td>\n",
       "      <td>No</td>\n",
       "      <td>No</td>\n",
       "      <td>279</td>\n",
       "    </tr>\n",
       "  </tbody>\n",
       "</table>\n",
       "<p>5 rows × 22 columns</p>\n",
       "</div>"
      ],
      "text/plain": [
       "   customerID   BeginDate     EndDate            Type PaperlessBilling  \\\n",
       "0  4472-LVYGI  2020-02-01  2020-02-01        Two year              Yes   \n",
       "1  3115-CZMZD  2020-02-01  2020-02-01        Two year               No   \n",
       "2  3668-QPYBK  2018-08-09  2019-12-01  Month-to-month              Yes   \n",
       "3  5709-LVOEQ  2020-02-01  2020-02-01        Two year               No   \n",
       "4  9237-HQITU  2019-01-26  2019-11-01  Month-to-month              Yes   \n",
       "\n",
       "               PaymentMethod  MonthlyCharges  TotalCharges  churn  gender  \\\n",
       "0  Bank transfer (automatic)           52.55          0.00      0  Female   \n",
       "1               Mailed check           20.25          0.00      0    Male   \n",
       "2               Mailed check           53.85        108.15      1    Male   \n",
       "3               Mailed check           80.85          0.00      0  Female   \n",
       "4           Electronic check           70.70        151.65      1  Female   \n",
       "\n",
       "   ...  Dependents InternetService OnlineSecurity OnlineBackup  \\\n",
       "0  ...         Yes             DSL            Yes           No   \n",
       "1  ...         Yes         unknown        unknown      unknown   \n",
       "2  ...          No             DSL            Yes          Yes   \n",
       "3  ...         Yes             DSL            Yes          Yes   \n",
       "4  ...          No     Fiber optic             No           No   \n",
       "\n",
       "  DeviceProtection TechSupport StreamingTV StreamingMovies MultipleLines  ltv  \n",
       "0              Yes         Yes         Yes              No       unknown    0  \n",
       "1          unknown     unknown     unknown         unknown            No    0  \n",
       "2               No          No          No              No            No  479  \n",
       "3              Yes          No         Yes             Yes            No    0  \n",
       "4               No          No          No              No            No  279  \n",
       "\n",
       "[5 rows x 22 columns]"
      ]
     },
     "execution_count": 25,
     "metadata": {},
     "output_type": "execute_result"
    }
   ],
   "source": [
    "full_df = full_df.fillna(0)\n",
    "full_df.head()"
   ]
  },
  {
   "cell_type": "code",
   "execution_count": 26,
   "metadata": {
    "pycharm": {
     "name": "#%%\n"
    }
   },
   "outputs": [],
   "source": [
    "X_train, X_test, y_train, y_test = train_test_split(full_df.drop(['customerID', 'BeginDate',\n",
    "                                                                  'EndDate','churn'], axis=1), full_df['churn'], test_size=0.2)"
   ]
  },
  {
   "cell_type": "code",
   "execution_count": 27,
   "metadata": {},
   "outputs": [],
   "source": [
    "d = defaultdict(LabelEncoder)"
   ]
  },
  {
   "cell_type": "code",
   "execution_count": 28,
   "metadata": {},
   "outputs": [],
   "source": [
    "X_train[X_train.select_dtypes('object').columns] = X_train[X_train.select_dtypes('object')\\\n",
    "                                                           .columns].apply(lambda x: d[x.name].fit_transform(x))"
   ]
  },
  {
   "cell_type": "code",
   "execution_count": 29,
   "metadata": {},
   "outputs": [],
   "source": [
    "X_test[X_test.select_dtypes('object').columns] = X_test[X_test.select_dtypes('object')\\\n",
    "                                                        .columns].apply(lambda x: d[x.name].transform(x))"
   ]
  },
  {
   "cell_type": "markdown",
   "metadata": {
    "pycharm": {
     "name": "#%% md\n"
    }
   },
   "source": [
    "### **Шаг 3. Обучите модель**\n",
    "\n",
    "Найдите лучшую модель прогнозирования оттока. За критерий оценки качества модели возьмите метрику ROC-AUC. Значение метрики должно быть не менее 0.78. Для интерпретируемости модели дополнительно выведите значение accuracy каждой модели. Рассмотрите следующие классы моделей:"
   ]
  },
  {
   "cell_type": "markdown",
   "metadata": {
    "pycharm": {
     "name": "#%% md\n"
    }
   },
   "source": [
    "- решающее дерево"
   ]
  },
  {
   "cell_type": "code",
   "execution_count": 30,
   "metadata": {
    "pycharm": {
     "name": "#%%\n"
    }
   },
   "outputs": [],
   "source": [
    "pipe_rf = Pipeline([('standard', StandardScaler()),\n",
    "                     ('model', RandomForestClassifier(random_state=42))])\n",
    "grid_params_rf = [{'model__max_depth' :[3, 5, 7, 9],\n",
    "                    'model__min_samples_leaf': [1, 2, 3]}]"
   ]
  },
  {
   "cell_type": "code",
   "execution_count": 31,
   "metadata": {
    "pycharm": {
     "name": "#%%\n"
    }
   },
   "outputs": [],
   "source": [
    "jobs = -1\n",
    "\n",
    "rf = GridSearchCV(estimator=pipe_rf,\n",
    "                   param_grid=grid_params_rf,\n",
    "                   scoring='roc_auc',\n",
    "                   cv=5,\n",
    "                   n_jobs=jobs)"
   ]
  },
  {
   "cell_type": "code",
   "execution_count": 32,
   "metadata": {
    "pycharm": {
     "name": "#%%\n"
    }
   },
   "outputs": [
    {
     "data": {
      "text/html": [
       "<style>#sk-container-id-1 {color: black;background-color: white;}#sk-container-id-1 pre{padding: 0;}#sk-container-id-1 div.sk-toggleable {background-color: white;}#sk-container-id-1 label.sk-toggleable__label {cursor: pointer;display: block;width: 100%;margin-bottom: 0;padding: 0.3em;box-sizing: border-box;text-align: center;}#sk-container-id-1 label.sk-toggleable__label-arrow:before {content: \"▸\";float: left;margin-right: 0.25em;color: #696969;}#sk-container-id-1 label.sk-toggleable__label-arrow:hover:before {color: black;}#sk-container-id-1 div.sk-estimator:hover label.sk-toggleable__label-arrow:before {color: black;}#sk-container-id-1 div.sk-toggleable__content {max-height: 0;max-width: 0;overflow: hidden;text-align: left;background-color: #f0f8ff;}#sk-container-id-1 div.sk-toggleable__content pre {margin: 0.2em;color: black;border-radius: 0.25em;background-color: #f0f8ff;}#sk-container-id-1 input.sk-toggleable__control:checked~div.sk-toggleable__content {max-height: 200px;max-width: 100%;overflow: auto;}#sk-container-id-1 input.sk-toggleable__control:checked~label.sk-toggleable__label-arrow:before {content: \"▾\";}#sk-container-id-1 div.sk-estimator input.sk-toggleable__control:checked~label.sk-toggleable__label {background-color: #d4ebff;}#sk-container-id-1 div.sk-label input.sk-toggleable__control:checked~label.sk-toggleable__label {background-color: #d4ebff;}#sk-container-id-1 input.sk-hidden--visually {border: 0;clip: rect(1px 1px 1px 1px);clip: rect(1px, 1px, 1px, 1px);height: 1px;margin: -1px;overflow: hidden;padding: 0;position: absolute;width: 1px;}#sk-container-id-1 div.sk-estimator {font-family: monospace;background-color: #f0f8ff;border: 1px dotted black;border-radius: 0.25em;box-sizing: border-box;margin-bottom: 0.5em;}#sk-container-id-1 div.sk-estimator:hover {background-color: #d4ebff;}#sk-container-id-1 div.sk-parallel-item::after {content: \"\";width: 100%;border-bottom: 1px solid gray;flex-grow: 1;}#sk-container-id-1 div.sk-label:hover label.sk-toggleable__label {background-color: #d4ebff;}#sk-container-id-1 div.sk-serial::before {content: \"\";position: absolute;border-left: 1px solid gray;box-sizing: border-box;top: 0;bottom: 0;left: 50%;z-index: 0;}#sk-container-id-1 div.sk-serial {display: flex;flex-direction: column;align-items: center;background-color: white;padding-right: 0.2em;padding-left: 0.2em;position: relative;}#sk-container-id-1 div.sk-item {position: relative;z-index: 1;}#sk-container-id-1 div.sk-parallel {display: flex;align-items: stretch;justify-content: center;background-color: white;position: relative;}#sk-container-id-1 div.sk-item::before, #sk-container-id-1 div.sk-parallel-item::before {content: \"\";position: absolute;border-left: 1px solid gray;box-sizing: border-box;top: 0;bottom: 0;left: 50%;z-index: -1;}#sk-container-id-1 div.sk-parallel-item {display: flex;flex-direction: column;z-index: 1;position: relative;background-color: white;}#sk-container-id-1 div.sk-parallel-item:first-child::after {align-self: flex-end;width: 50%;}#sk-container-id-1 div.sk-parallel-item:last-child::after {align-self: flex-start;width: 50%;}#sk-container-id-1 div.sk-parallel-item:only-child::after {width: 0;}#sk-container-id-1 div.sk-dashed-wrapped {border: 1px dashed gray;margin: 0 0.4em 0.5em 0.4em;box-sizing: border-box;padding-bottom: 0.4em;background-color: white;}#sk-container-id-1 div.sk-label label {font-family: monospace;font-weight: bold;display: inline-block;line-height: 1.2em;}#sk-container-id-1 div.sk-label-container {text-align: center;}#sk-container-id-1 div.sk-container {/* jupyter's `normalize.less` sets `[hidden] { display: none; }` but bootstrap.min.css set `[hidden] { display: none !important; }` so we also need the `!important` here to be able to override the default hidden behavior on the sphinx rendered scikit-learn.org. See: https://github.com/scikit-learn/scikit-learn/issues/21755 */display: inline-block !important;position: relative;}#sk-container-id-1 div.sk-text-repr-fallback {display: none;}</style><div id=\"sk-container-id-1\" class=\"sk-top-container\"><div class=\"sk-text-repr-fallback\"><pre>GridSearchCV(cv=5,\n",
       "             estimator=Pipeline(steps=[(&#x27;standard&#x27;, StandardScaler()),\n",
       "                                       (&#x27;model&#x27;,\n",
       "                                        RandomForestClassifier(random_state=42))]),\n",
       "             n_jobs=-1,\n",
       "             param_grid=[{&#x27;model__max_depth&#x27;: [3, 5, 7, 9],\n",
       "                          &#x27;model__min_samples_leaf&#x27;: [1, 2, 3]}],\n",
       "             scoring=&#x27;roc_auc&#x27;)</pre><b>In a Jupyter environment, please rerun this cell to show the HTML representation or trust the notebook. <br />On GitHub, the HTML representation is unable to render, please try loading this page with nbviewer.org.</b></div><div class=\"sk-container\" hidden><div class=\"sk-item sk-dashed-wrapped\"><div class=\"sk-label-container\"><div class=\"sk-label sk-toggleable\"><input class=\"sk-toggleable__control sk-hidden--visually\" id=\"sk-estimator-id-1\" type=\"checkbox\" ><label for=\"sk-estimator-id-1\" class=\"sk-toggleable__label sk-toggleable__label-arrow\">GridSearchCV</label><div class=\"sk-toggleable__content\"><pre>GridSearchCV(cv=5,\n",
       "             estimator=Pipeline(steps=[(&#x27;standard&#x27;, StandardScaler()),\n",
       "                                       (&#x27;model&#x27;,\n",
       "                                        RandomForestClassifier(random_state=42))]),\n",
       "             n_jobs=-1,\n",
       "             param_grid=[{&#x27;model__max_depth&#x27;: [3, 5, 7, 9],\n",
       "                          &#x27;model__min_samples_leaf&#x27;: [1, 2, 3]}],\n",
       "             scoring=&#x27;roc_auc&#x27;)</pre></div></div></div><div class=\"sk-parallel\"><div class=\"sk-parallel-item\"><div class=\"sk-item\"><div class=\"sk-label-container\"><div class=\"sk-label sk-toggleable\"><input class=\"sk-toggleable__control sk-hidden--visually\" id=\"sk-estimator-id-2\" type=\"checkbox\" ><label for=\"sk-estimator-id-2\" class=\"sk-toggleable__label sk-toggleable__label-arrow\">estimator: Pipeline</label><div class=\"sk-toggleable__content\"><pre>Pipeline(steps=[(&#x27;standard&#x27;, StandardScaler()),\n",
       "                (&#x27;model&#x27;, RandomForestClassifier(random_state=42))])</pre></div></div></div><div class=\"sk-serial\"><div class=\"sk-item\"><div class=\"sk-serial\"><div class=\"sk-item\"><div class=\"sk-estimator sk-toggleable\"><input class=\"sk-toggleable__control sk-hidden--visually\" id=\"sk-estimator-id-3\" type=\"checkbox\" ><label for=\"sk-estimator-id-3\" class=\"sk-toggleable__label sk-toggleable__label-arrow\">StandardScaler</label><div class=\"sk-toggleable__content\"><pre>StandardScaler()</pre></div></div></div><div class=\"sk-item\"><div class=\"sk-estimator sk-toggleable\"><input class=\"sk-toggleable__control sk-hidden--visually\" id=\"sk-estimator-id-4\" type=\"checkbox\" ><label for=\"sk-estimator-id-4\" class=\"sk-toggleable__label sk-toggleable__label-arrow\">RandomForestClassifier</label><div class=\"sk-toggleable__content\"><pre>RandomForestClassifier(random_state=42)</pre></div></div></div></div></div></div></div></div></div></div></div></div>"
      ],
      "text/plain": [
       "GridSearchCV(cv=5,\n",
       "             estimator=Pipeline(steps=[('standard', StandardScaler()),\n",
       "                                       ('model',\n",
       "                                        RandomForestClassifier(random_state=42))]),\n",
       "             n_jobs=-1,\n",
       "             param_grid=[{'model__max_depth': [3, 5, 7, 9],\n",
       "                          'model__min_samples_leaf': [1, 2, 3]}],\n",
       "             scoring='roc_auc')"
      ]
     },
     "execution_count": 32,
     "metadata": {},
     "output_type": "execute_result"
    }
   ],
   "source": [
    "rf.fit(X_train, y_train)"
   ]
  },
  {
   "cell_type": "code",
   "execution_count": 33,
   "metadata": {
    "pycharm": {
     "name": "#%%\n"
    }
   },
   "outputs": [
    {
     "data": {
      "text/plain": [
       "({'model__max_depth': 7, 'model__min_samples_leaf': 3}, 0.844047721047955)"
      ]
     },
     "execution_count": 33,
     "metadata": {},
     "output_type": "execute_result"
    }
   ],
   "source": [
    "rf_predict = rf.predict(X_test)\n",
    "rf_as = accuracy_score(y_test, rf_predict)\n",
    "(rf.best_params_, rf.best_score_)"
   ]
  },
  {
   "cell_type": "markdown",
   "metadata": {
    "pycharm": {
     "name": "#%% md\n"
    }
   },
   "source": [
    "- бустинги"
   ]
  },
  {
   "cell_type": "code",
   "execution_count": 34,
   "metadata": {
    "pycharm": {
     "name": "#%%\n"
    }
   },
   "outputs": [],
   "source": [
    "pipe_cb = Pipeline([('standard', StandardScaler()),\n",
    "                    ('model', CatBoostClassifier(verbose = 200, random_state=42))])\n",
    "grid_params_cb = [{'model__n_estimators' :[200, 400, 600],\n",
    "                   'model__learning_rate': [.03, .1],\n",
    "                   }]"
   ]
  },
  {
   "cell_type": "code",
   "execution_count": 35,
   "metadata": {
    "pycharm": {
     "name": "#%%\n"
    }
   },
   "outputs": [],
   "source": [
    "jobs = -1\n",
    "\n",
    "cb = GridSearchCV(estimator=pipe_cb,\n",
    "                  param_grid=grid_params_cb,\n",
    "                  scoring='roc_auc',\n",
    "                  cv=5,\n",
    "                  n_jobs=jobs)"
   ]
  },
  {
   "cell_type": "code",
   "execution_count": 36,
   "metadata": {
    "pycharm": {
     "name": "#%%\n"
    },
    "scrolled": true
   },
   "outputs": [
    {
     "name": "stdout",
     "output_type": "stream",
     "text": [
      "0:\tlearn: 0.6726787\ttotal: 48.9ms\tremaining: 9.74s\n",
      "199:\tlearn: 0.3627449\ttotal: 485ms\tremaining: 0us\n",
      "0:\tlearn: 0.6726576\ttotal: 2.07ms\tremaining: 412ms\n",
      "199:\tlearn: 0.3620096\ttotal: 511ms\tremaining: 0us\n",
      "0:\tlearn: 0.6722618\ttotal: 1.91ms\tremaining: 379ms\n",
      "199:\tlearn: 0.3664861\ttotal: 449ms\tremaining: 0us\n",
      "0:\tlearn: 0.6730547\ttotal: 1.93ms\tremaining: 385ms\n",
      "199:\tlearn: 0.3649281\ttotal: 446ms\tremaining: 0us\n",
      "0:\tlearn: 0.6729222\ttotal: 1.86ms\tremaining: 370ms\n",
      "199:\tlearn: 0.3607197\ttotal: 438ms\tremaining: 0us\n",
      "0:\tlearn: 0.6726787\ttotal: 2.77ms\tremaining: 1.11s\n",
      "200:\tlearn: 0.3625435\ttotal: 470ms\tremaining: 465ms\n",
      "399:\tlearn: 0.3207523\ttotal: 884ms\tremaining: 0us\n",
      "0:\tlearn: 0.6726576\ttotal: 2.17ms\tremaining: 865ms\n",
      "200:\tlearn: 0.3617391\ttotal: 455ms\tremaining: 451ms\n",
      "399:\tlearn: 0.3204566\ttotal: 936ms\tremaining: 0us\n",
      "0:\tlearn: 0.6722618\ttotal: 2.1ms\tremaining: 839ms\n",
      "200:\tlearn: 0.3663858\ttotal: 454ms\tremaining: 450ms\n",
      "399:\tlearn: 0.3228135\ttotal: 878ms\tremaining: 0us\n",
      "0:\tlearn: 0.6730547\ttotal: 2.75ms\tremaining: 1.09s\n",
      "200:\tlearn: 0.3647558\ttotal: 486ms\tremaining: 481ms\n",
      "399:\tlearn: 0.3216231\ttotal: 936ms\tremaining: 0us\n",
      "0:\tlearn: 0.6729222\ttotal: 2.57ms\tremaining: 1.03s\n",
      "200:\tlearn: 0.3604668\ttotal: 453ms\tremaining: 448ms\n",
      "399:\tlearn: 0.3175726\ttotal: 880ms\tremaining: 0us\n",
      "0:\tlearn: 0.6726787\ttotal: 2.54ms\tremaining: 1.52s\n",
      "200:\tlearn: 0.3625435\ttotal: 444ms\tremaining: 881ms\n",
      "400:\tlearn: 0.3205933\ttotal: 892ms\tremaining: 443ms\n",
      "599:\tlearn: 0.2883428\ttotal: 1.32s\tremaining: 0us\n",
      "0:\tlearn: 0.6726576\ttotal: 3.82ms\tremaining: 2.29s\n",
      "200:\tlearn: 0.3617391\ttotal: 471ms\tremaining: 936ms\n",
      "400:\tlearn: 0.3202856\ttotal: 938ms\tremaining: 465ms\n",
      "599:\tlearn: 0.2870371\ttotal: 1.41s\tremaining: 0us\n",
      "0:\tlearn: 0.6722618\ttotal: 2.86ms\tremaining: 1.71s\n",
      "200:\tlearn: 0.3663858\ttotal: 420ms\tremaining: 834ms\n",
      "400:\tlearn: 0.3227486\ttotal: 846ms\tremaining: 420ms\n",
      "599:\tlearn: 0.2892464\ttotal: 1.27s\tremaining: 0us\n",
      "0:\tlearn: 0.6730547\ttotal: 3.11ms\tremaining: 1.86s\n",
      "200:\tlearn: 0.3647558\ttotal: 438ms\tremaining: 870ms\n",
      "400:\tlearn: 0.3214363\ttotal: 936ms\tremaining: 464ms\n",
      "599:\tlearn: 0.2892111\ttotal: 1.38s\tremaining: 0us\n",
      "0:\tlearn: 0.6729222\ttotal: 2.1ms\tremaining: 1.26s\n",
      "200:\tlearn: 0.3604668\ttotal: 447ms\tremaining: 887ms\n",
      "400:\tlearn: 0.3173669\ttotal: 917ms\tremaining: 455ms\n",
      "599:\tlearn: 0.2827473\ttotal: 1.37s\tremaining: 0us\n",
      "0:\tlearn: 0.6293430\ttotal: 2.47ms\tremaining: 491ms\n",
      "199:\tlearn: 0.2776900\ttotal: 443ms\tremaining: 0us\n",
      "0:\tlearn: 0.6292404\ttotal: 3.31ms\tremaining: 659ms\n",
      "199:\tlearn: 0.2763705\ttotal: 451ms\tremaining: 0us\n",
      "0:\tlearn: 0.6283858\ttotal: 2.04ms\tremaining: 407ms\n",
      "199:\tlearn: 0.2724785\ttotal: 439ms\tremaining: 0us\n",
      "0:\tlearn: 0.6304314\ttotal: 1.94ms\tremaining: 385ms\n",
      "199:\tlearn: 0.2745058\ttotal: 485ms\tremaining: 0us\n",
      "0:\tlearn: 0.6299379\ttotal: 1.92ms\tremaining: 382ms\n",
      "199:\tlearn: 0.2738802\ttotal: 457ms\tremaining: 0us\n",
      "0:\tlearn: 0.6293430\ttotal: 2.35ms\tremaining: 938ms\n",
      "200:\tlearn: 0.2773731\ttotal: 460ms\tremaining: 455ms\n",
      "399:\tlearn: 0.2008038\ttotal: 904ms\tremaining: 0us\n",
      "0:\tlearn: 0.6292404\ttotal: 2.02ms\tremaining: 807ms\n",
      "200:\tlearn: 0.2760098\ttotal: 472ms\tremaining: 467ms\n",
      "399:\tlearn: 0.1991971\ttotal: 916ms\tremaining: 0us\n",
      "0:\tlearn: 0.6283858\ttotal: 2.25ms\tremaining: 897ms\n",
      "200:\tlearn: 0.2719879\ttotal: 456ms\tremaining: 452ms\n",
      "399:\tlearn: 0.1962506\ttotal: 913ms\tremaining: 0us\n",
      "0:\tlearn: 0.6304314\ttotal: 2.07ms\tremaining: 825ms\n",
      "200:\tlearn: 0.2738933\ttotal: 473ms\tremaining: 469ms\n",
      "399:\tlearn: 0.1972278\ttotal: 904ms\tremaining: 0us\n",
      "0:\tlearn: 0.6299379\ttotal: 2.78ms\tremaining: 1.11s\n",
      "200:\tlearn: 0.2734321\ttotal: 442ms\tremaining: 438ms\n",
      "399:\tlearn: 0.1954998\ttotal: 890ms\tremaining: 0us\n",
      "0:\tlearn: 0.6293430\ttotal: 2.5ms\tremaining: 1.5s\n",
      "200:\tlearn: 0.2773731\ttotal: 469ms\tremaining: 930ms\n",
      "400:\tlearn: 0.2005561\ttotal: 969ms\tremaining: 481ms\n",
      "599:\tlearn: 0.1517593\ttotal: 1.41s\tremaining: 0us\n",
      "0:\tlearn: 0.6292404\ttotal: 2.97ms\tremaining: 1.78s\n",
      "200:\tlearn: 0.2760098\ttotal: 458ms\tremaining: 910ms\n",
      "400:\tlearn: 0.1987167\ttotal: 905ms\tremaining: 449ms\n",
      "599:\tlearn: 0.1486536\ttotal: 1.4s\tremaining: 0us\n",
      "0:\tlearn: 0.6283858\ttotal: 3.16ms\tremaining: 1.9s\n",
      "200:\tlearn: 0.2719879\ttotal: 519ms\tremaining: 1.03s\n",
      "400:\tlearn: 0.1958738\ttotal: 963ms\tremaining: 478ms\n",
      "599:\tlearn: 0.1463208\ttotal: 1.4s\tremaining: 0us\n",
      "0:\tlearn: 0.6304314\ttotal: 2.12ms\tremaining: 1.27s\n",
      "200:\tlearn: 0.2738933\ttotal: 436ms\tremaining: 866ms\n",
      "400:\tlearn: 0.1968963\ttotal: 876ms\tremaining: 435ms\n",
      "599:\tlearn: 0.1496346\ttotal: 1.3s\tremaining: 0us\n",
      "0:\tlearn: 0.6299379\ttotal: 2ms\tremaining: 1.2s\n",
      "200:\tlearn: 0.2734321\ttotal: 458ms\tremaining: 909ms\n",
      "400:\tlearn: 0.1953440\ttotal: 913ms\tremaining: 453ms\n",
      "599:\tlearn: 0.1480804\ttotal: 1.39s\tremaining: 0us\n",
      "0:\tlearn: 0.6728740\ttotal: 2.57ms\tremaining: 512ms\n",
      "199:\tlearn: 0.3709290\ttotal: 563ms\tremaining: 0us\n"
     ]
    },
    {
     "data": {
      "text/html": [
       "<style>#sk-container-id-2 {color: black;background-color: white;}#sk-container-id-2 pre{padding: 0;}#sk-container-id-2 div.sk-toggleable {background-color: white;}#sk-container-id-2 label.sk-toggleable__label {cursor: pointer;display: block;width: 100%;margin-bottom: 0;padding: 0.3em;box-sizing: border-box;text-align: center;}#sk-container-id-2 label.sk-toggleable__label-arrow:before {content: \"▸\";float: left;margin-right: 0.25em;color: #696969;}#sk-container-id-2 label.sk-toggleable__label-arrow:hover:before {color: black;}#sk-container-id-2 div.sk-estimator:hover label.sk-toggleable__label-arrow:before {color: black;}#sk-container-id-2 div.sk-toggleable__content {max-height: 0;max-width: 0;overflow: hidden;text-align: left;background-color: #f0f8ff;}#sk-container-id-2 div.sk-toggleable__content pre {margin: 0.2em;color: black;border-radius: 0.25em;background-color: #f0f8ff;}#sk-container-id-2 input.sk-toggleable__control:checked~div.sk-toggleable__content {max-height: 200px;max-width: 100%;overflow: auto;}#sk-container-id-2 input.sk-toggleable__control:checked~label.sk-toggleable__label-arrow:before {content: \"▾\";}#sk-container-id-2 div.sk-estimator input.sk-toggleable__control:checked~label.sk-toggleable__label {background-color: #d4ebff;}#sk-container-id-2 div.sk-label input.sk-toggleable__control:checked~label.sk-toggleable__label {background-color: #d4ebff;}#sk-container-id-2 input.sk-hidden--visually {border: 0;clip: rect(1px 1px 1px 1px);clip: rect(1px, 1px, 1px, 1px);height: 1px;margin: -1px;overflow: hidden;padding: 0;position: absolute;width: 1px;}#sk-container-id-2 div.sk-estimator {font-family: monospace;background-color: #f0f8ff;border: 1px dotted black;border-radius: 0.25em;box-sizing: border-box;margin-bottom: 0.5em;}#sk-container-id-2 div.sk-estimator:hover {background-color: #d4ebff;}#sk-container-id-2 div.sk-parallel-item::after {content: \"\";width: 100%;border-bottom: 1px solid gray;flex-grow: 1;}#sk-container-id-2 div.sk-label:hover label.sk-toggleable__label {background-color: #d4ebff;}#sk-container-id-2 div.sk-serial::before {content: \"\";position: absolute;border-left: 1px solid gray;box-sizing: border-box;top: 0;bottom: 0;left: 50%;z-index: 0;}#sk-container-id-2 div.sk-serial {display: flex;flex-direction: column;align-items: center;background-color: white;padding-right: 0.2em;padding-left: 0.2em;position: relative;}#sk-container-id-2 div.sk-item {position: relative;z-index: 1;}#sk-container-id-2 div.sk-parallel {display: flex;align-items: stretch;justify-content: center;background-color: white;position: relative;}#sk-container-id-2 div.sk-item::before, #sk-container-id-2 div.sk-parallel-item::before {content: \"\";position: absolute;border-left: 1px solid gray;box-sizing: border-box;top: 0;bottom: 0;left: 50%;z-index: -1;}#sk-container-id-2 div.sk-parallel-item {display: flex;flex-direction: column;z-index: 1;position: relative;background-color: white;}#sk-container-id-2 div.sk-parallel-item:first-child::after {align-self: flex-end;width: 50%;}#sk-container-id-2 div.sk-parallel-item:last-child::after {align-self: flex-start;width: 50%;}#sk-container-id-2 div.sk-parallel-item:only-child::after {width: 0;}#sk-container-id-2 div.sk-dashed-wrapped {border: 1px dashed gray;margin: 0 0.4em 0.5em 0.4em;box-sizing: border-box;padding-bottom: 0.4em;background-color: white;}#sk-container-id-2 div.sk-label label {font-family: monospace;font-weight: bold;display: inline-block;line-height: 1.2em;}#sk-container-id-2 div.sk-label-container {text-align: center;}#sk-container-id-2 div.sk-container {/* jupyter's `normalize.less` sets `[hidden] { display: none; }` but bootstrap.min.css set `[hidden] { display: none !important; }` so we also need the `!important` here to be able to override the default hidden behavior on the sphinx rendered scikit-learn.org. See: https://github.com/scikit-learn/scikit-learn/issues/21755 */display: inline-block !important;position: relative;}#sk-container-id-2 div.sk-text-repr-fallback {display: none;}</style><div id=\"sk-container-id-2\" class=\"sk-top-container\"><div class=\"sk-text-repr-fallback\"><pre>GridSearchCV(cv=5,\n",
       "             estimator=Pipeline(steps=[(&#x27;standard&#x27;, StandardScaler()),\n",
       "                                       (&#x27;model&#x27;,\n",
       "                                        &lt;catboost.core.CatBoostClassifier object at 0x7f58bc070b80&gt;)]),\n",
       "             n_jobs=-1,\n",
       "             param_grid=[{&#x27;model__learning_rate&#x27;: [0.03, 0.1],\n",
       "                          &#x27;model__n_estimators&#x27;: [200, 400, 600]}],\n",
       "             scoring=&#x27;roc_auc&#x27;)</pre><b>In a Jupyter environment, please rerun this cell to show the HTML representation or trust the notebook. <br />On GitHub, the HTML representation is unable to render, please try loading this page with nbviewer.org.</b></div><div class=\"sk-container\" hidden><div class=\"sk-item sk-dashed-wrapped\"><div class=\"sk-label-container\"><div class=\"sk-label sk-toggleable\"><input class=\"sk-toggleable__control sk-hidden--visually\" id=\"sk-estimator-id-5\" type=\"checkbox\" ><label for=\"sk-estimator-id-5\" class=\"sk-toggleable__label sk-toggleable__label-arrow\">GridSearchCV</label><div class=\"sk-toggleable__content\"><pre>GridSearchCV(cv=5,\n",
       "             estimator=Pipeline(steps=[(&#x27;standard&#x27;, StandardScaler()),\n",
       "                                       (&#x27;model&#x27;,\n",
       "                                        &lt;catboost.core.CatBoostClassifier object at 0x7f58bc070b80&gt;)]),\n",
       "             n_jobs=-1,\n",
       "             param_grid=[{&#x27;model__learning_rate&#x27;: [0.03, 0.1],\n",
       "                          &#x27;model__n_estimators&#x27;: [200, 400, 600]}],\n",
       "             scoring=&#x27;roc_auc&#x27;)</pre></div></div></div><div class=\"sk-parallel\"><div class=\"sk-parallel-item\"><div class=\"sk-item\"><div class=\"sk-label-container\"><div class=\"sk-label sk-toggleable\"><input class=\"sk-toggleable__control sk-hidden--visually\" id=\"sk-estimator-id-6\" type=\"checkbox\" ><label for=\"sk-estimator-id-6\" class=\"sk-toggleable__label sk-toggleable__label-arrow\">estimator: Pipeline</label><div class=\"sk-toggleable__content\"><pre>Pipeline(steps=[(&#x27;standard&#x27;, StandardScaler()),\n",
       "                (&#x27;model&#x27;,\n",
       "                 &lt;catboost.core.CatBoostClassifier object at 0x7f58bc070b80&gt;)])</pre></div></div></div><div class=\"sk-serial\"><div class=\"sk-item\"><div class=\"sk-serial\"><div class=\"sk-item\"><div class=\"sk-estimator sk-toggleable\"><input class=\"sk-toggleable__control sk-hidden--visually\" id=\"sk-estimator-id-7\" type=\"checkbox\" ><label for=\"sk-estimator-id-7\" class=\"sk-toggleable__label sk-toggleable__label-arrow\">StandardScaler</label><div class=\"sk-toggleable__content\"><pre>StandardScaler()</pre></div></div></div><div class=\"sk-item\"><div class=\"sk-estimator sk-toggleable\"><input class=\"sk-toggleable__control sk-hidden--visually\" id=\"sk-estimator-id-8\" type=\"checkbox\" ><label for=\"sk-estimator-id-8\" class=\"sk-toggleable__label sk-toggleable__label-arrow\">CatBoostClassifier</label><div class=\"sk-toggleable__content\"><pre>&lt;catboost.core.CatBoostClassifier object at 0x7f58bc070b80&gt;</pre></div></div></div></div></div></div></div></div></div></div></div></div>"
      ],
      "text/plain": [
       "GridSearchCV(cv=5,\n",
       "             estimator=Pipeline(steps=[('standard', StandardScaler()),\n",
       "                                       ('model',\n",
       "                                        <catboost.core.CatBoostClassifier object at 0x7f58bc070b80>)]),\n",
       "             n_jobs=-1,\n",
       "             param_grid=[{'model__learning_rate': [0.03, 0.1],\n",
       "                          'model__n_estimators': [200, 400, 600]}],\n",
       "             scoring='roc_auc')"
      ]
     },
     "execution_count": 36,
     "metadata": {},
     "output_type": "execute_result"
    }
   ],
   "source": [
    "cb.fit(X_train, y_train)"
   ]
  },
  {
   "cell_type": "code",
   "execution_count": 37,
   "metadata": {
    "pycharm": {
     "name": "#%%\n"
    }
   },
   "outputs": [
    {
     "data": {
      "text/plain": [
       "({'model__learning_rate': 0.03, 'model__n_estimators': 200}, 0.846959278530961)"
      ]
     },
     "execution_count": 37,
     "metadata": {},
     "output_type": "execute_result"
    }
   ],
   "source": [
    "(cb.best_params_, cb.best_score_)"
   ]
  },
  {
   "cell_type": "code",
   "execution_count": 38,
   "metadata": {
    "pycharm": {
     "name": "#%%\n"
    }
   },
   "outputs": [],
   "source": [
    "cat_model = CatBoostClassifier(learning_rate = cb.best_params_[\"model__learning_rate\"],\n",
    "                               n_estimators  = cb.best_params_[\"model__n_estimators\"],\n",
    "                               verbose       = 200)"
   ]
  },
  {
   "cell_type": "code",
   "execution_count": 39,
   "metadata": {
    "pycharm": {
     "name": "#%%\n"
    }
   },
   "outputs": [
    {
     "name": "stdout",
     "output_type": "stream",
     "text": [
      "0:\tlearn: 0.6731871\ttotal: 2.52ms\tremaining: 502ms\n",
      "199:\tlearn: 0.3696842\ttotal: 507ms\tremaining: 0us\n"
     ]
    }
   ],
   "source": [
    "cat_model.fit(X_train,\n",
    "              y_train)\n",
    "cb_predict = cat_model.predict(X_test)\n",
    "cb_as = accuracy_score(y_test, cb_predict)"
   ]
  },
  {
   "cell_type": "markdown",
   "metadata": {
    "pycharm": {
     "name": "#%% md\n"
    }
   },
   "source": [
    "- нейронные сети."
   ]
  },
  {
   "cell_type": "code",
   "execution_count": 40,
   "metadata": {
    "pycharm": {
     "name": "#%%\n"
    }
   },
   "outputs": [],
   "source": [
    "class MyModule(nn.Module):\n",
    "    def __init__(self, num_units=15, nonlin=F.relu):\n",
    "        super(MyModule, self).__init__()\n",
    "\n",
    "        self.dense0 = nn.Linear(18, num_units)\n",
    "        self.nonlin = nonlin\n",
    "        self.dropout = nn.Dropout(0.5)\n",
    "        self.dense1 = nn.Linear(num_units, 12)\n",
    "        self.dense2 = nn.Linear(12, 6)\n",
    "        self.output = nn.Linear(6, 2)\n",
    "\n",
    "    def forward(self, X, **kwargs):\n",
    "        X = self.nonlin(self.dense0(X))\n",
    "        X = self.dropout(X)\n",
    "        X = torch.tanh(self.dense1(X))\n",
    "        X = torch.relu(self.dense2(X))\n",
    "        X = F.softmax(self.output(X),dim=1)\n",
    "        return X"
   ]
  },
  {
   "cell_type": "code",
   "execution_count": 41,
   "metadata": {
    "pycharm": {
     "name": "#%%\n"
    }
   },
   "outputs": [],
   "source": [
    "pipe_net = Pipeline([('standard', StandardScaler()),\n",
    "                    ('model', NeuralNetClassifier(MyModule, max_epochs=30, iterator_train__shuffle=True))])\n",
    "grid_params_net = [{'model__lr' :[0.01, .05],\n",
    "                   'model__module__num_units': [50, 150],}]"
   ]
  },
  {
   "cell_type": "code",
   "execution_count": 42,
   "metadata": {
    "pycharm": {
     "name": "#%%\n"
    }
   },
   "outputs": [],
   "source": [
    "jobs = -1\n",
    "\n",
    "net = GridSearchCV(estimator=pipe_net,\n",
    "                  param_grid=grid_params_net,\n",
    "                  scoring='roc_auc',\n",
    "                  cv=5,\n",
    "                  n_jobs=jobs)"
   ]
  },
  {
   "cell_type": "code",
   "execution_count": 43,
   "metadata": {
    "pycharm": {
     "name": "#%%\n"
    },
    "scrolled": true
   },
   "outputs": [
    {
     "name": "stdout",
     "output_type": "stream",
     "text": [
      "  epoch    train_loss    valid_acc    valid_loss     dur\n",
      "-------  ------------  -----------  ------------  ------\n",
      "      1        \u001B[36m0.7052\u001B[0m       \u001B[32m0.7162\u001B[0m        \u001B[35m0.6811\u001B[0m  0.2419\n",
      "      2        \u001B[36m0.6621\u001B[0m       \u001B[32m0.7328\u001B[0m        \u001B[35m0.6448\u001B[0m  0.3101\n",
      "      3        \u001B[36m0.6311\u001B[0m       0.7328        \u001B[35m0.6186\u001B[0m  0.2982\n",
      "      4        \u001B[36m0.6102\u001B[0m       0.7328        \u001B[35m0.6004\u001B[0m  0.2893\n",
      "      5        \u001B[36m0.5943\u001B[0m       0.7328        \u001B[35m0.5872\u001B[0m  0.3066\n",
      "      6        \u001B[36m0.5834\u001B[0m       0.7328        \u001B[35m0.5777\u001B[0m  0.2875\n",
      "      7        \u001B[36m0.5768\u001B[0m       0.7328        \u001B[35m0.5705\u001B[0m  0.3022\n",
      "      8        \u001B[36m0.5708\u001B[0m       0.7328        \u001B[35m0.5647\u001B[0m  0.2944\n",
      "      9        \u001B[36m0.5645\u001B[0m       0.7328        \u001B[35m0.5599\u001B[0m  0.2986\n",
      "     10        \u001B[36m0.5599\u001B[0m       0.7328        \u001B[35m0.5558\u001B[0m  0.2961\n",
      "     11        \u001B[36m0.5558\u001B[0m       0.7328        \u001B[35m0.5517\u001B[0m  0.2930\n",
      "     12        \u001B[36m0.5537\u001B[0m       0.7328        \u001B[35m0.5478\u001B[0m  0.2956\n",
      "     13        \u001B[36m0.5501\u001B[0m       0.7328        \u001B[35m0.5438\u001B[0m  0.2884\n",
      "     14        \u001B[36m0.5453\u001B[0m       0.7328        \u001B[35m0.5398\u001B[0m  0.2996\n",
      "     15        \u001B[36m0.5442\u001B[0m       0.7328        \u001B[35m0.5359\u001B[0m  0.3047\n",
      "     16        \u001B[36m0.5390\u001B[0m       0.7328        \u001B[35m0.5319\u001B[0m  0.2823\n",
      "     17        \u001B[36m0.5366\u001B[0m       0.7328        \u001B[35m0.5278\u001B[0m  0.2927\n",
      "     18        \u001B[36m0.5345\u001B[0m       0.7328        \u001B[35m0.5240\u001B[0m  0.2341\n",
      "     19        \u001B[36m0.5309\u001B[0m       0.7328        \u001B[35m0.5201\u001B[0m  0.2899\n",
      "     20        \u001B[36m0.5288\u001B[0m       0.7328        \u001B[35m0.5161\u001B[0m  0.3010\n",
      "     21        \u001B[36m0.5235\u001B[0m       0.7328        \u001B[35m0.5119\u001B[0m  0.3648\n",
      "     22        \u001B[36m0.5201\u001B[0m       0.7328        \u001B[35m0.5078\u001B[0m  0.3037\n",
      "     23        \u001B[36m0.5178\u001B[0m       0.7328        \u001B[35m0.5039\u001B[0m  0.2221\n",
      "     24        \u001B[36m0.5124\u001B[0m       0.7328        \u001B[35m0.5000\u001B[0m  0.2469\n",
      "     25        \u001B[36m0.5120\u001B[0m       0.7328        \u001B[35m0.4964\u001B[0m  0.3077\n",
      "     26        0.5131       0.7328        \u001B[35m0.4932\u001B[0m  0.2234\n",
      "     27        \u001B[36m0.5047\u001B[0m       0.7328        \u001B[35m0.4898\u001B[0m  0.2329\n",
      "     28        0.5050       0.7328        \u001B[35m0.4865\u001B[0m  0.2970\n",
      "     29        \u001B[36m0.5023\u001B[0m       0.7328        \u001B[35m0.4836\u001B[0m  0.3017\n",
      "     30        \u001B[36m0.4992\u001B[0m       0.7328        \u001B[35m0.4803\u001B[0m  0.2906\n",
      "  epoch    train_loss    valid_acc    valid_loss     dur\n",
      "-------  ------------  -----------  ------------  ------\n",
      "      1        \u001B[36m0.7106\u001B[0m       \u001B[32m0.6774\u001B[0m        \u001B[35m0.6810\u001B[0m  0.3136\n",
      "      2        \u001B[36m0.6662\u001B[0m       \u001B[32m0.7328\u001B[0m        \u001B[35m0.6454\u001B[0m  0.2986\n",
      "      3        \u001B[36m0.6365\u001B[0m       0.7328        \u001B[35m0.6236\u001B[0m  0.3052\n",
      "      4        \u001B[36m0.6181\u001B[0m       0.7328        \u001B[35m0.6093\u001B[0m  0.3143\n",
      "      5        \u001B[36m0.6060\u001B[0m       0.7328        \u001B[35m0.5987\u001B[0m  0.2830\n",
      "      6        \u001B[36m0.5958\u001B[0m       0.7328        \u001B[35m0.5914\u001B[0m  0.3737\n",
      "      7        \u001B[36m0.5893\u001B[0m       0.7328        \u001B[35m0.5862\u001B[0m  0.3022\n",
      "      8        \u001B[36m0.5840\u001B[0m       0.7328        \u001B[35m0.5823\u001B[0m  0.2182\n",
      "      9        \u001B[36m0.5809\u001B[0m       0.7328        \u001B[35m0.5789\u001B[0m  0.2328\n",
      "     10        \u001B[36m0.5778\u001B[0m       0.7328        \u001B[35m0.5763\u001B[0m  0.2940\n",
      "     11        \u001B[36m0.5755\u001B[0m       0.7328        \u001B[35m0.5740\u001B[0m  0.3010\n",
      "     12        \u001B[36m0.5733\u001B[0m       0.7328        \u001B[35m0.5718\u001B[0m  0.2957\n",
      "     13        \u001B[36m0.5711\u001B[0m       0.7328        \u001B[35m0.5698\u001B[0m  0.2975\n",
      "     14        \u001B[36m0.5678\u001B[0m       0.7328        \u001B[35m0.5676\u001B[0m  0.2905\n",
      "     15        \u001B[36m0.5655\u001B[0m       0.7328        \u001B[35m0.5653\u001B[0m  0.2953\n",
      "     16        \u001B[36m0.5644\u001B[0m       0.7328        \u001B[35m0.5630\u001B[0m  0.2913\n",
      "     17        \u001B[36m0.5618\u001B[0m       0.7328        \u001B[35m0.5606\u001B[0m  0.2997\n",
      "     18        \u001B[36m0.5584\u001B[0m       0.7328        \u001B[35m0.5578\u001B[0m  0.3003\n",
      "     19        \u001B[36m0.5560\u001B[0m       0.7328        \u001B[35m0.5549\u001B[0m  0.2993\n",
      "     20        \u001B[36m0.5546\u001B[0m       0.7328        \u001B[35m0.5519\u001B[0m  0.3003\n",
      "     21        \u001B[36m0.5519\u001B[0m       0.7328        \u001B[35m0.5487\u001B[0m  0.2947\n",
      "     22        \u001B[36m0.5459\u001B[0m       0.7328        \u001B[35m0.5452\u001B[0m  0.2790\n",
      "     23        \u001B[36m0.5424\u001B[0m       0.7328        \u001B[35m0.5414\u001B[0m  0.2303\n",
      "     24        \u001B[36m0.5400\u001B[0m       0.7328        \u001B[35m0.5376\u001B[0m  0.3653\n",
      "     25        \u001B[36m0.5361\u001B[0m       0.7328        \u001B[35m0.5336\u001B[0m  0.2296\n",
      "     26        \u001B[36m0.5357\u001B[0m       0.7328        \u001B[35m0.5298\u001B[0m  0.3031\n",
      "     27        \u001B[36m0.5311\u001B[0m       0.7328        \u001B[35m0.5258\u001B[0m  0.3589\n",
      "     28        \u001B[36m0.5294\u001B[0m       0.7328        \u001B[35m0.5221\u001B[0m  0.2392\n",
      "     29        \u001B[36m0.5236\u001B[0m       0.7328        \u001B[35m0.5180\u001B[0m  0.2343\n",
      "     30        \u001B[36m0.5189\u001B[0m       0.7328        \u001B[35m0.5139\u001B[0m  0.3722\n",
      "  epoch    train_loss    valid_acc    valid_loss     dur\n",
      "-------  ------------  -----------  ------------  ------\n",
      "      1        \u001B[36m0.7542\u001B[0m       \u001B[32m0.2672\u001B[0m        \u001B[35m0.7220\u001B[0m  0.2794\n",
      "      2        \u001B[36m0.7019\u001B[0m       \u001B[32m0.6330\u001B[0m        \u001B[35m0.6810\u001B[0m  0.2866\n",
      "      3        \u001B[36m0.6675\u001B[0m       \u001B[32m0.7328\u001B[0m        \u001B[35m0.6531\u001B[0m  0.2249\n",
      "      4        \u001B[36m0.6436\u001B[0m       0.7328        \u001B[35m0.6335\u001B[0m  0.3649\n",
      "      5        \u001B[36m0.6260\u001B[0m       0.7328        \u001B[35m0.6196\u001B[0m  0.3062\n",
      "      6        \u001B[36m0.6143\u001B[0m       0.7328        \u001B[35m0.6094\u001B[0m  0.2840\n",
      "      7        \u001B[36m0.6055\u001B[0m       0.7328        \u001B[35m0.6017\u001B[0m  0.2303\n",
      "      8        \u001B[36m0.5987\u001B[0m       0.7328        \u001B[35m0.5956\u001B[0m  0.2917\n",
      "      9        \u001B[36m0.5930\u001B[0m       0.7328        \u001B[35m0.5910\u001B[0m  0.3203\n",
      "     10        \u001B[36m0.5889\u001B[0m       0.7328        \u001B[35m0.5875\u001B[0m  0.3720\n",
      "     11        \u001B[36m0.5858\u001B[0m       0.7328        \u001B[35m0.5849\u001B[0m  0.2896\n",
      "     12        \u001B[36m0.5829\u001B[0m       0.7328        \u001B[35m0.5826\u001B[0m  0.2972\n",
      "     13        \u001B[36m0.5807\u001B[0m       0.7328        \u001B[35m0.5806\u001B[0m  0.2979\n",
      "     14        \u001B[36m0.5796\u001B[0m       0.7328        \u001B[35m0.5791\u001B[0m  0.2965\n",
      "     15        \u001B[36m0.5777\u001B[0m       0.7328        \u001B[35m0.5777\u001B[0m  0.3047\n",
      "     16        \u001B[36m0.5767\u001B[0m       0.7328        \u001B[35m0.5765\u001B[0m  0.2945\n",
      "     17        \u001B[36m0.5752\u001B[0m       0.7328        \u001B[35m0.5754\u001B[0m  0.3013\n",
      "     18        \u001B[36m0.5741\u001B[0m       0.7328        \u001B[35m0.5743\u001B[0m  0.2961\n",
      "     19        \u001B[36m0.5727\u001B[0m       0.7328        \u001B[35m0.5731\u001B[0m  0.2936\n",
      "     20        \u001B[36m0.5718\u001B[0m       0.7328        \u001B[35m0.5720\u001B[0m  0.2943\n",
      "     21        \u001B[36m0.5705\u001B[0m       0.7328        \u001B[35m0.5709\u001B[0m  0.2905\n",
      "     22        \u001B[36m0.5698\u001B[0m       0.7328        \u001B[35m0.5698\u001B[0m  0.3054\n",
      "     23        \u001B[36m0.5690\u001B[0m       0.7328        \u001B[35m0.5686\u001B[0m  0.2843\n",
      "     24        \u001B[36m0.5680\u001B[0m       0.7328        \u001B[35m0.5674\u001B[0m  0.2932\n",
      "     25        \u001B[36m0.5662\u001B[0m       0.7328        \u001B[35m0.5661\u001B[0m  0.2316\n",
      "     26        \u001B[36m0.5647\u001B[0m       0.7328        \u001B[35m0.5648\u001B[0m  0.2387\n",
      "     27        \u001B[36m0.5635\u001B[0m       0.7328        \u001B[35m0.5633\u001B[0m  0.2288\n",
      "     28        \u001B[36m0.5620\u001B[0m       0.7328        \u001B[35m0.5618\u001B[0m  0.3673\n",
      "     29        \u001B[36m0.5598\u001B[0m       0.7328        \u001B[35m0.5600\u001B[0m  0.3015\n",
      "     30        \u001B[36m0.5594\u001B[0m       0.7328        \u001B[35m0.5582\u001B[0m  0.2153\n",
      "  epoch    train_loss    valid_acc    valid_loss     dur\n",
      "-------  ------------  -----------  ------------  ------\n",
      "      1        \u001B[36m0.7094\u001B[0m       \u001B[32m0.5288\u001B[0m        \u001B[35m0.6862\u001B[0m  0.2857\n",
      "      2        \u001B[36m0.6623\u001B[0m       \u001B[32m0.7328\u001B[0m        \u001B[35m0.6445\u001B[0m  0.3088\n",
      "      3        \u001B[36m0.6280\u001B[0m       0.7328        \u001B[35m0.6123\u001B[0m  0.2192\n",
      "      4        \u001B[36m0.6038\u001B[0m       0.7328        \u001B[35m0.5886\u001B[0m  0.2365\n",
      "      5        \u001B[36m0.5821\u001B[0m       0.7328        \u001B[35m0.5709\u001B[0m  0.2970\n",
      "      6        \u001B[36m0.5684\u001B[0m       0.7328        \u001B[35m0.5587\u001B[0m  0.3624\n",
      "      7        \u001B[36m0.5590\u001B[0m       0.7328        \u001B[35m0.5496\u001B[0m  0.3164\n",
      "      8        \u001B[36m0.5525\u001B[0m       0.7328        \u001B[35m0.5431\u001B[0m  0.2970\n",
      "      9        \u001B[36m0.5446\u001B[0m       0.7328        \u001B[35m0.5377\u001B[0m  0.3108\n",
      "     10        \u001B[36m0.5405\u001B[0m       0.7328        \u001B[35m0.5331\u001B[0m  0.2828\n",
      "     11        \u001B[36m0.5346\u001B[0m       0.7328        \u001B[35m0.5291\u001B[0m  0.3105\n",
      "     12        \u001B[36m0.5338\u001B[0m       0.7328        \u001B[35m0.5257\u001B[0m  0.3041\n",
      "     13        \u001B[36m0.5282\u001B[0m       0.7328        \u001B[35m0.5222\u001B[0m  0.3002\n",
      "     14        \u001B[36m0.5258\u001B[0m       0.7328        \u001B[35m0.5191\u001B[0m  0.3024\n",
      "     15        \u001B[36m0.5215\u001B[0m       0.7328        \u001B[35m0.5159\u001B[0m  0.2338\n",
      "     16        \u001B[36m0.5205\u001B[0m       0.7328        \u001B[35m0.5128\u001B[0m  0.2918\n",
      "     17        \u001B[36m0.5183\u001B[0m       0.7328        \u001B[35m0.5100\u001B[0m  0.2904\n",
      "     18        \u001B[36m0.5151\u001B[0m       0.7328        \u001B[35m0.5073\u001B[0m  0.3066\n",
      "     19        \u001B[36m0.5114\u001B[0m       0.7328        \u001B[35m0.5046\u001B[0m  0.2951\n",
      "     20        \u001B[36m0.5107\u001B[0m       0.7328        \u001B[35m0.5021\u001B[0m  0.3040\n",
      "     21        \u001B[36m0.5094\u001B[0m       0.7328        \u001B[35m0.4998\u001B[0m  0.3183\n",
      "     22        \u001B[36m0.5034\u001B[0m       0.7328        \u001B[35m0.4974\u001B[0m  0.2982\n",
      "     23        0.5047       0.7328        \u001B[35m0.4953\u001B[0m  0.2971\n",
      "     24        \u001B[36m0.5020\u001B[0m       0.7328        \u001B[35m0.4932\u001B[0m  0.3076\n",
      "     25        \u001B[36m0.4964\u001B[0m       0.7328        \u001B[35m0.4914\u001B[0m  0.3067\n",
      "     26        0.4988       0.7328        \u001B[35m0.4897\u001B[0m  0.2917\n",
      "     27        \u001B[36m0.4918\u001B[0m       0.7328        \u001B[35m0.4879\u001B[0m  0.2980\n",
      "     28        0.4938       0.7328        \u001B[35m0.4863\u001B[0m  0.3031\n",
      "     29        0.4942       0.7328        \u001B[35m0.4848\u001B[0m  0.3807\n",
      "     30        \u001B[36m0.4897\u001B[0m       0.7328        \u001B[35m0.4834\u001B[0m  0.3048\n",
      "  epoch    train_loss    valid_acc    valid_loss     dur\n",
      "-------  ------------  -----------  ------------  ------\n",
      "      1        \u001B[36m0.7566\u001B[0m       \u001B[32m0.2672\u001B[0m        \u001B[35m0.7234\u001B[0m  0.2842\n",
      "      2        \u001B[36m0.6998\u001B[0m       \u001B[32m0.6885\u001B[0m        \u001B[35m0.6759\u001B[0m  0.2974\n",
      "      3        \u001B[36m0.6591\u001B[0m       \u001B[32m0.7328\u001B[0m        \u001B[35m0.6415\u001B[0m  0.2986\n",
      "      4        \u001B[36m0.6303\u001B[0m       0.7328        \u001B[35m0.6164\u001B[0m  0.2909\n",
      "      5        \u001B[36m0.6085\u001B[0m       0.7328        \u001B[35m0.5982\u001B[0m  0.3028\n",
      "      6        \u001B[36m0.5922\u001B[0m       0.7328        \u001B[35m0.5858\u001B[0m  0.3017\n",
      "      7        \u001B[36m0.5825\u001B[0m       0.7328        \u001B[35m0.5770\u001B[0m  0.2965\n",
      "      8        \u001B[36m0.5746\u001B[0m       0.7328        \u001B[35m0.5706\u001B[0m  0.2888\n",
      "      9        \u001B[36m0.5685\u001B[0m       0.7328        \u001B[35m0.5652\u001B[0m  0.3007\n",
      "     10        \u001B[36m0.5636\u001B[0m       0.7328        \u001B[35m0.5607\u001B[0m  0.3042\n",
      "     11        \u001B[36m0.5596\u001B[0m       0.7328        \u001B[35m0.5567\u001B[0m  0.2964\n",
      "     12        \u001B[36m0.5562\u001B[0m       0.7328        \u001B[35m0.5530\u001B[0m  0.2911\n",
      "     13        \u001B[36m0.5526\u001B[0m       0.7328        \u001B[35m0.5493\u001B[0m  0.3063\n",
      "     14        \u001B[36m0.5474\u001B[0m       0.7328        \u001B[35m0.5456\u001B[0m  0.2911\n",
      "     15        \u001B[36m0.5463\u001B[0m       0.7328        \u001B[35m0.5419\u001B[0m  0.3057\n",
      "     16        \u001B[36m0.5397\u001B[0m       0.7328        \u001B[35m0.5380\u001B[0m  0.2921\n",
      "     17        \u001B[36m0.5375\u001B[0m       0.7328        \u001B[35m0.5340\u001B[0m  0.2916\n",
      "     18        \u001B[36m0.5334\u001B[0m       0.7328        \u001B[35m0.5302\u001B[0m  0.2973\n",
      "     19        \u001B[36m0.5305\u001B[0m       0.7328        \u001B[35m0.5263\u001B[0m  0.2938\n",
      "     20        \u001B[36m0.5284\u001B[0m       0.7328        \u001B[35m0.5224\u001B[0m  0.2959\n",
      "     21        \u001B[36m0.5237\u001B[0m       0.7328        \u001B[35m0.5187\u001B[0m  0.2948\n",
      "     22        \u001B[36m0.5221\u001B[0m       0.7328        \u001B[35m0.5152\u001B[0m  0.2948\n",
      "     23        \u001B[36m0.5157\u001B[0m       0.7328        \u001B[35m0.5117\u001B[0m  0.2841\n",
      "     24        0.5172       0.7328        \u001B[35m0.5087\u001B[0m  0.3037\n",
      "     25        \u001B[36m0.5100\u001B[0m       0.7328        \u001B[35m0.5059\u001B[0m  0.2298\n",
      "     26        \u001B[36m0.5080\u001B[0m       0.7328        \u001B[35m0.5030\u001B[0m  0.2851\n",
      "     27        \u001B[36m0.5062\u001B[0m       0.7328        \u001B[35m0.5002\u001B[0m  0.2917\n",
      "     28        \u001B[36m0.5034\u001B[0m       0.7328        \u001B[35m0.4976\u001B[0m  0.2957\n",
      "     29        \u001B[36m0.5014\u001B[0m       0.7328        \u001B[35m0.4951\u001B[0m  0.2827\n",
      "     30        \u001B[36m0.4971\u001B[0m       0.7328        \u001B[35m0.4926\u001B[0m  0.3085\n",
      "  epoch    train_loss    valid_acc    valid_loss     dur\n",
      "-------  ------------  -----------  ------------  ------\n",
      "      1        \u001B[36m0.7660\u001B[0m       \u001B[32m0.2672\u001B[0m        \u001B[35m0.7283\u001B[0m  0.3896\n",
      "      2        \u001B[36m0.7109\u001B[0m       \u001B[32m0.6807\u001B[0m        \u001B[35m0.6875\u001B[0m  0.4732\n",
      "      3        \u001B[36m0.6757\u001B[0m       \u001B[32m0.7328\u001B[0m        \u001B[35m0.6596\u001B[0m  0.6081\n",
      "      4        \u001B[36m0.6508\u001B[0m       0.7328        \u001B[35m0.6394\u001B[0m  0.5008\n",
      "      5        \u001B[36m0.6329\u001B[0m       0.7328        \u001B[35m0.6248\u001B[0m  0.5793\n",
      "      6        \u001B[36m0.6200\u001B[0m       0.7328        \u001B[35m0.6139\u001B[0m  0.5126\n",
      "      7        \u001B[36m0.6103\u001B[0m       0.7328        \u001B[35m0.6059\u001B[0m  0.4896\n",
      "      8        \u001B[36m0.6029\u001B[0m       0.7328        \u001B[35m0.5995\u001B[0m  0.3998\n",
      "      9        \u001B[36m0.5971\u001B[0m       0.7328        \u001B[35m0.5945\u001B[0m  0.5073\n",
      "     10        \u001B[36m0.5928\u001B[0m       0.7328        \u001B[35m0.5909\u001B[0m  0.4080\n",
      "     11        \u001B[36m0.5888\u001B[0m       0.7328        \u001B[35m0.5879\u001B[0m  0.7214\n",
      "     12        \u001B[36m0.5865\u001B[0m       0.7328        \u001B[35m0.5855\u001B[0m  0.4768\n",
      "     13        \u001B[36m0.5843\u001B[0m       0.7328        \u001B[35m0.5837\u001B[0m  0.4955\n",
      "     14        \u001B[36m0.5826\u001B[0m       0.7328        \u001B[35m0.5819\u001B[0m  0.4136\n",
      "     15        \u001B[36m0.5809\u001B[0m       0.7328        \u001B[35m0.5804\u001B[0m  0.5275\n",
      "     16        \u001B[36m0.5795\u001B[0m       0.7328        \u001B[35m0.5789\u001B[0m  0.5099\n",
      "     17        \u001B[36m0.5783\u001B[0m       0.7328        \u001B[35m0.5775\u001B[0m  0.5067\n",
      "     18        \u001B[36m0.5771\u001B[0m       0.7328        \u001B[35m0.5760\u001B[0m  0.7053\n",
      "     19        \u001B[36m0.5756\u001B[0m       0.7328        \u001B[35m0.5744\u001B[0m  0.6947\n",
      "     20        \u001B[36m0.5741\u001B[0m       0.7328        \u001B[35m0.5727\u001B[0m  0.6743\n",
      "     21        \u001B[36m0.5724\u001B[0m       0.7328        \u001B[35m0.5707\u001B[0m  0.4209\n",
      "     22        \u001B[36m0.5711\u001B[0m       0.7328        \u001B[35m0.5687\u001B[0m  0.5272\n",
      "     23        \u001B[36m0.5693\u001B[0m       0.7328        \u001B[35m0.5665\u001B[0m  0.4288\n",
      "     24        \u001B[36m0.5666\u001B[0m       0.7328        \u001B[35m0.5640\u001B[0m  0.4972\n",
      "     25        \u001B[36m0.5648\u001B[0m       0.7328        \u001B[35m0.5614\u001B[0m  0.4901\n",
      "     26        \u001B[36m0.5627\u001B[0m       0.7328        \u001B[35m0.5586\u001B[0m  0.4926\n",
      "     27        \u001B[36m0.5599\u001B[0m       0.7328        \u001B[35m0.5555\u001B[0m  0.6897\n",
      "     28        \u001B[36m0.5560\u001B[0m       0.7328        \u001B[35m0.5520\u001B[0m  0.5101\n",
      "     29        \u001B[36m0.5545\u001B[0m       0.7328        \u001B[35m0.5485\u001B[0m  0.5739\n",
      "     30        \u001B[36m0.5513\u001B[0m       0.7328        \u001B[35m0.5448\u001B[0m  0.5092\n",
      "  epoch    train_loss    valid_acc    valid_loss     dur\n",
      "-------  ------------  -----------  ------------  ------\n",
      "      1        \u001B[36m0.7670\u001B[0m       \u001B[32m0.2672\u001B[0m        \u001B[35m0.7192\u001B[0m  0.5064\n",
      "      2        \u001B[36m0.7021\u001B[0m       \u001B[32m0.7361\u001B[0m        \u001B[35m0.6757\u001B[0m  0.4772\n",
      "      3        \u001B[36m0.6659\u001B[0m       0.7328        \u001B[35m0.6491\u001B[0m  0.4119\n",
      "      4        \u001B[36m0.6423\u001B[0m       0.7328        \u001B[35m0.6303\u001B[0m  0.5783\n",
      "      5        \u001B[36m0.6256\u001B[0m       0.7328        \u001B[35m0.6171\u001B[0m  0.5229\n",
      "      6        \u001B[36m0.6130\u001B[0m       0.7328        \u001B[35m0.6069\u001B[0m  0.6703\n",
      "      7        \u001B[36m0.6040\u001B[0m       0.7328        \u001B[35m0.5989\u001B[0m  0.3985\n",
      "      8        \u001B[36m0.5972\u001B[0m       0.7328        \u001B[35m0.5927\u001B[0m  0.4213\n",
      "      9        \u001B[36m0.5913\u001B[0m       0.7328        \u001B[35m0.5878\u001B[0m  0.5918\n",
      "     10        \u001B[36m0.5860\u001B[0m       0.7328        \u001B[35m0.5834\u001B[0m  0.5036\n",
      "     11        \u001B[36m0.5819\u001B[0m       0.7328        \u001B[35m0.5794\u001B[0m  0.4225\n",
      "     12        \u001B[36m0.5799\u001B[0m       0.7328        \u001B[35m0.5762\u001B[0m  0.4942\n",
      "     13        \u001B[36m0.5757\u001B[0m       0.7328        \u001B[35m0.5731\u001B[0m  0.4986\n",
      "     14        \u001B[36m0.5733\u001B[0m       0.7328        \u001B[35m0.5704\u001B[0m  0.5935\n",
      "     15        \u001B[36m0.5700\u001B[0m       0.7328        \u001B[35m0.5677\u001B[0m  0.4080\n",
      "     16        \u001B[36m0.5681\u001B[0m       0.7328        \u001B[35m0.5652\u001B[0m  0.5194\n",
      "     17        \u001B[36m0.5652\u001B[0m       0.7328        \u001B[35m0.5626\u001B[0m  0.4870\n",
      "     18        \u001B[36m0.5618\u001B[0m       0.7328        \u001B[35m0.5599\u001B[0m  0.4883\n",
      "     19        \u001B[36m0.5595\u001B[0m       0.7328        \u001B[35m0.5573\u001B[0m  0.6051\n",
      "     20        \u001B[36m0.5558\u001B[0m       0.7328        \u001B[35m0.5545\u001B[0m  0.5115\n",
      "     21        \u001B[36m0.5528\u001B[0m       0.7328        \u001B[35m0.5515\u001B[0m  0.5008\n",
      "     22        \u001B[36m0.5498\u001B[0m       0.7328        \u001B[35m0.5484\u001B[0m  0.4229\n",
      "     23        \u001B[36m0.5465\u001B[0m       0.7328        \u001B[35m0.5453\u001B[0m  0.4822\n",
      "     24        \u001B[36m0.5438\u001B[0m       0.7328        \u001B[35m0.5419\u001B[0m  0.5026\n",
      "     25        \u001B[36m0.5408\u001B[0m       0.7328        \u001B[35m0.5385\u001B[0m  0.4041\n",
      "     26        \u001B[36m0.5356\u001B[0m       0.7328        \u001B[35m0.5348\u001B[0m  0.5042\n",
      "     27        \u001B[36m0.5331\u001B[0m       0.7328        \u001B[35m0.5312\u001B[0m  0.5807\n",
      "     28        \u001B[36m0.5287\u001B[0m       0.7328        \u001B[35m0.5275\u001B[0m  0.4169\n",
      "     29        \u001B[36m0.5267\u001B[0m       0.7328        \u001B[35m0.5237\u001B[0m  0.3224\n",
      "     30        \u001B[36m0.5228\u001B[0m       0.7328        \u001B[35m0.5201\u001B[0m  0.4821\n",
      "  epoch    train_loss    valid_acc    valid_loss     dur\n",
      "-------  ------------  -----------  ------------  ------\n",
      "      1        \u001B[36m0.6438\u001B[0m       \u001B[32m0.7328\u001B[0m        \u001B[35m0.6192\u001B[0m  0.5063\n",
      "      2        \u001B[36m0.6076\u001B[0m       0.7328        \u001B[35m0.5948\u001B[0m  0.5931\n",
      "      3        \u001B[36m0.5876\u001B[0m       0.7328        \u001B[35m0.5799\u001B[0m  0.6175\n",
      "      4        \u001B[36m0.5731\u001B[0m       0.7328        \u001B[35m0.5692\u001B[0m  0.4273\n",
      "      5        \u001B[36m0.5648\u001B[0m       0.7328        \u001B[35m0.5608\u001B[0m  0.4926\n",
      "      6        \u001B[36m0.5569\u001B[0m       0.7328        \u001B[35m0.5532\u001B[0m  0.4993\n",
      "      7        \u001B[36m0.5483\u001B[0m       0.7328        \u001B[35m0.5462\u001B[0m  0.4997\n",
      "      8        \u001B[36m0.5414\u001B[0m       0.7328        \u001B[35m0.5394\u001B[0m  0.6910\n",
      "      9        \u001B[36m0.5355\u001B[0m       0.7328        \u001B[35m0.5324\u001B[0m  0.5819\n",
      "     10        \u001B[36m0.5288\u001B[0m       0.7328        \u001B[35m0.5255\u001B[0m  0.6179\n",
      "     11        \u001B[36m0.5227\u001B[0m       0.7328        \u001B[35m0.5187\u001B[0m  0.5719\n",
      "     12        \u001B[36m0.5180\u001B[0m       0.7328        \u001B[35m0.5131\u001B[0m  0.5007\n",
      "     13        \u001B[36m0.5129\u001B[0m       0.7328        \u001B[35m0.5072\u001B[0m  0.4107\n",
      "     14        \u001B[36m0.5058\u001B[0m       0.7328        \u001B[35m0.5016\u001B[0m  0.5752\n",
      "     15        \u001B[36m0.5024\u001B[0m       0.7328        \u001B[35m0.4969\u001B[0m  0.4321\n",
      "     16        \u001B[36m0.4957\u001B[0m       0.7328        \u001B[35m0.4925\u001B[0m  0.5277\n",
      "     17        \u001B[36m0.4910\u001B[0m       0.7328        \u001B[35m0.4887\u001B[0m  0.5049\n",
      "     18        \u001B[36m0.4870\u001B[0m       \u001B[32m0.7350\u001B[0m        \u001B[35m0.4853\u001B[0m  0.5074\n",
      "     19        \u001B[36m0.4869\u001B[0m       \u001B[32m0.7361\u001B[0m        \u001B[35m0.4822\u001B[0m  0.4885\n",
      "     20        \u001B[36m0.4868\u001B[0m       \u001B[32m0.7395\u001B[0m        \u001B[35m0.4794\u001B[0m  0.4980\n",
      "     21        \u001B[36m0.4812\u001B[0m       \u001B[32m0.7461\u001B[0m        \u001B[35m0.4770\u001B[0m  0.5119\n",
      "     22        \u001B[36m0.4772\u001B[0m       \u001B[32m0.7494\u001B[0m        \u001B[35m0.4747\u001B[0m  0.4998\n",
      "     23        \u001B[36m0.4765\u001B[0m       \u001B[32m0.7583\u001B[0m        \u001B[35m0.4726\u001B[0m  0.4870\n",
      "     24        \u001B[36m0.4703\u001B[0m       \u001B[32m0.7650\u001B[0m        \u001B[35m0.4705\u001B[0m  0.4893\n",
      "     25        0.4737       \u001B[32m0.7705\u001B[0m        \u001B[35m0.4689\u001B[0m  0.5178\n",
      "     26        0.4735       \u001B[32m0.7716\u001B[0m        \u001B[35m0.4675\u001B[0m  0.7913\n",
      "     27        \u001B[36m0.4679\u001B[0m       \u001B[32m0.7761\u001B[0m        \u001B[35m0.4657\u001B[0m  0.4865\n",
      "     28        \u001B[36m0.4669\u001B[0m       \u001B[32m0.7871\u001B[0m        \u001B[35m0.4649\u001B[0m  0.4827\n",
      "     29        \u001B[36m0.4623\u001B[0m       0.7860        \u001B[35m0.4632\u001B[0m  0.5015\n",
      "     30        0.4628       0.7849        \u001B[35m0.4620\u001B[0m  0.5087\n",
      "  epoch    train_loss    valid_acc    valid_loss     dur\n",
      "-------  ------------  -----------  ------------  ------\n",
      "      1        \u001B[36m0.7580\u001B[0m       \u001B[32m0.3991\u001B[0m        \u001B[35m0.7053\u001B[0m  0.5147\n",
      "      2        \u001B[36m0.6708\u001B[0m       \u001B[32m0.7328\u001B[0m        \u001B[35m0.6331\u001B[0m  0.4277\n",
      "      3        \u001B[36m0.6113\u001B[0m       0.7328        \u001B[35m0.5878\u001B[0m  0.5254\n",
      "      4        \u001B[36m0.5766\u001B[0m       0.7328        \u001B[35m0.5609\u001B[0m  0.5982\n",
      "      5        \u001B[36m0.5531\u001B[0m       0.7328        \u001B[35m0.5444\u001B[0m  0.5833\n",
      "      6        \u001B[36m0.5403\u001B[0m       0.7328        \u001B[35m0.5326\u001B[0m  0.4922\n",
      "      7        \u001B[36m0.5300\u001B[0m       0.7328        \u001B[35m0.5231\u001B[0m  0.4978\n",
      "      8        \u001B[36m0.5192\u001B[0m       0.7328        \u001B[35m0.5145\u001B[0m  0.4948\n",
      "      9        \u001B[36m0.5098\u001B[0m       0.7328        \u001B[35m0.5060\u001B[0m  0.6088\n",
      "     10        \u001B[36m0.5048\u001B[0m       0.7328        \u001B[35m0.4983\u001B[0m  0.4832\n",
      "     11        \u001B[36m0.4977\u001B[0m       0.7328        \u001B[35m0.4915\u001B[0m  0.4873\n",
      "     12        \u001B[36m0.4907\u001B[0m       0.7328        \u001B[35m0.4858\u001B[0m  0.4173\n",
      "     13        \u001B[36m0.4849\u001B[0m       0.7328        \u001B[35m0.4807\u001B[0m  0.4894\n",
      "     14        \u001B[36m0.4811\u001B[0m       0.7328        \u001B[35m0.4767\u001B[0m  0.6100\n",
      "     15        \u001B[36m0.4765\u001B[0m       0.7328        \u001B[35m0.4737\u001B[0m  0.4818\n",
      "     16        \u001B[36m0.4738\u001B[0m       0.7328        \u001B[35m0.4714\u001B[0m  0.6095\n",
      "     17        \u001B[36m0.4725\u001B[0m       \u001B[32m0.7594\u001B[0m        \u001B[35m0.4694\u001B[0m  0.5832\n",
      "     18        \u001B[36m0.4684\u001B[0m       \u001B[32m0.7639\u001B[0m        \u001B[35m0.4678\u001B[0m  0.5045\n",
      "     19        \u001B[36m0.4674\u001B[0m       \u001B[32m0.7705\u001B[0m        \u001B[35m0.4663\u001B[0m  0.6816\n",
      "     20        \u001B[36m0.4662\u001B[0m       \u001B[32m0.7783\u001B[0m        \u001B[35m0.4652\u001B[0m  0.6244\n",
      "     21        \u001B[36m0.4647\u001B[0m       \u001B[32m0.7794\u001B[0m        \u001B[35m0.4641\u001B[0m  0.6705\n",
      "     22        \u001B[36m0.4623\u001B[0m       \u001B[32m0.7805\u001B[0m        \u001B[35m0.4630\u001B[0m  0.7249\n",
      "     23        \u001B[36m0.4598\u001B[0m       \u001B[32m0.7860\u001B[0m        \u001B[35m0.4623\u001B[0m  0.5050\n",
      "     24        0.4608       0.7860        \u001B[35m0.4615\u001B[0m  0.5017\n",
      "     25        \u001B[36m0.4598\u001B[0m       \u001B[32m0.7905\u001B[0m        \u001B[35m0.4608\u001B[0m  0.5078\n",
      "     26        0.4608       0.7905        \u001B[35m0.4601\u001B[0m  0.6007\n",
      "     27        \u001B[36m0.4560\u001B[0m       \u001B[32m0.7927\u001B[0m        \u001B[35m0.4594\u001B[0m  0.4006\n",
      "     28        0.4592       0.7882        \u001B[35m0.4592\u001B[0m  0.4276\n",
      "     29        \u001B[36m0.4559\u001B[0m       0.7905        \u001B[35m0.4584\u001B[0m  0.6125\n",
      "     30        0.4579       0.7916        \u001B[35m0.4581\u001B[0m  0.4853\n",
      "  epoch    train_loss    valid_acc    valid_loss     dur\n",
      "-------  ------------  -----------  ------------  ------\n",
      "      1        \u001B[36m0.6504\u001B[0m       \u001B[32m0.7328\u001B[0m        \u001B[35m0.6397\u001B[0m  0.4034\n",
      "      2        \u001B[36m0.6287\u001B[0m       0.7328        \u001B[35m0.6213\u001B[0m  0.5862\n",
      "      3        \u001B[36m0.6123\u001B[0m       0.7328        \u001B[35m0.6077\u001B[0m  0.6041\n",
      "      4        \u001B[36m0.6012\u001B[0m       0.7328        \u001B[35m0.5960\u001B[0m  0.4974\n",
      "      5        \u001B[36m0.5912\u001B[0m       0.7328        \u001B[35m0.5855\u001B[0m  0.5833\n",
      "      6        \u001B[36m0.5815\u001B[0m       0.7328        \u001B[35m0.5766\u001B[0m  0.5065\n",
      "      7        \u001B[36m0.5734\u001B[0m       0.7328        \u001B[35m0.5683\u001B[0m  0.5066\n",
      "      8        \u001B[36m0.5663\u001B[0m       0.7328        \u001B[35m0.5609\u001B[0m  0.5141\n",
      "      9        \u001B[36m0.5590\u001B[0m       0.7328        \u001B[35m0.5541\u001B[0m  0.4883\n",
      "     10        \u001B[36m0.5531\u001B[0m       0.7328        \u001B[35m0.5477\u001B[0m  0.6078\n",
      "     11        \u001B[36m0.5446\u001B[0m       0.7328        \u001B[35m0.5414\u001B[0m  0.5038\n",
      "     12        \u001B[36m0.5402\u001B[0m       0.7328        \u001B[35m0.5353\u001B[0m  0.5176\n",
      "     13        \u001B[36m0.5327\u001B[0m       0.7328        \u001B[35m0.5293\u001B[0m  0.6689\n",
      "     14        \u001B[36m0.5287\u001B[0m       0.7328        \u001B[35m0.5236\u001B[0m  0.6086\n",
      "     15        \u001B[36m0.5217\u001B[0m       0.7328        \u001B[35m0.5180\u001B[0m  0.4026\n",
      "     16        \u001B[36m0.5152\u001B[0m       0.7328        \u001B[35m0.5126\u001B[0m  0.4942\n",
      "     17        \u001B[36m0.5104\u001B[0m       0.7328        \u001B[35m0.5075\u001B[0m  0.5026\n",
      "     18        \u001B[36m0.5065\u001B[0m       0.7328        \u001B[35m0.5027\u001B[0m  0.4981\n",
      "     19        \u001B[36m0.5018\u001B[0m       0.7328        \u001B[35m0.4983\u001B[0m  0.5721\n",
      "     20        \u001B[36m0.4960\u001B[0m       0.7328        \u001B[35m0.4941\u001B[0m  0.5125\n",
      "     21        \u001B[36m0.4917\u001B[0m       0.7328        \u001B[35m0.4902\u001B[0m  0.6149\n",
      "     22        \u001B[36m0.4888\u001B[0m       0.7328        \u001B[35m0.4864\u001B[0m  0.5195\n",
      "     23        \u001B[36m0.4845\u001B[0m       0.7328        \u001B[35m0.4831\u001B[0m  0.4810\n",
      "     24        \u001B[36m0.4810\u001B[0m       0.7328        \u001B[35m0.4801\u001B[0m  0.5038\n",
      "     25        \u001B[36m0.4770\u001B[0m       0.7328        \u001B[35m0.4772\u001B[0m  0.5078\n",
      "     26        \u001B[36m0.4730\u001B[0m       0.7328        \u001B[35m0.4744\u001B[0m  0.5063\n",
      "     27        \u001B[36m0.4703\u001B[0m       0.7328        \u001B[35m0.4719\u001B[0m  0.4918\n",
      "     28        \u001B[36m0.4695\u001B[0m       \u001B[32m0.7373\u001B[0m        \u001B[35m0.4696\u001B[0m  0.5767\n",
      "     29        \u001B[36m0.4656\u001B[0m       \u001B[32m0.7439\u001B[0m        \u001B[35m0.4676\u001B[0m  0.5911\n",
      "     30        0.4656       \u001B[32m0.7506\u001B[0m        \u001B[35m0.4655\u001B[0m  0.5091\n",
      "  epoch    train_loss    valid_acc    valid_loss     dur\n",
      "-------  ------------  -----------  ------------  ------\n",
      "      1        \u001B[36m0.5987\u001B[0m       \u001B[32m0.7328\u001B[0m        \u001B[35m0.5827\u001B[0m  0.2971\n",
      "      2        \u001B[36m0.5755\u001B[0m       0.7328        \u001B[35m0.5682\u001B[0m  0.2951\n",
      "      3        \u001B[36m0.5655\u001B[0m       0.7328        \u001B[35m0.5564\u001B[0m  0.3080\n",
      "      4        \u001B[36m0.5521\u001B[0m       0.7328        \u001B[35m0.5419\u001B[0m  0.2921\n",
      "      5        \u001B[36m0.5387\u001B[0m       0.7328        \u001B[35m0.5254\u001B[0m  0.2973\n",
      "      6        \u001B[36m0.5241\u001B[0m       0.7328        \u001B[35m0.5084\u001B[0m  0.3036\n",
      "      7        \u001B[36m0.5085\u001B[0m       0.7328        \u001B[35m0.4922\u001B[0m  0.3758\n",
      "      8        \u001B[36m0.5000\u001B[0m       0.7328        \u001B[35m0.4800\u001B[0m  0.2981\n",
      "      9        \u001B[36m0.4871\u001B[0m       0.7328        \u001B[35m0.4713\u001B[0m  0.2248\n",
      "     10        \u001B[36m0.4800\u001B[0m       \u001B[32m0.7539\u001B[0m        \u001B[35m0.4629\u001B[0m  0.2392\n",
      "     11        \u001B[36m0.4740\u001B[0m       \u001B[32m0.8004\u001B[0m        \u001B[35m0.4557\u001B[0m  0.2910\n",
      "     12        \u001B[36m0.4729\u001B[0m       0.7971        \u001B[35m0.4512\u001B[0m  0.3809\n",
      "     13        \u001B[36m0.4675\u001B[0m       0.7993        \u001B[35m0.4472\u001B[0m  0.2156\n",
      "     14        \u001B[36m0.4615\u001B[0m       \u001B[32m0.8016\u001B[0m        \u001B[35m0.4453\u001B[0m  0.2975\n",
      "     15        \u001B[36m0.4611\u001B[0m       \u001B[32m0.8027\u001B[0m        \u001B[35m0.4413\u001B[0m  0.3707\n",
      "     16        \u001B[36m0.4590\u001B[0m       \u001B[32m0.8060\u001B[0m        \u001B[35m0.4394\u001B[0m  0.3143\n",
      "     17        \u001B[36m0.4535\u001B[0m       0.8049        \u001B[35m0.4364\u001B[0m  0.2988\n",
      "     18        0.4545       \u001B[32m0.8093\u001B[0m        \u001B[35m0.4342\u001B[0m  0.3006\n",
      "     19        0.4541       0.8082        \u001B[35m0.4330\u001B[0m  0.3001\n",
      "     20        \u001B[36m0.4465\u001B[0m       0.8082        \u001B[35m0.4312\u001B[0m  0.2898\n",
      "     21        0.4483       \u001B[32m0.8115\u001B[0m        \u001B[35m0.4299\u001B[0m  0.3032\n",
      "     22        0.4533       0.8093        0.4331  0.2998\n",
      "     23        0.4498       0.8071        \u001B[35m0.4292\u001B[0m  0.2997\n",
      "     24        \u001B[36m0.4442\u001B[0m       0.8104        \u001B[35m0.4282\u001B[0m  0.2935\n",
      "     25        \u001B[36m0.4392\u001B[0m       0.8060        0.4286  0.2892\n",
      "     26        0.4434       0.7982        0.4313  0.3068\n",
      "     27        0.4454       0.8104        \u001B[35m0.4271\u001B[0m  0.2972\n",
      "     28        0.4426       0.8093        \u001B[35m0.4266\u001B[0m  0.2970\n",
      "     29        0.4425       0.8115        \u001B[35m0.4264\u001B[0m  0.2975\n",
      "     30        0.4417       0.8115        \u001B[35m0.4263\u001B[0m  0.3038\n",
      "  epoch    train_loss    valid_acc    valid_loss     dur\n",
      "-------  ------------  -----------  ------------  ------\n",
      "      1        \u001B[36m0.6312\u001B[0m       \u001B[32m0.7328\u001B[0m        \u001B[35m0.5728\u001B[0m  0.2229\n",
      "      2        \u001B[36m0.5605\u001B[0m       0.7328        \u001B[35m0.5434\u001B[0m  0.3647\n",
      "      3        \u001B[36m0.5349\u001B[0m       0.7328        \u001B[35m0.5180\u001B[0m  0.2922\n",
      "      4        \u001B[36m0.5114\u001B[0m       0.7328        \u001B[35m0.4952\u001B[0m  0.3107\n",
      "      5        \u001B[36m0.4923\u001B[0m       \u001B[32m0.7661\u001B[0m        \u001B[35m0.4797\u001B[0m  0.2969\n",
      "      6        \u001B[36m0.4777\u001B[0m       \u001B[32m0.7783\u001B[0m        \u001B[35m0.4706\u001B[0m  0.3014\n",
      "      7        \u001B[36m0.4758\u001B[0m       \u001B[32m0.7871\u001B[0m        \u001B[35m0.4665\u001B[0m  0.3107\n",
      "      8        \u001B[36m0.4648\u001B[0m       \u001B[32m0.7916\u001B[0m        \u001B[35m0.4634\u001B[0m  0.3685\n",
      "      9        \u001B[36m0.4637\u001B[0m       0.7905        \u001B[35m0.4620\u001B[0m  0.2242\n",
      "     10        \u001B[36m0.4570\u001B[0m       0.7894        \u001B[35m0.4575\u001B[0m  0.3747\n",
      "     11        \u001B[36m0.4531\u001B[0m       0.7882        0.4582  0.3063\n",
      "     12        0.4543       0.7882        \u001B[35m0.4554\u001B[0m  0.3065\n",
      "     13        0.4550       0.7849        \u001B[35m0.4540\u001B[0m  0.2989\n",
      "     14        0.4538       0.7871        0.4544  0.3039\n",
      "     15        \u001B[36m0.4487\u001B[0m       0.7882        \u001B[35m0.4530\u001B[0m  0.2986\n",
      "     16        0.4506       0.7849        0.4535  0.2905\n",
      "     17        \u001B[36m0.4438\u001B[0m       0.7882        \u001B[35m0.4520\u001B[0m  0.3032\n",
      "     18        \u001B[36m0.4417\u001B[0m       0.7860        0.4527  0.2942\n",
      "     19        0.4425       0.7838        \u001B[35m0.4516\u001B[0m  0.3799\n",
      "     20        \u001B[36m0.4408\u001B[0m       0.7838        \u001B[35m0.4514\u001B[0m  0.2936\n",
      "     21        \u001B[36m0.4402\u001B[0m       0.7871        \u001B[35m0.4505\u001B[0m  0.2244\n",
      "     22        \u001B[36m0.4398\u001B[0m       0.7894        \u001B[35m0.4500\u001B[0m  0.2946\n",
      "     23        0.4410       0.7849        0.4508  0.2343\n",
      "     24        0.4410       \u001B[32m0.8016\u001B[0m        \u001B[35m0.4496\u001B[0m  0.2946\n",
      "     25        \u001B[36m0.4384\u001B[0m       0.7860        0.4497  0.2979\n",
      "     26        \u001B[36m0.4343\u001B[0m       0.7894        0.4505  0.2887\n",
      "     27        0.4385       0.7916        0.4498  0.2939\n",
      "     28        0.4348       0.7905        0.4519  0.3039\n",
      "     29        0.4355       0.7905        0.4507  0.2871\n",
      "     30        0.4348       0.7927        0.4505  0.3098\n",
      "  epoch    train_loss    valid_acc    valid_loss     dur\n",
      "-------  ------------  -----------  ------------  ------\n",
      "      1        \u001B[36m0.6213\u001B[0m       \u001B[32m0.7328\u001B[0m        \u001B[35m0.5925\u001B[0m  0.3494\n",
      "      2        \u001B[36m0.5860\u001B[0m       0.7328        \u001B[35m0.5804\u001B[0m  0.2318\n",
      "      3        \u001B[36m0.5781\u001B[0m       0.7328        \u001B[35m0.5757\u001B[0m  0.3766\n",
      "      4        \u001B[36m0.5738\u001B[0m       0.7328        \u001B[35m0.5721\u001B[0m  0.2914\n",
      "      5        \u001B[36m0.5699\u001B[0m       0.7328        \u001B[35m0.5663\u001B[0m  0.2219\n",
      "      6        \u001B[36m0.5638\u001B[0m       0.7328        \u001B[35m0.5584\u001B[0m  0.3108\n",
      "      7        \u001B[36m0.5538\u001B[0m       0.7328        \u001B[35m0.5475\u001B[0m  0.2261\n",
      "      8        \u001B[36m0.5426\u001B[0m       0.7328        \u001B[35m0.5339\u001B[0m  0.2993\n",
      "      9        \u001B[36m0.5303\u001B[0m       0.7328        \u001B[35m0.5201\u001B[0m  0.2896\n",
      "     10        \u001B[36m0.5155\u001B[0m       0.7328        \u001B[35m0.5068\u001B[0m  0.2827\n",
      "     11        \u001B[36m0.5040\u001B[0m       0.7328        \u001B[35m0.4951\u001B[0m  0.2269\n",
      "     12        \u001B[36m0.4880\u001B[0m       0.7328        \u001B[35m0.4845\u001B[0m  0.2336\n",
      "     13        \u001B[36m0.4845\u001B[0m       \u001B[32m0.7539\u001B[0m        \u001B[35m0.4771\u001B[0m  0.3824\n",
      "     14        \u001B[36m0.4730\u001B[0m       \u001B[32m0.7705\u001B[0m        \u001B[35m0.4716\u001B[0m  0.2921\n",
      "     15        \u001B[36m0.4711\u001B[0m       \u001B[32m0.7783\u001B[0m        \u001B[35m0.4659\u001B[0m  0.3055\n",
      "     16        \u001B[36m0.4678\u001B[0m       0.7761        \u001B[35m0.4631\u001B[0m  0.3108\n",
      "     17        \u001B[36m0.4590\u001B[0m       \u001B[32m0.7838\u001B[0m        \u001B[35m0.4608\u001B[0m  0.3011\n",
      "     18        \u001B[36m0.4583\u001B[0m       0.7838        \u001B[35m0.4577\u001B[0m  0.3710\n",
      "     19        0.4589       0.7805        \u001B[35m0.4558\u001B[0m  0.2975\n",
      "     20        \u001B[36m0.4529\u001B[0m       \u001B[32m0.7905\u001B[0m        0.4575  0.3256\n",
      "     21        0.4531       \u001B[32m0.7927\u001B[0m        0.4577  0.3229\n",
      "     22        0.4564       0.7805        \u001B[35m0.4541\u001B[0m  0.3156\n",
      "     23        \u001B[36m0.4491\u001B[0m       0.7827        \u001B[35m0.4536\u001B[0m  0.3783\n",
      "     24        \u001B[36m0.4449\u001B[0m       0.7805        \u001B[35m0.4534\u001B[0m  0.2994\n",
      "     25        0.4470       0.7827        \u001B[35m0.4526\u001B[0m  0.3749\n",
      "     26        0.4470       0.7838        \u001B[35m0.4523\u001B[0m  0.3115\n",
      "     27        \u001B[36m0.4406\u001B[0m       0.7860        \u001B[35m0.4509\u001B[0m  0.2806\n",
      "     28        0.4439       \u001B[32m0.7949\u001B[0m        \u001B[35m0.4507\u001B[0m  0.3186\n",
      "     29        \u001B[36m0.4386\u001B[0m       0.7938        \u001B[35m0.4501\u001B[0m  0.2962\n",
      "     30        0.4422       0.7927        0.4502  0.3190\n",
      "  epoch    train_loss    valid_acc    valid_loss     dur\n",
      "-------  ------------  -----------  ------------  ------\n",
      "      1        \u001B[36m0.7470\u001B[0m       \u001B[32m0.7328\u001B[0m        \u001B[35m0.6437\u001B[0m  0.2889\n",
      "      2        \u001B[36m0.6106\u001B[0m       0.7328        \u001B[35m0.5873\u001B[0m  0.3020\n",
      "      3        \u001B[36m0.5790\u001B[0m       0.7328        \u001B[35m0.5701\u001B[0m  0.3742\n",
      "      4        \u001B[36m0.5666\u001B[0m       0.7328        \u001B[35m0.5588\u001B[0m  0.3043\n",
      "      5        \u001B[36m0.5556\u001B[0m       0.7328        \u001B[35m0.5473\u001B[0m  0.2990\n",
      "      6        \u001B[36m0.5448\u001B[0m       0.7328        \u001B[35m0.5343\u001B[0m  0.2956\n",
      "      7        \u001B[36m0.5282\u001B[0m       0.7328        \u001B[35m0.5205\u001B[0m  0.2960\n",
      "      8        \u001B[36m0.5161\u001B[0m       0.7328        \u001B[35m0.5094\u001B[0m  0.3036\n",
      "      9        \u001B[36m0.5079\u001B[0m       0.7328        \u001B[35m0.5011\u001B[0m  0.3057\n",
      "     10        \u001B[36m0.4978\u001B[0m       0.7328        \u001B[35m0.4940\u001B[0m  0.2999\n",
      "     11        \u001B[36m0.4929\u001B[0m       0.7328        \u001B[35m0.4880\u001B[0m  0.3042\n",
      "     12        \u001B[36m0.4899\u001B[0m       0.7328        \u001B[35m0.4835\u001B[0m  0.3786\n",
      "     13        \u001B[36m0.4825\u001B[0m       0.7328        \u001B[35m0.4791\u001B[0m  0.2995\n",
      "     14        \u001B[36m0.4758\u001B[0m       0.7328        \u001B[35m0.4758\u001B[0m  0.3074\n",
      "     15        \u001B[36m0.4732\u001B[0m       0.7328        \u001B[35m0.4726\u001B[0m  0.2928\n",
      "     16        \u001B[36m0.4689\u001B[0m       \u001B[32m0.7406\u001B[0m        \u001B[35m0.4697\u001B[0m  0.3140\n",
      "     17        \u001B[36m0.4668\u001B[0m       \u001B[32m0.7772\u001B[0m        \u001B[35m0.4668\u001B[0m  0.3003\n",
      "     18        \u001B[36m0.4614\u001B[0m       \u001B[32m0.7827\u001B[0m        \u001B[35m0.4652\u001B[0m  0.3137\n",
      "     19        0.4639       0.7827        \u001B[35m0.4634\u001B[0m  0.3126\n",
      "     20        \u001B[36m0.4576\u001B[0m       \u001B[32m0.7860\u001B[0m        \u001B[35m0.4619\u001B[0m  0.3014\n",
      "     21        0.4592       \u001B[32m0.7882\u001B[0m        \u001B[35m0.4604\u001B[0m  0.3049\n",
      "     22        \u001B[36m0.4565\u001B[0m       \u001B[32m0.7905\u001B[0m        \u001B[35m0.4589\u001B[0m  0.3383\n",
      "     23        \u001B[36m0.4542\u001B[0m       0.7894        \u001B[35m0.4583\u001B[0m  0.4032\n",
      "     24        \u001B[36m0.4480\u001B[0m       0.7905        \u001B[35m0.4581\u001B[0m  0.3575\n",
      "     25        \u001B[36m0.4464\u001B[0m       0.7882        \u001B[35m0.4573\u001B[0m  0.3129\n",
      "     26        0.4483       0.7871        \u001B[35m0.4567\u001B[0m  0.2990\n",
      "     27        0.4484       0.7894        \u001B[35m0.4563\u001B[0m  0.3018\n",
      "     28        0.4482       0.7882        0.4564  0.3145\n",
      "     29        \u001B[36m0.4437\u001B[0m       0.7905        \u001B[35m0.4557\u001B[0m  0.3550\n",
      "     30        0.4448       0.7871        \u001B[35m0.4551\u001B[0m  0.2394\n",
      "  epoch    train_loss    valid_acc    valid_loss     dur\n",
      "-------  ------------  -----------  ------------  ------\n",
      "      1        \u001B[36m0.6411\u001B[0m       \u001B[32m0.7328\u001B[0m        \u001B[35m0.5620\u001B[0m  0.3104\n",
      "      2        \u001B[36m0.5450\u001B[0m       0.7328        \u001B[35m0.5253\u001B[0m  0.2874\n",
      "      3        \u001B[36m0.5229\u001B[0m       0.7328        \u001B[35m0.5090\u001B[0m  0.3190\n",
      "      4        \u001B[36m0.5062\u001B[0m       0.7328        \u001B[35m0.4949\u001B[0m  0.2396\n",
      "      5        \u001B[36m0.4965\u001B[0m       0.7328        \u001B[35m0.4856\u001B[0m  0.2947\n",
      "      6        \u001B[36m0.4860\u001B[0m       0.7328        \u001B[35m0.4788\u001B[0m  0.3943\n",
      "      7        \u001B[36m0.4773\u001B[0m       0.7328        \u001B[35m0.4724\u001B[0m  0.2979\n",
      "      8        \u001B[36m0.4696\u001B[0m       0.7328        \u001B[35m0.4692\u001B[0m  0.3992\n",
      "      9        0.4700       0.7328        \u001B[35m0.4653\u001B[0m  0.3759\n",
      "     10        \u001B[36m0.4615\u001B[0m       0.7328        \u001B[35m0.4629\u001B[0m  0.2234\n",
      "     11        \u001B[36m0.4556\u001B[0m       \u001B[32m0.7705\u001B[0m        \u001B[35m0.4611\u001B[0m  0.3610\n",
      "     12        \u001B[36m0.4553\u001B[0m       \u001B[32m0.7794\u001B[0m        \u001B[35m0.4595\u001B[0m  0.3157\n",
      "     13        0.4583       \u001B[32m0.7905\u001B[0m        \u001B[35m0.4582\u001B[0m  0.3144\n",
      "     14        \u001B[36m0.4488\u001B[0m       0.7905        \u001B[35m0.4574\u001B[0m  0.3022\n",
      "     15        0.4512       0.7905        \u001B[35m0.4571\u001B[0m  0.3731\n",
      "     16        \u001B[36m0.4455\u001B[0m       \u001B[32m0.7927\u001B[0m        \u001B[35m0.4562\u001B[0m  0.3175\n",
      "     17        0.4505       \u001B[32m0.7960\u001B[0m        \u001B[35m0.4559\u001B[0m  0.3820\n",
      "     18        \u001B[36m0.4413\u001B[0m       0.7960        0.4566  0.3098\n",
      "     19        0.4463       0.7905        \u001B[35m0.4551\u001B[0m  0.3710\n",
      "     20        0.4429       \u001B[32m0.7982\u001B[0m        \u001B[35m0.4550\u001B[0m  0.2914\n",
      "     21        0.4418       0.7916        0.4552  0.2962\n",
      "     22        \u001B[36m0.4393\u001B[0m       0.7916        0.4558  0.2327\n",
      "     23        0.4408       0.7949        0.4559  0.3177\n",
      "     24        0.4393       0.7960        0.4553  0.3066\n",
      "     25        0.4393       0.7938        0.4551  0.3026\n",
      "     26        \u001B[36m0.4369\u001B[0m       \u001B[32m0.8004\u001B[0m        \u001B[35m0.4543\u001B[0m  0.3685\n",
      "     27        0.4370       0.7982        \u001B[35m0.4540\u001B[0m  0.2951\n",
      "     28        \u001B[36m0.4310\u001B[0m       0.7982        \u001B[35m0.4535\u001B[0m  0.2276\n",
      "     29        0.4340       0.7960        \u001B[35m0.4533\u001B[0m  0.3772\n",
      "     30        0.4338       0.7982        \u001B[35m0.4532\u001B[0m  0.3006\n",
      "  epoch    train_loss    valid_acc    valid_loss     dur\n",
      "-------  ------------  -----------  ------------  ------\n",
      "      1        \u001B[36m0.7051\u001B[0m       \u001B[32m0.7328\u001B[0m        \u001B[35m0.5665\u001B[0m  0.3920\n",
      "      2        \u001B[36m0.5447\u001B[0m       0.7328        \u001B[35m0.5160\u001B[0m  0.4135\n",
      "      3        \u001B[36m0.5079\u001B[0m       \u001B[32m0.7583\u001B[0m        \u001B[35m0.4792\u001B[0m  0.5059\n",
      "      4        \u001B[36m0.4852\u001B[0m       \u001B[32m0.7805\u001B[0m        \u001B[35m0.4612\u001B[0m  0.4029\n",
      "      5        \u001B[36m0.4722\u001B[0m       \u001B[32m0.8038\u001B[0m        \u001B[35m0.4536\u001B[0m  0.4247\n",
      "      6        \u001B[36m0.4664\u001B[0m       0.8004        \u001B[35m0.4448\u001B[0m  0.4878\n",
      "      7        \u001B[36m0.4630\u001B[0m       0.8027        \u001B[35m0.4404\u001B[0m  0.4850\n",
      "      8        \u001B[36m0.4566\u001B[0m       \u001B[32m0.8115\u001B[0m        \u001B[35m0.4397\u001B[0m  0.4132\n",
      "      9        \u001B[36m0.4524\u001B[0m       0.8093        0.4400  0.5843\n",
      "     10        0.4538       0.8093        \u001B[35m0.4368\u001B[0m  0.4202\n",
      "     11        \u001B[36m0.4515\u001B[0m       0.8071        \u001B[35m0.4343\u001B[0m  0.5019\n",
      "     12        \u001B[36m0.4456\u001B[0m       0.8093        \u001B[35m0.4296\u001B[0m  0.4268\n",
      "     13        \u001B[36m0.4448\u001B[0m       0.8071        \u001B[35m0.4285\u001B[0m  0.4315\n",
      "     14        0.4463       0.8093        \u001B[35m0.4278\u001B[0m  0.4877\n",
      "     15        0.4469       0.8027        0.4322  0.5130\n",
      "     16        0.4450       0.8049        0.4290  0.6023\n",
      "     17        0.4490       0.8049        \u001B[35m0.4271\u001B[0m  0.5287\n",
      "     18        0.4449       0.8082        \u001B[35m0.4265\u001B[0m  0.5231\n",
      "     19        \u001B[36m0.4397\u001B[0m       0.8104        \u001B[35m0.4262\u001B[0m  0.4982\n",
      "     20        \u001B[36m0.4366\u001B[0m       0.8082        \u001B[35m0.4259\u001B[0m  0.5783\n",
      "     21        0.4371       \u001B[32m0.8126\u001B[0m        \u001B[35m0.4249\u001B[0m  0.5161\n",
      "     22        0.4413       0.8049        0.4267  0.5810\n",
      "     23        0.4367       0.8038        0.4267  0.5155\n",
      "     24        0.4373       0.8049        \u001B[35m0.4246\u001B[0m  0.5079\n",
      "     25        0.4397       \u001B[32m0.8160\u001B[0m        \u001B[35m0.4229\u001B[0m  0.5140\n",
      "     26        \u001B[36m0.4358\u001B[0m       0.8149        0.4237  0.5974\n",
      "     27        0.4363       0.8071        0.4249  0.6020\n",
      "     28        0.4402       0.8160        \u001B[35m0.4229\u001B[0m  0.5810\n",
      "     29        0.4359       0.8160        \u001B[35m0.4227\u001B[0m  0.4911\n",
      "     30        \u001B[36m0.4358\u001B[0m       0.8082        0.4234  0.5876\n",
      "  epoch    train_loss    valid_acc    valid_loss     dur\n",
      "-------  ------------  -----------  ------------  ------\n",
      "      1        \u001B[36m0.7469\u001B[0m       \u001B[32m0.7328\u001B[0m        \u001B[35m0.6482\u001B[0m  0.4142\n",
      "      2        \u001B[36m0.6158\u001B[0m       0.7328        \u001B[35m0.5918\u001B[0m  0.5890\n",
      "      3        \u001B[36m0.5817\u001B[0m       0.7328        \u001B[35m0.5728\u001B[0m  0.5838\n",
      "      4        \u001B[36m0.5669\u001B[0m       0.7328        \u001B[35m0.5608\u001B[0m  0.5984\n",
      "      5        \u001B[36m0.5547\u001B[0m       0.7328        \u001B[35m0.5478\u001B[0m  0.6080\n",
      "      6        \u001B[36m0.5402\u001B[0m       0.7328        \u001B[35m0.5309\u001B[0m  0.5857\n",
      "      7        \u001B[36m0.5210\u001B[0m       0.7328        \u001B[35m0.5084\u001B[0m  0.5919\n",
      "      8        \u001B[36m0.4971\u001B[0m       0.7328        \u001B[35m0.4885\u001B[0m  0.4083\n",
      "      9        \u001B[36m0.4790\u001B[0m       \u001B[32m0.7550\u001B[0m        \u001B[35m0.4753\u001B[0m  0.5799\n",
      "     10        \u001B[36m0.4674\u001B[0m       \u001B[32m0.7783\u001B[0m        \u001B[35m0.4644\u001B[0m  0.4211\n",
      "     11        \u001B[36m0.4585\u001B[0m       \u001B[32m0.7927\u001B[0m        \u001B[35m0.4601\u001B[0m  0.4991\n",
      "     12        \u001B[36m0.4508\u001B[0m       0.7905        \u001B[35m0.4543\u001B[0m  0.4889\n",
      "     13        \u001B[36m0.4475\u001B[0m       0.7916        \u001B[35m0.4527\u001B[0m  0.4939\n",
      "     14        \u001B[36m0.4426\u001B[0m       0.7916        \u001B[35m0.4516\u001B[0m  0.6040\n",
      "     15        0.4453       \u001B[32m0.7971\u001B[0m        \u001B[35m0.4498\u001B[0m  0.4989\n",
      "     16        0.4448       0.7838        0.4511  0.4939\n",
      "     17        \u001B[36m0.4387\u001B[0m       0.7894        \u001B[35m0.4492\u001B[0m  0.6769\n",
      "     18        \u001B[36m0.4368\u001B[0m       0.7927        0.4498  0.5022\n",
      "     19        0.4390       0.7949        \u001B[35m0.4485\u001B[0m  0.5092\n",
      "     20        \u001B[36m0.4354\u001B[0m       0.7938        \u001B[35m0.4481\u001B[0m  0.4968\n",
      "     21        \u001B[36m0.4344\u001B[0m       0.7916        \u001B[35m0.4475\u001B[0m  0.5022\n",
      "     22        0.4346       0.7927        0.4476  0.5732\n",
      "     23        \u001B[36m0.4325\u001B[0m       0.7927        \u001B[35m0.4475\u001B[0m  0.6165\n",
      "     24        \u001B[36m0.4286\u001B[0m       0.7772        0.4583  0.4839\n",
      "     25        0.4335       0.7849        0.4498  0.5047\n",
      "     26        0.4317       0.7938        0.4480  0.5813\n",
      "     27        0.4320       0.7960        0.4478  0.4957\n",
      "     28        0.4293       0.7905        0.4486  0.5019\n",
      "     29        \u001B[36m0.4274\u001B[0m       \u001B[32m0.8016\u001B[0m        0.4481  0.4913\n",
      "     30        0.4305       0.7927        0.4481  0.4976\n",
      "  epoch    train_loss    valid_acc    valid_loss     dur\n",
      "-------  ------------  -----------  ------------  ------\n",
      "      1        \u001B[36m0.6292\u001B[0m       \u001B[32m0.7328\u001B[0m        \u001B[35m0.5731\u001B[0m  0.4009\n",
      "      2        \u001B[36m0.5498\u001B[0m       0.7328        \u001B[35m0.5316\u001B[0m  0.5130\n",
      "      3        \u001B[36m0.5167\u001B[0m       0.7328        \u001B[35m0.5013\u001B[0m  0.5721\n",
      "      4        \u001B[36m0.4902\u001B[0m       0.7317        \u001B[35m0.4818\u001B[0m  0.5075\n",
      "      5        \u001B[36m0.4737\u001B[0m       \u001B[32m0.7572\u001B[0m        \u001B[35m0.4693\u001B[0m  0.5130\n",
      "      6        \u001B[36m0.4601\u001B[0m       \u001B[32m0.7927\u001B[0m        \u001B[35m0.4634\u001B[0m  0.4975\n",
      "      7        \u001B[36m0.4552\u001B[0m       0.7783        \u001B[35m0.4562\u001B[0m  0.5771\n",
      "      8        \u001B[36m0.4485\u001B[0m       0.7860        \u001B[35m0.4528\u001B[0m  0.5023\n",
      "      9        \u001B[36m0.4456\u001B[0m       \u001B[32m0.7971\u001B[0m        0.4551  0.5091\n",
      "     10        0.4488       0.7927        \u001B[35m0.4509\u001B[0m  0.4879\n",
      "     11        \u001B[36m0.4442\u001B[0m       0.7916        \u001B[35m0.4491\u001B[0m  0.4944\n",
      "     12        0.4477       0.7927        \u001B[35m0.4486\u001B[0m  0.6087\n",
      "     13        \u001B[36m0.4436\u001B[0m       0.7949        \u001B[35m0.4477\u001B[0m  0.4913\n",
      "     14        \u001B[36m0.4378\u001B[0m       0.7927        0.4485  0.6984\n",
      "     15        0.4399       0.7938        \u001B[35m0.4471\u001B[0m  0.4985\n",
      "     16        \u001B[36m0.4359\u001B[0m       \u001B[32m0.7982\u001B[0m        0.4496  0.6076\n",
      "     17        0.4418       0.7971        0.4479  0.5670\n",
      "     18        \u001B[36m0.4337\u001B[0m       0.7938        \u001B[35m0.4468\u001B[0m  0.4904\n",
      "     19        0.4364       0.7971        \u001B[35m0.4455\u001B[0m  0.5068\n",
      "     20        0.4359       \u001B[32m0.8016\u001B[0m        0.4458  0.6064\n",
      "     21        0.4346       0.7960        \u001B[35m0.4452\u001B[0m  0.6758\n",
      "     22        \u001B[36m0.4333\u001B[0m       0.8004        \u001B[35m0.4452\u001B[0m  0.5274\n",
      "     23        0.4338       0.7993        \u001B[35m0.4449\u001B[0m  0.5808\n",
      "     24        \u001B[36m0.4328\u001B[0m       0.7982        0.4450  0.6173\n",
      "     25        \u001B[36m0.4320\u001B[0m       0.7960        0.4449  0.5390\n",
      "     26        0.4358       0.8016        0.4449  0.5740\n",
      "     27        \u001B[36m0.4306\u001B[0m       0.7982        \u001B[35m0.4444\u001B[0m  0.6125\n",
      "     28        0.4335       0.7993        0.4473  0.5960\n",
      "     29        \u001B[36m0.4224\u001B[0m       \u001B[32m0.8038\u001B[0m        0.4456  0.6781\n",
      "     30        0.4262       \u001B[32m0.8049\u001B[0m        0.4451  0.5869\n",
      "  epoch    train_loss    valid_acc    valid_loss     dur\n",
      "-------  ------------  -----------  ------------  ------\n",
      "      1        \u001B[36m0.6923\u001B[0m       \u001B[32m0.7328\u001B[0m        \u001B[35m0.6028\u001B[0m  0.5785\n",
      "      2        \u001B[36m0.5658\u001B[0m       0.7328        \u001B[35m0.5383\u001B[0m  0.5844\n",
      "      3        \u001B[36m0.5242\u001B[0m       0.7328        \u001B[35m0.5089\u001B[0m  0.6224\n",
      "      4        \u001B[36m0.4949\u001B[0m       0.7328        \u001B[35m0.4831\u001B[0m  0.7217\n",
      "      5        \u001B[36m0.4776\u001B[0m       \u001B[32m0.7661\u001B[0m        \u001B[35m0.4689\u001B[0m  0.6759\n",
      "      6        \u001B[36m0.4610\u001B[0m       \u001B[32m0.7871\u001B[0m        \u001B[35m0.4611\u001B[0m  0.5857\n",
      "      7        \u001B[36m0.4573\u001B[0m       \u001B[32m0.7882\u001B[0m        \u001B[35m0.4573\u001B[0m  0.6090\n",
      "      8        \u001B[36m0.4527\u001B[0m       \u001B[32m0.7927\u001B[0m        \u001B[35m0.4535\u001B[0m  0.4886\n",
      "      9        \u001B[36m0.4454\u001B[0m       \u001B[32m0.7938\u001B[0m        \u001B[35m0.4511\u001B[0m  0.5992\n",
      "     10        \u001B[36m0.4398\u001B[0m       \u001B[32m0.7971\u001B[0m        \u001B[35m0.4501\u001B[0m  0.6007\n",
      "     11        0.4450       0.7927        0.4507  0.3970\n",
      "     12        0.4454       \u001B[32m0.7982\u001B[0m        \u001B[35m0.4491\u001B[0m  0.4078\n",
      "     13        \u001B[36m0.4386\u001B[0m       \u001B[32m0.8004\u001B[0m        0.4492  0.4213\n",
      "     14        \u001B[36m0.4364\u001B[0m       0.7949        0.4499  0.5135\n",
      "     15        0.4448       \u001B[32m0.8016\u001B[0m        0.4494  0.5099\n",
      "     16        0.4377       0.7949        0.4501  0.7707\n",
      "     17        0.4365       0.7949        0.4505  0.5205\n",
      "     18        \u001B[36m0.4294\u001B[0m       0.7993        0.4496  0.4995\n",
      "     19        0.4359       \u001B[32m0.8060\u001B[0m        0.4493  0.5973\n",
      "     20        0.4341       0.8038        0.4493  0.5916\n",
      "     21        0.4323       0.8027        \u001B[35m0.4487\u001B[0m  0.5065\n",
      "     22        0.4325       0.7982        \u001B[35m0.4482\u001B[0m  0.4836\n",
      "     23        0.4342       0.8038        \u001B[35m0.4475\u001B[0m  0.5044\n",
      "     24        0.4321       0.7993        0.4480  0.6077\n",
      "     25        0.4317       0.8027        0.4476  0.5315\n",
      "     26        0.4300       0.7971        0.4483  0.5225\n",
      "     27        \u001B[36m0.4274\u001B[0m       0.8016        \u001B[35m0.4471\u001B[0m  0.4929\n",
      "     28        0.4296       0.8038        \u001B[35m0.4463\u001B[0m  0.5761\n",
      "     29        0.4279       0.8038        0.4467  0.5116\n",
      "     30        0.4286       0.8027        0.4485  0.4920\n",
      "  epoch    train_loss    valid_acc    valid_loss     dur\n",
      "-------  ------------  -----------  ------------  ------\n",
      "      1        \u001B[36m0.5888\u001B[0m       \u001B[32m0.7328\u001B[0m        \u001B[35m0.5632\u001B[0m  0.4856\n",
      "      2        \u001B[36m0.5522\u001B[0m       0.7328        \u001B[35m0.5320\u001B[0m  0.5035\n",
      "      3        \u001B[36m0.5227\u001B[0m       0.7328        \u001B[35m0.5056\u001B[0m  0.5088\n",
      "      4        \u001B[36m0.4963\u001B[0m       0.7328        \u001B[35m0.4853\u001B[0m  0.5770\n",
      "      5        \u001B[36m0.4785\u001B[0m       \u001B[32m0.7384\u001B[0m        \u001B[35m0.4707\u001B[0m  0.5187\n",
      "      6        \u001B[36m0.4664\u001B[0m       \u001B[32m0.7794\u001B[0m        \u001B[35m0.4609\u001B[0m  0.5912\n",
      "      7        \u001B[36m0.4538\u001B[0m       \u001B[32m0.7905\u001B[0m        \u001B[35m0.4550\u001B[0m  0.4062\n",
      "      8        \u001B[36m0.4491\u001B[0m       \u001B[32m0.7949\u001B[0m        \u001B[35m0.4519\u001B[0m  0.5925\n",
      "      9        \u001B[36m0.4423\u001B[0m       \u001B[32m0.8004\u001B[0m        \u001B[35m0.4491\u001B[0m  0.5758\n",
      "     10        \u001B[36m0.4394\u001B[0m       \u001B[32m0.8049\u001B[0m        \u001B[35m0.4481\u001B[0m  0.4193\n",
      "     11        \u001B[36m0.4386\u001B[0m       0.7960        \u001B[35m0.4473\u001B[0m  0.4874\n",
      "     12        \u001B[36m0.4363\u001B[0m       0.8049        \u001B[35m0.4461\u001B[0m  0.4072\n",
      "     13        0.4406       0.8004        0.4465  0.3998\n",
      "     14        \u001B[36m0.4308\u001B[0m       0.7860        0.4496  0.4031\n",
      "     15        0.4364       0.8016        0.4476  0.4210\n",
      "     16        0.4309       0.8016        0.4470  0.4862\n",
      "     17        0.4314       0.7938        0.4491  0.4830\n",
      "     18        \u001B[36m0.4283\u001B[0m       0.7971        0.4489  0.4096\n",
      "     19        \u001B[36m0.4265\u001B[0m       0.7982        0.4483  0.3953\n",
      "     20        0.4304       0.7993        0.4476  0.5109\n",
      "     21        \u001B[36m0.4242\u001B[0m       0.7993        0.4479  0.4252\n",
      "     22        0.4292       0.7982        0.4496  0.4975\n",
      "     23        0.4270       0.8004        0.4474  0.3944\n",
      "     24        0.4273       0.7927        0.4502  0.4012\n",
      "     25        0.4249       0.7960        0.4474  0.6020\n",
      "     26        \u001B[36m0.4218\u001B[0m       0.7971        0.4482  0.5332\n",
      "     27        0.4237       0.7960        0.4489  0.4251\n",
      "     28        0.4265       0.7960        0.4490  0.4962\n",
      "     29        \u001B[36m0.4211\u001B[0m       0.7827        0.4547  0.4048\n",
      "     30        0.4223       0.7949        0.4491  0.4082\n",
      "  epoch    train_loss    valid_acc    valid_loss     dur\n",
      "-------  ------------  -----------  ------------  ------\n",
      "      1        \u001B[36m0.5765\u001B[0m       \u001B[32m0.7338\u001B[0m        \u001B[35m0.5431\u001B[0m  0.6029\n",
      "      2        \u001B[36m0.5307\u001B[0m       0.7338        \u001B[35m0.5077\u001B[0m  0.6996\n",
      "      3        \u001B[36m0.5042\u001B[0m       0.7338        \u001B[35m0.4853\u001B[0m  0.7761\n",
      "      4        \u001B[36m0.4875\u001B[0m       0.7338        \u001B[35m0.4699\u001B[0m  0.5115\n",
      "      5        \u001B[36m0.4738\u001B[0m       \u001B[32m0.7524\u001B[0m        \u001B[35m0.4595\u001B[0m  0.6035\n",
      "      6        \u001B[36m0.4650\u001B[0m       \u001B[32m0.7986\u001B[0m        \u001B[35m0.4493\u001B[0m  0.5942\n",
      "      7        \u001B[36m0.4542\u001B[0m       \u001B[32m0.8004\u001B[0m        \u001B[35m0.4420\u001B[0m  0.6047\n",
      "      8        \u001B[36m0.4531\u001B[0m       \u001B[32m0.8021\u001B[0m        \u001B[35m0.4376\u001B[0m  0.5851\n",
      "      9        \u001B[36m0.4466\u001B[0m       \u001B[32m0.8030\u001B[0m        0.4411  0.5008\n",
      "     10        0.4475       0.8030        \u001B[35m0.4327\u001B[0m  0.5976\n",
      "     11        \u001B[36m0.4451\u001B[0m       \u001B[32m0.8057\u001B[0m        \u001B[35m0.4315\u001B[0m  0.5940\n",
      "     12        0.4475       \u001B[32m0.8066\u001B[0m        \u001B[35m0.4300\u001B[0m  0.5859\n",
      "     13        \u001B[36m0.4436\u001B[0m       0.8066        0.4341  0.6226\n",
      "     14        \u001B[36m0.4428\u001B[0m       \u001B[32m0.8075\u001B[0m        \u001B[35m0.4279\u001B[0m  0.6046\n",
      "     15        \u001B[36m0.4368\u001B[0m       0.8075        0.4287  0.5161\n",
      "     16        0.4398       \u001B[32m0.8101\u001B[0m        \u001B[35m0.4276\u001B[0m  0.6884\n",
      "     17        0.4379       0.8083        0.4323  0.5864\n",
      "     18        0.4408       0.8012        0.4279  0.5054\n",
      "     19        0.4394       0.8092        \u001B[35m0.4268\u001B[0m  0.5032\n",
      "     20        0.4391       0.8021        0.4279  0.5902\n",
      "     21        \u001B[36m0.4362\u001B[0m       0.8030        0.4283  0.5901\n",
      "     22        \u001B[36m0.4352\u001B[0m       0.8030        0.4286  0.6100\n",
      "     23        0.4357       0.8048        0.4272  0.5985\n",
      "     24        \u001B[36m0.4326\u001B[0m       0.8092        0.4272  0.5988\n",
      "     25        0.4354       0.8092        \u001B[35m0.4266\u001B[0m  0.5007\n",
      "     26        0.4341       0.8092        0.4268  0.5793\n",
      "     27        \u001B[36m0.4324\u001B[0m       0.8030        0.4309  0.5073\n",
      "     28        \u001B[36m0.4312\u001B[0m       0.8004        0.4294  0.5854\n",
      "     29        0.4329       0.8048        \u001B[35m0.4264\u001B[0m  0.5054\n",
      "     30        0.4315       0.7995        0.4313  0.5115\n"
     ]
    },
    {
     "data": {
      "text/html": [
       "<style>#sk-container-id-3 {color: black;background-color: white;}#sk-container-id-3 pre{padding: 0;}#sk-container-id-3 div.sk-toggleable {background-color: white;}#sk-container-id-3 label.sk-toggleable__label {cursor: pointer;display: block;width: 100%;margin-bottom: 0;padding: 0.3em;box-sizing: border-box;text-align: center;}#sk-container-id-3 label.sk-toggleable__label-arrow:before {content: \"▸\";float: left;margin-right: 0.25em;color: #696969;}#sk-container-id-3 label.sk-toggleable__label-arrow:hover:before {color: black;}#sk-container-id-3 div.sk-estimator:hover label.sk-toggleable__label-arrow:before {color: black;}#sk-container-id-3 div.sk-toggleable__content {max-height: 0;max-width: 0;overflow: hidden;text-align: left;background-color: #f0f8ff;}#sk-container-id-3 div.sk-toggleable__content pre {margin: 0.2em;color: black;border-radius: 0.25em;background-color: #f0f8ff;}#sk-container-id-3 input.sk-toggleable__control:checked~div.sk-toggleable__content {max-height: 200px;max-width: 100%;overflow: auto;}#sk-container-id-3 input.sk-toggleable__control:checked~label.sk-toggleable__label-arrow:before {content: \"▾\";}#sk-container-id-3 div.sk-estimator input.sk-toggleable__control:checked~label.sk-toggleable__label {background-color: #d4ebff;}#sk-container-id-3 div.sk-label input.sk-toggleable__control:checked~label.sk-toggleable__label {background-color: #d4ebff;}#sk-container-id-3 input.sk-hidden--visually {border: 0;clip: rect(1px 1px 1px 1px);clip: rect(1px, 1px, 1px, 1px);height: 1px;margin: -1px;overflow: hidden;padding: 0;position: absolute;width: 1px;}#sk-container-id-3 div.sk-estimator {font-family: monospace;background-color: #f0f8ff;border: 1px dotted black;border-radius: 0.25em;box-sizing: border-box;margin-bottom: 0.5em;}#sk-container-id-3 div.sk-estimator:hover {background-color: #d4ebff;}#sk-container-id-3 div.sk-parallel-item::after {content: \"\";width: 100%;border-bottom: 1px solid gray;flex-grow: 1;}#sk-container-id-3 div.sk-label:hover label.sk-toggleable__label {background-color: #d4ebff;}#sk-container-id-3 div.sk-serial::before {content: \"\";position: absolute;border-left: 1px solid gray;box-sizing: border-box;top: 0;bottom: 0;left: 50%;z-index: 0;}#sk-container-id-3 div.sk-serial {display: flex;flex-direction: column;align-items: center;background-color: white;padding-right: 0.2em;padding-left: 0.2em;position: relative;}#sk-container-id-3 div.sk-item {position: relative;z-index: 1;}#sk-container-id-3 div.sk-parallel {display: flex;align-items: stretch;justify-content: center;background-color: white;position: relative;}#sk-container-id-3 div.sk-item::before, #sk-container-id-3 div.sk-parallel-item::before {content: \"\";position: absolute;border-left: 1px solid gray;box-sizing: border-box;top: 0;bottom: 0;left: 50%;z-index: -1;}#sk-container-id-3 div.sk-parallel-item {display: flex;flex-direction: column;z-index: 1;position: relative;background-color: white;}#sk-container-id-3 div.sk-parallel-item:first-child::after {align-self: flex-end;width: 50%;}#sk-container-id-3 div.sk-parallel-item:last-child::after {align-self: flex-start;width: 50%;}#sk-container-id-3 div.sk-parallel-item:only-child::after {width: 0;}#sk-container-id-3 div.sk-dashed-wrapped {border: 1px dashed gray;margin: 0 0.4em 0.5em 0.4em;box-sizing: border-box;padding-bottom: 0.4em;background-color: white;}#sk-container-id-3 div.sk-label label {font-family: monospace;font-weight: bold;display: inline-block;line-height: 1.2em;}#sk-container-id-3 div.sk-label-container {text-align: center;}#sk-container-id-3 div.sk-container {/* jupyter's `normalize.less` sets `[hidden] { display: none; }` but bootstrap.min.css set `[hidden] { display: none !important; }` so we also need the `!important` here to be able to override the default hidden behavior on the sphinx rendered scikit-learn.org. See: https://github.com/scikit-learn/scikit-learn/issues/21755 */display: inline-block !important;position: relative;}#sk-container-id-3 div.sk-text-repr-fallback {display: none;}</style><div id=\"sk-container-id-3\" class=\"sk-top-container\"><div class=\"sk-text-repr-fallback\"><pre>GridSearchCV(cv=5,\n",
       "             estimator=Pipeline(steps=[(&#x27;standard&#x27;, StandardScaler()),\n",
       "                                       (&#x27;model&#x27;,\n",
       "                                        &lt;class &#x27;skorch.classifier.NeuralNetClassifier&#x27;&gt;[uninitialized](\n",
       "  module=&lt;class &#x27;__main__.MyModule&#x27;&gt;,\n",
       "))]),\n",
       "             n_jobs=-1,\n",
       "             param_grid=[{&#x27;model__lr&#x27;: [0.01, 0.05],\n",
       "                          &#x27;model__module__num_units&#x27;: [50, 150]}],\n",
       "             scoring=&#x27;roc_auc&#x27;)</pre><b>In a Jupyter environment, please rerun this cell to show the HTML representation or trust the notebook. <br />On GitHub, the HTML representation is unable to render, please try loading this page with nbviewer.org.</b></div><div class=\"sk-container\" hidden><div class=\"sk-item sk-dashed-wrapped\"><div class=\"sk-label-container\"><div class=\"sk-label sk-toggleable\"><input class=\"sk-toggleable__control sk-hidden--visually\" id=\"sk-estimator-id-9\" type=\"checkbox\" ><label for=\"sk-estimator-id-9\" class=\"sk-toggleable__label sk-toggleable__label-arrow\">GridSearchCV</label><div class=\"sk-toggleable__content\"><pre>GridSearchCV(cv=5,\n",
       "             estimator=Pipeline(steps=[(&#x27;standard&#x27;, StandardScaler()),\n",
       "                                       (&#x27;model&#x27;,\n",
       "                                        &lt;class &#x27;skorch.classifier.NeuralNetClassifier&#x27;&gt;[uninitialized](\n",
       "  module=&lt;class &#x27;__main__.MyModule&#x27;&gt;,\n",
       "))]),\n",
       "             n_jobs=-1,\n",
       "             param_grid=[{&#x27;model__lr&#x27;: [0.01, 0.05],\n",
       "                          &#x27;model__module__num_units&#x27;: [50, 150]}],\n",
       "             scoring=&#x27;roc_auc&#x27;)</pre></div></div></div><div class=\"sk-parallel\"><div class=\"sk-parallel-item\"><div class=\"sk-item\"><div class=\"sk-label-container\"><div class=\"sk-label sk-toggleable\"><input class=\"sk-toggleable__control sk-hidden--visually\" id=\"sk-estimator-id-10\" type=\"checkbox\" ><label for=\"sk-estimator-id-10\" class=\"sk-toggleable__label sk-toggleable__label-arrow\">estimator: Pipeline</label><div class=\"sk-toggleable__content\"><pre>Pipeline(steps=[(&#x27;standard&#x27;, StandardScaler()),\n",
       "                (&#x27;model&#x27;,\n",
       "                 &lt;class &#x27;skorch.classifier.NeuralNetClassifier&#x27;&gt;[uninitialized](\n",
       "  module=&lt;class &#x27;__main__.MyModule&#x27;&gt;,\n",
       "))])</pre></div></div></div><div class=\"sk-serial\"><div class=\"sk-item\"><div class=\"sk-serial\"><div class=\"sk-item\"><div class=\"sk-estimator sk-toggleable\"><input class=\"sk-toggleable__control sk-hidden--visually\" id=\"sk-estimator-id-11\" type=\"checkbox\" ><label for=\"sk-estimator-id-11\" class=\"sk-toggleable__label sk-toggleable__label-arrow\">StandardScaler</label><div class=\"sk-toggleable__content\"><pre>StandardScaler()</pre></div></div></div><div class=\"sk-item\"><div class=\"sk-estimator sk-toggleable\"><input class=\"sk-toggleable__control sk-hidden--visually\" id=\"sk-estimator-id-12\" type=\"checkbox\" ><label for=\"sk-estimator-id-12\" class=\"sk-toggleable__label sk-toggleable__label-arrow\">NeuralNetClassifier</label><div class=\"sk-toggleable__content\"><pre>&lt;class &#x27;skorch.classifier.NeuralNetClassifier&#x27;&gt;[uninitialized](\n",
       "  module=&lt;class &#x27;__main__.MyModule&#x27;&gt;,\n",
       ")</pre></div></div></div></div></div></div></div></div></div></div></div></div>"
      ],
      "text/plain": [
       "GridSearchCV(cv=5,\n",
       "             estimator=Pipeline(steps=[('standard', StandardScaler()),\n",
       "                                       ('model',\n",
       "                                        <class 'skorch.classifier.NeuralNetClassifier'>[uninitialized](\n",
       "  module=<class '__main__.MyModule'>,\n",
       "))]),\n",
       "             n_jobs=-1,\n",
       "             param_grid=[{'model__lr': [0.01, 0.05],\n",
       "                          'model__module__num_units': [50, 150]}],\n",
       "             scoring='roc_auc')"
      ]
     },
     "execution_count": 43,
     "metadata": {},
     "output_type": "execute_result"
    }
   ],
   "source": [
    "net.fit(X_train.values.astype(np.float32), y_train.values.astype(np.int64))"
   ]
  },
  {
   "cell_type": "code",
   "execution_count": 44,
   "metadata": {
    "pycharm": {
     "name": "#%%\n"
    }
   },
   "outputs": [
    {
     "name": "stdout",
     "output_type": "stream",
     "text": [
      "0.8376315852919178 {'model__lr': 0.05, 'model__module__num_units': 150}\n"
     ]
    }
   ],
   "source": [
    "print(net.best_score_, net.best_params_)"
   ]
  },
  {
   "cell_type": "code",
   "execution_count": 45,
   "metadata": {
    "pycharm": {
     "name": "#%%\n"
    }
   },
   "outputs": [],
   "source": [
    "net_predict = net.predict(X_test.values.astype(np.float32))"
   ]
  },
  {
   "cell_type": "markdown",
   "metadata": {
    "pycharm": {
     "name": "#%% md\n"
    }
   },
   "source": [
    "Лучше всего метрика у CatBoostClassifier  ROC-AUC = 0.8484419523810638"
   ]
  },
  {
   "cell_type": "code",
   "execution_count": 46,
   "metadata": {
    "pycharm": {
     "name": "#%%\n"
    }
   },
   "outputs": [
    {
     "data": {
      "text/html": [
       "<div>\n",
       "<style scoped>\n",
       "    .dataframe tbody tr th:only-of-type {\n",
       "        vertical-align: middle;\n",
       "    }\n",
       "\n",
       "    .dataframe tbody tr th {\n",
       "        vertical-align: top;\n",
       "    }\n",
       "\n",
       "    .dataframe thead th {\n",
       "        text-align: right;\n",
       "    }\n",
       "</style>\n",
       "<table border=\"1\" class=\"dataframe\">\n",
       "  <thead>\n",
       "    <tr style=\"text-align: right;\">\n",
       "      <th></th>\n",
       "      <th>решающее дерево</th>\n",
       "      <th>бустинги</th>\n",
       "      <th>нейронка</th>\n",
       "    </tr>\n",
       "  </thead>\n",
       "  <tbody>\n",
       "    <tr>\n",
       "      <th>accuracy</th>\n",
       "      <td>0.800568</td>\n",
       "      <td>0.799858</td>\n",
       "      <td>0.7956</td>\n",
       "    </tr>\n",
       "  </tbody>\n",
       "</table>\n",
       "</div>"
      ],
      "text/plain": [
       "          решающее дерево  бустинги  нейронка\n",
       "accuracy         0.800568  0.799858    0.7956"
      ]
     },
     "execution_count": 46,
     "metadata": {},
     "output_type": "execute_result"
    }
   ],
   "source": [
    "accuracy = pd.DataFrame({\n",
    "    'решающее дерево': [rf_as],\n",
    "    'бустинги': [cb_as],\n",
    "    'нейронка': [accuracy_score(y_test, net_predict)]})\n",
    "accuracy.index = ['accuracy']\n",
    "accuracy"
   ]
  },
  {
   "cell_type": "markdown",
   "metadata": {
    "pycharm": {
     "name": "#%% md\n"
    }
   },
   "source": [
    " ### **Шаг 4.  Тестирование модели и демонстрация ее работы**"
   ]
  },
  {
   "cell_type": "markdown",
   "metadata": {
    "pycharm": {
     "name": "#%% md\n"
    }
   },
   "source": [
    "- Проведите графический анализ «Матрица ошибок». Выведите полноту и точность на график."
   ]
  },
  {
   "cell_type": "code",
   "execution_count": 47,
   "metadata": {
    "pycharm": {
     "name": "#%%\n"
    }
   },
   "outputs": [
    {
     "name": "stdout",
     "output_type": "stream",
     "text": [
      "Confusion matrix, without normalization\n",
      "[[946  97]\n",
      " [185 181]]\n"
     ]
    },
    {
     "data": {
      "image/png": "[encoded data removed]",
      "text/plain": [
       "<Figure size 720x576 with 2 Axes>"
      ]
     },
     "metadata": {
      "needs_background": "light"
     },
     "output_type": "display_data"
    }
   ],
   "source": [
    "def plot_confusion_matrix(cm, classes,\n",
    "                          normalize=False,\n",
    "                          title='Confusion matrix',\n",
    "                          cmap=plt.cm.Blues):\n",
    "    \"\"\"\n",
    "    This function prints and plots the confusion matrix.\n",
    "    Normalization can be applied by setting `normalize=True`.\n",
    "    \"\"\"\n",
    "    plt.imshow(cm, interpolation='nearest', cmap=cmap)\n",
    "    plt.title(title)\n",
    "    plt.colorbar()\n",
    "    tick_marks = np.arange(len(classes))\n",
    "    plt.xticks(tick_marks, classes, rotation=45)\n",
    "    plt.yticks(tick_marks, classes)\n",
    "\n",
    "    if normalize:\n",
    "        cm = cm.astype('float') / cm.sum(axis=1)[:, np.newaxis]\n",
    "        print(\"Normalized confusion matrix\")\n",
    "    else:\n",
    "        print('Confusion matrix, without normalization')\n",
    "\n",
    "    print(cm)\n",
    "\n",
    "    thresh = cm.max() / 2.\n",
    "    for i, j in itertools.product(range(cm.shape[0]), range(cm.shape[1])):\n",
    "        plt.text(j, i, cm[i, j],\n",
    "                 horizontalalignment=\"center\",\n",
    "                 color=\"white\" if cm[i, j] > thresh else \"black\")\n",
    "\n",
    "    plt.tight_layout()\n",
    "    plt.ylabel('True label')\n",
    "    plt.xlabel('Predicted label')\n",
    "\n",
    "font = {'size' : 15}\n",
    "\n",
    "plt.rc('font', **font)\n",
    "\n",
    "cnf_matrix = confusion_matrix(y_test, cb_predict)\n",
    "plt.figure(figsize=(10, 8))\n",
    "plot_confusion_matrix(cnf_matrix, classes=['не ушли', 'ушли'],\n",
    "                      title='Confusion matrix')\n",
    "plt.savefig(\"conf_matrix.png\")\n",
    "plt.show()"
   ]
  },
  {
   "cell_type": "code",
   "execution_count": 48,
   "metadata": {
    "pycharm": {
     "name": "#%%\n"
    }
   },
   "outputs": [
    {
     "data": {
      "image/png": "[encoded data removed]",
      "text/plain": [
       "<Figure size 432x288 with 1 Axes>"
      ]
     },
     "metadata": {
      "needs_background": "light"
     },
     "output_type": "display_data"
    }
   ],
   "source": [
    "precision, recall, _ = precision_recall_curve(y_test, cb_predict)\n",
    "disp = PrecisionRecallDisplay(precision=precision, recall=recall)\n",
    "disp.plot();"
   ]
  },
  {
   "cell_type": "markdown",
   "metadata": {
    "pycharm": {
     "name": "#%% md\n"
    }
   },
   "source": [
    "- Проанализируйте важность основных факторов, влияющих на отток клиента."
   ]
  },
  {
   "cell_type": "code",
   "execution_count": 49,
   "metadata": {
    "pycharm": {
     "name": "#%%\n"
    },
    "scrolled": false
   },
   "outputs": [
    {
     "data": {
      "text/html": [
       "<div>\n",
       "<style scoped>\n",
       "    .dataframe tbody tr th:only-of-type {\n",
       "        vertical-align: middle;\n",
       "    }\n",
       "\n",
       "    .dataframe tbody tr th {\n",
       "        vertical-align: top;\n",
       "    }\n",
       "\n",
       "    .dataframe thead th {\n",
       "        text-align: right;\n",
       "    }\n",
       "</style>\n",
       "<table border=\"1\" class=\"dataframe\">\n",
       "  <thead>\n",
       "    <tr style=\"text-align: right;\">\n",
       "      <th></th>\n",
       "      <th>0</th>\n",
       "    </tr>\n",
       "  </thead>\n",
       "  <tbody>\n",
       "    <tr>\n",
       "      <th>Type</th>\n",
       "      <td>19.361690</td>\n",
       "    </tr>\n",
       "    <tr>\n",
       "      <th>TotalCharges</th>\n",
       "      <td>17.211836</td>\n",
       "    </tr>\n",
       "    <tr>\n",
       "      <th>OnlineSecurity</th>\n",
       "      <td>6.869624</td>\n",
       "    </tr>\n",
       "    <tr>\n",
       "      <th>InternetService</th>\n",
       "      <td>6.836953</td>\n",
       "    </tr>\n",
       "    <tr>\n",
       "      <th>MonthlyCharges</th>\n",
       "      <td>6.833098</td>\n",
       "    </tr>\n",
       "    <tr>\n",
       "      <th>ltv</th>\n",
       "      <td>6.505766</td>\n",
       "    </tr>\n",
       "    <tr>\n",
       "      <th>PaymentMethod</th>\n",
       "      <td>6.181256</td>\n",
       "    </tr>\n",
       "    <tr>\n",
       "      <th>TechSupport</th>\n",
       "      <td>4.378694</td>\n",
       "    </tr>\n",
       "    <tr>\n",
       "      <th>StreamingMovies</th>\n",
       "      <td>4.243240</td>\n",
       "    </tr>\n",
       "    <tr>\n",
       "      <th>PaperlessBilling</th>\n",
       "      <td>3.878605</td>\n",
       "    </tr>\n",
       "    <tr>\n",
       "      <th>MultipleLines</th>\n",
       "      <td>3.720103</td>\n",
       "    </tr>\n",
       "    <tr>\n",
       "      <th>OnlineBackup</th>\n",
       "      <td>3.600166</td>\n",
       "    </tr>\n",
       "    <tr>\n",
       "      <th>DeviceProtection</th>\n",
       "      <td>2.738279</td>\n",
       "    </tr>\n",
       "    <tr>\n",
       "      <th>StreamingTV</th>\n",
       "      <td>2.340928</td>\n",
       "    </tr>\n",
       "    <tr>\n",
       "      <th>SeniorCitizen</th>\n",
       "      <td>2.011599</td>\n",
       "    </tr>\n",
       "    <tr>\n",
       "      <th>gender</th>\n",
       "      <td>1.427727</td>\n",
       "    </tr>\n",
       "    <tr>\n",
       "      <th>Dependents</th>\n",
       "      <td>1.376527</td>\n",
       "    </tr>\n",
       "    <tr>\n",
       "      <th>Partner</th>\n",
       "      <td>0.483909</td>\n",
       "    </tr>\n",
       "  </tbody>\n",
       "</table>\n",
       "</div>"
      ],
      "text/plain": [
       "                          0\n",
       "Type              19.361690\n",
       "TotalCharges      17.211836\n",
       "OnlineSecurity     6.869624\n",
       "InternetService    6.836953\n",
       "MonthlyCharges     6.833098\n",
       "ltv                6.505766\n",
       "PaymentMethod      6.181256\n",
       "TechSupport        4.378694\n",
       "StreamingMovies    4.243240\n",
       "PaperlessBilling   3.878605\n",
       "MultipleLines      3.720103\n",
       "OnlineBackup       3.600166\n",
       "DeviceProtection   2.738279\n",
       "StreamingTV        2.340928\n",
       "SeniorCitizen      2.011599\n",
       "gender             1.427727\n",
       "Dependents         1.376527\n",
       "Partner            0.483909"
      ]
     },
     "execution_count": 49,
     "metadata": {},
     "output_type": "execute_result"
    }
   ],
   "source": [
    "df = pd.DataFrame((cat_model.feature_importances_)).T\n",
    "df.columns = X_train.columns\n",
    "df.T.sort_values(0,ascending=0)"
   ]
  },
  {
   "cell_type": "markdown",
   "metadata": {
    "pycharm": {
     "name": "#%% md\n"
    }
   },
   "source": [
    "-  Для одного из выявленных важных факторов проведите дополнительное исследование:"
   ]
  },
  {
   "cell_type": "code",
   "execution_count": 50,
   "metadata": {
    "pycharm": {
     "name": "#%%\n"
    }
   },
   "outputs": [
    {
     "data": {
      "image/png": "[encoded data removed]",
      "text/plain": [
       "<Figure size 720x504 with 1 Axes>"
      ]
     },
     "metadata": {
      "needs_background": "light"
     },
     "output_type": "display_data"
    }
   ],
   "source": [
    "pd.crosstab(full_df_copy['Type'],full_df_copy['churn']).plot(kind='bar',figsize=(10,7))\n",
    "plt.xlabel('тип оплаты (раз в год или помесячно)')\n",
    "plt.ylabel('Количество клиентов')\n",
    "plt.xticks(rotation=0)\n",
    "plt.show()"
   ]
  },
  {
   "cell_type": "markdown",
   "metadata": {
    "pycharm": {
     "name": "#%% md\n"
    }
   },
   "source": [
    "Клиенты которые платят помесячно чаще всего уходят."
   ]
  },
  {
   "cell_type": "markdown",
   "metadata": {
    "pycharm": {
     "name": "#%% md\n"
    }
   },
   "source": [
    "## Вывод\n",
    "- Во всех таблицах есть данные, в `contract` есть пропуски, которые заменены на `unknown`.\n",
    "- Количество таблиц соответствует условию задачи.\n",
    "- Для связи таблиц есть общий ключ.\n",
    "- В среднем и по квартилям у тех кто уходит ежемесячный платеж больше.\n",
    "- В основном те кто уходит платят ежемесячный платеж от 70 до 110.\n",
    "- Использованны модели RandomForestClassifier, CatBoostClassifier и NeuralNetClassifier.\n",
    "- Удалось достичь критерий оценки качества ROC-AUC не менее 0.78.\n",
    "- Лучше всего метрика у CatBoostClassifier ROC-AUC = 0.8484419523810638.\n",
    "- Клиенты которые платят помесячно чаще всего уходят.\n",
    "- Для удержания клиентов есть смысл пересмотреть цены на помесячную оплату."
   ]
  }
 ],
 "metadata": {
  "ExecuteTimeLog": [
   {
    "duration": 1918,
    "start_time": "2022-10-08T16:50:21.414Z"
   },
   {
    "duration": 4168,
    "start_time": "2022-10-08T16:50:42.546Z"
   },
   {
    "duration": 888,
    "start_time": "2022-10-08T16:50:46.716Z"
   },
   {
    "duration": 4,
    "start_time": "2022-10-08T17:35:35.350Z"
   },
   {
    "duration": 5064,
    "start_time": "2022-10-08T17:35:36.235Z"
   },
   {
    "duration": 448,
    "start_time": "2022-10-08T17:35:41.301Z"
   },
   {
    "duration": 20,
    "start_time": "2022-10-08T17:35:41.751Z"
   },
   {
    "duration": 53,
    "start_time": "2022-10-08T17:35:41.773Z"
   },
   {
    "duration": 15,
    "start_time": "2022-10-08T17:35:41.828Z"
   },
   {
    "duration": 76,
    "start_time": "2022-10-08T17:35:41.846Z"
   },
   {
    "duration": 18,
    "start_time": "2022-10-08T17:35:41.924Z"
   },
   {
    "duration": 48,
    "start_time": "2022-10-08T17:35:41.944Z"
   },
   {
    "duration": 12,
    "start_time": "2022-10-08T17:35:41.994Z"
   },
   {
    "duration": 16,
    "start_time": "2022-10-08T17:35:42.009Z"
   },
   {
    "duration": 13,
    "start_time": "2022-10-08T17:35:42.244Z"
   },
   {
    "duration": 14,
    "start_time": "2022-10-08T17:35:42.532Z"
   },
   {
    "duration": 11,
    "start_time": "2022-10-08T17:35:42.775Z"
   },
   {
    "duration": 4,
    "start_time": "2022-10-08T17:35:43.716Z"
   },
   {
    "duration": 18,
    "start_time": "2022-10-08T17:35:45.604Z"
   },
   {
    "duration": 22,
    "start_time": "2022-10-08T17:35:50.605Z"
   },
   {
    "duration": 274,
    "start_time": "2022-10-08T17:35:54.022Z"
   },
   {
    "duration": 247,
    "start_time": "2022-10-08T17:36:18.497Z"
   },
   {
    "duration": 53,
    "start_time": "2022-10-08T17:36:30.259Z"
   },
   {
    "duration": 42,
    "start_time": "2022-10-08T17:36:31.610Z"
   },
   {
    "duration": 4,
    "start_time": "2022-10-08T17:37:25.561Z"
   },
   {
    "duration": 63,
    "start_time": "2022-10-08T17:37:28.532Z"
   },
   {
    "duration": 36,
    "start_time": "2022-10-08T17:37:57.839Z"
   },
   {
    "duration": 51,
    "start_time": "2022-10-08T17:39:42.939Z"
   },
   {
    "duration": 16,
    "start_time": "2022-10-08T17:39:49.465Z"
   },
   {
    "duration": 40,
    "start_time": "2022-10-08T17:39:56.027Z"
   },
   {
    "duration": 19,
    "start_time": "2022-10-08T17:40:01.558Z"
   },
   {
    "duration": 23,
    "start_time": "2022-10-08T17:40:20.815Z"
   },
   {
    "duration": 24,
    "start_time": "2022-10-08T17:40:47.458Z"
   },
   {
    "duration": 47,
    "start_time": "2022-10-08T17:40:51.346Z"
   },
   {
    "duration": 15,
    "start_time": "2022-10-08T17:41:11.070Z"
   },
   {
    "duration": 15,
    "start_time": "2022-10-08T17:41:20.447Z"
   },
   {
    "duration": 30,
    "start_time": "2022-10-08T17:41:30.575Z"
   },
   {
    "duration": 22,
    "start_time": "2022-10-08T17:41:46.250Z"
   },
   {
    "duration": 23,
    "start_time": "2022-10-08T17:42:15.557Z"
   },
   {
    "duration": 16,
    "start_time": "2022-10-08T17:42:20.934Z"
   },
   {
    "duration": 29,
    "start_time": "2022-10-08T17:42:30.311Z"
   },
   {
    "duration": 16,
    "start_time": "2022-10-08T17:42:51.938Z"
   },
   {
    "duration": 50,
    "start_time": "2022-10-08T17:43:04.315Z"
   },
   {
    "duration": 29,
    "start_time": "2022-10-08T17:43:27.246Z"
   },
   {
    "duration": 9,
    "start_time": "2022-10-08T17:44:22.788Z"
   },
   {
    "duration": 16,
    "start_time": "2022-10-08T17:44:27.893Z"
   },
   {
    "duration": 20,
    "start_time": "2022-10-08T17:44:34.118Z"
   },
   {
    "duration": 6,
    "start_time": "2022-10-08T17:44:44.593Z"
   },
   {
    "duration": 30,
    "start_time": "2022-10-08T17:45:12.259Z"
   },
   {
    "duration": 216,
    "start_time": "2022-10-08T17:46:05.833Z"
   },
   {
    "duration": 300,
    "start_time": "2022-10-08T17:46:28.652Z"
   },
   {
    "duration": 37,
    "start_time": "2022-10-08T17:46:44.014Z"
   },
   {
    "duration": 5,
    "start_time": "2022-10-08T17:46:56.766Z"
   },
   {
    "duration": 248,
    "start_time": "2022-10-08T17:47:11.458Z"
   },
   {
    "duration": 216,
    "start_time": "2022-10-08T17:47:19.203Z"
   },
   {
    "duration": 56,
    "start_time": "2022-10-08T17:47:50.311Z"
   },
   {
    "duration": 242,
    "start_time": "2022-10-08T17:48:34.517Z"
   },
   {
    "duration": 37,
    "start_time": "2022-10-08T17:48:39.749Z"
   },
   {
    "duration": 231,
    "start_time": "2022-10-08T17:49:21.666Z"
   },
   {
    "duration": 54,
    "start_time": "2022-10-08T17:49:33.980Z"
   },
   {
    "duration": 211,
    "start_time": "2022-10-08T17:50:08.263Z"
   },
   {
    "duration": 11,
    "start_time": "2022-10-08T17:50:38.307Z"
   },
   {
    "duration": 45,
    "start_time": "2022-10-08T17:51:57.862Z"
   },
   {
    "duration": 33,
    "start_time": "2022-10-08T17:52:04.542Z"
   },
   {
    "duration": 11,
    "start_time": "2022-10-08T17:52:19.152Z"
   },
   {
    "duration": 15,
    "start_time": "2022-10-08T17:52:24.904Z"
   },
   {
    "duration": 203,
    "start_time": "2022-10-08T17:52:42.475Z"
   },
   {
    "duration": 21,
    "start_time": "2022-10-08T17:52:56.364Z"
   },
   {
    "duration": 63,
    "start_time": "2022-10-08T17:53:11.837Z"
   },
   {
    "duration": 51,
    "start_time": "2022-10-08T17:53:47.851Z"
   },
   {
    "duration": 53,
    "start_time": "2022-10-08T17:53:51.211Z"
   },
   {
    "duration": 35,
    "start_time": "2022-10-08T17:54:35.194Z"
   },
   {
    "duration": 18,
    "start_time": "2022-10-08T17:54:45.641Z"
   },
   {
    "duration": 17,
    "start_time": "2022-10-08T17:54:54.539Z"
   },
   {
    "duration": 22,
    "start_time": "2022-10-08T17:55:03.517Z"
   },
   {
    "duration": 19,
    "start_time": "2022-10-08T17:55:11.044Z"
   },
   {
    "duration": 25,
    "start_time": "2022-10-08T17:55:17.190Z"
   },
   {
    "duration": 32,
    "start_time": "2022-10-08T17:55:38.753Z"
   },
   {
    "duration": 10,
    "start_time": "2022-10-08T17:55:55.580Z"
   },
   {
    "duration": 7,
    "start_time": "2022-10-08T17:56:01.667Z"
   },
   {
    "duration": 49,
    "start_time": "2022-10-08T17:56:09.405Z"
   },
   {
    "duration": 33,
    "start_time": "2022-10-08T17:56:47.537Z"
   },
   {
    "duration": 33,
    "start_time": "2022-10-08T17:57:21.317Z"
   },
   {
    "duration": 22,
    "start_time": "2022-10-08T17:57:36.841Z"
   },
   {
    "duration": 61,
    "start_time": "2022-10-08T17:57:59.897Z"
   },
   {
    "duration": 57,
    "start_time": "2022-10-08T17:58:14.468Z"
   },
   {
    "duration": 38,
    "start_time": "2022-10-08T17:59:55.937Z"
   },
   {
    "duration": 12,
    "start_time": "2022-10-08T18:01:50.085Z"
   },
   {
    "duration": 18,
    "start_time": "2022-10-08T18:02:02.503Z"
   },
   {
    "duration": 81,
    "start_time": "2022-10-08T18:02:44.366Z"
   },
   {
    "duration": 9,
    "start_time": "2022-10-08T18:03:08.431Z"
   },
   {
    "duration": 24,
    "start_time": "2022-10-08T18:03:13.728Z"
   },
   {
    "duration": 12,
    "start_time": "2022-10-08T18:03:43.787Z"
   },
   {
    "duration": 17,
    "start_time": "2022-10-08T18:03:48.500Z"
   },
   {
    "duration": 1118,
    "start_time": "2022-10-08T18:03:59.742Z"
   },
   {
    "duration": 33,
    "start_time": "2022-10-08T18:04:07.750Z"
   },
   {
    "duration": 5,
    "start_time": "2022-10-08T18:04:28.464Z"
   },
   {
    "duration": 7,
    "start_time": "2022-10-08T18:04:43.755Z"
   },
   {
    "duration": 13,
    "start_time": "2022-10-08T18:04:53.260Z"
   },
   {
    "duration": 9,
    "start_time": "2022-10-08T18:05:05.205Z"
   },
   {
    "duration": 57,
    "start_time": "2022-10-08T18:05:06.405Z"
   },
   {
    "duration": 23,
    "start_time": "2022-10-08T18:05:09.382Z"
   },
   {
    "duration": 27,
    "start_time": "2022-10-08T18:05:33.337Z"
   },
   {
    "duration": 30,
    "start_time": "2022-10-08T18:05:56.804Z"
   },
   {
    "duration": 7,
    "start_time": "2022-10-08T18:06:44.089Z"
   },
   {
    "duration": 13,
    "start_time": "2022-10-08T18:07:48.468Z"
   },
   {
    "duration": 7,
    "start_time": "2022-10-08T18:07:48.752Z"
   },
   {
    "duration": 27,
    "start_time": "2022-10-08T18:07:54.146Z"
   },
   {
    "duration": 37,
    "start_time": "2022-10-08T18:08:01.628Z"
   },
   {
    "duration": 22,
    "start_time": "2022-10-08T18:08:09.468Z"
   },
   {
    "duration": 21,
    "start_time": "2022-10-08T18:08:28.862Z"
   },
   {
    "duration": 9,
    "start_time": "2022-10-08T18:08:29.166Z"
   },
   {
    "duration": 27,
    "start_time": "2022-10-08T18:08:29.550Z"
   },
   {
    "duration": 30,
    "start_time": "2022-10-08T18:08:30.198Z"
   },
   {
    "duration": 153,
    "start_time": "2022-10-08T18:09:21.052Z"
   },
   {
    "duration": 13,
    "start_time": "2022-10-08T18:09:33.742Z"
   },
   {
    "duration": 32,
    "start_time": "2022-10-08T18:09:34.894Z"
   },
   {
    "duration": 23,
    "start_time": "2022-10-08T18:09:46.457Z"
   },
   {
    "duration": 27,
    "start_time": "2022-10-08T18:10:16.467Z"
   },
   {
    "duration": 29,
    "start_time": "2022-10-08T18:10:41.110Z"
   },
   {
    "duration": 14,
    "start_time": "2022-10-08T18:10:50.392Z"
   },
   {
    "duration": 14,
    "start_time": "2022-10-08T18:11:08.010Z"
   },
   {
    "duration": 29,
    "start_time": "2022-10-08T18:11:20.507Z"
   },
   {
    "duration": 15,
    "start_time": "2022-10-08T18:16:26.134Z"
   },
   {
    "duration": 3,
    "start_time": "2022-10-08T18:16:27.176Z"
   },
   {
    "duration": 51,
    "start_time": "2022-10-08T18:17:02.438Z"
   },
   {
    "duration": 48,
    "start_time": "2022-10-08T18:17:46.387Z"
   },
   {
    "duration": 23,
    "start_time": "2022-10-08T18:18:28.159Z"
   },
   {
    "duration": 27,
    "start_time": "2022-10-08T18:18:35.161Z"
   },
   {
    "duration": 54,
    "start_time": "2022-10-08T18:21:53.680Z"
   },
   {
    "duration": 4,
    "start_time": "2022-10-08T18:22:15.707Z"
   },
   {
    "duration": 3,
    "start_time": "2022-10-08T18:22:24.356Z"
   },
   {
    "duration": 479,
    "start_time": "2022-10-08T18:22:26.964Z"
   },
   {
    "duration": 25,
    "start_time": "2022-10-08T18:22:43.735Z"
   },
   {
    "duration": 11,
    "start_time": "2022-10-08T18:23:40.871Z"
   },
   {
    "duration": 48,
    "start_time": "2022-10-08T18:24:32.747Z"
   },
   {
    "duration": 12,
    "start_time": "2022-10-08T18:25:42.477Z"
   },
   {
    "duration": 13,
    "start_time": "2022-10-08T18:25:46.373Z"
   },
   {
    "duration": 3,
    "start_time": "2022-10-08T18:25:46.741Z"
   },
   {
    "duration": 47,
    "start_time": "2022-10-08T18:25:47.117Z"
   },
   {
    "duration": 19,
    "start_time": "2022-10-08T18:25:47.493Z"
   },
   {
    "duration": 20,
    "start_time": "2022-10-08T18:25:48.190Z"
   },
   {
    "duration": 4,
    "start_time": "2022-10-08T18:26:01.167Z"
   },
   {
    "duration": 3,
    "start_time": "2022-10-08T18:26:01.743Z"
   },
   {
    "duration": 16274,
    "start_time": "2022-10-08T18:26:02.879Z"
   },
   {
    "duration": 30,
    "start_time": "2022-10-08T18:26:37.571Z"
   },
   {
    "duration": 54,
    "start_time": "2022-10-08T18:31:15.518Z"
   },
   {
    "duration": 80,
    "start_time": "2022-10-08T18:31:17.654Z"
   },
   {
    "duration": 6,
    "start_time": "2022-10-08T18:31:21.311Z"
   },
   {
    "duration": 4,
    "start_time": "2022-10-08T18:31:29.768Z"
   },
   {
    "duration": 49,
    "start_time": "2022-10-08T18:31:30.231Z"
   },
   {
    "duration": 31,
    "start_time": "2022-10-08T18:31:33.873Z"
   },
   {
    "duration": 14,
    "start_time": "2022-10-08T18:31:59.052Z"
   },
   {
    "duration": 4,
    "start_time": "2022-10-08T18:32:08.045Z"
   },
   {
    "duration": 11,
    "start_time": "2022-10-08T18:32:15.061Z"
   },
   {
    "duration": 4,
    "start_time": "2022-10-08T18:32:22.911Z"
   },
   {
    "duration": 12,
    "start_time": "2022-10-08T18:32:30.191Z"
   },
   {
    "duration": 16,
    "start_time": "2022-10-08T18:33:25.310Z"
   },
   {
    "duration": 5,
    "start_time": "2022-10-08T18:33:28.519Z"
   },
   {
    "duration": 5,
    "start_time": "2022-10-08T18:33:35.791Z"
   },
   {
    "duration": 5,
    "start_time": "2022-10-08T18:33:39.048Z"
   },
   {
    "duration": 36,
    "start_time": "2022-10-08T18:33:39.279Z"
   },
   {
    "duration": 31,
    "start_time": "2022-10-08T18:33:40.687Z"
   },
   {
    "duration": 28,
    "start_time": "2022-10-08T18:33:48.080Z"
   },
   {
    "duration": 61,
    "start_time": "2022-10-08T18:34:10.284Z"
   },
   {
    "duration": 5,
    "start_time": "2022-10-08T18:34:12.299Z"
   },
   {
    "duration": 36,
    "start_time": "2022-10-08T18:34:12.948Z"
   },
   {
    "duration": 37,
    "start_time": "2022-10-08T18:34:13.811Z"
   },
   {
    "duration": 52,
    "start_time": "2022-10-08T18:35:00.665Z"
   },
   {
    "duration": 14,
    "start_time": "2022-10-08T18:35:02.113Z"
   },
   {
    "duration": 10,
    "start_time": "2022-10-08T18:35:09.194Z"
   },
   {
    "duration": 36,
    "start_time": "2022-10-08T18:35:10.834Z"
   },
   {
    "duration": 29,
    "start_time": "2022-10-08T18:35:15.733Z"
   },
   {
    "duration": 33,
    "start_time": "2022-10-08T18:35:16.043Z"
   },
   {
    "duration": 62,
    "start_time": "2022-10-08T18:36:08.995Z"
   },
   {
    "duration": 5,
    "start_time": "2022-10-08T18:36:10.745Z"
   },
   {
    "duration": 38,
    "start_time": "2022-10-08T18:36:12.370Z"
   },
   {
    "duration": 4,
    "start_time": "2022-10-08T18:36:20.899Z"
   },
   {
    "duration": 48,
    "start_time": "2022-10-08T18:36:23.148Z"
   },
   {
    "duration": 4,
    "start_time": "2022-10-08T18:36:24.011Z"
   },
   {
    "duration": 35,
    "start_time": "2022-10-08T18:36:24.634Z"
   },
   {
    "duration": 5,
    "start_time": "2022-10-08T18:36:27.733Z"
   },
   {
    "duration": 34,
    "start_time": "2022-10-08T18:36:28.734Z"
   },
   {
    "duration": 53,
    "start_time": "2022-10-08T18:36:31.484Z"
   },
   {
    "duration": 4,
    "start_time": "2022-10-08T18:36:32.133Z"
   },
   {
    "duration": 48,
    "start_time": "2022-10-08T18:36:32.772Z"
   },
   {
    "duration": 36,
    "start_time": "2022-10-08T18:36:36.710Z"
   },
   {
    "duration": 54,
    "start_time": "2022-10-08T18:40:12.192Z"
   },
   {
    "duration": 5,
    "start_time": "2022-10-08T18:40:14.152Z"
   },
   {
    "duration": 41,
    "start_time": "2022-10-08T18:40:15.120Z"
   },
   {
    "duration": 35,
    "start_time": "2022-10-08T18:40:33.081Z"
   },
   {
    "duration": 121,
    "start_time": "2022-10-08T18:40:33.794Z"
   },
   {
    "duration": 36,
    "start_time": "2022-10-08T18:40:40.587Z"
   },
   {
    "duration": 13,
    "start_time": "2022-10-08T18:40:41.491Z"
   },
   {
    "duration": 3,
    "start_time": "2022-10-08T18:40:41.754Z"
   },
   {
    "duration": 48,
    "start_time": "2022-10-08T18:40:42.003Z"
   },
   {
    "duration": 24,
    "start_time": "2022-10-08T18:40:42.234Z"
   },
   {
    "duration": 4,
    "start_time": "2022-10-08T18:40:43.898Z"
   },
   {
    "duration": 4,
    "start_time": "2022-10-08T18:40:44.746Z"
   },
   {
    "duration": 22527,
    "start_time": "2022-10-08T18:40:45.266Z"
   },
   {
    "duration": 50,
    "start_time": "2022-10-08T18:41:07.796Z"
   },
   {
    "duration": 5,
    "start_time": "2022-10-08T18:41:13.702Z"
   },
   {
    "duration": 3,
    "start_time": "2022-10-08T18:41:16.262Z"
   },
   {
    "duration": 48953,
    "start_time": "2022-10-08T18:41:16.559Z"
   },
   {
    "duration": 5,
    "start_time": "2022-10-08T18:42:05.514Z"
   },
   {
    "duration": 44142,
    "start_time": "2022-10-08T18:42:13.017Z"
   },
   {
    "duration": 5,
    "start_time": "2022-10-08T18:42:57.161Z"
   },
   {
    "duration": 8,
    "start_time": "2022-10-08T18:42:57.168Z"
   },
   {
    "duration": 1046,
    "start_time": "2022-10-08T18:42:57.179Z"
   },
   {
    "duration": 7,
    "start_time": "2022-10-08T18:42:58.227Z"
   },
   {
    "duration": 9,
    "start_time": "2022-10-08T18:42:58.237Z"
   },
   {
    "duration": 14,
    "start_time": "2022-10-08T18:42:58.249Z"
   },
   {
    "duration": 271390,
    "start_time": "2022-10-08T18:42:58.266Z"
   },
   {
    "duration": 65,
    "start_time": "2022-10-08T18:47:29.658Z"
   },
   {
    "duration": 43,
    "start_time": "2022-10-08T18:47:29.725Z"
   },
   {
    "duration": 14,
    "start_time": "2022-10-08T18:47:29.825Z"
   },
   {
    "duration": 14,
    "start_time": "2022-10-08T18:47:39.048Z"
   },
   {
    "duration": 639,
    "start_time": "2022-10-08T18:47:40.727Z"
   },
   {
    "duration": 15,
    "start_time": "2022-10-08T18:47:43.815Z"
   },
   {
    "duration": 8655,
    "start_time": "2022-10-08T18:48:31.573Z"
   },
   {
    "duration": 19,
    "start_time": "2022-10-08T18:48:40.232Z"
   },
   {
    "duration": 14,
    "start_time": "2022-10-08T18:48:44.414Z"
   },
   {
    "duration": 5,
    "start_time": "2022-10-08T18:48:56.248Z"
   },
   {
    "duration": 11,
    "start_time": "2022-10-08T18:49:04.545Z"
   },
   {
    "duration": 12,
    "start_time": "2022-10-08T18:49:34.837Z"
   },
   {
    "duration": 13,
    "start_time": "2022-10-08T18:49:44.135Z"
   },
   {
    "duration": 12,
    "start_time": "2022-10-08T18:49:51.054Z"
   },
   {
    "duration": 15,
    "start_time": "2022-10-08T18:51:52.637Z"
   },
   {
    "duration": 130,
    "start_time": "2022-10-08T18:52:43.726Z"
   },
   {
    "duration": 14,
    "start_time": "2022-10-08T18:53:48.213Z"
   },
   {
    "duration": 13,
    "start_time": "2022-10-08T18:54:02.819Z"
   },
   {
    "duration": 1146,
    "start_time": "2022-10-08T18:54:49.379Z"
   },
   {
    "duration": 2619,
    "start_time": "2022-10-08T18:55:45.291Z"
   },
   {
    "duration": 20,
    "start_time": "2022-10-08T18:55:48.586Z"
   },
   {
    "duration": 4279,
    "start_time": "2022-10-08T18:56:35.434Z"
   },
   {
    "duration": 19,
    "start_time": "2022-10-08T18:56:44.570Z"
   },
   {
    "duration": 113,
    "start_time": "2022-10-08T18:57:47.274Z"
   },
   {
    "duration": 107,
    "start_time": "2022-10-08T18:57:57.283Z"
   },
   {
    "duration": 113,
    "start_time": "2022-10-08T18:58:03.003Z"
   },
   {
    "duration": 4,
    "start_time": "2022-10-08T18:58:21.078Z"
   },
   {
    "duration": 2261,
    "start_time": "2022-10-08T19:01:41.662Z"
   },
   {
    "duration": 2216,
    "start_time": "2022-10-08T19:01:43.926Z"
   },
   {
    "duration": 4,
    "start_time": "2022-10-08T19:01:46.144Z"
   },
   {
    "duration": 5980,
    "start_time": "2022-10-08T19:01:46.150Z"
   },
   {
    "duration": 307,
    "start_time": "2022-10-08T19:01:52.131Z"
   },
   {
    "duration": 27,
    "start_time": "2022-10-08T19:01:52.441Z"
   },
   {
    "duration": 149,
    "start_time": "2022-10-08T19:01:52.470Z"
   },
   {
    "duration": 20,
    "start_time": "2022-10-08T19:01:52.621Z"
   },
   {
    "duration": 68,
    "start_time": "2022-10-08T19:01:52.643Z"
   },
   {
    "duration": 22,
    "start_time": "2022-10-08T19:01:52.714Z"
   },
   {
    "duration": 60,
    "start_time": "2022-10-08T19:01:52.739Z"
   },
   {
    "duration": 14,
    "start_time": "2022-10-08T19:01:52.801Z"
   },
   {
    "duration": 20,
    "start_time": "2022-10-08T19:01:52.817Z"
   },
   {
    "duration": 25,
    "start_time": "2022-10-08T19:01:52.839Z"
   },
   {
    "duration": 19,
    "start_time": "2022-10-08T19:01:52.866Z"
   },
   {
    "duration": 21,
    "start_time": "2022-10-08T19:01:52.886Z"
   },
   {
    "duration": 8,
    "start_time": "2022-10-08T19:01:52.909Z"
   },
   {
    "duration": 26,
    "start_time": "2022-10-08T19:01:52.919Z"
   },
   {
    "duration": 21,
    "start_time": "2022-10-08T19:01:52.947Z"
   },
   {
    "duration": 288,
    "start_time": "2022-10-08T19:01:52.970Z"
   },
   {
    "duration": 72,
    "start_time": "2022-10-08T19:01:53.260Z"
   },
   {
    "duration": 6,
    "start_time": "2022-10-08T19:01:53.335Z"
   },
   {
    "duration": 59,
    "start_time": "2022-10-08T19:01:53.342Z"
   },
   {
    "duration": 122,
    "start_time": "2022-10-08T19:01:53.403Z"
   },
   {
    "duration": 36,
    "start_time": "2022-10-08T19:01:53.528Z"
   },
   {
    "duration": 16,
    "start_time": "2022-10-08T19:01:53.565Z"
   },
   {
    "duration": 9,
    "start_time": "2022-10-08T19:01:53.582Z"
   },
   {
    "duration": 71,
    "start_time": "2022-10-08T19:01:53.594Z"
   },
   {
    "duration": 22,
    "start_time": "2022-10-08T19:01:53.667Z"
   },
   {
    "duration": 30,
    "start_time": "2022-10-08T19:01:53.691Z"
   },
   {
    "duration": 29,
    "start_time": "2022-10-08T19:01:53.723Z"
   },
   {
    "duration": 23528,
    "start_time": "2022-10-08T19:01:53.754Z"
   },
   {
    "duration": 40,
    "start_time": "2022-10-08T19:02:17.284Z"
   },
   {
    "duration": 5,
    "start_time": "2022-10-08T19:02:17.326Z"
   },
   {
    "duration": 15,
    "start_time": "2022-10-08T19:02:17.333Z"
   },
   {
    "duration": 49946,
    "start_time": "2022-10-08T19:02:17.350Z"
   },
   {
    "duration": 4,
    "start_time": "2022-10-08T19:03:07.298Z"
   },
   {
    "duration": 6,
    "start_time": "2022-10-08T19:03:07.304Z"
   },
   {
    "duration": 1028,
    "start_time": "2022-10-08T19:03:07.312Z"
   },
   {
    "duration": 6,
    "start_time": "2022-10-08T19:03:08.342Z"
   },
   {
    "duration": 13,
    "start_time": "2022-10-08T19:03:08.349Z"
   },
   {
    "duration": 12,
    "start_time": "2022-10-08T19:03:08.364Z"
   },
   {
    "duration": 271155,
    "start_time": "2022-10-08T19:03:08.378Z"
   },
   {
    "duration": 4,
    "start_time": "2022-10-08T19:07:39.535Z"
   },
   {
    "duration": 94,
    "start_time": "2022-10-08T19:07:39.541Z"
   },
   {
    "duration": 11,
    "start_time": "2022-10-08T19:07:39.637Z"
   },
   {
    "duration": 537,
    "start_time": "2022-10-08T19:07:39.650Z"
   },
   {
    "duration": 122,
    "start_time": "2022-10-08T19:07:40.189Z"
   },
   {
    "duration": 14,
    "start_time": "2022-10-08T19:07:40.313Z"
   },
   {
    "duration": 188,
    "start_time": "2022-10-08T19:07:40.329Z"
   }
  ],
  "kernelspec": {
   "display_name": "Python 3 (ipykernel)",
   "language": "python",
   "name": "python3"
  },
  "language_info": {
   "codemirror_mode": {
    "name": "ipython",
    "version": 3
   },
   "file_extension": ".py",
   "mimetype": "text/x-python",
   "name": "python",
   "nbconvert_exporter": "python",
   "pygments_lexer": "ipython3",
   "version": "3.9.5"
  },
  "toc": {
   "base_numbering": 1,
   "nav_menu": {},
   "number_sections": true,
   "sideBar": true,
   "skip_h1_title": true,
   "title_cell": "Table of Contents",
   "title_sidebar": "Contents",
   "toc_cell": false,
   "toc_position": {
    "height": "calc(100% - 180px)",
    "left": "10px",
    "top": "150px",
    "width": "178.594px"
   },
   "toc_section_display": true,
   "toc_window_display": true
  }
 },
 "nbformat": 4,
 "nbformat_minor": 1
}