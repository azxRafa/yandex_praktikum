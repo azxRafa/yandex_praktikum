{
 "cells": [
  {
   "cell_type": "markdown",
   "metadata": {
    "id": "sRW85nPMDWKb"
   },
   "source": [
    "В этой части проекта вам нужно написать несколько SQL-запросов в Jupyter Notebook."
   ]
  },
  {
   "cell_type": "code",
   "execution_count": 1,
   "metadata": {
    "id": "nlZBlglMDWKe"
   },
   "outputs": [],
   "source": [
    "import pandas as pd\n",
    "import matplotlib.pyplot as plt\n",
    "from sqlalchemy import create_engine \n",
    "import seaborn as sns"
   ]
  },
  {
   "cell_type": "markdown",
   "metadata": {
    "id": "XnOE3n28DWKg"
   },
   "source": [
    "### Конфигурация для подключения к базе данных `data-analyst-advanced-sql`\n",
    "Эта база данных содержит схему `stackoverflow`, с которой вы будете работать в проекте"
   ]
  },
  {
   "cell_type": "code",
   "execution_count": 2,
   "metadata": {
    "id": "6p-yGp7qDWKg"
   },
   "outputs": [],
   "source": [
    "db_config = {\n",
    "    'user': 'user', # имя пользователя\n",
    "    'pwd': 'pwd', # пароль\n",
    "    'host': 'host',\n",
    "    'port': 'port', # порт подключения\n",
    "    'db': 'db' # название базы данных\n",
    "}  \n",
    "\n",
    "connection_string = 'postgresql://{}:{}@{}:{}/{}'.format(\n",
    "    db_config['user'],\n",
    "    db_config['pwd'],\n",
    "    db_config['host'],\n",
    "    db_config['port'],\n",
    "    db_config['db'],\n",
    ")"
   ]
  },
  {
   "cell_type": "markdown",
   "metadata": {
    "id": "2Rg8ZpS0DWKh"
   },
   "source": [
    "Создание подключения"
   ]
  },
  {
   "cell_type": "code",
   "execution_count": 3,
   "metadata": {
    "id": "DamCUTR6DWKi"
   },
   "outputs": [],
   "source": [
    "engine = create_engine(connection_string) "
   ]
  },
  {
   "cell_type": "markdown",
   "metadata": {
    "id": "bel8XeSlDWKj"
   },
   "source": [
    "Пример запроса к базе данных\n",
    "\n",
    "`sample_df` является pandas-датафреймом."
   ]
  },
  {
   "cell_type": "code",
   "execution_count": 4,
   "metadata": {
    "id": "6Z_fw0yLDWKk"
   },
   "outputs": [],
   "source": [
    "query = '''\n",
    "SELECT *\n",
    "FROM stackoverflow.users\n",
    "LIMIT 10;\n",
    "'''\n",
    "\n",
    "sample_df = pd.read_sql_query(query, con=engine) "
   ]
  },
  {
   "cell_type": "code",
   "execution_count": 5,
   "metadata": {
    "id": "ZpuZ290oDWKk",
    "outputId": "22785a0a-e2bc-4559-ec3c-4879c4b377eb"
   },
   "outputs": [
    {
     "data": {
      "text/html": [
       "<div>\n",
       "<style scoped>\n",
       "    .dataframe tbody tr th:only-of-type {\n",
       "        vertical-align: middle;\n",
       "    }\n",
       "\n",
       "    .dataframe tbody tr th {\n",
       "        vertical-align: top;\n",
       "    }\n",
       "\n",
       "    .dataframe thead th {\n",
       "        text-align: right;\n",
       "    }\n",
       "</style>\n",
       "<table border=\"1\" class=\"dataframe\">\n",
       "  <thead>\n",
       "    <tr style=\"text-align: right;\">\n",
       "      <th></th>\n",
       "      <th>id</th>\n",
       "      <th>creation_date</th>\n",
       "      <th>display_name</th>\n",
       "      <th>last_access_date</th>\n",
       "      <th>location</th>\n",
       "      <th>reputation</th>\n",
       "      <th>views</th>\n",
       "    </tr>\n",
       "  </thead>\n",
       "  <tbody>\n",
       "    <tr>\n",
       "      <th>0</th>\n",
       "      <td>1</td>\n",
       "      <td>2008-07-31 14:22:31</td>\n",
       "      <td>Jeff Atwood</td>\n",
       "      <td>2018-08-29 02:34:23</td>\n",
       "      <td>El Cerrito, CA</td>\n",
       "      <td>44300</td>\n",
       "      <td>408587</td>\n",
       "    </tr>\n",
       "    <tr>\n",
       "      <th>1</th>\n",
       "      <td>2</td>\n",
       "      <td>2008-07-31 14:22:31</td>\n",
       "      <td>Geoff Dalgas</td>\n",
       "      <td>2018-08-23 17:31:56</td>\n",
       "      <td>Corvallis, OR</td>\n",
       "      <td>3491</td>\n",
       "      <td>23966</td>\n",
       "    </tr>\n",
       "    <tr>\n",
       "      <th>2</th>\n",
       "      <td>3</td>\n",
       "      <td>2008-07-31 14:22:31</td>\n",
       "      <td>Jarrod Dixon</td>\n",
       "      <td>2018-08-30 20:56:24</td>\n",
       "      <td>Raleigh, NC, United States</td>\n",
       "      <td>13418</td>\n",
       "      <td>24396</td>\n",
       "    </tr>\n",
       "    <tr>\n",
       "      <th>3</th>\n",
       "      <td>4</td>\n",
       "      <td>2008-07-31 14:22:31</td>\n",
       "      <td>Joel Spolsky</td>\n",
       "      <td>2018-08-14 22:18:15</td>\n",
       "      <td>New York, NY</td>\n",
       "      <td>28768</td>\n",
       "      <td>73755</td>\n",
       "    </tr>\n",
       "    <tr>\n",
       "      <th>4</th>\n",
       "      <td>5</td>\n",
       "      <td>2008-07-31 14:22:31</td>\n",
       "      <td>Jon Galloway</td>\n",
       "      <td>2018-08-29 16:48:36</td>\n",
       "      <td>San Diego, CA</td>\n",
       "      <td>39172</td>\n",
       "      <td>11700</td>\n",
       "    </tr>\n",
       "    <tr>\n",
       "      <th>5</th>\n",
       "      <td>8</td>\n",
       "      <td>2008-07-31 21:33:24</td>\n",
       "      <td>Eggs McLaren</td>\n",
       "      <td>2018-04-09 02:04:56</td>\n",
       "      <td>None</td>\n",
       "      <td>942</td>\n",
       "      <td>6372</td>\n",
       "    </tr>\n",
       "    <tr>\n",
       "      <th>6</th>\n",
       "      <td>9</td>\n",
       "      <td>2008-07-31 21:35:27</td>\n",
       "      <td>Kevin Dente</td>\n",
       "      <td>2018-08-30 18:18:03</td>\n",
       "      <td>Oakland, CA</td>\n",
       "      <td>14337</td>\n",
       "      <td>4949</td>\n",
       "    </tr>\n",
       "    <tr>\n",
       "      <th>7</th>\n",
       "      <td>11</td>\n",
       "      <td>2008-08-01 00:59:11</td>\n",
       "      <td>Anonymous User</td>\n",
       "      <td>2008-08-01 00:59:11</td>\n",
       "      <td>None</td>\n",
       "      <td>1890</td>\n",
       "      <td>2123</td>\n",
       "    </tr>\n",
       "    <tr>\n",
       "      <th>8</th>\n",
       "      <td>13</td>\n",
       "      <td>2008-08-01 04:18:05</td>\n",
       "      <td>Chris Jester-Young</td>\n",
       "      <td>2018-08-30 02:47:23</td>\n",
       "      <td>Raleigh, NC, United States</td>\n",
       "      <td>177138</td>\n",
       "      <td>35414</td>\n",
       "    </tr>\n",
       "    <tr>\n",
       "      <th>9</th>\n",
       "      <td>17</td>\n",
       "      <td>2008-08-01 12:02:22</td>\n",
       "      <td>Nick Berardi</td>\n",
       "      <td>2018-01-22 01:35:38</td>\n",
       "      <td>Issaquah, WA</td>\n",
       "      <td>44443</td>\n",
       "      <td>4786</td>\n",
       "    </tr>\n",
       "  </tbody>\n",
       "</table>\n",
       "</div>"
      ],
      "text/plain": [
       "   id       creation_date        display_name    last_access_date  \\\n",
       "0   1 2008-07-31 14:22:31         Jeff Atwood 2018-08-29 02:34:23   \n",
       "1   2 2008-07-31 14:22:31        Geoff Dalgas 2018-08-23 17:31:56   \n",
       "2   3 2008-07-31 14:22:31        Jarrod Dixon 2018-08-30 20:56:24   \n",
       "3   4 2008-07-31 14:22:31        Joel Spolsky 2018-08-14 22:18:15   \n",
       "4   5 2008-07-31 14:22:31        Jon Galloway 2018-08-29 16:48:36   \n",
       "5   8 2008-07-31 21:33:24        Eggs McLaren 2018-04-09 02:04:56   \n",
       "6   9 2008-07-31 21:35:27         Kevin Dente 2018-08-30 18:18:03   \n",
       "7  11 2008-08-01 00:59:11      Anonymous User 2008-08-01 00:59:11   \n",
       "8  13 2008-08-01 04:18:05  Chris Jester-Young 2018-08-30 02:47:23   \n",
       "9  17 2008-08-01 12:02:22        Nick Berardi 2018-01-22 01:35:38   \n",
       "\n",
       "                     location  reputation   views  \n",
       "0              El Cerrito, CA       44300  408587  \n",
       "1               Corvallis, OR        3491   23966  \n",
       "2  Raleigh, NC, United States       13418   24396  \n",
       "3                New York, NY       28768   73755  \n",
       "4               San Diego, CA       39172   11700  \n",
       "5                        None         942    6372  \n",
       "6                 Oakland, CA       14337    4949  \n",
       "7                        None        1890    2123  \n",
       "8  Raleigh, NC, United States      177138   35414  \n",
       "9                Issaquah, WA       44443    4786  "
      ]
     },
     "execution_count": 5,
     "metadata": {},
     "output_type": "execute_result"
    }
   ],
   "source": [
    "sample_df"
   ]
  },
  {
   "cell_type": "markdown",
   "metadata": {
    "id": "gnBMXkDBDWKm"
   },
   "source": [
    "# Задание 1"
   ]
  },
  {
   "cell_type": "markdown",
   "metadata": {
    "id": "vHsfOrrNDWKn"
   },
   "source": [
    "Выведите общую сумму просмотров постов за каждый месяц 2008 года. Если данных за какой-либо месяц в базе нет, такой месяц можно пропустить. Результат отсортируйте по убыванию общего количества просмотров."
   ]
  },
  {
   "cell_type": "markdown",
   "metadata": {
    "id": "N5rTgGNmDWKn"
   },
   "source": [
    "| month_date  | total_views |\n",
    "| ------------- | ------------- |\n",
    "| 2008-09-01  | 452928568  |\n",
    "| 2008-10-01  | 365400138  |\n",
    "| ...         | ... |"
   ]
  },
  {
   "cell_type": "code",
   "execution_count": 6,
   "metadata": {
    "id": "eWvykcXTDWKo"
   },
   "outputs": [
    {
     "data": {
      "text/html": [
       "<div>\n",
       "<style scoped>\n",
       "    .dataframe tbody tr th:only-of-type {\n",
       "        vertical-align: middle;\n",
       "    }\n",
       "\n",
       "    .dataframe tbody tr th {\n",
       "        vertical-align: top;\n",
       "    }\n",
       "\n",
       "    .dataframe thead th {\n",
       "        text-align: right;\n",
       "    }\n",
       "</style>\n",
       "<table border=\"1\" class=\"dataframe\">\n",
       "  <thead>\n",
       "    <tr style=\"text-align: right;\">\n",
       "      <th></th>\n",
       "      <th>month_date</th>\n",
       "      <th>total_views</th>\n",
       "    </tr>\n",
       "  </thead>\n",
       "  <tbody>\n",
       "    <tr>\n",
       "      <th>0</th>\n",
       "      <td>2008-09-01</td>\n",
       "      <td>452928568</td>\n",
       "    </tr>\n",
       "    <tr>\n",
       "      <th>1</th>\n",
       "      <td>2008-10-01</td>\n",
       "      <td>365400138</td>\n",
       "    </tr>\n",
       "    <tr>\n",
       "      <th>2</th>\n",
       "      <td>2008-11-01</td>\n",
       "      <td>221759651</td>\n",
       "    </tr>\n",
       "    <tr>\n",
       "      <th>3</th>\n",
       "      <td>2008-12-01</td>\n",
       "      <td>197792841</td>\n",
       "    </tr>\n",
       "    <tr>\n",
       "      <th>4</th>\n",
       "      <td>2008-08-01</td>\n",
       "      <td>131367083</td>\n",
       "    </tr>\n",
       "    <tr>\n",
       "      <th>5</th>\n",
       "      <td>2008-07-01</td>\n",
       "      <td>669895</td>\n",
       "    </tr>\n",
       "  </tbody>\n",
       "</table>\n",
       "</div>"
      ],
      "text/plain": [
       "   month_date  total_views\n",
       "0  2008-09-01    452928568\n",
       "1  2008-10-01    365400138\n",
       "2  2008-11-01    221759651\n",
       "3  2008-12-01    197792841\n",
       "4  2008-08-01    131367083\n",
       "5  2008-07-01       669895"
      ]
     },
     "execution_count": 6,
     "metadata": {},
     "output_type": "execute_result"
    }
   ],
   "source": [
    "# напишите запрос\n",
    "query = '''\n",
    "SELECT Date_trunc('month', creation_date) :: DATE AS month_date,\n",
    "       SUM(views_count) AS total_views\n",
    "FROM   stackoverflow.posts\n",
    "WHERE  parent_id = 0\n",
    "GROUP  BY month_date\n",
    "ORDER  BY total_views DESC \n",
    "'''\n",
    "\n",
    "# выполните запрос\n",
    "pd.read_sql_query(query, con=engine)"
   ]
  },
  {
   "cell_type": "markdown",
   "metadata": {
    "id": "I_ZvhOxkDWKp"
   },
   "source": [
    "Проанализируйте итоговую таблицу. Отличаются ли данные за разные месяцы? С чем могут быть связаны отличия?"
   ]
  },
  {
   "cell_type": "markdown",
   "metadata": {
    "id": "luxSj17oDWKq"
   },
   "source": [
    "# напишите ваш ответ здесь\n",
    "Данные отличаются, связанно с запуском stackoverflow в сентябре"
   ]
  },
  {
   "cell_type": "markdown",
   "metadata": {
    "id": "FziIXkn5DWKr"
   },
   "source": [
    "# Задание 2"
   ]
  },
  {
   "cell_type": "markdown",
   "metadata": {
    "id": "fTGESZvYDWKr"
   },
   "source": [
    "Выведите имена самых активных пользователей, которые в первый месяц после регистрации (включая день регистрации) дали больше 100 ответов. Вопросы, которые задавали пользователи, не учитывайте. Для каждого имени пользователя выведите количество уникальных значений `user_id`. Отсортируйте результат по полю с именами в лексикографическом порядке."
   ]
  },
  {
   "cell_type": "markdown",
   "metadata": {
    "id": "W5-tv6Y3DWKs"
   },
   "source": [
    "| display_name | count |\n",
    "| ------------ | ----- |\n",
    "| 1800 INFORMATION | 1 |\n",
    "| Adam Bellaire | 1 |\n",
    "| Adam Davis | 1 |\n",
    "| ... | ... |"
   ]
  },
  {
   "cell_type": "code",
   "execution_count": 7,
   "metadata": {
    "id": "fIO-y-YjDWKt"
   },
   "outputs": [
    {
     "data": {
      "text/html": [
       "<div>\n",
       "<style scoped>\n",
       "    .dataframe tbody tr th:only-of-type {\n",
       "        vertical-align: middle;\n",
       "    }\n",
       "\n",
       "    .dataframe tbody tr th {\n",
       "        vertical-align: top;\n",
       "    }\n",
       "\n",
       "    .dataframe thead th {\n",
       "        text-align: right;\n",
       "    }\n",
       "</style>\n",
       "<table border=\"1\" class=\"dataframe\">\n",
       "  <thead>\n",
       "    <tr style=\"text-align: right;\">\n",
       "      <th></th>\n",
       "      <th>display_name</th>\n",
       "      <th>count</th>\n",
       "    </tr>\n",
       "  </thead>\n",
       "  <tbody>\n",
       "    <tr>\n",
       "      <th>0</th>\n",
       "      <td>1800 INFORMATION</td>\n",
       "      <td>1</td>\n",
       "    </tr>\n",
       "    <tr>\n",
       "      <th>1</th>\n",
       "      <td>Adam Bellaire</td>\n",
       "      <td>1</td>\n",
       "    </tr>\n",
       "    <tr>\n",
       "      <th>2</th>\n",
       "      <td>Adam Davis</td>\n",
       "      <td>1</td>\n",
       "    </tr>\n",
       "    <tr>\n",
       "      <th>3</th>\n",
       "      <td>Adam Liss</td>\n",
       "      <td>1</td>\n",
       "    </tr>\n",
       "    <tr>\n",
       "      <th>4</th>\n",
       "      <td>Amy B</td>\n",
       "      <td>1</td>\n",
       "    </tr>\n",
       "    <tr>\n",
       "      <th>...</th>\n",
       "      <td>...</td>\n",
       "      <td>...</td>\n",
       "    </tr>\n",
       "    <tr>\n",
       "      <th>57</th>\n",
       "      <td>leppie</td>\n",
       "      <td>1</td>\n",
       "    </tr>\n",
       "    <tr>\n",
       "      <th>58</th>\n",
       "      <td>lomaxx</td>\n",
       "      <td>1</td>\n",
       "    </tr>\n",
       "    <tr>\n",
       "      <th>59</th>\n",
       "      <td>mattlant</td>\n",
       "      <td>1</td>\n",
       "    </tr>\n",
       "    <tr>\n",
       "      <th>60</th>\n",
       "      <td>paxdiablo</td>\n",
       "      <td>1</td>\n",
       "    </tr>\n",
       "    <tr>\n",
       "      <th>61</th>\n",
       "      <td>tzot</td>\n",
       "      <td>1</td>\n",
       "    </tr>\n",
       "  </tbody>\n",
       "</table>\n",
       "<p>62 rows × 2 columns</p>\n",
       "</div>"
      ],
      "text/plain": [
       "        display_name  count\n",
       "0   1800 INFORMATION      1\n",
       "1      Adam Bellaire      1\n",
       "2         Adam Davis      1\n",
       "3          Adam Liss      1\n",
       "4              Amy B      1\n",
       "..               ...    ...\n",
       "57            leppie      1\n",
       "58            lomaxx      1\n",
       "59          mattlant      1\n",
       "60         paxdiablo      1\n",
       "61              tzot      1\n",
       "\n",
       "[62 rows x 2 columns]"
      ]
     },
     "execution_count": 7,
     "metadata": {},
     "output_type": "execute_result"
    }
   ],
   "source": [
    "# напишите запрос\n",
    "query = '''\n",
    "SELECT display_name,\n",
    "       Count(1)\n",
    "FROM   stackoverflow.users\n",
    "WHERE  id IN (SELECT u.id\n",
    "              FROM   stackoverflow.posts pt\n",
    "                     LEFT JOIN stackoverflow.users u\n",
    "                            ON u.id = pt.user_id\n",
    "              WHERE  parent_id <> 0\n",
    "                     AND pt.creation_date - u.creation_date < '1 months'\n",
    "              GROUP  BY u.id\n",
    "              HAVING Count(1) > 100)\n",
    "GROUP  BY display_name\n",
    "ORDER  BY display_name \n",
    "'''\n",
    "\n",
    "# выполните запрос\n",
    "pd.read_sql_query(query, con=engine) "
   ]
  },
  {
   "cell_type": "markdown",
   "metadata": {
    "id": "YIqqc-7HDWKt"
   },
   "source": [
    "<details>\n",
    "\n",
    "<summary>Подсказка</summary>\n",
    "Вам нужно присоединить несколько таблиц — изучите внимательнее описание базы. Чтобы добавить промежуток времени к дате, используйте ключевое слово INTERVAL, например, так: <дата> + INTERVAL '1 year 2 months 3 days'\n",
    ".</details>"
   ]
  },
  {
   "cell_type": "markdown",
   "metadata": {
    "id": "JhM2xXj5DWKu"
   },
   "source": [
    "# Задание 3"
   ]
  },
  {
   "cell_type": "markdown",
   "metadata": {
    "id": "IS6xPqyyDWKu"
   },
   "source": [
    "Выведите количество постов за 2008 год по месяцам. Отберите посты от пользователей, которые зарегистрировались в сентябре 2008 года и сделали хотя бы один пост в декабре того же года. Отсортируйте таблицу по значению месяца по убыванию."
   ]
  },
  {
   "cell_type": "markdown",
   "metadata": {
    "id": "WmjhjV2xDWKv"
   },
   "source": [
    "| month | count |\n",
    "| ------|------ |\n",
    "| 2008-12-01 | 17641 |\n",
    "| 2008-11-01 | 18294 |\n",
    "| ... | ... |"
   ]
  },
  {
   "cell_type": "code",
   "execution_count": 8,
   "metadata": {
    "id": "kVu0FB8WDWKv",
    "scrolled": false
   },
   "outputs": [
    {
     "data": {
      "text/html": [
       "<div>\n",
       "<style scoped>\n",
       "    .dataframe tbody tr th:only-of-type {\n",
       "        vertical-align: middle;\n",
       "    }\n",
       "\n",
       "    .dataframe tbody tr th {\n",
       "        vertical-align: top;\n",
       "    }\n",
       "\n",
       "    .dataframe thead th {\n",
       "        text-align: right;\n",
       "    }\n",
       "</style>\n",
       "<table border=\"1\" class=\"dataframe\">\n",
       "  <thead>\n",
       "    <tr style=\"text-align: right;\">\n",
       "      <th></th>\n",
       "      <th>month</th>\n",
       "      <th>count</th>\n",
       "    </tr>\n",
       "  </thead>\n",
       "  <tbody>\n",
       "    <tr>\n",
       "      <th>0</th>\n",
       "      <td>2008-12-01</td>\n",
       "      <td>17641</td>\n",
       "    </tr>\n",
       "    <tr>\n",
       "      <th>1</th>\n",
       "      <td>2008-11-01</td>\n",
       "      <td>18294</td>\n",
       "    </tr>\n",
       "    <tr>\n",
       "      <th>2</th>\n",
       "      <td>2008-10-01</td>\n",
       "      <td>27171</td>\n",
       "    </tr>\n",
       "    <tr>\n",
       "      <th>3</th>\n",
       "      <td>2008-09-01</td>\n",
       "      <td>24870</td>\n",
       "    </tr>\n",
       "    <tr>\n",
       "      <th>4</th>\n",
       "      <td>2008-08-01</td>\n",
       "      <td>32</td>\n",
       "    </tr>\n",
       "  </tbody>\n",
       "</table>\n",
       "</div>"
      ],
      "text/plain": [
       "       month  count\n",
       "0 2008-12-01  17641\n",
       "1 2008-11-01  18294\n",
       "2 2008-10-01  27171\n",
       "3 2008-09-01  24870\n",
       "4 2008-08-01     32"
      ]
     },
     "execution_count": 8,
     "metadata": {},
     "output_type": "execute_result"
    }
   ],
   "source": [
    "# напишите запрос\n",
    "query = '''\n",
    "SELECT Date_trunc('month', creation_date) AS month,\n",
    "       Count(1)                           count\n",
    "FROM   stackoverflow.posts\n",
    "WHERE  user_id IN (SELECT DISTINCT user_id\n",
    "                   FROM   stackoverflow.posts\n",
    "                   WHERE  user_id IN (SELECT id\n",
    "                                      FROM   stackoverflow.users\n",
    "                                      WHERE  Date_trunc('month', creation_date)\n",
    "                                             =\n",
    "                                             '2008-09-01')\n",
    "                          AND Date_trunc('month', creation_date) = '2008-12-01')\n",
    "GROUP  BY month\n",
    "ORDER  BY month DESC \n",
    "'''\n",
    "\n",
    "# выполните запрос\n",
    "pd.read_sql_query(query, con=engine)"
   ]
  },
  {
   "cell_type": "markdown",
   "metadata": {
    "id": "Vnxn9DVHDWKx"
   },
   "source": [
    "Изучите данные: есть ли в них аномалии? Предположите, почему могли появиться аномальные значения."
   ]
  },
  {
   "cell_type": "markdown",
   "metadata": {
    "id": "MMVIz4yMlKpN"
   },
   "source": [
    "# напишите ваш ответ здесь\n",
    "У пользователей, зарегистрированных в сентябре есть посты за август"
   ]
  },
  {
   "cell_type": "markdown",
   "metadata": {
    "id": "5Pcizm0DDWKz"
   },
   "source": [
    "# Задание 4"
   ]
  },
  {
   "cell_type": "markdown",
   "metadata": {
    "id": "KUZPF6vHDWKz"
   },
   "source": [
    "Используя данные о постах, выведите несколько полей:\n",
    "\n",
    "- идентификатор пользователя, который написал пост;\n",
    "- дата создания поста;\n",
    "- количество просмотров у текущего поста;\n",
    "- сумму просмотров постов автора с накоплением.\n",
    "\n",
    "Данные в таблице должны быть отсортированы по возрастанию идентификаторов пользователей, а данные об одном и том же пользователе — по возрастанию даты создания поста."
   ]
  },
  {
   "cell_type": "markdown",
   "metadata": {
    "id": "ZpsTUVDYDWK0"
   },
   "source": [
    "| user_id | creation_date | views_count | cumulative_count |\n",
    "| ------ | -------------- | ----------- | ---------------- |\n",
    "| 1 | 2008-07-31 23:41:00  | 480476   | 480476  |\n",
    "| 1 | 2008-07-31 23:55:38  | 136033 | 616509  | \n",
    "| 1 | 2008-07-31 23:56:41  | 0 |  616509  |\n",
    "| ... | ... | ... | ... |\n",
    "| 2 | 2008-07-31 23:56:41 | 79087  | 79087 |\n",
    "| 2 | 2008-08-01 05:09:56 | 65443 | 144530 |\n",
    "| ... | ...  | ...  | ...  |"
   ]
  },
  {
   "cell_type": "code",
   "execution_count": 9,
   "metadata": {
    "id": "hDoJhMzfDWK0"
   },
   "outputs": [
    {
     "data": {
      "text/html": [
       "<div>\n",
       "<style scoped>\n",
       "    .dataframe tbody tr th:only-of-type {\n",
       "        vertical-align: middle;\n",
       "    }\n",
       "\n",
       "    .dataframe tbody tr th {\n",
       "        vertical-align: top;\n",
       "    }\n",
       "\n",
       "    .dataframe thead th {\n",
       "        text-align: right;\n",
       "    }\n",
       "</style>\n",
       "<table border=\"1\" class=\"dataframe\">\n",
       "  <thead>\n",
       "    <tr style=\"text-align: right;\">\n",
       "      <th></th>\n",
       "      <th>user_id</th>\n",
       "      <th>creation_date</th>\n",
       "      <th>views_count</th>\n",
       "      <th>cumulative_count</th>\n",
       "    </tr>\n",
       "  </thead>\n",
       "  <tbody>\n",
       "    <tr>\n",
       "      <th>0</th>\n",
       "      <td>1</td>\n",
       "      <td>2008-07-31 23:41:00</td>\n",
       "      <td>480476</td>\n",
       "      <td>480476</td>\n",
       "    </tr>\n",
       "    <tr>\n",
       "      <th>1</th>\n",
       "      <td>1</td>\n",
       "      <td>2008-07-31 23:55:38</td>\n",
       "      <td>136033</td>\n",
       "      <td>616509</td>\n",
       "    </tr>\n",
       "    <tr>\n",
       "      <th>2</th>\n",
       "      <td>1</td>\n",
       "      <td>2008-07-31 23:56:41</td>\n",
       "      <td>0</td>\n",
       "      <td>616509</td>\n",
       "    </tr>\n",
       "    <tr>\n",
       "      <th>3</th>\n",
       "      <td>1</td>\n",
       "      <td>2008-08-04 02:45:08</td>\n",
       "      <td>0</td>\n",
       "      <td>616509</td>\n",
       "    </tr>\n",
       "    <tr>\n",
       "      <th>4</th>\n",
       "      <td>1</td>\n",
       "      <td>2008-08-04 04:31:03</td>\n",
       "      <td>0</td>\n",
       "      <td>616509</td>\n",
       "    </tr>\n",
       "    <tr>\n",
       "      <th>...</th>\n",
       "      <td>...</td>\n",
       "      <td>...</td>\n",
       "      <td>...</td>\n",
       "      <td>...</td>\n",
       "    </tr>\n",
       "    <tr>\n",
       "      <th>243791</th>\n",
       "      <td>5696608</td>\n",
       "      <td>2008-12-23 16:00:37</td>\n",
       "      <td>0</td>\n",
       "      <td>2804</td>\n",
       "    </tr>\n",
       "    <tr>\n",
       "      <th>243792</th>\n",
       "      <td>5696608</td>\n",
       "      <td>2008-12-23 17:35:09</td>\n",
       "      <td>0</td>\n",
       "      <td>2804</td>\n",
       "    </tr>\n",
       "    <tr>\n",
       "      <th>243793</th>\n",
       "      <td>5696608</td>\n",
       "      <td>2008-12-24 01:02:48</td>\n",
       "      <td>0</td>\n",
       "      <td>2804</td>\n",
       "    </tr>\n",
       "    <tr>\n",
       "      <th>243794</th>\n",
       "      <td>5696608</td>\n",
       "      <td>2008-12-30 14:34:45</td>\n",
       "      <td>0</td>\n",
       "      <td>2804</td>\n",
       "    </tr>\n",
       "    <tr>\n",
       "      <th>243795</th>\n",
       "      <td>5696608</td>\n",
       "      <td>2008-12-30 16:32:12</td>\n",
       "      <td>0</td>\n",
       "      <td>2804</td>\n",
       "    </tr>\n",
       "  </tbody>\n",
       "</table>\n",
       "<p>243796 rows × 4 columns</p>\n",
       "</div>"
      ],
      "text/plain": [
       "        user_id       creation_date  views_count  cumulative_count\n",
       "0             1 2008-07-31 23:41:00       480476            480476\n",
       "1             1 2008-07-31 23:55:38       136033            616509\n",
       "2             1 2008-07-31 23:56:41            0            616509\n",
       "3             1 2008-08-04 02:45:08            0            616509\n",
       "4             1 2008-08-04 04:31:03            0            616509\n",
       "...         ...                 ...          ...               ...\n",
       "243791  5696608 2008-12-23 16:00:37            0              2804\n",
       "243792  5696608 2008-12-23 17:35:09            0              2804\n",
       "243793  5696608 2008-12-24 01:02:48            0              2804\n",
       "243794  5696608 2008-12-30 14:34:45            0              2804\n",
       "243795  5696608 2008-12-30 16:32:12            0              2804\n",
       "\n",
       "[243796 rows x 4 columns]"
      ]
     },
     "execution_count": 9,
     "metadata": {},
     "output_type": "execute_result"
    }
   ],
   "source": [
    "# напишите запрос\n",
    "query = '''\n",
    "SELECT user_id,\n",
    "       creation_date,\n",
    "       views_count,\n",
    "       Sum(views_count)\n",
    "         OVER (\n",
    "           partition BY user_id\n",
    "           ORDER BY creation_date) cumulative_count\n",
    "FROM   stackoverflow.posts '''\n",
    "\n",
    "# выполните запрос\n",
    "pd.read_sql_query(query, con=engine)"
   ]
  },
  {
   "cell_type": "markdown",
   "metadata": {
    "id": "N0kHRHvIDWK2"
   },
   "source": [
    "# Задание 5"
   ]
  },
  {
   "cell_type": "markdown",
   "metadata": {
    "id": "gBgvmPtODWK2"
   },
   "source": [
    "Найдите среднее количество постов пользователей в день за август 2008 года. Отберите данные о пользователях, которые опубликовали больше 120 постов за август. Дни без публикаций не учитывайте. \n",
    "\n",
    "Отсортируйте результат по возрастанию среднего количества постов. Значения можно не округлять."
   ]
  },
  {
   "cell_type": "markdown",
   "metadata": {
    "id": "nfzR08BODWK3"
   },
   "source": [
    "| user_id | avg_daily |\n",
    "| ------- | --------- |\n",
    "| 116     | 4.777778  |\n",
    "| 234     | 5.208333  |\n",
    "| ...     | ... |"
   ]
  },
  {
   "cell_type": "code",
   "execution_count": 10,
   "metadata": {
    "id": "YFyPNz5GDWK3"
   },
   "outputs": [
    {
     "data": {
      "text/html": [
       "<div>\n",
       "<style scoped>\n",
       "    .dataframe tbody tr th:only-of-type {\n",
       "        vertical-align: middle;\n",
       "    }\n",
       "\n",
       "    .dataframe tbody tr th {\n",
       "        vertical-align: top;\n",
       "    }\n",
       "\n",
       "    .dataframe thead th {\n",
       "        text-align: right;\n",
       "    }\n",
       "</style>\n",
       "<table border=\"1\" class=\"dataframe\">\n",
       "  <thead>\n",
       "    <tr style=\"text-align: right;\">\n",
       "      <th></th>\n",
       "      <th>user_id</th>\n",
       "      <th>avg_daily</th>\n",
       "    </tr>\n",
       "  </thead>\n",
       "  <tbody>\n",
       "    <tr>\n",
       "      <th>0</th>\n",
       "      <td>116</td>\n",
       "      <td>4.777778</td>\n",
       "    </tr>\n",
       "    <tr>\n",
       "      <th>1</th>\n",
       "      <td>234</td>\n",
       "      <td>5.208333</td>\n",
       "    </tr>\n",
       "    <tr>\n",
       "      <th>2</th>\n",
       "      <td>91</td>\n",
       "      <td>5.681818</td>\n",
       "    </tr>\n",
       "    <tr>\n",
       "      <th>3</th>\n",
       "      <td>905</td>\n",
       "      <td>7.000000</td>\n",
       "    </tr>\n",
       "    <tr>\n",
       "      <th>4</th>\n",
       "      <td>383</td>\n",
       "      <td>7.277778</td>\n",
       "    </tr>\n",
       "  </tbody>\n",
       "</table>\n",
       "</div>"
      ],
      "text/plain": [
       "   user_id  avg_daily\n",
       "0      116   4.777778\n",
       "1      234   5.208333\n",
       "2       91   5.681818\n",
       "3      905   7.000000\n",
       "4      383   7.277778"
      ]
     },
     "execution_count": 10,
     "metadata": {},
     "output_type": "execute_result"
    }
   ],
   "source": [
    "# напишите запрос\n",
    "query = '''\n",
    "SELECT user_id,\n",
    "       Sum(cnt) / Count(1) avg_daily\n",
    "FROM   (SELECT Date_trunc('day', creation_date),\n",
    "               user_id,\n",
    "               Count(1) cnt\n",
    "        FROM   stackoverflow.posts\n",
    "        WHERE  user_id IN (SELECT user_id\n",
    "                           FROM   stackoverflow.posts\n",
    "                           WHERE  Date_trunc('month', creation_date) =\n",
    "                                  '2008-08-01'\n",
    "                           GROUP  BY user_id\n",
    "                           HAVING Count(1) > 120)\n",
    "               AND Date_trunc('month', creation_date) = '2008-08-01'\n",
    "        GROUP  BY user_id,\n",
    "                  Date_trunc('day', creation_date)) a\n",
    "GROUP  BY user_id\n",
    "ORDER  BY avg_daily \n",
    "'''\n",
    "\n",
    "# выполните запрос\n",
    "pd.read_sql_query(query, con=engine)"
   ]
  },
  {
   "cell_type": "markdown",
   "metadata": {
    "id": "EQ0dcFH4DWK5"
   },
   "source": [
    "# Задание 6"
   ]
  },
  {
   "cell_type": "markdown",
   "metadata": {
    "id": "c7flfg_hDWK5"
   },
   "source": [
    "Сколько в среднем дней в период с 1 по 7 декабря 2008 года пользователи взаимодействовали с платформой? Для каждого пользователя отберите дни, в которые он или она опубликовали хотя бы один пост. Нужно получить одно целое число — не забудьте округлить результат. "
   ]
  },
  {
   "cell_type": "markdown",
   "metadata": {
    "id": "RC1Ibzm9DWK6"
   },
   "source": [
    "| result |\n",
    "| -----  |\n",
    "| <целое число> |"
   ]
  },
  {
   "cell_type": "code",
   "execution_count": 11,
   "metadata": {
    "id": "kZ7LXTr6DWK6"
   },
   "outputs": [
    {
     "data": {
      "text/html": [
       "<div>\n",
       "<style scoped>\n",
       "    .dataframe tbody tr th:only-of-type {\n",
       "        vertical-align: middle;\n",
       "    }\n",
       "\n",
       "    .dataframe tbody tr th {\n",
       "        vertical-align: top;\n",
       "    }\n",
       "\n",
       "    .dataframe thead th {\n",
       "        text-align: right;\n",
       "    }\n",
       "</style>\n",
       "<table border=\"1\" class=\"dataframe\">\n",
       "  <thead>\n",
       "    <tr style=\"text-align: right;\">\n",
       "      <th></th>\n",
       "      <th>round</th>\n",
       "    </tr>\n",
       "  </thead>\n",
       "  <tbody>\n",
       "    <tr>\n",
       "      <th>0</th>\n",
       "      <td>2.0</td>\n",
       "    </tr>\n",
       "  </tbody>\n",
       "</table>\n",
       "</div>"
      ],
      "text/plain": [
       "   round\n",
       "0    2.0"
      ]
     },
     "execution_count": 11,
     "metadata": {},
     "output_type": "execute_result"
    }
   ],
   "source": [
    "# напишите запрос\n",
    "query = '''\n",
    "SELECT Round(Sum(cnt) / Count(1))\n",
    "FROM   (SELECT user_id,\n",
    "               Count(1) cnt\n",
    "        FROM   (SELECT user_id,\n",
    "                       Date_trunc('day', creation_date),\n",
    "                       Count(1)\n",
    "                FROM   stackoverflow.posts\n",
    "                WHERE  Date_trunc('day', creation_date) BETWEEN\n",
    "                       '2008-12-01' AND '2008-12-07'\n",
    "                GROUP  BY user_id,\n",
    "                          Date_trunc('day', creation_date)) a\n",
    "        GROUP  BY user_id) a \n",
    "'''\n",
    "\n",
    "# выполните запрос\n",
    "pd.read_sql_query(query, con=engine)"
   ]
  },
  {
   "cell_type": "markdown",
   "metadata": {
    "id": "UJFtNNggDWK7"
   },
   "source": [
    "Проанализируйте итоговую таблицу — какие выводы можно сделать?"
   ]
  },
  {
   "cell_type": "markdown",
   "metadata": {
    "id": "LfUuYz-1DWK8"
   },
   "source": [
    "# напишите ваш ответ здесь\n",
    "в среднем 2 дня пользователи взаимодействуют с платфор"
   ]
  },
  {
   "cell_type": "markdown",
   "metadata": {
    "id": "wfOmqmfLDWK8"
   },
   "source": [
    "# Задание 7"
   ]
  },
  {
   "cell_type": "markdown",
   "metadata": {
    "id": "X4ARQimADWK9"
   },
   "source": [
    "Выведите историю активности каждого пользователя в таком виде: идентификатор пользователя, дата публикации поста. Отсортируйте вывод по возрастанию идентификаторов пользователей, а для каждого пользователя — по возрастанию даты публикации.\n",
    "\n",
    "Добавьте в таблицу новое поле: для каждого поста в нём будет указано название месяца предпоследней публикации пользователя относительно текущей. Если такой публикации нет, укажите `NULL`.  Python автоматически поменяет `NULL` на `None`, но дополнительно преобразовывать значения `None` вам не нужно.\n",
    "\n",
    "Посмотрите внимательно на образец таблицы: для первых двух постов предпоследней публикации нет, но, начиная с третьего поста, в новое поле входит нужный месяц. Для следующего пользователя в первые две записи поля `second_last_month` тоже войдёт `NULL`."
   ]
  },
  {
   "cell_type": "markdown",
   "metadata": {
    "id": "IGPjRP01DWK9"
   },
   "source": [
    "| user_id | creation_date | second_last_month |\n",
    "| ------- | ------------- | ----------------- |\n",
    "| 1       | 2008-07-31 23:41:00 | None |\n",
    "| 1       | 2008-07-31 23:55:38 | None |\n",
    "| 1       | 2008-07-31 23:56:41 | July |\n",
    "| 1       | 2008-08-04 02:45:08 | July |\n",
    "| 1       | 2008-08-04 04:31:03 | July |\n",
    "| 1       | 2008-08-04 08:04:42 | August |\n",
    "| ... | ... | ... |"
   ]
  },
  {
   "cell_type": "code",
   "execution_count": 12,
   "metadata": {
    "id": "HzI1vhaMDWK-"
   },
   "outputs": [
    {
     "data": {
      "text/html": [
       "<div>\n",
       "<style scoped>\n",
       "    .dataframe tbody tr th:only-of-type {\n",
       "        vertical-align: middle;\n",
       "    }\n",
       "\n",
       "    .dataframe tbody tr th {\n",
       "        vertical-align: top;\n",
       "    }\n",
       "\n",
       "    .dataframe thead th {\n",
       "        text-align: right;\n",
       "    }\n",
       "</style>\n",
       "<table border=\"1\" class=\"dataframe\">\n",
       "  <thead>\n",
       "    <tr style=\"text-align: right;\">\n",
       "      <th></th>\n",
       "      <th>user_id</th>\n",
       "      <th>creation_date</th>\n",
       "      <th>second_last_month</th>\n",
       "    </tr>\n",
       "  </thead>\n",
       "  <tbody>\n",
       "    <tr>\n",
       "      <th>0</th>\n",
       "      <td>1</td>\n",
       "      <td>2008-07-31 23:41:00</td>\n",
       "      <td>None</td>\n",
       "    </tr>\n",
       "    <tr>\n",
       "      <th>1</th>\n",
       "      <td>1</td>\n",
       "      <td>2008-07-31 23:55:38</td>\n",
       "      <td>None</td>\n",
       "    </tr>\n",
       "    <tr>\n",
       "      <th>2</th>\n",
       "      <td>1</td>\n",
       "      <td>2008-07-31 23:56:41</td>\n",
       "      <td>July</td>\n",
       "    </tr>\n",
       "    <tr>\n",
       "      <th>3</th>\n",
       "      <td>1</td>\n",
       "      <td>2008-08-04 02:45:08</td>\n",
       "      <td>July</td>\n",
       "    </tr>\n",
       "    <tr>\n",
       "      <th>4</th>\n",
       "      <td>1</td>\n",
       "      <td>2008-08-04 04:31:03</td>\n",
       "      <td>July</td>\n",
       "    </tr>\n",
       "    <tr>\n",
       "      <th>...</th>\n",
       "      <td>...</td>\n",
       "      <td>...</td>\n",
       "      <td>...</td>\n",
       "    </tr>\n",
       "    <tr>\n",
       "      <th>243791</th>\n",
       "      <td>5696608</td>\n",
       "      <td>2008-12-23 16:00:37</td>\n",
       "      <td>December</td>\n",
       "    </tr>\n",
       "    <tr>\n",
       "      <th>243792</th>\n",
       "      <td>5696608</td>\n",
       "      <td>2008-12-23 17:35:09</td>\n",
       "      <td>December</td>\n",
       "    </tr>\n",
       "    <tr>\n",
       "      <th>243793</th>\n",
       "      <td>5696608</td>\n",
       "      <td>2008-12-24 01:02:48</td>\n",
       "      <td>December</td>\n",
       "    </tr>\n",
       "    <tr>\n",
       "      <th>243794</th>\n",
       "      <td>5696608</td>\n",
       "      <td>2008-12-30 14:34:45</td>\n",
       "      <td>December</td>\n",
       "    </tr>\n",
       "    <tr>\n",
       "      <th>243795</th>\n",
       "      <td>5696608</td>\n",
       "      <td>2008-12-30 16:32:12</td>\n",
       "      <td>December</td>\n",
       "    </tr>\n",
       "  </tbody>\n",
       "</table>\n",
       "<p>243796 rows × 3 columns</p>\n",
       "</div>"
      ],
      "text/plain": [
       "        user_id       creation_date second_last_month\n",
       "0             1 2008-07-31 23:41:00              None\n",
       "1             1 2008-07-31 23:55:38              None\n",
       "2             1 2008-07-31 23:56:41         July     \n",
       "3             1 2008-08-04 02:45:08         July     \n",
       "4             1 2008-08-04 04:31:03         July     \n",
       "...         ...                 ...               ...\n",
       "243791  5696608 2008-12-23 16:00:37         December \n",
       "243792  5696608 2008-12-23 17:35:09         December \n",
       "243793  5696608 2008-12-24 01:02:48         December \n",
       "243794  5696608 2008-12-30 14:34:45         December \n",
       "243795  5696608 2008-12-30 16:32:12         December \n",
       "\n",
       "[243796 rows x 3 columns]"
      ]
     },
     "execution_count": 12,
     "metadata": {},
     "output_type": "execute_result"
    }
   ],
   "source": [
    "# напишите запрос\n",
    "query = '''\n",
    "SELECT user_id,\n",
    "       creation_date,\n",
    "       To_char(Lag(creation_date, 2)\n",
    "                 OVER (\n",
    "                   partition BY user_id\n",
    "                   ORDER BY user_id, creation_date), 'Month') AS \"second_last_month\"\n",
    "FROM   stackoverflow.posts \n",
    "'''\n",
    "\n",
    "# выполните запрос\n",
    "pd.read_sql_query(query, con=engine)"
   ]
  },
  {
   "cell_type": "markdown",
   "metadata": {
    "id": "tf9qq2yzDWK_"
   },
   "source": [
    "# Задание 8"
   ]
  },
  {
   "cell_type": "markdown",
   "metadata": {
    "id": "gfwLVXBYDWLA"
   },
   "source": [
    "Рассчитайте аналог Retention Rate по месяцам для пользователей StackOverflow. Объедините пользователей в когорты по месяцу их первого поста. Возвращение определяйте по наличию поста в текущем месяце. "
   ]
  },
  {
   "cell_type": "markdown",
   "metadata": {
    "id": "kN2ic39WlKpl"
   },
   "source": [
    "| cohort_dt | session_date | users_cnt | cohort_users_cnt | retention_rate |\n",
    "| --- | --- | --- | --- | --- |\n",
    "| 2008-07-01 00:00:00 | 2008-07-01 00:00:00 | 3 | 3 | 100 |\n",
    "| 2008-07-01 00:00:00 | 2008-08-01 00:00:00 | 2 | 3 | 66,67 |\n",
    "| 2008-07-01 00:00:00 | 2008-09-01 00:00:00 | 1 | 3 | 33,33 |\n",
    "| 2008-07-01 00:00:00 | 2008-10-01 00:00:00 | 2 | 3 | 66,67 |\n",
    "| 2008-07-01 00:00:00 | 2008-11-01 00:00:00 | 1 | 3 | 33,33 |\n",
    "| 2008-07-01 00:00:00 | 2008-12-01 00:00:00 | 2 | 3 | 66,67 |\n",
    "| 2008-08-01 00:00:00 | 2008-08-01 00:00:00 | 2151 | 2151 | 100 |\n",
    "| ... | ... | ... | ... | ... |"
   ]
  },
  {
   "cell_type": "code",
   "execution_count": 13,
   "metadata": {
    "id": "LUgFmwmTDWLB",
    "scrolled": false
   },
   "outputs": [
    {
     "data": {
      "text/html": [
       "<div>\n",
       "<style scoped>\n",
       "    .dataframe tbody tr th:only-of-type {\n",
       "        vertical-align: middle;\n",
       "    }\n",
       "\n",
       "    .dataframe tbody tr th {\n",
       "        vertical-align: top;\n",
       "    }\n",
       "\n",
       "    .dataframe thead th {\n",
       "        text-align: right;\n",
       "    }\n",
       "</style>\n",
       "<table border=\"1\" class=\"dataframe\">\n",
       "  <thead>\n",
       "    <tr style=\"text-align: right;\">\n",
       "      <th></th>\n",
       "      <th>cohort_dt</th>\n",
       "      <th>session_date</th>\n",
       "      <th>users_cnt</th>\n",
       "      <th>cohort_users_cnt</th>\n",
       "      <th>retention_rate</th>\n",
       "    </tr>\n",
       "  </thead>\n",
       "  <tbody>\n",
       "    <tr>\n",
       "      <th>0</th>\n",
       "      <td>2008-07-01</td>\n",
       "      <td>2008-07-01</td>\n",
       "      <td>3</td>\n",
       "      <td>3</td>\n",
       "      <td>100.00</td>\n",
       "    </tr>\n",
       "    <tr>\n",
       "      <th>1</th>\n",
       "      <td>2008-07-01</td>\n",
       "      <td>2008-08-01</td>\n",
       "      <td>2</td>\n",
       "      <td>3</td>\n",
       "      <td>66.67</td>\n",
       "    </tr>\n",
       "    <tr>\n",
       "      <th>2</th>\n",
       "      <td>2008-07-01</td>\n",
       "      <td>2008-09-01</td>\n",
       "      <td>1</td>\n",
       "      <td>3</td>\n",
       "      <td>33.33</td>\n",
       "    </tr>\n",
       "    <tr>\n",
       "      <th>3</th>\n",
       "      <td>2008-07-01</td>\n",
       "      <td>2008-10-01</td>\n",
       "      <td>2</td>\n",
       "      <td>3</td>\n",
       "      <td>66.67</td>\n",
       "    </tr>\n",
       "    <tr>\n",
       "      <th>4</th>\n",
       "      <td>2008-07-01</td>\n",
       "      <td>2008-11-01</td>\n",
       "      <td>1</td>\n",
       "      <td>3</td>\n",
       "      <td>33.33</td>\n",
       "    </tr>\n",
       "    <tr>\n",
       "      <th>5</th>\n",
       "      <td>2008-07-01</td>\n",
       "      <td>2008-12-01</td>\n",
       "      <td>2</td>\n",
       "      <td>3</td>\n",
       "      <td>66.67</td>\n",
       "    </tr>\n",
       "    <tr>\n",
       "      <th>6</th>\n",
       "      <td>2008-08-01</td>\n",
       "      <td>2008-08-01</td>\n",
       "      <td>2151</td>\n",
       "      <td>2151</td>\n",
       "      <td>100.00</td>\n",
       "    </tr>\n",
       "    <tr>\n",
       "      <th>7</th>\n",
       "      <td>2008-08-01</td>\n",
       "      <td>2008-09-01</td>\n",
       "      <td>1571</td>\n",
       "      <td>2151</td>\n",
       "      <td>73.04</td>\n",
       "    </tr>\n",
       "    <tr>\n",
       "      <th>8</th>\n",
       "      <td>2008-08-01</td>\n",
       "      <td>2008-10-01</td>\n",
       "      <td>1275</td>\n",
       "      <td>2151</td>\n",
       "      <td>59.27</td>\n",
       "    </tr>\n",
       "    <tr>\n",
       "      <th>9</th>\n",
       "      <td>2008-08-01</td>\n",
       "      <td>2008-11-01</td>\n",
       "      <td>1050</td>\n",
       "      <td>2151</td>\n",
       "      <td>48.81</td>\n",
       "    </tr>\n",
       "    <tr>\n",
       "      <th>10</th>\n",
       "      <td>2008-08-01</td>\n",
       "      <td>2008-12-01</td>\n",
       "      <td>894</td>\n",
       "      <td>2151</td>\n",
       "      <td>41.56</td>\n",
       "    </tr>\n",
       "    <tr>\n",
       "      <th>11</th>\n",
       "      <td>2008-09-01</td>\n",
       "      <td>2008-09-01</td>\n",
       "      <td>7678</td>\n",
       "      <td>7678</td>\n",
       "      <td>100.00</td>\n",
       "    </tr>\n",
       "    <tr>\n",
       "      <th>12</th>\n",
       "      <td>2008-09-01</td>\n",
       "      <td>2008-10-01</td>\n",
       "      <td>4132</td>\n",
       "      <td>7678</td>\n",
       "      <td>53.82</td>\n",
       "    </tr>\n",
       "    <tr>\n",
       "      <th>13</th>\n",
       "      <td>2008-09-01</td>\n",
       "      <td>2008-11-01</td>\n",
       "      <td>2966</td>\n",
       "      <td>7678</td>\n",
       "      <td>38.63</td>\n",
       "    </tr>\n",
       "    <tr>\n",
       "      <th>14</th>\n",
       "      <td>2008-09-01</td>\n",
       "      <td>2008-12-01</td>\n",
       "      <td>2500</td>\n",
       "      <td>7678</td>\n",
       "      <td>32.56</td>\n",
       "    </tr>\n",
       "    <tr>\n",
       "      <th>15</th>\n",
       "      <td>2008-10-01</td>\n",
       "      <td>2008-10-01</td>\n",
       "      <td>3629</td>\n",
       "      <td>3629</td>\n",
       "      <td>100.00</td>\n",
       "    </tr>\n",
       "    <tr>\n",
       "      <th>16</th>\n",
       "      <td>2008-10-01</td>\n",
       "      <td>2008-11-01</td>\n",
       "      <td>1640</td>\n",
       "      <td>3629</td>\n",
       "      <td>45.19</td>\n",
       "    </tr>\n",
       "    <tr>\n",
       "      <th>17</th>\n",
       "      <td>2008-10-01</td>\n",
       "      <td>2008-12-01</td>\n",
       "      <td>1221</td>\n",
       "      <td>3629</td>\n",
       "      <td>33.65</td>\n",
       "    </tr>\n",
       "    <tr>\n",
       "      <th>18</th>\n",
       "      <td>2008-11-01</td>\n",
       "      <td>2008-11-01</td>\n",
       "      <td>2852</td>\n",
       "      <td>2852</td>\n",
       "      <td>100.00</td>\n",
       "    </tr>\n",
       "    <tr>\n",
       "      <th>19</th>\n",
       "      <td>2008-11-01</td>\n",
       "      <td>2008-12-01</td>\n",
       "      <td>1151</td>\n",
       "      <td>2852</td>\n",
       "      <td>40.36</td>\n",
       "    </tr>\n",
       "    <tr>\n",
       "      <th>20</th>\n",
       "      <td>2008-12-01</td>\n",
       "      <td>2008-12-01</td>\n",
       "      <td>2536</td>\n",
       "      <td>2536</td>\n",
       "      <td>100.00</td>\n",
       "    </tr>\n",
       "  </tbody>\n",
       "</table>\n",
       "</div>"
      ],
      "text/plain": [
       "     cohort_dt session_date  users_cnt  cohort_users_cnt  retention_rate\n",
       "0   2008-07-01   2008-07-01          3                 3          100.00\n",
       "1   2008-07-01   2008-08-01          2                 3           66.67\n",
       "2   2008-07-01   2008-09-01          1                 3           33.33\n",
       "3   2008-07-01   2008-10-01          2                 3           66.67\n",
       "4   2008-07-01   2008-11-01          1                 3           33.33\n",
       "5   2008-07-01   2008-12-01          2                 3           66.67\n",
       "6   2008-08-01   2008-08-01       2151              2151          100.00\n",
       "7   2008-08-01   2008-09-01       1571              2151           73.04\n",
       "8   2008-08-01   2008-10-01       1275              2151           59.27\n",
       "9   2008-08-01   2008-11-01       1050              2151           48.81\n",
       "10  2008-08-01   2008-12-01        894              2151           41.56\n",
       "11  2008-09-01   2008-09-01       7678              7678          100.00\n",
       "12  2008-09-01   2008-10-01       4132              7678           53.82\n",
       "13  2008-09-01   2008-11-01       2966              7678           38.63\n",
       "14  2008-09-01   2008-12-01       2500              7678           32.56\n",
       "15  2008-10-01   2008-10-01       3629              3629          100.00\n",
       "16  2008-10-01   2008-11-01       1640              3629           45.19\n",
       "17  2008-10-01   2008-12-01       1221              3629           33.65\n",
       "18  2008-11-01   2008-11-01       2852              2852          100.00\n",
       "19  2008-11-01   2008-12-01       1151              2852           40.36\n",
       "20  2008-12-01   2008-12-01       2536              2536          100.00"
      ]
     },
     "execution_count": 13,
     "metadata": {},
     "output_type": "execute_result"
    }
   ],
   "source": [
    "# напишите запрос\n",
    "query = '''\n",
    "SELECT *,\n",
    "       Round(users_cnt :: NUMERIC / cohort_users_cnt * 100, 2) retention_rate\n",
    "FROM   (SELECT *,\n",
    "               Max(users_cnt)\n",
    "                 over (\n",
    "                   PARTITION BY cohort_dt) cohort_users_cnt\n",
    "        FROM   (SELECT first_value                        cohort_dt,\n",
    "                       Date_trunc('month', creation_date)::DATE session_date,\n",
    "                       Count(DISTINCT( user_id ))         users_cnt\n",
    "                FROM   (SELECT *,\n",
    "                               First_value(Date_trunc('month', ( creation_date ) ) ::DATE)\n",
    "                                 over (PARTITION BY user_id ORDER BY creation_date)\n",
    "                        FROM   (SELECT user_id,\n",
    "                                       creation_date :: DATE\n",
    "                                FROM   stackoverflow.posts\n",
    "                                ORDER  BY creation_date)a)a\n",
    "                GROUP  BY first_value,\n",
    "                          Date_trunc('month', creation_date)) a)a \n",
    "'''\n",
    "\n",
    "# выполните запрос\n",
    "pd.read_sql_query(query, con=engine)"
   ]
  },
  {
   "cell_type": "markdown",
   "metadata": {
    "id": "_msBtnb2DWLC"
   },
   "source": [
    "Постройте тепловую карту Retention Rate. Какие аномалии или другие необычные явления удалось выявить? Сформулируйте гипотезы о возможных причинах."
   ]
  },
  {
   "cell_type": "code",
   "execution_count": 14,
   "metadata": {
    "id": "qAEJc8H1DWLC"
   },
   "outputs": [
    {
     "data": {
      "image/png": "[encoded data removed]",
      "text/plain": [
       "<Figure size 864x720 with 2 Axes>"
      ]
     },
     "metadata": {
      "needs_background": "light"
     },
     "output_type": "display_data"
    }
   ],
   "source": [
    "# постройте тепловую карту Retention Rate\n",
    "df = pd.read_sql_query(query, con = engine) \n",
    "retention = df.pivot('cohort_dt', 'session_date', 'retention_rate')\n",
    "retention.index = [str(x)[0:10] for x in retention.index]\n",
    "retention.columns = [str(x)[0:10] for x in retention.columns]\n",
    "\n",
    "# строим хитмэп\n",
    "plt.figure(figsize=(12, 10)) # задаём размер графика\n",
    "sns.heatmap(retention, # датафрейм с данными\n",
    "            annot=True, # добавляем подписи\n",
    "            fmt='') # задаём исходный формат\n",
    "plt.title('Тепловая карта') # название графика\n",
    "plt.show() "
   ]
  },
  {
   "cell_type": "markdown",
   "metadata": {
    "id": "EgOfIsI4DWLC"
   },
   "source": [
    "# опишите аномалии или другие необычные явления и сформулируйте гипотезы\n",
    "С каждым месяцем процент удержания новых пользователей в первый месяц становится меньше."
   ]
  },
  {
   "cell_type": "markdown",
   "metadata": {
    "id": "1k7oPWt5DWLK"
   },
   "source": [
    "# Задание 9\n"
   ]
  },
  {
   "cell_type": "markdown",
   "metadata": {
    "id": "ALsYVSyRDWLM"
   },
   "source": [
    "На сколько процентов менялось количество постов ежемесячно с 1 сентября по 31 декабря 2008 года? Отобразите таблицу со следующими полями:\n",
    "\n",
    "- номер месяца;\n",
    "- количество постов за месяц;\n",
    "- процент, который показывает, насколько изменилось количество постов в текущем месяце по сравнению с предыдущим.\n",
    "\n",
    "Если постов стало меньше, значение процента должно быть отрицательным, если больше — положительным. Округлите значение процента до двух знаков после запятой.\n",
    "\n",
    "Напомним, что при делении одного целого числа на другое в PostgreSQL в результате получится целое число, округлённое до ближайшего целого вниз. Чтобы этого избежать, переведите делимое в тип `numeric`."
   ]
  },
  {
   "cell_type": "markdown",
   "metadata": {
    "id": "u4E2zF8DDWLM"
   },
   "source": [
    "| creation_month | posts_count | percentage |\n",
    "| -------------- | ----------- | ---------- |\n",
    "| 9 | 70731 | Nan |\n",
    "| 10 | 63102 | -10.33 |\n",
    "| ... | ... | ... |"
   ]
  },
  {
   "cell_type": "code",
   "execution_count": 15,
   "metadata": {
    "id": "Mb5pShStDWLN"
   },
   "outputs": [
    {
     "data": {
      "text/html": [
       "<div>\n",
       "<style scoped>\n",
       "    .dataframe tbody tr th:only-of-type {\n",
       "        vertical-align: middle;\n",
       "    }\n",
       "\n",
       "    .dataframe tbody tr th {\n",
       "        vertical-align: top;\n",
       "    }\n",
       "\n",
       "    .dataframe thead th {\n",
       "        text-align: right;\n",
       "    }\n",
       "</style>\n",
       "<table border=\"1\" class=\"dataframe\">\n",
       "  <thead>\n",
       "    <tr style=\"text-align: right;\">\n",
       "      <th></th>\n",
       "      <th>creation_month</th>\n",
       "      <th>posts_count</th>\n",
       "      <th>round</th>\n",
       "    </tr>\n",
       "  </thead>\n",
       "  <tbody>\n",
       "    <tr>\n",
       "      <th>0</th>\n",
       "      <td>9</td>\n",
       "      <td>70371</td>\n",
       "      <td>NaN</td>\n",
       "    </tr>\n",
       "    <tr>\n",
       "      <th>1</th>\n",
       "      <td>10</td>\n",
       "      <td>63102</td>\n",
       "      <td>-10.33</td>\n",
       "    </tr>\n",
       "    <tr>\n",
       "      <th>2</th>\n",
       "      <td>11</td>\n",
       "      <td>46975</td>\n",
       "      <td>-25.56</td>\n",
       "    </tr>\n",
       "    <tr>\n",
       "      <th>3</th>\n",
       "      <td>12</td>\n",
       "      <td>44592</td>\n",
       "      <td>-5.07</td>\n",
       "    </tr>\n",
       "  </tbody>\n",
       "</table>\n",
       "</div>"
      ],
      "text/plain": [
       "   creation_month  posts_count  round\n",
       "0               9        70371    NaN\n",
       "1              10        63102 -10.33\n",
       "2              11        46975 -25.56\n",
       "3              12        44592  -5.07"
      ]
     },
     "execution_count": 15,
     "metadata": {},
     "output_type": "execute_result"
    }
   ],
   "source": [
    "# напишите запрос\n",
    "query = '''\n",
    "SELECT *,\n",
    "       Round(( posts_count - Lag(posts_count)\n",
    "                               over () ) :: NUMERIC / Lag(posts_count)\n",
    "                                                        over () * 100, 2)\n",
    "FROM   (SELECT To_char(creation_date, 'MM') :: INT creation_month,\n",
    "               Count(1)                            posts_count\n",
    "        FROM   stackoverflow.posts\n",
    "        WHERE  To_char(creation_date, 'MM') > '08'\n",
    "        GROUP  BY creation_month)a \n",
    "'''\n",
    "\n",
    "# выполните запрос\n",
    "pd.read_sql_query(query, con=engine)"
   ]
  },
  {
   "cell_type": "markdown",
   "metadata": {
    "id": "9NQE2y_MDWLP"
   },
   "source": [
    "Постройте круговую диаграмму с количеством постов по месяцам."
   ]
  },
  {
   "cell_type": "code",
   "execution_count": 16,
   "metadata": {
    "id": "377ABjiVDWLP"
   },
   "outputs": [
    {
     "data": {
      "image/png": "[encoded data removed]",
      "text/plain": [
       "<Figure size 432x288 with 1 Axes>"
      ]
     },
     "metadata": {},
     "output_type": "display_data"
    }
   ],
   "source": [
    "# постройте круговую диаграмму с количеством постов по месяцам\n",
    "df = pd.read_sql_query(query, con=engine)\n",
    "df['posts_count'].plot.pie(label='posts_count', autopct='%1.1f%%',labels=df.creation_month);"
   ]
  },
  {
   "cell_type": "markdown",
   "metadata": {
    "id": "uw7qMtafDWLP"
   },
   "source": [
    "# Задание 10"
   ]
  },
  {
   "cell_type": "markdown",
   "metadata": {
    "id": "oRBpWKx3DWLQ"
   },
   "source": [
    "Выгрузите данные активности пользователя, который опубликовал больше всего постов за всё время. Выведите данные за октябрь 2008 года в таком виде:\n",
    "\n",
    "- номер недели;\n",
    "- дата и время последнего поста, опубликованного на этой неделе."
   ]
  },
  {
   "cell_type": "markdown",
   "metadata": {
    "id": "XjAWSn_3DWLQ"
   },
   "source": [
    "| week_creation | creation_date |\n",
    "| ------------- | ------------- |\n",
    "| 40 | 2008-10-05 09:00:58 |\n",
    "| 41 | 2008-10-12 21:22:23 |\n",
    "| ... | ... |"
   ]
  },
  {
   "cell_type": "code",
   "execution_count": 17,
   "metadata": {
    "id": "r5F5fSkwDWLQ"
   },
   "outputs": [
    {
     "data": {
      "text/html": [
       "<div>\n",
       "<style scoped>\n",
       "    .dataframe tbody tr th:only-of-type {\n",
       "        vertical-align: middle;\n",
       "    }\n",
       "\n",
       "    .dataframe tbody tr th {\n",
       "        vertical-align: top;\n",
       "    }\n",
       "\n",
       "    .dataframe thead th {\n",
       "        text-align: right;\n",
       "    }\n",
       "</style>\n",
       "<table border=\"1\" class=\"dataframe\">\n",
       "  <thead>\n",
       "    <tr style=\"text-align: right;\">\n",
       "      <th></th>\n",
       "      <th>week_creation</th>\n",
       "      <th>max</th>\n",
       "    </tr>\n",
       "  </thead>\n",
       "  <tbody>\n",
       "    <tr>\n",
       "      <th>0</th>\n",
       "      <td>40</td>\n",
       "      <td>2008-10-05 09:00:58</td>\n",
       "    </tr>\n",
       "    <tr>\n",
       "      <th>1</th>\n",
       "      <td>41</td>\n",
       "      <td>2008-10-12 21:22:23</td>\n",
       "    </tr>\n",
       "    <tr>\n",
       "      <th>2</th>\n",
       "      <td>42</td>\n",
       "      <td>2008-10-19 06:49:30</td>\n",
       "    </tr>\n",
       "    <tr>\n",
       "      <th>3</th>\n",
       "      <td>43</td>\n",
       "      <td>2008-10-26 21:44:36</td>\n",
       "    </tr>\n",
       "    <tr>\n",
       "      <th>4</th>\n",
       "      <td>44</td>\n",
       "      <td>2008-10-31 22:16:01</td>\n",
       "    </tr>\n",
       "  </tbody>\n",
       "</table>\n",
       "</div>"
      ],
      "text/plain": [
       "   week_creation                 max\n",
       "0             40 2008-10-05 09:00:58\n",
       "1             41 2008-10-12 21:22:23\n",
       "2             42 2008-10-19 06:49:30\n",
       "3             43 2008-10-26 21:44:36\n",
       "4             44 2008-10-31 22:16:01"
      ]
     },
     "execution_count": 17,
     "metadata": {},
     "output_type": "execute_result"
    }
   ],
   "source": [
    "# напишите запрос\n",
    "query = '''\n",
    "SELECT DISTINCT *\n",
    "FROM            (\n",
    "                       SELECT week_creation,\n",
    "                              MAX(creation_date) OVER (partition BY week_creation)\n",
    "                       FROM   (\n",
    "                                     SELECT Date_part('week',creation_date)::int week_creation,\n",
    "                                            creation_date\n",
    "                                     FROM   stackoverflow.posts\n",
    "                                     WHERE  user_id IN\n",
    "                                            (\n",
    "                                                     SELECT   user_id\n",
    "                                                     FROM     stackoverflow.posts\n",
    "                                                     GROUP BY user_id\n",
    "                                                     ORDER BY count(1) DESC limit 1)\n",
    "                                     AND    date_part('month',creation_date) = '10')a)a\n",
    "'''\n",
    "\n",
    "# выполните запрос\n",
    "pd.read_sql_query(query, con=engine)"
   ]
  },
  {
   "cell_type": "code",
   "execution_count": null,
   "metadata": {},
   "outputs": [],
   "source": []
  }
 ],
 "metadata": {
  "ExecuteTimeLog": [
   {
    "duration": 872,
    "start_time": "2022-05-13T14:54:02.584Z"
   },
   {
    "duration": 3,
    "start_time": "2022-05-13T14:54:03.458Z"
   },
   {
    "duration": 6339,
    "start_time": "2022-05-13T14:54:04.553Z"
   },
   {
    "duration": 235,
    "start_time": "2022-05-13T14:54:10.893Z"
   },
   {
    "duration": 13,
    "start_time": "2022-05-13T14:54:11.130Z"
   },
   {
    "duration": 3,
    "start_time": "2022-05-13T14:56:08.984Z"
   },
   {
    "duration": 102,
    "start_time": "2022-05-13T14:56:20.196Z"
   },
   {
    "duration": 1534,
    "start_time": "2022-05-13T14:56:25.995Z"
   },
   {
    "duration": 224,
    "start_time": "2022-05-13T14:58:42.322Z"
   },
   {
    "duration": 242,
    "start_time": "2022-05-13T14:58:59.892Z"
   },
   {
    "duration": 141,
    "start_time": "2022-05-13T14:59:08.605Z"
   },
   {
    "duration": 142,
    "start_time": "2022-05-13T14:59:15.854Z"
   },
   {
    "duration": 139,
    "start_time": "2022-05-13T14:59:24.206Z"
   },
   {
    "duration": 141,
    "start_time": "2022-05-13T14:59:34.743Z"
   },
   {
    "duration": 152,
    "start_time": "2022-05-13T14:59:38.463Z"
   },
   {
    "duration": 213,
    "start_time": "2022-05-13T14:59:44.215Z"
   },
   {
    "duration": 81,
    "start_time": "2022-05-13T14:59:56.221Z"
   },
   {
    "duration": 146,
    "start_time": "2022-05-13T15:00:26.257Z"
   },
   {
    "duration": 388,
    "start_time": "2022-05-13T15:00:54.547Z"
   },
   {
    "duration": 82,
    "start_time": "2022-05-13T15:01:00.892Z"
   },
   {
    "duration": 141,
    "start_time": "2022-05-13T15:01:34.996Z"
   },
   {
    "duration": 80,
    "start_time": "2022-05-13T15:01:39.741Z"
   },
   {
    "duration": 446,
    "start_time": "2022-05-13T15:01:43.509Z"
   },
   {
    "duration": 85,
    "start_time": "2022-05-13T15:02:01.039Z"
   },
   {
    "duration": 83,
    "start_time": "2022-05-13T15:02:06.823Z"
   },
   {
    "duration": 83,
    "start_time": "2022-05-13T15:02:47.178Z"
   },
   {
    "duration": 130,
    "start_time": "2022-05-13T15:18:05.616Z"
   },
   {
    "duration": 163,
    "start_time": "2022-05-13T15:18:13.995Z"
   },
   {
    "duration": 140,
    "start_time": "2022-05-13T15:18:23.643Z"
   },
   {
    "duration": 81,
    "start_time": "2022-05-13T15:18:28.092Z"
   },
   {
    "duration": 1147,
    "start_time": "2022-05-13T15:29:59.376Z"
   },
   {
    "duration": 138,
    "start_time": "2022-05-13T15:30:35.783Z"
   },
   {
    "duration": 158,
    "start_time": "2022-05-13T15:30:45.617Z"
   },
   {
    "duration": 238,
    "start_time": "2022-05-13T15:31:59.198Z"
   },
   {
    "duration": 136,
    "start_time": "2022-05-13T15:32:07.311Z"
   },
   {
    "duration": 141,
    "start_time": "2022-05-13T15:32:35.025Z"
   },
   {
    "duration": 172,
    "start_time": "2022-05-13T15:32:41.186Z"
   },
   {
    "duration": 202,
    "start_time": "2022-05-13T15:32:57.962Z"
   },
   {
    "duration": 259,
    "start_time": "2022-05-13T15:33:19.025Z"
   },
   {
    "duration": 204,
    "start_time": "2022-05-13T15:33:24.571Z"
   },
   {
    "duration": 130,
    "start_time": "2022-05-13T15:35:16.651Z"
   },
   {
    "duration": 123,
    "start_time": "2022-05-13T15:35:24.316Z"
   },
   {
    "duration": 146,
    "start_time": "2022-05-13T15:35:34.461Z"
   },
   {
    "duration": 139,
    "start_time": "2022-05-13T15:35:57.934Z"
   },
   {
    "duration": 1386,
    "start_time": "2022-05-13T21:46:43.399Z"
   },
   {
    "duration": 6,
    "start_time": "2022-05-13T21:46:44.794Z"
   },
   {
    "duration": 8371,
    "start_time": "2022-05-13T21:46:45.808Z"
   },
   {
    "duration": 3829,
    "start_time": "2022-05-13T21:47:02.280Z"
   },
   {
    "duration": 7849,
    "start_time": "2022-05-13T21:48:30.380Z"
   },
   {
    "duration": 5265,
    "start_time": "2022-05-13T21:49:12.806Z"
   },
   {
    "duration": 7164,
    "start_time": "2022-05-13T21:49:48.458Z"
   },
   {
    "duration": 5581,
    "start_time": "2022-05-13T21:50:12.811Z"
   },
   {
    "duration": 1953,
    "start_time": "2022-05-13T21:51:26.141Z"
   },
   {
    "duration": 1658,
    "start_time": "2022-05-13T21:55:30.312Z"
   },
   {
    "duration": 344,
    "start_time": "2022-05-13T21:55:55.488Z"
   },
   {
    "duration": 194,
    "start_time": "2022-05-13T21:56:01.920Z"
   },
   {
    "duration": 183,
    "start_time": "2022-05-13T21:56:18.643Z"
   },
   {
    "duration": 947,
    "start_time": "2022-05-13T21:56:35.580Z"
   },
   {
    "duration": 205,
    "start_time": "2022-05-13T21:57:08.460Z"
   },
   {
    "duration": 206,
    "start_time": "2022-05-13T21:57:32.046Z"
   },
   {
    "duration": 146,
    "start_time": "2022-05-13T21:57:41.150Z"
   },
   {
    "duration": 130,
    "start_time": "2022-05-13T21:58:27.474Z"
   },
   {
    "duration": 143,
    "start_time": "2022-05-13T21:59:00.204Z"
   },
   {
    "duration": 151,
    "start_time": "2022-05-13T21:59:35.939Z"
   },
   {
    "duration": 321,
    "start_time": "2022-05-13T22:00:03.038Z"
   },
   {
    "duration": 138,
    "start_time": "2022-05-13T22:00:11.480Z"
   },
   {
    "duration": 144,
    "start_time": "2022-05-13T22:00:24.961Z"
   },
   {
    "duration": 208,
    "start_time": "2022-05-13T22:02:00.671Z"
   },
   {
    "duration": 138,
    "start_time": "2022-05-13T22:02:09.776Z"
   },
   {
    "duration": 139,
    "start_time": "2022-05-13T22:02:37.561Z"
   },
   {
    "duration": 824,
    "start_time": "2022-05-18T20:05:14.287Z"
   },
   {
    "duration": 3,
    "start_time": "2022-05-18T20:05:15.113Z"
   },
   {
    "duration": 2416,
    "start_time": "2022-05-18T20:05:15.400Z"
   },
   {
    "duration": 193,
    "start_time": "2022-05-18T20:05:17.818Z"
   },
   {
    "duration": 13,
    "start_time": "2022-05-18T20:05:18.014Z"
   },
   {
    "duration": 1131,
    "start_time": "2022-05-18T20:05:18.030Z"
   },
   {
    "duration": 77,
    "start_time": "2022-05-18T20:05:19.163Z"
   },
   {
    "duration": 21,
    "start_time": "2022-05-18T20:05:23.705Z"
   },
   {
    "duration": 1194,
    "start_time": "2022-05-18T20:06:13.486Z"
   },
   {
    "duration": 175,
    "start_time": "2022-05-18T20:07:14.912Z"
   },
   {
    "duration": 126,
    "start_time": "2022-05-18T20:08:19.055Z"
   },
   {
    "duration": 774,
    "start_time": "2022-05-18T20:09:50.259Z"
   },
   {
    "duration": 194,
    "start_time": "2022-05-18T20:13:18.624Z"
   },
   {
    "duration": 97,
    "start_time": "2022-05-18T20:13:35.993Z"
   },
   {
    "duration": 603,
    "start_time": "2022-05-18T20:14:13.766Z"
   },
   {
    "duration": 193,
    "start_time": "2022-05-18T20:15:27.993Z"
   },
   {
    "duration": 139,
    "start_time": "2022-05-18T20:15:34.208Z"
   },
   {
    "duration": 66,
    "start_time": "2022-05-18T20:15:53.282Z"
   },
   {
    "duration": 80,
    "start_time": "2022-05-18T20:16:02.907Z"
   },
   {
    "duration": 145,
    "start_time": "2022-05-18T20:16:11.945Z"
   },
   {
    "duration": 137,
    "start_time": "2022-05-18T20:16:20.876Z"
   },
   {
    "duration": 140,
    "start_time": "2022-05-18T20:16:47.664Z"
   },
   {
    "duration": 144,
    "start_time": "2022-05-18T20:16:53.525Z"
   },
   {
    "duration": 1154,
    "start_time": "2022-05-18T20:20:49.988Z"
   },
   {
    "duration": 1378,
    "start_time": "2022-05-18T20:20:56.116Z"
   },
   {
    "duration": 1835,
    "start_time": "2022-05-18T20:22:18.195Z"
   },
   {
    "duration": 1120,
    "start_time": "2022-05-18T20:22:42.864Z"
   },
   {
    "duration": 1008,
    "start_time": "2022-05-18T20:23:09.951Z"
   },
   {
    "duration": 1002,
    "start_time": "2022-05-18T20:23:23.066Z"
   },
   {
    "duration": 1017,
    "start_time": "2022-05-18T20:23:35.659Z"
   },
   {
    "duration": 1031,
    "start_time": "2022-05-18T20:23:49.353Z"
   },
   {
    "duration": 1013,
    "start_time": "2022-05-18T20:24:02.054Z"
   },
   {
    "duration": 989,
    "start_time": "2022-05-18T20:24:09.730Z"
   },
   {
    "duration": 1017,
    "start_time": "2022-05-18T20:24:39.523Z"
   },
   {
    "duration": 999,
    "start_time": "2022-05-18T20:25:12.189Z"
   },
   {
    "duration": 1351,
    "start_time": "2022-05-18T20:40:33.727Z"
   },
   {
    "duration": 177,
    "start_time": "2022-05-18T20:41:40.508Z"
   },
   {
    "duration": 80,
    "start_time": "2022-05-18T20:42:11.146Z"
   },
   {
    "duration": 90,
    "start_time": "2022-05-18T20:42:25.190Z"
   },
   {
    "duration": 76,
    "start_time": "2022-05-18T20:42:31.639Z"
   },
   {
    "duration": 60,
    "start_time": "2022-05-18T20:42:43.008Z"
   },
   {
    "duration": 62,
    "start_time": "2022-05-18T20:43:15.385Z"
   },
   {
    "duration": 104,
    "start_time": "2022-05-18T20:44:33.584Z"
   },
   {
    "duration": 108,
    "start_time": "2022-05-18T20:52:49.935Z"
   },
   {
    "duration": 100,
    "start_time": "2022-05-18T20:53:36.921Z"
   },
   {
    "duration": 93,
    "start_time": "2022-05-18T20:54:47.485Z"
   },
   {
    "duration": 91,
    "start_time": "2022-05-18T20:55:31.888Z"
   },
   {
    "duration": 104,
    "start_time": "2022-05-18T20:56:00.442Z"
   },
   {
    "duration": 100,
    "start_time": "2022-05-18T20:56:47.325Z"
   },
   {
    "duration": 104,
    "start_time": "2022-05-18T20:57:16.215Z"
   },
   {
    "duration": 67,
    "start_time": "2022-05-18T20:57:34.512Z"
   },
   {
    "duration": 90,
    "start_time": "2022-05-18T20:57:39.227Z"
   },
   {
    "duration": 84,
    "start_time": "2022-05-18T20:58:21.138Z"
   },
   {
    "duration": 84,
    "start_time": "2022-05-18T20:59:03.374Z"
   },
   {
    "duration": 88,
    "start_time": "2022-05-18T20:59:33.256Z"
   },
   {
    "duration": 1351,
    "start_time": "2022-05-18T21:05:41.168Z"
   },
   {
    "duration": 163,
    "start_time": "2022-05-18T21:06:29.474Z"
   },
   {
    "duration": 72,
    "start_time": "2022-05-18T21:38:25.618Z"
   },
   {
    "duration": 68,
    "start_time": "2022-05-18T21:38:51.227Z"
   },
   {
    "duration": 84,
    "start_time": "2022-05-18T21:39:00.940Z"
   },
   {
    "duration": 74,
    "start_time": "2022-05-18T21:39:22.606Z"
   },
   {
    "duration": 119,
    "start_time": "2022-05-18T21:39:27.717Z"
   },
   {
    "duration": 108,
    "start_time": "2022-05-18T21:39:37.478Z"
   },
   {
    "duration": 84,
    "start_time": "2022-05-18T21:41:27.758Z"
   },
   {
    "duration": 83,
    "start_time": "2022-05-18T21:41:50.985Z"
   },
   {
    "duration": 64,
    "start_time": "2022-05-18T21:42:57.323Z"
   },
   {
    "duration": 64,
    "start_time": "2022-05-18T21:43:03.419Z"
   },
   {
    "duration": 64,
    "start_time": "2022-05-18T21:43:34.540Z"
   },
   {
    "duration": 1241,
    "start_time": "2022-05-19T06:33:56.506Z"
   },
   {
    "duration": 4,
    "start_time": "2022-05-19T06:33:57.749Z"
   },
   {
    "duration": 104,
    "start_time": "2022-05-19T06:34:13.900Z"
   },
   {
    "duration": 4946,
    "start_time": "2022-05-19T06:34:22.534Z"
   },
   {
    "duration": 1681,
    "start_time": "2022-05-19T06:34:28.663Z"
   },
   {
    "duration": 901,
    "start_time": "2022-05-19T06:40:32.201Z"
   },
   {
    "duration": 1040,
    "start_time": "2022-05-19T06:41:23.029Z"
   },
   {
    "duration": 1422,
    "start_time": "2022-05-19T06:42:14.412Z"
   },
   {
    "duration": 1204,
    "start_time": "2022-05-19T06:42:27.366Z"
   },
   {
    "duration": 124,
    "start_time": "2022-05-19T06:42:36.516Z"
   },
   {
    "duration": 1275,
    "start_time": "2022-05-19T06:42:41.602Z"
   },
   {
    "duration": 1300,
    "start_time": "2022-05-19T06:43:16.965Z"
   },
   {
    "duration": 1113,
    "start_time": "2022-05-19T06:43:49.195Z"
   },
   {
    "duration": 1256,
    "start_time": "2022-05-19T06:44:16.835Z"
   },
   {
    "duration": 1281,
    "start_time": "2022-05-19T06:44:48.661Z"
   },
   {
    "duration": 1242,
    "start_time": "2022-05-19T06:45:14.717Z"
   },
   {
    "duration": 1260,
    "start_time": "2022-05-19T06:45:46.899Z"
   },
   {
    "duration": 1340,
    "start_time": "2022-05-19T06:46:06.778Z"
   },
   {
    "duration": 1699,
    "start_time": "2022-05-19T09:34:17.453Z"
   },
   {
    "duration": 6969,
    "start_time": "2022-05-19T09:35:51.497Z"
   },
   {
    "duration": 7098,
    "start_time": "2022-05-19T09:37:30.320Z"
   },
   {
    "duration": 2863,
    "start_time": "2022-05-19T09:37:46.163Z"
   },
   {
    "duration": 12943,
    "start_time": "2022-05-19T09:43:42.781Z"
   },
   {
    "duration": 60,
    "start_time": "2022-05-19T09:44:18.642Z"
   },
   {
    "duration": 84,
    "start_time": "2022-05-19T09:44:27.523Z"
   },
   {
    "duration": 1114,
    "start_time": "2022-05-19T09:44:31.988Z"
   },
   {
    "duration": 327,
    "start_time": "2022-05-19T09:45:40.772Z"
   },
   {
    "duration": 311,
    "start_time": "2022-05-19T09:46:59.403Z"
   },
   {
    "duration": 308,
    "start_time": "2022-05-19T09:47:45.215Z"
   },
   {
    "duration": 421,
    "start_time": "2022-05-19T09:47:58.783Z"
   },
   {
    "duration": 1100,
    "start_time": "2022-05-19T09:48:03.825Z"
   },
   {
    "duration": 1202,
    "start_time": "2022-05-19T09:48:29.273Z"
   },
   {
    "duration": 1231,
    "start_time": "2022-05-19T09:48:39.074Z"
   },
   {
    "duration": 1326,
    "start_time": "2022-05-19T09:49:06.604Z"
   },
   {
    "duration": 1250,
    "start_time": "2022-05-19T09:49:28.145Z"
   },
   {
    "duration": 2373,
    "start_time": "2022-05-19T09:50:03.384Z"
   },
   {
    "duration": 2538,
    "start_time": "2022-05-19T09:50:22.192Z"
   },
   {
    "duration": 47,
    "start_time": "2022-05-19T09:51:37.588Z"
   },
   {
    "duration": 2061,
    "start_time": "2022-05-19T09:51:48.963Z"
   },
   {
    "duration": 1857,
    "start_time": "2022-05-19T09:51:59.327Z"
   },
   {
    "duration": 4289,
    "start_time": "2022-05-19T09:53:35.189Z"
   },
   {
    "duration": 4157,
    "start_time": "2022-05-19T09:53:56.174Z"
   },
   {
    "duration": 3355,
    "start_time": "2022-05-19T09:54:51.314Z"
   },
   {
    "duration": 2352,
    "start_time": "2022-05-19T09:55:08.995Z"
   },
   {
    "duration": 1677,
    "start_time": "2022-05-19T09:55:25.852Z"
   },
   {
    "duration": 1626,
    "start_time": "2022-05-19T09:56:50.470Z"
   },
   {
    "duration": 1856,
    "start_time": "2022-05-19T09:57:12.284Z"
   },
   {
    "duration": 1784,
    "start_time": "2022-05-19T09:57:35.604Z"
   },
   {
    "duration": 69,
    "start_time": "2022-05-19T09:57:49.188Z"
   },
   {
    "duration": 1728,
    "start_time": "2022-05-19T09:58:01.328Z"
   },
   {
    "duration": 1620,
    "start_time": "2022-05-19T09:59:56.300Z"
   },
   {
    "duration": 1762,
    "start_time": "2022-05-19T10:00:04.021Z"
   },
   {
    "duration": 1302,
    "start_time": "2022-05-19T10:00:28.998Z"
   },
   {
    "duration": 1704,
    "start_time": "2022-05-19T10:02:26.463Z"
   },
   {
    "duration": 71,
    "start_time": "2022-05-19T10:02:40.199Z"
   },
   {
    "duration": 1555,
    "start_time": "2022-05-19T10:03:09.248Z"
   },
   {
    "duration": 63,
    "start_time": "2022-05-19T10:03:55.776Z"
   },
   {
    "duration": 1460,
    "start_time": "2022-05-19T10:04:01.773Z"
   },
   {
    "duration": 472,
    "start_time": "2022-05-19T10:04:42.460Z"
   },
   {
    "duration": 477,
    "start_time": "2022-05-19T10:05:17.728Z"
   },
   {
    "duration": 485,
    "start_time": "2022-05-19T10:06:06.829Z"
   },
   {
    "duration": 68,
    "start_time": "2022-05-19T10:08:05.211Z"
   },
   {
    "duration": 631,
    "start_time": "2022-05-19T10:08:15.155Z"
   },
   {
    "duration": 468,
    "start_time": "2022-05-19T10:08:36.165Z"
   },
   {
    "duration": 56,
    "start_time": "2022-05-19T10:10:12.324Z"
   },
   {
    "duration": 483,
    "start_time": "2022-05-19T10:10:27.870Z"
   },
   {
    "duration": 49,
    "start_time": "2022-05-19T10:10:47.399Z"
   },
   {
    "duration": 485,
    "start_time": "2022-05-19T10:11:02.870Z"
   },
   {
    "duration": 480,
    "start_time": "2022-05-19T10:11:32.473Z"
   },
   {
    "duration": 481,
    "start_time": "2022-05-19T10:11:38.104Z"
   },
   {
    "duration": 481,
    "start_time": "2022-05-19T10:11:49.005Z"
   },
   {
    "duration": 67,
    "start_time": "2022-05-19T10:11:56.390Z"
   },
   {
    "duration": 492,
    "start_time": "2022-05-19T10:14:20.915Z"
   },
   {
    "duration": 477,
    "start_time": "2022-05-19T10:16:17.962Z"
   },
   {
    "duration": 478,
    "start_time": "2022-05-19T10:16:22.983Z"
   },
   {
    "duration": 58,
    "start_time": "2022-05-19T10:16:31.268Z"
   },
   {
    "duration": 488,
    "start_time": "2022-05-19T10:16:35.123Z"
   },
   {
    "duration": 484,
    "start_time": "2022-05-19T10:16:40.075Z"
   },
   {
    "duration": 468,
    "start_time": "2022-05-19T10:16:43.388Z"
   },
   {
    "duration": 476,
    "start_time": "2022-05-19T10:16:47.358Z"
   },
   {
    "duration": 489,
    "start_time": "2022-05-19T10:16:59.162Z"
   },
   {
    "duration": 483,
    "start_time": "2022-05-19T10:17:04.883Z"
   },
   {
    "duration": 57,
    "start_time": "2022-05-19T10:17:38.758Z"
   },
   {
    "duration": 469,
    "start_time": "2022-05-19T10:17:55.593Z"
   },
   {
    "duration": 487,
    "start_time": "2022-05-19T10:18:24.882Z"
   },
   {
    "duration": 479,
    "start_time": "2022-05-19T10:18:29.899Z"
   },
   {
    "duration": 473,
    "start_time": "2022-05-19T10:18:46.122Z"
   },
   {
    "duration": 48,
    "start_time": "2022-05-19T10:19:02.405Z"
   },
   {
    "duration": 47,
    "start_time": "2022-05-19T10:19:09.164Z"
   },
   {
    "duration": 681,
    "start_time": "2022-05-19T10:20:05.329Z"
   },
   {
    "duration": 480,
    "start_time": "2022-05-19T10:20:19.099Z"
   },
   {
    "duration": 55,
    "start_time": "2022-05-19T10:21:16.875Z"
   },
   {
    "duration": 46,
    "start_time": "2022-05-19T10:21:31.875Z"
   },
   {
    "duration": 467,
    "start_time": "2022-05-19T10:22:19.269Z"
   },
   {
    "duration": 472,
    "start_time": "2022-05-19T10:22:29.276Z"
   },
   {
    "duration": 64,
    "start_time": "2022-05-19T10:22:33.180Z"
   },
   {
    "duration": 492,
    "start_time": "2022-05-19T10:22:38.594Z"
   },
   {
    "duration": 55,
    "start_time": "2022-05-19T10:22:50.460Z"
   },
   {
    "duration": 57,
    "start_time": "2022-05-19T10:23:05.458Z"
   },
   {
    "duration": 53,
    "start_time": "2022-05-19T10:23:14.901Z"
   },
   {
    "duration": 494,
    "start_time": "2022-05-19T10:23:18.412Z"
   },
   {
    "duration": 472,
    "start_time": "2022-05-19T10:23:30.878Z"
   },
   {
    "duration": 47,
    "start_time": "2022-05-19T10:23:52.055Z"
   },
   {
    "duration": 44,
    "start_time": "2022-05-19T10:23:57.365Z"
   },
   {
    "duration": 50,
    "start_time": "2022-05-19T10:24:40.225Z"
   },
   {
    "duration": 473,
    "start_time": "2022-05-19T10:24:50.363Z"
   },
   {
    "duration": 488,
    "start_time": "2022-05-19T10:25:33.197Z"
   },
   {
    "duration": 469,
    "start_time": "2022-05-19T10:25:42.206Z"
   },
   {
    "duration": 510,
    "start_time": "2022-05-19T10:26:21.754Z"
   },
   {
    "duration": 466,
    "start_time": "2022-05-19T10:26:33.385Z"
   },
   {
    "duration": 474,
    "start_time": "2022-05-19T10:26:40.769Z"
   },
   {
    "duration": 483,
    "start_time": "2022-05-19T10:27:31.412Z"
   },
   {
    "duration": 490,
    "start_time": "2022-05-19T10:28:11.657Z"
   },
   {
    "duration": 483,
    "start_time": "2022-05-19T10:29:00.154Z"
   },
   {
    "duration": 59,
    "start_time": "2022-05-19T10:29:07.070Z"
   },
   {
    "duration": 58,
    "start_time": "2022-05-19T10:29:15.756Z"
   },
   {
    "duration": 1316,
    "start_time": "2022-05-19T10:29:23.555Z"
   },
   {
    "duration": 53,
    "start_time": "2022-05-19T10:30:10.409Z"
   },
   {
    "duration": 652,
    "start_time": "2022-05-19T10:30:34.653Z"
   },
   {
    "duration": 476,
    "start_time": "2022-05-19T10:30:41.055Z"
   },
   {
    "duration": 488,
    "start_time": "2022-05-19T10:31:00.852Z"
   },
   {
    "duration": 61,
    "start_time": "2022-05-19T10:34:25.496Z"
   },
   {
    "duration": 496,
    "start_time": "2022-05-19T10:34:30.489Z"
   },
   {
    "duration": 748,
    "start_time": "2022-05-19T10:48:08.059Z"
   },
   {
    "duration": 512,
    "start_time": "2022-05-19T10:48:50.815Z"
   },
   {
    "duration": 453,
    "start_time": "2022-05-19T10:49:33.888Z"
   },
   {
    "duration": 918,
    "start_time": "2022-05-19T10:49:39.705Z"
   },
   {
    "duration": 1034,
    "start_time": "2022-05-19T10:50:01.234Z"
   },
   {
    "duration": 842,
    "start_time": "2022-05-19T10:50:14.019Z"
   },
   {
    "duration": 1209,
    "start_time": "2022-05-19T11:50:50.663Z"
   },
   {
    "duration": 1679,
    "start_time": "2022-05-19T11:50:57.647Z"
   },
   {
    "duration": 77,
    "start_time": "2022-05-19T11:51:39.122Z"
   },
   {
    "duration": 66,
    "start_time": "2022-05-19T11:51:43.378Z"
   },
   {
    "duration": 755,
    "start_time": "2022-05-19T11:53:29.931Z"
   },
   {
    "duration": 548,
    "start_time": "2022-05-19T11:53:35.361Z"
   },
   {
    "duration": 560,
    "start_time": "2022-05-19T11:53:41.651Z"
   },
   {
    "duration": 722,
    "start_time": "2022-05-19T11:53:46.322Z"
   },
   {
    "duration": 68,
    "start_time": "2022-05-19T11:54:26.336Z"
   },
   {
    "duration": 776,
    "start_time": "2022-05-19T11:54:29.961Z"
   },
   {
    "duration": 635,
    "start_time": "2022-05-19T11:54:43.886Z"
   },
   {
    "duration": 157,
    "start_time": "2022-05-19T11:55:03.763Z"
   },
   {
    "duration": 186,
    "start_time": "2022-05-19T11:55:09.824Z"
   },
   {
    "duration": 186,
    "start_time": "2022-05-19T11:55:16.768Z"
   },
   {
    "duration": 358,
    "start_time": "2022-05-19T11:55:54.193Z"
   },
   {
    "duration": 1058,
    "start_time": "2022-05-19T11:56:10.443Z"
   },
   {
    "duration": 56,
    "start_time": "2022-05-19T11:56:34.990Z"
   },
   {
    "duration": 202,
    "start_time": "2022-05-19T11:56:45.093Z"
   },
   {
    "duration": 195,
    "start_time": "2022-05-19T11:56:52.751Z"
   },
   {
    "duration": 522,
    "start_time": "2022-05-19T11:57:16.239Z"
   },
   {
    "duration": 663,
    "start_time": "2022-05-19T11:57:37.192Z"
   },
   {
    "duration": 62,
    "start_time": "2022-05-19T11:57:53.610Z"
   },
   {
    "duration": 598,
    "start_time": "2022-05-19T11:58:06.533Z"
   },
   {
    "duration": 2907,
    "start_time": "2022-05-19T12:00:25.443Z"
   },
   {
    "duration": 552,
    "start_time": "2022-05-19T12:01:21.968Z"
   },
   {
    "duration": 4355,
    "start_time": "2022-05-19T12:01:35.869Z"
   },
   {
    "duration": 197,
    "start_time": "2022-05-19T12:01:54.712Z"
   },
   {
    "duration": 295,
    "start_time": "2022-05-19T12:02:04.281Z"
   },
   {
    "duration": 248,
    "start_time": "2022-05-19T12:02:36.989Z"
   },
   {
    "duration": 247,
    "start_time": "2022-05-19T12:02:40.862Z"
   },
   {
    "duration": 208,
    "start_time": "2022-05-19T12:03:18.070Z"
   },
   {
    "duration": 192,
    "start_time": "2022-05-19T12:03:26.540Z"
   },
   {
    "duration": 201,
    "start_time": "2022-05-19T12:03:33.440Z"
   },
   {
    "duration": 201,
    "start_time": "2022-05-19T12:03:38.568Z"
   },
   {
    "duration": 191,
    "start_time": "2022-05-19T12:03:44.478Z"
   },
   {
    "duration": 284,
    "start_time": "2022-05-19T12:03:49.469Z"
   },
   {
    "duration": 325,
    "start_time": "2022-05-19T12:05:12.789Z"
   },
   {
    "duration": 265,
    "start_time": "2022-05-19T12:05:23.263Z"
   },
   {
    "duration": 258,
    "start_time": "2022-05-19T12:05:36.855Z"
   },
   {
    "duration": 257,
    "start_time": "2022-05-19T12:07:19.709Z"
   },
   {
    "duration": 308,
    "start_time": "2022-05-19T12:07:29.309Z"
   },
   {
    "duration": 303,
    "start_time": "2022-05-19T12:07:35.495Z"
   },
   {
    "duration": 284,
    "start_time": "2022-05-19T12:07:39.671Z"
   },
   {
    "duration": 269,
    "start_time": "2022-05-19T12:07:52.191Z"
   },
   {
    "duration": 257,
    "start_time": "2022-05-19T12:08:27.833Z"
   },
   {
    "duration": 263,
    "start_time": "2022-05-19T12:08:38.001Z"
   },
   {
    "duration": 274,
    "start_time": "2022-05-19T12:08:42.025Z"
   },
   {
    "duration": 288,
    "start_time": "2022-05-19T12:08:47.441Z"
   },
   {
    "duration": 287,
    "start_time": "2022-05-19T12:08:51.387Z"
   },
   {
    "duration": 311,
    "start_time": "2022-05-19T12:08:56.045Z"
   },
   {
    "duration": 307,
    "start_time": "2022-05-19T12:10:47.907Z"
   },
   {
    "duration": 251,
    "start_time": "2022-05-19T12:10:51.212Z"
   },
   {
    "duration": 261,
    "start_time": "2022-05-19T12:11:09.159Z"
   },
   {
    "duration": 1884,
    "start_time": "2022-05-19T12:12:50.947Z"
   },
   {
    "duration": 130,
    "start_time": "2022-05-19T12:13:32.533Z"
   },
   {
    "duration": 108,
    "start_time": "2022-05-19T12:13:43.678Z"
   },
   {
    "duration": 68,
    "start_time": "2022-05-19T12:14:00.163Z"
   },
   {
    "duration": 104,
    "start_time": "2022-05-19T12:14:31.858Z"
   },
   {
    "duration": 69,
    "start_time": "2022-05-19T12:14:38.986Z"
   },
   {
    "duration": 126,
    "start_time": "2022-05-19T12:15:11.972Z"
   },
   {
    "duration": 49,
    "start_time": "2022-05-19T12:15:39.229Z"
   },
   {
    "duration": 126,
    "start_time": "2022-05-19T12:16:01.480Z"
   },
   {
    "duration": 134,
    "start_time": "2022-05-19T12:16:56.654Z"
   },
   {
    "duration": 53,
    "start_time": "2022-05-19T12:17:39.694Z"
   },
   {
    "duration": 49,
    "start_time": "2022-05-19T12:17:47.695Z"
   },
   {
    "duration": 56,
    "start_time": "2022-05-19T12:18:51.810Z"
   },
   {
    "duration": 52,
    "start_time": "2022-05-19T12:19:00.507Z"
   },
   {
    "duration": 57,
    "start_time": "2022-05-19T12:19:05.875Z"
   },
   {
    "duration": 62,
    "start_time": "2022-05-19T12:19:09.923Z"
   },
   {
    "duration": 55,
    "start_time": "2022-05-19T12:19:19.101Z"
   },
   {
    "duration": 558,
    "start_time": "2022-05-19T12:20:13.776Z"
   },
   {
    "duration": 122,
    "start_time": "2022-05-19T12:20:19.753Z"
   },
   {
    "duration": 123,
    "start_time": "2022-05-19T12:21:15.491Z"
   },
   {
    "duration": 96,
    "start_time": "2022-05-19T12:22:27.075Z"
   },
   {
    "duration": 120,
    "start_time": "2022-05-19T12:23:42.093Z"
   },
   {
    "duration": 124,
    "start_time": "2022-05-19T12:23:55.198Z"
   },
   {
    "duration": 98,
    "start_time": "2022-05-19T12:25:02.306Z"
   },
   {
    "duration": 55,
    "start_time": "2022-05-19T12:25:33.901Z"
   },
   {
    "duration": 54,
    "start_time": "2022-05-19T12:25:57.656Z"
   },
   {
    "duration": 111,
    "start_time": "2022-05-19T12:26:14.719Z"
   },
   {
    "duration": 114,
    "start_time": "2022-05-19T12:26:25.287Z"
   },
   {
    "duration": 116,
    "start_time": "2022-05-19T12:26:53.992Z"
   },
   {
    "duration": 130,
    "start_time": "2022-05-19T12:27:03.595Z"
   },
   {
    "duration": 117,
    "start_time": "2022-05-19T12:27:51.686Z"
   },
   {
    "duration": 99,
    "start_time": "2022-05-19T12:28:17.464Z"
   },
   {
    "duration": 104,
    "start_time": "2022-05-19T12:28:58.662Z"
   },
   {
    "duration": 97,
    "start_time": "2022-05-19T12:29:16.171Z"
   },
   {
    "duration": 117,
    "start_time": "2022-05-19T12:29:26.646Z"
   },
   {
    "duration": 38,
    "start_time": "2022-05-19T12:45:38.887Z"
   },
   {
    "duration": 112,
    "start_time": "2022-05-19T12:46:01.146Z"
   },
   {
    "duration": 101,
    "start_time": "2022-05-19T12:46:23.610Z"
   },
   {
    "duration": 104,
    "start_time": "2022-05-19T12:46:29.227Z"
   },
   {
    "duration": 105,
    "start_time": "2022-05-19T12:46:47.404Z"
   },
   {
    "duration": 103,
    "start_time": "2022-05-19T12:46:54.226Z"
   },
   {
    "duration": 126,
    "start_time": "2022-05-19T12:47:12.701Z"
   },
   {
    "duration": 104,
    "start_time": "2022-05-19T12:47:26.766Z"
   },
   {
    "duration": 109,
    "start_time": "2022-05-19T12:47:33.034Z"
   },
   {
    "duration": 101,
    "start_time": "2022-05-19T12:47:48.457Z"
   },
   {
    "duration": 106,
    "start_time": "2022-05-19T12:48:15.449Z"
   },
   {
    "duration": 106,
    "start_time": "2022-05-19T12:48:43.795Z"
   },
   {
    "duration": 104,
    "start_time": "2022-05-19T12:49:05.662Z"
   },
   {
    "duration": 106,
    "start_time": "2022-05-19T12:49:22.077Z"
   },
   {
    "duration": 99,
    "start_time": "2022-05-19T12:49:47.199Z"
   },
   {
    "duration": 101,
    "start_time": "2022-05-19T12:49:58.440Z"
   },
   {
    "duration": 116,
    "start_time": "2022-05-19T12:50:09.958Z"
   },
   {
    "duration": 102,
    "start_time": "2022-05-19T12:50:21.777Z"
   },
   {
    "duration": 101,
    "start_time": "2022-05-19T12:50:37.546Z"
   },
   {
    "duration": 101,
    "start_time": "2022-05-19T12:51:56.891Z"
   },
   {
    "duration": 96,
    "start_time": "2022-05-19T12:52:06.792Z"
   },
   {
    "duration": 102,
    "start_time": "2022-05-19T12:52:48.050Z"
   },
   {
    "duration": 104,
    "start_time": "2022-05-19T12:52:55.826Z"
   },
   {
    "duration": 101,
    "start_time": "2022-05-19T12:53:06.082Z"
   },
   {
    "duration": 102,
    "start_time": "2022-05-19T12:53:34.020Z"
   },
   {
    "duration": 99,
    "start_time": "2022-05-19T12:53:37.125Z"
   },
   {
    "duration": 57,
    "start_time": "2022-05-19T12:57:50.388Z"
   },
   {
    "duration": 81,
    "start_time": "2022-05-19T12:58:03.138Z"
   },
   {
    "duration": 102,
    "start_time": "2022-05-19T12:58:09.262Z"
   },
   {
    "duration": 123,
    "start_time": "2022-05-19T13:00:59.497Z"
   },
   {
    "duration": 94,
    "start_time": "2022-05-19T13:01:24.259Z"
   },
   {
    "duration": 97,
    "start_time": "2022-05-19T13:01:39.571Z"
   },
   {
    "duration": 106,
    "start_time": "2022-05-19T13:01:59.565Z"
   },
   {
    "duration": 97,
    "start_time": "2022-05-19T13:02:05.268Z"
   },
   {
    "duration": 115,
    "start_time": "2022-05-19T13:02:14.518Z"
   },
   {
    "duration": 97,
    "start_time": "2022-05-19T13:02:23.165Z"
   },
   {
    "duration": 146,
    "start_time": "2022-05-19T13:02:27.270Z"
   },
   {
    "duration": 100,
    "start_time": "2022-05-19T13:02:48.727Z"
   },
   {
    "duration": 1451,
    "start_time": "2022-05-19T13:04:38.822Z"
   },
   {
    "duration": 8,
    "start_time": "2022-05-19T13:04:40.278Z"
   },
   {
    "duration": 100,
    "start_time": "2022-05-19T13:04:40.287Z"
   },
   {
    "duration": 73,
    "start_time": "2022-05-19T13:04:40.392Z"
   },
   {
    "duration": 27,
    "start_time": "2022-05-19T13:04:40.467Z"
   },
   {
    "duration": 94,
    "start_time": "2022-05-19T13:04:40.502Z"
   },
   {
    "duration": 125,
    "start_time": "2022-05-19T13:04:40.603Z"
   },
   {
    "duration": 4,
    "start_time": "2022-05-19T13:04:40.730Z"
   },
   {
    "duration": 0,
    "start_time": "2022-05-19T13:04:40.737Z"
   },
   {
    "duration": 0,
    "start_time": "2022-05-19T13:04:40.738Z"
   },
   {
    "duration": 0,
    "start_time": "2022-05-19T13:04:40.739Z"
   },
   {
    "duration": 0,
    "start_time": "2022-05-19T13:04:40.740Z"
   },
   {
    "duration": 0,
    "start_time": "2022-05-19T13:04:40.741Z"
   },
   {
    "duration": 0,
    "start_time": "2022-05-19T13:04:40.742Z"
   },
   {
    "duration": 0,
    "start_time": "2022-05-19T13:04:40.743Z"
   },
   {
    "duration": 0,
    "start_time": "2022-05-19T13:04:40.744Z"
   },
   {
    "duration": 0,
    "start_time": "2022-05-19T13:04:40.745Z"
   },
   {
    "duration": 0,
    "start_time": "2022-05-19T13:04:40.746Z"
   },
   {
    "duration": 0,
    "start_time": "2022-05-19T13:04:40.747Z"
   },
   {
    "duration": 0,
    "start_time": "2022-05-19T13:04:40.748Z"
   },
   {
    "duration": 1,
    "start_time": "2022-05-19T13:04:40.749Z"
   },
   {
    "duration": 1509,
    "start_time": "2022-05-19T13:05:02.610Z"
   },
   {
    "duration": 4,
    "start_time": "2022-05-19T13:05:04.121Z"
   },
   {
    "duration": 60,
    "start_time": "2022-05-19T13:05:04.126Z"
   },
   {
    "duration": 51,
    "start_time": "2022-05-19T13:05:04.194Z"
   },
   {
    "duration": 20,
    "start_time": "2022-05-19T13:05:04.248Z"
   },
   {
    "duration": 80,
    "start_time": "2022-05-19T13:05:04.270Z"
   },
   {
    "duration": 115,
    "start_time": "2022-05-19T13:05:04.352Z"
   },
   {
    "duration": 127,
    "start_time": "2022-05-19T13:05:04.469Z"
   },
   {
    "duration": 1290,
    "start_time": "2022-05-19T13:05:04.598Z"
   },
   {
    "duration": 61,
    "start_time": "2022-05-19T13:05:05.891Z"
   },
   {
    "duration": 48,
    "start_time": "2022-05-19T13:05:05.954Z"
   },
   {
    "duration": 4,
    "start_time": "2022-05-19T13:05:06.004Z"
   },
   {
    "duration": 0,
    "start_time": "2022-05-19T13:05:06.010Z"
   },
   {
    "duration": 0,
    "start_time": "2022-05-19T13:05:06.011Z"
   },
   {
    "duration": 0,
    "start_time": "2022-05-19T13:05:06.012Z"
   },
   {
    "duration": 0,
    "start_time": "2022-05-19T13:05:06.014Z"
   },
   {
    "duration": 0,
    "start_time": "2022-05-19T13:05:06.014Z"
   },
   {
    "duration": 0,
    "start_time": "2022-05-19T13:05:06.016Z"
   },
   {
    "duration": 0,
    "start_time": "2022-05-19T13:05:06.018Z"
   },
   {
    "duration": 1256,
    "start_time": "2022-05-19T13:05:17.196Z"
   },
   {
    "duration": 3,
    "start_time": "2022-05-19T13:05:18.454Z"
   },
   {
    "duration": 81,
    "start_time": "2022-05-19T13:05:18.459Z"
   },
   {
    "duration": 76,
    "start_time": "2022-05-19T13:05:18.542Z"
   },
   {
    "duration": 16,
    "start_time": "2022-05-19T13:05:18.621Z"
   },
   {
    "duration": 74,
    "start_time": "2022-05-19T13:05:18.639Z"
   },
   {
    "duration": 107,
    "start_time": "2022-05-19T13:05:18.714Z"
   },
   {
    "duration": 118,
    "start_time": "2022-05-19T13:05:18.822Z"
   },
   {
    "duration": 1684,
    "start_time": "2022-05-19T13:05:18.942Z"
   },
   {
    "duration": 88,
    "start_time": "2022-05-19T13:05:20.628Z"
   },
   {
    "duration": 35,
    "start_time": "2022-05-19T13:05:20.718Z"
   },
   {
    "duration": 1074,
    "start_time": "2022-05-19T13:05:20.755Z"
   },
   {
    "duration": 491,
    "start_time": "2022-05-19T13:05:21.830Z"
   },
   {
    "duration": 891,
    "start_time": "2022-05-19T13:05:22.323Z"
   },
   {
    "duration": 11,
    "start_time": "2022-05-19T13:05:23.215Z"
   },
   {
    "duration": 0,
    "start_time": "2022-05-19T13:05:23.229Z"
   },
   {
    "duration": 0,
    "start_time": "2022-05-19T13:05:23.231Z"
   },
   {
    "duration": 0,
    "start_time": "2022-05-19T13:05:23.233Z"
   },
   {
    "duration": 1527,
    "start_time": "2022-05-19T13:05:36.355Z"
   },
   {
    "duration": 11,
    "start_time": "2022-05-19T13:05:37.890Z"
   },
   {
    "duration": 62,
    "start_time": "2022-05-19T13:05:37.907Z"
   },
   {
    "duration": 88,
    "start_time": "2022-05-19T13:05:37.971Z"
   },
   {
    "duration": 19,
    "start_time": "2022-05-19T13:05:38.062Z"
   },
   {
    "duration": 51,
    "start_time": "2022-05-19T13:05:38.082Z"
   },
   {
    "duration": 109,
    "start_time": "2022-05-19T13:05:38.135Z"
   },
   {
    "duration": 113,
    "start_time": "2022-05-19T13:05:38.246Z"
   },
   {
    "duration": 1493,
    "start_time": "2022-05-19T13:05:38.361Z"
   },
   {
    "duration": 79,
    "start_time": "2022-05-19T13:05:39.856Z"
   },
   {
    "duration": 50,
    "start_time": "2022-05-19T13:05:39.940Z"
   },
   {
    "duration": 1117,
    "start_time": "2022-05-19T13:05:39.997Z"
   },
   {
    "duration": 506,
    "start_time": "2022-05-19T13:05:41.116Z"
   },
   {
    "duration": 913,
    "start_time": "2022-05-19T13:05:41.625Z"
   },
   {
    "duration": 183,
    "start_time": "2022-05-19T13:05:42.541Z"
   },
   {
    "duration": 292,
    "start_time": "2022-05-19T13:05:42.726Z"
   },
   {
    "duration": 117,
    "start_time": "2022-05-19T13:05:43.020Z"
   },
   {
    "duration": 1978,
    "start_time": "2022-05-19T20:10:01.294Z"
   },
   {
    "duration": 4,
    "start_time": "2022-05-19T20:10:03.275Z"
   },
   {
    "duration": 71,
    "start_time": "2022-05-19T20:10:03.281Z"
   },
   {
    "duration": 232,
    "start_time": "2022-05-19T20:10:03.355Z"
   },
   {
    "duration": 19,
    "start_time": "2022-05-19T20:10:03.589Z"
   },
   {
    "duration": 99,
    "start_time": "2022-05-19T20:10:03.610Z"
   },
   {
    "duration": 133,
    "start_time": "2022-05-19T20:10:03.712Z"
   },
   {
    "duration": 141,
    "start_time": "2022-05-19T20:10:03.846Z"
   },
   {
    "duration": 1216,
    "start_time": "2022-05-19T20:10:03.989Z"
   },
   {
    "duration": 96,
    "start_time": "2022-05-19T20:10:05.208Z"
   },
   {
    "duration": 70,
    "start_time": "2022-05-19T20:10:05.307Z"
   },
   {
    "duration": 1309,
    "start_time": "2022-05-19T20:10:05.379Z"
   },
   {
    "duration": 507,
    "start_time": "2022-05-19T20:10:06.690Z"
   },
   {
    "duration": 881,
    "start_time": "2022-05-19T20:10:07.199Z"
   },
   {
    "duration": 209,
    "start_time": "2022-05-19T20:10:08.082Z"
   },
   {
    "duration": 322,
    "start_time": "2022-05-19T20:10:08.293Z"
   },
   {
    "duration": 193,
    "start_time": "2022-05-19T20:10:08.618Z"
   },
   {
    "duration": 146,
    "start_time": "2022-05-19T20:11:19.675Z"
   },
   {
    "duration": 127,
    "start_time": "2022-05-19T20:12:53.458Z"
   },
   {
    "duration": 130,
    "start_time": "2022-05-19T20:12:57.750Z"
   },
   {
    "duration": 138,
    "start_time": "2022-05-19T20:13:00.266Z"
   },
   {
    "duration": 127,
    "start_time": "2022-05-19T20:13:03.380Z"
   },
   {
    "duration": 516,
    "start_time": "2022-05-19T20:13:58.157Z"
   },
   {
    "duration": 1570,
    "start_time": "2022-05-19T20:14:17.917Z"
   },
   {
    "duration": 407,
    "start_time": "2022-05-19T20:14:43.058Z"
   },
   {
    "duration": 1402,
    "start_time": "2022-05-19T20:14:50.765Z"
   },
   {
    "duration": 409,
    "start_time": "2022-05-19T20:15:03.241Z"
   },
   {
    "duration": 130,
    "start_time": "2022-05-19T20:21:30.743Z"
   },
   {
    "duration": 1476,
    "start_time": "2022-05-19T21:48:24.578Z"
   },
   {
    "duration": 4,
    "start_time": "2022-05-19T21:48:26.056Z"
   },
   {
    "duration": 169,
    "start_time": "2022-05-19T21:48:26.061Z"
   },
   {
    "duration": 271,
    "start_time": "2022-05-19T21:48:26.232Z"
   },
   {
    "duration": 16,
    "start_time": "2022-05-19T21:48:26.504Z"
   },
   {
    "duration": 84,
    "start_time": "2022-05-19T21:48:26.521Z"
   },
   {
    "duration": 136,
    "start_time": "2022-05-19T21:48:26.609Z"
   },
   {
    "duration": 139,
    "start_time": "2022-05-19T21:48:26.747Z"
   },
   {
    "duration": 1398,
    "start_time": "2022-05-19T21:48:26.888Z"
   },
   {
    "duration": 85,
    "start_time": "2022-05-19T21:48:28.290Z"
   },
   {
    "duration": 63,
    "start_time": "2022-05-19T21:48:28.376Z"
   },
   {
    "duration": 1126,
    "start_time": "2022-05-19T21:48:28.441Z"
   },
   {
    "duration": 500,
    "start_time": "2022-05-19T21:48:29.569Z"
   },
   {
    "duration": 939,
    "start_time": "2022-05-19T21:48:30.071Z"
   },
   {
    "duration": 208,
    "start_time": "2022-05-19T21:48:31.012Z"
   },
   {
    "duration": 290,
    "start_time": "2022-05-19T21:48:31.222Z"
   },
   {
    "duration": 126,
    "start_time": "2022-05-19T21:48:31.514Z"
   },
   {
    "duration": 1766,
    "start_time": "2022-05-19T22:22:06.319Z"
   },
   {
    "duration": 3,
    "start_time": "2022-05-19T22:22:08.087Z"
   },
   {
    "duration": 46,
    "start_time": "2022-05-19T22:22:08.092Z"
   },
   {
    "duration": 198,
    "start_time": "2022-05-19T22:22:08.140Z"
   },
   {
    "duration": 18,
    "start_time": "2022-05-19T22:22:08.339Z"
   },
   {
    "duration": 81,
    "start_time": "2022-05-19T22:22:08.359Z"
   },
   {
    "duration": 129,
    "start_time": "2022-05-19T22:22:08.441Z"
   },
   {
    "duration": 140,
    "start_time": "2022-05-19T22:22:08.572Z"
   },
   {
    "duration": 1237,
    "start_time": "2022-05-19T22:22:08.713Z"
   },
   {
    "duration": 94,
    "start_time": "2022-05-19T22:22:09.953Z"
   },
   {
    "duration": 65,
    "start_time": "2022-05-19T22:22:10.049Z"
   },
   {
    "duration": 1279,
    "start_time": "2022-05-19T22:22:10.117Z"
   },
   {
    "duration": 499,
    "start_time": "2022-05-19T22:22:11.398Z"
   },
   {
    "duration": 951,
    "start_time": "2022-05-19T22:22:11.899Z"
   },
   {
    "duration": 220,
    "start_time": "2022-05-19T22:22:12.852Z"
   },
   {
    "duration": 331,
    "start_time": "2022-05-19T22:22:13.074Z"
   },
   {
    "duration": 133,
    "start_time": "2022-05-19T22:22:13.407Z"
   },
   {
    "duration": 127,
    "start_time": "2022-05-19T22:22:16.536Z"
   },
   {
    "duration": 124,
    "start_time": "2022-05-19T22:22:19.182Z"
   },
   {
    "duration": 1416,
    "start_time": "2022-05-20T04:31:33.419Z"
   },
   {
    "duration": 3,
    "start_time": "2022-05-20T04:31:34.837Z"
   },
   {
    "duration": 42,
    "start_time": "2022-05-20T04:31:34.842Z"
   },
   {
    "duration": 210,
    "start_time": "2022-05-20T04:31:34.886Z"
   },
   {
    "duration": 15,
    "start_time": "2022-05-20T04:31:35.099Z"
   },
   {
    "duration": 86,
    "start_time": "2022-05-20T04:31:35.116Z"
   },
   {
    "duration": 136,
    "start_time": "2022-05-20T04:31:35.203Z"
   },
   {
    "duration": 142,
    "start_time": "2022-05-20T04:31:35.340Z"
   },
   {
    "duration": 1276,
    "start_time": "2022-05-20T04:31:35.484Z"
   },
   {
    "duration": 99,
    "start_time": "2022-05-20T04:31:36.761Z"
   },
   {
    "duration": 68,
    "start_time": "2022-05-20T04:31:36.861Z"
   },
   {
    "duration": 1010,
    "start_time": "2022-05-20T04:31:36.931Z"
   },
   {
    "duration": 525,
    "start_time": "2022-05-20T04:31:37.943Z"
   },
   {
    "duration": 988,
    "start_time": "2022-05-20T04:31:38.470Z"
   },
   {
    "duration": 215,
    "start_time": "2022-05-20T04:31:39.459Z"
   },
   {
    "duration": 306,
    "start_time": "2022-05-20T04:31:39.675Z"
   },
   {
    "duration": 137,
    "start_time": "2022-05-20T04:31:39.983Z"
   }
  ],
  "colab": {
   "name": "AdvansedSQLProjectTemplate.ipynb",
   "provenance": []
  },
  "kernelspec": {
   "display_name": "Python 3 (ipykernel)",
   "language": "python",
   "name": "python3"
  },
  "language_info": {
   "codemirror_mode": {
    "name": "ipython",
    "version": 3
   },
   "file_extension": ".py",
   "mimetype": "text/x-python",
   "name": "python",
   "nbconvert_exporter": "python",
   "pygments_lexer": "ipython3",
   "version": "3.9.5"
  },
  "toc": {
   "base_numbering": 1,
   "nav_menu": {},
   "number_sections": false,
   "sideBar": true,
   "skip_h1_title": false,
   "title_cell": "Table of Contents",
   "title_sidebar": "Contents",
   "toc_cell": false,
   "toc_position": {},
   "toc_section_display": true,
   "toc_window_display": true
  }
 },
 "nbformat": 4,
 "nbformat_minor": 1
}