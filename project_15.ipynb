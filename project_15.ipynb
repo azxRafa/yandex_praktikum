{
 "cells": [
  {
   "cell_type": "markdown",
   "id": "2c4f4229",
   "metadata": {
    "ExecuteTime": {
     "end_time": "2022-05-05T04:58:05.692448Z",
     "start_time": "2022-05-05T04:58:05.688565Z"
    }
   },
   "source": [
    "## Подключитесь к базе. Загрузите таблицы sql"
   ]
  },
  {
   "cell_type": "code",
   "execution_count": 116,
   "id": "e86c2232",
   "metadata": {},
   "outputs": [
    {
     "name": "stdout",
     "output_type": "stream",
     "text": [
      "Requirement already satisfied: skorch in c:\\users\\qwe\\anaconda3\\lib\\site-packages (0.11.0)\n",
      "Requirement already satisfied: scikit-learn>=0.19.1 in c:\\users\\qwe\\anaconda3\\lib\\site-packages (from skorch) (1.0.1)\n",
      "Requirement already satisfied: tqdm>=4.14.0 in c:\\users\\qwe\\anaconda3\\lib\\site-packages (from skorch) (4.62.3)\n",
      "Requirement already satisfied: tabulate>=0.7.7 in c:\\users\\qwe\\anaconda3\\lib\\site-packages (from skorch) (0.8.9)\n",
      "Requirement already satisfied: scipy>=1.1.0 in c:\\users\\qwe\\anaconda3\\lib\\site-packages (from skorch) (1.7.1)\n",
      "Requirement already satisfied: numpy>=1.13.3 in c:\\users\\qwe\\anaconda3\\lib\\site-packages (from skorch) (1.19.5)\n",
      "Requirement already satisfied: joblib>=0.11 in c:\\users\\qwe\\anaconda3\\lib\\site-packages (from scikit-learn>=0.19.1->skorch) (1.1.0)\n",
      "Requirement already satisfied: threadpoolctl>=2.0.0 in c:\\users\\qwe\\anaconda3\\lib\\site-packages (from scikit-learn>=0.19.1->skorch) (2.2.0)\n",
      "Requirement already satisfied: colorama in c:\\users\\qwe\\anaconda3\\lib\\site-packages (from tqdm>=4.14.0->skorch) (0.4.4)\n"
     ]
    },
    {
     "name": "stderr",
     "output_type": "stream",
     "text": [
      "WARNING: Ignoring invalid distribution -pencv-python (c:\\users\\qwe\\appdata\\roaming\\python\\python38\\site-packages)\n",
      "WARNING: Ignoring invalid distribution -rotobuf (c:\\users\\qwe\\anaconda3\\lib\\site-packages)\n",
      "WARNING: Ignoring invalid distribution - (c:\\users\\qwe\\anaconda3\\lib\\site-packages)\n",
      "WARNING: Ignoring invalid distribution -pencv-python (c:\\users\\qwe\\appdata\\roaming\\python\\python38\\site-packages)\n",
      "WARNING: Ignoring invalid distribution -rotobuf (c:\\users\\qwe\\anaconda3\\lib\\site-packages)\n",
      "WARNING: Ignoring invalid distribution - (c:\\users\\qwe\\anaconda3\\lib\\site-packages)\n",
      "WARNING: Ignoring invalid distribution -pencv-python (c:\\users\\qwe\\appdata\\roaming\\python\\python38\\site-packages)\n",
      "WARNING: Ignoring invalid distribution -rotobuf (c:\\users\\qwe\\anaconda3\\lib\\site-packages)\n",
      "WARNING: Ignoring invalid distribution - (c:\\users\\qwe\\anaconda3\\lib\\site-packages)\n",
      "WARNING: Ignoring invalid distribution -pencv-python (c:\\users\\qwe\\appdata\\roaming\\python\\python38\\site-packages)\n",
      "WARNING: Ignoring invalid distribution -rotobuf (c:\\users\\qwe\\anaconda3\\lib\\site-packages)\n",
      "WARNING: Ignoring invalid distribution - (c:\\users\\qwe\\anaconda3\\lib\\site-packages)\n",
      "WARNING: Ignoring invalid distribution -pencv-python (c:\\users\\qwe\\appdata\\roaming\\python\\python38\\site-packages)\n",
      "WARNING: Ignoring invalid distribution -rotobuf (c:\\users\\qwe\\anaconda3\\lib\\site-packages)\n",
      "WARNING: Ignoring invalid distribution - (c:\\users\\qwe\\anaconda3\\lib\\site-packages)\n",
      "WARNING: Ignoring invalid distribution -pencv-python (c:\\users\\qwe\\appdata\\roaming\\python\\python38\\site-packages)\n",
      "WARNING: Ignoring invalid distribution -rotobuf (c:\\users\\qwe\\anaconda3\\lib\\site-packages)\n",
      "WARNING: Ignoring invalid distribution - (c:\\users\\qwe\\anaconda3\\lib\\site-packages)\n"
     ]
    }
   ],
   "source": [
    "!pip install skorch"
   ]
  },
  {
   "cell_type": "code",
   "execution_count": 117,
   "id": "33333b4d",
   "metadata": {},
   "outputs": [],
   "source": [
    "import pandas as pd\n",
    "from sqlalchemy import create_engine \n",
    "import matplotlib.pyplot as plt\n",
    "from catboost import CatBoostClassifier\n",
    "from sklearn.model_selection import train_test_split, GridSearchCV\n",
    "from lightgbm import LGBMClassifier\n",
    "from sklearn.metrics import classification_report\n",
    "import torch.nn as nn\n",
    "import torch \n",
    "from skorch import NeuralNetClassifier\n",
    "import torch.nn.functional as F\n",
    "import numpy as np\n",
    "from sklearn.metrics import confusion_matrix\n",
    "import itertools\n",
    "pd.set_option('display.float_format', lambda x: '%.5f' % x)"
   ]
  },
  {
   "cell_type": "code",
   "execution_count": 118,
   "id": "14b4861e",
   "metadata": {},
   "outputs": [],
   "source": [
    "db_config = {\n",
    "'user': 'user', # имя пользователя,\n",
    "'pwd': 'pwd', # пароль,\n",
    "'host': 'host',\n",
    "'port': 'port', # порт подключения,\n",
    "'db': 'db' # название базы данных,\n",
    "}  \n",
    "\n",
    "connection_string = 'postgresql://{}:{}@{}:{}/{}'.format(\n",
    "    db_config['user'],\n",
    "    db_config['pwd'],\n",
    "    db_config['host'],\n",
    "    db_config['port'],\n",
    "    db_config['db'],\n",
    ")"
   ]
  },
  {
   "cell_type": "code",
   "execution_count": 119,
   "id": "7a0df962",
   "metadata": {},
   "outputs": [],
   "source": [
    "engine = create_engine(connection_string) "
   ]
  },
  {
   "cell_type": "code",
   "execution_count": 120,
   "id": "fdf7d28e",
   "metadata": {},
   "outputs": [],
   "source": [
    "query = '''\n",
    "SELECT *\n",
    "FROM collisions\n",
    "'''\n",
    "\n",
    "collisions = pd.read_sql_query(query, con=engine) "
   ]
  },
  {
   "cell_type": "code",
   "execution_count": 121,
   "id": "bcb6ae0a",
   "metadata": {
    "scrolled": true
   },
   "outputs": [
    {
     "data": {
      "text/html": [
       "<div>\n",
       "<style scoped>\n",
       "    .dataframe tbody tr th:only-of-type {\n",
       "        vertical-align: middle;\n",
       "    }\n",
       "\n",
       "    .dataframe tbody tr th {\n",
       "        vertical-align: top;\n",
       "    }\n",
       "\n",
       "    .dataframe thead th {\n",
       "        text-align: right;\n",
       "    }\n",
       "</style>\n",
       "<table border=\"1\" class=\"dataframe\">\n",
       "  <thead>\n",
       "    <tr style=\"text-align: right;\">\n",
       "      <th></th>\n",
       "      <th>case_id</th>\n",
       "      <th>county_city_location</th>\n",
       "      <th>county_location</th>\n",
       "      <th>distance</th>\n",
       "      <th>direction</th>\n",
       "      <th>intersection</th>\n",
       "      <th>weather_1</th>\n",
       "      <th>location_type</th>\n",
       "      <th>collision_damage</th>\n",
       "      <th>party_count</th>\n",
       "      <th>primary_collision_factor</th>\n",
       "      <th>pcf_violation_category</th>\n",
       "      <th>type_of_collision</th>\n",
       "      <th>motor_vehicle_involved_with</th>\n",
       "      <th>road_surface</th>\n",
       "      <th>road_condition_1</th>\n",
       "      <th>lighting</th>\n",
       "      <th>control_device</th>\n",
       "      <th>collision_date</th>\n",
       "      <th>collision_time</th>\n",
       "    </tr>\n",
       "  </thead>\n",
       "  <tbody>\n",
       "    <tr>\n",
       "      <th>0</th>\n",
       "      <td>4083072</td>\n",
       "      <td>1942</td>\n",
       "      <td>los angeles</td>\n",
       "      <td>528.00000</td>\n",
       "      <td>north</td>\n",
       "      <td>0.00000</td>\n",
       "      <td>cloudy</td>\n",
       "      <td>highway</td>\n",
       "      <td>small damage</td>\n",
       "      <td>2</td>\n",
       "      <td>vehicle code violation</td>\n",
       "      <td>unsafe lane change</td>\n",
       "      <td>sideswipe</td>\n",
       "      <td>other motor vehicle</td>\n",
       "      <td>wet</td>\n",
       "      <td>normal</td>\n",
       "      <td>daylight</td>\n",
       "      <td>none</td>\n",
       "      <td>2009-01-22</td>\n",
       "      <td>07:25:00</td>\n",
       "    </tr>\n",
       "    <tr>\n",
       "      <th>1</th>\n",
       "      <td>4083075</td>\n",
       "      <td>4313</td>\n",
       "      <td>santa clara</td>\n",
       "      <td>0.00000</td>\n",
       "      <td>None</td>\n",
       "      <td>1.00000</td>\n",
       "      <td>clear</td>\n",
       "      <td>None</td>\n",
       "      <td>small damage</td>\n",
       "      <td>1</td>\n",
       "      <td>vehicle code violation</td>\n",
       "      <td>improper passing</td>\n",
       "      <td>hit object</td>\n",
       "      <td>fixed object</td>\n",
       "      <td>dry</td>\n",
       "      <td>normal</td>\n",
       "      <td>dark with street lights</td>\n",
       "      <td>functioning</td>\n",
       "      <td>2009-01-03</td>\n",
       "      <td>02:26:00</td>\n",
       "    </tr>\n",
       "    <tr>\n",
       "      <th>2</th>\n",
       "      <td>4083073</td>\n",
       "      <td>0109</td>\n",
       "      <td>alameda</td>\n",
       "      <td>0.00000</td>\n",
       "      <td>None</td>\n",
       "      <td>1.00000</td>\n",
       "      <td>clear</td>\n",
       "      <td>None</td>\n",
       "      <td>scratch</td>\n",
       "      <td>2</td>\n",
       "      <td>vehicle code violation</td>\n",
       "      <td>improper turning</td>\n",
       "      <td>broadside</td>\n",
       "      <td>other motor vehicle</td>\n",
       "      <td>dry</td>\n",
       "      <td>normal</td>\n",
       "      <td>dark with street lights</td>\n",
       "      <td>functioning</td>\n",
       "      <td>2009-01-11</td>\n",
       "      <td>03:32:00</td>\n",
       "    </tr>\n",
       "    <tr>\n",
       "      <th>3</th>\n",
       "      <td>4083077</td>\n",
       "      <td>0109</td>\n",
       "      <td>alameda</td>\n",
       "      <td>0.00000</td>\n",
       "      <td>None</td>\n",
       "      <td>1.00000</td>\n",
       "      <td>clear</td>\n",
       "      <td>None</td>\n",
       "      <td>scratch</td>\n",
       "      <td>2</td>\n",
       "      <td>vehicle code violation</td>\n",
       "      <td>automobile right of way</td>\n",
       "      <td>broadside</td>\n",
       "      <td>other motor vehicle</td>\n",
       "      <td>dry</td>\n",
       "      <td>normal</td>\n",
       "      <td>daylight</td>\n",
       "      <td>functioning</td>\n",
       "      <td>2009-01-11</td>\n",
       "      <td>10:35:00</td>\n",
       "    </tr>\n",
       "    <tr>\n",
       "      <th>4</th>\n",
       "      <td>4083087</td>\n",
       "      <td>4313</td>\n",
       "      <td>santa clara</td>\n",
       "      <td>0.00000</td>\n",
       "      <td>None</td>\n",
       "      <td>1.00000</td>\n",
       "      <td>clear</td>\n",
       "      <td>None</td>\n",
       "      <td>scratch</td>\n",
       "      <td>2</td>\n",
       "      <td>vehicle code violation</td>\n",
       "      <td>speeding</td>\n",
       "      <td>rear end</td>\n",
       "      <td>other motor vehicle</td>\n",
       "      <td>dry</td>\n",
       "      <td>None</td>\n",
       "      <td>dark with street lights</td>\n",
       "      <td>functioning</td>\n",
       "      <td>2009-01-02</td>\n",
       "      <td>22:43:00</td>\n",
       "    </tr>\n",
       "  </tbody>\n",
       "</table>\n",
       "</div>"
      ],
      "text/plain": [
       "   case_id county_city_location county_location  distance direction  \\\n",
       "0  4083072                 1942     los angeles 528.00000     north   \n",
       "1  4083075                 4313     santa clara   0.00000      None   \n",
       "2  4083073                 0109         alameda   0.00000      None   \n",
       "3  4083077                 0109         alameda   0.00000      None   \n",
       "4  4083087                 4313     santa clara   0.00000      None   \n",
       "\n",
       "   intersection weather_1 location_type collision_damage  party_count  \\\n",
       "0       0.00000    cloudy       highway     small damage            2   \n",
       "1       1.00000     clear          None     small damage            1   \n",
       "2       1.00000     clear          None          scratch            2   \n",
       "3       1.00000     clear          None          scratch            2   \n",
       "4       1.00000     clear          None          scratch            2   \n",
       "\n",
       "  primary_collision_factor   pcf_violation_category type_of_collision  \\\n",
       "0   vehicle code violation       unsafe lane change         sideswipe   \n",
       "1   vehicle code violation         improper passing        hit object   \n",
       "2   vehicle code violation         improper turning         broadside   \n",
       "3   vehicle code violation  automobile right of way         broadside   \n",
       "4   vehicle code violation                 speeding          rear end   \n",
       "\n",
       "  motor_vehicle_involved_with road_surface road_condition_1  \\\n",
       "0         other motor vehicle          wet           normal   \n",
       "1                fixed object          dry           normal   \n",
       "2         other motor vehicle          dry           normal   \n",
       "3         other motor vehicle          dry           normal   \n",
       "4         other motor vehicle          dry             None   \n",
       "\n",
       "                  lighting control_device collision_date collision_time  \n",
       "0                 daylight           none     2009-01-22       07:25:00  \n",
       "1  dark with street lights    functioning     2009-01-03       02:26:00  \n",
       "2  dark with street lights    functioning     2009-01-11       03:32:00  \n",
       "3                 daylight    functioning     2009-01-11       10:35:00  \n",
       "4  dark with street lights    functioning     2009-01-02       22:43:00  "
      ]
     },
     "execution_count": 121,
     "metadata": {},
     "output_type": "execute_result"
    }
   ],
   "source": [
    "collisions.head()"
   ]
  },
  {
   "cell_type": "code",
   "execution_count": 122,
   "id": "e089fb3f",
   "metadata": {},
   "outputs": [],
   "source": [
    "query = '''\n",
    "SELECT *\n",
    "FROM parties\n",
    "'''\n",
    "\n",
    "parties = pd.read_sql_query(query, con=engine) "
   ]
  },
  {
   "cell_type": "code",
   "execution_count": 123,
   "id": "3a692df6",
   "metadata": {},
   "outputs": [
    {
     "data": {
      "text/html": [
       "<div>\n",
       "<style scoped>\n",
       "    .dataframe tbody tr th:only-of-type {\n",
       "        vertical-align: middle;\n",
       "    }\n",
       "\n",
       "    .dataframe tbody tr th {\n",
       "        vertical-align: top;\n",
       "    }\n",
       "\n",
       "    .dataframe thead th {\n",
       "        text-align: right;\n",
       "    }\n",
       "</style>\n",
       "<table border=\"1\" class=\"dataframe\">\n",
       "  <thead>\n",
       "    <tr style=\"text-align: right;\">\n",
       "      <th></th>\n",
       "      <th>id</th>\n",
       "      <th>case_id</th>\n",
       "      <th>party_number</th>\n",
       "      <th>party_type</th>\n",
       "      <th>at_fault</th>\n",
       "      <th>insurance_premium</th>\n",
       "      <th>party_sobriety</th>\n",
       "      <th>party_drug_physical</th>\n",
       "      <th>cellphone_in_use</th>\n",
       "    </tr>\n",
       "  </thead>\n",
       "  <tbody>\n",
       "    <tr>\n",
       "      <th>0</th>\n",
       "      <td>22</td>\n",
       "      <td>3899454</td>\n",
       "      <td>1</td>\n",
       "      <td>road signs</td>\n",
       "      <td>1</td>\n",
       "      <td>29.00000</td>\n",
       "      <td>had not been drinking</td>\n",
       "      <td>None</td>\n",
       "      <td>0.00000</td>\n",
       "    </tr>\n",
       "    <tr>\n",
       "      <th>1</th>\n",
       "      <td>23</td>\n",
       "      <td>3899454</td>\n",
       "      <td>2</td>\n",
       "      <td>road signs</td>\n",
       "      <td>0</td>\n",
       "      <td>7.00000</td>\n",
       "      <td>had not been drinking</td>\n",
       "      <td>None</td>\n",
       "      <td>0.00000</td>\n",
       "    </tr>\n",
       "    <tr>\n",
       "      <th>2</th>\n",
       "      <td>29</td>\n",
       "      <td>3899462</td>\n",
       "      <td>2</td>\n",
       "      <td>car</td>\n",
       "      <td>0</td>\n",
       "      <td>21.00000</td>\n",
       "      <td>had not been drinking</td>\n",
       "      <td>None</td>\n",
       "      <td>0.00000</td>\n",
       "    </tr>\n",
       "    <tr>\n",
       "      <th>3</th>\n",
       "      <td>31</td>\n",
       "      <td>3899465</td>\n",
       "      <td>2</td>\n",
       "      <td>road signs</td>\n",
       "      <td>0</td>\n",
       "      <td>24.00000</td>\n",
       "      <td>had not been drinking</td>\n",
       "      <td>None</td>\n",
       "      <td>0.00000</td>\n",
       "    </tr>\n",
       "    <tr>\n",
       "      <th>4</th>\n",
       "      <td>41</td>\n",
       "      <td>3899478</td>\n",
       "      <td>2</td>\n",
       "      <td>road bumper</td>\n",
       "      <td>0</td>\n",
       "      <td>NaN</td>\n",
       "      <td>not applicable</td>\n",
       "      <td>not applicable</td>\n",
       "      <td>0.00000</td>\n",
       "    </tr>\n",
       "  </tbody>\n",
       "</table>\n",
       "</div>"
      ],
      "text/plain": [
       "   id  case_id  party_number   party_type  at_fault  insurance_premium  \\\n",
       "0  22  3899454             1   road signs         1           29.00000   \n",
       "1  23  3899454             2   road signs         0            7.00000   \n",
       "2  29  3899462             2          car         0           21.00000   \n",
       "3  31  3899465             2   road signs         0           24.00000   \n",
       "4  41  3899478             2  road bumper         0                NaN   \n",
       "\n",
       "          party_sobriety party_drug_physical  cellphone_in_use  \n",
       "0  had not been drinking                None           0.00000  \n",
       "1  had not been drinking                None           0.00000  \n",
       "2  had not been drinking                None           0.00000  \n",
       "3  had not been drinking                None           0.00000  \n",
       "4         not applicable      not applicable           0.00000  "
      ]
     },
     "execution_count": 123,
     "metadata": {},
     "output_type": "execute_result"
    }
   ],
   "source": [
    "parties.head()"
   ]
  },
  {
   "cell_type": "code",
   "execution_count": 124,
   "id": "1be6a176",
   "metadata": {},
   "outputs": [],
   "source": [
    "query = '''\n",
    "SELECT *\n",
    "FROM vehicles \n",
    "'''\n",
    "\n",
    "vehicles  = pd.read_sql_query(query, con=engine) "
   ]
  },
  {
   "cell_type": "code",
   "execution_count": 125,
   "id": "2f773f24",
   "metadata": {},
   "outputs": [
    {
     "data": {
      "text/html": [
       "<div>\n",
       "<style scoped>\n",
       "    .dataframe tbody tr th:only-of-type {\n",
       "        vertical-align: middle;\n",
       "    }\n",
       "\n",
       "    .dataframe tbody tr th {\n",
       "        vertical-align: top;\n",
       "    }\n",
       "\n",
       "    .dataframe thead th {\n",
       "        text-align: right;\n",
       "    }\n",
       "</style>\n",
       "<table border=\"1\" class=\"dataframe\">\n",
       "  <thead>\n",
       "    <tr style=\"text-align: right;\">\n",
       "      <th></th>\n",
       "      <th>id</th>\n",
       "      <th>case_id</th>\n",
       "      <th>party_number</th>\n",
       "      <th>vehicle_type</th>\n",
       "      <th>vehicle_transmission</th>\n",
       "      <th>vehicle_age</th>\n",
       "    </tr>\n",
       "  </thead>\n",
       "  <tbody>\n",
       "    <tr>\n",
       "      <th>0</th>\n",
       "      <td>1175713</td>\n",
       "      <td>5305032</td>\n",
       "      <td>2</td>\n",
       "      <td>sedan</td>\n",
       "      <td>manual</td>\n",
       "      <td>3.00000</td>\n",
       "    </tr>\n",
       "    <tr>\n",
       "      <th>1</th>\n",
       "      <td>1</td>\n",
       "      <td>3858022</td>\n",
       "      <td>1</td>\n",
       "      <td>sedan</td>\n",
       "      <td>auto</td>\n",
       "      <td>3.00000</td>\n",
       "    </tr>\n",
       "    <tr>\n",
       "      <th>2</th>\n",
       "      <td>1175712</td>\n",
       "      <td>5305030</td>\n",
       "      <td>1</td>\n",
       "      <td>sedan</td>\n",
       "      <td>auto</td>\n",
       "      <td>3.00000</td>\n",
       "    </tr>\n",
       "    <tr>\n",
       "      <th>3</th>\n",
       "      <td>1175717</td>\n",
       "      <td>5305033</td>\n",
       "      <td>3</td>\n",
       "      <td>sedan</td>\n",
       "      <td>auto</td>\n",
       "      <td>5.00000</td>\n",
       "    </tr>\n",
       "    <tr>\n",
       "      <th>4</th>\n",
       "      <td>1175722</td>\n",
       "      <td>5305034</td>\n",
       "      <td>2</td>\n",
       "      <td>sedan</td>\n",
       "      <td>auto</td>\n",
       "      <td>5.00000</td>\n",
       "    </tr>\n",
       "  </tbody>\n",
       "</table>\n",
       "</div>"
      ],
      "text/plain": [
       "        id  case_id  party_number vehicle_type vehicle_transmission  \\\n",
       "0  1175713  5305032             2        sedan               manual   \n",
       "1        1  3858022             1        sedan                 auto   \n",
       "2  1175712  5305030             1        sedan                 auto   \n",
       "3  1175717  5305033             3        sedan                 auto   \n",
       "4  1175722  5305034             2        sedan                 auto   \n",
       "\n",
       "   vehicle_age  \n",
       "0      3.00000  \n",
       "1      3.00000  \n",
       "2      3.00000  \n",
       "3      5.00000  \n",
       "4      5.00000  "
      ]
     },
     "execution_count": 125,
     "metadata": {},
     "output_type": "execute_result"
    }
   ],
   "source": [
    "vehicles.head()"
   ]
  },
  {
   "cell_type": "code",
   "execution_count": 126,
   "id": "3bb4c89f",
   "metadata": {},
   "outputs": [],
   "source": [
    "query = '''\n",
    "SELECT *\n",
    "FROM case_ids\n",
    "'''\n",
    "\n",
    "case_ids = pd.read_sql_query(query, con=engine) "
   ]
  },
  {
   "cell_type": "code",
   "execution_count": 127,
   "id": "9f84c8dd",
   "metadata": {},
   "outputs": [
    {
     "data": {
      "text/html": [
       "<div>\n",
       "<style scoped>\n",
       "    .dataframe tbody tr th:only-of-type {\n",
       "        vertical-align: middle;\n",
       "    }\n",
       "\n",
       "    .dataframe tbody tr th {\n",
       "        vertical-align: top;\n",
       "    }\n",
       "\n",
       "    .dataframe thead th {\n",
       "        text-align: right;\n",
       "    }\n",
       "</style>\n",
       "<table border=\"1\" class=\"dataframe\">\n",
       "  <thead>\n",
       "    <tr style=\"text-align: right;\">\n",
       "      <th></th>\n",
       "      <th>case_id</th>\n",
       "      <th>db_year</th>\n",
       "    </tr>\n",
       "  </thead>\n",
       "  <tbody>\n",
       "    <tr>\n",
       "      <th>0</th>\n",
       "      <td>0081715</td>\n",
       "      <td>2021</td>\n",
       "    </tr>\n",
       "    <tr>\n",
       "      <th>1</th>\n",
       "      <td>0726202</td>\n",
       "      <td>2021</td>\n",
       "    </tr>\n",
       "    <tr>\n",
       "      <th>2</th>\n",
       "      <td>3858022</td>\n",
       "      <td>2021</td>\n",
       "    </tr>\n",
       "    <tr>\n",
       "      <th>3</th>\n",
       "      <td>3899441</td>\n",
       "      <td>2021</td>\n",
       "    </tr>\n",
       "    <tr>\n",
       "      <th>4</th>\n",
       "      <td>3899442</td>\n",
       "      <td>2021</td>\n",
       "    </tr>\n",
       "  </tbody>\n",
       "</table>\n",
       "</div>"
      ],
      "text/plain": [
       "   case_id db_year\n",
       "0  0081715    2021\n",
       "1  0726202    2021\n",
       "2  3858022    2021\n",
       "3  3899441    2021\n",
       "4  3899442    2021"
      ]
     },
     "execution_count": 127,
     "metadata": {},
     "output_type": "execute_result"
    }
   ],
   "source": [
    "case_ids.head()"
   ]
  },
  {
   "cell_type": "code",
   "execution_count": 128,
   "id": "7213a643",
   "metadata": {},
   "outputs": [],
   "source": [
    "query = '''\n",
    "SELECT table_name FROM information_schema.tables \n",
    "'''\n",
    "tables = pd.read_sql_query(query, con=engine) "
   ]
  },
  {
   "cell_type": "code",
   "execution_count": 129,
   "id": "6ea6f340",
   "metadata": {},
   "outputs": [
    {
     "data": {
      "text/html": [
       "<div>\n",
       "<style scoped>\n",
       "    .dataframe tbody tr th:only-of-type {\n",
       "        vertical-align: middle;\n",
       "    }\n",
       "\n",
       "    .dataframe tbody tr th {\n",
       "        vertical-align: top;\n",
       "    }\n",
       "\n",
       "    .dataframe thead th {\n",
       "        text-align: right;\n",
       "    }\n",
       "</style>\n",
       "<table border=\"1\" class=\"dataframe\">\n",
       "  <thead>\n",
       "    <tr style=\"text-align: right;\">\n",
       "      <th></th>\n",
       "      <th>table_name</th>\n",
       "    </tr>\n",
       "  </thead>\n",
       "  <tbody>\n",
       "    <tr>\n",
       "      <th>0</th>\n",
       "      <td>case_ids</td>\n",
       "    </tr>\n",
       "    <tr>\n",
       "      <th>1</th>\n",
       "      <td>collisions</td>\n",
       "    </tr>\n",
       "    <tr>\n",
       "      <th>2</th>\n",
       "      <td>parties</td>\n",
       "    </tr>\n",
       "    <tr>\n",
       "      <th>3</th>\n",
       "      <td>vehicles</td>\n",
       "    </tr>\n",
       "    <tr>\n",
       "      <th>4</th>\n",
       "      <td>pg_foreign_table</td>\n",
       "    </tr>\n",
       "    <tr>\n",
       "      <th>...</th>\n",
       "      <td>...</td>\n",
       "    </tr>\n",
       "    <tr>\n",
       "      <th>171</th>\n",
       "      <td>foreign_data_wrappers</td>\n",
       "    </tr>\n",
       "    <tr>\n",
       "      <th>172</th>\n",
       "      <td>foreign_server_options</td>\n",
       "    </tr>\n",
       "    <tr>\n",
       "      <th>173</th>\n",
       "      <td>foreign_servers</td>\n",
       "    </tr>\n",
       "    <tr>\n",
       "      <th>174</th>\n",
       "      <td>foreign_table_options</td>\n",
       "    </tr>\n",
       "    <tr>\n",
       "      <th>175</th>\n",
       "      <td>foreign_tables</td>\n",
       "    </tr>\n",
       "  </tbody>\n",
       "</table>\n",
       "<p>176 rows × 1 columns</p>\n",
       "</div>"
      ],
      "text/plain": [
       "                 table_name\n",
       "0                  case_ids\n",
       "1                collisions\n",
       "2                   parties\n",
       "3                  vehicles\n",
       "4          pg_foreign_table\n",
       "..                      ...\n",
       "171   foreign_data_wrappers\n",
       "172  foreign_server_options\n",
       "173         foreign_servers\n",
       "174   foreign_table_options\n",
       "175          foreign_tables\n",
       "\n",
       "[176 rows x 1 columns]"
      ]
     },
     "execution_count": 129,
     "metadata": {},
     "output_type": "execute_result"
    }
   ],
   "source": [
    "tables"
   ]
  },
  {
   "cell_type": "markdown",
   "id": "d6f50192",
   "metadata": {},
   "source": [
    "## Проведите первичное исследование таблиц"
   ]
  },
  {
   "cell_type": "code",
   "execution_count": 130,
   "id": "14e66309",
   "metadata": {
    "scrolled": true
   },
   "outputs": [
    {
     "data": {
      "text/html": [
       "<div>\n",
       "<style scoped>\n",
       "    .dataframe tbody tr th:only-of-type {\n",
       "        vertical-align: middle;\n",
       "    }\n",
       "\n",
       "    .dataframe tbody tr th {\n",
       "        vertical-align: top;\n",
       "    }\n",
       "\n",
       "    .dataframe thead th {\n",
       "        text-align: right;\n",
       "    }\n",
       "</style>\n",
       "<table border=\"1\" class=\"dataframe\">\n",
       "  <thead>\n",
       "    <tr style=\"text-align: right;\">\n",
       "      <th></th>\n",
       "      <th>case_id</th>\n",
       "      <th>county_city_location</th>\n",
       "      <th>county_location</th>\n",
       "      <th>distance</th>\n",
       "      <th>direction</th>\n",
       "      <th>intersection</th>\n",
       "      <th>weather_1</th>\n",
       "      <th>location_type</th>\n",
       "      <th>collision_damage</th>\n",
       "      <th>party_count</th>\n",
       "      <th>primary_collision_factor</th>\n",
       "      <th>pcf_violation_category</th>\n",
       "      <th>type_of_collision</th>\n",
       "      <th>motor_vehicle_involved_with</th>\n",
       "      <th>road_surface</th>\n",
       "      <th>road_condition_1</th>\n",
       "      <th>lighting</th>\n",
       "      <th>control_device</th>\n",
       "      <th>collision_date</th>\n",
       "      <th>collision_time</th>\n",
       "    </tr>\n",
       "  </thead>\n",
       "  <tbody>\n",
       "    <tr>\n",
       "      <th>count</th>\n",
       "      <td>1400000</td>\n",
       "      <td>1400000</td>\n",
       "      <td>1400000</td>\n",
       "      <td>1400000.00000</td>\n",
       "      <td>1059358</td>\n",
       "      <td>1387781.00000</td>\n",
       "      <td>1392741</td>\n",
       "      <td>518779</td>\n",
       "      <td>1400000</td>\n",
       "      <td>1400000.00000</td>\n",
       "      <td>1391834</td>\n",
       "      <td>1372046</td>\n",
       "      <td>1388176</td>\n",
       "      <td>1393181</td>\n",
       "      <td>1386907</td>\n",
       "      <td>1388012</td>\n",
       "      <td>1391407</td>\n",
       "      <td>1391593</td>\n",
       "      <td>1400000</td>\n",
       "      <td>1387692</td>\n",
       "    </tr>\n",
       "    <tr>\n",
       "      <th>unique</th>\n",
       "      <td>1400000</td>\n",
       "      <td>538</td>\n",
       "      <td>58</td>\n",
       "      <td>NaN</td>\n",
       "      <td>4</td>\n",
       "      <td>NaN</td>\n",
       "      <td>7</td>\n",
       "      <td>3</td>\n",
       "      <td>5</td>\n",
       "      <td>NaN</td>\n",
       "      <td>5</td>\n",
       "      <td>23</td>\n",
       "      <td>7</td>\n",
       "      <td>9</td>\n",
       "      <td>4</td>\n",
       "      <td>8</td>\n",
       "      <td>5</td>\n",
       "      <td>4</td>\n",
       "      <td>1550</td>\n",
       "      <td>1440</td>\n",
       "    </tr>\n",
       "    <tr>\n",
       "      <th>top</th>\n",
       "      <td>4083072</td>\n",
       "      <td>1942</td>\n",
       "      <td>los angeles</td>\n",
       "      <td>NaN</td>\n",
       "      <td>south</td>\n",
       "      <td>NaN</td>\n",
       "      <td>clear</td>\n",
       "      <td>highway</td>\n",
       "      <td>small damage</td>\n",
       "      <td>NaN</td>\n",
       "      <td>vehicle code violation</td>\n",
       "      <td>speeding</td>\n",
       "      <td>rear end</td>\n",
       "      <td>other motor vehicle</td>\n",
       "      <td>dry</td>\n",
       "      <td>normal</td>\n",
       "      <td>daylight</td>\n",
       "      <td>none</td>\n",
       "      <td>2009-10-13</td>\n",
       "      <td>15:00:00</td>\n",
       "    </tr>\n",
       "    <tr>\n",
       "      <th>freq</th>\n",
       "      <td>1</td>\n",
       "      <td>170335</td>\n",
       "      <td>433809</td>\n",
       "      <td>NaN</td>\n",
       "      <td>290513</td>\n",
       "      <td>NaN</td>\n",
       "      <td>1121048</td>\n",
       "      <td>416531</td>\n",
       "      <td>845771</td>\n",
       "      <td>NaN</td>\n",
       "      <td>1316453</td>\n",
       "      <td>438439</td>\n",
       "      <td>467109</td>\n",
       "      <td>891079</td>\n",
       "      <td>1242026</td>\n",
       "      <td>1346655</td>\n",
       "      <td>941950</td>\n",
       "      <td>916182</td>\n",
       "      <td>2069</td>\n",
       "      <td>9157</td>\n",
       "    </tr>\n",
       "    <tr>\n",
       "      <th>mean</th>\n",
       "      <td>NaN</td>\n",
       "      <td>NaN</td>\n",
       "      <td>NaN</td>\n",
       "      <td>660.71152</td>\n",
       "      <td>NaN</td>\n",
       "      <td>0.22491</td>\n",
       "      <td>NaN</td>\n",
       "      <td>NaN</td>\n",
       "      <td>NaN</td>\n",
       "      <td>1.96601</td>\n",
       "      <td>NaN</td>\n",
       "      <td>NaN</td>\n",
       "      <td>NaN</td>\n",
       "      <td>NaN</td>\n",
       "      <td>NaN</td>\n",
       "      <td>NaN</td>\n",
       "      <td>NaN</td>\n",
       "      <td>NaN</td>\n",
       "      <td>NaN</td>\n",
       "      <td>NaN</td>\n",
       "    </tr>\n",
       "    <tr>\n",
       "      <th>std</th>\n",
       "      <td>NaN</td>\n",
       "      <td>NaN</td>\n",
       "      <td>NaN</td>\n",
       "      <td>11785.78506</td>\n",
       "      <td>NaN</td>\n",
       "      <td>0.41752</td>\n",
       "      <td>NaN</td>\n",
       "      <td>NaN</td>\n",
       "      <td>NaN</td>\n",
       "      <td>0.67245</td>\n",
       "      <td>NaN</td>\n",
       "      <td>NaN</td>\n",
       "      <td>NaN</td>\n",
       "      <td>NaN</td>\n",
       "      <td>NaN</td>\n",
       "      <td>NaN</td>\n",
       "      <td>NaN</td>\n",
       "      <td>NaN</td>\n",
       "      <td>NaN</td>\n",
       "      <td>NaN</td>\n",
       "    </tr>\n",
       "    <tr>\n",
       "      <th>min</th>\n",
       "      <td>NaN</td>\n",
       "      <td>NaN</td>\n",
       "      <td>NaN</td>\n",
       "      <td>0.00000</td>\n",
       "      <td>NaN</td>\n",
       "      <td>0.00000</td>\n",
       "      <td>NaN</td>\n",
       "      <td>NaN</td>\n",
       "      <td>NaN</td>\n",
       "      <td>1.00000</td>\n",
       "      <td>NaN</td>\n",
       "      <td>NaN</td>\n",
       "      <td>NaN</td>\n",
       "      <td>NaN</td>\n",
       "      <td>NaN</td>\n",
       "      <td>NaN</td>\n",
       "      <td>NaN</td>\n",
       "      <td>NaN</td>\n",
       "      <td>NaN</td>\n",
       "      <td>NaN</td>\n",
       "    </tr>\n",
       "    <tr>\n",
       "      <th>25%</th>\n",
       "      <td>NaN</td>\n",
       "      <td>NaN</td>\n",
       "      <td>NaN</td>\n",
       "      <td>2.00000</td>\n",
       "      <td>NaN</td>\n",
       "      <td>0.00000</td>\n",
       "      <td>NaN</td>\n",
       "      <td>NaN</td>\n",
       "      <td>NaN</td>\n",
       "      <td>2.00000</td>\n",
       "      <td>NaN</td>\n",
       "      <td>NaN</td>\n",
       "      <td>NaN</td>\n",
       "      <td>NaN</td>\n",
       "      <td>NaN</td>\n",
       "      <td>NaN</td>\n",
       "      <td>NaN</td>\n",
       "      <td>NaN</td>\n",
       "      <td>NaN</td>\n",
       "      <td>NaN</td>\n",
       "    </tr>\n",
       "    <tr>\n",
       "      <th>50%</th>\n",
       "      <td>NaN</td>\n",
       "      <td>NaN</td>\n",
       "      <td>NaN</td>\n",
       "      <td>100.00000</td>\n",
       "      <td>NaN</td>\n",
       "      <td>0.00000</td>\n",
       "      <td>NaN</td>\n",
       "      <td>NaN</td>\n",
       "      <td>NaN</td>\n",
       "      <td>2.00000</td>\n",
       "      <td>NaN</td>\n",
       "      <td>NaN</td>\n",
       "      <td>NaN</td>\n",
       "      <td>NaN</td>\n",
       "      <td>NaN</td>\n",
       "      <td>NaN</td>\n",
       "      <td>NaN</td>\n",
       "      <td>NaN</td>\n",
       "      <td>NaN</td>\n",
       "      <td>NaN</td>\n",
       "    </tr>\n",
       "    <tr>\n",
       "      <th>75%</th>\n",
       "      <td>NaN</td>\n",
       "      <td>NaN</td>\n",
       "      <td>NaN</td>\n",
       "      <td>430.00000</td>\n",
       "      <td>NaN</td>\n",
       "      <td>0.00000</td>\n",
       "      <td>NaN</td>\n",
       "      <td>NaN</td>\n",
       "      <td>NaN</td>\n",
       "      <td>2.00000</td>\n",
       "      <td>NaN</td>\n",
       "      <td>NaN</td>\n",
       "      <td>NaN</td>\n",
       "      <td>NaN</td>\n",
       "      <td>NaN</td>\n",
       "      <td>NaN</td>\n",
       "      <td>NaN</td>\n",
       "      <td>NaN</td>\n",
       "      <td>NaN</td>\n",
       "      <td>NaN</td>\n",
       "    </tr>\n",
       "    <tr>\n",
       "      <th>max</th>\n",
       "      <td>NaN</td>\n",
       "      <td>NaN</td>\n",
       "      <td>NaN</td>\n",
       "      <td>8363520.00000</td>\n",
       "      <td>NaN</td>\n",
       "      <td>1.00000</td>\n",
       "      <td>NaN</td>\n",
       "      <td>NaN</td>\n",
       "      <td>NaN</td>\n",
       "      <td>27.00000</td>\n",
       "      <td>NaN</td>\n",
       "      <td>NaN</td>\n",
       "      <td>NaN</td>\n",
       "      <td>NaN</td>\n",
       "      <td>NaN</td>\n",
       "      <td>NaN</td>\n",
       "      <td>NaN</td>\n",
       "      <td>NaN</td>\n",
       "      <td>NaN</td>\n",
       "      <td>NaN</td>\n",
       "    </tr>\n",
       "  </tbody>\n",
       "</table>\n",
       "</div>"
      ],
      "text/plain": [
       "        case_id county_city_location county_location      distance direction  \\\n",
       "count   1400000              1400000         1400000 1400000.00000   1059358   \n",
       "unique  1400000                  538              58           NaN         4   \n",
       "top     4083072                 1942     los angeles           NaN     south   \n",
       "freq          1               170335          433809           NaN    290513   \n",
       "mean        NaN                  NaN             NaN     660.71152       NaN   \n",
       "std         NaN                  NaN             NaN   11785.78506       NaN   \n",
       "min         NaN                  NaN             NaN       0.00000       NaN   \n",
       "25%         NaN                  NaN             NaN       2.00000       NaN   \n",
       "50%         NaN                  NaN             NaN     100.00000       NaN   \n",
       "75%         NaN                  NaN             NaN     430.00000       NaN   \n",
       "max         NaN                  NaN             NaN 8363520.00000       NaN   \n",
       "\n",
       "        intersection weather_1 location_type collision_damage   party_count  \\\n",
       "count  1387781.00000   1392741        518779          1400000 1400000.00000   \n",
       "unique           NaN         7             3                5           NaN   \n",
       "top              NaN     clear       highway     small damage           NaN   \n",
       "freq             NaN   1121048        416531           845771           NaN   \n",
       "mean         0.22491       NaN           NaN              NaN       1.96601   \n",
       "std          0.41752       NaN           NaN              NaN       0.67245   \n",
       "min          0.00000       NaN           NaN              NaN       1.00000   \n",
       "25%          0.00000       NaN           NaN              NaN       2.00000   \n",
       "50%          0.00000       NaN           NaN              NaN       2.00000   \n",
       "75%          0.00000       NaN           NaN              NaN       2.00000   \n",
       "max          1.00000       NaN           NaN              NaN      27.00000   \n",
       "\n",
       "       primary_collision_factor pcf_violation_category type_of_collision  \\\n",
       "count                   1391834                1372046           1388176   \n",
       "unique                        5                     23                 7   \n",
       "top      vehicle code violation               speeding          rear end   \n",
       "freq                    1316453                 438439            467109   \n",
       "mean                        NaN                    NaN               NaN   \n",
       "std                         NaN                    NaN               NaN   \n",
       "min                         NaN                    NaN               NaN   \n",
       "25%                         NaN                    NaN               NaN   \n",
       "50%                         NaN                    NaN               NaN   \n",
       "75%                         NaN                    NaN               NaN   \n",
       "max                         NaN                    NaN               NaN   \n",
       "\n",
       "       motor_vehicle_involved_with road_surface road_condition_1  lighting  \\\n",
       "count                      1393181      1386907          1388012   1391407   \n",
       "unique                           9            4                8         5   \n",
       "top            other motor vehicle          dry           normal  daylight   \n",
       "freq                        891079      1242026          1346655    941950   \n",
       "mean                           NaN          NaN              NaN       NaN   \n",
       "std                            NaN          NaN              NaN       NaN   \n",
       "min                            NaN          NaN              NaN       NaN   \n",
       "25%                            NaN          NaN              NaN       NaN   \n",
       "50%                            NaN          NaN              NaN       NaN   \n",
       "75%                            NaN          NaN              NaN       NaN   \n",
       "max                            NaN          NaN              NaN       NaN   \n",
       "\n",
       "       control_device collision_date collision_time  \n",
       "count         1391593        1400000        1387692  \n",
       "unique              4           1550           1440  \n",
       "top              none     2009-10-13       15:00:00  \n",
       "freq           916182           2069           9157  \n",
       "mean              NaN            NaN            NaN  \n",
       "std               NaN            NaN            NaN  \n",
       "min               NaN            NaN            NaN  \n",
       "25%               NaN            NaN            NaN  \n",
       "50%               NaN            NaN            NaN  \n",
       "75%               NaN            NaN            NaN  \n",
       "max               NaN            NaN            NaN  "
      ]
     },
     "execution_count": 130,
     "metadata": {},
     "output_type": "execute_result"
    }
   ],
   "source": [
    "collisions.describe(include='all')"
   ]
  },
  {
   "cell_type": "code",
   "execution_count": 131,
   "id": "0cf290c9",
   "metadata": {},
   "outputs": [
    {
     "data": {
      "text/html": [
       "<div>\n",
       "<style scoped>\n",
       "    .dataframe tbody tr th:only-of-type {\n",
       "        vertical-align: middle;\n",
       "    }\n",
       "\n",
       "    .dataframe tbody tr th {\n",
       "        vertical-align: top;\n",
       "    }\n",
       "\n",
       "    .dataframe thead th {\n",
       "        text-align: right;\n",
       "    }\n",
       "</style>\n",
       "<table border=\"1\" class=\"dataframe\">\n",
       "  <thead>\n",
       "    <tr style=\"text-align: right;\">\n",
       "      <th></th>\n",
       "      <th>id</th>\n",
       "      <th>case_id</th>\n",
       "      <th>party_number</th>\n",
       "      <th>party_type</th>\n",
       "      <th>at_fault</th>\n",
       "      <th>insurance_premium</th>\n",
       "      <th>party_sobriety</th>\n",
       "      <th>party_drug_physical</th>\n",
       "      <th>cellphone_in_use</th>\n",
       "    </tr>\n",
       "  </thead>\n",
       "  <tbody>\n",
       "    <tr>\n",
       "      <th>count</th>\n",
       "      <td>2752408.00000</td>\n",
       "      <td>2752408</td>\n",
       "      <td>2752408.00000</td>\n",
       "      <td>2748786</td>\n",
       "      <td>2752408.00000</td>\n",
       "      <td>2347006.00000</td>\n",
       "      <td>2678453</td>\n",
       "      <td>432288</td>\n",
       "      <td>2240771.00000</td>\n",
       "    </tr>\n",
       "    <tr>\n",
       "      <th>unique</th>\n",
       "      <td>NaN</td>\n",
       "      <td>1400000</td>\n",
       "      <td>NaN</td>\n",
       "      <td>5</td>\n",
       "      <td>NaN</td>\n",
       "      <td>NaN</td>\n",
       "      <td>6</td>\n",
       "      <td>5</td>\n",
       "      <td>NaN</td>\n",
       "    </tr>\n",
       "    <tr>\n",
       "      <th>top</th>\n",
       "      <td>NaN</td>\n",
       "      <td>5196744</td>\n",
       "      <td>NaN</td>\n",
       "      <td>car</td>\n",
       "      <td>NaN</td>\n",
       "      <td>NaN</td>\n",
       "      <td>had not been drinking</td>\n",
       "      <td>G</td>\n",
       "      <td>NaN</td>\n",
       "    </tr>\n",
       "    <tr>\n",
       "      <th>freq</th>\n",
       "      <td>NaN</td>\n",
       "      <td>27</td>\n",
       "      <td>NaN</td>\n",
       "      <td>2469314</td>\n",
       "      <td>NaN</td>\n",
       "      <td>NaN</td>\n",
       "      <td>2124727</td>\n",
       "      <td>232901</td>\n",
       "      <td>NaN</td>\n",
       "    </tr>\n",
       "    <tr>\n",
       "      <th>mean</th>\n",
       "      <td>1376204.50000</td>\n",
       "      <td>NaN</td>\n",
       "      <td>1.59803</td>\n",
       "      <td>NaN</td>\n",
       "      <td>0.46800</td>\n",
       "      <td>38.74724</td>\n",
       "      <td>NaN</td>\n",
       "      <td>NaN</td>\n",
       "      <td>0.02045</td>\n",
       "    </tr>\n",
       "    <tr>\n",
       "      <th>std</th>\n",
       "      <td>794551.89420</td>\n",
       "      <td>NaN</td>\n",
       "      <td>0.72366</td>\n",
       "      <td>NaN</td>\n",
       "      <td>0.49898</td>\n",
       "      <td>16.37851</td>\n",
       "      <td>NaN</td>\n",
       "      <td>NaN</td>\n",
       "      <td>0.14154</td>\n",
       "    </tr>\n",
       "    <tr>\n",
       "      <th>min</th>\n",
       "      <td>1.00000</td>\n",
       "      <td>NaN</td>\n",
       "      <td>1.00000</td>\n",
       "      <td>NaN</td>\n",
       "      <td>0.00000</td>\n",
       "      <td>0.00000</td>\n",
       "      <td>NaN</td>\n",
       "      <td>NaN</td>\n",
       "      <td>0.00000</td>\n",
       "    </tr>\n",
       "    <tr>\n",
       "      <th>25%</th>\n",
       "      <td>688102.75000</td>\n",
       "      <td>NaN</td>\n",
       "      <td>1.00000</td>\n",
       "      <td>NaN</td>\n",
       "      <td>0.00000</td>\n",
       "      <td>25.00000</td>\n",
       "      <td>NaN</td>\n",
       "      <td>NaN</td>\n",
       "      <td>0.00000</td>\n",
       "    </tr>\n",
       "    <tr>\n",
       "      <th>50%</th>\n",
       "      <td>1376204.50000</td>\n",
       "      <td>NaN</td>\n",
       "      <td>1.00000</td>\n",
       "      <td>NaN</td>\n",
       "      <td>0.00000</td>\n",
       "      <td>36.00000</td>\n",
       "      <td>NaN</td>\n",
       "      <td>NaN</td>\n",
       "      <td>0.00000</td>\n",
       "    </tr>\n",
       "    <tr>\n",
       "      <th>75%</th>\n",
       "      <td>2064306.25000</td>\n",
       "      <td>NaN</td>\n",
       "      <td>2.00000</td>\n",
       "      <td>NaN</td>\n",
       "      <td>1.00000</td>\n",
       "      <td>50.00000</td>\n",
       "      <td>NaN</td>\n",
       "      <td>NaN</td>\n",
       "      <td>0.00000</td>\n",
       "    </tr>\n",
       "    <tr>\n",
       "      <th>max</th>\n",
       "      <td>2752408.00000</td>\n",
       "      <td>NaN</td>\n",
       "      <td>27.00000</td>\n",
       "      <td>NaN</td>\n",
       "      <td>1.00000</td>\n",
       "      <td>105.00000</td>\n",
       "      <td>NaN</td>\n",
       "      <td>NaN</td>\n",
       "      <td>1.00000</td>\n",
       "    </tr>\n",
       "  </tbody>\n",
       "</table>\n",
       "</div>"
      ],
      "text/plain": [
       "                  id  case_id  party_number party_type      at_fault  \\\n",
       "count  2752408.00000  2752408 2752408.00000    2748786 2752408.00000   \n",
       "unique           NaN  1400000           NaN          5           NaN   \n",
       "top              NaN  5196744           NaN        car           NaN   \n",
       "freq             NaN       27           NaN    2469314           NaN   \n",
       "mean   1376204.50000      NaN       1.59803        NaN       0.46800   \n",
       "std     794551.89420      NaN       0.72366        NaN       0.49898   \n",
       "min          1.00000      NaN       1.00000        NaN       0.00000   \n",
       "25%     688102.75000      NaN       1.00000        NaN       0.00000   \n",
       "50%    1376204.50000      NaN       1.00000        NaN       0.00000   \n",
       "75%    2064306.25000      NaN       2.00000        NaN       1.00000   \n",
       "max    2752408.00000      NaN      27.00000        NaN       1.00000   \n",
       "\n",
       "        insurance_premium         party_sobriety party_drug_physical  \\\n",
       "count       2347006.00000                2678453              432288   \n",
       "unique                NaN                      6                   5   \n",
       "top                   NaN  had not been drinking                   G   \n",
       "freq                  NaN                2124727              232901   \n",
       "mean             38.74724                    NaN                 NaN   \n",
       "std              16.37851                    NaN                 NaN   \n",
       "min               0.00000                    NaN                 NaN   \n",
       "25%              25.00000                    NaN                 NaN   \n",
       "50%              36.00000                    NaN                 NaN   \n",
       "75%              50.00000                    NaN                 NaN   \n",
       "max             105.00000                    NaN                 NaN   \n",
       "\n",
       "        cellphone_in_use  \n",
       "count      2240771.00000  \n",
       "unique               NaN  \n",
       "top                  NaN  \n",
       "freq                 NaN  \n",
       "mean             0.02045  \n",
       "std              0.14154  \n",
       "min              0.00000  \n",
       "25%              0.00000  \n",
       "50%              0.00000  \n",
       "75%              0.00000  \n",
       "max              1.00000  "
      ]
     },
     "execution_count": 131,
     "metadata": {},
     "output_type": "execute_result"
    }
   ],
   "source": [
    "parties.describe(include='all')"
   ]
  },
  {
   "cell_type": "code",
   "execution_count": 132,
   "id": "24bbc475",
   "metadata": {},
   "outputs": [
    {
     "data": {
      "text/html": [
       "<div>\n",
       "<style scoped>\n",
       "    .dataframe tbody tr th:only-of-type {\n",
       "        vertical-align: middle;\n",
       "    }\n",
       "\n",
       "    .dataframe tbody tr th {\n",
       "        vertical-align: top;\n",
       "    }\n",
       "\n",
       "    .dataframe thead th {\n",
       "        text-align: right;\n",
       "    }\n",
       "</style>\n",
       "<table border=\"1\" class=\"dataframe\">\n",
       "  <thead>\n",
       "    <tr style=\"text-align: right;\">\n",
       "      <th></th>\n",
       "      <th>id</th>\n",
       "      <th>case_id</th>\n",
       "      <th>party_number</th>\n",
       "      <th>vehicle_type</th>\n",
       "      <th>vehicle_transmission</th>\n",
       "      <th>vehicle_age</th>\n",
       "    </tr>\n",
       "  </thead>\n",
       "  <tbody>\n",
       "    <tr>\n",
       "      <th>count</th>\n",
       "      <td>1021234.00000</td>\n",
       "      <td>1021234</td>\n",
       "      <td>1021234.00000</td>\n",
       "      <td>1021234</td>\n",
       "      <td>997575</td>\n",
       "      <td>996652.00000</td>\n",
       "    </tr>\n",
       "    <tr>\n",
       "      <th>unique</th>\n",
       "      <td>NaN</td>\n",
       "      <td>792642</td>\n",
       "      <td>NaN</td>\n",
       "      <td>5</td>\n",
       "      <td>2</td>\n",
       "      <td>NaN</td>\n",
       "    </tr>\n",
       "    <tr>\n",
       "      <th>top</th>\n",
       "      <td>NaN</td>\n",
       "      <td>5196744</td>\n",
       "      <td>NaN</td>\n",
       "      <td>sedan</td>\n",
       "      <td>auto</td>\n",
       "      <td>NaN</td>\n",
       "    </tr>\n",
       "    <tr>\n",
       "      <th>freq</th>\n",
       "      <td>NaN</td>\n",
       "      <td>27</td>\n",
       "      <td>NaN</td>\n",
       "      <td>488665</td>\n",
       "      <td>502243</td>\n",
       "      <td>NaN</td>\n",
       "    </tr>\n",
       "    <tr>\n",
       "      <th>mean</th>\n",
       "      <td>760162.79971</td>\n",
       "      <td>NaN</td>\n",
       "      <td>1.60951</td>\n",
       "      <td>NaN</td>\n",
       "      <td>NaN</td>\n",
       "      <td>5.13709</td>\n",
       "    </tr>\n",
       "    <tr>\n",
       "      <th>std</th>\n",
       "      <td>438619.36421</td>\n",
       "      <td>NaN</td>\n",
       "      <td>0.67909</td>\n",
       "      <td>NaN</td>\n",
       "      <td>NaN</td>\n",
       "      <td>3.11031</td>\n",
       "    </tr>\n",
       "    <tr>\n",
       "      <th>min</th>\n",
       "      <td>1.00000</td>\n",
       "      <td>NaN</td>\n",
       "      <td>1.00000</td>\n",
       "      <td>NaN</td>\n",
       "      <td>NaN</td>\n",
       "      <td>0.00000</td>\n",
       "    </tr>\n",
       "    <tr>\n",
       "      <th>25%</th>\n",
       "      <td>380694.25000</td>\n",
       "      <td>NaN</td>\n",
       "      <td>1.00000</td>\n",
       "      <td>NaN</td>\n",
       "      <td>NaN</td>\n",
       "      <td>3.00000</td>\n",
       "    </tr>\n",
       "    <tr>\n",
       "      <th>50%</th>\n",
       "      <td>761762.50000</td>\n",
       "      <td>NaN</td>\n",
       "      <td>2.00000</td>\n",
       "      <td>NaN</td>\n",
       "      <td>NaN</td>\n",
       "      <td>5.00000</td>\n",
       "    </tr>\n",
       "    <tr>\n",
       "      <th>75%</th>\n",
       "      <td>1141347.75000</td>\n",
       "      <td>NaN</td>\n",
       "      <td>2.00000</td>\n",
       "      <td>NaN</td>\n",
       "      <td>NaN</td>\n",
       "      <td>7.00000</td>\n",
       "    </tr>\n",
       "    <tr>\n",
       "      <th>max</th>\n",
       "      <td>1517654.00000</td>\n",
       "      <td>NaN</td>\n",
       "      <td>27.00000</td>\n",
       "      <td>NaN</td>\n",
       "      <td>NaN</td>\n",
       "      <td>161.00000</td>\n",
       "    </tr>\n",
       "  </tbody>\n",
       "</table>\n",
       "</div>"
      ],
      "text/plain": [
       "                  id  case_id  party_number vehicle_type vehicle_transmission  \\\n",
       "count  1021234.00000  1021234 1021234.00000      1021234               997575   \n",
       "unique           NaN   792642           NaN            5                    2   \n",
       "top              NaN  5196744           NaN        sedan                 auto   \n",
       "freq             NaN       27           NaN       488665               502243   \n",
       "mean    760162.79971      NaN       1.60951          NaN                  NaN   \n",
       "std     438619.36421      NaN       0.67909          NaN                  NaN   \n",
       "min          1.00000      NaN       1.00000          NaN                  NaN   \n",
       "25%     380694.25000      NaN       1.00000          NaN                  NaN   \n",
       "50%     761762.50000      NaN       2.00000          NaN                  NaN   \n",
       "75%    1141347.75000      NaN       2.00000          NaN                  NaN   \n",
       "max    1517654.00000      NaN      27.00000          NaN                  NaN   \n",
       "\n",
       "        vehicle_age  \n",
       "count  996652.00000  \n",
       "unique          NaN  \n",
       "top             NaN  \n",
       "freq            NaN  \n",
       "mean        5.13709  \n",
       "std         3.11031  \n",
       "min         0.00000  \n",
       "25%         3.00000  \n",
       "50%         5.00000  \n",
       "75%         7.00000  \n",
       "max       161.00000  "
      ]
     },
     "execution_count": 132,
     "metadata": {},
     "output_type": "execute_result"
    }
   ],
   "source": [
    "vehicles.describe(include='all')"
   ]
  },
  {
   "cell_type": "code",
   "execution_count": 133,
   "id": "98cb7188",
   "metadata": {
    "scrolled": true
   },
   "outputs": [
    {
     "data": {
      "text/html": [
       "<div>\n",
       "<style scoped>\n",
       "    .dataframe tbody tr th:only-of-type {\n",
       "        vertical-align: middle;\n",
       "    }\n",
       "\n",
       "    .dataframe tbody tr th {\n",
       "        vertical-align: top;\n",
       "    }\n",
       "\n",
       "    .dataframe thead th {\n",
       "        text-align: right;\n",
       "    }\n",
       "</style>\n",
       "<table border=\"1\" class=\"dataframe\">\n",
       "  <thead>\n",
       "    <tr style=\"text-align: right;\">\n",
       "      <th></th>\n",
       "      <th>case_id</th>\n",
       "      <th>db_year</th>\n",
       "    </tr>\n",
       "  </thead>\n",
       "  <tbody>\n",
       "    <tr>\n",
       "      <th>count</th>\n",
       "      <td>1400000</td>\n",
       "      <td>1400000</td>\n",
       "    </tr>\n",
       "    <tr>\n",
       "      <th>unique</th>\n",
       "      <td>1400000</td>\n",
       "      <td>1</td>\n",
       "    </tr>\n",
       "    <tr>\n",
       "      <th>top</th>\n",
       "      <td>0081715</td>\n",
       "      <td>2021</td>\n",
       "    </tr>\n",
       "    <tr>\n",
       "      <th>freq</th>\n",
       "      <td>1</td>\n",
       "      <td>1400000</td>\n",
       "    </tr>\n",
       "  </tbody>\n",
       "</table>\n",
       "</div>"
      ],
      "text/plain": [
       "        case_id  db_year\n",
       "count   1400000  1400000\n",
       "unique  1400000        1\n",
       "top     0081715     2021\n",
       "freq          1  1400000"
      ]
     },
     "execution_count": 133,
     "metadata": {},
     "output_type": "execute_result"
    }
   ],
   "source": [
    "case_ids.describe(include='all')"
   ]
  },
  {
   "cell_type": "code",
   "execution_count": 134,
   "id": "513bd683",
   "metadata": {},
   "outputs": [
    {
     "data": {
      "text/html": [
       "<div>\n",
       "<style scoped>\n",
       "    .dataframe tbody tr th:only-of-type {\n",
       "        vertical-align: middle;\n",
       "    }\n",
       "\n",
       "    .dataframe tbody tr th {\n",
       "        vertical-align: top;\n",
       "    }\n",
       "\n",
       "    .dataframe thead th {\n",
       "        text-align: right;\n",
       "    }\n",
       "</style>\n",
       "<table border=\"1\" class=\"dataframe\">\n",
       "  <thead>\n",
       "    <tr style=\"text-align: right;\">\n",
       "      <th></th>\n",
       "      <th>case_id</th>\n",
       "      <th>db_year</th>\n",
       "    </tr>\n",
       "  </thead>\n",
       "  <tbody>\n",
       "    <tr>\n",
       "      <th>0</th>\n",
       "      <td>0081715</td>\n",
       "      <td>2021</td>\n",
       "    </tr>\n",
       "    <tr>\n",
       "      <th>1</th>\n",
       "      <td>0726202</td>\n",
       "      <td>2021</td>\n",
       "    </tr>\n",
       "    <tr>\n",
       "      <th>2</th>\n",
       "      <td>3858022</td>\n",
       "      <td>2021</td>\n",
       "    </tr>\n",
       "    <tr>\n",
       "      <th>3</th>\n",
       "      <td>3899441</td>\n",
       "      <td>2021</td>\n",
       "    </tr>\n",
       "    <tr>\n",
       "      <th>4</th>\n",
       "      <td>3899442</td>\n",
       "      <td>2021</td>\n",
       "    </tr>\n",
       "    <tr>\n",
       "      <th>...</th>\n",
       "      <td>...</td>\n",
       "      <td>...</td>\n",
       "    </tr>\n",
       "    <tr>\n",
       "      <th>1399995</th>\n",
       "      <td>5668365</td>\n",
       "      <td>2021</td>\n",
       "    </tr>\n",
       "    <tr>\n",
       "      <th>1399996</th>\n",
       "      <td>5668366</td>\n",
       "      <td>2021</td>\n",
       "    </tr>\n",
       "    <tr>\n",
       "      <th>1399997</th>\n",
       "      <td>5668367</td>\n",
       "      <td>2021</td>\n",
       "    </tr>\n",
       "    <tr>\n",
       "      <th>1399998</th>\n",
       "      <td>5668368</td>\n",
       "      <td>2021</td>\n",
       "    </tr>\n",
       "    <tr>\n",
       "      <th>1399999</th>\n",
       "      <td>5668369</td>\n",
       "      <td>2021</td>\n",
       "    </tr>\n",
       "  </tbody>\n",
       "</table>\n",
       "<p>1400000 rows × 2 columns</p>\n",
       "</div>"
      ],
      "text/plain": [
       "         case_id db_year\n",
       "0        0081715    2021\n",
       "1        0726202    2021\n",
       "2        3858022    2021\n",
       "3        3899441    2021\n",
       "4        3899442    2021\n",
       "...          ...     ...\n",
       "1399995  5668365    2021\n",
       "1399996  5668366    2021\n",
       "1399997  5668367    2021\n",
       "1399998  5668368    2021\n",
       "1399999  5668369    2021\n",
       "\n",
       "[1400000 rows x 2 columns]"
      ]
     },
     "execution_count": 134,
     "metadata": {},
     "output_type": "execute_result"
    }
   ],
   "source": [
    "case_ids"
   ]
  },
  {
   "cell_type": "markdown",
   "id": "d032ab47",
   "metadata": {},
   "source": [
    "### Вывод \n",
    "В case_id бесполезная информация, всего информаций о ДТП collisions count = 1400000, описание автомобиля меньше количества ДТП vehicles count = 1021234."
   ]
  },
  {
   "cell_type": "markdown",
   "id": "a2824b99",
   "metadata": {},
   "source": [
    "##  Проведите статистический анализ факторов ДТП"
   ]
  },
  {
   "cell_type": "markdown",
   "id": "b498309f",
   "metadata": {},
   "source": [
    "### Выясните, в какие месяцы происходит наибольшее количество аварий. Проанализируйте весь период наблюдений (таблица collisions)."
   ]
  },
  {
   "cell_type": "code",
   "execution_count": 135,
   "id": "6b3b544c",
   "metadata": {},
   "outputs": [],
   "source": [
    "query = '''\n",
    "SELECT date_part('month', collision_date)::int, count(1)\n",
    "FROM collisions\n",
    "Group by date_part('month', collision_date)\n",
    "order by count(1) desc\n",
    "'''\n",
    "\n",
    "collisions = pd.read_sql_query(query, con=engine) "
   ]
  },
  {
   "cell_type": "code",
   "execution_count": 136,
   "id": "9b7505fa",
   "metadata": {},
   "outputs": [
    {
     "data": {
      "image/png": "[encoded data removed]",
      "text/plain": [
       "<Figure size 720x504 with 1 Axes>"
      ]
     },
     "metadata": {
      "needs_background": "light"
     },
     "output_type": "display_data"
    }
   ],
   "source": [
    "collisions.index = collisions['date_part']\n",
    "collisions['count'].plot(kind='bar', figsize=(10,7), rot=0)\n",
    "plt.xlabel('Номер месяца')\n",
    "plt.ylabel('Количество ДТП')\n",
    "plt.show()"
   ]
  },
  {
   "cell_type": "markdown",
   "id": "66a1dd6b",
   "metadata": {},
   "source": [
    "Больше всего ДТП в марте, в первом полугодии больше дтп чем во втором."
   ]
  },
  {
   "cell_type": "markdown",
   "id": "22e1dbdd",
   "metadata": {},
   "source": [
    "### Скоро состоится первое совещание вашей рабочей группы. Чтобы обсуждение было конструктивным, каждый сотрудник должен понимать данные. Для этого вы должны создать подходящие аналитические задачи и поручить их решение коллегам. "
   ]
  },
  {
   "cell_type": "markdown",
   "id": "06b02890",
   "metadata": {},
   "source": [
    "####  Создайте не менее шести задач для коллег. Опирайтесь на примеры и таблицы."
   ]
  },
  {
   "cell_type": "markdown",
   "id": "b8be77a4",
   "metadata": {},
   "source": [
    "- Какая была погода в день января 2009 года с самым большим количиством ДТП за месяц.\n",
    "- В какой месяц было меньше всего ДТП с участием автомобилей с типом кузова SEDAN?\n",
    "- Вывести тип КПП который с самым большим количеством ДТП.\n",
    "- Вывести самый большой возраст автомобиля попавшего в ДТП.\n",
    "- Вывести самую большую сумму страховки автомобиля попавшего в ДТП.\n",
    "- Какой тип кузова автомабиля чаще попадает в ДТП на перекрестке?"
   ]
  },
  {
   "cell_type": "markdown",
   "id": "70ab4791",
   "metadata": {},
   "source": [
    "#### Пропишите порядок решения для двух задач из списка. Обязательное условие — решение этих задач должно включать связь не менее 2-х таблиц."
   ]
  },
  {
   "cell_type": "markdown",
   "id": "f08ca429",
   "metadata": {},
   "source": [
    "В какой месяц было меньше всего ДТП с участием автомобилей с типом кузова SEDAN?"
   ]
  },
  {
   "cell_type": "code",
   "execution_count": 137,
   "id": "87dfc7d3",
   "metadata": {},
   "outputs": [],
   "source": [
    "query = '''\n",
    "SELECT date_part('month', collision_date)::int, count(distinct(c.case_id))\n",
    "FROM collisions c\n",
    "left join vehicles v on c.case_id=v.case_id\n",
    "where vehicle_type = 'sedan'\n",
    "group by 1\n",
    "order by 2\n",
    "'''\n",
    "\n",
    "query_1 = pd.read_sql_query(query, con=engine) "
   ]
  },
  {
   "cell_type": "code",
   "execution_count": 138,
   "id": "84804321",
   "metadata": {},
   "outputs": [],
   "source": [
    "query_1.index = query_1['date_part']"
   ]
  },
  {
   "cell_type": "code",
   "execution_count": 139,
   "id": "e2b88449",
   "metadata": {},
   "outputs": [],
   "source": [
    "query_1 = query_1.drop('date_part', axis=1)"
   ]
  },
  {
   "cell_type": "code",
   "execution_count": 140,
   "id": "2d91e1f1",
   "metadata": {
    "scrolled": false
   },
   "outputs": [
    {
     "data": {
      "image/png": "[encoded data removed]",
      "text/plain": [
       "<Figure size 1080x720 with 1 Axes>"
      ]
     },
     "metadata": {
      "needs_background": "light"
     },
     "output_type": "display_data"
    }
   ],
   "source": [
    "query_1.plot(kind='bar', figsize=(15,10), rot=0, fontsize=16)\n",
    "plt.xlabel('Номер месяца', fontsize=16)\n",
    "plt.ylabel('Количество ДТП', fontsize=16)\n",
    "plt.show()"
   ]
  },
  {
   "cell_type": "markdown",
   "id": "f3b8a5b2",
   "metadata": {},
   "source": [
    "С января по май повышенный шанс на ДТП, в остальные месяцы меньше."
   ]
  },
  {
   "cell_type": "markdown",
   "id": "9a8b98e5",
   "metadata": {},
   "source": [
    "Какой тип кузова автомабиля чаще попадает в ДТП на перекрестке?"
   ]
  },
  {
   "cell_type": "code",
   "execution_count": 141,
   "id": "c641be17",
   "metadata": {},
   "outputs": [],
   "source": [
    "query = '''\n",
    "SELECT vehicle_type, count(1)\n",
    "FROM collisions c\n",
    "left join vehicles v on c.case_id=v.case_id\n",
    "where c.intersection = 1\n",
    "group by 1\n",
    "order by 2 desc\n",
    "'''\n",
    "\n",
    "query_2 = pd.read_sql_query(query, con=engine) "
   ]
  },
  {
   "cell_type": "code",
   "execution_count": 142,
   "id": "cc70cfbd",
   "metadata": {
    "scrolled": true
   },
   "outputs": [],
   "source": [
    "query_2.index = query_2['vehicle_type']"
   ]
  },
  {
   "cell_type": "code",
   "execution_count": 143,
   "id": "d80f6430",
   "metadata": {},
   "outputs": [
    {
     "data": {
      "text/html": [
       "<div>\n",
       "<style scoped>\n",
       "    .dataframe tbody tr th:only-of-type {\n",
       "        vertical-align: middle;\n",
       "    }\n",
       "\n",
       "    .dataframe tbody tr th {\n",
       "        vertical-align: top;\n",
       "    }\n",
       "\n",
       "    .dataframe thead th {\n",
       "        text-align: right;\n",
       "    }\n",
       "</style>\n",
       "<table border=\"1\" class=\"dataframe\">\n",
       "  <thead>\n",
       "    <tr style=\"text-align: right;\">\n",
       "      <th></th>\n",
       "      <th>vehicle_type</th>\n",
       "      <th>count</th>\n",
       "    </tr>\n",
       "    <tr>\n",
       "      <th>vehicle_type</th>\n",
       "      <th></th>\n",
       "      <th></th>\n",
       "    </tr>\n",
       "  </thead>\n",
       "  <tbody>\n",
       "    <tr>\n",
       "      <th>coupe</th>\n",
       "      <td>coupe</td>\n",
       "      <td>130359</td>\n",
       "    </tr>\n",
       "    <tr>\n",
       "      <th>sedan</th>\n",
       "      <td>sedan</td>\n",
       "      <td>111399</td>\n",
       "    </tr>\n",
       "    <tr>\n",
       "      <th>NaN</th>\n",
       "      <td>None</td>\n",
       "      <td>109536</td>\n",
       "    </tr>\n",
       "    <tr>\n",
       "      <th>minivan</th>\n",
       "      <td>minivan</td>\n",
       "      <td>16371</td>\n",
       "    </tr>\n",
       "    <tr>\n",
       "      <th>hatchback</th>\n",
       "      <td>hatchback</td>\n",
       "      <td>15490</td>\n",
       "    </tr>\n",
       "    <tr>\n",
       "      <th>other</th>\n",
       "      <td>other</td>\n",
       "      <td>283</td>\n",
       "    </tr>\n",
       "  </tbody>\n",
       "</table>\n",
       "</div>"
      ],
      "text/plain": [
       "             vehicle_type   count\n",
       "vehicle_type                     \n",
       "coupe               coupe  130359\n",
       "sedan               sedan  111399\n",
       "NaN                  None  109536\n",
       "minivan           minivan   16371\n",
       "hatchback       hatchback   15490\n",
       "other               other     283"
      ]
     },
     "execution_count": 143,
     "metadata": {},
     "output_type": "execute_result"
    }
   ],
   "source": [
    "query_2"
   ]
  },
  {
   "cell_type": "code",
   "execution_count": 144,
   "id": "976ef353",
   "metadata": {},
   "outputs": [
    {
     "data": {
      "image/png": "[encoded data removed]",
      "text/plain": [
       "<Figure size 1080x720 with 1 Axes>"
      ]
     },
     "metadata": {
      "needs_background": "light"
     },
     "output_type": "display_data"
    }
   ],
   "source": [
    "query_2.plot(kind='bar', figsize=(15,10), rot=90, fontsize=16)\n",
    "plt.xlabel('тип кузова', fontsize=16)\n",
    "plt.ylabel('Количество ДТП', fontsize=16)\n",
    "plt.show()"
   ]
  },
  {
   "cell_type": "markdown",
   "id": "87120380",
   "metadata": {},
   "source": [
    "Чаще всего в ДТП на перекрестке попадает автомобиль с типом coupe и sedan, ну и None но там любой тип мог быть."
   ]
  },
  {
   "cell_type": "markdown",
   "id": "aaa2ce46",
   "metadata": {},
   "source": [
    "## Создайте модель для оценки водительского риска"
   ]
  },
  {
   "cell_type": "markdown",
   "id": "622c4958",
   "metadata": {},
   "source": [
    "### Подготовьте набор данных на основе первичного предположения заказчика:\n",
    "- Выберите тип виновника — только машина (car). **"
   ]
  },
  {
   "cell_type": "code",
   "execution_count": 145,
   "id": "38d13179",
   "metadata": {},
   "outputs": [],
   "source": [
    "query = '''\n",
    "SELECT *\n",
    "FROM parties\n",
    "where party_type = 'car'\n",
    "'''\n",
    "\n",
    "parties = pd.read_sql_query(query, con=engine) "
   ]
  },
  {
   "cell_type": "markdown",
   "id": "f473978b",
   "metadata": {},
   "source": [
    "- Возьмите случаи, когда ДТП привело к любым значимым повреждениям автомобиля любого из участников — все, кроме типа SCRATCH (царапина).\n",
    "- Для моделирования возьмите данные только за 2012 год."
   ]
  },
  {
   "cell_type": "code",
   "execution_count": 146,
   "id": "076689d2",
   "metadata": {},
   "outputs": [],
   "source": [
    "query = '''\n",
    "SELECT *\n",
    "FROM collisions\n",
    "where collision_damage <> 'scratch' and date_Trunc('year', collision_date)::date = '2012-01-01'\n",
    "'''\n",
    "\n",
    "collisions = pd.read_sql_query(query, con=engine) "
   ]
  },
  {
   "cell_type": "markdown",
   "id": "08696a03",
   "metadata": {},
   "source": [
    "### Проведите первичный отбор факторов, необходимых для модели."
   ]
  },
  {
   "cell_type": "code",
   "execution_count": 147,
   "id": "dcaded8c",
   "metadata": {},
   "outputs": [],
   "source": [
    "columms =['party_type',     # Тип участника происшествия. Таблица parties\n",
    "          'party_sobriety', # Уровень трезвости виновника (точно может влиять) Таблица parties\n",
    "          'weather_1',      # Погода (может влиять) Таблица collisions\n",
    "          'road_surface',   # Состояние дороги (может влиять) Таблица collisions\n",
    "          'lighting',       # Освещение (может влиять) Таблица collisions\n",
    "          'location_type',  # Тип дороги (может влиять) Таблица collisions\n",
    "          'road_condition_1',# Дорожное состояние (может влиять) Таблица collisions\n",
    "          'control_device',\n",
    "          'party_drug_physical',\n",
    "          'vehicle_transmission'\n",
    "          ]"
   ]
  },
  {
   "cell_type": "code",
   "execution_count": 148,
   "id": "085f6470",
   "metadata": {},
   "outputs": [],
   "source": [
    "full = collisions.merge(parties.merge(vehicles, how='left', on=['case_id','party_number']), how='inner', on='case_id')"
   ]
  },
  {
   "cell_type": "code",
   "execution_count": 149,
   "id": "e0ee7cd7",
   "metadata": {},
   "outputs": [
    {
     "data": {
      "text/html": [
       "<div>\n",
       "<style scoped>\n",
       "    .dataframe tbody tr th:only-of-type {\n",
       "        vertical-align: middle;\n",
       "    }\n",
       "\n",
       "    .dataframe tbody tr th {\n",
       "        vertical-align: top;\n",
       "    }\n",
       "\n",
       "    .dataframe thead th {\n",
       "        text-align: right;\n",
       "    }\n",
       "</style>\n",
       "<table border=\"1\" class=\"dataframe\">\n",
       "  <thead>\n",
       "    <tr style=\"text-align: right;\">\n",
       "      <th></th>\n",
       "      <th>case_id</th>\n",
       "      <th>county_city_location</th>\n",
       "      <th>county_location</th>\n",
       "      <th>distance</th>\n",
       "      <th>direction</th>\n",
       "      <th>intersection</th>\n",
       "      <th>weather_1</th>\n",
       "      <th>location_type</th>\n",
       "      <th>collision_damage</th>\n",
       "      <th>party_count</th>\n",
       "      <th>primary_collision_factor</th>\n",
       "      <th>pcf_violation_category</th>\n",
       "      <th>type_of_collision</th>\n",
       "      <th>motor_vehicle_involved_with</th>\n",
       "      <th>road_surface</th>\n",
       "      <th>road_condition_1</th>\n",
       "      <th>lighting</th>\n",
       "      <th>control_device</th>\n",
       "      <th>collision_date</th>\n",
       "      <th>collision_time</th>\n",
       "      <th>id_x</th>\n",
       "      <th>party_number</th>\n",
       "      <th>party_type</th>\n",
       "      <th>at_fault</th>\n",
       "      <th>insurance_premium</th>\n",
       "      <th>party_sobriety</th>\n",
       "      <th>party_drug_physical</th>\n",
       "      <th>cellphone_in_use</th>\n",
       "      <th>id_y</th>\n",
       "      <th>vehicle_type</th>\n",
       "      <th>vehicle_transmission</th>\n",
       "      <th>vehicle_age</th>\n",
       "    </tr>\n",
       "  </thead>\n",
       "  <tbody>\n",
       "    <tr>\n",
       "      <th>0</th>\n",
       "      <td>5403029</td>\n",
       "      <td>4313</td>\n",
       "      <td>santa clara</td>\n",
       "      <td>0.00000</td>\n",
       "      <td>None</td>\n",
       "      <td>1.00000</td>\n",
       "      <td>fog</td>\n",
       "      <td>None</td>\n",
       "      <td>fatal</td>\n",
       "      <td>3</td>\n",
       "      <td>vehicle code violation</td>\n",
       "      <td>automobile right of way</td>\n",
       "      <td>broadside</td>\n",
       "      <td>other motor vehicle</td>\n",
       "      <td>wet</td>\n",
       "      <td>normal</td>\n",
       "      <td>daylight</td>\n",
       "      <td>None</td>\n",
       "      <td>2012-01-03</td>\n",
       "      <td>07:29:00</td>\n",
       "      <td>2312509</td>\n",
       "      <td>1</td>\n",
       "      <td>car</td>\n",
       "      <td>1</td>\n",
       "      <td>25.00000</td>\n",
       "      <td>impairment unknown</td>\n",
       "      <td>G</td>\n",
       "      <td>NaN</td>\n",
       "      <td>1274766.00000</td>\n",
       "      <td>coupe</td>\n",
       "      <td>auto</td>\n",
       "      <td>4.00000</td>\n",
       "    </tr>\n",
       "    <tr>\n",
       "      <th>1</th>\n",
       "      <td>5403029</td>\n",
       "      <td>4313</td>\n",
       "      <td>santa clara</td>\n",
       "      <td>0.00000</td>\n",
       "      <td>None</td>\n",
       "      <td>1.00000</td>\n",
       "      <td>fog</td>\n",
       "      <td>None</td>\n",
       "      <td>fatal</td>\n",
       "      <td>3</td>\n",
       "      <td>vehicle code violation</td>\n",
       "      <td>automobile right of way</td>\n",
       "      <td>broadside</td>\n",
       "      <td>other motor vehicle</td>\n",
       "      <td>wet</td>\n",
       "      <td>normal</td>\n",
       "      <td>daylight</td>\n",
       "      <td>None</td>\n",
       "      <td>2012-01-03</td>\n",
       "      <td>07:29:00</td>\n",
       "      <td>2312510</td>\n",
       "      <td>2</td>\n",
       "      <td>car</td>\n",
       "      <td>0</td>\n",
       "      <td>18.00000</td>\n",
       "      <td>had not been drinking</td>\n",
       "      <td>None</td>\n",
       "      <td>NaN</td>\n",
       "      <td>NaN</td>\n",
       "      <td>NaN</td>\n",
       "      <td>NaN</td>\n",
       "      <td>NaN</td>\n",
       "    </tr>\n",
       "    <tr>\n",
       "      <th>2</th>\n",
       "      <td>5403029</td>\n",
       "      <td>4313</td>\n",
       "      <td>santa clara</td>\n",
       "      <td>0.00000</td>\n",
       "      <td>None</td>\n",
       "      <td>1.00000</td>\n",
       "      <td>fog</td>\n",
       "      <td>None</td>\n",
       "      <td>fatal</td>\n",
       "      <td>3</td>\n",
       "      <td>vehicle code violation</td>\n",
       "      <td>automobile right of way</td>\n",
       "      <td>broadside</td>\n",
       "      <td>other motor vehicle</td>\n",
       "      <td>wet</td>\n",
       "      <td>normal</td>\n",
       "      <td>daylight</td>\n",
       "      <td>None</td>\n",
       "      <td>2012-01-03</td>\n",
       "      <td>07:29:00</td>\n",
       "      <td>2312511</td>\n",
       "      <td>3</td>\n",
       "      <td>car</td>\n",
       "      <td>0</td>\n",
       "      <td>16.00000</td>\n",
       "      <td>had not been drinking</td>\n",
       "      <td>None</td>\n",
       "      <td>NaN</td>\n",
       "      <td>NaN</td>\n",
       "      <td>NaN</td>\n",
       "      <td>NaN</td>\n",
       "      <td>NaN</td>\n",
       "    </tr>\n",
       "  </tbody>\n",
       "</table>\n",
       "</div>"
      ],
      "text/plain": [
       "   case_id county_city_location county_location  distance direction  \\\n",
       "0  5403029                 4313     santa clara   0.00000      None   \n",
       "1  5403029                 4313     santa clara   0.00000      None   \n",
       "2  5403029                 4313     santa clara   0.00000      None   \n",
       "\n",
       "   intersection weather_1 location_type collision_damage  party_count  \\\n",
       "0       1.00000       fog          None            fatal            3   \n",
       "1       1.00000       fog          None            fatal            3   \n",
       "2       1.00000       fog          None            fatal            3   \n",
       "\n",
       "  primary_collision_factor   pcf_violation_category type_of_collision  \\\n",
       "0   vehicle code violation  automobile right of way         broadside   \n",
       "1   vehicle code violation  automobile right of way         broadside   \n",
       "2   vehicle code violation  automobile right of way         broadside   \n",
       "\n",
       "  motor_vehicle_involved_with road_surface road_condition_1  lighting  \\\n",
       "0         other motor vehicle          wet           normal  daylight   \n",
       "1         other motor vehicle          wet           normal  daylight   \n",
       "2         other motor vehicle          wet           normal  daylight   \n",
       "\n",
       "  control_device collision_date collision_time     id_x  party_number  \\\n",
       "0           None     2012-01-03       07:29:00  2312509             1   \n",
       "1           None     2012-01-03       07:29:00  2312510             2   \n",
       "2           None     2012-01-03       07:29:00  2312511             3   \n",
       "\n",
       "  party_type  at_fault  insurance_premium         party_sobriety  \\\n",
       "0        car         1           25.00000     impairment unknown   \n",
       "1        car         0           18.00000  had not been drinking   \n",
       "2        car         0           16.00000  had not been drinking   \n",
       "\n",
       "  party_drug_physical  cellphone_in_use          id_y vehicle_type  \\\n",
       "0                   G               NaN 1274766.00000        coupe   \n",
       "1                None               NaN           NaN          NaN   \n",
       "2                None               NaN           NaN          NaN   \n",
       "\n",
       "  vehicle_transmission  vehicle_age  \n",
       "0                 auto      4.00000  \n",
       "1                  NaN          NaN  \n",
       "2                  NaN          NaN  "
      ]
     },
     "execution_count": 149,
     "metadata": {},
     "output_type": "execute_result"
    }
   ],
   "source": [
    "pd.set_option('display.max_columns', 150)\n",
    "full[full['case_id']=='5403029']"
   ]
  },
  {
   "cell_type": "code",
   "execution_count": 150,
   "id": "be6db227",
   "metadata": {},
   "outputs": [
    {
     "data": {
      "text/plain": [
       "(196837, 32)"
      ]
     },
     "execution_count": 150,
     "metadata": {},
     "output_type": "execute_result"
    }
   ],
   "source": [
    "full.shape"
   ]
  },
  {
   "cell_type": "code",
   "execution_count": null,
   "id": "06e41714",
   "metadata": {},
   "outputs": [],
   "source": []
  },
  {
   "cell_type": "markdown",
   "id": "a3f432da",
   "metadata": {},
   "source": [
    "### Проведите статистическое исследование отобранных факторов."
   ]
  },
  {
   "cell_type": "code",
   "execution_count": 151,
   "id": "7c9bcc82",
   "metadata": {
    "scrolled": true
   },
   "outputs": [
    {
     "data": {
      "text/plain": [
       "party_type             0.00000\n",
       "party_sobriety         0.01842\n",
       "weather_1              0.00332\n",
       "road_surface           0.00647\n",
       "lighting               0.00366\n",
       "location_type          0.55620\n",
       "road_condition_1       0.00581\n",
       "control_device         0.00494\n",
       "party_drug_physical    0.87224\n",
       "vehicle_transmission   0.71860\n",
       "dtype: float64"
      ]
     },
     "execution_count": 151,
     "metadata": {},
     "output_type": "execute_result"
    }
   ],
   "source": [
    "full[columms].isna().mean()"
   ]
  },
  {
   "cell_type": "code",
   "execution_count": 152,
   "id": "89960bbc",
   "metadata": {
    "scrolled": true
   },
   "outputs": [
    {
     "data": {
      "text/plain": [
       "car    196837\n",
       "Name: party_type, dtype: int64"
      ]
     },
     "execution_count": 152,
     "metadata": {},
     "output_type": "execute_result"
    }
   ],
   "source": [
    "full['party_type'].value_counts()"
   ]
  },
  {
   "cell_type": "markdown",
   "id": "77e78550",
   "metadata": {},
   "source": [
    "Все car бесполезный фактор можно убрать."
   ]
  },
  {
   "cell_type": "code",
   "execution_count": 153,
   "id": "bf7c3729",
   "metadata": {
    "scrolled": true
   },
   "outputs": [
    {
     "data": {
      "text/plain": [
       "had not been drinking                     157684\n",
       "impairment unknown                         20525\n",
       "had been drinking, under influence         10270\n",
       "Not Stated party_sobriety                   3625\n",
       "had been drinking, impairment unknown       1706\n",
       "not applicable                              1674\n",
       "had been drinking, not under influence      1353\n",
       "Name: party_sobriety, dtype: int64"
      ]
     },
     "execution_count": 153,
     "metadata": {},
     "output_type": "execute_result"
    }
   ],
   "source": [
    "full['party_sobriety'] = full['party_sobriety'].fillna('Not Stated party_sobriety')\n",
    "full['party_sobriety'].value_counts()"
   ]
  },
  {
   "cell_type": "code",
   "execution_count": 154,
   "id": "30f88da0",
   "metadata": {
    "scrolled": true
   },
   "outputs": [
    {
     "data": {
      "text/plain": [
       "clear                   157335\n",
       "cloudy                   29497\n",
       "raining                   8112\n",
       "Not Stated weather_1       654\n",
       "fog                        584\n",
       "snowing                    433\n",
       "other weather_1            175\n",
       "wind                        47\n",
       "Name: weather_1, dtype: int64"
      ]
     },
     "execution_count": 154,
     "metadata": {},
     "output_type": "execute_result"
    }
   ],
   "source": [
    "full['weather_1'] = full['weather_1'].fillna('Not Stated weather_1')\n",
    "full.loc[full['weather_1']=='other','weather_1'] = 'other weather_1'\n",
    "full['weather_1'].value_counts()"
   ]
  },
  {
   "cell_type": "code",
   "execution_count": 155,
   "id": "87d2f736",
   "metadata": {
    "scrolled": true
   },
   "outputs": [
    {
     "data": {
      "text/plain": [
       "dry                        175564\n",
       "wet                         18920\n",
       "Not Stated road_surface      1273\n",
       "snowy                         926\n",
       "slippery                      154\n",
       "Name: road_surface, dtype: int64"
      ]
     },
     "execution_count": 155,
     "metadata": {},
     "output_type": "execute_result"
    }
   ],
   "source": [
    "full['road_surface'] = full['road_surface'].fillna('Not Stated road_surface')\n",
    "full['road_surface'].value_counts()"
   ]
  },
  {
   "cell_type": "code",
   "execution_count": 156,
   "id": "091bcc31",
   "metadata": {
    "scrolled": true
   },
   "outputs": [
    {
     "data": {
      "text/plain": [
       "daylight                                   136370\n",
       "dark with street lights                     38095\n",
       "dark with no street lights                  14430\n",
       "dusk or dawn                                 6775\n",
       "Not Stated lighting                           721\n",
       "dark with street lights not functioning       446\n",
       "Name: lighting, dtype: int64"
      ]
     },
     "execution_count": 156,
     "metadata": {},
     "output_type": "execute_result"
    }
   ],
   "source": [
    "full['lighting'] = full['lighting'].fillna('Not Stated lighting')\n",
    "full['lighting'].value_counts()"
   ]
  },
  {
   "cell_type": "code",
   "execution_count": 157,
   "id": "771acad0",
   "metadata": {
    "scrolled": true
   },
   "outputs": [
    {
     "data": {
      "text/plain": [
       "Not Stated location_type    109480\n",
       "highway                      71914\n",
       "ramp                         11526\n",
       "intersection                  3917\n",
       "Name: location_type, dtype: int64"
      ]
     },
     "execution_count": 157,
     "metadata": {},
     "output_type": "execute_result"
    }
   ],
   "source": [
    "full['location_type'] = full['location_type'].fillna('Not Stated location_type')\n",
    "full['location_type'].value_counts()"
   ]
  },
  {
   "cell_type": "code",
   "execution_count": 158,
   "id": "dc8f72dc",
   "metadata": {
    "scrolled": true
   },
   "outputs": [
    {
     "data": {
      "text/plain": [
       "normal                         189563\n",
       "construction                     3355\n",
       "Not Stated road_condition_1      1143\n",
       "other road_condition_1            789\n",
       "obstruction                       729\n",
       "holes                             626\n",
       "loose material                    310\n",
       "reduced width                     217\n",
       "flooded                           105\n",
       "Name: road_condition_1, dtype: int64"
      ]
     },
     "execution_count": 158,
     "metadata": {},
     "output_type": "execute_result"
    }
   ],
   "source": [
    "full['road_condition_1'] = full['road_condition_1'].fillna('Not Stated road_condition_1')\n",
    "full.loc[full['road_condition_1']=='other','road_condition_1'] = 'other road_condition_1'\n",
    "full['road_condition_1'].value_counts()"
   ]
  },
  {
   "cell_type": "code",
   "execution_count": 159,
   "id": "94f10484",
   "metadata": {
    "scrolled": true
   },
   "outputs": [
    {
     "data": {
      "text/plain": [
       "none                         132665\n",
       "functioning                   62639\n",
       "Not Stated control_device       973\n",
       "not functioning                 444\n",
       "obscured                        116\n",
       "Name: control_device, dtype: int64"
      ]
     },
     "execution_count": 159,
     "metadata": {},
     "output_type": "execute_result"
    }
   ],
   "source": [
    "full['control_device'] = full['control_device'].fillna('Not Stated control_device')\n",
    "full['control_device'].value_counts()"
   ]
  },
  {
   "cell_type": "code",
   "execution_count": 160,
   "id": "2bc50bc1",
   "metadata": {
    "scrolled": true
   },
   "outputs": [
    {
     "data": {
      "text/plain": [
       "Not Stated party_drug_physical    171689\n",
       "G                                  20525\n",
       "not applicable                      1674\n",
       "under drug influence                1516\n",
       "sleepy/fatigued                     1096\n",
       "impairment - physical                337\n",
       "Name: party_drug_physical, dtype: int64"
      ]
     },
     "execution_count": 160,
     "metadata": {},
     "output_type": "execute_result"
    }
   ],
   "source": [
    "full['party_drug_physical'] = full['party_drug_physical'].fillna('Not Stated party_drug_physical')\n",
    "full['party_drug_physical'].value_counts()"
   ]
  },
  {
   "cell_type": "code",
   "execution_count": 161,
   "id": "156ad709",
   "metadata": {
    "scrolled": true
   },
   "outputs": [
    {
     "data": {
      "text/plain": [
       "Not Stated vehicle_transmission    141448\n",
       "manual                              29318\n",
       "auto                                26071\n",
       "Name: vehicle_transmission, dtype: int64"
      ]
     },
     "execution_count": 161,
     "metadata": {},
     "output_type": "execute_result"
    }
   ],
   "source": [
    "full['vehicle_transmission'] = full['vehicle_transmission'].fillna('Not Stated vehicle_transmission')\n",
    "full['vehicle_transmission'].value_counts()"
   ]
  },
  {
   "cell_type": "code",
   "execution_count": 162,
   "id": "a6aae138",
   "metadata": {},
   "outputs": [
    {
     "data": {
      "text/plain": [
       "0.0"
      ]
     },
     "execution_count": 162,
     "metadata": {},
     "output_type": "execute_result"
    }
   ],
   "source": [
    "full['at_fault'].isna().mean()"
   ]
  },
  {
   "cell_type": "code",
   "execution_count": 163,
   "id": "a45dd8c5",
   "metadata": {
    "scrolled": true
   },
   "outputs": [
    {
     "data": {
      "text/plain": [
       "1    103047\n",
       "0     93790\n",
       "Name: at_fault, dtype: int64"
      ]
     },
     "execution_count": 163,
     "metadata": {},
     "output_type": "execute_result"
    }
   ],
   "source": [
    "full['at_fault'].value_counts()"
   ]
  },
  {
   "cell_type": "code",
   "execution_count": null,
   "id": "250f2ead",
   "metadata": {},
   "outputs": [],
   "source": []
  },
  {
   "cell_type": "code",
   "execution_count": 166,
   "id": "eb885577",
   "metadata": {
    "scrolled": true
   },
   "outputs": [
    {
     "data": {
      "text/plain": [
       "0.7228468224978027"
      ]
     },
     "execution_count": 166,
     "metadata": {},
     "output_type": "execute_result"
    }
   ],
   "source": [
    "full.vehicle_age.isna().mean()"
   ]
  },
  {
   "cell_type": "code",
   "execution_count": 88,
   "id": "a8975150",
   "metadata": {},
   "outputs": [],
   "source": [
    "full = full[full['vehicle_age'] < 10]"
   ]
  },
  {
   "cell_type": "code",
   "execution_count": 89,
   "id": "570b2f26",
   "metadata": {},
   "outputs": [],
   "source": [
    "columms =[#'party_type',     # Тип участника происшествия. Таблица parties\n",
    "          'party_sobriety', # Уровень трезвости виновника (точно может влиять) Таблица parties\n",
    "          'weather_1',      # Погода (может влиять) Таблица collisions\n",
    "          'road_surface',   # Состояние дороги (может влиять) Таблица collisions\n",
    "          'lighting',       # Освещение (может влиять) Таблица collisions\n",
    "          'location_type',  # Тип дороги (может влиять) Таблица collisions\n",
    "          'road_condition_1',# Дорожное состояние (может влиять) Таблица collisions\n",
    "          'control_device',\n",
    "          'party_drug_physical',\n",
    "          'vehicle_transmission'\n",
    "          ] "
   ]
  },
  {
   "cell_type": "code",
   "execution_count": 90,
   "id": "4327bfb4",
   "metadata": {},
   "outputs": [],
   "source": [
    "train = pd.get_dummies(full['party_sobriety'])"
   ]
  },
  {
   "cell_type": "code",
   "execution_count": 91,
   "id": "709f093e",
   "metadata": {
    "scrolled": false
   },
   "outputs": [],
   "source": [
    "train = train.merge(pd.get_dummies(full['weather_1']), left_index=True, right_index=True,how='left') \\\n",
    "             .merge(pd.get_dummies(full['road_surface']), left_index=True, right_index=True,how='left') \\\n",
    "             .merge(pd.get_dummies(full['lighting']), left_index=True, right_index=True,how='left') \\\n",
    "             .merge(pd.get_dummies(full['location_type']), left_index=True, right_index=True,how='left') \\\n",
    "             .merge(pd.get_dummies(full['road_condition_1']), left_index=True, right_index=True,how='left') \\\n",
    "             .merge(pd.get_dummies(full['control_device']), left_index=True, right_index=True,how='left') \\\n",
    "             .merge(pd.get_dummies(full['party_drug_physical']), left_index=True, right_index=True,how='left') \\\n",
    "             .merge(pd.get_dummies(full['vehicle_transmission']), left_index=True, right_index=True,how='left') "
   ]
  },
  {
   "cell_type": "code",
   "execution_count": 92,
   "id": "d3ff9be2",
   "metadata": {},
   "outputs": [],
   "source": [
    "X_train, X_test, y_train, test_y = train_test_split(train, full['at_fault'], test_size=0.25, random_state=1234)"
   ]
  },
  {
   "cell_type": "markdown",
   "id": "20f9ce86",
   "metadata": {},
   "source": [
    "## Найдите лучшую модель"
   ]
  },
  {
   "cell_type": "markdown",
   "id": "2f213330",
   "metadata": {},
   "source": [
    "### Catboost"
   ]
  },
  {
   "cell_type": "code",
   "execution_count": 93,
   "id": "b6972477",
   "metadata": {
    "scrolled": true
   },
   "outputs": [
    {
     "name": "stdout",
     "output_type": "stream",
     "text": [
      "0:\tlearn: 0.6890545\ttotal: 166ms\tremaining: 33.1s\n",
      "199:\tlearn: 0.6174125\ttotal: 1.64s\tremaining: 0us\n",
      "0:\tlearn: 0.6890640\ttotal: 8.34ms\tremaining: 1.66s\n",
      "199:\tlearn: 0.6162162\ttotal: 1.46s\tremaining: 0us\n",
      "0:\tlearn: 0.6891034\ttotal: 7.85ms\tremaining: 1.56s\n",
      "199:\tlearn: 0.6159299\ttotal: 1.47s\tremaining: 0us\n",
      "0:\tlearn: 0.6891897\ttotal: 8.61ms\tremaining: 1.71s\n",
      "199:\tlearn: 0.6158926\ttotal: 1.46s\tremaining: 0us\n",
      "0:\tlearn: 0.6890545\ttotal: 8ms\tremaining: 4.79s\n",
      "200:\tlearn: 0.6173907\ttotal: 1.51s\tremaining: 2.99s\n",
      "400:\tlearn: 0.6135918\ttotal: 2.96s\tremaining: 1.47s\n",
      "599:\tlearn: 0.6103804\ttotal: 4.42s\tremaining: 0us\n",
      "0:\tlearn: 0.6890640\ttotal: 8.21ms\tremaining: 4.92s\n",
      "200:\tlearn: 0.6161812\ttotal: 1.5s\tremaining: 2.99s\n",
      "400:\tlearn: 0.6121840\ttotal: 2.96s\tremaining: 1.47s\n",
      "599:\tlearn: 0.6088561\ttotal: 4.43s\tremaining: 0us\n",
      "0:\tlearn: 0.6891034\ttotal: 8.11ms\tremaining: 4.86s\n",
      "200:\tlearn: 0.6159022\ttotal: 1.48s\tremaining: 2.93s\n",
      "400:\tlearn: 0.6118330\ttotal: 2.95s\tremaining: 1.47s\n",
      "599:\tlearn: 0.6085210\ttotal: 4.45s\tremaining: 0us\n",
      "0:\tlearn: 0.6891897\ttotal: 8.35ms\tremaining: 5s\n",
      "200:\tlearn: 0.6158687\ttotal: 1.49s\tremaining: 2.96s\n",
      "400:\tlearn: 0.6118026\ttotal: 2.94s\tremaining: 1.46s\n",
      "599:\tlearn: 0.6084694\ttotal: 4.42s\tremaining: 0us\n",
      "0:\tlearn: 0.6801574\ttotal: 8.3ms\tremaining: 1.65s\n",
      "199:\tlearn: 0.6094775\ttotal: 1.51s\tremaining: 0us\n",
      "0:\tlearn: 0.6801829\ttotal: 8.19ms\tremaining: 1.63s\n",
      "199:\tlearn: 0.6080722\ttotal: 1.47s\tremaining: 0us\n",
      "0:\tlearn: 0.6803050\ttotal: 8.37ms\tremaining: 1.67s\n",
      "199:\tlearn: 0.6076900\ttotal: 1.5s\tremaining: 0us\n",
      "0:\tlearn: 0.6805761\ttotal: 7.29ms\tremaining: 1.45s\n",
      "199:\tlearn: 0.6077448\ttotal: 1.48s\tremaining: 0us\n",
      "0:\tlearn: 0.6801574\ttotal: 8.06ms\tremaining: 4.83s\n",
      "200:\tlearn: 0.6094373\ttotal: 1.5s\tremaining: 2.97s\n",
      "400:\tlearn: 0.6044772\ttotal: 2.99s\tremaining: 1.48s\n",
      "599:\tlearn: 0.6014242\ttotal: 4.46s\tremaining: 0us\n",
      "0:\tlearn: 0.6801829\ttotal: 7.99ms\tremaining: 4.79s\n",
      "200:\tlearn: 0.6080031\ttotal: 1.48s\tremaining: 2.93s\n",
      "400:\tlearn: 0.6025933\ttotal: 2.95s\tremaining: 1.46s\n",
      "599:\tlearn: 0.5994018\ttotal: 4.41s\tremaining: 0us\n",
      "0:\tlearn: 0.6803050\ttotal: 7.88ms\tremaining: 4.72s\n",
      "200:\tlearn: 0.6076210\ttotal: 1.47s\tremaining: 2.93s\n",
      "400:\tlearn: 0.6023304\ttotal: 2.96s\tremaining: 1.47s\n",
      "599:\tlearn: 0.5992524\ttotal: 4.47s\tremaining: 0us\n",
      "0:\tlearn: 0.6805761\ttotal: 8.14ms\tremaining: 4.88s\n",
      "200:\tlearn: 0.6076979\ttotal: 1.49s\tremaining: 2.96s\n",
      "400:\tlearn: 0.6024245\ttotal: 3s\tremaining: 1.49s\n",
      "599:\tlearn: 0.5995606\ttotal: 4.48s\tremaining: 0us\n",
      "0:\tlearn: 0.6891086\ttotal: 9.09ms\tremaining: 1.81s\n",
      "199:\tlearn: 0.6170519\ttotal: 1.63s\tremaining: 0us\n",
      "The best hyperparameters are  {'custom_loss': 'F1', 'learning_rate': 0.03, 'n_estimators': 200, 'verbose': 200}\n"
     ]
    }
   ],
   "source": [
    "cat_model = CatBoostClassifier()\n",
    "# set up our search grid\n",
    "param_grid = {'custom_loss':['F1'],\n",
    "              \"n_estimators\": [200, 600],\n",
    "              \"verbose\": [200],\n",
    "              \"learning_rate\": [0.03, 0.1]}\n",
    "\n",
    "# try out every combination of the above values\n",
    "search = GridSearchCV(cat_model, param_grid, cv=4).fit(X_train, y_train)\n",
    "\n",
    "print(\"The best hyperparameters are \",search.best_params_)"
   ]
  },
  {
   "cell_type": "code",
   "execution_count": 94,
   "id": "fd1b21f5",
   "metadata": {},
   "outputs": [],
   "source": [
    "cat_model = CatBoostClassifier(learning_rate = search.best_params_[\"learning_rate\"],\n",
    "                              n_estimators  = search.best_params_[\"n_estimators\"],\n",
    "                              verbose       = search.best_params_[\"verbose\"],\n",
    "                              custom_loss  = search.best_params_[\"custom_loss\"])"
   ]
  },
  {
   "cell_type": "code",
   "execution_count": 95,
   "id": "b030c197",
   "metadata": {
    "scrolled": false
   },
   "outputs": [
    {
     "data": {
      "application/vnd.jupyter.widget-view+json": {
       "model_id": "262c330e9d064fb588245e42eeb32367",
       "version_major": 2,
       "version_minor": 0
      },
      "text/plain": [
       "MetricVisualizer(layout=Layout(align_self='stretch', height='500px'))"
      ]
     },
     "metadata": {},
     "output_type": "display_data"
    },
    {
     "name": "stdout",
     "output_type": "stream",
     "text": [
      "0:\tlearn: 0.6891086\ttest: 0.6892422\tbest: 0.6892422 (0)\ttotal: 24.2ms\tremaining: 4.81s\n",
      "199:\tlearn: 0.6170519\ttest: 0.6201968\tbest: 0.6201968 (199)\ttotal: 1.78s\tremaining: 0us\n",
      "\n",
      "bestTest = 0.620196812\n",
      "bestIteration = 199\n",
      "\n"
     ]
    }
   ],
   "source": [
    "cat_model.fit(X_train,\n",
    "              y_train,\n",
    "#               cat_features=cat_features,\n",
    "              eval_set=(X_test, test_y),\n",
    "              plot=True)\n",
    "prediction_catboost = cat_model.predict(X_test)"
   ]
  },
  {
   "cell_type": "code",
   "execution_count": 96,
   "id": "10e2fdde",
   "metadata": {
    "scrolled": false
   },
   "outputs": [
    {
     "name": "stdout",
     "output_type": "stream",
     "text": [
      "              precision    recall  f1-score   support\n",
      "\n",
      "           0       0.58      0.82      0.68      6088\n",
      "           1       0.71      0.43      0.54      6280\n",
      "\n",
      "    accuracy                           0.62     12368\n",
      "   macro avg       0.64      0.62      0.61     12368\n",
      "weighted avg       0.65      0.62      0.61     12368\n",
      "\n"
     ]
    }
   ],
   "source": [
    "print(classification_report(test_y, prediction_catboost))"
   ]
  },
  {
   "cell_type": "markdown",
   "id": "e4862151",
   "metadata": {},
   "source": [
    "### LGBMRegressor"
   ]
  },
  {
   "cell_type": "code",
   "execution_count": 97,
   "id": "d5b0091d",
   "metadata": {},
   "outputs": [],
   "source": [
    "X_train.columns = [i.replace('-', ' ').replace('/', ' ').replace(',', '') for i in X_train.columns.values]\n",
    "X_test.columns = [i.replace('-', ' ').replace('/', ' ').replace(',', '') for i in X_train.columns.values]"
   ]
  },
  {
   "cell_type": "code",
   "execution_count": 98,
   "id": "65b37964",
   "metadata": {},
   "outputs": [
    {
     "name": "stdout",
     "output_type": "stream",
     "text": [
      "The best hyperparameters are  {'learning_rate': 0.03, 'max_depth': 12, 'n_estimators': 200}\n"
     ]
    }
   ],
   "source": [
    "lgbm_model = LGBMClassifier()\n",
    "# set up our search grid\n",
    "param_grid = {\"max_depth\":    [12],\n",
    "              \"n_estimators\": [200, 600],\n",
    "              \"learning_rate\": [0.03, 0.07]}\n",
    "\n",
    "# try out every combination of the above values\n",
    "search = GridSearchCV(lgbm_model, param_grid, cv=4).fit(X_train, y_train)\n",
    "\n",
    "print(\"The best hyperparameters are \",search.best_params_)"
   ]
  },
  {
   "cell_type": "code",
   "execution_count": 99,
   "id": "c61a0781",
   "metadata": {},
   "outputs": [],
   "source": [
    "lgbm_model = LGBMClassifier(learning_rate = search.best_params_[\"learning_rate\"],\n",
    "                           n_estimators  = search.best_params_[\"n_estimators\"],\n",
    "                           max_depth     = search.best_params_[\"max_depth\"])"
   ]
  },
  {
   "cell_type": "code",
   "execution_count": 100,
   "id": "dbc8bfa2",
   "metadata": {},
   "outputs": [
    {
     "data": {
      "text/plain": [
       "LGBMClassifier(learning_rate=0.03, max_depth=12, n_estimators=200)"
      ]
     },
     "execution_count": 100,
     "metadata": {},
     "output_type": "execute_result"
    }
   ],
   "source": [
    "lgbm_model.fit(X_train,\n",
    "               y_train)"
   ]
  },
  {
   "cell_type": "code",
   "execution_count": 101,
   "id": "a828794d",
   "metadata": {},
   "outputs": [],
   "source": [
    "prediction_lgbm = lgbm_model.predict(X_test)"
   ]
  },
  {
   "cell_type": "code",
   "execution_count": 102,
   "id": "15f51d21",
   "metadata": {
    "scrolled": false
   },
   "outputs": [
    {
     "name": "stdout",
     "output_type": "stream",
     "text": [
      "              precision    recall  f1-score   support\n",
      "\n",
      "           0       0.58      0.81      0.68      6088\n",
      "           1       0.71      0.43      0.54      6280\n",
      "\n",
      "    accuracy                           0.62     12368\n",
      "   macro avg       0.64      0.62      0.61     12368\n",
      "weighted avg       0.65      0.62      0.61     12368\n",
      "\n"
     ]
    }
   ],
   "source": [
    "print(classification_report(test_y, prediction_lgbm))"
   ]
  },
  {
   "cell_type": "markdown",
   "id": "16220403",
   "metadata": {},
   "source": [
    "### Нейронка"
   ]
  },
  {
   "cell_type": "code",
   "execution_count": 103,
   "id": "dff09ced",
   "metadata": {
    "scrolled": false
   },
   "outputs": [],
   "source": [
    "class MyModule(nn.Module):\n",
    "    def __init__(self, num_units=37, nonlin=F.relu):\n",
    "        super(MyModule, self).__init__()\n",
    "\n",
    "        self.dense0 = nn.Linear(53, num_units)\n",
    "        self.nonlin = nonlin\n",
    "        self.dropout = nn.Dropout(0.5)\n",
    "        self.dense1 = nn.Linear(num_units, 25)\n",
    "        self.dense2 = nn.Linear(25, 11)\n",
    "        self.output = nn.Linear(11, 2)\n",
    "\n",
    "    def forward(self, X, **kwargs):\n",
    "        X = self.nonlin(self.dense0(X))\n",
    "        X = self.dropout(X)\n",
    "        X = torch.tanh(self.dense1(X))\n",
    "        X = torch.relu(self.dense2(X))\n",
    "        X = F.softmax(self.output(X),dim=1)\n",
    "        return X"
   ]
  },
  {
   "cell_type": "code",
   "execution_count": 104,
   "id": "fe665f85",
   "metadata": {},
   "outputs": [],
   "source": [
    "net = NeuralNetClassifier(\n",
    "    MyModule,\n",
    "\n",
    "\n",
    "    max_epochs=10,\n",
    "    lr=0.1,\n",
    "    # Shuffle training data on each epoch\n",
    "    iterator_train__shuffle=True,\n",
    ")"
   ]
  },
  {
   "cell_type": "code",
   "execution_count": 105,
   "id": "110cdc95",
   "metadata": {
    "scrolled": true
   },
   "outputs": [
    {
     "name": "stdout",
     "output_type": "stream",
     "text": [
      "  epoch    train_loss    valid_acc    valid_loss     dur\n",
      "-------  ------------  -----------  ------------  ------\n",
      "      1        \u001B[36m0.6898\u001B[0m       \u001B[32m0.5890\u001B[0m        \u001B[35m0.6848\u001B[0m  0.5480\n",
      "      2        \u001B[36m0.6751\u001B[0m       \u001B[32m0.5905\u001B[0m        \u001B[35m0.6624\u001B[0m  0.6190\n",
      "      3        \u001B[36m0.6560\u001B[0m       \u001B[32m0.5985\u001B[0m        \u001B[35m0.6438\u001B[0m  0.5218\n",
      "      4        \u001B[36m0.6426\u001B[0m       0.5963        \u001B[35m0.6366\u001B[0m  0.5110\n",
      "      5        \u001B[36m0.6357\u001B[0m       \u001B[32m0.6093\u001B[0m        \u001B[35m0.6322\u001B[0m  0.5200\n",
      "      6        \u001B[36m0.6339\u001B[0m       \u001B[32m0.6109\u001B[0m        \u001B[35m0.6287\u001B[0m  0.5060\n",
      "      7        \u001B[36m0.6322\u001B[0m       \u001B[32m0.6115\u001B[0m        \u001B[35m0.6280\u001B[0m  0.5083\n",
      "      8        \u001B[36m0.6317\u001B[0m       0.6113        0.6281  0.5124\n",
      "      9        \u001B[36m0.6304\u001B[0m       0.6115        \u001B[35m0.6265\u001B[0m  0.5010\n",
      "     10        \u001B[36m0.6291\u001B[0m       0.6113        \u001B[35m0.6262\u001B[0m  0.5050\n",
      "     11        \u001B[36m0.6285\u001B[0m       \u001B[32m0.6127\u001B[0m        0.6274  0.5030\n",
      "     12        0.6291       \u001B[32m0.6151\u001B[0m        \u001B[35m0.6251\u001B[0m  0.5040\n",
      "     13        \u001B[36m0.6283\u001B[0m       0.6145        \u001B[35m0.6240\u001B[0m  0.5020\n",
      "     14        \u001B[36m0.6269\u001B[0m       \u001B[32m0.6169\u001B[0m        \u001B[35m0.6233\u001B[0m  0.5210\n",
      "     15        0.6272       0.6147        \u001B[35m0.6228\u001B[0m  0.5420\n",
      "     16        \u001B[36m0.6262\u001B[0m       0.6155        0.6235  0.5640\n",
      "     17        \u001B[36m0.6260\u001B[0m       0.6139        0.6229  0.5390\n",
      "     18        \u001B[36m0.6256\u001B[0m       0.6163        0.6234  0.5130\n",
      "     19        0.6266       0.6141        \u001B[35m0.6225\u001B[0m  0.5550\n",
      "     20        0.6262       0.6153        0.6227  0.5100\n",
      "     21        \u001B[36m0.6247\u001B[0m       \u001B[32m0.6190\u001B[0m        0.6226  0.4950\n",
      "     22        \u001B[36m0.6242\u001B[0m       0.6137        \u001B[35m0.6221\u001B[0m  0.5350\n",
      "     23        0.6258       0.6167        0.6231  0.5040\n",
      "     24        0.6256       0.6153        0.6222  0.5350\n",
      "     25        0.6244       0.6159        0.6221  0.5610\n",
      "     26        0.6249       \u001B[32m0.6200\u001B[0m        \u001B[35m0.6213\u001B[0m  0.5000\n",
      "     27        \u001B[36m0.6241\u001B[0m       \u001B[32m0.6210\u001B[0m        0.6217  0.5260\n",
      "     28        0.6244       0.6171        0.6219  0.5240\n",
      "     29        0.6246       0.6080        0.6222  0.4960\n",
      "     30        \u001B[36m0.6239\u001B[0m       0.6151        0.6220  0.5560\n",
      "  epoch    train_loss    valid_acc    valid_loss     dur\n",
      "-------  ------------  -----------  ------------  ------\n",
      "      1        \u001B[36m0.6918\u001B[0m       \u001B[32m0.5812\u001B[0m        \u001B[35m0.6892\u001B[0m  0.5090\n",
      "      2        \u001B[36m0.6834\u001B[0m       \u001B[32m0.6066\u001B[0m        \u001B[35m0.6707\u001B[0m  0.5390\n",
      "      3        \u001B[36m0.6619\u001B[0m       \u001B[32m0.6218\u001B[0m        \u001B[35m0.6412\u001B[0m  0.5020\n",
      "      4        \u001B[36m0.6442\u001B[0m       \u001B[32m0.6244\u001B[0m        \u001B[35m0.6311\u001B[0m  0.5174\n",
      "      5        \u001B[36m0.6363\u001B[0m       0.6167        \u001B[35m0.6306\u001B[0m  0.5040\n",
      "      6        \u001B[36m0.6332\u001B[0m       0.6141        \u001B[35m0.6279\u001B[0m  0.5040\n",
      "      7        \u001B[36m0.6306\u001B[0m       0.6222        \u001B[35m0.6258\u001B[0m  0.5600\n",
      "      8        \u001B[36m0.6305\u001B[0m       \u001B[32m0.6277\u001B[0m        0.6261  0.5240\n",
      "      9        \u001B[36m0.6293\u001B[0m       0.6143        0.6271  0.4970\n",
      "     10        \u001B[36m0.6287\u001B[0m       0.6275        \u001B[35m0.6241\u001B[0m  0.4940\n",
      "     11        \u001B[36m0.6264\u001B[0m       0.6184        0.6267  0.5010\n",
      "     12        \u001B[36m0.6259\u001B[0m       \u001B[32m0.6293\u001B[0m        \u001B[35m0.6227\u001B[0m  0.5330\n",
      "     13        0.6264       0.6238        0.6239  0.4990\n",
      "     14        0.6263       0.6175        0.6240  0.4970\n",
      "     15        \u001B[36m0.6255\u001B[0m       0.6198        0.6227  0.5080\n",
      "     16        \u001B[36m0.6253\u001B[0m       0.6137        0.6238  0.5200\n",
      "     17        \u001B[36m0.6246\u001B[0m       0.6291        \u001B[35m0.6222\u001B[0m  0.5010\n",
      "     18        \u001B[36m0.6244\u001B[0m       0.6285        \u001B[35m0.6220\u001B[0m  0.5090\n",
      "     19        0.6252       \u001B[32m0.6301\u001B[0m        0.6224  0.5550\n",
      "     20        \u001B[36m0.6232\u001B[0m       0.6266        0.6229  0.5250\n",
      "     21        0.6240       0.6173        0.6227  0.5500\n",
      "     22        0.6236       0.6240        \u001B[35m0.6215\u001B[0m  0.4990\n",
      "     23        0.6247       0.6228        \u001B[35m0.6212\u001B[0m  0.4950\n",
      "     24        0.6250       0.6175        0.6226  0.5070\n",
      "     25        0.6241       0.6192        0.6232  0.5040\n",
      "     26        \u001B[36m0.6226\u001B[0m       0.6291        0.6222  0.5050\n",
      "     27        0.6227       0.6206        0.6221  0.5700\n",
      "     28        0.6240       0.6277        0.6216  0.5310\n",
      "     29        0.6231       0.6184        0.6222  0.5470\n",
      "     30        0.6235       0.6165        0.6261  0.5560\n",
      "  epoch    train_loss    valid_acc    valid_loss     dur\n",
      "-------  ------------  -----------  ------------  ------\n",
      "      1        \u001B[36m0.6922\u001B[0m       \u001B[32m0.5459\u001B[0m        \u001B[35m0.6892\u001B[0m  0.5010\n",
      "      2        \u001B[36m0.6837\u001B[0m       \u001B[32m0.5891\u001B[0m        \u001B[35m0.6695\u001B[0m  0.5234\n",
      "      3        \u001B[36m0.6588\u001B[0m       \u001B[32m0.6247\u001B[0m        \u001B[35m0.6374\u001B[0m  0.5320\n",
      "      4        \u001B[36m0.6413\u001B[0m       0.6229        \u001B[35m0.6321\u001B[0m  0.5040\n",
      "      5        \u001B[36m0.6365\u001B[0m       0.6130        \u001B[35m0.6315\u001B[0m  0.5250\n",
      "      6        \u001B[36m0.6347\u001B[0m       0.6116        \u001B[35m0.6305\u001B[0m  0.5270\n",
      "      7        \u001B[36m0.6329\u001B[0m       0.6247        \u001B[35m0.6286\u001B[0m  0.5600\n",
      "      8        \u001B[36m0.6309\u001B[0m       \u001B[32m0.6259\u001B[0m        \u001B[35m0.6274\u001B[0m  0.5100\n",
      "      9        \u001B[36m0.6298\u001B[0m       0.6245        \u001B[35m0.6267\u001B[0m  0.5020\n",
      "     10        0.6303       0.6170        0.6274  0.5220\n",
      "     11        \u001B[36m0.6286\u001B[0m       \u001B[32m0.6263\u001B[0m        \u001B[35m0.6257\u001B[0m  0.5200\n",
      "     12        \u001B[36m0.6285\u001B[0m       0.6239        0.6274  0.5050\n",
      "     13        \u001B[36m0.6279\u001B[0m       0.6243        \u001B[35m0.6256\u001B[0m  0.5320\n",
      "     14        \u001B[36m0.6269\u001B[0m       0.6209        \u001B[35m0.6245\u001B[0m  0.5200\n",
      "     15        \u001B[36m0.6264\u001B[0m       0.6249        0.6246  0.5480\n",
      "     16        \u001B[36m0.6259\u001B[0m       \u001B[32m0.6273\u001B[0m        \u001B[35m0.6241\u001B[0m  0.4950\n",
      "     17        \u001B[36m0.6249\u001B[0m       \u001B[32m0.6279\u001B[0m        0.6241  0.5140\n",
      "     18        \u001B[36m0.6246\u001B[0m       0.6237        0.6243  0.5200\n",
      "     19        0.6253       0.6267        \u001B[35m0.6238\u001B[0m  0.5000\n",
      "     20        0.6259       0.6138        0.6270  0.5330\n",
      "     21        0.6255       0.6279        0.6241  0.5140\n",
      "     22        0.6246       0.6221        0.6238  0.5210\n",
      "     23        0.6248       0.6174        0.6247  0.5320\n",
      "     24        \u001B[36m0.6239\u001B[0m       0.6150        0.6249  0.5410\n",
      "     25        0.6242       \u001B[32m0.6302\u001B[0m        \u001B[35m0.6236\u001B[0m  0.5260\n",
      "     26        \u001B[36m0.6231\u001B[0m       0.6291        0.6249  0.5244\n",
      "     27        0.6242       0.6178        0.6242  0.5300\n",
      "     28        0.6241       0.6219        0.6240  0.5420\n",
      "     29        0.6234       0.6293        \u001B[35m0.6228\u001B[0m  0.5000\n",
      "     30        0.6236       0.6227        0.6232  0.4980\n",
      "  epoch    train_loss    valid_acc    valid_loss     dur\n",
      "-------  ------------  -----------  ------------  ------\n",
      "      1        \u001B[36m0.6781\u001B[0m       \u001B[32m0.5985\u001B[0m        \u001B[35m0.6600\u001B[0m  0.6070\n",
      "      2        \u001B[36m0.6524\u001B[0m       \u001B[32m0.6016\u001B[0m        \u001B[35m0.6386\u001B[0m  0.6090\n",
      "      3        \u001B[36m0.6379\u001B[0m       \u001B[32m0.6052\u001B[0m        \u001B[35m0.6309\u001B[0m  0.6230\n",
      "      4        \u001B[36m0.6337\u001B[0m       \u001B[32m0.6127\u001B[0m        \u001B[35m0.6292\u001B[0m  0.5740\n",
      "      5        \u001B[36m0.6310\u001B[0m       0.6070        0.6293  0.5890\n",
      "      6        \u001B[36m0.6301\u001B[0m       \u001B[32m0.6159\u001B[0m        \u001B[35m0.6267\u001B[0m  0.6240\n",
      "      7        \u001B[36m0.6294\u001B[0m       0.6119        \u001B[35m0.6258\u001B[0m  0.6090\n",
      "      8        \u001B[36m0.6271\u001B[0m       \u001B[32m0.6184\u001B[0m        \u001B[35m0.6250\u001B[0m  0.5790\n",
      "      9        \u001B[36m0.6270\u001B[0m       \u001B[32m0.6188\u001B[0m        \u001B[35m0.6237\u001B[0m  0.6230\n",
      "     10        \u001B[36m0.6266\u001B[0m       0.6173        \u001B[35m0.6233\u001B[0m  0.5800\n",
      "     11        \u001B[36m0.6258\u001B[0m       0.6175        \u001B[35m0.6230\u001B[0m  0.5860\n",
      "     12        0.6265       0.6157        0.6235  0.5730\n",
      "     13        \u001B[36m0.6252\u001B[0m       0.6163        0.6236  0.5820\n",
      "     14        \u001B[36m0.6249\u001B[0m       0.6167        \u001B[35m0.6219\u001B[0m  0.5790\n",
      "     15        \u001B[36m0.6242\u001B[0m       0.6141        0.6255  0.5810\n",
      "     16        0.6245       0.6180        \u001B[35m0.6217\u001B[0m  0.5770\n",
      "     17        \u001B[36m0.6240\u001B[0m       \u001B[32m0.6212\u001B[0m        \u001B[35m0.6212\u001B[0m  0.5840\n",
      "     18        0.6246       0.6188        \u001B[35m0.6210\u001B[0m  0.5890\n",
      "     19        \u001B[36m0.6238\u001B[0m       0.6196        \u001B[35m0.6209\u001B[0m  0.5840\n",
      "     20        \u001B[36m0.6233\u001B[0m       0.6153        0.6211  0.5810\n",
      "     21        0.6238       0.6186        \u001B[35m0.6208\u001B[0m  0.5975\n",
      "     22        \u001B[36m0.6230\u001B[0m       0.6155        \u001B[35m0.6206\u001B[0m  0.5940\n",
      "     23        0.6236       0.6163        \u001B[35m0.6205\u001B[0m  0.5820\n",
      "     24        \u001B[36m0.6228\u001B[0m       0.6175        0.6216  0.5710\n",
      "     25        0.6233       0.6194        \u001B[35m0.6204\u001B[0m  0.5860\n",
      "     26        0.6232       0.6186        0.6213  0.5720\n",
      "     27        \u001B[36m0.6221\u001B[0m       0.6204        \u001B[35m0.6199\u001B[0m  0.5770\n",
      "     28        0.6223       0.6198        0.6210  0.5690\n",
      "     29        \u001B[36m0.6220\u001B[0m       0.6175        0.6209  0.5750\n",
      "     30        \u001B[36m0.6220\u001B[0m       0.6084        0.6225  0.5740\n",
      "  epoch    train_loss    valid_acc    valid_loss     dur\n",
      "-------  ------------  -----------  ------------  ------\n",
      "      1        \u001B[36m0.6917\u001B[0m       \u001B[32m0.5442\u001B[0m        \u001B[35m0.6860\u001B[0m  0.5750\n",
      "      2        \u001B[36m0.6740\u001B[0m       \u001B[32m0.6214\u001B[0m        \u001B[35m0.6523\u001B[0m  0.5830\n",
      "      3        \u001B[36m0.6467\u001B[0m       0.6147        \u001B[35m0.6349\u001B[0m  0.5720\n",
      "      4        \u001B[36m0.6345\u001B[0m       \u001B[32m0.6230\u001B[0m        \u001B[35m0.6291\u001B[0m  0.5830\n",
      "      5        \u001B[36m0.6321\u001B[0m       0.6192        0.6294  0.5730\n",
      "      6        \u001B[36m0.6300\u001B[0m       0.6167        0.6293  0.5700\n",
      "      7        \u001B[36m0.6298\u001B[0m       0.6186        \u001B[35m0.6275\u001B[0m  0.5710\n",
      "      8        \u001B[36m0.6284\u001B[0m       0.6210        \u001B[35m0.6261\u001B[0m  0.5710\n",
      "      9        \u001B[36m0.6274\u001B[0m       \u001B[32m0.6270\u001B[0m        \u001B[35m0.6257\u001B[0m  0.5760\n",
      "     10        \u001B[36m0.6272\u001B[0m       \u001B[32m0.6305\u001B[0m        \u001B[35m0.6252\u001B[0m  0.5870\n",
      "     11        \u001B[36m0.6256\u001B[0m       0.6167        0.6263  0.5740\n",
      "     12        0.6262       0.6240        \u001B[35m0.6246\u001B[0m  0.5750\n",
      "     13        \u001B[36m0.6237\u001B[0m       0.6279        \u001B[35m0.6239\u001B[0m  0.6350\n",
      "     14        0.6244       0.6264        0.6247  0.5784\n",
      "     15        0.6244       0.6194        \u001B[35m0.6239\u001B[0m  0.5740\n",
      "     16        0.6241       0.6190        \u001B[35m0.6238\u001B[0m  0.5670\n",
      "     17        0.6238       0.6289        \u001B[35m0.6228\u001B[0m  0.5830\n",
      "     18        \u001B[36m0.6236\u001B[0m       0.6275        \u001B[35m0.6224\u001B[0m  0.6010\n",
      "     19        0.6239       0.6299        0.6228  0.5700\n",
      "     20        \u001B[36m0.6235\u001B[0m       0.6202        0.6231  0.5710\n",
      "     21        \u001B[36m0.6225\u001B[0m       0.6283        \u001B[35m0.6222\u001B[0m  0.6150\n",
      "     22        0.6238       0.6186        0.6229  0.5760\n",
      "     23        0.6231       0.6283        0.6222  0.6440\n",
      "     24        0.6233       0.6157        0.6241  0.6430\n",
      "     25        0.6226       0.6206        0.6229  0.6600\n",
      "     26        \u001B[36m0.6223\u001B[0m       0.6279        0.6226  0.5790\n",
      "     27        \u001B[36m0.6222\u001B[0m       0.6277        \u001B[35m0.6217\u001B[0m  0.5720\n",
      "     28        0.6227       0.6232        0.6217  0.5890\n",
      "     29        0.6234       0.6218        0.6222  0.5760\n",
      "     30        \u001B[36m0.6219\u001B[0m       0.6281        \u001B[35m0.6215\u001B[0m  0.5820\n",
      "  epoch    train_loss    valid_acc    valid_loss     dur\n",
      "-------  ------------  -----------  ------------  ------\n",
      "      1        \u001B[36m0.6905\u001B[0m       \u001B[32m0.5315\u001B[0m        \u001B[35m0.6846\u001B[0m  0.5690\n",
      "      2        \u001B[36m0.6726\u001B[0m       \u001B[32m0.6164\u001B[0m        \u001B[35m0.6496\u001B[0m  0.5740\n",
      "      3        \u001B[36m0.6444\u001B[0m       0.6156        \u001B[35m0.6343\u001B[0m  0.5870\n",
      "      4        \u001B[36m0.6370\u001B[0m       0.6130        \u001B[35m0.6319\u001B[0m  0.5760\n",
      "      5        \u001B[36m0.6330\u001B[0m       0.6017        0.6332  0.5790\n",
      "      6        \u001B[36m0.6312\u001B[0m       0.6126        \u001B[35m0.6295\u001B[0m  0.5780\n",
      "      7        \u001B[36m0.6310\u001B[0m       0.6132        \u001B[35m0.6275\u001B[0m  0.5790\n",
      "      8        \u001B[36m0.6288\u001B[0m       0.6132        0.6280  0.5730\n",
      "      9        \u001B[36m0.6282\u001B[0m       \u001B[32m0.6194\u001B[0m        \u001B[35m0.6260\u001B[0m  0.5740\n",
      "     10        \u001B[36m0.6271\u001B[0m       \u001B[32m0.6243\u001B[0m        \u001B[35m0.6254\u001B[0m  0.5770\n",
      "     11        \u001B[36m0.6266\u001B[0m       0.6219        \u001B[35m0.6249\u001B[0m  0.6441\n",
      "     12        \u001B[36m0.6254\u001B[0m       \u001B[32m0.6273\u001B[0m        \u001B[35m0.6247\u001B[0m  0.5720\n",
      "     13        0.6261       \u001B[32m0.6283\u001B[0m        \u001B[35m0.6238\u001B[0m  0.5790\n",
      "     14        0.6255       0.6190        0.6244  0.5780\n",
      "     15        \u001B[36m0.6252\u001B[0m       0.6211        \u001B[35m0.6235\u001B[0m  0.5760\n",
      "     16        0.6255       0.6188        0.6241  0.5755\n",
      "     17        \u001B[36m0.6242\u001B[0m       0.6190        0.6241  0.5890\n",
      "     18        0.6248       0.6192        \u001B[35m0.6232\u001B[0m  0.5760\n",
      "     19        0.6247       0.6170        0.6245  0.5790\n",
      "     20        \u001B[36m0.6235\u001B[0m       0.6267        0.6234  0.5810\n",
      "     21        0.6241       \u001B[32m0.6295\u001B[0m        \u001B[35m0.6232\u001B[0m  0.5720\n",
      "     22        \u001B[36m0.6232\u001B[0m       \u001B[32m0.6308\u001B[0m        \u001B[35m0.6231\u001B[0m  0.5930\n",
      "     23        0.6242       0.6186        0.6246  0.5740\n",
      "     24        \u001B[36m0.6229\u001B[0m       0.6213        0.6234  0.5830\n",
      "     25        0.6231       0.6289        0.6232  0.5760\n",
      "     26        0.6232       \u001B[32m0.6326\u001B[0m        \u001B[35m0.6231\u001B[0m  0.5710\n",
      "     27        \u001B[36m0.6223\u001B[0m       0.6283        \u001B[35m0.6227\u001B[0m  0.5710\n",
      "     28        0.6224       0.6207        0.6229  0.5900\n",
      "     29        0.6225       0.6211        0.6227  0.5800\n",
      "     30        0.6227       0.6308        0.6232  0.5830\n",
      "  epoch    train_loss    valid_acc    valid_loss     dur\n",
      "-------  ------------  -----------  ------------  ------\n",
      "      1        \u001B[36m0.6792\u001B[0m       \u001B[32m0.6091\u001B[0m        \u001B[35m0.6537\u001B[0m  0.4930\n",
      "      2        \u001B[36m0.6428\u001B[0m       0.5700        \u001B[35m0.6399\u001B[0m  0.5140\n",
      "      3        \u001B[36m0.6328\u001B[0m       \u001B[32m0.6111\u001B[0m        \u001B[35m0.6267\u001B[0m  0.5230\n",
      "      4        \u001B[36m0.6326\u001B[0m       0.6004        0.6297  0.5200\n",
      "      5        \u001B[36m0.6304\u001B[0m       0.6087        0.6267  0.5060\n",
      "      6        \u001B[36m0.6290\u001B[0m       0.6046        0.6273  0.5120\n",
      "      7        \u001B[36m0.6279\u001B[0m       \u001B[32m0.6180\u001B[0m        \u001B[35m0.6265\u001B[0m  0.4990\n",
      "      8        \u001B[36m0.6275\u001B[0m       0.6153        \u001B[35m0.6238\u001B[0m  0.5070\n",
      "      9        0.6275       0.6010        0.6309  0.4950\n",
      "     10        \u001B[36m0.6264\u001B[0m       \u001B[32m0.6212\u001B[0m        \u001B[35m0.6212\u001B[0m  0.4960\n",
      "     11        \u001B[36m0.6249\u001B[0m       \u001B[32m0.6216\u001B[0m        0.6222  0.5104\n",
      "     12        0.6257       0.6040        0.6245  0.4990\n",
      "     13        0.6257       0.6200        0.6214  0.5080\n",
      "     14        0.6256       0.6206        0.6214  0.5000\n",
      "     15        0.6259       0.6206        0.6221  0.5110\n",
      "     16        \u001B[36m0.6246\u001B[0m       0.6192        0.6237  0.5230\n",
      "     17        0.6246       0.6153        0.6235  0.5070\n",
      "     18        0.6249       0.6204        \u001B[35m0.6211\u001B[0m  0.5040\n",
      "     19        \u001B[36m0.6241\u001B[0m       0.6135        0.6220  0.5280\n",
      "     20        \u001B[36m0.6240\u001B[0m       \u001B[32m0.6224\u001B[0m        0.6213  0.5040\n",
      "     21        \u001B[36m0.6239\u001B[0m       0.6171        0.6231  0.5170\n",
      "     22        0.6239       0.6171        0.6243  0.5060\n",
      "     23        \u001B[36m0.6227\u001B[0m       0.6224        0.6223  0.4970\n",
      "     24        0.6240       0.6196        \u001B[35m0.6207\u001B[0m  0.5130\n",
      "     25        0.6240       0.6171        0.6218  0.5130\n",
      "     26        0.6238       0.6054        0.6243  0.5070\n",
      "     27        0.6237       0.6135        0.6234  0.5010\n",
      "     28        0.6233       0.6131        0.6218  0.5150\n",
      "     29        0.6233       0.6202        0.6226  0.5010\n",
      "     30        0.6227       0.6163        \u001B[35m0.6202\u001B[0m  0.4990\n",
      "  epoch    train_loss    valid_acc    valid_loss     dur\n",
      "-------  ------------  -----------  ------------  ------\n",
      "      1        \u001B[36m0.6901\u001B[0m       \u001B[32m0.5672\u001B[0m        \u001B[35m0.6759\u001B[0m  0.4950\n",
      "      2        \u001B[36m0.6543\u001B[0m       \u001B[32m0.6058\u001B[0m        \u001B[35m0.6387\u001B[0m  0.4980\n",
      "      3        \u001B[36m0.6340\u001B[0m       \u001B[32m0.6097\u001B[0m        \u001B[35m0.6307\u001B[0m  0.4950\n",
      "      4        \u001B[36m0.6320\u001B[0m       \u001B[32m0.6143\u001B[0m        \u001B[35m0.6263\u001B[0m  0.4960\n",
      "      5        \u001B[36m0.6290\u001B[0m       \u001B[32m0.6182\u001B[0m        \u001B[35m0.6260\u001B[0m  0.4960\n",
      "      6        0.6290       0.6141        0.6291  0.5320\n",
      "      7        \u001B[36m0.6280\u001B[0m       0.6157        \u001B[35m0.6239\u001B[0m  0.4960\n",
      "      8        \u001B[36m0.6278\u001B[0m       \u001B[32m0.6283\u001B[0m        \u001B[35m0.6230\u001B[0m  0.5100\n",
      "      9        \u001B[36m0.6267\u001B[0m       0.6212        0.6243  0.4974\n",
      "     10        \u001B[36m0.6255\u001B[0m       0.6270        0.6231  0.5000\n",
      "     11        0.6276       0.6196        \u001B[35m0.6220\u001B[0m  0.5140\n",
      "     12        \u001B[36m0.6248\u001B[0m       0.6163        0.6246  0.5030\n",
      "     13        0.6257       0.6188        0.6229  0.4970\n",
      "     14        0.6250       0.6050        0.6308  0.4990\n",
      "     15        \u001B[36m0.6244\u001B[0m       0.6240        \u001B[35m0.6216\u001B[0m  0.4960\n",
      "     16        0.6250       0.6175        0.6240  0.5150\n",
      "     17        \u001B[36m0.6243\u001B[0m       0.6188        \u001B[35m0.6216\u001B[0m  0.4960\n",
      "     18        \u001B[36m0.6237\u001B[0m       0.6186        \u001B[35m0.6213\u001B[0m  0.5010\n",
      "     19        0.6243       0.6196        \u001B[35m0.6210\u001B[0m  0.5030\n",
      "     20        0.6239       0.6190        0.6221  0.5080\n",
      "     21        \u001B[36m0.6232\u001B[0m       0.6175        0.6245  0.5010\n",
      "     22        0.6235       0.6264        \u001B[35m0.6210\u001B[0m  0.4940\n",
      "     23        \u001B[36m0.6231\u001B[0m       0.6070        0.6286  0.5010\n",
      "     24        0.6232       \u001B[32m0.6307\u001B[0m        0.6231  0.4970\n",
      "     25        \u001B[36m0.6227\u001B[0m       0.6194        \u001B[35m0.6209\u001B[0m  0.4990\n",
      "     26        0.6229       0.5998        0.6296  0.5020\n",
      "     27        0.6238       0.6256        \u001B[35m0.6206\u001B[0m  0.5020\n",
      "     28        0.6227       0.6186        0.6208  0.5040\n",
      "     29        0.6227       \u001B[32m0.6319\u001B[0m        0.6224  0.4920\n",
      "     30        0.6231       0.6307        0.6226  0.4920\n",
      "  epoch    train_loss    valid_acc    valid_loss     dur\n",
      "-------  ------------  -----------  ------------  ------\n",
      "      1        \u001B[36m0.6736\u001B[0m       \u001B[32m0.6156\u001B[0m        \u001B[35m0.6371\u001B[0m  0.4930\n",
      "      2        \u001B[36m0.6382\u001B[0m       \u001B[32m0.6231\u001B[0m        \u001B[35m0.6298\u001B[0m  0.5030\n",
      "      3        \u001B[36m0.6337\u001B[0m       0.6148        \u001B[35m0.6278\u001B[0m  0.4930\n",
      "      4        \u001B[36m0.6326\u001B[0m       0.6162        \u001B[35m0.6266\u001B[0m  0.5000\n",
      "      5        \u001B[36m0.6307\u001B[0m       0.6067        0.6309  0.4940\n",
      "      6        \u001B[36m0.6294\u001B[0m       \u001B[32m0.6253\u001B[0m        \u001B[35m0.6249\u001B[0m  0.5120\n",
      "      7        \u001B[36m0.6283\u001B[0m       0.6132        0.6260  0.5300\n",
      "      8        \u001B[36m0.6267\u001B[0m       0.6112        0.6258  0.4960\n",
      "      9        0.6274       0.6103        0.6272  0.5180\n",
      "     10        \u001B[36m0.6259\u001B[0m       0.6164        \u001B[35m0.6243\u001B[0m  0.5301\n",
      "     11        0.6261       0.6110        0.6262  0.5140\n",
      "     12        \u001B[36m0.6247\u001B[0m       0.6253        \u001B[35m0.6240\u001B[0m  0.5414\n",
      "     13        0.6262       0.6223        \u001B[35m0.6230\u001B[0m  0.5950\n",
      "     14        0.6248       \u001B[32m0.6265\u001B[0m        0.6236  0.4990\n",
      "     15        0.6253       0.6188        0.6232  0.5100\n",
      "     16        \u001B[36m0.6246\u001B[0m       \u001B[32m0.6267\u001B[0m        0.6255  0.5010\n",
      "     17        \u001B[36m0.6246\u001B[0m       0.6186        0.6259  0.4960\n",
      "     18        \u001B[36m0.6246\u001B[0m       0.6233        \u001B[35m0.6226\u001B[0m  0.4980\n",
      "     19        \u001B[36m0.6241\u001B[0m       \u001B[32m0.6283\u001B[0m        \u001B[35m0.6222\u001B[0m  0.5040\n",
      "     20        0.6242       0.6215        0.6233  0.5100\n",
      "     21        \u001B[36m0.6229\u001B[0m       0.6229        0.6229  0.5060\n",
      "     22        0.6234       0.6190        0.6223  0.5000\n",
      "     23        0.6238       0.6203        0.6234  0.4960\n",
      "     24        0.6237       0.6221        0.6230  0.5100\n",
      "     25        \u001B[36m0.6228\u001B[0m       0.6144        0.6240  0.5040\n",
      "     26        \u001B[36m0.6228\u001B[0m       \u001B[32m0.6291\u001B[0m        0.6248  0.4990\n",
      "     27        \u001B[36m0.6226\u001B[0m       \u001B[32m0.6312\u001B[0m        0.6237  0.5070\n",
      "     28        \u001B[36m0.6225\u001B[0m       0.6105        0.6299  0.5170\n",
      "     29        \u001B[36m0.6224\u001B[0m       0.6279        0.6225  0.5550\n",
      "     30        0.6227       0.6085        0.6298  0.5130\n",
      "  epoch    train_loss    valid_acc    valid_loss     dur\n",
      "-------  ------------  -----------  ------------  ------\n",
      "      1        \u001B[36m0.6733\u001B[0m       \u001B[32m0.6006\u001B[0m        \u001B[35m0.6421\u001B[0m  0.5940\n",
      "      2        \u001B[36m0.6378\u001B[0m       \u001B[32m0.6078\u001B[0m        \u001B[35m0.6312\u001B[0m  0.5760\n",
      "      3        \u001B[36m0.6317\u001B[0m       \u001B[32m0.6080\u001B[0m        \u001B[35m0.6291\u001B[0m  0.6050\n",
      "      4        \u001B[36m0.6306\u001B[0m       \u001B[32m0.6129\u001B[0m        \u001B[35m0.6250\u001B[0m  0.5720\n",
      "      5        \u001B[36m0.6288\u001B[0m       0.5931        0.6323  0.5670\n",
      "      6        \u001B[36m0.6268\u001B[0m       0.6111        0.6353  0.5820\n",
      "      7        \u001B[36m0.6267\u001B[0m       \u001B[32m0.6155\u001B[0m        \u001B[35m0.6229\u001B[0m  0.5870\n",
      "      8        \u001B[36m0.6258\u001B[0m       \u001B[32m0.6159\u001B[0m        \u001B[35m0.6228\u001B[0m  0.5780\n",
      "      9        \u001B[36m0.6255\u001B[0m       \u001B[32m0.6171\u001B[0m        0.6256  0.5760\n",
      "     10        \u001B[36m0.6245\u001B[0m       \u001B[32m0.6200\u001B[0m        \u001B[35m0.6214\u001B[0m  0.5830\n",
      "     11        0.6246       0.6171        \u001B[35m0.6209\u001B[0m  0.6320\n",
      "     12        \u001B[36m0.6241\u001B[0m       0.6180        0.6247  0.5828\n",
      "     13        \u001B[36m0.6227\u001B[0m       0.6040        0.6233  0.5800\n",
      "     14        0.6236       0.6119        0.6232  0.5700\n",
      "     15        0.6238       \u001B[32m0.6202\u001B[0m        0.6220  0.5950\n",
      "     16        0.6238       0.6200        0.6230  0.5731\n",
      "     17        \u001B[36m0.6224\u001B[0m       0.6173        \u001B[35m0.6202\u001B[0m  0.5740\n",
      "     18        0.6228       0.6171        0.6216  0.5930\n",
      "     19        0.6224       0.6169        0.6228  0.5761\n",
      "     20        0.6227       \u001B[32m0.6228\u001B[0m        \u001B[35m0.6195\u001B[0m  0.5820\n",
      "     21        \u001B[36m0.6220\u001B[0m       0.6186        0.6202  0.5800\n",
      "     22        \u001B[36m0.6219\u001B[0m       0.6153        0.6225  0.5760\n",
      "     23        0.6222       0.6070        0.6241  0.5750\n",
      "     24        \u001B[36m0.6218\u001B[0m       0.6159        0.6205  0.5680\n",
      "     25        \u001B[36m0.6213\u001B[0m       0.6171        0.6205  0.5680\n",
      "     26        0.6218       0.6188        0.6211  0.5760\n",
      "     27        0.6218       0.6159        0.6236  0.5750\n",
      "     28        0.6216       0.6188        0.6204  0.5941\n",
      "     29        \u001B[36m0.6213\u001B[0m       0.6188        0.6211  0.5680\n",
      "     30        \u001B[36m0.6213\u001B[0m       0.6180        0.6228  0.5850\n",
      "  epoch    train_loss    valid_acc    valid_loss     dur\n",
      "-------  ------------  -----------  ------------  ------\n",
      "      1        \u001B[36m0.6697\u001B[0m       \u001B[32m0.6105\u001B[0m        \u001B[35m0.6342\u001B[0m  0.5800\n",
      "      2        \u001B[36m0.6357\u001B[0m       \u001B[32m0.6121\u001B[0m        \u001B[35m0.6293\u001B[0m  0.5850\n",
      "      3        \u001B[36m0.6298\u001B[0m       \u001B[32m0.6151\u001B[0m        0.6314  0.5980\n",
      "      4        \u001B[36m0.6281\u001B[0m       0.6129        \u001B[35m0.6255\u001B[0m  0.5710\n",
      "      5        \u001B[36m0.6273\u001B[0m       0.6145        \u001B[35m0.6247\u001B[0m  0.5781\n",
      "      6        \u001B[36m0.6261\u001B[0m       \u001B[32m0.6264\u001B[0m        \u001B[35m0.6241\u001B[0m  0.6740\n",
      "      7        \u001B[36m0.6259\u001B[0m       \u001B[32m0.6289\u001B[0m        \u001B[35m0.6238\u001B[0m  0.7460\n",
      "      8        \u001B[36m0.6255\u001B[0m       0.6155        0.6243  0.6240\n",
      "      9        \u001B[36m0.6253\u001B[0m       0.6169        0.6240  0.5870\n",
      "     10        \u001B[36m0.6245\u001B[0m       0.6268        \u001B[35m0.6228\u001B[0m  0.5840\n",
      "     11        \u001B[36m0.6232\u001B[0m       0.6101        0.6294  0.5840\n",
      "     12        \u001B[36m0.6232\u001B[0m       0.6287        \u001B[35m0.6220\u001B[0m  0.5790\n",
      "     13        \u001B[36m0.6228\u001B[0m       0.6279        0.6221  0.5930\n",
      "     14        \u001B[36m0.6220\u001B[0m       0.6186        \u001B[35m0.6219\u001B[0m  0.5790\n",
      "     15        0.6232       0.6283        \u001B[35m0.6211\u001B[0m  0.5780\n",
      "     16        0.6226       \u001B[32m0.6291\u001B[0m        \u001B[35m0.6209\u001B[0m  0.5770\n",
      "     17        \u001B[36m0.6219\u001B[0m       0.6192        0.6215  0.5730\n",
      "     18        0.6222       \u001B[32m0.6295\u001B[0m        \u001B[35m0.6204\u001B[0m  0.5940\n",
      "     19        \u001B[36m0.6219\u001B[0m       0.6190        0.6218  0.5830\n",
      "     20        \u001B[36m0.6217\u001B[0m       0.6204        0.6221  0.5840\n",
      "     21        \u001B[36m0.6212\u001B[0m       0.6287        0.6213  0.5990\n",
      "     22        0.6213       0.6293        0.6210  0.6180\n",
      "     23        0.6216       0.6272        0.6221  0.6030\n",
      "     24        0.6220       0.6206        0.6212  0.6570\n",
      "     25        0.6214       \u001B[32m0.6299\u001B[0m        \u001B[35m0.6203\u001B[0m  0.6390\n",
      "     26        \u001B[36m0.6205\u001B[0m       \u001B[32m0.6309\u001B[0m        0.6204  0.6450\n",
      "     27        0.6209       0.6295        \u001B[35m0.6199\u001B[0m  0.6110\n",
      "     28        0.6210       0.6208        0.6203  0.6080\n",
      "     29        \u001B[36m0.6202\u001B[0m       0.6220        0.6228  0.6030\n",
      "     30        0.6210       0.6293        0.6208  0.6040\n",
      "  epoch    train_loss    valid_acc    valid_loss     dur\n",
      "-------  ------------  -----------  ------------  ------\n",
      "      1        \u001B[36m0.6746\u001B[0m       \u001B[32m0.6140\u001B[0m        \u001B[35m0.6356\u001B[0m  0.5850\n",
      "      2        \u001B[36m0.6363\u001B[0m       \u001B[32m0.6209\u001B[0m        \u001B[35m0.6319\u001B[0m  0.6010\n",
      "      3        \u001B[36m0.6320\u001B[0m       \u001B[32m0.6297\u001B[0m        \u001B[35m0.6289\u001B[0m  0.6580\n",
      "      4        \u001B[36m0.6286\u001B[0m       0.6140        \u001B[35m0.6284\u001B[0m  0.7320\n",
      "      5        \u001B[36m0.6275\u001B[0m       0.6148        \u001B[35m0.6262\u001B[0m  0.6160\n",
      "      6        \u001B[36m0.6266\u001B[0m       0.6093        0.6279  0.6240\n",
      "      7        \u001B[36m0.6249\u001B[0m       0.6219        \u001B[35m0.6255\u001B[0m  0.6170\n",
      "      8        0.6253       0.6196        \u001B[35m0.6238\u001B[0m  0.6160\n",
      "      9        \u001B[36m0.6241\u001B[0m       0.6283        \u001B[35m0.6238\u001B[0m  0.6160\n",
      "     10        \u001B[36m0.6235\u001B[0m       0.6277        \u001B[35m0.6225\u001B[0m  0.5900\n",
      "     11        0.6236       0.6293        0.6234  0.5910\n",
      "     12        \u001B[36m0.6226\u001B[0m       0.6207        0.6238  0.6000\n",
      "     13        0.6236       \u001B[32m0.6302\u001B[0m        0.6246  0.5930\n",
      "     14        0.6231       0.6154        0.6257  0.6430\n",
      "     15        0.6233       0.6229        0.6230  0.6160\n",
      "     16        0.6233       0.6300        0.6236  0.5790\n",
      "     17        \u001B[36m0.6224\u001B[0m       0.6295        0.6237  0.6000\n",
      "     18        \u001B[36m0.6220\u001B[0m       0.6196        0.6288  0.5790\n",
      "     19        0.6228       0.6211        0.6244  0.5810\n",
      "     20        0.6220       0.6293        \u001B[35m0.6223\u001B[0m  0.6319\n",
      "     21        \u001B[36m0.6218\u001B[0m       0.6297        \u001B[35m0.6220\u001B[0m  0.5720\n",
      "     22        \u001B[36m0.6217\u001B[0m       0.6209        0.6229  0.5741\n",
      "     23        \u001B[36m0.6216\u001B[0m       0.6085        0.6271  0.6130\n",
      "     24        \u001B[36m0.6209\u001B[0m       0.6200        0.6263  0.5760\n",
      "     25        0.6217       0.6283        0.6241  0.5930\n",
      "     26        \u001B[36m0.6203\u001B[0m       0.6302        0.6246  0.5820\n",
      "     27        \u001B[36m0.6199\u001B[0m       0.6300        0.6260  0.5840\n",
      "     28        0.6211       \u001B[32m0.6338\u001B[0m        0.6245  0.5730\n",
      "     29        0.6205       0.6083        0.6273  0.5821\n",
      "     30        0.6214       0.6285        0.6235  0.5730\n",
      "  epoch    train_loss    valid_acc    valid_loss     dur\n",
      "-------  ------------  -----------  ------------  ------\n",
      "      1        \u001B[36m0.6759\u001B[0m       \u001B[32m0.6032\u001B[0m        \u001B[35m0.6355\u001B[0m  0.4950\n",
      "      2        \u001B[36m0.6388\u001B[0m       \u001B[32m0.6089\u001B[0m        \u001B[35m0.6299\u001B[0m  0.5230\n",
      "      3        \u001B[36m0.6331\u001B[0m       \u001B[32m0.6119\u001B[0m        \u001B[35m0.6268\u001B[0m  0.4990\n",
      "      4        \u001B[36m0.6316\u001B[0m       0.6089        \u001B[35m0.6263\u001B[0m  0.5080\n",
      "      5        \u001B[36m0.6301\u001B[0m       \u001B[32m0.6186\u001B[0m        \u001B[35m0.6259\u001B[0m  0.5010\n",
      "      6        \u001B[36m0.6293\u001B[0m       0.5579        0.6372  0.5020\n",
      "      7        \u001B[36m0.6284\u001B[0m       0.6145        0.6268  0.5190\n",
      "      8        \u001B[36m0.6280\u001B[0m       0.6024        0.6292  0.5021\n",
      "      9        \u001B[36m0.6274\u001B[0m       \u001B[32m0.6202\u001B[0m        \u001B[35m0.6225\u001B[0m  0.5260\n",
      "     10        \u001B[36m0.6268\u001B[0m       0.6119        0.6248  0.5050\n",
      "     11        \u001B[36m0.6263\u001B[0m       0.6167        \u001B[35m0.6220\u001B[0m  0.5090\n",
      "     12        0.6267       0.6145        0.6232  0.4981\n",
      "     13        0.6269       \u001B[32m0.6216\u001B[0m        0.6234  0.4980\n",
      "     14        \u001B[36m0.6254\u001B[0m       0.6153        0.6260  0.4980\n",
      "     15        0.6260       0.6175        0.6230  0.4980\n",
      "     16        \u001B[36m0.6244\u001B[0m       0.6169        0.6227  0.5070\n",
      "     17        0.6247       0.6214        \u001B[35m0.6216\u001B[0m  0.5000\n",
      "     18        0.6248       0.6214        \u001B[35m0.6214\u001B[0m  0.5010\n",
      "     19        0.6246       0.6137        0.6237  0.5020\n",
      "     20        \u001B[36m0.6243\u001B[0m       0.6169        0.6217  0.4988\n",
      "     21        \u001B[36m0.6241\u001B[0m       0.6159        0.6216  0.4960\n",
      "     22        \u001B[36m0.6238\u001B[0m       0.6143        0.6253  0.5030\n",
      "     23        0.6246       0.6159        0.6239  0.5140\n",
      "     24        \u001B[36m0.6237\u001B[0m       0.6180        0.6236  0.5060\n",
      "     25        0.6237       0.6066        0.6237  0.5420\n",
      "     26        0.6248       0.6159        0.6241  0.4930\n",
      "     27        \u001B[36m0.6234\u001B[0m       0.6200        0.6222  0.5050\n",
      "     28        0.6240       0.6169        0.6225  0.5030\n",
      "     29        0.6237       0.6186        0.6214  0.4980\n",
      "     30        0.6238       0.6173        0.6222  0.5020\n",
      "  epoch    train_loss    valid_acc    valid_loss     dur\n",
      "-------  ------------  -----------  ------------  ------\n",
      "      1        \u001B[36m0.6689\u001B[0m       \u001B[32m0.6010\u001B[0m        \u001B[35m0.6441\u001B[0m  0.5020\n",
      "      2        \u001B[36m0.6345\u001B[0m       \u001B[32m0.6064\u001B[0m        \u001B[35m0.6374\u001B[0m  0.5180\n",
      "      3        \u001B[36m0.6332\u001B[0m       \u001B[32m0.6242\u001B[0m        \u001B[35m0.6261\u001B[0m  0.4980\n",
      "      4        \u001B[36m0.6302\u001B[0m       \u001B[32m0.6254\u001B[0m        \u001B[35m0.6250\u001B[0m  0.4990\n",
      "      5        \u001B[36m0.6295\u001B[0m       \u001B[32m0.6270\u001B[0m        0.6264  0.5000\n",
      "      6        0.6295       0.6198        \u001B[35m0.6241\u001B[0m  0.5040\n",
      "      7        \u001B[36m0.6274\u001B[0m       0.6115        0.6367  0.4990\n",
      "      8        0.6287       0.5818        0.6396  0.5030\n",
      "      9        \u001B[36m0.6273\u001B[0m       0.6157        0.6253  0.5160\n",
      "     10        0.6275       0.6163        0.6241  0.5000\n",
      "     11        \u001B[36m0.6268\u001B[0m       0.6159        0.6244  0.4970\n",
      "     12        \u001B[36m0.6258\u001B[0m       0.6268        0.6245  0.5000\n",
      "     13        \u001B[36m0.6241\u001B[0m       0.6159        0.6278  0.4940\n",
      "     14        0.6243       \u001B[32m0.6289\u001B[0m        0.6251  0.5070\n",
      "     15        0.6246       0.6180        \u001B[35m0.6221\u001B[0m  0.4970\n",
      "     16        0.6252       0.6264        \u001B[35m0.6215\u001B[0m  0.5080\n",
      "     17        \u001B[36m0.6239\u001B[0m       0.6218        0.6219  0.4990\n",
      "     18        0.6242       0.6200        0.6235  0.5000\n",
      "     19        0.6250       0.6268        0.6218  0.5010\n",
      "     20        0.6242       0.6279        0.6225  0.5120\n",
      "     21        \u001B[36m0.6232\u001B[0m       0.6192        0.6229  0.4960\n",
      "     22        0.6246       0.6194        0.6224  0.5460\n",
      "     23        \u001B[36m0.6230\u001B[0m       0.6165        0.6346  0.5090\n",
      "     24        0.6247       0.6173        0.6216  0.5070\n",
      "     25        0.6236       0.6169        0.6223  0.5040\n",
      "     26        0.6238       0.6169        0.6287  0.5000\n",
      "     27        \u001B[36m0.6227\u001B[0m       0.6182        0.6252  0.5060\n",
      "     28        0.6234       0.6287        \u001B[35m0.6214\u001B[0m  0.5130\n",
      "     29        0.6229       0.6279        0.6224  0.5010\n",
      "     30        \u001B[36m0.6222\u001B[0m       0.6153        0.6292  0.5140\n",
      "  epoch    train_loss    valid_acc    valid_loss     dur\n",
      "-------  ------------  -----------  ------------  ------\n",
      "      1        \u001B[36m0.6662\u001B[0m       \u001B[32m0.5081\u001B[0m        \u001B[35m0.6515\u001B[0m  0.4970\n",
      "      2        \u001B[36m0.6374\u001B[0m       \u001B[32m0.6033\u001B[0m        \u001B[35m0.6341\u001B[0m  0.5040\n",
      "      3        \u001B[36m0.6338\u001B[0m       \u001B[32m0.6083\u001B[0m        \u001B[35m0.6289\u001B[0m  0.5000\n",
      "      4        \u001B[36m0.6294\u001B[0m       0.5879        0.6328  0.4970\n",
      "      5        0.6296       \u001B[32m0.6128\u001B[0m        \u001B[35m0.6286\u001B[0m  0.5210\n",
      "      6        \u001B[36m0.6294\u001B[0m       \u001B[32m0.6146\u001B[0m        \u001B[35m0.6270\u001B[0m  0.5270\n",
      "      7        \u001B[36m0.6267\u001B[0m       \u001B[32m0.6162\u001B[0m        \u001B[35m0.6263\u001B[0m  0.5030\n",
      "      8        0.6270       0.6150        \u001B[35m0.6257\u001B[0m  0.5020\n",
      "      9        0.6275       \u001B[32m0.6190\u001B[0m        \u001B[35m0.6238\u001B[0m  0.5080\n",
      "     10        \u001B[36m0.6257\u001B[0m       \u001B[32m0.6265\u001B[0m        0.6243  0.4950\n",
      "     11        \u001B[36m0.6256\u001B[0m       0.6205        0.6248  0.5320\n",
      "     12        0.6265       0.6124        0.6246  0.5570\n",
      "     13        0.6258       0.6162        0.6240  0.5522\n",
      "     14        \u001B[36m0.6252\u001B[0m       0.6174        \u001B[35m0.6226\u001B[0m  0.5120\n",
      "     15        0.6255       0.6190        \u001B[35m0.6224\u001B[0m  0.5830\n",
      "     16        \u001B[36m0.6245\u001B[0m       0.6103        0.6245  0.5270\n",
      "     17        \u001B[36m0.6238\u001B[0m       0.6172        0.6246  0.5560\n",
      "     18        0.6247       \u001B[32m0.6291\u001B[0m        0.6270  0.5150\n",
      "     19        0.6247       0.6138        0.6228  0.5360\n",
      "     20        \u001B[36m0.6236\u001B[0m       \u001B[32m0.6302\u001B[0m        0.6237  0.5000\n",
      "     21        0.6237       0.6138        0.6238  0.5190\n",
      "     22        \u001B[36m0.6234\u001B[0m       0.6281        \u001B[35m0.6215\u001B[0m  0.5060\n",
      "     23        \u001B[36m0.6230\u001B[0m       0.6239        \u001B[35m0.6215\u001B[0m  0.5252\n",
      "     24        0.6230       0.6293        \u001B[35m0.6213\u001B[0m  0.5246\n",
      "     25        \u001B[36m0.6229\u001B[0m       0.6122        0.6289  0.5060\n",
      "     26        0.6230       0.6178        0.6221  0.5699\n",
      "     27        0.6235       0.6190        0.6228  0.5531\n",
      "     28        0.6239       0.6136        0.6240  0.5200\n",
      "     29        0.6229       \u001B[32m0.6324\u001B[0m        0.6221  0.5220\n",
      "     30        \u001B[36m0.6220\u001B[0m       0.6302        0.6235  0.5250\n",
      "  epoch    train_loss    valid_acc    valid_loss     dur\n",
      "-------  ------------  -----------  ------------  ------\n",
      "      1        \u001B[36m0.6606\u001B[0m       \u001B[32m0.5994\u001B[0m        \u001B[35m0.6373\u001B[0m  0.5860\n",
      "      2        \u001B[36m0.6316\u001B[0m       \u001B[32m0.6042\u001B[0m        \u001B[35m0.6284\u001B[0m  0.5870\n",
      "      3        \u001B[36m0.6302\u001B[0m       \u001B[32m0.6115\u001B[0m        \u001B[35m0.6265\u001B[0m  0.5990\n",
      "      4        \u001B[36m0.6285\u001B[0m       \u001B[32m0.6121\u001B[0m        \u001B[35m0.6259\u001B[0m  0.5710\n",
      "      5        \u001B[36m0.6272\u001B[0m       0.6109        0.6261  0.5890\n",
      "      6        \u001B[36m0.6257\u001B[0m       \u001B[32m0.6149\u001B[0m        \u001B[35m0.6229\u001B[0m  0.6530\n",
      "      7        0.6258       \u001B[32m0.6182\u001B[0m        \u001B[35m0.6222\u001B[0m  0.5871\n",
      "      8        0.6259       0.6163        0.6246  0.6360\n",
      "      9        \u001B[36m0.6250\u001B[0m       0.6157        0.6290  0.6110\n",
      "     10        \u001B[36m0.6249\u001B[0m       0.6147        \u001B[35m0.6220\u001B[0m  0.6902\n",
      "     11        \u001B[36m0.6245\u001B[0m       0.6155        \u001B[35m0.6217\u001B[0m  0.5778\n",
      "     12        \u001B[36m0.6242\u001B[0m       \u001B[32m0.6190\u001B[0m        \u001B[35m0.6212\u001B[0m  0.5840\n",
      "     13        \u001B[36m0.6234\u001B[0m       0.6173        0.6219  0.6502\n",
      "     14        \u001B[36m0.6234\u001B[0m       0.6184        0.6214  0.5808\n",
      "     15        \u001B[36m0.6230\u001B[0m       0.6186        \u001B[35m0.6211\u001B[0m  0.6249\n",
      "     16        \u001B[36m0.6228\u001B[0m       \u001B[32m0.6216\u001B[0m        \u001B[35m0.6198\u001B[0m  0.6470\n",
      "     17        0.6230       0.6169        0.6203  0.5722\n",
      "     18        \u001B[36m0.6226\u001B[0m       0.6184        0.6212  0.5790\n",
      "     19        \u001B[36m0.6221\u001B[0m       0.5820        0.6333  0.5996\n",
      "     20        \u001B[36m0.6219\u001B[0m       0.6167        0.6228  0.5680\n",
      "     21        0.6229       0.6180        0.6224  0.6050\n",
      "     22        \u001B[36m0.6216\u001B[0m       \u001B[32m0.6224\u001B[0m        0.6201  0.5710\n",
      "     23        0.6222       0.6066        0.6214  0.6330\n",
      "     24        0.6219       0.6212        0.6200  0.5850\n",
      "     25        \u001B[36m0.6214\u001B[0m       0.6194        0.6210  0.5800\n",
      "     26        0.6228       0.6167        0.6206  0.5770\n",
      "     27        \u001B[36m0.6212\u001B[0m       0.6145        0.6210  0.5980\n",
      "     28        \u001B[36m0.6209\u001B[0m       0.6177        0.6254  0.6320\n",
      "     29        \u001B[36m0.6208\u001B[0m       0.6198        0.6221  0.5710\n",
      "     30        0.6210       0.6214        0.6215  0.5740\n",
      "  epoch    train_loss    valid_acc    valid_loss     dur\n",
      "-------  ------------  -----------  ------------  ------\n",
      "      1        \u001B[36m0.6581\u001B[0m       \u001B[32m0.6171\u001B[0m        \u001B[35m0.6311\u001B[0m  0.5810\n",
      "      2        \u001B[36m0.6318\u001B[0m       0.6141        \u001B[35m0.6290\u001B[0m  0.5960\n",
      "      3        \u001B[36m0.6298\u001B[0m       0.6153        \u001B[35m0.6259\u001B[0m  0.5970\n",
      "      4        \u001B[36m0.6270\u001B[0m       0.6145        0.6282  0.5720\n",
      "      5        0.6272       0.6159        \u001B[35m0.6248\u001B[0m  0.5780\n",
      "      6        \u001B[36m0.6251\u001B[0m       \u001B[32m0.6254\u001B[0m        0.6254  0.5860\n",
      "      7        \u001B[36m0.6245\u001B[0m       0.6220        \u001B[35m0.6237\u001B[0m  0.5760\n",
      "      8        0.6246       \u001B[32m0.6285\u001B[0m        \u001B[35m0.6225\u001B[0m  0.5710\n",
      "      9        \u001B[36m0.6241\u001B[0m       0.6198        0.6230  0.5775\n",
      "     10        0.6244       0.6161        0.6259  0.5660\n",
      "     11        0.6244       \u001B[32m0.6287\u001B[0m        \u001B[35m0.6220\u001B[0m  0.5820\n",
      "     12        0.6242       0.6285        \u001B[35m0.6212\u001B[0m  0.5790\n",
      "     13        \u001B[36m0.6233\u001B[0m       \u001B[32m0.6295\u001B[0m        0.6233  0.6290\n",
      "     14        \u001B[36m0.6226\u001B[0m       0.6289        \u001B[35m0.6208\u001B[0m  0.5740\n",
      "     15        0.6234       0.6220        0.6218  0.6150\n",
      "     16        \u001B[36m0.6225\u001B[0m       0.6220        0.6218  0.6230\n",
      "     17        \u001B[36m0.6223\u001B[0m       0.6287        0.6208  0.6090\n",
      "     18        0.6226       0.6194        0.6222  0.5820\n",
      "     19        \u001B[36m0.6218\u001B[0m       0.6188        0.6243  0.6430\n",
      "     20        \u001B[36m0.6217\u001B[0m       0.6283        \u001B[35m0.6201\u001B[0m  0.5820\n",
      "     21        \u001B[36m0.6215\u001B[0m       0.6291        \u001B[35m0.6196\u001B[0m  0.6180\n",
      "     22        0.6220       0.6180        0.6242  0.5850\n",
      "     23        \u001B[36m0.6209\u001B[0m       0.6289        0.6210  0.6280\n",
      "     24        \u001B[36m0.6206\u001B[0m       0.6293        0.6213  0.5740\n",
      "     25        0.6217       0.6266        0.6217  0.5810\n",
      "     26        0.6209       0.6275        0.6209  0.5840\n",
      "     27        0.6208       0.6188        0.6221  0.6350\n",
      "     28        \u001B[36m0.6205\u001B[0m       0.6204        0.6203  0.6040\n",
      "     29        \u001B[36m0.6198\u001B[0m       0.6224        0.6214  0.5920\n",
      "     30        0.6202       0.6281        0.6216  0.6591\n",
      "  epoch    train_loss    valid_acc    valid_loss     dur\n",
      "-------  ------------  -----------  ------------  ------\n",
      "      1        \u001B[36m0.6623\u001B[0m       \u001B[32m0.6077\u001B[0m        \u001B[35m0.6314\u001B[0m  0.6160\n",
      "      2        \u001B[36m0.6340\u001B[0m       0.6045        \u001B[35m0.6313\u001B[0m  0.5970\n",
      "      3        \u001B[36m0.6291\u001B[0m       \u001B[32m0.6150\u001B[0m        \u001B[35m0.6268\u001B[0m  0.6350\n",
      "      4        \u001B[36m0.6286\u001B[0m       0.6146        \u001B[35m0.6253\u001B[0m  0.6054\n",
      "      5        \u001B[36m0.6280\u001B[0m       0.6138        \u001B[35m0.6250\u001B[0m  0.6440\n",
      "      6        \u001B[36m0.6249\u001B[0m       0.6057        0.6318  0.6130\n",
      "      7        0.6254       \u001B[32m0.6207\u001B[0m        \u001B[35m0.6233\u001B[0m  0.6090\n",
      "      8        0.6251       0.6164        0.6238  0.6000\n",
      "      9        \u001B[36m0.6249\u001B[0m       \u001B[32m0.6239\u001B[0m        \u001B[35m0.6227\u001B[0m  0.6300\n",
      "     10        \u001B[36m0.6244\u001B[0m       0.6188        0.6233  0.5970\n",
      "     11        \u001B[36m0.6236\u001B[0m       \u001B[32m0.6289\u001B[0m        0.6232  0.5760\n",
      "     12        \u001B[36m0.6233\u001B[0m       0.6178        0.6253  0.5990\n",
      "     13        \u001B[36m0.6231\u001B[0m       0.6105        0.6302  0.5760\n",
      "     14        0.6235       0.6174        0.6264  0.5700\n",
      "     15        \u001B[36m0.6223\u001B[0m       \u001B[32m0.6306\u001B[0m        0.6242  0.5710\n",
      "     16        0.6227       0.6122        0.6265  0.5740\n",
      "     17        \u001B[36m0.6222\u001B[0m       0.6130        0.6257  0.6010\n",
      "     18        \u001B[36m0.6221\u001B[0m       \u001B[32m0.6308\u001B[0m        0.6248  0.5770\n",
      "     19        0.6224       0.6219        0.6238  0.5790\n",
      "     20        \u001B[36m0.6217\u001B[0m       0.6219        0.6256  0.5780\n",
      "     21        0.6220       0.6283        \u001B[35m0.6219\u001B[0m  0.5850\n",
      "     22        \u001B[36m0.6214\u001B[0m       0.6207        0.6235  0.5920\n",
      "     23        0.6214       0.6225        0.6237  0.5780\n",
      "     24        \u001B[36m0.6213\u001B[0m       0.6229        0.6227  0.5920\n",
      "     25        \u001B[36m0.6211\u001B[0m       0.6306        0.6231  0.5730\n",
      "     26        \u001B[36m0.6209\u001B[0m       0.6249        0.6230  0.5684\n",
      "     27        0.6212       0.6251        0.6233  0.5870\n",
      "     28        \u001B[36m0.6206\u001B[0m       0.6200        0.6234  0.5720\n",
      "     29        0.6209       0.6245        0.6256  0.5810\n",
      "     30        0.6213       0.6130        0.6259  0.5890\n",
      "  epoch    train_loss    valid_acc    valid_loss     dur\n",
      "-------  ------------  -----------  ------------  ------\n",
      "      1        \u001B[36m0.6725\u001B[0m       \u001B[32m0.6030\u001B[0m        \u001B[35m0.6389\u001B[0m  0.9230\n",
      "      2        \u001B[36m0.6351\u001B[0m       \u001B[32m0.6164\u001B[0m        \u001B[35m0.6310\u001B[0m  0.8890\n",
      "      3        \u001B[36m0.6293\u001B[0m       0.6129        \u001B[35m0.6275\u001B[0m  0.8820\n",
      "      4        \u001B[36m0.6273\u001B[0m       \u001B[32m0.6253\u001B[0m        \u001B[35m0.6232\u001B[0m  0.8850\n",
      "      5        \u001B[36m0.6271\u001B[0m       0.6174        0.6241  0.9720\n",
      "      6        \u001B[36m0.6259\u001B[0m       \u001B[32m0.6261\u001B[0m        0.6232  0.8910\n",
      "      7        \u001B[36m0.6240\u001B[0m       0.6201        0.6237  0.8880\n",
      "      8        \u001B[36m0.6237\u001B[0m       0.6178        0.6241  0.8740\n",
      "      9        0.6245       0.6259        \u001B[35m0.6218\u001B[0m  0.8790\n",
      "     10        0.6243       \u001B[32m0.6274\u001B[0m        \u001B[35m0.6211\u001B[0m  0.9200\n",
      "     11        \u001B[36m0.6235\u001B[0m       0.6174        0.6224  0.8700\n",
      "     12        0.6240       0.6188        0.6231  0.9030\n",
      "     13        \u001B[36m0.6232\u001B[0m       0.6201        0.6227  0.8814\n",
      "     14        0.6233       \u001B[32m0.6275\u001B[0m        \u001B[35m0.6210\u001B[0m  0.8920\n",
      "     15        \u001B[36m0.6223\u001B[0m       0.6234        0.6221  0.8920\n",
      "     16        0.6229       0.6182        0.6258  0.8760\n",
      "     17        0.6224       0.6242        \u001B[35m0.6209\u001B[0m  0.8720\n",
      "     18        \u001B[36m0.6222\u001B[0m       0.6230        0.6212  0.8850\n",
      "     19        0.6222       \u001B[32m0.6279\u001B[0m        \u001B[35m0.6207\u001B[0m  0.9270\n",
      "     20        \u001B[36m0.6218\u001B[0m       0.6205        0.6240  0.8710\n",
      "     21        \u001B[36m0.6216\u001B[0m       0.6180        0.6247  0.8900\n",
      "     22        0.6225       0.6232        0.6221  0.8780\n",
      "     23        \u001B[36m0.6214\u001B[0m       0.6258        0.6226  0.8800\n",
      "     24        0.6220       0.6258        0.6212  0.8780\n",
      "     25        0.6217       0.6258        0.6232  0.8970\n",
      "     26        0.6214       0.6228        0.6223  0.8730\n",
      "     27        \u001B[36m0.6212\u001B[0m       0.6212        0.6223  0.8700\n",
      "     28        \u001B[36m0.6208\u001B[0m       0.6277        0.6235  0.8920\n",
      "     29        0.6213       0.6234        0.6219  0.8690\n",
      "     30        0.6213       \u001B[32m0.6290\u001B[0m        0.6227  0.9105\n"
     ]
    },
    {
     "data": {
      "text/plain": [
       "GridSearchCV(cv=3,\n",
       "             estimator=<class 'skorch.classifier.NeuralNetClassifier'>[uninitialized](\n",
       "  module=<class '__main__.MyModule'>,\n",
       "),\n",
       "             param_grid={'lr': [0.1, 0.3, 0.5], 'max_epochs': [30],\n",
       "                         'module__num_units': [50, 150]},\n",
       "             refit=1)"
      ]
     },
     "execution_count": 105,
     "metadata": {},
     "output_type": "execute_result"
    }
   ],
   "source": [
    "params = {\n",
    "    'lr': [0.1, .3, .5],\n",
    "    'max_epochs': [30],\n",
    "    'module__num_units': [50, 150],\n",
    "}\n",
    "gs = GridSearchCV(net, params, refit=1, cv=3)\n",
    "\n",
    "gs.fit(X_train.values.astype(np.float32), y_train.values.astype(np.int64))"
   ]
  },
  {
   "cell_type": "code",
   "execution_count": 106,
   "id": "559bc9eb",
   "metadata": {},
   "outputs": [
    {
     "name": "stdout",
     "output_type": "stream",
     "text": [
      "0.6216209681881977 {'lr': 0.3, 'max_epochs': 30, 'module__num_units': 150}\n"
     ]
    }
   ],
   "source": [
    "print(gs.best_score_, gs.best_params_)"
   ]
  },
  {
   "cell_type": "code",
   "execution_count": 107,
   "id": "d5c90156",
   "metadata": {
    "scrolled": false
   },
   "outputs": [
    {
     "name": "stdout",
     "output_type": "stream",
     "text": [
      "-----------prediction_catboost:\n",
      "\n",
      "              precision    recall  f1-score   support\n",
      "\n",
      "           0       0.58      0.82      0.68      6088\n",
      "           1       0.71      0.43      0.54      6280\n",
      "\n",
      "    accuracy                           0.62     12368\n",
      "   macro avg       0.64      0.62      0.61     12368\n",
      "weighted avg       0.65      0.62      0.61     12368\n",
      "\n",
      "--------------------------------\n",
      "-----------prediction_lgbm:\n",
      "\n",
      "              precision    recall  f1-score   support\n",
      "\n",
      "           0       0.58      0.81      0.68      6088\n",
      "           1       0.71      0.43      0.54      6280\n",
      "\n",
      "    accuracy                           0.62     12368\n",
      "   macro avg       0.64      0.62      0.61     12368\n",
      "weighted avg       0.65      0.62      0.61     12368\n",
      "\n",
      "--------------------------------\n",
      "-----------нейронка:\n",
      "\n",
      "              precision    recall  f1-score   support\n",
      "\n",
      "           0       0.59      0.78      0.67      6088\n",
      "           1       0.69      0.47      0.56      6280\n",
      "\n",
      "    accuracy                           0.62     12368\n",
      "   macro avg       0.64      0.62      0.61     12368\n",
      "weighted avg       0.64      0.62      0.61     12368\n",
      "\n",
      "--------------------------------\n"
     ]
    }
   ],
   "source": [
    "print('-----------prediction_catboost:\\n')\n",
    "print(classification_report(test_y, prediction_catboost))\n",
    "print('--------------------------------')\n",
    "print('-----------prediction_lgbm:\\n')\n",
    "print(classification_report(test_y, prediction_lgbm))\n",
    "print('--------------------------------')\n",
    "print('-----------нейронка:\\n')\n",
    "print(classification_report(test_y, gs.predict(X_test.values.astype(np.float32))))\n",
    "print('--------------------------------')"
   ]
  },
  {
   "cell_type": "markdown",
   "id": "626d55bb",
   "metadata": {},
   "source": [
    "Больше всего машин попавших в ДТП находит и определяет нейронка f1-score = 0.56 для 1."
   ]
  },
  {
   "cell_type": "markdown",
   "id": "6216062b",
   "metadata": {},
   "source": [
    "## Проверьте лучшую модель в работе"
   ]
  },
  {
   "cell_type": "markdown",
   "id": "7a240950",
   "metadata": {},
   "source": [
    "### Проведите графический анализ «Матрица ошибок». Выведите полноту и точность на график."
   ]
  },
  {
   "cell_type": "code",
   "execution_count": 108,
   "id": "f915a135",
   "metadata": {},
   "outputs": [
    {
     "name": "stdout",
     "output_type": "stream",
     "text": [
      "Confusion matrix, without normalization\n",
      "[[4965 1123]\n",
      " [3571 2709]]\n"
     ]
    },
    {
     "data": {
      "image/png": "[encoded data removed]",
      "text/plain": [
       "<Figure size 720x576 with 2 Axes>"
      ]
     },
     "metadata": {
      "needs_background": "light"
     },
     "output_type": "display_data"
    }
   ],
   "source": [
    "def plot_confusion_matrix(cm, classes,\n",
    "                          normalize=False,\n",
    "                          title='Confusion matrix',\n",
    "                          cmap=plt.cm.Blues):\n",
    "    \"\"\"\n",
    "    This function prints and plots the confusion matrix.\n",
    "    Normalization can be applied by setting `normalize=True`.\n",
    "    \"\"\"\n",
    "    plt.imshow(cm, interpolation='nearest', cmap=cmap)\n",
    "    plt.title(title)\n",
    "    plt.colorbar()\n",
    "    tick_marks = np.arange(len(classes))\n",
    "    plt.xticks(tick_marks, classes, rotation=45)\n",
    "    plt.yticks(tick_marks, classes)\n",
    "\n",
    "    if normalize:\n",
    "        cm = cm.astype('float') / cm.sum(axis=1)[:, np.newaxis]\n",
    "        print(\"Normalized confusion matrix\")\n",
    "    else:\n",
    "        print('Confusion matrix, without normalization')\n",
    "\n",
    "    print(cm)\n",
    "\n",
    "    thresh = cm.max() / 2.\n",
    "    for i, j in itertools.product(range(cm.shape[0]), range(cm.shape[1])):\n",
    "        plt.text(j, i, cm[i, j],\n",
    "                 horizontalalignment=\"center\",\n",
    "                 color=\"white\" if cm[i, j] > thresh else \"black\")\n",
    "\n",
    "    plt.tight_layout()\n",
    "    plt.ylabel('True label')\n",
    "    plt.xlabel('Predicted label')\n",
    "\n",
    "font = {'size' : 15}\n",
    "\n",
    "plt.rc('font', **font)\n",
    "\n",
    "cnf_matrix = confusion_matrix(test_y, prediction_catboost)\n",
    "plt.figure(figsize=(10, 8))\n",
    "plot_confusion_matrix(cnf_matrix, classes=['без ДТП', 'с ДТП'],\n",
    "                      title='Confusion matrix')\n",
    "plt.savefig(\"conf_matrix.png\")\n",
    "plt.show()"
   ]
  },
  {
   "cell_type": "code",
   "execution_count": 109,
   "id": "947c2ac4",
   "metadata": {},
   "outputs": [
    {
     "data": {
      "image/png": "[encoded data removed]",
      "text/plain": [
       "<Figure size 432x288 with 1 Axes>"
      ]
     },
     "metadata": {
      "needs_background": "light"
     },
     "output_type": "display_data"
    }
   ],
   "source": [
    "from sklearn.metrics import PrecisionRecallDisplay\n",
    "\n",
    "\n",
    "display = PrecisionRecallDisplay.from_predictions(test_y, prediction_catboost, name=\"Catboost\")\n",
    "_ = display.ax_.set_title(\"2-class Precision-Recall curve\")"
   ]
  },
  {
   "cell_type": "markdown",
   "id": "07655614",
   "metadata": {},
   "source": [
    "### Проанализируйте важность основных факторов, влияющих на вероятность ДТП."
   ]
  },
  {
   "cell_type": "code",
   "execution_count": 110,
   "id": "f952afdd",
   "metadata": {
    "scrolled": false
   },
   "outputs": [
    {
     "data": {
      "text/html": [
       "<div>\n",
       "<style scoped>\n",
       "    .dataframe tbody tr th:only-of-type {\n",
       "        vertical-align: middle;\n",
       "    }\n",
       "\n",
       "    .dataframe tbody tr th {\n",
       "        vertical-align: top;\n",
       "    }\n",
       "\n",
       "    .dataframe thead th {\n",
       "        text-align: right;\n",
       "    }\n",
       "</style>\n",
       "<table border=\"1\" class=\"dataframe\">\n",
       "  <thead>\n",
       "    <tr style=\"text-align: right;\">\n",
       "      <th></th>\n",
       "      <th>0</th>\n",
       "    </tr>\n",
       "  </thead>\n",
       "  <tbody>\n",
       "    <tr>\n",
       "      <th>had not been drinking</th>\n",
       "      <td>35.90470</td>\n",
       "    </tr>\n",
       "    <tr>\n",
       "      <th>had been drinking, under influence</th>\n",
       "      <td>26.69182</td>\n",
       "    </tr>\n",
       "    <tr>\n",
       "      <th>Not Stated party_drug_physical</th>\n",
       "      <td>5.54481</td>\n",
       "    </tr>\n",
       "    <tr>\n",
       "      <th>sleepy/fatigued</th>\n",
       "      <td>3.09815</td>\n",
       "    </tr>\n",
       "    <tr>\n",
       "      <th>Not Stated party_sobriety</th>\n",
       "      <td>2.99951</td>\n",
       "    </tr>\n",
       "    <tr>\n",
       "      <th>under drug influence</th>\n",
       "      <td>2.95399</td>\n",
       "    </tr>\n",
       "    <tr>\n",
       "      <th>none</th>\n",
       "      <td>2.65649</td>\n",
       "    </tr>\n",
       "    <tr>\n",
       "      <th>manual</th>\n",
       "      <td>2.34333</td>\n",
       "    </tr>\n",
       "    <tr>\n",
       "      <th>dry</th>\n",
       "      <td>2.12183</td>\n",
       "    </tr>\n",
       "    <tr>\n",
       "      <th>functioning</th>\n",
       "      <td>1.94540</td>\n",
       "    </tr>\n",
       "    <tr>\n",
       "      <th>dark with street lights</th>\n",
       "      <td>1.49600</td>\n",
       "    </tr>\n",
       "    <tr>\n",
       "      <th>highway</th>\n",
       "      <td>1.45477</td>\n",
       "    </tr>\n",
       "    <tr>\n",
       "      <th>auto</th>\n",
       "      <td>1.21576</td>\n",
       "    </tr>\n",
       "    <tr>\n",
       "      <th>wet</th>\n",
       "      <td>1.00951</td>\n",
       "    </tr>\n",
       "    <tr>\n",
       "      <th>snowy</th>\n",
       "      <td>0.94091</td>\n",
       "    </tr>\n",
       "    <tr>\n",
       "      <th>ramp</th>\n",
       "      <td>0.84688</td>\n",
       "    </tr>\n",
       "    <tr>\n",
       "      <th>dark with no street lights</th>\n",
       "      <td>0.80394</td>\n",
       "    </tr>\n",
       "    <tr>\n",
       "      <th>not applicable_x</th>\n",
       "      <td>0.78455</td>\n",
       "    </tr>\n",
       "    <tr>\n",
       "      <th>impairment - physical</th>\n",
       "      <td>0.75805</td>\n",
       "    </tr>\n",
       "    <tr>\n",
       "      <th>not applicable_y</th>\n",
       "      <td>0.68416</td>\n",
       "    </tr>\n",
       "    <tr>\n",
       "      <th>Not Stated location_type</th>\n",
       "      <td>0.66747</td>\n",
       "    </tr>\n",
       "    <tr>\n",
       "      <th>clear</th>\n",
       "      <td>0.39003</td>\n",
       "    </tr>\n",
       "    <tr>\n",
       "      <th>daylight</th>\n",
       "      <td>0.30722</td>\n",
       "    </tr>\n",
       "    <tr>\n",
       "      <th>loose material</th>\n",
       "      <td>0.27493</td>\n",
       "    </tr>\n",
       "    <tr>\n",
       "      <th>Not Stated road_surface</th>\n",
       "      <td>0.20636</td>\n",
       "    </tr>\n",
       "    <tr>\n",
       "      <th>impairment unknown</th>\n",
       "      <td>0.17434</td>\n",
       "    </tr>\n",
       "    <tr>\n",
       "      <th>Not Stated weather_1</th>\n",
       "      <td>0.16733</td>\n",
       "    </tr>\n",
       "    <tr>\n",
       "      <th>Not Stated vehicle_transmission</th>\n",
       "      <td>0.14981</td>\n",
       "    </tr>\n",
       "    <tr>\n",
       "      <th>dusk or dawn</th>\n",
       "      <td>0.14753</td>\n",
       "    </tr>\n",
       "    <tr>\n",
       "      <th>had been drinking, impairment unknown</th>\n",
       "      <td>0.14079</td>\n",
       "    </tr>\n",
       "    <tr>\n",
       "      <th>cloudy</th>\n",
       "      <td>0.13046</td>\n",
       "    </tr>\n",
       "    <tr>\n",
       "      <th>intersection</th>\n",
       "      <td>0.12341</td>\n",
       "    </tr>\n",
       "    <tr>\n",
       "      <th>normal</th>\n",
       "      <td>0.12281</td>\n",
       "    </tr>\n",
       "    <tr>\n",
       "      <th>construction</th>\n",
       "      <td>0.08456</td>\n",
       "    </tr>\n",
       "    <tr>\n",
       "      <th>Not Stated lighting</th>\n",
       "      <td>0.06952</td>\n",
       "    </tr>\n",
       "    <tr>\n",
       "      <th>had been drinking, not under influence</th>\n",
       "      <td>0.06424</td>\n",
       "    </tr>\n",
       "    <tr>\n",
       "      <th>G</th>\n",
       "      <td>0.06298</td>\n",
       "    </tr>\n",
       "    <tr>\n",
       "      <th>Not Stated road_condition_1</th>\n",
       "      <td>0.06167</td>\n",
       "    </tr>\n",
       "    <tr>\n",
       "      <th>raining</th>\n",
       "      <td>0.06010</td>\n",
       "    </tr>\n",
       "    <tr>\n",
       "      <th>other road_condition_1</th>\n",
       "      <td>0.05607</td>\n",
       "    </tr>\n",
       "    <tr>\n",
       "      <th>reduced width</th>\n",
       "      <td>0.05424</td>\n",
       "    </tr>\n",
       "    <tr>\n",
       "      <th>snowing</th>\n",
       "      <td>0.04048</td>\n",
       "    </tr>\n",
       "    <tr>\n",
       "      <th>holes</th>\n",
       "      <td>0.03801</td>\n",
       "    </tr>\n",
       "    <tr>\n",
       "      <th>dark with street lights not functioning</th>\n",
       "      <td>0.03389</td>\n",
       "    </tr>\n",
       "    <tr>\n",
       "      <th>Not Stated control_device</th>\n",
       "      <td>0.02015</td>\n",
       "    </tr>\n",
       "    <tr>\n",
       "      <th>other weather_1</th>\n",
       "      <td>0.01932</td>\n",
       "    </tr>\n",
       "    <tr>\n",
       "      <th>flooded</th>\n",
       "      <td>0.01923</td>\n",
       "    </tr>\n",
       "    <tr>\n",
       "      <th>obstruction</th>\n",
       "      <td>0.01783</td>\n",
       "    </tr>\n",
       "    <tr>\n",
       "      <th>fog</th>\n",
       "      <td>0.01764</td>\n",
       "    </tr>\n",
       "    <tr>\n",
       "      <th>slippery</th>\n",
       "      <td>0.01341</td>\n",
       "    </tr>\n",
       "    <tr>\n",
       "      <th>not functioning</th>\n",
       "      <td>0.00778</td>\n",
       "    </tr>\n",
       "    <tr>\n",
       "      <th>obscured</th>\n",
       "      <td>0.00183</td>\n",
       "    </tr>\n",
       "    <tr>\n",
       "      <th>wind</th>\n",
       "      <td>0.00000</td>\n",
       "    </tr>\n",
       "  </tbody>\n",
       "</table>\n",
       "</div>"
      ],
      "text/plain": [
       "                                               0\n",
       "had not been drinking                   35.90470\n",
       "had been drinking, under influence      26.69182\n",
       "Not Stated party_drug_physical           5.54481\n",
       "sleepy/fatigued                          3.09815\n",
       "Not Stated party_sobriety                2.99951\n",
       "under drug influence                     2.95399\n",
       "none                                     2.65649\n",
       "manual                                   2.34333\n",
       "dry                                      2.12183\n",
       "functioning                              1.94540\n",
       "dark with street lights                  1.49600\n",
       "highway                                  1.45477\n",
       "auto                                     1.21576\n",
       "wet                                      1.00951\n",
       "snowy                                    0.94091\n",
       "ramp                                     0.84688\n",
       "dark with no street lights               0.80394\n",
       "not applicable_x                         0.78455\n",
       "impairment - physical                    0.75805\n",
       "not applicable_y                         0.68416\n",
       "Not Stated location_type                 0.66747\n",
       "clear                                    0.39003\n",
       "daylight                                 0.30722\n",
       "loose material                           0.27493\n",
       "Not Stated road_surface                  0.20636\n",
       "impairment unknown                       0.17434\n",
       "Not Stated weather_1                     0.16733\n",
       "Not Stated vehicle_transmission          0.14981\n",
       "dusk or dawn                             0.14753\n",
       "had been drinking, impairment unknown    0.14079\n",
       "cloudy                                   0.13046\n",
       "intersection                             0.12341\n",
       "normal                                   0.12281\n",
       "construction                             0.08456\n",
       "Not Stated lighting                      0.06952\n",
       "had been drinking, not under influence   0.06424\n",
       "G                                        0.06298\n",
       "Not Stated road_condition_1              0.06167\n",
       "raining                                  0.06010\n",
       "other road_condition_1                   0.05607\n",
       "reduced width                            0.05424\n",
       "snowing                                  0.04048\n",
       "holes                                    0.03801\n",
       "dark with street lights not functioning  0.03389\n",
       "Not Stated control_device                0.02015\n",
       "other weather_1                          0.01932\n",
       "flooded                                  0.01923\n",
       "obstruction                              0.01783\n",
       "fog                                      0.01764\n",
       "slippery                                 0.01341\n",
       "not functioning                          0.00778\n",
       "obscured                                 0.00183\n",
       "wind                                     0.00000"
      ]
     },
     "execution_count": 110,
     "metadata": {},
     "output_type": "execute_result"
    }
   ],
   "source": [
    "df = pd.DataFrame((cat_model.feature_importances_)).T\n",
    "df.columns = train.columns\n",
    "df.T.sort_values(0,ascending=0)"
   ]
  },
  {
   "cell_type": "markdown",
   "id": "5da60676",
   "metadata": {},
   "source": [
    "### Для одного из выявленных важных факторов проведите дополнительное исследование:"
   ]
  },
  {
   "cell_type": "code",
   "execution_count": 111,
   "id": "3474c2e3",
   "metadata": {},
   "outputs": [
    {
     "data": {
      "image/png": "[encoded data removed]",
      "text/plain": [
       "<Figure size 1152x720 with 1 Axes>"
      ]
     },
     "metadata": {
      "needs_background": "light"
     },
     "output_type": "display_data"
    }
   ],
   "source": [
    "pd.crosstab(full['party_drug_physical'],full['at_fault']).plot(kind='bar',figsize=(16,10))\n",
    "plt.xlabel('Состояние участника: физическое или с учётом принятых лекарств')\n",
    "plt.ylabel('Количество ДТП')\n",
    "plt.show()"
   ]
  },
  {
   "cell_type": "markdown",
   "id": "557471e7",
   "metadata": {},
   "source": [
    "Если Состояние участника это G — Impairment Unknown (Не известно) то чаще всего автомобиль попадет в ДТП.\n",
    "Нужно оборудовать автомобиль тестером на состояние человека физическое или с учётом принятых лекарств."
   ]
  },
  {
   "cell_type": "markdown",
   "id": "2e570001",
   "metadata": {},
   "source": [
    "## Выводы"
   ]
  },
  {
   "cell_type": "markdown",
   "id": "06bd13fc",
   "metadata": {
    "pycharm": {
     "name": "#%% md\n"
    }
   },
   "source": [
    "- Лучшей моделью получился нейронка c лучше всех определяет и находит автомобиль с возможным ДТП.\n",
    "- На данный момент определяет машины с ДТП меньше половины из всех возможных правильно, если улучшить метрики вполне адекватно можно использовать эту модель.\n",
    "- Чтобы улучшить модель можно добавить данные о техническом состаянии автомобиля."
   ]
  }
 ],
 "metadata": {
  "ExecuteTimeLog": [
   {
    "duration": 1895,
    "start_time": "2022-06-06T18:52:02.159Z"
   },
   {
    "duration": 3,
    "start_time": "2022-06-06T18:52:26.956Z"
   },
   {
    "duration": 3356,
    "start_time": "2022-06-06T18:52:47.404Z"
   },
   {
    "duration": 129743,
    "start_time": "2022-06-06T18:56:59.348Z"
   },
   {
    "duration": 6,
    "start_time": "2022-06-06T19:09:20.324Z"
   },
   {
    "duration": 4,
    "start_time": "2022-06-06T19:09:20.732Z"
   },
   {
    "duration": 273,
    "start_time": "2022-06-06T19:09:20.980Z"
   },
   {
    "duration": 35,
    "start_time": "2022-06-06T19:09:28.523Z"
   },
   {
    "duration": 15,
    "start_time": "2022-06-06T19:11:32.477Z"
   },
   {
    "duration": 35,
    "start_time": "2022-06-06T19:12:04.565Z"
   },
   {
    "duration": 19,
    "start_time": "2022-06-06T19:12:05.081Z"
   },
   {
    "duration": 36,
    "start_time": "2022-06-06T19:12:33.135Z"
   },
   {
    "duration": 20,
    "start_time": "2022-06-06T19:12:33.319Z"
   },
   {
    "duration": 34,
    "start_time": "2022-06-06T19:12:41.563Z"
   },
   {
    "duration": 14,
    "start_time": "2022-06-06T19:12:41.761Z"
   },
   {
    "duration": 34,
    "start_time": "2022-06-06T19:13:33.240Z"
   },
   {
    "duration": 10,
    "start_time": "2022-06-06T19:13:33.701Z"
   },
   {
    "duration": 82,
    "start_time": "2022-06-06T19:14:14.516Z"
   },
   {
    "duration": 9,
    "start_time": "2022-06-06T19:14:14.773Z"
   },
   {
    "duration": 39,
    "start_time": "2022-06-06T19:14:26.605Z"
   },
   {
    "duration": 7,
    "start_time": "2022-06-06T19:14:27.151Z"
   },
   {
    "duration": 18840,
    "start_time": "2022-06-06T20:01:58.363Z"
   },
   {
    "duration": 24,
    "start_time": "2022-06-06T20:02:17.204Z"
   },
   {
    "duration": 12871,
    "start_time": "2022-06-06T20:02:17.229Z"
   },
   {
    "duration": 12,
    "start_time": "2022-06-06T20:02:30.102Z"
   },
   {
    "duration": 4210,
    "start_time": "2022-06-06T20:02:30.124Z"
   },
   {
    "duration": 12,
    "start_time": "2022-06-06T20:02:34.345Z"
   },
   {
    "duration": 3585,
    "start_time": "2022-06-06T20:02:34.359Z"
   },
   {
    "duration": 8,
    "start_time": "2022-06-06T20:02:37.946Z"
   },
   {
    "duration": 221,
    "start_time": "2022-06-06T20:02:52.530Z"
   },
   {
    "duration": 3,
    "start_time": "2022-06-06T20:06:14.563Z"
   },
   {
    "duration": 173,
    "start_time": "2022-06-06T20:06:18.948Z"
   },
   {
    "duration": 37,
    "start_time": "2022-06-06T20:09:38.331Z"
   },
   {
    "duration": 12955,
    "start_time": "2022-06-06T20:09:43.904Z"
   },
   {
    "duration": 5193,
    "start_time": "2022-06-06T20:54:09.867Z"
   },
   {
    "duration": 2050,
    "start_time": "2022-06-06T20:54:25.335Z"
   },
   {
    "duration": 2797,
    "start_time": "2022-06-06T20:54:38.092Z"
   },
   {
    "duration": 1465,
    "start_time": "2022-06-07T05:58:15.620Z"
   },
   {
    "duration": 3,
    "start_time": "2022-06-07T05:58:17.087Z"
   },
   {
    "duration": 226,
    "start_time": "2022-06-07T05:58:17.092Z"
   },
   {
    "duration": 17285,
    "start_time": "2022-06-07T05:58:17.321Z"
   },
   {
    "duration": 21,
    "start_time": "2022-06-07T05:58:34.608Z"
   },
   {
    "duration": 11670,
    "start_time": "2022-06-07T05:58:34.632Z"
   },
   {
    "duration": 11,
    "start_time": "2022-06-07T05:58:46.304Z"
   },
   {
    "duration": 3881,
    "start_time": "2022-06-07T05:58:46.318Z"
   },
   {
    "duration": 10,
    "start_time": "2022-06-07T05:58:50.201Z"
   },
   {
    "duration": 3424,
    "start_time": "2022-06-07T05:58:50.214Z"
   },
   {
    "duration": 7,
    "start_time": "2022-06-07T05:58:53.640Z"
   },
   {
    "duration": 11163,
    "start_time": "2022-06-07T05:58:53.649Z"
   },
   {
    "duration": 4931,
    "start_time": "2022-06-07T05:59:04.814Z"
   },
   {
    "duration": 2211,
    "start_time": "2022-06-07T05:59:09.748Z"
   },
   {
    "duration": 2874,
    "start_time": "2022-06-07T05:59:11.961Z"
   },
   {
    "duration": 10,
    "start_time": "2022-06-07T06:01:39.502Z"
   },
   {
    "duration": 357,
    "start_time": "2022-06-07T06:24:51.078Z"
   },
   {
    "duration": 10,
    "start_time": "2022-06-07T06:24:56.761Z"
   },
   {
    "duration": 192,
    "start_time": "2022-06-07T06:25:08.911Z"
   },
   {
    "duration": 9,
    "start_time": "2022-06-07T06:25:10.295Z"
   },
   {
    "duration": 333,
    "start_time": "2022-06-07T06:25:14.624Z"
   },
   {
    "duration": 9,
    "start_time": "2022-06-07T06:25:14.960Z"
   },
   {
    "duration": 264,
    "start_time": "2022-06-07T06:26:23.804Z"
   },
   {
    "duration": 7,
    "start_time": "2022-06-07T06:26:24.612Z"
   },
   {
    "duration": 280,
    "start_time": "2022-06-07T06:26:30.596Z"
   },
   {
    "duration": 8,
    "start_time": "2022-06-07T06:26:31.884Z"
   },
   {
    "duration": 260,
    "start_time": "2022-06-07T06:26:49.886Z"
   },
   {
    "duration": 7,
    "start_time": "2022-06-07T06:26:50.709Z"
   },
   {
    "duration": 252,
    "start_time": "2022-06-07T06:26:56.286Z"
   },
   {
    "duration": 7,
    "start_time": "2022-06-07T06:26:56.885Z"
   },
   {
    "duration": 219,
    "start_time": "2022-06-07T06:30:39.213Z"
   },
   {
    "duration": 127,
    "start_time": "2022-06-07T06:31:00.133Z"
   },
   {
    "duration": 149,
    "start_time": "2022-06-07T06:31:09.487Z"
   },
   {
    "duration": 5,
    "start_time": "2022-06-07T06:31:39.296Z"
   },
   {
    "duration": 7,
    "start_time": "2022-06-07T06:31:48.472Z"
   },
   {
    "duration": 174,
    "start_time": "2022-06-07T06:33:03.278Z"
   },
   {
    "duration": 182,
    "start_time": "2022-06-07T06:38:50.744Z"
   },
   {
    "duration": 273,
    "start_time": "2022-06-07T06:38:55.748Z"
   },
   {
    "duration": 180,
    "start_time": "2022-06-07T06:40:08.057Z"
   },
   {
    "duration": 86,
    "start_time": "2022-06-07T06:59:00.860Z"
   },
   {
    "duration": 2690,
    "start_time": "2022-06-07T06:59:09.022Z"
   },
   {
    "duration": 20,
    "start_time": "2022-06-07T06:59:52.505Z"
   },
   {
    "duration": 54,
    "start_time": "2022-06-07T11:44:10.288Z"
   },
   {
    "duration": 1354,
    "start_time": "2022-06-07T11:44:16.568Z"
   },
   {
    "duration": 3,
    "start_time": "2022-06-07T11:44:17.925Z"
   },
   {
    "duration": 43,
    "start_time": "2022-06-07T11:44:17.929Z"
   },
   {
    "duration": 17545,
    "start_time": "2022-06-07T11:44:17.974Z"
   },
   {
    "duration": 19,
    "start_time": "2022-06-07T11:44:35.522Z"
   },
   {
    "duration": 11816,
    "start_time": "2022-06-07T11:44:35.542Z"
   },
   {
    "duration": 10,
    "start_time": "2022-06-07T11:44:47.360Z"
   },
   {
    "duration": 3851,
    "start_time": "2022-06-07T11:44:47.372Z"
   },
   {
    "duration": 10,
    "start_time": "2022-06-07T11:44:51.225Z"
   },
   {
    "duration": 3356,
    "start_time": "2022-06-07T11:44:51.237Z"
   },
   {
    "duration": 8,
    "start_time": "2022-06-07T11:44:54.595Z"
   },
   {
    "duration": 11426,
    "start_time": "2022-06-07T11:44:54.604Z"
   },
   {
    "duration": 5126,
    "start_time": "2022-06-07T11:45:06.032Z"
   },
   {
    "duration": 2304,
    "start_time": "2022-06-07T11:45:11.161Z"
   },
   {
    "duration": 2841,
    "start_time": "2022-06-07T11:45:13.467Z"
   },
   {
    "duration": 10,
    "start_time": "2022-06-07T11:45:16.310Z"
   },
   {
    "duration": 272,
    "start_time": "2022-06-07T11:45:16.322Z"
   },
   {
    "duration": 189,
    "start_time": "2022-06-07T11:45:16.597Z"
   },
   {
    "duration": 1313,
    "start_time": "2022-06-07T11:45:57.025Z"
   },
   {
    "duration": 3,
    "start_time": "2022-06-07T11:45:58.341Z"
   },
   {
    "duration": 41,
    "start_time": "2022-06-07T11:45:58.346Z"
   },
   {
    "duration": 17450,
    "start_time": "2022-06-07T11:45:58.389Z"
   },
   {
    "duration": 22,
    "start_time": "2022-06-07T11:46:15.842Z"
   },
   {
    "duration": 12244,
    "start_time": "2022-06-07T11:46:15.866Z"
   },
   {
    "duration": 12,
    "start_time": "2022-06-07T11:46:28.112Z"
   },
   {
    "duration": 4159,
    "start_time": "2022-06-07T11:46:28.126Z"
   },
   {
    "duration": 13,
    "start_time": "2022-06-07T11:46:32.287Z"
   },
   {
    "duration": 3382,
    "start_time": "2022-06-07T11:46:32.302Z"
   },
   {
    "duration": 11,
    "start_time": "2022-06-07T11:46:35.686Z"
   },
   {
    "duration": 11543,
    "start_time": "2022-06-07T11:46:35.699Z"
   },
   {
    "duration": 4920,
    "start_time": "2022-06-07T11:46:47.244Z"
   },
   {
    "duration": 2257,
    "start_time": "2022-06-07T11:46:52.168Z"
   },
   {
    "duration": 2927,
    "start_time": "2022-06-07T11:46:54.426Z"
   },
   {
    "duration": 8,
    "start_time": "2022-06-07T11:46:57.354Z"
   },
   {
    "duration": 278,
    "start_time": "2022-06-07T11:46:57.364Z"
   },
   {
    "duration": 176,
    "start_time": "2022-06-07T11:46:57.644Z"
   },
   {
    "duration": 58,
    "start_time": "2022-06-07T11:50:03.301Z"
   },
   {
    "duration": 1389,
    "start_time": "2022-06-07T11:50:14.645Z"
   },
   {
    "duration": 4,
    "start_time": "2022-06-07T11:50:16.038Z"
   },
   {
    "duration": 47,
    "start_time": "2022-06-07T11:50:16.045Z"
   },
   {
    "duration": 17717,
    "start_time": "2022-06-07T11:50:16.094Z"
   },
   {
    "duration": 22,
    "start_time": "2022-06-07T11:50:33.813Z"
   },
   {
    "duration": 11830,
    "start_time": "2022-06-07T11:50:33.836Z"
   },
   {
    "duration": 9,
    "start_time": "2022-06-07T11:50:45.668Z"
   },
   {
    "duration": 3918,
    "start_time": "2022-06-07T11:50:45.679Z"
   },
   {
    "duration": 10,
    "start_time": "2022-06-07T11:50:49.598Z"
   },
   {
    "duration": 3363,
    "start_time": "2022-06-07T11:50:49.611Z"
   },
   {
    "duration": 18,
    "start_time": "2022-06-07T11:50:52.976Z"
   },
   {
    "duration": 11768,
    "start_time": "2022-06-07T11:50:52.995Z"
   },
   {
    "duration": 5026,
    "start_time": "2022-06-07T11:51:04.765Z"
   },
   {
    "duration": 2286,
    "start_time": "2022-06-07T11:51:09.794Z"
   },
   {
    "duration": 3085,
    "start_time": "2022-06-07T11:51:12.082Z"
   },
   {
    "duration": 9,
    "start_time": "2022-06-07T11:51:15.169Z"
   },
   {
    "duration": 270,
    "start_time": "2022-06-07T11:51:15.180Z"
   },
   {
    "duration": 185,
    "start_time": "2022-06-07T11:51:15.452Z"
   },
   {
    "duration": 1327,
    "start_time": "2022-06-07T11:51:46.112Z"
   },
   {
    "duration": 4,
    "start_time": "2022-06-07T11:51:47.441Z"
   },
   {
    "duration": 53,
    "start_time": "2022-06-07T11:51:47.446Z"
   },
   {
    "duration": 17237,
    "start_time": "2022-06-07T11:51:47.505Z"
   },
   {
    "duration": 20,
    "start_time": "2022-06-07T11:52:04.744Z"
   },
   {
    "duration": 11856,
    "start_time": "2022-06-07T11:52:04.766Z"
   },
   {
    "duration": 10,
    "start_time": "2022-06-07T11:52:16.624Z"
   },
   {
    "duration": 3900,
    "start_time": "2022-06-07T11:52:16.635Z"
   },
   {
    "duration": 15,
    "start_time": "2022-06-07T11:52:20.538Z"
   },
   {
    "duration": 3428,
    "start_time": "2022-06-07T11:52:20.555Z"
   },
   {
    "duration": 10,
    "start_time": "2022-06-07T11:52:23.985Z"
   },
   {
    "duration": 11629,
    "start_time": "2022-06-07T11:52:24.000Z"
   },
   {
    "duration": 4947,
    "start_time": "2022-06-07T11:52:35.631Z"
   },
   {
    "duration": 2230,
    "start_time": "2022-06-07T11:52:40.579Z"
   },
   {
    "duration": 3069,
    "start_time": "2022-06-07T11:52:42.811Z"
   },
   {
    "duration": 18,
    "start_time": "2022-06-07T11:52:45.881Z"
   },
   {
    "duration": 287,
    "start_time": "2022-06-07T11:52:45.900Z"
   },
   {
    "duration": 183,
    "start_time": "2022-06-07T11:52:46.188Z"
   },
   {
    "duration": 4331,
    "start_time": "2022-06-10T17:35:48.092Z"
   },
   {
    "duration": 5651,
    "start_time": "2022-06-10T17:35:58.256Z"
   },
   {
    "duration": 4,
    "start_time": "2022-06-10T17:36:03.909Z"
   },
   {
    "duration": 240,
    "start_time": "2022-06-10T17:36:04.686Z"
   },
   {
    "duration": 18988,
    "start_time": "2022-06-10T17:36:09.351Z"
   },
   {
    "duration": 21,
    "start_time": "2022-06-10T17:36:28.342Z"
   },
   {
    "duration": 49,
    "start_time": "2022-06-10T17:37:53.115Z"
   },
   {
    "duration": 4854,
    "start_time": "2022-06-10T17:37:59.110Z"
   },
   {
    "duration": 4,
    "start_time": "2022-06-10T17:38:05.128Z"
   },
   {
    "duration": 273,
    "start_time": "2022-06-10T17:38:05.955Z"
   },
   {
    "duration": 19177,
    "start_time": "2022-06-10T17:38:07.033Z"
   },
   {
    "duration": 19,
    "start_time": "2022-06-10T17:38:26.212Z"
   },
   {
    "duration": 3553,
    "start_time": "2022-06-10T17:39:42.011Z"
   },
   {
    "duration": 4564,
    "start_time": "2022-06-10T17:39:46.309Z"
   },
   {
    "duration": 3,
    "start_time": "2022-06-10T17:39:50.875Z"
   },
   {
    "duration": 190,
    "start_time": "2022-06-10T17:39:50.880Z"
   },
   {
    "duration": 2134,
    "start_time": "2022-06-10T17:40:14.317Z"
   },
   {
    "duration": 2300,
    "start_time": "2022-06-10T17:40:16.453Z"
   },
   {
    "duration": 3,
    "start_time": "2022-06-10T17:40:18.755Z"
   },
   {
    "duration": 40,
    "start_time": "2022-06-10T17:40:19.714Z"
   },
   {
    "duration": 18935,
    "start_time": "2022-06-10T17:40:26.122Z"
   },
   {
    "duration": 155,
    "start_time": "2022-06-10T17:43:30.232Z"
   },
   {
    "duration": 4,
    "start_time": "2022-06-10T17:43:45.827Z"
   },
   {
    "duration": 3,
    "start_time": "2022-06-10T17:43:50.144Z"
   },
   {
    "duration": 264,
    "start_time": "2022-06-10T17:43:53.141Z"
   },
   {
    "duration": 3323,
    "start_time": "2022-06-10T17:45:51.024Z"
   },
   {
    "duration": 3642,
    "start_time": "2022-06-10T17:45:54.349Z"
   },
   {
    "duration": 5,
    "start_time": "2022-06-10T17:45:57.993Z"
   },
   {
    "duration": 220,
    "start_time": "2022-06-10T17:46:02.718Z"
   },
   {
    "duration": 11071,
    "start_time": "2022-06-10T18:49:40.091Z"
   },
   {
    "duration": 1635,
    "start_time": "2022-06-10T18:49:58.823Z"
   },
   {
    "duration": 3,
    "start_time": "2022-06-10T18:50:03.990Z"
   },
   {
    "duration": 150,
    "start_time": "2022-06-10T18:50:05.326Z"
   },
   {
    "duration": 3994,
    "start_time": "2022-06-10T18:51:38.018Z"
   },
   {
    "duration": 8105,
    "start_time": "2022-06-10T18:52:00.275Z"
   },
   {
    "duration": 27,
    "start_time": "2022-06-10T18:52:35.554Z"
   },
   {
    "duration": 278,
    "start_time": "2022-06-10T18:54:54.193Z"
   },
   {
    "duration": 24,
    "start_time": "2022-06-10T18:56:07.557Z"
   },
   {
    "duration": 60,
    "start_time": "2022-06-10T18:56:15.763Z"
   },
   {
    "duration": 50,
    "start_time": "2022-06-10T18:57:02.361Z"
   },
   {
    "duration": 37,
    "start_time": "2022-06-10T18:58:16.871Z"
   },
   {
    "duration": 4,
    "start_time": "2022-06-10T18:58:57.732Z"
   },
   {
    "duration": 276,
    "start_time": "2022-06-10T19:01:04.529Z"
   },
   {
    "duration": 69,
    "start_time": "2022-06-10T19:01:05.060Z"
   },
   {
    "duration": 85,
    "start_time": "2022-06-10T19:01:05.631Z"
   },
   {
    "duration": 148,
    "start_time": "2022-06-10T19:01:05.826Z"
   },
   {
    "duration": 104,
    "start_time": "2022-06-10T19:01:06.007Z"
   },
   {
    "duration": 104,
    "start_time": "2022-06-10T19:01:06.484Z"
   },
   {
    "duration": 70,
    "start_time": "2022-06-10T19:01:06.986Z"
   },
   {
    "duration": 139,
    "start_time": "2022-06-10T19:01:07.233Z"
   },
   {
    "duration": 110,
    "start_time": "2022-06-10T19:01:07.693Z"
   },
   {
    "duration": 36,
    "start_time": "2022-06-10T19:01:07.916Z"
   },
   {
    "duration": 68,
    "start_time": "2022-06-10T19:01:08.282Z"
   },
   {
    "duration": 6,
    "start_time": "2022-06-10T19:01:08.480Z"
   },
   {
    "duration": 7,
    "start_time": "2022-06-10T19:01:08.671Z"
   },
   {
    "duration": 3,
    "start_time": "2022-06-10T19:01:09.364Z"
   },
   {
    "duration": 37,
    "start_time": "2022-06-10T19:01:10.416Z"
   },
   {
    "duration": 418,
    "start_time": "2022-06-10T19:01:10.932Z"
   },
   {
    "duration": 52,
    "start_time": "2022-06-10T19:01:11.590Z"
   },
   {
    "duration": 25,
    "start_time": "2022-06-10T19:02:08.420Z"
   },
   {
    "duration": 5,
    "start_time": "2022-06-10T19:04:54.477Z"
   },
   {
    "duration": 19,
    "start_time": "2022-06-10T19:07:43.721Z"
   },
   {
    "duration": 196743,
    "start_time": "2022-06-10T19:13:45.416Z"
   },
   {
    "duration": 3,
    "start_time": "2022-06-10T19:23:39.233Z"
   },
   {
    "duration": 8483,
    "start_time": "2022-06-10T19:23:40.102Z"
   },
   {
    "duration": 68,
    "start_time": "2022-06-10T19:23:48.587Z"
   },
   {
    "duration": 4,
    "start_time": "2022-06-10T19:23:53.256Z"
   },
   {
    "duration": 1391396,
    "start_time": "2022-06-10T19:23:57.349Z"
   },
   {
    "duration": 0,
    "start_time": "2022-06-10T19:47:08.747Z"
   },
   {
    "duration": 0,
    "start_time": "2022-06-10T19:47:08.748Z"
   },
   {
    "duration": 0,
    "start_time": "2022-06-10T19:47:08.749Z"
   },
   {
    "duration": 0,
    "start_time": "2022-06-10T19:47:08.751Z"
   },
   {
    "duration": 16,
    "start_time": "2022-06-10T19:47:19.991Z"
   },
   {
    "duration": 4,
    "start_time": "2022-06-10T19:47:26.353Z"
   }
  ],
  "kernelspec": {
   "display_name": "Python 3 (ipykernel)",
   "language": "python",
   "name": "python3"
  },
  "language_info": {
   "codemirror_mode": {
    "name": "ipython",
    "version": 3
   },
   "file_extension": ".py",
   "mimetype": "text/x-python",
   "name": "python",
   "nbconvert_exporter": "python",
   "pygments_lexer": "ipython3",
   "version": "3.9.5"
  },
  "toc": {
   "base_numbering": 1,
   "nav_menu": {},
   "number_sections": false,
   "sideBar": true,
   "skip_h1_title": false,
   "title_cell": "Table of Contents",
   "title_sidebar": "Contents",
   "toc_cell": false,
   "toc_position": {},
   "toc_section_display": true,
   "toc_window_display": true
  },
  "varInspector": {
   "cols": {
    "lenName": 16,
    "lenType": 16,
    "lenVar": 40
   },
   "kernels_config": {
    "python": {
     "delete_cmd_postfix": "",
     "delete_cmd_prefix": "del ",
     "library": "var_list.py",
     "varRefreshCmd": "print(var_dic_list())"
    },
    "r": {
     "delete_cmd_postfix": ") ",
     "delete_cmd_prefix": "rm(",
     "library": "var_list.r",
     "varRefreshCmd": "cat(var_dic_list()) "
    }
   },
   "types_to_exclude": [
    "module",
    "function",
    "builtin_function_or_method",
    "instance",
    "_Feature"
   ],
   "window_display": false
  }
 },
 "nbformat": 4,
 "nbformat_minor": 5
}