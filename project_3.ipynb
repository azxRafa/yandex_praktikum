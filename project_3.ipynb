{
 "cells": [
  {
   "cell_type": "markdown",
   "metadata": {
    "toc": true
   },
   "source": [
    "<h1>Содержание<span class=\"tocSkip\"></span></h1>\n",
    "<div class=\"toc\"><ul class=\"toc-item\"><li><span><a href=\"#Изучение-данных-из-файла\" data-toc-modified-id=\"Изучение-данных-из-файла-1\"><span class=\"toc-item-num\">1&nbsp;&nbsp;</span>Изучение данных из файла</a></span><ul class=\"toc-item\"><li><span><a href=\"#Вывод\" data-toc-modified-id=\"Вывод-1.1\"><span class=\"toc-item-num\">1.1&nbsp;&nbsp;</span>Вывод</a></span></li></ul></li><li><span><a href=\"#Предобработка-данных\" data-toc-modified-id=\"Предобработка-данных-2\"><span class=\"toc-item-num\">2&nbsp;&nbsp;</span>Предобработка данных</a></span><ul class=\"toc-item\"><li><span><a href=\"#Вывод\" data-toc-modified-id=\"Вывод-2.1\"><span class=\"toc-item-num\">2.1&nbsp;&nbsp;</span>Вывод</a></span></li></ul></li><li><span><a href=\"#Расчёты-и-добавление-результатов-в-таблицу\" data-toc-modified-id=\"Расчёты-и-добавление-результатов-в-таблицу-3\"><span class=\"toc-item-num\">3&nbsp;&nbsp;</span>Расчёты и добавление результатов в таблицу</a></span><ul class=\"toc-item\"><li><span><a href=\"#Посчитано-и-добавлено-в-таблицу:-цена-квадратного-метра\" data-toc-modified-id=\"Посчитано-и-добавлено-в-таблицу:-цена-квадратного-метра-3.1\"><span class=\"toc-item-num\">3.1&nbsp;&nbsp;</span>Посчитано и добавлено в таблицу: цена квадратного метра</a></span></li><li><span><a href=\"#Посчитано-и-добавлено-в-таблицу:-день-недели,-месяц-и-год-публикации-объявления\" data-toc-modified-id=\"Посчитано-и-добавлено-в-таблицу:-день-недели,-месяц-и-год-публикации-объявления-3.2\"><span class=\"toc-item-num\">3.2&nbsp;&nbsp;</span>Посчитано и добавлено в таблицу: день недели, месяц и год публикации объявления</a></span></li><li><span><a href=\"#Посчитано-и-добавлено-в-таблицу:-этаж-квартиры;-варианты-—-первый,-последний,-другой\" data-toc-modified-id=\"Посчитано-и-добавлено-в-таблицу:-этаж-квартиры;-варианты-—-первый,-последний,-другой-3.3\"><span class=\"toc-item-num\">3.3&nbsp;&nbsp;</span>Посчитано и добавлено в таблицу: этаж квартиры; варианты — первый, последний, другой</a></span></li><li><span><a href=\"#Посчитано-и-добавлено-в-таблицу:-соотношение-жилой-и-общей-площади,-а-также-отношение-площади-кухни-к-общей\" data-toc-modified-id=\"Посчитано-и-добавлено-в-таблицу:-соотношение-жилой-и-общей-площади,-а-также-отношение-площади-кухни-к-общей-3.4\"><span class=\"toc-item-num\">3.4&nbsp;&nbsp;</span>Посчитано и добавлено в таблицу: соотношение жилой и общей площади, а также отношение площади кухни к общей</a></span></li><li><span><a href=\"#изучены-следующие-параметры:-площадь,-цена,-число-комнат,-высота-потолков\" data-toc-modified-id=\"изучены-следующие-параметры:-площадь,-цена,-число-комнат,-высота-потолков-3.5\"><span class=\"toc-item-num\">3.5&nbsp;&nbsp;</span>изучены следующие параметры: площадь, цена, число комнат, высота потолков</a></span></li><li><span><a href=\"#Вывод\" data-toc-modified-id=\"Вывод-3.6\"><span class=\"toc-item-num\">3.6&nbsp;&nbsp;</span>Вывод</a></span></li></ul></li><li><span><a href=\"#Исследовательский-анализ-данных\" data-toc-modified-id=\"Исследовательский-анализ-данных-4\"><span class=\"toc-item-num\">4&nbsp;&nbsp;</span>Исследовательский анализ данных</a></span><ul class=\"toc-item\"><li><span><a href=\"#задание:-&quot;Изучите-время-продажи-квартиры.-Постройте-гистограмму.-Посчитайте-среднее-и-медиану.-Опишите,-сколько-обычно-занимает-продажа.-Когда-можно-считать,-что-продажи-прошли-очень-быстро,-а-когда-необычно-долго?&quot;\" data-toc-modified-id=\"задание:-&quot;Изучите-время-продажи-квартиры.-Постройте-гистограмму.-Посчитайте-среднее-и-медиану.-Опишите,-сколько-обычно-занимает-продажа.-Когда-можно-считать,-что-продажи-прошли-очень-быстро,-а-когда-необычно-долго?&quot;-4.1\"><span class=\"toc-item-num\">4.1&nbsp;&nbsp;</span>задание: \"Изучите время продажи квартиры. Постройте гистограмму. Посчитайте среднее и медиану. Опишите, сколько обычно занимает продажа. Когда можно считать, что продажи прошли очень быстро, а когда необычно долго?\"</a></span><ul class=\"toc-item\"><li><span><a href=\"#Вывод\" data-toc-modified-id=\"Вывод-4.1.1\"><span class=\"toc-item-num\">4.1.1&nbsp;&nbsp;</span>Вывод</a></span></li></ul></li><li><span><a href=\"#задание:-&quot;Уберите-редкие-и-выбивающиеся-значения.-Опишите,-какие-особенности-обнаружили.&quot;\" data-toc-modified-id=\"задание:-&quot;Уберите-редкие-и-выбивающиеся-значения.-Опишите,-какие-особенности-обнаружили.&quot;-4.2\"><span class=\"toc-item-num\">4.2&nbsp;&nbsp;</span>задание: \"Уберите редкие и выбивающиеся значения. Опишите, какие особенности обнаружили.\"</a></span><ul class=\"toc-item\"><li><span><a href=\"#Вывод\" data-toc-modified-id=\"Вывод-4.2.1\"><span class=\"toc-item-num\">4.2.1&nbsp;&nbsp;</span>Вывод</a></span></li></ul></li><li><span><a href=\"#задание:-&quot;Какие-факторы-больше-всего-влияют-на-стоимость-квартиры?-Изучите,-зависит-ли-цена-от-квадратного-метра,-числа-комнат,-этажа-(первого-или-последнего),-удалённости-от-центра.-Также-изучите-зависимость-от-даты-размещения:-дня-недели,-месяца-и-года.-&quot;Выберите-10-населённых-пунктов-с-наибольшим-числом-объявлений.-Посчитайте-среднюю-цену-квадратного-метра-в-этих-населённых-пунктах.-Выделите-населённые-пункты-с-самой-высокой-и-низкой-стоимостью-жилья.-Эти-данные-можно-найти-по-имени-в-столбце-'locality_name'.-&quot;\" data-toc-modified-id=\"задание:-&quot;Какие-факторы-больше-всего-влияют-на-стоимость-квартиры?-Изучите,-зависит-ли-цена-от-квадратного-метра,-числа-комнат,-этажа-(первого-или-последнего),-удалённости-от-центра.-Также-изучите-зависимость-от-даты-размещения:-дня-недели,-месяца-и-года.-&quot;Выберите-10-населённых-пунктов-с-наибольшим-числом-объявлений.-Посчитайте-среднюю-цену-квадратного-метра-в-этих-населённых-пунктах.-Выделите-населённые-пункты-с-самой-высокой-и-низкой-стоимостью-жилья.-Эти-данные-можно-найти-по-имени-в-столбце-'locality_name'.-&quot;-4.3\"><span class=\"toc-item-num\">4.3&nbsp;&nbsp;</span>задание: \"Какие факторы больше всего влияют на стоимость квартиры? Изучите, зависит ли цена от квадратного метра, числа комнат, этажа (первого или последнего), удалённости от центра. Также изучите зависимость от даты размещения: дня недели, месяца и года. \"Выберите 10 населённых пунктов с наибольшим числом объявлений. Посчитайте среднюю цену квадратного метра в этих населённых пунктах. Выделите населённые пункты с самой высокой и низкой стоимостью жилья. Эти данные можно найти по имени в столбце 'locality_name'. \"</a></span><ul class=\"toc-item\"><li><span><a href=\"#Вывод\" data-toc-modified-id=\"Вывод-4.3.1\"><span class=\"toc-item-num\">4.3.1&nbsp;&nbsp;</span>Вывод</a></span></li></ul></li><li><span><a href=\"#выполнено-задание:-&quot;Изучите-предложения-квартир:-для-каждой-квартиры-есть-информация-о-расстоянии-до-центра.-Выделите-квартиры-в-Санкт-Петербурге-('locality_name').-Ваша-задача-—-выяснить,-какая-область-входит-в-центр.-Создайте-столбец-с-расстоянием-до-центра-в-километрах:-округлите-до-целых-значений.-После-этого-посчитайте-среднюю-цену-для-каждого-километра.-Постройте-график:-он-должен-показывать,-как-цена-зависит-от-удалённости-от-центра.-Определите-границу,-где-график-сильно-меняется-—-это-и-будет-центральная-зона.-&quot;\" data-toc-modified-id=\"выполнено-задание:-&quot;Изучите-предложения-квартир:-для-каждой-квартиры-есть-информация-о-расстоянии-до-центра.-Выделите-квартиры-в-Санкт-Петербурге-('locality_name').-Ваша-задача-—-выяснить,-какая-область-входит-в-центр.-Создайте-столбец-с-расстоянием-до-центра-в-километрах:-округлите-до-целых-значений.-После-этого-посчитайте-среднюю-цену-для-каждого-километра.-Постройте-график:-он-должен-показывать,-как-цена-зависит-от-удалённости-от-центра.-Определите-границу,-где-график-сильно-меняется-—-это-и-будет-центральная-зона.-&quot;-4.4\"><span class=\"toc-item-num\">4.4&nbsp;&nbsp;</span>выполнено задание: \"Изучите предложения квартир: для каждой квартиры есть информация о расстоянии до центра. Выделите квартиры в Санкт-Петербурге ('locality_name'). Ваша задача — выяснить, какая область входит в центр. Создайте столбец с расстоянием до центра в километрах: округлите до целых значений. После этого посчитайте среднюю цену для каждого километра. Постройте график: он должен показывать, как цена зависит от удалённости от центра. Определите границу, где график сильно меняется — это и будет центральная зона. \"</a></span><ul class=\"toc-item\"><li><span><a href=\"#Вывод\" data-toc-modified-id=\"Вывод-4.4.1\"><span class=\"toc-item-num\">4.4.1&nbsp;&nbsp;</span>Вывод</a></span></li></ul></li><li><span><a href=\"#задание:-&quot;Выделите-сегмент-квартир-в-центре.-Проанализируйте-эту-территорию-и-изучите-следующие-параметры:-площадь,-цена,-число-комнат,-высота-потолков.-Также-выделите-факторы,-которые-влияют-на-стоимость-квартиры-(число-комнат,-этаж,-удалённость-от-центра,-дата-размещения-объявления).-Сделайте-выводы.-Отличаются-ли-они-от-общих-выводов-по-всему-городу?&quot;\" data-toc-modified-id=\"задание:-&quot;Выделите-сегмент-квартир-в-центре.-Проанализируйте-эту-территорию-и-изучите-следующие-параметры:-площадь,-цена,-число-комнат,-высота-потолков.-Также-выделите-факторы,-которые-влияют-на-стоимость-квартиры-(число-комнат,-этаж,-удалённость-от-центра,-дата-размещения-объявления).-Сделайте-выводы.-Отличаются-ли-они-от-общих-выводов-по-всему-городу?&quot;-4.5\"><span class=\"toc-item-num\">4.5&nbsp;&nbsp;</span>задание: \"Выделите сегмент квартир в центре. Проанализируйте эту территорию и изучите следующие параметры: площадь, цена, число комнат, высота потолков. Также выделите факторы, которые влияют на стоимость квартиры (число комнат, этаж, удалённость от центра, дата размещения объявления). Сделайте выводы. Отличаются ли они от общих выводов по всему городу?\"</a></span><ul class=\"toc-item\"><li><span><a href=\"#Вывод\" data-toc-modified-id=\"Вывод-4.5.1\"><span class=\"toc-item-num\">4.5.1&nbsp;&nbsp;</span>Вывод</a></span></li></ul></li></ul></li><li><span><a href=\"#Общий-вывод\" data-toc-modified-id=\"Общий-вывод-5\"><span class=\"toc-item-num\">5&nbsp;&nbsp;</span>Общий вывод</a></span></li><li><span><a href=\"#Чек-лист-готовности-проекта\" data-toc-modified-id=\"Чек-лист-готовности-проекта-6\"><span class=\"toc-item-num\">6&nbsp;&nbsp;</span>Чек-лист готовности проекта</a></span></li></ul></div>"
   ]
  },
  {
   "cell_type": "markdown",
   "metadata": {},
   "source": [
    "# Исследование объявлений о продаже квартир\n",
    "\n",
    "В вашем распоряжении данные сервиса Яндекс.Недвижимость — архив объявлений о продаже квартир в Санкт-Петербурге и соседних населённых пунктах за несколько лет. Нужно научиться определять рыночную стоимость объектов недвижимости. Ваша задача — установить параметры. Это позволит построить автоматизированную систему: она отследит аномалии и мошенническую деятельность. \n",
    "\n",
    "По каждой квартире на продажу доступны два вида данных. Первые вписаны пользователем, вторые получены автоматически на основе картографических данных. Например, расстояние до центра, аэропорта, ближайшего парка и водоёма. "
   ]
  },
  {
   "cell_type": "markdown",
   "metadata": {},
   "source": [
    "## Изучение данных из файла"
   ]
  },
  {
   "cell_type": "code",
   "execution_count": 1,
   "metadata": {},
   "outputs": [],
   "source": [
    "import pandas as pd\n",
    "import matplotlib.pyplot as plt\n",
    "import numpy as np\n",
    "import seaborn as sns\n",
    "import warnings\n",
    "\n",
    "warnings.simplefilter('ignore')"
   ]
  },
  {
   "cell_type": "code",
   "execution_count": 2,
   "metadata": {},
   "outputs": [],
   "source": [
    "data = pd.read_csv(url, sep='\\t')"
   ]
  },
  {
   "cell_type": "code",
   "execution_count": 3,
   "metadata": {},
   "outputs": [
    {
     "data": {
      "text/html": [
       "<div>\n",
       "<style scoped>\n",
       "    .dataframe tbody tr th:only-of-type {\n",
       "        vertical-align: middle;\n",
       "    }\n",
       "\n",
       "    .dataframe tbody tr th {\n",
       "        vertical-align: top;\n",
       "    }\n",
       "\n",
       "    .dataframe thead th {\n",
       "        text-align: right;\n",
       "    }\n",
       "</style>\n",
       "<table border=\"1\" class=\"dataframe\">\n",
       "  <thead>\n",
       "    <tr style=\"text-align: right;\">\n",
       "      <th></th>\n",
       "      <th>total_images</th>\n",
       "      <th>last_price</th>\n",
       "      <th>total_area</th>\n",
       "      <th>first_day_exposition</th>\n",
       "      <th>rooms</th>\n",
       "      <th>ceiling_height</th>\n",
       "      <th>floors_total</th>\n",
       "      <th>living_area</th>\n",
       "      <th>floor</th>\n",
       "      <th>is_apartment</th>\n",
       "      <th>...</th>\n",
       "      <th>kitchen_area</th>\n",
       "      <th>balcony</th>\n",
       "      <th>locality_name</th>\n",
       "      <th>airports_nearest</th>\n",
       "      <th>cityCenters_nearest</th>\n",
       "      <th>parks_around3000</th>\n",
       "      <th>parks_nearest</th>\n",
       "      <th>ponds_around3000</th>\n",
       "      <th>ponds_nearest</th>\n",
       "      <th>days_exposition</th>\n",
       "    </tr>\n",
       "  </thead>\n",
       "  <tbody>\n",
       "    <tr>\n",
       "      <th>0</th>\n",
       "      <td>20</td>\n",
       "      <td>13000000.0</td>\n",
       "      <td>108.0</td>\n",
       "      <td>2019-03-07T00:00:00</td>\n",
       "      <td>3</td>\n",
       "      <td>2.70</td>\n",
       "      <td>16.0</td>\n",
       "      <td>51.0</td>\n",
       "      <td>8</td>\n",
       "      <td>NaN</td>\n",
       "      <td>...</td>\n",
       "      <td>25.0</td>\n",
       "      <td>NaN</td>\n",
       "      <td>Санкт-Петербург</td>\n",
       "      <td>18863.0</td>\n",
       "      <td>16028.0</td>\n",
       "      <td>1.0</td>\n",
       "      <td>482.0</td>\n",
       "      <td>2.0</td>\n",
       "      <td>755.0</td>\n",
       "      <td>NaN</td>\n",
       "    </tr>\n",
       "    <tr>\n",
       "      <th>1</th>\n",
       "      <td>7</td>\n",
       "      <td>3350000.0</td>\n",
       "      <td>40.4</td>\n",
       "      <td>2018-12-04T00:00:00</td>\n",
       "      <td>1</td>\n",
       "      <td>NaN</td>\n",
       "      <td>11.0</td>\n",
       "      <td>18.6</td>\n",
       "      <td>1</td>\n",
       "      <td>NaN</td>\n",
       "      <td>...</td>\n",
       "      <td>11.0</td>\n",
       "      <td>2.0</td>\n",
       "      <td>посёлок Шушары</td>\n",
       "      <td>12817.0</td>\n",
       "      <td>18603.0</td>\n",
       "      <td>0.0</td>\n",
       "      <td>NaN</td>\n",
       "      <td>0.0</td>\n",
       "      <td>NaN</td>\n",
       "      <td>81.0</td>\n",
       "    </tr>\n",
       "    <tr>\n",
       "      <th>2</th>\n",
       "      <td>10</td>\n",
       "      <td>5196000.0</td>\n",
       "      <td>56.0</td>\n",
       "      <td>2015-08-20T00:00:00</td>\n",
       "      <td>2</td>\n",
       "      <td>NaN</td>\n",
       "      <td>5.0</td>\n",
       "      <td>34.3</td>\n",
       "      <td>4</td>\n",
       "      <td>NaN</td>\n",
       "      <td>...</td>\n",
       "      <td>8.3</td>\n",
       "      <td>0.0</td>\n",
       "      <td>Санкт-Петербург</td>\n",
       "      <td>21741.0</td>\n",
       "      <td>13933.0</td>\n",
       "      <td>1.0</td>\n",
       "      <td>90.0</td>\n",
       "      <td>2.0</td>\n",
       "      <td>574.0</td>\n",
       "      <td>558.0</td>\n",
       "    </tr>\n",
       "    <tr>\n",
       "      <th>3</th>\n",
       "      <td>0</td>\n",
       "      <td>64900000.0</td>\n",
       "      <td>159.0</td>\n",
       "      <td>2015-07-24T00:00:00</td>\n",
       "      <td>3</td>\n",
       "      <td>NaN</td>\n",
       "      <td>14.0</td>\n",
       "      <td>NaN</td>\n",
       "      <td>9</td>\n",
       "      <td>NaN</td>\n",
       "      <td>...</td>\n",
       "      <td>NaN</td>\n",
       "      <td>0.0</td>\n",
       "      <td>Санкт-Петербург</td>\n",
       "      <td>28098.0</td>\n",
       "      <td>6800.0</td>\n",
       "      <td>2.0</td>\n",
       "      <td>84.0</td>\n",
       "      <td>3.0</td>\n",
       "      <td>234.0</td>\n",
       "      <td>424.0</td>\n",
       "    </tr>\n",
       "    <tr>\n",
       "      <th>4</th>\n",
       "      <td>2</td>\n",
       "      <td>10000000.0</td>\n",
       "      <td>100.0</td>\n",
       "      <td>2018-06-19T00:00:00</td>\n",
       "      <td>2</td>\n",
       "      <td>3.03</td>\n",
       "      <td>14.0</td>\n",
       "      <td>32.0</td>\n",
       "      <td>13</td>\n",
       "      <td>NaN</td>\n",
       "      <td>...</td>\n",
       "      <td>41.0</td>\n",
       "      <td>NaN</td>\n",
       "      <td>Санкт-Петербург</td>\n",
       "      <td>31856.0</td>\n",
       "      <td>8098.0</td>\n",
       "      <td>2.0</td>\n",
       "      <td>112.0</td>\n",
       "      <td>1.0</td>\n",
       "      <td>48.0</td>\n",
       "      <td>121.0</td>\n",
       "    </tr>\n",
       "  </tbody>\n",
       "</table>\n",
       "<p>5 rows × 22 columns</p>\n",
       "</div>"
      ],
      "text/plain": [
       "   total_images  last_price  total_area first_day_exposition  rooms  \\\n",
       "0            20  13000000.0       108.0  2019-03-07T00:00:00      3   \n",
       "1             7   3350000.0        40.4  2018-12-04T00:00:00      1   \n",
       "2            10   5196000.0        56.0  2015-08-20T00:00:00      2   \n",
       "3             0  64900000.0       159.0  2015-07-24T00:00:00      3   \n",
       "4             2  10000000.0       100.0  2018-06-19T00:00:00      2   \n",
       "\n",
       "   ceiling_height  floors_total  living_area  floor is_apartment  ...  \\\n",
       "0            2.70          16.0         51.0      8          NaN  ...   \n",
       "1             NaN          11.0         18.6      1          NaN  ...   \n",
       "2             NaN           5.0         34.3      4          NaN  ...   \n",
       "3             NaN          14.0          NaN      9          NaN  ...   \n",
       "4            3.03          14.0         32.0     13          NaN  ...   \n",
       "\n",
       "   kitchen_area  balcony    locality_name  airports_nearest  \\\n",
       "0          25.0      NaN  Санкт-Петербург           18863.0   \n",
       "1          11.0      2.0   посёлок Шушары           12817.0   \n",
       "2           8.3      0.0  Санкт-Петербург           21741.0   \n",
       "3           NaN      0.0  Санкт-Петербург           28098.0   \n",
       "4          41.0      NaN  Санкт-Петербург           31856.0   \n",
       "\n",
       "  cityCenters_nearest  parks_around3000  parks_nearest  ponds_around3000  \\\n",
       "0             16028.0               1.0          482.0               2.0   \n",
       "1             18603.0               0.0            NaN               0.0   \n",
       "2             13933.0               1.0           90.0               2.0   \n",
       "3              6800.0               2.0           84.0               3.0   \n",
       "4              8098.0               2.0          112.0               1.0   \n",
       "\n",
       "   ponds_nearest  days_exposition  \n",
       "0          755.0              NaN  \n",
       "1            NaN             81.0  \n",
       "2          574.0            558.0  \n",
       "3          234.0            424.0  \n",
       "4           48.0            121.0  \n",
       "\n",
       "[5 rows x 22 columns]"
      ]
     },
     "execution_count": 3,
     "metadata": {},
     "output_type": "execute_result"
    }
   ],
   "source": [
    "data.head()"
   ]
  },
  {
   "cell_type": "code",
   "execution_count": 4,
   "metadata": {},
   "outputs": [
    {
     "name": "stdout",
     "output_type": "stream",
     "text": [
      "<class 'pandas.core.frame.DataFrame'>\n",
      "RangeIndex: 23699 entries, 0 to 23698\n",
      "Data columns (total 22 columns):\n",
      " #   Column                Non-Null Count  Dtype  \n",
      "---  ------                --------------  -----  \n",
      " 0   total_images          23699 non-null  int64  \n",
      " 1   last_price            23699 non-null  float64\n",
      " 2   total_area            23699 non-null  float64\n",
      " 3   first_day_exposition  23699 non-null  object \n",
      " 4   rooms                 23699 non-null  int64  \n",
      " 5   ceiling_height        14504 non-null  float64\n",
      " 6   floors_total          23613 non-null  float64\n",
      " 7   living_area           21796 non-null  float64\n",
      " 8   floor                 23699 non-null  int64  \n",
      " 9   is_apartment          2775 non-null   object \n",
      " 10  studio                23699 non-null  bool   \n",
      " 11  open_plan             23699 non-null  bool   \n",
      " 12  kitchen_area          21421 non-null  float64\n",
      " 13  balcony               12180 non-null  float64\n",
      " 14  locality_name         23650 non-null  object \n",
      " 15  airports_nearest      18157 non-null  float64\n",
      " 16  cityCenters_nearest   18180 non-null  float64\n",
      " 17  parks_around3000      18181 non-null  float64\n",
      " 18  parks_nearest         8079 non-null   float64\n",
      " 19  ponds_around3000      18181 non-null  float64\n",
      " 20  ponds_nearest         9110 non-null   float64\n",
      " 21  days_exposition       20518 non-null  float64\n",
      "dtypes: bool(2), float64(14), int64(3), object(3)\n",
      "memory usage: 3.7+ MB\n"
     ]
    }
   ],
   "source": [
    "data.info()"
   ]
  },
  {
   "cell_type": "markdown",
   "metadata": {},
   "source": [
    "Описание данных\n",
    "- airports_nearest — расстояние до ближайшего аэропорта в метрах (м)\n",
    "- balcony — число балконов\n",
    "- ceiling_height — высота потолков (м)\n",
    "- cityCenters_nearest — расстояние до центра города (м)\n",
    "- days_exposition — сколько дней было размещено объявление (от публикации до снятия)\n",
    "- first_day_exposition — дата публикации\n",
    "- floor — этаж\n",
    "- floors_total — всего этажей в доме\n",
    "- is_apartment — апартаменты (булев тип)\n",
    "- kitchen_area — площадь кухни в квадратных метрах (м²)\n",
    "- last_price — цена на момент снятия с публикации\n",
    "- living_area — жилая площадь в квадратных метрах(м²)\n",
    "- locality_name — название населённого пункта\n",
    "- open_plan — свободная планировка (булев тип)\n",
    "- parks_around3000 — число парков в радиусе 3 км\n",
    "- parks_nearest — расстояние до ближайшего парка (м)\n",
    "- ponds_around3000 — число водоёмов в радиусе 3 км\n",
    "- ponds_nearest — расстояние до ближайшего водоёма (м)\n",
    "- rooms — число комнат\n",
    "- studio — квартира-студия (булев тип)\n",
    "- total_area — площадь квартиры в квадратных метрах (м²)\n",
    "- total_images — число фотографий квартиры в объявлении"
   ]
  },
  {
   "cell_type": "code",
   "execution_count": 5,
   "metadata": {},
   "outputs": [
    {
     "data": {
      "text/html": [
       "<div>\n",
       "<style scoped>\n",
       "    .dataframe tbody tr th:only-of-type {\n",
       "        vertical-align: middle;\n",
       "    }\n",
       "\n",
       "    .dataframe tbody tr th {\n",
       "        vertical-align: top;\n",
       "    }\n",
       "\n",
       "    .dataframe thead th {\n",
       "        text-align: right;\n",
       "    }\n",
       "</style>\n",
       "<table border=\"1\" class=\"dataframe\">\n",
       "  <thead>\n",
       "    <tr style=\"text-align: right;\">\n",
       "      <th></th>\n",
       "      <th>count</th>\n",
       "      <th>mean</th>\n",
       "      <th>std</th>\n",
       "      <th>min</th>\n",
       "      <th>25%</th>\n",
       "      <th>50%</th>\n",
       "      <th>75%</th>\n",
       "      <th>max</th>\n",
       "    </tr>\n",
       "  </thead>\n",
       "  <tbody>\n",
       "    <tr>\n",
       "      <th>total_images</th>\n",
       "      <td>23699.0</td>\n",
       "      <td>9.858475e+00</td>\n",
       "      <td>5.682529e+00</td>\n",
       "      <td>0.0</td>\n",
       "      <td>6.00</td>\n",
       "      <td>9.00</td>\n",
       "      <td>14.0</td>\n",
       "      <td>50.0</td>\n",
       "    </tr>\n",
       "    <tr>\n",
       "      <th>floor</th>\n",
       "      <td>23699.0</td>\n",
       "      <td>5.892358e+00</td>\n",
       "      <td>4.885249e+00</td>\n",
       "      <td>1.0</td>\n",
       "      <td>2.00</td>\n",
       "      <td>4.00</td>\n",
       "      <td>8.0</td>\n",
       "      <td>33.0</td>\n",
       "    </tr>\n",
       "    <tr>\n",
       "      <th>total_area</th>\n",
       "      <td>23699.0</td>\n",
       "      <td>6.034865e+01</td>\n",
       "      <td>3.565408e+01</td>\n",
       "      <td>12.0</td>\n",
       "      <td>40.00</td>\n",
       "      <td>52.00</td>\n",
       "      <td>69.9</td>\n",
       "      <td>900.0</td>\n",
       "    </tr>\n",
       "    <tr>\n",
       "      <th>rooms</th>\n",
       "      <td>23699.0</td>\n",
       "      <td>2.070636e+00</td>\n",
       "      <td>1.078405e+00</td>\n",
       "      <td>0.0</td>\n",
       "      <td>1.00</td>\n",
       "      <td>2.00</td>\n",
       "      <td>3.0</td>\n",
       "      <td>19.0</td>\n",
       "    </tr>\n",
       "    <tr>\n",
       "      <th>last_price</th>\n",
       "      <td>23699.0</td>\n",
       "      <td>6.541549e+06</td>\n",
       "      <td>1.088701e+07</td>\n",
       "      <td>12190.0</td>\n",
       "      <td>3400000.00</td>\n",
       "      <td>4650000.00</td>\n",
       "      <td>6800000.0</td>\n",
       "      <td>763000000.0</td>\n",
       "    </tr>\n",
       "    <tr>\n",
       "      <th>floors_total</th>\n",
       "      <td>23613.0</td>\n",
       "      <td>1.067382e+01</td>\n",
       "      <td>6.597173e+00</td>\n",
       "      <td>1.0</td>\n",
       "      <td>5.00</td>\n",
       "      <td>9.00</td>\n",
       "      <td>16.0</td>\n",
       "      <td>60.0</td>\n",
       "    </tr>\n",
       "    <tr>\n",
       "      <th>living_area</th>\n",
       "      <td>21796.0</td>\n",
       "      <td>3.445785e+01</td>\n",
       "      <td>2.203045e+01</td>\n",
       "      <td>2.0</td>\n",
       "      <td>18.60</td>\n",
       "      <td>30.00</td>\n",
       "      <td>42.3</td>\n",
       "      <td>409.7</td>\n",
       "    </tr>\n",
       "    <tr>\n",
       "      <th>kitchen_area</th>\n",
       "      <td>21421.0</td>\n",
       "      <td>1.056981e+01</td>\n",
       "      <td>5.905438e+00</td>\n",
       "      <td>1.3</td>\n",
       "      <td>7.00</td>\n",
       "      <td>9.10</td>\n",
       "      <td>12.0</td>\n",
       "      <td>112.0</td>\n",
       "    </tr>\n",
       "    <tr>\n",
       "      <th>days_exposition</th>\n",
       "      <td>20518.0</td>\n",
       "      <td>1.808886e+02</td>\n",
       "      <td>2.197280e+02</td>\n",
       "      <td>1.0</td>\n",
       "      <td>45.00</td>\n",
       "      <td>95.00</td>\n",
       "      <td>232.0</td>\n",
       "      <td>1580.0</td>\n",
       "    </tr>\n",
       "    <tr>\n",
       "      <th>parks_around3000</th>\n",
       "      <td>18181.0</td>\n",
       "      <td>6.114075e-01</td>\n",
       "      <td>8.020736e-01</td>\n",
       "      <td>0.0</td>\n",
       "      <td>0.00</td>\n",
       "      <td>0.00</td>\n",
       "      <td>1.0</td>\n",
       "      <td>3.0</td>\n",
       "    </tr>\n",
       "    <tr>\n",
       "      <th>ponds_around3000</th>\n",
       "      <td>18181.0</td>\n",
       "      <td>7.702547e-01</td>\n",
       "      <td>9.383456e-01</td>\n",
       "      <td>0.0</td>\n",
       "      <td>0.00</td>\n",
       "      <td>1.00</td>\n",
       "      <td>1.0</td>\n",
       "      <td>3.0</td>\n",
       "    </tr>\n",
       "    <tr>\n",
       "      <th>cityCenters_nearest</th>\n",
       "      <td>18180.0</td>\n",
       "      <td>1.419128e+04</td>\n",
       "      <td>8.608386e+03</td>\n",
       "      <td>181.0</td>\n",
       "      <td>9238.00</td>\n",
       "      <td>13098.50</td>\n",
       "      <td>16293.0</td>\n",
       "      <td>65968.0</td>\n",
       "    </tr>\n",
       "    <tr>\n",
       "      <th>airports_nearest</th>\n",
       "      <td>18157.0</td>\n",
       "      <td>2.879367e+04</td>\n",
       "      <td>1.263088e+04</td>\n",
       "      <td>0.0</td>\n",
       "      <td>18585.00</td>\n",
       "      <td>26726.00</td>\n",
       "      <td>37273.0</td>\n",
       "      <td>84869.0</td>\n",
       "    </tr>\n",
       "    <tr>\n",
       "      <th>ceiling_height</th>\n",
       "      <td>14504.0</td>\n",
       "      <td>2.771499e+00</td>\n",
       "      <td>1.261056e+00</td>\n",
       "      <td>1.0</td>\n",
       "      <td>2.52</td>\n",
       "      <td>2.65</td>\n",
       "      <td>2.8</td>\n",
       "      <td>100.0</td>\n",
       "    </tr>\n",
       "    <tr>\n",
       "      <th>balcony</th>\n",
       "      <td>12180.0</td>\n",
       "      <td>1.150082e+00</td>\n",
       "      <td>1.071300e+00</td>\n",
       "      <td>0.0</td>\n",
       "      <td>0.00</td>\n",
       "      <td>1.00</td>\n",
       "      <td>2.0</td>\n",
       "      <td>5.0</td>\n",
       "    </tr>\n",
       "    <tr>\n",
       "      <th>ponds_nearest</th>\n",
       "      <td>9110.0</td>\n",
       "      <td>5.179809e+02</td>\n",
       "      <td>2.777206e+02</td>\n",
       "      <td>13.0</td>\n",
       "      <td>294.00</td>\n",
       "      <td>502.00</td>\n",
       "      <td>729.0</td>\n",
       "      <td>1344.0</td>\n",
       "    </tr>\n",
       "    <tr>\n",
       "      <th>parks_nearest</th>\n",
       "      <td>8079.0</td>\n",
       "      <td>4.908046e+02</td>\n",
       "      <td>3.423180e+02</td>\n",
       "      <td>1.0</td>\n",
       "      <td>288.00</td>\n",
       "      <td>455.00</td>\n",
       "      <td>612.0</td>\n",
       "      <td>3190.0</td>\n",
       "    </tr>\n",
       "  </tbody>\n",
       "</table>\n",
       "</div>"
      ],
      "text/plain": [
       "                       count          mean           std      min         25%  \\\n",
       "total_images         23699.0  9.858475e+00  5.682529e+00      0.0        6.00   \n",
       "floor                23699.0  5.892358e+00  4.885249e+00      1.0        2.00   \n",
       "total_area           23699.0  6.034865e+01  3.565408e+01     12.0       40.00   \n",
       "rooms                23699.0  2.070636e+00  1.078405e+00      0.0        1.00   \n",
       "last_price           23699.0  6.541549e+06  1.088701e+07  12190.0  3400000.00   \n",
       "floors_total         23613.0  1.067382e+01  6.597173e+00      1.0        5.00   \n",
       "living_area          21796.0  3.445785e+01  2.203045e+01      2.0       18.60   \n",
       "kitchen_area         21421.0  1.056981e+01  5.905438e+00      1.3        7.00   \n",
       "days_exposition      20518.0  1.808886e+02  2.197280e+02      1.0       45.00   \n",
       "parks_around3000     18181.0  6.114075e-01  8.020736e-01      0.0        0.00   \n",
       "ponds_around3000     18181.0  7.702547e-01  9.383456e-01      0.0        0.00   \n",
       "cityCenters_nearest  18180.0  1.419128e+04  8.608386e+03    181.0     9238.00   \n",
       "airports_nearest     18157.0  2.879367e+04  1.263088e+04      0.0    18585.00   \n",
       "ceiling_height       14504.0  2.771499e+00  1.261056e+00      1.0        2.52   \n",
       "balcony              12180.0  1.150082e+00  1.071300e+00      0.0        0.00   \n",
       "ponds_nearest         9110.0  5.179809e+02  2.777206e+02     13.0      294.00   \n",
       "parks_nearest         8079.0  4.908046e+02  3.423180e+02      1.0      288.00   \n",
       "\n",
       "                            50%        75%          max  \n",
       "total_images               9.00       14.0         50.0  \n",
       "floor                      4.00        8.0         33.0  \n",
       "total_area                52.00       69.9        900.0  \n",
       "rooms                      2.00        3.0         19.0  \n",
       "last_price           4650000.00  6800000.0  763000000.0  \n",
       "floors_total               9.00       16.0         60.0  \n",
       "living_area               30.00       42.3        409.7  \n",
       "kitchen_area               9.10       12.0        112.0  \n",
       "days_exposition           95.00      232.0       1580.0  \n",
       "parks_around3000           0.00        1.0          3.0  \n",
       "ponds_around3000           1.00        1.0          3.0  \n",
       "cityCenters_nearest    13098.50    16293.0      65968.0  \n",
       "airports_nearest       26726.00    37273.0      84869.0  \n",
       "ceiling_height             2.65        2.8        100.0  \n",
       "balcony                    1.00        2.0          5.0  \n",
       "ponds_nearest            502.00      729.0       1344.0  \n",
       "parks_nearest            455.00      612.0       3190.0  "
      ]
     },
     "execution_count": 5,
     "metadata": {},
     "output_type": "execute_result"
    }
   ],
   "source": [
    "pd.DataFrame(data.describe()).T.sort_values('count', ascending=False)"
   ]
  },
  {
   "cell_type": "code",
   "execution_count": 6,
   "metadata": {},
   "outputs": [
    {
     "data": {
      "text/html": [
       "<div>\n",
       "<style scoped>\n",
       "    .dataframe tbody tr th:only-of-type {\n",
       "        vertical-align: middle;\n",
       "    }\n",
       "\n",
       "    .dataframe tbody tr th {\n",
       "        vertical-align: top;\n",
       "    }\n",
       "\n",
       "    .dataframe thead th {\n",
       "        text-align: right;\n",
       "    }\n",
       "</style>\n",
       "<table border=\"1\" class=\"dataframe\">\n",
       "  <thead>\n",
       "    <tr style=\"text-align: right;\">\n",
       "      <th></th>\n",
       "      <th>total_images</th>\n",
       "      <th>last_price</th>\n",
       "      <th>total_area</th>\n",
       "      <th>first_day_exposition</th>\n",
       "      <th>rooms</th>\n",
       "      <th>ceiling_height</th>\n",
       "      <th>floors_total</th>\n",
       "      <th>living_area</th>\n",
       "      <th>floor</th>\n",
       "      <th>is_apartment</th>\n",
       "      <th>...</th>\n",
       "      <th>kitchen_area</th>\n",
       "      <th>balcony</th>\n",
       "      <th>locality_name</th>\n",
       "      <th>airports_nearest</th>\n",
       "      <th>cityCenters_nearest</th>\n",
       "      <th>parks_around3000</th>\n",
       "      <th>parks_nearest</th>\n",
       "      <th>ponds_around3000</th>\n",
       "      <th>ponds_nearest</th>\n",
       "      <th>days_exposition</th>\n",
       "    </tr>\n",
       "  </thead>\n",
       "  <tbody>\n",
       "    <tr>\n",
       "      <th>186</th>\n",
       "      <td>12</td>\n",
       "      <td>11640000.0</td>\n",
       "      <td>65.2</td>\n",
       "      <td>2018-10-02T00:00:00</td>\n",
       "      <td>2</td>\n",
       "      <td>NaN</td>\n",
       "      <td>NaN</td>\n",
       "      <td>30.80</td>\n",
       "      <td>4</td>\n",
       "      <td>NaN</td>\n",
       "      <td>...</td>\n",
       "      <td>12.00</td>\n",
       "      <td>NaN</td>\n",
       "      <td>Санкт-Петербург</td>\n",
       "      <td>39197.0</td>\n",
       "      <td>12373.0</td>\n",
       "      <td>1.0</td>\n",
       "      <td>123.0</td>\n",
       "      <td>0.0</td>\n",
       "      <td>NaN</td>\n",
       "      <td>49.0</td>\n",
       "    </tr>\n",
       "    <tr>\n",
       "      <th>237</th>\n",
       "      <td>4</td>\n",
       "      <td>2438033.0</td>\n",
       "      <td>28.1</td>\n",
       "      <td>2016-11-23T00:00:00</td>\n",
       "      <td>1</td>\n",
       "      <td>NaN</td>\n",
       "      <td>NaN</td>\n",
       "      <td>20.75</td>\n",
       "      <td>1</td>\n",
       "      <td>NaN</td>\n",
       "      <td>...</td>\n",
       "      <td>NaN</td>\n",
       "      <td>0.0</td>\n",
       "      <td>Санкт-Петербург</td>\n",
       "      <td>22041.0</td>\n",
       "      <td>17369.0</td>\n",
       "      <td>0.0</td>\n",
       "      <td>NaN</td>\n",
       "      <td>1.0</td>\n",
       "      <td>374.0</td>\n",
       "      <td>251.0</td>\n",
       "    </tr>\n",
       "    <tr>\n",
       "      <th>457</th>\n",
       "      <td>4</td>\n",
       "      <td>9788348.0</td>\n",
       "      <td>70.8</td>\n",
       "      <td>2015-08-01T00:00:00</td>\n",
       "      <td>2</td>\n",
       "      <td>NaN</td>\n",
       "      <td>NaN</td>\n",
       "      <td>38.40</td>\n",
       "      <td>12</td>\n",
       "      <td>NaN</td>\n",
       "      <td>...</td>\n",
       "      <td>10.63</td>\n",
       "      <td>0.0</td>\n",
       "      <td>Санкт-Петербург</td>\n",
       "      <td>37364.0</td>\n",
       "      <td>8322.0</td>\n",
       "      <td>2.0</td>\n",
       "      <td>309.0</td>\n",
       "      <td>2.0</td>\n",
       "      <td>706.0</td>\n",
       "      <td>727.0</td>\n",
       "    </tr>\n",
       "    <tr>\n",
       "      <th>671</th>\n",
       "      <td>4</td>\n",
       "      <td>6051191.0</td>\n",
       "      <td>93.6</td>\n",
       "      <td>2017-04-06T00:00:00</td>\n",
       "      <td>3</td>\n",
       "      <td>NaN</td>\n",
       "      <td>NaN</td>\n",
       "      <td>47.10</td>\n",
       "      <td>8</td>\n",
       "      <td>NaN</td>\n",
       "      <td>...</td>\n",
       "      <td>16.80</td>\n",
       "      <td>0.0</td>\n",
       "      <td>Санкт-Петербург</td>\n",
       "      <td>22041.0</td>\n",
       "      <td>17369.0</td>\n",
       "      <td>0.0</td>\n",
       "      <td>NaN</td>\n",
       "      <td>1.0</td>\n",
       "      <td>374.0</td>\n",
       "      <td>123.0</td>\n",
       "    </tr>\n",
       "    <tr>\n",
       "      <th>1757</th>\n",
       "      <td>5</td>\n",
       "      <td>3600000.0</td>\n",
       "      <td>39.0</td>\n",
       "      <td>2017-04-22T00:00:00</td>\n",
       "      <td>1</td>\n",
       "      <td>NaN</td>\n",
       "      <td>NaN</td>\n",
       "      <td>NaN</td>\n",
       "      <td>9</td>\n",
       "      <td>NaN</td>\n",
       "      <td>...</td>\n",
       "      <td>NaN</td>\n",
       "      <td>0.0</td>\n",
       "      <td>Санкт-Петербург</td>\n",
       "      <td>22735.0</td>\n",
       "      <td>11618.0</td>\n",
       "      <td>1.0</td>\n",
       "      <td>835.0</td>\n",
       "      <td>1.0</td>\n",
       "      <td>652.0</td>\n",
       "      <td>77.0</td>\n",
       "    </tr>\n",
       "  </tbody>\n",
       "</table>\n",
       "<p>5 rows × 22 columns</p>\n",
       "</div>"
      ],
      "text/plain": [
       "      total_images  last_price  total_area first_day_exposition  rooms  \\\n",
       "186             12  11640000.0        65.2  2018-10-02T00:00:00      2   \n",
       "237              4   2438033.0        28.1  2016-11-23T00:00:00      1   \n",
       "457              4   9788348.0        70.8  2015-08-01T00:00:00      2   \n",
       "671              4   6051191.0        93.6  2017-04-06T00:00:00      3   \n",
       "1757             5   3600000.0        39.0  2017-04-22T00:00:00      1   \n",
       "\n",
       "      ceiling_height  floors_total  living_area  floor is_apartment  ...  \\\n",
       "186              NaN           NaN        30.80      4          NaN  ...   \n",
       "237              NaN           NaN        20.75      1          NaN  ...   \n",
       "457              NaN           NaN        38.40     12          NaN  ...   \n",
       "671              NaN           NaN        47.10      8          NaN  ...   \n",
       "1757             NaN           NaN          NaN      9          NaN  ...   \n",
       "\n",
       "      kitchen_area  balcony    locality_name  airports_nearest  \\\n",
       "186          12.00      NaN  Санкт-Петербург           39197.0   \n",
       "237            NaN      0.0  Санкт-Петербург           22041.0   \n",
       "457          10.63      0.0  Санкт-Петербург           37364.0   \n",
       "671          16.80      0.0  Санкт-Петербург           22041.0   \n",
       "1757           NaN      0.0  Санкт-Петербург           22735.0   \n",
       "\n",
       "     cityCenters_nearest  parks_around3000  parks_nearest  ponds_around3000  \\\n",
       "186              12373.0               1.0          123.0               0.0   \n",
       "237              17369.0               0.0            NaN               1.0   \n",
       "457               8322.0               2.0          309.0               2.0   \n",
       "671              17369.0               0.0            NaN               1.0   \n",
       "1757             11618.0               1.0          835.0               1.0   \n",
       "\n",
       "      ponds_nearest  days_exposition  \n",
       "186             NaN             49.0  \n",
       "237           374.0            251.0  \n",
       "457           706.0            727.0  \n",
       "671           374.0            123.0  \n",
       "1757          652.0             77.0  \n",
       "\n",
       "[5 rows x 22 columns]"
      ]
     },
     "execution_count": 6,
     "metadata": {},
     "output_type": "execute_result"
    }
   ],
   "source": [
    "data[data.floors_total.isna()].head()"
   ]
  },
  {
   "cell_type": "code",
   "execution_count": 7,
   "metadata": {},
   "outputs": [
    {
     "data": {
      "text/plain": [
       "False    2725\n",
       "True       50\n",
       "Name: is_apartment, dtype: int64"
      ]
     },
     "execution_count": 7,
     "metadata": {},
     "output_type": "execute_result"
    }
   ],
   "source": [
    "data.is_apartment.value_counts()"
   ]
  },
  {
   "cell_type": "code",
   "execution_count": 8,
   "metadata": {},
   "outputs": [
    {
     "data": {
      "text/plain": [
       "23650"
      ]
     },
     "execution_count": 8,
     "metadata": {},
     "output_type": "execute_result"
    }
   ],
   "source": [
    "data.locality_name.count()"
   ]
  },
  {
   "cell_type": "code",
   "execution_count": 9,
   "metadata": {},
   "outputs": [
    {
     "data": {
      "text/html": [
       "<div>\n",
       "<style scoped>\n",
       "    .dataframe tbody tr th:only-of-type {\n",
       "        vertical-align: middle;\n",
       "    }\n",
       "\n",
       "    .dataframe tbody tr th {\n",
       "        vertical-align: top;\n",
       "    }\n",
       "\n",
       "    .dataframe thead th {\n",
       "        text-align: right;\n",
       "    }\n",
       "</style>\n",
       "<table border=\"1\" class=\"dataframe\">\n",
       "  <thead>\n",
       "    <tr style=\"text-align: right;\">\n",
       "      <th></th>\n",
       "      <th>min</th>\n",
       "      <th>max</th>\n",
       "    </tr>\n",
       "  </thead>\n",
       "  <tbody>\n",
       "    <tr>\n",
       "      <th>0</th>\n",
       "      <td>2014-11-27T00:00:00</td>\n",
       "      <td>2019-05-03T00:00:00</td>\n",
       "    </tr>\n",
       "  </tbody>\n",
       "</table>\n",
       "</div>"
      ],
      "text/plain": [
       "                   min                  max\n",
       "0  2014-11-27T00:00:00  2019-05-03T00:00:00"
      ]
     },
     "execution_count": 9,
     "metadata": {},
     "output_type": "execute_result"
    }
   ],
   "source": [
    "pd.DataFrame(data={'min': [data.first_day_exposition.min()], 'max': [data.first_day_exposition.max()]})"
   ]
  },
  {
   "cell_type": "code",
   "execution_count": 10,
   "metadata": {},
   "outputs": [
    {
     "data": {
      "text/plain": [
       "21227    68.0\n",
       "20082    60.5\n",
       "3458     50.0\n",
       "13613    33.0\n",
       "10008    32.2\n",
       "         ... \n",
       "7818      NaN\n",
       "8454      NaN\n",
       "18028     NaN\n",
       "19392     NaN\n",
       "23554     NaN\n",
       "Name: living_area, Length: 197, dtype: float64"
      ]
     },
     "execution_count": 10,
     "metadata": {},
     "output_type": "execute_result"
    }
   ],
   "source": [
    "data.query('rooms == 0').living_area.sort_values(ascending=False)"
   ]
  },
  {
   "cell_type": "code",
   "execution_count": 11,
   "metadata": {},
   "outputs": [
    {
     "data": {
      "text/plain": [
       "0.008312587028988565"
      ]
     },
     "execution_count": 11,
     "metadata": {},
     "output_type": "execute_result"
    }
   ],
   "source": [
    "197/23699"
   ]
  },
  {
   "cell_type": "markdown",
   "metadata": {},
   "source": [
    "### Вывод"
   ]
  },
  {
   "cell_type": "markdown",
   "metadata": {},
   "source": [
    "- Данные представленны за четыре с половиной года.\n",
    "- Можно поменять название столбца `cityCenters_nearest` на `city_centers_nearest`.\n",
    "- В четырнадцати столбцах есть пропуски данных. В столбце `balcony` можем заменить пропуски на нули, так как пропуск скорее всего указывает на отсутствие балкона. В столбце `is_apartment` также можем заменить пропуски на `False`. В столбце `locality_name` заменим пропуски на \"unknown\". В столбцах `floors_total` и `days_exposition` заменим пропуски на нули, чтобы преопразовать данные в тип int.\n",
    "- Тип данных столбца `first_day_exposition` нужно перевести в тип даты, а столбцы  `floors_total`, `balcony` и `days_exposition` в тип int, потому что не может быть нецелочисным количество этажей, балконов и дней.\n",
    "- Есть квартиры с нулем комнат, скорее всего это ошибка, так как они составляют 0,8 % от всех данных, можем их не учитывать если нам понадобится анализировать что-то с учетом количества комнат."
   ]
  },
  {
   "cell_type": "markdown",
   "metadata": {},
   "source": [
    "## Предобработка данных"
   ]
  },
  {
   "cell_type": "code",
   "execution_count": 12,
   "metadata": {},
   "outputs": [],
   "source": [
    "data = data.rename(columns={'cityCenters_nearest': 'city_centers_nearest'})"
   ]
  },
  {
   "cell_type": "code",
   "execution_count": 13,
   "metadata": {},
   "outputs": [],
   "source": [
    "data[['balcony', 'floors_total', 'days_exposition']] = data[['balcony', 'floors_total', 'days_exposition']].fillna(0)\n",
    "data.is_apartment = data.is_apartment.fillna(False)\n",
    "data.locality_name = data.locality_name.fillna('unknown')"
   ]
  },
  {
   "cell_type": "code",
   "execution_count": 14,
   "metadata": {
    "scrolled": true
   },
   "outputs": [
    {
     "name": "stdout",
     "output_type": "stream",
     "text": [
      "<class 'pandas.core.frame.DataFrame'>\n",
      "RangeIndex: 23699 entries, 0 to 23698\n",
      "Data columns (total 5 columns):\n",
      " #   Column           Non-Null Count  Dtype  \n",
      "---  ------           --------------  -----  \n",
      " 0   balcony          23699 non-null  float64\n",
      " 1   floors_total     23699 non-null  float64\n",
      " 2   days_exposition  23699 non-null  float64\n",
      " 3   is_apartment     23699 non-null  bool   \n",
      " 4   locality_name    23699 non-null  object \n",
      "dtypes: bool(1), float64(3), object(1)\n",
      "memory usage: 763.9+ KB\n"
     ]
    }
   ],
   "source": [
    "data[['balcony', 'floors_total', 'days_exposition', 'is_apartment', 'locality_name']].info()"
   ]
  },
  {
   "cell_type": "code",
   "execution_count": 15,
   "metadata": {},
   "outputs": [
    {
     "data": {
      "text/plain": [
       "0   2019-03-07\n",
       "1   2018-12-04\n",
       "2   2015-08-20\n",
       "3   2015-07-24\n",
       "4   2018-06-19\n",
       "Name: first_day_exposition, dtype: datetime64[ns]"
      ]
     },
     "execution_count": 15,
     "metadata": {},
     "output_type": "execute_result"
    }
   ],
   "source": [
    "data['first_day_exposition'] = pd.to_datetime(data['first_day_exposition'], format='%Y-%m-%dT%H:%M:%S')\n",
    "data['first_day_exposition'].head()"
   ]
  },
  {
   "cell_type": "code",
   "execution_count": 16,
   "metadata": {
    "scrolled": true
   },
   "outputs": [],
   "source": [
    "data[['floors_total', 'balcony', 'days_exposition']] = data[['floors_total', 'balcony', 'days_exposition']].astype('int64')"
   ]
  },
  {
   "cell_type": "code",
   "execution_count": 17,
   "metadata": {
    "scrolled": true
   },
   "outputs": [
    {
     "name": "stdout",
     "output_type": "stream",
     "text": [
      "<class 'pandas.core.frame.DataFrame'>\n",
      "RangeIndex: 23699 entries, 0 to 23698\n",
      "Data columns (total 3 columns):\n",
      " #   Column           Non-Null Count  Dtype\n",
      "---  ------           --------------  -----\n",
      " 0   floors_total     23699 non-null  int64\n",
      " 1   balcony          23699 non-null  int64\n",
      " 2   days_exposition  23699 non-null  int64\n",
      "dtypes: int64(3)\n",
      "memory usage: 555.6 KB\n"
     ]
    }
   ],
   "source": [
    "data[['floors_total', 'balcony', 'days_exposition']].info()"
   ]
  },
  {
   "cell_type": "markdown",
   "metadata": {},
   "source": [
    "### Вывод"
   ]
  },
  {
   "cell_type": "markdown",
   "metadata": {},
   "source": [
    "- Переименовали столбец `cityCenters_nearest`.\n",
    "- Удалили пропуски данных в стобцах `balcony`, `floors_total`, `days_exposition`, `is_apartment`, `locality_name`.\n",
    "- Поменяли тип данных в столбцах `first_day_exposition`, `floors_total`, `balcony`, `days_exposition`."
   ]
  },
  {
   "cell_type": "markdown",
   "metadata": {},
   "source": [
    "## Расчёты и добавление результатов в таблицу"
   ]
  },
  {
   "cell_type": "markdown",
   "metadata": {},
   "source": [
    "### Посчитано и добавлено в таблицу: цена квадратного метра"
   ]
  },
  {
   "cell_type": "code",
   "execution_count": 18,
   "metadata": {
    "scrolled": true
   },
   "outputs": [
    {
     "data": {
      "image/png": "[encoded data removed]",
      "text/plain": [
       "<Figure size 432x288 with 1 Axes>"
      ]
     },
     "metadata": {
      "needs_background": "light"
     },
     "output_type": "display_data"
    }
   ],
   "source": [
    "data['price_of_meter'] = data['last_price'] / data['total_area']\n",
    "data['price_of_meter'].hist(xrot=30);\n",
    "plt.title('цена квадратного метра')\n",
    "plt.show()"
   ]
  },
  {
   "cell_type": "markdown",
   "metadata": {},
   "source": [
    "### Посчитано и добавлено в таблицу: день недели, месяц и год публикации объявления"
   ]
  },
  {
   "cell_type": "code",
   "execution_count": 19,
   "metadata": {},
   "outputs": [],
   "source": [
    "data['day'] = data['first_day_exposition'].dt.day\n",
    "data['month'] = data['first_day_exposition'].dt.month\n",
    "data['year'] = data['first_day_exposition'].dt.year"
   ]
  },
  {
   "cell_type": "code",
   "execution_count": 20,
   "metadata": {},
   "outputs": [
    {
     "data": {
      "image/png": "[encoded data removed]",
      "text/plain": [
       "<Figure size 432x288 with 1 Axes>"
      ]
     },
     "metadata": {
      "needs_background": "light"
     },
     "output_type": "display_data"
    },
    {
     "data": {
      "image/png": "[encoded data removed]",
      "text/plain": [
       "<Figure size 432x288 with 1 Axes>"
      ]
     },
     "metadata": {
      "needs_background": "light"
     },
     "output_type": "display_data"
    },
    {
     "data": {
      "image/png": "[encoded data removed]",
      "text/plain": [
       "<Figure size 432x288 with 1 Axes>"
      ]
     },
     "metadata": {
      "needs_background": "light"
     },
     "output_type": "display_data"
    }
   ],
   "source": [
    "columns = {'day': 31, 'month': 12, 'year':6}\n",
    "\n",
    "for column, bins in columns.items():\n",
    "    data[column].hist(bins=bins)\n",
    "    plt.title(column)\n",
    "    plt.show()"
   ]
  },
  {
   "cell_type": "markdown",
   "metadata": {},
   "source": [
    "### Посчитано и добавлено в таблицу: этаж квартиры; варианты — первый, последний, другой"
   ]
  },
  {
   "cell_type": "code",
   "execution_count": 21,
   "metadata": {},
   "outputs": [],
   "source": [
    "data.loc[data['floor'] == data['floors_total'], 'apartment_floor'] = 'последний'\n",
    "data.loc[data['floor'] == 1, 'apartment_floor'] = 'первый'\n",
    "data.loc[(data['floor'] != 1) & (data['floor'] != data['floors_total']), 'apartment_floor'] = 'другой'"
   ]
  },
  {
   "cell_type": "code",
   "execution_count": 22,
   "metadata": {},
   "outputs": [
    {
     "data": {
      "text/plain": [
       "0    17446\n",
       "1     6253\n",
       "Name: first_or_last_floor, dtype: int64"
      ]
     },
     "execution_count": 22,
     "metadata": {},
     "output_type": "execute_result"
    }
   ],
   "source": [
    "data['first_or_last_floor'] = np.where(data.apartment_floor == 'другой', 0, 1)\n",
    "data['first_or_last_floor'].value_counts()"
   ]
  },
  {
   "cell_type": "code",
   "execution_count": 23,
   "metadata": {},
   "outputs": [
    {
     "data": {
      "image/png": "[encoded data removed]",
      "text/plain": [
       "<Figure size 432x288 with 1 Axes>"
      ]
     },
     "metadata": {
      "needs_background": "light"
     },
     "output_type": "display_data"
    }
   ],
   "source": [
    "data.apartment_floor.value_counts().plot(kind=\"bar\", rot=0);\n",
    "plt.title('этажы квартир')\n",
    "plt.show()"
   ]
  },
  {
   "cell_type": "markdown",
   "metadata": {},
   "source": [
    "### Посчитано и добавлено в таблицу: соотношение жилой и общей площади, а также отношение площади кухни к общей"
   ]
  },
  {
   "cell_type": "code",
   "execution_count": 24,
   "metadata": {},
   "outputs": [],
   "source": [
    "data['living_total_area'] = data.living_area / data.total_area"
   ]
  },
  {
   "cell_type": "code",
   "execution_count": 25,
   "metadata": {
    "scrolled": true
   },
   "outputs": [
    {
     "data": {
      "image/png": "[encoded data removed]",
      "text/plain": [
       "<Figure size 432x288 with 1 Axes>"
      ]
     },
     "metadata": {
      "needs_background": "light"
     },
     "output_type": "display_data"
    }
   ],
   "source": [
    "data['living_total_area'].hist()\n",
    "plt.title('соотношение жилой и общей площади')\n",
    "plt.show()"
   ]
  },
  {
   "cell_type": "code",
   "execution_count": 26,
   "metadata": {},
   "outputs": [],
   "source": [
    "data['kitchen_total_area'] = data.kitchen_area / data.total_area   "
   ]
  },
  {
   "cell_type": "code",
   "execution_count": 27,
   "metadata": {
    "scrolled": true
   },
   "outputs": [
    {
     "data": {
      "image/png": "[encoded data removed]",
      "text/plain": [
       "<Figure size 432x288 with 1 Axes>"
      ]
     },
     "metadata": {
      "needs_background": "light"
     },
     "output_type": "display_data"
    }
   ],
   "source": [
    "data['kitchen_total_area'].hist()\n",
    "plt.title('отношение площади кухни к общей площади')\n",
    "plt.show()"
   ]
  },
  {
   "cell_type": "markdown",
   "metadata": {},
   "source": [
    "###  изучены следующие параметры: площадь, цена, число комнат, высота потолков"
   ]
  },
  {
   "cell_type": "code",
   "execution_count": 28,
   "metadata": {},
   "outputs": [
    {
     "data": {
      "image/png": "[encoded data removed]",
      "text/plain": [
       "<Figure size 576x576 with 4 Axes>"
      ]
     },
     "metadata": {
      "needs_background": "light"
     },
     "output_type": "display_data"
    }
   ],
   "source": [
    "data[['total_area', 'last_price', 'rooms', 'ceiling_height']].hist(figsize=(8,8));"
   ]
  },
  {
   "cell_type": "markdown",
   "metadata": {},
   "source": [
    "### Вывод"
   ]
  },
  {
   "cell_type": "markdown",
   "metadata": {},
   "source": [
    "- С каждым годом количество объявлений о продаже квартир растет.\n",
    "- По гистограммам видно что в столбцах `total_area`, `last_price`, `rooms`, `ceiling_height` есть выбросы."
   ]
  },
  {
   "cell_type": "markdown",
   "metadata": {},
   "source": [
    "## Исследовательский анализ данных"
   ]
  },
  {
   "cell_type": "markdown",
   "metadata": {},
   "source": [
    "### задание: \"Изучите время продажи квартиры. Постройте гистограмму. Посчитайте среднее и медиану. Опишите, сколько обычно занимает продажа. Когда можно считать, что продажи прошли очень быстро, а когда необычно долго?\""
   ]
  },
  {
   "cell_type": "markdown",
   "metadata": {},
   "source": [
    "Количество дней от публикации до снятия объявления равное нулю это ещё не проданные квартиры, уберем их и построим гистограмму."
   ]
  },
  {
   "cell_type": "code",
   "execution_count": 29,
   "metadata": {
    "scrolled": true
   },
   "outputs": [
    {
     "data": {
      "image/png": "[encoded data removed]",
      "text/plain": [
       "<Figure size 432x288 with 1 Axes>"
      ]
     },
     "metadata": {
      "needs_background": "light"
     },
     "output_type": "display_data"
    }
   ],
   "source": [
    "data.query('days_exposition != 0').days_exposition.hist()\n",
    "plt.title('Время продажи квартир в днях')\n",
    "plt.show()"
   ]
  },
  {
   "cell_type": "code",
   "execution_count": 30,
   "metadata": {},
   "outputs": [
    {
     "data": {
      "text/plain": [
       "count    20518.000000\n",
       "mean       180.888634\n",
       "std        219.727988\n",
       "min          1.000000\n",
       "25%         45.000000\n",
       "50%         95.000000\n",
       "75%        232.000000\n",
       "max       1580.000000\n",
       "Name: days_exposition, dtype: float64"
      ]
     },
     "execution_count": 30,
     "metadata": {},
     "output_type": "execute_result"
    }
   ],
   "source": [
    "data.query('days_exposition != 0').days_exposition.describe()"
   ]
  },
  {
   "cell_type": "markdown",
   "metadata": {},
   "source": [
    "#### Вывод"
   ]
  },
  {
   "cell_type": "markdown",
   "metadata": {},
   "source": [
    "Обычно продажа квартиры занимает 95 дней. Можно считать, что продажи прошли очень быстро, если от публикации до снятия объявления прошло не больше 45 дней, а необычно долго, если прошло больше 232 дня."
   ]
  },
  {
   "cell_type": "markdown",
   "metadata": {},
   "source": [
    "### задание: \"Уберите редкие и выбивающиеся значения. Опишите, какие особенности обнаружили.\""
   ]
  },
  {
   "cell_type": "code",
   "execution_count": 31,
   "metadata": {},
   "outputs": [
    {
     "data": {
      "image/png": "[encoded data removed]",
      "text/plain": [
       "<Figure size 576x432 with 1 Axes>"
      ]
     },
     "metadata": {
      "needs_background": "light"
     },
     "output_type": "display_data"
    }
   ],
   "source": [
    "plt.figure(figsize=(8,6))\n",
    "plt.ylim(11800000,12000000)\n",
    "data['last_price'].to_frame().boxplot()\n",
    "plt.title('Цены квартир')\n",
    "plt.show()"
   ]
  },
  {
   "cell_type": "code",
   "execution_count": 32,
   "metadata": {},
   "outputs": [
    {
     "data": {
      "image/png": "[encoded data removed]",
      "text/plain": [
       "<Figure size 576x432 with 1 Axes>"
      ]
     },
     "metadata": {
      "needs_background": "light"
     },
     "output_type": "display_data"
    }
   ],
   "source": [
    "plt.figure(figsize=(8,6))\n",
    "plt.ylim(100, 120)\n",
    "data['total_area'].to_frame().boxplot()\n",
    "plt.title('Общая площадь квартир')\n",
    "plt.show()"
   ]
  },
  {
   "cell_type": "code",
   "execution_count": 33,
   "metadata": {},
   "outputs": [
    {
     "data": {
      "image/png": "[encoded data removed]",
      "text/plain": [
       "<Figure size 576x432 with 1 Axes>"
      ]
     },
     "metadata": {
      "needs_background": "light"
     },
     "output_type": "display_data"
    }
   ],
   "source": [
    "plt.figure(figsize=(8,6))\n",
    "data['rooms'].to_frame().boxplot()\n",
    "plt.title('Количество комнат')\n",
    "plt.show()"
   ]
  },
  {
   "cell_type": "code",
   "execution_count": 34,
   "metadata": {},
   "outputs": [
    {
     "data": {
      "image/png": "[encoded data removed]",
      "text/plain": [
       "<Figure size 576x432 with 1 Axes>"
      ]
     },
     "metadata": {
      "needs_background": "light"
     },
     "output_type": "display_data"
    }
   ],
   "source": [
    "plt.figure(figsize=(8,6))\n",
    "plt.ylim(1, 4)\n",
    "data['ceiling_height'].to_frame().boxplot()\n",
    "plt.title('Высота потолков квартир')\n",
    "plt.show()"
   ]
  },
  {
   "cell_type": "markdown",
   "metadata": {},
   "source": [
    "- В столбце `last_price` максимальное значение межквартильного размаха равно 11900000, значения выше выбросы удалим их.\n",
    "- В столбце `total_area` максимальное значение межквартильного размаха равно 114(м²), значения выше выбросы удалим их.\n",
    "- В столбце `rooms` максимальное значение межквартильного размаха равно 6, а минимальное значение равно 0, так как в квартире не может быть 0 комнат, удалим начения выше  6 и равные 0.\n",
    "- В столбце `ceiling_height` максимальное значение межквартильного размаха равно 3.2(м), а  минимальное значение равно 2.2(м), удалим начения выше 3.2(м) и ниже 2.2(м)."
   ]
  },
  {
   "cell_type": "code",
   "execution_count": 35,
   "metadata": {},
   "outputs": [],
   "source": [
    "good_data = data.query('last_price <= 11900000 and \\\n",
    "                        total_area <= 114 and \\\n",
    "                        rooms != 0 and rooms <=6 and \\\n",
    "                        ceiling_height >= 2.2 and ceiling_height <= 3.2')"
   ]
  },
  {
   "cell_type": "code",
   "execution_count": 36,
   "metadata": {},
   "outputs": [
    {
     "data": {
      "text/html": [
       "<div>\n",
       "<style scoped>\n",
       "    .dataframe tbody tr th:only-of-type {\n",
       "        vertical-align: middle;\n",
       "    }\n",
       "\n",
       "    .dataframe tbody tr th {\n",
       "        vertical-align: top;\n",
       "    }\n",
       "\n",
       "    .dataframe thead th {\n",
       "        text-align: right;\n",
       "    }\n",
       "</style>\n",
       "<table border=\"1\" class=\"dataframe\">\n",
       "  <thead>\n",
       "    <tr style=\"text-align: right;\">\n",
       "      <th></th>\n",
       "      <th>last_price</th>\n",
       "      <th>total_area</th>\n",
       "      <th>rooms</th>\n",
       "      <th>ceiling_height</th>\n",
       "    </tr>\n",
       "  </thead>\n",
       "  <tbody>\n",
       "    <tr>\n",
       "      <th>count</th>\n",
       "      <td>1.248100e+04</td>\n",
       "      <td>12481.000000</td>\n",
       "      <td>12481.000000</td>\n",
       "      <td>12481.000000</td>\n",
       "    </tr>\n",
       "    <tr>\n",
       "      <th>mean</th>\n",
       "      <td>4.897717e+06</td>\n",
       "      <td>53.023868</td>\n",
       "      <td>1.960179</td>\n",
       "      <td>2.659104</td>\n",
       "    </tr>\n",
       "    <tr>\n",
       "      <th>std</th>\n",
       "      <td>2.153293e+06</td>\n",
       "      <td>17.401953</td>\n",
       "      <td>0.877844</td>\n",
       "      <td>0.170345</td>\n",
       "    </tr>\n",
       "    <tr>\n",
       "      <th>min</th>\n",
       "      <td>1.219000e+04</td>\n",
       "      <td>12.000000</td>\n",
       "      <td>1.000000</td>\n",
       "      <td>2.200000</td>\n",
       "    </tr>\n",
       "    <tr>\n",
       "      <th>25%</th>\n",
       "      <td>3.420000e+06</td>\n",
       "      <td>40.000000</td>\n",
       "      <td>1.000000</td>\n",
       "      <td>2.500000</td>\n",
       "    </tr>\n",
       "    <tr>\n",
       "      <th>50%</th>\n",
       "      <td>4.500000e+06</td>\n",
       "      <td>50.000000</td>\n",
       "      <td>2.000000</td>\n",
       "      <td>2.600000</td>\n",
       "    </tr>\n",
       "    <tr>\n",
       "      <th>75%</th>\n",
       "      <td>6.000000e+06</td>\n",
       "      <td>63.400000</td>\n",
       "      <td>3.000000</td>\n",
       "      <td>2.750000</td>\n",
       "    </tr>\n",
       "    <tr>\n",
       "      <th>max</th>\n",
       "      <td>1.190000e+07</td>\n",
       "      <td>114.000000</td>\n",
       "      <td>6.000000</td>\n",
       "      <td>3.200000</td>\n",
       "    </tr>\n",
       "  </tbody>\n",
       "</table>\n",
       "</div>"
      ],
      "text/plain": [
       "         last_price    total_area         rooms  ceiling_height\n",
       "count  1.248100e+04  12481.000000  12481.000000    12481.000000\n",
       "mean   4.897717e+06     53.023868      1.960179        2.659104\n",
       "std    2.153293e+06     17.401953      0.877844        0.170345\n",
       "min    1.219000e+04     12.000000      1.000000        2.200000\n",
       "25%    3.420000e+06     40.000000      1.000000        2.500000\n",
       "50%    4.500000e+06     50.000000      2.000000        2.600000\n",
       "75%    6.000000e+06     63.400000      3.000000        2.750000\n",
       "max    1.190000e+07    114.000000      6.000000        3.200000"
      ]
     },
     "execution_count": 36,
     "metadata": {},
     "output_type": "execute_result"
    }
   ],
   "source": [
    "good_data[['last_price', 'total_area', 'rooms', 'ceiling_height']].describe()"
   ]
  },
  {
   "cell_type": "markdown",
   "metadata": {},
   "source": [
    "#### Вывод"
   ]
  },
  {
   "cell_type": "markdown",
   "metadata": {},
   "source": [
    "Убрав выбросы из четырех столбцов `last_price`, `total_area`, `rooms` и `ceiling_height` количество данных сократилось почти в два раза, из 23699 строк осталось 12481."
   ]
  },
  {
   "cell_type": "markdown",
   "metadata": {},
   "source": [
    "### задание: \"Какие факторы больше всего влияют на стоимость квартиры? Изучите, зависит ли цена от квадратного метра, числа комнат, этажа (первого или последнего), удалённости от центра. Также изучите зависимость от даты размещения: дня недели, месяца и года. \"Выберите 10 населённых пунктов с наибольшим числом объявлений. Посчитайте среднюю цену квадратного метра в этих населённых пунктах. Выделите населённые пункты с самой высокой и низкой стоимостью жилья. Эти данные можно найти по имени в столбце 'locality_name'. \""
   ]
  },
  {
   "cell_type": "code",
   "execution_count": 37,
   "metadata": {},
   "outputs": [
    {
     "data": {
      "text/html": [
       "<div>\n",
       "<style scoped>\n",
       "    .dataframe tbody tr th:only-of-type {\n",
       "        vertical-align: middle;\n",
       "    }\n",
       "\n",
       "    .dataframe tbody tr th {\n",
       "        vertical-align: top;\n",
       "    }\n",
       "\n",
       "    .dataframe thead th {\n",
       "        text-align: right;\n",
       "    }\n",
       "</style>\n",
       "<table border=\"1\" class=\"dataframe\">\n",
       "  <thead>\n",
       "    <tr style=\"text-align: right;\">\n",
       "      <th></th>\n",
       "      <th>good_data</th>\n",
       "      <th>data</th>\n",
       "    </tr>\n",
       "  </thead>\n",
       "  <tbody>\n",
       "    <tr>\n",
       "      <th>last_price</th>\n",
       "      <td>1.000000</td>\n",
       "      <td>1.000000</td>\n",
       "    </tr>\n",
       "    <tr>\n",
       "      <th>total_area</th>\n",
       "      <td>0.688974</td>\n",
       "      <td>0.653675</td>\n",
       "    </tr>\n",
       "    <tr>\n",
       "      <th>price_of_meter</th>\n",
       "      <td>0.627298</td>\n",
       "      <td>0.736499</td>\n",
       "    </tr>\n",
       "    <tr>\n",
       "      <th>living_area</th>\n",
       "      <td>0.556144</td>\n",
       "      <td>0.566492</td>\n",
       "    </tr>\n",
       "    <tr>\n",
       "      <th>kitchen_area</th>\n",
       "      <td>0.483651</td>\n",
       "      <td>0.519869</td>\n",
       "    </tr>\n",
       "  </tbody>\n",
       "</table>\n",
       "</div>"
      ],
      "text/plain": [
       "                good_data      data\n",
       "last_price       1.000000  1.000000\n",
       "total_area       0.688974  0.653675\n",
       "price_of_meter   0.627298  0.736499\n",
       "living_area      0.556144  0.566492\n",
       "kitchen_area     0.483651  0.519869"
      ]
     },
     "execution_count": 37,
     "metadata": {},
     "output_type": "execute_result"
    }
   ],
   "source": [
    "df = pd.DataFrame([good_data.corr().last_price.sort_values(ascending=False), \\\n",
    "                   data.corr().last_price]).T\n",
    "df.columns=['good_data', 'data']\n",
    "df.head()"
   ]
  },
  {
   "cell_type": "code",
   "execution_count": 38,
   "metadata": {},
   "outputs": [
    {
     "data": {
      "text/plain": [
       "last_price              1.000000\n",
       "total_area              0.688974\n",
       "rooms                   0.424383\n",
       "first_or_last_floor    -0.146048\n",
       "city_centers_nearest   -0.319553\n",
       "Name: last_price, dtype: float64"
      ]
     },
     "execution_count": 38,
     "metadata": {},
     "output_type": "execute_result"
    }
   ],
   "source": [
    "good_data[['last_price', 'total_area', 'rooms', 'first_or_last_floor', 'city_centers_nearest']].corr().last_price"
   ]
  },
  {
   "cell_type": "code",
   "execution_count": 39,
   "metadata": {},
   "outputs": [
    {
     "data": {
      "text/plain": [
       "last_price    1.000000\n",
       "day          -0.003946\n",
       "year          0.018112\n",
       "month         0.001437\n",
       "Name: last_price, dtype: float64"
      ]
     },
     "execution_count": 39,
     "metadata": {},
     "output_type": "execute_result"
    }
   ],
   "source": [
    "good_data[['last_price', 'day', 'year', 'month']].corr().last_price"
   ]
  },
  {
   "cell_type": "code",
   "execution_count": 40,
   "metadata": {},
   "outputs": [
    {
     "data": {
      "text/html": [
       "<div>\n",
       "<style scoped>\n",
       "    .dataframe tbody tr th:only-of-type {\n",
       "        vertical-align: middle;\n",
       "    }\n",
       "\n",
       "    .dataframe tbody tr th {\n",
       "        vertical-align: top;\n",
       "    }\n",
       "\n",
       "    .dataframe thead th {\n",
       "        text-align: right;\n",
       "    }\n",
       "</style>\n",
       "<table border=\"1\" class=\"dataframe\">\n",
       "  <thead>\n",
       "    <tr style=\"text-align: right;\">\n",
       "      <th></th>\n",
       "      <th>count</th>\n",
       "      <th>price_of_meter_mean</th>\n",
       "    </tr>\n",
       "    <tr>\n",
       "      <th>locality_name</th>\n",
       "      <th></th>\n",
       "      <th></th>\n",
       "    </tr>\n",
       "  </thead>\n",
       "  <tbody>\n",
       "    <tr>\n",
       "      <th>Санкт-Петербург</th>\n",
       "      <td>8254</td>\n",
       "      <td>105952.602788</td>\n",
       "    </tr>\n",
       "    <tr>\n",
       "      <th>Всеволожск</th>\n",
       "      <td>261</td>\n",
       "      <td>67170.215631</td>\n",
       "    </tr>\n",
       "    <tr>\n",
       "      <th>посёлок Шушары</th>\n",
       "      <td>213</td>\n",
       "      <td>79543.606271</td>\n",
       "    </tr>\n",
       "    <tr>\n",
       "      <th>Пушкин</th>\n",
       "      <td>205</td>\n",
       "      <td>100438.325281</td>\n",
       "    </tr>\n",
       "    <tr>\n",
       "      <th>Колпино</th>\n",
       "      <td>199</td>\n",
       "      <td>75785.802596</td>\n",
       "    </tr>\n",
       "    <tr>\n",
       "      <th>посёлок Мурино</th>\n",
       "      <td>196</td>\n",
       "      <td>87310.007093</td>\n",
       "    </tr>\n",
       "    <tr>\n",
       "      <th>Гатчина</th>\n",
       "      <td>144</td>\n",
       "      <td>69670.200978</td>\n",
       "    </tr>\n",
       "    <tr>\n",
       "      <th>посёлок Парголово</th>\n",
       "      <td>137</td>\n",
       "      <td>90901.351145</td>\n",
       "    </tr>\n",
       "    <tr>\n",
       "      <th>Петергоф</th>\n",
       "      <td>137</td>\n",
       "      <td>83620.625679</td>\n",
       "    </tr>\n",
       "    <tr>\n",
       "      <th>деревня Кудрово</th>\n",
       "      <td>118</td>\n",
       "      <td>90567.907948</td>\n",
       "    </tr>\n",
       "  </tbody>\n",
       "</table>\n",
       "</div>"
      ],
      "text/plain": [
       "                   count  price_of_meter_mean\n",
       "locality_name                                \n",
       "Санкт-Петербург     8254        105952.602788\n",
       "Всеволожск           261         67170.215631\n",
       "посёлок Шушары       213         79543.606271\n",
       "Пушкин               205        100438.325281\n",
       "Колпино              199         75785.802596\n",
       "посёлок Мурино       196         87310.007093\n",
       "Гатчина              144         69670.200978\n",
       "посёлок Парголово    137         90901.351145\n",
       "Петергоф             137         83620.625679\n",
       "деревня Кудрово      118         90567.907948"
      ]
     },
     "execution_count": 40,
     "metadata": {},
     "output_type": "execute_result"
    }
   ],
   "source": [
    "good_data.groupby('locality_name') \\\n",
    "    .agg({'total_images': 'count', 'price_of_meter': 'mean'}) \\\n",
    "    .sort_values('total_images', ascending=False) \\\n",
    "    .rename(columns={'total_images' : 'count', 'price_of_meter': 'price_of_meter_mean'}) \\\n",
    "    .head(10)"
   ]
  },
  {
   "cell_type": "markdown",
   "metadata": {},
   "source": [
    "#### Вывод"
   ]
  },
  {
   "cell_type": "markdown",
   "metadata": {},
   "source": [
    "- Больше всего влияет на стоимость квартиры общая площадь квартиры, цена за квадратный метр, жилая площадь и площадь кухни.\n",
    "- Цена больше завит от площади квартиры в квадратных метрах, числа комнат и удалённости от центра, чем от этажа (первого или последнего).\n",
    "- Цена не зависит от от даты размещения: дня недели, месяца и года.\n",
    "- Населённые пункты с самой высокой стоимостью жилья в Санкт-Петербурге, а с низкой стоимостью жилья в Всеволожске."
   ]
  },
  {
   "cell_type": "markdown",
   "metadata": {},
   "source": [
    "### выполнено задание: \"Изучите предложения квартир: для каждой квартиры есть информация о расстоянии до центра. Выделите квартиры в Санкт-Петербурге ('locality_name'). Ваша задача — выяснить, какая область входит в центр. Создайте столбец с расстоянием до центра в километрах: округлите до целых значений. После этого посчитайте среднюю цену для каждого километра. Постройте график: он должен показывать, как цена зависит от удалённости от центра. Определите границу, где график сильно меняется — это и будет центральная зона. \""
   ]
  },
  {
   "cell_type": "code",
   "execution_count": 41,
   "metadata": {
    "scrolled": true
   },
   "outputs": [],
   "source": [
    "good_data.loc[:, 'city_centers_nearest_km'] = round(good_data.city_centers_nearest / 1000)"
   ]
  },
  {
   "cell_type": "code",
   "execution_count": 42,
   "metadata": {},
   "outputs": [],
   "source": [
    "Saint_Petersburg_data = good_data.query('locality_name == \"Санкт-Петербург\"')"
   ]
  },
  {
   "cell_type": "code",
   "execution_count": 43,
   "metadata": {},
   "outputs": [
    {
     "data": {
      "image/png": "[encoded data removed]",
      "text/plain": [
       "<Figure size 432x288 with 1 Axes>"
      ]
     },
     "metadata": {
      "needs_background": "light"
     },
     "output_type": "display_data"
    }
   ],
   "source": [
    "Saint_Petersburg_data.groupby('city_centers_nearest_km') \\\n",
    "                     .agg({'price_of_meter': 'mean'}) \\\n",
    "                     .plot(kind='bar')\n",
    "plt.title('Зависимость цены от удаленности от центра в км')\n",
    "plt.show()"
   ]
  },
  {
   "cell_type": "markdown",
   "metadata": {},
   "source": [
    "#### Вывод"
   ]
  },
  {
   "cell_type": "markdown",
   "metadata": {},
   "source": [
    "На 8 километрах от центра начинается спад цены за метр, будем считать что центральная зона заканчивается там."
   ]
  },
  {
   "cell_type": "markdown",
   "metadata": {},
   "source": [
    "### задание: \"Выделите сегмент квартир в центре. Проанализируйте эту территорию и изучите следующие параметры: площадь, цена, число комнат, высота потолков. Также выделите факторы, которые влияют на стоимость квартиры (число комнат, этаж, удалённость от центра, дата размещения объявления). Сделайте выводы. Отличаются ли они от общих выводов по всему городу?\""
   ]
  },
  {
   "cell_type": "code",
   "execution_count": 44,
   "metadata": {},
   "outputs": [
    {
     "data": {
      "text/html": [
       "<div>\n",
       "<style scoped>\n",
       "    .dataframe tbody tr th:only-of-type {\n",
       "        vertical-align: middle;\n",
       "    }\n",
       "\n",
       "    .dataframe tbody tr th {\n",
       "        vertical-align: top;\n",
       "    }\n",
       "\n",
       "    .dataframe thead th {\n",
       "        text-align: right;\n",
       "    }\n",
       "</style>\n",
       "<table border=\"1\" class=\"dataframe\">\n",
       "  <thead>\n",
       "    <tr style=\"text-align: right;\">\n",
       "      <th></th>\n",
       "      <th>last_price</th>\n",
       "      <th>total_area</th>\n",
       "      <th>rooms</th>\n",
       "      <th>ceiling_height</th>\n",
       "    </tr>\n",
       "  </thead>\n",
       "  <tbody>\n",
       "    <tr>\n",
       "      <th>count</th>\n",
       "      <td>1.381000e+03</td>\n",
       "      <td>1381.000000</td>\n",
       "      <td>1381.000000</td>\n",
       "      <td>1381.000000</td>\n",
       "    </tr>\n",
       "    <tr>\n",
       "      <th>mean</th>\n",
       "      <td>7.155643e+06</td>\n",
       "      <td>62.495329</td>\n",
       "      <td>2.240406</td>\n",
       "      <td>2.859508</td>\n",
       "    </tr>\n",
       "    <tr>\n",
       "      <th>std</th>\n",
       "      <td>2.128957e+06</td>\n",
       "      <td>20.124665</td>\n",
       "      <td>0.927903</td>\n",
       "      <td>0.219529</td>\n",
       "    </tr>\n",
       "    <tr>\n",
       "      <th>min</th>\n",
       "      <td>1.600000e+06</td>\n",
       "      <td>12.000000</td>\n",
       "      <td>1.000000</td>\n",
       "      <td>2.400000</td>\n",
       "    </tr>\n",
       "    <tr>\n",
       "      <th>25%</th>\n",
       "      <td>5.590000e+06</td>\n",
       "      <td>46.000000</td>\n",
       "      <td>2.000000</td>\n",
       "      <td>2.700000</td>\n",
       "    </tr>\n",
       "    <tr>\n",
       "      <th>50%</th>\n",
       "      <td>6.950000e+06</td>\n",
       "      <td>60.700000</td>\n",
       "      <td>2.000000</td>\n",
       "      <td>2.880000</td>\n",
       "    </tr>\n",
       "    <tr>\n",
       "      <th>75%</th>\n",
       "      <td>8.650000e+06</td>\n",
       "      <td>76.000000</td>\n",
       "      <td>3.000000</td>\n",
       "      <td>3.000000</td>\n",
       "    </tr>\n",
       "    <tr>\n",
       "      <th>max</th>\n",
       "      <td>1.190000e+07</td>\n",
       "      <td>114.000000</td>\n",
       "      <td>6.000000</td>\n",
       "      <td>3.200000</td>\n",
       "    </tr>\n",
       "  </tbody>\n",
       "</table>\n",
       "</div>"
      ],
      "text/plain": [
       "         last_price   total_area        rooms  ceiling_height\n",
       "count  1.381000e+03  1381.000000  1381.000000     1381.000000\n",
       "mean   7.155643e+06    62.495329     2.240406        2.859508\n",
       "std    2.128957e+06    20.124665     0.927903        0.219529\n",
       "min    1.600000e+06    12.000000     1.000000        2.400000\n",
       "25%    5.590000e+06    46.000000     2.000000        2.700000\n",
       "50%    6.950000e+06    60.700000     2.000000        2.880000\n",
       "75%    8.650000e+06    76.000000     3.000000        3.000000\n",
       "max    1.190000e+07   114.000000     6.000000        3.200000"
      ]
     },
     "execution_count": 44,
     "metadata": {},
     "output_type": "execute_result"
    }
   ],
   "source": [
    "Saint_Petersburg_data_8km = Saint_Petersburg_data.query('city_centers_nearest_km <= 8')\n",
    "Saint_Petersburg_data_8km[['last_price', 'total_area', 'rooms', 'ceiling_height']].describe()"
   ]
  },
  {
   "cell_type": "code",
   "execution_count": 45,
   "metadata": {
    "scrolled": true
   },
   "outputs": [
    {
     "data": {
      "text/html": [
       "<div>\n",
       "<style scoped>\n",
       "    .dataframe tbody tr th:only-of-type {\n",
       "        vertical-align: middle;\n",
       "    }\n",
       "\n",
       "    .dataframe tbody tr th {\n",
       "        vertical-align: top;\n",
       "    }\n",
       "\n",
       "    .dataframe thead th {\n",
       "        text-align: right;\n",
       "    }\n",
       "</style>\n",
       "<table border=\"1\" class=\"dataframe\">\n",
       "  <thead>\n",
       "    <tr style=\"text-align: right;\">\n",
       "      <th></th>\n",
       "      <th>Saint_Petersburg_data_8km</th>\n",
       "      <th>Saint_Petersburg_data</th>\n",
       "      <th>good_data</th>\n",
       "    </tr>\n",
       "  </thead>\n",
       "  <tbody>\n",
       "    <tr>\n",
       "      <th>last_price</th>\n",
       "      <td>1.000000</td>\n",
       "      <td>1.000000</td>\n",
       "      <td>1.000000</td>\n",
       "    </tr>\n",
       "    <tr>\n",
       "      <th>rooms</th>\n",
       "      <td>0.459851</td>\n",
       "      <td>0.492866</td>\n",
       "      <td>0.424383</td>\n",
       "    </tr>\n",
       "    <tr>\n",
       "      <th>first_or_last_floor</th>\n",
       "      <td>-0.123409</td>\n",
       "      <td>-0.072168</td>\n",
       "      <td>-0.146048</td>\n",
       "    </tr>\n",
       "    <tr>\n",
       "      <th>city_centers_nearest_km</th>\n",
       "      <td>-0.183728</td>\n",
       "      <td>-0.313693</td>\n",
       "      <td>-0.320136</td>\n",
       "    </tr>\n",
       "    <tr>\n",
       "      <th>day</th>\n",
       "      <td>-0.016608</td>\n",
       "      <td>-0.003238</td>\n",
       "      <td>-0.003946</td>\n",
       "    </tr>\n",
       "    <tr>\n",
       "      <th>year</th>\n",
       "      <td>-0.027575</td>\n",
       "      <td>0.012989</td>\n",
       "      <td>0.018112</td>\n",
       "    </tr>\n",
       "    <tr>\n",
       "      <th>month</th>\n",
       "      <td>0.016312</td>\n",
       "      <td>0.002043</td>\n",
       "      <td>0.001437</td>\n",
       "    </tr>\n",
       "  </tbody>\n",
       "</table>\n",
       "</div>"
      ],
      "text/plain": [
       "                         Saint_Petersburg_data_8km  Saint_Petersburg_data  \\\n",
       "last_price                                1.000000               1.000000   \n",
       "rooms                                     0.459851               0.492866   \n",
       "first_or_last_floor                      -0.123409              -0.072168   \n",
       "city_centers_nearest_km                  -0.183728              -0.313693   \n",
       "day                                      -0.016608              -0.003238   \n",
       "year                                     -0.027575               0.012989   \n",
       "month                                     0.016312               0.002043   \n",
       "\n",
       "                         good_data  \n",
       "last_price                1.000000  \n",
       "rooms                     0.424383  \n",
       "first_or_last_floor      -0.146048  \n",
       "city_centers_nearest_km  -0.320136  \n",
       "day                      -0.003946  \n",
       "year                      0.018112  \n",
       "month                     0.001437  "
      ]
     },
     "execution_count": 45,
     "metadata": {},
     "output_type": "execute_result"
    }
   ],
   "source": [
    "df = pd.DataFrame([Saint_Petersburg_data_8km[['last_price', 'rooms', 'first_or_last_floor', 'city_centers_nearest_km', 'day', 'year', 'month']].corr().last_price, \\\n",
    "Saint_Petersburg_data[['last_price', 'rooms', 'first_or_last_floor', 'city_centers_nearest_km', 'day', 'year', 'month']].corr().last_price, \\\n",
    "good_data[['last_price', 'rooms', 'first_or_last_floor', 'city_centers_nearest_km', 'day', 'year', 'month']].corr().last_price]).T\n",
    "df.columns=['Saint_Petersburg_data_8km', 'Saint_Petersburg_data', 'good_data']\n",
    "df"
   ]
  },
  {
   "cell_type": "markdown",
   "metadata": {},
   "source": [
    "#### Вывод"
   ]
  },
  {
   "cell_type": "markdown",
   "metadata": {},
   "source": [
    "- На стоимость квартиры в центре Санкт-Петербурга влияет количество комнат и этаж (первый или последний), но не влияет удалённость от центра и дата размещения объявления.\n",
    "- Отличие центра от всего города в том, что во всем городе больше влияет на цену удалённость от центра города и меньше влияет на цену этаж (первый или последний).\n",
    "- Отличие центра Санкт-Петербурга от всех населеннных пунктов в том, что удалённость от центра города меньше влияет на цену квартиры в центре Санкт-Петербурга."
   ]
  },
  {
   "cell_type": "markdown",
   "metadata": {},
   "source": [
    "## Общий вывод"
   ]
  },
  {
   "cell_type": "markdown",
   "metadata": {},
   "source": [
    "- С каждым годом количество объявлений о продаже квартир растет.\n",
    "- Обычно продажа квартиры занимает 95 дней.\n",
    "- Больше всего влияет на стоимость квартиры общая площадь квартиры, цена за квадратный метр, жилая площадь и площадь кухни.\n",
    "- Населённые пункты с самой высокой стоимостью жилья в Санкт-Петербурге, а с низкой стоимостью жилья в Всеволожске.\n",
    "- В Санкт-Петербурге центральная зона имеет границу в 8 км.\n",
    "- Отличие центра Санкт-Петербурга от всего города в том, что во всем городе больше влияет на цену удалённость от центра города и меньше влияет на цену этаж (первый или последний)."
   ]
  }
 ],
 "metadata": {
  "ExecuteTimeLog": [
   {
    "duration": 809,
    "start_time": "2021-06-26T20:55:15.690Z"
   },
   {
    "duration": 269,
    "start_time": "2021-06-26T20:55:34.523Z"
   },
   {
    "duration": 22,
    "start_time": "2021-06-26T20:55:42.627Z"
   },
   {
    "duration": 281,
    "start_time": "2021-06-26T20:55:57.366Z"
   },
   {
    "duration": 56,
    "start_time": "2021-06-26T20:55:58.211Z"
   },
   {
    "duration": 98,
    "start_time": "2021-06-26T20:56:28.126Z"
   },
   {
    "duration": 15,
    "start_time": "2021-06-26T21:07:25.048Z"
   },
   {
    "duration": 7,
    "start_time": "2021-06-26T21:44:18.529Z"
   },
   {
    "duration": 325,
    "start_time": "2021-06-27T11:01:37.560Z"
   },
   {
    "duration": 775,
    "start_time": "2021-06-27T11:01:42.969Z"
   },
   {
    "duration": 240,
    "start_time": "2021-06-27T11:01:43.747Z"
   },
   {
    "duration": 70,
    "start_time": "2021-06-27T11:01:43.989Z"
   },
   {
    "duration": 99,
    "start_time": "2021-06-27T11:01:45.049Z"
   },
   {
    "duration": 15,
    "start_time": "2021-06-27T11:01:46.256Z"
   },
   {
    "duration": 6,
    "start_time": "2021-06-27T11:01:46.753Z"
   },
   {
    "duration": 10,
    "start_time": "2021-06-27T11:01:47.545Z"
   },
   {
    "duration": 314,
    "start_time": "2021-06-27T11:03:50.329Z"
   },
   {
    "duration": 285,
    "start_time": "2021-06-27T11:04:55.261Z"
   },
   {
    "duration": 12,
    "start_time": "2021-06-27T11:05:01.973Z"
   },
   {
    "duration": 14,
    "start_time": "2021-06-27T11:06:02.682Z"
   },
   {
    "duration": 25,
    "start_time": "2021-06-27T11:07:15.542Z"
   },
   {
    "duration": 8,
    "start_time": "2021-06-27T11:07:43.224Z"
   },
   {
    "duration": 8,
    "start_time": "2021-06-27T11:07:58.673Z"
   },
   {
    "duration": 322,
    "start_time": "2021-06-27T11:12:26.346Z"
   },
   {
    "duration": 15,
    "start_time": "2021-06-27T11:12:33.945Z"
   },
   {
    "duration": 837,
    "start_time": "2021-06-27T11:12:46.952Z"
   },
   {
    "duration": 290,
    "start_time": "2021-06-27T11:13:02.285Z"
   },
   {
    "duration": 27,
    "start_time": "2021-06-27T11:13:35.637Z"
   },
   {
    "duration": 32,
    "start_time": "2021-06-27T11:13:53.064Z"
   },
   {
    "duration": 25,
    "start_time": "2021-06-27T11:14:23.576Z"
   },
   {
    "duration": 13,
    "start_time": "2021-06-27T11:15:11.235Z"
   },
   {
    "duration": 13,
    "start_time": "2021-06-27T11:15:12.307Z"
   },
   {
    "duration": 24,
    "start_time": "2021-06-27T11:16:14.951Z"
   },
   {
    "duration": 24,
    "start_time": "2021-06-27T11:17:49.141Z"
   },
   {
    "duration": 22,
    "start_time": "2021-06-27T11:18:34.953Z"
   },
   {
    "duration": 27,
    "start_time": "2021-06-27T11:19:44.780Z"
   },
   {
    "duration": 38,
    "start_time": "2021-06-27T11:20:35.273Z"
   },
   {
    "duration": 98,
    "start_time": "2021-06-27T11:22:04.877Z"
   },
   {
    "duration": 14,
    "start_time": "2021-06-27T11:22:14.119Z"
   },
   {
    "duration": 93,
    "start_time": "2021-06-27T11:23:40.852Z"
   },
   {
    "duration": 92,
    "start_time": "2021-06-27T11:30:06.300Z"
   },
   {
    "duration": 95,
    "start_time": "2021-06-27T11:30:21.045Z"
   },
   {
    "duration": 98,
    "start_time": "2021-06-27T11:30:26.373Z"
   },
   {
    "duration": 37,
    "start_time": "2021-06-27T11:33:31.857Z"
   },
   {
    "duration": 51,
    "start_time": "2021-06-27T11:41:14.126Z"
   },
   {
    "duration": 9,
    "start_time": "2021-06-27T12:29:48.460Z"
   },
   {
    "duration": 12,
    "start_time": "2021-06-27T12:32:11.405Z"
   },
   {
    "duration": 12,
    "start_time": "2021-06-27T12:35:48.499Z"
   },
   {
    "duration": 10,
    "start_time": "2021-06-27T16:40:45.638Z"
   },
   {
    "duration": 360,
    "start_time": "2021-06-27T16:41:24.528Z"
   },
   {
    "duration": 7,
    "start_time": "2021-06-27T16:41:29.592Z"
   },
   {
    "duration": 39,
    "start_time": "2021-06-27T18:28:00.711Z"
   },
   {
    "duration": 5,
    "start_time": "2021-06-27T18:42:18.363Z"
   },
   {
    "duration": 322,
    "start_time": "2021-06-28T05:38:25.715Z"
   },
   {
    "duration": 748,
    "start_time": "2021-06-28T05:38:31.385Z"
   },
   {
    "duration": 321,
    "start_time": "2021-06-28T05:38:32.136Z"
   },
   {
    "duration": 49,
    "start_time": "2021-06-28T05:38:32.460Z"
   },
   {
    "duration": 26,
    "start_time": "2021-06-28T05:38:32.512Z"
   },
   {
    "duration": 116,
    "start_time": "2021-06-28T05:38:32.540Z"
   },
   {
    "duration": 38,
    "start_time": "2021-06-28T05:38:32.658Z"
   },
   {
    "duration": 27,
    "start_time": "2021-06-28T05:38:32.698Z"
   },
   {
    "duration": 6,
    "start_time": "2021-06-28T05:38:32.728Z"
   },
   {
    "duration": 10,
    "start_time": "2021-06-28T05:38:32.736Z"
   },
   {
    "duration": 12,
    "start_time": "2021-06-28T05:38:32.748Z"
   },
   {
    "duration": 356,
    "start_time": "2021-06-28T05:50:07.677Z"
   },
   {
    "duration": 302,
    "start_time": "2021-06-28T05:50:21.874Z"
   },
   {
    "duration": 271,
    "start_time": "2021-06-28T05:51:42.612Z"
   },
   {
    "duration": 285,
    "start_time": "2021-06-28T05:52:06.801Z"
   },
   {
    "duration": 15,
    "start_time": "2021-06-28T05:52:33.089Z"
   },
   {
    "duration": 102,
    "start_time": "2021-06-28T05:52:48.641Z"
   },
   {
    "duration": 97,
    "start_time": "2021-06-28T05:53:02.473Z"
   },
   {
    "duration": 15,
    "start_time": "2021-06-28T05:53:09.049Z"
   },
   {
    "duration": 61,
    "start_time": "2021-06-28T05:57:40.048Z"
   },
   {
    "duration": 14,
    "start_time": "2021-06-28T05:58:58.883Z"
   },
   {
    "duration": 270,
    "start_time": "2021-06-28T06:00:39.190Z"
   },
   {
    "duration": 14,
    "start_time": "2021-06-28T06:00:55.366Z"
   },
   {
    "duration": 12,
    "start_time": "2021-06-28T06:02:50.741Z"
   },
   {
    "duration": 13,
    "start_time": "2021-06-28T06:03:38.269Z"
   },
   {
    "duration": 6,
    "start_time": "2021-06-28T11:28:03.842Z"
   },
   {
    "duration": 13,
    "start_time": "2021-06-28T13:04:21.366Z"
   },
   {
    "duration": 5,
    "start_time": "2021-06-28T13:04:55.565Z"
   },
   {
    "duration": 99,
    "start_time": "2021-06-28T13:55:11.143Z"
   },
   {
    "duration": 8,
    "start_time": "2021-06-28T13:55:13.656Z"
   },
   {
    "duration": 64,
    "start_time": "2021-06-28T13:55:22.656Z"
   },
   {
    "duration": 21,
    "start_time": "2021-06-28T17:02:19.504Z"
   },
   {
    "duration": 9,
    "start_time": "2021-06-28T17:02:42.441Z"
   },
   {
    "duration": 19,
    "start_time": "2021-06-28T17:03:35.390Z"
   },
   {
    "duration": 11,
    "start_time": "2021-06-28T17:03:36.148Z"
   },
   {
    "duration": 715,
    "start_time": "2021-06-28T17:03:56.787Z"
   },
   {
    "duration": 330,
    "start_time": "2021-06-28T17:03:57.505Z"
   },
   {
    "duration": 47,
    "start_time": "2021-06-28T17:03:57.838Z"
   },
   {
    "duration": 15,
    "start_time": "2021-06-28T17:03:57.887Z"
   },
   {
    "duration": 113,
    "start_time": "2021-06-28T17:03:57.925Z"
   },
   {
    "duration": 37,
    "start_time": "2021-06-28T17:03:58.041Z"
   },
   {
    "duration": 12,
    "start_time": "2021-06-28T17:03:58.081Z"
   },
   {
    "duration": 35,
    "start_time": "2021-06-28T17:03:58.096Z"
   },
   {
    "duration": 17,
    "start_time": "2021-06-28T17:03:58.135Z"
   },
   {
    "duration": 21,
    "start_time": "2021-06-28T17:03:58.154Z"
   },
   {
    "duration": 5,
    "start_time": "2021-06-28T17:03:58.177Z"
   },
   {
    "duration": 7,
    "start_time": "2021-06-28T17:03:58.185Z"
   },
   {
    "duration": 51,
    "start_time": "2021-06-28T17:03:58.194Z"
   },
   {
    "duration": 9,
    "start_time": "2021-06-28T17:03:58.247Z"
   },
   {
    "duration": 13,
    "start_time": "2021-06-28T17:07:05.970Z"
   },
   {
    "duration": 755,
    "start_time": "2021-06-29T05:34:07.491Z"
   },
   {
    "duration": 275,
    "start_time": "2021-06-29T05:34:08.249Z"
   },
   {
    "duration": 46,
    "start_time": "2021-06-29T05:34:08.527Z"
   },
   {
    "duration": 16,
    "start_time": "2021-06-29T05:34:08.575Z"
   },
   {
    "duration": 120,
    "start_time": "2021-06-29T05:34:08.594Z"
   },
   {
    "duration": 36,
    "start_time": "2021-06-29T05:34:08.723Z"
   },
   {
    "duration": 12,
    "start_time": "2021-06-29T05:34:08.762Z"
   },
   {
    "duration": 6,
    "start_time": "2021-06-29T05:34:08.778Z"
   },
   {
    "duration": 49,
    "start_time": "2021-06-29T05:34:08.787Z"
   },
   {
    "duration": 17,
    "start_time": "2021-06-29T05:34:08.838Z"
   },
   {
    "duration": 5,
    "start_time": "2021-06-29T05:34:08.857Z"
   },
   {
    "duration": 8,
    "start_time": "2021-06-29T05:34:08.864Z"
   },
   {
    "duration": 15,
    "start_time": "2021-06-29T05:34:08.874Z"
   },
   {
    "duration": 44,
    "start_time": "2021-06-29T05:34:08.891Z"
   },
   {
    "duration": 1854,
    "start_time": "2021-06-29T05:41:40.425Z"
   },
   {
    "duration": 1770,
    "start_time": "2021-06-29T05:42:36.867Z"
   },
   {
    "duration": 15,
    "start_time": "2021-06-29T05:42:45.249Z"
   },
   {
    "duration": 9,
    "start_time": "2021-06-29T05:44:34.312Z"
   },
   {
    "duration": 9,
    "start_time": "2021-06-29T05:45:03.372Z"
   },
   {
    "duration": 285,
    "start_time": "2021-06-29T05:47:23.216Z"
   },
   {
    "duration": 10,
    "start_time": "2021-06-29T05:48:47.635Z"
   },
   {
    "duration": 739,
    "start_time": "2021-06-29T05:55:19.734Z"
   },
   {
    "duration": 218,
    "start_time": "2021-06-29T05:55:20.476Z"
   },
   {
    "duration": 46,
    "start_time": "2021-06-29T05:55:20.697Z"
   },
   {
    "duration": 16,
    "start_time": "2021-06-29T05:55:20.746Z"
   },
   {
    "duration": 129,
    "start_time": "2021-06-29T05:55:20.765Z"
   },
   {
    "duration": 45,
    "start_time": "2021-06-29T05:55:20.897Z"
   },
   {
    "duration": 10,
    "start_time": "2021-06-29T05:55:20.945Z"
   },
   {
    "duration": 14,
    "start_time": "2021-06-29T05:55:20.958Z"
   },
   {
    "duration": 29,
    "start_time": "2021-06-29T05:55:20.975Z"
   },
   {
    "duration": 32,
    "start_time": "2021-06-29T05:55:21.007Z"
   },
   {
    "duration": 4,
    "start_time": "2021-06-29T05:55:21.042Z"
   },
   {
    "duration": 21,
    "start_time": "2021-06-29T05:55:21.048Z"
   },
   {
    "duration": 34,
    "start_time": "2021-06-29T05:55:21.071Z"
   },
   {
    "duration": 19,
    "start_time": "2021-06-29T05:55:21.107Z"
   },
   {
    "duration": 15,
    "start_time": "2021-06-29T05:55:21.129Z"
   },
   {
    "duration": 85,
    "start_time": "2021-06-29T05:55:21.146Z"
   },
   {
    "duration": 5192,
    "start_time": "2021-06-29T05:55:16.042Z"
   },
   {
    "duration": 5185,
    "start_time": "2021-06-29T05:55:16.050Z"
   },
   {
    "duration": 15,
    "start_time": "2021-06-29T05:55:29.235Z"
   },
   {
    "duration": 9,
    "start_time": "2021-06-29T05:55:36.160Z"
   },
   {
    "duration": 10,
    "start_time": "2021-06-29T05:55:45.689Z"
   },
   {
    "duration": 11,
    "start_time": "2021-06-29T05:55:46.502Z"
   },
   {
    "duration": 13,
    "start_time": "2021-06-29T05:56:10.600Z"
   },
   {
    "duration": 13,
    "start_time": "2021-06-29T05:56:30.624Z"
   },
   {
    "duration": 8650,
    "start_time": "2021-06-29T06:36:02.161Z"
   },
   {
    "duration": 459,
    "start_time": "2021-06-29T06:36:42.867Z"
   },
   {
    "duration": 298,
    "start_time": "2021-06-29T06:36:52.420Z"
   },
   {
    "duration": 612,
    "start_time": "2021-06-29T06:43:38.875Z"
   },
   {
    "duration": 370,
    "start_time": "2021-06-29T06:44:03.031Z"
   },
   {
    "duration": 289,
    "start_time": "2021-06-29T06:44:07.763Z"
   },
   {
    "duration": 293,
    "start_time": "2021-06-29T06:44:16.603Z"
   },
   {
    "duration": 2951,
    "start_time": "2021-06-29T06:47:59.897Z"
   },
   {
    "duration": 101,
    "start_time": "2021-06-29T06:49:02.216Z"
   },
   {
    "duration": 277,
    "start_time": "2021-06-29T06:49:17.528Z"
   },
   {
    "duration": 11,
    "start_time": "2021-06-29T06:49:38.297Z"
   },
   {
    "duration": 17,
    "start_time": "2021-06-29T06:50:31.536Z"
   },
   {
    "duration": 851,
    "start_time": "2021-06-29T06:51:28.245Z"
   },
   {
    "duration": 739,
    "start_time": "2021-06-29T06:51:47.689Z"
   },
   {
    "duration": 273,
    "start_time": "2021-06-29T06:52:24.951Z"
   },
   {
    "duration": 287,
    "start_time": "2021-06-29T06:52:32.382Z"
   },
   {
    "duration": 283,
    "start_time": "2021-06-29T06:52:44.110Z"
   },
   {
    "duration": 259,
    "start_time": "2021-06-29T06:53:23.646Z"
   },
   {
    "duration": 345,
    "start_time": "2021-06-29T06:53:40.536Z"
   },
   {
    "duration": 283,
    "start_time": "2021-06-29T06:53:46.617Z"
   },
   {
    "duration": 332,
    "start_time": "2021-06-29T06:54:16.294Z"
   },
   {
    "duration": 323,
    "start_time": "2021-06-29T06:54:21.846Z"
   },
   {
    "duration": 275,
    "start_time": "2021-06-29T06:54:47.766Z"
   },
   {
    "duration": 284,
    "start_time": "2021-06-29T06:55:19.394Z"
   },
   {
    "duration": 9,
    "start_time": "2021-06-29T06:55:26.950Z"
   },
   {
    "duration": 8,
    "start_time": "2021-06-29T06:56:42.672Z"
   },
   {
    "duration": 291,
    "start_time": "2021-06-29T06:56:53.367Z"
   },
   {
    "duration": 271,
    "start_time": "2021-06-29T08:03:43.997Z"
   },
   {
    "duration": 271,
    "start_time": "2021-06-29T08:05:04.825Z"
   },
   {
    "duration": 6,
    "start_time": "2021-06-29T08:05:33.720Z"
   },
   {
    "duration": 4,
    "start_time": "2021-06-29T08:08:08.217Z"
   },
   {
    "duration": 902,
    "start_time": "2021-06-29T08:08:29.039Z"
   },
   {
    "duration": 8,
    "start_time": "2021-06-29T08:08:53.895Z"
   },
   {
    "duration": 3,
    "start_time": "2021-06-29T08:09:38.744Z"
   },
   {
    "duration": 135,
    "start_time": "2021-06-29T08:09:42.847Z"
   },
   {
    "duration": 5,
    "start_time": "2021-06-29T08:11:11.673Z"
   },
   {
    "duration": 708,
    "start_time": "2021-06-29T08:11:12.103Z"
   },
   {
    "duration": 273,
    "start_time": "2021-06-29T08:12:04.367Z"
   },
   {
    "duration": 664,
    "start_time": "2021-06-29T08:12:27.221Z"
   },
   {
    "duration": 282,
    "start_time": "2021-06-29T08:12:50.446Z"
   },
   {
    "duration": 529,
    "start_time": "2021-06-29T08:13:01.183Z"
   },
   {
    "duration": 718,
    "start_time": "2021-06-29T08:13:10.910Z"
   },
   {
    "duration": 685,
    "start_time": "2021-06-29T08:14:49.157Z"
   },
   {
    "duration": 758,
    "start_time": "2021-06-29T08:15:43.181Z"
   },
   {
    "duration": 173,
    "start_time": "2021-06-29T08:15:43.942Z"
   },
   {
    "duration": 50,
    "start_time": "2021-06-29T08:15:44.118Z"
   },
   {
    "duration": 15,
    "start_time": "2021-06-29T08:15:44.171Z"
   },
   {
    "duration": 121,
    "start_time": "2021-06-29T08:15:44.188Z"
   },
   {
    "duration": 45,
    "start_time": "2021-06-29T08:15:44.311Z"
   },
   {
    "duration": 20,
    "start_time": "2021-06-29T08:15:44.359Z"
   },
   {
    "duration": 16,
    "start_time": "2021-06-29T08:15:44.382Z"
   },
   {
    "duration": 32,
    "start_time": "2021-06-29T08:15:44.401Z"
   },
   {
    "duration": 16,
    "start_time": "2021-06-29T08:15:44.436Z"
   },
   {
    "duration": 16,
    "start_time": "2021-06-29T08:15:44.454Z"
   },
   {
    "duration": 18,
    "start_time": "2021-06-29T08:15:44.472Z"
   },
   {
    "duration": 25,
    "start_time": "2021-06-29T08:15:44.492Z"
   },
   {
    "duration": 12,
    "start_time": "2021-06-29T08:15:44.520Z"
   },
   {
    "duration": 24,
    "start_time": "2021-06-29T08:15:44.534Z"
   },
   {
    "duration": 12,
    "start_time": "2021-06-29T08:15:44.561Z"
   },
   {
    "duration": 23,
    "start_time": "2021-06-29T08:15:44.576Z"
   },
   {
    "duration": 525,
    "start_time": "2021-06-29T08:15:44.601Z"
   },
   {
    "duration": 17,
    "start_time": "2021-06-29T08:15:45.129Z"
   },
   {
    "duration": 392,
    "start_time": "2021-06-29T08:15:45.149Z"
   },
   {
    "duration": 291,
    "start_time": "2021-06-29T08:15:45.543Z"
   },
   {
    "duration": 337,
    "start_time": "2021-06-29T08:15:45.836Z"
   },
   {
    "duration": 8,
    "start_time": "2021-06-29T08:15:46.178Z"
   },
   {
    "duration": 8,
    "start_time": "2021-06-29T08:15:46.189Z"
   },
   {
    "duration": 719,
    "start_time": "2021-06-29T08:15:46.199Z"
   },
   {
    "duration": 5068,
    "start_time": "2021-06-29T08:15:41.852Z"
   },
   {
    "duration": 13,
    "start_time": "2021-06-29T08:16:14.203Z"
   },
   {
    "duration": 92,
    "start_time": "2021-06-29T08:16:44.219Z"
   },
   {
    "duration": 532,
    "start_time": "2021-06-29T08:16:44.476Z"
   },
   {
    "duration": 668,
    "start_time": "2021-06-29T08:17:47.890Z"
   },
   {
    "duration": 7579,
    "start_time": "2021-06-29T08:25:54.124Z"
   },
   {
    "duration": 7327,
    "start_time": "2021-06-29T08:26:09.879Z"
   },
   {
    "duration": 8,
    "start_time": "2021-06-29T08:26:29.798Z"
   },
   {
    "duration": 82,
    "start_time": "2021-06-29T08:26:39.544Z"
   },
   {
    "duration": 489,
    "start_time": "2021-06-29T08:27:17.969Z"
   },
   {
    "duration": 10,
    "start_time": "2021-06-29T08:27:26.389Z"
   },
   {
    "duration": 61,
    "start_time": "2021-06-29T08:27:28.023Z"
   },
   {
    "duration": 7,
    "start_time": "2021-06-29T08:28:06.829Z"
   },
   {
    "duration": 59,
    "start_time": "2021-06-29T08:28:07.294Z"
   },
   {
    "duration": 7,
    "start_time": "2021-06-29T08:28:13.357Z"
   },
   {
    "duration": 16,
    "start_time": "2021-06-29T08:28:39.852Z"
   },
   {
    "duration": 8,
    "start_time": "2021-06-29T08:29:06.315Z"
   },
   {
    "duration": 15,
    "start_time": "2021-06-29T08:29:06.781Z"
   },
   {
    "duration": 8,
    "start_time": "2021-06-29T08:29:30.085Z"
   },
   {
    "duration": 14,
    "start_time": "2021-06-29T08:29:31.558Z"
   },
   {
    "duration": 8014,
    "start_time": "2021-06-29T08:33:13.450Z"
   },
   {
    "duration": 9649,
    "start_time": "2021-06-29T08:33:30.752Z"
   },
   {
    "duration": 7013,
    "start_time": "2021-06-29T08:33:42.898Z"
   },
   {
    "duration": 6,
    "start_time": "2021-06-29T08:34:01.936Z"
   },
   {
    "duration": 389,
    "start_time": "2021-06-29T08:34:06.184Z"
   },
   {
    "duration": 33,
    "start_time": "2021-06-29T08:34:21.920Z"
   },
   {
    "duration": 550,
    "start_time": "2021-06-29T08:34:30.680Z"
   },
   {
    "duration": 5,
    "start_time": "2021-06-29T08:34:53.368Z"
   },
   {
    "duration": 18,
    "start_time": "2021-06-29T08:34:55.056Z"
   },
   {
    "duration": 35,
    "start_time": "2021-06-29T08:35:02.815Z"
   },
   {
    "duration": 4,
    "start_time": "2021-06-29T08:35:20.842Z"
   },
   {
    "duration": 4,
    "start_time": "2021-06-29T08:35:22.279Z"
   },
   {
    "duration": 3,
    "start_time": "2021-06-29T08:35:33.377Z"
   },
   {
    "duration": 4,
    "start_time": "2021-06-29T08:35:34.615Z"
   },
   {
    "duration": 4,
    "start_time": "2021-06-29T08:35:41.184Z"
   },
   {
    "duration": 7,
    "start_time": "2021-06-29T08:35:41.773Z"
   },
   {
    "duration": 6,
    "start_time": "2021-06-29T08:35:41.983Z"
   },
   {
    "duration": 34,
    "start_time": "2021-06-29T08:36:20.974Z"
   },
   {
    "duration": 4,
    "start_time": "2021-06-29T08:36:35.247Z"
   },
   {
    "duration": 7,
    "start_time": "2021-06-29T08:36:35.879Z"
   },
   {
    "duration": 4,
    "start_time": "2021-06-29T08:37:54.512Z"
   },
   {
    "duration": 565,
    "start_time": "2021-06-29T08:37:55.151Z"
   },
   {
    "duration": 4,
    "start_time": "2021-06-29T08:38:05.733Z"
   },
   {
    "duration": 525,
    "start_time": "2021-06-29T08:38:07.456Z"
   },
   {
    "duration": 4,
    "start_time": "2021-06-29T08:38:17.199Z"
   },
   {
    "duration": 533,
    "start_time": "2021-06-29T08:38:18.255Z"
   },
   {
    "duration": 89,
    "start_time": "2021-06-29T08:38:34.055Z"
   },
   {
    "duration": 103,
    "start_time": "2021-06-29T08:38:34.470Z"
   },
   {
    "duration": 93,
    "start_time": "2021-06-29T08:38:46.031Z"
   },
   {
    "duration": 3,
    "start_time": "2021-06-29T08:39:02.853Z"
   },
   {
    "duration": 546,
    "start_time": "2021-06-29T08:39:03.325Z"
   },
   {
    "duration": 102,
    "start_time": "2021-06-29T08:41:51.749Z"
   },
   {
    "duration": 580,
    "start_time": "2021-06-29T08:41:52.196Z"
   },
   {
    "duration": 4,
    "start_time": "2021-06-29T08:41:57.524Z"
   },
   {
    "duration": 540,
    "start_time": "2021-06-29T08:41:58.419Z"
   },
   {
    "duration": 4182,
    "start_time": "2021-06-29T08:42:28.405Z"
   },
   {
    "duration": 88,
    "start_time": "2021-06-29T08:43:43.927Z"
   },
   {
    "duration": 281,
    "start_time": "2021-06-29T08:43:49.340Z"
   },
   {
    "duration": 287,
    "start_time": "2021-06-29T08:43:56.548Z"
   },
   {
    "duration": 264,
    "start_time": "2021-06-29T08:46:20.443Z"
   },
   {
    "duration": 276,
    "start_time": "2021-06-29T08:46:23.433Z"
   },
   {
    "duration": 59,
    "start_time": "2021-06-29T08:47:16.093Z"
   },
   {
    "duration": 12,
    "start_time": "2021-06-29T08:47:56.096Z"
   },
   {
    "duration": 9,
    "start_time": "2021-06-29T08:48:03.058Z"
   },
   {
    "duration": 95,
    "start_time": "2021-06-29T08:48:31.710Z"
   },
   {
    "duration": 10,
    "start_time": "2021-06-29T08:48:38.169Z"
   },
   {
    "duration": 34,
    "start_time": "2021-06-29T08:48:43.506Z"
   },
   {
    "duration": 13,
    "start_time": "2021-06-29T08:49:06.921Z"
   },
   {
    "duration": 34,
    "start_time": "2021-06-29T08:49:10.082Z"
   },
   {
    "duration": 331,
    "start_time": "2021-06-29T08:49:26.209Z"
   },
   {
    "duration": 7,
    "start_time": "2021-06-29T08:49:30.322Z"
   },
   {
    "duration": 20,
    "start_time": "2021-06-29T08:50:12.873Z"
   },
   {
    "duration": 7,
    "start_time": "2021-06-29T08:50:14.920Z"
   },
   {
    "duration": 34,
    "start_time": "2021-06-29T08:50:19.089Z"
   },
   {
    "duration": 114,
    "start_time": "2021-06-29T08:51:11.697Z"
   },
   {
    "duration": 23,
    "start_time": "2021-06-29T08:51:21.408Z"
   },
   {
    "duration": 34,
    "start_time": "2021-06-29T08:51:26.202Z"
   },
   {
    "duration": 8,
    "start_time": "2021-06-29T08:53:13.328Z"
   },
   {
    "duration": 36,
    "start_time": "2021-06-29T08:53:15.623Z"
   },
   {
    "duration": 17,
    "start_time": "2021-06-29T08:54:14.393Z"
   },
   {
    "duration": 6,
    "start_time": "2021-06-29T08:54:22.671Z"
   },
   {
    "duration": 10,
    "start_time": "2021-06-29T08:54:39.087Z"
   },
   {
    "duration": 740,
    "start_time": "2021-06-29T08:59:49.935Z"
   },
   {
    "duration": 285,
    "start_time": "2021-06-29T08:59:50.678Z"
   },
   {
    "duration": 45,
    "start_time": "2021-06-29T08:59:50.965Z"
   },
   {
    "duration": 15,
    "start_time": "2021-06-29T08:59:51.025Z"
   },
   {
    "duration": 119,
    "start_time": "2021-06-29T08:59:51.042Z"
   },
   {
    "duration": 36,
    "start_time": "2021-06-29T08:59:51.164Z"
   },
   {
    "duration": 30,
    "start_time": "2021-06-29T08:59:51.203Z"
   },
   {
    "duration": 15,
    "start_time": "2021-06-29T08:59:51.236Z"
   },
   {
    "duration": 18,
    "start_time": "2021-06-29T08:59:51.253Z"
   },
   {
    "duration": 19,
    "start_time": "2021-06-29T08:59:51.274Z"
   },
   {
    "duration": 31,
    "start_time": "2021-06-29T08:59:51.295Z"
   },
   {
    "duration": 16,
    "start_time": "2021-06-29T08:59:51.328Z"
   },
   {
    "duration": 19,
    "start_time": "2021-06-29T08:59:51.346Z"
   },
   {
    "duration": 17,
    "start_time": "2021-06-29T08:59:51.367Z"
   },
   {
    "duration": 16,
    "start_time": "2021-06-29T08:59:51.386Z"
   },
   {
    "duration": 11,
    "start_time": "2021-06-29T08:59:51.424Z"
   },
   {
    "duration": 15,
    "start_time": "2021-06-29T08:59:51.438Z"
   },
   {
    "duration": 420,
    "start_time": "2021-06-29T08:59:51.455Z"
   },
   {
    "duration": 17,
    "start_time": "2021-06-29T08:59:51.877Z"
   },
   {
    "duration": 457,
    "start_time": "2021-06-29T08:59:51.896Z"
   },
   {
    "duration": 296,
    "start_time": "2021-06-29T08:59:52.356Z"
   },
   {
    "duration": 360,
    "start_time": "2021-06-29T08:59:52.655Z"
   },
   {
    "duration": 8,
    "start_time": "2021-06-29T08:59:53.025Z"
   },
   {
    "duration": 39,
    "start_time": "2021-06-29T08:59:53.035Z"
   },
   {
    "duration": 707,
    "start_time": "2021-06-29T09:01:10.345Z"
   },
   {
    "duration": 246,
    "start_time": "2021-06-29T09:01:11.055Z"
   },
   {
    "duration": 45,
    "start_time": "2021-06-29T09:01:11.304Z"
   },
   {
    "duration": 15,
    "start_time": "2021-06-29T09:01:11.352Z"
   },
   {
    "duration": 123,
    "start_time": "2021-06-29T09:01:11.370Z"
   },
   {
    "duration": 44,
    "start_time": "2021-06-29T09:01:11.495Z"
   },
   {
    "duration": 10,
    "start_time": "2021-06-29T09:01:11.541Z"
   },
   {
    "duration": 7,
    "start_time": "2021-06-29T09:01:11.554Z"
   },
   {
    "duration": 16,
    "start_time": "2021-06-29T09:01:11.564Z"
   },
   {
    "duration": 45,
    "start_time": "2021-06-29T09:01:11.582Z"
   },
   {
    "duration": 5,
    "start_time": "2021-06-29T09:01:11.629Z"
   },
   {
    "duration": 26,
    "start_time": "2021-06-29T09:01:11.636Z"
   },
   {
    "duration": 14,
    "start_time": "2021-06-29T09:01:11.665Z"
   },
   {
    "duration": 13,
    "start_time": "2021-06-29T09:01:11.681Z"
   },
   {
    "duration": 39,
    "start_time": "2021-06-29T09:01:11.696Z"
   },
   {
    "duration": 10,
    "start_time": "2021-06-29T09:01:11.737Z"
   },
   {
    "duration": 10,
    "start_time": "2021-06-29T09:01:11.750Z"
   },
   {
    "duration": 430,
    "start_time": "2021-06-29T09:01:11.763Z"
   },
   {
    "duration": 30,
    "start_time": "2021-06-29T09:01:12.196Z"
   },
   {
    "duration": 349,
    "start_time": "2021-06-29T09:01:12.229Z"
   },
   {
    "duration": 289,
    "start_time": "2021-06-29T09:01:12.581Z"
   },
   {
    "duration": 357,
    "start_time": "2021-06-29T09:01:12.872Z"
   },
   {
    "duration": 8,
    "start_time": "2021-06-29T09:01:13.233Z"
   },
   {
    "duration": 34,
    "start_time": "2021-06-29T09:01:13.244Z"
   },
   {
    "duration": 359,
    "start_time": "2021-06-29T09:01:13.281Z"
   },
   {
    "duration": 10,
    "start_time": "2021-06-29T09:01:13.642Z"
   },
   {
    "duration": 11,
    "start_time": "2021-06-29T09:01:38.728Z"
   },
   {
    "duration": 262,
    "start_time": "2021-06-29T09:02:12.497Z"
   },
   {
    "duration": 385,
    "start_time": "2021-06-29T09:02:17.496Z"
   },
   {
    "duration": 254,
    "start_time": "2021-06-29T09:02:27.352Z"
   },
   {
    "duration": 350,
    "start_time": "2021-06-29T09:02:35.728Z"
   },
   {
    "duration": 275,
    "start_time": "2021-06-29T09:02:43.895Z"
   },
   {
    "duration": 14,
    "start_time": "2021-06-29T09:03:08.343Z"
   },
   {
    "duration": 14,
    "start_time": "2021-06-29T09:03:14.208Z"
   },
   {
    "duration": 350,
    "start_time": "2021-06-29T09:03:19.230Z"
   },
   {
    "duration": 8,
    "start_time": "2021-06-29T09:06:02.136Z"
   },
   {
    "duration": 334,
    "start_time": "2021-06-29T09:06:08.199Z"
   },
   {
    "duration": 318,
    "start_time": "2021-06-29T09:07:36.431Z"
   },
   {
    "duration": 645,
    "start_time": "2021-06-29T09:07:50.902Z"
   },
   {
    "duration": 330,
    "start_time": "2021-06-29T09:07:54.255Z"
   },
   {
    "duration": 250,
    "start_time": "2021-06-29T09:08:00.958Z"
   },
   {
    "duration": 302,
    "start_time": "2021-06-29T09:08:30.663Z"
   },
   {
    "duration": 326,
    "start_time": "2021-06-29T09:09:47.191Z"
   },
   {
    "duration": 228,
    "start_time": "2021-06-29T09:10:21.070Z"
   },
   {
    "duration": 253,
    "start_time": "2021-06-29T09:10:53.694Z"
   },
   {
    "duration": 367,
    "start_time": "2021-06-29T09:10:59.826Z"
   },
   {
    "duration": 233,
    "start_time": "2021-06-29T09:11:07.685Z"
   },
   {
    "duration": 239,
    "start_time": "2021-06-29T09:11:14.293Z"
   },
   {
    "duration": 226,
    "start_time": "2021-06-29T09:11:24.248Z"
   },
   {
    "duration": 234,
    "start_time": "2021-06-29T09:11:29.846Z"
   },
   {
    "duration": 248,
    "start_time": "2021-06-29T09:11:37.013Z"
   },
   {
    "duration": 237,
    "start_time": "2021-06-29T09:11:41.703Z"
   },
   {
    "duration": 236,
    "start_time": "2021-06-29T09:11:46.021Z"
   },
   {
    "duration": 313,
    "start_time": "2021-06-29T09:11:49.846Z"
   },
   {
    "duration": 35,
    "start_time": "2021-06-29T11:24:14.681Z"
   },
   {
    "duration": 7,
    "start_time": "2021-06-29T11:25:15.260Z"
   },
   {
    "duration": 308,
    "start_time": "2021-06-29T11:25:29.448Z"
   },
   {
    "duration": 6,
    "start_time": "2021-06-29T11:26:46.650Z"
   },
   {
    "duration": 313,
    "start_time": "2021-06-29T11:27:03.497Z"
   },
   {
    "duration": 1015,
    "start_time": "2021-06-29T11:29:57.632Z"
   },
   {
    "duration": 1204,
    "start_time": "2021-06-29T11:30:27.839Z"
   },
   {
    "duration": 816,
    "start_time": "2021-06-29T11:30:38.151Z"
   },
   {
    "duration": 1087,
    "start_time": "2021-06-29T11:30:43.128Z"
   },
   {
    "duration": 933,
    "start_time": "2021-06-29T11:31:33.447Z"
   },
   {
    "duration": 1060,
    "start_time": "2021-06-29T11:31:45.360Z"
   },
   {
    "duration": 944,
    "start_time": "2021-06-29T11:31:52.510Z"
   },
   {
    "duration": 1053,
    "start_time": "2021-06-29T11:31:57.345Z"
   },
   {
    "duration": 998,
    "start_time": "2021-06-29T11:32:03.279Z"
   },
   {
    "duration": 297,
    "start_time": "2021-06-29T11:33:11.894Z"
   },
   {
    "duration": 275,
    "start_time": "2021-06-29T11:33:24.640Z"
   },
   {
    "duration": 287,
    "start_time": "2021-06-29T11:33:29.303Z"
   },
   {
    "duration": 10,
    "start_time": "2021-06-29T12:02:16.989Z"
   },
   {
    "duration": 12,
    "start_time": "2021-06-29T12:02:29.293Z"
   },
   {
    "duration": 12,
    "start_time": "2021-06-29T12:03:08.772Z"
   },
   {
    "duration": 13,
    "start_time": "2021-06-29T12:03:25.636Z"
   },
   {
    "duration": 37,
    "start_time": "2021-06-29T12:03:43.632Z"
   },
   {
    "duration": 86,
    "start_time": "2021-06-29T12:05:19.677Z"
   },
   {
    "duration": 272,
    "start_time": "2021-06-29T12:05:22.145Z"
   },
   {
    "duration": 130,
    "start_time": "2021-06-29T12:13:14.951Z"
   },
   {
    "duration": 16,
    "start_time": "2021-06-29T12:13:19.686Z"
   },
   {
    "duration": 57,
    "start_time": "2021-06-29T12:14:53.534Z"
   },
   {
    "duration": 13,
    "start_time": "2021-06-29T12:17:28.006Z"
   },
   {
    "duration": 13,
    "start_time": "2021-06-29T12:17:56.822Z"
   },
   {
    "duration": 1328,
    "start_time": "2021-06-29T12:18:32.980Z"
   },
   {
    "duration": 1464,
    "start_time": "2021-06-29T12:18:40.995Z"
   },
   {
    "duration": 1456,
    "start_time": "2021-06-29T12:19:03.900Z"
   },
   {
    "duration": 1397,
    "start_time": "2021-06-29T12:19:28.566Z"
   },
   {
    "duration": 1487,
    "start_time": "2021-06-29T12:19:40.403Z"
   },
   {
    "duration": 13,
    "start_time": "2021-06-29T12:20:12.463Z"
   },
   {
    "duration": 14,
    "start_time": "2021-06-29T12:20:37.274Z"
   },
   {
    "duration": 970,
    "start_time": "2021-06-29T12:21:23.795Z"
   },
   {
    "duration": 301,
    "start_time": "2021-06-29T12:23:44.081Z"
   },
   {
    "duration": 283,
    "start_time": "2021-06-29T12:23:48.444Z"
   },
   {
    "duration": 342,
    "start_time": "2021-06-29T12:24:12.330Z"
   },
   {
    "duration": 472,
    "start_time": "2021-06-29T12:24:27.844Z"
   },
   {
    "duration": 7,
    "start_time": "2021-06-29T12:25:04.961Z"
   },
   {
    "duration": 13,
    "start_time": "2021-06-29T12:25:08.816Z"
   },
   {
    "duration": 266,
    "start_time": "2021-06-29T12:25:23.641Z"
   },
   {
    "duration": 12,
    "start_time": "2021-06-29T12:25:28.985Z"
   },
   {
    "duration": 752,
    "start_time": "2021-06-30T05:33:03.997Z"
   },
   {
    "duration": 270,
    "start_time": "2021-06-30T05:33:04.752Z"
   },
   {
    "duration": 55,
    "start_time": "2021-06-30T05:33:05.025Z"
   },
   {
    "duration": 18,
    "start_time": "2021-06-30T05:33:05.084Z"
   },
   {
    "duration": 137,
    "start_time": "2021-06-30T05:33:05.105Z"
   },
   {
    "duration": 51,
    "start_time": "2021-06-30T05:33:05.245Z"
   },
   {
    "duration": 11,
    "start_time": "2021-06-30T05:33:05.299Z"
   },
   {
    "duration": 7,
    "start_time": "2021-06-30T05:33:05.316Z"
   },
   {
    "duration": 56,
    "start_time": "2021-06-30T05:33:05.328Z"
   },
   {
    "duration": 18,
    "start_time": "2021-06-30T05:33:05.387Z"
   },
   {
    "duration": 4,
    "start_time": "2021-06-30T05:33:05.407Z"
   },
   {
    "duration": 9,
    "start_time": "2021-06-30T05:33:05.413Z"
   },
   {
    "duration": 53,
    "start_time": "2021-06-30T05:33:05.425Z"
   },
   {
    "duration": 15,
    "start_time": "2021-06-30T05:33:05.481Z"
   },
   {
    "duration": 17,
    "start_time": "2021-06-30T05:33:05.499Z"
   },
   {
    "duration": 53,
    "start_time": "2021-06-30T05:33:05.519Z"
   },
   {
    "duration": 13,
    "start_time": "2021-06-30T05:33:05.575Z"
   },
   {
    "duration": 438,
    "start_time": "2021-06-30T05:33:05.590Z"
   },
   {
    "duration": 36,
    "start_time": "2021-06-30T05:33:06.031Z"
   },
   {
    "duration": 352,
    "start_time": "2021-06-30T05:33:06.070Z"
   },
   {
    "duration": 301,
    "start_time": "2021-06-30T05:33:06.425Z"
   },
   {
    "duration": 367,
    "start_time": "2021-06-30T05:33:06.729Z"
   },
   {
    "duration": 8,
    "start_time": "2021-06-30T05:33:07.100Z"
   },
   {
    "duration": 35,
    "start_time": "2021-06-30T05:33:07.110Z"
   },
   {
    "duration": 276,
    "start_time": "2021-06-30T05:33:07.147Z"
   },
   {
    "duration": 7,
    "start_time": "2021-06-30T05:33:07.426Z"
   },
   {
    "duration": 332,
    "start_time": "2021-06-30T05:33:07.435Z"
   },
   {
    "duration": 7,
    "start_time": "2021-06-30T05:33:07.769Z"
   },
   {
    "duration": 344,
    "start_time": "2021-06-30T05:33:07.778Z"
   },
   {
    "duration": 1020,
    "start_time": "2021-06-30T05:33:08.124Z"
   },
   {
    "duration": 25,
    "start_time": "2021-06-30T05:33:09.147Z"
   },
   {
    "duration": 12,
    "start_time": "2021-06-30T05:33:09.175Z"
   },
   {
    "duration": 60,
    "start_time": "2021-06-30T05:41:30.253Z"
   },
   {
    "duration": 9,
    "start_time": "2021-06-30T05:41:41.821Z"
   },
   {
    "duration": 427,
    "start_time": "2021-06-30T05:42:09.527Z"
   },
   {
    "duration": 65,
    "start_time": "2021-06-30T05:42:18.555Z"
   },
   {
    "duration": 314,
    "start_time": "2021-06-30T05:42:30.204Z"
   },
   {
    "duration": 16,
    "start_time": "2021-06-30T05:45:35.910Z"
   },
   {
    "duration": 13,
    "start_time": "2021-06-30T05:54:06.216Z"
   },
   {
    "duration": 13,
    "start_time": "2021-06-30T05:54:17.927Z"
   },
   {
    "duration": 14,
    "start_time": "2021-06-30T05:54:21.573Z"
   },
   {
    "duration": 13,
    "start_time": "2021-06-30T05:55:49.462Z"
   },
   {
    "duration": 13,
    "start_time": "2021-06-30T05:56:11.757Z"
   },
   {
    "duration": 328,
    "start_time": "2021-06-30T05:56:37.230Z"
   },
   {
    "duration": 15,
    "start_time": "2021-06-30T05:56:48.167Z"
   },
   {
    "duration": 333,
    "start_time": "2021-06-30T05:56:55.149Z"
   },
   {
    "duration": 14,
    "start_time": "2021-06-30T05:57:00.168Z"
   },
   {
    "duration": 16,
    "start_time": "2021-06-30T05:57:11.092Z"
   },
   {
    "duration": 313,
    "start_time": "2021-06-30T05:57:27.300Z"
   },
   {
    "duration": 367,
    "start_time": "2021-06-30T05:59:22.492Z"
   },
   {
    "duration": 330,
    "start_time": "2021-06-30T05:59:31.180Z"
   },
   {
    "duration": 18,
    "start_time": "2021-06-30T05:59:39.414Z"
   },
   {
    "duration": 24,
    "start_time": "2021-06-30T05:59:53.644Z"
   },
   {
    "duration": 14,
    "start_time": "2021-06-30T06:00:00.852Z"
   },
   {
    "duration": 17,
    "start_time": "2021-06-30T06:01:29.475Z"
   },
   {
    "duration": 17,
    "start_time": "2021-06-30T06:01:41.899Z"
   },
   {
    "duration": 18,
    "start_time": "2021-06-30T06:02:28.773Z"
   },
   {
    "duration": 18,
    "start_time": "2021-06-30T06:03:15.627Z"
   },
   {
    "duration": 20,
    "start_time": "2021-06-30T06:04:48.146Z"
   },
   {
    "duration": 2129,
    "start_time": "2021-06-30T06:41:01.595Z"
   },
   {
    "duration": 1547,
    "start_time": "2021-06-30T06:41:19.773Z"
   },
   {
    "duration": 1931,
    "start_time": "2021-06-30T06:41:26.805Z"
   },
   {
    "duration": 1694,
    "start_time": "2021-06-30T06:41:43.157Z"
   },
   {
    "duration": 633,
    "start_time": "2021-06-30T06:42:29.278Z"
   },
   {
    "duration": 160,
    "start_time": "2021-06-30T06:42:58.677Z"
   },
   {
    "duration": 324,
    "start_time": "2021-06-30T06:43:03.620Z"
   },
   {
    "duration": 359,
    "start_time": "2021-06-30T06:43:27.323Z"
   },
   {
    "duration": 325,
    "start_time": "2021-06-30T06:43:54.892Z"
   },
   {
    "duration": 531,
    "start_time": "2021-06-30T06:44:32.331Z"
   },
   {
    "duration": 315,
    "start_time": "2021-06-30T06:48:56.433Z"
   },
   {
    "duration": 341,
    "start_time": "2021-06-30T06:49:25.613Z"
   },
   {
    "duration": 328,
    "start_time": "2021-06-30T06:49:27.769Z"
   },
   {
    "duration": 309,
    "start_time": "2021-06-30T06:50:00.396Z"
   },
   {
    "duration": 323,
    "start_time": "2021-06-30T06:50:10.178Z"
   },
   {
    "duration": 346,
    "start_time": "2021-06-30T06:50:16.954Z"
   },
   {
    "duration": 346,
    "start_time": "2021-06-30T06:50:24.161Z"
   },
   {
    "duration": 648,
    "start_time": "2021-06-30T07:00:55.393Z"
   },
   {
    "duration": 3,
    "start_time": "2021-06-30T07:01:33.381Z"
   },
   {
    "duration": 309,
    "start_time": "2021-06-30T07:01:41.099Z"
   },
   {
    "duration": 467,
    "start_time": "2021-06-30T07:02:02.469Z"
   },
   {
    "duration": 463,
    "start_time": "2021-06-30T07:02:24.763Z"
   },
   {
    "duration": 330,
    "start_time": "2021-06-30T07:03:10.012Z"
   },
   {
    "duration": 312,
    "start_time": "2021-06-30T07:17:19.329Z"
   },
   {
    "duration": 21,
    "start_time": "2021-06-30T07:19:02.070Z"
   },
   {
    "duration": 21,
    "start_time": "2021-06-30T07:19:47.336Z"
   },
   {
    "duration": 21,
    "start_time": "2021-06-30T07:23:09.843Z"
   },
   {
    "duration": 236,
    "start_time": "2021-06-30T07:30:55.659Z"
   },
   {
    "duration": 216,
    "start_time": "2021-06-30T07:31:19.808Z"
   },
   {
    "duration": 222,
    "start_time": "2021-06-30T07:31:33.936Z"
   },
   {
    "duration": 308,
    "start_time": "2021-06-30T07:31:36.358Z"
   },
   {
    "duration": 302,
    "start_time": "2021-06-30T08:08:03.468Z"
   },
   {
    "duration": 215,
    "start_time": "2021-06-30T08:08:47.937Z"
   },
   {
    "duration": 208,
    "start_time": "2021-06-30T08:08:57.424Z"
   },
   {
    "duration": 19,
    "start_time": "2021-06-30T08:30:45.300Z"
   },
   {
    "duration": 212,
    "start_time": "2021-06-30T08:33:00.742Z"
   },
   {
    "duration": 225,
    "start_time": "2021-06-30T08:33:07.110Z"
   },
   {
    "duration": 206,
    "start_time": "2021-06-30T08:33:14.365Z"
   },
   {
    "duration": 236,
    "start_time": "2021-06-30T08:33:23.976Z"
   },
   {
    "duration": 234,
    "start_time": "2021-06-30T08:33:57.477Z"
   },
   {
    "duration": 238,
    "start_time": "2021-06-30T08:38:57.336Z"
   },
   {
    "duration": 228,
    "start_time": "2021-06-30T08:40:28.580Z"
   },
   {
    "duration": 221,
    "start_time": "2021-06-30T08:40:33.531Z"
   },
   {
    "duration": 260,
    "start_time": "2021-06-30T08:40:48.699Z"
   },
   {
    "duration": 238,
    "start_time": "2021-06-30T08:40:54.129Z"
   },
   {
    "duration": 209,
    "start_time": "2021-06-30T08:41:15.408Z"
   },
   {
    "duration": 342,
    "start_time": "2021-06-30T08:41:25.341Z"
   },
   {
    "duration": 229,
    "start_time": "2021-06-30T08:41:39.098Z"
   },
   {
    "duration": 202,
    "start_time": "2021-06-30T08:43:23.626Z"
   },
   {
    "duration": 358,
    "start_time": "2021-06-30T08:43:30.452Z"
   },
   {
    "duration": 220,
    "start_time": "2021-06-30T08:43:49.745Z"
   },
   {
    "duration": 212,
    "start_time": "2021-06-30T08:44:38.050Z"
   },
   {
    "duration": 221,
    "start_time": "2021-06-30T08:44:53.296Z"
   },
   {
    "duration": 202,
    "start_time": "2021-06-30T08:45:55.385Z"
   },
   {
    "duration": 198,
    "start_time": "2021-06-30T08:46:02.595Z"
   },
   {
    "duration": 221,
    "start_time": "2021-06-30T08:46:17.200Z"
   },
   {
    "duration": 211,
    "start_time": "2021-06-30T08:46:21.408Z"
   },
   {
    "duration": 323,
    "start_time": "2021-07-01T11:04:06.009Z"
   },
   {
    "duration": 792,
    "start_time": "2021-07-01T11:04:11.480Z"
   },
   {
    "duration": 265,
    "start_time": "2021-07-01T11:04:12.274Z"
   },
   {
    "duration": 40,
    "start_time": "2021-07-01T11:04:12.543Z"
   },
   {
    "duration": 17,
    "start_time": "2021-07-01T11:04:12.587Z"
   },
   {
    "duration": 125,
    "start_time": "2021-07-01T11:04:12.606Z"
   },
   {
    "duration": 43,
    "start_time": "2021-07-01T11:04:12.733Z"
   },
   {
    "duration": 9,
    "start_time": "2021-07-01T11:04:12.778Z"
   },
   {
    "duration": 7,
    "start_time": "2021-07-01T11:04:12.791Z"
   },
   {
    "duration": 15,
    "start_time": "2021-07-01T11:04:12.801Z"
   },
   {
    "duration": 49,
    "start_time": "2021-07-01T11:04:12.818Z"
   },
   {
    "duration": 5,
    "start_time": "2021-07-01T11:04:12.869Z"
   },
   {
    "duration": 10,
    "start_time": "2021-07-01T11:04:12.876Z"
   },
   {
    "duration": 13,
    "start_time": "2021-07-01T11:04:12.888Z"
   },
   {
    "duration": 12,
    "start_time": "2021-07-01T11:04:12.903Z"
   },
   {
    "duration": 50,
    "start_time": "2021-07-01T11:04:12.917Z"
   },
   {
    "duration": 10,
    "start_time": "2021-07-01T11:04:12.969Z"
   },
   {
    "duration": 10,
    "start_time": "2021-07-01T11:04:12.982Z"
   },
   {
    "duration": 328,
    "start_time": "2021-07-01T11:04:12.994Z"
   },
   {
    "duration": 17,
    "start_time": "2021-07-01T11:04:13.324Z"
   },
   {
    "duration": 338,
    "start_time": "2021-07-01T11:04:13.343Z"
   },
   {
    "duration": 279,
    "start_time": "2021-07-01T11:04:13.684Z"
   },
   {
    "duration": 423,
    "start_time": "2021-07-01T11:04:13.965Z"
   },
   {
    "duration": 8,
    "start_time": "2021-07-01T11:04:14.393Z"
   },
   {
    "duration": 30,
    "start_time": "2021-07-01T11:04:14.404Z"
   },
   {
    "duration": 232,
    "start_time": "2021-07-01T11:04:14.456Z"
   },
   {
    "duration": 5,
    "start_time": "2021-07-01T11:04:14.691Z"
   },
   {
    "duration": 312,
    "start_time": "2021-07-01T11:04:14.698Z"
   },
   {
    "duration": 6,
    "start_time": "2021-07-01T11:04:15.012Z"
   },
   {
    "duration": 306,
    "start_time": "2021-07-01T11:04:15.020Z"
   },
   {
    "duration": 918,
    "start_time": "2021-07-01T11:04:15.328Z"
   },
   {
    "duration": 12,
    "start_time": "2021-07-01T11:04:16.255Z"
   },
   {
    "duration": 11,
    "start_time": "2021-07-01T11:04:16.269Z"
   },
   {
    "duration": 337,
    "start_time": "2021-07-01T11:04:16.283Z"
   },
   {
    "duration": 17,
    "start_time": "2021-07-01T11:04:16.622Z"
   },
   {
    "duration": 238,
    "start_time": "2021-07-01T11:04:16.641Z"
   },
   {
    "duration": 228,
    "start_time": "2021-07-01T11:04:16.882Z"
   },
   {
    "duration": 298,
    "start_time": "2021-07-01T11:04:17.113Z"
   },
   {
    "duration": 287,
    "start_time": "2021-07-01T11:04:17.413Z"
   },
   {
    "duration": 16,
    "start_time": "2021-07-01T11:07:49.424Z"
   },
   {
    "duration": 58,
    "start_time": "2021-07-01T11:07:57.848Z"
   },
   {
    "duration": 33,
    "start_time": "2021-07-01T11:10:01.015Z"
   },
   {
    "duration": 89,
    "start_time": "2021-07-01T11:21:31.476Z"
   },
   {
    "duration": 56,
    "start_time": "2021-07-01T11:22:44.026Z"
   },
   {
    "duration": 58,
    "start_time": "2021-07-01T11:23:01.065Z"
   },
   {
    "duration": 57,
    "start_time": "2021-07-01T11:23:11.538Z"
   },
   {
    "duration": 57,
    "start_time": "2021-07-01T11:23:15.018Z"
   },
   {
    "duration": 116,
    "start_time": "2021-07-01T11:31:13.241Z"
   },
   {
    "duration": 183,
    "start_time": "2021-07-01T11:33:05.175Z"
   },
   {
    "duration": 169,
    "start_time": "2021-07-01T11:33:14.840Z"
   },
   {
    "duration": 167,
    "start_time": "2021-07-01T11:35:32.265Z"
   },
   {
    "duration": 170,
    "start_time": "2021-07-01T11:36:08.210Z"
   },
   {
    "duration": 168,
    "start_time": "2021-07-01T11:37:28.032Z"
   },
   {
    "duration": 167,
    "start_time": "2021-07-01T11:37:59.546Z"
   },
   {
    "duration": 62,
    "start_time": "2021-07-01T11:42:44.420Z"
   },
   {
    "duration": 17,
    "start_time": "2021-07-01T11:45:31.607Z"
   },
   {
    "duration": 12,
    "start_time": "2021-07-01T11:45:36.247Z"
   },
   {
    "duration": 16,
    "start_time": "2021-07-01T11:45:50.296Z"
   },
   {
    "duration": 22,
    "start_time": "2021-07-01T11:47:55.736Z"
   },
   {
    "duration": 90,
    "start_time": "2021-07-01T11:49:08.740Z"
   },
   {
    "duration": 23,
    "start_time": "2021-07-01T11:49:13.772Z"
   },
   {
    "duration": 23,
    "start_time": "2021-07-01T11:54:49.465Z"
   },
   {
    "duration": 20,
    "start_time": "2021-07-01T11:55:06.378Z"
   },
   {
    "duration": 20,
    "start_time": "2021-07-01T11:55:16.931Z"
   },
   {
    "duration": 18,
    "start_time": "2021-07-01T11:55:21.227Z"
   },
   {
    "duration": 28,
    "start_time": "2021-07-01T11:55:34.628Z"
   },
   {
    "duration": 58,
    "start_time": "2021-07-01T11:55:51.029Z"
   },
   {
    "duration": 319,
    "start_time": "2021-07-01T11:56:05.739Z"
   },
   {
    "duration": 6,
    "start_time": "2021-07-01T11:56:09.287Z"
   },
   {
    "duration": 256,
    "start_time": "2021-07-01T11:56:20.367Z"
   },
   {
    "duration": 8,
    "start_time": "2021-07-01T11:56:23.239Z"
   },
   {
    "duration": 19,
    "start_time": "2021-07-01T11:57:20.307Z"
   },
   {
    "duration": 6053,
    "start_time": "2021-07-01T11:57:52.573Z"
   },
   {
    "duration": 9,
    "start_time": "2021-07-01T11:58:10.736Z"
   },
   {
    "duration": 92,
    "start_time": "2021-07-01T11:58:17.126Z"
   },
   {
    "duration": 6278,
    "start_time": "2021-07-01T11:58:20.711Z"
   },
   {
    "duration": 250,
    "start_time": "2021-07-01T12:00:01.445Z"
   },
   {
    "duration": 59,
    "start_time": "2021-07-01T12:05:42.098Z"
   },
   {
    "duration": 7,
    "start_time": "2021-07-01T12:05:53.796Z"
   },
   {
    "duration": 243,
    "start_time": "2021-07-01T12:06:41.262Z"
   },
   {
    "duration": 102,
    "start_time": "2021-07-01T12:07:04.752Z"
   },
   {
    "duration": 6,
    "start_time": "2021-07-01T12:07:08.992Z"
   },
   {
    "duration": 18,
    "start_time": "2021-07-01T12:07:33.162Z"
   },
   {
    "duration": 71,
    "start_time": "2021-07-01T12:07:38.986Z"
   },
   {
    "duration": 44,
    "start_time": "2021-07-01T12:08:02.917Z"
   },
   {
    "duration": 17,
    "start_time": "2021-07-01T12:08:45.808Z"
   },
   {
    "duration": 26,
    "start_time": "2021-07-01T12:08:50.031Z"
   },
   {
    "duration": 76,
    "start_time": "2021-07-01T12:08:58.599Z"
   },
   {
    "duration": 58,
    "start_time": "2021-07-01T12:08:58.726Z"
   },
   {
    "duration": 20,
    "start_time": "2021-07-01T12:09:04.368Z"
   },
   {
    "duration": 21,
    "start_time": "2021-07-01T12:09:47.586Z"
   },
   {
    "duration": 8,
    "start_time": "2021-07-01T12:12:22.956Z"
   },
   {
    "duration": 19,
    "start_time": "2021-07-01T12:14:30.692Z"
   },
   {
    "duration": 245,
    "start_time": "2021-07-01T12:14:31.156Z"
   },
   {
    "duration": 265,
    "start_time": "2021-07-01T12:14:57.222Z"
   },
   {
    "duration": 308,
    "start_time": "2021-07-01T12:15:14.175Z"
   },
   {
    "duration": 276,
    "start_time": "2021-07-01T12:16:12.227Z"
   },
   {
    "duration": 10,
    "start_time": "2021-07-01T12:16:21.444Z"
   },
   {
    "duration": 272,
    "start_time": "2021-07-01T12:16:39.820Z"
   },
   {
    "duration": 11,
    "start_time": "2021-07-01T12:16:57.245Z"
   },
   {
    "duration": 10413,
    "start_time": "2021-07-01T12:17:36.015Z"
   },
   {
    "duration": 205,
    "start_time": "2021-07-01T12:18:00.874Z"
   },
   {
    "duration": 10,
    "start_time": "2021-07-01T12:18:13.403Z"
   },
   {
    "duration": 9,
    "start_time": "2021-07-01T12:18:24.642Z"
   },
   {
    "duration": 12,
    "start_time": "2021-07-01T12:18:30.579Z"
   },
   {
    "duration": 4,
    "start_time": "2021-07-01T12:20:02.714Z"
   },
   {
    "duration": 12,
    "start_time": "2021-07-01T12:20:22.114Z"
   },
   {
    "duration": 7,
    "start_time": "2021-07-01T12:21:22.350Z"
   },
   {
    "duration": 11,
    "start_time": "2021-07-01T12:33:22.403Z"
   },
   {
    "duration": 11,
    "start_time": "2021-07-01T12:33:38.028Z"
   },
   {
    "duration": 13,
    "start_time": "2021-07-01T12:34:02.998Z"
   },
   {
    "duration": 17,
    "start_time": "2021-07-01T12:37:38.987Z"
   },
   {
    "duration": 61,
    "start_time": "2021-07-01T12:37:51.684Z"
   },
   {
    "duration": 102,
    "start_time": "2021-07-01T12:38:02.190Z"
   },
   {
    "duration": 155,
    "start_time": "2021-07-01T12:38:17.728Z"
   },
   {
    "duration": 269,
    "start_time": "2021-07-01T12:39:55.982Z"
   },
   {
    "duration": 39,
    "start_time": "2021-07-01T12:39:59.524Z"
   },
   {
    "duration": 97,
    "start_time": "2021-07-01T12:40:58.962Z"
   },
   {
    "duration": 95,
    "start_time": "2021-07-01T12:41:04.880Z"
   },
   {
    "duration": 111,
    "start_time": "2021-07-01T12:41:08.312Z"
   },
   {
    "duration": 254,
    "start_time": "2021-07-01T12:41:16.233Z"
   },
   {
    "duration": 20,
    "start_time": "2021-07-01T12:41:31.602Z"
   },
   {
    "duration": 18,
    "start_time": "2021-07-01T12:41:51.724Z"
   },
   {
    "duration": 17,
    "start_time": "2021-07-01T12:42:06.648Z"
   },
   {
    "duration": 92,
    "start_time": "2021-07-01T12:44:23.966Z"
   },
   {
    "duration": 260,
    "start_time": "2021-07-01T12:44:27.909Z"
   },
   {
    "duration": 263,
    "start_time": "2021-07-01T12:45:47.987Z"
   },
   {
    "duration": 22,
    "start_time": "2021-07-01T12:46:26.205Z"
   },
   {
    "duration": 19,
    "start_time": "2021-07-01T12:46:42.502Z"
   },
   {
    "duration": 18,
    "start_time": "2021-07-01T12:48:13.268Z"
   },
   {
    "duration": 172,
    "start_time": "2021-07-01T12:49:43.769Z"
   },
   {
    "duration": 251,
    "start_time": "2021-07-01T12:53:53.393Z"
   },
   {
    "duration": 18,
    "start_time": "2021-07-01T12:54:07.858Z"
   },
   {
    "duration": 240,
    "start_time": "2021-07-01T12:54:16.642Z"
   },
   {
    "duration": 81,
    "start_time": "2021-07-01T12:54:26.851Z"
   },
   {
    "duration": 12,
    "start_time": "2021-07-01T12:54:31.171Z"
   },
   {
    "duration": 253,
    "start_time": "2021-07-01T12:54:43.428Z"
   },
   {
    "duration": 881,
    "start_time": "2021-07-01T12:54:56.734Z"
   },
   {
    "duration": 384,
    "start_time": "2021-07-01T12:54:57.618Z"
   },
   {
    "duration": 51,
    "start_time": "2021-07-01T12:54:58.005Z"
   },
   {
    "duration": 15,
    "start_time": "2021-07-01T12:54:58.059Z"
   },
   {
    "duration": 117,
    "start_time": "2021-07-01T12:54:58.076Z"
   },
   {
    "duration": 34,
    "start_time": "2021-07-01T12:54:58.195Z"
   },
   {
    "duration": 28,
    "start_time": "2021-07-01T12:54:58.231Z"
   },
   {
    "duration": 6,
    "start_time": "2021-07-01T12:54:58.263Z"
   },
   {
    "duration": 15,
    "start_time": "2021-07-01T12:54:58.272Z"
   },
   {
    "duration": 17,
    "start_time": "2021-07-01T12:54:58.289Z"
   },
   {
    "duration": 4,
    "start_time": "2021-07-01T12:54:58.308Z"
   },
   {
    "duration": 42,
    "start_time": "2021-07-01T12:54:58.314Z"
   },
   {
    "duration": 13,
    "start_time": "2021-07-01T12:54:58.358Z"
   },
   {
    "duration": 13,
    "start_time": "2021-07-01T12:54:58.373Z"
   },
   {
    "duration": 14,
    "start_time": "2021-07-01T12:54:58.389Z"
   },
   {
    "duration": 54,
    "start_time": "2021-07-01T12:54:58.406Z"
   },
   {
    "duration": 13,
    "start_time": "2021-07-01T12:54:58.462Z"
   },
   {
    "duration": 315,
    "start_time": "2021-07-01T12:54:58.477Z"
   },
   {
    "duration": 17,
    "start_time": "2021-07-01T12:54:58.794Z"
   },
   {
    "duration": 332,
    "start_time": "2021-07-01T12:54:58.813Z"
   },
   {
    "duration": 279,
    "start_time": "2021-07-01T12:54:59.147Z"
   },
   {
    "duration": 341,
    "start_time": "2021-07-01T12:54:59.428Z"
   },
   {
    "duration": 8,
    "start_time": "2021-07-01T12:54:59.774Z"
   },
   {
    "duration": 32,
    "start_time": "2021-07-01T12:54:59.784Z"
   },
   {
    "duration": 10,
    "start_time": "2021-07-01T12:54:59.818Z"
   },
   {
    "duration": 242,
    "start_time": "2021-07-01T12:54:59.855Z"
   },
   {
    "duration": 5,
    "start_time": "2021-07-01T12:55:00.099Z"
   },
   {
    "duration": 304,
    "start_time": "2021-07-01T12:55:00.107Z"
   },
   {
    "duration": 5,
    "start_time": "2021-07-01T12:55:00.413Z"
   },
   {
    "duration": 365,
    "start_time": "2021-07-01T12:55:00.420Z"
   },
   {
    "duration": 972,
    "start_time": "2021-07-01T12:55:00.788Z"
   },
   {
    "duration": 12,
    "start_time": "2021-07-01T12:55:01.763Z"
   },
   {
    "duration": 41,
    "start_time": "2021-07-01T12:55:01.777Z"
   },
   {
    "duration": 373,
    "start_time": "2021-07-01T12:55:01.821Z"
   },
   {
    "duration": 21,
    "start_time": "2021-07-01T12:55:02.197Z"
   },
   {
    "duration": 249,
    "start_time": "2021-07-01T12:55:02.221Z"
   },
   {
    "duration": 231,
    "start_time": "2021-07-01T12:55:02.472Z"
   },
   {
    "duration": 295,
    "start_time": "2021-07-01T12:55:02.705Z"
   },
   {
    "duration": 285,
    "start_time": "2021-07-01T12:55:03.002Z"
   },
   {
    "duration": 17,
    "start_time": "2021-07-01T12:55:03.290Z"
   },
   {
    "duration": 57,
    "start_time": "2021-07-01T12:55:03.310Z"
   },
   {
    "duration": 187,
    "start_time": "2021-07-01T12:55:03.370Z"
   },
   {
    "duration": 11,
    "start_time": "2021-07-01T12:55:03.559Z"
   },
   {
    "duration": 78,
    "start_time": "2021-07-01T12:55:03.572Z"
   },
   {
    "duration": 19,
    "start_time": "2021-07-01T12:55:03.653Z"
   },
   {
    "duration": 13,
    "start_time": "2021-07-01T12:55:42.233Z"
   },
   {
    "duration": 12,
    "start_time": "2021-07-01T12:55:47.706Z"
   },
   {
    "duration": 431,
    "start_time": "2021-07-01T12:56:56.133Z"
   },
   {
    "duration": 271,
    "start_time": "2021-07-01T12:57:04.927Z"
   },
   {
    "duration": 81,
    "start_time": "2021-07-01T12:57:16.528Z"
   },
   {
    "duration": 275,
    "start_time": "2021-07-01T12:57:23.351Z"
   },
   {
    "duration": 10,
    "start_time": "2021-07-01T12:57:34.201Z"
   },
   {
    "duration": 7,
    "start_time": "2021-07-01T13:37:33.255Z"
   },
   {
    "duration": 9,
    "start_time": "2021-07-01T13:37:48.049Z"
   },
   {
    "duration": 8,
    "start_time": "2021-07-01T13:37:52.369Z"
   },
   {
    "duration": 7,
    "start_time": "2021-07-01T13:38:06.514Z"
   },
   {
    "duration": 56,
    "start_time": "2021-07-01T13:38:57.925Z"
   },
   {
    "duration": 17,
    "start_time": "2021-07-01T13:39:44.522Z"
   },
   {
    "duration": 244,
    "start_time": "2021-07-01T13:40:39.179Z"
   },
   {
    "duration": 253,
    "start_time": "2021-07-01T13:40:50.741Z"
   },
   {
    "duration": 61,
    "start_time": "2021-07-01T13:41:00.558Z"
   },
   {
    "duration": 59,
    "start_time": "2021-07-01T13:42:47.493Z"
   },
   {
    "duration": 19,
    "start_time": "2021-07-01T13:44:21.155Z"
   },
   {
    "duration": 87,
    "start_time": "2021-07-01T13:44:52.507Z"
   },
   {
    "duration": 300,
    "start_time": "2021-07-01T13:44:55.827Z"
   },
   {
    "duration": 21,
    "start_time": "2021-07-01T13:45:33.735Z"
   },
   {
    "duration": 252,
    "start_time": "2021-07-01T13:45:53.807Z"
   },
   {
    "duration": 15,
    "start_time": "2021-07-01T13:46:13.289Z"
   },
   {
    "duration": 23,
    "start_time": "2021-07-01T13:46:18.816Z"
   },
   {
    "duration": 303,
    "start_time": "2021-07-01T13:46:40.923Z"
   },
   {
    "duration": 293,
    "start_time": "2021-07-01T13:47:23.157Z"
   },
   {
    "duration": 275,
    "start_time": "2021-07-01T13:47:50.383Z"
   },
   {
    "duration": 23,
    "start_time": "2021-07-01T13:48:25.265Z"
   },
   {
    "duration": 299,
    "start_time": "2021-07-01T13:48:30.034Z"
   },
   {
    "duration": 12,
    "start_time": "2021-07-01T13:48:44.426Z"
   },
   {
    "duration": 11,
    "start_time": "2021-07-01T13:48:52.906Z"
   },
   {
    "duration": 18,
    "start_time": "2021-07-01T13:48:58.859Z"
   },
   {
    "duration": 445,
    "start_time": "2021-07-01T13:51:06.540Z"
   },
   {
    "duration": 643,
    "start_time": "2021-07-01T13:51:42.077Z"
   },
   {
    "duration": 11,
    "start_time": "2021-07-01T13:54:43.361Z"
   },
   {
    "duration": 265,
    "start_time": "2021-07-01T13:54:46.561Z"
   },
   {
    "duration": 10,
    "start_time": "2021-07-01T13:54:50.586Z"
   },
   {
    "duration": 17,
    "start_time": "2021-07-01T13:54:54.026Z"
   },
   {
    "duration": 804,
    "start_time": "2021-07-01T13:57:50.091Z"
   },
   {
    "duration": 216,
    "start_time": "2021-07-01T13:57:50.898Z"
   },
   {
    "duration": 46,
    "start_time": "2021-07-01T13:57:51.118Z"
   },
   {
    "duration": 15,
    "start_time": "2021-07-01T13:57:51.167Z"
   },
   {
    "duration": 115,
    "start_time": "2021-07-01T13:57:51.184Z"
   },
   {
    "duration": 36,
    "start_time": "2021-07-01T13:57:51.301Z"
   },
   {
    "duration": 9,
    "start_time": "2021-07-01T13:57:51.355Z"
   },
   {
    "duration": 11,
    "start_time": "2021-07-01T13:57:51.368Z"
   },
   {
    "duration": 16,
    "start_time": "2021-07-01T13:57:51.382Z"
   },
   {
    "duration": 19,
    "start_time": "2021-07-01T13:57:51.400Z"
   },
   {
    "duration": 38,
    "start_time": "2021-07-01T13:57:51.421Z"
   },
   {
    "duration": 18,
    "start_time": "2021-07-01T13:57:51.461Z"
   },
   {
    "duration": 14,
    "start_time": "2021-07-01T13:57:51.481Z"
   },
   {
    "duration": 13,
    "start_time": "2021-07-01T13:57:51.497Z"
   },
   {
    "duration": 44,
    "start_time": "2021-07-01T13:57:51.513Z"
   },
   {
    "duration": 13,
    "start_time": "2021-07-01T13:57:51.560Z"
   },
   {
    "duration": 10,
    "start_time": "2021-07-01T13:57:51.575Z"
   },
   {
    "duration": 329,
    "start_time": "2021-07-01T13:57:51.587Z"
   },
   {
    "duration": 17,
    "start_time": "2021-07-01T13:57:51.919Z"
   },
   {
    "duration": 348,
    "start_time": "2021-07-01T13:57:51.939Z"
   },
   {
    "duration": 281,
    "start_time": "2021-07-01T13:57:52.289Z"
   },
   {
    "duration": 330,
    "start_time": "2021-07-01T13:57:52.573Z"
   },
   {
    "duration": 9,
    "start_time": "2021-07-01T13:57:52.908Z"
   },
   {
    "duration": 55,
    "start_time": "2021-07-01T13:57:52.921Z"
   },
   {
    "duration": 11,
    "start_time": "2021-07-01T13:57:52.979Z"
   },
   {
    "duration": 236,
    "start_time": "2021-07-01T13:57:52.992Z"
   },
   {
    "duration": 6,
    "start_time": "2021-07-01T13:57:53.231Z"
   },
   {
    "duration": 305,
    "start_time": "2021-07-01T13:57:53.239Z"
   },
   {
    "duration": 12,
    "start_time": "2021-07-01T13:57:53.546Z"
   },
   {
    "duration": 302,
    "start_time": "2021-07-01T13:57:53.560Z"
   },
   {
    "duration": 933,
    "start_time": "2021-07-01T13:57:53.864Z"
   },
   {
    "duration": 12,
    "start_time": "2021-07-01T13:57:54.800Z"
   },
   {
    "duration": 11,
    "start_time": "2021-07-01T13:57:54.814Z"
   },
   {
    "duration": 439,
    "start_time": "2021-07-01T13:57:54.827Z"
   },
   {
    "duration": 16,
    "start_time": "2021-07-01T13:57:55.268Z"
   },
   {
    "duration": 246,
    "start_time": "2021-07-01T13:57:55.287Z"
   },
   {
    "duration": 239,
    "start_time": "2021-07-01T13:57:55.535Z"
   },
   {
    "duration": 283,
    "start_time": "2021-07-01T13:57:55.777Z"
   },
   {
    "duration": 272,
    "start_time": "2021-07-01T13:57:56.063Z"
   },
   {
    "duration": 24,
    "start_time": "2021-07-01T13:57:56.338Z"
   },
   {
    "duration": 34,
    "start_time": "2021-07-01T13:57:56.365Z"
   },
   {
    "duration": 194,
    "start_time": "2021-07-01T13:57:56.401Z"
   },
   {
    "duration": 10,
    "start_time": "2021-07-01T13:57:56.598Z"
   },
   {
    "duration": 13,
    "start_time": "2021-07-01T13:57:56.610Z"
   },
   {
    "duration": 37,
    "start_time": "2021-07-01T13:57:56.626Z"
   },
   {
    "duration": 9,
    "start_time": "2021-07-01T13:57:56.666Z"
   },
   {
    "duration": 466,
    "start_time": "2021-07-01T13:57:56.677Z"
   },
   {
    "duration": 75,
    "start_time": "2021-07-01T13:58:08.497Z"
   },
   {
    "duration": 6,
    "start_time": "2021-07-01T13:58:14.169Z"
   },
   {
    "duration": 788,
    "start_time": "2021-07-01T13:58:24.390Z"
   },
   {
    "duration": 366,
    "start_time": "2021-07-01T13:58:25.181Z"
   },
   {
    "duration": 40,
    "start_time": "2021-07-01T13:58:25.553Z"
   },
   {
    "duration": 15,
    "start_time": "2021-07-01T13:58:25.595Z"
   },
   {
    "duration": 127,
    "start_time": "2021-07-01T13:58:25.613Z"
   },
   {
    "duration": 51,
    "start_time": "2021-07-01T13:58:25.744Z"
   },
   {
    "duration": 10,
    "start_time": "2021-07-01T13:58:25.798Z"
   },
   {
    "duration": 14,
    "start_time": "2021-07-01T13:58:25.812Z"
   },
   {
    "duration": 15,
    "start_time": "2021-07-01T13:58:25.856Z"
   },
   {
    "duration": 23,
    "start_time": "2021-07-01T13:58:25.873Z"
   },
   {
    "duration": 5,
    "start_time": "2021-07-01T13:58:25.898Z"
   },
   {
    "duration": 10,
    "start_time": "2021-07-01T13:58:25.906Z"
   },
   {
    "duration": 43,
    "start_time": "2021-07-01T13:58:25.918Z"
   },
   {
    "duration": 12,
    "start_time": "2021-07-01T13:58:25.963Z"
   },
   {
    "duration": 19,
    "start_time": "2021-07-01T13:58:25.977Z"
   },
   {
    "duration": 13,
    "start_time": "2021-07-01T13:58:25.998Z"
   },
   {
    "duration": 19,
    "start_time": "2021-07-01T13:58:26.013Z"
   },
   {
    "duration": 302,
    "start_time": "2021-07-01T13:58:26.056Z"
   },
   {
    "duration": 16,
    "start_time": "2021-07-01T13:58:26.361Z"
   },
   {
    "duration": 330,
    "start_time": "2021-07-01T13:58:26.380Z"
   },
   {
    "duration": 283,
    "start_time": "2021-07-01T13:58:26.712Z"
   },
   {
    "duration": 332,
    "start_time": "2021-07-01T13:58:26.997Z"
   },
   {
    "duration": 8,
    "start_time": "2021-07-01T13:58:27.332Z"
   },
   {
    "duration": 30,
    "start_time": "2021-07-01T13:58:27.356Z"
   },
   {
    "duration": 11,
    "start_time": "2021-07-01T13:58:27.388Z"
   },
   {
    "duration": 316,
    "start_time": "2021-07-01T13:58:27.405Z"
   },
   {
    "duration": 6,
    "start_time": "2021-07-01T13:58:27.725Z"
   },
   {
    "duration": 298,
    "start_time": "2021-07-01T13:58:27.734Z"
   },
   {
    "duration": 5,
    "start_time": "2021-07-01T13:58:28.034Z"
   },
   {
    "duration": 317,
    "start_time": "2021-07-01T13:58:28.041Z"
   },
   {
    "duration": 971,
    "start_time": "2021-07-01T13:58:28.360Z"
   },
   {
    "duration": 24,
    "start_time": "2021-07-01T13:58:29.333Z"
   },
   {
    "duration": 14,
    "start_time": "2021-07-01T13:58:29.359Z"
   },
   {
    "duration": 328,
    "start_time": "2021-07-01T13:58:29.376Z"
   },
   {
    "duration": 16,
    "start_time": "2021-07-01T13:58:29.706Z"
   },
   {
    "duration": 225,
    "start_time": "2021-07-01T13:58:29.725Z"
   },
   {
    "duration": 222,
    "start_time": "2021-07-01T13:58:29.952Z"
   },
   {
    "duration": 295,
    "start_time": "2021-07-01T13:58:30.177Z"
   },
   {
    "duration": 287,
    "start_time": "2021-07-01T13:58:30.475Z"
   },
   {
    "duration": 15,
    "start_time": "2021-07-01T13:58:30.765Z"
   },
   {
    "duration": 49,
    "start_time": "2021-07-01T13:58:30.782Z"
   },
   {
    "duration": 193,
    "start_time": "2021-07-01T13:58:30.834Z"
   },
   {
    "duration": 9,
    "start_time": "2021-07-01T13:58:31.030Z"
   },
   {
    "duration": 27,
    "start_time": "2021-07-01T13:58:31.042Z"
   },
   {
    "duration": 29,
    "start_time": "2021-07-01T13:58:31.072Z"
   },
   {
    "duration": 19,
    "start_time": "2021-07-01T13:58:31.104Z"
   },
   {
    "duration": 470,
    "start_time": "2021-07-01T13:58:31.127Z"
   },
   {
    "duration": 20,
    "start_time": "2021-07-01T13:58:52.471Z"
   },
   {
    "duration": 6,
    "start_time": "2021-07-01T13:59:01.503Z"
   },
   {
    "duration": 842,
    "start_time": "2021-07-01T13:59:07.420Z"
   },
   {
    "duration": 253,
    "start_time": "2021-07-01T13:59:08.265Z"
   },
   {
    "duration": 43,
    "start_time": "2021-07-01T13:59:08.522Z"
   },
   {
    "duration": 15,
    "start_time": "2021-07-01T13:59:08.567Z"
   },
   {
    "duration": 121,
    "start_time": "2021-07-01T13:59:08.584Z"
   },
   {
    "duration": 48,
    "start_time": "2021-07-01T13:59:08.708Z"
   },
   {
    "duration": 16,
    "start_time": "2021-07-01T13:59:08.758Z"
   },
   {
    "duration": 19,
    "start_time": "2021-07-01T13:59:08.777Z"
   },
   {
    "duration": 20,
    "start_time": "2021-07-01T13:59:08.799Z"
   },
   {
    "duration": 18,
    "start_time": "2021-07-01T13:59:08.821Z"
   },
   {
    "duration": 15,
    "start_time": "2021-07-01T13:59:08.842Z"
   },
   {
    "duration": 14,
    "start_time": "2021-07-01T13:59:08.859Z"
   },
   {
    "duration": 31,
    "start_time": "2021-07-01T13:59:08.875Z"
   },
   {
    "duration": 25,
    "start_time": "2021-07-01T13:59:08.908Z"
   },
   {
    "duration": 14,
    "start_time": "2021-07-01T13:59:08.936Z"
   },
   {
    "duration": 20,
    "start_time": "2021-07-01T13:59:08.952Z"
   },
   {
    "duration": 19,
    "start_time": "2021-07-01T13:59:08.974Z"
   },
   {
    "duration": 301,
    "start_time": "2021-07-01T13:59:08.995Z"
   },
   {
    "duration": 16,
    "start_time": "2021-07-01T13:59:09.298Z"
   },
   {
    "duration": 339,
    "start_time": "2021-07-01T13:59:09.317Z"
   },
   {
    "duration": 278,
    "start_time": "2021-07-01T13:59:09.658Z"
   },
   {
    "duration": 335,
    "start_time": "2021-07-01T13:59:09.938Z"
   },
   {
    "duration": 8,
    "start_time": "2021-07-01T13:59:10.277Z"
   },
   {
    "duration": 45,
    "start_time": "2021-07-01T13:59:10.288Z"
   },
   {
    "duration": 24,
    "start_time": "2021-07-01T13:59:10.336Z"
   },
   {
    "duration": 250,
    "start_time": "2021-07-01T13:59:10.362Z"
   },
   {
    "duration": 6,
    "start_time": "2021-07-01T13:59:10.614Z"
   },
   {
    "duration": 387,
    "start_time": "2021-07-01T13:59:10.622Z"
   },
   {
    "duration": 6,
    "start_time": "2021-07-01T13:59:11.011Z"
   },
   {
    "duration": 303,
    "start_time": "2021-07-01T13:59:11.019Z"
   },
   {
    "duration": 1109,
    "start_time": "2021-07-01T13:59:11.324Z"
   },
   {
    "duration": 22,
    "start_time": "2021-07-01T13:59:12.436Z"
   },
   {
    "duration": 14,
    "start_time": "2021-07-01T13:59:12.461Z"
   },
   {
    "duration": 447,
    "start_time": "2021-07-01T13:59:12.477Z"
   },
   {
    "duration": 30,
    "start_time": "2021-07-01T13:59:12.926Z"
   },
   {
    "duration": 219,
    "start_time": "2021-07-01T13:59:12.958Z"
   },
   {
    "duration": 225,
    "start_time": "2021-07-01T13:59:13.179Z"
   },
   {
    "duration": 295,
    "start_time": "2021-07-01T13:59:13.406Z"
   },
   {
    "duration": 275,
    "start_time": "2021-07-01T13:59:13.703Z"
   },
   {
    "duration": 17,
    "start_time": "2021-07-01T13:59:13.980Z"
   },
   {
    "duration": 57,
    "start_time": "2021-07-01T13:59:13.999Z"
   },
   {
    "duration": 181,
    "start_time": "2021-07-01T13:59:14.059Z"
   },
   {
    "duration": 15,
    "start_time": "2021-07-01T13:59:14.242Z"
   },
   {
    "duration": 9,
    "start_time": "2021-07-01T13:59:14.259Z"
   },
   {
    "duration": 22,
    "start_time": "2021-07-01T13:59:14.271Z"
   },
   {
    "duration": 5,
    "start_time": "2021-07-01T13:59:14.296Z"
   },
   {
    "duration": 606,
    "start_time": "2021-07-01T13:59:14.303Z"
   },
   {
    "duration": 8,
    "start_time": "2021-07-01T14:00:06.103Z"
   },
   {
    "duration": 6,
    "start_time": "2021-07-01T14:00:08.000Z"
   },
   {
    "duration": 791,
    "start_time": "2021-07-01T14:00:13.694Z"
   },
   {
    "duration": 219,
    "start_time": "2021-07-01T14:00:14.489Z"
   },
   {
    "duration": 50,
    "start_time": "2021-07-01T14:00:14.712Z"
   },
   {
    "duration": 16,
    "start_time": "2021-07-01T14:00:14.765Z"
   },
   {
    "duration": 125,
    "start_time": "2021-07-01T14:00:14.784Z"
   },
   {
    "duration": 48,
    "start_time": "2021-07-01T14:00:14.912Z"
   },
   {
    "duration": 10,
    "start_time": "2021-07-01T14:00:14.963Z"
   },
   {
    "duration": 10,
    "start_time": "2021-07-01T14:00:14.977Z"
   },
   {
    "duration": 18,
    "start_time": "2021-07-01T14:00:14.990Z"
   },
   {
    "duration": 50,
    "start_time": "2021-07-01T14:00:15.011Z"
   },
   {
    "duration": 6,
    "start_time": "2021-07-01T14:00:15.064Z"
   },
   {
    "duration": 9,
    "start_time": "2021-07-01T14:00:15.072Z"
   },
   {
    "duration": 23,
    "start_time": "2021-07-01T14:00:15.084Z"
   },
   {
    "duration": 24,
    "start_time": "2021-07-01T14:00:15.109Z"
   },
   {
    "duration": 32,
    "start_time": "2021-07-01T14:00:15.136Z"
   },
   {
    "duration": 14,
    "start_time": "2021-07-01T14:00:15.171Z"
   },
   {
    "duration": 16,
    "start_time": "2021-07-01T14:00:15.187Z"
   },
   {
    "duration": 316,
    "start_time": "2021-07-01T14:00:15.206Z"
   },
   {
    "duration": 31,
    "start_time": "2021-07-01T14:00:15.524Z"
   },
   {
    "duration": 431,
    "start_time": "2021-07-01T14:00:15.558Z"
   },
   {
    "duration": 274,
    "start_time": "2021-07-01T14:00:15.992Z"
   },
   {
    "duration": 334,
    "start_time": "2021-07-01T14:00:16.269Z"
   },
   {
    "duration": 8,
    "start_time": "2021-07-01T14:00:16.608Z"
   },
   {
    "duration": 51,
    "start_time": "2021-07-01T14:00:16.619Z"
   },
   {
    "duration": 12,
    "start_time": "2021-07-01T14:00:16.672Z"
   },
   {
    "duration": 231,
    "start_time": "2021-07-01T14:00:16.686Z"
   },
   {
    "duration": 7,
    "start_time": "2021-07-01T14:00:16.920Z"
   },
   {
    "duration": 317,
    "start_time": "2021-07-01T14:00:16.929Z"
   },
   {
    "duration": 9,
    "start_time": "2021-07-01T14:00:17.249Z"
   },
   {
    "duration": 304,
    "start_time": "2021-07-01T14:00:17.262Z"
   },
   {
    "duration": 948,
    "start_time": "2021-07-01T14:00:17.570Z"
   },
   {
    "duration": 11,
    "start_time": "2021-07-01T14:00:18.520Z"
   },
   {
    "duration": 24,
    "start_time": "2021-07-01T14:00:18.534Z"
   },
   {
    "duration": 315,
    "start_time": "2021-07-01T14:00:18.561Z"
   },
   {
    "duration": 16,
    "start_time": "2021-07-01T14:00:18.878Z"
   },
   {
    "duration": 230,
    "start_time": "2021-07-01T14:00:18.896Z"
   },
   {
    "duration": 223,
    "start_time": "2021-07-01T14:00:19.129Z"
   },
   {
    "duration": 281,
    "start_time": "2021-07-01T14:00:19.355Z"
   },
   {
    "duration": 270,
    "start_time": "2021-07-01T14:00:19.638Z"
   },
   {
    "duration": 16,
    "start_time": "2021-07-01T14:00:19.910Z"
   },
   {
    "duration": 50,
    "start_time": "2021-07-01T14:00:19.928Z"
   },
   {
    "duration": 183,
    "start_time": "2021-07-01T14:00:19.981Z"
   },
   {
    "duration": 10,
    "start_time": "2021-07-01T14:00:20.166Z"
   },
   {
    "duration": 11,
    "start_time": "2021-07-01T14:00:20.178Z"
   },
   {
    "duration": 17,
    "start_time": "2021-07-01T14:00:20.191Z"
   },
   {
    "duration": 47,
    "start_time": "2021-07-01T14:00:20.210Z"
   },
   {
    "duration": 479,
    "start_time": "2021-07-01T14:00:20.259Z"
   },
   {
    "duration": 9,
    "start_time": "2021-07-01T14:01:48.383Z"
   },
   {
    "duration": 7,
    "start_time": "2021-07-01T14:01:59.432Z"
   },
   {
    "duration": 17,
    "start_time": "2021-07-01T14:03:36.254Z"
   },
   {
    "duration": 667,
    "start_time": "2021-07-01T14:03:48.479Z"
   },
   {
    "duration": 436,
    "start_time": "2021-07-01T14:05:45.294Z"
   },
   {
    "duration": 9,
    "start_time": "2021-07-01T14:06:53.139Z"
   },
   {
    "duration": 447,
    "start_time": "2021-07-01T14:06:53.618Z"
   },
   {
    "duration": 348,
    "start_time": "2021-07-01T14:08:50.178Z"
   },
   {
    "duration": 59,
    "start_time": "2021-07-01T14:08:56.321Z"
   },
   {
    "duration": 38,
    "start_time": "2021-07-01T14:09:52.134Z"
   },
   {
    "duration": 19,
    "start_time": "2021-07-01T14:12:02.046Z"
   },
   {
    "duration": 83,
    "start_time": "2021-07-01T14:12:06.034Z"
   },
   {
    "duration": 15,
    "start_time": "2021-07-01T14:12:11.486Z"
   },
   {
    "duration": 20,
    "start_time": "2021-07-01T14:13:37.509Z"
   },
   {
    "duration": 14,
    "start_time": "2021-07-01T14:13:55.509Z"
   },
   {
    "duration": 15,
    "start_time": "2021-07-01T14:15:02.682Z"
   },
   {
    "duration": 14,
    "start_time": "2021-07-01T14:15:21.244Z"
   },
   {
    "duration": 248,
    "start_time": "2021-07-01T14:16:19.094Z"
   },
   {
    "duration": 38,
    "start_time": "2021-07-01T14:16:21.366Z"
   },
   {
    "duration": 10,
    "start_time": "2021-07-01T14:16:22.439Z"
   },
   {
    "duration": 11,
    "start_time": "2021-07-01T14:17:26.066Z"
   },
   {
    "duration": 11,
    "start_time": "2021-07-01T14:17:51.396Z"
   },
   {
    "duration": 9,
    "start_time": "2021-07-01T14:18:14.118Z"
   },
   {
    "duration": 11,
    "start_time": "2021-07-01T14:19:38.156Z"
   },
   {
    "duration": 906,
    "start_time": "2021-07-01T14:38:03.492Z"
   },
   {
    "duration": 370,
    "start_time": "2021-07-01T14:38:04.401Z"
   },
   {
    "duration": 81,
    "start_time": "2021-07-01T14:38:04.776Z"
   },
   {
    "duration": 17,
    "start_time": "2021-07-01T14:38:04.860Z"
   },
   {
    "duration": 121,
    "start_time": "2021-07-01T14:38:04.880Z"
   },
   {
    "duration": 37,
    "start_time": "2021-07-01T14:38:05.003Z"
   },
   {
    "duration": 36,
    "start_time": "2021-07-01T14:38:05.042Z"
   },
   {
    "duration": 20,
    "start_time": "2021-07-01T14:38:05.081Z"
   },
   {
    "duration": 28,
    "start_time": "2021-07-01T14:38:05.104Z"
   },
   {
    "duration": 18,
    "start_time": "2021-07-01T14:38:05.135Z"
   },
   {
    "duration": 10,
    "start_time": "2021-07-01T14:38:05.155Z"
   },
   {
    "duration": 11,
    "start_time": "2021-07-01T14:38:05.170Z"
   },
   {
    "duration": 22,
    "start_time": "2021-07-01T14:38:05.184Z"
   },
   {
    "duration": 24,
    "start_time": "2021-07-01T14:38:05.209Z"
   },
   {
    "duration": 18,
    "start_time": "2021-07-01T14:38:05.236Z"
   },
   {
    "duration": 16,
    "start_time": "2021-07-01T14:38:05.257Z"
   },
   {
    "duration": 18,
    "start_time": "2021-07-01T14:38:05.275Z"
   },
   {
    "duration": 313,
    "start_time": "2021-07-01T14:38:05.295Z"
   },
   {
    "duration": 17,
    "start_time": "2021-07-01T14:38:05.611Z"
   },
   {
    "duration": 447,
    "start_time": "2021-07-01T14:38:05.630Z"
   },
   {
    "duration": 463,
    "start_time": "2021-07-01T14:38:06.080Z"
   },
   {
    "duration": 340,
    "start_time": "2021-07-01T14:38:06.546Z"
   },
   {
    "duration": 10,
    "start_time": "2021-07-01T14:38:06.893Z"
   },
   {
    "duration": 62,
    "start_time": "2021-07-01T14:38:06.907Z"
   },
   {
    "duration": 11,
    "start_time": "2021-07-01T14:38:06.971Z"
   },
   {
    "duration": 238,
    "start_time": "2021-07-01T14:38:06.984Z"
   },
   {
    "duration": 5,
    "start_time": "2021-07-01T14:38:07.225Z"
   },
   {
    "duration": 338,
    "start_time": "2021-07-01T14:38:07.232Z"
   },
   {
    "duration": 6,
    "start_time": "2021-07-01T14:38:07.573Z"
   },
   {
    "duration": 304,
    "start_time": "2021-07-01T14:38:07.581Z"
   },
   {
    "duration": 989,
    "start_time": "2021-07-01T14:38:07.888Z"
   },
   {
    "duration": 12,
    "start_time": "2021-07-01T14:38:08.879Z"
   },
   {
    "duration": 22,
    "start_time": "2021-07-01T14:38:08.894Z"
   },
   {
    "duration": 326,
    "start_time": "2021-07-01T14:38:08.918Z"
   },
   {
    "duration": 17,
    "start_time": "2021-07-01T14:38:09.247Z"
   },
   {
    "duration": 232,
    "start_time": "2021-07-01T14:38:09.268Z"
   },
   {
    "duration": 230,
    "start_time": "2021-07-01T14:38:09.502Z"
   },
   {
    "duration": 295,
    "start_time": "2021-07-01T14:38:09.734Z"
   },
   {
    "duration": 285,
    "start_time": "2021-07-01T14:38:10.032Z"
   },
   {
    "duration": 38,
    "start_time": "2021-07-01T14:38:10.320Z"
   },
   {
    "duration": 38,
    "start_time": "2021-07-01T14:38:10.360Z"
   },
   {
    "duration": 211,
    "start_time": "2021-07-01T14:38:10.401Z"
   },
   {
    "duration": 11,
    "start_time": "2021-07-01T14:38:10.614Z"
   },
   {
    "duration": 40,
    "start_time": "2021-07-01T14:38:10.627Z"
   },
   {
    "duration": 18,
    "start_time": "2021-07-01T14:38:10.669Z"
   },
   {
    "duration": 13,
    "start_time": "2021-07-01T14:38:10.690Z"
   },
   {
    "duration": 12,
    "start_time": "2021-07-01T14:38:10.705Z"
   },
   {
    "duration": 497,
    "start_time": "2021-07-01T14:38:10.720Z"
   },
   {
    "duration": 52,
    "start_time": "2021-07-01T14:38:11.220Z"
   },
   {
    "duration": 10,
    "start_time": "2021-07-01T14:38:11.274Z"
   },
   {
    "duration": 25,
    "start_time": "2021-07-01T14:38:11.286Z"
   },
   {
    "duration": 9,
    "start_time": "2021-07-01T14:45:38.148Z"
   },
   {
    "duration": 589,
    "start_time": "2021-07-01T15:02:44.548Z"
   },
   {
    "duration": 201,
    "start_time": "2021-07-01T15:02:45.139Z"
   },
   {
    "duration": 27,
    "start_time": "2021-07-01T15:02:45.342Z"
   },
   {
    "duration": 22,
    "start_time": "2021-07-01T15:02:45.371Z"
   },
   {
    "duration": 66,
    "start_time": "2021-07-01T15:02:45.395Z"
   },
   {
    "duration": 39,
    "start_time": "2021-07-01T15:02:45.462Z"
   },
   {
    "duration": 8,
    "start_time": "2021-07-01T15:02:45.503Z"
   },
   {
    "duration": 12,
    "start_time": "2021-07-01T15:02:45.513Z"
   },
   {
    "duration": 16,
    "start_time": "2021-07-01T15:02:45.528Z"
   },
   {
    "duration": 9,
    "start_time": "2021-07-01T15:02:45.546Z"
   },
   {
    "duration": 28,
    "start_time": "2021-07-01T15:02:45.557Z"
   },
   {
    "duration": 11,
    "start_time": "2021-07-01T15:02:45.587Z"
   },
   {
    "duration": 16,
    "start_time": "2021-07-01T15:02:45.599Z"
   },
   {
    "duration": 8,
    "start_time": "2021-07-01T15:02:45.617Z"
   },
   {
    "duration": 10,
    "start_time": "2021-07-01T15:02:45.627Z"
   },
   {
    "duration": 9,
    "start_time": "2021-07-01T15:02:45.639Z"
   },
   {
    "duration": 9,
    "start_time": "2021-07-01T15:02:45.649Z"
   },
   {
    "duration": 202,
    "start_time": "2021-07-01T15:02:45.684Z"
   },
   {
    "duration": 12,
    "start_time": "2021-07-01T15:02:45.887Z"
   },
   {
    "duration": 220,
    "start_time": "2021-07-01T15:02:45.901Z"
   },
   {
    "duration": 181,
    "start_time": "2021-07-01T15:02:46.123Z"
   },
   {
    "duration": 225,
    "start_time": "2021-07-01T15:02:46.306Z"
   },
   {
    "duration": 22,
    "start_time": "2021-07-01T15:02:46.533Z"
   },
   {
    "duration": 8,
    "start_time": "2021-07-01T15:02:46.557Z"
   },
   {
    "duration": 158,
    "start_time": "2021-07-01T15:02:46.566Z"
   },
   {
    "duration": 4,
    "start_time": "2021-07-01T15:02:46.725Z"
   },
   {
    "duration": 196,
    "start_time": "2021-07-01T15:02:46.732Z"
   },
   {
    "duration": 4,
    "start_time": "2021-07-01T15:02:46.930Z"
   },
   {
    "duration": 203,
    "start_time": "2021-07-01T15:02:46.936Z"
   },
   {
    "duration": 610,
    "start_time": "2021-07-01T15:02:47.141Z"
   },
   {
    "duration": 206,
    "start_time": "2021-07-01T15:02:47.753Z"
   },
   {
    "duration": 12,
    "start_time": "2021-07-01T15:02:47.961Z"
   },
   {
    "duration": 160,
    "start_time": "2021-07-01T15:02:47.975Z"
   },
   {
    "duration": 151,
    "start_time": "2021-07-01T15:02:48.137Z"
   },
   {
    "duration": 186,
    "start_time": "2021-07-01T15:02:48.289Z"
   },
   {
    "duration": 198,
    "start_time": "2021-07-01T15:02:48.476Z"
   },
   {
    "duration": 15,
    "start_time": "2021-07-01T15:02:48.676Z"
   },
   {
    "duration": 21,
    "start_time": "2021-07-01T15:02:48.693Z"
   },
   {
    "duration": 146,
    "start_time": "2021-07-01T15:02:48.716Z"
   },
   {
    "duration": 7,
    "start_time": "2021-07-01T15:02:48.864Z"
   },
   {
    "duration": 16,
    "start_time": "2021-07-01T15:02:48.873Z"
   },
   {
    "duration": 11,
    "start_time": "2021-07-01T15:02:48.891Z"
   },
   {
    "duration": 7,
    "start_time": "2021-07-01T15:02:48.903Z"
   },
   {
    "duration": 7,
    "start_time": "2021-07-01T15:02:48.911Z"
   },
   {
    "duration": 315,
    "start_time": "2021-07-01T15:02:48.919Z"
   },
   {
    "duration": 24,
    "start_time": "2021-07-01T15:02:49.236Z"
   },
   {
    "duration": 23,
    "start_time": "2021-07-01T15:02:49.262Z"
   },
   {
    "duration": 8,
    "start_time": "2021-07-01T15:02:49.286Z"
   },
   {
    "duration": 4,
    "start_time": "2021-07-01T15:24:36.388Z"
   },
   {
    "duration": 1956,
    "start_time": "2021-07-01T15:32:31.537Z"
   },
   {
    "duration": 411,
    "start_time": "2021-07-01T15:32:40.788Z"
   },
   {
    "duration": 401,
    "start_time": "2021-07-01T15:34:05.713Z"
   },
   {
    "duration": 192,
    "start_time": "2021-07-01T15:35:50.952Z"
   },
   {
    "duration": 383,
    "start_time": "2021-07-01T15:36:00.465Z"
   },
   {
    "duration": 7,
    "start_time": "2021-07-01T15:36:19.866Z"
   },
   {
    "duration": 4,
    "start_time": "2021-07-01T15:36:26.834Z"
   },
   {
    "duration": 5,
    "start_time": "2021-07-01T15:36:32.771Z"
   },
   {
    "duration": 393,
    "start_time": "2021-07-01T15:37:33.910Z"
   },
   {
    "duration": 6,
    "start_time": "2021-07-01T15:37:41.247Z"
   },
   {
    "duration": 271,
    "start_time": "2021-07-01T15:37:58.296Z"
   },
   {
    "duration": 463,
    "start_time": "2021-07-01T15:38:31.867Z"
   },
   {
    "duration": 479,
    "start_time": "2021-07-01T15:38:40.338Z"
   },
   {
    "duration": 956,
    "start_time": "2021-07-01T15:39:25.373Z"
   },
   {
    "duration": 921,
    "start_time": "2021-07-01T15:40:18.993Z"
   },
   {
    "duration": 356,
    "start_time": "2021-07-01T15:41:27.798Z"
   },
   {
    "duration": 314,
    "start_time": "2021-07-01T15:42:13.665Z"
   },
   {
    "duration": 306,
    "start_time": "2021-07-01T15:42:51.075Z"
   },
   {
    "duration": 318,
    "start_time": "2021-07-01T15:43:15.870Z"
   },
   {
    "duration": 312,
    "start_time": "2021-07-01T15:43:28.476Z"
   },
   {
    "duration": 316,
    "start_time": "2021-07-01T15:44:27.922Z"
   },
   {
    "duration": 316,
    "start_time": "2021-07-01T15:44:33.008Z"
   },
   {
    "duration": 299,
    "start_time": "2021-07-01T15:45:08.203Z"
   },
   {
    "duration": 265,
    "start_time": "2021-07-01T15:45:11.261Z"
   },
   {
    "duration": 315,
    "start_time": "2021-07-01T15:45:19.508Z"
   },
   {
    "duration": 300,
    "start_time": "2021-07-01T15:45:29.621Z"
   },
   {
    "duration": 288,
    "start_time": "2021-07-01T15:46:18.568Z"
   },
   {
    "duration": 671,
    "start_time": "2021-07-01T15:47:43.653Z"
   },
   {
    "duration": 293,
    "start_time": "2021-07-01T15:48:02.670Z"
   },
   {
    "duration": 290,
    "start_time": "2021-07-01T15:48:10.534Z"
   },
   {
    "duration": 265,
    "start_time": "2021-07-01T15:48:24.128Z"
   },
   {
    "duration": 266,
    "start_time": "2021-07-01T15:48:25.904Z"
   },
   {
    "duration": 260,
    "start_time": "2021-07-01T15:48:28.583Z"
   },
   {
    "duration": 263,
    "start_time": "2021-07-01T15:48:30.207Z"
   },
   {
    "duration": 286,
    "start_time": "2021-07-01T15:48:36.936Z"
   },
   {
    "duration": 254,
    "start_time": "2021-07-01T15:48:39.424Z"
   },
   {
    "duration": 329,
    "start_time": "2021-07-01T15:51:06.658Z"
   },
   {
    "duration": 318,
    "start_time": "2021-07-01T15:51:11.722Z"
   },
   {
    "duration": 260,
    "start_time": "2021-07-01T15:51:17.899Z"
   },
   {
    "duration": 871,
    "start_time": "2021-07-01T15:51:42.324Z"
   },
   {
    "duration": 1388,
    "start_time": "2021-07-01T15:52:17.256Z"
   },
   {
    "duration": 1314,
    "start_time": "2021-07-01T15:52:29.871Z"
   },
   {
    "duration": 726,
    "start_time": "2021-07-01T15:53:53.308Z"
   },
   {
    "duration": 438,
    "start_time": "2021-07-01T15:55:47.348Z"
   },
   {
    "duration": 920,
    "start_time": "2021-07-01T15:56:27.007Z"
   },
   {
    "duration": 269,
    "start_time": "2021-07-01T15:56:37.086Z"
   },
   {
    "duration": 395,
    "start_time": "2021-07-01T15:56:40.943Z"
   },
   {
    "duration": 11,
    "start_time": "2021-07-01T15:57:09.209Z"
   },
   {
    "duration": 12,
    "start_time": "2021-07-01T16:00:10.108Z"
   },
   {
    "duration": 36,
    "start_time": "2021-07-01T16:02:38.340Z"
   },
   {
    "duration": 11,
    "start_time": "2021-07-01T16:02:41.917Z"
   },
   {
    "duration": 10,
    "start_time": "2021-07-01T16:02:43.998Z"
   },
   {
    "duration": 13,
    "start_time": "2021-07-01T16:02:45.558Z"
   },
   {
    "duration": 261,
    "start_time": "2021-07-01T16:09:48.664Z"
   },
   {
    "duration": 37,
    "start_time": "2021-07-01T16:09:54.151Z"
   },
   {
    "duration": 27,
    "start_time": "2021-07-01T16:09:54.921Z"
   },
   {
    "duration": 25,
    "start_time": "2021-07-01T16:10:31.459Z"
   },
   {
    "duration": 1482,
    "start_time": "2021-07-01T16:18:07.041Z"
   },
   {
    "duration": 267,
    "start_time": "2021-07-01T16:18:08.525Z"
   },
   {
    "duration": 38,
    "start_time": "2021-07-01T16:18:08.795Z"
   },
   {
    "duration": 40,
    "start_time": "2021-07-01T16:18:08.835Z"
   },
   {
    "duration": 111,
    "start_time": "2021-07-01T16:18:08.877Z"
   },
   {
    "duration": 36,
    "start_time": "2021-07-01T16:18:08.991Z"
   },
   {
    "duration": 29,
    "start_time": "2021-07-01T16:18:09.029Z"
   },
   {
    "duration": 22,
    "start_time": "2021-07-01T16:18:09.061Z"
   },
   {
    "duration": 34,
    "start_time": "2021-07-01T16:18:09.086Z"
   },
   {
    "duration": 31,
    "start_time": "2021-07-01T16:18:09.122Z"
   },
   {
    "duration": 7,
    "start_time": "2021-07-01T16:18:09.155Z"
   },
   {
    "duration": 27,
    "start_time": "2021-07-01T16:18:09.164Z"
   },
   {
    "duration": 13,
    "start_time": "2021-07-01T16:18:09.194Z"
   },
   {
    "duration": 18,
    "start_time": "2021-07-01T16:18:09.209Z"
   },
   {
    "duration": 32,
    "start_time": "2021-07-01T16:18:09.229Z"
   },
   {
    "duration": 9,
    "start_time": "2021-07-01T16:18:09.264Z"
   },
   {
    "duration": 20,
    "start_time": "2021-07-01T16:18:09.276Z"
   },
   {
    "duration": 351,
    "start_time": "2021-07-01T16:18:09.299Z"
   },
   {
    "duration": 17,
    "start_time": "2021-07-01T16:18:09.656Z"
   },
   {
    "duration": 965,
    "start_time": "2021-07-01T16:18:09.675Z"
   },
   {
    "duration": 36,
    "start_time": "2021-07-01T16:18:10.643Z"
   },
   {
    "duration": 12,
    "start_time": "2021-07-01T16:18:10.682Z"
   },
   {
    "duration": 283,
    "start_time": "2021-07-01T16:18:10.701Z"
   },
   {
    "duration": 6,
    "start_time": "2021-07-01T16:18:10.988Z"
   },
   {
    "duration": 301,
    "start_time": "2021-07-01T16:18:10.997Z"
   },
   {
    "duration": 7,
    "start_time": "2021-07-01T16:18:11.301Z"
   },
   {
    "duration": 312,
    "start_time": "2021-07-01T16:18:11.310Z"
   },
   {
    "duration": 1023,
    "start_time": "2021-07-01T16:18:11.626Z"
   },
   {
    "duration": 310,
    "start_time": "2021-07-01T16:18:12.651Z"
   },
   {
    "duration": 17,
    "start_time": "2021-07-01T16:18:12.963Z"
   },
   {
    "duration": 273,
    "start_time": "2021-07-01T16:18:12.982Z"
   },
   {
    "duration": 261,
    "start_time": "2021-07-01T16:18:13.258Z"
   },
   {
    "duration": 247,
    "start_time": "2021-07-01T16:18:13.522Z"
   },
   {
    "duration": 256,
    "start_time": "2021-07-01T16:18:13.771Z"
   },
   {
    "duration": 26,
    "start_time": "2021-07-01T16:18:14.030Z"
   },
   {
    "duration": 31,
    "start_time": "2021-07-01T16:18:14.059Z"
   },
   {
    "duration": 192,
    "start_time": "2021-07-01T16:18:14.093Z"
   },
   {
    "duration": 11,
    "start_time": "2021-07-01T16:18:14.287Z"
   },
   {
    "duration": 9,
    "start_time": "2021-07-01T16:18:14.300Z"
   },
   {
    "duration": 50,
    "start_time": "2021-07-01T16:18:14.311Z"
   },
   {
    "duration": 8,
    "start_time": "2021-07-01T16:18:14.363Z"
   },
   {
    "duration": 12,
    "start_time": "2021-07-01T16:18:14.374Z"
   },
   {
    "duration": 455,
    "start_time": "2021-07-01T16:18:14.389Z"
   },
   {
    "duration": 39,
    "start_time": "2021-07-01T16:18:14.855Z"
   },
   {
    "duration": 29,
    "start_time": "2021-07-01T16:18:14.896Z"
   },
   {
    "duration": 256,
    "start_time": "2021-07-01T16:19:46.977Z"
   },
   {
    "duration": 487,
    "start_time": "2021-07-01T16:19:56.505Z"
   },
   {
    "duration": 259,
    "start_time": "2021-07-01T16:20:43.564Z"
   },
   {
    "duration": 260,
    "start_time": "2021-07-01T16:20:57.798Z"
   },
   {
    "duration": 447,
    "start_time": "2021-07-01T16:23:06.021Z"
   },
   {
    "duration": 1650,
    "start_time": "2021-07-01T16:25:01.921Z"
   },
   {
    "duration": 305,
    "start_time": "2021-07-01T16:25:03.575Z"
   },
   {
    "duration": 43,
    "start_time": "2021-07-01T16:25:03.887Z"
   },
   {
    "duration": 36,
    "start_time": "2021-07-01T16:25:03.933Z"
   },
   {
    "duration": 129,
    "start_time": "2021-07-01T16:25:03.971Z"
   },
   {
    "duration": 57,
    "start_time": "2021-07-01T16:25:04.103Z"
   },
   {
    "duration": 10,
    "start_time": "2021-07-01T16:25:04.166Z"
   },
   {
    "duration": 8,
    "start_time": "2021-07-01T16:25:04.181Z"
   },
   {
    "duration": 16,
    "start_time": "2021-07-01T16:25:04.192Z"
   },
   {
    "duration": 21,
    "start_time": "2021-07-01T16:25:04.255Z"
   },
   {
    "duration": 6,
    "start_time": "2021-07-01T16:25:04.279Z"
   },
   {
    "duration": 22,
    "start_time": "2021-07-01T16:25:04.288Z"
   },
   {
    "duration": 43,
    "start_time": "2021-07-01T16:25:04.313Z"
   },
   {
    "duration": 16,
    "start_time": "2021-07-01T16:25:04.359Z"
   },
   {
    "duration": 18,
    "start_time": "2021-07-01T16:25:04.377Z"
   },
   {
    "duration": 17,
    "start_time": "2021-07-01T16:25:04.398Z"
   },
   {
    "duration": 37,
    "start_time": "2021-07-01T16:25:04.418Z"
   },
   {
    "duration": 370,
    "start_time": "2021-07-01T16:25:04.458Z"
   },
   {
    "duration": 31,
    "start_time": "2021-07-01T16:25:04.831Z"
   },
   {
    "duration": 1000,
    "start_time": "2021-07-01T16:25:04.865Z"
   },
   {
    "duration": 31,
    "start_time": "2021-07-01T16:25:05.868Z"
   },
   {
    "duration": 14,
    "start_time": "2021-07-01T16:25:05.904Z"
   },
   {
    "duration": 285,
    "start_time": "2021-07-01T16:25:05.922Z"
   },
   {
    "duration": 6,
    "start_time": "2021-07-01T16:25:06.210Z"
   },
   {
    "duration": 364,
    "start_time": "2021-07-01T16:25:06.219Z"
   },
   {
    "duration": 5,
    "start_time": "2021-07-01T16:25:06.586Z"
   },
   {
    "duration": 356,
    "start_time": "2021-07-01T16:25:06.594Z"
   },
   {
    "duration": 1128,
    "start_time": "2021-07-01T16:25:06.952Z"
   },
   {
    "duration": 344,
    "start_time": "2021-07-01T16:25:08.082Z"
   },
   {
    "duration": 30,
    "start_time": "2021-07-01T16:25:08.429Z"
   },
   {
    "duration": 308,
    "start_time": "2021-07-01T16:25:08.461Z"
   },
   {
    "duration": 288,
    "start_time": "2021-07-01T16:25:08.772Z"
   },
   {
    "duration": 293,
    "start_time": "2021-07-01T16:25:09.062Z"
   },
   {
    "duration": 271,
    "start_time": "2021-07-01T16:25:09.358Z"
   },
   {
    "duration": 28,
    "start_time": "2021-07-01T16:25:09.631Z"
   },
   {
    "duration": 36,
    "start_time": "2021-07-01T16:25:09.662Z"
   },
   {
    "duration": 218,
    "start_time": "2021-07-01T16:25:09.700Z"
   },
   {
    "duration": 10,
    "start_time": "2021-07-01T16:25:09.921Z"
   },
   {
    "duration": 33,
    "start_time": "2021-07-01T16:25:09.934Z"
   },
   {
    "duration": 26,
    "start_time": "2021-07-01T16:25:09.970Z"
   },
   {
    "duration": 10,
    "start_time": "2021-07-01T16:25:09.999Z"
   },
   {
    "duration": 44,
    "start_time": "2021-07-01T16:25:10.011Z"
   },
   {
    "duration": 563,
    "start_time": "2021-07-01T16:25:10.058Z"
   },
   {
    "duration": 59,
    "start_time": "2021-07-01T16:25:10.624Z"
   },
   {
    "duration": 33,
    "start_time": "2021-07-01T16:25:10.686Z"
   }
  ],
  "kernelspec": {
   "display_name": "Python 3 (ipykernel)",
   "language": "python",
   "name": "python3"
  },
  "language_info": {
   "codemirror_mode": {
    "name": "ipython",
    "version": 3
   },
   "file_extension": ".py",
   "mimetype": "text/x-python",
   "name": "python",
   "nbconvert_exporter": "python",
   "pygments_lexer": "ipython3",
   "version": "3.8.12"
  },
  "toc": {
   "base_numbering": 1,
   "nav_menu": {},
   "number_sections": true,
   "sideBar": true,
   "skip_h1_title": true,
   "title_cell": "Содержание",
   "title_sidebar": "Contents",
   "toc_cell": true,
   "toc_position": {
    "height": "calc(100% - 180px)",
    "left": "10px",
    "top": "150px",
    "width": "264px"
   },
   "toc_section_display": true,
   "toc_window_display": true
  },
  "toc-autonumbering": true,
  "toc-showcode": false,
  "toc-showmarkdowntxt": false,
  "toc-showtags": false
 },
 "nbformat": 4,
 "nbformat_minor": 4
}