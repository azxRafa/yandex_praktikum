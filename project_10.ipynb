{
 "cells": [
  {
   "cell_type": "markdown",
   "source": [
    "# Предсказание стоимости жилья\n",
    "\n",
    "В проекте вам нужно обучить модель линейной регрессии на данных о жилье в Калифорнии в 1990 году. На основе данных нужно предсказать медианную стоимость дома в жилом массиве. Обучите модель и сделайте предсказания на тестовой выборке. Для оценки качества модели используйте метрики RMSE, MAE и R2."
   ],
   "metadata": {
    "collapsed": false
   }
  },
  {
   "cell_type": "code",
   "execution_count": 1,
   "id": "a7f31115",
   "metadata": {},
   "outputs": [],
   "source": [
    "import pandas as pd\n",
    "\n",
    "from pyspark.sql import SparkSession\n",
    "import pyspark.sql.functions as F\n",
    "\n",
    "from pyspark.ml.feature import StringIndexer, VectorAssembler, StandardScaler\n",
    "from pyspark.ml.regression import LinearRegression\n",
    "from pyspark.ml.feature import OneHotEncoder\n",
    "from pyspark.mllib.evaluation import RegressionMetrics\n",
    "\n",
    "        \n",
    "RANDOM_SEED = 2022\n",
    "\n",
    "spark = SparkSession.builder \\\n",
    "                    .master(\"local\") \\\n",
    "                    .appName(\"cal_housing_data\") \\\n",
    "                    .getOrCreate()"
   ]
  },
  {
   "cell_type": "code",
   "execution_count": 2,
   "id": "a770ea0f",
   "metadata": {},
   "outputs": [],
   "source": [
    "df = spark.createDataFrame(pd.read_csv(url))"
   ]
  },
  {
   "cell_type": "code",
   "execution_count": 3,
   "id": "106ecb15",
   "metadata": {},
   "outputs": [
    {
     "name": "stdout",
     "output_type": "stream",
     "text": [
      "root\n",
      " |-- longitude: double (nullable = true)\n",
      " |-- latitude: double (nullable = true)\n",
      " |-- housing_median_age: double (nullable = true)\n",
      " |-- total_rooms: double (nullable = true)\n",
      " |-- total_bedrooms: double (nullable = true)\n",
      " |-- population: double (nullable = true)\n",
      " |-- households: double (nullable = true)\n",
      " |-- median_income: double (nullable = true)\n",
      " |-- median_house_value: double (nullable = true)\n",
      " |-- ocean_proximity: string (nullable = true)\n",
      "\n"
     ]
    }
   ],
   "source": [
    "df.printSchema() "
   ]
  },
  {
   "cell_type": "markdown",
   "id": "2d349cd5",
   "metadata": {
    "id": "53871372"
   },
   "source": [
    "## Подготовка данных"
   ]
  },
  {
   "cell_type": "markdown",
   "id": "4bfe1bd1",
   "metadata": {},
   "source": [
    "### Замена пропусков на среднее"
   ]
  },
  {
   "cell_type": "code",
   "execution_count": 4,
   "id": "2066b670",
   "metadata": {
    "id": "df92e3ec",
    "scrolled": false
   },
   "outputs": [
    {
     "name": "stdout",
     "output_type": "stream",
     "text": [
      "+---------+--------+------------------+-----------+--------------+----------+----------+-------------+------------------+---------------+\n",
      "|longitude|latitude|housing_median_age|total_rooms|total_bedrooms|population|households|median_income|median_house_value|ocean_proximity|\n",
      "+---------+--------+------------------+-----------+--------------+----------+----------+-------------+------------------+---------------+\n",
      "|        0|       0|                 0|          0|           207|         0|         0|            0|                 0|              0|\n",
      "+---------+--------+------------------+-----------+--------------+----------+----------+-------------+------------------+---------------+\n",
      "\n"
     ]
    }
   ],
   "source": [
    "df.select([F.count(F.when(F.isnan(c), c)).alias(c) for c in df.columns]).show()"
   ]
  },
  {
   "cell_type": "code",
   "execution_count": 5,
   "id": "e9260287",
   "metadata": {},
   "outputs": [
    {
     "data": {
      "text/plain": [
       "538.0"
      ]
     },
     "execution_count": 5,
     "metadata": {},
     "output_type": "execute_result"
    }
   ],
   "source": [
    "df.withColumn('isNull_c', F.isnan(F.col('total_bedrooms'))).where('isNull_c = false').select(F.round(F.mean(F.col('total_bedrooms')))).collect()[0]['round(avg(total_bedrooms), 0)']"
   ]
  },
  {
   "cell_type": "code",
   "execution_count": 6,
   "id": "12800192",
   "metadata": {},
   "outputs": [],
   "source": [
    "df = df.na.fill(df.withColumn('isNull_c', F.isnan(F.col('total_bedrooms'))) \n",
    "           .where('isNull_c = false')\n",
    "           .select(F.round(F.mean(F.col('total_bedrooms'))))\n",
    "           .collect()[0]['round(avg(total_bedrooms), 0)'])"
   ]
  },
  {
   "cell_type": "markdown",
   "id": "cb40fc96",
   "metadata": {},
   "source": [
    "### Трансформация категорийных признаков"
   ]
  },
  {
   "cell_type": "code",
   "execution_count": 7,
   "id": "e718bfc1",
   "metadata": {
    "scrolled": true
   },
   "outputs": [],
   "source": [
    "categorical_cols = ['ocean_proximity']\n",
    "numerical_cols = [\"longitude\", \"latitude\", \"housing_median_age\", \"total_rooms\", \"total_bedrooms\", \"population\", \"households\", \"median_income\"]\n",
    "target = \"median_house_value\" \n",
    "\n",
    "indexer = StringIndexer(inputCol=\"ocean_proximity\", outputCol=\"ocean_proximity_idx\", stringOrderType=\"frequencyDesc\")"
   ]
  },
  {
   "cell_type": "code",
   "execution_count": 8,
   "id": "4bac2ab5",
   "metadata": {},
   "outputs": [],
   "source": [
    "df = indexer.fit(df).transform(df)"
   ]
  },
  {
   "cell_type": "code",
   "execution_count": 9,
   "id": "095262f4",
   "metadata": {
    "scrolled": false
   },
   "outputs": [
    {
     "name": "stdout",
     "output_type": "stream",
     "text": [
      "+---------------+-------------------+\n",
      "|ocean_proximity|ocean_proximity_idx|\n",
      "+---------------+-------------------+\n",
      "|       NEAR BAY|                3.0|\n",
      "|       NEAR BAY|                3.0|\n",
      "|       NEAR BAY|                3.0|\n",
      "+---------------+-------------------+\n",
      "only showing top 3 rows\n",
      "\n"
     ]
    }
   ],
   "source": [
    "cols = [c for c in df.columns for i in ['ocean_proximity'] if (c.startswith(i))]\n",
    "df.select(cols).show(3) "
   ]
  },
  {
   "cell_type": "code",
   "execution_count": 10,
   "id": "7eeecb06",
   "metadata": {},
   "outputs": [],
   "source": [
    "encoder = OneHotEncoder(inputCol=\"ocean_proximity_idx\", outputCol=\"ocean_proximity_ohe\")\n",
    "df = encoder.transform(df)"
   ]
  },
  {
   "cell_type": "code",
   "execution_count": 11,
   "id": "8c6cacb3",
   "metadata": {
    "scrolled": true
   },
   "outputs": [
    {
     "name": "stdout",
     "output_type": "stream",
     "text": [
      "+---------------+-------------------+-------------------+\n",
      "|ocean_proximity|ocean_proximity_idx|ocean_proximity_ohe|\n",
      "+---------------+-------------------+-------------------+\n",
      "|       NEAR BAY|                3.0|      (4,[3],[1.0])|\n",
      "|       NEAR BAY|                3.0|      (4,[3],[1.0])|\n",
      "|       NEAR BAY|                3.0|      (4,[3],[1.0])|\n",
      "+---------------+-------------------+-------------------+\n",
      "only showing top 3 rows\n",
      "\n"
     ]
    }
   ],
   "source": [
    "cols = [c for c in df.columns for i in categorical_cols if (c.startswith(i))]\n",
    "df.select(cols).show(3) "
   ]
  },
  {
   "cell_type": "code",
   "execution_count": 12,
   "id": "9cffb3c9",
   "metadata": {},
   "outputs": [],
   "source": [
    "categorical_assembler = VectorAssembler(inputCols=[c+'_ohe' for c in categorical_cols], outputCol=\"categorical_features\")\n",
    "df = categorical_assembler.transform(df)"
   ]
  },
  {
   "cell_type": "markdown",
   "id": "ce373969",
   "metadata": {},
   "source": [
    "### Трансформация числовых признаков"
   ]
  },
  {
   "cell_type": "code",
   "execution_count": 13,
   "id": "0566831d",
   "metadata": {},
   "outputs": [],
   "source": [
    "numerical_assembler = VectorAssembler(inputCols=numerical_cols, outputCol=\"numerical_features\")\n",
    "df = numerical_assembler.transform(df)"
   ]
  },
  {
   "cell_type": "code",
   "execution_count": 14,
   "id": "d8e05ff3",
   "metadata": {},
   "outputs": [],
   "source": [
    "standardScaler = StandardScaler(inputCol='numerical_features', outputCol=\"numerical_features_scaled\")\n",
    "df = standardScaler.fit(df).transform(df)"
   ]
  },
  {
   "cell_type": "code",
   "execution_count": 15,
   "id": "8e34bd48",
   "metadata": {
    "scrolled": false
   },
   "outputs": [
    {
     "name": "stdout",
     "output_type": "stream",
     "text": [
      "+--------------------+-------------------------+\n",
      "|categorical_features|numerical_features_scaled|\n",
      "+--------------------+-------------------------+\n",
      "|       (4,[3],[1.0])|     [-61.007269596069...|\n",
      "|       (4,[3],[1.0])|     [-61.002278409814...|\n",
      "|       (4,[3],[1.0])|     [-61.012260782324...|\n",
      "+--------------------+-------------------------+\n",
      "only showing top 3 rows\n",
      "\n"
     ]
    }
   ],
   "source": [
    "all_features = ['categorical_features','numerical_features_scaled']\n",
    "\n",
    "final_assembler = VectorAssembler(inputCols=all_features, outputCol=\"features\") \n",
    "df = final_assembler.transform(df)\n",
    "\n",
    "df.select(all_features).show(3)"
   ]
  },
  {
   "cell_type": "markdown",
   "id": "78f4e334",
   "metadata": {
    "id": "9f0a82f3"
   },
   "source": [
    "## Обучение моделей"
   ]
  },
  {
   "cell_type": "code",
   "execution_count": 16,
   "id": "d5066c3c",
   "metadata": {
    "id": "bddb08c4",
    "scrolled": false
   },
   "outputs": [],
   "source": [
    "train_data, test_data = df.randomSplit([0.8,0.2], seed=RANDOM_SEED)"
   ]
  },
  {
   "cell_type": "code",
   "execution_count": 17,
   "id": "a116df36",
   "metadata": {},
   "outputs": [
    {
     "data": {
      "text/plain": [
       "(16437, 4203)"
      ]
     },
     "execution_count": 17,
     "metadata": {},
     "output_type": "execute_result"
    }
   ],
   "source": [
    "train_data.count(), test_data.count()"
   ]
  },
  {
   "cell_type": "markdown",
   "id": "06ff134f",
   "metadata": {},
   "source": [
    "### линейная регрессия все данные"
   ]
  },
  {
   "cell_type": "code",
   "execution_count": 18,
   "id": "4a1b069e",
   "metadata": {},
   "outputs": [],
   "source": [
    "lr = LinearRegression(labelCol=target, featuresCol='features')"
   ]
  },
  {
   "cell_type": "code",
   "execution_count": 19,
   "id": "b6302a05",
   "metadata": {
    "scrolled": false
   },
   "outputs": [],
   "source": [
    "model = lr.fit(train_data)"
   ]
  },
  {
   "cell_type": "code",
   "execution_count": 20,
   "id": "673c12cd",
   "metadata": {},
   "outputs": [],
   "source": [
    "predictions = model.transform(test_data)\n",
    "\n",
    "predictedLabes = predictions.select(['prediction',\"median_house_value\"])"
   ]
  },
  {
   "cell_type": "code",
   "execution_count": 21,
   "id": "25a4399f",
   "metadata": {},
   "outputs": [],
   "source": [
    "results_collect = predictedLabes.collect()\n",
    "results_list = [(float(i[0]), float(i[1])) for i in results_collect]\n",
    "scoreAndLabels = spark.sparkContext.parallelize(results_list)"
   ]
  },
  {
   "cell_type": "code",
   "execution_count": 22,
   "id": "a57c8626",
   "metadata": {},
   "outputs": [],
   "source": [
    "metrics = RegressionMetrics(scoreAndLabels)"
   ]
  },
  {
   "cell_type": "code",
   "execution_count": 23,
   "id": "ddbdcdad",
   "metadata": {
    "scrolled": true
   },
   "outputs": [
    {
     "name": "stdout",
     "output_type": "stream",
     "text": [
      "MAE = 49366.323740013155\n",
      "RMSE = 68485.34195442485\n",
      "R-squared = 0.6455254898473684\n"
     ]
    }
   ],
   "source": [
    "print(\"MAE = %s\" % metrics.meanAbsoluteError)\n",
    "print(\"RMSE = %s\" % metrics.rootMeanSquaredError)\n",
    "print(\"R-squared = %s\" % metrics.r2)"
   ]
  },
  {
   "cell_type": "markdown",
   "id": "2e14a0db",
   "metadata": {},
   "source": [
    "### линейная регрессия только числовые переменные"
   ]
  },
  {
   "cell_type": "code",
   "execution_count": 24,
   "id": "ce81b4b3",
   "metadata": {},
   "outputs": [],
   "source": [
    "lr = LinearRegression(labelCol=target, featuresCol='numerical_features_scaled')"
   ]
  },
  {
   "cell_type": "code",
   "execution_count": 25,
   "id": "7a7548aa",
   "metadata": {},
   "outputs": [],
   "source": [
    "model = lr.fit(train_data)"
   ]
  },
  {
   "cell_type": "code",
   "execution_count": 26,
   "id": "c1d9f742",
   "metadata": {},
   "outputs": [],
   "source": [
    "predictions = model.transform(test_data)\n",
    "\n",
    "predictedLabes = predictions.select(['prediction',\"median_house_value\"])"
   ]
  },
  {
   "cell_type": "code",
   "execution_count": 27,
   "id": "363493e2",
   "metadata": {},
   "outputs": [],
   "source": [
    "results_collect = predictedLabes.collect()\n",
    "results_list = [(float(i[0]), float(i[1])) for i in results_collect]\n",
    "scoreAndLabels = spark.sparkContext.parallelize(results_list)"
   ]
  },
  {
   "cell_type": "code",
   "execution_count": 28,
   "id": "46bb6eef",
   "metadata": {},
   "outputs": [],
   "source": [
    "metrics = RegressionMetrics(scoreAndLabels)"
   ]
  },
  {
   "cell_type": "code",
   "execution_count": 29,
   "id": "830b235f",
   "metadata": {},
   "outputs": [
    {
     "name": "stdout",
     "output_type": "stream",
     "text": [
      "MAE = 50530.87162094686\n",
      "RMSE = 69496.71941905603\n",
      "R-squared = 0.6349785697665222\n"
     ]
    }
   ],
   "source": [
    "print(\"MAE = %s\" % metrics.meanAbsoluteError)\n",
    "print(\"RMSE = %s\" % metrics.rootMeanSquaredError)\n",
    "print(\"R-squared = %s\" % metrics.r2)"
   ]
  },
  {
   "cell_type": "markdown",
   "id": "8ad853d2",
   "metadata": {
    "id": "757fd103"
   },
   "source": [
    "# Анализ результатов"
   ]
  },
  {
   "cell_type": "markdown",
   "id": "78acefba",
   "metadata": {
    "pycharm": {
     "name": "#%% md\n"
    }
   },
   "source": [
    "Использование категориальной переменной `ocean_proximity` улучшает метрики MAE, RMSE, R-squared."
   ]
  }
 ],
 "metadata": {
  "ExecuteTimeLog": [
   {
    "duration": 1247,
    "start_time": "2022-02-12T10:30:03.841Z"
   },
   {
    "duration": -307,
    "start_time": "2022-02-12T10:30:05.397Z"
   },
   {
    "duration": 18238,
    "start_time": "2022-02-12T10:30:36.696Z"
   },
   {
    "duration": 7665,
    "start_time": "2022-02-12T10:30:58.054Z"
   },
   {
    "duration": 29,
    "start_time": "2022-02-12T10:31:25.196Z"
   },
   {
    "duration": 547,
    "start_time": "2022-02-12T10:32:09.079Z"
   },
   {
    "duration": 737,
    "start_time": "2022-02-12T10:33:03.693Z"
   },
   {
    "duration": 4,
    "start_time": "2022-02-12T10:33:04.946Z"
   },
   {
    "duration": 189,
    "start_time": "2022-02-12T10:33:05.759Z"
   },
   {
    "duration": 53,
    "start_time": "2022-02-12T10:34:30.600Z"
   },
   {
    "duration": 141,
    "start_time": "2022-02-12T10:36:13.749Z"
   },
   {
    "duration": 281,
    "start_time": "2022-02-12T10:36:25.384Z"
   },
   {
    "duration": -311,
    "start_time": "2022-02-12T10:36:25.978Z"
   },
   {
    "duration": 330,
    "start_time": "2022-02-12T10:37:39.485Z"
   },
   {
    "duration": 244,
    "start_time": "2022-02-12T10:37:53.158Z"
   },
   {
    "duration": 1169,
    "start_time": "2022-02-12T10:53:17.287Z"
   },
   {
    "duration": 4,
    "start_time": "2022-02-12T10:53:19.152Z"
   },
   {
    "duration": 1238,
    "start_time": "2022-02-12T10:53:21.015Z"
   },
   {
    "duration": 43,
    "start_time": "2022-02-12T10:54:27.778Z"
   },
   {
    "duration": 153,
    "start_time": "2022-02-12T10:54:37.692Z"
   },
   {
    "duration": 253,
    "start_time": "2022-02-12T10:59:55.830Z"
   },
   {
    "duration": 349,
    "start_time": "2022-02-12T11:00:04.449Z"
   },
   {
    "duration": 232,
    "start_time": "2022-02-12T11:01:59.863Z"
   },
   {
    "duration": 4,
    "start_time": "2022-02-12T11:02:07.088Z"
   },
   {
    "duration": 257,
    "start_time": "2022-02-12T11:03:21.078Z"
   },
   {
    "duration": 259,
    "start_time": "2022-02-12T11:03:29.597Z"
   },
   {
    "duration": 672,
    "start_time": "2022-02-12T11:04:45.450Z"
   },
   {
    "duration": 314,
    "start_time": "2022-02-12T11:11:39.476Z"
   },
   {
    "duration": 2726,
    "start_time": "2022-02-12T11:12:00.205Z"
   },
   {
    "duration": 1381,
    "start_time": "2022-02-12T11:12:10.637Z"
   },
   {
    "duration": 520,
    "start_time": "2022-02-12T11:20:15.962Z"
   },
   {
    "duration": 1432,
    "start_time": "2022-02-12T11:21:11.608Z"
   },
   {
    "duration": 1184,
    "start_time": "2022-02-12T11:21:39.234Z"
   },
   {
    "duration": 816,
    "start_time": "2022-02-12T11:32:22.946Z"
   },
   {
    "duration": 12,
    "start_time": "2022-02-12T11:32:44.059Z"
   },
   {
    "duration": 224,
    "start_time": "2022-02-12T11:32:51.884Z"
   },
   {
    "duration": 223,
    "start_time": "2022-02-12T11:32:57.492Z"
   },
   {
    "duration": 234,
    "start_time": "2022-02-12T11:33:05.060Z"
   },
   {
    "duration": 213,
    "start_time": "2022-02-12T11:33:12.606Z"
   },
   {
    "duration": 477,
    "start_time": "2022-02-12T11:33:26.785Z"
   },
   {
    "duration": 237,
    "start_time": "2022-02-12T11:34:45.620Z"
   },
   {
    "duration": 15,
    "start_time": "2022-02-12T11:34:57.003Z"
   },
   {
    "duration": 312,
    "start_time": "2022-02-12T11:35:02.940Z"
   },
   {
    "duration": 103,
    "start_time": "2022-02-12T11:35:15.381Z"
   },
   {
    "duration": 74,
    "start_time": "2022-02-12T11:35:44.710Z"
   },
   {
    "duration": 322,
    "start_time": "2022-02-12T11:35:57.023Z"
   },
   {
    "duration": 257,
    "start_time": "2022-02-12T11:36:03.928Z"
   },
   {
    "duration": 96,
    "start_time": "2022-02-12T11:36:15.545Z"
   },
   {
    "duration": 263,
    "start_time": "2022-02-12T11:36:54.906Z"
   },
   {
    "duration": 241,
    "start_time": "2022-02-12T11:36:59.747Z"
   },
   {
    "duration": 312,
    "start_time": "2022-02-12T11:38:42.274Z"
   },
   {
    "duration": 15,
    "start_time": "2022-02-12T11:38:56.027Z"
   },
   {
    "duration": 284,
    "start_time": "2022-02-12T11:39:01.059Z"
   },
   {
    "duration": 254,
    "start_time": "2022-02-12T11:39:18.749Z"
   },
   {
    "duration": 219,
    "start_time": "2022-02-12T11:39:25.789Z"
   },
   {
    "duration": 253,
    "start_time": "2022-02-12T11:39:56.671Z"
   },
   {
    "duration": 12,
    "start_time": "2022-02-12T11:40:08.127Z"
   },
   {
    "duration": 229,
    "start_time": "2022-02-12T11:40:19.160Z"
   },
   {
    "duration": 13,
    "start_time": "2022-02-12T11:40:27.432Z"
   },
   {
    "duration": 184,
    "start_time": "2022-02-12T11:40:49.170Z"
   },
   {
    "duration": 405,
    "start_time": "2022-02-12T11:41:16.436Z"
   },
   {
    "duration": 228,
    "start_time": "2022-02-12T11:41:25.796Z"
   },
   {
    "duration": 251,
    "start_time": "2022-02-12T11:41:44.782Z"
   },
   {
    "duration": 792,
    "start_time": "2022-02-12T11:44:15.143Z"
   },
   {
    "duration": 342,
    "start_time": "2022-02-12T11:44:26.287Z"
   },
   {
    "duration": 244,
    "start_time": "2022-02-12T11:44:38.512Z"
   },
   {
    "duration": 236,
    "start_time": "2022-02-12T11:45:05.882Z"
   },
   {
    "duration": 222,
    "start_time": "2022-02-12T11:45:11.162Z"
   },
   {
    "duration": 286,
    "start_time": "2022-02-12T11:45:16.882Z"
   },
   {
    "duration": 410,
    "start_time": "2022-02-12T11:45:26.338Z"
   },
   {
    "duration": 258,
    "start_time": "2022-02-12T11:45:33.291Z"
   },
   {
    "duration": 233,
    "start_time": "2022-02-12T11:45:41.980Z"
   },
   {
    "duration": 122,
    "start_time": "2022-02-12T11:46:09.518Z"
   },
   {
    "duration": 195,
    "start_time": "2022-02-12T11:46:25.824Z"
   },
   {
    "duration": 243,
    "start_time": "2022-02-12T11:46:36.295Z"
   },
   {
    "duration": 185,
    "start_time": "2022-02-12T11:46:41.263Z"
   },
   {
    "duration": 790,
    "start_time": "2022-02-12T11:46:56.537Z"
   },
   {
    "duration": 269,
    "start_time": "2022-02-12T11:47:20.482Z"
   },
   {
    "duration": 327,
    "start_time": "2022-02-12T11:48:06.910Z"
   },
   {
    "duration": 257,
    "start_time": "2022-02-12T11:48:19.879Z"
   },
   {
    "duration": 308,
    "start_time": "2022-02-12T11:48:24.982Z"
   },
   {
    "duration": 239,
    "start_time": "2022-02-12T11:48:49.505Z"
   },
   {
    "duration": 20,
    "start_time": "2022-02-12T11:49:27.242Z"
   },
   {
    "duration": 322,
    "start_time": "2022-02-12T11:49:39.915Z"
   },
   {
    "duration": 12,
    "start_time": "2022-02-12T11:50:04.116Z"
   },
   {
    "duration": 108,
    "start_time": "2022-02-12T11:50:09.917Z"
   },
   {
    "duration": 494,
    "start_time": "2022-02-12T11:50:37.127Z"
   },
   {
    "duration": 243,
    "start_time": "2022-02-12T11:51:42.203Z"
   },
   {
    "duration": 508,
    "start_time": "2022-02-12T11:52:04.156Z"
   },
   {
    "duration": 333,
    "start_time": "2022-02-12T11:52:19.126Z"
   },
   {
    "duration": 460,
    "start_time": "2022-02-12T11:53:00.449Z"
   },
   {
    "duration": 268,
    "start_time": "2022-02-12T11:53:07.664Z"
   },
   {
    "duration": 304,
    "start_time": "2022-02-12T11:54:15.340Z"
   },
   {
    "duration": 199,
    "start_time": "2022-02-12T11:54:22.261Z"
   },
   {
    "duration": 520,
    "start_time": "2022-02-12T11:55:07.336Z"
   },
   {
    "duration": 90,
    "start_time": "2022-02-12T11:55:48.058Z"
   },
   {
    "duration": 73,
    "start_time": "2022-02-12T11:55:55.490Z"
   },
   {
    "duration": 79,
    "start_time": "2022-02-12T11:56:07.077Z"
   },
   {
    "duration": 689,
    "start_time": "2022-02-12T11:56:31.766Z"
   },
   {
    "duration": 377,
    "start_time": "2022-02-13T08:12:20.825Z"
   },
   {
    "duration": 21627,
    "start_time": "2022-02-13T08:12:24.505Z"
   },
   {
    "duration": 5716,
    "start_time": "2022-02-13T08:12:55.454Z"
   },
   {
    "duration": 60,
    "start_time": "2022-02-13T08:13:01.173Z"
   },
   {
    "duration": 8042,
    "start_time": "2022-02-13T08:13:01.237Z"
   },
   {
    "duration": 614,
    "start_time": "2022-02-13T08:13:39.265Z"
   },
   {
    "duration": 283,
    "start_time": "2022-02-13T08:13:52.802Z"
   },
   {
    "duration": 1493,
    "start_time": "2022-02-13T08:14:12.027Z"
   },
   {
    "duration": 1657,
    "start_time": "2022-02-13T08:14:13.523Z"
   },
   {
    "duration": 409,
    "start_time": "2022-02-13T08:21:26.493Z"
   },
   {
    "duration": 389,
    "start_time": "2022-02-13T08:21:46.911Z"
   },
   {
    "duration": 304,
    "start_time": "2022-02-13T08:23:44.255Z"
   },
   {
    "duration": 302,
    "start_time": "2022-02-13T08:24:38.123Z"
   },
   {
    "duration": 316,
    "start_time": "2022-02-13T08:24:48.723Z"
   },
   {
    "duration": 92,
    "start_time": "2022-02-13T08:26:13.704Z"
   },
   {
    "duration": 352,
    "start_time": "2022-02-13T08:26:19.776Z"
   },
   {
    "duration": 364,
    "start_time": "2022-02-13T08:26:50.307Z"
   },
   {
    "duration": 301,
    "start_time": "2022-02-13T08:27:09.788Z"
   },
   {
    "duration": 242,
    "start_time": "2022-02-13T08:27:23.549Z"
   },
   {
    "duration": 286,
    "start_time": "2022-02-13T08:28:58.693Z"
   },
   {
    "duration": 276,
    "start_time": "2022-02-13T08:29:24.140Z"
   },
   {
    "duration": 315,
    "start_time": "2022-02-13T08:29:42.909Z"
   },
   {
    "duration": 10,
    "start_time": "2022-02-13T08:31:10.747Z"
   },
   {
    "duration": 9,
    "start_time": "2022-02-13T08:31:25.835Z"
   },
   {
    "duration": 1692,
    "start_time": "2022-02-13T08:31:41.205Z"
   },
   {
    "duration": 421,
    "start_time": "2022-02-13T08:31:44.655Z"
   },
   {
    "duration": 394,
    "start_time": "2022-02-13T08:32:02.775Z"
   },
   {
    "duration": 337,
    "start_time": "2022-02-13T08:33:41.283Z"
   },
   {
    "duration": 673,
    "start_time": "2022-02-13T08:35:58.398Z"
   },
   {
    "duration": 192,
    "start_time": "2022-02-13T08:36:07.093Z"
   },
   {
    "duration": 381,
    "start_time": "2022-02-13T08:36:09.493Z"
   },
   {
    "duration": 320,
    "start_time": "2022-02-13T08:49:50.049Z"
   },
   {
    "duration": 255,
    "start_time": "2022-02-13T08:49:55.929Z"
   },
   {
    "duration": 268,
    "start_time": "2022-02-13T08:50:03.105Z"
   },
   {
    "duration": 235,
    "start_time": "2022-02-13T08:50:11.754Z"
   },
   {
    "duration": 480,
    "start_time": "2022-02-13T08:50:19.691Z"
   },
   {
    "duration": 221,
    "start_time": "2022-02-13T08:50:50.148Z"
   },
   {
    "duration": 107,
    "start_time": "2022-02-13T08:51:39.904Z"
   },
   {
    "duration": 489,
    "start_time": "2022-02-13T08:52:06.681Z"
   },
   {
    "duration": 4,
    "start_time": "2022-02-13T08:57:55.631Z"
   },
   {
    "duration": 96,
    "start_time": "2022-02-13T08:58:39.785Z"
   },
   {
    "duration": 1167,
    "start_time": "2022-02-13T08:59:12.211Z"
   },
   {
    "duration": 448,
    "start_time": "2022-02-13T08:59:44.951Z"
   },
   {
    "duration": 320,
    "start_time": "2022-02-13T09:00:05.194Z"
   },
   {
    "duration": 784,
    "start_time": "2022-02-13T09:00:47.946Z"
   },
   {
    "duration": 661,
    "start_time": "2022-02-13T09:02:47.929Z"
   },
   {
    "duration": 625,
    "start_time": "2022-02-13T09:03:32.141Z"
   },
   {
    "duration": 677,
    "start_time": "2022-02-13T09:04:41.561Z"
   },
   {
    "duration": 332,
    "start_time": "2022-02-13T09:05:29.472Z"
   },
   {
    "duration": 17377,
    "start_time": "2022-02-13T09:06:00.033Z"
   },
   {
    "duration": 5062,
    "start_time": "2022-02-13T09:06:17.414Z"
   },
   {
    "duration": 90,
    "start_time": "2022-02-13T09:06:22.479Z"
   },
   {
    "duration": 4505,
    "start_time": "2022-02-13T09:06:22.572Z"
   },
   {
    "duration": 3806,
    "start_time": "2022-02-13T09:06:27.080Z"
   },
   {
    "duration": 486,
    "start_time": "2022-02-13T09:06:30.889Z"
   },
   {
    "duration": 1413,
    "start_time": "2022-02-13T09:06:31.378Z"
   },
   {
    "duration": 1992,
    "start_time": "2022-02-13T09:06:32.793Z"
   },
   {
    "duration": 4,
    "start_time": "2022-02-13T09:06:34.789Z"
   },
   {
    "duration": 28,
    "start_time": "2022-02-13T09:06:34.868Z"
   },
   {
    "duration": 1805,
    "start_time": "2022-02-13T09:06:34.899Z"
   },
   {
    "duration": 486,
    "start_time": "2022-02-13T09:06:36.707Z"
   },
   {
    "duration": 294,
    "start_time": "2022-02-13T09:06:37.195Z"
   },
   {
    "duration": 494,
    "start_time": "2022-02-13T09:06:37.492Z"
   },
   {
    "duration": 192,
    "start_time": "2022-02-13T09:06:37.989Z"
   },
   {
    "duration": 104,
    "start_time": "2022-02-13T09:06:38.185Z"
   },
   {
    "duration": 514,
    "start_time": "2022-02-13T09:06:38.291Z"
   },
   {
    "duration": -253,
    "start_time": "2022-02-13T09:06:39.061Z"
   },
   {
    "duration": 632,
    "start_time": "2022-02-13T09:06:50.047Z"
   },
   {
    "duration": 1171,
    "start_time": "2022-02-13T09:07:34.843Z"
   },
   {
    "duration": 352,
    "start_time": "2022-02-13T09:07:54.171Z"
   },
   {
    "duration": 1069,
    "start_time": "2022-02-13T09:08:05.389Z"
   },
   {
    "duration": 585,
    "start_time": "2022-02-13T09:09:01.304Z"
   },
   {
    "duration": 593,
    "start_time": "2022-02-13T09:09:28.897Z"
   },
   {
    "duration": 433,
    "start_time": "2022-02-13T09:09:54.858Z"
   },
   {
    "duration": 1568,
    "start_time": "2022-02-13T09:22:27.530Z"
   },
   {
    "duration": 1181,
    "start_time": "2022-02-13T09:23:09.405Z"
   },
   {
    "duration": 18,
    "start_time": "2022-02-13T09:23:15.261Z"
   },
   {
    "duration": 12,
    "start_time": "2022-02-13T09:23:26.598Z"
   },
   {
    "duration": 1929,
    "start_time": "2022-02-13T09:24:35.193Z"
   },
   {
    "duration": 12,
    "start_time": "2022-02-13T09:24:45.890Z"
   },
   {
    "duration": 1218,
    "start_time": "2022-02-13T09:25:01.956Z"
   },
   {
    "duration": 1015,
    "start_time": "2022-02-13T09:25:53.495Z"
   },
   {
    "duration": 1125,
    "start_time": "2022-02-13T09:26:28.897Z"
   },
   {
    "duration": 367,
    "start_time": "2022-02-13T09:26:47.603Z"
   },
   {
    "duration": 12,
    "start_time": "2022-02-13T09:28:50.106Z"
   },
   {
    "duration": 924,
    "start_time": "2022-02-13T09:29:00.994Z"
   },
   {
    "duration": 971,
    "start_time": "2022-02-13T09:29:14.203Z"
   },
   {
    "duration": 12,
    "start_time": "2022-02-13T09:29:28.716Z"
   },
   {
    "duration": 842,
    "start_time": "2022-02-13T09:29:29.892Z"
   },
   {
    "duration": 363,
    "start_time": "2022-02-13T09:29:38.188Z"
   },
   {
    "duration": -114,
    "start_time": "2022-02-13T09:29:38.669Z"
   },
   {
    "duration": 12,
    "start_time": "2022-02-13T09:29:54.703Z"
   },
   {
    "duration": 996,
    "start_time": "2022-02-13T09:29:55.342Z"
   },
   {
    "duration": 12,
    "start_time": "2022-02-13T09:30:22.592Z"
   },
   {
    "duration": 987,
    "start_time": "2022-02-13T09:30:23.991Z"
   },
   {
    "duration": 17287,
    "start_time": "2022-02-13T09:30:41.294Z"
   },
   {
    "duration": 5119,
    "start_time": "2022-02-13T09:30:58.584Z"
   },
   {
    "duration": 81,
    "start_time": "2022-02-13T09:31:03.706Z"
   },
   {
    "duration": 4607,
    "start_time": "2022-02-13T09:31:03.791Z"
   },
   {
    "duration": 3928,
    "start_time": "2022-02-13T09:31:08.470Z"
   },
   {
    "duration": 472,
    "start_time": "2022-02-13T09:31:12.401Z"
   },
   {
    "duration": 1627,
    "start_time": "2022-02-13T09:31:12.876Z"
   },
   {
    "duration": 1764,
    "start_time": "2022-02-13T09:31:14.505Z"
   },
   {
    "duration": 6,
    "start_time": "2022-02-13T09:31:16.273Z"
   },
   {
    "duration": 98,
    "start_time": "2022-02-13T09:31:16.283Z"
   },
   {
    "duration": 1687,
    "start_time": "2022-02-13T09:31:16.383Z"
   },
   {
    "duration": 408,
    "start_time": "2022-02-13T09:31:18.073Z"
   },
   {
    "duration": 390,
    "start_time": "2022-02-13T09:31:18.484Z"
   },
   {
    "duration": 516,
    "start_time": "2022-02-13T09:31:18.877Z"
   },
   {
    "duration": 180,
    "start_time": "2022-02-13T09:31:19.396Z"
   },
   {
    "duration": 96,
    "start_time": "2022-02-13T09:31:19.579Z"
   },
   {
    "duration": 694,
    "start_time": "2022-02-13T09:31:19.678Z"
   },
   {
    "duration": 94,
    "start_time": "2022-02-13T09:31:20.375Z"
   },
   {
    "duration": 2642,
    "start_time": "2022-02-13T09:31:20.472Z"
   },
   {
    "duration": -109,
    "start_time": "2022-02-13T09:31:23.226Z"
   },
   {
    "duration": -110,
    "start_time": "2022-02-13T09:31:23.229Z"
   },
   {
    "duration": -110,
    "start_time": "2022-02-13T09:31:23.230Z"
   },
   {
    "duration": 17,
    "start_time": "2022-02-13T09:31:37.548Z"
   },
   {
    "duration": 1165,
    "start_time": "2022-02-13T09:31:38.157Z"
   },
   {
    "duration": 1284,
    "start_time": "2022-02-13T09:31:46.286Z"
   },
   {
    "duration": 342,
    "start_time": "2022-02-13T09:31:50.646Z"
   },
   {
    "duration": 92,
    "start_time": "2022-02-13T09:32:35.186Z"
   },
   {
    "duration": 6,
    "start_time": "2022-02-13T09:32:43.217Z"
   },
   {
    "duration": 892,
    "start_time": "2022-02-13T09:33:09.346Z"
   },
   {
    "duration": 866,
    "start_time": "2022-02-13T09:33:18.228Z"
   },
   {
    "duration": 952,
    "start_time": "2022-02-13T09:33:37.548Z"
   },
   {
    "duration": 307,
    "start_time": "2022-02-13T09:34:34.648Z"
   },
   {
    "duration": 1204,
    "start_time": "2022-02-13T09:34:40.818Z"
   },
   {
    "duration": 6,
    "start_time": "2022-02-13T09:34:53.162Z"
   },
   {
    "duration": 14,
    "start_time": "2022-02-13T09:35:41.739Z"
   },
   {
    "duration": 11,
    "start_time": "2022-02-13T09:35:45.548Z"
   },
   {
    "duration": 37,
    "start_time": "2022-02-13T09:36:22.951Z"
   },
   {
    "duration": 1900,
    "start_time": "2022-02-13T09:36:24.782Z"
   },
   {
    "duration": 16933,
    "start_time": "2022-02-13T09:40:04.978Z"
   },
   {
    "duration": 5815,
    "start_time": "2022-02-13T09:40:21.971Z"
   },
   {
    "duration": 80,
    "start_time": "2022-02-13T09:40:27.790Z"
   },
   {
    "duration": 4523,
    "start_time": "2022-02-13T09:40:27.874Z"
   },
   {
    "duration": 3714,
    "start_time": "2022-02-13T09:40:32.470Z"
   },
   {
    "duration": 482,
    "start_time": "2022-02-13T09:40:36.187Z"
   },
   {
    "duration": 1540,
    "start_time": "2022-02-13T09:40:36.672Z"
   },
   {
    "duration": 1763,
    "start_time": "2022-02-13T09:40:38.215Z"
   },
   {
    "duration": 4,
    "start_time": "2022-02-13T09:40:39.982Z"
   },
   {
    "duration": 98,
    "start_time": "2022-02-13T09:40:39.988Z"
   },
   {
    "duration": 1724,
    "start_time": "2022-02-13T09:40:40.088Z"
   },
   {
    "duration": 402,
    "start_time": "2022-02-13T09:40:41.871Z"
   },
   {
    "duration": 230,
    "start_time": "2022-02-13T09:40:42.276Z"
   },
   {
    "duration": 520,
    "start_time": "2022-02-13T09:40:42.569Z"
   },
   {
    "duration": 377,
    "start_time": "2022-02-13T09:40:43.092Z"
   },
   {
    "duration": 516,
    "start_time": "2022-02-13T09:40:43.472Z"
   },
   {
    "duration": 93,
    "start_time": "2022-02-13T09:40:43.991Z"
   },
   {
    "duration": 16,
    "start_time": "2022-02-13T09:40:44.088Z"
   },
   {
    "duration": 86,
    "start_time": "2022-02-13T09:40:44.108Z"
   },
   {
    "duration": 2957,
    "start_time": "2022-02-13T09:40:44.197Z"
   },
   {
    "duration": 1081,
    "start_time": "2022-02-13T09:41:31.193Z"
   },
   {
    "duration": 79,
    "start_time": "2022-02-13T09:43:33.984Z"
   },
   {
    "duration": 9,
    "start_time": "2022-02-13T09:43:44.169Z"
   },
   {
    "duration": 2142,
    "start_time": "2022-02-13T09:43:45.177Z"
   },
   {
    "duration": 5,
    "start_time": "2022-02-13T09:43:48.073Z"
   },
   {
    "duration": 193,
    "start_time": "2022-02-13T09:43:49.697Z"
   },
   {
    "duration": 349,
    "start_time": "2022-02-13T09:43:59.954Z"
   },
   {
    "duration": 14,
    "start_time": "2022-02-13T09:44:04.474Z"
   },
   {
    "duration": 408,
    "start_time": "2022-02-13T09:44:10.363Z"
   },
   {
    "duration": 377,
    "start_time": "2022-02-13T09:44:16.012Z"
   },
   {
    "duration": 391,
    "start_time": "2022-02-13T09:44:20.403Z"
   },
   {
    "duration": 328,
    "start_time": "2022-02-13T09:44:25.564Z"
   },
   {
    "duration": 311,
    "start_time": "2022-02-13T09:44:31.980Z"
   },
   {
    "duration": 337,
    "start_time": "2022-02-13T09:44:38.957Z"
   },
   {
    "duration": 368,
    "start_time": "2022-02-13T09:44:46.117Z"
   },
   {
    "duration": 308,
    "start_time": "2022-02-13T09:44:56.287Z"
   },
   {
    "duration": 425,
    "start_time": "2022-02-13T09:45:05.983Z"
   },
   {
    "duration": 536,
    "start_time": "2022-02-13T09:45:16.038Z"
   },
   {
    "duration": 363,
    "start_time": "2022-02-13T09:45:20.631Z"
   },
   {
    "duration": 334,
    "start_time": "2022-02-13T09:45:24.751Z"
   },
   {
    "duration": 300,
    "start_time": "2022-02-13T09:45:28.999Z"
   },
   {
    "duration": 1087,
    "start_time": "2022-02-13T09:46:00.498Z"
   },
   {
    "duration": 4,
    "start_time": "2022-02-13T09:46:38.468Z"
   },
   {
    "duration": 12,
    "start_time": "2022-02-13T09:46:38.707Z"
   },
   {
    "duration": 1147,
    "start_time": "2022-02-13T09:46:41.323Z"
   },
   {
    "duration": 4,
    "start_time": "2022-02-13T09:46:48.741Z"
   },
   {
    "duration": 10,
    "start_time": "2022-02-13T09:46:49.461Z"
   },
   {
    "duration": 646,
    "start_time": "2022-02-13T09:46:49.965Z"
   },
   {
    "duration": 307,
    "start_time": "2022-02-13T09:46:50.671Z"
   },
   {
    "duration": 97,
    "start_time": "2022-02-13T09:46:51.789Z"
   },
   {
    "duration": 260,
    "start_time": "2022-02-13T09:46:53.813Z"
   },
   {
    "duration": 27,
    "start_time": "2022-02-13T09:46:55.125Z"
   },
   {
    "duration": 1244,
    "start_time": "2022-02-13T09:46:56.133Z"
   },
   {
    "duration": 874,
    "start_time": "2022-02-13T09:47:10.911Z"
   },
   {
    "duration": 13,
    "start_time": "2022-02-13T09:47:14.199Z"
   },
   {
    "duration": 11,
    "start_time": "2022-02-13T09:47:14.966Z"
   },
   {
    "duration": 10,
    "start_time": "2022-02-13T09:47:19.366Z"
   },
   {
    "duration": 18022,
    "start_time": "2022-02-13T09:51:06.094Z"
   },
   {
    "duration": 5481,
    "start_time": "2022-02-13T09:51:24.119Z"
   },
   {
    "duration": 77,
    "start_time": "2022-02-13T09:51:29.604Z"
   },
   {
    "duration": 5087,
    "start_time": "2022-02-13T09:51:29.684Z"
   },
   {
    "duration": 4408,
    "start_time": "2022-02-13T09:51:34.774Z"
   },
   {
    "duration": 1585,
    "start_time": "2022-02-13T09:51:39.184Z"
   },
   {
    "duration": 1398,
    "start_time": "2022-02-13T09:51:40.773Z"
   },
   {
    "duration": 5,
    "start_time": "2022-02-13T09:51:42.177Z"
   },
   {
    "duration": 123,
    "start_time": "2022-02-13T09:51:42.185Z"
   },
   {
    "duration": 2505,
    "start_time": "2022-02-13T09:51:42.311Z"
   },
   {
    "duration": 557,
    "start_time": "2022-02-13T09:51:44.819Z"
   },
   {
    "duration": 395,
    "start_time": "2022-02-13T09:51:45.379Z"
   },
   {
    "duration": 699,
    "start_time": "2022-02-13T09:51:45.782Z"
   },
   {
    "duration": 186,
    "start_time": "2022-02-13T09:51:46.484Z"
   },
   {
    "duration": 1697,
    "start_time": "2022-02-13T09:51:46.673Z"
   },
   {
    "duration": 1205,
    "start_time": "2022-02-13T09:51:48.374Z"
   },
   {
    "duration": 96,
    "start_time": "2022-02-13T09:51:49.582Z"
   },
   {
    "duration": 88,
    "start_time": "2022-02-13T09:51:49.681Z"
   },
   {
    "duration": 33,
    "start_time": "2022-02-13T09:51:49.773Z"
   },
   {
    "duration": 16971,
    "start_time": "2022-02-13T10:02:35.214Z"
   },
   {
    "duration": 5431,
    "start_time": "2022-02-13T10:02:52.188Z"
   },
   {
    "duration": 67,
    "start_time": "2022-02-13T10:02:57.623Z"
   },
   {
    "duration": 4994,
    "start_time": "2022-02-13T10:02:57.693Z"
   },
   {
    "duration": 4631,
    "start_time": "2022-02-13T10:03:02.689Z"
   },
   {
    "duration": 1527,
    "start_time": "2022-02-13T10:03:07.371Z"
   },
   {
    "duration": 1368,
    "start_time": "2022-02-13T10:03:08.901Z"
   },
   {
    "duration": 8,
    "start_time": "2022-02-13T10:03:10.271Z"
   },
   {
    "duration": 100,
    "start_time": "2022-02-13T10:03:10.285Z"
   },
   {
    "duration": 1619,
    "start_time": "2022-02-13T10:03:10.388Z"
   },
   {
    "duration": 470,
    "start_time": "2022-02-13T10:03:12.011Z"
   },
   {
    "duration": 302,
    "start_time": "2022-02-13T10:03:12.484Z"
   },
   {
    "duration": 498,
    "start_time": "2022-02-13T10:03:12.789Z"
   },
   {
    "duration": 113,
    "start_time": "2022-02-13T10:03:13.290Z"
   },
   {
    "duration": 166,
    "start_time": "2022-02-13T10:03:13.406Z"
   },
   {
    "duration": 1502,
    "start_time": "2022-02-13T10:03:13.575Z"
   },
   {
    "duration": 1293,
    "start_time": "2022-02-13T10:03:15.080Z"
   },
   {
    "duration": 111,
    "start_time": "2022-02-13T10:03:16.377Z"
   },
   {
    "duration": 2799,
    "start_time": "2022-02-13T10:03:16.490Z"
   },
   {
    "duration": 104,
    "start_time": "2022-02-13T10:03:19.292Z"
   },
   {
    "duration": 3203,
    "start_time": "2022-02-13T10:23:47.681Z"
   },
   {
    "duration": 210,
    "start_time": "2022-02-13T10:23:50.678Z"
   },
   {
    "duration": 207,
    "start_time": "2022-02-13T10:23:50.682Z"
   },
   {
    "duration": 193,
    "start_time": "2022-02-13T10:23:50.698Z"
   },
   {
    "duration": 193,
    "start_time": "2022-02-13T10:23:50.700Z"
   },
   {
    "duration": 194,
    "start_time": "2022-02-13T10:23:50.701Z"
   },
   {
    "duration": 194,
    "start_time": "2022-02-13T10:23:50.702Z"
   },
   {
    "duration": 195,
    "start_time": "2022-02-13T10:23:50.703Z"
   },
   {
    "duration": 195,
    "start_time": "2022-02-13T10:23:50.704Z"
   },
   {
    "duration": 196,
    "start_time": "2022-02-13T10:23:50.705Z"
   },
   {
    "duration": 196,
    "start_time": "2022-02-13T10:23:50.706Z"
   },
   {
    "duration": 197,
    "start_time": "2022-02-13T10:23:50.707Z"
   },
   {
    "duration": 197,
    "start_time": "2022-02-13T10:23:50.708Z"
   },
   {
    "duration": 198,
    "start_time": "2022-02-13T10:23:50.709Z"
   },
   {
    "duration": 200,
    "start_time": "2022-02-13T10:23:50.710Z"
   },
   {
    "duration": 200,
    "start_time": "2022-02-13T10:23:50.711Z"
   },
   {
    "duration": 198,
    "start_time": "2022-02-13T10:23:50.715Z"
   },
   {
    "duration": 198,
    "start_time": "2022-02-13T10:23:50.716Z"
   },
   {
    "duration": 198,
    "start_time": "2022-02-13T10:23:50.717Z"
   },
   {
    "duration": 188,
    "start_time": "2022-02-13T10:23:50.729Z"
   },
   {
    "duration": 187,
    "start_time": "2022-02-13T10:23:50.731Z"
   },
   {
    "duration": 17214,
    "start_time": "2022-02-13T10:26:16.958Z"
   },
   {
    "duration": 18300,
    "start_time": "2022-02-13T10:26:40.670Z"
   },
   {
    "duration": 5341,
    "start_time": "2022-02-13T10:26:58.974Z"
   },
   {
    "duration": 66,
    "start_time": "2022-02-13T10:27:04.321Z"
   },
   {
    "duration": 4396,
    "start_time": "2022-02-13T10:27:04.389Z"
   },
   {
    "duration": 4085,
    "start_time": "2022-02-13T10:27:08.787Z"
   },
   {
    "duration": 1894,
    "start_time": "2022-02-13T10:27:12.875Z"
   },
   {
    "duration": 1319,
    "start_time": "2022-02-13T10:27:14.773Z"
   },
   {
    "duration": 4,
    "start_time": "2022-02-13T10:27:16.095Z"
   },
   {
    "duration": 105,
    "start_time": "2022-02-13T10:27:16.171Z"
   },
   {
    "duration": 1822,
    "start_time": "2022-02-13T10:27:16.278Z"
   },
   {
    "duration": 491,
    "start_time": "2022-02-13T10:27:18.103Z"
   },
   {
    "duration": 310,
    "start_time": "2022-02-13T10:27:18.596Z"
   },
   {
    "duration": 567,
    "start_time": "2022-02-13T10:27:18.909Z"
   },
   {
    "duration": 209,
    "start_time": "2022-02-13T10:27:19.479Z"
   },
   {
    "duration": 109,
    "start_time": "2022-02-13T10:27:19.690Z"
   },
   {
    "duration": 1375,
    "start_time": "2022-02-13T10:27:19.801Z"
   },
   {
    "duration": 1092,
    "start_time": "2022-02-13T10:27:21.179Z"
   },
   {
    "duration": 95,
    "start_time": "2022-02-13T10:27:22.274Z"
   },
   {
    "duration": 2919,
    "start_time": "2022-02-13T10:27:22.372Z"
   },
   {
    "duration": 118,
    "start_time": "2022-02-13T10:27:25.294Z"
   },
   {
    "duration": 8385,
    "start_time": "2022-02-13T10:27:25.414Z"
   },
   {
    "duration": 1340,
    "start_time": "2022-02-13T10:28:23.233Z"
   },
   {
    "duration": 77,
    "start_time": "2022-02-13T10:28:35.730Z"
   },
   {
    "duration": 86,
    "start_time": "2022-02-13T10:35:59.775Z"
   },
   {
    "duration": 111,
    "start_time": "2022-02-13T10:39:53.342Z"
   },
   {
    "duration": 464,
    "start_time": "2022-02-13T10:40:09.166Z"
   },
   {
    "duration": 354,
    "start_time": "2022-02-13T10:40:16.598Z"
   },
   {
    "duration": 1446,
    "start_time": "2022-02-13T10:41:47.524Z"
   },
   {
    "duration": 52,
    "start_time": "2022-02-13T10:41:52.455Z"
   },
   {
    "duration": 130,
    "start_time": "2022-02-13T10:42:19.959Z"
   },
   {
    "duration": 6,
    "start_time": "2022-02-13T10:42:38.432Z"
   },
   {
    "duration": 6,
    "start_time": "2022-02-13T10:42:53.298Z"
   },
   {
    "duration": 91,
    "start_time": "2022-02-13T10:45:02.417Z"
   },
   {
    "duration": 1916,
    "start_time": "2022-02-13T10:45:02.993Z"
   },
   {
    "duration": 49,
    "start_time": "2022-02-13T10:45:05.569Z"
   },
   {
    "duration": 66,
    "start_time": "2022-02-13T10:45:05.832Z"
   },
   {
    "duration": 10,
    "start_time": "2022-02-13T10:51:31.569Z"
   },
   {
    "duration": 6208,
    "start_time": "2022-02-13T10:51:32.161Z"
   },
   {
    "duration": 93,
    "start_time": "2022-02-13T10:51:42.386Z"
   },
   {
    "duration": 1406,
    "start_time": "2022-02-13T10:51:42.482Z"
   },
   {
    "duration": 111,
    "start_time": "2022-02-13T10:51:43.892Z"
   },
   {
    "duration": 191,
    "start_time": "2022-02-13T10:51:44.006Z"
   },
   {
    "duration": 2007,
    "start_time": "2022-02-13T10:57:06.199Z"
   },
   {
    "duration": 306,
    "start_time": "2022-02-13T10:59:44.385Z"
   },
   {
    "duration": 7,
    "start_time": "2022-02-13T10:59:49.433Z"
   },
   {
    "duration": 86,
    "start_time": "2022-02-13T11:00:00.993Z"
   },
   {
    "duration": 113,
    "start_time": "2022-02-13T11:00:06.666Z"
   },
   {
    "duration": 49,
    "start_time": "2022-02-13T11:00:23.635Z"
   },
   {
    "duration": 16751,
    "start_time": "2022-02-13T11:17:21.623Z"
   },
   {
    "duration": 5107,
    "start_time": "2022-02-13T11:17:38.378Z"
   },
   {
    "duration": 82,
    "start_time": "2022-02-13T11:17:43.488Z"
   },
   {
    "duration": 8411,
    "start_time": "2022-02-13T11:17:43.573Z"
   },
   {
    "duration": 1590,
    "start_time": "2022-02-13T11:17:51.987Z"
   },
   {
    "duration": 1088,
    "start_time": "2022-02-13T11:17:53.580Z"
   },
   {
    "duration": 29,
    "start_time": "2022-02-13T11:17:54.673Z"
   },
   {
    "duration": 2065,
    "start_time": "2022-02-13T11:17:54.705Z"
   },
   {
    "duration": 504,
    "start_time": "2022-02-13T11:17:56.773Z"
   },
   {
    "duration": 321,
    "start_time": "2022-02-13T11:17:57.281Z"
   },
   {
    "duration": 588,
    "start_time": "2022-02-13T11:17:57.605Z"
   },
   {
    "duration": 283,
    "start_time": "2022-02-13T11:17:58.196Z"
   },
   {
    "duration": 98,
    "start_time": "2022-02-13T11:17:58.483Z"
   },
   {
    "duration": 1415,
    "start_time": "2022-02-13T11:17:58.585Z"
   },
   {
    "duration": 1275,
    "start_time": "2022-02-13T11:18:00.002Z"
   },
   {
    "duration": 94,
    "start_time": "2022-02-13T11:18:01.280Z"
   },
   {
    "duration": 5202,
    "start_time": "2022-02-13T11:18:01.377Z"
   },
   {
    "duration": 97,
    "start_time": "2022-02-13T11:18:06.582Z"
   },
   {
    "duration": 8097,
    "start_time": "2022-02-13T11:18:06.682Z"
   },
   {
    "duration": 204,
    "start_time": "2022-02-13T11:18:14.782Z"
   },
   {
    "duration": 1810,
    "start_time": "2022-02-13T11:18:14.989Z"
   },
   {
    "duration": 176,
    "start_time": "2022-02-13T11:18:16.804Z"
   },
   {
    "duration": 204,
    "start_time": "2022-02-13T11:18:16.983Z"
   },
   {
    "duration": 81,
    "start_time": "2022-02-13T11:18:17.189Z"
   },
   {
    "duration": 7714,
    "start_time": "2022-02-13T11:18:17.273Z"
   },
   {
    "duration": 194,
    "start_time": "2022-02-13T11:18:24.990Z"
   },
   {
    "duration": 1493,
    "start_time": "2022-02-13T11:18:25.187Z"
   },
   {
    "duration": 115,
    "start_time": "2022-02-13T11:18:26.683Z"
   },
   {
    "duration": 182,
    "start_time": "2022-02-13T11:18:26.800Z"
   },
   {
    "duration": 22775,
    "start_time": "2022-02-13T21:20:58.693Z"
   },
   {
    "duration": 5182,
    "start_time": "2022-02-13T21:21:21.472Z"
   },
   {
    "duration": 91,
    "start_time": "2022-02-13T21:21:26.657Z"
   },
   {
    "duration": 8228,
    "start_time": "2022-02-13T21:21:26.751Z"
   },
   {
    "duration": 1012,
    "start_time": "2022-02-13T21:21:35.050Z"
   },
   {
    "duration": 6,
    "start_time": "2022-02-13T21:23:31.882Z"
   },
   {
    "duration": 548,
    "start_time": "2022-02-13T21:24:42.012Z"
   },
   {
    "duration": 17,
    "start_time": "2022-02-13T21:24:52.522Z"
   },
   {
    "duration": 464,
    "start_time": "2022-02-13T21:24:58.100Z"
   },
   {
    "duration": 679,
    "start_time": "2022-02-13T21:25:03.975Z"
   },
   {
    "duration": 17,
    "start_time": "2022-02-13T21:26:45.344Z"
   },
   {
    "duration": 303,
    "start_time": "2022-02-13T21:26:56.962Z"
   },
   {
    "duration": 566,
    "start_time": "2022-02-13T21:27:16.400Z"
   },
   {
    "duration": 16927,
    "start_time": "2022-02-13T21:31:00.756Z"
   },
   {
    "duration": 5198,
    "start_time": "2022-02-13T21:31:17.687Z"
   },
   {
    "duration": 91,
    "start_time": "2022-02-13T21:31:22.888Z"
   },
   {
    "duration": 7681,
    "start_time": "2022-02-13T21:31:22.983Z"
   },
   {
    "duration": 1926,
    "start_time": "2022-02-13T21:31:30.666Z"
   },
   {
    "duration": 981,
    "start_time": "2022-02-13T21:31:32.594Z"
   },
   {
    "duration": 112,
    "start_time": "2022-02-13T21:34:07.512Z"
   },
   {
    "duration": 1886,
    "start_time": "2022-02-13T21:34:11.590Z"
   },
   {
    "duration": 448,
    "start_time": "2022-02-13T21:34:35.400Z"
   },
   {
    "duration": 330,
    "start_time": "2022-02-13T21:35:48.944Z"
   },
   {
    "duration": 601,
    "start_time": "2022-02-13T21:35:51.948Z"
   },
   {
    "duration": 17128,
    "start_time": "2022-02-13T21:44:26.639Z"
   },
   {
    "duration": 5784,
    "start_time": "2022-02-13T21:44:43.770Z"
   },
   {
    "duration": 28,
    "start_time": "2022-02-13T21:44:49.558Z"
   },
   {
    "duration": 8199,
    "start_time": "2022-02-13T21:44:49.651Z"
   },
   {
    "duration": 1628,
    "start_time": "2022-02-13T21:44:57.853Z"
   },
   {
    "duration": 1096,
    "start_time": "2022-02-13T21:44:59.483Z"
   },
   {
    "duration": 95,
    "start_time": "2022-02-13T21:45:00.581Z"
   },
   {
    "duration": 2004,
    "start_time": "2022-02-13T21:45:00.678Z"
   },
   {
    "duration": 590,
    "start_time": "2022-02-13T21:45:02.686Z"
   },
   {
    "duration": 411,
    "start_time": "2022-02-13T21:45:03.351Z"
   },
   {
    "duration": 789,
    "start_time": "2022-02-13T21:45:03.766Z"
   },
   {
    "duration": 128,
    "start_time": "2022-02-13T21:45:04.558Z"
   },
   {
    "duration": 95,
    "start_time": "2022-02-13T21:45:04.753Z"
   },
   {
    "duration": 1625,
    "start_time": "2022-02-13T21:45:04.851Z"
   },
   {
    "duration": 1272,
    "start_time": "2022-02-13T21:45:06.478Z"
   },
   {
    "duration": 97,
    "start_time": "2022-02-13T21:45:07.753Z"
   },
   {
    "duration": 4595,
    "start_time": "2022-02-13T21:45:07.853Z"
   },
   {
    "duration": 122,
    "start_time": "2022-02-13T21:45:12.452Z"
   },
   {
    "duration": 7194,
    "start_time": "2022-02-13T21:45:12.577Z"
   },
   {
    "duration": 194,
    "start_time": "2022-02-13T21:45:19.774Z"
   },
   {
    "duration": 1985,
    "start_time": "2022-02-13T21:45:19.970Z"
   },
   {
    "duration": 126,
    "start_time": "2022-02-13T21:45:21.957Z"
   },
   {
    "duration": 278,
    "start_time": "2022-02-13T21:45:22.086Z"
   },
   {
    "duration": 10,
    "start_time": "2022-02-13T21:45:22.368Z"
   },
   {
    "duration": 6407,
    "start_time": "2022-02-13T21:45:22.449Z"
   },
   {
    "duration": 197,
    "start_time": "2022-02-13T21:45:28.858Z"
   },
   {
    "duration": 1296,
    "start_time": "2022-02-13T21:45:29.059Z"
   },
   {
    "duration": 107,
    "start_time": "2022-02-13T21:45:30.358Z"
   },
   {
    "duration": 187,
    "start_time": "2022-02-13T21:45:30.467Z"
   },
   {
    "duration": 5326,
    "start_time": "2022-02-13T21:45:30.657Z"
   },
   {
    "duration": 430,
    "start_time": "2022-02-13T21:45:35.986Z"
   },
   {
    "duration": 528,
    "start_time": "2022-02-13T21:45:35.891Z"
   },
   {
    "duration": 528,
    "start_time": "2022-02-13T21:45:35.892Z"
   },
   {
    "duration": 4496,
    "start_time": "2022-02-13T21:46:20.869Z"
   },
   {
    "duration": 308,
    "start_time": "2022-02-13T21:46:48.170Z"
   },
   {
    "duration": 8,
    "start_time": "2022-02-13T21:47:22.219Z"
   },
   {
    "duration": 7670,
    "start_time": "2022-02-13T21:47:29.560Z"
   },
   {
    "duration": 23,
    "start_time": "2022-02-13T21:48:35.889Z"
   },
   {
    "duration": 12,
    "start_time": "2022-02-13T21:49:17.999Z"
   },
   {
    "duration": 5,
    "start_time": "2022-02-13T21:49:26.158Z"
   },
   {
    "duration": 13,
    "start_time": "2022-02-13T21:49:33.609Z"
   },
   {
    "duration": 1670,
    "start_time": "2022-02-13T21:49:36.727Z"
   },
   {
    "duration": 16890,
    "start_time": "2022-02-13T21:50:33.597Z"
   },
   {
    "duration": 4801,
    "start_time": "2022-02-13T21:50:50.490Z"
   },
   {
    "duration": 64,
    "start_time": "2022-02-13T21:50:55.294Z"
   },
   {
    "duration": 8111,
    "start_time": "2022-02-13T21:50:55.361Z"
   },
   {
    "duration": 1816,
    "start_time": "2022-02-13T21:51:03.550Z"
   },
   {
    "duration": 1199,
    "start_time": "2022-02-13T21:51:05.370Z"
   },
   {
    "duration": 103,
    "start_time": "2022-02-13T21:51:06.572Z"
   },
   {
    "duration": 1980,
    "start_time": "2022-02-13T21:51:06.678Z"
   },
   {
    "duration": 605,
    "start_time": "2022-02-13T21:51:08.662Z"
   },
   {
    "duration": 287,
    "start_time": "2022-02-13T21:51:09.271Z"
   },
   {
    "duration": 513,
    "start_time": "2022-02-13T21:51:09.562Z"
   },
   {
    "duration": 221,
    "start_time": "2022-02-13T21:51:10.150Z"
   },
   {
    "duration": 109,
    "start_time": "2022-02-13T21:51:10.374Z"
   },
   {
    "duration": 1493,
    "start_time": "2022-02-13T21:51:10.486Z"
   },
   {
    "duration": 1182,
    "start_time": "2022-02-13T21:51:11.983Z"
   },
   {
    "duration": 99,
    "start_time": "2022-02-13T21:51:13.168Z"
   },
   {
    "duration": 4479,
    "start_time": "2022-02-13T21:51:13.271Z"
   },
   {
    "duration": 29,
    "start_time": "2022-02-13T21:51:17.753Z"
   },
   {
    "duration": 7070,
    "start_time": "2022-02-13T21:51:17.784Z"
   },
   {
    "duration": 205,
    "start_time": "2022-02-13T21:51:24.857Z"
   },
   {
    "duration": 1586,
    "start_time": "2022-02-13T21:51:25.065Z"
   },
   {
    "duration": 116,
    "start_time": "2022-02-13T21:51:26.654Z"
   },
   {
    "duration": 185,
    "start_time": "2022-02-13T21:51:26.772Z"
   },
   {
    "duration": 11,
    "start_time": "2022-02-13T21:51:26.959Z"
   },
   {
    "duration": 7475,
    "start_time": "2022-02-13T21:51:26.973Z"
   },
   {
    "duration": 130,
    "start_time": "2022-02-13T21:51:34.451Z"
   },
   {
    "duration": 1226,
    "start_time": "2022-02-13T21:51:34.651Z"
   },
   {
    "duration": 101,
    "start_time": "2022-02-13T21:51:35.880Z"
   },
   {
    "duration": 188,
    "start_time": "2022-02-13T21:51:35.984Z"
   },
   {
    "duration": 5494,
    "start_time": "2022-02-13T21:51:36.174Z"
   },
   {
    "duration": 92,
    "start_time": "2022-02-13T21:51:41.670Z"
   },
   {
    "duration": 11,
    "start_time": "2022-02-13T21:51:41.764Z"
   },
   {
    "duration": 1590,
    "start_time": "2022-02-13T21:51:41.777Z"
   }
  ],
  "colab": {
   "name": "PySparkSprint.ipynb",
   "provenance": []
  },
  "kernelspec": {
   "display_name": "Python 3 (ipykernel)",
   "language": "python",
   "name": "python3"
  },
  "language_info": {
   "codemirror_mode": {
    "name": "ipython",
    "version": 3
   },
   "file_extension": ".py",
   "mimetype": "text/x-python",
   "name": "python",
   "nbconvert_exporter": "python",
   "pygments_lexer": "ipython3",
   "version": "3.9.5"
  },
  "toc": {
   "base_numbering": 1,
   "nav_menu": {},
   "number_sections": true,
   "sideBar": true,
   "skip_h1_title": true,
   "title_cell": "Table of Contents",
   "title_sidebar": "Contents",
   "toc_cell": false,
   "toc_position": {},
   "toc_section_display": true,
   "toc_window_display": false
  }
 },
 "nbformat": 4,
 "nbformat_minor": 5
}