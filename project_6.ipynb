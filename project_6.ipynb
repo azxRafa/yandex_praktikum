{
 "cells": [
  {
   "cell_type": "markdown",
   "metadata": {},
   "source": [
    "# Рекомендация тарифов"
   ]
  },
  {
   "cell_type": "markdown",
   "metadata": {},
   "source": [
    "В вашем распоряжении данные о поведении клиентов, которые уже перешли на эти тарифы (из проекта курса «Статистический анализ данных»). Нужно построить модель для задачи классификации, которая выберет подходящий тариф. Предобработка данных не понадобится — вы её уже сделали.\n",
    "\n",
    "Постройте модель с максимально большим значением *accuracy*. Чтобы сдать проект успешно, нужно довести долю правильных ответов по крайней мере до 0.75. Проверьте *accuracy* на тестовой выборке самостоятельно."
   ]
  },
  {
   "cell_type": "markdown",
   "metadata": {},
   "source": [
    "## Откройте и изучите файл"
   ]
  },
  {
   "cell_type": "code",
   "execution_count": 1,
   "metadata": {},
   "outputs": [],
   "source": [
    "import pandas as pd\n",
    "from sklearn.model_selection import train_test_split\n",
    "from sklearn.tree import DecisionTreeClassifier\n",
    "from sklearn.metrics import accuracy_score\n",
    "from sklearn.ensemble import RandomForestClassifier\n",
    "from sklearn.linear_model import LogisticRegression\n",
    "from sklearn.metrics import classification_report\n",
    "from pandas.plotting import scatter_matrix\n",
    "from sklearn.dummy import DummyClassifier\n",
    "\n",
    "from warnings import simplefilter\n",
    "# ignore all future warnings\n",
    "simplefilter(action='ignore', category=FutureWarning)"
   ]
  },
  {
   "cell_type": "code",
   "execution_count": 2,
   "metadata": {},
   "outputs": [],
   "source": [
    "df = pd.read_csv(url)"
   ]
  },
  {
   "cell_type": "code",
   "execution_count": 3,
   "metadata": {},
   "outputs": [
    {
     "data": {
      "text/html": [
       "<div>\n",
       "<style scoped>\n",
       "    .dataframe tbody tr th:only-of-type {\n",
       "        vertical-align: middle;\n",
       "    }\n",
       "\n",
       "    .dataframe tbody tr th {\n",
       "        vertical-align: top;\n",
       "    }\n",
       "\n",
       "    .dataframe thead th {\n",
       "        text-align: right;\n",
       "    }\n",
       "</style>\n",
       "<table border=\"1\" class=\"dataframe\">\n",
       "  <thead>\n",
       "    <tr style=\"text-align: right;\">\n",
       "      <th></th>\n",
       "      <th>calls</th>\n",
       "      <th>minutes</th>\n",
       "      <th>messages</th>\n",
       "      <th>mb_used</th>\n",
       "      <th>is_ultra</th>\n",
       "    </tr>\n",
       "  </thead>\n",
       "  <tbody>\n",
       "    <tr>\n",
       "      <th>0</th>\n",
       "      <td>40.0</td>\n",
       "      <td>311.90</td>\n",
       "      <td>83.0</td>\n",
       "      <td>19915.42</td>\n",
       "      <td>0</td>\n",
       "    </tr>\n",
       "    <tr>\n",
       "      <th>1</th>\n",
       "      <td>85.0</td>\n",
       "      <td>516.75</td>\n",
       "      <td>56.0</td>\n",
       "      <td>22696.96</td>\n",
       "      <td>0</td>\n",
       "    </tr>\n",
       "    <tr>\n",
       "      <th>2</th>\n",
       "      <td>77.0</td>\n",
       "      <td>467.66</td>\n",
       "      <td>86.0</td>\n",
       "      <td>21060.45</td>\n",
       "      <td>0</td>\n",
       "    </tr>\n",
       "    <tr>\n",
       "      <th>3</th>\n",
       "      <td>106.0</td>\n",
       "      <td>745.53</td>\n",
       "      <td>81.0</td>\n",
       "      <td>8437.39</td>\n",
       "      <td>1</td>\n",
       "    </tr>\n",
       "    <tr>\n",
       "      <th>4</th>\n",
       "      <td>66.0</td>\n",
       "      <td>418.74</td>\n",
       "      <td>1.0</td>\n",
       "      <td>14502.75</td>\n",
       "      <td>0</td>\n",
       "    </tr>\n",
       "    <tr>\n",
       "      <th>...</th>\n",
       "      <td>...</td>\n",
       "      <td>...</td>\n",
       "      <td>...</td>\n",
       "      <td>...</td>\n",
       "      <td>...</td>\n",
       "    </tr>\n",
       "    <tr>\n",
       "      <th>3209</th>\n",
       "      <td>122.0</td>\n",
       "      <td>910.98</td>\n",
       "      <td>20.0</td>\n",
       "      <td>35124.90</td>\n",
       "      <td>1</td>\n",
       "    </tr>\n",
       "    <tr>\n",
       "      <th>3210</th>\n",
       "      <td>25.0</td>\n",
       "      <td>190.36</td>\n",
       "      <td>0.0</td>\n",
       "      <td>3275.61</td>\n",
       "      <td>0</td>\n",
       "    </tr>\n",
       "    <tr>\n",
       "      <th>3211</th>\n",
       "      <td>97.0</td>\n",
       "      <td>634.44</td>\n",
       "      <td>70.0</td>\n",
       "      <td>13974.06</td>\n",
       "      <td>0</td>\n",
       "    </tr>\n",
       "    <tr>\n",
       "      <th>3212</th>\n",
       "      <td>64.0</td>\n",
       "      <td>462.32</td>\n",
       "      <td>90.0</td>\n",
       "      <td>31239.78</td>\n",
       "      <td>0</td>\n",
       "    </tr>\n",
       "    <tr>\n",
       "      <th>3213</th>\n",
       "      <td>80.0</td>\n",
       "      <td>566.09</td>\n",
       "      <td>6.0</td>\n",
       "      <td>29480.52</td>\n",
       "      <td>1</td>\n",
       "    </tr>\n",
       "  </tbody>\n",
       "</table>\n",
       "<p>3214 rows × 5 columns</p>\n",
       "</div>"
      ],
      "text/plain": [
       "      calls  minutes  messages   mb_used  is_ultra\n",
       "0      40.0   311.90      83.0  19915.42         0\n",
       "1      85.0   516.75      56.0  22696.96         0\n",
       "2      77.0   467.66      86.0  21060.45         0\n",
       "3     106.0   745.53      81.0   8437.39         1\n",
       "4      66.0   418.74       1.0  14502.75         0\n",
       "...     ...      ...       ...       ...       ...\n",
       "3209  122.0   910.98      20.0  35124.90         1\n",
       "3210   25.0   190.36       0.0   3275.61         0\n",
       "3211   97.0   634.44      70.0  13974.06         0\n",
       "3212   64.0   462.32      90.0  31239.78         0\n",
       "3213   80.0   566.09       6.0  29480.52         1\n",
       "\n",
       "[3214 rows x 5 columns]"
      ]
     },
     "execution_count": 3,
     "metadata": {},
     "output_type": "execute_result"
    }
   ],
   "source": [
    "df"
   ]
  },
  {
   "cell_type": "code",
   "execution_count": 4,
   "metadata": {
    "scrolled": true
   },
   "outputs": [
    {
     "name": "stdout",
     "output_type": "stream",
     "text": [
      "<class 'pandas.core.frame.DataFrame'>\n",
      "RangeIndex: 3214 entries, 0 to 3213\n",
      "Data columns (total 5 columns):\n",
      " #   Column    Non-Null Count  Dtype  \n",
      "---  ------    --------------  -----  \n",
      " 0   calls     3214 non-null   float64\n",
      " 1   minutes   3214 non-null   float64\n",
      " 2   messages  3214 non-null   float64\n",
      " 3   mb_used   3214 non-null   float64\n",
      " 4   is_ultra  3214 non-null   int64  \n",
      "dtypes: float64(4), int64(1)\n",
      "memory usage: 125.7 KB\n"
     ]
    }
   ],
   "source": [
    "df.info()"
   ]
  },
  {
   "cell_type": "code",
   "execution_count": 5,
   "metadata": {},
   "outputs": [
    {
     "data": {
      "text/html": [
       "<div>\n",
       "<style scoped>\n",
       "    .dataframe tbody tr th:only-of-type {\n",
       "        vertical-align: middle;\n",
       "    }\n",
       "\n",
       "    .dataframe tbody tr th {\n",
       "        vertical-align: top;\n",
       "    }\n",
       "\n",
       "    .dataframe thead th {\n",
       "        text-align: right;\n",
       "    }\n",
       "</style>\n",
       "<table border=\"1\" class=\"dataframe\">\n",
       "  <thead>\n",
       "    <tr style=\"text-align: right;\">\n",
       "      <th></th>\n",
       "      <th>calls</th>\n",
       "      <th>minutes</th>\n",
       "      <th>messages</th>\n",
       "      <th>mb_used</th>\n",
       "      <th>is_ultra</th>\n",
       "    </tr>\n",
       "  </thead>\n",
       "  <tbody>\n",
       "    <tr>\n",
       "      <th>count</th>\n",
       "      <td>3214.000000</td>\n",
       "      <td>3214.000000</td>\n",
       "      <td>3214.000000</td>\n",
       "      <td>3214.000000</td>\n",
       "      <td>3214.000000</td>\n",
       "    </tr>\n",
       "    <tr>\n",
       "      <th>mean</th>\n",
       "      <td>63.038892</td>\n",
       "      <td>438.208787</td>\n",
       "      <td>38.281269</td>\n",
       "      <td>17207.673836</td>\n",
       "      <td>0.306472</td>\n",
       "    </tr>\n",
       "    <tr>\n",
       "      <th>std</th>\n",
       "      <td>33.236368</td>\n",
       "      <td>234.569872</td>\n",
       "      <td>36.148326</td>\n",
       "      <td>7570.968246</td>\n",
       "      <td>0.461100</td>\n",
       "    </tr>\n",
       "    <tr>\n",
       "      <th>min</th>\n",
       "      <td>0.000000</td>\n",
       "      <td>0.000000</td>\n",
       "      <td>0.000000</td>\n",
       "      <td>0.000000</td>\n",
       "      <td>0.000000</td>\n",
       "    </tr>\n",
       "    <tr>\n",
       "      <th>25%</th>\n",
       "      <td>40.000000</td>\n",
       "      <td>274.575000</td>\n",
       "      <td>9.000000</td>\n",
       "      <td>12491.902500</td>\n",
       "      <td>0.000000</td>\n",
       "    </tr>\n",
       "    <tr>\n",
       "      <th>50%</th>\n",
       "      <td>62.000000</td>\n",
       "      <td>430.600000</td>\n",
       "      <td>30.000000</td>\n",
       "      <td>16943.235000</td>\n",
       "      <td>0.000000</td>\n",
       "    </tr>\n",
       "    <tr>\n",
       "      <th>75%</th>\n",
       "      <td>82.000000</td>\n",
       "      <td>571.927500</td>\n",
       "      <td>57.000000</td>\n",
       "      <td>21424.700000</td>\n",
       "      <td>1.000000</td>\n",
       "    </tr>\n",
       "    <tr>\n",
       "      <th>max</th>\n",
       "      <td>244.000000</td>\n",
       "      <td>1632.060000</td>\n",
       "      <td>224.000000</td>\n",
       "      <td>49745.730000</td>\n",
       "      <td>1.000000</td>\n",
       "    </tr>\n",
       "  </tbody>\n",
       "</table>\n",
       "</div>"
      ],
      "text/plain": [
       "             calls      minutes     messages       mb_used     is_ultra\n",
       "count  3214.000000  3214.000000  3214.000000   3214.000000  3214.000000\n",
       "mean     63.038892   438.208787    38.281269  17207.673836     0.306472\n",
       "std      33.236368   234.569872    36.148326   7570.968246     0.461100\n",
       "min       0.000000     0.000000     0.000000      0.000000     0.000000\n",
       "25%      40.000000   274.575000     9.000000  12491.902500     0.000000\n",
       "50%      62.000000   430.600000    30.000000  16943.235000     0.000000\n",
       "75%      82.000000   571.927500    57.000000  21424.700000     1.000000\n",
       "max     244.000000  1632.060000   224.000000  49745.730000     1.000000"
      ]
     },
     "execution_count": 5,
     "metadata": {},
     "output_type": "execute_result"
    }
   ],
   "source": [
    "df.describe()"
   ]
  },
  {
   "cell_type": "code",
   "execution_count": 6,
   "metadata": {},
   "outputs": [
    {
     "data": {
      "text/html": [
       "<div>\n",
       "<style scoped>\n",
       "    .dataframe tbody tr th:only-of-type {\n",
       "        vertical-align: middle;\n",
       "    }\n",
       "\n",
       "    .dataframe tbody tr th {\n",
       "        vertical-align: top;\n",
       "    }\n",
       "\n",
       "    .dataframe thead th {\n",
       "        text-align: right;\n",
       "    }\n",
       "</style>\n",
       "<table border=\"1\" class=\"dataframe\">\n",
       "  <thead>\n",
       "    <tr style=\"text-align: right;\">\n",
       "      <th></th>\n",
       "      <th>calls</th>\n",
       "      <th>minutes</th>\n",
       "      <th>messages</th>\n",
       "      <th>mb_used</th>\n",
       "      <th>is_ultra</th>\n",
       "    </tr>\n",
       "  </thead>\n",
       "  <tbody>\n",
       "    <tr>\n",
       "      <th>calls</th>\n",
       "      <td>1.000000</td>\n",
       "      <td>0.982083</td>\n",
       "      <td>0.177385</td>\n",
       "      <td>0.286442</td>\n",
       "      <td>0.207122</td>\n",
       "    </tr>\n",
       "    <tr>\n",
       "      <th>minutes</th>\n",
       "      <td>0.982083</td>\n",
       "      <td>1.000000</td>\n",
       "      <td>0.173110</td>\n",
       "      <td>0.280967</td>\n",
       "      <td>0.206955</td>\n",
       "    </tr>\n",
       "    <tr>\n",
       "      <th>messages</th>\n",
       "      <td>0.177385</td>\n",
       "      <td>0.173110</td>\n",
       "      <td>1.000000</td>\n",
       "      <td>0.195721</td>\n",
       "      <td>0.203830</td>\n",
       "    </tr>\n",
       "    <tr>\n",
       "      <th>mb_used</th>\n",
       "      <td>0.286442</td>\n",
       "      <td>0.280967</td>\n",
       "      <td>0.195721</td>\n",
       "      <td>1.000000</td>\n",
       "      <td>0.198568</td>\n",
       "    </tr>\n",
       "    <tr>\n",
       "      <th>is_ultra</th>\n",
       "      <td>0.207122</td>\n",
       "      <td>0.206955</td>\n",
       "      <td>0.203830</td>\n",
       "      <td>0.198568</td>\n",
       "      <td>1.000000</td>\n",
       "    </tr>\n",
       "  </tbody>\n",
       "</table>\n",
       "</div>"
      ],
      "text/plain": [
       "             calls   minutes  messages   mb_used  is_ultra\n",
       "calls     1.000000  0.982083  0.177385  0.286442  0.207122\n",
       "minutes   0.982083  1.000000  0.173110  0.280967  0.206955\n",
       "messages  0.177385  0.173110  1.000000  0.195721  0.203830\n",
       "mb_used   0.286442  0.280967  0.195721  1.000000  0.198568\n",
       "is_ultra  0.207122  0.206955  0.203830  0.198568  1.000000"
      ]
     },
     "execution_count": 6,
     "metadata": {},
     "output_type": "execute_result"
    }
   ],
   "source": [
    "df.corr()"
   ]
  },
  {
   "cell_type": "code",
   "execution_count": 7,
   "metadata": {},
   "outputs": [
    {
     "data": {
      "image/png": "[encoded data removed]",
      "text/plain": [
       "<Figure size 1008x576 with 25 Axes>"
      ]
     },
     "metadata": {
      "needs_background": "light"
     },
     "output_type": "display_data"
    }
   ],
   "source": [
    "scatter_matrix(df, figsize=(14,8));"
   ]
  },
  {
   "cell_type": "markdown",
   "metadata": {},
   "source": [
    "Так как в тарифе есть ограничение по `minutes`, а по `calls` нет, дропнем столбец `calls`."
   ]
  },
  {
   "cell_type": "code",
   "execution_count": 8,
   "metadata": {},
   "outputs": [],
   "source": [
    "df = df.drop('calls', axis=1)"
   ]
  },
  {
   "cell_type": "markdown",
   "metadata": {},
   "source": [
    "### Вывод"
   ]
  },
  {
   "cell_type": "markdown",
   "metadata": {},
   "source": [
    "Так как признаки `calls` и `minutes` почти одинаковы убрали `calls`."
   ]
  },
  {
   "cell_type": "markdown",
   "metadata": {},
   "source": [
    "## Разбейте данные на выборки"
   ]
  },
  {
   "cell_type": "code",
   "execution_count": 9,
   "metadata": {},
   "outputs": [],
   "source": [
    "features_train = df.drop('is_ultra', axis=1)\n",
    "target_train = df['is_ultra']"
   ]
  },
  {
   "cell_type": "code",
   "execution_count": 10,
   "metadata": {},
   "outputs": [],
   "source": [
    "features_train, features_valid, target_train, target_valid = train_test_split(features_train, target_train, \n",
    "                                                                              stratify=target_train, test_size=0.4, \n",
    "                                                                              random_state=12345)"
   ]
  },
  {
   "cell_type": "code",
   "execution_count": 11,
   "metadata": {},
   "outputs": [],
   "source": [
    "features_valid, features_test, target_valid, target_test = train_test_split(features_valid, target_valid, \n",
    "                                                                              stratify=target_valid, test_size=0.5, \n",
    "                                                                              random_state=12345)"
   ]
  },
  {
   "cell_type": "code",
   "execution_count": 12,
   "metadata": {},
   "outputs": [
    {
     "name": "stdout",
     "output_type": "stream",
     "text": [
      "(1928,) (643,) (643,)\n"
     ]
    }
   ],
   "source": [
    "print(target_train.shape, target_valid.shape, target_test.shape)"
   ]
  },
  {
   "cell_type": "markdown",
   "metadata": {},
   "source": [
    "## Исследуйте модели"
   ]
  },
  {
   "cell_type": "code",
   "execution_count": 13,
   "metadata": {},
   "outputs": [
    {
     "name": "stdout",
     "output_type": "stream",
     "text": [
      "Accuracy лучшей модели дерева решений: 0.7916018662519441\n"
     ]
    }
   ],
   "source": [
    "best_model = None\n",
    "best_result = 0\n",
    "for depth in range(1, 11):\n",
    "    model_decision = DecisionTreeClassifier(random_state=12345, max_depth=depth) \n",
    "    model_decision.fit(features_train, target_train) \n",
    "    predictions = model_decision.predict(features_valid)\n",
    "    result = accuracy_score(target_valid, predictions) \n",
    "    if result > best_result:\n",
    "        best_model_decision = model_decision\n",
    "        best_result = result\n",
    "print(\"Accuracy лучшей модели дерева решений:\", best_result)"
   ]
  },
  {
   "cell_type": "code",
   "execution_count": 14,
   "metadata": {
    "scrolled": true
   },
   "outputs": [
    {
     "name": "stdout",
     "output_type": "stream",
     "text": [
      "Accuracy модели логистической регрессии на валидационной выборке: 0.71850699844479\n"
     ]
    }
   ],
   "source": [
    "model_logistic = LogisticRegression(random_state=12345)\n",
    "model_logistic.fit(features_train, target_train) \n",
    "predictions = model_logistic.predict(features_valid) \n",
    "result = accuracy_score(target_valid, predictions) \n",
    "\n",
    "print(\"Accuracy модели логистической регрессии на валидационной выборке:\", result)"
   ]
  },
  {
   "cell_type": "code",
   "execution_count": 15,
   "metadata": {},
   "outputs": [
    {
     "name": "stdout",
     "output_type": "stream",
     "text": [
      "Accuracy наилучшей модели случайного леса на валидационной выборке: 0.8133748055987559 Количество деревьев: 50 Максимальная глубина: 10\n"
     ]
    }
   ],
   "source": [
    "best_model = None\n",
    "best_result = 0\n",
    "best_est = 0\n",
    "best_depth = 0\n",
    "for est in range(10, 51, 10):\n",
    "    for depth in range (1, 11):\n",
    "        model_forest = RandomForestClassifier(random_state=12345, n_estimators=est, max_depth=depth)\n",
    "        model_forest.fit(features_train, target_train) \n",
    "        predictions_valid = model_forest.predict(features_valid) \n",
    "        result = accuracy_score(target_valid, predictions_valid)\n",
    "        if result > best_result:\n",
    "            best_model_forest = model_forest\n",
    "            best_result = result\n",
    "            best_est = est\n",
    "            best_depth = depth\n",
    "\n",
    "print(\"Accuracy наилучшей модели случайного леса на валидационной выборке:\", best_result, \"Количество деревьев:\", best_est, \"Максимальная глубина:\", depth)"
   ]
  },
  {
   "cell_type": "code",
   "execution_count": 16,
   "metadata": {},
   "outputs": [
    {
     "data": {
      "text/plain": [
       "DecisionTreeClassifier(max_depth=8, random_state=12345)"
      ]
     },
     "execution_count": 16,
     "metadata": {},
     "output_type": "execute_result"
    }
   ],
   "source": [
    "best_model_decision.fit(pd.concat([features_train, features_valid]), pd.concat([target_train, target_valid]))"
   ]
  },
  {
   "cell_type": "code",
   "execution_count": 17,
   "metadata": {},
   "outputs": [
    {
     "data": {
      "text/plain": [
       "LogisticRegression(random_state=12345)"
      ]
     },
     "execution_count": 17,
     "metadata": {},
     "output_type": "execute_result"
    }
   ],
   "source": [
    "model_logistic.fit(pd.concat([features_train, features_valid]), pd.concat([target_train, target_valid]))"
   ]
  },
  {
   "cell_type": "code",
   "execution_count": 18,
   "metadata": {},
   "outputs": [
    {
     "data": {
      "text/plain": [
       "RandomForestClassifier(bootstrap=True, class_weight=None, criterion='gini',\n",
       "                       max_depth=10, max_features='auto', max_leaf_nodes=None,\n",
       "                       min_impurity_decrease=0.0, min_impurity_split=None,\n",
       "                       min_samples_leaf=1, min_samples_split=2,\n",
       "                       min_weight_fraction_leaf=0.0, n_estimators=20,\n",
       "                       n_jobs=None, oob_score=False, random_state=12345,\n",
       "                       verbose=0, warm_start=False)"
      ]
     },
     "execution_count": 18,
     "metadata": {},
     "output_type": "execute_result"
    }
   ],
   "source": [
    "best_model_forest.fit(pd.concat([features_train, features_valid]), pd.concat([target_train, target_valid]))"
   ]
  },
  {
   "cell_type": "markdown",
   "metadata": {},
   "source": [
    "### Вывод"
   ]
  },
  {
   "cell_type": "markdown",
   "metadata": {},
   "source": [
    "После исследования моделей: дерева решений, логистической регрессии и случайного леса на валидационной выборке, с перебором параметров, лучше всего Accuracy у случайного леса."
   ]
  },
  {
   "cell_type": "markdown",
   "metadata": {},
   "source": [
    "## Проверьте модель на тестовой выборке"
   ]
  },
  {
   "cell_type": "code",
   "execution_count": 18,
   "metadata": {},
   "outputs": [
    {
     "name": "stdout",
     "output_type": "stream",
     "text": [
      "Accuracy модели дерева решений на тестовой выборке: 0.8055987558320373\n"
     ]
    }
   ],
   "source": [
    "predictions_model_decision = best_model_decision.predict(features_test)\n",
    "result = accuracy_score(target_test, predictions_model_decision)\n",
    "print(\"Accuracy модели дерева решений на тестовой выборке:\", result)"
   ]
  },
  {
   "cell_type": "code",
   "execution_count": 19,
   "metadata": {},
   "outputs": [
    {
     "name": "stdout",
     "output_type": "stream",
     "text": [
      "Accuracy модели логистической регрессии на тестовой выборке: 0.7060653188180405\n"
     ]
    }
   ],
   "source": [
    "predictions_model_logistic = model_logistic.predict(features_test)\n",
    "result = accuracy_score(target_test, predictions_model_logistic)\n",
    "print(\"Accuracy модели логистической регрессии на тестовой выборке:\", result)"
   ]
  },
  {
   "cell_type": "code",
   "execution_count": 20,
   "metadata": {},
   "outputs": [
    {
     "name": "stdout",
     "output_type": "stream",
     "text": [
      "Accuracy модели случайного леса на тестовой выборке: 0.8211508553654744\n"
     ]
    }
   ],
   "source": [
    "predictions_model_forest = best_model_forest.predict(features_test)\n",
    "result = accuracy_score(target_test, predictions_model_forest)\n",
    "print(\"Accuracy модели случайного леса на тестовой выборке:\", result)"
   ]
  },
  {
   "cell_type": "markdown",
   "metadata": {},
   "source": [
    "### Вывод"
   ]
  },
  {
   "cell_type": "markdown",
   "metadata": {},
   "source": [
    "После проверки на тестовой выборке опять лучше всего показал себя случайный лес."
   ]
  },
  {
   "cell_type": "markdown",
   "metadata": {},
   "source": [
    "## (бонус) Проверьте модели на адекватность"
   ]
  },
  {
   "cell_type": "markdown",
   "metadata": {},
   "source": [
    "В тренажере написано: чтобы оценить адекватность модели в задачах классификации, нужно сравнить её со случайной. Я не понимаю с какой случайной надо её сравнить и нашел в интернете самое понятное для меня classification_report."
   ]
  },
  {
   "cell_type": "code",
   "execution_count": 21,
   "metadata": {},
   "outputs": [
    {
     "name": "stdout",
     "output_type": "stream",
     "text": [
      "              precision    recall  f1-score   support\n",
      "\n",
      "           0       0.80      0.96      0.87       446\n",
      "           1       0.83      0.46      0.59       197\n",
      "\n",
      "    accuracy                           0.81       643\n",
      "   macro avg       0.81      0.71      0.73       643\n",
      "weighted avg       0.81      0.81      0.79       643\n",
      "\n"
     ]
    }
   ],
   "source": [
    "predictions_test = best_model_decision.predict(features_test) \n",
    "print(classification_report(target_test, predictions_test))"
   ]
  },
  {
   "cell_type": "code",
   "execution_count": 22,
   "metadata": {},
   "outputs": [
    {
     "name": "stdout",
     "output_type": "stream",
     "text": [
      "              precision    recall  f1-score   support\n",
      "\n",
      "           0       0.70      0.99      0.82       446\n",
      "           1       0.79      0.06      0.10       197\n",
      "\n",
      "    accuracy                           0.71       643\n",
      "   macro avg       0.75      0.52      0.46       643\n",
      "weighted avg       0.73      0.71      0.60       643\n",
      "\n"
     ]
    }
   ],
   "source": [
    "predictions_test = model_logistic.predict(features_test) \n",
    "print(classification_report(target_test, predictions_test))"
   ]
  },
  {
   "cell_type": "code",
   "execution_count": 23,
   "metadata": {},
   "outputs": [
    {
     "name": "stdout",
     "output_type": "stream",
     "text": [
      "              precision    recall  f1-score   support\n",
      "\n",
      "           0       0.83      0.93      0.88       446\n",
      "           1       0.79      0.56      0.66       197\n",
      "\n",
      "    accuracy                           0.82       643\n",
      "   macro avg       0.81      0.75      0.77       643\n",
      "weighted avg       0.82      0.82      0.81       643\n",
      "\n"
     ]
    }
   ],
   "source": [
    "predictions_test = best_model_forest.predict(features_test) \n",
    "print(classification_report(target_test, predictions_test))"
   ]
  },
  {
   "cell_type": "markdown",
   "metadata": {},
   "source": [
    "Лучше всего всё выглядит у случайного леса"
   ]
  },
  {
   "cell_type": "code",
   "execution_count": 25,
   "metadata": {},
   "outputs": [
    {
     "data": {
      "text/plain": [
       "DummyClassifier(constant=None, random_state=None, strategy='most_frequent')"
      ]
     },
     "execution_count": 25,
     "metadata": {},
     "output_type": "execute_result"
    }
   ],
   "source": [
    "dummy_clf = DummyClassifier(strategy=\"most_frequent\")\n",
    "dummy_clf.fit(features_train, target_train)"
   ]
  },
  {
   "cell_type": "code",
   "execution_count": 26,
   "metadata": {},
   "outputs": [
    {
     "data": {
      "text/plain": [
       "0.6936236391912908"
      ]
     },
     "execution_count": 26,
     "metadata": {},
     "output_type": "execute_result"
    }
   ],
   "source": [
    "dummy_clf.score(features_test, target_test)"
   ]
  },
  {
   "cell_type": "markdown",
   "metadata": {},
   "source": [
    "Так как скор у случайного леса отличается от скора DummyClassifier в лучшую сторону, можно сказать что модель адекватна)"
   ]
  },
  {
   "cell_type": "markdown",
   "metadata": {},
   "source": [
    "## Общий вывод"
   ]
  },
  {
   "cell_type": "markdown",
   "metadata": {},
   "source": [
    "- Из данных был убран признак `calls`.\n",
    "- Данные разбиты на 60% train и по 20% на valid и test.\n",
    "- Исследованны модели дерева решений, логистической регрессии и случайного леса.\n",
    "- Лучше всего accuracy у случайного леса как на валидационной выборке, так и на тестовой выборке."
   ]
  }
 ],
 "metadata": {
  "ExecuteTimeLog": [
   {
    "duration": 836,
    "start_time": "2021-09-01T05:56:38.031Z"
   },
   {
    "duration": 148,
    "start_time": "2021-09-01T05:56:56.770Z"
   },
   {
    "duration": 28,
    "start_time": "2021-09-01T05:57:03.787Z"
   },
   {
    "duration": 34,
    "start_time": "2021-09-01T05:57:57.482Z"
   },
   {
    "duration": 9,
    "start_time": "2021-09-01T05:58:07.669Z"
   },
   {
    "duration": 3,
    "start_time": "2021-09-01T06:00:35.554Z"
   },
   {
    "duration": 7,
    "start_time": "2021-09-01T06:01:15.706Z"
   },
   {
    "duration": 7,
    "start_time": "2021-09-01T06:01:31.438Z"
   },
   {
    "duration": 6,
    "start_time": "2021-09-01T06:02:05.961Z"
   },
   {
    "duration": 8,
    "start_time": "2021-09-01T06:04:14.237Z"
   },
   {
    "duration": 16,
    "start_time": "2021-09-01T06:04:30.225Z"
   },
   {
    "duration": 16,
    "start_time": "2021-09-01T06:04:37.560Z"
   },
   {
    "duration": 17,
    "start_time": "2021-09-01T06:04:44.009Z"
   },
   {
    "duration": 589,
    "start_time": "2021-09-01T08:30:05.847Z"
   },
   {
    "duration": 36,
    "start_time": "2021-09-01T08:30:16.043Z"
   },
   {
    "duration": 392,
    "start_time": "2021-09-01T08:30:18.972Z"
   },
   {
    "duration": 420,
    "start_time": "2021-09-01T08:30:42.467Z"
   },
   {
    "duration": 4,
    "start_time": "2021-09-01T08:30:50.986Z"
   },
   {
    "duration": 34,
    "start_time": "2021-09-01T08:30:54.098Z"
   },
   {
    "duration": 35,
    "start_time": "2021-09-01T08:31:04.682Z"
   },
   {
    "duration": 36,
    "start_time": "2021-09-01T08:31:25.058Z"
   },
   {
    "duration": 74,
    "start_time": "2021-09-01T08:31:43.882Z"
   },
   {
    "duration": 36,
    "start_time": "2021-09-01T08:31:56.587Z"
   },
   {
    "duration": 16,
    "start_time": "2021-09-01T08:33:37.969Z"
   },
   {
    "duration": 336,
    "start_time": "2021-09-01T08:33:40.874Z"
   },
   {
    "duration": 363,
    "start_time": "2021-09-01T08:36:47.144Z"
   },
   {
    "duration": 5,
    "start_time": "2021-09-01T08:36:56.007Z"
   },
   {
    "duration": 29,
    "start_time": "2021-09-01T08:37:00.089Z"
   },
   {
    "duration": 345,
    "start_time": "2021-09-01T08:43:19.997Z"
   },
   {
    "duration": 26,
    "start_time": "2021-09-01T08:43:38.911Z"
   },
   {
    "duration": 429,
    "start_time": "2021-09-01T09:01:05.519Z"
   },
   {
    "duration": 191,
    "start_time": "2021-09-01T09:01:46.614Z"
   },
   {
    "duration": 131,
    "start_time": "2021-09-01T09:02:03.040Z"
   },
   {
    "duration": 137,
    "start_time": "2021-09-01T09:02:09.822Z"
   },
   {
    "duration": 122,
    "start_time": "2021-09-01T09:02:20.054Z"
   },
   {
    "duration": 140,
    "start_time": "2021-09-01T09:02:27.799Z"
   },
   {
    "duration": 112,
    "start_time": "2021-09-01T09:02:31.694Z"
   },
   {
    "duration": 157,
    "start_time": "2021-09-01T09:02:34.598Z"
   },
   {
    "duration": 136,
    "start_time": "2021-09-01T09:02:37.893Z"
   },
   {
    "duration": 146,
    "start_time": "2021-09-01T09:02:41.629Z"
   },
   {
    "duration": 128,
    "start_time": "2021-09-01T09:02:44.677Z"
   },
   {
    "duration": 188,
    "start_time": "2021-09-01T09:02:51.574Z"
   },
   {
    "duration": 113,
    "start_time": "2021-09-01T09:02:55.687Z"
   },
   {
    "duration": 106,
    "start_time": "2021-09-01T09:03:00.105Z"
   },
   {
    "duration": 72,
    "start_time": "2021-09-01T09:03:05.101Z"
   },
   {
    "duration": 48,
    "start_time": "2021-09-01T09:03:09.060Z"
   },
   {
    "duration": 48,
    "start_time": "2021-09-01T09:03:11.428Z"
   },
   {
    "duration": 47,
    "start_time": "2021-09-01T09:03:17.493Z"
   },
   {
    "duration": 123,
    "start_time": "2021-09-01T09:03:21.780Z"
   },
   {
    "duration": 134,
    "start_time": "2021-09-01T09:03:24.901Z"
   },
   {
    "duration": 138,
    "start_time": "2021-09-01T09:03:27.831Z"
   },
   {
    "duration": 122,
    "start_time": "2021-09-01T09:03:31.425Z"
   },
   {
    "duration": 144,
    "start_time": "2021-09-01T09:03:35.278Z"
   },
   {
    "duration": 123,
    "start_time": "2021-09-01T09:03:40.400Z"
   },
   {
    "duration": 214,
    "start_time": "2021-09-01T09:05:18.419Z"
   },
   {
    "duration": 170,
    "start_time": "2021-09-01T09:05:23.363Z"
   },
   {
    "duration": 124,
    "start_time": "2021-09-01T09:05:27.844Z"
   },
   {
    "duration": 264,
    "start_time": "2021-09-01T09:05:35.707Z"
   },
   {
    "duration": 296,
    "start_time": "2021-09-01T09:05:39.644Z"
   },
   {
    "duration": 124,
    "start_time": "2021-09-01T09:05:43.612Z"
   },
   {
    "duration": 122,
    "start_time": "2021-09-01T12:29:34.216Z"
   },
   {
    "duration": 14,
    "start_time": "2021-09-01T12:30:32.364Z"
   },
   {
    "duration": 192,
    "start_time": "2021-09-01T13:32:19.913Z"
   },
   {
    "duration": 134,
    "start_time": "2021-09-01T13:33:19.823Z"
   },
   {
    "duration": 5840,
    "start_time": "2021-09-01T13:33:53.623Z"
   },
   {
    "duration": 5187,
    "start_time": "2021-09-01T13:35:57.853Z"
   },
   {
    "duration": 5060,
    "start_time": "2021-09-01T13:36:52.141Z"
   },
   {
    "duration": 21,
    "start_time": "2021-09-01T13:37:08.450Z"
   },
   {
    "duration": 148,
    "start_time": "2021-09-01T13:47:35.872Z"
   },
   {
    "duration": 149,
    "start_time": "2021-09-01T13:47:41.144Z"
   },
   {
    "duration": 120,
    "start_time": "2021-09-01T13:47:45.423Z"
   },
   {
    "duration": 533,
    "start_time": "2021-09-01T17:23:57.392Z"
   },
   {
    "duration": 1061,
    "start_time": "2021-09-01T17:24:04.860Z"
   },
   {
    "duration": 255,
    "start_time": "2021-09-01T17:24:05.923Z"
   },
   {
    "duration": 20,
    "start_time": "2021-09-01T17:24:06.180Z"
   },
   {
    "duration": 6,
    "start_time": "2021-09-01T17:24:06.202Z"
   },
   {
    "duration": 4,
    "start_time": "2021-09-01T17:24:06.210Z"
   },
   {
    "duration": 8,
    "start_time": "2021-09-01T17:24:06.215Z"
   },
   {
    "duration": 13,
    "start_time": "2021-09-01T17:24:06.224Z"
   },
   {
    "duration": 57,
    "start_time": "2021-09-01T17:24:06.239Z"
   },
   {
    "duration": 11,
    "start_time": "2021-09-01T17:24:06.298Z"
   },
   {
    "duration": 90,
    "start_time": "2021-09-01T17:24:06.311Z"
   },
   {
    "duration": 3020,
    "start_time": "2021-09-01T17:24:06.403Z"
   },
   {
    "duration": 11,
    "start_time": "2021-09-01T17:24:09.425Z"
   },
   {
    "duration": 1033,
    "start_time": "2021-09-01T17:26:50.687Z"
   },
   {
    "duration": 60,
    "start_time": "2021-09-01T17:26:51.722Z"
   },
   {
    "duration": 15,
    "start_time": "2021-09-01T17:26:51.784Z"
   },
   {
    "duration": 8,
    "start_time": "2021-09-01T17:26:51.801Z"
   },
   {
    "duration": 7,
    "start_time": "2021-09-01T17:26:51.810Z"
   },
   {
    "duration": 5,
    "start_time": "2021-09-01T17:26:51.818Z"
   },
   {
    "duration": 9,
    "start_time": "2021-09-01T17:26:51.824Z"
   },
   {
    "duration": 434,
    "start_time": "2021-09-01T17:26:51.834Z"
   },
   {
    "duration": 1142,
    "start_time": "2021-09-01T17:26:51.128Z"
   },
   {
    "duration": 1141,
    "start_time": "2021-09-01T17:26:51.129Z"
   },
   {
    "duration": 1141,
    "start_time": "2021-09-01T17:26:51.130Z"
   },
   {
    "duration": 1138,
    "start_time": "2021-09-01T17:26:51.134Z"
   },
   {
    "duration": 1137,
    "start_time": "2021-09-01T17:26:51.135Z"
   },
   {
    "duration": 1089,
    "start_time": "2021-09-01T17:27:18.581Z"
   },
   {
    "duration": 74,
    "start_time": "2021-09-01T17:27:19.672Z"
   },
   {
    "duration": 17,
    "start_time": "2021-09-01T17:27:19.748Z"
   },
   {
    "duration": 6,
    "start_time": "2021-09-01T17:27:19.767Z"
   },
   {
    "duration": 5,
    "start_time": "2021-09-01T17:27:19.775Z"
   },
   {
    "duration": 6,
    "start_time": "2021-09-01T17:27:19.781Z"
   },
   {
    "duration": 5,
    "start_time": "2021-09-01T17:27:19.789Z"
   },
   {
    "duration": 51,
    "start_time": "2021-09-01T17:27:19.795Z"
   },
   {
    "duration": 13,
    "start_time": "2021-09-01T17:27:19.848Z"
   },
   {
    "duration": 3074,
    "start_time": "2021-09-01T17:27:19.863Z"
   },
   {
    "duration": 5,
    "start_time": "2021-09-01T17:27:22.939Z"
   },
   {
    "duration": 6,
    "start_time": "2021-09-01T17:27:22.946Z"
   },
   {
    "duration": 15,
    "start_time": "2021-09-01T17:27:22.953Z"
   },
   {
    "duration": 1066,
    "start_time": "2021-09-01T17:29:59.479Z"
   },
   {
    "duration": 65,
    "start_time": "2021-09-01T17:30:00.547Z"
   },
   {
    "duration": 17,
    "start_time": "2021-09-01T17:30:00.614Z"
   },
   {
    "duration": 9,
    "start_time": "2021-09-01T17:30:00.632Z"
   },
   {
    "duration": 12,
    "start_time": "2021-09-01T17:30:00.643Z"
   },
   {
    "duration": 9,
    "start_time": "2021-09-01T17:30:00.656Z"
   },
   {
    "duration": 8,
    "start_time": "2021-09-01T17:30:00.667Z"
   },
   {
    "duration": 55,
    "start_time": "2021-09-01T17:30:00.677Z"
   },
   {
    "duration": 14,
    "start_time": "2021-09-01T17:30:00.735Z"
   },
   {
    "duration": 3059,
    "start_time": "2021-09-01T17:30:00.752Z"
   },
   {
    "duration": 6,
    "start_time": "2021-09-01T17:30:03.813Z"
   },
   {
    "duration": 17,
    "start_time": "2021-09-01T17:30:03.820Z"
   },
   {
    "duration": 33,
    "start_time": "2021-09-01T17:30:03.839Z"
   },
   {
    "duration": 4,
    "start_time": "2021-09-01T17:30:26.077Z"
   },
   {
    "duration": 1124,
    "start_time": "2021-09-01T17:30:30.210Z"
   },
   {
    "duration": 80,
    "start_time": "2021-09-01T17:30:31.336Z"
   },
   {
    "duration": 15,
    "start_time": "2021-09-01T17:30:31.418Z"
   },
   {
    "duration": 15,
    "start_time": "2021-09-01T17:30:31.435Z"
   },
   {
    "duration": 12,
    "start_time": "2021-09-01T17:30:31.452Z"
   },
   {
    "duration": 11,
    "start_time": "2021-09-01T17:30:31.465Z"
   },
   {
    "duration": 14,
    "start_time": "2021-09-01T17:30:31.477Z"
   },
   {
    "duration": 60,
    "start_time": "2021-09-01T17:30:31.493Z"
   },
   {
    "duration": 15,
    "start_time": "2021-09-01T17:30:31.555Z"
   },
   {
    "duration": 3131,
    "start_time": "2021-09-01T17:30:31.572Z"
   },
   {
    "duration": 5,
    "start_time": "2021-09-01T17:30:34.705Z"
   },
   {
    "duration": 7,
    "start_time": "2021-09-01T17:30:34.711Z"
   },
   {
    "duration": 12,
    "start_time": "2021-09-01T17:30:34.720Z"
   },
   {
    "duration": 4,
    "start_time": "2021-09-01T17:38:31.130Z"
   },
   {
    "duration": 4,
    "start_time": "2021-09-01T17:38:48.411Z"
   },
   {
    "duration": 5,
    "start_time": "2021-09-01T17:39:01.613Z"
   },
   {
    "duration": 4,
    "start_time": "2021-09-01T17:39:02.412Z"
   },
   {
    "duration": 5,
    "start_time": "2021-09-01T17:39:19.541Z"
   },
   {
    "duration": 12,
    "start_time": "2021-09-01T17:39:20.685Z"
   },
   {
    "duration": 5,
    "start_time": "2021-09-01T17:40:32.577Z"
   },
   {
    "duration": 5,
    "start_time": "2021-09-01T17:40:33.554Z"
   },
   {
    "duration": 499,
    "start_time": "2021-09-01T17:40:34.185Z"
   },
   {
    "duration": 11,
    "start_time": "2021-09-01T17:40:46.131Z"
   },
   {
    "duration": 4,
    "start_time": "2021-09-01T17:41:36.742Z"
   },
   {
    "duration": 3,
    "start_time": "2021-09-01T17:41:37.190Z"
   },
   {
    "duration": 5,
    "start_time": "2021-09-01T17:41:37.637Z"
   },
   {
    "duration": 14,
    "start_time": "2021-09-01T17:55:44.753Z"
   },
   {
    "duration": 4,
    "start_time": "2021-09-01T18:57:13.729Z"
   },
   {
    "duration": 17,
    "start_time": "2021-09-01T18:58:42.099Z"
   },
   {
    "duration": 21,
    "start_time": "2021-09-01T18:59:33.683Z"
   },
   {
    "duration": 18,
    "start_time": "2021-09-01T19:00:07.702Z"
   },
   {
    "duration": 12,
    "start_time": "2021-09-01T19:00:25.734Z"
   },
   {
    "duration": 10,
    "start_time": "2021-09-01T19:00:52.673Z"
   },
   {
    "duration": 10,
    "start_time": "2021-09-01T19:01:06.072Z"
   },
   {
    "duration": 50,
    "start_time": "2021-09-01T19:01:46.083Z"
   },
   {
    "duration": 3013,
    "start_time": "2021-09-01T19:01:46.939Z"
   },
   {
    "duration": 6,
    "start_time": "2021-09-01T19:01:53.346Z"
   },
   {
    "duration": 11,
    "start_time": "2021-09-01T19:01:54.674Z"
   },
   {
    "duration": 5,
    "start_time": "2021-09-01T19:01:55.883Z"
   },
   {
    "duration": 8,
    "start_time": "2021-09-01T19:03:38.505Z"
   },
   {
    "duration": 8,
    "start_time": "2021-09-01T19:03:39.497Z"
   },
   {
    "duration": 13,
    "start_time": "2021-09-01T19:03:40.297Z"
   },
   {
    "duration": 6,
    "start_time": "2021-09-01T19:10:24.867Z"
   },
   {
    "duration": 1080,
    "start_time": "2021-09-01T19:34:01.824Z"
   },
   {
    "duration": 124,
    "start_time": "2021-09-01T19:34:02.906Z"
   },
   {
    "duration": 17,
    "start_time": "2021-09-01T19:34:03.032Z"
   },
   {
    "duration": 7,
    "start_time": "2021-09-01T19:34:03.051Z"
   },
   {
    "duration": 8,
    "start_time": "2021-09-01T19:34:03.060Z"
   },
   {
    "duration": 6,
    "start_time": "2021-09-01T19:34:03.070Z"
   },
   {
    "duration": 10,
    "start_time": "2021-09-01T19:34:03.077Z"
   },
   {
    "duration": 57,
    "start_time": "2021-09-01T19:34:03.089Z"
   },
   {
    "duration": 13,
    "start_time": "2021-09-01T19:34:03.150Z"
   },
   {
    "duration": 3104,
    "start_time": "2021-09-01T19:34:03.165Z"
   },
   {
    "duration": 6,
    "start_time": "2021-09-01T19:34:06.271Z"
   },
   {
    "duration": 6,
    "start_time": "2021-09-01T19:34:06.291Z"
   },
   {
    "duration": 16,
    "start_time": "2021-09-01T19:34:06.299Z"
   },
   {
    "duration": 10,
    "start_time": "2021-09-01T19:34:06.317Z"
   },
   {
    "duration": 10,
    "start_time": "2021-09-01T19:34:06.329Z"
   },
   {
    "duration": 16,
    "start_time": "2021-09-01T19:34:06.341Z"
   },
   {
    "duration": 1504,
    "start_time": "2021-09-02T15:33:12.524Z"
   },
   {
    "duration": 336,
    "start_time": "2021-09-02T15:33:14.031Z"
   },
   {
    "duration": 27,
    "start_time": "2021-09-02T15:33:14.370Z"
   },
   {
    "duration": 12,
    "start_time": "2021-09-02T15:33:14.400Z"
   },
   {
    "duration": 12,
    "start_time": "2021-09-02T15:33:14.415Z"
   },
   {
    "duration": 27,
    "start_time": "2021-09-02T15:33:14.429Z"
   },
   {
    "duration": 9,
    "start_time": "2021-09-02T15:33:14.458Z"
   },
   {
    "duration": 94,
    "start_time": "2021-09-02T15:33:14.469Z"
   },
   {
    "duration": 24,
    "start_time": "2021-09-02T15:33:14.567Z"
   },
   {
    "duration": 4952,
    "start_time": "2021-09-02T15:33:14.594Z"
   },
   {
    "duration": 12,
    "start_time": "2021-09-02T15:33:19.548Z"
   },
   {
    "duration": 7,
    "start_time": "2021-09-02T15:33:19.563Z"
   },
   {
    "duration": 16,
    "start_time": "2021-09-02T15:33:19.572Z"
   },
   {
    "duration": 11,
    "start_time": "2021-09-02T15:33:19.590Z"
   },
   {
    "duration": 55,
    "start_time": "2021-09-02T15:33:19.603Z"
   },
   {
    "duration": 20,
    "start_time": "2021-09-02T15:33:19.661Z"
   },
   {
    "duration": 1466,
    "start_time": "2021-09-02T16:55:53.129Z"
   },
   {
    "duration": 124,
    "start_time": "2021-09-02T16:55:54.598Z"
   },
   {
    "duration": 26,
    "start_time": "2021-09-02T16:55:54.724Z"
   },
   {
    "duration": 8,
    "start_time": "2021-09-02T16:55:54.753Z"
   },
   {
    "duration": 9,
    "start_time": "2021-09-02T16:55:54.764Z"
   },
   {
    "duration": 12,
    "start_time": "2021-09-02T16:55:54.776Z"
   },
   {
    "duration": 11,
    "start_time": "2021-09-02T16:55:54.790Z"
   },
   {
    "duration": 101,
    "start_time": "2021-09-02T16:55:54.804Z"
   },
   {
    "duration": 27,
    "start_time": "2021-09-02T16:55:54.910Z"
   },
   {
    "duration": 4879,
    "start_time": "2021-09-02T16:55:54.940Z"
   },
   {
    "duration": 8,
    "start_time": "2021-09-02T16:55:59.822Z"
   },
   {
    "duration": 28,
    "start_time": "2021-09-02T16:55:59.833Z"
   },
   {
    "duration": 23,
    "start_time": "2021-09-02T16:55:59.864Z"
   },
   {
    "duration": 13,
    "start_time": "2021-09-02T16:55:59.890Z"
   },
   {
    "duration": 53,
    "start_time": "2021-09-02T16:55:59.906Z"
   },
   {
    "duration": 19,
    "start_time": "2021-09-02T16:55:59.962Z"
   },
   {
    "duration": 13,
    "start_time": "2021-09-02T16:56:08.693Z"
   },
   {
    "duration": 903,
    "start_time": "2021-09-02T16:58:23.728Z"
   },
   {
    "duration": 14,
    "start_time": "2021-09-02T16:58:31.390Z"
   },
   {
    "duration": 14,
    "start_time": "2021-09-02T16:58:44.630Z"
   },
   {
    "duration": 15,
    "start_time": "2021-09-02T16:58:45.278Z"
   },
   {
    "duration": 5,
    "start_time": "2021-09-02T18:25:10.843Z"
   },
   {
    "duration": 6287,
    "start_time": "2021-09-02T18:25:24.815Z"
   },
   {
    "duration": 2616,
    "start_time": "2021-09-02T18:25:54.110Z"
   },
   {
    "duration": 4718,
    "start_time": "2021-09-02T18:26:28.217Z"
   },
   {
    "duration": 4480,
    "start_time": "2021-09-02T18:26:35.128Z"
   },
   {
    "duration": 6,
    "start_time": "2021-09-02T19:20:50.198Z"
   },
   {
    "duration": 5,
    "start_time": "2021-09-02T19:21:21.540Z"
   },
   {
    "duration": 952,
    "start_time": "2021-09-02T19:22:06.837Z"
   },
   {
    "duration": 30,
    "start_time": "2021-09-02T19:22:43.338Z"
   },
   {
    "duration": 5,
    "start_time": "2021-09-02T19:50:03.187Z"
   },
   {
    "duration": 4,
    "start_time": "2021-09-02T19:56:57.726Z"
   },
   {
    "duration": 108,
    "start_time": "2021-09-02T19:56:58.161Z"
   },
   {
    "duration": 16,
    "start_time": "2021-09-02T19:56:58.777Z"
   },
   {
    "duration": 9,
    "start_time": "2021-09-02T19:57:00.416Z"
   },
   {
    "duration": 33,
    "start_time": "2021-09-02T19:57:02.345Z"
   },
   {
    "duration": 15,
    "start_time": "2021-09-02T19:57:04.649Z"
   },
   {
    "duration": 4198,
    "start_time": "2021-09-02T19:57:06.833Z"
   },
   {
    "duration": 6,
    "start_time": "2021-09-02T19:57:12.497Z"
   },
   {
    "duration": 5,
    "start_time": "2021-09-02T19:57:16.186Z"
   },
   {
    "duration": 10,
    "start_time": "2021-09-02T19:57:16.722Z"
   },
   {
    "duration": 263,
    "start_time": "2021-09-02T19:57:17.211Z"
   },
   {
    "duration": 5,
    "start_time": "2021-09-02T20:00:48.199Z"
   },
   {
    "duration": 286,
    "start_time": "2021-09-02T20:01:17.634Z"
   },
   {
    "duration": 6,
    "start_time": "2021-09-02T20:01:22.057Z"
   },
   {
    "duration": 9,
    "start_time": "2021-09-02T20:01:22.890Z"
   },
   {
    "duration": 5,
    "start_time": "2021-09-02T20:01:26.625Z"
   },
   {
    "duration": 15,
    "start_time": "2021-09-02T20:01:44.458Z"
   },
   {
    "duration": 6,
    "start_time": "2021-09-02T20:02:10.324Z"
   },
   {
    "duration": 11,
    "start_time": "2021-09-02T20:02:10.660Z"
   },
   {
    "duration": 10,
    "start_time": "2021-09-02T20:02:11.364Z"
   },
   {
    "duration": 6,
    "start_time": "2021-09-02T20:02:14.205Z"
   },
   {
    "duration": 66,
    "start_time": "2021-09-02T20:02:33.373Z"
   },
   {
    "duration": 17,
    "start_time": "2021-09-02T20:02:34.086Z"
   },
   {
    "duration": 3992,
    "start_time": "2021-09-02T20:02:34.774Z"
   },
   {
    "duration": 8,
    "start_time": "2021-09-02T20:02:48.318Z"
   },
   {
    "duration": 8,
    "start_time": "2021-09-02T20:02:48.895Z"
   },
   {
    "duration": 13,
    "start_time": "2021-09-02T20:02:49.486Z"
   },
   {
    "duration": 13,
    "start_time": "2021-09-02T20:08:11.540Z"
   },
   {
    "duration": 281,
    "start_time": "2021-09-02T20:09:07.989Z"
   },
   {
    "duration": 15,
    "start_time": "2021-09-02T20:09:11.471Z"
   },
   {
    "duration": 178,
    "start_time": "2021-09-02T20:10:16.580Z"
   },
   {
    "duration": 12,
    "start_time": "2021-09-02T20:10:25.844Z"
   },
   {
    "duration": 80,
    "start_time": "2021-09-02T20:10:48.997Z"
   },
   {
    "duration": 12,
    "start_time": "2021-09-02T20:10:52.701Z"
   },
   {
    "duration": 20,
    "start_time": "2021-09-02T20:11:29.865Z"
   },
   {
    "duration": 7,
    "start_time": "2021-09-02T20:11:33.079Z"
   },
   {
    "duration": 16,
    "start_time": "2021-09-02T20:11:47.825Z"
   },
   {
    "duration": 8,
    "start_time": "2021-09-02T20:11:50.664Z"
   },
   {
    "duration": 79,
    "start_time": "2021-09-02T20:11:56.241Z"
   },
   {
    "duration": 1562,
    "start_time": "2021-09-02T20:21:19.724Z"
   },
   {
    "duration": 65,
    "start_time": "2021-09-02T20:21:21.289Z"
   },
   {
    "duration": 26,
    "start_time": "2021-09-02T20:21:21.358Z"
   },
   {
    "duration": 14,
    "start_time": "2021-09-02T20:21:21.387Z"
   },
   {
    "duration": 59,
    "start_time": "2021-09-02T20:21:21.404Z"
   },
   {
    "duration": 12,
    "start_time": "2021-09-02T20:21:21.466Z"
   },
   {
    "duration": 4380,
    "start_time": "2021-09-02T20:21:21.481Z"
   },
   {
    "duration": 5,
    "start_time": "2021-09-02T20:21:25.865Z"
   },
   {
    "duration": 10,
    "start_time": "2021-09-02T20:21:25.872Z"
   },
   {
    "duration": 13,
    "start_time": "2021-09-02T20:21:25.884Z"
   },
   {
    "duration": 11,
    "start_time": "2021-09-02T20:21:25.900Z"
   },
   {
    "duration": 43,
    "start_time": "2021-09-02T20:21:25.913Z"
   },
   {
    "duration": 67,
    "start_time": "2021-09-02T20:21:25.959Z"
   },
   {
    "duration": 33,
    "start_time": "2021-09-02T20:21:26.028Z"
   },
   {
    "duration": 4175,
    "start_time": "2021-09-02T20:21:26.064Z"
   },
   {
    "duration": 27,
    "start_time": "2021-09-02T20:21:30.241Z"
   },
   {
    "duration": 20,
    "start_time": "2021-09-02T20:21:30.271Z"
   },
   {
    "duration": 104,
    "start_time": "2021-09-02T20:21:30.293Z"
   },
   {
    "duration": 7,
    "start_time": "2021-09-02T20:21:30.399Z"
   },
   {
    "duration": 17,
    "start_time": "2021-09-02T20:21:30.408Z"
   },
   {
    "duration": 30,
    "start_time": "2021-09-02T20:21:30.428Z"
   },
   {
    "duration": 11,
    "start_time": "2021-09-02T20:21:30.460Z"
   },
   {
    "duration": 15,
    "start_time": "2021-09-02T20:21:30.475Z"
   },
   {
    "duration": 24,
    "start_time": "2021-09-02T20:21:30.492Z"
   },
   {
    "duration": 1480,
    "start_time": "2021-09-03T05:41:53.876Z"
   },
   {
    "duration": 1363,
    "start_time": "2021-09-03T05:42:05.197Z"
   },
   {
    "duration": 156,
    "start_time": "2021-09-03T05:42:06.563Z"
   },
   {
    "duration": 27,
    "start_time": "2021-09-03T05:42:06.722Z"
   },
   {
    "duration": 14,
    "start_time": "2021-09-03T05:42:06.751Z"
   },
   {
    "duration": 51,
    "start_time": "2021-09-03T05:42:06.767Z"
   },
   {
    "duration": 13,
    "start_time": "2021-09-03T05:42:06.820Z"
   },
   {
    "duration": 4867,
    "start_time": "2021-09-03T05:42:06.835Z"
   },
   {
    "duration": 14,
    "start_time": "2021-09-03T05:42:11.706Z"
   },
   {
    "duration": 15,
    "start_time": "2021-09-03T05:42:11.722Z"
   },
   {
    "duration": 25,
    "start_time": "2021-09-03T05:42:11.739Z"
   },
   {
    "duration": 21,
    "start_time": "2021-09-03T05:42:11.766Z"
   },
   {
    "duration": 10,
    "start_time": "2021-09-03T05:42:11.789Z"
   },
   {
    "duration": 83,
    "start_time": "2021-09-03T05:42:11.802Z"
   },
   {
    "duration": 17,
    "start_time": "2021-09-03T05:42:11.888Z"
   },
   {
    "duration": 4072,
    "start_time": "2021-09-03T05:42:11.917Z"
   },
   {
    "duration": 26,
    "start_time": "2021-09-03T05:42:15.992Z"
   },
   {
    "duration": 23,
    "start_time": "2021-09-03T05:42:16.021Z"
   },
   {
    "duration": 115,
    "start_time": "2021-09-03T05:42:16.047Z"
   },
   {
    "duration": 9,
    "start_time": "2021-09-03T05:42:16.165Z"
   },
   {
    "duration": 8,
    "start_time": "2021-09-03T05:42:16.177Z"
   },
   {
    "duration": 14,
    "start_time": "2021-09-03T05:42:16.215Z"
   },
   {
    "duration": 11,
    "start_time": "2021-09-03T05:42:16.232Z"
   },
   {
    "duration": 11,
    "start_time": "2021-09-03T05:42:16.247Z"
   },
   {
    "duration": 57,
    "start_time": "2021-09-03T05:42:16.260Z"
   },
   {
    "duration": 6,
    "start_time": "2021-09-03T05:43:25.982Z"
   },
   {
    "duration": 7,
    "start_time": "2021-09-03T05:44:02.016Z"
   }
  ],
  "kernelspec": {
   "display_name": "Python 3 (ipykernel)",
   "language": "python",
   "name": "python3"
  },
  "language_info": {
   "codemirror_mode": {
    "name": "ipython",
    "version": 3
   },
   "file_extension": ".py",
   "mimetype": "text/x-python",
   "name": "python",
   "nbconvert_exporter": "python",
   "pygments_lexer": "ipython3",
   "version": "3.8.12"
  },
  "toc": {
   "base_numbering": 1,
   "nav_menu": {},
   "number_sections": true,
   "sideBar": true,
   "skip_h1_title": true,
   "title_cell": "Table of Contents",
   "title_sidebar": "Contents",
   "toc_cell": false,
   "toc_position": {},
   "toc_section_display": true,
   "toc_window_display": false
  }
 },
 "nbformat": 4,
 "nbformat_minor": 4
}