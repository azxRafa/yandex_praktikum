{
 "cells": [
  {
   "cell_type": "markdown",
   "metadata": {},
   "source": [
    "# Отток клиентов"
   ]
  },
  {
   "cell_type": "markdown",
   "metadata": {},
   "source": [
    "Из «Бета-Банка» стали уходить клиенты. Каждый месяц. Немного, но заметно. Банковские маркетологи посчитали: сохранять текущих клиентов дешевле, чем привлекать новых.\n",
    "\n",
    "Нужно спрогнозировать, уйдёт клиент из банка в ближайшее время или нет. Вам предоставлены исторические данные о поведении клиентов и расторжении договоров с банком. \n",
    "\n",
    "Постройте модель с предельно большим значением *F1*-меры. Чтобы сдать проект успешно, нужно довести метрику до 0.59. Проверьте *F1*-меру на тестовой выборке самостоятельно.\n",
    "\n",
    "Дополнительно измеряйте *AUC-ROC*, сравнивайте её значение с *F1*-мерой.\n",
    "\n",
    "Источник данных: [https://www.kaggle.com/barelydedicated/bank-customer-churn-modeling](https://www.kaggle.com/barelydedicated/bank-customer-churn-modeling)"
   ]
  },
  {
   "cell_type": "markdown",
   "metadata": {},
   "source": [
    "## Подготовка данных"
   ]
  },
  {
   "cell_type": "code",
   "execution_count": 1,
   "metadata": {},
   "outputs": [],
   "source": [
    "import pandas as pd\n",
    "import matplotlib.pyplot as plt\n",
    "import warnings\n",
    "\n",
    "from sklearn.model_selection import train_test_split\n",
    "from sklearn.tree import DecisionTreeClassifier\n",
    "from sklearn.ensemble import RandomForestClassifier\n",
    "from sklearn.linear_model import LogisticRegression\n",
    "from sklearn.utils import shuffle\n",
    "from sklearn.metrics import mean_absolute_error\n",
    "from sklearn.metrics import f1_score \n",
    "from sklearn.preprocessing import StandardScaler\n",
    "from sklearn.metrics import roc_auc_score \n",
    "from sklearn.metrics import roc_curve \n",
    "from tqdm.auto import tqdm\n",
    "from pandas.core.common import SettingWithCopyWarning\n",
    "\n",
    "warnings.simplefilter(action=\"ignore\", category=SettingWithCopyWarning)\n"
   ]
  },
  {
   "cell_type": "code",
   "execution_count": 2,
   "metadata": {},
   "outputs": [],
   "source": [
    "data = pd.read_csv('/datasets/Churn.csv')"
   ]
  },
  {
   "cell_type": "code",
   "execution_count": 3,
   "metadata": {},
   "outputs": [
    {
     "name": "stdout",
     "output_type": "stream",
     "text": [
      "<class 'pandas.core.frame.DataFrame'>\n",
      "RangeIndex: 10000 entries, 0 to 9999\n",
      "Data columns (total 14 columns):\n",
      "RowNumber          10000 non-null int64\n",
      "CustomerId         10000 non-null int64\n",
      "Surname            10000 non-null object\n",
      "CreditScore        10000 non-null int64\n",
      "Geography          10000 non-null object\n",
      "Gender             10000 non-null object\n",
      "Age                10000 non-null int64\n",
      "Tenure             9091 non-null float64\n",
      "Balance            10000 non-null float64\n",
      "NumOfProducts      10000 non-null int64\n",
      "HasCrCard          10000 non-null int64\n",
      "IsActiveMember     10000 non-null int64\n",
      "EstimatedSalary    10000 non-null float64\n",
      "Exited             10000 non-null int64\n",
      "dtypes: float64(3), int64(8), object(3)\n",
      "memory usage: 1.1+ MB\n"
     ]
    }
   ],
   "source": [
    "data.info()"
   ]
  },
  {
   "cell_type": "code",
   "execution_count": 4,
   "metadata": {},
   "outputs": [],
   "source": [
    "data = data.fillna(0)"
   ]
  },
  {
   "cell_type": "code",
   "execution_count": 5,
   "metadata": {},
   "outputs": [
    {
     "data": {
      "text/html": [
       "<div>\n",
       "<style scoped>\n",
       "    .dataframe tbody tr th:only-of-type {\n",
       "        vertical-align: middle;\n",
       "    }\n",
       "\n",
       "    .dataframe tbody tr th {\n",
       "        vertical-align: top;\n",
       "    }\n",
       "\n",
       "    .dataframe thead th {\n",
       "        text-align: right;\n",
       "    }\n",
       "</style>\n",
       "<table border=\"1\" class=\"dataframe\">\n",
       "  <thead>\n",
       "    <tr style=\"text-align: right;\">\n",
       "      <th></th>\n",
       "      <th>RowNumber</th>\n",
       "      <th>CustomerId</th>\n",
       "      <th>Surname</th>\n",
       "      <th>CreditScore</th>\n",
       "      <th>Geography</th>\n",
       "      <th>Gender</th>\n",
       "      <th>Age</th>\n",
       "      <th>Tenure</th>\n",
       "      <th>Balance</th>\n",
       "      <th>NumOfProducts</th>\n",
       "      <th>HasCrCard</th>\n",
       "      <th>IsActiveMember</th>\n",
       "      <th>EstimatedSalary</th>\n",
       "      <th>Exited</th>\n",
       "    </tr>\n",
       "  </thead>\n",
       "  <tbody>\n",
       "    <tr>\n",
       "      <td>0</td>\n",
       "      <td>1</td>\n",
       "      <td>15634602</td>\n",
       "      <td>Hargrave</td>\n",
       "      <td>619</td>\n",
       "      <td>France</td>\n",
       "      <td>Female</td>\n",
       "      <td>42</td>\n",
       "      <td>2.0</td>\n",
       "      <td>0.00</td>\n",
       "      <td>1</td>\n",
       "      <td>1</td>\n",
       "      <td>1</td>\n",
       "      <td>101348.88</td>\n",
       "      <td>1</td>\n",
       "    </tr>\n",
       "    <tr>\n",
       "      <td>1</td>\n",
       "      <td>2</td>\n",
       "      <td>15647311</td>\n",
       "      <td>Hill</td>\n",
       "      <td>608</td>\n",
       "      <td>Spain</td>\n",
       "      <td>Female</td>\n",
       "      <td>41</td>\n",
       "      <td>1.0</td>\n",
       "      <td>83807.86</td>\n",
       "      <td>1</td>\n",
       "      <td>0</td>\n",
       "      <td>1</td>\n",
       "      <td>112542.58</td>\n",
       "      <td>0</td>\n",
       "    </tr>\n",
       "    <tr>\n",
       "      <td>2</td>\n",
       "      <td>3</td>\n",
       "      <td>15619304</td>\n",
       "      <td>Onio</td>\n",
       "      <td>502</td>\n",
       "      <td>France</td>\n",
       "      <td>Female</td>\n",
       "      <td>42</td>\n",
       "      <td>8.0</td>\n",
       "      <td>159660.80</td>\n",
       "      <td>3</td>\n",
       "      <td>1</td>\n",
       "      <td>0</td>\n",
       "      <td>113931.57</td>\n",
       "      <td>1</td>\n",
       "    </tr>\n",
       "    <tr>\n",
       "      <td>3</td>\n",
       "      <td>4</td>\n",
       "      <td>15701354</td>\n",
       "      <td>Boni</td>\n",
       "      <td>699</td>\n",
       "      <td>France</td>\n",
       "      <td>Female</td>\n",
       "      <td>39</td>\n",
       "      <td>1.0</td>\n",
       "      <td>0.00</td>\n",
       "      <td>2</td>\n",
       "      <td>0</td>\n",
       "      <td>0</td>\n",
       "      <td>93826.63</td>\n",
       "      <td>0</td>\n",
       "    </tr>\n",
       "    <tr>\n",
       "      <td>4</td>\n",
       "      <td>5</td>\n",
       "      <td>15737888</td>\n",
       "      <td>Mitchell</td>\n",
       "      <td>850</td>\n",
       "      <td>Spain</td>\n",
       "      <td>Female</td>\n",
       "      <td>43</td>\n",
       "      <td>2.0</td>\n",
       "      <td>125510.82</td>\n",
       "      <td>1</td>\n",
       "      <td>1</td>\n",
       "      <td>1</td>\n",
       "      <td>79084.10</td>\n",
       "      <td>0</td>\n",
       "    </tr>\n",
       "  </tbody>\n",
       "</table>\n",
       "</div>"
      ],
      "text/plain": [
       "   RowNumber  CustomerId   Surname  CreditScore Geography  Gender  Age  \\\n",
       "0          1    15634602  Hargrave          619    France  Female   42   \n",
       "1          2    15647311      Hill          608     Spain  Female   41   \n",
       "2          3    15619304      Onio          502    France  Female   42   \n",
       "3          4    15701354      Boni          699    France  Female   39   \n",
       "4          5    15737888  Mitchell          850     Spain  Female   43   \n",
       "\n",
       "   Tenure    Balance  NumOfProducts  HasCrCard  IsActiveMember  \\\n",
       "0     2.0       0.00              1          1               1   \n",
       "1     1.0   83807.86              1          0               1   \n",
       "2     8.0  159660.80              3          1               0   \n",
       "3     1.0       0.00              2          0               0   \n",
       "4     2.0  125510.82              1          1               1   \n",
       "\n",
       "   EstimatedSalary  Exited  \n",
       "0        101348.88       1  \n",
       "1        112542.58       0  \n",
       "2        113931.57       1  \n",
       "3         93826.63       0  \n",
       "4         79084.10       0  "
      ]
     },
     "execution_count": 5,
     "metadata": {},
     "output_type": "execute_result"
    }
   ],
   "source": [
    "data.head()"
   ]
  },
  {
   "cell_type": "code",
   "execution_count": 6,
   "metadata": {},
   "outputs": [],
   "source": [
    "data_ohe = pd.get_dummies(data.drop(['Surname', 'RowNumber','CustomerId'], axis=1), drop_first=True)\n",
    "target = data_ohe['Exited']\n",
    "features = data_ohe.drop(['Exited'] , axis=1)\n",
    "features_train, features_valid, target_train, target_valid = train_test_split(features, target, stratify=target, \n",
    "                                                                              test_size=0.4, random_state=12345)"
   ]
  },
  {
   "cell_type": "code",
   "execution_count": 7,
   "metadata": {},
   "outputs": [],
   "source": [
    "features_valid, features_test, target_valid, target_test = train_test_split(features_valid, target_valid, \n",
    "                                                                              stratify=target_valid, test_size=0.5, \n",
    "                                                                              random_state=12345)"
   ]
  },
  {
   "cell_type": "code",
   "execution_count": 8,
   "metadata": {
    "scrolled": true
   },
   "outputs": [
    {
     "data": {
      "text/html": [
       "<div>\n",
       "<style scoped>\n",
       "    .dataframe tbody tr th:only-of-type {\n",
       "        vertical-align: middle;\n",
       "    }\n",
       "\n",
       "    .dataframe tbody tr th {\n",
       "        vertical-align: top;\n",
       "    }\n",
       "\n",
       "    .dataframe thead th {\n",
       "        text-align: right;\n",
       "    }\n",
       "</style>\n",
       "<table border=\"1\" class=\"dataframe\">\n",
       "  <thead>\n",
       "    <tr style=\"text-align: right;\">\n",
       "      <th></th>\n",
       "      <th>CreditScore</th>\n",
       "      <th>Age</th>\n",
       "      <th>Tenure</th>\n",
       "      <th>Balance</th>\n",
       "      <th>NumOfProducts</th>\n",
       "      <th>HasCrCard</th>\n",
       "      <th>IsActiveMember</th>\n",
       "      <th>EstimatedSalary</th>\n",
       "      <th>Exited</th>\n",
       "      <th>Geography_Germany</th>\n",
       "      <th>Geography_Spain</th>\n",
       "      <th>Gender_Male</th>\n",
       "    </tr>\n",
       "  </thead>\n",
       "  <tbody>\n",
       "    <tr>\n",
       "      <td>0</td>\n",
       "      <td>619</td>\n",
       "      <td>42</td>\n",
       "      <td>2.0</td>\n",
       "      <td>0.00</td>\n",
       "      <td>1</td>\n",
       "      <td>1</td>\n",
       "      <td>1</td>\n",
       "      <td>101348.88</td>\n",
       "      <td>1</td>\n",
       "      <td>0</td>\n",
       "      <td>0</td>\n",
       "      <td>0</td>\n",
       "    </tr>\n",
       "    <tr>\n",
       "      <td>1</td>\n",
       "      <td>608</td>\n",
       "      <td>41</td>\n",
       "      <td>1.0</td>\n",
       "      <td>83807.86</td>\n",
       "      <td>1</td>\n",
       "      <td>0</td>\n",
       "      <td>1</td>\n",
       "      <td>112542.58</td>\n",
       "      <td>0</td>\n",
       "      <td>0</td>\n",
       "      <td>1</td>\n",
       "      <td>0</td>\n",
       "    </tr>\n",
       "    <tr>\n",
       "      <td>2</td>\n",
       "      <td>502</td>\n",
       "      <td>42</td>\n",
       "      <td>8.0</td>\n",
       "      <td>159660.80</td>\n",
       "      <td>3</td>\n",
       "      <td>1</td>\n",
       "      <td>0</td>\n",
       "      <td>113931.57</td>\n",
       "      <td>1</td>\n",
       "      <td>0</td>\n",
       "      <td>0</td>\n",
       "      <td>0</td>\n",
       "    </tr>\n",
       "    <tr>\n",
       "      <td>3</td>\n",
       "      <td>699</td>\n",
       "      <td>39</td>\n",
       "      <td>1.0</td>\n",
       "      <td>0.00</td>\n",
       "      <td>2</td>\n",
       "      <td>0</td>\n",
       "      <td>0</td>\n",
       "      <td>93826.63</td>\n",
       "      <td>0</td>\n",
       "      <td>0</td>\n",
       "      <td>0</td>\n",
       "      <td>0</td>\n",
       "    </tr>\n",
       "    <tr>\n",
       "      <td>4</td>\n",
       "      <td>850</td>\n",
       "      <td>43</td>\n",
       "      <td>2.0</td>\n",
       "      <td>125510.82</td>\n",
       "      <td>1</td>\n",
       "      <td>1</td>\n",
       "      <td>1</td>\n",
       "      <td>79084.10</td>\n",
       "      <td>0</td>\n",
       "      <td>0</td>\n",
       "      <td>1</td>\n",
       "      <td>0</td>\n",
       "    </tr>\n",
       "  </tbody>\n",
       "</table>\n",
       "</div>"
      ],
      "text/plain": [
       "   CreditScore  Age  Tenure    Balance  NumOfProducts  HasCrCard  \\\n",
       "0          619   42     2.0       0.00              1          1   \n",
       "1          608   41     1.0   83807.86              1          0   \n",
       "2          502   42     8.0  159660.80              3          1   \n",
       "3          699   39     1.0       0.00              2          0   \n",
       "4          850   43     2.0  125510.82              1          1   \n",
       "\n",
       "   IsActiveMember  EstimatedSalary  Exited  Geography_Germany  \\\n",
       "0               1        101348.88       1                  0   \n",
       "1               1        112542.58       0                  0   \n",
       "2               0        113931.57       1                  0   \n",
       "3               0         93826.63       0                  0   \n",
       "4               1         79084.10       0                  0   \n",
       "\n",
       "   Geography_Spain  Gender_Male  \n",
       "0                0            0  \n",
       "1                1            0  \n",
       "2                0            0  \n",
       "3                0            0  \n",
       "4                1            0  "
      ]
     },
     "execution_count": 8,
     "metadata": {},
     "output_type": "execute_result"
    }
   ],
   "source": [
    "data_ohe.head()"
   ]
  },
  {
   "cell_type": "code",
   "execution_count": 9,
   "metadata": {},
   "outputs": [
    {
     "data": {
      "text/plain": [
       "1    5084\n",
       "2    4590\n",
       "3     266\n",
       "4      60\n",
       "Name: NumOfProducts, dtype: int64"
      ]
     },
     "execution_count": 9,
     "metadata": {},
     "output_type": "execute_result"
    }
   ],
   "source": [
    "data_ohe.NumOfProducts.value_counts()"
   ]
  },
  {
   "cell_type": "code",
   "execution_count": 10,
   "metadata": {},
   "outputs": [
    {
     "data": {
      "text/plain": [
       "0.0     1291\n",
       "1.0      952\n",
       "2.0      950\n",
       "8.0      933\n",
       "3.0      928\n",
       "5.0      927\n",
       "7.0      925\n",
       "4.0      885\n",
       "9.0      882\n",
       "6.0      881\n",
       "10.0     446\n",
       "Name: Tenure, dtype: int64"
      ]
     },
     "execution_count": 10,
     "metadata": {},
     "output_type": "execute_result"
    }
   ],
   "source": [
    "data_ohe.Tenure.value_counts()"
   ]
  },
  {
   "cell_type": "code",
   "execution_count": 11,
   "metadata": {},
   "outputs": [
    {
     "name": "stdout",
     "output_type": "stream",
     "text": [
      "(6000, 11)\n",
      "(2000, 11)\n",
      "(2000, 11)\n"
     ]
    }
   ],
   "source": [
    "numeric = ['CreditScore', 'Age', 'Balance', 'EstimatedSalary']\n",
    "scaler = StandardScaler()\n",
    "scaler.fit(features_train[numeric])\n",
    "features_train[numeric] = scaler.transform(features_train[numeric])\n",
    "scaler.fit(features_valid[numeric])\n",
    "features_valid[numeric] = scaler.transform(features_valid[numeric])\n",
    "scaler.fit(features_test[numeric])\n",
    "features_test[numeric] = scaler.transform(features_test[numeric])\n",
    "print(features_train.shape)\n",
    "print(features_valid.shape)\n",
    "print(features_test.shape)"
   ]
  },
  {
   "cell_type": "markdown",
   "metadata": {},
   "source": [
    "### Вывод"
   ]
  },
  {
   "cell_type": "markdown",
   "metadata": {},
   "source": [
    "- В столбце `Tenure` есть пропуски, заменим их на 0.\n",
    "- Преобразовали данные техникой OHE.\n",
    "- Разбили данные на 3 выборки: train 60%, valid 20% и test 20%.\n",
    "- Стандартизировали данные в столбцах `CreditScore`, `Age`, `Balance` и `EstimatedSalary`."
   ]
  },
  {
   "cell_type": "markdown",
   "metadata": {},
   "source": [
    "## Исследование задачи"
   ]
  },
  {
   "cell_type": "code",
   "execution_count": 12,
   "metadata": {},
   "outputs": [
    {
     "data": {
      "text/plain": [
       "0.2037"
      ]
     },
     "execution_count": 12,
     "metadata": {},
     "output_type": "execute_result"
    }
   ],
   "source": [
    "target.mean()"
   ]
  },
  {
   "cell_type": "markdown",
   "metadata": {},
   "source": [
    "Есть дисбаланс классов 20%:80%."
   ]
  },
  {
   "cell_type": "code",
   "execution_count": 13,
   "metadata": {},
   "outputs": [
    {
     "data": {
      "application/vnd.jupyter.widget-view+json": {
       "model_id": "6e47a672a00d49d8b0119363712f7a48",
       "version_major": 2,
       "version_minor": 0
      },
      "text/plain": [
       "HBox(children=(HTML(value=''), FloatProgress(value=0.0, max=10.0), HTML(value='')))"
      ]
     },
     "metadata": {},
     "output_type": "display_data"
    },
    {
     "name": "stdout",
     "output_type": "stream",
     "text": [
      "\n",
      "F1 наилучшей модели случайного леса: 0.617 Количество деревьев: 40 Максимальная глубина: 14\n"
     ]
    }
   ],
   "source": [
    "best_model = None\n",
    "best_result = 0\n",
    "best_est = 0\n",
    "best_depth = 0\n",
    "for est in tqdm(range(10, 101, 10)):\n",
    "    for depth in range(2, 16, 1):\n",
    "        model = RandomForestClassifier(n_estimators=est, max_depth=depth, random_state=12345)\n",
    "        model.fit(features_train, target_train)\n",
    "        predicted_valid = model.predict(features_valid)\n",
    "        result = f1_score(target_valid, predicted_valid)\n",
    "        if result > best_result:\n",
    "            best_model_forest = model\n",
    "            best_result = result\n",
    "            best_est = est\n",
    "            best_depth = depth\n",
    "print(\"F1 наилучшей модели случайного леса:\", round(best_result, 3),\n",
    "      \"Количество деревьев:\", best_est, \"Максимальная глубина:\", best_depth)"
   ]
  },
  {
   "cell_type": "code",
   "execution_count": 14,
   "metadata": {
    "scrolled": true
   },
   "outputs": [
    {
     "name": "stdout",
     "output_type": "stream",
     "text": [
      "0.5203488372093023 depth = 2\n",
      "0.5375722543352601 depth = 3\n",
      "0.5174603174603174 depth = 4\n",
      "0.5431309904153354 depth = 5\n",
      "0.5735963581183613 depth = 6\n",
      "0.5950653120464441 depth = 7\n",
      "0.5718654434250764 depth = 8\n",
      "0.564327485380117 depth = 9\n",
      "0.5555555555555556 depth = 10\n"
     ]
    }
   ],
   "source": [
    "for depth in range(2, 11, 1):\n",
    "    model = DecisionTreeClassifier(max_depth=depth, random_state=12345)\n",
    "    model.fit(features_train, target_train)\n",
    "    predicted_valid = model.predict(features_valid)\n",
    "    print((f1_score(target_valid, predicted_valid)), ('depth = ' + str(depth)))"
   ]
  },
  {
   "cell_type": "code",
   "execution_count": 15,
   "metadata": {},
   "outputs": [
    {
     "name": "stdout",
     "output_type": "stream",
     "text": [
      "0.3076923076923077\n"
     ]
    }
   ],
   "source": [
    "model = LogisticRegression(solver='liblinear')\n",
    "model.fit(features_train, target_train)\n",
    "predicted_valid = model.predict(features_valid)\n",
    "print((f1_score(target_valid, predicted_valid)))"
   ]
  },
  {
   "cell_type": "markdown",
   "metadata": {},
   "source": [
    "### Вывод"
   ]
  },
  {
   "cell_type": "markdown",
   "metadata": {},
   "source": [
    "- Есть дисбаланс классов 20%:80%.\n",
    "- Без учёта дисбаланса модель случайного леса показала себя лучше всего при количество деревьев 40 и максимальной глубине 14, F1 = 0.617."
   ]
  },
  {
   "cell_type": "markdown",
   "metadata": {},
   "source": [
    "## Борьба с дисбалансом"
   ]
  },
  {
   "cell_type": "markdown",
   "metadata": {},
   "source": [
    "### Увеличение выборки"
   ]
  },
  {
   "cell_type": "code",
   "execution_count": 16,
   "metadata": {},
   "outputs": [],
   "source": [
    "def upsample(features, target, repeat):\n",
    "    features_zeros = features[target == 0]\n",
    "    features_ones = features[target == 1]\n",
    "    target_zeros = target[target == 0]\n",
    "    target_ones = target[target == 1]\n",
    "\n",
    "    features_upsampled = pd.concat([features_zeros] + [features_ones] * repeat)\n",
    "    target_upsampled = pd.concat([target_zeros] + [target_ones] * repeat)\n",
    "    \n",
    "    features_upsampled, target_upsampled = shuffle(\n",
    "        features_upsampled, target_upsampled, random_state=12345)\n",
    "    \n",
    "    return features_upsampled, target_upsampled"
   ]
  },
  {
   "cell_type": "code",
   "execution_count": 17,
   "metadata": {},
   "outputs": [],
   "source": [
    "features_upsampled, target_upsampled = upsample(features_train, target_train, 4)"
   ]
  },
  {
   "cell_type": "code",
   "execution_count": 18,
   "metadata": {},
   "outputs": [
    {
     "data": {
      "text/plain": [
       "0.5056900475894889"
      ]
     },
     "execution_count": 18,
     "metadata": {},
     "output_type": "execute_result"
    }
   ],
   "source": [
    "target_upsampled.mean()"
   ]
  },
  {
   "cell_type": "code",
   "execution_count": 19,
   "metadata": {},
   "outputs": [
    {
     "data": {
      "application/vnd.jupyter.widget-view+json": {
       "model_id": "6f3f1e1f16d2419aa6666da95eb80b12",
       "version_major": 2,
       "version_minor": 0
      },
      "text/plain": [
       "HBox(children=(HTML(value=''), FloatProgress(value=0.0, max=6.0), HTML(value='')))"
      ]
     },
     "metadata": {},
     "output_type": "display_data"
    },
    {
     "name": "stdout",
     "output_type": "stream",
     "text": [
      "\n",
      "F1 наилучшей модели случайного леса на валидационной выборке: 0.644 Количество деревьев: 60 Максимальная глубина: 11\n"
     ]
    }
   ],
   "source": [
    "best_model = None\n",
    "best_result = 0\n",
    "best_est = 0\n",
    "best_depth = 0\n",
    "for est in tqdm(range(10, 61, 10)):\n",
    "    for depth in range(1, 12, 1):\n",
    "        model = RandomForestClassifier(n_estimators=est, max_depth=depth, random_state=12345)\n",
    "        model.fit(features_upsampled, target_upsampled)\n",
    "        predicted_valid = model.predict(features_valid)\n",
    "        result = f1_score(target_valid, predicted_valid)\n",
    "        if result > best_result:\n",
    "            best_model_forest = model\n",
    "            best_result = result\n",
    "            best_est = est\n",
    "            best_depth = depth\n",
    "print(\"F1 наилучшей модели случайного леса на валидационной выборке:\", round(best_result, 3),\n",
    "      \"Количество деревьев:\", best_est, \"Максимальная глубина:\", best_depth)"
   ]
  },
  {
   "cell_type": "code",
   "execution_count": 20,
   "metadata": {
    "scrolled": true
   },
   "outputs": [
    {
     "name": "stdout",
     "output_type": "stream",
     "text": [
      "0.49801113762927607 depth = 2\n",
      "0.49801113762927607 depth = 3\n",
      "0.5596412556053811 depth = 4\n",
      "0.5525672371638142 depth = 5\n",
      "0.5769944341372912 depth = 6\n",
      "0.5768535262206148 depth = 7\n",
      "0.5504087193460492 depth = 8\n",
      "0.5406976744186046 depth = 9\n",
      "0.5326732673267327 depth = 10\n"
     ]
    }
   ],
   "source": [
    "for depth in range(2, 11, 1):\n",
    "    model = DecisionTreeClassifier(max_depth=depth, random_state=12345)\n",
    "    model.fit(features_upsampled, target_upsampled)\n",
    "    predicted_valid = model.predict(features_valid)\n",
    "    print((f1_score(target_valid, predicted_valid)), ('depth = ' + str(depth)))"
   ]
  },
  {
   "cell_type": "code",
   "execution_count": 21,
   "metadata": {},
   "outputs": [
    {
     "name": "stdout",
     "output_type": "stream",
     "text": [
      "0.5233160621761659\n"
     ]
    }
   ],
   "source": [
    "model = LogisticRegression(solver='liblinear')\n",
    "model.fit(features_upsampled, target_upsampled)\n",
    "predicted_valid = model.predict(features_valid)\n",
    "print((f1_score(target_valid, predicted_valid)))"
   ]
  },
  {
   "cell_type": "markdown",
   "metadata": {},
   "source": [
    "### Уменьшение выборки"
   ]
  },
  {
   "cell_type": "code",
   "execution_count": 22,
   "metadata": {},
   "outputs": [],
   "source": [
    "def downsample(features, target, fraction):\n",
    "    features_zeros = features[target == 0]\n",
    "    features_ones = features[target == 1]\n",
    "    target_zeros = target[target == 0]\n",
    "    target_ones = target[target == 1]\n",
    "\n",
    "    features_downsampled = pd.concat(\n",
    "        [features_zeros.sample(frac=fraction, random_state=12345)] + [features_ones])\n",
    "    target_downsampled = pd.concat(\n",
    "        [target_zeros.sample(frac=fraction, random_state=12345)] + [target_ones])\n",
    "    \n",
    "    features_downsampled, target_downsampled = shuffle(\n",
    "        features_downsampled, target_downsampled, random_state=12345)\n",
    "    \n",
    "    return features_downsampled, target_downsampled"
   ]
  },
  {
   "cell_type": "code",
   "execution_count": 23,
   "metadata": {},
   "outputs": [],
   "source": [
    "features_downsampled, target_downsampled = downsample(features_train, target_train, 0.25)"
   ]
  },
  {
   "cell_type": "code",
   "execution_count": 24,
   "metadata": {},
   "outputs": [
    {
     "data": {
      "text/plain": [
       "0.5057947019867549"
      ]
     },
     "execution_count": 24,
     "metadata": {},
     "output_type": "execute_result"
    }
   ],
   "source": [
    "target_downsampled.mean()"
   ]
  },
  {
   "cell_type": "code",
   "execution_count": 25,
   "metadata": {
    "scrolled": true
   },
   "outputs": [
    {
     "data": {
      "application/vnd.jupyter.widget-view+json": {
       "model_id": "bdf8e60ca17345de9e5c7f04b1ac632e",
       "version_major": 2,
       "version_minor": 0
      },
      "text/plain": [
       "HBox(children=(HTML(value=''), FloatProgress(value=0.0, max=7.0), HTML(value='')))"
      ]
     },
     "metadata": {},
     "output_type": "display_data"
    },
    {
     "name": "stdout",
     "output_type": "stream",
     "text": [
      "\n",
      "F1 наилучшей модели случайного леса на валидационной выборке: 0.633 Количество деревьев: 70 Максимальная глубина: 8\n"
     ]
    }
   ],
   "source": [
    "best_model = None\n",
    "best_result = 0\n",
    "best_est = 0\n",
    "best_depth = 0\n",
    "for est in tqdm(range(10, 71, 10)):\n",
    "    for depth in range(1, 10, 1):\n",
    "        model = RandomForestClassifier(n_estimators=est, max_depth=depth, random_state=12345)\n",
    "        model.fit(features_downsampled, target_downsampled)\n",
    "        predicted_valid = model.predict(features_valid)\n",
    "        result = f1_score(target_valid, predicted_valid)\n",
    "        if result > best_result:\n",
    "            best_model_forest = model\n",
    "            best_result = result\n",
    "            best_est = est\n",
    "            best_depth = depth\n",
    "print(\"F1 наилучшей модели случайного леса на валидационной выборке:\", round(best_result, 3),\n",
    "      \"Количество деревьев:\", best_est, \"Максимальная глубина:\", best_depth)"
   ]
  },
  {
   "cell_type": "code",
   "execution_count": 26,
   "metadata": {
    "scrolled": true
   },
   "outputs": [
    {
     "name": "stdout",
     "output_type": "stream",
     "text": [
      "0.49801113762927607 depth = 2\n",
      "0.49801113762927607 depth = 3\n",
      "0.560931899641577 depth = 4\n",
      "0.5527559055118111 depth = 5\n",
      "0.5928030303030303 depth = 6\n",
      "0.5833333333333334 depth = 7\n",
      "0.5642458100558659 depth = 8\n",
      "0.559928443649374 depth = 9\n",
      "0.5477252453166815 depth = 10\n"
     ]
    }
   ],
   "source": [
    "for depth in range(2, 11, 1):\n",
    "    model = DecisionTreeClassifier(max_depth=depth, random_state=12345)\n",
    "    model.fit(features_downsampled, target_downsampled)\n",
    "    predicted_valid = model.predict(features_valid)\n",
    "    print((f1_score(target_valid, predicted_valid)), ('depth = ' + str(depth)))"
   ]
  },
  {
   "cell_type": "code",
   "execution_count": 27,
   "metadata": {},
   "outputs": [
    {
     "name": "stdout",
     "output_type": "stream",
     "text": [
      "0.526225279449699\n"
     ]
    }
   ],
   "source": [
    "model = LogisticRegression(solver='liblinear')\n",
    "model.fit(features_downsampled, target_downsampled)\n",
    "predicted_valid = model.predict(features_valid)\n",
    "print((f1_score(target_valid, predicted_valid)))"
   ]
  },
  {
   "cell_type": "markdown",
   "metadata": {},
   "source": [
    "### Вывод"
   ]
  },
  {
   "cell_type": "markdown",
   "metadata": {},
   "source": [
    "Учитывая дисбаланс классов, при увеличение выборки удалось добиться улучшите качество модели случайного леса F1 = 0.644, а при уменьшение выборки F1 = 0.633 на валидационной выборке."
   ]
  },
  {
   "cell_type": "markdown",
   "metadata": {},
   "source": [
    "## Тестирование модели"
   ]
  },
  {
   "cell_type": "markdown",
   "metadata": {},
   "source": [
    "### Увеличение выборки"
   ]
  },
  {
   "cell_type": "code",
   "execution_count": 28,
   "metadata": {},
   "outputs": [],
   "source": [
    "features_upsampled, target_upsampled = upsample(pd.concat([features_train, features_valid]), \n",
    "                                                pd.concat([target_train, target_valid]), 4)"
   ]
  },
  {
   "cell_type": "code",
   "execution_count": 29,
   "metadata": {},
   "outputs": [
    {
     "data": {
      "text/plain": [
       "0.5058184639255237"
      ]
     },
     "execution_count": 29,
     "metadata": {},
     "output_type": "execute_result"
    }
   ],
   "source": [
    "target_upsampled.mean()"
   ]
  },
  {
   "cell_type": "code",
   "execution_count": 30,
   "metadata": {},
   "outputs": [
    {
     "name": "stdout",
     "output_type": "stream",
     "text": [
      "0.6153846153846153\n"
     ]
    }
   ],
   "source": [
    "model = RandomForestClassifier(n_estimators=60, max_depth=11, random_state=12345)\n",
    "model.fit(features_upsampled, target_upsampled)\n",
    "predicted_test = model.predict(features_test)\n",
    "print(f1_score(target_test, predicted_test))"
   ]
  },
  {
   "cell_type": "code",
   "execution_count": 31,
   "metadata": {},
   "outputs": [
    {
     "name": "stdout",
     "output_type": "stream",
     "text": [
      "0.8546636004263123\n"
     ]
    }
   ],
   "source": [
    "probabilities_test = model.predict_proba(features_test)\n",
    "probabilities_one_test = probabilities_test[:, 1]\n",
    "auc_roc = roc_auc_score(target_test, probabilities_one_test)\n",
    "print(auc_roc)"
   ]
  },
  {
   "cell_type": "code",
   "execution_count": 32,
   "metadata": {
    "scrolled": true
   },
   "outputs": [
    {
     "data": {
      "text/plain": [
       "[<matplotlib.lines.Line2D at 0x7f0803512650>]"
      ]
     },
     "execution_count": 32,
     "metadata": {},
     "output_type": "execute_result"
    },
    {
     "data": {
      "image/png": "[encoded data removed]",
      "text/plain": [
       "<Figure size 432x288 with 1 Axes>"
      ]
     },
     "metadata": {
      "needs_background": "light"
     },
     "output_type": "display_data"
    }
   ],
   "source": [
    "fpr, tpr, thresholds = roc_curve(target_test, probabilities_one_test) \n",
    "plt.figure()\n",
    "plt.plot(fpr, tpr)\n",
    "plt.xlim([0.0, 1.0])\n",
    "plt.ylim([0.0, 1.0])\n",
    "plt.xlabel('False Positive Rate')\n",
    "plt.ylabel('True Positive Rate')\n",
    "plt.title('ROC-кривая')\n",
    "plt.plot([0, 1], [0, 1], linestyle='--')"
   ]
  },
  {
   "cell_type": "markdown",
   "metadata": {},
   "source": [
    "### Уменьшение выборки"
   ]
  },
  {
   "cell_type": "code",
   "execution_count": 33,
   "metadata": {},
   "outputs": [],
   "source": [
    "features_downsampled, target_downsampled = downsample(pd.concat([features_train, features_valid]), \n",
    "                                                      pd.concat([target_train, target_valid]), 0.25)"
   ]
  },
  {
   "cell_type": "code",
   "execution_count": 34,
   "metadata": {},
   "outputs": [
    {
     "data": {
      "text/plain": [
       "0.5058969584109249"
      ]
     },
     "execution_count": 34,
     "metadata": {},
     "output_type": "execute_result"
    }
   ],
   "source": [
    "target_downsampled.mean()"
   ]
  },
  {
   "cell_type": "code",
   "execution_count": 35,
   "metadata": {},
   "outputs": [
    {
     "name": "stdout",
     "output_type": "stream",
     "text": [
      "0.5814393939393939\n"
     ]
    }
   ],
   "source": [
    "model = RandomForestClassifier(n_estimators=70, max_depth=8, random_state=12345)\n",
    "model.fit(features_downsampled, target_downsampled)\n",
    "predicted_test = model.predict(features_test)\n",
    "print(f1_score(target_test, predicted_test))"
   ]
  },
  {
   "cell_type": "code",
   "execution_count": 36,
   "metadata": {},
   "outputs": [
    {
     "name": "stdout",
     "output_type": "stream",
     "text": [
      "0.8529345986973106\n"
     ]
    }
   ],
   "source": [
    "probabilities_test = model.predict_proba(features_test)\n",
    "probabilities_one_test = probabilities_test[:, 1]\n",
    "auc_roc = roc_auc_score(target_test, probabilities_one_test)\n",
    "print(auc_roc)"
   ]
  },
  {
   "cell_type": "code",
   "execution_count": 37,
   "metadata": {},
   "outputs": [
    {
     "data": {
      "text/plain": [
       "[<matplotlib.lines.Line2D at 0x7f0802568b90>]"
      ]
     },
     "execution_count": 37,
     "metadata": {},
     "output_type": "execute_result"
    },
    {
     "data": {
      "image/png": "[encoded data removed]",
      "text/plain": [
       "<Figure size 432x288 with 1 Axes>"
      ]
     },
     "metadata": {
      "needs_background": "light"
     },
     "output_type": "display_data"
    }
   ],
   "source": [
    "fpr, tpr, thresholds = roc_curve(target_test, probabilities_one_test) \n",
    "plt.figure()\n",
    "plt.plot(fpr, tpr)\n",
    "plt.xlim([0.0, 1.0])\n",
    "plt.ylim([0.0, 1.0])\n",
    "plt.xlabel('False Positive Rate')\n",
    "plt.ylabel('True Positive Rate')\n",
    "plt.title('ROC-кривая')\n",
    "plt.plot([0, 1], [0, 1], linestyle='--')"
   ]
  },
  {
   "cell_type": "markdown",
   "metadata": {},
   "source": [
    "### Вывод"
   ]
  },
  {
   "cell_type": "markdown",
   "metadata": {},
   "source": [
    "- Есть дисбаланс классов 20%:80%.\n",
    "- Без учёта дисбаланса модель случайного леса показала себя лучше всего при количество деревьев 40 и максимальной глубине 14, F1 = 0.617.\n",
    "- Учитывая дисбаланс классов, при увеличение выборки удалось добиться улучшите качество модели случайного леса F1 = 0.644, а при уменьшение выборки F1 = 0.633 на валидационной выборке.\n",
    "- На тестовой выборке лучший результат получился при увеличение выборки F1 = 0.615.\n",
    "- По графику ROC-кривой видно что наша модель сильно отличается от случайной."
   ]
  }
 ],
 "metadata": {
  "ExecuteTimeLog": [
   {
    "duration": 1520,
    "start_time": "2021-09-18T19:14:33.496Z"
   },
   {
    "duration": 282,
    "start_time": "2021-09-18T19:14:45.984Z"
   },
   {
    "duration": 82,
    "start_time": "2021-09-18T19:14:52.441Z"
   },
   {
    "duration": 533,
    "start_time": "2021-09-19T06:59:30.040Z"
   },
   {
    "duration": -1056,
    "start_time": "2021-09-19T06:59:31.631Z"
   },
   {
    "duration": 1540,
    "start_time": "2021-09-19T06:59:35.272Z"
   },
   {
    "duration": 33,
    "start_time": "2021-09-19T06:59:36.815Z"
   },
   {
    "duration": 44,
    "start_time": "2021-09-19T06:59:36.851Z"
   },
   {
    "duration": 9090,
    "start_time": "2021-09-19T07:46:23.765Z"
   },
   {
    "duration": 9253,
    "start_time": "2021-09-19T07:49:25.664Z"
   },
   {
    "duration": 663,
    "start_time": "2021-09-19T07:50:06.373Z"
   },
   {
    "duration": 38,
    "start_time": "2021-09-19T07:50:10.397Z"
   },
   {
    "duration": 345,
    "start_time": "2021-09-19T07:51:01.354Z"
   },
   {
    "duration": 5,
    "start_time": "2021-09-19T07:51:08.477Z"
   },
   {
    "duration": 465,
    "start_time": "2021-09-19T07:52:09.147Z"
   },
   {
    "duration": 30,
    "start_time": "2021-09-19T07:52:21.237Z"
   },
   {
    "duration": 6,
    "start_time": "2021-09-19T07:52:23.573Z"
   },
   {
    "duration": 27,
    "start_time": "2021-09-19T07:52:30.478Z"
   },
   {
    "duration": 13,
    "start_time": "2021-09-19T07:54:29.909Z"
   },
   {
    "duration": 20,
    "start_time": "2021-09-19T07:55:10.793Z"
   },
   {
    "duration": 17,
    "start_time": "2021-09-19T07:55:21.068Z"
   },
   {
    "duration": 44,
    "start_time": "2021-09-19T07:56:46.725Z"
   },
   {
    "duration": 16,
    "start_time": "2021-09-19T07:56:47.478Z"
   },
   {
    "duration": 8,
    "start_time": "2021-09-19T08:07:48.071Z"
   },
   {
    "duration": 9,
    "start_time": "2021-09-19T08:08:01.241Z"
   },
   {
    "duration": 343,
    "start_time": "2021-09-19T08:09:32.468Z"
   },
   {
    "duration": 4,
    "start_time": "2021-09-19T08:09:53.143Z"
   },
   {
    "duration": 35,
    "start_time": "2021-09-19T08:09:56.134Z"
   },
   {
    "duration": 369,
    "start_time": "2021-09-19T08:10:39.924Z"
   },
   {
    "duration": 6,
    "start_time": "2021-09-19T08:10:59.799Z"
   },
   {
    "duration": 29,
    "start_time": "2021-09-19T08:11:04.447Z"
   },
   {
    "duration": 26,
    "start_time": "2021-09-19T08:11:38.884Z"
   },
   {
    "duration": 8,
    "start_time": "2021-09-19T08:11:58.236Z"
   },
   {
    "duration": 8,
    "start_time": "2021-09-19T08:47:13.155Z"
   },
   {
    "duration": 29,
    "start_time": "2021-09-19T08:47:28.861Z"
   },
   {
    "duration": 8,
    "start_time": "2021-09-19T08:47:29.685Z"
   },
   {
    "duration": 10,
    "start_time": "2021-09-19T08:47:37.742Z"
   },
   {
    "duration": 27,
    "start_time": "2021-09-19T09:17:47.037Z"
   },
   {
    "duration": 9,
    "start_time": "2021-09-19T09:17:50.053Z"
   },
   {
    "duration": 1411,
    "start_time": "2021-09-19T09:17:59.409Z"
   },
   {
    "duration": 37,
    "start_time": "2021-09-19T09:18:00.823Z"
   },
   {
    "duration": 13,
    "start_time": "2021-09-19T09:18:00.868Z"
   },
   {
    "duration": 40,
    "start_time": "2021-09-19T09:18:00.884Z"
   },
   {
    "duration": 55,
    "start_time": "2021-09-19T09:18:00.927Z"
   },
   {
    "duration": 34,
    "start_time": "2021-09-19T09:18:00.986Z"
   },
   {
    "duration": 27,
    "start_time": "2021-09-19T09:18:01.023Z"
   },
   {
    "duration": 55,
    "start_time": "2021-09-19T09:18:01.053Z"
   },
   {
    "duration": 18,
    "start_time": "2021-09-19T09:18:01.110Z"
   },
   {
    "duration": 10462,
    "start_time": "2021-09-19T09:18:53.151Z"
   },
   {
    "duration": 9,
    "start_time": "2021-09-19T09:19:15.354Z"
   },
   {
    "duration": 10,
    "start_time": "2021-09-19T09:19:29.516Z"
   },
   {
    "duration": 8,
    "start_time": "2021-09-19T09:19:45.614Z"
   },
   {
    "duration": 10,
    "start_time": "2021-09-19T09:20:01.776Z"
   },
   {
    "duration": 9,
    "start_time": "2021-09-19T09:20:08.616Z"
   },
   {
    "duration": 9,
    "start_time": "2021-09-19T09:20:12.392Z"
   },
   {
    "duration": 33,
    "start_time": "2021-09-19T09:21:33.723Z"
   },
   {
    "duration": 7,
    "start_time": "2021-09-19T11:53:04.644Z"
   },
   {
    "duration": 27,
    "start_time": "2021-09-19T13:33:56.450Z"
   },
   {
    "duration": 1371,
    "start_time": "2021-09-19T13:35:40.322Z"
   },
   {
    "duration": 44,
    "start_time": "2021-09-19T13:35:41.696Z"
   },
   {
    "duration": 27,
    "start_time": "2021-09-19T13:35:41.743Z"
   },
   {
    "duration": 29,
    "start_time": "2021-09-19T13:35:41.773Z"
   },
   {
    "duration": 72,
    "start_time": "2021-09-19T13:35:41.805Z"
   },
   {
    "duration": 484,
    "start_time": "2021-09-19T13:35:41.879Z"
   },
   {
    "duration": 1242,
    "start_time": "2021-09-19T13:35:41.124Z"
   },
   {
    "duration": 1241,
    "start_time": "2021-09-19T13:35:41.127Z"
   },
   {
    "duration": 1241,
    "start_time": "2021-09-19T13:35:41.129Z"
   },
   {
    "duration": 1215,
    "start_time": "2021-09-19T13:35:41.157Z"
   },
   {
    "duration": 1216,
    "start_time": "2021-09-19T13:35:41.158Z"
   },
   {
    "duration": 1216,
    "start_time": "2021-09-19T13:35:41.160Z"
   },
   {
    "duration": 366,
    "start_time": "2021-09-19T13:36:04.320Z"
   },
   {
    "duration": 6,
    "start_time": "2021-09-19T13:36:14.536Z"
   },
   {
    "duration": 353,
    "start_time": "2021-09-19T13:36:34.603Z"
   },
   {
    "duration": 1678,
    "start_time": "2021-09-19T13:37:33.684Z"
   },
   {
    "duration": 46,
    "start_time": "2021-09-19T13:37:35.368Z"
   },
   {
    "duration": 17,
    "start_time": "2021-09-19T13:37:35.418Z"
   },
   {
    "duration": 55,
    "start_time": "2021-09-19T13:37:35.439Z"
   },
   {
    "duration": 50,
    "start_time": "2021-09-19T13:37:35.497Z"
   },
   {
    "duration": 54,
    "start_time": "2021-09-19T13:37:35.569Z"
   },
   {
    "duration": 45,
    "start_time": "2021-09-19T13:37:35.626Z"
   },
   {
    "duration": 22,
    "start_time": "2021-09-19T13:37:35.674Z"
   },
   {
    "duration": 12,
    "start_time": "2021-09-19T13:37:35.701Z"
   },
   {
    "duration": 66,
    "start_time": "2021-09-19T13:37:35.716Z"
   },
   {
    "duration": 12,
    "start_time": "2021-09-19T13:37:35.785Z"
   },
   {
    "duration": 18,
    "start_time": "2021-09-19T13:37:35.800Z"
   },
   {
    "duration": 633,
    "start_time": "2021-09-19T13:37:35.822Z"
   },
   {
    "duration": 332,
    "start_time": "2021-09-19T13:38:22.063Z"
   },
   {
    "duration": 376,
    "start_time": "2021-09-19T13:38:35.512Z"
   },
   {
    "duration": 353,
    "start_time": "2021-09-19T13:38:41.664Z"
   },
   {
    "duration": 438,
    "start_time": "2021-09-19T13:39:44.878Z"
   },
   {
    "duration": 9,
    "start_time": "2021-09-19T13:40:37.025Z"
   },
   {
    "duration": 12,
    "start_time": "2021-09-19T13:40:39.395Z"
   },
   {
    "duration": 389,
    "start_time": "2021-09-19T13:40:43.642Z"
   },
   {
    "duration": 1408,
    "start_time": "2021-09-19T13:40:54.086Z"
   },
   {
    "duration": 34,
    "start_time": "2021-09-19T13:40:55.497Z"
   },
   {
    "duration": 13,
    "start_time": "2021-09-19T13:40:55.535Z"
   },
   {
    "duration": 11,
    "start_time": "2021-09-19T13:40:55.567Z"
   },
   {
    "duration": 29,
    "start_time": "2021-09-19T13:40:55.581Z"
   },
   {
    "duration": 54,
    "start_time": "2021-09-19T13:40:55.613Z"
   },
   {
    "duration": 54,
    "start_time": "2021-09-19T13:40:55.670Z"
   },
   {
    "duration": 45,
    "start_time": "2021-09-19T13:40:55.727Z"
   },
   {
    "duration": 10,
    "start_time": "2021-09-19T13:40:55.777Z"
   },
   {
    "duration": 11,
    "start_time": "2021-09-19T13:40:55.790Z"
   },
   {
    "duration": 80,
    "start_time": "2021-09-19T13:40:55.804Z"
   },
   {
    "duration": 9,
    "start_time": "2021-09-19T13:40:55.886Z"
   },
   {
    "duration": 7,
    "start_time": "2021-09-19T13:40:55.898Z"
   },
   {
    "duration": 63,
    "start_time": "2021-09-19T13:40:55.908Z"
   },
   {
    "duration": 6227,
    "start_time": "2021-09-19T13:41:25.058Z"
   },
   {
    "duration": 3236,
    "start_time": "2021-09-19T13:41:47.372Z"
   },
   {
    "duration": 123,
    "start_time": "2021-09-19T13:43:34.179Z"
   },
   {
    "duration": 13770,
    "start_time": "2021-09-19T13:43:45.772Z"
   },
   {
    "duration": 13671,
    "start_time": "2021-09-19T13:44:01.822Z"
   },
   {
    "duration": 10134,
    "start_time": "2021-09-19T13:44:40.297Z"
   },
   {
    "duration": 14455,
    "start_time": "2021-09-19T13:44:57.571Z"
   },
   {
    "duration": 16852,
    "start_time": "2021-09-19T13:45:12.820Z"
   },
   {
    "duration": 17758,
    "start_time": "2021-09-19T13:45:55.431Z"
   },
   {
    "duration": 611,
    "start_time": "2021-09-19T14:03:39.340Z"
   },
   {
    "duration": 403,
    "start_time": "2021-09-19T14:03:45.758Z"
   },
   {
    "duration": 11,
    "start_time": "2021-09-19T14:05:31.274Z"
   },
   {
    "duration": 1421,
    "start_time": "2021-09-19T14:05:38.115Z"
   },
   {
    "duration": 47,
    "start_time": "2021-09-19T14:05:39.540Z"
   },
   {
    "duration": 20,
    "start_time": "2021-09-19T14:05:39.592Z"
   },
   {
    "duration": 21,
    "start_time": "2021-09-19T14:05:39.615Z"
   },
   {
    "duration": 56,
    "start_time": "2021-09-19T14:05:39.639Z"
   },
   {
    "duration": 13,
    "start_time": "2021-09-19T14:05:39.699Z"
   },
   {
    "duration": 79,
    "start_time": "2021-09-19T14:05:39.715Z"
   },
   {
    "duration": 24,
    "start_time": "2021-09-19T14:05:39.799Z"
   },
   {
    "duration": 42,
    "start_time": "2021-09-19T14:05:39.827Z"
   },
   {
    "duration": 9,
    "start_time": "2021-09-19T14:05:39.871Z"
   },
   {
    "duration": 41,
    "start_time": "2021-09-19T14:05:39.883Z"
   },
   {
    "duration": 45,
    "start_time": "2021-09-19T14:05:39.927Z"
   },
   {
    "duration": 7,
    "start_time": "2021-09-19T14:05:39.976Z"
   },
   {
    "duration": 87,
    "start_time": "2021-09-19T14:05:39.986Z"
   },
   {
    "duration": 4548,
    "start_time": "2021-09-19T14:05:40.076Z"
   },
   {
    "duration": 16531,
    "start_time": "2021-09-19T14:05:44.628Z"
   },
   {
    "duration": 381,
    "start_time": "2021-09-19T14:06:01.166Z"
   },
   {
    "duration": 11080,
    "start_time": "2021-09-19T14:07:10.360Z"
   },
   {
    "duration": 15222,
    "start_time": "2021-09-19T14:07:29.531Z"
   },
   {
    "duration": 27851,
    "start_time": "2021-09-19T14:07:52.461Z"
   },
   {
    "duration": 3163,
    "start_time": "2021-09-19T14:08:52.428Z"
   },
   {
    "duration": 3372,
    "start_time": "2021-09-19T14:09:08.086Z"
   },
   {
    "duration": 3524,
    "start_time": "2021-09-19T14:09:17.831Z"
   },
   {
    "duration": 3807,
    "start_time": "2021-09-19T14:09:24.312Z"
   },
   {
    "duration": 3988,
    "start_time": "2021-09-19T14:09:33.425Z"
   },
   {
    "duration": 5949,
    "start_time": "2021-09-19T14:09:43.938Z"
   },
   {
    "duration": 11625,
    "start_time": "2021-09-19T14:09:58.628Z"
   },
   {
    "duration": 12823,
    "start_time": "2021-09-19T14:10:17.462Z"
   },
   {
    "duration": 15194,
    "start_time": "2021-09-19T14:10:35.976Z"
   },
   {
    "duration": 682,
    "start_time": "2021-09-19T14:15:40.300Z"
   },
   {
    "duration": 5,
    "start_time": "2021-09-19T14:15:55.431Z"
   },
   {
    "duration": 568,
    "start_time": "2021-09-19T14:15:59.374Z"
   },
   {
    "duration": 6,
    "start_time": "2021-09-19T14:17:14.041Z"
   },
   {
    "duration": 260,
    "start_time": "2021-09-19T14:17:39.164Z"
   },
   {
    "duration": 356,
    "start_time": "2021-09-19T14:17:42.540Z"
   },
   {
    "duration": 6,
    "start_time": "2021-09-19T14:17:45.100Z"
   },
   {
    "duration": 8,
    "start_time": "2021-09-19T14:18:00.261Z"
   },
   {
    "duration": 321,
    "start_time": "2021-09-19T14:20:29.624Z"
   },
   {
    "duration": 6,
    "start_time": "2021-09-19T14:20:36.753Z"
   },
   {
    "duration": 84,
    "start_time": "2021-09-19T14:20:40.985Z"
   },
   {
    "duration": 23,
    "start_time": "2021-09-19T14:21:27.543Z"
   },
   {
    "duration": 512,
    "start_time": "2021-09-19T14:22:00.796Z"
   },
   {
    "duration": 492,
    "start_time": "2021-09-19T14:22:13.925Z"
   },
   {
    "duration": 20,
    "start_time": "2021-09-19T14:22:37.361Z"
   },
   {
    "duration": 535,
    "start_time": "2021-09-19T14:23:52.826Z"
   },
   {
    "duration": 11945,
    "start_time": "2021-09-19T14:24:20.973Z"
   },
   {
    "duration": 28,
    "start_time": "2021-09-19T14:26:39.254Z"
   },
   {
    "duration": 28,
    "start_time": "2021-09-19T14:27:24.619Z"
   },
   {
    "duration": 449,
    "start_time": "2021-09-19T14:27:45.167Z"
   },
   {
    "duration": 1512,
    "start_time": "2021-09-19T14:30:28.139Z"
   },
   {
    "duration": 1509,
    "start_time": "2021-09-19T14:30:45.629Z"
   },
   {
    "duration": 1428,
    "start_time": "2021-09-19T14:31:09.727Z"
   },
   {
    "duration": 2708,
    "start_time": "2021-09-19T14:31:18.288Z"
   },
   {
    "duration": 3829,
    "start_time": "2021-09-19T14:31:30.738Z"
   },
   {
    "duration": 1270,
    "start_time": "2021-09-19T14:32:18.816Z"
   },
   {
    "duration": 14847,
    "start_time": "2021-09-19T14:32:30.722Z"
   },
   {
    "duration": 126,
    "start_time": "2021-09-19T14:33:34.410Z"
   },
   {
    "duration": 10786,
    "start_time": "2021-09-19T14:33:39.914Z"
   },
   {
    "duration": 16840,
    "start_time": "2021-09-19T14:33:59.661Z"
   },
   {
    "duration": 318,
    "start_time": "2021-09-19T14:35:26.623Z"
   },
   {
    "duration": 313,
    "start_time": "2021-09-19T14:35:33.624Z"
   },
   {
    "duration": 308,
    "start_time": "2021-09-19T14:35:44.946Z"
   },
   {
    "duration": 586,
    "start_time": "2021-09-19T14:35:59.588Z"
   },
   {
    "duration": 416,
    "start_time": "2021-09-19T14:36:07.324Z"
   },
   {
    "duration": 73,
    "start_time": "2021-09-19T14:36:18.399Z"
   },
   {
    "duration": 107,
    "start_time": "2021-09-19T14:38:03.162Z"
   },
   {
    "duration": 2681,
    "start_time": "2021-09-19T14:40:07.802Z"
   },
   {
    "duration": 7317,
    "start_time": "2021-09-19T14:40:30.902Z"
   },
   {
    "duration": 1420,
    "start_time": "2021-09-19T14:44:22.402Z"
   },
   {
    "duration": 36,
    "start_time": "2021-09-19T14:44:23.825Z"
   },
   {
    "duration": 12,
    "start_time": "2021-09-19T14:44:23.867Z"
   },
   {
    "duration": 12,
    "start_time": "2021-09-19T14:44:23.882Z"
   },
   {
    "duration": 31,
    "start_time": "2021-09-19T14:44:23.896Z"
   },
   {
    "duration": 42,
    "start_time": "2021-09-19T14:44:23.930Z"
   },
   {
    "duration": 545,
    "start_time": "2021-09-19T14:44:23.975Z"
   },
   {
    "duration": 1574,
    "start_time": "2021-09-19T14:44:22.950Z"
   },
   {
    "duration": 1574,
    "start_time": "2021-09-19T14:44:22.952Z"
   },
   {
    "duration": 1575,
    "start_time": "2021-09-19T14:44:22.953Z"
   },
   {
    "duration": 1574,
    "start_time": "2021-09-19T14:44:22.955Z"
   },
   {
    "duration": 1573,
    "start_time": "2021-09-19T14:44:22.958Z"
   },
   {
    "duration": 1573,
    "start_time": "2021-09-19T14:44:22.960Z"
   },
   {
    "duration": 1572,
    "start_time": "2021-09-19T14:44:22.962Z"
   },
   {
    "duration": 1573,
    "start_time": "2021-09-19T14:44:22.963Z"
   },
   {
    "duration": 1573,
    "start_time": "2021-09-19T14:44:22.964Z"
   },
   {
    "duration": 38,
    "start_time": "2021-09-19T14:44:57.577Z"
   },
   {
    "duration": 10,
    "start_time": "2021-09-19T14:45:41.030Z"
   },
   {
    "duration": 1468,
    "start_time": "2021-09-19T14:45:47.665Z"
   },
   {
    "duration": 36,
    "start_time": "2021-09-19T14:45:49.135Z"
   },
   {
    "duration": 12,
    "start_time": "2021-09-19T14:45:49.175Z"
   },
   {
    "duration": 17,
    "start_time": "2021-09-19T14:45:49.190Z"
   },
   {
    "duration": 46,
    "start_time": "2021-09-19T14:45:49.210Z"
   },
   {
    "duration": 20,
    "start_time": "2021-09-19T14:45:49.258Z"
   },
   {
    "duration": 55,
    "start_time": "2021-09-19T14:45:49.281Z"
   },
   {
    "duration": 10,
    "start_time": "2021-09-19T14:45:49.339Z"
   },
   {
    "duration": 28,
    "start_time": "2021-09-19T14:45:49.353Z"
   },
   {
    "duration": 8,
    "start_time": "2021-09-19T14:45:49.384Z"
   },
   {
    "duration": 9,
    "start_time": "2021-09-19T14:45:49.394Z"
   },
   {
    "duration": 61,
    "start_time": "2021-09-19T14:45:49.406Z"
   },
   {
    "duration": 10,
    "start_time": "2021-09-19T14:45:49.470Z"
   },
   {
    "duration": 11,
    "start_time": "2021-09-19T14:45:49.483Z"
   },
   {
    "duration": 2522,
    "start_time": "2021-09-19T14:45:49.496Z"
   },
   {
    "duration": 5981,
    "start_time": "2021-09-19T14:45:52.021Z"
   },
   {
    "duration": 294,
    "start_time": "2021-09-19T14:45:58.004Z"
   },
   {
    "duration": 1469,
    "start_time": "2021-09-19T14:46:31.898Z"
   },
   {
    "duration": 36,
    "start_time": "2021-09-19T14:46:33.369Z"
   },
   {
    "duration": 15,
    "start_time": "2021-09-19T14:46:33.408Z"
   },
   {
    "duration": 13,
    "start_time": "2021-09-19T14:46:33.427Z"
   },
   {
    "duration": 64,
    "start_time": "2021-09-19T14:46:33.444Z"
   },
   {
    "duration": 18,
    "start_time": "2021-09-19T14:46:33.511Z"
   },
   {
    "duration": 65,
    "start_time": "2021-09-19T14:46:33.533Z"
   },
   {
    "duration": 11,
    "start_time": "2021-09-19T14:46:33.601Z"
   },
   {
    "duration": 18,
    "start_time": "2021-09-19T14:46:33.615Z"
   },
   {
    "duration": 38,
    "start_time": "2021-09-19T14:46:33.636Z"
   },
   {
    "duration": 13,
    "start_time": "2021-09-19T14:46:33.676Z"
   },
   {
    "duration": 26,
    "start_time": "2021-09-19T14:46:33.691Z"
   },
   {
    "duration": 53,
    "start_time": "2021-09-19T14:46:33.719Z"
   },
   {
    "duration": 8,
    "start_time": "2021-09-19T14:46:33.775Z"
   },
   {
    "duration": 2303,
    "start_time": "2021-09-19T14:46:33.786Z"
   },
   {
    "duration": 5621,
    "start_time": "2021-09-19T14:46:36.091Z"
   },
   {
    "duration": 264,
    "start_time": "2021-09-19T14:46:41.715Z"
   },
   {
    "duration": 1438,
    "start_time": "2021-09-19T14:47:46.387Z"
   },
   {
    "duration": 41,
    "start_time": "2021-09-19T14:47:47.829Z"
   },
   {
    "duration": 14,
    "start_time": "2021-09-19T14:47:47.874Z"
   },
   {
    "duration": 4,
    "start_time": "2021-09-19T14:47:47.892Z"
   },
   {
    "duration": 36,
    "start_time": "2021-09-19T14:47:47.900Z"
   },
   {
    "duration": 64,
    "start_time": "2021-09-19T14:47:47.939Z"
   },
   {
    "duration": 66,
    "start_time": "2021-09-19T14:47:48.005Z"
   },
   {
    "duration": 10,
    "start_time": "2021-09-19T14:47:48.075Z"
   },
   {
    "duration": 16,
    "start_time": "2021-09-19T14:47:48.089Z"
   },
   {
    "duration": 11,
    "start_time": "2021-09-19T14:47:48.107Z"
   },
   {
    "duration": 589,
    "start_time": "2021-09-19T14:47:48.121Z"
   },
   {
    "duration": 1605,
    "start_time": "2021-09-19T14:47:47.108Z"
   },
   {
    "duration": 1606,
    "start_time": "2021-09-19T14:47:47.109Z"
   },
   {
    "duration": 1605,
    "start_time": "2021-09-19T14:47:47.111Z"
   },
   {
    "duration": 1605,
    "start_time": "2021-09-19T14:47:47.112Z"
   },
   {
    "duration": 1606,
    "start_time": "2021-09-19T14:47:47.113Z"
   },
   {
    "duration": 1594,
    "start_time": "2021-09-19T14:47:47.126Z"
   },
   {
    "duration": 374,
    "start_time": "2021-09-19T14:47:58.296Z"
   },
   {
    "duration": 25,
    "start_time": "2021-09-19T14:48:06.507Z"
   },
   {
    "duration": 349,
    "start_time": "2021-09-19T14:48:08.576Z"
   },
   {
    "duration": 5,
    "start_time": "2021-09-19T14:48:12.938Z"
   },
   {
    "duration": 2388,
    "start_time": "2021-09-19T14:48:13.889Z"
   },
   {
    "duration": 6335,
    "start_time": "2021-09-19T14:48:16.281Z"
   },
   {
    "duration": 265,
    "start_time": "2021-09-19T14:48:24.308Z"
   },
   {
    "duration": 1435,
    "start_time": "2021-09-19T14:50:34.584Z"
   },
   {
    "duration": 36,
    "start_time": "2021-09-19T14:50:36.022Z"
   },
   {
    "duration": 17,
    "start_time": "2021-09-19T14:50:36.061Z"
   },
   {
    "duration": 10,
    "start_time": "2021-09-19T14:50:36.080Z"
   },
   {
    "duration": 39,
    "start_time": "2021-09-19T14:50:36.093Z"
   },
   {
    "duration": 38,
    "start_time": "2021-09-19T14:50:36.134Z"
   },
   {
    "duration": 46,
    "start_time": "2021-09-19T14:50:36.174Z"
   },
   {
    "duration": 9,
    "start_time": "2021-09-19T14:50:36.224Z"
   },
   {
    "duration": 46,
    "start_time": "2021-09-19T14:50:36.236Z"
   },
   {
    "duration": 9,
    "start_time": "2021-09-19T14:50:36.285Z"
   },
   {
    "duration": 23,
    "start_time": "2021-09-19T14:50:36.296Z"
   },
   {
    "duration": 68,
    "start_time": "2021-09-19T14:50:36.323Z"
   },
   {
    "duration": 11,
    "start_time": "2021-09-19T14:50:36.394Z"
   },
   {
    "duration": 9,
    "start_time": "2021-09-19T14:50:36.407Z"
   },
   {
    "duration": 2304,
    "start_time": "2021-09-19T14:50:36.419Z"
   },
   {
    "duration": 5599,
    "start_time": "2021-09-19T14:50:38.725Z"
   },
   {
    "duration": 266,
    "start_time": "2021-09-19T14:50:44.326Z"
   },
   {
    "duration": 8,
    "start_time": "2021-09-19T14:54:46.248Z"
   },
   {
    "duration": 1014,
    "start_time": "2021-09-19T14:55:04.906Z"
   },
   {
    "duration": 8,
    "start_time": "2021-09-19T14:55:20.485Z"
   },
   {
    "duration": 6,
    "start_time": "2021-09-19T14:55:28.485Z"
   },
   {
    "duration": 37,
    "start_time": "2021-09-19T14:55:28.829Z"
   },
   {
    "duration": 6345,
    "start_time": "2021-09-19T14:55:58.032Z"
   },
   {
    "duration": 5633,
    "start_time": "2021-09-19T14:56:24.788Z"
   },
   {
    "duration": 11670,
    "start_time": "2021-09-19T14:56:41.414Z"
   },
   {
    "duration": 25117,
    "start_time": "2021-09-19T14:58:49.278Z"
   },
   {
    "duration": 44340,
    "start_time": "2021-09-19T14:59:26.074Z"
   },
   {
    "duration": 6,
    "start_time": "2021-09-19T15:04:43.617Z"
   },
   {
    "duration": 24,
    "start_time": "2021-09-19T15:04:50.074Z"
   },
   {
    "duration": 6,
    "start_time": "2021-09-19T15:04:50.634Z"
   },
   {
    "duration": 20,
    "start_time": "2021-09-19T15:04:56.699Z"
   },
   {
    "duration": 6,
    "start_time": "2021-09-19T15:04:57.155Z"
   },
   {
    "duration": 26,
    "start_time": "2021-09-19T15:05:00.012Z"
   },
   {
    "duration": 6,
    "start_time": "2021-09-19T15:05:00.411Z"
   },
   {
    "duration": 3172,
    "start_time": "2021-09-19T15:05:08.108Z"
   },
   {
    "duration": 30255,
    "start_time": "2021-09-19T15:05:12.413Z"
   },
   {
    "duration": 4453,
    "start_time": "2021-09-19T15:05:49.610Z"
   },
   {
    "duration": 29659,
    "start_time": "2021-09-19T15:06:04.036Z"
   },
   {
    "duration": 3184,
    "start_time": "2021-09-19T15:06:43.344Z"
   },
   {
    "duration": 7830,
    "start_time": "2021-09-19T15:06:47.504Z"
   },
   {
    "duration": 9,
    "start_time": "2021-09-19T15:08:21.597Z"
   },
   {
    "duration": 18,
    "start_time": "2021-09-19T15:08:31.037Z"
   },
   {
    "duration": 7,
    "start_time": "2021-09-19T15:08:44.759Z"
   },
   {
    "duration": 10,
    "start_time": "2021-09-19T15:08:47.831Z"
   },
   {
    "duration": 22,
    "start_time": "2021-09-19T15:08:51.424Z"
   },
   {
    "duration": 8,
    "start_time": "2021-09-19T15:08:51.888Z"
   },
   {
    "duration": 23,
    "start_time": "2021-09-19T15:08:55.001Z"
   },
   {
    "duration": 6,
    "start_time": "2021-09-19T15:08:55.248Z"
   },
   {
    "duration": 17,
    "start_time": "2021-09-19T15:08:59.353Z"
   },
   {
    "duration": 6,
    "start_time": "2021-09-19T15:08:59.737Z"
   },
   {
    "duration": 1310,
    "start_time": "2021-09-19T15:09:19.676Z"
   },
   {
    "duration": 7933,
    "start_time": "2021-09-19T15:09:43.343Z"
   },
   {
    "duration": 3538,
    "start_time": "2021-09-19T15:10:29.341Z"
   },
   {
    "duration": 6082,
    "start_time": "2021-09-19T15:10:40.086Z"
   },
   {
    "duration": 10546,
    "start_time": "2021-09-19T15:10:54.303Z"
   },
   {
    "duration": 2801,
    "start_time": "2021-09-19T15:11:18.450Z"
   },
   {
    "duration": 763,
    "start_time": "2021-09-19T15:20:28.599Z"
   },
   {
    "duration": 440,
    "start_time": "2021-09-19T15:21:13.484Z"
   },
   {
    "duration": 301,
    "start_time": "2021-09-19T15:22:39.758Z"
   },
   {
    "duration": 3213,
    "start_time": "2021-09-19T15:23:01.161Z"
   },
   {
    "duration": 4153,
    "start_time": "2021-09-19T15:24:17.323Z"
   },
   {
    "duration": 1247,
    "start_time": "2021-09-19T15:26:42.029Z"
   },
   {
    "duration": 1839,
    "start_time": "2021-09-19T15:26:57.089Z"
   },
   {
    "duration": 30,
    "start_time": "2021-09-19T15:29:36.474Z"
   },
   {
    "duration": 6,
    "start_time": "2021-09-19T15:29:37.010Z"
   },
   {
    "duration": 4414,
    "start_time": "2021-09-19T15:29:38.378Z"
   },
   {
    "duration": 6,
    "start_time": "2021-09-19T15:29:55.596Z"
   },
   {
    "duration": 20,
    "start_time": "2021-09-19T15:29:56.044Z"
   },
   {
    "duration": 24,
    "start_time": "2021-09-19T15:30:15.217Z"
   },
   {
    "duration": 6,
    "start_time": "2021-09-19T15:30:33.105Z"
   },
   {
    "duration": 25,
    "start_time": "2021-09-19T15:31:05.133Z"
   },
   {
    "duration": 6,
    "start_time": "2021-09-19T15:31:13.333Z"
   },
   {
    "duration": 21,
    "start_time": "2021-09-19T15:32:14.621Z"
   },
   {
    "duration": 6,
    "start_time": "2021-09-19T15:32:14.958Z"
   },
   {
    "duration": 1443,
    "start_time": "2021-09-19T15:32:36.720Z"
   },
   {
    "duration": 2486,
    "start_time": "2021-09-19T15:32:55.563Z"
   },
   {
    "duration": 5,
    "start_time": "2021-09-19T15:33:23.750Z"
   },
   {
    "duration": 1447,
    "start_time": "2021-09-19T15:33:31.474Z"
   },
   {
    "duration": 34,
    "start_time": "2021-09-19T15:33:33.583Z"
   },
   {
    "duration": 14,
    "start_time": "2021-09-19T15:33:33.968Z"
   },
   {
    "duration": 10,
    "start_time": "2021-09-19T15:33:36.080Z"
   },
   {
    "duration": 30,
    "start_time": "2021-09-19T15:33:36.407Z"
   },
   {
    "duration": 14,
    "start_time": "2021-09-19T15:33:39.857Z"
   },
   {
    "duration": 43,
    "start_time": "2021-09-19T15:33:50.794Z"
   },
   {
    "duration": 8,
    "start_time": "2021-09-19T15:33:56.139Z"
   },
   {
    "duration": 17,
    "start_time": "2021-09-19T15:33:56.765Z"
   },
   {
    "duration": 8,
    "start_time": "2021-09-19T15:33:57.475Z"
   },
   {
    "duration": 10,
    "start_time": "2021-09-19T15:33:59.139Z"
   },
   {
    "duration": 28,
    "start_time": "2021-09-19T15:34:00.387Z"
   },
   {
    "duration": 10,
    "start_time": "2021-09-19T15:34:02.179Z"
   },
   {
    "duration": 6,
    "start_time": "2021-09-19T15:34:06.157Z"
   },
   {
    "duration": 2256,
    "start_time": "2021-09-19T15:34:08.708Z"
   },
   {
    "duration": 5411,
    "start_time": "2021-09-19T15:34:26.631Z"
   },
   {
    "duration": 250,
    "start_time": "2021-09-19T15:34:41.472Z"
   },
   {
    "duration": 6,
    "start_time": "2021-09-19T15:34:57.018Z"
   },
   {
    "duration": 18,
    "start_time": "2021-09-19T15:34:57.434Z"
   },
   {
    "duration": 6,
    "start_time": "2021-09-19T15:34:57.770Z"
   },
   {
    "duration": 4247,
    "start_time": "2021-09-19T15:34:59.890Z"
   },
   {
    "duration": 7708,
    "start_time": "2021-09-19T15:35:06.443Z"
   },
   {
    "duration": 8014,
    "start_time": "2021-09-19T15:35:20.117Z"
   },
   {
    "duration": 6,
    "start_time": "2021-09-19T15:35:30.911Z"
   },
   {
    "duration": 16,
    "start_time": "2021-09-19T15:35:31.327Z"
   },
   {
    "duration": 6,
    "start_time": "2021-09-19T15:35:32.591Z"
   },
   {
    "duration": 1283,
    "start_time": "2021-09-19T15:35:33.439Z"
   },
   {
    "duration": 2546,
    "start_time": "2021-09-19T15:35:47.978Z"
   },
   {
    "duration": 1249,
    "start_time": "2021-09-19T15:36:02.249Z"
   },
   {
    "duration": 2082,
    "start_time": "2021-09-19T15:36:05.738Z"
   },
   {
    "duration": 21,
    "start_time": "2021-09-19T15:36:11.179Z"
   },
   {
    "duration": 6,
    "start_time": "2021-09-19T15:36:11.475Z"
   },
   {
    "duration": 24,
    "start_time": "2021-09-19T15:36:11.746Z"
   },
   {
    "duration": 7,
    "start_time": "2021-09-19T15:36:12.043Z"
   },
   {
    "duration": 1445,
    "start_time": "2021-09-19T15:36:12.571Z"
   },
   {
    "duration": 2370,
    "start_time": "2021-09-19T15:36:32.685Z"
   },
   {
    "duration": 5,
    "start_time": "2021-09-19T15:40:38.597Z"
   },
   {
    "duration": 8,
    "start_time": "2021-09-19T15:40:52.068Z"
   },
   {
    "duration": 1482,
    "start_time": "2021-09-19T15:40:58.630Z"
   },
   {
    "duration": 38,
    "start_time": "2021-09-19T15:41:00.115Z"
   },
   {
    "duration": 18,
    "start_time": "2021-09-19T15:41:00.156Z"
   },
   {
    "duration": 9,
    "start_time": "2021-09-19T15:41:00.177Z"
   },
   {
    "duration": 30,
    "start_time": "2021-09-19T15:41:00.189Z"
   },
   {
    "duration": 47,
    "start_time": "2021-09-19T15:41:00.222Z"
   },
   {
    "duration": 45,
    "start_time": "2021-09-19T15:41:00.272Z"
   },
   {
    "duration": 9,
    "start_time": "2021-09-19T15:41:00.320Z"
   },
   {
    "duration": 8,
    "start_time": "2021-09-19T15:41:00.333Z"
   },
   {
    "duration": 37,
    "start_time": "2021-09-19T15:41:00.345Z"
   },
   {
    "duration": 14,
    "start_time": "2021-09-19T15:41:00.385Z"
   },
   {
    "duration": 19,
    "start_time": "2021-09-19T15:41:00.402Z"
   },
   {
    "duration": 53,
    "start_time": "2021-09-19T15:41:00.424Z"
   },
   {
    "duration": 8,
    "start_time": "2021-09-19T15:41:00.479Z"
   },
   {
    "duration": 27,
    "start_time": "2021-09-19T15:41:00.491Z"
   },
   {
    "duration": 3561,
    "start_time": "2021-09-19T15:41:00.521Z"
   },
   {
    "duration": 7162,
    "start_time": "2021-09-19T15:41:04.085Z"
   },
   {
    "duration": 392,
    "start_time": "2021-09-19T15:41:11.251Z"
   },
   {
    "duration": 7,
    "start_time": "2021-09-19T15:41:11.646Z"
   },
   {
    "duration": 30,
    "start_time": "2021-09-19T15:41:11.655Z"
   },
   {
    "duration": 6,
    "start_time": "2021-09-19T15:41:11.687Z"
   },
   {
    "duration": 4627,
    "start_time": "2021-09-19T15:41:11.695Z"
   },
   {
    "duration": 8890,
    "start_time": "2021-09-19T15:41:16.325Z"
   },
   {
    "duration": 5,
    "start_time": "2021-09-19T15:41:25.217Z"
   },
   {
    "duration": 34,
    "start_time": "2021-09-19T15:41:25.225Z"
   },
   {
    "duration": 5,
    "start_time": "2021-09-19T15:41:25.268Z"
   },
   {
    "duration": 1395,
    "start_time": "2021-09-19T15:41:25.278Z"
   },
   {
    "duration": 2631,
    "start_time": "2021-09-19T15:41:26.676Z"
   },
   {
    "duration": 30,
    "start_time": "2021-09-19T15:41:29.309Z"
   },
   {
    "duration": 25,
    "start_time": "2021-09-19T15:41:29.342Z"
   },
   {
    "duration": 22,
    "start_time": "2021-09-19T15:41:29.370Z"
   },
   {
    "duration": 5,
    "start_time": "2021-09-19T15:41:29.395Z"
   },
   {
    "duration": 1568,
    "start_time": "2021-09-19T15:41:29.403Z"
   },
   {
    "duration": 2987,
    "start_time": "2021-09-19T15:41:30.974Z"
   },
   {
    "duration": 4576,
    "start_time": "2021-09-19T15:42:00.002Z"
   },
   {
    "duration": 4763,
    "start_time": "2021-09-19T15:42:17.981Z"
   },
   {
    "duration": 32,
    "start_time": "2021-09-19T15:45:49.008Z"
   },
   {
    "duration": 33,
    "start_time": "2021-09-19T15:46:00.264Z"
   },
   {
    "duration": 1439,
    "start_time": "2021-09-19T15:47:22.282Z"
   },
   {
    "duration": 35,
    "start_time": "2021-09-19T15:47:23.724Z"
   },
   {
    "duration": 12,
    "start_time": "2021-09-19T15:47:23.762Z"
   },
   {
    "duration": 9,
    "start_time": "2021-09-19T15:47:23.777Z"
   },
   {
    "duration": 29,
    "start_time": "2021-09-19T15:47:23.789Z"
   },
   {
    "duration": 50,
    "start_time": "2021-09-19T15:47:23.820Z"
   },
   {
    "duration": 39,
    "start_time": "2021-09-19T15:47:23.873Z"
   },
   {
    "duration": 11,
    "start_time": "2021-09-19T15:47:23.914Z"
   },
   {
    "duration": 46,
    "start_time": "2021-09-19T15:47:23.929Z"
   },
   {
    "duration": 14,
    "start_time": "2021-09-19T15:47:23.978Z"
   },
   {
    "duration": 14,
    "start_time": "2021-09-19T15:47:23.994Z"
   },
   {
    "duration": 56,
    "start_time": "2021-09-19T15:47:24.011Z"
   },
   {
    "duration": 12,
    "start_time": "2021-09-19T15:47:24.070Z"
   },
   {
    "duration": 9,
    "start_time": "2021-09-19T15:47:24.085Z"
   },
   {
    "duration": 3022,
    "start_time": "2021-09-19T15:47:24.097Z"
   },
   {
    "duration": 5926,
    "start_time": "2021-09-19T15:47:27.121Z"
   },
   {
    "duration": 287,
    "start_time": "2021-09-19T15:47:33.050Z"
   },
   {
    "duration": 6,
    "start_time": "2021-09-19T15:47:33.340Z"
   },
   {
    "duration": 134,
    "start_time": "2021-09-19T15:47:33.349Z"
   },
   {
    "duration": 1961,
    "start_time": "2021-09-19T15:47:31.526Z"
   },
   {
    "duration": 1961,
    "start_time": "2021-09-19T15:47:31.527Z"
   },
   {
    "duration": 1960,
    "start_time": "2021-09-19T15:47:31.529Z"
   },
   {
    "duration": 1960,
    "start_time": "2021-09-19T15:47:31.531Z"
   },
   {
    "duration": 1960,
    "start_time": "2021-09-19T15:47:31.532Z"
   },
   {
    "duration": 1941,
    "start_time": "2021-09-19T15:47:31.554Z"
   },
   {
    "duration": 1941,
    "start_time": "2021-09-19T15:47:31.556Z"
   },
   {
    "duration": 1941,
    "start_time": "2021-09-19T15:47:31.558Z"
   },
   {
    "duration": 1941,
    "start_time": "2021-09-19T15:47:31.560Z"
   },
   {
    "duration": 1941,
    "start_time": "2021-09-19T15:47:31.562Z"
   },
   {
    "duration": 1942,
    "start_time": "2021-09-19T15:47:31.563Z"
   },
   {
    "duration": 1943,
    "start_time": "2021-09-19T15:47:31.564Z"
   },
   {
    "duration": 1943,
    "start_time": "2021-09-19T15:47:31.566Z"
   },
   {
    "duration": 1945,
    "start_time": "2021-09-19T15:47:31.567Z"
   },
   {
    "duration": 1944,
    "start_time": "2021-09-19T15:47:31.569Z"
   },
   {
    "duration": 25,
    "start_time": "2021-09-19T15:47:40.580Z"
   },
   {
    "duration": 7,
    "start_time": "2021-09-19T15:47:41.252Z"
   },
   {
    "duration": 3471,
    "start_time": "2021-09-19T15:47:42.588Z"
   },
   {
    "duration": 8633,
    "start_time": "2021-09-19T15:47:47.949Z"
   },
   {
    "duration": 6529,
    "start_time": "2021-09-19T15:48:06.160Z"
   },
   {
    "duration": 6,
    "start_time": "2021-09-19T15:48:18.946Z"
   },
   {
    "duration": 24,
    "start_time": "2021-09-19T15:48:20.418Z"
   },
   {
    "duration": 7,
    "start_time": "2021-09-19T15:48:20.445Z"
   },
   {
    "duration": 1972,
    "start_time": "2021-09-19T15:48:21.690Z"
   },
   {
    "duration": 2692,
    "start_time": "2021-09-19T15:48:29.995Z"
   },
   {
    "duration": 3448,
    "start_time": "2021-09-19T15:48:47.756Z"
   },
   {
    "duration": 8278,
    "start_time": "2021-09-19T15:49:37.620Z"
   },
   {
    "duration": 4475,
    "start_time": "2021-09-19T15:50:10.921Z"
   },
   {
    "duration": 10350,
    "start_time": "2021-09-19T15:50:23.841Z"
   },
   {
    "duration": 3185,
    "start_time": "2021-09-19T15:51:04.782Z"
   },
   {
    "duration": 5512,
    "start_time": "2021-09-19T15:51:27.122Z"
   },
   {
    "duration": 2202,
    "start_time": "2021-09-19T15:51:45.451Z"
   },
   {
    "duration": 27,
    "start_time": "2021-09-19T15:52:02.390Z"
   },
   {
    "duration": 16,
    "start_time": "2021-09-19T15:52:20.504Z"
   },
   {
    "duration": 18,
    "start_time": "2021-09-19T15:52:37.097Z"
   },
   {
    "duration": 1457,
    "start_time": "2021-09-19T15:53:54.065Z"
   },
   {
    "duration": 37,
    "start_time": "2021-09-19T15:53:55.524Z"
   },
   {
    "duration": 12,
    "start_time": "2021-09-19T15:53:55.564Z"
   },
   {
    "duration": 15,
    "start_time": "2021-09-19T15:53:55.579Z"
   },
   {
    "duration": 72,
    "start_time": "2021-09-19T15:53:55.597Z"
   },
   {
    "duration": 18,
    "start_time": "2021-09-19T15:53:55.672Z"
   },
   {
    "duration": 36,
    "start_time": "2021-09-19T15:53:55.693Z"
   },
   {
    "duration": 39,
    "start_time": "2021-09-19T15:53:55.733Z"
   },
   {
    "duration": 16,
    "start_time": "2021-09-19T15:53:55.775Z"
   },
   {
    "duration": 23,
    "start_time": "2021-09-19T15:53:55.794Z"
   },
   {
    "duration": 24,
    "start_time": "2021-09-19T15:53:55.821Z"
   },
   {
    "duration": 47,
    "start_time": "2021-09-19T15:53:55.847Z"
   },
   {
    "duration": 8,
    "start_time": "2021-09-19T15:53:55.896Z"
   },
   {
    "duration": 13,
    "start_time": "2021-09-19T15:53:55.906Z"
   },
   {
    "duration": 2245,
    "start_time": "2021-09-19T15:53:55.922Z"
   },
   {
    "duration": 5513,
    "start_time": "2021-09-19T15:53:58.170Z"
   },
   {
    "duration": 239,
    "start_time": "2021-09-19T15:54:03.685Z"
   },
   {
    "duration": 5,
    "start_time": "2021-09-19T15:54:03.927Z"
   },
   {
    "duration": 44,
    "start_time": "2021-09-19T15:54:03.935Z"
   },
   {
    "duration": 7,
    "start_time": "2021-09-19T15:54:03.982Z"
   },
   {
    "duration": 3313,
    "start_time": "2021-09-19T15:54:03.991Z"
   },
   {
    "duration": 8451,
    "start_time": "2021-09-19T15:54:07.307Z"
   },
   {
    "duration": 9,
    "start_time": "2021-09-19T15:54:15.769Z"
   },
   {
    "duration": 33,
    "start_time": "2021-09-19T15:54:15.781Z"
   },
   {
    "duration": 6,
    "start_time": "2021-09-19T15:54:15.817Z"
   },
   {
    "duration": 1531,
    "start_time": "2021-09-19T15:54:15.826Z"
   },
   {
    "duration": 2513,
    "start_time": "2021-09-19T15:54:17.367Z"
   },
   {
    "duration": 3,
    "start_time": "2021-09-19T15:54:19.882Z"
   },
   {
    "duration": 6,
    "start_time": "2021-09-19T15:54:19.887Z"
   },
   {
    "duration": 7,
    "start_time": "2021-09-19T15:54:19.896Z"
   },
   {
    "duration": 11,
    "start_time": "2021-09-19T15:54:19.905Z"
   },
   {
    "duration": 7631,
    "start_time": "2021-09-19T15:54:19.919Z"
   },
   {
    "duration": 6825,
    "start_time": "2021-09-19T15:54:27.552Z"
   },
   {
    "duration": 2926,
    "start_time": "2021-09-19T15:54:34.380Z"
   },
   {
    "duration": 2080,
    "start_time": "2021-09-19T15:54:37.309Z"
   },
   {
    "duration": 17,
    "start_time": "2021-09-19T15:54:39.391Z"
   },
   {
    "duration": 23,
    "start_time": "2021-09-19T15:54:39.411Z"
   },
   {
    "duration": 1860,
    "start_time": "2021-09-19T15:54:45.400Z"
   },
   {
    "duration": 99,
    "start_time": "2021-09-19T15:55:01.658Z"
   },
   {
    "duration": 20,
    "start_time": "2021-09-19T15:55:07.451Z"
   },
   {
    "duration": 6,
    "start_time": "2021-09-19T15:55:12.804Z"
   },
   {
    "duration": 3479,
    "start_time": "2021-09-19T15:55:16.588Z"
   },
   {
    "duration": 2095,
    "start_time": "2021-09-19T15:55:21.100Z"
   },
   {
    "duration": 7545,
    "start_time": "2021-09-19T15:55:33.399Z"
   },
   {
    "duration": 28,
    "start_time": "2021-09-19T15:55:44.152Z"
   },
   {
    "duration": 457,
    "start_time": "2021-09-19T15:55:48.904Z"
   },
   {
    "duration": 24,
    "start_time": "2021-09-19T15:55:54.081Z"
   },
   {
    "duration": 390,
    "start_time": "2021-09-19T15:55:54.385Z"
   },
   {
    "duration": 16,
    "start_time": "2021-09-19T15:56:18.172Z"
   },
   {
    "duration": 19,
    "start_time": "2021-09-19T15:56:28.117Z"
   },
   {
    "duration": 17,
    "start_time": "2021-09-19T15:56:30.981Z"
   },
   {
    "duration": 7,
    "start_time": "2021-09-19T15:56:34.741Z"
   },
   {
    "duration": 6,
    "start_time": "2021-09-19T15:57:17.395Z"
   },
   {
    "duration": 20,
    "start_time": "2021-09-19T15:57:19.027Z"
   },
   {
    "duration": 6,
    "start_time": "2021-09-19T15:57:19.475Z"
   },
   {
    "duration": 16,
    "start_time": "2021-09-19T15:57:28.620Z"
   },
   {
    "duration": 5,
    "start_time": "2021-09-19T15:57:28.957Z"
   },
   {
    "duration": 8,
    "start_time": "2021-09-19T15:57:36.361Z"
   },
   {
    "duration": 22,
    "start_time": "2021-09-19T15:57:37.941Z"
   },
   {
    "duration": 16,
    "start_time": "2021-09-19T15:57:38.430Z"
   },
   {
    "duration": 29,
    "start_time": "2021-09-19T15:58:31.908Z"
   },
   {
    "duration": 8,
    "start_time": "2021-09-19T15:58:39.227Z"
   },
   {
    "duration": 22,
    "start_time": "2021-09-19T15:58:45.510Z"
   },
   {
    "duration": 15,
    "start_time": "2021-09-19T15:58:50.158Z"
   },
   {
    "duration": 137,
    "start_time": "2021-09-19T15:58:55.000Z"
   },
   {
    "duration": 44,
    "start_time": "2021-09-19T15:59:00.935Z"
   },
   {
    "duration": 31,
    "start_time": "2021-09-19T15:59:27.323Z"
   },
   {
    "duration": 2189,
    "start_time": "2021-09-19T16:01:48.860Z"
   },
   {
    "duration": 2155,
    "start_time": "2021-09-19T16:02:06.631Z"
   },
   {
    "duration": 36,
    "start_time": "2021-09-19T16:03:00.334Z"
   },
   {
    "duration": 11,
    "start_time": "2021-09-19T16:03:01.118Z"
   },
   {
    "duration": 21,
    "start_time": "2021-09-19T16:03:02.316Z"
   },
   {
    "duration": 3061,
    "start_time": "2021-09-19T16:03:09.471Z"
   },
   {
    "duration": 2200,
    "start_time": "2021-09-19T16:03:54.044Z"
   },
   {
    "duration": 2193,
    "start_time": "2021-09-19T16:04:06.951Z"
   },
   {
    "duration": 5247,
    "start_time": "2021-09-19T16:04:20.598Z"
   },
   {
    "duration": 234,
    "start_time": "2021-09-19T16:04:39.538Z"
   },
   {
    "duration": 6,
    "start_time": "2021-09-19T16:04:44.498Z"
   },
   {
    "duration": 26,
    "start_time": "2021-09-19T16:04:44.898Z"
   },
   {
    "duration": 6,
    "start_time": "2021-09-19T16:04:45.361Z"
   },
   {
    "duration": 4449,
    "start_time": "2021-09-19T16:04:45.867Z"
   },
   {
    "duration": 6909,
    "start_time": "2021-09-19T16:04:50.319Z"
   },
   {
    "duration": 8185,
    "start_time": "2021-09-19T16:04:59.876Z"
   },
   {
    "duration": 9,
    "start_time": "2021-09-19T16:05:08.773Z"
   },
   {
    "duration": 17,
    "start_time": "2021-09-19T16:05:09.725Z"
   },
   {
    "duration": 6,
    "start_time": "2021-09-19T16:05:11.013Z"
   },
   {
    "duration": 1329,
    "start_time": "2021-09-19T16:05:11.574Z"
   },
   {
    "duration": 2363,
    "start_time": "2021-09-19T16:05:28.104Z"
   },
   {
    "duration": 7485,
    "start_time": "2021-09-19T16:05:35.408Z"
   },
   {
    "duration": 6837,
    "start_time": "2021-09-19T16:07:28.630Z"
   },
   {
    "duration": 2955,
    "start_time": "2021-09-19T16:07:55.123Z"
   },
   {
    "duration": 2850,
    "start_time": "2021-09-19T16:08:07.604Z"
   },
   {
    "duration": 3133,
    "start_time": "2021-09-19T16:08:23.781Z"
   },
   {
    "duration": 7114,
    "start_time": "2021-09-19T16:08:37.584Z"
   },
   {
    "duration": 1522,
    "start_time": "2021-09-19T16:09:38.199Z"
   },
   {
    "duration": 35,
    "start_time": "2021-09-19T16:09:39.724Z"
   },
   {
    "duration": 13,
    "start_time": "2021-09-19T16:09:39.763Z"
   },
   {
    "duration": 16,
    "start_time": "2021-09-19T16:09:39.779Z"
   },
   {
    "duration": 30,
    "start_time": "2021-09-19T16:09:39.798Z"
   },
   {
    "duration": 40,
    "start_time": "2021-09-19T16:09:39.831Z"
   },
   {
    "duration": 41,
    "start_time": "2021-09-19T16:09:39.874Z"
   },
   {
    "duration": 11,
    "start_time": "2021-09-19T16:09:39.920Z"
   },
   {
    "duration": 44,
    "start_time": "2021-09-19T16:09:39.934Z"
   },
   {
    "duration": 12,
    "start_time": "2021-09-19T16:09:39.981Z"
   },
   {
    "duration": 14,
    "start_time": "2021-09-19T16:09:39.995Z"
   },
   {
    "duration": 33,
    "start_time": "2021-09-19T16:09:40.011Z"
   },
   {
    "duration": 8,
    "start_time": "2021-09-19T16:09:40.068Z"
   },
   {
    "duration": 12,
    "start_time": "2021-09-19T16:09:40.079Z"
   },
   {
    "duration": 2474,
    "start_time": "2021-09-19T16:09:40.095Z"
   },
   {
    "duration": 5811,
    "start_time": "2021-09-19T16:09:42.571Z"
   },
   {
    "duration": 288,
    "start_time": "2021-09-19T16:09:48.385Z"
   },
   {
    "duration": 6,
    "start_time": "2021-09-19T16:09:48.676Z"
   },
   {
    "duration": 23,
    "start_time": "2021-09-19T16:09:48.685Z"
   },
   {
    "duration": 6,
    "start_time": "2021-09-19T16:09:48.710Z"
   },
   {
    "duration": 3478,
    "start_time": "2021-09-19T16:09:48.719Z"
   },
   {
    "duration": 8850,
    "start_time": "2021-09-19T16:09:52.200Z"
   },
   {
    "duration": 6,
    "start_time": "2021-09-19T16:10:01.067Z"
   },
   {
    "duration": 31,
    "start_time": "2021-09-19T16:10:01.077Z"
   },
   {
    "duration": 31,
    "start_time": "2021-09-19T16:10:01.111Z"
   },
   {
    "duration": 1421,
    "start_time": "2021-09-19T16:10:01.145Z"
   },
   {
    "duration": 2507,
    "start_time": "2021-09-19T16:10:02.569Z"
   },
   {
    "duration": 3442,
    "start_time": "2021-09-19T16:10:05.078Z"
   },
   {
    "duration": 7754,
    "start_time": "2021-09-19T16:10:08.523Z"
   },
   {
    "duration": 1497,
    "start_time": "2021-09-19T16:11:20.020Z"
   },
   {
    "duration": 33,
    "start_time": "2021-09-19T16:11:21.520Z"
   },
   {
    "duration": 17,
    "start_time": "2021-09-19T16:11:21.556Z"
   },
   {
    "duration": 11,
    "start_time": "2021-09-19T16:11:21.576Z"
   },
   {
    "duration": 29,
    "start_time": "2021-09-19T16:11:21.590Z"
   },
   {
    "duration": 54,
    "start_time": "2021-09-19T16:11:21.622Z"
   },
   {
    "duration": 38,
    "start_time": "2021-09-19T16:11:21.679Z"
   },
   {
    "duration": 10,
    "start_time": "2021-09-19T16:11:21.720Z"
   },
   {
    "duration": 46,
    "start_time": "2021-09-19T16:11:21.734Z"
   },
   {
    "duration": 13,
    "start_time": "2021-09-19T16:11:21.783Z"
   },
   {
    "duration": 17,
    "start_time": "2021-09-19T16:11:21.798Z"
   },
   {
    "duration": 65,
    "start_time": "2021-09-19T16:11:21.818Z"
   },
   {
    "duration": 8,
    "start_time": "2021-09-19T16:11:21.885Z"
   },
   {
    "duration": 12,
    "start_time": "2021-09-19T16:11:21.895Z"
   },
   {
    "duration": 2243,
    "start_time": "2021-09-19T16:11:21.910Z"
   },
   {
    "duration": 5312,
    "start_time": "2021-09-19T16:11:24.156Z"
   },
   {
    "duration": 236,
    "start_time": "2021-09-19T16:11:29.471Z"
   },
   {
    "duration": 5,
    "start_time": "2021-09-19T16:11:29.710Z"
   },
   {
    "duration": 20,
    "start_time": "2021-09-19T16:11:29.717Z"
   },
   {
    "duration": 29,
    "start_time": "2021-09-19T16:11:29.740Z"
   },
   {
    "duration": 3289,
    "start_time": "2021-09-19T16:11:29.771Z"
   },
   {
    "duration": 8204,
    "start_time": "2021-09-19T16:11:33.063Z"
   },
   {
    "duration": 6,
    "start_time": "2021-09-19T16:11:41.270Z"
   },
   {
    "duration": 19,
    "start_time": "2021-09-19T16:11:41.278Z"
   },
   {
    "duration": 6,
    "start_time": "2021-09-19T16:11:41.299Z"
   },
   {
    "duration": 1521,
    "start_time": "2021-09-19T16:11:41.308Z"
   },
   {
    "duration": 2393,
    "start_time": "2021-09-19T16:11:42.834Z"
   },
   {
    "duration": 4413,
    "start_time": "2021-09-19T16:11:45.230Z"
   },
   {
    "duration": 7269,
    "start_time": "2021-09-19T16:11:49.646Z"
   },
   {
    "duration": 3418,
    "start_time": "2021-09-19T16:12:34.774Z"
   },
   {
    "duration": 3638,
    "start_time": "2021-09-19T16:12:59.306Z"
   },
   {
    "duration": 3133,
    "start_time": "2021-09-19T16:13:13.323Z"
   },
   {
    "duration": 2146,
    "start_time": "2021-09-19T16:13:57.474Z"
   },
   {
    "duration": 1418,
    "start_time": "2021-09-19T16:14:16.459Z"
   },
   {
    "duration": 38,
    "start_time": "2021-09-19T16:14:17.880Z"
   },
   {
    "duration": 14,
    "start_time": "2021-09-19T16:14:17.921Z"
   },
   {
    "duration": 31,
    "start_time": "2021-09-19T16:14:17.938Z"
   },
   {
    "duration": 29,
    "start_time": "2021-09-19T16:14:17.971Z"
   },
   {
    "duration": 14,
    "start_time": "2021-09-19T16:14:18.002Z"
   },
   {
    "duration": 78,
    "start_time": "2021-09-19T16:14:18.019Z"
   },
   {
    "duration": 13,
    "start_time": "2021-09-19T16:14:18.100Z"
   },
   {
    "duration": 23,
    "start_time": "2021-09-19T16:14:18.118Z"
   },
   {
    "duration": 10,
    "start_time": "2021-09-19T16:14:18.169Z"
   },
   {
    "duration": 10,
    "start_time": "2021-09-19T16:14:18.182Z"
   },
   {
    "duration": 81,
    "start_time": "2021-09-19T16:14:18.195Z"
   },
   {
    "duration": 10,
    "start_time": "2021-09-19T16:14:18.279Z"
   },
   {
    "duration": 8,
    "start_time": "2021-09-19T16:14:18.292Z"
   },
   {
    "duration": 2163,
    "start_time": "2021-09-19T16:14:20.558Z"
   },
   {
    "duration": 2176,
    "start_time": "2021-09-19T16:14:42.887Z"
   },
   {
    "duration": 5182,
    "start_time": "2021-09-19T16:15:09.610Z"
   },
   {
    "duration": 4247,
    "start_time": "2021-09-19T16:15:17.994Z"
   },
   {
    "duration": 8496,
    "start_time": "2021-09-19T16:15:29.236Z"
   },
   {
    "duration": 1200,
    "start_time": "2021-09-19T16:15:51.109Z"
   },
   {
    "duration": 11057,
    "start_time": "2021-09-19T16:15:58.072Z"
   },
   {
    "duration": 10567,
    "start_time": "2021-09-19T16:16:12.122Z"
   },
   {
    "duration": 10785,
    "start_time": "2021-09-19T16:17:07.737Z"
   },
   {
    "duration": 10408,
    "start_time": "2021-09-19T16:17:20.593Z"
   },
   {
    "duration": 28,
    "start_time": "2021-09-19T16:17:59.127Z"
   },
   {
    "duration": 9,
    "start_time": "2021-09-19T16:18:00.071Z"
   },
   {
    "duration": 5,
    "start_time": "2021-09-19T16:18:02.479Z"
   },
   {
    "duration": 10320,
    "start_time": "2021-09-19T16:18:03.584Z"
   },
   {
    "duration": 10563,
    "start_time": "2021-09-19T16:18:17.353Z"
   },
   {
    "duration": 36,
    "start_time": "2021-09-19T16:18:47.572Z"
   },
   {
    "duration": 10,
    "start_time": "2021-09-19T16:18:48.413Z"
   },
   {
    "duration": 10633,
    "start_time": "2021-09-19T16:19:04.727Z"
   },
   {
    "duration": 38,
    "start_time": "2021-09-19T16:20:20.554Z"
   },
   {
    "duration": 11374,
    "start_time": "2021-09-19T16:20:23.088Z"
   },
   {
    "duration": 34,
    "start_time": "2021-09-19T16:20:59.325Z"
   },
   {
    "duration": 12,
    "start_time": "2021-09-19T16:21:00.157Z"
   },
   {
    "duration": 6,
    "start_time": "2021-09-19T16:21:02.365Z"
   },
   {
    "duration": 11807,
    "start_time": "2021-09-19T16:21:03.326Z"
   },
   {
    "duration": 35,
    "start_time": "2021-09-19T16:21:19.816Z"
   },
   {
    "duration": 11,
    "start_time": "2021-09-19T16:21:20.143Z"
   },
   {
    "duration": 52,
    "start_time": "2021-09-19T16:21:48.612Z"
   },
   {
    "duration": 10909,
    "start_time": "2021-09-19T16:21:52.259Z"
   },
   {
    "duration": 2302,
    "start_time": "2021-09-19T16:22:07.789Z"
   },
   {
    "duration": 2439,
    "start_time": "2021-09-19T16:22:18.646Z"
   },
   {
    "duration": 34,
    "start_time": "2021-09-19T16:22:32.152Z"
   },
   {
    "duration": 9,
    "start_time": "2021-09-19T16:22:32.561Z"
   },
   {
    "duration": 6,
    "start_time": "2021-09-19T16:22:34.352Z"
   },
   {
    "duration": 2187,
    "start_time": "2021-09-19T16:22:35.305Z"
   },
   {
    "duration": 1401,
    "start_time": "2021-09-19T16:22:57.160Z"
   },
   {
    "duration": 35,
    "start_time": "2021-09-19T16:22:58.564Z"
   },
   {
    "duration": 13,
    "start_time": "2021-09-19T16:22:58.602Z"
   },
   {
    "duration": 9,
    "start_time": "2021-09-19T16:22:58.618Z"
   },
   {
    "duration": 53,
    "start_time": "2021-09-19T16:22:58.630Z"
   },
   {
    "duration": 13,
    "start_time": "2021-09-19T16:22:58.685Z"
   },
   {
    "duration": 37,
    "start_time": "2021-09-19T16:22:58.701Z"
   },
   {
    "duration": 10,
    "start_time": "2021-09-19T16:22:58.768Z"
   },
   {
    "duration": 16,
    "start_time": "2021-09-19T16:22:58.782Z"
   },
   {
    "duration": 10,
    "start_time": "2021-09-19T16:22:58.801Z"
   },
   {
    "duration": 10,
    "start_time": "2021-09-19T16:22:58.813Z"
   },
   {
    "duration": 74,
    "start_time": "2021-09-19T16:22:58.825Z"
   },
   {
    "duration": 8,
    "start_time": "2021-09-19T16:22:58.902Z"
   },
   {
    "duration": 7,
    "start_time": "2021-09-19T16:22:58.913Z"
   },
   {
    "duration": 2298,
    "start_time": "2021-09-19T16:22:58.923Z"
   },
   {
    "duration": 5293,
    "start_time": "2021-09-19T16:23:01.224Z"
   },
   {
    "duration": 259,
    "start_time": "2021-09-19T16:23:06.520Z"
   },
   {
    "duration": 6,
    "start_time": "2021-09-19T16:23:06.782Z"
   },
   {
    "duration": 20,
    "start_time": "2021-09-19T16:23:06.790Z"
   },
   {
    "duration": 6,
    "start_time": "2021-09-19T16:23:06.813Z"
   },
   {
    "duration": 3159,
    "start_time": "2021-09-19T16:23:06.822Z"
   },
   {
    "duration": 8638,
    "start_time": "2021-09-19T16:23:09.984Z"
   },
   {
    "duration": 9,
    "start_time": "2021-09-19T16:23:18.625Z"
   },
   {
    "duration": 37,
    "start_time": "2021-09-19T16:23:18.636Z"
   },
   {
    "duration": 5,
    "start_time": "2021-09-19T16:23:18.676Z"
   },
   {
    "duration": 1328,
    "start_time": "2021-09-19T16:23:18.684Z"
   },
   {
    "duration": 2444,
    "start_time": "2021-09-19T16:23:20.016Z"
   },
   {
    "duration": 2204,
    "start_time": "2021-09-19T16:23:22.463Z"
   },
   {
    "duration": 2583,
    "start_time": "2021-09-19T16:23:24.669Z"
   },
   {
    "duration": 4723,
    "start_time": "2021-09-19T16:23:50.203Z"
   },
   {
    "duration": 5579,
    "start_time": "2021-09-19T16:24:18.848Z"
   },
   {
    "duration": 5863,
    "start_time": "2021-09-19T16:24:30.825Z"
   },
   {
    "duration": 8156,
    "start_time": "2021-09-19T16:25:10.677Z"
   },
   {
    "duration": 534,
    "start_time": "2021-09-19T16:26:05.469Z"
   },
   {
    "duration": 743,
    "start_time": "2021-09-19T16:26:28.616Z"
   },
   {
    "duration": 6102,
    "start_time": "2021-09-19T16:26:44.182Z"
   },
   {
    "duration": 444,
    "start_time": "2021-09-19T16:57:57.551Z"
   },
   {
    "duration": 3042,
    "start_time": "2021-09-19T16:58:12.688Z"
   },
   {
    "duration": 2383,
    "start_time": "2021-09-19T16:58:23.466Z"
   },
   {
    "duration": 14266,
    "start_time": "2021-09-19T17:02:22.140Z"
   },
   {
    "duration": 7122,
    "start_time": "2021-09-19T17:03:07.435Z"
   },
   {
    "duration": 53344,
    "start_time": "2021-09-19T17:04:28.550Z"
   },
   {
    "duration": 59,
    "start_time": "2021-09-19T17:06:57.693Z"
   },
   {
    "duration": 605,
    "start_time": "2021-09-19T17:07:10.552Z"
   },
   {
    "duration": 7,
    "start_time": "2021-09-19T17:07:16.241Z"
   },
   {
    "duration": 5,
    "start_time": "2021-09-19T17:07:24.458Z"
   },
   {
    "duration": 52877,
    "start_time": "2021-09-19T17:09:00.815Z"
   },
   {
    "duration": 56,
    "start_time": "2021-09-19T17:10:34.094Z"
   },
   {
    "duration": 6,
    "start_time": "2021-09-19T17:10:48.895Z"
   },
   {
    "duration": 6,
    "start_time": "2021-09-19T17:10:55.946Z"
   },
   {
    "duration": 54,
    "start_time": "2021-09-19T17:12:31.408Z"
   },
   {
    "duration": 13056,
    "start_time": "2021-09-19T17:13:11.276Z"
   },
   {
    "duration": 18240,
    "start_time": "2021-09-19T17:13:46.692Z"
   },
   {
    "duration": 3251,
    "start_time": "2021-09-19T17:14:51.100Z"
   },
   {
    "duration": 1695,
    "start_time": "2021-09-19T17:14:57.335Z"
   },
   {
    "duration": 18641,
    "start_time": "2021-09-19T17:16:00.927Z"
   },
   {
    "duration": 18987,
    "start_time": "2021-09-19T17:16:50.189Z"
   },
   {
    "duration": 2890,
    "start_time": "2021-09-19T17:18:18.423Z"
   },
   {
    "duration": 3979,
    "start_time": "2021-09-19T17:18:46.907Z"
   },
   {
    "duration": 2887,
    "start_time": "2021-09-19T17:19:07.165Z"
   },
   {
    "duration": 2935,
    "start_time": "2021-09-19T17:19:18.935Z"
   },
   {
    "duration": 2906,
    "start_time": "2021-09-19T17:19:30.031Z"
   },
   {
    "duration": 2394,
    "start_time": "2021-09-19T17:19:54.754Z"
   },
   {
    "duration": 4974,
    "start_time": "2021-09-19T17:20:25.093Z"
   },
   {
    "duration": 5201,
    "start_time": "2021-09-19T17:22:15.787Z"
   },
   {
    "duration": 89396,
    "start_time": "2021-09-19T17:22:54.561Z"
   },
   {
    "duration": 88097,
    "start_time": "2021-09-19T17:25:15.258Z"
   },
   {
    "duration": 781,
    "start_time": "2021-09-19T17:27:02.951Z"
   },
   {
    "duration": 39024,
    "start_time": "2021-09-19T17:27:26.794Z"
   },
   {
    "duration": 298,
    "start_time": "2021-09-19T17:28:13.192Z"
   },
   {
    "duration": 786,
    "start_time": "2021-09-19T17:29:07.735Z"
   },
   {
    "duration": 92265,
    "start_time": "2021-09-19T17:29:56.028Z"
   },
   {
    "duration": 297,
    "start_time": "2021-09-19T17:38:41.178Z"
   },
   {
    "duration": 39212,
    "start_time": "2021-09-19T17:38:57.876Z"
   },
   {
    "duration": 6,
    "start_time": "2021-09-19T17:44:53.881Z"
   },
   {
    "duration": 59,
    "start_time": "2021-09-19T17:46:20.939Z"
   },
   {
    "duration": 959,
    "start_time": "2021-09-19T17:46:44.519Z"
   },
   {
    "duration": 57,
    "start_time": "2021-09-19T17:46:57.817Z"
   },
   {
    "duration": 6,
    "start_time": "2021-09-19T17:47:55.968Z"
   },
   {
    "duration": 7,
    "start_time": "2021-09-19T17:48:21.995Z"
   },
   {
    "duration": 12,
    "start_time": "2021-09-19T17:48:32.869Z"
   },
   {
    "duration": 60,
    "start_time": "2021-09-19T17:49:01.472Z"
   },
   {
    "duration": 9,
    "start_time": "2021-09-19T17:49:02.225Z"
   },
   {
    "duration": 1126,
    "start_time": "2021-09-19T17:49:19.353Z"
   },
   {
    "duration": 332,
    "start_time": "2021-09-19T17:49:25.523Z"
   },
   {
    "duration": 7,
    "start_time": "2021-09-19T17:49:30.995Z"
   },
   {
    "duration": 5,
    "start_time": "2021-09-19T17:57:38.040Z"
   },
   {
    "duration": 372,
    "start_time": "2021-09-19T17:57:55.227Z"
   },
   {
    "duration": 184,
    "start_time": "2021-09-19T17:58:09.756Z"
   },
   {
    "duration": 298,
    "start_time": "2021-09-19T17:58:15.148Z"
   },
   {
    "duration": 377,
    "start_time": "2021-09-19T17:58:44.999Z"
   },
   {
    "duration": 58,
    "start_time": "2021-09-19T17:59:09.539Z"
   },
   {
    "duration": 271,
    "start_time": "2021-09-19T17:59:10.186Z"
   },
   {
    "duration": 878,
    "start_time": "2021-09-19T17:59:36.821Z"
   },
   {
    "duration": 61,
    "start_time": "2021-09-19T18:00:00.024Z"
   },
   {
    "duration": 273,
    "start_time": "2021-09-19T18:00:09.776Z"
   },
   {
    "duration": 30,
    "start_time": "2021-09-19T18:21:51.048Z"
   },
   {
    "duration": 6,
    "start_time": "2021-09-19T18:22:04.296Z"
   },
   {
    "duration": 1049,
    "start_time": "2021-09-19T18:22:11.209Z"
   },
   {
    "duration": 123701,
    "start_time": "2021-09-19T18:22:24.480Z"
   },
   {
    "duration": 8,
    "start_time": "2021-09-19T18:24:56.690Z"
   },
   {
    "duration": 22,
    "start_time": "2021-09-19T18:26:14.949Z"
   },
   {
    "duration": 7,
    "start_time": "2021-09-19T18:26:24.181Z"
   },
   {
    "duration": 362,
    "start_time": "2021-09-19T18:26:35.351Z"
   },
   {
    "duration": 41499,
    "start_time": "2021-09-19T18:26:38.411Z"
   },
   {
    "duration": 10,
    "start_time": "2021-09-19T18:27:19.913Z"
   },
   {
    "duration": 7,
    "start_time": "2021-09-19T18:28:30.053Z"
   },
   {
    "duration": 7,
    "start_time": "2021-09-19T18:28:36.918Z"
   },
   {
    "duration": 62,
    "start_time": "2021-09-19T18:31:20.877Z"
   },
   {
    "duration": 267,
    "start_time": "2021-09-19T18:31:28.054Z"
   },
   {
    "duration": 1630,
    "start_time": "2021-09-19T18:33:17.128Z"
   },
   {
    "duration": 39,
    "start_time": "2021-09-19T18:33:18.760Z"
   },
   {
    "duration": 13,
    "start_time": "2021-09-19T18:33:18.803Z"
   },
   {
    "duration": 11,
    "start_time": "2021-09-19T18:33:18.819Z"
   },
   {
    "duration": 47,
    "start_time": "2021-09-19T18:33:18.833Z"
   },
   {
    "duration": 12,
    "start_time": "2021-09-19T18:33:18.883Z"
   },
   {
    "duration": 39,
    "start_time": "2021-09-19T18:33:18.898Z"
   },
   {
    "duration": 10,
    "start_time": "2021-09-19T18:33:18.967Z"
   },
   {
    "duration": 19,
    "start_time": "2021-09-19T18:33:18.983Z"
   },
   {
    "duration": 23,
    "start_time": "2021-09-19T18:33:19.005Z"
   },
   {
    "duration": 37,
    "start_time": "2021-09-19T18:33:19.031Z"
   },
   {
    "duration": 36,
    "start_time": "2021-09-19T18:33:19.071Z"
   },
   {
    "duration": 12,
    "start_time": "2021-09-19T18:33:19.110Z"
   },
   {
    "duration": 45,
    "start_time": "2021-09-19T18:33:19.125Z"
   },
   {
    "duration": 2263,
    "start_time": "2021-09-19T18:33:19.172Z"
   },
   {
    "duration": 5537,
    "start_time": "2021-09-19T18:33:21.437Z"
   },
   {
    "duration": 235,
    "start_time": "2021-09-19T18:33:26.976Z"
   },
   {
    "duration": 6,
    "start_time": "2021-09-19T18:33:27.214Z"
   },
   {
    "duration": 47,
    "start_time": "2021-09-19T18:33:27.222Z"
   },
   {
    "duration": 6,
    "start_time": "2021-09-19T18:33:27.272Z"
   },
   {
    "duration": 601,
    "start_time": "2021-09-19T18:33:27.280Z"
   },
   {
    "duration": 2930,
    "start_time": "2021-09-19T18:33:24.954Z"
   },
   {
    "duration": 2930,
    "start_time": "2021-09-19T18:33:24.956Z"
   },
   {
    "duration": 2926,
    "start_time": "2021-09-19T18:33:24.961Z"
   },
   {
    "duration": 2925,
    "start_time": "2021-09-19T18:33:24.963Z"
   },
   {
    "duration": 2925,
    "start_time": "2021-09-19T18:33:24.965Z"
   },
   {
    "duration": 2921,
    "start_time": "2021-09-19T18:33:24.970Z"
   },
   {
    "duration": 2921,
    "start_time": "2021-09-19T18:33:24.972Z"
   },
   {
    "duration": 2921,
    "start_time": "2021-09-19T18:33:24.973Z"
   },
   {
    "duration": 2919,
    "start_time": "2021-09-19T18:33:24.976Z"
   },
   {
    "duration": 2919,
    "start_time": "2021-09-19T18:33:24.978Z"
   },
   {
    "duration": 2915,
    "start_time": "2021-09-19T18:33:24.983Z"
   },
   {
    "duration": 2915,
    "start_time": "2021-09-19T18:33:24.985Z"
   },
   {
    "duration": 2914,
    "start_time": "2021-09-19T18:33:24.987Z"
   },
   {
    "duration": 2913,
    "start_time": "2021-09-19T18:33:24.990Z"
   },
   {
    "duration": 2912,
    "start_time": "2021-09-19T18:33:24.992Z"
   },
   {
    "duration": 1647,
    "start_time": "2021-09-19T18:35:16.358Z"
   },
   {
    "duration": 34,
    "start_time": "2021-09-19T18:35:18.007Z"
   },
   {
    "duration": 23,
    "start_time": "2021-09-19T18:35:18.044Z"
   },
   {
    "duration": 8,
    "start_time": "2021-09-19T18:35:18.070Z"
   },
   {
    "duration": 25,
    "start_time": "2021-09-19T18:35:18.081Z"
   },
   {
    "duration": 13,
    "start_time": "2021-09-19T18:35:18.108Z"
   },
   {
    "duration": 77,
    "start_time": "2021-09-19T18:35:18.123Z"
   },
   {
    "duration": 10,
    "start_time": "2021-09-19T18:35:18.202Z"
   },
   {
    "duration": 50,
    "start_time": "2021-09-19T18:35:18.216Z"
   },
   {
    "duration": 8,
    "start_time": "2021-09-19T18:35:18.270Z"
   },
   {
    "duration": 13,
    "start_time": "2021-09-19T18:35:18.280Z"
   },
   {
    "duration": 76,
    "start_time": "2021-09-19T18:35:18.296Z"
   },
   {
    "duration": 8,
    "start_time": "2021-09-19T18:35:18.375Z"
   },
   {
    "duration": 8,
    "start_time": "2021-09-19T18:35:18.385Z"
   },
   {
    "duration": 3060,
    "start_time": "2021-09-19T18:35:18.396Z"
   },
   {
    "duration": 7179,
    "start_time": "2021-09-19T18:35:21.459Z"
   },
   {
    "duration": 242,
    "start_time": "2021-09-19T18:35:28.641Z"
   },
   {
    "duration": 6,
    "start_time": "2021-09-19T18:35:28.885Z"
   },
   {
    "duration": 17,
    "start_time": "2021-09-19T18:35:28.894Z"
   },
   {
    "duration": 6,
    "start_time": "2021-09-19T18:35:28.914Z"
   },
   {
    "duration": 653,
    "start_time": "2021-09-19T18:35:28.922Z"
   },
   {
    "duration": 2936,
    "start_time": "2021-09-19T18:35:26.642Z"
   },
   {
    "duration": 2936,
    "start_time": "2021-09-19T18:35:26.644Z"
   },
   {
    "duration": 2936,
    "start_time": "2021-09-19T18:35:26.645Z"
   },
   {
    "duration": 2936,
    "start_time": "2021-09-19T18:35:26.647Z"
   },
   {
    "duration": 2931,
    "start_time": "2021-09-19T18:35:26.653Z"
   },
   {
    "duration": 2931,
    "start_time": "2021-09-19T18:35:26.655Z"
   },
   {
    "duration": 2930,
    "start_time": "2021-09-19T18:35:26.657Z"
   },
   {
    "duration": 2931,
    "start_time": "2021-09-19T18:35:26.658Z"
   },
   {
    "duration": 2930,
    "start_time": "2021-09-19T18:35:26.660Z"
   },
   {
    "duration": 2931,
    "start_time": "2021-09-19T18:35:26.661Z"
   },
   {
    "duration": 2929,
    "start_time": "2021-09-19T18:35:26.664Z"
   },
   {
    "duration": 2929,
    "start_time": "2021-09-19T18:35:26.666Z"
   },
   {
    "duration": 2929,
    "start_time": "2021-09-19T18:35:26.667Z"
   },
   {
    "duration": 2929,
    "start_time": "2021-09-19T18:35:26.669Z"
   },
   {
    "duration": 2929,
    "start_time": "2021-09-19T18:35:26.670Z"
   },
   {
    "duration": 2029,
    "start_time": "2021-09-19T18:37:14.894Z"
   },
   {
    "duration": 41,
    "start_time": "2021-09-19T18:37:16.927Z"
   },
   {
    "duration": 18,
    "start_time": "2021-09-19T18:37:16.976Z"
   },
   {
    "duration": 12,
    "start_time": "2021-09-19T18:37:16.997Z"
   },
   {
    "duration": 61,
    "start_time": "2021-09-19T18:37:17.012Z"
   },
   {
    "duration": 14,
    "start_time": "2021-09-19T18:37:17.076Z"
   },
   {
    "duration": 39,
    "start_time": "2021-09-19T18:37:17.096Z"
   },
   {
    "duration": 9,
    "start_time": "2021-09-19T18:37:17.169Z"
   },
   {
    "duration": 16,
    "start_time": "2021-09-19T18:37:17.181Z"
   },
   {
    "duration": 13,
    "start_time": "2021-09-19T18:37:17.199Z"
   },
   {
    "duration": 11,
    "start_time": "2021-09-19T18:37:17.214Z"
   },
   {
    "duration": 71,
    "start_time": "2021-09-19T18:37:17.227Z"
   },
   {
    "duration": 9,
    "start_time": "2021-09-19T18:37:17.300Z"
   },
   {
    "duration": 9,
    "start_time": "2021-09-19T18:37:17.311Z"
   },
   {
    "duration": 2267,
    "start_time": "2021-09-19T18:37:17.322Z"
   },
   {
    "duration": 5271,
    "start_time": "2021-09-19T18:37:19.592Z"
   },
   {
    "duration": 239,
    "start_time": "2021-09-19T18:37:24.868Z"
   },
   {
    "duration": 6,
    "start_time": "2021-09-19T18:37:25.109Z"
   },
   {
    "duration": 36,
    "start_time": "2021-09-19T18:37:25.118Z"
   },
   {
    "duration": 12,
    "start_time": "2021-09-19T18:37:25.157Z"
   },
   {
    "duration": 88090,
    "start_time": "2021-09-19T18:37:25.172Z"
   },
   {
    "duration": 8,
    "start_time": "2021-09-19T18:38:53.271Z"
   },
   {
    "duration": 23,
    "start_time": "2021-09-19T18:38:53.282Z"
   },
   {
    "duration": 7,
    "start_time": "2021-09-19T18:38:53.309Z"
   },
   {
    "duration": 37057,
    "start_time": "2021-09-19T18:38:53.319Z"
   },
   {
    "duration": 24,
    "start_time": "2021-09-19T18:39:30.379Z"
   },
   {
    "duration": 6,
    "start_time": "2021-09-19T18:39:30.406Z"
   },
   {
    "duration": 1128,
    "start_time": "2021-09-19T18:39:30.414Z"
   },
   {
    "duration": 120841,
    "start_time": "2021-09-19T18:39:31.545Z"
   },
   {
    "duration": 93,
    "start_time": "2021-09-19T18:41:32.389Z"
   },
   {
    "duration": 301,
    "start_time": "2021-09-19T18:41:32.485Z"
   },
   {
    "duration": 22,
    "start_time": "2021-09-19T18:41:32.788Z"
   },
   {
    "duration": 389,
    "start_time": "2021-09-19T18:41:32.813Z"
   },
   {
    "duration": 43328,
    "start_time": "2021-09-19T18:41:33.205Z"
   },
   {
    "duration": 88,
    "start_time": "2021-09-19T18:42:16.536Z"
   },
   {
    "duration": 290,
    "start_time": "2021-09-19T18:42:16.627Z"
   },
   {
    "duration": 2962,
    "start_time": "2021-09-19T18:48:09.646Z"
   },
   {
    "duration": 60594,
    "start_time": "2021-09-19T18:48:15.097Z"
   },
   {
    "duration": 4668,
    "start_time": "2021-09-19T18:49:56.228Z"
   },
   {
    "duration": 6,
    "start_time": "2021-09-19T19:19:28.626Z"
   },
   {
    "duration": 7,
    "start_time": "2021-09-19T19:20:00.998Z"
   },
   {
    "duration": 6,
    "start_time": "2021-09-19T19:20:18.360Z"
   },
   {
    "duration": 6,
    "start_time": "2021-09-19T19:20:21.481Z"
   },
   {
    "duration": 7,
    "start_time": "2021-09-19T19:23:36.065Z"
   },
   {
    "duration": 2033,
    "start_time": "2021-09-19T19:24:30.332Z"
   },
   {
    "duration": 37,
    "start_time": "2021-09-19T19:24:32.368Z"
   },
   {
    "duration": 13,
    "start_time": "2021-09-19T19:24:32.409Z"
   },
   {
    "duration": 12,
    "start_time": "2021-09-19T19:24:32.425Z"
   },
   {
    "duration": 54,
    "start_time": "2021-09-19T19:24:32.440Z"
   },
   {
    "duration": 37,
    "start_time": "2021-09-19T19:24:32.496Z"
   },
   {
    "duration": 37,
    "start_time": "2021-09-19T19:24:32.535Z"
   },
   {
    "duration": 22,
    "start_time": "2021-09-19T19:24:32.574Z"
   },
   {
    "duration": 10,
    "start_time": "2021-09-19T19:24:32.603Z"
   },
   {
    "duration": 11,
    "start_time": "2021-09-19T19:24:32.618Z"
   },
   {
    "duration": 70,
    "start_time": "2021-09-19T19:24:32.633Z"
   },
   {
    "duration": 6,
    "start_time": "2021-09-19T19:24:32.707Z"
   },
   {
    "duration": 61042,
    "start_time": "2021-09-19T19:24:32.716Z"
   },
   {
    "duration": 263,
    "start_time": "2021-09-19T19:25:33.761Z"
   },
   {
    "duration": 6,
    "start_time": "2021-09-19T19:25:34.027Z"
   },
   {
    "duration": 37,
    "start_time": "2021-09-19T19:25:34.036Z"
   },
   {
    "duration": 6,
    "start_time": "2021-09-19T19:25:34.076Z"
   },
   {
    "duration": 22021,
    "start_time": "2021-09-19T19:25:34.085Z"
   },
   {
    "duration": 6,
    "start_time": "2021-09-19T19:25:56.110Z"
   },
   {
    "duration": 53,
    "start_time": "2021-09-19T19:25:56.119Z"
   },
   {
    "duration": 8,
    "start_time": "2021-09-19T19:25:56.178Z"
   },
   {
    "duration": 9535,
    "start_time": "2021-09-19T19:25:56.191Z"
   },
   {
    "duration": 47,
    "start_time": "2021-09-19T19:26:05.729Z"
   },
   {
    "duration": 6,
    "start_time": "2021-09-19T19:26:05.779Z"
   },
   {
    "duration": 52578,
    "start_time": "2021-09-19T19:26:05.788Z"
   },
   {
    "duration": 50,
    "start_time": "2021-09-19T19:26:58.369Z"
   },
   {
    "duration": 306,
    "start_time": "2021-09-19T19:26:58.424Z"
   },
   {
    "duration": 20,
    "start_time": "2021-09-19T19:26:58.732Z"
   },
   {
    "duration": 17,
    "start_time": "2021-09-19T19:26:58.754Z"
   },
   {
    "duration": 5295,
    "start_time": "2021-09-19T19:26:58.773Z"
   },
   {
    "duration": 30,
    "start_time": "2021-09-19T19:27:04.070Z"
   },
   {
    "duration": 314,
    "start_time": "2021-09-19T19:27:04.102Z"
   },
   {
    "duration": 1126,
    "start_time": "2021-09-20T05:43:56.861Z"
   },
   {
    "duration": 29,
    "start_time": "2021-09-20T05:43:57.988Z"
   },
   {
    "duration": 7,
    "start_time": "2021-09-20T05:43:58.019Z"
   },
   {
    "duration": 6,
    "start_time": "2021-09-20T05:43:58.028Z"
   },
   {
    "duration": 19,
    "start_time": "2021-09-20T05:43:58.035Z"
   },
   {
    "duration": 21,
    "start_time": "2021-09-20T05:43:58.055Z"
   },
   {
    "duration": 6,
    "start_time": "2021-09-20T05:43:58.077Z"
   },
   {
    "duration": 12,
    "start_time": "2021-09-20T05:43:58.086Z"
   },
   {
    "duration": 4,
    "start_time": "2021-09-20T05:43:58.100Z"
   },
   {
    "duration": 6,
    "start_time": "2021-09-20T05:43:58.106Z"
   },
   {
    "duration": 48,
    "start_time": "2021-09-20T05:43:58.113Z"
   },
   {
    "duration": 3,
    "start_time": "2021-09-20T05:43:58.163Z"
   },
   {
    "duration": 33216,
    "start_time": "2021-09-20T05:43:58.167Z"
   },
   {
    "duration": 148,
    "start_time": "2021-09-20T05:44:31.385Z"
   },
   {
    "duration": 33,
    "start_time": "2021-09-20T05:46:25.211Z"
   },
   {
    "duration": 21,
    "start_time": "2021-09-20T05:46:33.378Z"
   },
   {
    "duration": 47,
    "start_time": "2021-09-20T05:46:34.497Z"
   },
   {
    "duration": 101,
    "start_time": "2021-09-20T05:46:35.544Z"
   },
   {
    "duration": 21,
    "start_time": "2021-09-20T05:46:36.520Z"
   },
   {
    "duration": 20,
    "start_time": "2021-09-20T05:46:37.256Z"
   },
   {
    "duration": 21,
    "start_time": "2021-09-20T05:46:38.168Z"
   },
   {
    "duration": 20,
    "start_time": "2021-09-20T05:46:38.920Z"
   },
   {
    "duration": 22,
    "start_time": "2021-09-20T05:46:39.736Z"
   },
   {
    "duration": 22,
    "start_time": "2021-09-20T05:47:23.048Z"
   },
   {
    "duration": 4,
    "start_time": "2021-09-20T05:48:38.504Z"
   },
   {
    "duration": 10,
    "start_time": "2021-09-20T05:48:39.513Z"
   },
   {
    "duration": 4,
    "start_time": "2021-09-20T05:48:39.982Z"
   },
   {
    "duration": 11699,
    "start_time": "2021-09-20T05:48:42.407Z"
   },
   {
    "duration": 184,
    "start_time": "2021-09-20T05:48:57.440Z"
   },
   {
    "duration": 29,
    "start_time": "2021-09-20T05:49:47.207Z"
   },
   {
    "duration": 4,
    "start_time": "2021-09-20T05:50:24.334Z"
   },
   {
    "duration": 10,
    "start_time": "2021-09-20T05:50:24.959Z"
   },
   {
    "duration": 4,
    "start_time": "2021-09-20T05:50:25.369Z"
   },
   {
    "duration": 5081,
    "start_time": "2021-09-20T05:50:27.119Z"
   },
   {
    "duration": 75,
    "start_time": "2021-09-20T05:50:39.776Z"
   },
   {
    "duration": 14,
    "start_time": "2021-09-20T05:50:47.430Z"
   },
   {
    "duration": 12,
    "start_time": "2021-09-20T07:41:36.175Z"
   },
   {
    "duration": 436,
    "start_time": "2021-09-20T07:54:12.026Z"
   },
   {
    "duration": 24,
    "start_time": "2021-09-20T07:54:45.912Z"
   },
   {
    "duration": 143,
    "start_time": "2021-09-20T07:54:47.199Z"
   },
   {
    "duration": 12,
    "start_time": "2021-09-20T07:55:27.914Z"
   },
   {
    "duration": 3,
    "start_time": "2021-09-20T07:55:28.640Z"
   },
   {
    "duration": 216,
    "start_time": "2021-09-20T07:55:30.378Z"
   },
   {
    "duration": 22,
    "start_time": "2021-09-20T07:55:42.559Z"
   },
   {
    "duration": 147,
    "start_time": "2021-09-20T07:55:45.032Z"
   },
   {
    "duration": 29,
    "start_time": "2021-09-20T08:27:43.918Z"
   },
   {
    "duration": 14,
    "start_time": "2021-09-20T08:28:32.955Z"
   },
   {
    "duration": 25,
    "start_time": "2021-09-20T08:28:42.819Z"
   },
   {
    "duration": 1172,
    "start_time": "2021-09-20T08:29:33.860Z"
   },
   {
    "duration": 29,
    "start_time": "2021-09-20T08:29:35.033Z"
   },
   {
    "duration": 8,
    "start_time": "2021-09-20T08:29:35.064Z"
   },
   {
    "duration": 6,
    "start_time": "2021-09-20T08:29:35.073Z"
   },
   {
    "duration": 19,
    "start_time": "2021-09-20T08:29:35.081Z"
   },
   {
    "duration": 25,
    "start_time": "2021-09-20T08:29:35.102Z"
   },
   {
    "duration": 15,
    "start_time": "2021-09-20T08:29:35.129Z"
   },
   {
    "duration": 10,
    "start_time": "2021-09-20T08:29:35.146Z"
   },
   {
    "duration": 13,
    "start_time": "2021-09-20T08:29:35.158Z"
   },
   {
    "duration": 14,
    "start_time": "2021-09-20T08:29:35.172Z"
   },
   {
    "duration": 22,
    "start_time": "2021-09-20T08:29:35.187Z"
   },
   {
    "duration": 3,
    "start_time": "2021-09-20T08:29:35.211Z"
   },
   {
    "duration": 33349,
    "start_time": "2021-09-20T08:29:35.216Z"
   },
   {
    "duration": 155,
    "start_time": "2021-09-20T08:30:08.567Z"
   },
   {
    "duration": 29,
    "start_time": "2021-09-20T08:30:08.724Z"
   },
   {
    "duration": 6,
    "start_time": "2021-09-20T08:30:08.845Z"
   },
   {
    "duration": 99,
    "start_time": "2021-09-20T08:30:08.853Z"
   },
   {
    "duration": 4,
    "start_time": "2021-09-20T08:30:08.954Z"
   },
   {
    "duration": 12384,
    "start_time": "2021-09-20T08:30:08.960Z"
   },
   {
    "duration": 201,
    "start_time": "2021-09-20T08:30:21.345Z"
   },
   {
    "duration": 99,
    "start_time": "2021-09-20T08:30:21.548Z"
   },
   {
    "duration": 93,
    "start_time": "2021-09-20T08:30:21.654Z"
   },
   {
    "duration": 13,
    "start_time": "2021-09-20T08:30:21.750Z"
   },
   {
    "duration": 3,
    "start_time": "2021-09-20T08:30:21.765Z"
   },
   {
    "duration": 5211,
    "start_time": "2021-09-20T08:30:21.770Z"
   },
   {
    "duration": 92,
    "start_time": "2021-09-20T08:30:26.982Z"
   },
   {
    "duration": 12,
    "start_time": "2021-09-20T08:30:27.076Z"
   },
   {
    "duration": 165,
    "start_time": "2021-09-20T08:30:27.090Z"
   },
   {
    "duration": 7,
    "start_time": "2021-09-20T08:30:27.256Z"
   },
   {
    "duration": 590,
    "start_time": "2021-09-20T08:30:27.264Z"
   },
   {
    "duration": 24,
    "start_time": "2021-09-20T08:30:27.855Z"
   },
   {
    "duration": 162,
    "start_time": "2021-09-20T08:30:27.880Z"
   },
   {
    "duration": 13,
    "start_time": "2021-09-20T08:30:28.044Z"
   },
   {
    "duration": 14,
    "start_time": "2021-09-20T08:30:28.058Z"
   },
   {
    "duration": 207,
    "start_time": "2021-09-20T08:30:28.074Z"
   },
   {
    "duration": 22,
    "start_time": "2021-09-20T08:30:28.282Z"
   },
   {
    "duration": 156,
    "start_time": "2021-09-20T08:30:28.306Z"
   },
   {
    "duration": 1470,
    "start_time": "2021-09-20T19:17:07.405Z"
   },
   {
    "duration": 39,
    "start_time": "2021-09-20T19:17:08.878Z"
   },
   {
    "duration": 10,
    "start_time": "2021-09-20T19:17:08.920Z"
   },
   {
    "duration": 15,
    "start_time": "2021-09-20T19:17:08.933Z"
   },
   {
    "duration": 31,
    "start_time": "2021-09-20T19:17:08.951Z"
   },
   {
    "duration": 52,
    "start_time": "2021-09-20T19:17:08.985Z"
   },
   {
    "duration": 10,
    "start_time": "2021-09-20T19:17:09.039Z"
   },
   {
    "duration": 18,
    "start_time": "2021-09-20T19:17:09.052Z"
   },
   {
    "duration": 14,
    "start_time": "2021-09-20T19:17:09.073Z"
   },
   {
    "duration": 23,
    "start_time": "2021-09-20T19:17:09.089Z"
   },
   {
    "duration": 44,
    "start_time": "2021-09-20T19:17:09.123Z"
   },
   {
    "duration": 6,
    "start_time": "2021-09-20T19:17:09.170Z"
   },
   {
    "duration": 54681,
    "start_time": "2021-09-20T19:17:09.180Z"
   },
   {
    "duration": 234,
    "start_time": "2021-09-20T19:18:03.863Z"
   },
   {
    "duration": 122,
    "start_time": "2021-09-20T19:18:04.100Z"
   },
   {
    "duration": 96,
    "start_time": "2021-09-20T19:18:04.226Z"
   },
   {
    "duration": 25,
    "start_time": "2021-09-20T19:18:04.324Z"
   },
   {
    "duration": 6,
    "start_time": "2021-09-20T19:18:04.351Z"
   },
   {
    "duration": 20703,
    "start_time": "2021-09-20T19:18:04.359Z"
   },
   {
    "duration": 322,
    "start_time": "2021-09-20T19:18:25.064Z"
   },
   {
    "duration": 64,
    "start_time": "2021-09-20T19:18:25.389Z"
   },
   {
    "duration": 97,
    "start_time": "2021-09-20T19:18:25.525Z"
   },
   {
    "duration": 40,
    "start_time": "2021-09-20T19:18:25.627Z"
   },
   {
    "duration": 18,
    "start_time": "2021-09-20T19:18:25.670Z"
   },
   {
    "duration": 9023,
    "start_time": "2021-09-20T19:18:25.691Z"
   },
   {
    "duration": 141,
    "start_time": "2021-09-20T19:18:34.717Z"
   },
   {
    "duration": 70,
    "start_time": "2021-09-20T19:18:34.860Z"
   },
   {
    "duration": 107,
    "start_time": "2021-09-20T19:18:34.933Z"
   },
   {
    "duration": 16,
    "start_time": "2021-09-20T19:18:35.043Z"
   },
   {
    "duration": 1102,
    "start_time": "2021-09-20T19:18:35.061Z"
   },
   {
    "duration": 37,
    "start_time": "2021-09-20T19:18:36.165Z"
   },
   {
    "duration": 287,
    "start_time": "2021-09-20T19:18:36.204Z"
   },
   {
    "duration": 30,
    "start_time": "2021-09-20T19:18:36.494Z"
   },
   {
    "duration": 5,
    "start_time": "2021-09-20T19:18:36.527Z"
   },
   {
    "duration": 360,
    "start_time": "2021-09-20T19:18:36.535Z"
   },
   {
    "duration": 43,
    "start_time": "2021-09-20T19:18:36.897Z"
   },
   {
    "duration": 287,
    "start_time": "2021-09-20T19:18:36.942Z"
   }
  ],
  "kernelspec": {
   "display_name": "Python 3 (ipykernel)",
   "language": "python",
   "name": "python3"
  },
  "language_info": {
   "codemirror_mode": {
    "name": "ipython",
    "version": 3
   },
   "file_extension": ".py",
   "mimetype": "text/x-python",
   "name": "python",
   "nbconvert_exporter": "python",
   "pygments_lexer": "ipython3",
   "version": "3.8.12"
  },
  "toc": {
   "base_numbering": 1,
   "nav_menu": {},
   "number_sections": true,
   "sideBar": true,
   "skip_h1_title": true,
   "title_cell": "Содержание",
   "title_sidebar": "Contents",
   "toc_cell": true,
   "toc_position": {},
   "toc_section_display": true,
   "toc_window_display": false
  }
 },
 "nbformat": 4,
 "nbformat_minor": 4
}
