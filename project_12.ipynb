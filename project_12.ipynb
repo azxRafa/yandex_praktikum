{
 "cells": [
  {
   "cell_type": "markdown",
   "metadata": {},
   "source": [
    "# Определение стоимости автомобилей"
   ]
  },
  {
   "cell_type": "markdown",
   "metadata": {},
   "source": [
    "Сервис по продаже автомобилей с пробегом «Не бит, не крашен» разрабатывает приложение для привлечения новых клиентов. В нём можно быстро узнать рыночную стоимость своего автомобиля. В вашем распоряжении исторические данные: технические характеристики, комплектации и цены автомобилей. Вам нужно построить модель для определения стоимости. \n",
    "\n",
    "Заказчику важны:\n",
    "\n",
    "- качество предсказания;\n",
    "- скорость предсказания;\n",
    "- время обучения."
   ]
  },
  {
   "cell_type": "markdown",
   "metadata": {},
   "source": [
    "## Подготовка данных"
   ]
  },
  {
   "cell_type": "code",
   "execution_count": 22,
   "metadata": {
    "scrolled": false
   },
   "outputs": [],
   "source": [
    "import pandas as pd\n",
    "import time\n",
    "from sklearn.model_selection import train_test_split, GridSearchCV\n",
    "from sklearn.preprocessing import StandardScaler, LabelEncoder \n",
    "from catboost import CatBoostRegressor\n",
    "from lightgbm import LGBMRegressor, log_evaluation, early_stopping\n",
    "import xgboost as xgb\n",
    "from sklearn.metrics import mean_squared_error\n",
    "import seaborn as sns\n",
    "import matplotlib.pyplot as plt"
   ]
  },
  {
   "cell_type": "code",
   "execution_count": 23,
   "metadata": {},
   "outputs": [],
   "source": [
    "df = pd.read_csv(url, parse_dates=['DateCrawled', 'LastSeen', 'DateCreated'])"
   ]
  },
  {
   "cell_type": "code",
   "execution_count": 24,
   "metadata": {},
   "outputs": [
    {
     "data": {
      "text/html": [
       "<div>\n",
       "<style scoped>\n",
       "    .dataframe tbody tr th:only-of-type {\n",
       "        vertical-align: middle;\n",
       "    }\n",
       "\n",
       "    .dataframe tbody tr th {\n",
       "        vertical-align: top;\n",
       "    }\n",
       "\n",
       "    .dataframe thead th {\n",
       "        text-align: right;\n",
       "    }\n",
       "</style>\n",
       "<table border=\"1\" class=\"dataframe\">\n",
       "  <thead>\n",
       "    <tr style=\"text-align: right;\">\n",
       "      <th></th>\n",
       "      <th>DateCrawled</th>\n",
       "      <th>Price</th>\n",
       "      <th>VehicleType</th>\n",
       "      <th>RegistrationYear</th>\n",
       "      <th>Gearbox</th>\n",
       "      <th>Power</th>\n",
       "      <th>Model</th>\n",
       "      <th>Kilometer</th>\n",
       "      <th>RegistrationMonth</th>\n",
       "      <th>FuelType</th>\n",
       "      <th>Brand</th>\n",
       "      <th>NotRepaired</th>\n",
       "      <th>DateCreated</th>\n",
       "      <th>NumberOfPictures</th>\n",
       "      <th>PostalCode</th>\n",
       "      <th>LastSeen</th>\n",
       "    </tr>\n",
       "  </thead>\n",
       "  <tbody>\n",
       "    <tr>\n",
       "      <th>0</th>\n",
       "      <td>2016-03-24 11:52:17</td>\n",
       "      <td>480</td>\n",
       "      <td>NaN</td>\n",
       "      <td>1993</td>\n",
       "      <td>manual</td>\n",
       "      <td>0</td>\n",
       "      <td>golf</td>\n",
       "      <td>150000</td>\n",
       "      <td>0</td>\n",
       "      <td>petrol</td>\n",
       "      <td>volkswagen</td>\n",
       "      <td>NaN</td>\n",
       "      <td>2016-03-24</td>\n",
       "      <td>0</td>\n",
       "      <td>70435</td>\n",
       "      <td>2016-04-07 03:16:57</td>\n",
       "    </tr>\n",
       "    <tr>\n",
       "      <th>1</th>\n",
       "      <td>2016-03-24 10:58:45</td>\n",
       "      <td>18300</td>\n",
       "      <td>coupe</td>\n",
       "      <td>2011</td>\n",
       "      <td>manual</td>\n",
       "      <td>190</td>\n",
       "      <td>NaN</td>\n",
       "      <td>125000</td>\n",
       "      <td>5</td>\n",
       "      <td>gasoline</td>\n",
       "      <td>audi</td>\n",
       "      <td>yes</td>\n",
       "      <td>2016-03-24</td>\n",
       "      <td>0</td>\n",
       "      <td>66954</td>\n",
       "      <td>2016-04-07 01:46:50</td>\n",
       "    </tr>\n",
       "    <tr>\n",
       "      <th>2</th>\n",
       "      <td>2016-03-14 12:52:21</td>\n",
       "      <td>9800</td>\n",
       "      <td>suv</td>\n",
       "      <td>2004</td>\n",
       "      <td>auto</td>\n",
       "      <td>163</td>\n",
       "      <td>grand</td>\n",
       "      <td>125000</td>\n",
       "      <td>8</td>\n",
       "      <td>gasoline</td>\n",
       "      <td>jeep</td>\n",
       "      <td>NaN</td>\n",
       "      <td>2016-03-14</td>\n",
       "      <td>0</td>\n",
       "      <td>90480</td>\n",
       "      <td>2016-04-05 12:47:46</td>\n",
       "    </tr>\n",
       "    <tr>\n",
       "      <th>3</th>\n",
       "      <td>2016-03-17 16:54:04</td>\n",
       "      <td>1500</td>\n",
       "      <td>small</td>\n",
       "      <td>2001</td>\n",
       "      <td>manual</td>\n",
       "      <td>75</td>\n",
       "      <td>golf</td>\n",
       "      <td>150000</td>\n",
       "      <td>6</td>\n",
       "      <td>petrol</td>\n",
       "      <td>volkswagen</td>\n",
       "      <td>no</td>\n",
       "      <td>2016-03-17</td>\n",
       "      <td>0</td>\n",
       "      <td>91074</td>\n",
       "      <td>2016-03-17 17:40:17</td>\n",
       "    </tr>\n",
       "    <tr>\n",
       "      <th>4</th>\n",
       "      <td>2016-03-31 17:25:20</td>\n",
       "      <td>3600</td>\n",
       "      <td>small</td>\n",
       "      <td>2008</td>\n",
       "      <td>manual</td>\n",
       "      <td>69</td>\n",
       "      <td>fabia</td>\n",
       "      <td>90000</td>\n",
       "      <td>7</td>\n",
       "      <td>gasoline</td>\n",
       "      <td>skoda</td>\n",
       "      <td>no</td>\n",
       "      <td>2016-03-31</td>\n",
       "      <td>0</td>\n",
       "      <td>60437</td>\n",
       "      <td>2016-04-06 10:17:21</td>\n",
       "    </tr>\n",
       "  </tbody>\n",
       "</table>\n",
       "</div>"
      ],
      "text/plain": [
       "          DateCrawled  Price VehicleType  RegistrationYear Gearbox  Power  \\\n",
       "0 2016-03-24 11:52:17    480         NaN              1993  manual      0   \n",
       "1 2016-03-24 10:58:45  18300       coupe              2011  manual    190   \n",
       "2 2016-03-14 12:52:21   9800         suv              2004    auto    163   \n",
       "3 2016-03-17 16:54:04   1500       small              2001  manual     75   \n",
       "4 2016-03-31 17:25:20   3600       small              2008  manual     69   \n",
       "\n",
       "   Model  Kilometer  RegistrationMonth  FuelType       Brand NotRepaired  \\\n",
       "0   golf     150000                  0    petrol  volkswagen         NaN   \n",
       "1    NaN     125000                  5  gasoline        audi         yes   \n",
       "2  grand     125000                  8  gasoline        jeep         NaN   \n",
       "3   golf     150000                  6    petrol  volkswagen          no   \n",
       "4  fabia      90000                  7  gasoline       skoda          no   \n",
       "\n",
       "  DateCreated  NumberOfPictures  PostalCode            LastSeen  \n",
       "0  2016-03-24                 0       70435 2016-04-07 03:16:57  \n",
       "1  2016-03-24                 0       66954 2016-04-07 01:46:50  \n",
       "2  2016-03-14                 0       90480 2016-04-05 12:47:46  \n",
       "3  2016-03-17                 0       91074 2016-03-17 17:40:17  \n",
       "4  2016-03-31                 0       60437 2016-04-06 10:17:21  "
      ]
     },
     "execution_count": 24,
     "metadata": {},
     "output_type": "execute_result"
    }
   ],
   "source": [
    "df.head()"
   ]
  },
  {
   "cell_type": "code",
   "execution_count": 25,
   "metadata": {
    "scrolled": false
   },
   "outputs": [
    {
     "name": "stdout",
     "output_type": "stream",
     "text": [
      "<class 'pandas.core.frame.DataFrame'>\n",
      "RangeIndex: 354369 entries, 0 to 354368\n",
      "Data columns (total 16 columns):\n",
      " #   Column             Non-Null Count   Dtype         \n",
      "---  ------             --------------   -----         \n",
      " 0   DateCrawled        354369 non-null  datetime64[ns]\n",
      " 1   Price              354369 non-null  int64         \n",
      " 2   VehicleType        316879 non-null  object        \n",
      " 3   RegistrationYear   354369 non-null  int64         \n",
      " 4   Gearbox            334536 non-null  object        \n",
      " 5   Power              354369 non-null  int64         \n",
      " 6   Model              334664 non-null  object        \n",
      " 7   Kilometer          354369 non-null  int64         \n",
      " 8   RegistrationMonth  354369 non-null  int64         \n",
      " 9   FuelType           321474 non-null  object        \n",
      " 10  Brand              354369 non-null  object        \n",
      " 11  NotRepaired        283215 non-null  object        \n",
      " 12  DateCreated        354369 non-null  datetime64[ns]\n",
      " 13  NumberOfPictures   354369 non-null  int64         \n",
      " 14  PostalCode         354369 non-null  int64         \n",
      " 15  LastSeen           354369 non-null  datetime64[ns]\n",
      "dtypes: datetime64[ns](3), int64(7), object(6)\n",
      "memory usage: 43.3+ MB\n"
     ]
    }
   ],
   "source": [
    "df.info()"
   ]
  },
  {
   "cell_type": "markdown",
   "metadata": {},
   "source": [
    "Признаки\n",
    "- DateCrawled — дата скачивания анкеты из базы\n",
    "- VehicleType — тип автомобильного кузова\n",
    "- RegistrationYear — год регистрации автомобиля\n",
    "- Gearbox — тип коробки передач\n",
    "- Power — мощность (л. с.)\n",
    "- Model — модель автомобиля\n",
    "- Kilometer — пробег (км)\n",
    "- RegistrationMonth — месяц регистрации автомобиля\n",
    "- FuelType — тип топлива\n",
    "- Brand — марка автомобиля\n",
    "- NotRepaired — была машина в ремонте или нет\n",
    "- DateCreated — дата создания анкеты\n",
    "- NumberOfPictures — количество фотографий автомобиля\n",
    "- PostalCode — почтовый индекс владельца анкеты (пользователя)\n",
    "- LastSeen — дата последней активности пользователя"
   ]
  },
  {
   "cell_type": "code",
   "execution_count": 26,
   "metadata": {},
   "outputs": [
    {
     "data": {
      "text/plain": [
       "DateCrawled          0.000000\n",
       "Price                0.000000\n",
       "VehicleType          0.105794\n",
       "RegistrationYear     0.000000\n",
       "Gearbox              0.055967\n",
       "Power                0.000000\n",
       "Model                0.055606\n",
       "Kilometer            0.000000\n",
       "RegistrationMonth    0.000000\n",
       "FuelType             0.092827\n",
       "Brand                0.000000\n",
       "NotRepaired          0.200791\n",
       "DateCreated          0.000000\n",
       "NumberOfPictures     0.000000\n",
       "PostalCode           0.000000\n",
       "LastSeen             0.000000\n",
       "dtype: float64"
      ]
     },
     "execution_count": 26,
     "metadata": {},
     "output_type": "execute_result"
    }
   ],
   "source": [
    "df.isna().mean()"
   ]
  },
  {
   "cell_type": "code",
   "execution_count": 27,
   "metadata": {
    "scrolled": true
   },
   "outputs": [],
   "source": [
    "df = df.fillna('unknown')"
   ]
  },
  {
   "cell_type": "code",
   "execution_count": 28,
   "metadata": {
    "scrolled": true
   },
   "outputs": [
    {
     "data": {
      "text/html": [
       "<div>\n",
       "<style scoped>\n",
       "    .dataframe tbody tr th:only-of-type {\n",
       "        vertical-align: middle;\n",
       "    }\n",
       "\n",
       "    .dataframe tbody tr th {\n",
       "        vertical-align: top;\n",
       "    }\n",
       "\n",
       "    .dataframe thead th {\n",
       "        text-align: right;\n",
       "    }\n",
       "</style>\n",
       "<table border=\"1\" class=\"dataframe\">\n",
       "  <thead>\n",
       "    <tr style=\"text-align: right;\">\n",
       "      <th></th>\n",
       "      <th>Price</th>\n",
       "      <th>RegistrationYear</th>\n",
       "      <th>Power</th>\n",
       "      <th>Kilometer</th>\n",
       "      <th>RegistrationMonth</th>\n",
       "      <th>NumberOfPictures</th>\n",
       "      <th>PostalCode</th>\n",
       "    </tr>\n",
       "  </thead>\n",
       "  <tbody>\n",
       "    <tr>\n",
       "      <th>count</th>\n",
       "      <td>354369.000000</td>\n",
       "      <td>354369.000000</td>\n",
       "      <td>354369.000000</td>\n",
       "      <td>354369.000000</td>\n",
       "      <td>354369.000000</td>\n",
       "      <td>354369.0</td>\n",
       "      <td>354369.000000</td>\n",
       "    </tr>\n",
       "    <tr>\n",
       "      <th>mean</th>\n",
       "      <td>4416.656776</td>\n",
       "      <td>2004.234448</td>\n",
       "      <td>110.094337</td>\n",
       "      <td>128211.172535</td>\n",
       "      <td>5.714645</td>\n",
       "      <td>0.0</td>\n",
       "      <td>50508.689087</td>\n",
       "    </tr>\n",
       "    <tr>\n",
       "      <th>std</th>\n",
       "      <td>4514.158514</td>\n",
       "      <td>90.227958</td>\n",
       "      <td>189.850405</td>\n",
       "      <td>37905.341530</td>\n",
       "      <td>3.726421</td>\n",
       "      <td>0.0</td>\n",
       "      <td>25783.096248</td>\n",
       "    </tr>\n",
       "    <tr>\n",
       "      <th>min</th>\n",
       "      <td>0.000000</td>\n",
       "      <td>1000.000000</td>\n",
       "      <td>0.000000</td>\n",
       "      <td>5000.000000</td>\n",
       "      <td>0.000000</td>\n",
       "      <td>0.0</td>\n",
       "      <td>1067.000000</td>\n",
       "    </tr>\n",
       "    <tr>\n",
       "      <th>25%</th>\n",
       "      <td>1050.000000</td>\n",
       "      <td>1999.000000</td>\n",
       "      <td>69.000000</td>\n",
       "      <td>125000.000000</td>\n",
       "      <td>3.000000</td>\n",
       "      <td>0.0</td>\n",
       "      <td>30165.000000</td>\n",
       "    </tr>\n",
       "    <tr>\n",
       "      <th>50%</th>\n",
       "      <td>2700.000000</td>\n",
       "      <td>2003.000000</td>\n",
       "      <td>105.000000</td>\n",
       "      <td>150000.000000</td>\n",
       "      <td>6.000000</td>\n",
       "      <td>0.0</td>\n",
       "      <td>49413.000000</td>\n",
       "    </tr>\n",
       "    <tr>\n",
       "      <th>75%</th>\n",
       "      <td>6400.000000</td>\n",
       "      <td>2008.000000</td>\n",
       "      <td>143.000000</td>\n",
       "      <td>150000.000000</td>\n",
       "      <td>9.000000</td>\n",
       "      <td>0.0</td>\n",
       "      <td>71083.000000</td>\n",
       "    </tr>\n",
       "    <tr>\n",
       "      <th>max</th>\n",
       "      <td>20000.000000</td>\n",
       "      <td>9999.000000</td>\n",
       "      <td>20000.000000</td>\n",
       "      <td>150000.000000</td>\n",
       "      <td>12.000000</td>\n",
       "      <td>0.0</td>\n",
       "      <td>99998.000000</td>\n",
       "    </tr>\n",
       "  </tbody>\n",
       "</table>\n",
       "</div>"
      ],
      "text/plain": [
       "               Price  RegistrationYear          Power      Kilometer  \\\n",
       "count  354369.000000     354369.000000  354369.000000  354369.000000   \n",
       "mean     4416.656776       2004.234448     110.094337  128211.172535   \n",
       "std      4514.158514         90.227958     189.850405   37905.341530   \n",
       "min         0.000000       1000.000000       0.000000    5000.000000   \n",
       "25%      1050.000000       1999.000000      69.000000  125000.000000   \n",
       "50%      2700.000000       2003.000000     105.000000  150000.000000   \n",
       "75%      6400.000000       2008.000000     143.000000  150000.000000   \n",
       "max     20000.000000       9999.000000   20000.000000  150000.000000   \n",
       "\n",
       "       RegistrationMonth  NumberOfPictures     PostalCode  \n",
       "count      354369.000000          354369.0  354369.000000  \n",
       "mean            5.714645               0.0   50508.689087  \n",
       "std             3.726421               0.0   25783.096248  \n",
       "min             0.000000               0.0    1067.000000  \n",
       "25%             3.000000               0.0   30165.000000  \n",
       "50%             6.000000               0.0   49413.000000  \n",
       "75%             9.000000               0.0   71083.000000  \n",
       "max            12.000000               0.0   99998.000000  "
      ]
     },
     "execution_count": 28,
     "metadata": {},
     "output_type": "execute_result"
    }
   ],
   "source": [
    "df.describe()"
   ]
  },
  {
   "cell_type": "code",
   "execution_count": 29,
   "metadata": {
    "scrolled": false
   },
   "outputs": [
    {
     "data": {
      "text/html": [
       "<div>\n",
       "<style scoped>\n",
       "    .dataframe tbody tr th:only-of-type {\n",
       "        vertical-align: middle;\n",
       "    }\n",
       "\n",
       "    .dataframe tbody tr th {\n",
       "        vertical-align: top;\n",
       "    }\n",
       "\n",
       "    .dataframe thead th {\n",
       "        text-align: right;\n",
       "    }\n",
       "</style>\n",
       "<table border=\"1\" class=\"dataframe\">\n",
       "  <thead>\n",
       "    <tr style=\"text-align: right;\">\n",
       "      <th></th>\n",
       "      <th>DateCrawled</th>\n",
       "      <th>Price</th>\n",
       "      <th>VehicleType</th>\n",
       "      <th>RegistrationYear</th>\n",
       "      <th>Gearbox</th>\n",
       "      <th>Power</th>\n",
       "      <th>Model</th>\n",
       "      <th>Kilometer</th>\n",
       "      <th>RegistrationMonth</th>\n",
       "      <th>FuelType</th>\n",
       "      <th>Brand</th>\n",
       "      <th>NotRepaired</th>\n",
       "      <th>DateCreated</th>\n",
       "      <th>NumberOfPictures</th>\n",
       "      <th>PostalCode</th>\n",
       "      <th>LastSeen</th>\n",
       "    </tr>\n",
       "  </thead>\n",
       "  <tbody>\n",
       "    <tr>\n",
       "      <th>7</th>\n",
       "      <td>2016-03-21 18:54:38</td>\n",
       "      <td>0</td>\n",
       "      <td>sedan</td>\n",
       "      <td>1980</td>\n",
       "      <td>manual</td>\n",
       "      <td>50</td>\n",
       "      <td>other</td>\n",
       "      <td>40000</td>\n",
       "      <td>7</td>\n",
       "      <td>petrol</td>\n",
       "      <td>volkswagen</td>\n",
       "      <td>no</td>\n",
       "      <td>2016-03-21</td>\n",
       "      <td>0</td>\n",
       "      <td>19348</td>\n",
       "      <td>2016-03-25 16:47:58</td>\n",
       "    </tr>\n",
       "    <tr>\n",
       "      <th>40</th>\n",
       "      <td>2016-03-26 22:06:17</td>\n",
       "      <td>0</td>\n",
       "      <td>unknown</td>\n",
       "      <td>1990</td>\n",
       "      <td>unknown</td>\n",
       "      <td>0</td>\n",
       "      <td>corsa</td>\n",
       "      <td>150000</td>\n",
       "      <td>1</td>\n",
       "      <td>petrol</td>\n",
       "      <td>opel</td>\n",
       "      <td>unknown</td>\n",
       "      <td>2016-03-26</td>\n",
       "      <td>0</td>\n",
       "      <td>56412</td>\n",
       "      <td>2016-03-27 17:43:34</td>\n",
       "    </tr>\n",
       "    <tr>\n",
       "      <th>111</th>\n",
       "      <td>2016-03-19 18:40:12</td>\n",
       "      <td>0</td>\n",
       "      <td>unknown</td>\n",
       "      <td>2017</td>\n",
       "      <td>manual</td>\n",
       "      <td>0</td>\n",
       "      <td>golf</td>\n",
       "      <td>5000</td>\n",
       "      <td>12</td>\n",
       "      <td>petrol</td>\n",
       "      <td>volkswagen</td>\n",
       "      <td>unknown</td>\n",
       "      <td>2016-03-19</td>\n",
       "      <td>0</td>\n",
       "      <td>21698</td>\n",
       "      <td>2016-04-01 08:47:05</td>\n",
       "    </tr>\n",
       "    <tr>\n",
       "      <th>115</th>\n",
       "      <td>2016-03-20 18:53:27</td>\n",
       "      <td>0</td>\n",
       "      <td>small</td>\n",
       "      <td>1999</td>\n",
       "      <td>unknown</td>\n",
       "      <td>0</td>\n",
       "      <td>unknown</td>\n",
       "      <td>5000</td>\n",
       "      <td>0</td>\n",
       "      <td>petrol</td>\n",
       "      <td>volkswagen</td>\n",
       "      <td>unknown</td>\n",
       "      <td>2016-03-20</td>\n",
       "      <td>0</td>\n",
       "      <td>37520</td>\n",
       "      <td>2016-04-07 02:45:22</td>\n",
       "    </tr>\n",
       "    <tr>\n",
       "      <th>152</th>\n",
       "      <td>2016-03-11 18:55:53</td>\n",
       "      <td>0</td>\n",
       "      <td>bus</td>\n",
       "      <td>2004</td>\n",
       "      <td>manual</td>\n",
       "      <td>101</td>\n",
       "      <td>meriva</td>\n",
       "      <td>150000</td>\n",
       "      <td>10</td>\n",
       "      <td>lpg</td>\n",
       "      <td>opel</td>\n",
       "      <td>yes</td>\n",
       "      <td>2016-03-11</td>\n",
       "      <td>0</td>\n",
       "      <td>27432</td>\n",
       "      <td>2016-03-12 23:47:10</td>\n",
       "    </tr>\n",
       "    <tr>\n",
       "      <th>...</th>\n",
       "      <td>...</td>\n",
       "      <td>...</td>\n",
       "      <td>...</td>\n",
       "      <td>...</td>\n",
       "      <td>...</td>\n",
       "      <td>...</td>\n",
       "      <td>...</td>\n",
       "      <td>...</td>\n",
       "      <td>...</td>\n",
       "      <td>...</td>\n",
       "      <td>...</td>\n",
       "      <td>...</td>\n",
       "      <td>...</td>\n",
       "      <td>...</td>\n",
       "      <td>...</td>\n",
       "      <td>...</td>\n",
       "    </tr>\n",
       "    <tr>\n",
       "      <th>354205</th>\n",
       "      <td>2016-03-09 15:56:30</td>\n",
       "      <td>0</td>\n",
       "      <td>unknown</td>\n",
       "      <td>2000</td>\n",
       "      <td>manual</td>\n",
       "      <td>65</td>\n",
       "      <td>corsa</td>\n",
       "      <td>150000</td>\n",
       "      <td>0</td>\n",
       "      <td>unknown</td>\n",
       "      <td>opel</td>\n",
       "      <td>yes</td>\n",
       "      <td>2016-03-09</td>\n",
       "      <td>0</td>\n",
       "      <td>23758</td>\n",
       "      <td>2016-03-30 11:16:08</td>\n",
       "    </tr>\n",
       "    <tr>\n",
       "      <th>354238</th>\n",
       "      <td>2016-03-20 14:55:07</td>\n",
       "      <td>0</td>\n",
       "      <td>small</td>\n",
       "      <td>2002</td>\n",
       "      <td>manual</td>\n",
       "      <td>60</td>\n",
       "      <td>fiesta</td>\n",
       "      <td>150000</td>\n",
       "      <td>3</td>\n",
       "      <td>petrol</td>\n",
       "      <td>ford</td>\n",
       "      <td>unknown</td>\n",
       "      <td>2016-03-20</td>\n",
       "      <td>0</td>\n",
       "      <td>33659</td>\n",
       "      <td>2016-04-06 18:45:23</td>\n",
       "    </tr>\n",
       "    <tr>\n",
       "      <th>354248</th>\n",
       "      <td>2016-03-24 13:48:05</td>\n",
       "      <td>0</td>\n",
       "      <td>small</td>\n",
       "      <td>1999</td>\n",
       "      <td>manual</td>\n",
       "      <td>53</td>\n",
       "      <td>swift</td>\n",
       "      <td>150000</td>\n",
       "      <td>3</td>\n",
       "      <td>petrol</td>\n",
       "      <td>suzuki</td>\n",
       "      <td>unknown</td>\n",
       "      <td>2016-03-24</td>\n",
       "      <td>0</td>\n",
       "      <td>42329</td>\n",
       "      <td>2016-04-07 05:17:24</td>\n",
       "    </tr>\n",
       "    <tr>\n",
       "      <th>354277</th>\n",
       "      <td>2016-03-10 22:55:50</td>\n",
       "      <td>0</td>\n",
       "      <td>small</td>\n",
       "      <td>1999</td>\n",
       "      <td>manual</td>\n",
       "      <td>37</td>\n",
       "      <td>arosa</td>\n",
       "      <td>150000</td>\n",
       "      <td>7</td>\n",
       "      <td>petrol</td>\n",
       "      <td>seat</td>\n",
       "      <td>yes</td>\n",
       "      <td>2016-03-10</td>\n",
       "      <td>0</td>\n",
       "      <td>22559</td>\n",
       "      <td>2016-03-12 23:46:32</td>\n",
       "    </tr>\n",
       "    <tr>\n",
       "      <th>354364</th>\n",
       "      <td>2016-03-21 09:50:58</td>\n",
       "      <td>0</td>\n",
       "      <td>unknown</td>\n",
       "      <td>2005</td>\n",
       "      <td>manual</td>\n",
       "      <td>0</td>\n",
       "      <td>colt</td>\n",
       "      <td>150000</td>\n",
       "      <td>7</td>\n",
       "      <td>petrol</td>\n",
       "      <td>mitsubishi</td>\n",
       "      <td>yes</td>\n",
       "      <td>2016-03-21</td>\n",
       "      <td>0</td>\n",
       "      <td>2694</td>\n",
       "      <td>2016-03-21 10:42:49</td>\n",
       "    </tr>\n",
       "  </tbody>\n",
       "</table>\n",
       "<p>10772 rows × 16 columns</p>\n",
       "</div>"
      ],
      "text/plain": [
       "               DateCrawled  Price VehicleType  RegistrationYear  Gearbox  \\\n",
       "7      2016-03-21 18:54:38      0       sedan              1980   manual   \n",
       "40     2016-03-26 22:06:17      0     unknown              1990  unknown   \n",
       "111    2016-03-19 18:40:12      0     unknown              2017   manual   \n",
       "115    2016-03-20 18:53:27      0       small              1999  unknown   \n",
       "152    2016-03-11 18:55:53      0         bus              2004   manual   \n",
       "...                    ...    ...         ...               ...      ...   \n",
       "354205 2016-03-09 15:56:30      0     unknown              2000   manual   \n",
       "354238 2016-03-20 14:55:07      0       small              2002   manual   \n",
       "354248 2016-03-24 13:48:05      0       small              1999   manual   \n",
       "354277 2016-03-10 22:55:50      0       small              1999   manual   \n",
       "354364 2016-03-21 09:50:58      0     unknown              2005   manual   \n",
       "\n",
       "        Power    Model  Kilometer  RegistrationMonth FuelType       Brand  \\\n",
       "7          50    other      40000                  7   petrol  volkswagen   \n",
       "40          0    corsa     150000                  1   petrol        opel   \n",
       "111         0     golf       5000                 12   petrol  volkswagen   \n",
       "115         0  unknown       5000                  0   petrol  volkswagen   \n",
       "152       101   meriva     150000                 10      lpg        opel   \n",
       "...       ...      ...        ...                ...      ...         ...   \n",
       "354205     65    corsa     150000                  0  unknown        opel   \n",
       "354238     60   fiesta     150000                  3   petrol        ford   \n",
       "354248     53    swift     150000                  3   petrol      suzuki   \n",
       "354277     37    arosa     150000                  7   petrol        seat   \n",
       "354364      0     colt     150000                  7   petrol  mitsubishi   \n",
       "\n",
       "       NotRepaired DateCreated  NumberOfPictures  PostalCode  \\\n",
       "7               no  2016-03-21                 0       19348   \n",
       "40         unknown  2016-03-26                 0       56412   \n",
       "111        unknown  2016-03-19                 0       21698   \n",
       "115        unknown  2016-03-20                 0       37520   \n",
       "152            yes  2016-03-11                 0       27432   \n",
       "...            ...         ...               ...         ...   \n",
       "354205         yes  2016-03-09                 0       23758   \n",
       "354238     unknown  2016-03-20                 0       33659   \n",
       "354248     unknown  2016-03-24                 0       42329   \n",
       "354277         yes  2016-03-10                 0       22559   \n",
       "354364         yes  2016-03-21                 0        2694   \n",
       "\n",
       "                  LastSeen  \n",
       "7      2016-03-25 16:47:58  \n",
       "40     2016-03-27 17:43:34  \n",
       "111    2016-04-01 08:47:05  \n",
       "115    2016-04-07 02:45:22  \n",
       "152    2016-03-12 23:47:10  \n",
       "...                    ...  \n",
       "354205 2016-03-30 11:16:08  \n",
       "354238 2016-04-06 18:45:23  \n",
       "354248 2016-04-07 05:17:24  \n",
       "354277 2016-03-12 23:46:32  \n",
       "354364 2016-03-21 10:42:49  \n",
       "\n",
       "[10772 rows x 16 columns]"
      ]
     },
     "execution_count": 29,
     "metadata": {},
     "output_type": "execute_result"
    }
   ],
   "source": [
    "df[(df.Price==0)]"
   ]
  },
  {
   "cell_type": "code",
   "execution_count": 30,
   "metadata": {
    "scrolled": false
   },
   "outputs": [
    {
     "data": {
      "text/html": [
       "<div>\n",
       "<style scoped>\n",
       "    .dataframe tbody tr th:only-of-type {\n",
       "        vertical-align: middle;\n",
       "    }\n",
       "\n",
       "    .dataframe tbody tr th {\n",
       "        vertical-align: top;\n",
       "    }\n",
       "\n",
       "    .dataframe thead th {\n",
       "        text-align: right;\n",
       "    }\n",
       "</style>\n",
       "<table border=\"1\" class=\"dataframe\">\n",
       "  <thead>\n",
       "    <tr style=\"text-align: right;\">\n",
       "      <th></th>\n",
       "      <th>DateCrawled</th>\n",
       "      <th>Price</th>\n",
       "      <th>VehicleType</th>\n",
       "      <th>RegistrationYear</th>\n",
       "      <th>Gearbox</th>\n",
       "      <th>Power</th>\n",
       "      <th>Model</th>\n",
       "      <th>Kilometer</th>\n",
       "      <th>RegistrationMonth</th>\n",
       "      <th>FuelType</th>\n",
       "      <th>Brand</th>\n",
       "      <th>NotRepaired</th>\n",
       "      <th>DateCreated</th>\n",
       "      <th>NumberOfPictures</th>\n",
       "      <th>PostalCode</th>\n",
       "      <th>LastSeen</th>\n",
       "    </tr>\n",
       "  </thead>\n",
       "  <tbody>\n",
       "    <tr>\n",
       "      <th>622</th>\n",
       "      <td>2016-03-16 16:55:09</td>\n",
       "      <td>0</td>\n",
       "      <td>unknown</td>\n",
       "      <td>1111</td>\n",
       "      <td>unknown</td>\n",
       "      <td>0</td>\n",
       "      <td>unknown</td>\n",
       "      <td>5000</td>\n",
       "      <td>0</td>\n",
       "      <td>unknown</td>\n",
       "      <td>opel</td>\n",
       "      <td>unknown</td>\n",
       "      <td>2016-03-16</td>\n",
       "      <td>0</td>\n",
       "      <td>44628</td>\n",
       "      <td>2016-03-20 16:44:37</td>\n",
       "    </tr>\n",
       "    <tr>\n",
       "      <th>12946</th>\n",
       "      <td>2016-03-29 18:39:40</td>\n",
       "      <td>49</td>\n",
       "      <td>unknown</td>\n",
       "      <td>5000</td>\n",
       "      <td>unknown</td>\n",
       "      <td>0</td>\n",
       "      <td>golf</td>\n",
       "      <td>5000</td>\n",
       "      <td>12</td>\n",
       "      <td>unknown</td>\n",
       "      <td>volkswagen</td>\n",
       "      <td>unknown</td>\n",
       "      <td>2016-03-29</td>\n",
       "      <td>0</td>\n",
       "      <td>74523</td>\n",
       "      <td>2016-04-06 04:16:14</td>\n",
       "    </tr>\n",
       "    <tr>\n",
       "      <th>15147</th>\n",
       "      <td>2016-03-14 00:52:02</td>\n",
       "      <td>0</td>\n",
       "      <td>unknown</td>\n",
       "      <td>9999</td>\n",
       "      <td>unknown</td>\n",
       "      <td>0</td>\n",
       "      <td>unknown</td>\n",
       "      <td>10000</td>\n",
       "      <td>0</td>\n",
       "      <td>unknown</td>\n",
       "      <td>sonstige_autos</td>\n",
       "      <td>unknown</td>\n",
       "      <td>2016-03-13</td>\n",
       "      <td>0</td>\n",
       "      <td>32689</td>\n",
       "      <td>2016-03-21 23:46:46</td>\n",
       "    </tr>\n",
       "    <tr>\n",
       "      <th>15870</th>\n",
       "      <td>2016-04-02 11:55:48</td>\n",
       "      <td>1700</td>\n",
       "      <td>unknown</td>\n",
       "      <td>3200</td>\n",
       "      <td>unknown</td>\n",
       "      <td>0</td>\n",
       "      <td>unknown</td>\n",
       "      <td>5000</td>\n",
       "      <td>0</td>\n",
       "      <td>unknown</td>\n",
       "      <td>sonstige_autos</td>\n",
       "      <td>unknown</td>\n",
       "      <td>2016-04-02</td>\n",
       "      <td>0</td>\n",
       "      <td>33649</td>\n",
       "      <td>2016-04-06 09:46:13</td>\n",
       "    </tr>\n",
       "    <tr>\n",
       "      <th>16062</th>\n",
       "      <td>2016-03-29 23:42:16</td>\n",
       "      <td>190</td>\n",
       "      <td>unknown</td>\n",
       "      <td>1000</td>\n",
       "      <td>unknown</td>\n",
       "      <td>0</td>\n",
       "      <td>mondeo</td>\n",
       "      <td>5000</td>\n",
       "      <td>0</td>\n",
       "      <td>unknown</td>\n",
       "      <td>ford</td>\n",
       "      <td>unknown</td>\n",
       "      <td>2016-03-29</td>\n",
       "      <td>0</td>\n",
       "      <td>47166</td>\n",
       "      <td>2016-04-06 10:44:58</td>\n",
       "    </tr>\n",
       "    <tr>\n",
       "      <th>...</th>\n",
       "      <td>...</td>\n",
       "      <td>...</td>\n",
       "      <td>...</td>\n",
       "      <td>...</td>\n",
       "      <td>...</td>\n",
       "      <td>...</td>\n",
       "      <td>...</td>\n",
       "      <td>...</td>\n",
       "      <td>...</td>\n",
       "      <td>...</td>\n",
       "      <td>...</td>\n",
       "      <td>...</td>\n",
       "      <td>...</td>\n",
       "      <td>...</td>\n",
       "      <td>...</td>\n",
       "      <td>...</td>\n",
       "    </tr>\n",
       "    <tr>\n",
       "      <th>340548</th>\n",
       "      <td>2016-04-02 17:44:03</td>\n",
       "      <td>0</td>\n",
       "      <td>unknown</td>\n",
       "      <td>3500</td>\n",
       "      <td>manual</td>\n",
       "      <td>75</td>\n",
       "      <td>unknown</td>\n",
       "      <td>5000</td>\n",
       "      <td>3</td>\n",
       "      <td>petrol</td>\n",
       "      <td>sonstige_autos</td>\n",
       "      <td>unknown</td>\n",
       "      <td>2016-04-02</td>\n",
       "      <td>0</td>\n",
       "      <td>96465</td>\n",
       "      <td>2016-04-04 15:17:51</td>\n",
       "    </tr>\n",
       "    <tr>\n",
       "      <th>340759</th>\n",
       "      <td>2016-04-04 23:55:47</td>\n",
       "      <td>700</td>\n",
       "      <td>unknown</td>\n",
       "      <td>1600</td>\n",
       "      <td>manual</td>\n",
       "      <td>1600</td>\n",
       "      <td>a3</td>\n",
       "      <td>150000</td>\n",
       "      <td>4</td>\n",
       "      <td>petrol</td>\n",
       "      <td>audi</td>\n",
       "      <td>no</td>\n",
       "      <td>2016-04-04</td>\n",
       "      <td>0</td>\n",
       "      <td>86343</td>\n",
       "      <td>2016-04-05 06:44:07</td>\n",
       "    </tr>\n",
       "    <tr>\n",
       "      <th>341791</th>\n",
       "      <td>2016-03-28 17:37:30</td>\n",
       "      <td>1</td>\n",
       "      <td>unknown</td>\n",
       "      <td>3000</td>\n",
       "      <td>unknown</td>\n",
       "      <td>0</td>\n",
       "      <td>zafira</td>\n",
       "      <td>5000</td>\n",
       "      <td>0</td>\n",
       "      <td>unknown</td>\n",
       "      <td>opel</td>\n",
       "      <td>unknown</td>\n",
       "      <td>2016-03-28</td>\n",
       "      <td>0</td>\n",
       "      <td>26624</td>\n",
       "      <td>2016-04-02 22:17:49</td>\n",
       "    </tr>\n",
       "    <tr>\n",
       "      <th>348830</th>\n",
       "      <td>2016-03-22 00:38:15</td>\n",
       "      <td>1</td>\n",
       "      <td>unknown</td>\n",
       "      <td>1000</td>\n",
       "      <td>unknown</td>\n",
       "      <td>1000</td>\n",
       "      <td>unknown</td>\n",
       "      <td>150000</td>\n",
       "      <td>0</td>\n",
       "      <td>unknown</td>\n",
       "      <td>sonstige_autos</td>\n",
       "      <td>unknown</td>\n",
       "      <td>2016-03-21</td>\n",
       "      <td>0</td>\n",
       "      <td>41472</td>\n",
       "      <td>2016-04-05 14:18:01</td>\n",
       "    </tr>\n",
       "    <tr>\n",
       "      <th>351682</th>\n",
       "      <td>2016-03-12 00:57:39</td>\n",
       "      <td>11500</td>\n",
       "      <td>unknown</td>\n",
       "      <td>1800</td>\n",
       "      <td>unknown</td>\n",
       "      <td>16</td>\n",
       "      <td>other</td>\n",
       "      <td>5000</td>\n",
       "      <td>6</td>\n",
       "      <td>petrol</td>\n",
       "      <td>fiat</td>\n",
       "      <td>unknown</td>\n",
       "      <td>2016-03-11</td>\n",
       "      <td>0</td>\n",
       "      <td>16515</td>\n",
       "      <td>2016-04-05 19:47:27</td>\n",
       "    </tr>\n",
       "  </tbody>\n",
       "</table>\n",
       "<p>171 rows × 16 columns</p>\n",
       "</div>"
      ],
      "text/plain": [
       "               DateCrawled  Price VehicleType  RegistrationYear  Gearbox  \\\n",
       "622    2016-03-16 16:55:09      0     unknown              1111  unknown   \n",
       "12946  2016-03-29 18:39:40     49     unknown              5000  unknown   \n",
       "15147  2016-03-14 00:52:02      0     unknown              9999  unknown   \n",
       "15870  2016-04-02 11:55:48   1700     unknown              3200  unknown   \n",
       "16062  2016-03-29 23:42:16    190     unknown              1000  unknown   \n",
       "...                    ...    ...         ...               ...      ...   \n",
       "340548 2016-04-02 17:44:03      0     unknown              3500   manual   \n",
       "340759 2016-04-04 23:55:47    700     unknown              1600   manual   \n",
       "341791 2016-03-28 17:37:30      1     unknown              3000  unknown   \n",
       "348830 2016-03-22 00:38:15      1     unknown              1000  unknown   \n",
       "351682 2016-03-12 00:57:39  11500     unknown              1800  unknown   \n",
       "\n",
       "        Power    Model  Kilometer  RegistrationMonth FuelType           Brand  \\\n",
       "622         0  unknown       5000                  0  unknown            opel   \n",
       "12946       0     golf       5000                 12  unknown      volkswagen   \n",
       "15147       0  unknown      10000                  0  unknown  sonstige_autos   \n",
       "15870       0  unknown       5000                  0  unknown  sonstige_autos   \n",
       "16062       0   mondeo       5000                  0  unknown            ford   \n",
       "...       ...      ...        ...                ...      ...             ...   \n",
       "340548     75  unknown       5000                  3   petrol  sonstige_autos   \n",
       "340759   1600       a3     150000                  4   petrol            audi   \n",
       "341791      0   zafira       5000                  0  unknown            opel   \n",
       "348830   1000  unknown     150000                  0  unknown  sonstige_autos   \n",
       "351682     16    other       5000                  6   petrol            fiat   \n",
       "\n",
       "       NotRepaired DateCreated  NumberOfPictures  PostalCode  \\\n",
       "622        unknown  2016-03-16                 0       44628   \n",
       "12946      unknown  2016-03-29                 0       74523   \n",
       "15147      unknown  2016-03-13                 0       32689   \n",
       "15870      unknown  2016-04-02                 0       33649   \n",
       "16062      unknown  2016-03-29                 0       47166   \n",
       "...            ...         ...               ...         ...   \n",
       "340548     unknown  2016-04-02                 0       96465   \n",
       "340759          no  2016-04-04                 0       86343   \n",
       "341791     unknown  2016-03-28                 0       26624   \n",
       "348830     unknown  2016-03-21                 0       41472   \n",
       "351682     unknown  2016-03-11                 0       16515   \n",
       "\n",
       "                  LastSeen  \n",
       "622    2016-03-20 16:44:37  \n",
       "12946  2016-04-06 04:16:14  \n",
       "15147  2016-03-21 23:46:46  \n",
       "15870  2016-04-06 09:46:13  \n",
       "16062  2016-04-06 10:44:58  \n",
       "...                    ...  \n",
       "340548 2016-04-04 15:17:51  \n",
       "340759 2016-04-05 06:44:07  \n",
       "341791 2016-04-02 22:17:49  \n",
       "348830 2016-04-05 14:18:01  \n",
       "351682 2016-04-05 19:47:27  \n",
       "\n",
       "[171 rows x 16 columns]"
      ]
     },
     "execution_count": 30,
     "metadata": {},
     "output_type": "execute_result"
    }
   ],
   "source": [
    "df[(df.RegistrationYear<1900) | (df.RegistrationYear>2022)]"
   ]
  },
  {
   "cell_type": "code",
   "execution_count": 31,
   "metadata": {
    "scrolled": false
   },
   "outputs": [
    {
     "data": {
      "image/png": "[encoded data removed]",
      "text/plain": [
       "<Figure size 1152x720 with 4 Axes>"
      ]
     },
     "metadata": {
      "needs_background": "light"
     },
     "output_type": "display_data"
    }
   ],
   "source": [
    "f, (ax1, ax2) = plt.subplots(2, 2, figsize=(16,10))\n",
    "sns.boxplot(data=df.RegistrationYear, ax=ax1[0])\n",
    "sns.boxplot(data=df.Power, ax=ax1[1])\n",
    "sns.boxplot(data=df.Kilometer, ax=ax2[0])\n",
    "sns.boxplot(data=df.RegistrationMonth, ax=ax2[1])\n",
    "ax1[0].set_xlabel(\"RegistrationYear\")\n",
    "ax1[1].set_xlabel(\"Power\");\n",
    "ax2[0].set_xlabel(\"Kilometer\")\n",
    "ax2[1].set_xlabel(\"RegistrationMonth\");"
   ]
  },
  {
   "cell_type": "markdown",
   "metadata": {},
   "source": [
    "Машина не может стоить 0 и ее год регистрации не может быть равен 1000, отфильтрую значение цены больше 0, а год больше 1985 и меньше 2022 и power больше 0 и меньше 250."
   ]
  },
  {
   "cell_type": "code",
   "execution_count": 32,
   "metadata": {},
   "outputs": [],
   "source": [
    "df = df[df.Price>0]\n",
    "df = df[(df.RegistrationYear>1985) & (df.RegistrationYear<2022)]\n",
    "df = df[(df.Power<250) & (df.Power>0)]\n",
    "df = df[df.RegistrationMonth>0]"
   ]
  },
  {
   "cell_type": "code",
   "execution_count": 33,
   "metadata": {},
   "outputs": [],
   "source": [
    "df = df.drop(['NumberOfPictures','DateCrawled','DateCreated','LastSeen'], axis=1)"
   ]
  },
  {
   "cell_type": "code",
   "execution_count": 34,
   "metadata": {
    "scrolled": true
   },
   "outputs": [
    {
     "name": "stdout",
     "output_type": "stream",
     "text": [
      "<class 'pandas.core.frame.DataFrame'>\n",
      "Int64Index: 275960 entries, 1 to 354368\n",
      "Data columns (total 12 columns):\n",
      " #   Column             Non-Null Count   Dtype \n",
      "---  ------             --------------   ----- \n",
      " 0   Price              275960 non-null  int64 \n",
      " 1   VehicleType        275960 non-null  object\n",
      " 2   RegistrationYear   275960 non-null  int64 \n",
      " 3   Gearbox            275960 non-null  object\n",
      " 4   Power              275960 non-null  int64 \n",
      " 5   Model              275960 non-null  object\n",
      " 6   Kilometer          275960 non-null  int64 \n",
      " 7   RegistrationMonth  275960 non-null  int64 \n",
      " 8   FuelType           275960 non-null  object\n",
      " 9   Brand              275960 non-null  object\n",
      " 10  NotRepaired        275960 non-null  object\n",
      " 11  PostalCode         275960 non-null  int64 \n",
      "dtypes: int64(6), object(6)\n",
      "memory usage: 27.4+ MB\n"
     ]
    }
   ],
   "source": [
    "df.info()"
   ]
  },
  {
   "cell_type": "markdown",
   "metadata": {},
   "source": [
    "### Вывод\n",
    "- Заменил пропуски на 'unknown'.\n",
    "- Удалил столбец `NumberOfPictures` так как в нем одни нули и столбцы и `DateCrawled`,`DateCreated`,`LastSeen`.\n",
    "- В info увидел наличие null в данных\n",
    "- В describe видно что в `Price`, `RegistrationYear`, `Power` и `RegistrationMonth` есть неправдоподобные значения."
   ]
  },
  {
   "cell_type": "markdown",
   "metadata": {},
   "source": [
    "## Обучение моделей"
   ]
  },
  {
   "cell_type": "code",
   "execution_count": 35,
   "metadata": {},
   "outputs": [],
   "source": [
    "numeric_columns = ['Power', 'Kilometer', 'RegistrationYear', 'RegistrationMonth','PostalCode']"
   ]
  },
  {
   "cell_type": "code",
   "execution_count": 15,
   "metadata": {},
   "outputs": [],
   "source": [
    "scaler = StandardScaler()\n",
    "scaler.fit(df[numeric_columns])\n",
    "df[numeric_columns] = scaler.transform(df[numeric_columns])"
   ]
  },
  {
   "cell_type": "code",
   "execution_count": 16,
   "metadata": {},
   "outputs": [],
   "source": [
    "train, test = train_test_split(df, test_size=0.25, random_state=1234)"
   ]
  },
  {
   "cell_type": "code",
   "execution_count": 17,
   "metadata": {},
   "outputs": [],
   "source": [
    "train_x = train.drop('Price', axis=1)\n",
    "train_y = train['Price']\n",
    "test_x = test.drop('Price', axis=1)\n",
    "test_y = test['Price']"
   ]
  },
  {
   "cell_type": "code",
   "execution_count": 18,
   "metadata": {},
   "outputs": [],
   "source": [
    "cat_features=[train_x.columns.get_loc(c) for c in train_x.dtypes[train_x.dtypes == 'object'].index]"
   ]
  },
  {
   "cell_type": "code",
   "execution_count": 19,
   "metadata": {},
   "outputs": [
    {
     "data": {
      "text/plain": [
       "[0, 2, 4, 7, 8, 9]"
      ]
     },
     "execution_count": 19,
     "metadata": {},
     "output_type": "execute_result"
    }
   ],
   "source": [
    "cat_features"
   ]
  },
  {
   "cell_type": "code",
   "execution_count": 20,
   "metadata": {},
   "outputs": [],
   "source": [
    "encoder = LabelEncoder()\n",
    "for col in cat_features:\n",
    "    encoder.fit(train_x.iloc[:,col])\n",
    "    train_x.iloc[:,col] = encoder.transform(train_x.iloc[:,col])\n",
    "    test_x.iloc[:,col] = encoder.transform(test_x.iloc[:,col])"
   ]
  },
  {
   "cell_type": "code",
   "execution_count": 21,
   "metadata": {},
   "outputs": [
    {
     "data": {
      "text/html": [
       "<div>\n",
       "<style scoped>\n",
       "    .dataframe tbody tr th:only-of-type {\n",
       "        vertical-align: middle;\n",
       "    }\n",
       "\n",
       "    .dataframe tbody tr th {\n",
       "        vertical-align: top;\n",
       "    }\n",
       "\n",
       "    .dataframe thead th {\n",
       "        text-align: right;\n",
       "    }\n",
       "</style>\n",
       "<table border=\"1\" class=\"dataframe\">\n",
       "  <thead>\n",
       "    <tr style=\"text-align: right;\">\n",
       "      <th></th>\n",
       "      <th>VehicleType</th>\n",
       "      <th>RegistrationYear</th>\n",
       "      <th>Gearbox</th>\n",
       "      <th>Power</th>\n",
       "      <th>Model</th>\n",
       "      <th>Kilometer</th>\n",
       "      <th>RegistrationMonth</th>\n",
       "      <th>FuelType</th>\n",
       "      <th>Brand</th>\n",
       "      <th>NotRepaired</th>\n",
       "      <th>PostalCode</th>\n",
       "    </tr>\n",
       "  </thead>\n",
       "  <tbody>\n",
       "    <tr>\n",
       "      <th>212790</th>\n",
       "      <td>7</td>\n",
       "      <td>2.031828</td>\n",
       "      <td>1</td>\n",
       "      <td>-0.588377</td>\n",
       "      <td>116</td>\n",
       "      <td>0.596474</td>\n",
       "      <td>-1.010909</td>\n",
       "      <td>6</td>\n",
       "      <td>38</td>\n",
       "      <td>0</td>\n",
       "      <td>-0.209203</td>\n",
       "    </tr>\n",
       "    <tr>\n",
       "      <th>6710</th>\n",
       "      <td>8</td>\n",
       "      <td>0.540627</td>\n",
       "      <td>1</td>\n",
       "      <td>0.519541</td>\n",
       "      <td>29</td>\n",
       "      <td>0.596474</td>\n",
       "      <td>-1.309500</td>\n",
       "      <td>2</td>\n",
       "      <td>1</td>\n",
       "      <td>0</td>\n",
       "      <td>0.041788</td>\n",
       "    </tr>\n",
       "    <tr>\n",
       "      <th>292025</th>\n",
       "      <td>6</td>\n",
       "      <td>-0.619196</td>\n",
       "      <td>0</td>\n",
       "      <td>1.937676</td>\n",
       "      <td>166</td>\n",
       "      <td>0.596474</td>\n",
       "      <td>0.780642</td>\n",
       "      <td>4</td>\n",
       "      <td>10</td>\n",
       "      <td>2</td>\n",
       "      <td>-0.787024</td>\n",
       "    </tr>\n",
       "    <tr>\n",
       "      <th>277608</th>\n",
       "      <td>4</td>\n",
       "      <td>0.374938</td>\n",
       "      <td>1</td>\n",
       "      <td>0.320116</td>\n",
       "      <td>154</td>\n",
       "      <td>0.596474</td>\n",
       "      <td>-1.010909</td>\n",
       "      <td>6</td>\n",
       "      <td>10</td>\n",
       "      <td>0</td>\n",
       "      <td>0.460704</td>\n",
       "    </tr>\n",
       "    <tr>\n",
       "      <th>205206</th>\n",
       "      <td>5</td>\n",
       "      <td>0.374938</td>\n",
       "      <td>1</td>\n",
       "      <td>0.320116</td>\n",
       "      <td>173</td>\n",
       "      <td>0.596474</td>\n",
       "      <td>1.079233</td>\n",
       "      <td>2</td>\n",
       "      <td>38</td>\n",
       "      <td>0</td>\n",
       "      <td>1.040896</td>\n",
       "    </tr>\n",
       "    <tr>\n",
       "      <th>...</th>\n",
       "      <td>...</td>\n",
       "      <td>...</td>\n",
       "      <td>...</td>\n",
       "      <td>...</td>\n",
       "      <td>...</td>\n",
       "      <td>...</td>\n",
       "      <td>...</td>\n",
       "      <td>...</td>\n",
       "      <td>...</td>\n",
       "      <td>...</td>\n",
       "      <td>...</td>\n",
       "    </tr>\n",
       "    <tr>\n",
       "      <th>178906</th>\n",
       "      <td>2</td>\n",
       "      <td>-1.613330</td>\n",
       "      <td>1</td>\n",
       "      <td>-0.632694</td>\n",
       "      <td>10</td>\n",
       "      <td>0.596474</td>\n",
       "      <td>0.780642</td>\n",
       "      <td>6</td>\n",
       "      <td>19</td>\n",
       "      <td>2</td>\n",
       "      <td>-1.077198</td>\n",
       "    </tr>\n",
       "    <tr>\n",
       "      <th>12292</th>\n",
       "      <td>4</td>\n",
       "      <td>-0.122129</td>\n",
       "      <td>1</td>\n",
       "      <td>1.184292</td>\n",
       "      <td>11</td>\n",
       "      <td>0.596474</td>\n",
       "      <td>-1.010909</td>\n",
       "      <td>6</td>\n",
       "      <td>2</td>\n",
       "      <td>0</td>\n",
       "      <td>1.372196</td>\n",
       "    </tr>\n",
       "    <tr>\n",
       "      <th>53039</th>\n",
       "      <td>6</td>\n",
       "      <td>0.043560</td>\n",
       "      <td>1</td>\n",
       "      <td>-0.123052</td>\n",
       "      <td>108</td>\n",
       "      <td>0.596474</td>\n",
       "      <td>-0.712317</td>\n",
       "      <td>2</td>\n",
       "      <td>18</td>\n",
       "      <td>0</td>\n",
       "      <td>0.205553</td>\n",
       "    </tr>\n",
       "    <tr>\n",
       "      <th>283041</th>\n",
       "      <td>1</td>\n",
       "      <td>-0.122129</td>\n",
       "      <td>0</td>\n",
       "      <td>-0.100893</td>\n",
       "      <td>56</td>\n",
       "      <td>-0.768721</td>\n",
       "      <td>-0.115134</td>\n",
       "      <td>6</td>\n",
       "      <td>5</td>\n",
       "      <td>0</td>\n",
       "      <td>-0.406358</td>\n",
       "    </tr>\n",
       "    <tr>\n",
       "      <th>212126</th>\n",
       "      <td>5</td>\n",
       "      <td>0.872005</td>\n",
       "      <td>1</td>\n",
       "      <td>-1.386079</td>\n",
       "      <td>169</td>\n",
       "      <td>-1.314798</td>\n",
       "      <td>1.079233</td>\n",
       "      <td>6</td>\n",
       "      <td>9</td>\n",
       "      <td>1</td>\n",
       "      <td>0.487136</td>\n",
       "    </tr>\n",
       "  </tbody>\n",
       "</table>\n",
       "<p>206970 rows × 11 columns</p>\n",
       "</div>"
      ],
      "text/plain": [
       "        VehicleType  RegistrationYear  Gearbox     Power  Model  Kilometer  \\\n",
       "212790            7          2.031828        1 -0.588377    116   0.596474   \n",
       "6710              8          0.540627        1  0.519541     29   0.596474   \n",
       "292025            6         -0.619196        0  1.937676    166   0.596474   \n",
       "277608            4          0.374938        1  0.320116    154   0.596474   \n",
       "205206            5          0.374938        1  0.320116    173   0.596474   \n",
       "...             ...               ...      ...       ...    ...        ...   \n",
       "178906            2         -1.613330        1 -0.632694     10   0.596474   \n",
       "12292             4         -0.122129        1  1.184292     11   0.596474   \n",
       "53039             6          0.043560        1 -0.123052    108   0.596474   \n",
       "283041            1         -0.122129        0 -0.100893     56  -0.768721   \n",
       "212126            5          0.872005        1 -1.386079    169  -1.314798   \n",
       "\n",
       "        RegistrationMonth  FuelType  Brand  NotRepaired  PostalCode  \n",
       "212790          -1.010909         6     38            0   -0.209203  \n",
       "6710            -1.309500         2      1            0    0.041788  \n",
       "292025           0.780642         4     10            2   -0.787024  \n",
       "277608          -1.010909         6     10            0    0.460704  \n",
       "205206           1.079233         2     38            0    1.040896  \n",
       "...                   ...       ...    ...          ...         ...  \n",
       "178906           0.780642         6     19            2   -1.077198  \n",
       "12292           -1.010909         6      2            0    1.372196  \n",
       "53039           -0.712317         2     18            0    0.205553  \n",
       "283041          -0.115134         6      5            0   -0.406358  \n",
       "212126           1.079233         6      9            1    0.487136  \n",
       "\n",
       "[206970 rows x 11 columns]"
      ]
     },
     "execution_count": 21,
     "metadata": {},
     "output_type": "execute_result"
    }
   ],
   "source": [
    "train_x"
   ]
  },
  {
   "cell_type": "markdown",
   "metadata": {},
   "source": [
    "### Catboost"
   ]
  },
  {
   "cell_type": "code",
   "execution_count": 21,
   "metadata": {},
   "outputs": [
    {
     "name": "stdout",
     "output_type": "stream",
     "text": [
      "0:\tlearn: 4315.5191112\ttotal: 102ms\tremaining: 20.3s\n",
      "199:\tlearn: 1546.0007504\ttotal: 10.9s\tremaining: 0us\n",
      "0:\tlearn: 4315.7378641\ttotal: 51ms\tremaining: 10.1s\n",
      "199:\tlearn: 1541.7382789\ttotal: 14.2s\tremaining: 0us\n",
      "0:\tlearn: 4325.0780217\ttotal: 48.7ms\tremaining: 9.7s\n",
      "199:\tlearn: 1547.1507307\ttotal: 11s\tremaining: 0us\n",
      "0:\tlearn: 4320.6899164\ttotal: 55.1ms\tremaining: 11s\n",
      "199:\tlearn: 1546.5904600\ttotal: 10.1s\tremaining: 0us\n",
      "0:\tlearn: 4315.5191112\ttotal: 52.2ms\tremaining: 20.8s\n",
      "200:\tlearn: 1545.2870522\ttotal: 9.92s\tremaining: 9.82s\n",
      "399:\tlearn: 1443.2600455\ttotal: 19.8s\tremaining: 0us\n",
      "0:\tlearn: 4315.7378641\ttotal: 49.7ms\tremaining: 19.8s\n",
      "200:\tlearn: 1541.1858785\ttotal: 9.94s\tremaining: 9.84s\n",
      "399:\tlearn: 1439.0507394\ttotal: 19.9s\tremaining: 0us\n",
      "0:\tlearn: 4325.0780217\ttotal: 48.6ms\tremaining: 19.4s\n",
      "200:\tlearn: 1546.5700597\ttotal: 10.3s\tremaining: 10.2s\n",
      "399:\tlearn: 1444.6735593\ttotal: 20.4s\tremaining: 0us\n",
      "0:\tlearn: 4320.6899164\ttotal: 50ms\tremaining: 19.9s\n",
      "200:\tlearn: 1545.8295253\ttotal: 9.98s\tremaining: 9.88s\n",
      "399:\tlearn: 1444.5180514\ttotal: 19.9s\tremaining: 0us\n",
      "0:\tlearn: 4154.2106806\ttotal: 50.5ms\tremaining: 10s\n",
      "199:\tlearn: 1443.9729033\ttotal: 10s\tremaining: 0us\n",
      "0:\tlearn: 4152.0610603\ttotal: 50.5ms\tremaining: 10s\n",
      "199:\tlearn: 1443.7567926\ttotal: 9.9s\tremaining: 0us\n",
      "0:\tlearn: 4160.5637454\ttotal: 49.7ms\tremaining: 9.89s\n",
      "199:\tlearn: 1446.7690830\ttotal: 10.1s\tremaining: 0us\n",
      "0:\tlearn: 4158.3186656\ttotal: 51.4ms\tremaining: 10.2s\n",
      "199:\tlearn: 1440.8722147\ttotal: 10.2s\tremaining: 0us\n",
      "0:\tlearn: 4154.2106806\ttotal: 47.7ms\tremaining: 19s\n",
      "200:\tlearn: 1443.3976013\ttotal: 10.1s\tremaining: 10s\n",
      "399:\tlearn: 1332.1345499\ttotal: 20.1s\tremaining: 0us\n",
      "0:\tlearn: 4152.0610603\ttotal: 48.5ms\tremaining: 19.3s\n",
      "200:\tlearn: 1442.9804409\ttotal: 9.92s\tremaining: 9.82s\n",
      "399:\tlearn: 1333.1267640\ttotal: 19.9s\tremaining: 0us\n",
      "0:\tlearn: 4160.5637454\ttotal: 48.4ms\tremaining: 19.3s\n",
      "200:\tlearn: 1446.0394018\ttotal: 10.1s\tremaining: 9.99s\n",
      "399:\tlearn: 1335.0778526\ttotal: 20.1s\tremaining: 0us\n",
      "0:\tlearn: 4158.3186656\ttotal: 50.8ms\tremaining: 20.3s\n",
      "200:\tlearn: 1439.8022905\ttotal: 10s\tremaining: 9.93s\n",
      "399:\tlearn: 1330.9435026\ttotal: 20s\tremaining: 0us\n",
      "0:\tlearn: 4156.2312093\ttotal: 65.7ms\tremaining: 26.2s\n",
      "200:\tlearn: 1452.4697196\ttotal: 12.9s\tremaining: 12.8s\n",
      "399:\tlearn: 1353.9641275\ttotal: 25.7s\tremaining: 0us\n",
      "The best hyperparameters are  {'learning_rate': 0.1, 'max_depth': 10, 'n_estimators': 400, 'verbose': 200}\n"
     ]
    }
   ],
   "source": [
    "cat_model = CatBoostRegressor()\n",
    "# set up our search grid\n",
    "param_grid = {\"max_depth\":    [10],\n",
    "              \"n_estimators\": [200, 400],\n",
    "              \"verbose\": [200],\n",
    "              \"learning_rate\": [0.05, 0.1]}\n",
    "\n",
    "# try out every combination of the above values\n",
    "search = GridSearchCV(cat_model, param_grid, cv=4).fit(train_x, train_y)\n",
    "\n",
    "print(\"The best hyperparameters are \",search.best_params_)"
   ]
  },
  {
   "cell_type": "code",
   "execution_count": 22,
   "metadata": {},
   "outputs": [],
   "source": [
    "cat_model = CatBoostRegressor(learning_rate = search.best_params_[\"learning_rate\"],\n",
    "                              n_estimators  = search.best_params_[\"n_estimators\"],\n",
    "                              max_depth     = search.best_params_[\"max_depth\"],\n",
    "                              verbose       = search.best_params_[\"verbose\"])"
   ]
  },
  {
   "cell_type": "code",
   "execution_count": 23,
   "metadata": {
    "scrolled": false
   },
   "outputs": [
    {
     "data": {
      "application/vnd.jupyter.widget-view+json": {
       "model_id": "4b8d8f8e53984353a096b77b07fa0a38",
       "version_major": 2,
       "version_minor": 0
      },
      "text/plain": [
       "MetricVisualizer(layout=Layout(align_self='stretch', height='500px'))"
      ]
     },
     "metadata": {},
     "output_type": "display_data"
    },
    {
     "name": "stdout",
     "output_type": "stream",
     "text": [
      "0:\tlearn: 4156.2312093\ttest: 4171.7662367\tbest: 4171.7662367 (0)\ttotal: 71.9ms\tremaining: 28.7s\n",
      "200:\tlearn: 1452.4697196\ttest: 1532.3342376\tbest: 1532.3342376 (200)\ttotal: 13.1s\tremaining: 12.9s\n",
      "399:\tlearn: 1353.9641275\ttest: 1483.2018959\tbest: 1483.2018959 (399)\ttotal: 25.9s\tremaining: 0us\n",
      "\n",
      "bestTest = 1483.201896\n",
      "bestIteration = 399\n",
      "\n",
      "CPU times: user 26.1 s, sys: 116 ms, total: 26.2 s\n",
      "Wall time: 27.7 s\n"
     ]
    }
   ],
   "source": [
    "%%time\n",
    "start_time = time.time()\n",
    "cat_model.fit(train_x,\n",
    "              train_y,\n",
    "#               cat_features=cat_features,\n",
    "              eval_set=(test_x, test_y),\n",
    "              plot=True)\n",
    "fit_time_catboost = time.time() - start_time\n",
    "prediction_catboost = cat_model.predict(test_x)\n",
    "predicting_time_catboost = time.time() - start_time\n",
    "predicting_time_catboost -= fit_time_catboost"
   ]
  },
  {
   "cell_type": "code",
   "execution_count": 24,
   "metadata": {
    "scrolled": false
   },
   "outputs": [
    {
     "data": {
      "text/plain": [
       "(27.64411473274231,\n",
       " 0.10434174537658691,\n",
       " 1483.2018959423851,\n",
       " 1483.2018959423845)"
      ]
     },
     "execution_count": 24,
     "metadata": {},
     "output_type": "execute_result"
    }
   ],
   "source": [
    "fit_time_catboost, predicting_time_catboost, cat_model.best_score_['validation']['RMSE'], mean_squared_error(prediction_catboost, test_y, squared=0)"
   ]
  },
  {
   "cell_type": "markdown",
   "metadata": {},
   "source": [
    "### LGBMRegressor"
   ]
  },
  {
   "cell_type": "code",
   "execution_count": 25,
   "metadata": {},
   "outputs": [
    {
     "name": "stdout",
     "output_type": "stream",
     "text": [
      "The best hyperparameters are  {'learning_rate': 0.1, 'max_depth': 10, 'n_estimators': 400}\n"
     ]
    }
   ],
   "source": [
    "lgbm_model = LGBMRegressor()\n",
    "# set up our search grid\n",
    "param_grid = {\"max_depth\":    [10],\n",
    "              \"n_estimators\": [200, 400],\n",
    "              \"learning_rate\": [0.05, 0.1]}\n",
    "\n",
    "# try out every combination of the above values\n",
    "search = GridSearchCV(lgbm_model, param_grid, cv=4).fit(train_x, train_y)\n",
    "\n",
    "print(\"The best hyperparameters are \",search.best_params_)"
   ]
  },
  {
   "cell_type": "code",
   "execution_count": 26,
   "metadata": {},
   "outputs": [],
   "source": [
    "lgbm_model = LGBMRegressor(learning_rate = search.best_params_[\"learning_rate\"],\n",
    "                           n_estimators  = search.best_params_[\"n_estimators\"],\n",
    "                           max_depth     = search.best_params_[\"max_depth\"])"
   ]
  },
  {
   "cell_type": "code",
   "execution_count": 27,
   "metadata": {},
   "outputs": [
    {
     "name": "stdout",
     "output_type": "stream",
     "text": [
      "Training until validation scores don't improve for 100 rounds\n",
      "[200]\tvalid_0's rmse: 1547.69\tvalid_0's l2: 2.39536e+06\n",
      "[400]\tvalid_0's rmse: 1502.67\tvalid_0's l2: 2.25802e+06\n",
      "Did not meet early stopping. Best iteration is:\n",
      "[400]\tvalid_0's rmse: 1502.67\tvalid_0's l2: 2.25802e+06\n",
      "CPU times: user 18.5 s, sys: 79.7 ms, total: 18.6 s\n",
      "Wall time: 19 s\n"
     ]
    }
   ],
   "source": [
    "%%time\n",
    "start_time = time.time()\n",
    "lgbm_model.fit(train_x,\n",
    "               train_y,\n",
    "               eval_set = (test_x, test_y),\n",
    "               eval_metric ='rmse',\n",
    "               callbacks=[early_stopping(100), log_evaluation(200)])\n",
    "fit_time_lgbm = time.time() - start_time\n",
    "prediction_lgbm = lgbm_model.predict(test_x)\n",
    "predicting_time_lgbm = time.time() - start_time\n",
    "predicting_time_lgbm -= fit_time_lgbm"
   ]
  },
  {
   "cell_type": "code",
   "execution_count": 28,
   "metadata": {
    "scrolled": true
   },
   "outputs": [
    {
     "data": {
      "text/plain": [
       "(17.18799114227295, 1.8056261539459229, 1502.6718368043148, 1502.6718368043148)"
      ]
     },
     "execution_count": 28,
     "metadata": {},
     "output_type": "execute_result"
    }
   ],
   "source": [
    "fit_time_lgbm, predicting_time_lgbm, lgbm_model.best_score_['valid_0']['rmse'], mean_squared_error(prediction_lgbm, test_y, squared=0)"
   ]
  },
  {
   "cell_type": "markdown",
   "metadata": {},
   "source": [
    "### XGBRegressor"
   ]
  },
  {
   "cell_type": "code",
   "execution_count": 29,
   "metadata": {},
   "outputs": [
    {
     "name": "stdout",
     "output_type": "stream",
     "text": [
      "The best hyperparameters are  {'learning_rate': 0.1, 'max_depth': 10, 'n_estimators': 400}\n"
     ]
    }
   ],
   "source": [
    "xgb_model = xgb.XGBRegressor(eval_metric ='rmse')\n",
    "# set up our search grid\n",
    "param_grid = {\"max_depth\":    [10],\n",
    "              \"n_estimators\": [200, 400],\n",
    "              \"learning_rate\": [0.05, 0.1]}\n",
    "\n",
    "# try out every combination of the above values\n",
    "search = GridSearchCV(xgb_model, param_grid, cv=4).fit(train_x, train_y)\n",
    "\n",
    "print(\"The best hyperparameters are \",search.best_params_)"
   ]
  },
  {
   "cell_type": "code",
   "execution_count": 30,
   "metadata": {},
   "outputs": [],
   "source": [
    "xgb_model = xgb.XGBRegressor(learning_rate = search.best_params_[\"learning_rate\"],\n",
    "                             n_estimators  = search.best_params_[\"n_estimators\"],\n",
    "                             max_depth     = search.best_params_[\"max_depth\"])"
   ]
  },
  {
   "cell_type": "code",
   "execution_count": 31,
   "metadata": {},
   "outputs": [
    {
     "name": "stdout",
     "output_type": "stream",
     "text": [
      "CPU times: user 10min 24s, sys: 2.55 s, total: 10min 27s\n",
      "Wall time: 10min 32s\n"
     ]
    }
   ],
   "source": [
    "%%time\n",
    "start_time = time.time()\n",
    "xgb_model.fit(train_x,\n",
    "              train_y,\n",
    "              eval_set = [(test_x, test_y)],\n",
    "              eval_metric ='rmse',\n",
    "              verbose=0)\n",
    "fit_time_xgb = time.time() - start_time\n",
    "prediction_xgb = xgb_model.predict(test_x)\n",
    "predicting_time_xgb = time.time() - start_time\n",
    "predicting_time_xgb -= fit_time_xgb"
   ]
  },
  {
   "cell_type": "code",
   "execution_count": 32,
   "metadata": {},
   "outputs": [
    {
     "data": {
      "text/plain": [
       "(630.1551172733307, 2.2557263374328613, 1409.981112583814)"
      ]
     },
     "execution_count": 32,
     "metadata": {},
     "output_type": "execute_result"
    }
   ],
   "source": [
    "fit_time_xgb, predicting_time_xgb, mean_squared_error(prediction_xgb, test_y, squared=0)"
   ]
  },
  {
   "cell_type": "markdown",
   "metadata": {},
   "source": [
    "## Анализ моделей"
   ]
  },
  {
   "cell_type": "code",
   "execution_count": 33,
   "metadata": {},
   "outputs": [
    {
     "data": {
      "text/html": [
       "<div>\n",
       "<style scoped>\n",
       "    .dataframe tbody tr th:only-of-type {\n",
       "        vertical-align: middle;\n",
       "    }\n",
       "\n",
       "    .dataframe tbody tr th {\n",
       "        vertical-align: top;\n",
       "    }\n",
       "\n",
       "    .dataframe thead th {\n",
       "        text-align: right;\n",
       "    }\n",
       "</style>\n",
       "<table border=\"1\" class=\"dataframe\">\n",
       "  <thead>\n",
       "    <tr style=\"text-align: right;\">\n",
       "      <th></th>\n",
       "      <th>fit_time</th>\n",
       "      <th>predicting_time</th>\n",
       "      <th>rmse</th>\n",
       "    </tr>\n",
       "  </thead>\n",
       "  <tbody>\n",
       "    <tr>\n",
       "      <th>CatBoostRegressor</th>\n",
       "      <td>27.644115</td>\n",
       "      <td>0.104342</td>\n",
       "      <td>1483.201896</td>\n",
       "    </tr>\n",
       "    <tr>\n",
       "      <th>LGBMRegressor</th>\n",
       "      <td>17.187991</td>\n",
       "      <td>1.805626</td>\n",
       "      <td>1502.671837</td>\n",
       "    </tr>\n",
       "    <tr>\n",
       "      <th>XGBRegressor</th>\n",
       "      <td>630.155117</td>\n",
       "      <td>2.255726</td>\n",
       "      <td>1409.981113</td>\n",
       "    </tr>\n",
       "  </tbody>\n",
       "</table>\n",
       "</div>"
      ],
      "text/plain": [
       "                     fit_time  predicting_time         rmse\n",
       "CatBoostRegressor   27.644115         0.104342  1483.201896\n",
       "LGBMRegressor       17.187991         1.805626  1502.671837\n",
       "XGBRegressor       630.155117         2.255726  1409.981113"
      ]
     },
     "execution_count": 33,
     "metadata": {},
     "output_type": "execute_result"
    }
   ],
   "source": [
    "pd.DataFrame({'fit_time':[fit_time_catboost, fit_time_lgbm, fit_time_xgb], \n",
    "              'predicting_time':[predicting_time_catboost, predicting_time_lgbm, predicting_time_xgb], \n",
    "              'rmse':[cat_model.best_score_['validation']['RMSE'], \n",
    "                      lgbm_model.best_score_['valid_0']['rmse'], \n",
    "                      mean_squared_error(prediction_xgb, test_y, squared=0)]}, \n",
    "             index=['CatBoostRegressor','LGBMRegressor','XGBRegressor'])"
   ]
  },
  {
   "cell_type": "markdown",
   "metadata": {
    "pycharm": {
     "name": "#%% md\n"
    }
   },
   "source": [
    "### Вывод \n",
    "- Лучшее качество предсказания у XGBRegressor, но время обучения самое долгое. \n",
    "- Оптимальнее всего использовать CatBoostRegressor у него лучшее время предсказаний, недолгое обучение и среднее качество предсказаний."
   ]
  }
 ],
 "metadata": {
  "ExecuteTimeLog": [
   {
    "duration": 569,
    "start_time": "2022-03-22T20:02:32.208Z"
   },
   {
    "duration": 1113,
    "start_time": "2022-03-22T20:02:49.308Z"
   },
   {
    "duration": 46,
    "start_time": "2022-03-22T20:02:51.796Z"
   },
   {
    "duration": 258,
    "start_time": "2022-03-22T20:03:23.072Z"
   },
   {
    "duration": 214,
    "start_time": "2022-03-22T20:04:45.307Z"
   },
   {
    "duration": 283,
    "start_time": "2022-03-22T20:04:51.469Z"
   },
   {
    "duration": 32,
    "start_time": "2022-03-22T20:05:13.692Z"
   },
   {
    "duration": 1524,
    "start_time": "2022-03-22T20:05:47.151Z"
   },
   {
    "duration": 29,
    "start_time": "2022-03-22T20:05:48.681Z"
   },
   {
    "duration": 135,
    "start_time": "2022-03-22T20:06:01.788Z"
   },
   {
    "duration": 161,
    "start_time": "2022-03-22T20:06:04.152Z"
   },
   {
    "duration": 7,
    "start_time": "2022-03-22T20:07:08.189Z"
   },
   {
    "duration": 71,
    "start_time": "2022-03-22T20:08:25.967Z"
   },
   {
    "duration": 96,
    "start_time": "2022-03-22T20:10:53.250Z"
   },
   {
    "duration": 192,
    "start_time": "2022-03-22T20:14:33.055Z"
   },
   {
    "duration": 37,
    "start_time": "2022-03-22T20:14:37.313Z"
   },
   {
    "duration": 174,
    "start_time": "2022-03-22T20:14:47.676Z"
   },
   {
    "duration": 39,
    "start_time": "2022-03-22T20:14:48.329Z"
   },
   {
    "duration": 241,
    "start_time": "2022-03-22T20:17:31.396Z"
   },
   {
    "duration": 49,
    "start_time": "2022-03-22T20:24:57.944Z"
   },
   {
    "duration": 102,
    "start_time": "2022-03-22T20:34:13.997Z"
   },
   {
    "duration": 98,
    "start_time": "2022-03-22T20:34:40.187Z"
   },
   {
    "duration": 110,
    "start_time": "2022-03-22T20:34:59.677Z"
   },
   {
    "duration": 107,
    "start_time": "2022-03-22T20:35:13.647Z"
   },
   {
    "duration": 92,
    "start_time": "2022-03-22T20:37:35.416Z"
   },
   {
    "duration": 48,
    "start_time": "2022-03-22T20:39:08.910Z"
   },
   {
    "duration": 95,
    "start_time": "2022-03-22T20:54:37.896Z"
   },
   {
    "duration": 133,
    "start_time": "2022-03-22T20:55:20.849Z"
   },
   {
    "duration": 102,
    "start_time": "2022-03-22T20:55:39.085Z"
   },
   {
    "duration": 59,
    "start_time": "2022-03-22T20:56:33.799Z"
   },
   {
    "duration": 14,
    "start_time": "2022-03-22T20:59:06.952Z"
   },
   {
    "duration": 1393,
    "start_time": "2022-03-22T20:59:12.920Z"
   },
   {
    "duration": 38,
    "start_time": "2022-03-22T20:59:20.801Z"
   },
   {
    "duration": 112,
    "start_time": "2022-03-22T21:07:13.632Z"
   },
   {
    "duration": 126,
    "start_time": "2022-03-22T21:07:17.990Z"
   },
   {
    "duration": 143,
    "start_time": "2022-03-22T21:07:21.735Z"
   },
   {
    "duration": 15,
    "start_time": "2022-03-22T21:08:25.093Z"
   },
   {
    "duration": 39,
    "start_time": "2022-03-22T21:08:31.983Z"
   },
   {
    "duration": 130,
    "start_time": "2022-03-22T21:09:58.314Z"
   },
   {
    "duration": 107,
    "start_time": "2022-03-22T21:10:04.792Z"
   },
   {
    "duration": 549,
    "start_time": "2022-03-22T21:11:37.610Z"
   },
   {
    "duration": 1629,
    "start_time": "2022-03-22T21:11:38.163Z"
   },
   {
    "duration": 30,
    "start_time": "2022-03-22T21:11:39.795Z"
   },
   {
    "duration": 156,
    "start_time": "2022-03-22T21:11:39.828Z"
   },
   {
    "duration": 145,
    "start_time": "2022-03-22T21:11:39.988Z"
   },
   {
    "duration": 173,
    "start_time": "2022-03-22T21:11:40.136Z"
   },
   {
    "duration": 231,
    "start_time": "2022-03-22T21:11:40.311Z"
   },
   {
    "duration": 418,
    "start_time": "2022-03-27T18:42:32.065Z"
   },
   {
    "duration": 979,
    "start_time": "2022-03-27T18:42:32.485Z"
   },
   {
    "duration": 22,
    "start_time": "2022-03-27T18:42:33.466Z"
   },
   {
    "duration": 107,
    "start_time": "2022-03-27T18:42:33.490Z"
   },
   {
    "duration": 94,
    "start_time": "2022-03-27T18:42:33.600Z"
   },
   {
    "duration": 126,
    "start_time": "2022-03-27T18:42:33.696Z"
   },
   {
    "duration": 166,
    "start_time": "2022-03-27T18:42:33.824Z"
   },
   {
    "duration": 31,
    "start_time": "2022-03-27T18:42:33.992Z"
   },
   {
    "duration": 24,
    "start_time": "2022-03-27T18:42:34.037Z"
   },
   {
    "duration": 95,
    "start_time": "2022-03-27T18:42:34.063Z"
   },
   {
    "duration": 24,
    "start_time": "2022-03-27T18:42:34.159Z"
   },
   {
    "duration": 1247,
    "start_time": "2022-03-29T12:24:39.870Z"
   },
   {
    "duration": 94,
    "start_time": "2022-03-29T12:25:17.029Z"
   },
   {
    "duration": 1165,
    "start_time": "2022-03-29T12:25:22.444Z"
   },
   {
    "duration": 923,
    "start_time": "2022-03-29T12:25:23.611Z"
   },
   {
    "duration": 20,
    "start_time": "2022-03-29T12:25:24.536Z"
   },
   {
    "duration": 111,
    "start_time": "2022-03-29T12:25:24.558Z"
   },
   {
    "duration": 101,
    "start_time": "2022-03-29T12:25:24.671Z"
   },
   {
    "duration": 130,
    "start_time": "2022-03-29T12:25:24.775Z"
   },
   {
    "duration": 142,
    "start_time": "2022-03-29T12:25:24.906Z"
   },
   {
    "duration": 32,
    "start_time": "2022-03-29T12:25:25.050Z"
   },
   {
    "duration": 30,
    "start_time": "2022-03-29T12:25:25.083Z"
   },
   {
    "duration": 86,
    "start_time": "2022-03-29T12:25:25.115Z"
   },
   {
    "duration": 20,
    "start_time": "2022-03-29T12:25:25.202Z"
   },
   {
    "duration": 84,
    "start_time": "2022-03-29T12:25:25.223Z"
   },
   {
    "duration": 100,
    "start_time": "2022-03-29T12:27:47.030Z"
   },
   {
    "duration": 27,
    "start_time": "2022-03-29T12:28:13.873Z"
   },
   {
    "duration": 52,
    "start_time": "2022-03-29T12:43:23.391Z"
   },
   {
    "duration": 4,
    "start_time": "2022-03-29T12:44:28.267Z"
   },
   {
    "duration": 4,
    "start_time": "2022-03-29T12:44:28.684Z"
   },
   {
    "duration": 3,
    "start_time": "2022-03-29T12:44:28.941Z"
   },
   {
    "duration": 2957,
    "start_time": "2022-03-29T12:44:29.213Z"
   },
   {
    "duration": 17,
    "start_time": "2022-03-29T12:44:54.895Z"
   },
   {
    "duration": 87,
    "start_time": "2022-03-29T12:45:08.231Z"
   },
   {
    "duration": 1194,
    "start_time": "2022-03-29T12:45:56.931Z"
   },
   {
    "duration": 924,
    "start_time": "2022-03-29T12:45:58.127Z"
   },
   {
    "duration": 23,
    "start_time": "2022-03-29T12:45:59.053Z"
   },
   {
    "duration": 116,
    "start_time": "2022-03-29T12:45:59.078Z"
   },
   {
    "duration": 90,
    "start_time": "2022-03-29T12:45:59.196Z"
   },
   {
    "duration": 135,
    "start_time": "2022-03-29T12:45:59.288Z"
   },
   {
    "duration": 149,
    "start_time": "2022-03-29T12:45:59.425Z"
   },
   {
    "duration": 34,
    "start_time": "2022-03-29T12:45:59.575Z"
   },
   {
    "duration": 22,
    "start_time": "2022-03-29T12:45:59.611Z"
   },
   {
    "duration": 90,
    "start_time": "2022-03-29T12:45:59.636Z"
   },
   {
    "duration": 18,
    "start_time": "2022-03-29T12:45:59.728Z"
   },
   {
    "duration": 16,
    "start_time": "2022-03-29T12:45:59.748Z"
   },
   {
    "duration": 98,
    "start_time": "2022-03-29T12:45:59.765Z"
   },
   {
    "duration": 77,
    "start_time": "2022-03-29T12:45:59.864Z"
   },
   {
    "duration": 24,
    "start_time": "2022-03-29T12:45:59.943Z"
   },
   {
    "duration": 4,
    "start_time": "2022-03-29T12:45:59.968Z"
   },
   {
    "duration": 5,
    "start_time": "2022-03-29T12:45:59.973Z"
   },
   {
    "duration": 22,
    "start_time": "2022-03-29T12:45:59.980Z"
   },
   {
    "duration": 2386,
    "start_time": "2022-03-29T12:46:00.003Z"
   },
   {
    "duration": 3,
    "start_time": "2022-03-29T12:46:36.151Z"
   },
   {
    "duration": 88,
    "start_time": "2022-03-29T12:46:48.934Z"
   },
   {
    "duration": 4,
    "start_time": "2022-03-29T12:47:01.790Z"
   },
   {
    "duration": 64,
    "start_time": "2022-03-29T12:47:19.193Z"
   },
   {
    "duration": 1229,
    "start_time": "2022-03-29T12:50:34.825Z"
   },
   {
    "duration": 918,
    "start_time": "2022-03-29T12:50:36.056Z"
   },
   {
    "duration": 27,
    "start_time": "2022-03-29T12:50:36.976Z"
   },
   {
    "duration": 96,
    "start_time": "2022-03-29T12:50:37.006Z"
   },
   {
    "duration": 98,
    "start_time": "2022-03-29T12:50:37.104Z"
   },
   {
    "duration": 126,
    "start_time": "2022-03-29T12:50:37.203Z"
   },
   {
    "duration": 147,
    "start_time": "2022-03-29T12:50:37.331Z"
   },
   {
    "duration": 34,
    "start_time": "2022-03-29T12:50:37.480Z"
   },
   {
    "duration": 21,
    "start_time": "2022-03-29T12:50:37.516Z"
   },
   {
    "duration": 87,
    "start_time": "2022-03-29T12:50:37.539Z"
   },
   {
    "duration": 20,
    "start_time": "2022-03-29T12:50:37.627Z"
   },
   {
    "duration": 18,
    "start_time": "2022-03-29T12:50:37.649Z"
   },
   {
    "duration": 109,
    "start_time": "2022-03-29T12:50:37.669Z"
   },
   {
    "duration": 0,
    "start_time": "2022-03-29T12:50:37.780Z"
   },
   {
    "duration": 0,
    "start_time": "2022-03-29T12:50:37.781Z"
   },
   {
    "duration": 0,
    "start_time": "2022-03-29T12:50:37.782Z"
   },
   {
    "duration": 0,
    "start_time": "2022-03-29T12:50:37.783Z"
   },
   {
    "duration": 0,
    "start_time": "2022-03-29T12:50:37.784Z"
   },
   {
    "duration": 0,
    "start_time": "2022-03-29T12:50:37.785Z"
   },
   {
    "duration": 0,
    "start_time": "2022-03-29T12:50:37.786Z"
   },
   {
    "duration": 72,
    "start_time": "2022-03-29T12:50:47.679Z"
   },
   {
    "duration": 27,
    "start_time": "2022-03-29T12:50:47.945Z"
   },
   {
    "duration": 3,
    "start_time": "2022-03-29T12:50:48.054Z"
   },
   {
    "duration": 2,
    "start_time": "2022-03-29T12:50:48.221Z"
   },
   {
    "duration": 3,
    "start_time": "2022-03-29T12:50:49.004Z"
   },
   {
    "duration": 48,
    "start_time": "2022-03-29T12:51:07.113Z"
   },
   {
    "duration": 1252,
    "start_time": "2022-03-29T12:51:12.340Z"
   },
   {
    "duration": 986,
    "start_time": "2022-03-29T12:51:13.594Z"
   },
   {
    "duration": 30,
    "start_time": "2022-03-29T12:51:14.582Z"
   },
   {
    "duration": 103,
    "start_time": "2022-03-29T12:51:14.613Z"
   },
   {
    "duration": 96,
    "start_time": "2022-03-29T12:51:14.718Z"
   },
   {
    "duration": 135,
    "start_time": "2022-03-29T12:51:14.816Z"
   },
   {
    "duration": 149,
    "start_time": "2022-03-29T12:51:14.953Z"
   },
   {
    "duration": 31,
    "start_time": "2022-03-29T12:51:15.103Z"
   },
   {
    "duration": 24,
    "start_time": "2022-03-29T12:51:15.136Z"
   },
   {
    "duration": 102,
    "start_time": "2022-03-29T12:51:15.161Z"
   },
   {
    "duration": 20,
    "start_time": "2022-03-29T12:51:15.265Z"
   },
   {
    "duration": 30,
    "start_time": "2022-03-29T12:51:15.287Z"
   },
   {
    "duration": 90,
    "start_time": "2022-03-29T12:51:15.319Z"
   },
   {
    "duration": 27,
    "start_time": "2022-03-29T12:51:15.412Z"
   },
   {
    "duration": 5,
    "start_time": "2022-03-29T12:51:15.441Z"
   },
   {
    "duration": 9,
    "start_time": "2022-03-29T12:51:15.447Z"
   },
   {
    "duration": 15,
    "start_time": "2022-03-29T12:51:15.458Z"
   },
   {
    "duration": 1130,
    "start_time": "2022-03-29T12:51:54.831Z"
   },
   {
    "duration": 895,
    "start_time": "2022-03-29T12:51:55.963Z"
   },
   {
    "duration": 19,
    "start_time": "2022-03-29T12:51:56.860Z"
   },
   {
    "duration": 103,
    "start_time": "2022-03-29T12:51:56.881Z"
   },
   {
    "duration": 91,
    "start_time": "2022-03-29T12:51:56.986Z"
   },
   {
    "duration": 123,
    "start_time": "2022-03-29T12:51:57.078Z"
   },
   {
    "duration": 135,
    "start_time": "2022-03-29T12:51:57.202Z"
   },
   {
    "duration": 29,
    "start_time": "2022-03-29T12:51:57.339Z"
   },
   {
    "duration": 35,
    "start_time": "2022-03-29T12:51:57.370Z"
   },
   {
    "duration": 72,
    "start_time": "2022-03-29T12:51:57.408Z"
   },
   {
    "duration": 36,
    "start_time": "2022-03-29T12:51:57.482Z"
   },
   {
    "duration": 17,
    "start_time": "2022-03-29T12:51:57.520Z"
   },
   {
    "duration": 87,
    "start_time": "2022-03-29T12:51:57.539Z"
   },
   {
    "duration": 23,
    "start_time": "2022-03-29T12:51:57.628Z"
   },
   {
    "duration": 5,
    "start_time": "2022-03-29T12:51:57.653Z"
   },
   {
    "duration": 5,
    "start_time": "2022-03-29T12:51:57.659Z"
   },
   {
    "duration": 6,
    "start_time": "2022-03-29T12:51:57.665Z"
   },
   {
    "duration": 1237,
    "start_time": "2022-03-29T12:52:28.519Z"
   },
   {
    "duration": 889,
    "start_time": "2022-03-29T12:52:29.759Z"
   },
   {
    "duration": 20,
    "start_time": "2022-03-29T12:52:30.649Z"
   },
   {
    "duration": 107,
    "start_time": "2022-03-29T12:52:30.671Z"
   },
   {
    "duration": 91,
    "start_time": "2022-03-29T12:52:30.779Z"
   },
   {
    "duration": 121,
    "start_time": "2022-03-29T12:52:30.871Z"
   },
   {
    "duration": 146,
    "start_time": "2022-03-29T12:52:30.993Z"
   },
   {
    "duration": 31,
    "start_time": "2022-03-29T12:52:31.140Z"
   },
   {
    "duration": 38,
    "start_time": "2022-03-29T12:52:31.173Z"
   },
   {
    "duration": 73,
    "start_time": "2022-03-29T12:52:31.214Z"
   },
   {
    "duration": 31,
    "start_time": "2022-03-29T12:52:31.288Z"
   },
   {
    "duration": 17,
    "start_time": "2022-03-29T12:52:31.321Z"
   },
   {
    "duration": 80,
    "start_time": "2022-03-29T12:52:31.339Z"
   },
   {
    "duration": 24,
    "start_time": "2022-03-29T12:52:31.421Z"
   },
   {
    "duration": 12,
    "start_time": "2022-03-29T12:52:31.448Z"
   },
   {
    "duration": 10,
    "start_time": "2022-03-29T12:52:31.461Z"
   },
   {
    "duration": 16,
    "start_time": "2022-03-29T12:52:31.472Z"
   },
   {
    "duration": 5,
    "start_time": "2022-03-31T13:42:52.385Z"
   },
   {
    "duration": 93339,
    "start_time": "2022-03-31T13:43:21.613Z"
   },
   {
    "duration": 2323,
    "start_time": "2022-03-31T13:45:09.010Z"
   },
   {
    "duration": 26,
    "start_time": "2022-03-31T13:45:23.966Z"
   },
   {
    "duration": 692,
    "start_time": "2022-03-31T14:03:32.351Z"
   },
   {
    "duration": 214,
    "start_time": "2022-03-31T14:03:50.408Z"
   },
   {
    "duration": 33,
    "start_time": "2022-03-31T14:04:04.926Z"
   },
   {
    "duration": 83568,
    "start_time": "2022-03-31T14:07:42.286Z"
   },
   {
    "duration": 2215,
    "start_time": "2022-03-31T14:09:05.856Z"
   },
   {
    "duration": 28,
    "start_time": "2022-03-31T14:09:08.074Z"
   },
   {
    "duration": 442,
    "start_time": "2022-03-31T14:09:08.104Z"
   },
   {
    "duration": 394,
    "start_time": "2022-03-31T14:09:08.549Z"
   },
   {
    "duration": 3556,
    "start_time": "2022-03-31T14:09:08.946Z"
   },
   {
    "duration": 117,
    "start_time": "2022-03-31T14:09:12.505Z"
   },
   {
    "duration": 132,
    "start_time": "2022-03-31T14:09:12.624Z"
   },
   {
    "duration": 37,
    "start_time": "2022-03-31T14:09:12.758Z"
   },
   {
    "duration": 439,
    "start_time": "2022-03-31T14:09:12.797Z"
   },
   {
    "duration": 146,
    "start_time": "2022-03-31T14:09:13.240Z"
   },
   {
    "duration": 30,
    "start_time": "2022-03-31T14:09:13.389Z"
   },
   {
    "duration": 326,
    "start_time": "2022-03-31T14:09:13.422Z"
   },
   {
    "duration": 3,
    "start_time": "2022-03-31T14:09:13.751Z"
   },
   {
    "duration": 3,
    "start_time": "2022-03-31T14:09:13.769Z"
   },
   {
    "duration": 50,
    "start_time": "2022-03-31T14:09:13.775Z"
   },
   {
    "duration": 8,
    "start_time": "2022-03-31T14:09:13.828Z"
   },
   {
    "duration": 29,
    "start_time": "2022-03-31T14:09:13.839Z"
   },
   {
    "duration": 12,
    "start_time": "2022-03-31T14:09:16.859Z"
   },
   {
    "duration": 2477,
    "start_time": "2022-03-31T17:28:18.795Z"
   },
   {
    "duration": 2705,
    "start_time": "2022-03-31T17:28:21.274Z"
   },
   {
    "duration": 2048,
    "start_time": "2022-03-31T17:30:08.699Z"
   },
   {
    "duration": 29,
    "start_time": "2022-03-31T17:30:11.746Z"
   },
   {
    "duration": 117,
    "start_time": "2022-03-31T17:30:12.949Z"
   },
   {
    "duration": 105,
    "start_time": "2022-03-31T17:30:14.172Z"
   },
   {
    "duration": 128,
    "start_time": "2022-03-31T17:30:15.086Z"
   },
   {
    "duration": 154,
    "start_time": "2022-03-31T17:30:15.670Z"
   },
   {
    "duration": 45,
    "start_time": "2022-03-31T17:30:16.734Z"
   },
   {
    "duration": 34,
    "start_time": "2022-03-31T17:30:17.495Z"
   },
   {
    "duration": 644,
    "start_time": "2022-03-31T17:30:19.238Z"
   },
   {
    "duration": 546,
    "start_time": "2022-03-31T17:30:52.774Z"
   },
   {
    "duration": 656,
    "start_time": "2022-03-31T17:31:25.596Z"
   },
   {
    "duration": 636,
    "start_time": "2022-03-31T17:31:59.893Z"
   },
   {
    "duration": 660,
    "start_time": "2022-03-31T17:32:15.134Z"
   },
   {
    "duration": 727,
    "start_time": "2022-03-31T17:32:21.967Z"
   },
   {
    "duration": 735,
    "start_time": "2022-03-31T17:32:46.679Z"
   },
   {
    "duration": 7,
    "start_time": "2022-03-31T17:33:33.099Z"
   },
   {
    "duration": 17,
    "start_time": "2022-03-31T17:33:49.707Z"
   },
   {
    "duration": 43,
    "start_time": "2022-03-31T17:34:35.399Z"
   },
   {
    "duration": 2739,
    "start_time": "2022-03-31T17:34:56.767Z"
   },
   {
    "duration": 565,
    "start_time": "2022-03-31T17:35:08.384Z"
   },
   {
    "duration": 79,
    "start_time": "2022-03-31T17:35:33.386Z"
   },
   {
    "duration": 64,
    "start_time": "2022-03-31T17:35:48.308Z"
   },
   {
    "duration": 335,
    "start_time": "2022-03-31T17:36:16.644Z"
   },
   {
    "duration": 329,
    "start_time": "2022-03-31T17:36:31.628Z"
   },
   {
    "duration": 347,
    "start_time": "2022-03-31T17:37:15.535Z"
   },
   {
    "duration": 288,
    "start_time": "2022-03-31T17:37:50.690Z"
   },
   {
    "duration": 103,
    "start_time": "2022-03-31T17:38:08.346Z"
   },
   {
    "duration": 46,
    "start_time": "2022-03-31T17:38:54.652Z"
   },
   {
    "duration": 140,
    "start_time": "2022-03-31T17:39:37.903Z"
   },
   {
    "duration": 36,
    "start_time": "2022-03-31T17:39:38.448Z"
   },
   {
    "duration": 79,
    "start_time": "2022-03-31T17:39:40.119Z"
   },
   {
    "duration": 2053,
    "start_time": "2022-03-31T17:40:50.116Z"
   },
   {
    "duration": 46,
    "start_time": "2022-03-31T17:41:10.886Z"
   },
   {
    "duration": 13,
    "start_time": "2022-03-31T17:41:25.799Z"
   },
   {
    "duration": 50,
    "start_time": "2022-03-31T18:29:12.461Z"
   },
   {
    "duration": 62,
    "start_time": "2022-03-31T18:29:18.237Z"
   },
   {
    "duration": 59,
    "start_time": "2022-03-31T18:29:28.742Z"
   },
   {
    "duration": 19,
    "start_time": "2022-03-31T18:29:38.840Z"
   },
   {
    "duration": 14,
    "start_time": "2022-03-31T18:29:49.126Z"
   },
   {
    "duration": 39,
    "start_time": "2022-03-31T18:29:54.030Z"
   },
   {
    "duration": 40,
    "start_time": "2022-03-31T18:30:02.136Z"
   },
   {
    "duration": 2343,
    "start_time": "2022-03-31T18:54:46.130Z"
   },
   {
    "duration": 3921,
    "start_time": "2022-03-31T18:54:48.476Z"
   },
   {
    "duration": 25,
    "start_time": "2022-03-31T18:54:52.400Z"
   },
   {
    "duration": 141,
    "start_time": "2022-03-31T18:54:52.427Z"
   },
   {
    "duration": 116,
    "start_time": "2022-03-31T18:54:52.571Z"
   },
   {
    "duration": 162,
    "start_time": "2022-03-31T18:54:52.689Z"
   },
   {
    "duration": 200,
    "start_time": "2022-03-31T18:54:52.853Z"
   },
   {
    "duration": 48,
    "start_time": "2022-03-31T18:54:53.055Z"
   },
   {
    "duration": 58,
    "start_time": "2022-03-31T18:54:53.105Z"
   },
   {
    "duration": 798,
    "start_time": "2022-03-31T18:54:53.166Z"
   },
   {
    "duration": 233,
    "start_time": "2022-03-31T18:54:53.967Z"
   },
   {
    "duration": 40,
    "start_time": "2022-03-31T18:54:54.203Z"
   },
   {
    "duration": 98,
    "start_time": "2022-03-31T18:54:54.245Z"
   },
   {
    "duration": 4,
    "start_time": "2022-03-31T18:54:54.348Z"
   },
   {
    "duration": 305,
    "start_time": "2022-03-31T18:54:54.354Z"
   },
   {
    "duration": 39,
    "start_time": "2022-03-31T18:54:54.661Z"
   },
   {
    "duration": 11,
    "start_time": "2022-03-31T18:54:54.702Z"
   },
   {
    "duration": 267,
    "start_time": "2022-03-31T18:54:54.742Z"
   },
   {
    "duration": 0,
    "start_time": "2022-03-31T18:54:55.011Z"
   },
   {
    "duration": 0,
    "start_time": "2022-03-31T18:54:55.014Z"
   },
   {
    "duration": 0,
    "start_time": "2022-03-31T18:54:55.016Z"
   },
   {
    "duration": 0,
    "start_time": "2022-03-31T18:54:55.017Z"
   },
   {
    "duration": 0,
    "start_time": "2022-03-31T18:54:55.019Z"
   },
   {
    "duration": 0,
    "start_time": "2022-03-31T18:54:55.021Z"
   },
   {
    "duration": 0,
    "start_time": "2022-03-31T18:54:55.023Z"
   },
   {
    "duration": 0,
    "start_time": "2022-03-31T18:54:55.042Z"
   },
   {
    "duration": 0,
    "start_time": "2022-03-31T18:54:55.044Z"
   },
   {
    "duration": 0,
    "start_time": "2022-03-31T18:54:55.046Z"
   },
   {
    "duration": 0,
    "start_time": "2022-03-31T18:54:55.048Z"
   },
   {
    "duration": 0,
    "start_time": "2022-03-31T18:54:55.050Z"
   },
   {
    "duration": 0,
    "start_time": "2022-03-31T18:54:55.053Z"
   },
   {
    "duration": 0,
    "start_time": "2022-03-31T18:54:55.055Z"
   },
   {
    "duration": 7,
    "start_time": "2022-03-31T18:55:23.831Z"
   },
   {
    "duration": 5,
    "start_time": "2022-03-31T18:55:24.702Z"
   },
   {
    "duration": 637418,
    "start_time": "2022-03-31T18:55:42.519Z"
   },
   {
    "duration": 5,
    "start_time": "2022-03-31T19:06:19.940Z"
   },
   {
    "duration": 29723,
    "start_time": "2022-03-31T19:06:19.947Z"
   },
   {
    "duration": 7,
    "start_time": "2022-03-31T19:06:49.673Z"
   },
   {
    "duration": 777970,
    "start_time": "2022-03-31T19:06:49.683Z"
   },
   {
    "duration": 4,
    "start_time": "2022-03-31T19:19:47.655Z"
   },
   {
    "duration": 33482,
    "start_time": "2022-03-31T19:19:47.661Z"
   },
   {
    "duration": 8,
    "start_time": "2022-03-31T19:20:21.146Z"
   },
   {
    "duration": 2484,
    "start_time": "2022-04-01T08:45:34.716Z"
   },
   {
    "duration": 1889,
    "start_time": "2022-04-01T08:45:37.204Z"
   },
   {
    "duration": 26,
    "start_time": "2022-04-01T08:45:39.095Z"
   },
   {
    "duration": 133,
    "start_time": "2022-04-01T08:45:39.124Z"
   },
   {
    "duration": 113,
    "start_time": "2022-04-01T08:45:39.259Z"
   },
   {
    "duration": 157,
    "start_time": "2022-04-01T08:45:39.374Z"
   },
   {
    "duration": 189,
    "start_time": "2022-04-01T08:45:39.533Z"
   },
   {
    "duration": 50,
    "start_time": "2022-04-01T08:45:39.724Z"
   },
   {
    "duration": 36,
    "start_time": "2022-04-01T08:45:39.776Z"
   },
   {
    "duration": 760,
    "start_time": "2022-04-01T08:45:39.815Z"
   },
   {
    "duration": 222,
    "start_time": "2022-04-01T08:45:40.577Z"
   },
   {
    "duration": 46,
    "start_time": "2022-04-01T08:45:40.802Z"
   },
   {
    "duration": 95,
    "start_time": "2022-04-01T08:45:40.850Z"
   },
   {
    "duration": 3,
    "start_time": "2022-04-01T08:45:40.947Z"
   },
   {
    "duration": 239,
    "start_time": "2022-04-01T08:45:40.952Z"
   },
   {
    "duration": 35,
    "start_time": "2022-04-01T08:45:41.193Z"
   },
   {
    "duration": 8,
    "start_time": "2022-04-01T08:45:41.242Z"
   },
   {
    "duration": 6,
    "start_time": "2022-04-01T08:45:41.253Z"
   },
   {
    "duration": 6,
    "start_time": "2022-04-01T08:45:41.261Z"
   },
   {
    "duration": 23133,
    "start_time": "2022-04-01T08:45:41.269Z"
   },
   {
    "duration": 0,
    "start_time": "2022-04-01T08:46:04.405Z"
   },
   {
    "duration": 0,
    "start_time": "2022-04-01T08:46:04.407Z"
   },
   {
    "duration": 0,
    "start_time": "2022-04-01T08:46:04.408Z"
   },
   {
    "duration": 0,
    "start_time": "2022-04-01T08:46:04.410Z"
   },
   {
    "duration": 0,
    "start_time": "2022-04-01T08:46:04.411Z"
   },
   {
    "duration": 0,
    "start_time": "2022-04-01T08:46:04.413Z"
   },
   {
    "duration": 0,
    "start_time": "2022-04-01T08:46:04.414Z"
   },
   {
    "duration": 0,
    "start_time": "2022-04-01T08:46:04.416Z"
   },
   {
    "duration": 0,
    "start_time": "2022-04-01T08:46:04.417Z"
   },
   {
    "duration": 0,
    "start_time": "2022-04-01T08:46:04.419Z"
   },
   {
    "duration": 0,
    "start_time": "2022-04-01T08:46:04.420Z"
   },
   {
    "duration": 0,
    "start_time": "2022-04-01T08:46:04.422Z"
   },
   {
    "duration": 2637,
    "start_time": "2022-04-01T08:46:23.736Z"
   },
   {
    "duration": 1880,
    "start_time": "2022-04-01T08:46:26.376Z"
   },
   {
    "duration": 26,
    "start_time": "2022-04-01T08:46:28.258Z"
   },
   {
    "duration": 139,
    "start_time": "2022-04-01T08:46:28.286Z"
   },
   {
    "duration": 126,
    "start_time": "2022-04-01T08:46:28.428Z"
   },
   {
    "duration": 160,
    "start_time": "2022-04-01T08:46:28.557Z"
   },
   {
    "duration": 208,
    "start_time": "2022-04-01T08:46:28.720Z"
   },
   {
    "duration": 62,
    "start_time": "2022-04-01T08:46:28.931Z"
   },
   {
    "duration": 53,
    "start_time": "2022-04-01T08:46:28.995Z"
   },
   {
    "duration": 819,
    "start_time": "2022-04-01T08:46:29.051Z"
   },
   {
    "duration": 241,
    "start_time": "2022-04-01T08:46:29.872Z"
   },
   {
    "duration": 42,
    "start_time": "2022-04-01T08:46:30.115Z"
   },
   {
    "duration": 100,
    "start_time": "2022-04-01T08:46:30.159Z"
   },
   {
    "duration": 3,
    "start_time": "2022-04-01T08:46:30.264Z"
   },
   {
    "duration": 277,
    "start_time": "2022-04-01T08:46:30.270Z"
   },
   {
    "duration": 38,
    "start_time": "2022-04-01T08:46:30.549Z"
   },
   {
    "duration": 8,
    "start_time": "2022-04-01T08:46:30.590Z"
   },
   {
    "duration": 10,
    "start_time": "2022-04-01T08:46:30.600Z"
   },
   {
    "duration": 37,
    "start_time": "2022-04-01T08:46:30.612Z"
   },
   {
    "duration": 97157,
    "start_time": "2022-04-01T08:46:30.652Z"
   },
   {
    "duration": 0,
    "start_time": "2022-04-01T08:48:07.812Z"
   },
   {
    "duration": 0,
    "start_time": "2022-04-01T08:48:07.814Z"
   },
   {
    "duration": 0,
    "start_time": "2022-04-01T08:48:07.816Z"
   },
   {
    "duration": 0,
    "start_time": "2022-04-01T08:48:07.818Z"
   },
   {
    "duration": 0,
    "start_time": "2022-04-01T08:48:07.820Z"
   },
   {
    "duration": 0,
    "start_time": "2022-04-01T08:48:07.821Z"
   },
   {
    "duration": 0,
    "start_time": "2022-04-01T08:48:07.822Z"
   },
   {
    "duration": 0,
    "start_time": "2022-04-01T08:48:07.824Z"
   },
   {
    "duration": 0,
    "start_time": "2022-04-01T08:48:07.826Z"
   },
   {
    "duration": 0,
    "start_time": "2022-04-01T08:48:07.827Z"
   },
   {
    "duration": 0,
    "start_time": "2022-04-01T08:48:07.829Z"
   },
   {
    "duration": 0,
    "start_time": "2022-04-01T08:48:07.830Z"
   },
   {
    "duration": 2243,
    "start_time": "2022-04-01T08:48:28.747Z"
   },
   {
    "duration": 2228,
    "start_time": "2022-04-01T08:48:30.994Z"
   },
   {
    "duration": 35,
    "start_time": "2022-04-01T08:48:33.224Z"
   },
   {
    "duration": 141,
    "start_time": "2022-04-01T08:48:33.262Z"
   },
   {
    "duration": 126,
    "start_time": "2022-04-01T08:48:33.405Z"
   },
   {
    "duration": 162,
    "start_time": "2022-04-01T08:48:33.533Z"
   },
   {
    "duration": 200,
    "start_time": "2022-04-01T08:48:33.697Z"
   },
   {
    "duration": 57,
    "start_time": "2022-04-01T08:48:33.899Z"
   },
   {
    "duration": 36,
    "start_time": "2022-04-01T08:48:33.958Z"
   },
   {
    "duration": 1177,
    "start_time": "2022-04-01T08:48:33.999Z"
   },
   {
    "duration": 251,
    "start_time": "2022-04-01T08:48:35.180Z"
   },
   {
    "duration": 36,
    "start_time": "2022-04-01T08:48:35.434Z"
   },
   {
    "duration": 175,
    "start_time": "2022-04-01T08:48:35.473Z"
   },
   {
    "duration": 5,
    "start_time": "2022-04-01T08:48:35.651Z"
   },
   {
    "duration": 410,
    "start_time": "2022-04-01T08:48:35.659Z"
   },
   {
    "duration": 49,
    "start_time": "2022-04-01T08:48:36.072Z"
   },
   {
    "duration": 29,
    "start_time": "2022-04-01T08:48:36.123Z"
   },
   {
    "duration": 13,
    "start_time": "2022-04-01T08:48:36.154Z"
   },
   {
    "duration": 23,
    "start_time": "2022-04-01T08:48:36.170Z"
   },
   {
    "duration": 339499,
    "start_time": "2022-04-01T08:48:36.195Z"
   },
   {
    "duration": 5,
    "start_time": "2022-04-01T08:54:15.697Z"
   },
   {
    "duration": 35608,
    "start_time": "2022-04-01T08:54:15.704Z"
   },
   {
    "duration": 8,
    "start_time": "2022-04-01T08:54:51.315Z"
   },
   {
    "duration": 637125,
    "start_time": "2022-04-01T08:54:51.325Z"
   },
   {
    "duration": 3,
    "start_time": "2022-04-01T09:05:28.453Z"
   },
   {
    "duration": 17700,
    "start_time": "2022-04-01T09:05:28.458Z"
   },
   {
    "duration": 8,
    "start_time": "2022-04-01T09:05:46.160Z"
   },
   {
    "duration": 3756629,
    "start_time": "2022-04-01T09:05:46.174Z"
   },
   {
    "duration": 4,
    "start_time": "2022-04-01T10:08:22.806Z"
   },
   {
    "duration": 252137,
    "start_time": "2022-04-01T10:08:22.812Z"
   },
   {
    "duration": 7,
    "start_time": "2022-04-01T10:12:34.951Z"
   },
   {
    "duration": 15,
    "start_time": "2022-04-01T10:12:34.960Z"
   },
   {
    "duration": 1973,
    "start_time": "2022-04-01T18:40:28.322Z"
   },
   {
    "duration": 3356,
    "start_time": "2022-04-01T18:40:30.297Z"
   },
   {
    "duration": 20,
    "start_time": "2022-04-01T18:40:33.655Z"
   },
   {
    "duration": 118,
    "start_time": "2022-04-01T18:40:33.678Z"
   },
   {
    "duration": 106,
    "start_time": "2022-04-01T18:40:33.799Z"
   },
   {
    "duration": 137,
    "start_time": "2022-04-01T18:40:33.907Z"
   },
   {
    "duration": 164,
    "start_time": "2022-04-01T18:40:34.046Z"
   },
   {
    "duration": 40,
    "start_time": "2022-04-01T18:40:34.212Z"
   },
   {
    "duration": 25,
    "start_time": "2022-04-01T18:40:34.253Z"
   },
   {
    "duration": 554,
    "start_time": "2022-04-01T18:40:34.281Z"
   },
   {
    "duration": 142,
    "start_time": "2022-04-01T18:40:34.837Z"
   },
   {
    "duration": 20,
    "start_time": "2022-04-01T18:40:34.981Z"
   },
   {
    "duration": 91,
    "start_time": "2022-04-01T18:40:35.003Z"
   },
   {
    "duration": 3,
    "start_time": "2022-04-01T18:40:35.096Z"
   },
   {
    "duration": 207,
    "start_time": "2022-04-01T18:40:35.101Z"
   },
   {
    "duration": 38,
    "start_time": "2022-04-01T18:40:35.310Z"
   },
   {
    "duration": 8,
    "start_time": "2022-04-01T18:40:35.350Z"
   },
   {
    "duration": 110,
    "start_time": "2022-04-01T18:40:38.392Z"
   },
   {
    "duration": 5,
    "start_time": "2022-04-01T18:40:43.049Z"
   },
   {
    "duration": 4,
    "start_time": "2022-04-01T18:40:43.723Z"
   },
   {
    "duration": 4,
    "start_time": "2022-04-01T18:40:58.446Z"
   },
   {
    "duration": 3545,
    "start_time": "2022-04-01T18:40:58.452Z"
   },
   {
    "duration": 16,
    "start_time": "2022-04-01T18:41:01.999Z"
   },
   {
    "duration": 115,
    "start_time": "2022-04-01T18:41:02.017Z"
   },
   {
    "duration": 100,
    "start_time": "2022-04-01T18:41:02.135Z"
   },
   {
    "duration": 204,
    "start_time": "2022-04-01T18:41:02.237Z"
   },
   {
    "duration": 128,
    "start_time": "2022-04-01T18:41:02.442Z"
   },
   {
    "duration": 32,
    "start_time": "2022-04-01T18:41:02.571Z"
   },
   {
    "duration": 48,
    "start_time": "2022-04-01T18:41:02.605Z"
   },
   {
    "duration": 587,
    "start_time": "2022-04-01T18:41:02.655Z"
   },
   {
    "duration": 117,
    "start_time": "2022-04-01T18:41:03.245Z"
   },
   {
    "duration": 17,
    "start_time": "2022-04-01T18:41:03.364Z"
   },
   {
    "duration": 92,
    "start_time": "2022-04-01T18:41:03.383Z"
   },
   {
    "duration": 2,
    "start_time": "2022-04-01T18:41:03.477Z"
   },
   {
    "duration": 194,
    "start_time": "2022-04-01T18:41:03.481Z"
   },
   {
    "duration": 32,
    "start_time": "2022-04-01T18:41:03.676Z"
   },
   {
    "duration": 22,
    "start_time": "2022-04-01T18:41:03.710Z"
   },
   {
    "duration": 6,
    "start_time": "2022-04-01T18:41:03.735Z"
   },
   {
    "duration": 7,
    "start_time": "2022-04-01T18:41:03.743Z"
   },
   {
    "duration": 3,
    "start_time": "2022-04-01T18:41:45.725Z"
   },
   {
    "duration": 4,
    "start_time": "2022-04-01T18:46:18.731Z"
   },
   {
    "duration": 3135,
    "start_time": "2022-04-01T18:46:18.737Z"
   },
   {
    "duration": 16,
    "start_time": "2022-04-01T18:46:21.874Z"
   },
   {
    "duration": 108,
    "start_time": "2022-04-01T18:46:21.891Z"
   },
   {
    "duration": 97,
    "start_time": "2022-04-01T18:46:22.001Z"
   },
   {
    "duration": 110,
    "start_time": "2022-04-01T18:46:22.100Z"
   },
   {
    "duration": 124,
    "start_time": "2022-04-01T18:46:22.211Z"
   },
   {
    "duration": 31,
    "start_time": "2022-04-01T18:46:22.337Z"
   },
   {
    "duration": 25,
    "start_time": "2022-04-01T18:46:22.370Z"
   },
   {
    "duration": 577,
    "start_time": "2022-04-01T18:46:22.397Z"
   },
   {
    "duration": 106,
    "start_time": "2022-04-01T18:46:22.977Z"
   },
   {
    "duration": 17,
    "start_time": "2022-04-01T18:46:23.085Z"
   },
   {
    "duration": 89,
    "start_time": "2022-04-01T18:46:23.104Z"
   },
   {
    "duration": 2,
    "start_time": "2022-04-01T18:46:23.195Z"
   },
   {
    "duration": 194,
    "start_time": "2022-04-01T18:46:23.199Z"
   },
   {
    "duration": 30,
    "start_time": "2022-04-01T18:46:23.395Z"
   },
   {
    "duration": 7,
    "start_time": "2022-04-01T18:46:23.432Z"
   },
   {
    "duration": 7,
    "start_time": "2022-04-01T18:46:23.441Z"
   },
   {
    "duration": 8,
    "start_time": "2022-04-01T18:46:23.450Z"
   },
   {
    "duration": 16,
    "start_time": "2022-04-01T18:46:38.271Z"
   },
   {
    "duration": 1685,
    "start_time": "2022-04-01T18:54:28.140Z"
   },
   {
    "duration": 1765,
    "start_time": "2022-04-01T18:54:29.827Z"
   },
   {
    "duration": 19,
    "start_time": "2022-04-01T18:54:31.594Z"
   },
   {
    "duration": 116,
    "start_time": "2022-04-01T18:54:31.615Z"
   },
   {
    "duration": 100,
    "start_time": "2022-04-01T18:54:31.733Z"
   },
   {
    "duration": 136,
    "start_time": "2022-04-01T18:54:31.835Z"
   },
   {
    "duration": 173,
    "start_time": "2022-04-01T18:54:31.973Z"
   },
   {
    "duration": 32,
    "start_time": "2022-04-01T18:54:32.148Z"
   },
   {
    "duration": 26,
    "start_time": "2022-04-01T18:54:32.181Z"
   },
   {
    "duration": 572,
    "start_time": "2022-04-01T18:54:32.210Z"
   },
   {
    "duration": 144,
    "start_time": "2022-04-01T18:54:32.784Z"
   },
   {
    "duration": 19,
    "start_time": "2022-04-01T18:54:32.931Z"
   },
   {
    "duration": 90,
    "start_time": "2022-04-01T18:54:32.951Z"
   },
   {
    "duration": 2,
    "start_time": "2022-04-01T18:54:33.043Z"
   },
   {
    "duration": 206,
    "start_time": "2022-04-01T18:54:33.047Z"
   },
   {
    "duration": 32,
    "start_time": "2022-04-01T18:54:33.255Z"
   },
   {
    "duration": 8,
    "start_time": "2022-04-01T18:54:33.288Z"
   },
   {
    "duration": 12,
    "start_time": "2022-04-01T18:54:33.297Z"
   },
   {
    "duration": 7,
    "start_time": "2022-04-01T18:54:33.311Z"
   },
   {
    "duration": 12,
    "start_time": "2022-04-01T18:54:33.333Z"
   },
   {
    "duration": 1950,
    "start_time": "2022-04-02T06:44:25.231Z"
   },
   {
    "duration": 1808,
    "start_time": "2022-04-02T06:44:30.393Z"
   },
   {
    "duration": 21,
    "start_time": "2022-04-02T06:44:32.203Z"
   },
   {
    "duration": 119,
    "start_time": "2022-04-02T06:44:32.226Z"
   },
   {
    "duration": 88,
    "start_time": "2022-04-02T06:44:35.097Z"
   },
   {
    "duration": 127,
    "start_time": "2022-04-02T06:44:35.793Z"
   },
   {
    "duration": 160,
    "start_time": "2022-04-02T06:44:36.369Z"
   },
   {
    "duration": 33,
    "start_time": "2022-04-02T06:44:36.617Z"
   },
   {
    "duration": 26,
    "start_time": "2022-04-02T06:44:36.905Z"
   },
   {
    "duration": 526,
    "start_time": "2022-04-02T06:44:37.194Z"
   },
   {
    "duration": 135,
    "start_time": "2022-04-02T06:44:37.809Z"
   },
   {
    "duration": 20,
    "start_time": "2022-04-02T06:44:38.562Z"
   },
   {
    "duration": 77,
    "start_time": "2022-04-02T06:44:39.169Z"
   },
   {
    "duration": 3,
    "start_time": "2022-04-02T06:44:57.747Z"
   },
   {
    "duration": 240,
    "start_time": "2022-04-02T06:44:58.331Z"
   },
   {
    "duration": 62,
    "start_time": "2022-04-02T06:45:17.380Z"
   },
   {
    "duration": 20,
    "start_time": "2022-04-02T06:45:17.644Z"
   },
   {
    "duration": 5,
    "start_time": "2022-04-02T06:45:27.597Z"
   },
   {
    "duration": 4,
    "start_time": "2022-04-02T06:45:32.293Z"
   },
   {
    "duration": 143,
    "start_time": "2022-04-02T06:50:14.375Z"
   },
   {
    "duration": 23,
    "start_time": "2022-04-02T06:50:24.079Z"
   },
   {
    "duration": 16,
    "start_time": "2022-04-02T06:50:34.312Z"
   },
   {
    "duration": 24,
    "start_time": "2022-04-02T06:51:10.714Z"
   },
   {
    "duration": 405,
    "start_time": "2022-04-02T06:52:39.248Z"
   },
   {
    "duration": 20,
    "start_time": "2022-04-02T06:52:44.520Z"
   },
   {
    "duration": 1712,
    "start_time": "2022-04-02T06:53:17.673Z"
   },
   {
    "duration": 1844,
    "start_time": "2022-04-02T06:53:19.387Z"
   },
   {
    "duration": 21,
    "start_time": "2022-04-02T06:53:21.233Z"
   },
   {
    "duration": 112,
    "start_time": "2022-04-02T06:53:21.257Z"
   },
   {
    "duration": 104,
    "start_time": "2022-04-02T06:53:21.371Z"
   },
   {
    "duration": 127,
    "start_time": "2022-04-02T06:53:21.477Z"
   },
   {
    "duration": 172,
    "start_time": "2022-04-02T06:53:21.606Z"
   },
   {
    "duration": 43,
    "start_time": "2022-04-02T06:53:21.780Z"
   },
   {
    "duration": 26,
    "start_time": "2022-04-02T06:53:21.825Z"
   },
   {
    "duration": 540,
    "start_time": "2022-04-02T06:53:21.854Z"
   },
   {
    "duration": 135,
    "start_time": "2022-04-02T06:53:22.396Z"
   },
   {
    "duration": 19,
    "start_time": "2022-04-02T06:53:22.533Z"
   },
   {
    "duration": 88,
    "start_time": "2022-04-02T06:53:22.554Z"
   },
   {
    "duration": 3,
    "start_time": "2022-04-02T06:53:22.643Z"
   },
   {
    "duration": 253,
    "start_time": "2022-04-02T06:53:22.648Z"
   },
   {
    "duration": 62,
    "start_time": "2022-04-02T06:53:22.903Z"
   },
   {
    "duration": 34,
    "start_time": "2022-04-02T06:53:22.967Z"
   },
   {
    "duration": 4,
    "start_time": "2022-04-02T06:53:23.003Z"
   },
   {
    "duration": 7,
    "start_time": "2022-04-02T06:53:23.009Z"
   },
   {
    "duration": 330,
    "start_time": "2022-04-02T06:53:23.018Z"
   },
   {
    "duration": 292720,
    "start_time": "2022-04-02T06:53:23.350Z"
   },
   {
    "duration": 3,
    "start_time": "2022-04-02T06:58:16.073Z"
   },
   {
    "duration": 27757,
    "start_time": "2022-04-02T06:58:16.078Z"
   },
   {
    "duration": 6,
    "start_time": "2022-04-02T06:58:43.836Z"
   },
   {
    "duration": 204566,
    "start_time": "2022-04-02T06:58:43.844Z"
   },
   {
    "duration": 3,
    "start_time": "2022-04-02T07:02:08.412Z"
   },
   {
    "duration": 19006,
    "start_time": "2022-04-02T07:02:08.417Z"
   },
   {
    "duration": 6,
    "start_time": "2022-04-02T07:02:27.427Z"
   },
   {
    "duration": 4035767,
    "start_time": "2022-04-02T07:02:27.435Z"
   },
   {
    "duration": 3,
    "start_time": "2022-04-02T08:09:43.204Z"
   },
   {
    "duration": 632420,
    "start_time": "2022-04-02T08:09:43.209Z"
   },
   {
    "duration": 6,
    "start_time": "2022-04-02T08:20:15.631Z"
   },
   {
    "duration": 70,
    "start_time": "2022-04-02T08:20:15.639Z"
   },
   {
    "duration": 1797,
    "start_time": "2022-04-02T11:12:53.501Z"
   },
   {
    "duration": 1594,
    "start_time": "2022-04-02T11:12:55.300Z"
   },
   {
    "duration": 19,
    "start_time": "2022-04-02T11:12:56.896Z"
   },
   {
    "duration": 96,
    "start_time": "2022-04-02T11:12:56.917Z"
   },
   {
    "duration": 87,
    "start_time": "2022-04-02T11:12:57.014Z"
   },
   {
    "duration": 115,
    "start_time": "2022-04-02T11:12:57.103Z"
   },
   {
    "duration": 144,
    "start_time": "2022-04-02T11:12:57.220Z"
   },
   {
    "duration": 29,
    "start_time": "2022-04-02T11:12:57.365Z"
   },
   {
    "duration": 21,
    "start_time": "2022-04-02T11:12:57.395Z"
   },
   {
    "duration": 462,
    "start_time": "2022-04-02T11:12:57.418Z"
   },
   {
    "duration": 124,
    "start_time": "2022-04-02T11:12:57.882Z"
   },
   {
    "duration": 17,
    "start_time": "2022-04-02T11:12:58.008Z"
   },
   {
    "duration": 77,
    "start_time": "2022-04-02T11:12:58.027Z"
   },
   {
    "duration": 3,
    "start_time": "2022-04-02T11:12:58.106Z"
   },
   {
    "duration": 216,
    "start_time": "2022-04-02T11:12:58.110Z"
   },
   {
    "duration": 69,
    "start_time": "2022-04-02T11:12:58.327Z"
   },
   {
    "duration": 19,
    "start_time": "2022-04-02T11:12:58.397Z"
   },
   {
    "duration": 3,
    "start_time": "2022-04-02T11:12:58.418Z"
   },
   {
    "duration": 7,
    "start_time": "2022-04-02T11:12:58.423Z"
   },
   {
    "duration": 370,
    "start_time": "2022-04-02T11:12:58.431Z"
   },
   {
    "duration": 18,
    "start_time": "2022-04-02T11:13:01.473Z"
   },
   {
    "duration": 3,
    "start_time": "2022-04-02T11:14:05.494Z"
   },
   {
    "duration": 1587,
    "start_time": "2022-04-02T11:14:05.499Z"
   },
   {
    "duration": 13,
    "start_time": "2022-04-02T11:14:07.088Z"
   },
   {
    "duration": 97,
    "start_time": "2022-04-02T11:14:07.103Z"
   },
   {
    "duration": 84,
    "start_time": "2022-04-02T11:14:07.201Z"
   },
   {
    "duration": 96,
    "start_time": "2022-04-02T11:14:07.287Z"
   },
   {
    "duration": 110,
    "start_time": "2022-04-02T11:14:07.385Z"
   },
   {
    "duration": 24,
    "start_time": "2022-04-02T11:14:07.497Z"
   },
   {
    "duration": 20,
    "start_time": "2022-04-02T11:14:07.523Z"
   },
   {
    "duration": 454,
    "start_time": "2022-04-02T11:14:07.544Z"
   },
   {
    "duration": 106,
    "start_time": "2022-04-02T11:14:07.999Z"
   },
   {
    "duration": 16,
    "start_time": "2022-04-02T11:14:08.107Z"
   },
   {
    "duration": 79,
    "start_time": "2022-04-02T11:14:08.124Z"
   },
   {
    "duration": 3,
    "start_time": "2022-04-02T11:14:08.205Z"
   },
   {
    "duration": 3,
    "start_time": "2022-04-02T11:14:34.161Z"
   },
   {
    "duration": 100,
    "start_time": "2022-04-02T11:15:47.854Z"
   },
   {
    "duration": 4,
    "start_time": "2022-04-02T11:16:02.493Z"
   },
   {
    "duration": 273,
    "start_time": "2022-04-02T11:18:54.201Z"
   }
  ],
  "kernelspec": {
   "display_name": "Python 3 (ipykernel)",
   "language": "python",
   "name": "python3"
  },
  "language_info": {
   "codemirror_mode": {
    "name": "ipython",
    "version": 3
   },
   "file_extension": ".py",
   "mimetype": "text/x-python",
   "name": "python",
   "nbconvert_exporter": "python",
   "pygments_lexer": "ipython3",
   "version": "3.9.5"
  },
  "toc": {
   "base_numbering": 1,
   "nav_menu": {},
   "number_sections": true,
   "sideBar": true,
   "skip_h1_title": true,
   "title_cell": "Table of Contents",
   "title_sidebar": "Contents",
   "toc_cell": false,
   "toc_position": {
    "height": "calc(100% - 180px)",
    "left": "10px",
    "top": "150px",
    "width": "366.391px"
   },
   "toc_section_display": true,
   "toc_window_display": true
  }
 },
 "nbformat": 4,
 "nbformat_minor": 2
}